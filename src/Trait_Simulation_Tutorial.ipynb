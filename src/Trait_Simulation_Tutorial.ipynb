{
 "cells": [
  {
   "cell_type": "code",
   "execution_count": 1,
   "metadata": {},
   "outputs": [
    {
     "name": "stderr",
     "output_type": "stream",
     "text": [
      "┌ Info: Recompiling stale cache file /Users/sarahji/.julia/compiled/v1.0/DataFrames/AR9oZ.ji for DataFrames [a93c6f00-e57d-5684-b7b6-d8193f3e46c0]\n",
      "└ @ Base loading.jl:1190\n",
      "┌ Info: Recompiling stale cache file /Users/sarahji/.julia/compiled/v1.0/SnpArrays/iEYce.ji for SnpArrays [4e780e97-f5bf-4111-9dc4-b70aaf691b06]\n",
      "└ @ Base loading.jl:1190\n",
      "┌ Info: Recompiling stale cache file /Users/sarahji/.julia/compiled/v1.0/StatsModels/4MFnV.ji for StatsModels [3eaba693-59b7-5ba5-a881-562e759f1c8d]\n",
      "└ @ Base loading.jl:1190\n",
      "┌ Info: Recompiling stale cache file /Users/sarahji/.julia/compiled/v1.0/TraitSimulation/VikWX.ji for TraitSimulation [dec3038e-29bc-11e9-2207-9f3d5855a202]\n",
      "└ @ Base loading.jl:1190\n"
     ]
    }
   ],
   "source": [
    "using DataFrames, SnpArrays, StatsModels, Random, LinearAlgebra, TraitSimulation"
   ]
  },
  {
   "cell_type": "code",
   "execution_count": 2,
   "metadata": {},
   "outputs": [
    {
     "data": {
      "text/plain": [
       "212×253141 SnpArray:\n",
       " 0x03  0x03  0x00  0x03  0x03  0x03  …  0x02  0x02  0x00  0x00  0x03  0x00\n",
       " 0x03  0x03  0x00  0x02  0x02  0x03     0x00  0x03  0x00  0x00  0x03  0x00\n",
       " 0x03  0x03  0x00  0x03  0x03  0x03     0x03  0x02  0x00  0x00  0x03  0x00\n",
       " 0x03  0x03  0x00  0x03  0x03  0x03     0x02  0x03  0x00  0x00  0x03  0x00\n",
       " 0x03  0x03  0x00  0x03  0x03  0x03     0x00  0x03  0x00  0x00  0x03  0x00\n",
       " 0x03  0x03  0x00  0x03  0x03  0x03  …  0x00  0x00  0x00  0x00  0x00  0x03\n",
       " 0x03  0x02  0x00  0x03  0x03  0x03     0x02  0x03  0x00  0x03  0x00  0x03\n",
       " 0x03  0x03  0x00  0x03  0x03  0x03     0x02  0x03  0x00  0x03  0x00  0x03\n",
       " 0x03  0x02  0x00  0x03  0x03  0x03     0x02  0x02  0x00  0x02  0x00  0x03\n",
       " 0x03  0x02  0x00  0x03  0x03  0x03     0x03  0x03  0x00  0x03  0x00  0x03\n",
       " 0x03  0x02  0x00  0x03  0x03  0x03  …  0x00  0x02  0x00  0x02  0x00  0x03\n",
       " 0x03  0x03  0x00  0x03  0x03  0x03     0x00  0x02  0x00  0x02  0x00  0x03\n",
       " 0x03  0x02  0x00  0x03  0x03  0x03     0x02  0x02  0x00  0x02  0x00  0x03\n",
       "    ⋮                             ⋮  ⋱     ⋮                             ⋮\n",
       " 0x03  0x03  0x00  0x03  0x03  0x03  …  0x00  0x03  0x00  0x00  0x03  0x00\n",
       " 0x03  0x03  0x00  0x03  0x03  0x03     0x00  0x03  0x00  0x02  0x02  0x02\n",
       " 0x03  0x03  0x00  0x03  0x03  0x03     0x00  0x02  0x00  0x00  0x03  0x00\n",
       " 0x03  0x02  0x00  0x02  0x02  0x03     0x02  0x03  0x00  0x03  0x00  0x03\n",
       " 0x03  0x03  0x00  0x02  0x02  0x03     0x02  0x03  0x00  0x00  0x03  0x00\n",
       " 0x03  0x03  0x00  0x03  0x03  0x03  …  0x02  0x03  0x00  0x02  0x02  0x00\n",
       " 0x03  0x03  0x00  0x02  0x02  0x03     0x02  0x03  0x00  0x00  0x02  0x02\n",
       " 0x03  0x03  0x00  0x03  0x03  0x03     0x00  0x03  0x00  0x00  0x03  0x00\n",
       " 0x03  0x02  0x00  0x03  0x03  0x03     0x02  0x03  0x00  0x00  0x02  0x02\n",
       " 0x03  0x03  0x00  0x03  0x03  0x03     0x00  0x03  0x00  0x00  0x03  0x00\n",
       " 0x03  0x03  0x00  0x03  0x03  0x03  …  0x02  0x03  0x00  0x00  0x03  0x00\n",
       " 0x03  0x03  0x00  0x03  0x03  0x03     0x00  0x03  0x00  0x02  0x02  0x02"
      ]
     },
     "execution_count": 2,
     "metadata": {},
     "output_type": "execute_result"
    }
   ],
   "source": [
    "cd(\"/Users/sarahji/Desktop/OpenMendel_Sarah/Tutorials/Heritability\")\n",
    "snps = SnpArray(\"heritability.bed\")"
   ]
  },
  {
   "cell_type": "code",
   "execution_count": 3,
   "metadata": {
    "scrolled": true
   },
   "outputs": [
    {
     "data": {
      "text/html": [
       "<table class=\"data-frame\"><thead><tr><th></th><th>x1</th><th>x2</th><th>x3</th><th>x4</th><th>x5</th><th>x6</th><th>x7</th><th>x8</th><th>x9</th><th>x10</th></tr><tr><th></th><th>Float64</th><th>Float64</th><th>Float64</th><th>Float64</th><th>Float64</th><th>Float64</th><th>Float64</th><th>Float64</th><th>Float64</th><th>Float64</th></tr></thead><tbody><p>212 rows × 10 columns</p><tr><th>1</th><td>2.0</td><td>2.0</td><td>0.0</td><td>2.0</td><td>2.0</td><td>2.0</td><td>0.0</td><td>2.0</td><td>2.0</td><td>0.0</td></tr><tr><th>2</th><td>2.0</td><td>2.0</td><td>0.0</td><td>1.0</td><td>1.0</td><td>2.0</td><td>0.0</td><td>2.0</td><td>2.0</td><td>0.0</td></tr><tr><th>3</th><td>2.0</td><td>2.0</td><td>0.0</td><td>2.0</td><td>2.0</td><td>2.0</td><td>0.0</td><td>2.0</td><td>2.0</td><td>0.0</td></tr><tr><th>4</th><td>2.0</td><td>2.0</td><td>0.0</td><td>2.0</td><td>2.0</td><td>2.0</td><td>0.0</td><td>2.0</td><td>2.0</td><td>0.0</td></tr><tr><th>5</th><td>2.0</td><td>2.0</td><td>0.0</td><td>2.0</td><td>2.0</td><td>2.0</td><td>0.0</td><td>2.0</td><td>2.0</td><td>0.0</td></tr><tr><th>6</th><td>2.0</td><td>2.0</td><td>0.0</td><td>2.0</td><td>2.0</td><td>2.0</td><td>0.0</td><td>2.0</td><td>2.0</td><td>0.0</td></tr><tr><th>7</th><td>2.0</td><td>1.0</td><td>0.0</td><td>2.0</td><td>2.0</td><td>2.0</td><td>0.0</td><td>2.0</td><td>2.0</td><td>0.0</td></tr><tr><th>8</th><td>2.0</td><td>2.0</td><td>0.0</td><td>2.0</td><td>2.0</td><td>2.0</td><td>0.0</td><td>2.0</td><td>2.0</td><td>0.0</td></tr><tr><th>9</th><td>2.0</td><td>1.0</td><td>0.0</td><td>2.0</td><td>2.0</td><td>2.0</td><td>0.0</td><td>2.0</td><td>2.0</td><td>0.0</td></tr><tr><th>10</th><td>2.0</td><td>1.0</td><td>0.0</td><td>2.0</td><td>2.0</td><td>2.0</td><td>0.0</td><td>2.0</td><td>2.0</td><td>0.0</td></tr><tr><th>11</th><td>2.0</td><td>1.0</td><td>0.0</td><td>2.0</td><td>2.0</td><td>2.0</td><td>0.0</td><td>2.0</td><td>2.0</td><td>0.0</td></tr><tr><th>12</th><td>2.0</td><td>2.0</td><td>0.0</td><td>2.0</td><td>2.0</td><td>2.0</td><td>0.0</td><td>2.0</td><td>2.0</td><td>0.0</td></tr><tr><th>13</th><td>2.0</td><td>1.0</td><td>0.0</td><td>2.0</td><td>2.0</td><td>2.0</td><td>0.0</td><td>2.0</td><td>2.0</td><td>0.0</td></tr><tr><th>14</th><td>2.0</td><td>2.0</td><td>0.0</td><td>2.0</td><td>2.0</td><td>2.0</td><td>0.0</td><td>2.0</td><td>2.0</td><td>0.0</td></tr><tr><th>15</th><td>2.0</td><td>2.0</td><td>0.0</td><td>2.0</td><td>2.0</td><td>2.0</td><td>0.0</td><td>2.0</td><td>2.0</td><td>0.0</td></tr><tr><th>16</th><td>2.0</td><td>2.0</td><td>0.0</td><td>2.0</td><td>2.0</td><td>1.0</td><td>0.0</td><td>2.0</td><td>2.0</td><td>0.0</td></tr><tr><th>17</th><td>2.0</td><td>2.0</td><td>0.0</td><td>2.0</td><td>2.0</td><td>2.0</td><td>0.0</td><td>2.0</td><td>2.0</td><td>0.0</td></tr><tr><th>18</th><td>2.0</td><td>2.0</td><td>0.0</td><td>2.0</td><td>2.0</td><td>2.0</td><td>0.0</td><td>2.0</td><td>2.0</td><td>0.0</td></tr><tr><th>19</th><td>2.0</td><td>2.0</td><td>0.0</td><td>2.0</td><td>2.0</td><td>2.0</td><td>0.0</td><td>2.0</td><td>2.0</td><td>0.0</td></tr><tr><th>20</th><td>2.0</td><td>2.0</td><td>0.0</td><td>2.0</td><td>2.0</td><td>2.0</td><td>0.0</td><td>2.0</td><td>2.0</td><td>0.0</td></tr><tr><th>21</th><td>2.0</td><td>2.0</td><td>0.0</td><td>2.0</td><td>2.0</td><td>2.0</td><td>0.0</td><td>2.0</td><td>2.0</td><td>0.0</td></tr><tr><th>22</th><td>2.0</td><td>2.0</td><td>0.0</td><td>2.0</td><td>2.0</td><td>1.0</td><td>0.0</td><td>2.0</td><td>2.0</td><td>0.0</td></tr><tr><th>23</th><td>2.0</td><td>2.0</td><td>0.0</td><td>2.0</td><td>2.0</td><td>1.0</td><td>0.0</td><td>2.0</td><td>2.0</td><td>0.0</td></tr><tr><th>24</th><td>2.0</td><td>2.0</td><td>0.0</td><td>2.0</td><td>2.0</td><td>1.0</td><td>0.0</td><td>2.0</td><td>2.0</td><td>0.0</td></tr><tr><th>25</th><td>2.0</td><td>1.0</td><td>0.0</td><td>2.0</td><td>1.0</td><td>2.0</td><td>0.0</td><td>2.0</td><td>2.0</td><td>0.0</td></tr><tr><th>26</th><td>2.0</td><td>2.0</td><td>1.0</td><td>2.0</td><td>2.0</td><td>2.0</td><td>0.0</td><td>2.0</td><td>2.0</td><td>0.0</td></tr><tr><th>27</th><td>2.0</td><td>1.0</td><td>1.0</td><td>2.0</td><td>2.0</td><td>2.0</td><td>0.0</td><td>2.0</td><td>2.0</td><td>0.0</td></tr><tr><th>28</th><td>2.0</td><td>2.0</td><td>0.0</td><td>2.0</td><td>2.0</td><td>2.0</td><td>0.0</td><td>2.0</td><td>2.0</td><td>0.0</td></tr><tr><th>29</th><td>2.0</td><td>2.0</td><td>0.0</td><td>2.0</td><td>2.0</td><td>2.0</td><td>0.0</td><td>2.0</td><td>2.0</td><td>0.0</td></tr><tr><th>30</th><td>2.0</td><td>2.0</td><td>0.0</td><td>2.0</td><td>2.0</td><td>2.0</td><td>0.0</td><td>2.0</td><td>2.0</td><td>0.0</td></tr><tr><th>&vellip;</th><td>&vellip;</td><td>&vellip;</td><td>&vellip;</td><td>&vellip;</td><td>&vellip;</td><td>&vellip;</td><td>&vellip;</td><td>&vellip;</td><td>&vellip;</td><td>&vellip;</td></tr></tbody></table>"
      ],
      "text/latex": [
       "\\begin{tabular}{r|cccccccccc}\n",
       "\t& x1 & x2 & x3 & x4 & x5 & x6 & x7 & x8 & x9 & x10\\\\\n",
       "\t\\hline\n",
       "\t& Float64 & Float64 & Float64 & Float64 & Float64 & Float64 & Float64 & Float64 & Float64 & Float64\\\\\n",
       "\t\\hline\n",
       "\t1 & 2.0 & 2.0 & 0.0 & 2.0 & 2.0 & 2.0 & 0.0 & 2.0 & 2.0 & 0.0 \\\\\n",
       "\t2 & 2.0 & 2.0 & 0.0 & 1.0 & 1.0 & 2.0 & 0.0 & 2.0 & 2.0 & 0.0 \\\\\n",
       "\t3 & 2.0 & 2.0 & 0.0 & 2.0 & 2.0 & 2.0 & 0.0 & 2.0 & 2.0 & 0.0 \\\\\n",
       "\t4 & 2.0 & 2.0 & 0.0 & 2.0 & 2.0 & 2.0 & 0.0 & 2.0 & 2.0 & 0.0 \\\\\n",
       "\t5 & 2.0 & 2.0 & 0.0 & 2.0 & 2.0 & 2.0 & 0.0 & 2.0 & 2.0 & 0.0 \\\\\n",
       "\t6 & 2.0 & 2.0 & 0.0 & 2.0 & 2.0 & 2.0 & 0.0 & 2.0 & 2.0 & 0.0 \\\\\n",
       "\t7 & 2.0 & 1.0 & 0.0 & 2.0 & 2.0 & 2.0 & 0.0 & 2.0 & 2.0 & 0.0 \\\\\n",
       "\t8 & 2.0 & 2.0 & 0.0 & 2.0 & 2.0 & 2.0 & 0.0 & 2.0 & 2.0 & 0.0 \\\\\n",
       "\t9 & 2.0 & 1.0 & 0.0 & 2.0 & 2.0 & 2.0 & 0.0 & 2.0 & 2.0 & 0.0 \\\\\n",
       "\t10 & 2.0 & 1.0 & 0.0 & 2.0 & 2.0 & 2.0 & 0.0 & 2.0 & 2.0 & 0.0 \\\\\n",
       "\t11 & 2.0 & 1.0 & 0.0 & 2.0 & 2.0 & 2.0 & 0.0 & 2.0 & 2.0 & 0.0 \\\\\n",
       "\t12 & 2.0 & 2.0 & 0.0 & 2.0 & 2.0 & 2.0 & 0.0 & 2.0 & 2.0 & 0.0 \\\\\n",
       "\t13 & 2.0 & 1.0 & 0.0 & 2.0 & 2.0 & 2.0 & 0.0 & 2.0 & 2.0 & 0.0 \\\\\n",
       "\t14 & 2.0 & 2.0 & 0.0 & 2.0 & 2.0 & 2.0 & 0.0 & 2.0 & 2.0 & 0.0 \\\\\n",
       "\t15 & 2.0 & 2.0 & 0.0 & 2.0 & 2.0 & 2.0 & 0.0 & 2.0 & 2.0 & 0.0 \\\\\n",
       "\t16 & 2.0 & 2.0 & 0.0 & 2.0 & 2.0 & 1.0 & 0.0 & 2.0 & 2.0 & 0.0 \\\\\n",
       "\t17 & 2.0 & 2.0 & 0.0 & 2.0 & 2.0 & 2.0 & 0.0 & 2.0 & 2.0 & 0.0 \\\\\n",
       "\t18 & 2.0 & 2.0 & 0.0 & 2.0 & 2.0 & 2.0 & 0.0 & 2.0 & 2.0 & 0.0 \\\\\n",
       "\t19 & 2.0 & 2.0 & 0.0 & 2.0 & 2.0 & 2.0 & 0.0 & 2.0 & 2.0 & 0.0 \\\\\n",
       "\t20 & 2.0 & 2.0 & 0.0 & 2.0 & 2.0 & 2.0 & 0.0 & 2.0 & 2.0 & 0.0 \\\\\n",
       "\t21 & 2.0 & 2.0 & 0.0 & 2.0 & 2.0 & 2.0 & 0.0 & 2.0 & 2.0 & 0.0 \\\\\n",
       "\t22 & 2.0 & 2.0 & 0.0 & 2.0 & 2.0 & 1.0 & 0.0 & 2.0 & 2.0 & 0.0 \\\\\n",
       "\t23 & 2.0 & 2.0 & 0.0 & 2.0 & 2.0 & 1.0 & 0.0 & 2.0 & 2.0 & 0.0 \\\\\n",
       "\t24 & 2.0 & 2.0 & 0.0 & 2.0 & 2.0 & 1.0 & 0.0 & 2.0 & 2.0 & 0.0 \\\\\n",
       "\t25 & 2.0 & 1.0 & 0.0 & 2.0 & 1.0 & 2.0 & 0.0 & 2.0 & 2.0 & 0.0 \\\\\n",
       "\t26 & 2.0 & 2.0 & 1.0 & 2.0 & 2.0 & 2.0 & 0.0 & 2.0 & 2.0 & 0.0 \\\\\n",
       "\t27 & 2.0 & 1.0 & 1.0 & 2.0 & 2.0 & 2.0 & 0.0 & 2.0 & 2.0 & 0.0 \\\\\n",
       "\t28 & 2.0 & 2.0 & 0.0 & 2.0 & 2.0 & 2.0 & 0.0 & 2.0 & 2.0 & 0.0 \\\\\n",
       "\t29 & 2.0 & 2.0 & 0.0 & 2.0 & 2.0 & 2.0 & 0.0 & 2.0 & 2.0 & 0.0 \\\\\n",
       "\t30 & 2.0 & 2.0 & 0.0 & 2.0 & 2.0 & 2.0 & 0.0 & 2.0 & 2.0 & 0.0 \\\\\n",
       "\t$\\dots$ & $\\dots$ & $\\dots$ & $\\dots$ & $\\dots$ & $\\dots$ & $\\dots$ & $\\dots$ & $\\dots$ & $\\dots$ & $\\dots$ \\\\\n",
       "\\end{tabular}\n"
      ],
      "text/plain": [
       "212×10 DataFrame. Omitted printing of 3 columns\n",
       "│ Row │ x1      │ x2      │ x3      │ x4      │ x5      │ x6      │ x7      │\n",
       "│     │ \u001b[90mFloat64\u001b[39m │ \u001b[90mFloat64\u001b[39m │ \u001b[90mFloat64\u001b[39m │ \u001b[90mFloat64\u001b[39m │ \u001b[90mFloat64\u001b[39m │ \u001b[90mFloat64\u001b[39m │ \u001b[90mFloat64\u001b[39m │\n",
       "├─────┼─────────┼─────────┼─────────┼─────────┼─────────┼─────────┼─────────┤\n",
       "│ 1   │ 2.0     │ 2.0     │ 0.0     │ 2.0     │ 2.0     │ 2.0     │ 0.0     │\n",
       "│ 2   │ 2.0     │ 2.0     │ 0.0     │ 1.0     │ 1.0     │ 2.0     │ 0.0     │\n",
       "│ 3   │ 2.0     │ 2.0     │ 0.0     │ 2.0     │ 2.0     │ 2.0     │ 0.0     │\n",
       "│ 4   │ 2.0     │ 2.0     │ 0.0     │ 2.0     │ 2.0     │ 2.0     │ 0.0     │\n",
       "│ 5   │ 2.0     │ 2.0     │ 0.0     │ 2.0     │ 2.0     │ 2.0     │ 0.0     │\n",
       "│ 6   │ 2.0     │ 2.0     │ 0.0     │ 2.0     │ 2.0     │ 2.0     │ 0.0     │\n",
       "│ 7   │ 2.0     │ 1.0     │ 0.0     │ 2.0     │ 2.0     │ 2.0     │ 0.0     │\n",
       "│ 8   │ 2.0     │ 2.0     │ 0.0     │ 2.0     │ 2.0     │ 2.0     │ 0.0     │\n",
       "│ 9   │ 2.0     │ 1.0     │ 0.0     │ 2.0     │ 2.0     │ 2.0     │ 0.0     │\n",
       "│ 10  │ 2.0     │ 1.0     │ 0.0     │ 2.0     │ 2.0     │ 2.0     │ 0.0     │\n",
       "⋮\n",
       "│ 202 │ 2.0     │ 2.0     │ 0.0     │ 2.0     │ 2.0     │ 2.0     │ 0.0     │\n",
       "│ 203 │ 2.0     │ 2.0     │ 0.0     │ 2.0     │ 2.0     │ 2.0     │ 0.0     │\n",
       "│ 204 │ 2.0     │ 1.0     │ 0.0     │ 1.0     │ 1.0     │ 2.0     │ 0.0     │\n",
       "│ 205 │ 2.0     │ 2.0     │ 0.0     │ 1.0     │ 1.0     │ 2.0     │ 0.0     │\n",
       "│ 206 │ 2.0     │ 2.0     │ 0.0     │ 2.0     │ 2.0     │ 2.0     │ 0.0     │\n",
       "│ 207 │ 2.0     │ 2.0     │ 0.0     │ 1.0     │ 1.0     │ 2.0     │ 0.0     │\n",
       "│ 208 │ 2.0     │ 2.0     │ 0.0     │ 2.0     │ 2.0     │ 2.0     │ 0.0     │\n",
       "│ 209 │ 2.0     │ 1.0     │ 0.0     │ 2.0     │ 2.0     │ 2.0     │ 0.0     │\n",
       "│ 210 │ 2.0     │ 2.0     │ 0.0     │ 2.0     │ 2.0     │ 2.0     │ 0.0     │\n",
       "│ 211 │ 2.0     │ 2.0     │ 0.0     │ 2.0     │ 2.0     │ 2.0     │ 0.0     │\n",
       "│ 212 │ 2.0     │ 2.0     │ 0.0     │ 2.0     │ 2.0     │ 2.0     │ 0.0     │"
      ]
     },
     "execution_count": 3,
     "metadata": {},
     "output_type": "execute_result"
    }
   ],
   "source": [
    "minor_allele_frequency = maf(snps)\n",
    "common_snps_index = (0.05 .≤ minor_allele_frequency)\n",
    "common_snps = SnpArrays.filter(\"heritability\", trues(212), common_snps_index)\n",
    "df = convert(Matrix{Float64}, @view(snps[:, 1:10]))\n",
    "df = DataFrame(df)"
   ]
  },
  {
   "cell_type": "code",
   "execution_count": 4,
   "metadata": {},
   "outputs": [
    {
     "data": {
      "text/plain": [
       "212×212 Array{Float64,2}:\n",
       " 1.0  0.0  0.0  0.0  0.0  0.0  0.0  0.0  …  0.0  0.0  0.0  0.0  0.0  0.0  0.0\n",
       " 0.0  1.0  0.0  0.0  0.0  0.0  0.0  0.0     0.0  0.0  0.0  0.0  0.0  0.0  0.0\n",
       " 0.0  0.0  1.0  0.0  0.0  0.0  0.0  0.0     0.0  0.0  0.0  0.0  0.0  0.0  0.0\n",
       " 0.0  0.0  0.0  1.0  0.0  0.0  0.0  0.0     0.0  0.0  0.0  0.0  0.0  0.0  0.0\n",
       " 0.0  0.0  0.0  0.0  1.0  0.0  0.0  0.0     0.0  0.0  0.0  0.0  0.0  0.0  0.0\n",
       " 0.0  0.0  0.0  0.0  0.0  1.0  0.0  0.0  …  0.0  0.0  0.0  0.0  0.0  0.0  0.0\n",
       " 0.0  0.0  0.0  0.0  0.0  0.0  1.0  0.0     0.0  0.0  0.0  0.0  0.0  0.0  0.0\n",
       " 0.0  0.0  0.0  0.0  0.0  0.0  0.0  1.0     0.0  0.0  0.0  0.0  0.0  0.0  0.0\n",
       " 0.0  0.0  0.0  0.0  0.0  0.0  0.0  0.0     0.0  0.0  0.0  0.0  0.0  0.0  0.0\n",
       " 0.0  0.0  0.0  0.0  0.0  0.0  0.0  0.0     0.0  0.0  0.0  0.0  0.0  0.0  0.0\n",
       " 0.0  0.0  0.0  0.0  0.0  0.0  0.0  0.0  …  0.0  0.0  0.0  0.0  0.0  0.0  0.0\n",
       " 0.0  0.0  0.0  0.0  0.0  0.0  0.0  0.0     0.0  0.0  0.0  0.0  0.0  0.0  0.0\n",
       " 0.0  0.0  0.0  0.0  0.0  0.0  0.0  0.0     0.0  0.0  0.0  0.0  0.0  0.0  0.0\n",
       " ⋮                        ⋮              ⋱  ⋮                        ⋮       \n",
       " 0.0  0.0  0.0  0.0  0.0  0.0  0.0  0.0  …  0.0  0.0  0.0  0.0  0.0  0.0  0.0\n",
       " 0.0  0.0  0.0  0.0  0.0  0.0  0.0  0.0     0.0  0.0  0.0  0.0  0.0  0.0  0.0\n",
       " 0.0  0.0  0.0  0.0  0.0  0.0  0.0  0.0     0.0  0.0  0.0  0.0  0.0  0.0  0.0\n",
       " 0.0  0.0  0.0  0.0  0.0  0.0  0.0  0.0     0.0  0.0  0.0  0.0  0.0  0.0  0.0\n",
       " 0.0  0.0  0.0  0.0  0.0  0.0  0.0  0.0     0.0  0.0  0.0  0.0  0.0  0.0  0.0\n",
       " 0.0  0.0  0.0  0.0  0.0  0.0  0.0  0.0  …  1.0  0.0  0.0  0.0  0.0  0.0  0.0\n",
       " 0.0  0.0  0.0  0.0  0.0  0.0  0.0  0.0     0.0  1.0  0.0  0.0  0.0  0.0  0.0\n",
       " 0.0  0.0  0.0  0.0  0.0  0.0  0.0  0.0     0.0  0.0  1.0  0.0  0.0  0.0  0.0\n",
       " 0.0  0.0  0.0  0.0  0.0  0.0  0.0  0.0     0.0  0.0  0.0  1.0  0.0  0.0  0.0\n",
       " 0.0  0.0  0.0  0.0  0.0  0.0  0.0  0.0     0.0  0.0  0.0  0.0  1.0  0.0  0.0\n",
       " 0.0  0.0  0.0  0.0  0.0  0.0  0.0  0.0  …  0.0  0.0  0.0  0.0  0.0  1.0  0.0\n",
       " 0.0  0.0  0.0  0.0  0.0  0.0  0.0  0.0     0.0  0.0  0.0  0.0  0.0  0.0  1.0"
      ]
     },
     "execution_count": 4,
     "metadata": {},
     "output_type": "execute_result"
    }
   ],
   "source": [
    "formulas = [\"0 + 0(x1)\", \"5 + 0(x2)\"]\n",
    "\n",
    "# Variance Specification for VCM: ex) @vc A ⊗ GRM + B ⊗ I\n",
    "GRM = grm(common_snps)\n",
    "A_1 = [0.3 0.1; 0.1 0.3]\n",
    "B_1 = GRM\n",
    "A_2 = [0.7 0.0; 0.0 0.7]\n",
    "B_2 = Matrix{Float64}(I, size(GRM))"
   ]
  },
  {
   "cell_type": "code",
   "execution_count": 5,
   "metadata": {},
   "outputs": [],
   "source": [
    "cd(\"/Users/sarahji/Desktop/TraitSimulation\")"
   ]
  },
  {
   "cell_type": "code",
   "execution_count": 6,
   "metadata": {},
   "outputs": [
    {
     "data": {
      "text/plain": [
       "2-element Array{TraitSimulation.InverseLinkFunction,1}:\n",
       " IdentityLink()\n",
       " LogLink()     "
      ]
     },
     "execution_count": 6,
     "metadata": {},
     "output_type": "execute_result"
    }
   ],
   "source": [
    "#for multiple glm traits from different distributions\n",
    "dist_type_vector = [NormalResponse(1), PoissonResponse()]\n",
    "\n",
    "link_type_vector = [IdentityLink(), LogLink()]"
   ]
  },
  {
   "cell_type": "code",
   "execution_count": 7,
   "metadata": {},
   "outputs": [
    {
     "data": {
      "text/html": [
       "<table class=\"data-frame\"><thead><tr><th></th><th>trait1</th></tr><tr><th></th><th>Int64</th></tr></thead><tbody><p>212 rows × 1 columns</p><tr><th>1</th><td>0</td></tr><tr><th>2</th><td>1</td></tr><tr><th>3</th><td>2</td></tr><tr><th>4</th><td>1</td></tr><tr><th>5</th><td>1</td></tr><tr><th>6</th><td>1</td></tr><tr><th>7</th><td>3</td></tr><tr><th>8</th><td>2</td></tr><tr><th>9</th><td>0</td></tr><tr><th>10</th><td>2</td></tr><tr><th>11</th><td>0</td></tr><tr><th>12</th><td>1</td></tr><tr><th>13</th><td>2</td></tr><tr><th>14</th><td>0</td></tr><tr><th>15</th><td>1</td></tr><tr><th>16</th><td>2</td></tr><tr><th>17</th><td>1</td></tr><tr><th>18</th><td>1</td></tr><tr><th>19</th><td>3</td></tr><tr><th>20</th><td>0</td></tr><tr><th>21</th><td>0</td></tr><tr><th>22</th><td>0</td></tr><tr><th>23</th><td>0</td></tr><tr><th>24</th><td>2</td></tr><tr><th>25</th><td>1</td></tr><tr><th>26</th><td>0</td></tr><tr><th>27</th><td>5</td></tr><tr><th>28</th><td>3</td></tr><tr><th>29</th><td>0</td></tr><tr><th>30</th><td>0</td></tr><tr><th>&vellip;</th><td>&vellip;</td></tr></tbody></table>"
      ],
      "text/latex": [
       "\\begin{tabular}{r|c}\n",
       "\t& trait1\\\\\n",
       "\t\\hline\n",
       "\t& Int64\\\\\n",
       "\t\\hline\n",
       "\t1 & 0 \\\\\n",
       "\t2 & 1 \\\\\n",
       "\t3 & 2 \\\\\n",
       "\t4 & 1 \\\\\n",
       "\t5 & 1 \\\\\n",
       "\t6 & 1 \\\\\n",
       "\t7 & 3 \\\\\n",
       "\t8 & 2 \\\\\n",
       "\t9 & 0 \\\\\n",
       "\t10 & 2 \\\\\n",
       "\t11 & 0 \\\\\n",
       "\t12 & 1 \\\\\n",
       "\t13 & 2 \\\\\n",
       "\t14 & 0 \\\\\n",
       "\t15 & 1 \\\\\n",
       "\t16 & 2 \\\\\n",
       "\t17 & 1 \\\\\n",
       "\t18 & 1 \\\\\n",
       "\t19 & 3 \\\\\n",
       "\t20 & 0 \\\\\n",
       "\t21 & 0 \\\\\n",
       "\t22 & 0 \\\\\n",
       "\t23 & 0 \\\\\n",
       "\t24 & 2 \\\\\n",
       "\t25 & 1 \\\\\n",
       "\t26 & 0 \\\\\n",
       "\t27 & 5 \\\\\n",
       "\t28 & 3 \\\\\n",
       "\t29 & 0 \\\\\n",
       "\t30 & 0 \\\\\n",
       "\t$\\dots$ & $\\dots$ \\\\\n",
       "\\end{tabular}\n"
      ],
      "text/plain": [
       "212×1 DataFrame\n",
       "│ Row │ trait1 │\n",
       "│     │ \u001b[90mInt64\u001b[39m  │\n",
       "├─────┼────────┤\n",
       "│ 1   │ 0      │\n",
       "│ 2   │ 1      │\n",
       "│ 3   │ 2      │\n",
       "│ 4   │ 1      │\n",
       "│ 5   │ 1      │\n",
       "│ 6   │ 1      │\n",
       "│ 7   │ 3      │\n",
       "│ 8   │ 2      │\n",
       "│ 9   │ 0      │\n",
       "│ 10  │ 2      │\n",
       "⋮\n",
       "│ 202 │ 0      │\n",
       "│ 203 │ 2      │\n",
       "│ 204 │ 0      │\n",
       "│ 205 │ 0      │\n",
       "│ 206 │ 2      │\n",
       "│ 207 │ 0      │\n",
       "│ 208 │ 0      │\n",
       "│ 209 │ 1      │\n",
       "│ 210 │ 0      │\n",
       "│ 211 │ 1      │\n",
       "│ 212 │ 1      │"
      ]
     },
     "execution_count": 7,
     "metadata": {},
     "output_type": "execute_result"
    }
   ],
   "source": [
    "#SINGLE GLM TRAIT\n",
    "GLM_trait_model_Poisson5 = GLMTrait(formulas[1], df, PoissonResponse(), LogLink())\n",
    "Simulated_GLM_trait = simulate(GLM_trait_model_Poisson5)"
   ]
  },
  {
   "cell_type": "code",
   "execution_count": 9,
   "metadata": {},
   "outputs": [
    {
     "data": {
      "text/html": [
       "<table class=\"data-frame\"><thead><tr><th></th><th>trait1</th><th>trait2</th></tr><tr><th></th><th>Int64</th><th>Int64</th></tr></thead><tbody><p>212 rows × 2 columns</p><tr><th>1</th><td>0</td><td>154</td></tr><tr><th>2</th><td>2</td><td>126</td></tr><tr><th>3</th><td>1</td><td>125</td></tr><tr><th>4</th><td>0</td><td>141</td></tr><tr><th>5</th><td>1</td><td>135</td></tr><tr><th>6</th><td>1</td><td>160</td></tr><tr><th>7</th><td>3</td><td>164</td></tr><tr><th>8</th><td>1</td><td>138</td></tr><tr><th>9</th><td>2</td><td>143</td></tr><tr><th>10</th><td>1</td><td>134</td></tr><tr><th>11</th><td>1</td><td>146</td></tr><tr><th>12</th><td>0</td><td>138</td></tr><tr><th>13</th><td>3</td><td>161</td></tr><tr><th>14</th><td>2</td><td>147</td></tr><tr><th>15</th><td>1</td><td>152</td></tr><tr><th>16</th><td>1</td><td>153</td></tr><tr><th>17</th><td>2</td><td>140</td></tr><tr><th>18</th><td>2</td><td>138</td></tr><tr><th>19</th><td>0</td><td>145</td></tr><tr><th>20</th><td>1</td><td>153</td></tr><tr><th>21</th><td>1</td><td>160</td></tr><tr><th>22</th><td>2</td><td>153</td></tr><tr><th>23</th><td>0</td><td>149</td></tr><tr><th>24</th><td>0</td><td>157</td></tr><tr><th>25</th><td>0</td><td>155</td></tr><tr><th>26</th><td>0</td><td>149</td></tr><tr><th>27</th><td>0</td><td>138</td></tr><tr><th>28</th><td>0</td><td>127</td></tr><tr><th>29</th><td>2</td><td>144</td></tr><tr><th>30</th><td>1</td><td>159</td></tr><tr><th>&vellip;</th><td>&vellip;</td><td>&vellip;</td></tr></tbody></table>"
      ],
      "text/latex": [
       "\\begin{tabular}{r|cc}\n",
       "\t& trait1 & trait2\\\\\n",
       "\t\\hline\n",
       "\t& Int64 & Int64\\\\\n",
       "\t\\hline\n",
       "\t1 & 0 & 154 \\\\\n",
       "\t2 & 2 & 126 \\\\\n",
       "\t3 & 1 & 125 \\\\\n",
       "\t4 & 0 & 141 \\\\\n",
       "\t5 & 1 & 135 \\\\\n",
       "\t6 & 1 & 160 \\\\\n",
       "\t7 & 3 & 164 \\\\\n",
       "\t8 & 1 & 138 \\\\\n",
       "\t9 & 2 & 143 \\\\\n",
       "\t10 & 1 & 134 \\\\\n",
       "\t11 & 1 & 146 \\\\\n",
       "\t12 & 0 & 138 \\\\\n",
       "\t13 & 3 & 161 \\\\\n",
       "\t14 & 2 & 147 \\\\\n",
       "\t15 & 1 & 152 \\\\\n",
       "\t16 & 1 & 153 \\\\\n",
       "\t17 & 2 & 140 \\\\\n",
       "\t18 & 2 & 138 \\\\\n",
       "\t19 & 0 & 145 \\\\\n",
       "\t20 & 1 & 153 \\\\\n",
       "\t21 & 1 & 160 \\\\\n",
       "\t22 & 2 & 153 \\\\\n",
       "\t23 & 0 & 149 \\\\\n",
       "\t24 & 0 & 157 \\\\\n",
       "\t25 & 0 & 155 \\\\\n",
       "\t26 & 0 & 149 \\\\\n",
       "\t27 & 0 & 138 \\\\\n",
       "\t28 & 0 & 127 \\\\\n",
       "\t29 & 2 & 144 \\\\\n",
       "\t30 & 1 & 159 \\\\\n",
       "\t$\\dots$ & $\\dots$ & $\\dots$ \\\\\n",
       "\\end{tabular}\n"
      ],
      "text/plain": [
       "212×2 DataFrame\n",
       "│ Row │ trait1 │ trait2 │\n",
       "│     │ \u001b[90mInt64\u001b[39m  │ \u001b[90mInt64\u001b[39m  │\n",
       "├─────┼────────┼────────┤\n",
       "│ 1   │ 0      │ 154    │\n",
       "│ 2   │ 2      │ 126    │\n",
       "│ 3   │ 1      │ 125    │\n",
       "│ 4   │ 0      │ 141    │\n",
       "│ 5   │ 1      │ 135    │\n",
       "│ 6   │ 1      │ 160    │\n",
       "│ 7   │ 3      │ 164    │\n",
       "│ 8   │ 1      │ 138    │\n",
       "│ 9   │ 2      │ 143    │\n",
       "│ 10  │ 1      │ 134    │\n",
       "⋮\n",
       "│ 202 │ 2      │ 136    │\n",
       "│ 203 │ 1      │ 135    │\n",
       "│ 204 │ 1      │ 135    │\n",
       "│ 205 │ 0      │ 163    │\n",
       "│ 206 │ 1      │ 160    │\n",
       "│ 207 │ 1      │ 161    │\n",
       "│ 208 │ 0      │ 152    │\n",
       "│ 209 │ 1      │ 128    │\n",
       "│ 210 │ 2      │ 138    │\n",
       "│ 211 │ 1      │ 148    │\n",
       "│ 212 │ 0      │ 160    │"
      ]
     },
     "execution_count": 9,
     "metadata": {},
     "output_type": "execute_result"
    }
   ],
   "source": [
    "#MULTIPLE GLM TRAITS IID \n",
    "Multiple_iid_GLM_traits_model = Multiple_GLMTraits(formulas, df, PoissonResponse(), LogLink())\n",
    "Simulated_GLM_trait_iid = simulate(Multiple_iid_GLM_traits_model)"
   ]
  },
  {
   "cell_type": "code",
   "execution_count": 11,
   "metadata": {},
   "outputs": [
    {
     "data": {
      "text/html": [
       "<table class=\"data-frame\"><thead><tr><th></th><th>trait1</th><th>trait2</th></tr><tr><th></th><th>Float64</th><th>Int64</th></tr></thead><tbody><p>212 rows × 2 columns</p><tr><th>1</th><td>0.735056</td><td>131</td></tr><tr><th>2</th><td>1.82129</td><td>165</td></tr><tr><th>3</th><td>0.899427</td><td>150</td></tr><tr><th>4</th><td>1.35786</td><td>148</td></tr><tr><th>5</th><td>-0.2557</td><td>154</td></tr><tr><th>6</th><td>-0.556669</td><td>153</td></tr><tr><th>7</th><td>0.0513299</td><td>141</td></tr><tr><th>8</th><td>-1.21132</td><td>159</td></tr><tr><th>9</th><td>0.75052</td><td>162</td></tr><tr><th>10</th><td>-0.243299</td><td>148</td></tr><tr><th>11</th><td>-1.17839</td><td>133</td></tr><tr><th>12</th><td>1.77767</td><td>159</td></tr><tr><th>13</th><td>0.156035</td><td>138</td></tr><tr><th>14</th><td>0.69311</td><td>144</td></tr><tr><th>15</th><td>-0.920228</td><td>152</td></tr><tr><th>16</th><td>0.253565</td><td>145</td></tr><tr><th>17</th><td>0.747051</td><td>156</td></tr><tr><th>18</th><td>-0.721352</td><td>162</td></tr><tr><th>19</th><td>-1.42253</td><td>124</td></tr><tr><th>20</th><td>-1.77934</td><td>143</td></tr><tr><th>21</th><td>0.0964981</td><td>149</td></tr><tr><th>22</th><td>0.0985269</td><td>157</td></tr><tr><th>23</th><td>0.860386</td><td>145</td></tr><tr><th>24</th><td>-0.535267</td><td>166</td></tr><tr><th>25</th><td>0.348152</td><td>150</td></tr><tr><th>26</th><td>0.0984449</td><td>132</td></tr><tr><th>27</th><td>-0.195585</td><td>159</td></tr><tr><th>28</th><td>-0.578219</td><td>132</td></tr><tr><th>29</th><td>2.25103</td><td>141</td></tr><tr><th>30</th><td>0.82444</td><td>176</td></tr><tr><th>&vellip;</th><td>&vellip;</td><td>&vellip;</td></tr></tbody></table>"
      ],
      "text/latex": [
       "\\begin{tabular}{r|cc}\n",
       "\t& trait1 & trait2\\\\\n",
       "\t\\hline\n",
       "\t& Float64 & Int64\\\\\n",
       "\t\\hline\n",
       "\t1 & 0.735056 & 131 \\\\\n",
       "\t2 & 1.82129 & 165 \\\\\n",
       "\t3 & 0.899427 & 150 \\\\\n",
       "\t4 & 1.35786 & 148 \\\\\n",
       "\t5 & -0.2557 & 154 \\\\\n",
       "\t6 & -0.556669 & 153 \\\\\n",
       "\t7 & 0.0513299 & 141 \\\\\n",
       "\t8 & -1.21132 & 159 \\\\\n",
       "\t9 & 0.75052 & 162 \\\\\n",
       "\t10 & -0.243299 & 148 \\\\\n",
       "\t11 & -1.17839 & 133 \\\\\n",
       "\t12 & 1.77767 & 159 \\\\\n",
       "\t13 & 0.156035 & 138 \\\\\n",
       "\t14 & 0.69311 & 144 \\\\\n",
       "\t15 & -0.920228 & 152 \\\\\n",
       "\t16 & 0.253565 & 145 \\\\\n",
       "\t17 & 0.747051 & 156 \\\\\n",
       "\t18 & -0.721352 & 162 \\\\\n",
       "\t19 & -1.42253 & 124 \\\\\n",
       "\t20 & -1.77934 & 143 \\\\\n",
       "\t21 & 0.0964981 & 149 \\\\\n",
       "\t22 & 0.0985269 & 157 \\\\\n",
       "\t23 & 0.860386 & 145 \\\\\n",
       "\t24 & -0.535267 & 166 \\\\\n",
       "\t25 & 0.348152 & 150 \\\\\n",
       "\t26 & 0.0984449 & 132 \\\\\n",
       "\t27 & -0.195585 & 159 \\\\\n",
       "\t28 & -0.578219 & 132 \\\\\n",
       "\t29 & 2.25103 & 141 \\\\\n",
       "\t30 & 0.82444 & 176 \\\\\n",
       "\t$\\dots$ & $\\dots$ & $\\dots$ \\\\\n",
       "\\end{tabular}\n"
      ],
      "text/plain": [
       "212×2 DataFrame\n",
       "│ Row │ trait1    │ trait2 │\n",
       "│     │ \u001b[90mFloat64\u001b[39m   │ \u001b[90mInt64\u001b[39m  │\n",
       "├─────┼───────────┼────────┤\n",
       "│ 1   │ 0.735056  │ 131    │\n",
       "│ 2   │ 1.82129   │ 165    │\n",
       "│ 3   │ 0.899427  │ 150    │\n",
       "│ 4   │ 1.35786   │ 148    │\n",
       "│ 5   │ -0.2557   │ 154    │\n",
       "│ 6   │ -0.556669 │ 153    │\n",
       "│ 7   │ 0.0513299 │ 141    │\n",
       "│ 8   │ -1.21132  │ 159    │\n",
       "│ 9   │ 0.75052   │ 162    │\n",
       "│ 10  │ -0.243299 │ 148    │\n",
       "⋮\n",
       "│ 202 │ 1.1268    │ 157    │\n",
       "│ 203 │ -0.468935 │ 159    │\n",
       "│ 204 │ -0.498629 │ 148    │\n",
       "│ 205 │ -0.715032 │ 156    │\n",
       "│ 206 │ -0.670915 │ 134    │\n",
       "│ 207 │ 0.583349  │ 145    │\n",
       "│ 208 │ 2.00503   │ 168    │\n",
       "│ 209 │ -1.00401  │ 147    │\n",
       "│ 210 │ 0.0518571 │ 175    │\n",
       "│ 211 │ 0.192314  │ 142    │\n",
       "│ 212 │ -0.493606 │ 133    │"
      ]
     },
     "execution_count": 11,
     "metadata": {},
     "output_type": "execute_result"
    }
   ],
   "source": [
    "Multiple_GLM_traits_model_NOTIID = Multiple_GLMTraits(formulas, df, dist_type_vector, link_type_vector)\n",
    "\n",
    "Simulated_GLM_trait_NOTIID = simulate(Multiple_GLM_traits_model_NOTIID)"
   ]
  },
  {
   "cell_type": "code",
   "execution_count": 12,
   "metadata": {},
   "outputs": [
    {
     "data": {
      "text/html": [
       "<table class=\"data-frame\"><thead><tr><th></th><th>trait1</th><th>trait2</th></tr><tr><th></th><th>Float64</th><th>Float64</th></tr></thead><tbody><p>212 rows × 2 columns</p><tr><th>1</th><td>0.902119</td><td>5.49387</td></tr><tr><th>2</th><td>1.10157</td><td>3.36606</td></tr><tr><th>3</th><td>-0.464155</td><td>5.15722</td></tr><tr><th>4</th><td>0.00816489</td><td>5.43157</td></tr><tr><th>5</th><td>-0.343431</td><td>4.28148</td></tr><tr><th>6</th><td>0.0272556</td><td>4.64712</td></tr><tr><th>7</th><td>-0.123924</td><td>5.09909</td></tr><tr><th>8</th><td>0.772609</td><td>6.29057</td></tr><tr><th>9</th><td>-0.130781</td><td>5.54094</td></tr><tr><th>10</th><td>-0.0476147</td><td>5.59159</td></tr><tr><th>11</th><td>-0.896332</td><td>5.38929</td></tr><tr><th>12</th><td>-0.097345</td><td>4.83922</td></tr><tr><th>13</th><td>-0.381769</td><td>4.58153</td></tr><tr><th>14</th><td>-0.546454</td><td>5.30043</td></tr><tr><th>15</th><td>0.281634</td><td>5.08457</td></tr><tr><th>16</th><td>0.494201</td><td>6.09231</td></tr><tr><th>17</th><td>-0.768478</td><td>4.53346</td></tr><tr><th>18</th><td>0.282114</td><td>4.42571</td></tr><tr><th>19</th><td>-0.486288</td><td>4.79974</td></tr><tr><th>20</th><td>0.322447</td><td>5.21823</td></tr><tr><th>21</th><td>-0.426129</td><td>5.07469</td></tr><tr><th>22</th><td>-0.412878</td><td>5.77017</td></tr><tr><th>23</th><td>-0.959155</td><td>5.59761</td></tr><tr><th>24</th><td>-0.511789</td><td>4.82213</td></tr><tr><th>25</th><td>0.213196</td><td>5.19904</td></tr><tr><th>26</th><td>-1.2464</td><td>5.87015</td></tr><tr><th>27</th><td>-0.3304</td><td>4.32921</td></tr><tr><th>28</th><td>0.0344673</td><td>3.91328</td></tr><tr><th>29</th><td>-0.415351</td><td>3.94436</td></tr><tr><th>30</th><td>-0.0517314</td><td>3.83175</td></tr><tr><th>&vellip;</th><td>&vellip;</td><td>&vellip;</td></tr></tbody></table>"
      ],
      "text/latex": [
       "\\begin{tabular}{r|cc}\n",
       "\t& trait1 & trait2\\\\\n",
       "\t\\hline\n",
       "\t& Float64 & Float64\\\\\n",
       "\t\\hline\n",
       "\t1 & 0.902119 & 5.49387 \\\\\n",
       "\t2 & 1.10157 & 3.36606 \\\\\n",
       "\t3 & -0.464155 & 5.15722 \\\\\n",
       "\t4 & 0.00816489 & 5.43157 \\\\\n",
       "\t5 & -0.343431 & 4.28148 \\\\\n",
       "\t6 & 0.0272556 & 4.64712 \\\\\n",
       "\t7 & -0.123924 & 5.09909 \\\\\n",
       "\t8 & 0.772609 & 6.29057 \\\\\n",
       "\t9 & -0.130781 & 5.54094 \\\\\n",
       "\t10 & -0.0476147 & 5.59159 \\\\\n",
       "\t11 & -0.896332 & 5.38929 \\\\\n",
       "\t12 & -0.097345 & 4.83922 \\\\\n",
       "\t13 & -0.381769 & 4.58153 \\\\\n",
       "\t14 & -0.546454 & 5.30043 \\\\\n",
       "\t15 & 0.281634 & 5.08457 \\\\\n",
       "\t16 & 0.494201 & 6.09231 \\\\\n",
       "\t17 & -0.768478 & 4.53346 \\\\\n",
       "\t18 & 0.282114 & 4.42571 \\\\\n",
       "\t19 & -0.486288 & 4.79974 \\\\\n",
       "\t20 & 0.322447 & 5.21823 \\\\\n",
       "\t21 & -0.426129 & 5.07469 \\\\\n",
       "\t22 & -0.412878 & 5.77017 \\\\\n",
       "\t23 & -0.959155 & 5.59761 \\\\\n",
       "\t24 & -0.511789 & 4.82213 \\\\\n",
       "\t25 & 0.213196 & 5.19904 \\\\\n",
       "\t26 & -1.2464 & 5.87015 \\\\\n",
       "\t27 & -0.3304 & 4.32921 \\\\\n",
       "\t28 & 0.0344673 & 3.91328 \\\\\n",
       "\t29 & -0.415351 & 3.94436 \\\\\n",
       "\t30 & -0.0517314 & 3.83175 \\\\\n",
       "\t$\\dots$ & $\\dots$ & $\\dots$ \\\\\n",
       "\\end{tabular}\n"
      ],
      "text/plain": [
       "212×2 DataFrame\n",
       "│ Row │ trait1     │ trait2  │\n",
       "│     │ \u001b[90mFloat64\u001b[39m    │ \u001b[90mFloat64\u001b[39m │\n",
       "├─────┼────────────┼─────────┤\n",
       "│ 1   │ 0.902119   │ 5.49387 │\n",
       "│ 2   │ 1.10157    │ 3.36606 │\n",
       "│ 3   │ -0.464155  │ 5.15722 │\n",
       "│ 4   │ 0.00816489 │ 5.43157 │\n",
       "│ 5   │ -0.343431  │ 4.28148 │\n",
       "│ 6   │ 0.0272556  │ 4.64712 │\n",
       "│ 7   │ -0.123924  │ 5.09909 │\n",
       "│ 8   │ 0.772609   │ 6.29057 │\n",
       "│ 9   │ -0.130781  │ 5.54094 │\n",
       "│ 10  │ -0.0476147 │ 5.59159 │\n",
       "⋮\n",
       "│ 202 │ 1.10929    │ 5.11203 │\n",
       "│ 203 │ 0.840928   │ 7.80765 │\n",
       "│ 204 │ 0.28458    │ 4.41852 │\n",
       "│ 205 │ 0.361174   │ 4.54361 │\n",
       "│ 206 │ -1.55092   │ 4.53842 │\n",
       "│ 207 │ -0.188776  │ 4.25645 │\n",
       "│ 208 │ 0.485768   │ 5.9136  │\n",
       "│ 209 │ 0.319741   │ 5.20278 │\n",
       "│ 210 │ 0.787716   │ 4.17017 │\n",
       "│ 211 │ -0.256577  │ 4.79239 │\n",
       "│ 212 │ 0.0941678  │ 5.79204 │"
      ]
     },
     "execution_count": 12,
     "metadata": {},
     "output_type": "execute_result"
    }
   ],
   "source": [
    "#LMM TRAIT\n",
    "LMM_trait_model = LMMTrait(formulas, df, @vc A_1 ⊗ B_1 + A_2 ⊗ B_2)\n",
    "Simulated_LMM_trait = simulate(LMM_trait_model)"
   ]
  },
  {
   "cell_type": "code",
   "execution_count": null,
   "metadata": {},
   "outputs": [],
   "source": []
  }
 ],
 "metadata": {
  "kernelspec": {
   "display_name": "Julia 1.0.3",
   "language": "julia",
   "name": "julia-1.0"
  },
  "language_info": {
   "file_extension": ".jl",
   "mimetype": "application/julia",
   "name": "julia",
   "version": "1.0.3"
  },
  "toc": {
   "base_numbering": 1,
   "nav_menu": {},
   "number_sections": true,
   "sideBar": true,
   "skip_h1_title": false,
   "title_cell": "Table of Contents",
   "title_sidebar": "Contents",
   "toc_cell": false,
   "toc_position": {},
   "toc_section_display": true,
   "toc_window_display": false
  }
 },
 "nbformat": 4,
 "nbformat_minor": 2
}
