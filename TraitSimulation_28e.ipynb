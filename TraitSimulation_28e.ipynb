{
 "cells": [
  {
   "cell_type": "markdown",
   "metadata": {},
   "source": [
    "# Trait Simulation Demonstration\n",
    "\n",
    "In this notebook we demonstrate how to simulate phenotypic traits. We use the Mendel Option 28e data with known parameter estimates to validate whether the simulation is sensible. "
   ]
  },
  {
   "cell_type": "markdown",
   "metadata": {},
   "source": [
    "In this notebook, we use the GAW19 data and provide 3 examples of how to simulate phenotypic traits. In all the examples, we follow Mendel Option 28e with the following simulation parameters for Trait1 and Trait2 in Ped28e.out: <br>\n",
    "\n",
    "Mean effect:\n",
    "$$\n",
    "\\mathbf{\\mu} = \n",
    "\\begin{vmatrix}\n",
    "\\mu_1 \\\\\n",
    "\\mu_2 \\\\\n",
    "\\end{vmatrix}\n",
    "\\\\\n",
    "=\n",
    "\\begin{vmatrix}\n",
    "40 + 3(sex) - 1.5(locus)\\\\\n",
    "20 + 2(sex) - 1.5(locus)\\\\\n",
    "\\end{vmatrix}\n",
    "\\\\\n",
    "$$\n",
    "\n",
    "Covariance Matrix of Both Traits simulated Simultaneously through Linear Mixed Model (LMM):\n",
    "\n",
    "$$\n",
    "\\Sigma  = V_a \\otimes (2GRM) + V_e \\otimes I_n\n",
    "$$\n",
    "\n",
    "Where we have the additive and environmental variances:\n",
    "\n",
    "$$ V_a = \n",
    "\\begin{vmatrix}\n",
    "4 & 1 \\\\\n",
    "1 & 4\\\\\n",
    "\\end{vmatrix}\n",
    "$$\n",
    "\n",
    "$$\n",
    "V_e = \n",
    "\\begin{vmatrix}\n",
    "2 & 0 \\\\\n",
    "0 & 2\\\n",
    "\\end{vmatrix}\n",
    "$$\n",
    "\n",
    "The kinship matrix is derived from the genetic relationship matrix (GRM) across the common SNPs with minor allele frequency at least 0.05. I is the identity matrix. In these examples, we only use SNPs with genotype success rate > 0.98 but this criterion can be modified by the user. \n",
    "\n",
    "The user specifies arbitrary fixed effect sizes in examples 1 and 2. In the Generating Effect Sizes Section of Example 3 we show how the user can generate effect sizes that depend on the minor allele frequencies from a function such as an exponential or chisquare. To aid the user when they wish to include a large number of loci in the model, we created a function that automatically writes out the mean components. For reproducibility, we set a random seed for each simulation using `srand`.  If the user wishes to end up with different data, they will need to comment out these commands or use another value in srand.  At the end of each example, we write the results of each simulation to a file on the users own machine.\n",
    "\n",
    "The notebook is organized as follows: <br>\n",
    "\n",
    "Example 1: Generalized Linear Fixed Effects Model (no residual familial correlation)\n",
    "\n",
    "a) Fixed effects model Normal Trait: User specified the SNPs to have fixed effects <br>\n",
    "$$\n",
    "Y_{1a} ∼ N(μ_{1}, 2), where μ_{1} = 40 + 3(sex) - 1.5(locus)\n",
    "$$\n",
    "\n",
    "b) Fixed effects model Non-Normal Trait:\n",
    "$$\n",
    "Y_{1a} ∼ N(μ_{1}, 2), where μ_{1} = 40 + 3(sex) - 1.5(locus)\n",
    "$$\n",
    "\n",
    "Example 2: Linear Mixed Model (models include an additive genetic variance component). Note that the residual covariance among two relatives is the additive genetic variance times twice the kinship coefficient.  \n",
    "\n",
    "(a) Mixed effects model Single Trait:\n",
    "$$\n",
    "Y_{2a} ∼ N(μ_{1}, 4* 2GRM + 2I)$$\n",
    "\n",
    "\n",
    "(b) Mixed effects model Multiple Traits:\n",
    "$$\n",
    "Y_{2b} ∼ N(μ, \\Sigma)\n",
    "$$\n",
    "\n",
    "Example 3: Rare Variant Model with effect sizes as a function of the allele frequencies. This model also assumes an additive genetic variance component.\n",
    "\n",
    "The example includes 21 rare SNPs, with minor allele frequencies greater than 0.002 but less than 0.02.  In practice rare SNPs have smaller minor allele frequencies but we are limited in this tutorial by the number of individuals in the data set.<br>\n",
    "\n",
    "a) Mixed effects model: Y ∼ N( μ, $\\Sigma$) , with $\\mu$ the combination of the effects of 21 variants. "
   ]
  },
  {
   "cell_type": "code",
   "execution_count": 1,
   "metadata": {},
   "outputs": [
    {
     "name": "stderr",
     "output_type": "stream",
     "text": [
      "┌ Info: Recompiling stale cache file /Users/sarahji/.julia/compiled/v1.0/TraitSimulation/VikWX.ji for TraitSimulation [dec3038e-29bc-11e9-2207-9f3d5855a202]\n",
      "└ @ Base loading.jl:1190\n"
     ]
    }
   ],
   "source": [
    "using TraitSimulation"
   ]
  },
  {
   "cell_type": "code",
   "execution_count": 2,
   "metadata": {},
   "outputs": [
    {
     "name": "stderr",
     "output_type": "stream",
     "text": [
      "┌ Info: Recompiling stale cache file /Users/sarahji/.julia/compiled/v1.0/SnpArrays/iEYce.ji for SnpArrays [4e780e97-f5bf-4111-9dc4-b70aaf691b06]\n",
      "└ @ Base loading.jl:1190\n"
     ]
    },
    {
     "data": {
      "text/plain": [
       "212×253141 SnpArray:\n",
       " 0x03  0x03  0x00  0x03  0x03  0x03  …  0x02  0x02  0x00  0x00  0x03  0x00\n",
       " 0x03  0x03  0x00  0x02  0x02  0x03     0x00  0x03  0x00  0x00  0x03  0x00\n",
       " 0x03  0x03  0x00  0x03  0x03  0x03     0x03  0x02  0x00  0x00  0x03  0x00\n",
       " 0x03  0x03  0x00  0x03  0x03  0x03     0x02  0x03  0x00  0x00  0x03  0x00\n",
       " 0x03  0x03  0x00  0x03  0x03  0x03     0x00  0x03  0x00  0x00  0x03  0x00\n",
       " 0x03  0x03  0x00  0x03  0x03  0x03  …  0x00  0x00  0x00  0x00  0x00  0x03\n",
       " 0x03  0x02  0x00  0x03  0x03  0x03     0x02  0x03  0x00  0x03  0x00  0x03\n",
       " 0x03  0x03  0x00  0x03  0x03  0x03     0x02  0x03  0x00  0x03  0x00  0x03\n",
       " 0x03  0x02  0x00  0x03  0x03  0x03     0x02  0x02  0x00  0x02  0x00  0x03\n",
       " 0x03  0x02  0x00  0x03  0x03  0x03     0x03  0x03  0x00  0x03  0x00  0x03\n",
       " 0x03  0x02  0x00  0x03  0x03  0x03  …  0x00  0x02  0x00  0x02  0x00  0x03\n",
       " 0x03  0x03  0x00  0x03  0x03  0x03     0x00  0x02  0x00  0x02  0x00  0x03\n",
       " 0x03  0x02  0x00  0x03  0x03  0x03     0x02  0x02  0x00  0x02  0x00  0x03\n",
       "    ⋮                             ⋮  ⋱     ⋮                             ⋮\n",
       " 0x03  0x03  0x00  0x03  0x03  0x03  …  0x00  0x03  0x00  0x00  0x03  0x00\n",
       " 0x03  0x03  0x00  0x03  0x03  0x03     0x00  0x03  0x00  0x02  0x02  0x02\n",
       " 0x03  0x03  0x00  0x03  0x03  0x03     0x00  0x02  0x00  0x00  0x03  0x00\n",
       " 0x03  0x02  0x00  0x02  0x02  0x03     0x02  0x03  0x00  0x03  0x00  0x03\n",
       " 0x03  0x03  0x00  0x02  0x02  0x03     0x02  0x03  0x00  0x00  0x03  0x00\n",
       " 0x03  0x03  0x00  0x03  0x03  0x03  …  0x02  0x03  0x00  0x02  0x02  0x00\n",
       " 0x03  0x03  0x00  0x02  0x02  0x03     0x02  0x03  0x00  0x00  0x02  0x02\n",
       " 0x03  0x03  0x00  0x03  0x03  0x03     0x00  0x03  0x00  0x00  0x03  0x00\n",
       " 0x03  0x02  0x00  0x03  0x03  0x03     0x02  0x03  0x00  0x00  0x02  0x02\n",
       " 0x03  0x03  0x00  0x03  0x03  0x03     0x00  0x03  0x00  0x00  0x03  0x00\n",
       " 0x03  0x03  0x00  0x03  0x03  0x03  …  0x02  0x03  0x00  0x00  0x03  0x00\n",
       " 0x03  0x03  0x00  0x03  0x03  0x03     0x00  0x03  0x00  0x02  0x02  0x02"
      ]
     },
     "execution_count": 2,
     "metadata": {},
     "output_type": "execute_result"
    }
   ],
   "source": [
    "using DataFrames, SnpArrays, StatsModels, Random, LinearAlgebra, DelimitedFiles\n",
    "snpdata = SnpArray(\"traitsim28e.bed\", 212)"
   ]
  },
  {
   "cell_type": "code",
   "execution_count": 3,
   "metadata": {},
   "outputs": [
    {
     "data": {
      "text/plain": [
       "212×9 Array{Any,2}:\n",
       "     1     16       \"          \"  …  \"          \"  30.2056   9.2421  \"\"\n",
       "     1   8228       \"          \"     \"          \"  35.8214  15.2746  \"\"\n",
       "     1  17008       \"          \"     \"          \"  36.053   19.505   \"\"\n",
       "     1   9218  17008                 \"          \"  38.9635  18.9857  \"\"\n",
       "     1   3226   9218                 \"          \"  33.7391  21.1041  \"\"\n",
       "     2     29       \"          \"  …  \"          \"  34.8884  19.0114  \"\"\n",
       "     2   2294       \"          \"     \"          \"  37.7011  19.1656  \"\"\n",
       "     2   3416       \"          \"     \"          \"  45.1317  19.8409  \"\"\n",
       "     2  17893   2294                 \"          \"  35.156   14.1423  \"\"\n",
       "     2   6952   3416                 \"          \"  42.4514  19.9271  \"\"\n",
       "     2  14695   2294              …  \"          \"  35.6426  17.4191  \"\"\n",
       "     2   6790   2294                 \"          \"  40.6344  23.6845  \"\"\n",
       "     2   3916   2294                 \"          \"  34.8618  16.8684  \"\"\n",
       "     ⋮                            ⋱  ⋮                                 \n",
       "    31   9277   4257              …  \"          \"  40.0522  21.5122  \"\"\n",
       "    31  16139   4257                 \"          \"  39.3161  24.8508  \"\"\n",
       "    31  10439   4257                 \"          \"  41.7913  22.5294  \"\"\n",
       "    31     63  17673                 \"          \"  36.3301  17.0813  \"\"\n",
       " 10006     66       \"          \"     \"          \"  42.9442  17.1984  \"\"\n",
       " 10008     92       \"          \"  …  \"          \"  39.8927  20.9043  \"\"\n",
       " 10014    186       \"          \"     \"          \"  42.5795  15.9365  \"\"\n",
       " 10027    374       \"          \"     \"          \"  47.8619  19.8943  \"\"\n",
       " 10029    434       \"          \"     \"          \"  41.0531  25.1045  \"\"\n",
       " 10033    333       \"          \"     \"          \"  39.9502  19.7227  \"\"\n",
       " 10040    234       \"          \"  …  \"          \"  35.4778  21.935   \"\"\n",
       " 10045    789       \"          \"     \"          \"  44.3932  26.1222  \"\""
      ]
     },
     "execution_count": 3,
     "metadata": {},
     "output_type": "execute_result"
    }
   ],
   "source": [
    "famfile = readdlm(\"traitsim28e.fam\", ',')"
   ]
  },
  {
   "cell_type": "code",
   "execution_count": 4,
   "metadata": {},
   "outputs": [
    {
     "data": {
      "text/html": [
       "<table class=\"data-frame\"><thead><tr><th></th><th>Trait1</th><th>Trait2</th></tr><tr><th></th><th>Any</th><th>Any</th></tr></thead><tbody><p>212 rows × 2 columns</p><tr><th>1</th><td>30.2056</td><td>9.2421</td></tr><tr><th>2</th><td>35.8214</td><td>15.2746</td></tr><tr><th>3</th><td>36.053</td><td>19.505</td></tr><tr><th>4</th><td>38.9635</td><td>18.9857</td></tr><tr><th>5</th><td>33.7391</td><td>21.1041</td></tr><tr><th>6</th><td>34.8884</td><td>19.0114</td></tr><tr><th>7</th><td>37.7011</td><td>19.1656</td></tr><tr><th>8</th><td>45.1317</td><td>19.8409</td></tr><tr><th>9</th><td>35.156</td><td>14.1423</td></tr><tr><th>10</th><td>42.4514</td><td>19.9271</td></tr><tr><th>11</th><td>35.6426</td><td>17.4191</td></tr><tr><th>12</th><td>40.6344</td><td>23.6845</td></tr><tr><th>13</th><td>34.8618</td><td>16.8684</td></tr><tr><th>14</th><td>37.2552</td><td>16.397</td></tr><tr><th>15</th><td>33.0975</td><td>15.3287</td></tr><tr><th>16</th><td>37.916</td><td>20.6693</td></tr><tr><th>17</th><td>34.839</td><td>17.6651</td></tr><tr><th>18</th><td>36.2022</td><td>21.7773</td></tr><tr><th>19</th><td>30.9314</td><td>17.8042</td></tr><tr><th>20</th><td>41.5899</td><td>22.0772</td></tr><tr><th>21</th><td>31.5552</td><td>17.7989</td></tr><tr><th>22</th><td>35.5947</td><td>20.0131</td></tr><tr><th>23</th><td>36.048</td><td>17.7814</td></tr><tr><th>24</th><td>39.1822</td><td>20.747</td></tr><tr><th>25</th><td>34.7339</td><td>9.88673</td></tr><tr><th>26</th><td>37.5677</td><td>14.2164</td></tr><tr><th>27</th><td>32.9781</td><td>12.9809</td></tr><tr><th>28</th><td>40.2272</td><td>21.0772</td></tr><tr><th>29</th><td>41.7587</td><td>24.1248</td></tr><tr><th>30</th><td>45.4635</td><td>27.5554</td></tr><tr><th>&vellip;</th><td>&vellip;</td><td>&vellip;</td></tr></tbody></table>"
      ],
      "text/latex": [
       "\\begin{tabular}{r|cc}\n",
       "\t& Trait1 & Trait2\\\\\n",
       "\t\\hline\n",
       "\t& Any & Any\\\\\n",
       "\t\\hline\n",
       "\t1 & 30.2056 & 9.2421 \\\\\n",
       "\t2 & 35.8214 & 15.2746 \\\\\n",
       "\t3 & 36.053 & 19.505 \\\\\n",
       "\t4 & 38.9635 & 18.9857 \\\\\n",
       "\t5 & 33.7391 & 21.1041 \\\\\n",
       "\t6 & 34.8884 & 19.0114 \\\\\n",
       "\t7 & 37.7011 & 19.1656 \\\\\n",
       "\t8 & 45.1317 & 19.8409 \\\\\n",
       "\t9 & 35.156 & 14.1423 \\\\\n",
       "\t10 & 42.4514 & 19.9271 \\\\\n",
       "\t11 & 35.6426 & 17.4191 \\\\\n",
       "\t12 & 40.6344 & 23.6845 \\\\\n",
       "\t13 & 34.8618 & 16.8684 \\\\\n",
       "\t14 & 37.2552 & 16.397 \\\\\n",
       "\t15 & 33.0975 & 15.3287 \\\\\n",
       "\t16 & 37.916 & 20.6693 \\\\\n",
       "\t17 & 34.839 & 17.6651 \\\\\n",
       "\t18 & 36.2022 & 21.7773 \\\\\n",
       "\t19 & 30.9314 & 17.8042 \\\\\n",
       "\t20 & 41.5899 & 22.0772 \\\\\n",
       "\t21 & 31.5552 & 17.7989 \\\\\n",
       "\t22 & 35.5947 & 20.0131 \\\\\n",
       "\t23 & 36.048 & 17.7814 \\\\\n",
       "\t24 & 39.1822 & 20.747 \\\\\n",
       "\t25 & 34.7339 & 9.88673 \\\\\n",
       "\t26 & 37.5677 & 14.2164 \\\\\n",
       "\t27 & 32.9781 & 12.9809 \\\\\n",
       "\t28 & 40.2272 & 21.0772 \\\\\n",
       "\t29 & 41.7587 & 24.1248 \\\\\n",
       "\t30 & 45.4635 & 27.5554 \\\\\n",
       "\t$\\dots$ & $\\dots$ & $\\dots$ \\\\\n",
       "\\end{tabular}\n"
      ],
      "text/plain": [
       "212×2 DataFrame\n",
       "│ Row │ Trait1  │ Trait2  │\n",
       "│     │ \u001b[90mAny\u001b[39m     │ \u001b[90mAny\u001b[39m     │\n",
       "├─────┼─────────┼─────────┤\n",
       "│ 1   │ 30.2056 │ 9.2421  │\n",
       "│ 2   │ 35.8214 │ 15.2746 │\n",
       "│ 3   │ 36.053  │ 19.505  │\n",
       "│ 4   │ 38.9635 │ 18.9857 │\n",
       "│ 5   │ 33.7391 │ 21.1041 │\n",
       "│ 6   │ 34.8884 │ 19.0114 │\n",
       "│ 7   │ 37.7011 │ 19.1656 │\n",
       "│ 8   │ 45.1317 │ 19.8409 │\n",
       "│ 9   │ 35.156  │ 14.1423 │\n",
       "│ 10  │ 42.4514 │ 19.9271 │\n",
       "⋮\n",
       "│ 202 │ 39.3161 │ 24.8508 │\n",
       "│ 203 │ 41.7913 │ 22.5294 │\n",
       "│ 204 │ 36.3301 │ 17.0813 │\n",
       "│ 205 │ 42.9442 │ 17.1984 │\n",
       "│ 206 │ 39.8927 │ 20.9043 │\n",
       "│ 207 │ 42.5795 │ 15.9365 │\n",
       "│ 208 │ 47.8619 │ 19.8943 │\n",
       "│ 209 │ 41.0531 │ 25.1045 │\n",
       "│ 210 │ 39.9502 │ 19.7227 │\n",
       "│ 211 │ 35.4778 │ 21.935  │\n",
       "│ 212 │ 44.3932 │ 26.1222 │"
      ]
     },
     "execution_count": 4,
     "metadata": {},
     "output_type": "execute_result"
    }
   ],
   "source": [
    "traits_original = DataFrame(Trait1 = famfile[:, 7], Trait2 = famfile[:, 8])"
   ]
  },
  {
   "cell_type": "markdown",
   "metadata": {},
   "source": [
    "# Summary Statistics of the original Mendel 28e dataset:\n",
    "\n",
    "Note we want to see similar values from our simulated traits!"
   ]
  },
  {
   "cell_type": "code",
   "execution_count": 5,
   "metadata": {},
   "outputs": [
    {
     "data": {
      "text/html": [
       "<table class=\"data-frame\"><thead><tr><th></th><th>variable</th><th>mean</th><th>min</th><th>median</th><th>max</th><th>nunique</th><th>nmissing</th><th>eltype</th></tr><tr><th></th><th>Symbol</th><th>Float64</th><th>Float64</th><th>Nothing</th><th>Float64</th><th>Int64</th><th>Int64</th><th>DataType</th></tr></thead><tbody><p>2 rows × 8 columns</p><tr><th>1</th><td>Trait1</td><td>37.8602</td><td>29.2403</td><td></td><td>47.8619</td><td>212</td><td>0</td><td>Any</td></tr><tr><th>2</th><td>Trait2</td><td>18.472</td><td>9.2421</td><td></td><td>27.5554</td><td>212</td><td>0</td><td>Any</td></tr></tbody></table>"
      ],
      "text/latex": [
       "\\begin{tabular}{r|cccccccc}\n",
       "\t& variable & mean & min & median & max & nunique & nmissing & eltype\\\\\n",
       "\t\\hline\n",
       "\t& Symbol & Float64 & Float64 & Nothing & Float64 & Int64 & Int64 & DataType\\\\\n",
       "\t\\hline\n",
       "\t1 & Trait1 & 37.8602 & 29.2403 &  & 47.8619 & 212 & 0 & Any \\\\\n",
       "\t2 & Trait2 & 18.472 & 9.2421 &  & 27.5554 & 212 & 0 & Any \\\\\n",
       "\\end{tabular}\n"
      ],
      "text/plain": [
       "2×8 DataFrame. Omitted printing of 1 columns\n",
       "│ Row │ variable │ mean    │ min     │ median  │ max     │ nunique │ nmissing │\n",
       "│     │ \u001b[90mSymbol\u001b[39m   │ \u001b[90mFloat64\u001b[39m │ \u001b[90mFloat64\u001b[39m │ \u001b[90mNothing\u001b[39m │ \u001b[90mFloat64\u001b[39m │ \u001b[90mInt64\u001b[39m   │ \u001b[90mInt64\u001b[39m    │\n",
       "├─────┼──────────┼─────────┼─────────┼─────────┼─────────┼─────────┼──────────┤\n",
       "│ 1   │ Trait1   │ 37.8602 │ 29.2403 │         │ 47.8619 │ 212     │ 0        │\n",
       "│ 2   │ Trait2   │ 18.472  │ 9.2421  │         │ 27.5554 │ 212     │ 0        │"
      ]
     },
     "execution_count": 5,
     "metadata": {},
     "output_type": "execute_result"
    }
   ],
   "source": [
    "describe(traits_original)"
   ]
  },
  {
   "cell_type": "markdown",
   "metadata": {},
   "source": [
    "Transform sex variable from M/F to 1/-1 as does Mendel 28e data"
   ]
  },
  {
   "cell_type": "code",
   "execution_count": 6,
   "metadata": {},
   "outputs": [
    {
     "data": {
      "text/plain": [
       "212-element Array{Float64,1}:\n",
       " -1.0\n",
       " -1.0\n",
       "  1.0\n",
       "  1.0\n",
       " -1.0\n",
       " -1.0\n",
       "  1.0\n",
       "  1.0\n",
       " -1.0\n",
       "  1.0\n",
       " -1.0\n",
       "  1.0\n",
       " -1.0\n",
       "  ⋮  \n",
       "  1.0\n",
       "  1.0\n",
       "  1.0\n",
       " -1.0\n",
       "  1.0\n",
       "  1.0\n",
       "  1.0\n",
       "  1.0\n",
       "  1.0\n",
       "  1.0\n",
       "  1.0\n",
       "  1.0"
      ]
     },
     "execution_count": 6,
     "metadata": {},
     "output_type": "execute_result"
    }
   ],
   "source": [
    "sex = map(x -> strip(x) == \"F\" ? -1.0 : 1.0, famfile[:, 5])"
   ]
  },
  {
   "cell_type": "markdown",
   "metadata": {},
   "source": [
    "### Names of Variants:"
   ]
  },
  {
   "cell_type": "markdown",
   "metadata": {},
   "source": [
    "We want to find the index of the causal snp, rs10412915, in the snp_definition file and then subset that snp from the genetic marker data above. \n",
    "We subset the SNP names into a vector called `snpid`"
   ]
  },
  {
   "cell_type": "code",
   "execution_count": 7,
   "metadata": {},
   "outputs": [
    {
     "data": {
      "text/plain": [
       "253141-element Array{SubString{String},1}:\n",
       " \"rs3020701\"  \n",
       " \"rs56343121\" \n",
       " \"rs143501051\"\n",
       " \"rs56182540\" \n",
       " \"rs7260412\"  \n",
       " \"rs11669393\" \n",
       " \"rs181646587\"\n",
       " \"rs8106297\"  \n",
       " \"rs8106302\"  \n",
       " \"rs183568620\"\n",
       " \"rs186451972\"\n",
       " \"rs189699222\"\n",
       " \"rs182902214\"\n",
       " ⋮            \n",
       " \"rs188169422\"\n",
       " \"rs144587467\"\n",
       " \"rs139879509\"\n",
       " \"rs143250448\"\n",
       " \"rs145384750\"\n",
       " \"rs149215836\"\n",
       " \"rs139221927\"\n",
       " \"rs181848453\"\n",
       " \"rs138318162\"\n",
       " \"rs186913222\"\n",
       " \"rs141816674\"\n",
       " \"rs150801216\""
      ]
     },
     "execution_count": 7,
     "metadata": {},
     "output_type": "execute_result"
    }
   ],
   "source": [
    "snpdef28_1 = readdlm(\"traitsim28e.bim\", Any; header = false)\n",
    "snpid = map(x -> strip(string(x)), snpdef28_1[:, 1])"
   ]
  },
  {
   "cell_type": "markdown",
   "metadata": {},
   "source": [
    "# Example 1: User Specified Model\n",
    "\n",
    "In this example we suppose that the user knows which causal snp they want to have an effect on the Trait. To save computing time and memory, we can simply call it by their names in `snpid`, and subset only those specified SNP's for the analysis."
   ]
  },
  {
   "cell_type": "markdown",
   "metadata": {},
   "source": [
    "We see that the causal snp, rs10412915, is the 236074th variant in the snp dataset."
   ]
  },
  {
   "cell_type": "code",
   "execution_count": 8,
   "metadata": {},
   "outputs": [
    {
     "data": {
      "text/plain": [
       "236074"
      ]
     },
     "execution_count": 8,
     "metadata": {},
     "output_type": "execute_result"
    }
   ],
   "source": [
    "ind_rs10412915 = findall(x -> x == \"rs10412915\", snpid)[1]"
   ]
  },
  {
   "cell_type": "markdown",
   "metadata": {},
   "source": [
    "Let's create a design matrix for the alternative model that includes sex and locus rs10412915."
   ]
  },
  {
   "cell_type": "code",
   "execution_count": 9,
   "metadata": {},
   "outputs": [
    {
     "data": {
      "text/html": [
       "<table class=\"data-frame\"><thead><tr><th></th><th>sex</th><th>locus</th></tr><tr><th></th><th>Float64</th><th>Float64</th></tr></thead><tbody><p>212 rows × 2 columns</p><tr><th>1</th><td>-1.0</td><td>2.0</td></tr><tr><th>2</th><td>-1.0</td><td>0.0</td></tr><tr><th>3</th><td>1.0</td><td>2.0</td></tr><tr><th>4</th><td>1.0</td><td>2.0</td></tr><tr><th>5</th><td>-1.0</td><td>1.0</td></tr><tr><th>6</th><td>-1.0</td><td>1.0</td></tr><tr><th>7</th><td>1.0</td><td>1.0</td></tr><tr><th>8</th><td>1.0</td><td>2.0</td></tr><tr><th>9</th><td>-1.0</td><td>1.0</td></tr><tr><th>10</th><td>1.0</td><td>1.0</td></tr><tr><th>11</th><td>-1.0</td><td>0.0</td></tr><tr><th>12</th><td>1.0</td><td>0.0</td></tr><tr><th>13</th><td>-1.0</td><td>0.0</td></tr><tr><th>14</th><td>-1.0</td><td>1.0</td></tr><tr><th>15</th><td>-1.0</td><td>2.0</td></tr><tr><th>16</th><td>1.0</td><td>1.0</td></tr><tr><th>17</th><td>-1.0</td><td>2.0</td></tr><tr><th>18</th><td>1.0</td><td>2.0</td></tr><tr><th>19</th><td>-1.0</td><td>2.0</td></tr><tr><th>20</th><td>1.0</td><td>1.0</td></tr><tr><th>21</th><td>-1.0</td><td>1.0</td></tr><tr><th>22</th><td>1.0</td><td>2.0</td></tr><tr><th>23</th><td>1.0</td><td>2.0</td></tr><tr><th>24</th><td>1.0</td><td>1.0</td></tr><tr><th>25</th><td>-1.0</td><td>2.0</td></tr><tr><th>26</th><td>1.0</td><td>2.0</td></tr><tr><th>27</th><td>-1.0</td><td>2.0</td></tr><tr><th>28</th><td>-1.0</td><td>1.0</td></tr><tr><th>29</th><td>1.0</td><td>1.0</td></tr><tr><th>30</th><td>1.0</td><td>0.0</td></tr><tr><th>&vellip;</th><td>&vellip;</td><td>&vellip;</td></tr></tbody></table>"
      ],
      "text/latex": [
       "\\begin{tabular}{r|cc}\n",
       "\t& sex & locus\\\\\n",
       "\t\\hline\n",
       "\t& Float64 & Float64\\\\\n",
       "\t\\hline\n",
       "\t1 & -1.0 & 2.0 \\\\\n",
       "\t2 & -1.0 & 0.0 \\\\\n",
       "\t3 & 1.0 & 2.0 \\\\\n",
       "\t4 & 1.0 & 2.0 \\\\\n",
       "\t5 & -1.0 & 1.0 \\\\\n",
       "\t6 & -1.0 & 1.0 \\\\\n",
       "\t7 & 1.0 & 1.0 \\\\\n",
       "\t8 & 1.0 & 2.0 \\\\\n",
       "\t9 & -1.0 & 1.0 \\\\\n",
       "\t10 & 1.0 & 1.0 \\\\\n",
       "\t11 & -1.0 & 0.0 \\\\\n",
       "\t12 & 1.0 & 0.0 \\\\\n",
       "\t13 & -1.0 & 0.0 \\\\\n",
       "\t14 & -1.0 & 1.0 \\\\\n",
       "\t15 & -1.0 & 2.0 \\\\\n",
       "\t16 & 1.0 & 1.0 \\\\\n",
       "\t17 & -1.0 & 2.0 \\\\\n",
       "\t18 & 1.0 & 2.0 \\\\\n",
       "\t19 & -1.0 & 2.0 \\\\\n",
       "\t20 & 1.0 & 1.0 \\\\\n",
       "\t21 & -1.0 & 1.0 \\\\\n",
       "\t22 & 1.0 & 2.0 \\\\\n",
       "\t23 & 1.0 & 2.0 \\\\\n",
       "\t24 & 1.0 & 1.0 \\\\\n",
       "\t25 & -1.0 & 2.0 \\\\\n",
       "\t26 & 1.0 & 2.0 \\\\\n",
       "\t27 & -1.0 & 2.0 \\\\\n",
       "\t28 & -1.0 & 1.0 \\\\\n",
       "\t29 & 1.0 & 1.0 \\\\\n",
       "\t30 & 1.0 & 0.0 \\\\\n",
       "\t$\\dots$ & $\\dots$ & $\\dots$ \\\\\n",
       "\\end{tabular}\n"
      ],
      "text/plain": [
       "212×2 DataFrame\n",
       "│ Row │ sex     │ locus   │\n",
       "│     │ \u001b[90mFloat64\u001b[39m │ \u001b[90mFloat64\u001b[39m │\n",
       "├─────┼─────────┼─────────┤\n",
       "│ 1   │ -1.0    │ 2.0     │\n",
       "│ 2   │ -1.0    │ 0.0     │\n",
       "│ 3   │ 1.0     │ 2.0     │\n",
       "│ 4   │ 1.0     │ 2.0     │\n",
       "│ 5   │ -1.0    │ 1.0     │\n",
       "│ 6   │ -1.0    │ 1.0     │\n",
       "│ 7   │ 1.0     │ 1.0     │\n",
       "│ 8   │ 1.0     │ 2.0     │\n",
       "│ 9   │ -1.0    │ 1.0     │\n",
       "│ 10  │ 1.0     │ 1.0     │\n",
       "⋮\n",
       "│ 202 │ 1.0     │ 1.0     │\n",
       "│ 203 │ 1.0     │ 2.0     │\n",
       "│ 204 │ -1.0    │ 1.0     │\n",
       "│ 205 │ 1.0     │ 2.0     │\n",
       "│ 206 │ 1.0     │ 1.0     │\n",
       "│ 207 │ 1.0     │ 1.0     │\n",
       "│ 208 │ 1.0     │ 1.0     │\n",
       "│ 209 │ 1.0     │ 1.0     │\n",
       "│ 210 │ 1.0     │ 1.0     │\n",
       "│ 211 │ 1.0     │ 2.0     │\n",
       "│ 212 │ 1.0     │ 0.0     │"
      ]
     },
     "execution_count": 9,
     "metadata": {},
     "output_type": "execute_result"
    }
   ],
   "source": [
    "locus = convert(Vector{Float64}, @view(snpdata[:,ind_rs10412915]))\n",
    "X = DataFrame(sex = sex, locus = locus)"
   ]
  },
  {
   "cell_type": "markdown",
   "metadata": {},
   "source": [
    "### The Variance Covariance Matrix $\\mathbf{\\Sigma}$\n",
    "Recall : $E(\\mathbf{GRM}) = \\Phi$ and $\\mathbf{V} = 2\\mathbf{V_a} \\mathbf{\\Phi} + \\mathbf{V_e} \\mathbf{I}$\n",
    "<br>\n",
    "We will use the same values of $\\mathbf{GRM}$, $V_a$, and $V_e$ for the random effect example (2A), for the mixed effect example (2B) and for the rare variant example (3)."
   ]
  },
  {
   "cell_type": "markdown",
   "metadata": {},
   "source": [
    "We use the SnpArrays.jl package to compute the Genetic Relationship Matrix (GRM)."
   ]
  },
  {
   "cell_type": "code",
   "execution_count": 10,
   "metadata": {},
   "outputs": [],
   "source": [
    "GRM = grm(snpdata, method= :GRM)\n",
    "V_A = [4 1; 1 4]\n",
    "V_E = [2.0 0.0; 0.0 2.0]\n",
    "I_n = Matrix{Float64}(I, size(GRM));"
   ]
  },
  {
   "cell_type": "markdown",
   "metadata": {},
   "source": [
    "The corresponding variance covariance matrix, $\\mathbf{Σ}$, is generated here: To create a trait different variance components change $\\Sigma  = V_a \\otimes (2GRM) + V_e \\otimes I$. We create the variance component object `variancecomp` below, to simulate our traits."
   ]
  },
  {
   "cell_type": "code",
   "execution_count": 11,
   "metadata": {},
   "outputs": [],
   "source": [
    "variancecomp = @vc V_A ⊗ GRM + V_E ⊗ I_n;"
   ]
  },
  {
   "cell_type": "markdown",
   "metadata": {},
   "source": [
    "# A) Generalized Linear Model:\n",
    "\n",
    "\n",
    "# Y ∼ N( μ, 1.0)\n",
    "\n",
    "# μ = ? \n",
    "\n",
    "This example simulates a case where three snps have fixed effects on the trait. Any apparent genetic correlation between relatives for the trait is due to the effect of these snps, so once these effects of these snps are modelled there should be no residual correlation among relatives. Note that by default, individuals with missing genotype values will have missing phenotype values, unless the user specifies the argument `impute = true` in the convert function above.\n",
    "Be sure to change srand(1111) to something else (or comment out) if you want to generate a new data set. \n"
   ]
  },
  {
   "cell_type": "markdown",
   "metadata": {},
   "source": [
    "# Simulating Traits under Null Model\n",
    "\n",
    "We simulate the two traits under the null model, with intercepts only. "
   ]
  },
  {
   "cell_type": "code",
   "execution_count": 12,
   "metadata": {},
   "outputs": [
    {
     "data": {
      "text/html": [
       "<table class=\"data-frame\"><thead><tr><th></th><th>trait1</th><th>trait2</th></tr><tr><th></th><th>Float64</th><th>Float64</th></tr></thead><tbody><p>212 rows × 2 columns</p><tr><th>1</th><td>41.7539</td><td>22.2263</td></tr><tr><th>2</th><td>39.2975</td><td>21.1787</td></tr><tr><th>3</th><td>39.8776</td><td>17.6752</td></tr><tr><th>4</th><td>38.5322</td><td>20.4645</td></tr><tr><th>5</th><td>40.3502</td><td>17.7098</td></tr><tr><th>6</th><td>40.351</td><td>15.354</td></tr><tr><th>7</th><td>41.5968</td><td>21.0145</td></tr><tr><th>8</th><td>37.9784</td><td>20.7133</td></tr><tr><th>9</th><td>36.1813</td><td>15.8798</td></tr><tr><th>10</th><td>38.7386</td><td>14.3234</td></tr><tr><th>11</th><td>39.867</td><td>18.8645</td></tr><tr><th>12</th><td>37.752</td><td>17.2525</td></tr><tr><th>13</th><td>40.1668</td><td>18.4824</td></tr><tr><th>14</th><td>41.6185</td><td>22.319</td></tr><tr><th>15</th><td>34.376</td><td>12.0444</td></tr><tr><th>16</th><td>42.4617</td><td>25.1222</td></tr><tr><th>17</th><td>42.4078</td><td>18.0375</td></tr><tr><th>18</th><td>41.5037</td><td>17.6255</td></tr><tr><th>19</th><td>40.4083</td><td>23.7343</td></tr><tr><th>20</th><td>39.3867</td><td>24.1265</td></tr><tr><th>21</th><td>42.2888</td><td>19.4095</td></tr><tr><th>22</th><td>40.457</td><td>21.277</td></tr><tr><th>23</th><td>40.2219</td><td>19.3328</td></tr><tr><th>24</th><td>44.023</td><td>20.4646</td></tr><tr><th>25</th><td>33.4495</td><td>17.5844</td></tr><tr><th>26</th><td>38.0355</td><td>17.1071</td></tr><tr><th>27</th><td>34.4826</td><td>18.0047</td></tr><tr><th>28</th><td>38.5733</td><td>16.1624</td></tr><tr><th>29</th><td>39.9473</td><td>18.2165</td></tr><tr><th>30</th><td>38.6997</td><td>20.2377</td></tr><tr><th>&vellip;</th><td>&vellip;</td><td>&vellip;</td></tr></tbody></table>"
      ],
      "text/latex": [
       "\\begin{tabular}{r|cc}\n",
       "\t& trait1 & trait2\\\\\n",
       "\t\\hline\n",
       "\t& Float64 & Float64\\\\\n",
       "\t\\hline\n",
       "\t1 & 41.7539 & 22.2263 \\\\\n",
       "\t2 & 39.2975 & 21.1787 \\\\\n",
       "\t3 & 39.8776 & 17.6752 \\\\\n",
       "\t4 & 38.5322 & 20.4645 \\\\\n",
       "\t5 & 40.3502 & 17.7098 \\\\\n",
       "\t6 & 40.351 & 15.354 \\\\\n",
       "\t7 & 41.5968 & 21.0145 \\\\\n",
       "\t8 & 37.9784 & 20.7133 \\\\\n",
       "\t9 & 36.1813 & 15.8798 \\\\\n",
       "\t10 & 38.7386 & 14.3234 \\\\\n",
       "\t11 & 39.867 & 18.8645 \\\\\n",
       "\t12 & 37.752 & 17.2525 \\\\\n",
       "\t13 & 40.1668 & 18.4824 \\\\\n",
       "\t14 & 41.6185 & 22.319 \\\\\n",
       "\t15 & 34.376 & 12.0444 \\\\\n",
       "\t16 & 42.4617 & 25.1222 \\\\\n",
       "\t17 & 42.4078 & 18.0375 \\\\\n",
       "\t18 & 41.5037 & 17.6255 \\\\\n",
       "\t19 & 40.4083 & 23.7343 \\\\\n",
       "\t20 & 39.3867 & 24.1265 \\\\\n",
       "\t21 & 42.2888 & 19.4095 \\\\\n",
       "\t22 & 40.457 & 21.277 \\\\\n",
       "\t23 & 40.2219 & 19.3328 \\\\\n",
       "\t24 & 44.023 & 20.4646 \\\\\n",
       "\t25 & 33.4495 & 17.5844 \\\\\n",
       "\t26 & 38.0355 & 17.1071 \\\\\n",
       "\t27 & 34.4826 & 18.0047 \\\\\n",
       "\t28 & 38.5733 & 16.1624 \\\\\n",
       "\t29 & 39.9473 & 18.2165 \\\\\n",
       "\t30 & 38.6997 & 20.2377 \\\\\n",
       "\t$\\dots$ & $\\dots$ & $\\dots$ \\\\\n",
       "\\end{tabular}\n"
      ],
      "text/plain": [
       "212×2 DataFrame\n",
       "│ Row │ trait1  │ trait2  │\n",
       "│     │ \u001b[90mFloat64\u001b[39m │ \u001b[90mFloat64\u001b[39m │\n",
       "├─────┼─────────┼─────────┤\n",
       "│ 1   │ 41.7539 │ 22.2263 │\n",
       "│ 2   │ 39.2975 │ 21.1787 │\n",
       "│ 3   │ 39.8776 │ 17.6752 │\n",
       "│ 4   │ 38.5322 │ 20.4645 │\n",
       "│ 5   │ 40.3502 │ 17.7098 │\n",
       "│ 6   │ 40.351  │ 15.354  │\n",
       "│ 7   │ 41.5968 │ 21.0145 │\n",
       "│ 8   │ 37.9784 │ 20.7133 │\n",
       "│ 9   │ 36.1813 │ 15.8798 │\n",
       "│ 10  │ 38.7386 │ 14.3234 │\n",
       "⋮\n",
       "│ 202 │ 41.4291 │ 18.3765 │\n",
       "│ 203 │ 42.4768 │ 21.0563 │\n",
       "│ 204 │ 40.8957 │ 20.6397 │\n",
       "│ 205 │ 42.3372 │ 19.4617 │\n",
       "│ 206 │ 38.8865 │ 18.1333 │\n",
       "│ 207 │ 37.3492 │ 22.0179 │\n",
       "│ 208 │ 42.6332 │ 23.4447 │\n",
       "│ 209 │ 41.6051 │ 16.1178 │\n",
       "│ 210 │ 35.4395 │ 20.0268 │\n",
       "│ 211 │ 41.1311 │ 23.2868 │\n",
       "│ 212 │ 38.6527 │ 17.8581 │"
      ]
     },
     "execution_count": 12,
     "metadata": {},
     "output_type": "execute_result"
    }
   ],
   "source": [
    "#trait_null = simulate(LMMTrait([\"40\", \"20\"], X, variancecomp))\n",
    "trait_null_weird = simulate(LMMTrait([\"40 + 0(sex) + 0(locus)\", \"20 + 0(sex) + 0(locus)\"], X, variancecomp))"
   ]
  },
  {
   "cell_type": "code",
   "execution_count": 13,
   "metadata": {},
   "outputs": [
    {
     "data": {
      "text/html": [
       "<table class=\"data-frame\"><thead><tr><th></th><th>trait1</th><th>trait2</th></tr><tr><th></th><th>Float64</th><th>Float64</th></tr></thead><tbody><p>212 rows × 2 columns</p><tr><th>1</th><td>43.4836</td><td>23.9638</td></tr><tr><th>2</th><td>49.3585</td><td>28.2032</td></tr><tr><th>3</th><td>40.9944</td><td>18.4056</td></tr><tr><th>4</th><td>42.0447</td><td>23.4854</td></tr><tr><th>5</th><td>44.9094</td><td>34.8414</td></tr><tr><th>6</th><td>42.431</td><td>26.8722</td></tr><tr><th>7</th><td>42.3989</td><td>24.1662</td></tr><tr><th>8</th><td>40.4534</td><td>24.0244</td></tr><tr><th>9</th><td>38.2909</td><td>21.1426</td></tr><tr><th>10</th><td>39.8644</td><td>24.3895</td></tr><tr><th>11</th><td>43.4023</td><td>25.7876</td></tr><tr><th>12</th><td>39.8582</td><td>21.9773</td></tr><tr><th>13</th><td>38.4277</td><td>22.0254</td></tr><tr><th>14</th><td>37.0938</td><td>17.0116</td></tr><tr><th>15</th><td>37.1124</td><td>18.1318</td></tr><tr><th>16</th><td>40.9516</td><td>25.5225</td></tr><tr><th>17</th><td>39.7242</td><td>20.6689</td></tr><tr><th>18</th><td>40.7996</td><td>21.4867</td></tr><tr><th>19</th><td>43.6255</td><td>24.1539</td></tr><tr><th>20</th><td>37.4504</td><td>22.0678</td></tr><tr><th>21</th><td>37.0721</td><td>16.563</td></tr><tr><th>22</th><td>39.8929</td><td>23.0431</td></tr><tr><th>23</th><td>40.3028</td><td>17.9076</td></tr><tr><th>24</th><td>46.085</td><td>24.3081</td></tr><tr><th>25</th><td>34.3057</td><td>19.3836</td></tr><tr><th>26</th><td>40.7149</td><td>21.9782</td></tr><tr><th>27</th><td>39.4881</td><td>18.5082</td></tr><tr><th>28</th><td>40.9812</td><td>24.0792</td></tr><tr><th>29</th><td>42.7788</td><td>22.4529</td></tr><tr><th>30</th><td>45.4232</td><td>22.6931</td></tr><tr><th>&vellip;</th><td>&vellip;</td><td>&vellip;</td></tr></tbody></table>"
      ],
      "text/latex": [
       "\\begin{tabular}{r|cc}\n",
       "\t& trait1 & trait2\\\\\n",
       "\t\\hline\n",
       "\t& Float64 & Float64\\\\\n",
       "\t\\hline\n",
       "\t1 & 43.4836 & 23.9638 \\\\\n",
       "\t2 & 49.3585 & 28.2032 \\\\\n",
       "\t3 & 40.9944 & 18.4056 \\\\\n",
       "\t4 & 42.0447 & 23.4854 \\\\\n",
       "\t5 & 44.9094 & 34.8414 \\\\\n",
       "\t6 & 42.431 & 26.8722 \\\\\n",
       "\t7 & 42.3989 & 24.1662 \\\\\n",
       "\t8 & 40.4534 & 24.0244 \\\\\n",
       "\t9 & 38.2909 & 21.1426 \\\\\n",
       "\t10 & 39.8644 & 24.3895 \\\\\n",
       "\t11 & 43.4023 & 25.7876 \\\\\n",
       "\t12 & 39.8582 & 21.9773 \\\\\n",
       "\t13 & 38.4277 & 22.0254 \\\\\n",
       "\t14 & 37.0938 & 17.0116 \\\\\n",
       "\t15 & 37.1124 & 18.1318 \\\\\n",
       "\t16 & 40.9516 & 25.5225 \\\\\n",
       "\t17 & 39.7242 & 20.6689 \\\\\n",
       "\t18 & 40.7996 & 21.4867 \\\\\n",
       "\t19 & 43.6255 & 24.1539 \\\\\n",
       "\t20 & 37.4504 & 22.0678 \\\\\n",
       "\t21 & 37.0721 & 16.563 \\\\\n",
       "\t22 & 39.8929 & 23.0431 \\\\\n",
       "\t23 & 40.3028 & 17.9076 \\\\\n",
       "\t24 & 46.085 & 24.3081 \\\\\n",
       "\t25 & 34.3057 & 19.3836 \\\\\n",
       "\t26 & 40.7149 & 21.9782 \\\\\n",
       "\t27 & 39.4881 & 18.5082 \\\\\n",
       "\t28 & 40.9812 & 24.0792 \\\\\n",
       "\t29 & 42.7788 & 22.4529 \\\\\n",
       "\t30 & 45.4232 & 22.6931 \\\\\n",
       "\t$\\dots$ & $\\dots$ & $\\dots$ \\\\\n",
       "\\end{tabular}\n"
      ],
      "text/plain": [
       "212×2 DataFrame\n",
       "│ Row │ trait1  │ trait2  │\n",
       "│     │ \u001b[90mFloat64\u001b[39m │ \u001b[90mFloat64\u001b[39m │\n",
       "├─────┼─────────┼─────────┤\n",
       "│ 1   │ 43.4836 │ 23.9638 │\n",
       "│ 2   │ 49.3585 │ 28.2032 │\n",
       "│ 3   │ 40.9944 │ 18.4056 │\n",
       "│ 4   │ 42.0447 │ 23.4854 │\n",
       "│ 5   │ 44.9094 │ 34.8414 │\n",
       "│ 6   │ 42.431  │ 26.8722 │\n",
       "│ 7   │ 42.3989 │ 24.1662 │\n",
       "│ 8   │ 40.4534 │ 24.0244 │\n",
       "│ 9   │ 38.2909 │ 21.1426 │\n",
       "│ 10  │ 39.8644 │ 24.3895 │\n",
       "⋮\n",
       "│ 202 │ 32.0226 │ 18.0003 │\n",
       "│ 203 │ 35.9208 │ 15.2257 │\n",
       "│ 204 │ 37.3662 │ 13.168  │\n",
       "│ 205 │ 41.9154 │ 18.3508 │\n",
       "│ 206 │ 38.9315 │ 20.201  │\n",
       "│ 207 │ 44.235  │ 18.7073 │\n",
       "│ 208 │ 40.8555 │ 22.6327 │\n",
       "│ 209 │ 40.6884 │ 16.9128 │\n",
       "│ 210 │ 37.864  │ 16.5109 │\n",
       "│ 211 │ 39.7656 │ 18.1423 │\n",
       "│ 212 │ 40.7821 │ 18.3949 │"
      ]
     },
     "execution_count": 13,
     "metadata": {},
     "output_type": "execute_result"
    }
   ],
   "source": [
    "user_formula_string = [\"40\", \"20\"]\n",
    "users_formula_expression = Meta.parse.(user_formula_string)\n",
    "typeof(users_formula_expression)\n",
    "simulate(LMMTrait([\"40\", \"20\"], X, variancecomp))"
   ]
  },
  {
   "cell_type": "markdown",
   "metadata": {},
   "source": [
    "# These are the formulas for the alternative model simulation"
   ]
  },
  {
   "cell_type": "code",
   "execution_count": 14,
   "metadata": {},
   "outputs": [
    {
     "data": {
      "text/plain": [
       "2-element Array{String,1}:\n",
       " \"40 + 3(sex) - 1.5(locus)\"\n",
       " \"20 + 2(sex) - 1.5(locus)\""
      ]
     },
     "execution_count": 14,
     "metadata": {},
     "output_type": "execute_result"
    }
   ],
   "source": [
    "formulas = [\"40 + 3(sex) - 1.5(locus)\", \"20 + 2(sex) - 1.5(locus)\"]"
   ]
  },
  {
   "cell_type": "markdown",
   "metadata": {},
   "source": [
    "# Trait Simulated from Alternative Model "
   ]
  },
  {
   "cell_type": "code",
   "execution_count": 15,
   "metadata": {},
   "outputs": [
    {
     "data": {
      "text/html": [
       "<table class=\"data-frame\"><thead><tr><th></th><th>trait1</th><th>trait2</th></tr><tr><th></th><th>Float64</th><th>Float64</th></tr></thead><tbody><p>212 rows × 2 columns</p><tr><th>1</th><td>32.3437</td><td>19.852</td></tr><tr><th>2</th><td>36.5528</td><td>16.4761</td></tr><tr><th>3</th><td>40.3608</td><td>18.6442</td></tr><tr><th>4</th><td>41.0844</td><td>20.4292</td></tr><tr><th>5</th><td>35.6206</td><td>13.8892</td></tr><tr><th>6</th><td>37.3675</td><td>23.0473</td></tr><tr><th>7</th><td>44.6417</td><td>20.2759</td></tr><tr><th>8</th><td>42.1219</td><td>24.3055</td></tr><tr><th>9</th><td>33.4115</td><td>20.1576</td></tr><tr><th>10</th><td>42.7116</td><td>25.8549</td></tr><tr><th>11</th><td>40.3464</td><td>17.6861</td></tr><tr><th>12</th><td>46.2433</td><td>22.7802</td></tr><tr><th>13</th><td>34.9822</td><td>21.7336</td></tr><tr><th>14</th><td>31.8586</td><td>8.59211</td></tr><tr><th>15</th><td>32.1174</td><td>13.7835</td></tr><tr><th>16</th><td>37.0332</td><td>15.7309</td></tr><tr><th>17</th><td>26.8913</td><td>8.82807</td></tr><tr><th>18</th><td>34.5392</td><td>10.4464</td></tr><tr><th>19</th><td>29.8914</td><td>7.86279</td></tr><tr><th>20</th><td>37.5145</td><td>17.7343</td></tr><tr><th>21</th><td>36.687</td><td>11.9971</td></tr><tr><th>22</th><td>35.005</td><td>15.7563</td></tr><tr><th>23</th><td>38.3462</td><td>11.8902</td></tr><tr><th>24</th><td>33.9166</td><td>17.2629</td></tr><tr><th>25</th><td>30.2926</td><td>13.11</td></tr><tr><th>26</th><td>44.5205</td><td>19.6688</td></tr><tr><th>27</th><td>36.3761</td><td>14.0214</td></tr><tr><th>28</th><td>36.3362</td><td>18.5969</td></tr><tr><th>29</th><td>44.5899</td><td>22.6661</td></tr><tr><th>30</th><td>43.6302</td><td>27.9532</td></tr><tr><th>&vellip;</th><td>&vellip;</td><td>&vellip;</td></tr></tbody></table>"
      ],
      "text/latex": [
       "\\begin{tabular}{r|cc}\n",
       "\t& trait1 & trait2\\\\\n",
       "\t\\hline\n",
       "\t& Float64 & Float64\\\\\n",
       "\t\\hline\n",
       "\t1 & 32.3437 & 19.852 \\\\\n",
       "\t2 & 36.5528 & 16.4761 \\\\\n",
       "\t3 & 40.3608 & 18.6442 \\\\\n",
       "\t4 & 41.0844 & 20.4292 \\\\\n",
       "\t5 & 35.6206 & 13.8892 \\\\\n",
       "\t6 & 37.3675 & 23.0473 \\\\\n",
       "\t7 & 44.6417 & 20.2759 \\\\\n",
       "\t8 & 42.1219 & 24.3055 \\\\\n",
       "\t9 & 33.4115 & 20.1576 \\\\\n",
       "\t10 & 42.7116 & 25.8549 \\\\\n",
       "\t11 & 40.3464 & 17.6861 \\\\\n",
       "\t12 & 46.2433 & 22.7802 \\\\\n",
       "\t13 & 34.9822 & 21.7336 \\\\\n",
       "\t14 & 31.8586 & 8.59211 \\\\\n",
       "\t15 & 32.1174 & 13.7835 \\\\\n",
       "\t16 & 37.0332 & 15.7309 \\\\\n",
       "\t17 & 26.8913 & 8.82807 \\\\\n",
       "\t18 & 34.5392 & 10.4464 \\\\\n",
       "\t19 & 29.8914 & 7.86279 \\\\\n",
       "\t20 & 37.5145 & 17.7343 \\\\\n",
       "\t21 & 36.687 & 11.9971 \\\\\n",
       "\t22 & 35.005 & 15.7563 \\\\\n",
       "\t23 & 38.3462 & 11.8902 \\\\\n",
       "\t24 & 33.9166 & 17.2629 \\\\\n",
       "\t25 & 30.2926 & 13.11 \\\\\n",
       "\t26 & 44.5205 & 19.6688 \\\\\n",
       "\t27 & 36.3761 & 14.0214 \\\\\n",
       "\t28 & 36.3362 & 18.5969 \\\\\n",
       "\t29 & 44.5899 & 22.6661 \\\\\n",
       "\t30 & 43.6302 & 27.9532 \\\\\n",
       "\t$\\dots$ & $\\dots$ & $\\dots$ \\\\\n",
       "\\end{tabular}\n"
      ],
      "text/plain": [
       "212×2 DataFrame\n",
       "│ Row │ trait1  │ trait2  │\n",
       "│     │ \u001b[90mFloat64\u001b[39m │ \u001b[90mFloat64\u001b[39m │\n",
       "├─────┼─────────┼─────────┤\n",
       "│ 1   │ 32.3437 │ 19.852  │\n",
       "│ 2   │ 36.5528 │ 16.4761 │\n",
       "│ 3   │ 40.3608 │ 18.6442 │\n",
       "│ 4   │ 41.0844 │ 20.4292 │\n",
       "│ 5   │ 35.6206 │ 13.8892 │\n",
       "│ 6   │ 37.3675 │ 23.0473 │\n",
       "│ 7   │ 44.6417 │ 20.2759 │\n",
       "│ 8   │ 42.1219 │ 24.3055 │\n",
       "│ 9   │ 33.4115 │ 20.1576 │\n",
       "│ 10  │ 42.7116 │ 25.8549 │\n",
       "⋮\n",
       "│ 202 │ 44.2931 │ 25.6112 │\n",
       "│ 203 │ 46.9549 │ 22.2981 │\n",
       "│ 204 │ 37.3151 │ 18.985  │\n",
       "│ 205 │ 39.8387 │ 17.1342 │\n",
       "│ 206 │ 38.0638 │ 18.1974 │\n",
       "│ 207 │ 40.4648 │ 22.1902 │\n",
       "│ 208 │ 38.9647 │ 23.487  │\n",
       "│ 209 │ 38.4062 │ 14.2889 │\n",
       "│ 210 │ 40.9925 │ 19.2256 │\n",
       "│ 211 │ 36.904  │ 17.628  │\n",
       "│ 212 │ 42.4768 │ 21.8759 │"
      ]
     },
     "execution_count": 15,
     "metadata": {},
     "output_type": "execute_result"
    }
   ],
   "source": [
    "alternative_model = LMMTrait(formulas, X, variancecomp)\n",
    "trait_alternative = simulate(LMMTrait(formulas, X, variancecomp))"
   ]
  },
  {
   "cell_type": "code",
   "execution_count": 16,
   "metadata": {},
   "outputs": [
    {
     "data": {
      "text/html": [
       "<table class=\"data-frame\"><thead><tr><th></th><th>variable</th><th>mean</th><th>min</th><th>median</th><th>max</th><th>nunique</th><th>nmissing</th><th>eltype</th></tr><tr><th></th><th>Symbol</th><th>Float64</th><th>Float64</th><th>Float64</th><th>Float64</th><th>Nothing</th><th>Nothing</th><th>DataType</th></tr></thead><tbody><p>2 rows × 8 columns</p><tr><th>1</th><td>trait1</td><td>38.306</td><td>26.5297</td><td>38.4138</td><td>49.3515</td><td></td><td></td><td>Float64</td></tr><tr><th>2</th><td>trait2</td><td>18.0051</td><td>7.86279</td><td>17.6972</td><td>30.3197</td><td></td><td></td><td>Float64</td></tr></tbody></table>"
      ],
      "text/latex": [
       "\\begin{tabular}{r|cccccccc}\n",
       "\t& variable & mean & min & median & max & nunique & nmissing & eltype\\\\\n",
       "\t\\hline\n",
       "\t& Symbol & Float64 & Float64 & Float64 & Float64 & Nothing & Nothing & DataType\\\\\n",
       "\t\\hline\n",
       "\t1 & trait1 & 38.306 & 26.5297 & 38.4138 & 49.3515 &  &  & Float64 \\\\\n",
       "\t2 & trait2 & 18.0051 & 7.86279 & 17.6972 & 30.3197 &  &  & Float64 \\\\\n",
       "\\end{tabular}\n"
      ],
      "text/plain": [
       "2×8 DataFrame. Omitted printing of 1 columns\n",
       "│ Row │ variable │ mean    │ min     │ median  │ max     │ nunique │ nmissing │\n",
       "│     │ \u001b[90mSymbol\u001b[39m   │ \u001b[90mFloat64\u001b[39m │ \u001b[90mFloat64\u001b[39m │ \u001b[90mFloat64\u001b[39m │ \u001b[90mFloat64\u001b[39m │ \u001b[90mNothing\u001b[39m │ \u001b[90mNothing\u001b[39m  │\n",
       "├─────┼──────────┼─────────┼─────────┼─────────┼─────────┼─────────┼──────────┤\n",
       "│ 1   │ trait1   │ 38.306  │ 26.5297 │ 38.4138 │ 49.3515 │         │          │\n",
       "│ 2   │ trait2   │ 18.0051 │ 7.86279 │ 17.6972 │ 30.3197 │         │          │"
      ]
     },
     "execution_count": 16,
     "metadata": {},
     "output_type": "execute_result"
    }
   ],
   "source": [
    "describe(trait_alternative)"
   ]
  },
  {
   "cell_type": "markdown",
   "metadata": {},
   "source": [
    "## 21 Rare SNPs for Simulation\n",
    "\n",
    "Here are the 21 SNP's that will be used for trait simulation in this example. \n",
    "\n",
    "For this demo, the indexing `snpid[rare_index][1:2:41]` allows us to subset every other rare snp in the first 41 SNPs, to get our list of 21 rare SNPs. Change the range and number of SNPs to simulate with more or less SNPs and from different regions of the genome. "
   ]
  },
  {
   "cell_type": "code",
   "execution_count": 17,
   "metadata": {},
   "outputs": [
    {
     "data": {
      "text/plain": [
       "253141-element Array{Float64,1}:\n",
       " 0.01650943396226412 \n",
       " 0.08254716981132071 \n",
       " 0.009433962264150943\n",
       " 0.08726415094339623 \n",
       " 0.08490566037735847 \n",
       " 0.02594339622641506 \n",
       " 0.014150943396226415\n",
       " 0.05896226415094341 \n",
       " 0.05896226415094341 \n",
       " 0.018867924528301886\n",
       " 0.08490566037735847 \n",
       " 0.025943396226415096\n",
       " 0.009433962264150941\n",
       " ⋮                   \n",
       " 0.08254716981132071 \n",
       " 0.01179245283018868 \n",
       " 0.3136792452830188  \n",
       " 0.2806603773584906  \n",
       " 0.28773584905660377 \n",
       " 0.37028301886792453 \n",
       " 0.30660377358490565 \n",
       " 0.07075471698113212 \n",
       " 0.04481132075471698 \n",
       " 0.2169811320754717  \n",
       " 0.2806603773584906  \n",
       " 0.2783018867924528  "
      ]
     },
     "execution_count": 17,
     "metadata": {},
     "output_type": "execute_result"
    }
   ],
   "source": [
    "minor_allele_frequency = maf(snpdata)"
   ]
  },
  {
   "cell_type": "code",
   "execution_count": 18,
   "metadata": {},
   "outputs": [
    {
     "data": {
      "text/plain": [
       "21-element Array{SubString{String},1}:\n",
       " \"rs3020701\"  \n",
       " \"rs181646587\"\n",
       " \"rs182902214\"\n",
       " \"rs184527030\"\n",
       " \"rs10409990\" \n",
       " \"rs185166611\"\n",
       " \"rs181637538\"\n",
       " \"rs186213888\"\n",
       " \"rs184010370\"\n",
       " \"rs11667161\" \n",
       " \"rs188819713\"\n",
       " \"rs182378235\"\n",
       " \"rs146361744\"\n",
       " \"rs190575937\"\n",
       " \"rs149949827\"\n",
       " \"rs117671630\"\n",
       " \"rs149171388\"\n",
       " \"rs188520640\"\n",
       " \"rs142722885\"\n",
       " \"rs146938393\"\n",
       " \"rs184561383\""
      ]
     },
     "execution_count": 18,
     "metadata": {},
     "output_type": "execute_result"
    }
   ],
   "source": [
    "#rare_snps = minor_allele_frequency(0.002 .< maf .≤ 0.02)\n",
    "rare_snps_for_simulation = snpid[(0.002 .< minor_allele_frequency .≤ 0.02)][1:2:41]"
   ]
  },
  {
   "cell_type": "code",
   "execution_count": 19,
   "metadata": {},
   "outputs": [
    {
     "ename": "UndefVarError",
     "evalue": "UndefVarError: data_rare not defined",
     "output_type": "error",
     "traceback": [
      "UndefVarError: data_rare not defined",
      "",
      "Stacktrace:",
      " [1] top-level scope at In[19]:1"
     ]
    }
   ],
   "source": [
    "geno_rare21_converted = convert(DataFrame, convert(Matrix{Float64}, data_rare[:, 1:2:41]))\n",
    "names!(geno_rare21_converted, Symbol.(rare_snps_for_simulation))"
   ]
  },
  {
   "cell_type": "markdown",
   "metadata": {},
   "source": [
    "## Generating Effect Sizes \n",
    "\n",
    "For demonstration purposes, we simulate effect sizes from the Chi-squared(df = 1) distribution, where we use the minor allele frequency (maf) as x and find f(x) where f is the pdf for the Chi-squared (df = 1) density, so that the rarest SNP's have the biggest effect sizes. The effect sizes are rounded to the second digit, throughout this example. Notice there is a random +1 or -1, so that there are effects that both increase and decrease the simulated trait value.\n",
    "\n",
    "In addition to the Chi-Squared distribution, we also demo how to simulate from the Exponential distribution, where we use the minor allele frequency (maf) as x and find f(x) where f is the pdf for the Exponential density. "
   ]
  },
  {
   "cell_type": "markdown",
   "metadata": {},
   "source": [
    "## Chisquared(df = 1)"
   ]
  },
  {
   "cell_type": "code",
   "execution_count": 20,
   "metadata": {},
   "outputs": [
    {
     "ename": "ArgumentError",
     "evalue": "ArgumentError: Package StatsFuns not found in current path:\n- Run `import Pkg; Pkg.add(\"StatsFuns\")` to install the StatsFuns package.\n",
     "output_type": "error",
     "traceback": [
      "ArgumentError: Package StatsFuns not found in current path:\n- Run `import Pkg; Pkg.add(\"StatsFuns\")` to install the StatsFuns package.\n",
      "",
      "Stacktrace:",
      " [1] require(::Module, ::Symbol) at ./loading.jl:823",
      " [2] top-level scope at In[20]:1"
     ]
    }
   ],
   "source": [
    "# Generating Effect Sizes from Chisquared(df = 1) density\n",
    "using StatsFuns\n",
    "n = length(maf_rare)\n",
    "chisq_coeff = zeros(n)\n",
    "\n",
    "for i in 1:n\n",
    "    chisq_coeff[i] = sign(rand()-.5)*chisqpdf(1, maf_rare[i])/5.0\n",
    "end"
   ]
  },
  {
   "cell_type": "markdown",
   "metadata": {},
   "source": [
    "Take a look at the simulated coefficients on the left, next to the corresponding minor allele frequency. Notice how the more rare SNP's have the largest effect sizes."
   ]
  },
  {
   "cell_type": "code",
   "execution_count": 21,
   "metadata": {},
   "outputs": [
    {
     "ename": "UndefVarError",
     "evalue": "UndefVarError: chisq_coeff not defined",
     "output_type": "error",
     "traceback": [
      "UndefVarError: chisq_coeff not defined",
      "",
      "Stacktrace:",
      " [1] top-level scope at In[21]:1"
     ]
    }
   ],
   "source": [
    "[chisq_coeff maf_rare]"
   ]
  },
  {
   "cell_type": "code",
   "execution_count": 22,
   "metadata": {},
   "outputs": [
    {
     "ename": "UndefVarError",
     "evalue": "UndefVarError: chisq_coeff not defined",
     "output_type": "error",
     "traceback": [
      "UndefVarError: chisq_coeff not defined",
      "",
      "Stacktrace:",
      " [1] top-level scope at In[22]:1"
     ]
    }
   ],
   "source": [
    "simulated_effectsizes_chisq = round.(chisq_coeff, 2)"
   ]
  },
  {
   "cell_type": "code",
   "execution_count": 23,
   "metadata": {},
   "outputs": [
    {
     "ename": "UndefVarError",
     "evalue": "UndefVarError: maf_rare not defined",
     "output_type": "error",
     "traceback": [
      "UndefVarError: maf_rare not defined",
      "",
      "Stacktrace:",
      " [1] top-level scope at In[23]:1"
     ]
    }
   ],
   "source": [
    "simulated_effectsizes_exp = round.(6*exp.(-200*maf_rare), 2)"
   ]
  },
  {
   "cell_type": "markdown",
   "metadata": {},
   "source": [
    "## Function for Mean Model Expression\n",
    "\n",
    "In some cases a large number of variants may be used for simulation. Thus, in this example we create a function where the user inputs a vector of coefficients and a vector of variants for simulation, then the function outputs the mean model expression. \n",
    "\n",
    "The function `FixedEffectTerms`, creates the proper evaluated expression for the simulation process, using the specified vectors of coefficients and snp names. The function outputs `evaluated_fixed_expression` which will be used to estimate the mean effect, `μ` in our mixed effects model. We make use of this function in this example, instead of having to write out all 21 of the coefficients and variant locus names."
   ]
  },
  {
   "cell_type": "code",
   "execution_count": 24,
   "metadata": {},
   "outputs": [
    {
     "data": {
      "text/plain": [
       "FixedEffectTerms (generic function with 1 method)"
      ]
     },
     "execution_count": 24,
     "metadata": {},
     "output_type": "execute_result"
    }
   ],
   "source": [
    "function FixedEffectTerms(effectsizes::AbstractVecOrMat, snps::AbstractVecOrMat)\n",
    " # implementation\n",
    "    fixed_terms = \"\"\n",
    "for i = 1:length(rare_snps_for_simulation)-1\n",
    "    expression = \" + \" * string(simulated_effectsizes_chisq[i]) * \".*\" * \"geno_rare21_converted[:\" *\n",
    "    rare_snps_for_simulation[i] * \"]\"\n",
    "    fixed_terms = fixed_terms * expression\n",
    "end\n",
    " # Output\n",
    "    fixed_expression = parse(fixed_terms)\n",
    "    evaluated_fixed_expression = eval(fixed_expression)\n",
    " return evaluated_fixed_expression\n",
    "end"
   ]
  },
  {
   "cell_type": "markdown",
   "metadata": {},
   "source": [
    "## Saving Simulation Results to Local Machine"
   ]
  },
  {
   "cell_type": "markdown",
   "metadata": {},
   "source": [
    "Write the newly simulated trait into a comma separated (csv) file for later use. Note that the user can specify the separator to '\\t' for tab separated, or another separator of choice. "
   ]
  },
  {
   "cell_type": "markdown",
   "metadata": {},
   "source": [
    "Here we output the simulated trait values for each of the 849 individuals, labeled by their pedigree ID and person ID.\n",
    "\n",
    "In addition, we output the genotypes for the variants used to simulate this trait. Note that we can impute missing genotypes by turning the argument:<br> `impute = true\"`."
   ]
  },
  {
   "cell_type": "code",
   "execution_count": null,
   "metadata": {},
   "outputs": [],
   "source": []
  }
 ],
 "metadata": {
  "kernelspec": {
   "display_name": "Julia 1.0.3",
   "language": "julia",
   "name": "julia-1.0"
  },
  "language_info": {
   "file_extension": ".jl",
   "mimetype": "application/julia",
   "name": "julia",
   "version": "1.0.3"
  },
  "toc": {
   "base_numbering": 1,
   "nav_menu": {},
   "number_sections": true,
   "sideBar": true,
   "skip_h1_title": false,
   "title_cell": "Table of Contents",
   "title_sidebar": "Contents",
   "toc_cell": false,
   "toc_position": {},
   "toc_section_display": true,
   "toc_window_display": false
  }
 },
 "nbformat": 4,
 "nbformat_minor": 2
}
