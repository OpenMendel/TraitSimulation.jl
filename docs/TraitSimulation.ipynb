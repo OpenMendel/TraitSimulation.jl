{
 "cells": [
  {
   "cell_type": "markdown",
   "metadata": {},
   "source": [
    "# Trait Simulation Tutorial\n",
    "\n",
    "Authors: Sarah Ji, Janet Sinsheimer, Kenneth Lange\n",
    "\n",
    "In this notebook we show how to use the `TraitSimulation.jl` package we illustrate how TraitSimulation.jl can easily simulate traits from genotype data, all within the OpenMendel universe. Operating within this universe brings potential advantages over the available software(s) when needed for downstream analysis or study design. \n",
    "\n",
    "Using just a few calls on the command line to the appropriate packages within the OpenMendel, we demonstrate in three easy examples the utilities of the TraitSimulation.jl package.\n",
    "\n",
    "\n",
    "## Background\n",
    "\n",
    "There is a lack of software available to geneticists who wish to calculate power and sample sizes in designing a study on genetics data. Typically, the study power depends on assumptions about the underlying disease model.  Many power calculating software tools operate as a black box and do not allow for customization.  To develop custom tests, researchers can develop their own simulation procedures to carry out power calculations.  One limitation with many existing methods for simulating traits conditional on genotypes is that these methods are limited to normally distributed traits and to fixed effects. \n",
    "\n",
    "This software package, TraitSimuliation.jl addresses the need for simulated trait data in genetic analyses.  This package generates data sets that will allow researchers to accurately check the validity of programs and to calculate power for their proposed studies. This package gives users the ability to easily simulate phenotypic traits under GLMs or LMMs conditional on PLINK formatted genotype data [3]. In addition, we include customized simulation utilities that accompany specific genetic analysis options in Open-Mendel; for example, ordered, multinomial traits. We demonstrate these simulation utilities on the example dataset described below.\n",
    "\n",
    "\n",
    "## Demonstration\n",
    "\n",
    "##### Example Data\n",
    "\n",
    "We use the OpenMendel package [SnpArrays.jl](https://openmendel.github.io/SnpArrays.jl/latest/) to both read in and write out PLINK formatted files. Available in the data directory under the [Example_Data](https://openmendel.github.io/SnpArrays.jl/latest/#Example-data-1) section of this package, we use the file `\"EUR_SUBSET\"` for the demonstration how to simulate phenotypic traits on PLINK formatted data. \n",
    "For convenience we use the common assumption that the residual covariance among two relatives can be captured by the additive genetic variance times twice the kinship coefficient.\n",
    "\n",
    "In each example the user can specify the simulation model parameters, along with the number of repitions for each simulation model as desired. By default, the simulation will return the result of a single simulation.\n"
   ]
  },
  {
   "cell_type": "markdown",
   "metadata": {},
   "source": [
    "### Double check that you are using Julia version 1.0 or higher by checking the machine information"
   ]
  },
  {
   "cell_type": "code",
   "execution_count": 1,
   "metadata": {},
   "outputs": [
    {
     "name": "stdout",
     "output_type": "stream",
     "text": [
      "Julia Version 1.2.0\n",
      "Commit c6da87ff4b (2019-08-20 00:03 UTC)\n",
      "Platform Info:\n",
      "  OS: macOS (x86_64-apple-darwin18.6.0)\n",
      "  CPU: Intel(R) Core(TM) i7-7700HQ CPU @ 2.80GHz\n",
      "  WORD_SIZE: 64\n",
      "  LIBM: libopenlibm\n",
      "  LLVM: libLLVM-6.0.1 (ORCJIT, skylake)\n"
     ]
    }
   ],
   "source": [
    "versioninfo()"
   ]
  },
  {
   "cell_type": "code",
   "execution_count": 2,
   "metadata": {},
   "outputs": [],
   "source": [
    "using Random, Plots, DataFrames, LinearAlgebra \n",
    "using SnpArrays, TraitSimulation, GLM, StatsBase, OrdinalMultinomialModels\n",
    "Random.seed!(1234);"
   ]
  },
  {
   "cell_type": "markdown",
   "metadata": {},
   "source": [
    "# Reading genotype data using SnpArrays\n",
    "\n",
    "First use `SnpArrays.jl` to read in the genotype data. We use PLINK formatted data with the same prefixes for the .bim, .fam, .bed files.\n",
    "\n",
    "SnpArrays is a very useful utility and can do a lot more than just read in the data. More information about all the functionality of SnpArrays can be found at:\n",
    "https://openmendel.github.io/SnpArrays.jl/latest/\n",
    "\n",
    "As missing genotypes are often due to problems making the calls, the called genotypes at a marker with too much missing genotypes are potentially unreliable. By default, SnpArrays filters to keep only the genotypes with success rates greater than 0.98 and the minimum minor allele frequency to be 0.01. If the user wishes to change the stringency, change the number given in filter according to [SnpArrays](https://openmendel.github.io/SnpArrays.jl/latest/#Fitering-1)."
   ]
  },
  {
   "cell_type": "code",
   "execution_count": 3,
   "metadata": {},
   "outputs": [],
   "source": [
    "filename = \"EUR_subset\"\n",
    "EUR = SnpArray(SnpArrays.datadir(filename * \".bed\"));"
   ]
  },
  {
   "cell_type": "code",
   "execution_count": 4,
   "metadata": {},
   "outputs": [
    {
     "data": {
      "text/plain": [
       "(379, 54051)"
      ]
     },
     "execution_count": 4,
     "metadata": {},
     "output_type": "execute_result"
    }
   ],
   "source": [
    "rowmask, colmask =  SnpArrays.filter(EUR)\n",
    "minor_allele_frequency = maf(EUR);\n",
    "people, snps = size(EUR)"
   ]
  },
  {
   "cell_type": "code",
   "execution_count": 5,
   "metadata": {},
   "outputs": [],
   "source": [
    "EUR_data = SnpData(SnpArrays.datadir(filename));"
   ]
  },
  {
   "cell_type": "markdown",
   "metadata": {},
   "source": [
    "Here we will use the rarest snp in our dataset, rs150018646, as the causal snp in our model for demonstration. \n",
    "For users who wish to identify by name, which locus to include, first subset the names of all the loci into a vector called `snpid`  and then call the following command to store our design matrix for the model that includes sex and locus of choice.\n",
    "\n",
    "```{julia}\n",
    "   bimfile = EUR_data.snp_info # store the snp_info with the snp names\n",
    "\n",
    "   snpid  = bimfile[!, :snpid] # store the snp names in the snpid vector\n",
    "   \n",
    "   causal_snp_index = findall(x -> x == \"rs150018646\", snpid) # find the index of the snp of interest by snpid\n",
    "```"
   ]
  },
  {
   "cell_type": "code",
   "execution_count": 6,
   "metadata": {},
   "outputs": [
    {
     "data": {
      "text/plain": [
       "(0.01055408970976257, 82)"
      ]
     },
     "execution_count": 6,
     "metadata": {},
     "output_type": "execute_result"
    }
   ],
   "source": [
    "minimum_maf, causal_snp_index = findmin(minor_allele_frequency)"
   ]
  },
  {
   "cell_type": "markdown",
   "metadata": {},
   "source": [
    "Additionally, we will control for sex, with females as the baseline group, `sex = 0.0`. We want to find the index of this causal locus in the snp_definition (.bim) file and then subset that locus from the genetic marker data above. Make note of julia's ternary operator '?' which allows us to make this conversion efficiently!\n",
    "\n",
    "Using SnpArrays.jl we can then use the `convert` and `@view` commands to get the appropriate conversion from SnpArray to a computable vector of Float64. "
   ]
  },
  {
   "cell_type": "code",
   "execution_count": 7,
   "metadata": {},
   "outputs": [
    {
     "data": {
      "text/plain": [
       "379×3 Array{Float64,2}:\n",
       " 1.0  1.0  2.0\n",
       " 1.0  1.0  1.0\n",
       " 1.0  1.0  2.0\n",
       " 1.0  1.0  2.0\n",
       " 1.0  1.0  2.0\n",
       " 1.0  1.0  2.0\n",
       " 1.0  1.0  2.0\n",
       " 1.0  1.0  2.0\n",
       " 1.0  1.0  2.0\n",
       " 1.0  1.0  2.0\n",
       " 1.0  1.0  2.0\n",
       " 1.0  1.0  2.0\n",
       " 1.0  1.0  2.0\n",
       " ⋮            \n",
       " 1.0  1.0  2.0\n",
       " 1.0  1.0  2.0\n",
       " 1.0  1.0  1.0\n",
       " 1.0  1.0  2.0\n",
       " 1.0  1.0  2.0\n",
       " 1.0  1.0  2.0\n",
       " 1.0  1.0  2.0\n",
       " 1.0  1.0  2.0\n",
       " 1.0  1.0  2.0\n",
       " 1.0  1.0  2.0\n",
       " 1.0  1.0  2.0\n",
       " 1.0  1.0  2.0"
      ]
     },
     "execution_count": 7,
     "metadata": {},
     "output_type": "execute_result"
    }
   ],
   "source": [
    "locus = convert(Vector{Float64}, @view(EUR[:, causal_snp_index]))\n",
    "famfile = EUR_data.person_info\n",
    "sex = map(x -> strip(x) == \"F\" ? 0.0 : 1.0, famfile[!, :sex])\n",
    "intercept = ones(length(sex))\n",
    "X = [intercept sex locus]"
   ]
  },
  {
   "cell_type": "markdown",
   "metadata": {},
   "source": [
    "## Quick QC \n",
    "We can take a quick moment to insure the correct value for the allele frequency of the causal snp.  This will act as a quick quality control (QC) step to validate that the user has found the right snp and that it has the expected allele frequency."
   ]
  },
  {
   "cell_type": "code",
   "execution_count": 8,
   "metadata": {},
   "outputs": [
    {
     "data": {
      "text/plain": [
       "true"
      ]
     },
     "execution_count": 8,
     "metadata": {},
     "output_type": "execute_result"
    }
   ],
   "source": [
    "minor_allele_frequency[causal_snp_index] == 0.01055408970976257"
   ]
  },
  {
   "cell_type": "markdown",
   "metadata": {},
   "source": [
    "# Example 1: Standard Models\n",
    "\n",
    "In this example we first demonstrate how to use the GLM.jl package to simulate a trait from unrelated individuals. We then show how to use our TraitSimulation.jl package to simulate a trait from families.  \n",
    "\n",
    "The notebook is organized as follows:\n",
    "\n",
    "For the first example, we show how to simulate traits from standard models users in the genetics community will recognize. \n",
    "\n",
    "Users can specify to simulate phenotypes from unrelateds or families with user-specified Generalized Linear Models (GLMs) or Linear Mixed Models (LMMs), respectively. Researchers who feel more comfortable viewing the latter as a Variance Component Model(VCM) an additive genetic variance component and environmental variance component, we welcome you to do so. \n",
    "\n",
    "$$ 1 . \\text{GLM}: Y_{n \\times 1} \\sim Poisson(g^{-1}({X \\beta})) $$\n",
    "\n",
    "$$ 2 . \\text{LMM/VCM}: Y_{n \\times p} \\sim \\text{MatrixNormal}(\\mathbf{M}_{n \\times p} = XB, \\Omega_{np \\times np} = \\Sigma_A \\otimes \\Phi + \\Sigma_E \\otimes I_n)$$\n",
    "\n",
    "We show in the next example, models with additional variance components can also be specified, as long as they are sensible (positive semi definite).\n",
    "\n",
    "## GLM Traits from Unrelated Individuals\n",
    "$$\n",
    "    Y \\sim Poisson(\\mu = X\\beta)\n",
    "$$ \n",
    "\n",
    "Here we specify the fixed effects and the phenotype distribution, and output for ten simulations per person. "
   ]
  },
  {
   "cell_type": "code",
   "execution_count": 9,
   "metadata": {},
   "outputs": [
    {
     "data": {
      "text/html": [
       "<table class=\"data-frame\"><thead><tr><th></th><th>Trait1</th><th>Trait2</th><th>Trait3</th><th>Trait4</th><th>Trait5</th><th>Trait6</th><th>Trait7</th><th>Trait8</th><th>Trait9</th><th>Trait10</th></tr><tr><th></th><th>Int64</th><th>Int64</th><th>Int64</th><th>Int64</th><th>Int64</th><th>Int64</th><th>Int64</th><th>Int64</th><th>Int64</th><th>Int64</th></tr></thead><tbody><p>379 rows × 10 columns</p><tr><th>1</th><td>10</td><td>11</td><td>5</td><td>8</td><td>8</td><td>13</td><td>8</td><td>11</td><td>9</td><td>9</td></tr><tr><th>2</th><td>7</td><td>5</td><td>8</td><td>5</td><td>2</td><td>6</td><td>5</td><td>3</td><td>8</td><td>3</td></tr><tr><th>3</th><td>9</td><td>8</td><td>11</td><td>6</td><td>2</td><td>8</td><td>10</td><td>8</td><td>11</td><td>7</td></tr><tr><th>4</th><td>9</td><td>13</td><td>10</td><td>7</td><td>7</td><td>8</td><td>13</td><td>3</td><td>11</td><td>8</td></tr><tr><th>5</th><td>11</td><td>6</td><td>12</td><td>13</td><td>13</td><td>4</td><td>12</td><td>8</td><td>11</td><td>10</td></tr><tr><th>6</th><td>12</td><td>7</td><td>8</td><td>9</td><td>11</td><td>9</td><td>8</td><td>14</td><td>8</td><td>10</td></tr><tr><th>7</th><td>6</td><td>13</td><td>12</td><td>6</td><td>9</td><td>10</td><td>9</td><td>7</td><td>5</td><td>14</td></tr><tr><th>8</th><td>7</td><td>12</td><td>7</td><td>10</td><td>5</td><td>5</td><td>3</td><td>7</td><td>12</td><td>8</td></tr><tr><th>9</th><td>7</td><td>12</td><td>5</td><td>7</td><td>7</td><td>9</td><td>5</td><td>9</td><td>13</td><td>7</td></tr><tr><th>10</th><td>9</td><td>5</td><td>6</td><td>8</td><td>11</td><td>12</td><td>6</td><td>10</td><td>8</td><td>8</td></tr><tr><th>11</th><td>10</td><td>6</td><td>5</td><td>12</td><td>7</td><td>13</td><td>8</td><td>6</td><td>7</td><td>6</td></tr><tr><th>12</th><td>3</td><td>6</td><td>2</td><td>9</td><td>8</td><td>9</td><td>6</td><td>7</td><td>9</td><td>9</td></tr><tr><th>13</th><td>5</td><td>8</td><td>6</td><td>6</td><td>10</td><td>7</td><td>8</td><td>6</td><td>9</td><td>15</td></tr><tr><th>14</th><td>14</td><td>5</td><td>8</td><td>9</td><td>9</td><td>6</td><td>10</td><td>11</td><td>13</td><td>8</td></tr><tr><th>15</th><td>10</td><td>10</td><td>10</td><td>11</td><td>17</td><td>7</td><td>9</td><td>10</td><td>12</td><td>15</td></tr><tr><th>16</th><td>5</td><td>8</td><td>13</td><td>14</td><td>9</td><td>10</td><td>4</td><td>7</td><td>6</td><td>9</td></tr><tr><th>17</th><td>7</td><td>7</td><td>10</td><td>10</td><td>12</td><td>8</td><td>9</td><td>15</td><td>5</td><td>8</td></tr><tr><th>18</th><td>10</td><td>5</td><td>16</td><td>10</td><td>6</td><td>10</td><td>9</td><td>11</td><td>8</td><td>7</td></tr><tr><th>19</th><td>5</td><td>9</td><td>10</td><td>5</td><td>6</td><td>5</td><td>14</td><td>13</td><td>11</td><td>8</td></tr><tr><th>20</th><td>12</td><td>9</td><td>6</td><td>5</td><td>8</td><td>12</td><td>11</td><td>11</td><td>5</td><td>6</td></tr><tr><th>21</th><td>14</td><td>12</td><td>7</td><td>11</td><td>11</td><td>5</td><td>6</td><td>9</td><td>14</td><td>11</td></tr><tr><th>22</th><td>15</td><td>9</td><td>10</td><td>8</td><td>11</td><td>6</td><td>5</td><td>8</td><td>11</td><td>10</td></tr><tr><th>23</th><td>14</td><td>4</td><td>11</td><td>9</td><td>8</td><td>9</td><td>4</td><td>7</td><td>11</td><td>7</td></tr><tr><th>24</th><td>11</td><td>11</td><td>13</td><td>12</td><td>6</td><td>13</td><td>11</td><td>10</td><td>10</td><td>11</td></tr><tr><th>25</th><td>12</td><td>5</td><td>9</td><td>13</td><td>10</td><td>16</td><td>5</td><td>8</td><td>5</td><td>8</td></tr><tr><th>26</th><td>4</td><td>5</td><td>13</td><td>6</td><td>7</td><td>9</td><td>10</td><td>5</td><td>15</td><td>8</td></tr><tr><th>27</th><td>5</td><td>8</td><td>5</td><td>9</td><td>12</td><td>4</td><td>8</td><td>6</td><td>8</td><td>10</td></tr><tr><th>28</th><td>7</td><td>10</td><td>5</td><td>10</td><td>7</td><td>8</td><td>9</td><td>9</td><td>4</td><td>9</td></tr><tr><th>29</th><td>6</td><td>11</td><td>10</td><td>7</td><td>6</td><td>12</td><td>14</td><td>9</td><td>12</td><td>14</td></tr><tr><th>30</th><td>8</td><td>10</td><td>6</td><td>11</td><td>9</td><td>9</td><td>14</td><td>14</td><td>6</td><td>9</td></tr><tr><th>&vellip;</th><td>&vellip;</td><td>&vellip;</td><td>&vellip;</td><td>&vellip;</td><td>&vellip;</td><td>&vellip;</td><td>&vellip;</td><td>&vellip;</td><td>&vellip;</td><td>&vellip;</td></tr></tbody></table>"
      ],
      "text/latex": [
       "\\begin{tabular}{r|cccccccccc}\n",
       "\t& Trait1 & Trait2 & Trait3 & Trait4 & Trait5 & Trait6 & Trait7 & Trait8 & Trait9 & Trait10\\\\\n",
       "\t\\hline\n",
       "\t& Int64 & Int64 & Int64 & Int64 & Int64 & Int64 & Int64 & Int64 & Int64 & Int64\\\\\n",
       "\t\\hline\n",
       "\t1 & 10 & 11 & 5 & 8 & 8 & 13 & 8 & 11 & 9 & 9 \\\\\n",
       "\t2 & 7 & 5 & 8 & 5 & 2 & 6 & 5 & 3 & 8 & 3 \\\\\n",
       "\t3 & 9 & 8 & 11 & 6 & 2 & 8 & 10 & 8 & 11 & 7 \\\\\n",
       "\t4 & 9 & 13 & 10 & 7 & 7 & 8 & 13 & 3 & 11 & 8 \\\\\n",
       "\t5 & 11 & 6 & 12 & 13 & 13 & 4 & 12 & 8 & 11 & 10 \\\\\n",
       "\t6 & 12 & 7 & 8 & 9 & 11 & 9 & 8 & 14 & 8 & 10 \\\\\n",
       "\t7 & 6 & 13 & 12 & 6 & 9 & 10 & 9 & 7 & 5 & 14 \\\\\n",
       "\t8 & 7 & 12 & 7 & 10 & 5 & 5 & 3 & 7 & 12 & 8 \\\\\n",
       "\t9 & 7 & 12 & 5 & 7 & 7 & 9 & 5 & 9 & 13 & 7 \\\\\n",
       "\t10 & 9 & 5 & 6 & 8 & 11 & 12 & 6 & 10 & 8 & 8 \\\\\n",
       "\t11 & 10 & 6 & 5 & 12 & 7 & 13 & 8 & 6 & 7 & 6 \\\\\n",
       "\t12 & 3 & 6 & 2 & 9 & 8 & 9 & 6 & 7 & 9 & 9 \\\\\n",
       "\t13 & 5 & 8 & 6 & 6 & 10 & 7 & 8 & 6 & 9 & 15 \\\\\n",
       "\t14 & 14 & 5 & 8 & 9 & 9 & 6 & 10 & 11 & 13 & 8 \\\\\n",
       "\t15 & 10 & 10 & 10 & 11 & 17 & 7 & 9 & 10 & 12 & 15 \\\\\n",
       "\t16 & 5 & 8 & 13 & 14 & 9 & 10 & 4 & 7 & 6 & 9 \\\\\n",
       "\t17 & 7 & 7 & 10 & 10 & 12 & 8 & 9 & 15 & 5 & 8 \\\\\n",
       "\t18 & 10 & 5 & 16 & 10 & 6 & 10 & 9 & 11 & 8 & 7 \\\\\n",
       "\t19 & 5 & 9 & 10 & 5 & 6 & 5 & 14 & 13 & 11 & 8 \\\\\n",
       "\t20 & 12 & 9 & 6 & 5 & 8 & 12 & 11 & 11 & 5 & 6 \\\\\n",
       "\t21 & 14 & 12 & 7 & 11 & 11 & 5 & 6 & 9 & 14 & 11 \\\\\n",
       "\t22 & 15 & 9 & 10 & 8 & 11 & 6 & 5 & 8 & 11 & 10 \\\\\n",
       "\t23 & 14 & 4 & 11 & 9 & 8 & 9 & 4 & 7 & 11 & 7 \\\\\n",
       "\t24 & 11 & 11 & 13 & 12 & 6 & 13 & 11 & 10 & 10 & 11 \\\\\n",
       "\t25 & 12 & 5 & 9 & 13 & 10 & 16 & 5 & 8 & 5 & 8 \\\\\n",
       "\t26 & 4 & 5 & 13 & 6 & 7 & 9 & 10 & 5 & 15 & 8 \\\\\n",
       "\t27 & 5 & 8 & 5 & 9 & 12 & 4 & 8 & 6 & 8 & 10 \\\\\n",
       "\t28 & 7 & 10 & 5 & 10 & 7 & 8 & 9 & 9 & 4 & 9 \\\\\n",
       "\t29 & 6 & 11 & 10 & 7 & 6 & 12 & 14 & 9 & 12 & 14 \\\\\n",
       "\t30 & 8 & 10 & 6 & 11 & 9 & 9 & 14 & 14 & 6 & 9 \\\\\n",
       "\t$\\dots$ & $\\dots$ & $\\dots$ & $\\dots$ & $\\dots$ & $\\dots$ & $\\dots$ & $\\dots$ & $\\dots$ & $\\dots$ & $\\dots$ \\\\\n",
       "\\end{tabular}\n"
      ],
      "text/plain": [
       "379×10 DataFrame. Omitted printing of 2 columns\n",
       "│ Row │ Trait1 │ Trait2 │ Trait3 │ Trait4 │ Trait5 │ Trait6 │ Trait7 │ Trait8 │\n",
       "│     │ \u001b[90mInt64\u001b[39m  │ \u001b[90mInt64\u001b[39m  │ \u001b[90mInt64\u001b[39m  │ \u001b[90mInt64\u001b[39m  │ \u001b[90mInt64\u001b[39m  │ \u001b[90mInt64\u001b[39m  │ \u001b[90mInt64\u001b[39m  │ \u001b[90mInt64\u001b[39m  │\n",
       "├─────┼────────┼────────┼────────┼────────┼────────┼────────┼────────┼────────┤\n",
       "│ 1   │ 10     │ 11     │ 5      │ 8      │ 8      │ 13     │ 8      │ 11     │\n",
       "│ 2   │ 7      │ 5      │ 8      │ 5      │ 2      │ 6      │ 5      │ 3      │\n",
       "│ 3   │ 9      │ 8      │ 11     │ 6      │ 2      │ 8      │ 10     │ 8      │\n",
       "│ 4   │ 9      │ 13     │ 10     │ 7      │ 7      │ 8      │ 13     │ 3      │\n",
       "│ 5   │ 11     │ 6      │ 12     │ 13     │ 13     │ 4      │ 12     │ 8      │\n",
       "│ 6   │ 12     │ 7      │ 8      │ 9      │ 11     │ 9      │ 8      │ 14     │\n",
       "│ 7   │ 6      │ 13     │ 12     │ 6      │ 9      │ 10     │ 9      │ 7      │\n",
       "│ 8   │ 7      │ 12     │ 7      │ 10     │ 5      │ 5      │ 3      │ 7      │\n",
       "│ 9   │ 7      │ 12     │ 5      │ 7      │ 7      │ 9      │ 5      │ 9      │\n",
       "│ 10  │ 9      │ 5      │ 6      │ 8      │ 11     │ 12     │ 6      │ 10     │\n",
       "⋮\n",
       "│ 369 │ 11     │ 10     │ 7      │ 9      │ 9      │ 4      │ 11     │ 11     │\n",
       "│ 370 │ 3      │ 2      │ 6      │ 6      │ 5      │ 2      │ 4      │ 10     │\n",
       "│ 371 │ 9      │ 9      │ 7      │ 9      │ 16     │ 11     │ 11     │ 9      │\n",
       "│ 372 │ 4      │ 7      │ 12     │ 6      │ 8      │ 9      │ 11     │ 6      │\n",
       "│ 373 │ 11     │ 8      │ 10     │ 8      │ 8      │ 8      │ 7      │ 5      │\n",
       "│ 374 │ 12     │ 8      │ 5      │ 5      │ 11     │ 16     │ 8      │ 6      │\n",
       "│ 375 │ 8      │ 12     │ 10     │ 10     │ 6      │ 5      │ 5      │ 10     │\n",
       "│ 376 │ 9      │ 8      │ 7      │ 8      │ 8      │ 15     │ 6      │ 11     │\n",
       "│ 377 │ 10     │ 10     │ 5      │ 5      │ 10     │ 9      │ 7      │ 9      │\n",
       "│ 378 │ 7      │ 12     │ 7      │ 12     │ 8      │ 14     │ 6      │ 10     │\n",
       "│ 379 │ 3      │ 9      │ 12     │ 14     │ 8      │ 9      │ 8      │ 12     │"
      ]
     },
     "execution_count": 9,
     "metadata": {},
     "output_type": "execute_result"
    }
   ],
   "source": [
    "β = [1; 0.2; 0.5]\n",
    "dist = Poisson()\n",
    "link = LogLink()\n",
    "GLMmodel = GLMTrait(X, β, dist, link)\n",
    "nsim = 10\n",
    "Simulated_GLM_Traits = DataFrame(simulate(GLMmodel, nsim))\n",
    "rename!(Simulated_GLM_Traits, [Symbol(\"Trait$i\") for i in 1:nsim])"
   ]
  },
  {
   "cell_type": "markdown",
   "metadata": {},
   "source": [
    "## Rare Variant VCM Related Individuals\n",
    "\n",
    "In this example we show how to generate data so that the related individuals have correlated trait values even after we account for the effect of a snp, a combination of snps or other fixed effects. We simulate data under a linear mixed model so that we can model residual dependency among individuals. \n",
    "\n",
    "$$\n",
    "Y \\sim \\text{Normal}(\\mathbf{\\mu}_{n \\times 1} = X\\beta, \\Sigma_{n \\times n} = \\sigma_A \\times 2\\Phi + \\sigma_E \\times I_n)\n",
    "$$\n",
    "\n",
    "This example is meant to simulate data in a scenario in which a number of rare mutations in a single gene can change a trait value. We model the residual variation among relatives with the additive genetic variance component and we include 20 rare variants in the mean portion of the model, defined as loci with minor allele frequencies greater than 0.002 but less than 0.02.\n",
    "\n",
    "Specifically we are generating a single normal trait controlling for family structure with residual heritabiity of 67%, and effect sizes for the variants generated as a function of the minor allele frequencies. The rarer the variant the greater its effect size.\n",
    "\n",
    "In practice rare variants have smaller minor allele frequencies, but we are limited in this tutorial by the relatively small size of the data set. Note also that our modeling these effects as part of the mean is not meant to imply that the best way to detect them would be a standard association analysis. Instead we recommend a burden or SKAT test."
   ]
  },
  {
   "cell_type": "code",
   "execution_count": 10,
   "metadata": {},
   "outputs": [],
   "source": [
    "GRM = grm(EUR, minmaf = 0.05);"
   ]
  },
  {
   "cell_type": "markdown",
   "metadata": {},
   "source": [
    "## Filtering\n",
    "\n",
    "We first subset only the rare SNP's, then we simulate traits on the 20 of the rare SNP's. For this demo, we subset the fist k = 20 rare snps. Change the parameters and the number of SNPs for simulation to model different regions of the genome. The number 20 is arbitrary and you can use more or less than 20 if you desire by changing the final number."
   ]
  },
  {
   "cell_type": "code",
   "execution_count": 11,
   "metadata": {},
   "outputs": [],
   "source": [
    "rare_index = (0.002 .< minor_allele_frequency .≤ 0.02)\n",
    "filtsnpdata = SnpArrays.filter(EUR_data, rowmask, rare_index, des = \"rare_filtered_28data\");"
   ]
  },
  {
   "cell_type": "code",
   "execution_count": 12,
   "metadata": {},
   "outputs": [
    {
     "data": {
      "text/plain": [
       "379×7171 SnpArray:\n",
       " 0x03  0x03  0x03  0x03  0x03  0x03  …  0x03  0x03  0x03  0x03  0x03  0x03\n",
       " 0x02  0x03  0x03  0x03  0x03  0x03     0x03  0x03  0x03  0x03  0x03  0x03\n",
       " 0x03  0x03  0x03  0x03  0x03  0x03     0x02  0x03  0x02  0x03  0x03  0x03\n",
       " 0x03  0x03  0x03  0x02  0x03  0x03     0x03  0x03  0x03  0x03  0x03  0x03\n",
       " 0x03  0x03  0x03  0x03  0x03  0x03     0x03  0x03  0x03  0x03  0x03  0x03\n",
       " 0x03  0x03  0x03  0x03  0x03  0x03  …  0x03  0x03  0x03  0x03  0x03  0x03\n",
       " 0x03  0x03  0x03  0x03  0x03  0x03     0x03  0x03  0x03  0x03  0x03  0x03\n",
       " 0x03  0x03  0x03  0x03  0x03  0x03     0x03  0x03  0x03  0x03  0x03  0x03\n",
       " 0x03  0x03  0x03  0x03  0x03  0x03     0x03  0x03  0x03  0x03  0x03  0x03\n",
       " 0x03  0x03  0x03  0x03  0x03  0x03     0x03  0x02  0x03  0x03  0x03  0x03\n",
       " 0x03  0x03  0x03  0x03  0x03  0x03  …  0x03  0x03  0x03  0x03  0x03  0x03\n",
       " 0x03  0x03  0x03  0x02  0x03  0x03     0x03  0x03  0x03  0x03  0x03  0x03\n",
       " 0x02  0x03  0x03  0x03  0x03  0x03     0x03  0x03  0x03  0x03  0x03  0x03\n",
       "    ⋮                             ⋮  ⋱     ⋮                             ⋮\n",
       " 0x03  0x03  0x03  0x03  0x03  0x03     0x03  0x03  0x03  0x03  0x03  0x03\n",
       " 0x03  0x03  0x03  0x03  0x03  0x03     0x03  0x03  0x03  0x03  0x03  0x02\n",
       " 0x03  0x03  0x03  0x03  0x03  0x03     0x03  0x03  0x03  0x03  0x03  0x03\n",
       " 0x03  0x03  0x03  0x03  0x03  0x03  …  0x03  0x03  0x03  0x03  0x03  0x03\n",
       " 0x03  0x03  0x03  0x03  0x03  0x03     0x03  0x03  0x03  0x02  0x03  0x03\n",
       " 0x03  0x03  0x03  0x03  0x03  0x03     0x03  0x03  0x03  0x03  0x03  0x03\n",
       " 0x03  0x03  0x03  0x03  0x03  0x03     0x03  0x03  0x03  0x03  0x03  0x03\n",
       " 0x03  0x03  0x03  0x03  0x03  0x03     0x03  0x03  0x03  0x03  0x03  0x03\n",
       " 0x03  0x03  0x03  0x03  0x03  0x03  …  0x03  0x03  0x02  0x03  0x03  0x03\n",
       " 0x03  0x03  0x03  0x03  0x03  0x03     0x03  0x03  0x03  0x03  0x03  0x03\n",
       " 0x03  0x03  0x02  0x03  0x03  0x03     0x03  0x03  0x03  0x03  0x03  0x03\n",
       " 0x03  0x03  0x03  0x03  0x03  0x03     0x03  0x03  0x03  0x03  0x03  0x03"
      ]
     },
     "execution_count": 12,
     "metadata": {},
     "output_type": "execute_result"
    }
   ],
   "source": [
    "rare_snps = SnpArray(\"rare_filtered_28data.bed\")"
   ]
  },
  {
   "cell_type": "markdown",
   "metadata": {},
   "source": [
    "### Simulation\n",
    "\n",
    "For demonstration purposes, we simulate effect sizes from realistic distributions, where we use the minor allele frequency (maf) as x and find f(x) where f is the pdf for the Chi-squared (df = 1) density, so that the rarest SNP's have the biggest effect sizes. The effect sizes are rounded to the second digit, throughout this example. Notice there is a random +1 or -1, so that there are effects that both increase and decrease the simulated trait value.\n",
    "\n",
    "```julia\n",
    "\n",
    "# Generating Effect Sizes \n",
    "\n",
    "n = length(rare_snps)\n",
    "effect_sizes = zeros(n)\n",
    "\n",
    "for i in 1:n\n",
    "    effect_sizes[i] = rand([-1, 1]) .* (0.1 / sqrt.(maf_rare_snps[i] .* (1 - maf_rare_snps[i])))\n",
    "end\n",
    "```"
   ]
  },
  {
   "cell_type": "code",
   "execution_count": 13,
   "metadata": {},
   "outputs": [
    {
     "data": {
      "text/plain": [
       "Variance Component Model\n",
       "  * number of traits: 1\n",
       "  * number of variance components: 1\n",
       "  * sample size: 379"
      ]
     },
     "execution_count": 13,
     "metadata": {},
     "output_type": "execute_result"
    }
   ],
   "source": [
    "sim_effectsize = simulate_effect_size(minor_allele_frequency[rare_index][1:20])\n",
    "X_rare = @view(rare_snps[:, 1:20])\n",
    "mu = X_rare * sim_effectsize\n",
    "rare_20_snp_model = VCMTrait(mu[:, :], 4*(2*GRM) + 2*(I))"
   ]
  },
  {
   "cell_type": "code",
   "execution_count": 14,
   "metadata": {},
   "outputs": [
    {
     "data": {
      "text/html": [
       "<table class=\"data-frame\"><thead><tr><th></th><th>Trait1</th></tr><tr><th></th><th>Float64</th></tr></thead><tbody><p>379 rows × 1 columns</p><tr><th>1</th><td>8.05867</td></tr><tr><th>2</th><td>14.2267</td></tr><tr><th>3</th><td>10.5112</td></tr><tr><th>4</th><td>6.67995</td></tr><tr><th>5</th><td>13.4649</td></tr><tr><th>6</th><td>10.0289</td></tr><tr><th>7</th><td>7.70729</td></tr><tr><th>8</th><td>9.17434</td></tr><tr><th>9</th><td>6.92844</td></tr><tr><th>10</th><td>13.0706</td></tr><tr><th>11</th><td>12.0975</td></tr><tr><th>12</th><td>9.36559</td></tr><tr><th>13</th><td>8.22128</td></tr><tr><th>14</th><td>7.88176</td></tr><tr><th>15</th><td>10.6868</td></tr><tr><th>16</th><td>11.8909</td></tr><tr><th>17</th><td>13.138</td></tr><tr><th>18</th><td>11.1556</td></tr><tr><th>19</th><td>6.34875</td></tr><tr><th>20</th><td>7.65595</td></tr><tr><th>21</th><td>11.4261</td></tr><tr><th>22</th><td>10.9443</td></tr><tr><th>23</th><td>10.5285</td></tr><tr><th>24</th><td>8.26589</td></tr><tr><th>25</th><td>6.75258</td></tr><tr><th>26</th><td>5.42014</td></tr><tr><th>27</th><td>8.51405</td></tr><tr><th>28</th><td>7.15976</td></tr><tr><th>29</th><td>12.8667</td></tr><tr><th>30</th><td>11.9212</td></tr><tr><th>&vellip;</th><td>&vellip;</td></tr></tbody></table>"
      ],
      "text/latex": [
       "\\begin{tabular}{r|c}\n",
       "\t& Trait1\\\\\n",
       "\t\\hline\n",
       "\t& Float64\\\\\n",
       "\t\\hline\n",
       "\t1 & 8.05867 \\\\\n",
       "\t2 & 14.2267 \\\\\n",
       "\t3 & 10.5112 \\\\\n",
       "\t4 & 6.67995 \\\\\n",
       "\t5 & 13.4649 \\\\\n",
       "\t6 & 10.0289 \\\\\n",
       "\t7 & 7.70729 \\\\\n",
       "\t8 & 9.17434 \\\\\n",
       "\t9 & 6.92844 \\\\\n",
       "\t10 & 13.0706 \\\\\n",
       "\t11 & 12.0975 \\\\\n",
       "\t12 & 9.36559 \\\\\n",
       "\t13 & 8.22128 \\\\\n",
       "\t14 & 7.88176 \\\\\n",
       "\t15 & 10.6868 \\\\\n",
       "\t16 & 11.8909 \\\\\n",
       "\t17 & 13.138 \\\\\n",
       "\t18 & 11.1556 \\\\\n",
       "\t19 & 6.34875 \\\\\n",
       "\t20 & 7.65595 \\\\\n",
       "\t21 & 11.4261 \\\\\n",
       "\t22 & 10.9443 \\\\\n",
       "\t23 & 10.5285 \\\\\n",
       "\t24 & 8.26589 \\\\\n",
       "\t25 & 6.75258 \\\\\n",
       "\t26 & 5.42014 \\\\\n",
       "\t27 & 8.51405 \\\\\n",
       "\t28 & 7.15976 \\\\\n",
       "\t29 & 12.8667 \\\\\n",
       "\t30 & 11.9212 \\\\\n",
       "\t$\\dots$ & $\\dots$ \\\\\n",
       "\\end{tabular}\n"
      ],
      "text/plain": [
       "379×1 DataFrame\n",
       "│ Row │ Trait1  │\n",
       "│     │ \u001b[90mFloat64\u001b[39m │\n",
       "├─────┼─────────┤\n",
       "│ 1   │ 8.05867 │\n",
       "│ 2   │ 14.2267 │\n",
       "│ 3   │ 10.5112 │\n",
       "│ 4   │ 6.67995 │\n",
       "│ 5   │ 13.4649 │\n",
       "│ 6   │ 10.0289 │\n",
       "│ 7   │ 7.70729 │\n",
       "│ 8   │ 9.17434 │\n",
       "│ 9   │ 6.92844 │\n",
       "│ 10  │ 13.0706 │\n",
       "⋮\n",
       "│ 369 │ 5.6482  │\n",
       "│ 370 │ 16.4419 │\n",
       "│ 371 │ 10.5696 │\n",
       "│ 372 │ 10.1463 │\n",
       "│ 373 │ 11.6829 │\n",
       "│ 374 │ 13.6795 │\n",
       "│ 375 │ 8.73518 │\n",
       "│ 376 │ 10.1896 │\n",
       "│ 377 │ 7.8949  │\n",
       "│ 378 │ 5.06232 │\n",
       "│ 379 │ 7.72646 │"
      ]
     },
     "execution_count": 14,
     "metadata": {},
     "output_type": "execute_result"
    }
   ],
   "source": [
    "Rare_SNP_Trait = DataFrame(simulate(rare_20_snp_model))\n",
    "rename!(Rare_SNP_Trait, [Symbol(\"Trait$i\") for i in 1:size(mu, 2)])"
   ]
  },
  {
   "cell_type": "code",
   "execution_count": 15,
   "metadata": {},
   "outputs": [],
   "source": [
    "rm(\"rare_filtered_28data.bed\")\n",
    "rm(\"rare_filtered_28data.bim\")\n",
    "rm(\"rare_filtered_28data.fam\")"
   ]
  },
  {
   "cell_type": "markdown",
   "metadata": {},
   "source": [
    "# Example 2: Multiple Traits, Multiple Variance Components? Easy.\n",
    "\n",
    "\n",
    "This example extends the linear mixed model in the previous example to demo how to efficiently account for any number of other random effects, in addition to the additive genetic and environmental variance components. In this example we show alternative ways to specify the simulation parameters for the LMM/VCM and benchmark it against the available MatrixNormal distribution in Julia package, Distributions.jl.\n",
    "\n",
    "$$Y_{n \\times p} \\sim \\text{MatrixNormal}(\\mathbf{M}_{n \\times p} = XB, \\Omega_{np \\times np} = \\Sigma_A \\otimes V_A + \\Sigma_E \\otimes V_E)$$\n",
    "\n",
    "Say that you have the the classical setting in genetics, two variance components, one for the additive genetic variance and one for the environmental variance. \n",
    "\n",
    "Users can specify their covariance structures as follows. We note that this form can also accompany more than 2 variance components. "
   ]
  },
  {
   "cell_type": "code",
   "execution_count": 16,
   "metadata": {},
   "outputs": [
    {
     "data": {
      "text/plain": [
       "Variance Component Model\n",
       "  * number of traits: 2\n",
       "  * number of variance components: 2\n",
       "  * sample size: 379"
      ]
     },
     "execution_count": 16,
     "metadata": {},
     "output_type": "execute_result"
    }
   ],
   "source": [
    "formulas = [\"1 + 2.0*sex + 0.5*locus\", \"20 + 2.0*sex + 1.0*locus\"]\n",
    "I_n = Matrix{Float64}(I, size(GRM))\n",
    "Σ_A = [4 1; 1 4]\n",
    "Σ_E = [2.0 0.0; 0.0 2.0];\n",
    "variance_formula = @vc Σ_A ⊗ 2GRM + Σ_E ⊗ I_n;\n",
    "genetic_model = VCMTrait(formulas, DataFrame(X, [:intercept, :sex, :locus]), variance_formula)"
   ]
  },
  {
   "cell_type": "code",
   "execution_count": 17,
   "metadata": {},
   "outputs": [
    {
     "data": {
      "text/html": [
       "<table class=\"data-frame\"><thead><tr><th></th><th>Trait1</th><th>Trait2</th></tr><tr><th></th><th>Float64</th><th>Float64</th></tr></thead><tbody><p>379 rows × 2 columns</p><tr><th>1</th><td>2.17151</td><td>19.485</td></tr><tr><th>2</th><td>0.294349</td><td>21.0201</td></tr><tr><th>3</th><td>4.58263</td><td>25.2843</td></tr><tr><th>4</th><td>4.85211</td><td>23.1231</td></tr><tr><th>5</th><td>4.37703</td><td>25.3901</td></tr><tr><th>6</th><td>2.27519</td><td>24.082</td></tr><tr><th>7</th><td>1.18166</td><td>22.3009</td></tr><tr><th>8</th><td>5.04463</td><td>25.15</td></tr><tr><th>9</th><td>3.91565</td><td>24.194</td></tr><tr><th>10</th><td>3.96802</td><td>23.4634</td></tr><tr><th>11</th><td>1.41143</td><td>22.3104</td></tr><tr><th>12</th><td>3.01367</td><td>22.5568</td></tr><tr><th>13</th><td>7.52361</td><td>25.3331</td></tr><tr><th>14</th><td>6.99214</td><td>26.7024</td></tr><tr><th>15</th><td>2.741</td><td>24.1689</td></tr><tr><th>16</th><td>3.50687</td><td>24.3052</td></tr><tr><th>17</th><td>3.1217</td><td>26.0634</td></tr><tr><th>18</th><td>2.64007</td><td>22.5332</td></tr><tr><th>19</th><td>1.83267</td><td>30.1957</td></tr><tr><th>20</th><td>3.1032</td><td>21.9109</td></tr><tr><th>21</th><td>5.79161</td><td>29.0065</td></tr><tr><th>22</th><td>2.99896</td><td>25.5038</td></tr><tr><th>23</th><td>6.65542</td><td>21.3525</td></tr><tr><th>24</th><td>5.5472</td><td>26.7639</td></tr><tr><th>25</th><td>3.01526</td><td>27.8003</td></tr><tr><th>26</th><td>9.83985</td><td>25.9242</td></tr><tr><th>27</th><td>3.86947</td><td>22.5092</td></tr><tr><th>28</th><td>6.78214</td><td>21.7596</td></tr><tr><th>29</th><td>1.26213</td><td>19.7709</td></tr><tr><th>30</th><td>9.25711</td><td>20.8663</td></tr><tr><th>&vellip;</th><td>&vellip;</td><td>&vellip;</td></tr></tbody></table>"
      ],
      "text/latex": [
       "\\begin{tabular}{r|cc}\n",
       "\t& Trait1 & Trait2\\\\\n",
       "\t\\hline\n",
       "\t& Float64 & Float64\\\\\n",
       "\t\\hline\n",
       "\t1 & 2.17151 & 19.485 \\\\\n",
       "\t2 & 0.294349 & 21.0201 \\\\\n",
       "\t3 & 4.58263 & 25.2843 \\\\\n",
       "\t4 & 4.85211 & 23.1231 \\\\\n",
       "\t5 & 4.37703 & 25.3901 \\\\\n",
       "\t6 & 2.27519 & 24.082 \\\\\n",
       "\t7 & 1.18166 & 22.3009 \\\\\n",
       "\t8 & 5.04463 & 25.15 \\\\\n",
       "\t9 & 3.91565 & 24.194 \\\\\n",
       "\t10 & 3.96802 & 23.4634 \\\\\n",
       "\t11 & 1.41143 & 22.3104 \\\\\n",
       "\t12 & 3.01367 & 22.5568 \\\\\n",
       "\t13 & 7.52361 & 25.3331 \\\\\n",
       "\t14 & 6.99214 & 26.7024 \\\\\n",
       "\t15 & 2.741 & 24.1689 \\\\\n",
       "\t16 & 3.50687 & 24.3052 \\\\\n",
       "\t17 & 3.1217 & 26.0634 \\\\\n",
       "\t18 & 2.64007 & 22.5332 \\\\\n",
       "\t19 & 1.83267 & 30.1957 \\\\\n",
       "\t20 & 3.1032 & 21.9109 \\\\\n",
       "\t21 & 5.79161 & 29.0065 \\\\\n",
       "\t22 & 2.99896 & 25.5038 \\\\\n",
       "\t23 & 6.65542 & 21.3525 \\\\\n",
       "\t24 & 5.5472 & 26.7639 \\\\\n",
       "\t25 & 3.01526 & 27.8003 \\\\\n",
       "\t26 & 9.83985 & 25.9242 \\\\\n",
       "\t27 & 3.86947 & 22.5092 \\\\\n",
       "\t28 & 6.78214 & 21.7596 \\\\\n",
       "\t29 & 1.26213 & 19.7709 \\\\\n",
       "\t30 & 9.25711 & 20.8663 \\\\\n",
       "\t$\\dots$ & $\\dots$ & $\\dots$ \\\\\n",
       "\\end{tabular}\n"
      ],
      "text/plain": [
       "379×2 DataFrame\n",
       "│ Row │ Trait1   │ Trait2  │\n",
       "│     │ \u001b[90mFloat64\u001b[39m  │ \u001b[90mFloat64\u001b[39m │\n",
       "├─────┼──────────┼─────────┤\n",
       "│ 1   │ 2.17151  │ 19.485  │\n",
       "│ 2   │ 0.294349 │ 21.0201 │\n",
       "│ 3   │ 4.58263  │ 25.2843 │\n",
       "│ 4   │ 4.85211  │ 23.1231 │\n",
       "│ 5   │ 4.37703  │ 25.3901 │\n",
       "│ 6   │ 2.27519  │ 24.082  │\n",
       "│ 7   │ 1.18166  │ 22.3009 │\n",
       "│ 8   │ 5.04463  │ 25.15   │\n",
       "│ 9   │ 3.91565  │ 24.194  │\n",
       "│ 10  │ 3.96802  │ 23.4634 │\n",
       "⋮\n",
       "│ 369 │ 5.31568  │ 29.304  │\n",
       "│ 370 │ 2.0893   │ 24.7098 │\n",
       "│ 371 │ 4.33878  │ 22.6849 │\n",
       "│ 372 │ 5.62287  │ 22.7552 │\n",
       "│ 373 │ 2.99719  │ 24.3917 │\n",
       "│ 374 │ 3.46288  │ 20.8407 │\n",
       "│ 375 │ 0.36725  │ 23.982  │\n",
       "│ 376 │ 4.09586  │ 25.6362 │\n",
       "│ 377 │ -2.03533 │ 24.0855 │\n",
       "│ 378 │ 4.8395   │ 25.8261 │\n",
       "│ 379 │ 6.48141  │ 24.7057 │"
      ]
     },
     "execution_count": 17,
     "metadata": {},
     "output_type": "execute_result"
    }
   ],
   "source": [
    "GeneticTraits = DataFrame(simulate(genetic_model))\n",
    "rename!(GeneticTraits, [Symbol(\"Trait$i\") for i in 1:length(formulas)])"
   ]
  },
  {
   "cell_type": "markdown",
   "metadata": {},
   "source": [
    "# Example 3: Power Calculation\n",
    "\n",
    "For the last example, we show how to simulate from customized simulation models that accompany specific genetic analysis options in OpenMendel; for example, ordered, multinomial traits. \n",
    "\n",
    "\n",
    "This example illustrates the use of the simulations to generates data sets allowing researchers to accurately check the validity of programs and to calculate power for their proposed studies. \n",
    "\n",
    "We illustrate this example in three digestable steps: \n",
    "   * The first by simulating genotypes and covariate values representative for our study population.\n",
    "   * Carry over the simulated design matrix from (1) to create the OrderedMultinomialTrait model object.\n",
    "   * Simulate off the OrderedMultinomialTrait model object created in (2) and run the power analyses for the desired significance level.\n"
   ]
  },
  {
   "cell_type": "markdown",
   "metadata": {},
   "source": [
    "### `Genotype Simulation:`\n",
    "\n",
    "Say our study population has a sample size of `n` people and we are interested in studying the effect of the causal snp with a predetermined minor allele frequency. We use the minor allele frequency of the causal variant to simulate the SnpArray under Hardy Weinberg Equillibrium (HWE), using the `snparray_simulation` function as follows:\n",
    "    \n",
    "    \n",
    "| Genotype | Plink/SnpArray |  \n",
    "|:---:|:---:|  \n",
    "| A1,A1 | 0x00 |  \n",
    "| missing | 0x01 |\n",
    "| A1,A2 | 0x02 |  \n",
    "| A2,A2 | 0x03 |  \n",
    "    \n",
    "\n",
    "Given the specified minor allele frequency, `maf`, here `maf = [0.2]`, this function samples from the genotype vector under HWE and returns the compressed binary format under SnpArrays. Note if you give the function a vector of minor allele frequencies, specify `maf = [0.2, 0.25, 0.3]`, for each specified allele it will simulate a SnpArray under HWE and ouput them together."
   ]
  },
  {
   "cell_type": "code",
   "execution_count": 18,
   "metadata": {},
   "outputs": [
    {
     "data": {
      "text/plain": [
       "5000×1 SnpArray:\n",
       " 0x00\n",
       " 0x02\n",
       " 0x00\n",
       " 0x02\n",
       " 0x02\n",
       " 0x00\n",
       " 0x00\n",
       " 0x03\n",
       " 0x02\n",
       " 0x02\n",
       " 0x02\n",
       " 0x02\n",
       " 0x00\n",
       "    ⋮\n",
       " 0x00\n",
       " 0x02\n",
       " 0x00\n",
       " 0x00\n",
       " 0x00\n",
       " 0x00\n",
       " 0x02\n",
       " 0x00\n",
       " 0x02\n",
       " 0x02\n",
       " 0x00\n",
       " 0x02"
      ]
     },
     "execution_count": 18,
     "metadata": {},
     "output_type": "execute_result"
    }
   ],
   "source": [
    "n = 5000\n",
    "maf_causal_snp = [0.2]\n",
    "Simulated_SnpArray = snparray_simulation(maf_causal_snp, n)"
   ]
  },
  {
   "cell_type": "markdown",
   "metadata": {},
   "source": [
    "### convert\n",
    "By default `convert` function translates genotypes according to the *additive* SNP model, which essentially counts the number of **A2** allele (0, 1 or 2) per genotype. Other SNP models are *dominant* and *recessive*, both in terms of the **A2** allele.\n",
    "\n",
    "| Genotype | `SnpArray` | `model=ADDITIVE_MODEL` | `model=DOMINANT_MODEL` | `model=RECESSIVE_MODEL` |    \n",
    "|:---:|:---:|:---:|:---:|:---:|  \n",
    "| A1,A1 | 0x00 | 0 | 0 | 0 |  \n",
    "| missing | 0x01 | NaN | NaN | NaN |\n",
    "| A1,A2 | 0x02 | 1 | 1 | 0 |  \n",
    "| A2,A2 | 0x03 | 2 | 1 | 1 |  \n",
    "\n",
    "If desired, the user can decide to specify alternative model parameters found in the [SnpArrays](https://openmendel.github.io/SnpArrays.jl/latest/#convert-and-copyto!-1) documentation."
   ]
  },
  {
   "cell_type": "code",
   "execution_count": 19,
   "metadata": {},
   "outputs": [
    {
     "data": {
      "text/plain": [
       "5000-element Array{Float64,1}:\n",
       " 0.0\n",
       " 1.0\n",
       " 0.0\n",
       " 1.0\n",
       " 1.0\n",
       " 0.0\n",
       " 0.0\n",
       " 2.0\n",
       " 1.0\n",
       " 1.0\n",
       " 1.0\n",
       " 1.0\n",
       " 0.0\n",
       " ⋮  \n",
       " 0.0\n",
       " 1.0\n",
       " 0.0\n",
       " 0.0\n",
       " 0.0\n",
       " 0.0\n",
       " 1.0\n",
       " 0.0\n",
       " 1.0\n",
       " 1.0\n",
       " 0.0\n",
       " 1.0"
      ]
     },
     "execution_count": 19,
     "metadata": {},
     "output_type": "execute_result"
    }
   ],
   "source": [
    "locus = convert(Vector{Float64}, @view(Simulated_SnpArray[:, 1]))"
   ]
  },
  {
   "cell_type": "markdown",
   "metadata": {},
   "source": [
    "## Create Simulated Design Matrix\n",
    "\n",
    "Now we concatenate the simulated causal locus, transformed to Float64, to the other covariates we want to control for in the study design.\n",
    "\n",
    "Say we want to have a study population of 51% females, where the mean age is 45 years with a standard deviation of 8 years. For demo purposes we will standardize the age variable. Using the distributions package we can simulate the values for the non-genetic covariates and attach the causal locus as the last column in the design matrix. "
   ]
  },
  {
   "cell_type": "code",
   "execution_count": 20,
   "metadata": {},
   "outputs": [
    {
     "data": {
      "text/html": [
       "<table class=\"data-frame\"><thead><tr><th></th><th>age</th><th>sex</th><th>locus</th></tr><tr><th></th><th>Float64</th><th>Float64</th><th>Float64</th></tr></thead><tbody><p>5,000 rows × 3 columns</p><tr><th>1</th><td>-0.311495</td><td>1.0</td><td>0.0</td></tr><tr><th>2</th><td>-0.855066</td><td>0.0</td><td>1.0</td></tr><tr><th>3</th><td>-1.0234</td><td>1.0</td><td>0.0</td></tr><tr><th>4</th><td>-0.795238</td><td>1.0</td><td>1.0</td></tr><tr><th>5</th><td>1.48397</td><td>1.0</td><td>1.0</td></tr><tr><th>6</th><td>-1.31424</td><td>1.0</td><td>0.0</td></tr><tr><th>7</th><td>1.97743</td><td>1.0</td><td>0.0</td></tr><tr><th>8</th><td>-0.797253</td><td>0.0</td><td>2.0</td></tr><tr><th>9</th><td>0.173986</td><td>0.0</td><td>1.0</td></tr><tr><th>10</th><td>1.25776</td><td>1.0</td><td>1.0</td></tr><tr><th>11</th><td>-0.555388</td><td>1.0</td><td>1.0</td></tr><tr><th>12</th><td>0.868502</td><td>0.0</td><td>1.0</td></tr><tr><th>13</th><td>-0.131612</td><td>1.0</td><td>0.0</td></tr><tr><th>14</th><td>-0.642696</td><td>1.0</td><td>0.0</td></tr><tr><th>15</th><td>0.404356</td><td>1.0</td><td>0.0</td></tr><tr><th>16</th><td>-0.455362</td><td>0.0</td><td>0.0</td></tr><tr><th>17</th><td>-1.72583</td><td>0.0</td><td>0.0</td></tr><tr><th>18</th><td>-2.06515</td><td>1.0</td><td>0.0</td></tr><tr><th>19</th><td>-1.31212</td><td>1.0</td><td>0.0</td></tr><tr><th>20</th><td>-0.0646932</td><td>0.0</td><td>0.0</td></tr><tr><th>21</th><td>0.225336</td><td>0.0</td><td>0.0</td></tr><tr><th>22</th><td>0.103609</td><td>0.0</td><td>1.0</td></tr><tr><th>23</th><td>0.514606</td><td>0.0</td><td>0.0</td></tr><tr><th>24</th><td>0.221891</td><td>1.0</td><td>0.0</td></tr><tr><th>25</th><td>-1.02071</td><td>1.0</td><td>1.0</td></tr><tr><th>26</th><td>0.334134</td><td>0.0</td><td>0.0</td></tr><tr><th>27</th><td>1.3154</td><td>0.0</td><td>0.0</td></tr><tr><th>28</th><td>0.392749</td><td>0.0</td><td>0.0</td></tr><tr><th>29</th><td>-1.13217</td><td>1.0</td><td>0.0</td></tr><tr><th>30</th><td>1.44271</td><td>1.0</td><td>1.0</td></tr><tr><th>&vellip;</th><td>&vellip;</td><td>&vellip;</td><td>&vellip;</td></tr></tbody></table>"
      ],
      "text/latex": [
       "\\begin{tabular}{r|ccc}\n",
       "\t& age & sex & locus\\\\\n",
       "\t\\hline\n",
       "\t& Float64 & Float64 & Float64\\\\\n",
       "\t\\hline\n",
       "\t1 & -0.311495 & 1.0 & 0.0 \\\\\n",
       "\t2 & -0.855066 & 0.0 & 1.0 \\\\\n",
       "\t3 & -1.0234 & 1.0 & 0.0 \\\\\n",
       "\t4 & -0.795238 & 1.0 & 1.0 \\\\\n",
       "\t5 & 1.48397 & 1.0 & 1.0 \\\\\n",
       "\t6 & -1.31424 & 1.0 & 0.0 \\\\\n",
       "\t7 & 1.97743 & 1.0 & 0.0 \\\\\n",
       "\t8 & -0.797253 & 0.0 & 2.0 \\\\\n",
       "\t9 & 0.173986 & 0.0 & 1.0 \\\\\n",
       "\t10 & 1.25776 & 1.0 & 1.0 \\\\\n",
       "\t11 & -0.555388 & 1.0 & 1.0 \\\\\n",
       "\t12 & 0.868502 & 0.0 & 1.0 \\\\\n",
       "\t13 & -0.131612 & 1.0 & 0.0 \\\\\n",
       "\t14 & -0.642696 & 1.0 & 0.0 \\\\\n",
       "\t15 & 0.404356 & 1.0 & 0.0 \\\\\n",
       "\t16 & -0.455362 & 0.0 & 0.0 \\\\\n",
       "\t17 & -1.72583 & 0.0 & 0.0 \\\\\n",
       "\t18 & -2.06515 & 1.0 & 0.0 \\\\\n",
       "\t19 & -1.31212 & 1.0 & 0.0 \\\\\n",
       "\t20 & -0.0646932 & 0.0 & 0.0 \\\\\n",
       "\t21 & 0.225336 & 0.0 & 0.0 \\\\\n",
       "\t22 & 0.103609 & 0.0 & 1.0 \\\\\n",
       "\t23 & 0.514606 & 0.0 & 0.0 \\\\\n",
       "\t24 & 0.221891 & 1.0 & 0.0 \\\\\n",
       "\t25 & -1.02071 & 1.0 & 1.0 \\\\\n",
       "\t26 & 0.334134 & 0.0 & 0.0 \\\\\n",
       "\t27 & 1.3154 & 0.0 & 0.0 \\\\\n",
       "\t28 & 0.392749 & 0.0 & 0.0 \\\\\n",
       "\t29 & -1.13217 & 1.0 & 0.0 \\\\\n",
       "\t30 & 1.44271 & 1.0 & 1.0 \\\\\n",
       "\t$\\dots$ & $\\dots$ & $\\dots$ & $\\dots$ \\\\\n",
       "\\end{tabular}\n"
      ],
      "text/plain": [
       "5000×3 DataFrame\n",
       "│ Row  │ age       │ sex     │ locus   │\n",
       "│      │ \u001b[90mFloat64\u001b[39m   │ \u001b[90mFloat64\u001b[39m │ \u001b[90mFloat64\u001b[39m │\n",
       "├──────┼───────────┼─────────┼─────────┤\n",
       "│ 1    │ -0.311495 │ 1.0     │ 0.0     │\n",
       "│ 2    │ -0.855066 │ 0.0     │ 1.0     │\n",
       "│ 3    │ -1.0234   │ 1.0     │ 0.0     │\n",
       "│ 4    │ -0.795238 │ 1.0     │ 1.0     │\n",
       "│ 5    │ 1.48397   │ 1.0     │ 1.0     │\n",
       "│ 6    │ -1.31424  │ 1.0     │ 0.0     │\n",
       "│ 7    │ 1.97743   │ 1.0     │ 0.0     │\n",
       "│ 8    │ -0.797253 │ 0.0     │ 2.0     │\n",
       "│ 9    │ 0.173986  │ 0.0     │ 1.0     │\n",
       "│ 10   │ 1.25776   │ 1.0     │ 1.0     │\n",
       "⋮\n",
       "│ 4990 │ 0.481412  │ 0.0     │ 1.0     │\n",
       "│ 4991 │ 1.29719   │ 1.0     │ 0.0     │\n",
       "│ 4992 │ 0.0502762 │ 0.0     │ 0.0     │\n",
       "│ 4993 │ 0.0206817 │ 0.0     │ 0.0     │\n",
       "│ 4994 │ -0.240525 │ 1.0     │ 0.0     │\n",
       "│ 4995 │ -1.77953  │ 0.0     │ 1.0     │\n",
       "│ 4996 │ 0.0451488 │ 0.0     │ 0.0     │\n",
       "│ 4997 │ -1.09096  │ 1.0     │ 1.0     │\n",
       "│ 4998 │ -0.651778 │ 1.0     │ 1.0     │\n",
       "│ 4999 │ 0.378898  │ 1.0     │ 0.0     │\n",
       "│ 5000 │ 1.13268   │ 0.0     │ 1.0     │"
      ]
     },
     "execution_count": 20,
     "metadata": {},
     "output_type": "execute_result"
    }
   ],
   "source": [
    "pdf_sex = Bernoulli(0.51)\n",
    "pdf_age = Normal(45, 8)\n",
    "\n",
    "sex = rand(pdf_sex, n)\n",
    "# simulate age under the specified pdf_age and standardize to be ~ N(0, 1)\n",
    "age = zscore(rand(pdf_age, n))\n",
    "\n",
    "X_new = [age sex locus]\n",
    "DataFrame(X_new, [:age, :sex, :locus])"
   ]
  },
  {
   "cell_type": "markdown",
   "metadata": {},
   "source": [
    "## Phenotype Simulation:\n",
    "\n",
    "Now that we have our simulated design matrix with the desired SNP of interest, we can simulate our phenotypes on the simulated data under different TraitSimulation models. To illustrate, we demonstrate on the `OrderedMultinomialTrait` model object in TraitSimulation.jl.\n",
    "\n",
    "\n",
    "### Ordered Multinomial Trait\n",
    "\n",
    "Recall that this phenotype is special, in that the [OrdinalMultinomialModels](https://openmendel.github.io/OrdinalMultinomialModels.jl/stable/#Syntax-1) package provides Julia utilities to fit ordered multinomial models, including [proportional odds model](https://en.wikipedia.org/wiki/Ordered_logit) and [ordered Probit model](https://en.wikipedia.org/wiki/Ordered_probit) as special cases. "
   ]
  },
  {
   "cell_type": "code",
   "execution_count": 21,
   "metadata": {},
   "outputs": [
    {
     "data": {
      "text/plain": [
       "Ordinal Multinomial Model\n",
       "  * number of fixed effects: 3\n",
       "  * number of ordinal multinomial outcome categories: 4\n",
       "  * link function: LogitLink\n",
       "  * sample size: 5000"
      ]
     },
     "execution_count": 21,
     "metadata": {},
     "output_type": "execute_result"
    }
   ],
   "source": [
    "θ = [1.0, 1.2, 1.4]\n",
    "β_new = [1.0, 2.0, 10.0]\n",
    "Ordinal_Model = OrderedMultinomialTrait(X_new, β_new, θ, LogitLink())"
   ]
  },
  {
   "cell_type": "code",
   "execution_count": 22,
   "metadata": {},
   "outputs": [
    {
     "data": {
      "text/html": [
       "<table class=\"data-frame\"><thead><tr><th></th><th>Trait1</th><th>Trait2</th><th>Trait3</th><th>Trait4</th><th>Trait5</th><th>Trait6</th><th>Trait7</th><th>Trait8</th><th>Trait9</th><th>Trait10</th></tr><tr><th></th><th>Int64</th><th>Int64</th><th>Int64</th><th>Int64</th><th>Int64</th><th>Int64</th><th>Int64</th><th>Int64</th><th>Int64</th><th>Int64</th></tr></thead><tbody><p>5,000 rows × 10 columns</p><tr><th>1</th><td>1</td><td>2</td><td>1</td><td>1</td><td>4</td><td>1</td><td>4</td><td>4</td><td>1</td><td>4</td></tr><tr><th>2</th><td>4</td><td>4</td><td>4</td><td>4</td><td>4</td><td>4</td><td>4</td><td>4</td><td>4</td><td>4</td></tr><tr><th>3</th><td>4</td><td>4</td><td>1</td><td>1</td><td>4</td><td>4</td><td>1</td><td>4</td><td>4</td><td>4</td></tr><tr><th>4</th><td>4</td><td>4</td><td>4</td><td>4</td><td>4</td><td>4</td><td>4</td><td>4</td><td>4</td><td>4</td></tr><tr><th>5</th><td>4</td><td>4</td><td>4</td><td>4</td><td>4</td><td>4</td><td>4</td><td>4</td><td>4</td><td>4</td></tr><tr><th>6</th><td>1</td><td>3</td><td>4</td><td>4</td><td>1</td><td>1</td><td>1</td><td>1</td><td>4</td><td>1</td></tr><tr><th>7</th><td>4</td><td>4</td><td>4</td><td>4</td><td>4</td><td>4</td><td>4</td><td>4</td><td>4</td><td>4</td></tr><tr><th>8</th><td>4</td><td>4</td><td>4</td><td>4</td><td>4</td><td>4</td><td>4</td><td>4</td><td>4</td><td>4</td></tr><tr><th>9</th><td>4</td><td>4</td><td>4</td><td>4</td><td>4</td><td>4</td><td>4</td><td>4</td><td>4</td><td>4</td></tr><tr><th>10</th><td>4</td><td>4</td><td>4</td><td>4</td><td>4</td><td>4</td><td>4</td><td>4</td><td>4</td><td>4</td></tr><tr><th>11</th><td>4</td><td>4</td><td>4</td><td>4</td><td>4</td><td>4</td><td>4</td><td>4</td><td>4</td><td>4</td></tr><tr><th>12</th><td>4</td><td>4</td><td>4</td><td>4</td><td>4</td><td>4</td><td>4</td><td>4</td><td>4</td><td>4</td></tr><tr><th>13</th><td>3</td><td>4</td><td>1</td><td>4</td><td>3</td><td>4</td><td>4</td><td>4</td><td>1</td><td>4</td></tr><tr><th>14</th><td>4</td><td>1</td><td>4</td><td>1</td><td>4</td><td>4</td><td>4</td><td>4</td><td>1</td><td>1</td></tr><tr><th>15</th><td>4</td><td>4</td><td>2</td><td>4</td><td>4</td><td>3</td><td>1</td><td>1</td><td>4</td><td>2</td></tr><tr><th>16</th><td>1</td><td>4</td><td>1</td><td>1</td><td>4</td><td>1</td><td>1</td><td>1</td><td>1</td><td>1</td></tr><tr><th>17</th><td>1</td><td>1</td><td>1</td><td>1</td><td>1</td><td>1</td><td>1</td><td>1</td><td>1</td><td>1</td></tr><tr><th>18</th><td>4</td><td>1</td><td>1</td><td>4</td><td>1</td><td>1</td><td>1</td><td>1</td><td>1</td><td>4</td></tr><tr><th>19</th><td>1</td><td>1</td><td>4</td><td>1</td><td>2</td><td>1</td><td>4</td><td>1</td><td>4</td><td>1</td></tr><tr><th>20</th><td>4</td><td>1</td><td>1</td><td>1</td><td>4</td><td>1</td><td>1</td><td>1</td><td>1</td><td>1</td></tr><tr><th>21</th><td>1</td><td>1</td><td>4</td><td>1</td><td>4</td><td>2</td><td>1</td><td>1</td><td>1</td><td>1</td></tr><tr><th>22</th><td>4</td><td>4</td><td>4</td><td>4</td><td>4</td><td>4</td><td>4</td><td>4</td><td>4</td><td>4</td></tr><tr><th>23</th><td>1</td><td>4</td><td>1</td><td>1</td><td>1</td><td>1</td><td>1</td><td>4</td><td>4</td><td>1</td></tr><tr><th>24</th><td>3</td><td>4</td><td>1</td><td>4</td><td>4</td><td>4</td><td>1</td><td>4</td><td>4</td><td>4</td></tr><tr><th>25</th><td>4</td><td>4</td><td>4</td><td>4</td><td>4</td><td>4</td><td>4</td><td>4</td><td>4</td><td>4</td></tr><tr><th>26</th><td>3</td><td>4</td><td>3</td><td>1</td><td>4</td><td>1</td><td>1</td><td>3</td><td>1</td><td>4</td></tr><tr><th>27</th><td>4</td><td>4</td><td>4</td><td>1</td><td>1</td><td>4</td><td>1</td><td>4</td><td>4</td><td>4</td></tr><tr><th>28</th><td>4</td><td>1</td><td>2</td><td>1</td><td>1</td><td>1</td><td>1</td><td>1</td><td>1</td><td>4</td></tr><tr><th>29</th><td>4</td><td>2</td><td>4</td><td>4</td><td>4</td><td>4</td><td>4</td><td>1</td><td>1</td><td>1</td></tr><tr><th>30</th><td>4</td><td>4</td><td>4</td><td>4</td><td>4</td><td>4</td><td>4</td><td>4</td><td>4</td><td>4</td></tr><tr><th>&vellip;</th><td>&vellip;</td><td>&vellip;</td><td>&vellip;</td><td>&vellip;</td><td>&vellip;</td><td>&vellip;</td><td>&vellip;</td><td>&vellip;</td><td>&vellip;</td><td>&vellip;</td></tr></tbody></table>"
      ],
      "text/latex": [
       "\\begin{tabular}{r|cccccccccc}\n",
       "\t& Trait1 & Trait2 & Trait3 & Trait4 & Trait5 & Trait6 & Trait7 & Trait8 & Trait9 & Trait10\\\\\n",
       "\t\\hline\n",
       "\t& Int64 & Int64 & Int64 & Int64 & Int64 & Int64 & Int64 & Int64 & Int64 & Int64\\\\\n",
       "\t\\hline\n",
       "\t1 & 1 & 2 & 1 & 1 & 4 & 1 & 4 & 4 & 1 & 4 \\\\\n",
       "\t2 & 4 & 4 & 4 & 4 & 4 & 4 & 4 & 4 & 4 & 4 \\\\\n",
       "\t3 & 4 & 4 & 1 & 1 & 4 & 4 & 1 & 4 & 4 & 4 \\\\\n",
       "\t4 & 4 & 4 & 4 & 4 & 4 & 4 & 4 & 4 & 4 & 4 \\\\\n",
       "\t5 & 4 & 4 & 4 & 4 & 4 & 4 & 4 & 4 & 4 & 4 \\\\\n",
       "\t6 & 1 & 3 & 4 & 4 & 1 & 1 & 1 & 1 & 4 & 1 \\\\\n",
       "\t7 & 4 & 4 & 4 & 4 & 4 & 4 & 4 & 4 & 4 & 4 \\\\\n",
       "\t8 & 4 & 4 & 4 & 4 & 4 & 4 & 4 & 4 & 4 & 4 \\\\\n",
       "\t9 & 4 & 4 & 4 & 4 & 4 & 4 & 4 & 4 & 4 & 4 \\\\\n",
       "\t10 & 4 & 4 & 4 & 4 & 4 & 4 & 4 & 4 & 4 & 4 \\\\\n",
       "\t11 & 4 & 4 & 4 & 4 & 4 & 4 & 4 & 4 & 4 & 4 \\\\\n",
       "\t12 & 4 & 4 & 4 & 4 & 4 & 4 & 4 & 4 & 4 & 4 \\\\\n",
       "\t13 & 3 & 4 & 1 & 4 & 3 & 4 & 4 & 4 & 1 & 4 \\\\\n",
       "\t14 & 4 & 1 & 4 & 1 & 4 & 4 & 4 & 4 & 1 & 1 \\\\\n",
       "\t15 & 4 & 4 & 2 & 4 & 4 & 3 & 1 & 1 & 4 & 2 \\\\\n",
       "\t16 & 1 & 4 & 1 & 1 & 4 & 1 & 1 & 1 & 1 & 1 \\\\\n",
       "\t17 & 1 & 1 & 1 & 1 & 1 & 1 & 1 & 1 & 1 & 1 \\\\\n",
       "\t18 & 4 & 1 & 1 & 4 & 1 & 1 & 1 & 1 & 1 & 4 \\\\\n",
       "\t19 & 1 & 1 & 4 & 1 & 2 & 1 & 4 & 1 & 4 & 1 \\\\\n",
       "\t20 & 4 & 1 & 1 & 1 & 4 & 1 & 1 & 1 & 1 & 1 \\\\\n",
       "\t21 & 1 & 1 & 4 & 1 & 4 & 2 & 1 & 1 & 1 & 1 \\\\\n",
       "\t22 & 4 & 4 & 4 & 4 & 4 & 4 & 4 & 4 & 4 & 4 \\\\\n",
       "\t23 & 1 & 4 & 1 & 1 & 1 & 1 & 1 & 4 & 4 & 1 \\\\\n",
       "\t24 & 3 & 4 & 1 & 4 & 4 & 4 & 1 & 4 & 4 & 4 \\\\\n",
       "\t25 & 4 & 4 & 4 & 4 & 4 & 4 & 4 & 4 & 4 & 4 \\\\\n",
       "\t26 & 3 & 4 & 3 & 1 & 4 & 1 & 1 & 3 & 1 & 4 \\\\\n",
       "\t27 & 4 & 4 & 4 & 1 & 1 & 4 & 1 & 4 & 4 & 4 \\\\\n",
       "\t28 & 4 & 1 & 2 & 1 & 1 & 1 & 1 & 1 & 1 & 4 \\\\\n",
       "\t29 & 4 & 2 & 4 & 4 & 4 & 4 & 4 & 1 & 1 & 1 \\\\\n",
       "\t30 & 4 & 4 & 4 & 4 & 4 & 4 & 4 & 4 & 4 & 4 \\\\\n",
       "\t$\\dots$ & $\\dots$ & $\\dots$ & $\\dots$ & $\\dots$ & $\\dots$ & $\\dots$ & $\\dots$ & $\\dots$ & $\\dots$ & $\\dots$ \\\\\n",
       "\\end{tabular}\n"
      ],
      "text/plain": [
       "5000×10 DataFrame. Omitted printing of 2 columns\n",
       "│ Row  │ Trait1 │ Trait2 │ Trait3 │ Trait4 │ Trait5 │ Trait6 │ Trait7 │ Trait8 │\n",
       "│      │ \u001b[90mInt64\u001b[39m  │ \u001b[90mInt64\u001b[39m  │ \u001b[90mInt64\u001b[39m  │ \u001b[90mInt64\u001b[39m  │ \u001b[90mInt64\u001b[39m  │ \u001b[90mInt64\u001b[39m  │ \u001b[90mInt64\u001b[39m  │ \u001b[90mInt64\u001b[39m  │\n",
       "├──────┼────────┼────────┼────────┼────────┼────────┼────────┼────────┼────────┤\n",
       "│ 1    │ 1      │ 2      │ 1      │ 1      │ 4      │ 1      │ 4      │ 4      │\n",
       "│ 2    │ 4      │ 4      │ 4      │ 4      │ 4      │ 4      │ 4      │ 4      │\n",
       "│ 3    │ 4      │ 4      │ 1      │ 1      │ 4      │ 4      │ 1      │ 4      │\n",
       "│ 4    │ 4      │ 4      │ 4      │ 4      │ 4      │ 4      │ 4      │ 4      │\n",
       "│ 5    │ 4      │ 4      │ 4      │ 4      │ 4      │ 4      │ 4      │ 4      │\n",
       "│ 6    │ 1      │ 3      │ 4      │ 4      │ 1      │ 1      │ 1      │ 1      │\n",
       "│ 7    │ 4      │ 4      │ 4      │ 4      │ 4      │ 4      │ 4      │ 4      │\n",
       "│ 8    │ 4      │ 4      │ 4      │ 4      │ 4      │ 4      │ 4      │ 4      │\n",
       "│ 9    │ 4      │ 4      │ 4      │ 4      │ 4      │ 4      │ 4      │ 4      │\n",
       "│ 10   │ 4      │ 4      │ 4      │ 4      │ 4      │ 4      │ 4      │ 4      │\n",
       "⋮\n",
       "│ 4990 │ 4      │ 4      │ 4      │ 4      │ 4      │ 4      │ 4      │ 4      │\n",
       "│ 4991 │ 4      │ 4      │ 4      │ 4      │ 4      │ 4      │ 4      │ 1      │\n",
       "│ 4992 │ 1      │ 1      │ 1      │ 1      │ 1      │ 1      │ 4      │ 1      │\n",
       "│ 4993 │ 4      │ 2      │ 1      │ 1      │ 1      │ 1      │ 1      │ 1      │\n",
       "│ 4994 │ 3      │ 4      │ 1      │ 1      │ 4      │ 4      │ 4      │ 4      │\n",
       "│ 4995 │ 4      │ 4      │ 4      │ 4      │ 4      │ 4      │ 4      │ 4      │\n",
       "│ 4996 │ 1      │ 1      │ 1      │ 4      │ 3      │ 1      │ 4      │ 4      │\n",
       "│ 4997 │ 4      │ 4      │ 4      │ 4      │ 4      │ 4      │ 4      │ 4      │\n",
       "│ 4998 │ 4      │ 4      │ 4      │ 4      │ 4      │ 4      │ 4      │ 4      │\n",
       "│ 4999 │ 4      │ 4      │ 1      │ 4      │ 4      │ 4      │ 4      │ 4      │\n",
       "│ 5000 │ 4      │ 4      │ 4      │ 4      │ 4      │ 4      │ 4      │ 4      │"
      ]
     },
     "execution_count": 22,
     "metadata": {},
     "output_type": "execute_result"
    }
   ],
   "source": [
    "nsim = 10 \n",
    "Ordinal_Trait = DataFrame(simulate(Ordinal_Model, nsim))\n",
    "rename!(Ordinal_Trait, [Symbol(\"Trait$i\") for i in 1:nsim])"
   ]
  },
  {
   "cell_type": "markdown",
   "metadata": {},
   "source": [
    "### Simulate Ordered Multinomial Logistic\n",
    "\n",
    "Specific to the Ordered Multinomial Logistic model is the option to transform the multinomial outcome (i.e 1, 2, 3, 4) into a binary outcome for logistic regression. \n",
    "\n",
    "Although by default is the multinomial simulation above, the user can simulate from the transformed logistic outcome for example by specifying arguments: `Logistic = true` and `threshold = 2` the value to use as a cutoff for identifying cases and controls. (i.e if y > 2 => y_logit == 1). We note if you specify `Logistic = true` and do not provide a threshold value, the function will throw an error to remind you to specify one."
   ]
  },
  {
   "cell_type": "code",
   "execution_count": 23,
   "metadata": {},
   "outputs": [
    {
     "data": {
      "text/html": [
       "<table class=\"data-frame\"><thead><tr><th></th><th>Trait1</th><th>Trait2</th><th>Trait3</th><th>Trait4</th><th>Trait5</th><th>Trait6</th><th>Trait7</th><th>Trait8</th><th>Trait9</th><th>Trait10</th></tr><tr><th></th><th>Int64</th><th>Int64</th><th>Int64</th><th>Int64</th><th>Int64</th><th>Int64</th><th>Int64</th><th>Int64</th><th>Int64</th><th>Int64</th></tr></thead><tbody><p>5,000 rows × 10 columns</p><tr><th>1</th><td>0</td><td>1</td><td>0</td><td>1</td><td>0</td><td>1</td><td>1</td><td>1</td><td>1</td><td>0</td></tr><tr><th>2</th><td>1</td><td>1</td><td>1</td><td>1</td><td>1</td><td>1</td><td>1</td><td>1</td><td>1</td><td>1</td></tr><tr><th>3</th><td>0</td><td>1</td><td>1</td><td>0</td><td>1</td><td>0</td><td>1</td><td>0</td><td>1</td><td>0</td></tr><tr><th>4</th><td>1</td><td>1</td><td>1</td><td>1</td><td>1</td><td>1</td><td>1</td><td>1</td><td>1</td><td>1</td></tr><tr><th>5</th><td>1</td><td>1</td><td>1</td><td>1</td><td>1</td><td>1</td><td>1</td><td>1</td><td>1</td><td>1</td></tr><tr><th>6</th><td>0</td><td>0</td><td>0</td><td>0</td><td>1</td><td>1</td><td>0</td><td>1</td><td>0</td><td>0</td></tr><tr><th>7</th><td>1</td><td>1</td><td>1</td><td>1</td><td>1</td><td>1</td><td>1</td><td>1</td><td>1</td><td>0</td></tr><tr><th>8</th><td>1</td><td>1</td><td>1</td><td>1</td><td>1</td><td>1</td><td>1</td><td>1</td><td>1</td><td>1</td></tr><tr><th>9</th><td>1</td><td>1</td><td>1</td><td>1</td><td>1</td><td>1</td><td>1</td><td>1</td><td>1</td><td>1</td></tr><tr><th>10</th><td>1</td><td>1</td><td>1</td><td>1</td><td>1</td><td>1</td><td>1</td><td>1</td><td>1</td><td>1</td></tr><tr><th>11</th><td>1</td><td>1</td><td>1</td><td>1</td><td>1</td><td>1</td><td>1</td><td>1</td><td>1</td><td>1</td></tr><tr><th>12</th><td>1</td><td>1</td><td>1</td><td>1</td><td>1</td><td>1</td><td>1</td><td>1</td><td>1</td><td>1</td></tr><tr><th>13</th><td>1</td><td>1</td><td>0</td><td>1</td><td>0</td><td>1</td><td>1</td><td>1</td><td>0</td><td>1</td></tr><tr><th>14</th><td>0</td><td>0</td><td>0</td><td>1</td><td>1</td><td>0</td><td>1</td><td>1</td><td>1</td><td>1</td></tr><tr><th>15</th><td>1</td><td>1</td><td>1</td><td>1</td><td>1</td><td>1</td><td>0</td><td>0</td><td>0</td><td>1</td></tr><tr><th>16</th><td>0</td><td>1</td><td>0</td><td>0</td><td>0</td><td>0</td><td>0</td><td>1</td><td>0</td><td>0</td></tr><tr><th>17</th><td>0</td><td>0</td><td>0</td><td>0</td><td>0</td><td>0</td><td>0</td><td>1</td><td>0</td><td>0</td></tr><tr><th>18</th><td>0</td><td>0</td><td>1</td><td>1</td><td>0</td><td>1</td><td>0</td><td>0</td><td>0</td><td>0</td></tr><tr><th>19</th><td>1</td><td>1</td><td>0</td><td>1</td><td>0</td><td>1</td><td>1</td><td>0</td><td>1</td><td>0</td></tr><tr><th>20</th><td>0</td><td>1</td><td>0</td><td>0</td><td>0</td><td>1</td><td>0</td><td>0</td><td>0</td><td>0</td></tr><tr><th>21</th><td>0</td><td>0</td><td>0</td><td>1</td><td>0</td><td>0</td><td>0</td><td>0</td><td>1</td><td>0</td></tr><tr><th>22</th><td>1</td><td>1</td><td>1</td><td>1</td><td>1</td><td>1</td><td>1</td><td>1</td><td>1</td><td>1</td></tr><tr><th>23</th><td>1</td><td>1</td><td>0</td><td>1</td><td>0</td><td>0</td><td>0</td><td>0</td><td>0</td><td>1</td></tr><tr><th>24</th><td>0</td><td>1</td><td>1</td><td>1</td><td>1</td><td>0</td><td>1</td><td>0</td><td>1</td><td>1</td></tr><tr><th>25</th><td>1</td><td>1</td><td>1</td><td>1</td><td>1</td><td>1</td><td>1</td><td>1</td><td>1</td><td>1</td></tr><tr><th>26</th><td>0</td><td>0</td><td>0</td><td>1</td><td>0</td><td>0</td><td>1</td><td>0</td><td>0</td><td>0</td></tr><tr><th>27</th><td>1</td><td>1</td><td>0</td><td>0</td><td>0</td><td>1</td><td>1</td><td>0</td><td>1</td><td>1</td></tr><tr><th>28</th><td>0</td><td>1</td><td>0</td><td>0</td><td>0</td><td>1</td><td>0</td><td>1</td><td>0</td><td>0</td></tr><tr><th>29</th><td>0</td><td>0</td><td>0</td><td>1</td><td>1</td><td>0</td><td>0</td><td>0</td><td>0</td><td>0</td></tr><tr><th>30</th><td>1</td><td>1</td><td>1</td><td>1</td><td>1</td><td>1</td><td>1</td><td>1</td><td>1</td><td>1</td></tr><tr><th>&vellip;</th><td>&vellip;</td><td>&vellip;</td><td>&vellip;</td><td>&vellip;</td><td>&vellip;</td><td>&vellip;</td><td>&vellip;</td><td>&vellip;</td><td>&vellip;</td><td>&vellip;</td></tr></tbody></table>"
      ],
      "text/latex": [
       "\\begin{tabular}{r|cccccccccc}\n",
       "\t& Trait1 & Trait2 & Trait3 & Trait4 & Trait5 & Trait6 & Trait7 & Trait8 & Trait9 & Trait10\\\\\n",
       "\t\\hline\n",
       "\t& Int64 & Int64 & Int64 & Int64 & Int64 & Int64 & Int64 & Int64 & Int64 & Int64\\\\\n",
       "\t\\hline\n",
       "\t1 & 0 & 1 & 0 & 1 & 0 & 1 & 1 & 1 & 1 & 0 \\\\\n",
       "\t2 & 1 & 1 & 1 & 1 & 1 & 1 & 1 & 1 & 1 & 1 \\\\\n",
       "\t3 & 0 & 1 & 1 & 0 & 1 & 0 & 1 & 0 & 1 & 0 \\\\\n",
       "\t4 & 1 & 1 & 1 & 1 & 1 & 1 & 1 & 1 & 1 & 1 \\\\\n",
       "\t5 & 1 & 1 & 1 & 1 & 1 & 1 & 1 & 1 & 1 & 1 \\\\\n",
       "\t6 & 0 & 0 & 0 & 0 & 1 & 1 & 0 & 1 & 0 & 0 \\\\\n",
       "\t7 & 1 & 1 & 1 & 1 & 1 & 1 & 1 & 1 & 1 & 0 \\\\\n",
       "\t8 & 1 & 1 & 1 & 1 & 1 & 1 & 1 & 1 & 1 & 1 \\\\\n",
       "\t9 & 1 & 1 & 1 & 1 & 1 & 1 & 1 & 1 & 1 & 1 \\\\\n",
       "\t10 & 1 & 1 & 1 & 1 & 1 & 1 & 1 & 1 & 1 & 1 \\\\\n",
       "\t11 & 1 & 1 & 1 & 1 & 1 & 1 & 1 & 1 & 1 & 1 \\\\\n",
       "\t12 & 1 & 1 & 1 & 1 & 1 & 1 & 1 & 1 & 1 & 1 \\\\\n",
       "\t13 & 1 & 1 & 0 & 1 & 0 & 1 & 1 & 1 & 0 & 1 \\\\\n",
       "\t14 & 0 & 0 & 0 & 1 & 1 & 0 & 1 & 1 & 1 & 1 \\\\\n",
       "\t15 & 1 & 1 & 1 & 1 & 1 & 1 & 0 & 0 & 0 & 1 \\\\\n",
       "\t16 & 0 & 1 & 0 & 0 & 0 & 0 & 0 & 1 & 0 & 0 \\\\\n",
       "\t17 & 0 & 0 & 0 & 0 & 0 & 0 & 0 & 1 & 0 & 0 \\\\\n",
       "\t18 & 0 & 0 & 1 & 1 & 0 & 1 & 0 & 0 & 0 & 0 \\\\\n",
       "\t19 & 1 & 1 & 0 & 1 & 0 & 1 & 1 & 0 & 1 & 0 \\\\\n",
       "\t20 & 0 & 1 & 0 & 0 & 0 & 1 & 0 & 0 & 0 & 0 \\\\\n",
       "\t21 & 0 & 0 & 0 & 1 & 0 & 0 & 0 & 0 & 1 & 0 \\\\\n",
       "\t22 & 1 & 1 & 1 & 1 & 1 & 1 & 1 & 1 & 1 & 1 \\\\\n",
       "\t23 & 1 & 1 & 0 & 1 & 0 & 0 & 0 & 0 & 0 & 1 \\\\\n",
       "\t24 & 0 & 1 & 1 & 1 & 1 & 0 & 1 & 0 & 1 & 1 \\\\\n",
       "\t25 & 1 & 1 & 1 & 1 & 1 & 1 & 1 & 1 & 1 & 1 \\\\\n",
       "\t26 & 0 & 0 & 0 & 1 & 0 & 0 & 1 & 0 & 0 & 0 \\\\\n",
       "\t27 & 1 & 1 & 0 & 0 & 0 & 1 & 1 & 0 & 1 & 1 \\\\\n",
       "\t28 & 0 & 1 & 0 & 0 & 0 & 1 & 0 & 1 & 0 & 0 \\\\\n",
       "\t29 & 0 & 0 & 0 & 1 & 1 & 0 & 0 & 0 & 0 & 0 \\\\\n",
       "\t30 & 1 & 1 & 1 & 1 & 1 & 1 & 1 & 1 & 1 & 1 \\\\\n",
       "\t$\\dots$ & $\\dots$ & $\\dots$ & $\\dots$ & $\\dots$ & $\\dots$ & $\\dots$ & $\\dots$ & $\\dots$ & $\\dots$ & $\\dots$ \\\\\n",
       "\\end{tabular}\n"
      ],
      "text/plain": [
       "5000×10 DataFrame. Omitted printing of 2 columns\n",
       "│ Row  │ Trait1 │ Trait2 │ Trait3 │ Trait4 │ Trait5 │ Trait6 │ Trait7 │ Trait8 │\n",
       "│      │ \u001b[90mInt64\u001b[39m  │ \u001b[90mInt64\u001b[39m  │ \u001b[90mInt64\u001b[39m  │ \u001b[90mInt64\u001b[39m  │ \u001b[90mInt64\u001b[39m  │ \u001b[90mInt64\u001b[39m  │ \u001b[90mInt64\u001b[39m  │ \u001b[90mInt64\u001b[39m  │\n",
       "├──────┼────────┼────────┼────────┼────────┼────────┼────────┼────────┼────────┤\n",
       "│ 1    │ 0      │ 1      │ 0      │ 1      │ 0      │ 1      │ 1      │ 1      │\n",
       "│ 2    │ 1      │ 1      │ 1      │ 1      │ 1      │ 1      │ 1      │ 1      │\n",
       "│ 3    │ 0      │ 1      │ 1      │ 0      │ 1      │ 0      │ 1      │ 0      │\n",
       "│ 4    │ 1      │ 1      │ 1      │ 1      │ 1      │ 1      │ 1      │ 1      │\n",
       "│ 5    │ 1      │ 1      │ 1      │ 1      │ 1      │ 1      │ 1      │ 1      │\n",
       "│ 6    │ 0      │ 0      │ 0      │ 0      │ 1      │ 1      │ 0      │ 1      │\n",
       "│ 7    │ 1      │ 1      │ 1      │ 1      │ 1      │ 1      │ 1      │ 1      │\n",
       "│ 8    │ 1      │ 1      │ 1      │ 1      │ 1      │ 1      │ 1      │ 1      │\n",
       "│ 9    │ 1      │ 1      │ 1      │ 1      │ 1      │ 1      │ 1      │ 1      │\n",
       "│ 10   │ 1      │ 1      │ 1      │ 1      │ 1      │ 1      │ 1      │ 1      │\n",
       "⋮\n",
       "│ 4990 │ 1      │ 1      │ 1      │ 1      │ 1      │ 1      │ 1      │ 1      │\n",
       "│ 4991 │ 1      │ 1      │ 1      │ 1      │ 1      │ 0      │ 1      │ 1      │\n",
       "│ 4992 │ 0      │ 0      │ 0      │ 0      │ 0      │ 0      │ 0      │ 0      │\n",
       "│ 4993 │ 0      │ 0      │ 0      │ 0      │ 0      │ 0      │ 1      │ 1      │\n",
       "│ 4994 │ 0      │ 1      │ 1      │ 0      │ 0      │ 1      │ 1      │ 1      │\n",
       "│ 4995 │ 1      │ 1      │ 1      │ 1      │ 1      │ 1      │ 1      │ 1      │\n",
       "│ 4996 │ 0      │ 0      │ 1      │ 0      │ 0      │ 0      │ 1      │ 0      │\n",
       "│ 4997 │ 1      │ 1      │ 1      │ 1      │ 1      │ 1      │ 1      │ 1      │\n",
       "│ 4998 │ 1      │ 1      │ 1      │ 1      │ 1      │ 1      │ 1      │ 1      │\n",
       "│ 4999 │ 0      │ 1      │ 1      │ 1      │ 1      │ 0      │ 1      │ 1      │\n",
       "│ 5000 │ 1      │ 1      │ 1      │ 1      │ 1      │ 1      │ 1      │ 1      │"
      ]
     },
     "execution_count": 23,
     "metadata": {},
     "output_type": "execute_result"
    }
   ],
   "source": [
    "Logistic_Trait = DataFrame(simulate(Ordinal_Model, nsim, Logistic = true, threshold = 2))\n",
    "rename!(Logistic_Trait, [Symbol(\"Trait$i\") for i in 1:nsim])"
   ]
  },
  {
   "cell_type": "markdown",
   "metadata": {},
   "source": [
    "## `Power Calculation:`\n",
    "\n",
    "We use the following function to generate the p-values for the simulated power example for the ordered multinomial regression model. We range effect sizes in the vector γs, which collects effect sizes from 0 to 1 in increments of 0.05. As expected, the power increases as the effect size increases. \n",
    "    "
   ]
  },
  {
   "cell_type": "code",
   "execution_count": 24,
   "metadata": {},
   "outputs": [
    {
     "data": {
      "text/plain": [
       "11-element Array{Float64,1}:\n",
       " 0.0 \n",
       " 0.05\n",
       " 0.1 \n",
       " 0.15\n",
       " 0.2 \n",
       " 0.25\n",
       " 0.3 \n",
       " 0.35\n",
       " 0.4 \n",
       " 0.45\n",
       " 0.5 "
      ]
     },
     "execution_count": 24,
     "metadata": {},
     "output_type": "execute_result"
    }
   ],
   "source": [
    "γs = collect(0.0:0.05:0.5)"
   ]
  },
  {
   "cell_type": "markdown",
   "metadata": {},
   "source": [
    "Each column of this matrix represents each of the detected effect sizes, and each row of this matrix represents each simulation for that effect size. The user feeds into the function the number of simulations, the vector of effect sizes, the TraitSimulation.jl model object, and the random seed.\n",
    "\n",
    "For GLMTrait objects, the `realistic_power_simulation` function makes the appropriate calls to the GLM.jl package to get the simulation p-values obtained from testing the significance of the causal locus using the Wald Test by default. However since the GLM.jl package has its limitations, we include additional power utilities that make the appropriate function calls to the [OrdinalMultinomialModels](https://openmendel.github.io/OrdinalMultinomialModels.jl/stable/#Syntax-1) to get the p-value obtained from testing the significance of the causal locus.\n"
   ]
  },
  {
   "cell_type": "code",
   "execution_count": 25,
   "metadata": {},
   "outputs": [
    {
     "data": {
      "text/plain": [
       "ordinal_multinomial_power (generic function with 1 method)"
      ]
     },
     "execution_count": 25,
     "metadata": {},
     "output_type": "execute_result"
    }
   ],
   "source": [
    "function ordinal_multinomial_power(\n",
    "    nsim::Int, γs::Vector{Float64}, traitobject::OrderedMultinomialTrait, randomseed::Int)\n",
    "    #power estimate\n",
    "    pvaluepolr = Array{Float64}(undef, nsim, length(γs))\n",
    "    β_original = traitobject.β[end]\n",
    "    Random.seed!(randomseed)\n",
    "\n",
    "    #generate the data\n",
    "    X_null = traitobject.X[:, 1:(end - 1)]\n",
    "    causal_snp = traitobject.X[:, end][:, :]\n",
    "    for j in eachindex(γs)\n",
    "        for i in 1:nsim\n",
    "            β = traitobject.β\n",
    "            β[end] = γs[j]\n",
    "            #println(traitobject.β)\n",
    "            #simulate the trait\n",
    "            y = simulate(traitobject)\n",
    "            ydata = DataFrame(y = y) #for GLM package needs to be in a dataframe\n",
    "            #compute the power from the ordinal model\n",
    "            ornull = polr(X_null, y, traitobject.link)\n",
    "            pvaluepolr[i, j] = polrtest(OrdinalMultinomialScoreTest(ornull, causal_snp))\n",
    "        end\n",
    "    end\n",
    "    traitobject.β[end] = β_original\n",
    "    return pvaluepolr\n",
    "end\n"
   ]
  },
  {
   "cell_type": "code",
   "execution_count": 26,
   "metadata": {},
   "outputs": [
    {
     "data": {
      "text/html": [
       "<table class=\"data-frame\"><thead><tr><th></th><th>γs = 0.0</th><th>γs = 0.05</th><th>γs = 0.1</th><th>γs = 0.15</th><th>γs = 0.2</th><th>γs = 0.25</th><th>γs = 0.3</th></tr><tr><th></th><th>Float64</th><th>Float64</th><th>Float64</th><th>Float64</th><th>Float64</th><th>Float64</th><th>Float64</th></tr></thead><tbody><p>100 rows × 11 columns (omitted printing of 4 columns)</p><tr><th>1</th><td>0.362309</td><td>0.145602</td><td>0.869612</td><td>3.11717e-7</td><td>8.12364e-6</td><td>0.00431672</td><td>7.53159e-7</td></tr><tr><th>2</th><td>0.159065</td><td>0.760098</td><td>0.0372289</td><td>0.241983</td><td>0.00384717</td><td>8.98399e-5</td><td>1.52093e-5</td></tr><tr><th>3</th><td>0.423434</td><td>0.0086178</td><td>0.410523</td><td>0.00851461</td><td>2.65624e-7</td><td>8.42959e-8</td><td>7.93777e-7</td></tr><tr><th>4</th><td>0.0371969</td><td>0.00390444</td><td>0.0515142</td><td>0.000264814</td><td>2.21532e-5</td><td>1.86846e-6</td><td>0.000610505</td></tr><tr><th>5</th><td>0.821688</td><td>0.118506</td><td>0.0139787</td><td>4.96686e-5</td><td>0.0015663</td><td>9.99855e-8</td><td>6.37073e-7</td></tr><tr><th>6</th><td>0.925346</td><td>0.186023</td><td>0.0618904</td><td>0.102647</td><td>0.00294315</td><td>4.21476e-5</td><td>4.41649e-7</td></tr><tr><th>7</th><td>0.359071</td><td>0.039458</td><td>0.861436</td><td>0.000969297</td><td>4.69087e-5</td><td>1.16095e-6</td><td>3.53071e-5</td></tr><tr><th>8</th><td>0.67144</td><td>0.642021</td><td>0.0032345</td><td>0.00175351</td><td>4.39916e-8</td><td>0.00062001</td><td>1.84705e-11</td></tr><tr><th>9</th><td>0.53824</td><td>0.803158</td><td>0.0864482</td><td>0.00221458</td><td>0.164012</td><td>0.00108372</td><td>1.62538e-9</td></tr><tr><th>10</th><td>0.346091</td><td>0.610644</td><td>0.00166989</td><td>0.00505754</td><td>5.40483e-6</td><td>6.52737e-9</td><td>2.90593e-12</td></tr><tr><th>11</th><td>0.167943</td><td>0.269926</td><td>0.000816307</td><td>0.0619718</td><td>0.000137373</td><td>0.00101141</td><td>1.08027e-8</td></tr><tr><th>12</th><td>0.109269</td><td>0.004905</td><td>0.0019313</td><td>0.00157923</td><td>3.83052e-6</td><td>3.8507e-8</td><td>2.02977e-7</td></tr><tr><th>13</th><td>0.330925</td><td>0.451128</td><td>0.0260292</td><td>0.0225165</td><td>0.000736332</td><td>1.18065e-11</td><td>1.46156e-12</td></tr><tr><th>14</th><td>0.401771</td><td>0.857171</td><td>0.0323682</td><td>1.14005e-5</td><td>2.041e-5</td><td>1.69914e-6</td><td>4.88913e-12</td></tr><tr><th>15</th><td>0.568477</td><td>0.0630881</td><td>0.168848</td><td>0.0128311</td><td>0.016149</td><td>0.0112199</td><td>1.46611e-6</td></tr><tr><th>16</th><td>0.862401</td><td>0.0601724</td><td>0.0353899</td><td>6.43778e-6</td><td>2.13767e-7</td><td>1.01956e-5</td><td>2.68073e-7</td></tr><tr><th>17</th><td>0.521371</td><td>0.983135</td><td>0.042185</td><td>2.58819e-5</td><td>0.389805</td><td>3.36919e-7</td><td>8.64545e-6</td></tr><tr><th>18</th><td>0.91253</td><td>0.0785686</td><td>0.000876641</td><td>0.00890639</td><td>0.00408806</td><td>0.000597636</td><td>4.48763e-9</td></tr><tr><th>19</th><td>0.56817</td><td>0.00845787</td><td>0.358731</td><td>0.0540354</td><td>0.000989363</td><td>0.000301775</td><td>1.23944e-8</td></tr><tr><th>20</th><td>0.0766901</td><td>0.0495847</td><td>0.00591966</td><td>0.0413003</td><td>0.00125954</td><td>2.96929e-8</td><td>8.88805e-7</td></tr><tr><th>21</th><td>0.764294</td><td>0.792578</td><td>5.23464e-5</td><td>0.0240034</td><td>0.000235095</td><td>5.80359e-7</td><td>1.86832e-7</td></tr><tr><th>22</th><td>0.362956</td><td>0.0362128</td><td>0.00278829</td><td>1.01053e-6</td><td>0.000215968</td><td>3.43234e-5</td><td>5.98112e-8</td></tr><tr><th>23</th><td>0.464033</td><td>0.451802</td><td>0.710315</td><td>0.0150478</td><td>0.00501963</td><td>4.86814e-6</td><td>3.85565e-8</td></tr><tr><th>24</th><td>0.432544</td><td>0.0374705</td><td>0.131835</td><td>0.00213159</td><td>0.048432</td><td>4.19596e-6</td><td>5.77858e-9</td></tr><tr><th>25</th><td>0.62625</td><td>0.32215</td><td>0.0156214</td><td>0.0623055</td><td>0.000123951</td><td>6.51728e-6</td><td>3.38018e-11</td></tr><tr><th>26</th><td>0.0894712</td><td>0.648818</td><td>0.237778</td><td>0.418558</td><td>0.0425958</td><td>1.78233e-7</td><td>2.2979e-10</td></tr><tr><th>27</th><td>0.9658</td><td>0.0461059</td><td>0.0237251</td><td>0.00892564</td><td>2.83424e-8</td><td>0.00179683</td><td>2.20499e-9</td></tr><tr><th>28</th><td>0.507705</td><td>0.910031</td><td>0.201181</td><td>0.0170608</td><td>8.53456e-9</td><td>1.37423e-6</td><td>7.58574e-8</td></tr><tr><th>29</th><td>0.143127</td><td>0.220103</td><td>0.103718</td><td>0.0531989</td><td>0.000112271</td><td>8.68575e-8</td><td>0.000795859</td></tr><tr><th>30</th><td>0.388193</td><td>0.837777</td><td>0.019145</td><td>0.000177415</td><td>1.09349e-5</td><td>1.38964e-6</td><td>0.000210648</td></tr><tr><th>&vellip;</th><td>&vellip;</td><td>&vellip;</td><td>&vellip;</td><td>&vellip;</td><td>&vellip;</td><td>&vellip;</td><td>&vellip;</td></tr></tbody></table>"
      ],
      "text/latex": [
       "\\begin{tabular}{r|cccccccc}\n",
       "\t& γs = 0.0 & γs = 0.05 & γs = 0.1 & γs = 0.15 & γs = 0.2 & γs = 0.25 & γs = 0.3 & \\\\\n",
       "\t\\hline\n",
       "\t& Float64 & Float64 & Float64 & Float64 & Float64 & Float64 & Float64 & \\\\\n",
       "\t\\hline\n",
       "\t1 & 0.362309 & 0.145602 & 0.869612 & 3.11717e-7 & 8.12364e-6 & 0.00431672 & 7.53159e-7 & $\\dots$ \\\\\n",
       "\t2 & 0.159065 & 0.760098 & 0.0372289 & 0.241983 & 0.00384717 & 8.98399e-5 & 1.52093e-5 & $\\dots$ \\\\\n",
       "\t3 & 0.423434 & 0.0086178 & 0.410523 & 0.00851461 & 2.65624e-7 & 8.42959e-8 & 7.93777e-7 & $\\dots$ \\\\\n",
       "\t4 & 0.0371969 & 0.00390444 & 0.0515142 & 0.000264814 & 2.21532e-5 & 1.86846e-6 & 0.000610505 & $\\dots$ \\\\\n",
       "\t5 & 0.821688 & 0.118506 & 0.0139787 & 4.96686e-5 & 0.0015663 & 9.99855e-8 & 6.37073e-7 & $\\dots$ \\\\\n",
       "\t6 & 0.925346 & 0.186023 & 0.0618904 & 0.102647 & 0.00294315 & 4.21476e-5 & 4.41649e-7 & $\\dots$ \\\\\n",
       "\t7 & 0.359071 & 0.039458 & 0.861436 & 0.000969297 & 4.69087e-5 & 1.16095e-6 & 3.53071e-5 & $\\dots$ \\\\\n",
       "\t8 & 0.67144 & 0.642021 & 0.0032345 & 0.00175351 & 4.39916e-8 & 0.00062001 & 1.84705e-11 & $\\dots$ \\\\\n",
       "\t9 & 0.53824 & 0.803158 & 0.0864482 & 0.00221458 & 0.164012 & 0.00108372 & 1.62538e-9 & $\\dots$ \\\\\n",
       "\t10 & 0.346091 & 0.610644 & 0.00166989 & 0.00505754 & 5.40483e-6 & 6.52737e-9 & 2.90593e-12 & $\\dots$ \\\\\n",
       "\t11 & 0.167943 & 0.269926 & 0.000816307 & 0.0619718 & 0.000137373 & 0.00101141 & 1.08027e-8 & $\\dots$ \\\\\n",
       "\t12 & 0.109269 & 0.004905 & 0.0019313 & 0.00157923 & 3.83052e-6 & 3.8507e-8 & 2.02977e-7 & $\\dots$ \\\\\n",
       "\t13 & 0.330925 & 0.451128 & 0.0260292 & 0.0225165 & 0.000736332 & 1.18065e-11 & 1.46156e-12 & $\\dots$ \\\\\n",
       "\t14 & 0.401771 & 0.857171 & 0.0323682 & 1.14005e-5 & 2.041e-5 & 1.69914e-6 & 4.88913e-12 & $\\dots$ \\\\\n",
       "\t15 & 0.568477 & 0.0630881 & 0.168848 & 0.0128311 & 0.016149 & 0.0112199 & 1.46611e-6 & $\\dots$ \\\\\n",
       "\t16 & 0.862401 & 0.0601724 & 0.0353899 & 6.43778e-6 & 2.13767e-7 & 1.01956e-5 & 2.68073e-7 & $\\dots$ \\\\\n",
       "\t17 & 0.521371 & 0.983135 & 0.042185 & 2.58819e-5 & 0.389805 & 3.36919e-7 & 8.64545e-6 & $\\dots$ \\\\\n",
       "\t18 & 0.91253 & 0.0785686 & 0.000876641 & 0.00890639 & 0.00408806 & 0.000597636 & 4.48763e-9 & $\\dots$ \\\\\n",
       "\t19 & 0.56817 & 0.00845787 & 0.358731 & 0.0540354 & 0.000989363 & 0.000301775 & 1.23944e-8 & $\\dots$ \\\\\n",
       "\t20 & 0.0766901 & 0.0495847 & 0.00591966 & 0.0413003 & 0.00125954 & 2.96929e-8 & 8.88805e-7 & $\\dots$ \\\\\n",
       "\t21 & 0.764294 & 0.792578 & 5.23464e-5 & 0.0240034 & 0.000235095 & 5.80359e-7 & 1.86832e-7 & $\\dots$ \\\\\n",
       "\t22 & 0.362956 & 0.0362128 & 0.00278829 & 1.01053e-6 & 0.000215968 & 3.43234e-5 & 5.98112e-8 & $\\dots$ \\\\\n",
       "\t23 & 0.464033 & 0.451802 & 0.710315 & 0.0150478 & 0.00501963 & 4.86814e-6 & 3.85565e-8 & $\\dots$ \\\\\n",
       "\t24 & 0.432544 & 0.0374705 & 0.131835 & 0.00213159 & 0.048432 & 4.19596e-6 & 5.77858e-9 & $\\dots$ \\\\\n",
       "\t25 & 0.62625 & 0.32215 & 0.0156214 & 0.0623055 & 0.000123951 & 6.51728e-6 & 3.38018e-11 & $\\dots$ \\\\\n",
       "\t26 & 0.0894712 & 0.648818 & 0.237778 & 0.418558 & 0.0425958 & 1.78233e-7 & 2.2979e-10 & $\\dots$ \\\\\n",
       "\t27 & 0.9658 & 0.0461059 & 0.0237251 & 0.00892564 & 2.83424e-8 & 0.00179683 & 2.20499e-9 & $\\dots$ \\\\\n",
       "\t28 & 0.507705 & 0.910031 & 0.201181 & 0.0170608 & 8.53456e-9 & 1.37423e-6 & 7.58574e-8 & $\\dots$ \\\\\n",
       "\t29 & 0.143127 & 0.220103 & 0.103718 & 0.0531989 & 0.000112271 & 8.68575e-8 & 0.000795859 & $\\dots$ \\\\\n",
       "\t30 & 0.388193 & 0.837777 & 0.019145 & 0.000177415 & 1.09349e-5 & 1.38964e-6 & 0.000210648 & $\\dots$ \\\\\n",
       "\t$\\dots$ & $\\dots$ & $\\dots$ & $\\dots$ & $\\dots$ & $\\dots$ & $\\dots$ & $\\dots$ &  \\\\\n",
       "\\end{tabular}\n"
      ],
      "text/plain": [
       "100×11 DataFrame. Omitted printing of 6 columns\n",
       "│ Row │ γs = 0.0  │ γs = 0.05  │ γs = 0.1    │ γs = 0.15   │ γs = 0.2    │\n",
       "│     │ \u001b[90mFloat64\u001b[39m   │ \u001b[90mFloat64\u001b[39m    │ \u001b[90mFloat64\u001b[39m     │ \u001b[90mFloat64\u001b[39m     │ \u001b[90mFloat64\u001b[39m     │\n",
       "├─────┼───────────┼────────────┼─────────────┼─────────────┼─────────────┤\n",
       "│ 1   │ 0.362309  │ 0.145602   │ 0.869612    │ 3.11717e-7  │ 8.12364e-6  │\n",
       "│ 2   │ 0.159065  │ 0.760098   │ 0.0372289   │ 0.241983    │ 0.00384717  │\n",
       "│ 3   │ 0.423434  │ 0.0086178  │ 0.410523    │ 0.00851461  │ 2.65624e-7  │\n",
       "│ 4   │ 0.0371969 │ 0.00390444 │ 0.0515142   │ 0.000264814 │ 2.21532e-5  │\n",
       "│ 5   │ 0.821688  │ 0.118506   │ 0.0139787   │ 4.96686e-5  │ 0.0015663   │\n",
       "│ 6   │ 0.925346  │ 0.186023   │ 0.0618904   │ 0.102647    │ 0.00294315  │\n",
       "│ 7   │ 0.359071  │ 0.039458   │ 0.861436    │ 0.000969297 │ 4.69087e-5  │\n",
       "│ 8   │ 0.67144   │ 0.642021   │ 0.0032345   │ 0.00175351  │ 4.39916e-8  │\n",
       "│ 9   │ 0.53824   │ 0.803158   │ 0.0864482   │ 0.00221458  │ 0.164012    │\n",
       "│ 10  │ 0.346091  │ 0.610644   │ 0.00166989  │ 0.00505754  │ 5.40483e-6  │\n",
       "⋮\n",
       "│ 90  │ 0.856048  │ 0.449792   │ 0.0352293   │ 0.00767278  │ 0.611727    │\n",
       "│ 91  │ 0.962905  │ 0.0087271  │ 0.000159233 │ 0.00326556  │ 0.026359    │\n",
       "│ 92  │ 0.438563  │ 0.0971755  │ 0.0942469   │ 0.011037    │ 0.000130114 │\n",
       "│ 93  │ 0.64462   │ 0.970067   │ 0.163251    │ 0.00581941  │ 0.00568499  │\n",
       "│ 94  │ 0.355584  │ 0.935451   │ 0.0486391   │ 0.280742    │ 0.0467105   │\n",
       "│ 95  │ 0.216501  │ 0.650384   │ 0.0492392   │ 7.60063e-7  │ 7.4403e-6   │\n",
       "│ 96  │ 0.782543  │ 0.711119   │ 3.51031e-5  │ 0.000169147 │ 0.0114473   │\n",
       "│ 97  │ 0.790104  │ 0.267252   │ 0.0295698   │ 0.000881676 │ 0.00285775  │\n",
       "│ 98  │ 0.736896  │ 0.341451   │ 0.0106947   │ 0.00234287  │ 0.0108214   │\n",
       "│ 99  │ 0.763234  │ 0.0215106  │ 0.0444423   │ 0.00625903  │ 0.000183496 │\n",
       "│ 100 │ 0.0342769 │ 0.470606   │ 0.0524987   │ 0.460987    │ 0.00013976  │"
      ]
     },
     "execution_count": 26,
     "metadata": {},
     "output_type": "execute_result"
    }
   ],
   "source": [
    "nsim = 100\n",
    "randomseed = 1234\n",
    "simulated_pvalues = ordinal_multinomial_power(nsim, γs, Ordinal_Model, randomseed)\n",
    "rename!(DataFrame(simulated_pvalues), [Symbol(\"γs = $(γs[i])\") for i in 1:length(γs)])"
   ]
  },
  {
   "cell_type": "markdown",
   "metadata": {},
   "source": [
    "Now we find the power of each effect size in the user-specified γs vector at the specified alpha level of significance, and plot the trajectory using the Plots.jl package."
   ]
  },
  {
   "cell_type": "code",
   "execution_count": 27,
   "metadata": {
    "scrolled": true
   },
   "outputs": [
    {
     "data": {
      "text/plain": [
       "11-element Array{Float64,1}:\n",
       " 0.0 \n",
       " 0.0 \n",
       " 0.0 \n",
       " 0.07\n",
       " 0.19\n",
       " 0.47\n",
       " 0.75\n",
       " 0.95\n",
       " 1.0 \n",
       " 1.0 \n",
       " 1.0 "
      ]
     },
     "execution_count": 27,
     "metadata": {},
     "output_type": "execute_result"
    }
   ],
   "source": [
    "α = 0.000005\n",
    "power_effectsize = power(simulated_pvalues, α)"
   ]
  },
  {
   "cell_type": "code",
   "execution_count": 28,
   "metadata": {},
   "outputs": [
    {
     "data": {
      "image/svg+xml": [
       "<?xml version=\"1.0\" encoding=\"utf-8\"?>\n",
       "<svg xmlns=\"http://www.w3.org/2000/svg\" xmlns:xlink=\"http://www.w3.org/1999/xlink\" width=\"600\" height=\"400\" viewBox=\"0 0 2400 1600\">\n",
       "<defs>\n",
       "  <clipPath id=\"clip3800\">\n",
       "    <rect x=\"0\" y=\"0\" width=\"2400\" height=\"1600\"/>\n",
       "  </clipPath>\n",
       "</defs>\n",
       "<path clip-path=\"url(#clip3800)\" d=\"\n",
       "M0 1600 L2400 1600 L2400 0 L0 0  Z\n",
       "  \" fill=\"#ffffff\" fill-rule=\"evenodd\" fill-opacity=\"1\"/>\n",
       "<defs>\n",
       "  <clipPath id=\"clip3801\">\n",
       "    <rect x=\"480\" y=\"0\" width=\"1681\" height=\"1600\"/>\n",
       "  </clipPath>\n",
       "</defs>\n",
       "<path clip-path=\"url(#clip3800)\" d=\"\n",
       "M180.66 1425.62 L2352.76 1425.62 L2352.76 121.675 L180.66 121.675  Z\n",
       "  \" fill=\"#ffffff\" fill-rule=\"evenodd\" fill-opacity=\"1\"/>\n",
       "<defs>\n",
       "  <clipPath id=\"clip3802\">\n",
       "    <rect x=\"180\" y=\"121\" width=\"2173\" height=\"1305\"/>\n",
       "  </clipPath>\n",
       "</defs>\n",
       "<polyline clip-path=\"url(#clip3802)\" style=\"stroke:#000000; stroke-width:2; stroke-opacity:0.1; fill:none\" points=\"\n",
       "  242.135,1425.62 242.135,121.675 \n",
       "  \"/>\n",
       "<polyline clip-path=\"url(#clip3802)\" style=\"stroke:#000000; stroke-width:2; stroke-opacity:0.1; fill:none\" points=\"\n",
       "  651.964,1425.62 651.964,121.675 \n",
       "  \"/>\n",
       "<polyline clip-path=\"url(#clip3802)\" style=\"stroke:#000000; stroke-width:2; stroke-opacity:0.1; fill:none\" points=\"\n",
       "  1061.79,1425.62 1061.79,121.675 \n",
       "  \"/>\n",
       "<polyline clip-path=\"url(#clip3802)\" style=\"stroke:#000000; stroke-width:2; stroke-opacity:0.1; fill:none\" points=\"\n",
       "  1471.62,1425.62 1471.62,121.675 \n",
       "  \"/>\n",
       "<polyline clip-path=\"url(#clip3802)\" style=\"stroke:#000000; stroke-width:2; stroke-opacity:0.1; fill:none\" points=\"\n",
       "  1881.45,1425.62 1881.45,121.675 \n",
       "  \"/>\n",
       "<polyline clip-path=\"url(#clip3802)\" style=\"stroke:#000000; stroke-width:2; stroke-opacity:0.1; fill:none\" points=\"\n",
       "  2291.28,1425.62 2291.28,121.675 \n",
       "  \"/>\n",
       "<polyline clip-path=\"url(#clip3802)\" style=\"stroke:#000000; stroke-width:2; stroke-opacity:0.1; fill:none\" points=\"\n",
       "  180.66,1388.71 2352.76,1388.71 \n",
       "  \"/>\n",
       "<polyline clip-path=\"url(#clip3802)\" style=\"stroke:#000000; stroke-width:2; stroke-opacity:0.1; fill:none\" points=\"\n",
       "  180.66,1081.18 2352.76,1081.18 \n",
       "  \"/>\n",
       "<polyline clip-path=\"url(#clip3802)\" style=\"stroke:#000000; stroke-width:2; stroke-opacity:0.1; fill:none\" points=\"\n",
       "  180.66,773.647 2352.76,773.647 \n",
       "  \"/>\n",
       "<polyline clip-path=\"url(#clip3802)\" style=\"stroke:#000000; stroke-width:2; stroke-opacity:0.1; fill:none\" points=\"\n",
       "  180.66,466.113 2352.76,466.113 \n",
       "  \"/>\n",
       "<polyline clip-path=\"url(#clip3802)\" style=\"stroke:#000000; stroke-width:2; stroke-opacity:0.1; fill:none\" points=\"\n",
       "  180.66,158.579 2352.76,158.579 \n",
       "  \"/>\n",
       "<polyline clip-path=\"url(#clip3800)\" style=\"stroke:#000000; stroke-width:4; stroke-opacity:1; fill:none\" points=\"\n",
       "  180.66,1425.62 2352.76,1425.62 \n",
       "  \"/>\n",
       "<polyline clip-path=\"url(#clip3800)\" style=\"stroke:#000000; stroke-width:4; stroke-opacity:1; fill:none\" points=\"\n",
       "  180.66,1425.62 180.66,121.675 \n",
       "  \"/>\n",
       "<polyline clip-path=\"url(#clip3800)\" style=\"stroke:#000000; stroke-width:4; stroke-opacity:1; fill:none\" points=\"\n",
       "  242.135,1425.62 242.135,1409.97 \n",
       "  \"/>\n",
       "<polyline clip-path=\"url(#clip3800)\" style=\"stroke:#000000; stroke-width:4; stroke-opacity:1; fill:none\" points=\"\n",
       "  651.964,1425.62 651.964,1409.97 \n",
       "  \"/>\n",
       "<polyline clip-path=\"url(#clip3800)\" style=\"stroke:#000000; stroke-width:4; stroke-opacity:1; fill:none\" points=\"\n",
       "  1061.79,1425.62 1061.79,1409.97 \n",
       "  \"/>\n",
       "<polyline clip-path=\"url(#clip3800)\" style=\"stroke:#000000; stroke-width:4; stroke-opacity:1; fill:none\" points=\"\n",
       "  1471.62,1425.62 1471.62,1409.97 \n",
       "  \"/>\n",
       "<polyline clip-path=\"url(#clip3800)\" style=\"stroke:#000000; stroke-width:4; stroke-opacity:1; fill:none\" points=\"\n",
       "  1881.45,1425.62 1881.45,1409.97 \n",
       "  \"/>\n",
       "<polyline clip-path=\"url(#clip3800)\" style=\"stroke:#000000; stroke-width:4; stroke-opacity:1; fill:none\" points=\"\n",
       "  2291.28,1425.62 2291.28,1409.97 \n",
       "  \"/>\n",
       "<polyline clip-path=\"url(#clip3800)\" style=\"stroke:#000000; stroke-width:4; stroke-opacity:1; fill:none\" points=\"\n",
       "  180.66,1388.71 206.725,1388.71 \n",
       "  \"/>\n",
       "<polyline clip-path=\"url(#clip3800)\" style=\"stroke:#000000; stroke-width:4; stroke-opacity:1; fill:none\" points=\"\n",
       "  180.66,1081.18 206.725,1081.18 \n",
       "  \"/>\n",
       "<polyline clip-path=\"url(#clip3800)\" style=\"stroke:#000000; stroke-width:4; stroke-opacity:1; fill:none\" points=\"\n",
       "  180.66,773.647 206.725,773.647 \n",
       "  \"/>\n",
       "<polyline clip-path=\"url(#clip3800)\" style=\"stroke:#000000; stroke-width:4; stroke-opacity:1; fill:none\" points=\"\n",
       "  180.66,466.113 206.725,466.113 \n",
       "  \"/>\n",
       "<polyline clip-path=\"url(#clip3800)\" style=\"stroke:#000000; stroke-width:4; stroke-opacity:1; fill:none\" points=\"\n",
       "  180.66,158.579 206.725,158.579 \n",
       "  \"/>\n",
       "<g clip-path=\"url(#clip3800)\">\n",
       "<text style=\"fill:#000000; fill-opacity:1; font-family:Arial,Helvetica Neue,Helvetica,sans-serif; font-size:48px; text-anchor:middle;\" transform=\"rotate(0, 242.135, 1479.62)\" x=\"242.135\" y=\"1479.62\">0.0</text>\n",
       "</g>\n",
       "<g clip-path=\"url(#clip3800)\">\n",
       "<text style=\"fill:#000000; fill-opacity:1; font-family:Arial,Helvetica Neue,Helvetica,sans-serif; font-size:48px; text-anchor:middle;\" transform=\"rotate(0, 651.964, 1479.62)\" x=\"651.964\" y=\"1479.62\">0.1</text>\n",
       "</g>\n",
       "<g clip-path=\"url(#clip3800)\">\n",
       "<text style=\"fill:#000000; fill-opacity:1; font-family:Arial,Helvetica Neue,Helvetica,sans-serif; font-size:48px; text-anchor:middle;\" transform=\"rotate(0, 1061.79, 1479.62)\" x=\"1061.79\" y=\"1479.62\">0.2</text>\n",
       "</g>\n",
       "<g clip-path=\"url(#clip3800)\">\n",
       "<text style=\"fill:#000000; fill-opacity:1; font-family:Arial,Helvetica Neue,Helvetica,sans-serif; font-size:48px; text-anchor:middle;\" transform=\"rotate(0, 1471.62, 1479.62)\" x=\"1471.62\" y=\"1479.62\">0.3</text>\n",
       "</g>\n",
       "<g clip-path=\"url(#clip3800)\">\n",
       "<text style=\"fill:#000000; fill-opacity:1; font-family:Arial,Helvetica Neue,Helvetica,sans-serif; font-size:48px; text-anchor:middle;\" transform=\"rotate(0, 1881.45, 1479.62)\" x=\"1881.45\" y=\"1479.62\">0.4</text>\n",
       "</g>\n",
       "<g clip-path=\"url(#clip3800)\">\n",
       "<text style=\"fill:#000000; fill-opacity:1; font-family:Arial,Helvetica Neue,Helvetica,sans-serif; font-size:48px; text-anchor:middle;\" transform=\"rotate(0, 2291.28, 1479.62)\" x=\"2291.28\" y=\"1479.62\">0.5</text>\n",
       "</g>\n",
       "<g clip-path=\"url(#clip3800)\">\n",
       "<text style=\"fill:#000000; fill-opacity:1; font-family:Arial,Helvetica Neue,Helvetica,sans-serif; font-size:48px; text-anchor:end;\" transform=\"rotate(0, 156.66, 1406.21)\" x=\"156.66\" y=\"1406.21\">0.00</text>\n",
       "</g>\n",
       "<g clip-path=\"url(#clip3800)\">\n",
       "<text style=\"fill:#000000; fill-opacity:1; font-family:Arial,Helvetica Neue,Helvetica,sans-serif; font-size:48px; text-anchor:end;\" transform=\"rotate(0, 156.66, 1098.68)\" x=\"156.66\" y=\"1098.68\">0.25</text>\n",
       "</g>\n",
       "<g clip-path=\"url(#clip3800)\">\n",
       "<text style=\"fill:#000000; fill-opacity:1; font-family:Arial,Helvetica Neue,Helvetica,sans-serif; font-size:48px; text-anchor:end;\" transform=\"rotate(0, 156.66, 791.147)\" x=\"156.66\" y=\"791.147\">0.50</text>\n",
       "</g>\n",
       "<g clip-path=\"url(#clip3800)\">\n",
       "<text style=\"fill:#000000; fill-opacity:1; font-family:Arial,Helvetica Neue,Helvetica,sans-serif; font-size:48px; text-anchor:end;\" transform=\"rotate(0, 156.66, 483.613)\" x=\"156.66\" y=\"483.613\">0.75</text>\n",
       "</g>\n",
       "<g clip-path=\"url(#clip3800)\">\n",
       "<text style=\"fill:#000000; fill-opacity:1; font-family:Arial,Helvetica Neue,Helvetica,sans-serif; font-size:48px; text-anchor:end;\" transform=\"rotate(0, 156.66, 176.079)\" x=\"156.66\" y=\"176.079\">1.00</text>\n",
       "</g>\n",
       "<g clip-path=\"url(#clip3800)\">\n",
       "<text style=\"fill:#000000; fill-opacity:1; font-family:Arial,Helvetica Neue,Helvetica,sans-serif; font-size:84px; text-anchor:middle;\" transform=\"rotate(0, 1266.71, 73.2)\" x=\"1266.71\" y=\"73.2\">Multinomial Power</text>\n",
       "</g>\n",
       "<g clip-path=\"url(#clip3800)\">\n",
       "<text style=\"fill:#000000; fill-opacity:1; font-family:Arial,Helvetica Neue,Helvetica,sans-serif; font-size:66px; text-anchor:middle;\" transform=\"rotate(0, 1266.71, 1559.48)\" x=\"1266.71\" y=\"1559.48\">Detectable Effect Size</text>\n",
       "</g>\n",
       "<polyline clip-path=\"url(#clip3802)\" style=\"stroke:#009af9; stroke-width:12; stroke-opacity:1; fill:none\" points=\"\n",
       "  242.135,1388.71 447.049,1388.71 651.964,1388.71 856.879,1302.61 1061.79,1154.99 1266.71,810.551 1471.62,466.113 1676.54,220.086 1881.45,158.579 2086.37,158.579 \n",
       "  2291.28,158.579 \n",
       "  \"/>\n",
       "<path clip-path=\"url(#clip3800)\" d=\"\n",
       "M1464.07 326.155 L2280.76 326.155 L2280.76 205.195 L1464.07 205.195  Z\n",
       "  \" fill=\"#ffffff\" fill-rule=\"evenodd\" fill-opacity=\"1\"/>\n",
       "<polyline clip-path=\"url(#clip3800)\" style=\"stroke:#000000; stroke-width:4; stroke-opacity:1; fill:none\" points=\"\n",
       "  1464.07,326.155 2280.76,326.155 2280.76,205.195 1464.07,205.195 1464.07,326.155 \n",
       "  \"/>\n",
       "<polyline clip-path=\"url(#clip3800)\" style=\"stroke:#009af9; stroke-width:12; stroke-opacity:1; fill:none\" points=\"\n",
       "  1488.07,265.675 1632.07,265.675 \n",
       "  \"/>\n",
       "<g clip-path=\"url(#clip3800)\">\n",
       "<text style=\"fill:#000000; fill-opacity:1; font-family:Arial,Helvetica Neue,Helvetica,sans-serif; font-size:48px; text-anchor:start;\" transform=\"rotate(0, 1656.07, 283.175)\" x=\"1656.07\" y=\"283.175\">maf = [0.2], alpha = 5.0e-6</text>\n",
       "</g>\n",
       "</svg>\n"
      ]
     },
     "execution_count": 28,
     "metadata": {},
     "output_type": "execute_result"
    }
   ],
   "source": [
    "plot(γs, power_effectsize, title = \"Multinomial Power\", label = \"maf = $maf_causal_snp, alpha = $α\", lw = 3) # plot power\n",
    "xlabel!(\"Detectable Effect Size\")"
   ]
  },
  {
   "cell_type": "markdown",
   "metadata": {},
   "source": [
    "### `Try it Yourself Excercises: `\n",
    "\n",
    "With the remaining time we encourage you to play with the simulation models above. \n",
    "\n",
    "(1) If you change the significance level, α, what would happen to the plot of the power? How would the plot change with a smaller value of α ? \n",
    "\n",
    "(2) What if you change the sample size to be smaller than `n = 5000`? How does the power look as a function of the effect size when `n = 2500`? \n",
    "\n",
    "(3) What if we changed the minor allele frequency of the SNP of interest from `maf = 0.2` to say `maf = 0.3` ?"
   ]
  },
  {
   "cell_type": "markdown",
   "metadata": {},
   "source": [
    "## Citations: \n",
    "\n",
    "[1] Lange K, Papp JC, Sinsheimer JS, Sripracha R, Zhou H, Sobel EM (2013) Mendel: The Swiss army knife of genetic analysis programs. Bioinformatics 29:1568-1570.`\n",
    "\n",
    "\n",
    "[2] OPENMENDEL: a cooperative programming project for statistical genetics.\n",
    "[Hum Genet. 2019 Mar 26. doi: 10.1007/s00439-019-02001-z](https://www.ncbi.nlm.nih.gov/pubmed/?term=OPENMENDEL).\n",
    "\n",
    "[3] German, CA, Sinsheimer, JS, Klimentidis, YC, Zhou, H, Zhou, JJ. Ordered multinomial regression for genetic association analysis of ordinal phenotypes at Biobank scale. Genetic Epidemiology. 2019; 1– 13. https://doi.org/10.1002/gepi.22276\n"
   ]
  }
 ],
 "metadata": {
  "@webio": {
   "lastCommId": null,
   "lastKernelId": null
  },
  "kernelspec": {
   "display_name": "Julia 1.2.0",
   "language": "julia",
   "name": "julia-1.2"
  },
  "language_info": {
   "file_extension": ".jl",
   "mimetype": "application/julia",
   "name": "julia",
   "version": "1.2.0"
  },
  "toc": {
   "base_numbering": 1,
   "nav_menu": {},
   "number_sections": true,
   "sideBar": true,
   "skip_h1_title": false,
   "title_cell": "Table of Contents",
   "title_sidebar": "Contents",
   "toc_cell": false,
   "toc_position": {},
   "toc_section_display": true,
   "toc_window_display": false
  }
 },
 "nbformat": 4,
 "nbformat_minor": 2
}
