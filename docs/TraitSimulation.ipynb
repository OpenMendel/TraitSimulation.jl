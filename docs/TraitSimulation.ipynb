{
 "cells": [
  {
   "cell_type": "markdown",
   "metadata": {},
   "source": [
    "# TraitSimulation.jl \n",
    "\n",
    "Authors: Sarah Ji, Kenneth Lange, Janet Sinsheimer, Jin Zhou, Hua Zhou, Eric Sobel\n",
    "\n",
    "## Background\n",
    "\n",
    "There is a lack of software available to geneticists who wish to calculate power and sample sizes in designing a study on genetics data. Typically, the study power depends on assumptions about the underlying disease model.  Many power calculating software tools operate as a black box and do not allow for customization.  To develop custom tests, researchers can develop their own simulation procedures to carry out power calculations.  One limitation with many existing methods for simulating traits conditional on genotypes is that these methods are limited to normally distributed traits and to fixed effects.\n",
    "\n",
    "This software package, TraitSimuliation.jl addresses the need for simulated trait data in genetic analyses.  This package generates data sets that will allow researchers to accurately check the validity of programs and to calculate power for their proposed studies. This package gives users the ability to easily simulate phenotypic traits under GLMs, VCMs and GLMM's conditional on PLINK formatted genotype data [3]. In addition, we include customized simulation utilities that accompany specific genetic analysis options in Open-Mendel; for example, ordered, multinomial traits. We introduce each of the simulation models, and demonstrate how to run the simulation utilities on the example dataset described below.\n",
    "\n",
    "\n",
    "## Demonstration\n",
    "\n",
    "##### Example Data\n",
    "\n",
    "We use the OpenMendel package [SnpArrays.jl](https://openmendel.github.io/SnpArrays.jl/latest/) to both read in and write out PLINK formatted files. Available in the data directory under the [Example_Data](https://openmendel.github.io/SnpArrays.jl/latest/#Example-data-1) section of this package, we use the file `\"EUR_SUBSET\"` for the demonstration how to simulate phenotypic traits on PLINK formatted data. \n",
    "For convenience we use the common assumption that the residual covariance among two relatives can be captured by the additive genetic variance times twice the kinship coefficient.\n",
    "\n",
    "In each example the user can specify the simulation model parameters, along with the number of repitions for each simulation model as desired. By default, the simulation will return the result of a single simulation."
   ]
  },
  {
   "cell_type": "markdown",
   "metadata": {},
   "source": [
    "### Double check that you are using Julia version 1.0 or higher by checking the machine information"
   ]
  },
  {
   "cell_type": "code",
   "execution_count": 1,
   "metadata": {},
   "outputs": [
    {
     "name": "stdout",
     "output_type": "stream",
     "text": [
      "Julia Version 1.4.0\n",
      "Commit b8e9a9ecc6 (2020-03-21 16:36 UTC)\n",
      "Platform Info:\n",
      "  OS: macOS (x86_64-apple-darwin18.6.0)\n",
      "  CPU: Intel(R) Core(TM) i7-7700HQ CPU @ 2.80GHz\n",
      "  WORD_SIZE: 64\n",
      "  LIBM: libopenlibm\n",
      "  LLVM: libLLVM-8.0.1 (ORCJIT, skylake)\n"
     ]
    }
   ],
   "source": [
    "versioninfo()"
   ]
  },
  {
   "cell_type": "code",
   "execution_count": 2,
   "metadata": {},
   "outputs": [],
   "source": [
    "using Random, Plots, DataFrames, LinearAlgebra \n",
    "using SnpArrays, TraitSimulation, GLM, StatsBase, OrdinalMultinomialModels\n",
    "Random.seed!(1234);"
   ]
  },
  {
   "cell_type": "markdown",
   "metadata": {},
   "source": [
    "# Reading genotype data using SnpArrays\n",
    "\n",
    "First use `SnpArrays.jl` to read in the genotype data. We use PLINK formatted data with the same prefixes for the .bim, .fam, .bed files.\n",
    "\n",
    "SnpArrays is a very useful utility and can do a lot more than just read in the data. More information about all the functionality of SnpArrays can be found at:\n",
    "https://openmendel.github.io/SnpArrays.jl/latest/\n",
    "\n",
    "As missing genotypes are often due to problems making the calls, the called genotypes at a marker with too much missing genotypes are potentially unreliable. By default, SnpArrays filters to keep only the genotypes with success rates greater than 0.98 and the minimum minor allele frequency to be 0.01. If the user wishes to change the stringency, change the number given in filter according to [SnpArrays](https://openmendel.github.io/SnpArrays.jl/latest/#Fitering-1)."
   ]
  },
  {
   "cell_type": "code",
   "execution_count": 3,
   "metadata": {},
   "outputs": [],
   "source": [
    "filename = \"EUR_subset\"\n",
    "EUR = SnpArray(SnpArrays.datadir(filename * \".bed\"));"
   ]
  },
  {
   "cell_type": "code",
   "execution_count": 4,
   "metadata": {},
   "outputs": [
    {
     "data": {
      "text/plain": [
       "(379, 54051)"
      ]
     },
     "execution_count": 4,
     "metadata": {},
     "output_type": "execute_result"
    }
   ],
   "source": [
    "rowmask, colmask =  SnpArrays.filter(EUR)\n",
    "minor_allele_frequency = maf(EUR);\n",
    "people, snps = size(EUR)"
   ]
  },
  {
   "cell_type": "code",
   "execution_count": 5,
   "metadata": {},
   "outputs": [],
   "source": [
    "EUR_data = SnpData(SnpArrays.datadir(filename));"
   ]
  },
  {
   "cell_type": "markdown",
   "metadata": {},
   "source": [
    "Here we will use identify by name, which locus to include, first subset the names of all the loci into a vector called `snpid`  and then call the following command to store our design matrix for the model that includes sex and locus of choice."
   ]
  },
  {
   "cell_type": "code",
   "execution_count": 6,
   "metadata": {},
   "outputs": [
    {
     "data": {
      "text/plain": [
       "1-element Array{Int64,1}:\n",
       " 82"
      ]
     },
     "execution_count": 6,
     "metadata": {},
     "output_type": "execute_result"
    }
   ],
   "source": [
    "bimfile = EUR_data.snp_info # store the snp_info with the snp names\n",
    "\n",
    "snpid  = bimfile[!, :snpid] # store the snp names in the snpid vector\n",
    "\n",
    "causal_snp_index = findall(x -> x == \"rs150018646\", snpid) # find the index of the snp of interest by snpid"
   ]
  },
  {
   "cell_type": "markdown",
   "metadata": {},
   "source": [
    "Additionally, we will control for sex, with females as the baseline group, `sex = 0.0`. We want to find the index of this causal locus in the snp_definition (.bim) file and then subset that locus from the genetic marker data above. Make note of julia's ternary operator '?' which allows us to make this conversion efficiently!\n",
    "\n",
    "Using SnpArrays.jl we can then use the `convert` and `@view` commands to get the appropriate conversion from SnpArray to a computable vector of Float64. "
   ]
  },
  {
   "cell_type": "code",
   "execution_count": 7,
   "metadata": {},
   "outputs": [
    {
     "data": {
      "text/plain": [
       "379×3 Array{Float64,2}:\n",
       " 1.0  1.0  2.0\n",
       " 1.0  1.0  1.0\n",
       " 1.0  1.0  2.0\n",
       " 1.0  1.0  2.0\n",
       " 1.0  1.0  2.0\n",
       " 1.0  1.0  2.0\n",
       " 1.0  1.0  2.0\n",
       " 1.0  1.0  2.0\n",
       " 1.0  1.0  2.0\n",
       " 1.0  1.0  2.0\n",
       " 1.0  1.0  2.0\n",
       " 1.0  1.0  2.0\n",
       " 1.0  1.0  2.0\n",
       " ⋮         \n",
       " 1.0  1.0  2.0\n",
       " 1.0  1.0  2.0\n",
       " 1.0  1.0  1.0\n",
       " 1.0  1.0  2.0\n",
       " 1.0  1.0  2.0\n",
       " 1.0  1.0  2.0\n",
       " 1.0  1.0  2.0\n",
       " 1.0  1.0  2.0\n",
       " 1.0  1.0  2.0\n",
       " 1.0  1.0  2.0\n",
       " 1.0  1.0  2.0\n",
       " 1.0  1.0  2.0"
      ]
     },
     "execution_count": 7,
     "metadata": {},
     "output_type": "execute_result"
    }
   ],
   "source": [
    "locus = convert(Vector{Float64}, @view(EUR[:, causal_snp_index[1]]))\n",
    "famfile = EUR_data.person_info\n",
    "sex = map(x -> strip(x) == \"F\" ? 0.0 : 1.0, famfile[!, :sex])\n",
    "intercept = ones(length(sex))\n",
    "X_covar = [intercept sex]\n",
    "X = [intercept sex locus]"
   ]
  },
  {
   "cell_type": "markdown",
   "metadata": {},
   "source": [
    "\n",
    "# Example 1: GLM Trait\n",
    "\n",
    "In this example we first demonstrate how to use the GLM.jl package to simulate a trait from unrelated individuals. A more thorough application of this GLM TraitSimulation can be found [here](https://github.com/OpenMendel/TraitSimulation.jl/blob/master/docs/TraitSimulation-TestingMendelIHT.ipynb). \n",
    "\n",
    "$Y \\sim Poisson(\\mu = g^{-1}(XB))$\n",
    "\n",
    "Here we specify the fixed effects and the phenotype distribution, and output for ten simulations per person.\n",
    "\n",
    "## GLM Traits from Unrelated Individuals\n",
    "$$\n",
    "    Y_{n \\times 1} \\sim Poisson(\\mu_{n \\times 1} = X\\beta)\n",
    "$$ \n",
    "\n",
    "Here we specify the fixed effects and the phenotype distribution, and output for ten simulations per person. "
   ]
  },
  {
   "cell_type": "code",
   "execution_count": 8,
   "metadata": {},
   "outputs": [
    {
     "data": {
      "text/plain": [
       "Generalized Linear Model\n",
       "  * response distribution: Poisson\n",
       "  * link function: LogLink\n",
       "  * sample size: 379  * fixed effects: 3"
      ]
     },
     "execution_count": 8,
     "metadata": {},
     "output_type": "execute_result"
    }
   ],
   "source": [
    "β = [1; 0.2; 0.5]\n",
    "dist = Poisson()\n",
    "link = LogLink()\n",
    "GLMmodel = GLMTrait(X, β, dist, link)"
   ]
  },
  {
   "cell_type": "code",
   "execution_count": 9,
   "metadata": {},
   "outputs": [
    {
     "data": {
      "text/html": [
       "<table class=\"data-frame\"><thead><tr><th></th><th>Trait1</th><th>Trait2</th><th>Trait3</th><th>Trait4</th><th>Trait5</th><th>Trait6</th><th>Trait7</th><th>Trait8</th><th>Trait9</th></tr><tr><th></th><th>Float64</th><th>Float64</th><th>Float64</th><th>Float64</th><th>Float64</th><th>Float64</th><th>Float64</th><th>Float64</th><th>Float64</th></tr></thead><tbody><p>379 rows × 10 columns (omitted printing of 1 columns)</p><tr><th>1</th><td>10.0</td><td>11.0</td><td>5.0</td><td>8.0</td><td>8.0</td><td>13.0</td><td>8.0</td><td>11.0</td><td>9.0</td></tr><tr><th>2</th><td>7.0</td><td>5.0</td><td>8.0</td><td>5.0</td><td>2.0</td><td>6.0</td><td>5.0</td><td>3.0</td><td>8.0</td></tr><tr><th>3</th><td>9.0</td><td>8.0</td><td>11.0</td><td>6.0</td><td>2.0</td><td>8.0</td><td>10.0</td><td>8.0</td><td>11.0</td></tr><tr><th>4</th><td>9.0</td><td>13.0</td><td>10.0</td><td>7.0</td><td>7.0</td><td>8.0</td><td>13.0</td><td>3.0</td><td>11.0</td></tr><tr><th>5</th><td>11.0</td><td>6.0</td><td>12.0</td><td>13.0</td><td>13.0</td><td>4.0</td><td>12.0</td><td>8.0</td><td>11.0</td></tr><tr><th>6</th><td>12.0</td><td>7.0</td><td>8.0</td><td>9.0</td><td>11.0</td><td>9.0</td><td>8.0</td><td>14.0</td><td>8.0</td></tr><tr><th>7</th><td>6.0</td><td>13.0</td><td>12.0</td><td>6.0</td><td>9.0</td><td>10.0</td><td>9.0</td><td>7.0</td><td>5.0</td></tr><tr><th>8</th><td>7.0</td><td>12.0</td><td>7.0</td><td>10.0</td><td>5.0</td><td>5.0</td><td>3.0</td><td>7.0</td><td>12.0</td></tr><tr><th>9</th><td>7.0</td><td>12.0</td><td>5.0</td><td>7.0</td><td>7.0</td><td>9.0</td><td>5.0</td><td>9.0</td><td>13.0</td></tr><tr><th>10</th><td>9.0</td><td>5.0</td><td>6.0</td><td>8.0</td><td>11.0</td><td>12.0</td><td>6.0</td><td>10.0</td><td>8.0</td></tr><tr><th>11</th><td>10.0</td><td>6.0</td><td>5.0</td><td>12.0</td><td>7.0</td><td>13.0</td><td>8.0</td><td>6.0</td><td>7.0</td></tr><tr><th>12</th><td>3.0</td><td>6.0</td><td>2.0</td><td>9.0</td><td>8.0</td><td>9.0</td><td>6.0</td><td>7.0</td><td>9.0</td></tr><tr><th>13</th><td>5.0</td><td>8.0</td><td>6.0</td><td>6.0</td><td>10.0</td><td>7.0</td><td>8.0</td><td>6.0</td><td>9.0</td></tr><tr><th>14</th><td>14.0</td><td>5.0</td><td>8.0</td><td>9.0</td><td>9.0</td><td>6.0</td><td>10.0</td><td>11.0</td><td>13.0</td></tr><tr><th>15</th><td>10.0</td><td>10.0</td><td>10.0</td><td>11.0</td><td>17.0</td><td>7.0</td><td>9.0</td><td>10.0</td><td>12.0</td></tr><tr><th>16</th><td>5.0</td><td>8.0</td><td>13.0</td><td>14.0</td><td>9.0</td><td>10.0</td><td>4.0</td><td>7.0</td><td>6.0</td></tr><tr><th>17</th><td>7.0</td><td>7.0</td><td>10.0</td><td>10.0</td><td>12.0</td><td>8.0</td><td>9.0</td><td>15.0</td><td>5.0</td></tr><tr><th>18</th><td>10.0</td><td>5.0</td><td>16.0</td><td>10.0</td><td>6.0</td><td>10.0</td><td>9.0</td><td>11.0</td><td>8.0</td></tr><tr><th>19</th><td>5.0</td><td>9.0</td><td>10.0</td><td>5.0</td><td>6.0</td><td>5.0</td><td>14.0</td><td>13.0</td><td>11.0</td></tr><tr><th>20</th><td>12.0</td><td>9.0</td><td>6.0</td><td>5.0</td><td>8.0</td><td>12.0</td><td>11.0</td><td>11.0</td><td>5.0</td></tr><tr><th>21</th><td>14.0</td><td>12.0</td><td>7.0</td><td>11.0</td><td>11.0</td><td>5.0</td><td>6.0</td><td>9.0</td><td>14.0</td></tr><tr><th>22</th><td>15.0</td><td>9.0</td><td>10.0</td><td>8.0</td><td>11.0</td><td>6.0</td><td>5.0</td><td>8.0</td><td>11.0</td></tr><tr><th>23</th><td>14.0</td><td>4.0</td><td>11.0</td><td>9.0</td><td>8.0</td><td>9.0</td><td>4.0</td><td>7.0</td><td>11.0</td></tr><tr><th>24</th><td>11.0</td><td>11.0</td><td>13.0</td><td>12.0</td><td>6.0</td><td>13.0</td><td>11.0</td><td>10.0</td><td>10.0</td></tr><tr><th>25</th><td>12.0</td><td>5.0</td><td>9.0</td><td>13.0</td><td>10.0</td><td>16.0</td><td>5.0</td><td>8.0</td><td>5.0</td></tr><tr><th>26</th><td>4.0</td><td>5.0</td><td>13.0</td><td>6.0</td><td>7.0</td><td>9.0</td><td>10.0</td><td>5.0</td><td>15.0</td></tr><tr><th>27</th><td>5.0</td><td>8.0</td><td>5.0</td><td>9.0</td><td>12.0</td><td>4.0</td><td>8.0</td><td>6.0</td><td>8.0</td></tr><tr><th>28</th><td>7.0</td><td>10.0</td><td>5.0</td><td>10.0</td><td>7.0</td><td>8.0</td><td>9.0</td><td>9.0</td><td>4.0</td></tr><tr><th>29</th><td>6.0</td><td>11.0</td><td>10.0</td><td>7.0</td><td>6.0</td><td>12.0</td><td>14.0</td><td>9.0</td><td>12.0</td></tr><tr><th>30</th><td>8.0</td><td>10.0</td><td>6.0</td><td>11.0</td><td>9.0</td><td>9.0</td><td>14.0</td><td>14.0</td><td>6.0</td></tr><tr><th>&vellip;</th><td>&vellip;</td><td>&vellip;</td><td>&vellip;</td><td>&vellip;</td><td>&vellip;</td><td>&vellip;</td><td>&vellip;</td><td>&vellip;</td><td>&vellip;</td></tr></tbody></table>"
      ],
      "text/latex": [
       "\\begin{tabular}{r|cccccccccc}\n",
       "\t& Trait1 & Trait2 & Trait3 & Trait4 & Trait5 & Trait6 & Trait7 & Trait8 & Trait9 & \\\\\n",
       "\t\\hline\n",
       "\t& Float64 & Float64 & Float64 & Float64 & Float64 & Float64 & Float64 & Float64 & Float64 & \\\\\n",
       "\t\\hline\n",
       "\t1 & 10.0 & 11.0 & 5.0 & 8.0 & 8.0 & 13.0 & 8.0 & 11.0 & 9.0 & $\\dots$ \\\\\n",
       "\t2 & 7.0 & 5.0 & 8.0 & 5.0 & 2.0 & 6.0 & 5.0 & 3.0 & 8.0 & $\\dots$ \\\\\n",
       "\t3 & 9.0 & 8.0 & 11.0 & 6.0 & 2.0 & 8.0 & 10.0 & 8.0 & 11.0 & $\\dots$ \\\\\n",
       "\t4 & 9.0 & 13.0 & 10.0 & 7.0 & 7.0 & 8.0 & 13.0 & 3.0 & 11.0 & $\\dots$ \\\\\n",
       "\t5 & 11.0 & 6.0 & 12.0 & 13.0 & 13.0 & 4.0 & 12.0 & 8.0 & 11.0 & $\\dots$ \\\\\n",
       "\t6 & 12.0 & 7.0 & 8.0 & 9.0 & 11.0 & 9.0 & 8.0 & 14.0 & 8.0 & $\\dots$ \\\\\n",
       "\t7 & 6.0 & 13.0 & 12.0 & 6.0 & 9.0 & 10.0 & 9.0 & 7.0 & 5.0 & $\\dots$ \\\\\n",
       "\t8 & 7.0 & 12.0 & 7.0 & 10.0 & 5.0 & 5.0 & 3.0 & 7.0 & 12.0 & $\\dots$ \\\\\n",
       "\t9 & 7.0 & 12.0 & 5.0 & 7.0 & 7.0 & 9.0 & 5.0 & 9.0 & 13.0 & $\\dots$ \\\\\n",
       "\t10 & 9.0 & 5.0 & 6.0 & 8.0 & 11.0 & 12.0 & 6.0 & 10.0 & 8.0 & $\\dots$ \\\\\n",
       "\t11 & 10.0 & 6.0 & 5.0 & 12.0 & 7.0 & 13.0 & 8.0 & 6.0 & 7.0 & $\\dots$ \\\\\n",
       "\t12 & 3.0 & 6.0 & 2.0 & 9.0 & 8.0 & 9.0 & 6.0 & 7.0 & 9.0 & $\\dots$ \\\\\n",
       "\t13 & 5.0 & 8.0 & 6.0 & 6.0 & 10.0 & 7.0 & 8.0 & 6.0 & 9.0 & $\\dots$ \\\\\n",
       "\t14 & 14.0 & 5.0 & 8.0 & 9.0 & 9.0 & 6.0 & 10.0 & 11.0 & 13.0 & $\\dots$ \\\\\n",
       "\t15 & 10.0 & 10.0 & 10.0 & 11.0 & 17.0 & 7.0 & 9.0 & 10.0 & 12.0 & $\\dots$ \\\\\n",
       "\t16 & 5.0 & 8.0 & 13.0 & 14.0 & 9.0 & 10.0 & 4.0 & 7.0 & 6.0 & $\\dots$ \\\\\n",
       "\t17 & 7.0 & 7.0 & 10.0 & 10.0 & 12.0 & 8.0 & 9.0 & 15.0 & 5.0 & $\\dots$ \\\\\n",
       "\t18 & 10.0 & 5.0 & 16.0 & 10.0 & 6.0 & 10.0 & 9.0 & 11.0 & 8.0 & $\\dots$ \\\\\n",
       "\t19 & 5.0 & 9.0 & 10.0 & 5.0 & 6.0 & 5.0 & 14.0 & 13.0 & 11.0 & $\\dots$ \\\\\n",
       "\t20 & 12.0 & 9.0 & 6.0 & 5.0 & 8.0 & 12.0 & 11.0 & 11.0 & 5.0 & $\\dots$ \\\\\n",
       "\t21 & 14.0 & 12.0 & 7.0 & 11.0 & 11.0 & 5.0 & 6.0 & 9.0 & 14.0 & $\\dots$ \\\\\n",
       "\t22 & 15.0 & 9.0 & 10.0 & 8.0 & 11.0 & 6.0 & 5.0 & 8.0 & 11.0 & $\\dots$ \\\\\n",
       "\t23 & 14.0 & 4.0 & 11.0 & 9.0 & 8.0 & 9.0 & 4.0 & 7.0 & 11.0 & $\\dots$ \\\\\n",
       "\t24 & 11.0 & 11.0 & 13.0 & 12.0 & 6.0 & 13.0 & 11.0 & 10.0 & 10.0 & $\\dots$ \\\\\n",
       "\t25 & 12.0 & 5.0 & 9.0 & 13.0 & 10.0 & 16.0 & 5.0 & 8.0 & 5.0 & $\\dots$ \\\\\n",
       "\t26 & 4.0 & 5.0 & 13.0 & 6.0 & 7.0 & 9.0 & 10.0 & 5.0 & 15.0 & $\\dots$ \\\\\n",
       "\t27 & 5.0 & 8.0 & 5.0 & 9.0 & 12.0 & 4.0 & 8.0 & 6.0 & 8.0 & $\\dots$ \\\\\n",
       "\t28 & 7.0 & 10.0 & 5.0 & 10.0 & 7.0 & 8.0 & 9.0 & 9.0 & 4.0 & $\\dots$ \\\\\n",
       "\t29 & 6.0 & 11.0 & 10.0 & 7.0 & 6.0 & 12.0 & 14.0 & 9.0 & 12.0 & $\\dots$ \\\\\n",
       "\t30 & 8.0 & 10.0 & 6.0 & 11.0 & 9.0 & 9.0 & 14.0 & 14.0 & 6.0 & $\\dots$ \\\\\n",
       "\t$\\dots$ & $\\dots$ & $\\dots$ & $\\dots$ & $\\dots$ & $\\dots$ & $\\dots$ & $\\dots$ & $\\dots$ & $\\dots$ &  \\\\\n",
       "\\end{tabular}\n"
      ],
      "text/plain": [
       "379×10 DataFrame. Omitted printing of 3 columns\n",
       "│ Row │ Trait1  │ Trait2  │ Trait3  │ Trait4  │ Trait5  │ Trait6  │ Trait7  │\n",
       "│     │ \u001b[90mFloat64\u001b[39m │ \u001b[90mFloat64\u001b[39m │ \u001b[90mFloat64\u001b[39m │ \u001b[90mFloat64\u001b[39m │ \u001b[90mFloat64\u001b[39m │ \u001b[90mFloat64\u001b[39m │ \u001b[90mFloat64\u001b[39m │\n",
       "├─────┼─────────┼─────────┼─────────┼─────────┼─────────┼─────────┼─────────┤\n",
       "│ 1   │ 10.0    │ 11.0    │ 5.0     │ 8.0     │ 8.0     │ 13.0    │ 8.0     │\n",
       "│ 2   │ 7.0     │ 5.0     │ 8.0     │ 5.0     │ 2.0     │ 6.0     │ 5.0     │\n",
       "│ 3   │ 9.0     │ 8.0     │ 11.0    │ 6.0     │ 2.0     │ 8.0     │ 10.0    │\n",
       "│ 4   │ 9.0     │ 13.0    │ 10.0    │ 7.0     │ 7.0     │ 8.0     │ 13.0    │\n",
       "│ 5   │ 11.0    │ 6.0     │ 12.0    │ 13.0    │ 13.0    │ 4.0     │ 12.0    │\n",
       "│ 6   │ 12.0    │ 7.0     │ 8.0     │ 9.0     │ 11.0    │ 9.0     │ 8.0     │\n",
       "│ 7   │ 6.0     │ 13.0    │ 12.0    │ 6.0     │ 9.0     │ 10.0    │ 9.0     │\n",
       "│ 8   │ 7.0     │ 12.0    │ 7.0     │ 10.0    │ 5.0     │ 5.0     │ 3.0     │\n",
       "│ 9   │ 7.0     │ 12.0    │ 5.0     │ 7.0     │ 7.0     │ 9.0     │ 5.0     │\n",
       "│ 10  │ 9.0     │ 5.0     │ 6.0     │ 8.0     │ 11.0    │ 12.0    │ 6.0     │\n",
       "⋮\n",
       "│ 369 │ 11.0    │ 10.0    │ 7.0     │ 9.0     │ 9.0     │ 4.0     │ 11.0    │\n",
       "│ 370 │ 3.0     │ 2.0     │ 6.0     │ 6.0     │ 5.0     │ 2.0     │ 4.0     │\n",
       "│ 371 │ 9.0     │ 9.0     │ 7.0     │ 9.0     │ 16.0    │ 11.0    │ 11.0    │\n",
       "│ 372 │ 4.0     │ 7.0     │ 12.0    │ 6.0     │ 8.0     │ 9.0     │ 11.0    │\n",
       "│ 373 │ 11.0    │ 8.0     │ 10.0    │ 8.0     │ 8.0     │ 8.0     │ 7.0     │\n",
       "│ 374 │ 12.0    │ 8.0     │ 5.0     │ 5.0     │ 11.0    │ 16.0    │ 8.0     │\n",
       "│ 375 │ 8.0     │ 12.0    │ 10.0    │ 10.0    │ 6.0     │ 5.0     │ 5.0     │\n",
       "│ 376 │ 9.0     │ 8.0     │ 7.0     │ 8.0     │ 8.0     │ 15.0    │ 6.0     │\n",
       "│ 377 │ 10.0    │ 10.0    │ 5.0     │ 5.0     │ 10.0    │ 9.0     │ 7.0     │\n",
       "│ 378 │ 7.0     │ 12.0    │ 7.0     │ 12.0    │ 8.0     │ 14.0    │ 6.0     │\n",
       "│ 379 │ 3.0     │ 9.0     │ 12.0    │ 14.0    │ 8.0     │ 9.0     │ 8.0     │"
      ]
     },
     "execution_count": 9,
     "metadata": {},
     "output_type": "execute_result"
    }
   ],
   "source": [
    "nsim = 10\n",
    "Simulated_GLM_Traits = DataFrame(simulate(GLMmodel, nsim))\n",
    "rename!(Simulated_GLM_Traits, [Symbol(\"Trait$i\") for i in 1:nsim])"
   ]
  },
  {
   "cell_type": "markdown",
   "metadata": {},
   "source": [
    "# Example 2: VCM Trait\n",
    "In this example we show how to generate data so that the related individuals have correlated trait values even after we account for the effect of a snp, a combination of snps or other fixed effects. We simulate data under a variance component model so that we can model residual dependency among individuals. \n",
    "\n",
    "We note models with additional variance components can also be specified, as long as they are sensible (positive semi definite).\n",
    "\n",
    "## VCMTrait UK Biobank Demo:\n",
    "For the univariate and bivariate Variance Component Model, we include in the Real Data Examples section our step-by-step procedure of simultaneously simulating and fitting to get the genetic power. \n",
    "\n",
    "$Y \\sim N(\\mu, 4* 2GRM + 2*I_n)$\n",
    "\n",
    "$Y \\sim N(\\mathbf{\\mu}, \\sigma_a \\otimes 2GRM + \\sigma_e \\otimes I_n)$\n",
    "\n",
    "where we can calculate the estimated empirical kinship matrix $2*\\hat{\\Phi}_{GRM}$ using [SnpArrays.jl](https://openmendel.github.io/SnpArrays.jl/latest/#Genetic-relationship-matrix-1).\n",
    "Due to privacy of the data, we include only the html file for viewing. We include some other variance component model examples for family data as follows:\n",
    "\n",
    "\n",
    "## Rare Variant VCM Related Individuals\n",
    "\n",
    "In this example we show how to generate data so that the related individuals have correlated trait values even after we account for the effect of a snp, a combination of snps or other fixed effects. We simulate data under a linear mixed model so that we can model residual dependency among individuals. \n",
    "\n",
    "$$\n",
    "Y \\sim \\text{Normal}(\\mathbf{\\mu}_{n \\times 1} = X\\beta, \\Sigma_{n \\times n} = \\sigma_A \\times 2\\hat{\\Phi}_{GRM} + \\sigma_E \\times I_n)\n",
    "$$\n",
    "\n",
    "This example is meant to simulate data in a scenario in which a number of rare mutations in a single gene can change a trait value. We model the residual variation among relatives with the additive genetic variance component and we include 20 simulated rare variants in the mean portion of the model, defined as loci with minor allele frequencies greater than 0.002 but less than 0.02.\n",
    "\n",
    "Specifically we are generating a single normal trait controlling for family structure with residual heritabiity of 67%, and effect sizes for the variants generated as a function of the minor allele frequencies. The rarer the variant the greater its effect size.\n",
    "\n",
    "In practice rare variants have smaller minor allele frequencies, but we are limited in this tutorial by the relatively small size of the data set. Note also that our modeling these effects as part of the mean is not meant to imply that the best way to detect them would be a standard association analysis. Instead we recommend a burden or SKAT test."
   ]
  },
  {
   "cell_type": "code",
   "execution_count": 10,
   "metadata": {},
   "outputs": [],
   "source": [
    "GRM = grm(EUR, minmaf = 0.05);"
   ]
  },
  {
   "cell_type": "markdown",
   "metadata": {},
   "source": [
    "### `Genotype Simulation:`\n",
    "\n",
    "Say our study population has a sample size of `n` people and we are interested in studying the effect of the causal snp with a predetermined minor allele frequency. We use the minor allele frequency of the causal variant to simulate the SnpArray under Hardy Weinberg Equillibrium (HWE), using the `snparray_simulation` function as follows:\n",
    "    \n",
    "    \n",
    "| Genotype | Plink/SnpArray |  \n",
    "|:---:|:---:|  \n",
    "| A1,A1 | 0x00 |  \n",
    "| missing | 0x01 |\n",
    "| A1,A2 | 0x02 |  \n",
    "| A2,A2 | 0x03 |  \n",
    "    \n",
    "\n",
    "Given a vector of minor allele frequencies, specify `maf = [0.2, 0.25, 0.3]`, for each specified allele it will simulate a SnpArray under HWE and ouput them together. This function samples from the genotype vector under HWE and returns the compressed binary format under SnpArrays."
   ]
  },
  {
   "cell_type": "code",
   "execution_count": 11,
   "metadata": {},
   "outputs": [
    {
     "data": {
      "text/plain": [
       "379×20 SnpArray:\n",
       " 0x00  0x00  0x00  0x00  0x00  0x00  …  0x00  0x00  0x00  0x00  0x00  0x00\n",
       " 0x00  0x00  0x00  0x00  0x00  0x00     0x00  0x00  0x00  0x00  0x00  0x00\n",
       " 0x00  0x00  0x00  0x00  0x00  0x00     0x00  0x00  0x00  0x00  0x00  0x00\n",
       " 0x00  0x00  0x00  0x00  0x00  0x00     0x00  0x00  0x00  0x00  0x00  0x00\n",
       " 0x00  0x00  0x00  0x00  0x00  0x00     0x00  0x00  0x00  0x00  0x00  0x00\n",
       " 0x00  0x00  0x00  0x00  0x00  0x00  …  0x00  0x00  0x00  0x00  0x00  0x00\n",
       " 0x00  0x00  0x00  0x00  0x00  0x00     0x00  0x00  0x00  0x00  0x00  0x00\n",
       " 0x00  0x00  0x00  0x00  0x00  0x00     0x00  0x00  0x00  0x00  0x00  0x00\n",
       " 0x00  0x00  0x00  0x00  0x00  0x00     0x00  0x00  0x00  0x00  0x00  0x00\n",
       " 0x00  0x00  0x00  0x00  0x00  0x00     0x00  0x00  0x00  0x00  0x00  0x00\n",
       " 0x00  0x00  0x00  0x00  0x00  0x00  …  0x00  0x00  0x00  0x00  0x00  0x00\n",
       " 0x00  0x00  0x00  0x00  0x00  0x00     0x00  0x00  0x00  0x00  0x00  0x00\n",
       " 0x00  0x00  0x00  0x00  0x00  0x00     0x00  0x00  0x00  0x00  0x00  0x00\n",
       "    ⋮                             ⋮  ⋱           ⋮                    \n",
       " 0x00  0x00  0x00  0x00  0x00  0x00     0x00  0x00  0x00  0x00  0x00  0x00\n",
       " 0x00  0x00  0x00  0x00  0x00  0x00     0x00  0x00  0x00  0x00  0x00  0x00\n",
       " 0x00  0x00  0x00  0x00  0x00  0x00     0x00  0x00  0x00  0x00  0x00  0x00\n",
       " 0x00  0x00  0x00  0x00  0x00  0x00  …  0x00  0x00  0x00  0x00  0x00  0x00\n",
       " 0x00  0x00  0x00  0x00  0x00  0x00     0x00  0x00  0x00  0x00  0x00  0x00\n",
       " 0x00  0x00  0x00  0x00  0x00  0x00     0x00  0x00  0x00  0x00  0x00  0x00\n",
       " 0x00  0x00  0x02  0x00  0x00  0x00     0x00  0x00  0x00  0x00  0x00  0x00\n",
       " 0x02  0x00  0x00  0x00  0x00  0x00     0x00  0x00  0x00  0x00  0x00  0x00\n",
       " 0x00  0x00  0x00  0x00  0x00  0x00  …  0x00  0x00  0x00  0x00  0x00  0x00\n",
       " 0x00  0x00  0x00  0x02  0x00  0x00     0x00  0x00  0x00  0x00  0x00  0x00\n",
       " 0x00  0x00  0x00  0x00  0x00  0x00     0x00  0x00  0x00  0x00  0x00  0x00\n",
       " 0x00  0x00  0x00  0x00  0x00  0x00     0x02  0x00  0x00  0x00  0x00  0x00"
      ]
     },
     "execution_count": 11,
     "metadata": {},
     "output_type": "execute_result"
    }
   ],
   "source": [
    "maf_rare = rand([0.002, 0.004, 0.008, 0.01, 0.012, 0.015, 0.02], 20)\n",
    "rare_snps = snparray_simulation(maf_rare, 379)"
   ]
  },
  {
   "cell_type": "code",
   "execution_count": 12,
   "metadata": {},
   "outputs": [
    {
     "data": {
      "text/plain": [
       "Variance Component Model\n",
       "  * number of traits: 1\n",
       "  * number of variance components: 2\n",
       "  * sample size: 379"
      ]
     },
     "execution_count": 12,
     "metadata": {},
     "output_type": "execute_result"
    }
   ],
   "source": [
    "β_covar = [1.0; 0.6]\n",
    "I_n = Matrix{Float64}(I, size(GRM))\n",
    "vc = @vc [0.01][:,:] ⊗ (GRM + I_n) + [0.9][:, :] ⊗ I_n\n",
    "sigma, v = vcobjtuple(vc)\n",
    "rare_20_snp_model = VCMTrait(X_covar, β_covar[:, :], rare_snps, maf_rare[:, :], [sigma...], [v...])"
   ]
  },
  {
   "cell_type": "code",
   "execution_count": 13,
   "metadata": {},
   "outputs": [
    {
     "data": {
      "text/html": [
       "<table class=\"data-frame\"><thead><tr><th></th><th>Trait1</th></tr><tr><th></th><th>Float64</th></tr></thead><tbody><p>379 rows × 1 columns</p><tr><th>1</th><td>-0.347326</td></tr><tr><th>2</th><td>3.18957</td></tr><tr><th>3</th><td>3.72319</td></tr><tr><th>4</th><td>0.787864</td></tr><tr><th>5</th><td>3.291</td></tr><tr><th>6</th><td>1.26627</td></tr><tr><th>7</th><td>2.8647</td></tr><tr><th>8</th><td>0.850461</td></tr><tr><th>9</th><td>1.70522</td></tr><tr><th>10</th><td>3.11445</td></tr><tr><th>11</th><td>1.65361</td></tr><tr><th>12</th><td>0.992108</td></tr><tr><th>13</th><td>1.36279</td></tr><tr><th>14</th><td>1.75953</td></tr><tr><th>15</th><td>0.45538</td></tr><tr><th>16</th><td>1.66951</td></tr><tr><th>17</th><td>1.43023</td></tr><tr><th>18</th><td>1.50351</td></tr><tr><th>19</th><td>1.38912</td></tr><tr><th>20</th><td>2.34955</td></tr><tr><th>21</th><td>2.00948</td></tr><tr><th>22</th><td>3.10543</td></tr><tr><th>23</th><td>1.13366</td></tr><tr><th>24</th><td>2.80518</td></tr><tr><th>25</th><td>0.464625</td></tr><tr><th>26</th><td>1.05461</td></tr><tr><th>27</th><td>0.222306</td></tr><tr><th>28</th><td>2.24</td></tr><tr><th>29</th><td>0.514408</td></tr><tr><th>30</th><td>3.20806</td></tr><tr><th>&vellip;</th><td>&vellip;</td></tr></tbody></table>"
      ],
      "text/latex": [
       "\\begin{tabular}{r|c}\n",
       "\t& Trait1\\\\\n",
       "\t\\hline\n",
       "\t& Float64\\\\\n",
       "\t\\hline\n",
       "\t1 & -0.347326 \\\\\n",
       "\t2 & 3.18957 \\\\\n",
       "\t3 & 3.72319 \\\\\n",
       "\t4 & 0.787864 \\\\\n",
       "\t5 & 3.291 \\\\\n",
       "\t6 & 1.26627 \\\\\n",
       "\t7 & 2.8647 \\\\\n",
       "\t8 & 0.850461 \\\\\n",
       "\t9 & 1.70522 \\\\\n",
       "\t10 & 3.11445 \\\\\n",
       "\t11 & 1.65361 \\\\\n",
       "\t12 & 0.992108 \\\\\n",
       "\t13 & 1.36279 \\\\\n",
       "\t14 & 1.75953 \\\\\n",
       "\t15 & 0.45538 \\\\\n",
       "\t16 & 1.66951 \\\\\n",
       "\t17 & 1.43023 \\\\\n",
       "\t18 & 1.50351 \\\\\n",
       "\t19 & 1.38912 \\\\\n",
       "\t20 & 2.34955 \\\\\n",
       "\t21 & 2.00948 \\\\\n",
       "\t22 & 3.10543 \\\\\n",
       "\t23 & 1.13366 \\\\\n",
       "\t24 & 2.80518 \\\\\n",
       "\t25 & 0.464625 \\\\\n",
       "\t26 & 1.05461 \\\\\n",
       "\t27 & 0.222306 \\\\\n",
       "\t28 & 2.24 \\\\\n",
       "\t29 & 0.514408 \\\\\n",
       "\t30 & 3.20806 \\\\\n",
       "\t$\\dots$ & $\\dots$ \\\\\n",
       "\\end{tabular}\n"
      ],
      "text/plain": [
       "379×1 DataFrame\n",
       "│ Row │ Trait1    │\n",
       "│     │ \u001b[90mFloat64\u001b[39m   │\n",
       "├─────┼───────────┤\n",
       "│ 1   │ -0.347326 │\n",
       "│ 2   │ 3.18957   │\n",
       "│ 3   │ 3.72319   │\n",
       "│ 4   │ 0.787864  │\n",
       "│ 5   │ 3.291     │\n",
       "│ 6   │ 1.26627   │\n",
       "│ 7   │ 2.8647    │\n",
       "│ 8   │ 0.850461  │\n",
       "│ 9   │ 1.70522   │\n",
       "│ 10  │ 3.11445   │\n",
       "⋮\n",
       "│ 369 │ 2.26455   │\n",
       "│ 370 │ -0.276297 │\n",
       "│ 371 │ 1.39324   │\n",
       "│ 372 │ 1.66539   │\n",
       "│ 373 │ 1.12646   │\n",
       "│ 374 │ -0.494502 │\n",
       "│ 375 │ 1.3334    │\n",
       "│ 376 │ 1.44751   │\n",
       "│ 377 │ 1.43034   │\n",
       "│ 378 │ 0.429066  │\n",
       "│ 379 │ -0.65253  │"
      ]
     },
     "execution_count": 13,
     "metadata": {},
     "output_type": "execute_result"
    }
   ],
   "source": [
    "Rare_SNP_Trait = DataFrame(simulate(rare_20_snp_model))\n",
    "rename!(Rare_SNP_Trait, [Symbol(\"Trait$i\") for i in 1:size(Rare_SNP_Trait, 2)])"
   ]
  },
  {
   "cell_type": "markdown",
   "metadata": {},
   "source": [
    "### Multiple Traits, Multiple Variance Components? Easy.\n",
    "\n",
    "This example extends the variance component model in the previous example to demo how to efficiently account for any number of other random effects, in addition to the additive genetic and environmental variance components. \n",
    "\n",
    "Y ~ MatrixNormal($M = XB$, $Omega = \\sum_{k=1}^m \\Sigma_{k}$ $\\otimes V_k$)\n",
    "\n",
    "We note that this form can also accompany more than 2 variance components.\n",
    "\n",
    "I encourage for those interested, to look at [this example](https://github.com/OpenMendel/TraitSimulation.jl/blob/master/docs/benchmarking_VCM.ipynb) where we demonstrate the simlation of $d = 2$ traits with $m = 10$ variance components, and benchmark it against the available method using the MatrixNormal distribution in Julia package, [Distributions.jl](https://juliastats.org/Distributions.jl/latest/matrix/#Distributions.MatrixNormal)."
   ]
  },
  {
   "cell_type": "markdown",
   "metadata": {},
   "source": [
    "\n",
    "# Example 3: Ordered Multinomial Trait\n",
    "\n",
    "Now we demonstrate on the `OrderedMultinomialTrait` model object in TraitSimulation.jl.\n",
    "\n",
    "\n",
    "### Ordered Multinomial Trait\n",
    "\n",
    "Recall that this phenotype is special, in that the [OrdinalMultinomialModels](https://openmendel.github.io/OrdinalMultinomialModels.jl/stable/#Syntax-1) package provides Julia utilities to fit ordered multinomial models, including [proportional odds model](https://en.wikipedia.org/wiki/Ordered_logit) and [ordered Probit model](https://en.wikipedia.org/wiki/Ordered_probit) as special cases. "
   ]
  },
  {
   "cell_type": "code",
   "execution_count": 14,
   "metadata": {},
   "outputs": [
    {
     "data": {
      "text/plain": [
       "Ordinal Multinomial Model\n",
       "  * number of fixed effects: 3\n",
       "  * number of ordinal multinomial outcome categories: 4\n",
       "  * link function: LogitLink\n",
       "  * sample size: 379"
      ]
     },
     "execution_count": 14,
     "metadata": {},
     "output_type": "execute_result"
    }
   ],
   "source": [
    "θ = [1.0, 1.2, 1.4]\n",
    "Ordinal_Model = OrderedMultinomialTrait(X, β, θ, LogitLink())"
   ]
  },
  {
   "cell_type": "code",
   "execution_count": 15,
   "metadata": {},
   "outputs": [
    {
     "data": {
      "text/html": [
       "<table class=\"data-frame\"><thead><tr><th></th><th>Trait1</th><th>Trait2</th><th>Trait3</th><th>Trait4</th><th>Trait5</th><th>Trait6</th><th>Trait7</th><th>Trait8</th><th>Trait9</th></tr><tr><th></th><th>Float64</th><th>Float64</th><th>Float64</th><th>Float64</th><th>Float64</th><th>Float64</th><th>Float64</th><th>Float64</th><th>Float64</th></tr></thead><tbody><p>379 rows × 10 columns (omitted printing of 1 columns)</p><tr><th>1</th><td>4.0</td><td>4.0</td><td>1.0</td><td>1.0</td><td>1.0</td><td>4.0</td><td>4.0</td><td>1.0</td><td>1.0</td></tr><tr><th>2</th><td>1.0</td><td>2.0</td><td>2.0</td><td>4.0</td><td>1.0</td><td>4.0</td><td>4.0</td><td>4.0</td><td>4.0</td></tr><tr><th>3</th><td>4.0</td><td>4.0</td><td>3.0</td><td>4.0</td><td>4.0</td><td>4.0</td><td>4.0</td><td>1.0</td><td>1.0</td></tr><tr><th>4</th><td>1.0</td><td>4.0</td><td>4.0</td><td>4.0</td><td>1.0</td><td>4.0</td><td>4.0</td><td>1.0</td><td>2.0</td></tr><tr><th>5</th><td>4.0</td><td>1.0</td><td>4.0</td><td>1.0</td><td>4.0</td><td>4.0</td><td>4.0</td><td>4.0</td><td>4.0</td></tr><tr><th>6</th><td>4.0</td><td>3.0</td><td>3.0</td><td>4.0</td><td>4.0</td><td>1.0</td><td>4.0</td><td>1.0</td><td>4.0</td></tr><tr><th>7</th><td>4.0</td><td>3.0</td><td>2.0</td><td>4.0</td><td>4.0</td><td>4.0</td><td>4.0</td><td>4.0</td><td>4.0</td></tr><tr><th>8</th><td>4.0</td><td>4.0</td><td>1.0</td><td>4.0</td><td>4.0</td><td>4.0</td><td>1.0</td><td>1.0</td><td>4.0</td></tr><tr><th>9</th><td>4.0</td><td>4.0</td><td>3.0</td><td>4.0</td><td>4.0</td><td>4.0</td><td>4.0</td><td>1.0</td><td>4.0</td></tr><tr><th>10</th><td>2.0</td><td>1.0</td><td>4.0</td><td>4.0</td><td>1.0</td><td>1.0</td><td>4.0</td><td>4.0</td><td>4.0</td></tr><tr><th>11</th><td>4.0</td><td>4.0</td><td>1.0</td><td>4.0</td><td>4.0</td><td>4.0</td><td>4.0</td><td>3.0</td><td>4.0</td></tr><tr><th>12</th><td>4.0</td><td>4.0</td><td>4.0</td><td>4.0</td><td>2.0</td><td>4.0</td><td>4.0</td><td>4.0</td><td>4.0</td></tr><tr><th>13</th><td>2.0</td><td>4.0</td><td>4.0</td><td>2.0</td><td>4.0</td><td>1.0</td><td>4.0</td><td>4.0</td><td>4.0</td></tr><tr><th>14</th><td>4.0</td><td>4.0</td><td>1.0</td><td>4.0</td><td>4.0</td><td>4.0</td><td>4.0</td><td>4.0</td><td>1.0</td></tr><tr><th>15</th><td>3.0</td><td>1.0</td><td>1.0</td><td>4.0</td><td>4.0</td><td>4.0</td><td>1.0</td><td>4.0</td><td>4.0</td></tr><tr><th>16</th><td>4.0</td><td>4.0</td><td>4.0</td><td>4.0</td><td>4.0</td><td>4.0</td><td>1.0</td><td>4.0</td><td>4.0</td></tr><tr><th>17</th><td>4.0</td><td>1.0</td><td>1.0</td><td>4.0</td><td>1.0</td><td>1.0</td><td>4.0</td><td>1.0</td><td>1.0</td></tr><tr><th>18</th><td>4.0</td><td>1.0</td><td>1.0</td><td>4.0</td><td>4.0</td><td>4.0</td><td>4.0</td><td>4.0</td><td>4.0</td></tr><tr><th>19</th><td>4.0</td><td>4.0</td><td>4.0</td><td>1.0</td><td>4.0</td><td>4.0</td><td>1.0</td><td>4.0</td><td>1.0</td></tr><tr><th>20</th><td>4.0</td><td>1.0</td><td>4.0</td><td>4.0</td><td>4.0</td><td>1.0</td><td>4.0</td><td>4.0</td><td>4.0</td></tr><tr><th>21</th><td>4.0</td><td>3.0</td><td>1.0</td><td>3.0</td><td>4.0</td><td>1.0</td><td>4.0</td><td>1.0</td><td>4.0</td></tr><tr><th>22</th><td>2.0</td><td>4.0</td><td>4.0</td><td>4.0</td><td>4.0</td><td>4.0</td><td>4.0</td><td>1.0</td><td>1.0</td></tr><tr><th>23</th><td>4.0</td><td>4.0</td><td>4.0</td><td>4.0</td><td>4.0</td><td>1.0</td><td>4.0</td><td>4.0</td><td>4.0</td></tr><tr><th>24</th><td>4.0</td><td>3.0</td><td>4.0</td><td>4.0</td><td>1.0</td><td>4.0</td><td>4.0</td><td>4.0</td><td>4.0</td></tr><tr><th>25</th><td>4.0</td><td>4.0</td><td>4.0</td><td>4.0</td><td>4.0</td><td>4.0</td><td>4.0</td><td>4.0</td><td>4.0</td></tr><tr><th>26</th><td>4.0</td><td>1.0</td><td>4.0</td><td>2.0</td><td>4.0</td><td>1.0</td><td>4.0</td><td>1.0</td><td>2.0</td></tr><tr><th>27</th><td>1.0</td><td>4.0</td><td>1.0</td><td>1.0</td><td>1.0</td><td>1.0</td><td>4.0</td><td>1.0</td><td>4.0</td></tr><tr><th>28</th><td>4.0</td><td>4.0</td><td>4.0</td><td>4.0</td><td>4.0</td><td>4.0</td><td>1.0</td><td>4.0</td><td>4.0</td></tr><tr><th>29</th><td>4.0</td><td>1.0</td><td>4.0</td><td>4.0</td><td>4.0</td><td>4.0</td><td>4.0</td><td>4.0</td><td>4.0</td></tr><tr><th>30</th><td>1.0</td><td>4.0</td><td>4.0</td><td>4.0</td><td>4.0</td><td>1.0</td><td>4.0</td><td>4.0</td><td>4.0</td></tr><tr><th>&vellip;</th><td>&vellip;</td><td>&vellip;</td><td>&vellip;</td><td>&vellip;</td><td>&vellip;</td><td>&vellip;</td><td>&vellip;</td><td>&vellip;</td><td>&vellip;</td></tr></tbody></table>"
      ],
      "text/latex": [
       "\\begin{tabular}{r|cccccccccc}\n",
       "\t& Trait1 & Trait2 & Trait3 & Trait4 & Trait5 & Trait6 & Trait7 & Trait8 & Trait9 & \\\\\n",
       "\t\\hline\n",
       "\t& Float64 & Float64 & Float64 & Float64 & Float64 & Float64 & Float64 & Float64 & Float64 & \\\\\n",
       "\t\\hline\n",
       "\t1 & 4.0 & 4.0 & 1.0 & 1.0 & 1.0 & 4.0 & 4.0 & 1.0 & 1.0 & $\\dots$ \\\\\n",
       "\t2 & 1.0 & 2.0 & 2.0 & 4.0 & 1.0 & 4.0 & 4.0 & 4.0 & 4.0 & $\\dots$ \\\\\n",
       "\t3 & 4.0 & 4.0 & 3.0 & 4.0 & 4.0 & 4.0 & 4.0 & 1.0 & 1.0 & $\\dots$ \\\\\n",
       "\t4 & 1.0 & 4.0 & 4.0 & 4.0 & 1.0 & 4.0 & 4.0 & 1.0 & 2.0 & $\\dots$ \\\\\n",
       "\t5 & 4.0 & 1.0 & 4.0 & 1.0 & 4.0 & 4.0 & 4.0 & 4.0 & 4.0 & $\\dots$ \\\\\n",
       "\t6 & 4.0 & 3.0 & 3.0 & 4.0 & 4.0 & 1.0 & 4.0 & 1.0 & 4.0 & $\\dots$ \\\\\n",
       "\t7 & 4.0 & 3.0 & 2.0 & 4.0 & 4.0 & 4.0 & 4.0 & 4.0 & 4.0 & $\\dots$ \\\\\n",
       "\t8 & 4.0 & 4.0 & 1.0 & 4.0 & 4.0 & 4.0 & 1.0 & 1.0 & 4.0 & $\\dots$ \\\\\n",
       "\t9 & 4.0 & 4.0 & 3.0 & 4.0 & 4.0 & 4.0 & 4.0 & 1.0 & 4.0 & $\\dots$ \\\\\n",
       "\t10 & 2.0 & 1.0 & 4.0 & 4.0 & 1.0 & 1.0 & 4.0 & 4.0 & 4.0 & $\\dots$ \\\\\n",
       "\t11 & 4.0 & 4.0 & 1.0 & 4.0 & 4.0 & 4.0 & 4.0 & 3.0 & 4.0 & $\\dots$ \\\\\n",
       "\t12 & 4.0 & 4.0 & 4.0 & 4.0 & 2.0 & 4.0 & 4.0 & 4.0 & 4.0 & $\\dots$ \\\\\n",
       "\t13 & 2.0 & 4.0 & 4.0 & 2.0 & 4.0 & 1.0 & 4.0 & 4.0 & 4.0 & $\\dots$ \\\\\n",
       "\t14 & 4.0 & 4.0 & 1.0 & 4.0 & 4.0 & 4.0 & 4.0 & 4.0 & 1.0 & $\\dots$ \\\\\n",
       "\t15 & 3.0 & 1.0 & 1.0 & 4.0 & 4.0 & 4.0 & 1.0 & 4.0 & 4.0 & $\\dots$ \\\\\n",
       "\t16 & 4.0 & 4.0 & 4.0 & 4.0 & 4.0 & 4.0 & 1.0 & 4.0 & 4.0 & $\\dots$ \\\\\n",
       "\t17 & 4.0 & 1.0 & 1.0 & 4.0 & 1.0 & 1.0 & 4.0 & 1.0 & 1.0 & $\\dots$ \\\\\n",
       "\t18 & 4.0 & 1.0 & 1.0 & 4.0 & 4.0 & 4.0 & 4.0 & 4.0 & 4.0 & $\\dots$ \\\\\n",
       "\t19 & 4.0 & 4.0 & 4.0 & 1.0 & 4.0 & 4.0 & 1.0 & 4.0 & 1.0 & $\\dots$ \\\\\n",
       "\t20 & 4.0 & 1.0 & 4.0 & 4.0 & 4.0 & 1.0 & 4.0 & 4.0 & 4.0 & $\\dots$ \\\\\n",
       "\t21 & 4.0 & 3.0 & 1.0 & 3.0 & 4.0 & 1.0 & 4.0 & 1.0 & 4.0 & $\\dots$ \\\\\n",
       "\t22 & 2.0 & 4.0 & 4.0 & 4.0 & 4.0 & 4.0 & 4.0 & 1.0 & 1.0 & $\\dots$ \\\\\n",
       "\t23 & 4.0 & 4.0 & 4.0 & 4.0 & 4.0 & 1.0 & 4.0 & 4.0 & 4.0 & $\\dots$ \\\\\n",
       "\t24 & 4.0 & 3.0 & 4.0 & 4.0 & 1.0 & 4.0 & 4.0 & 4.0 & 4.0 & $\\dots$ \\\\\n",
       "\t25 & 4.0 & 4.0 & 4.0 & 4.0 & 4.0 & 4.0 & 4.0 & 4.0 & 4.0 & $\\dots$ \\\\\n",
       "\t26 & 4.0 & 1.0 & 4.0 & 2.0 & 4.0 & 1.0 & 4.0 & 1.0 & 2.0 & $\\dots$ \\\\\n",
       "\t27 & 1.0 & 4.0 & 1.0 & 1.0 & 1.0 & 1.0 & 4.0 & 1.0 & 4.0 & $\\dots$ \\\\\n",
       "\t28 & 4.0 & 4.0 & 4.0 & 4.0 & 4.0 & 4.0 & 1.0 & 4.0 & 4.0 & $\\dots$ \\\\\n",
       "\t29 & 4.0 & 1.0 & 4.0 & 4.0 & 4.0 & 4.0 & 4.0 & 4.0 & 4.0 & $\\dots$ \\\\\n",
       "\t30 & 1.0 & 4.0 & 4.0 & 4.0 & 4.0 & 1.0 & 4.0 & 4.0 & 4.0 & $\\dots$ \\\\\n",
       "\t$\\dots$ & $\\dots$ & $\\dots$ & $\\dots$ & $\\dots$ & $\\dots$ & $\\dots$ & $\\dots$ & $\\dots$ & $\\dots$ &  \\\\\n",
       "\\end{tabular}\n"
      ],
      "text/plain": [
       "379×10 DataFrame. Omitted printing of 3 columns\n",
       "│ Row │ Trait1  │ Trait2  │ Trait3  │ Trait4  │ Trait5  │ Trait6  │ Trait7  │\n",
       "│     │ \u001b[90mFloat64\u001b[39m │ \u001b[90mFloat64\u001b[39m │ \u001b[90mFloat64\u001b[39m │ \u001b[90mFloat64\u001b[39m │ \u001b[90mFloat64\u001b[39m │ \u001b[90mFloat64\u001b[39m │ \u001b[90mFloat64\u001b[39m │\n",
       "├─────┼─────────┼─────────┼─────────┼─────────┼─────────┼─────────┼─────────┤\n",
       "│ 1   │ 4.0     │ 4.0     │ 1.0     │ 1.0     │ 1.0     │ 4.0     │ 4.0     │\n",
       "│ 2   │ 1.0     │ 2.0     │ 2.0     │ 4.0     │ 1.0     │ 4.0     │ 4.0     │\n",
       "│ 3   │ 4.0     │ 4.0     │ 3.0     │ 4.0     │ 4.0     │ 4.0     │ 4.0     │\n",
       "│ 4   │ 1.0     │ 4.0     │ 4.0     │ 4.0     │ 1.0     │ 4.0     │ 4.0     │\n",
       "│ 5   │ 4.0     │ 1.0     │ 4.0     │ 1.0     │ 4.0     │ 4.0     │ 4.0     │\n",
       "│ 6   │ 4.0     │ 3.0     │ 3.0     │ 4.0     │ 4.0     │ 1.0     │ 4.0     │\n",
       "│ 7   │ 4.0     │ 3.0     │ 2.0     │ 4.0     │ 4.0     │ 4.0     │ 4.0     │\n",
       "│ 8   │ 4.0     │ 4.0     │ 1.0     │ 4.0     │ 4.0     │ 4.0     │ 1.0     │\n",
       "│ 9   │ 4.0     │ 4.0     │ 3.0     │ 4.0     │ 4.0     │ 4.0     │ 4.0     │\n",
       "│ 10  │ 2.0     │ 1.0     │ 4.0     │ 4.0     │ 1.0     │ 1.0     │ 4.0     │\n",
       "⋮\n",
       "│ 369 │ 4.0     │ 1.0     │ 4.0     │ 4.0     │ 4.0     │ 4.0     │ 4.0     │\n",
       "│ 370 │ 1.0     │ 1.0     │ 1.0     │ 4.0     │ 4.0     │ 4.0     │ 4.0     │\n",
       "│ 371 │ 1.0     │ 4.0     │ 4.0     │ 4.0     │ 4.0     │ 4.0     │ 1.0     │\n",
       "│ 372 │ 4.0     │ 4.0     │ 1.0     │ 4.0     │ 1.0     │ 4.0     │ 4.0     │\n",
       "│ 373 │ 4.0     │ 4.0     │ 1.0     │ 4.0     │ 4.0     │ 1.0     │ 4.0     │\n",
       "│ 374 │ 4.0     │ 1.0     │ 4.0     │ 4.0     │ 1.0     │ 4.0     │ 4.0     │\n",
       "│ 375 │ 4.0     │ 4.0     │ 4.0     │ 4.0     │ 4.0     │ 4.0     │ 4.0     │\n",
       "│ 376 │ 3.0     │ 1.0     │ 1.0     │ 4.0     │ 1.0     │ 4.0     │ 4.0     │\n",
       "│ 377 │ 4.0     │ 1.0     │ 4.0     │ 4.0     │ 4.0     │ 1.0     │ 4.0     │\n",
       "│ 378 │ 4.0     │ 4.0     │ 4.0     │ 4.0     │ 4.0     │ 4.0     │ 4.0     │\n",
       "│ 379 │ 4.0     │ 4.0     │ 1.0     │ 4.0     │ 1.0     │ 4.0     │ 4.0     │"
      ]
     },
     "execution_count": 15,
     "metadata": {},
     "output_type": "execute_result"
    }
   ],
   "source": [
    "nsim = 10 \n",
    "Ordinal_Trait = DataFrame(simulate(Ordinal_Model, nsim))\n",
    "rename!(Ordinal_Trait, [Symbol(\"Trait$i\") for i in 1:nsim])"
   ]
  },
  {
   "cell_type": "markdown",
   "metadata": {},
   "source": [
    "### Simulate Ordered Multinomial Logistic\n",
    "\n",
    "Specific to the Ordered Multinomial Logistic model is the option to transform the multinomial outcome (i.e 1, 2, 3, 4) into a binary outcome for logistic regression. \n",
    "\n",
    "Although by default is the multinomial simulation above, the user can simulate from the transformed logistic outcome for example by specifying arguments: `Logistic = true` and `threshold = 2` the value to use as a cutoff for identifying cases and controls. **(i.e if y > 2 => y_logit == 1).** We note if you specify `Logistic = true` and do not provide a threshold value, the function will throw an error to remind you to specify one."
   ]
  },
  {
   "cell_type": "code",
   "execution_count": 16,
   "metadata": {},
   "outputs": [
    {
     "data": {
      "text/html": [
       "<table class=\"data-frame\"><thead><tr><th></th><th>Trait1</th><th>Trait2</th><th>Trait3</th><th>Trait4</th><th>Trait5</th><th>Trait6</th><th>Trait7</th><th>Trait8</th><th>Trait9</th></tr><tr><th></th><th>Float64</th><th>Float64</th><th>Float64</th><th>Float64</th><th>Float64</th><th>Float64</th><th>Float64</th><th>Float64</th><th>Float64</th></tr></thead><tbody><p>379 rows × 10 columns (omitted printing of 1 columns)</p><tr><th>1</th><td>0.0</td><td>1.0</td><td>1.0</td><td>0.0</td><td>1.0</td><td>0.0</td><td>1.0</td><td>0.0</td><td>1.0</td></tr><tr><th>2</th><td>0.0</td><td>0.0</td><td>0.0</td><td>0.0</td><td>1.0</td><td>1.0</td><td>0.0</td><td>0.0</td><td>0.0</td></tr><tr><th>3</th><td>1.0</td><td>0.0</td><td>1.0</td><td>0.0</td><td>0.0</td><td>1.0</td><td>1.0</td><td>1.0</td><td>1.0</td></tr><tr><th>4</th><td>1.0</td><td>0.0</td><td>1.0</td><td>0.0</td><td>0.0</td><td>1.0</td><td>1.0</td><td>1.0</td><td>1.0</td></tr><tr><th>5</th><td>1.0</td><td>1.0</td><td>1.0</td><td>0.0</td><td>1.0</td><td>1.0</td><td>1.0</td><td>0.0</td><td>1.0</td></tr><tr><th>6</th><td>1.0</td><td>1.0</td><td>1.0</td><td>1.0</td><td>1.0</td><td>0.0</td><td>1.0</td><td>0.0</td><td>1.0</td></tr><tr><th>7</th><td>1.0</td><td>1.0</td><td>1.0</td><td>1.0</td><td>1.0</td><td>0.0</td><td>0.0</td><td>1.0</td><td>1.0</td></tr><tr><th>8</th><td>1.0</td><td>1.0</td><td>0.0</td><td>0.0</td><td>0.0</td><td>1.0</td><td>0.0</td><td>1.0</td><td>1.0</td></tr><tr><th>9</th><td>1.0</td><td>1.0</td><td>1.0</td><td>0.0</td><td>1.0</td><td>0.0</td><td>1.0</td><td>1.0</td><td>0.0</td></tr><tr><th>10</th><td>1.0</td><td>1.0</td><td>1.0</td><td>1.0</td><td>1.0</td><td>1.0</td><td>1.0</td><td>1.0</td><td>1.0</td></tr><tr><th>11</th><td>0.0</td><td>0.0</td><td>0.0</td><td>0.0</td><td>1.0</td><td>1.0</td><td>0.0</td><td>1.0</td><td>0.0</td></tr><tr><th>12</th><td>1.0</td><td>1.0</td><td>0.0</td><td>1.0</td><td>1.0</td><td>1.0</td><td>1.0</td><td>1.0</td><td>0.0</td></tr><tr><th>13</th><td>0.0</td><td>1.0</td><td>0.0</td><td>1.0</td><td>1.0</td><td>1.0</td><td>1.0</td><td>1.0</td><td>1.0</td></tr><tr><th>14</th><td>1.0</td><td>1.0</td><td>0.0</td><td>1.0</td><td>1.0</td><td>1.0</td><td>1.0</td><td>1.0</td><td>1.0</td></tr><tr><th>15</th><td>0.0</td><td>1.0</td><td>1.0</td><td>0.0</td><td>1.0</td><td>1.0</td><td>0.0</td><td>1.0</td><td>1.0</td></tr><tr><th>16</th><td>0.0</td><td>1.0</td><td>1.0</td><td>1.0</td><td>0.0</td><td>0.0</td><td>0.0</td><td>1.0</td><td>1.0</td></tr><tr><th>17</th><td>0.0</td><td>0.0</td><td>1.0</td><td>1.0</td><td>1.0</td><td>0.0</td><td>1.0</td><td>1.0</td><td>1.0</td></tr><tr><th>18</th><td>1.0</td><td>1.0</td><td>1.0</td><td>0.0</td><td>0.0</td><td>0.0</td><td>1.0</td><td>1.0</td><td>1.0</td></tr><tr><th>19</th><td>1.0</td><td>1.0</td><td>0.0</td><td>1.0</td><td>1.0</td><td>1.0</td><td>1.0</td><td>1.0</td><td>1.0</td></tr><tr><th>20</th><td>1.0</td><td>1.0</td><td>0.0</td><td>1.0</td><td>1.0</td><td>0.0</td><td>1.0</td><td>1.0</td><td>1.0</td></tr><tr><th>21</th><td>1.0</td><td>1.0</td><td>1.0</td><td>0.0</td><td>1.0</td><td>1.0</td><td>1.0</td><td>1.0</td><td>1.0</td></tr><tr><th>22</th><td>1.0</td><td>0.0</td><td>1.0</td><td>1.0</td><td>0.0</td><td>0.0</td><td>1.0</td><td>1.0</td><td>1.0</td></tr><tr><th>23</th><td>1.0</td><td>1.0</td><td>1.0</td><td>1.0</td><td>1.0</td><td>1.0</td><td>1.0</td><td>0.0</td><td>1.0</td></tr><tr><th>24</th><td>0.0</td><td>0.0</td><td>1.0</td><td>0.0</td><td>0.0</td><td>1.0</td><td>1.0</td><td>1.0</td><td>0.0</td></tr><tr><th>25</th><td>1.0</td><td>0.0</td><td>1.0</td><td>1.0</td><td>0.0</td><td>0.0</td><td>1.0</td><td>1.0</td><td>1.0</td></tr><tr><th>26</th><td>1.0</td><td>0.0</td><td>0.0</td><td>1.0</td><td>0.0</td><td>1.0</td><td>1.0</td><td>0.0</td><td>1.0</td></tr><tr><th>27</th><td>1.0</td><td>1.0</td><td>0.0</td><td>1.0</td><td>1.0</td><td>1.0</td><td>1.0</td><td>1.0</td><td>1.0</td></tr><tr><th>28</th><td>1.0</td><td>0.0</td><td>0.0</td><td>1.0</td><td>1.0</td><td>1.0</td><td>1.0</td><td>0.0</td><td>1.0</td></tr><tr><th>29</th><td>1.0</td><td>0.0</td><td>1.0</td><td>1.0</td><td>1.0</td><td>1.0</td><td>1.0</td><td>0.0</td><td>1.0</td></tr><tr><th>30</th><td>1.0</td><td>1.0</td><td>1.0</td><td>1.0</td><td>1.0</td><td>0.0</td><td>1.0</td><td>1.0</td><td>1.0</td></tr><tr><th>&vellip;</th><td>&vellip;</td><td>&vellip;</td><td>&vellip;</td><td>&vellip;</td><td>&vellip;</td><td>&vellip;</td><td>&vellip;</td><td>&vellip;</td><td>&vellip;</td></tr></tbody></table>"
      ],
      "text/latex": [
       "\\begin{tabular}{r|cccccccccc}\n",
       "\t& Trait1 & Trait2 & Trait3 & Trait4 & Trait5 & Trait6 & Trait7 & Trait8 & Trait9 & \\\\\n",
       "\t\\hline\n",
       "\t& Float64 & Float64 & Float64 & Float64 & Float64 & Float64 & Float64 & Float64 & Float64 & \\\\\n",
       "\t\\hline\n",
       "\t1 & 0.0 & 1.0 & 1.0 & 0.0 & 1.0 & 0.0 & 1.0 & 0.0 & 1.0 & $\\dots$ \\\\\n",
       "\t2 & 0.0 & 0.0 & 0.0 & 0.0 & 1.0 & 1.0 & 0.0 & 0.0 & 0.0 & $\\dots$ \\\\\n",
       "\t3 & 1.0 & 0.0 & 1.0 & 0.0 & 0.0 & 1.0 & 1.0 & 1.0 & 1.0 & $\\dots$ \\\\\n",
       "\t4 & 1.0 & 0.0 & 1.0 & 0.0 & 0.0 & 1.0 & 1.0 & 1.0 & 1.0 & $\\dots$ \\\\\n",
       "\t5 & 1.0 & 1.0 & 1.0 & 0.0 & 1.0 & 1.0 & 1.0 & 0.0 & 1.0 & $\\dots$ \\\\\n",
       "\t6 & 1.0 & 1.0 & 1.0 & 1.0 & 1.0 & 0.0 & 1.0 & 0.0 & 1.0 & $\\dots$ \\\\\n",
       "\t7 & 1.0 & 1.0 & 1.0 & 1.0 & 1.0 & 0.0 & 0.0 & 1.0 & 1.0 & $\\dots$ \\\\\n",
       "\t8 & 1.0 & 1.0 & 0.0 & 0.0 & 0.0 & 1.0 & 0.0 & 1.0 & 1.0 & $\\dots$ \\\\\n",
       "\t9 & 1.0 & 1.0 & 1.0 & 0.0 & 1.0 & 0.0 & 1.0 & 1.0 & 0.0 & $\\dots$ \\\\\n",
       "\t10 & 1.0 & 1.0 & 1.0 & 1.0 & 1.0 & 1.0 & 1.0 & 1.0 & 1.0 & $\\dots$ \\\\\n",
       "\t11 & 0.0 & 0.0 & 0.0 & 0.0 & 1.0 & 1.0 & 0.0 & 1.0 & 0.0 & $\\dots$ \\\\\n",
       "\t12 & 1.0 & 1.0 & 0.0 & 1.0 & 1.0 & 1.0 & 1.0 & 1.0 & 0.0 & $\\dots$ \\\\\n",
       "\t13 & 0.0 & 1.0 & 0.0 & 1.0 & 1.0 & 1.0 & 1.0 & 1.0 & 1.0 & $\\dots$ \\\\\n",
       "\t14 & 1.0 & 1.0 & 0.0 & 1.0 & 1.0 & 1.0 & 1.0 & 1.0 & 1.0 & $\\dots$ \\\\\n",
       "\t15 & 0.0 & 1.0 & 1.0 & 0.0 & 1.0 & 1.0 & 0.0 & 1.0 & 1.0 & $\\dots$ \\\\\n",
       "\t16 & 0.0 & 1.0 & 1.0 & 1.0 & 0.0 & 0.0 & 0.0 & 1.0 & 1.0 & $\\dots$ \\\\\n",
       "\t17 & 0.0 & 0.0 & 1.0 & 1.0 & 1.0 & 0.0 & 1.0 & 1.0 & 1.0 & $\\dots$ \\\\\n",
       "\t18 & 1.0 & 1.0 & 1.0 & 0.0 & 0.0 & 0.0 & 1.0 & 1.0 & 1.0 & $\\dots$ \\\\\n",
       "\t19 & 1.0 & 1.0 & 0.0 & 1.0 & 1.0 & 1.0 & 1.0 & 1.0 & 1.0 & $\\dots$ \\\\\n",
       "\t20 & 1.0 & 1.0 & 0.0 & 1.0 & 1.0 & 0.0 & 1.0 & 1.0 & 1.0 & $\\dots$ \\\\\n",
       "\t21 & 1.0 & 1.0 & 1.0 & 0.0 & 1.0 & 1.0 & 1.0 & 1.0 & 1.0 & $\\dots$ \\\\\n",
       "\t22 & 1.0 & 0.0 & 1.0 & 1.0 & 0.0 & 0.0 & 1.0 & 1.0 & 1.0 & $\\dots$ \\\\\n",
       "\t23 & 1.0 & 1.0 & 1.0 & 1.0 & 1.0 & 1.0 & 1.0 & 0.0 & 1.0 & $\\dots$ \\\\\n",
       "\t24 & 0.0 & 0.0 & 1.0 & 0.0 & 0.0 & 1.0 & 1.0 & 1.0 & 0.0 & $\\dots$ \\\\\n",
       "\t25 & 1.0 & 0.0 & 1.0 & 1.0 & 0.0 & 0.0 & 1.0 & 1.0 & 1.0 & $\\dots$ \\\\\n",
       "\t26 & 1.0 & 0.0 & 0.0 & 1.0 & 0.0 & 1.0 & 1.0 & 0.0 & 1.0 & $\\dots$ \\\\\n",
       "\t27 & 1.0 & 1.0 & 0.0 & 1.0 & 1.0 & 1.0 & 1.0 & 1.0 & 1.0 & $\\dots$ \\\\\n",
       "\t28 & 1.0 & 0.0 & 0.0 & 1.0 & 1.0 & 1.0 & 1.0 & 0.0 & 1.0 & $\\dots$ \\\\\n",
       "\t29 & 1.0 & 0.0 & 1.0 & 1.0 & 1.0 & 1.0 & 1.0 & 0.0 & 1.0 & $\\dots$ \\\\\n",
       "\t30 & 1.0 & 1.0 & 1.0 & 1.0 & 1.0 & 0.0 & 1.0 & 1.0 & 1.0 & $\\dots$ \\\\\n",
       "\t$\\dots$ & $\\dots$ & $\\dots$ & $\\dots$ & $\\dots$ & $\\dots$ & $\\dots$ & $\\dots$ & $\\dots$ & $\\dots$ &  \\\\\n",
       "\\end{tabular}\n"
      ],
      "text/plain": [
       "379×10 DataFrame. Omitted printing of 3 columns\n",
       "│ Row │ Trait1  │ Trait2  │ Trait3  │ Trait4  │ Trait5  │ Trait6  │ Trait7  │\n",
       "│     │ \u001b[90mFloat64\u001b[39m │ \u001b[90mFloat64\u001b[39m │ \u001b[90mFloat64\u001b[39m │ \u001b[90mFloat64\u001b[39m │ \u001b[90mFloat64\u001b[39m │ \u001b[90mFloat64\u001b[39m │ \u001b[90mFloat64\u001b[39m │\n",
       "├─────┼─────────┼─────────┼─────────┼─────────┼─────────┼─────────┼─────────┤\n",
       "│ 1   │ 0.0     │ 1.0     │ 1.0     │ 0.0     │ 1.0     │ 0.0     │ 1.0     │\n",
       "│ 2   │ 0.0     │ 0.0     │ 0.0     │ 0.0     │ 1.0     │ 1.0     │ 0.0     │\n",
       "│ 3   │ 1.0     │ 0.0     │ 1.0     │ 0.0     │ 0.0     │ 1.0     │ 1.0     │\n",
       "│ 4   │ 1.0     │ 0.0     │ 1.0     │ 0.0     │ 0.0     │ 1.0     │ 1.0     │\n",
       "│ 5   │ 1.0     │ 1.0     │ 1.0     │ 0.0     │ 1.0     │ 1.0     │ 1.0     │\n",
       "│ 6   │ 1.0     │ 1.0     │ 1.0     │ 1.0     │ 1.0     │ 0.0     │ 1.0     │\n",
       "│ 7   │ 1.0     │ 1.0     │ 1.0     │ 1.0     │ 1.0     │ 0.0     │ 0.0     │\n",
       "│ 8   │ 1.0     │ 1.0     │ 0.0     │ 0.0     │ 0.0     │ 1.0     │ 0.0     │\n",
       "│ 9   │ 1.0     │ 1.0     │ 1.0     │ 0.0     │ 1.0     │ 0.0     │ 1.0     │\n",
       "│ 10  │ 1.0     │ 1.0     │ 1.0     │ 1.0     │ 1.0     │ 1.0     │ 1.0     │\n",
       "⋮\n",
       "│ 369 │ 1.0     │ 0.0     │ 1.0     │ 1.0     │ 1.0     │ 0.0     │ 1.0     │\n",
       "│ 370 │ 0.0     │ 0.0     │ 1.0     │ 0.0     │ 1.0     │ 0.0     │ 1.0     │\n",
       "│ 371 │ 0.0     │ 1.0     │ 1.0     │ 0.0     │ 1.0     │ 1.0     │ 1.0     │\n",
       "│ 372 │ 1.0     │ 0.0     │ 0.0     │ 0.0     │ 1.0     │ 1.0     │ 1.0     │\n",
       "│ 373 │ 0.0     │ 1.0     │ 0.0     │ 0.0     │ 1.0     │ 1.0     │ 1.0     │\n",
       "│ 374 │ 1.0     │ 1.0     │ 0.0     │ 1.0     │ 1.0     │ 1.0     │ 1.0     │\n",
       "│ 375 │ 1.0     │ 1.0     │ 1.0     │ 0.0     │ 0.0     │ 1.0     │ 1.0     │\n",
       "│ 376 │ 1.0     │ 1.0     │ 1.0     │ 1.0     │ 1.0     │ 1.0     │ 1.0     │\n",
       "│ 377 │ 1.0     │ 1.0     │ 1.0     │ 0.0     │ 1.0     │ 0.0     │ 1.0     │\n",
       "│ 378 │ 0.0     │ 1.0     │ 0.0     │ 0.0     │ 1.0     │ 1.0     │ 1.0     │\n",
       "│ 379 │ 0.0     │ 1.0     │ 0.0     │ 1.0     │ 1.0     │ 0.0     │ 1.0     │"
      ]
     },
     "execution_count": 16,
     "metadata": {},
     "output_type": "execute_result"
    }
   ],
   "source": [
    "Logistic_Trait = DataFrame(simulate(Ordinal_Model, nsim, Logistic = true, threshold = 2))\n",
    "rename!(Logistic_Trait, [Symbol(\"Trait$i\") for i in 1:nsim])"
   ]
  },
  {
   "cell_type": "markdown",
   "metadata": {},
   "source": [
    "# Example 4: GLMM Trait Simulation\n",
    "\n",
    "Next, we demonstrate how to simulate a Poisson Trait, after controlling for family structure.  "
   ]
  },
  {
   "cell_type": "code",
   "execution_count": 17,
   "metadata": {},
   "outputs": [
    {
     "data": {
      "text/plain": [
       "Generalized Linear Mixed Model\n",
       "  * response distribution: Poisson\n",
       "  * link function: LogLink\n",
       "  * number of variance components: 2\n",
       "  * sample size: 379"
      ]
     },
     "execution_count": 17,
     "metadata": {},
     "output_type": "execute_result"
    }
   ],
   "source": [
    "dist = Poisson()\n",
    "link = LogLink()\n",
    "\n",
    "vc = @vc [0.01][:,:] ⊗ (GRM + I_n) + [0.9][:, :] ⊗ I_n\n",
    "GLMMmodel = GLMMTrait(X, β[:,:], vc, dist, link)"
   ]
  },
  {
   "cell_type": "code",
   "execution_count": 18,
   "metadata": {},
   "outputs": [
    {
     "data": {
      "text/html": [
       "<table class=\"data-frame\"><thead><tr><th></th><th>Trait1</th></tr><tr><th></th><th>Int64</th></tr></thead><tbody><p>379 rows × 1 columns</p><tr><th>1</th><td>8</td></tr><tr><th>2</th><td>10</td></tr><tr><th>3</th><td>1</td></tr><tr><th>4</th><td>6</td></tr><tr><th>5</th><td>44</td></tr><tr><th>6</th><td>25</td></tr><tr><th>7</th><td>36</td></tr><tr><th>8</th><td>30</td></tr><tr><th>9</th><td>139</td></tr><tr><th>10</th><td>7</td></tr><tr><th>11</th><td>1</td></tr><tr><th>12</th><td>9</td></tr><tr><th>13</th><td>10</td></tr><tr><th>14</th><td>9</td></tr><tr><th>15</th><td>12</td></tr><tr><th>16</th><td>2</td></tr><tr><th>17</th><td>20</td></tr><tr><th>18</th><td>2</td></tr><tr><th>19</th><td>31</td></tr><tr><th>20</th><td>9</td></tr><tr><th>21</th><td>13</td></tr><tr><th>22</th><td>2</td></tr><tr><th>23</th><td>8</td></tr><tr><th>24</th><td>10</td></tr><tr><th>25</th><td>62</td></tr><tr><th>26</th><td>31</td></tr><tr><th>27</th><td>14</td></tr><tr><th>28</th><td>5</td></tr><tr><th>29</th><td>3</td></tr><tr><th>30</th><td>7</td></tr><tr><th>&vellip;</th><td>&vellip;</td></tr></tbody></table>"
      ],
      "text/latex": [
       "\\begin{tabular}{r|c}\n",
       "\t& Trait1\\\\\n",
       "\t\\hline\n",
       "\t& Int64\\\\\n",
       "\t\\hline\n",
       "\t1 & 8 \\\\\n",
       "\t2 & 10 \\\\\n",
       "\t3 & 1 \\\\\n",
       "\t4 & 6 \\\\\n",
       "\t5 & 44 \\\\\n",
       "\t6 & 25 \\\\\n",
       "\t7 & 36 \\\\\n",
       "\t8 & 30 \\\\\n",
       "\t9 & 139 \\\\\n",
       "\t10 & 7 \\\\\n",
       "\t11 & 1 \\\\\n",
       "\t12 & 9 \\\\\n",
       "\t13 & 10 \\\\\n",
       "\t14 & 9 \\\\\n",
       "\t15 & 12 \\\\\n",
       "\t16 & 2 \\\\\n",
       "\t17 & 20 \\\\\n",
       "\t18 & 2 \\\\\n",
       "\t19 & 31 \\\\\n",
       "\t20 & 9 \\\\\n",
       "\t21 & 13 \\\\\n",
       "\t22 & 2 \\\\\n",
       "\t23 & 8 \\\\\n",
       "\t24 & 10 \\\\\n",
       "\t25 & 62 \\\\\n",
       "\t26 & 31 \\\\\n",
       "\t27 & 14 \\\\\n",
       "\t28 & 5 \\\\\n",
       "\t29 & 3 \\\\\n",
       "\t30 & 7 \\\\\n",
       "\t$\\dots$ & $\\dots$ \\\\\n",
       "\\end{tabular}\n"
      ],
      "text/plain": [
       "379×1 DataFrame\n",
       "│ Row │ Trait1 │\n",
       "│     │ \u001b[90mInt64\u001b[39m  │\n",
       "├─────┼────────┤\n",
       "│ 1   │ 8      │\n",
       "│ 2   │ 10     │\n",
       "│ 3   │ 1      │\n",
       "│ 4   │ 6      │\n",
       "│ 5   │ 44     │\n",
       "│ 6   │ 25     │\n",
       "│ 7   │ 36     │\n",
       "│ 8   │ 30     │\n",
       "│ 9   │ 139    │\n",
       "│ 10  │ 7      │\n",
       "⋮\n",
       "│ 369 │ 29     │\n",
       "│ 370 │ 1      │\n",
       "│ 371 │ 9      │\n",
       "│ 372 │ 11     │\n",
       "│ 373 │ 9      │\n",
       "│ 374 │ 5      │\n",
       "│ 375 │ 15     │\n",
       "│ 376 │ 0      │\n",
       "│ 377 │ 6      │\n",
       "│ 378 │ 12     │\n",
       "│ 379 │ 8      │"
      ]
     },
     "execution_count": 18,
     "metadata": {},
     "output_type": "execute_result"
    }
   ],
   "source": [
    "Y = DataFrame(simulate(GLMMmodel))\n",
    "rename!(Y, [Symbol(\"Trait$i\") for i in 1:size(Y, 2)])"
   ]
  },
  {
   "cell_type": "markdown",
   "metadata": {},
   "source": [
    "# Power Calculation\n",
    "\n",
    "For the last example, we show how to simulate from customized simulation models that accompany specific genetic analysis options in OpenMendel; for example, ordered, multinomial traits. \n",
    "\n",
    "\n",
    "This example illustrates the use of the simulations to generates data sets allowing researchers to accurately check the validity of programs and to calculate power for their proposed studies. \n",
    "\n",
    "We illustrate this example in three digestable steps: \n",
    "   * The first by simulating genotypes and covariate values representative for our study population.\n",
    "   * Carry over the simulated design matrix from (1) to create the OrderedMultinomialTrait model object.\n",
    "   * Simulate off the OrderedMultinomialTrait model object created in (2) and run the power analyses for the desired significance level.\n"
   ]
  },
  {
   "cell_type": "markdown",
   "metadata": {},
   "source": [
    "Each column of this matrix represents each of the detected effect sizes, and each row of this matrix represents each simulation for that effect size. The user feeds into the function the number of simulations, the vector of effect sizes, the TraitSimulation.jl model object, and the random seed.\n",
    "\n",
    "For GLMTrait objects, the `realistic_power_simulation` function makes the appropriate calls to the GLM.jl package to get the simulation p-values obtained from testing the significance of the causal locus using the Wald Test by default. However since the GLM.jl package has its limitations, we include additional power utilities that make the appropriate function calls to the [OrdinalMultinomialModels](https://openmendel.github.io/OrdinalMultinomialModels.jl/stable/#Syntax-1) to get the p-value obtained from testing the significance of the causal locus. \n",
    "\n",
    "\n",
    "Variance Component Models for VCMTrait objects can be fit using [VarianceComponentModels.jl](https://openmendel.github.io/VarianceComponentModels.jl/latest/), and we demo for UK Biobank data in the docs. \n"
   ]
  },
  {
   "cell_type": "markdown",
   "metadata": {},
   "source": [
    "For each effect size in $\\gamma_s,$ in each column we have the p-values obtained from testing the significance of the causal locus `nsim = 1000` times under the desired model, and the `randomseed = 1234`."
   ]
  },
  {
   "cell_type": "markdown",
   "metadata": {},
   "source": [
    "### `Try it Yourself Exercises: `\n",
    "\n",
    "With the remaining time we encourage you to play with the simulation models above. \n",
    "\n",
    "(1) If you change the significance level, α, what would happen to the plot of the power? How would the plot change with a smaller value of α ? \n",
    "\n",
    "(2) What if you change the sample size to be smaller than `n = 5000`? How does the power look as a function of the effect size when `n = 2500`? \n",
    "\n",
    "(3) What if we changed the minor allele frequency of the SNP of interest from `maf = 0.2` to say `maf = 0.3` ?"
   ]
  },
  {
   "cell_type": "markdown",
   "metadata": {},
   "source": [
    "## Citations: \n",
    "\n",
    "[1] Lange K, Papp JC, Sinsheimer JS, Sripracha R, Zhou H, Sobel EM (2013) Mendel: The Swiss army knife of genetic analysis programs. Bioinformatics 29:1568-1570.`\n",
    "\n",
    "\n",
    "[2] OPENMENDEL: a cooperative programming project for statistical genetics.\n",
    "[Hum Genet. 2019 Mar 26. doi: 10.1007/s00439-019-02001-z](https://www.ncbi.nlm.nih.gov/pubmed/?term=OPENMENDEL).\n",
    "\n",
    "[3] German, CA, Sinsheimer, JS, Klimentidis, YC, Zhou, H, Zhou, JJ. Ordered multinomial regression for genetic association analysis of ordinal phenotypes at Biobank scale. Genetic Epidemiology. 2019; 1– 13. https://doi.org/10.1002/gepi.22276\n"
   ]
  }
 ],
 "metadata": {
  "@webio": {
   "lastCommId": null,
   "lastKernelId": null
  },
  "kernelspec": {
   "display_name": "Julia 1.4.0",
   "language": "julia",
   "name": "julia-1.4"
  },
  "language_info": {
   "file_extension": ".jl",
   "mimetype": "application/julia",
   "name": "julia",
   "version": "1.4.0"
  },
  "toc": {
   "base_numbering": 1,
   "nav_menu": {},
   "number_sections": true,
   "sideBar": true,
   "skip_h1_title": false,
   "title_cell": "Table of Contents",
   "title_sidebar": "Contents",
   "toc_cell": false,
   "toc_position": {},
   "toc_section_display": true,
   "toc_window_display": false
  }
 },
 "nbformat": 4,
 "nbformat_minor": 2
}
