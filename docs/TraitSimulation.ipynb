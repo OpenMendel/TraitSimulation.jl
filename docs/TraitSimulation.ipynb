{
 "cells": [
  {
   "cell_type": "markdown",
   "metadata": {},
   "source": [
    "# Trait Simulation Tutorial\n",
    "\n",
    "Authors: Sarah Ji, Janet Sinsheimer, Kenneth Lange\n",
    "\n",
    "In this notebook we show how to use the `TraitSimulation.jl` package we illustrate how TraitSimulation.jl can easily simulate traits from genotype data, all within the OpenMendel universe. Operating within this universe brings potential advantages over the available software(s) when needed for downstream analysis or study design. \n",
    "\n",
    "Using just a few calls on the command line to the appropriate packages within the OpenMendel, we demonstrate in three easy examples the utilities of the TraitSimulation.jl package.\n",
    "\n",
    "\n",
    "## Background\n",
    "\n",
    "There is a lack of software available to geneticists who wish to calculate power and sample sizes in designing a study on genetics data. Typically, the study power depends on assumptions about the underlying disease model.  Many power calculating software tools operate as a black box and do not allow for customization.  To develop custom tests, researchers can develop their own simulation procedures to carry out power calculations.  One limitation with many existing methods for simulating traits conditional on genotypes is that these methods are limited to normally distributed traits and to fixed effects. \n",
    "\n",
    "This software package, TraitSimuliation.jl addresses the need for simulated trait data in genetic analyses.  This package generates data sets that will allow researchers to accurately check the validity of programs and to calculate power for their proposed studies. This package gives users the ability to easily simulate phenotypic traits under GLMs or LMMs conditional on PLINK formatted genotype data [3]. In addition, we include customized simulation utilities that accompany specific genetic analysis options in Open-Mendel; for example, ordered, multinomial traits. We demonstrate these simulation utilities on the example dataset described below.\n",
    "\n",
    "\n",
    "## Demonstration\n",
    "\n",
    "##### Example Data\n",
    "\n",
    "We use the OpenMendel package [SnpArrays.jl](https://openmendel.github.io/SnpArrays.jl/latest/) to both read in and write out PLINK formatted files. Available in the data directory under the [Example_Data](https://openmendel.github.io/SnpArrays.jl/latest/#Example-data-1) section of this package, we use the file `\"EUR_SUBSET\"` for the demonstration how to simulate phenotypic traits on PLINK formatted data. \n",
    "For convenience we use the common assumption that the residual covariance among two relatives can be captured by the additive genetic variance times twice the kinship coefficient.\n",
    "\n",
    "In each example the user can specify the simulation model parameters, along with the number of repitions for each simulation model as desired. By default, the simulation will return the result of a single simulation.\n"
   ]
  },
  {
   "cell_type": "markdown",
   "metadata": {},
   "source": [
    "### Double check that you are using Julia version 1.0 or higher by checking the machine information"
   ]
  },
  {
   "cell_type": "code",
   "execution_count": 1,
   "metadata": {},
   "outputs": [
    {
     "name": "stdout",
     "output_type": "stream",
     "text": [
      "Julia Version 1.2.0\n",
      "Commit c6da87ff4b (2019-08-20 00:03 UTC)\n",
      "Platform Info:\n",
      "  OS: macOS (x86_64-apple-darwin18.6.0)\n",
      "  CPU: Intel(R) Core(TM) i7-7700HQ CPU @ 2.80GHz\n",
      "  WORD_SIZE: 64\n",
      "  LIBM: libopenlibm\n",
      "  LLVM: libLLVM-6.0.1 (ORCJIT, skylake)\n"
     ]
    }
   ],
   "source": [
    "versioninfo()"
   ]
  },
  {
   "cell_type": "code",
   "execution_count": 2,
   "metadata": {},
   "outputs": [
    {
     "name": "stderr",
     "output_type": "stream",
     "text": [
      "┌ Info: Recompiling stale cache file /Users/sarahji/.julia/compiled/v1.2/Revise/M1Qoh.ji for Revise [295af30f-e4ad-537b-8983-00126c2a3abe]\n",
      "└ @ Base loading.jl:1240\n",
      "┌ Info: Recompiling stale cache file /Users/sarahji/.julia/compiled/v1.2/TraitSimulation/VikWX.ji for TraitSimulation [dec3038e-29bc-11e9-2207-9f3d5855a202]\n",
      "└ @ Base loading.jl:1240\n"
     ]
    }
   ],
   "source": [
    "using Revise, Plots\n",
    "using DataFrames, LinearAlgebra, Random, SnpArrays, Distributions, TraitSimulation, BenchmarkTools, StatsBase, GLM, OrdinalMultinomialModels\n",
    "Random.seed!(1234);"
   ]
  },
  {
   "cell_type": "markdown",
   "metadata": {},
   "source": [
    "# Reading genotype data using SnpArrays\n",
    "\n",
    "First use `SnpArrays.jl` to read in the genotype data. We use PLINK formatted data with the same prefixes for the .bim, .fam, .bed files.\n",
    "\n",
    "SnpArrays is a very useful utility and can do a lot more than just read in the data. More information about all the functionality of SnpArrays can be found at:\n",
    "https://openmendel.github.io/SnpArrays.jl/latest/\n",
    "\n",
    "As missing genotypes are often due to problems making the calls, the called genotypes at a marker with too much missing genotypes are potentially unreliable. By default, SnpArrays filters to keep only the genotypes with success rates greater than 0.98 and the minimum minor allele frequency to be 0.01. If the user wishes to change the stringency, she should change the number given in filter according to https://openmendel.github.io/SnpArrays.jl/latest/#Fitering-1."
   ]
  },
  {
   "cell_type": "code",
   "execution_count": 3,
   "metadata": {},
   "outputs": [],
   "source": [
    "filename = \"EUR_subset\"\n",
    "EUR = SnpArray(SnpArrays.datadir(filename * \".bed\"));"
   ]
  },
  {
   "cell_type": "code",
   "execution_count": 4,
   "metadata": {},
   "outputs": [
    {
     "data": {
      "text/plain": [
       "(379, 54051)"
      ]
     },
     "execution_count": 4,
     "metadata": {},
     "output_type": "execute_result"
    }
   ],
   "source": [
    "rowmask, colmask =  SnpArrays.filter(EUR)\n",
    "minor_allele_frequency = maf(EUR);\n",
    "# rows are people; columns are SNPs\n",
    "people, snps = size(EUR)"
   ]
  },
  {
   "cell_type": "code",
   "execution_count": 5,
   "metadata": {},
   "outputs": [],
   "source": [
    "EUR_data = SnpData(SnpArrays.datadir(filename));"
   ]
  },
  {
   "cell_type": "markdown",
   "metadata": {},
   "source": [
    "Here we will use the rarest snp in our dataset, rs150018646, as the causal snp in our model for demonstration. Additionally, we will control for sex, with females as the baseline group, `sex = 0.0`. We want to find the index of this causal locus in the snp_definition (.bim) file and then subset that locus from the genetic marker data above. \n",
    "\n",
    "For users who wish to identify by name, which locus to include, first subset the names of all the loci into a vector called `snpid`  and then call the following command to store our design matrix for the model that includes sex and locus of choice. \n",
    "\n",
    "`snpid  = bimfile[!, :snpid]`\n",
    "\n",
    "`causal_snp_index = findall(x -> x == \"rs150018646\", snpid)` \n",
    "\n",
    "To comform to common convention we also transform sex variable from M/F to 1/0. "
   ]
  },
  {
   "cell_type": "code",
   "execution_count": 6,
   "metadata": {},
   "outputs": [
    {
     "data": {
      "text/html": [
       "<table class=\"data-frame\"><thead><tr><th></th><th>intercept</th><th>sex</th><th>locus</th></tr><tr><th></th><th>Float64</th><th>Float64</th><th>Float64</th></tr></thead><tbody><p>379 rows × 3 columns</p><tr><th>1</th><td>1.0</td><td>1.0</td><td>2.0</td></tr><tr><th>2</th><td>1.0</td><td>1.0</td><td>1.0</td></tr><tr><th>3</th><td>1.0</td><td>1.0</td><td>2.0</td></tr><tr><th>4</th><td>1.0</td><td>1.0</td><td>2.0</td></tr><tr><th>5</th><td>1.0</td><td>1.0</td><td>2.0</td></tr><tr><th>6</th><td>1.0</td><td>1.0</td><td>2.0</td></tr><tr><th>7</th><td>1.0</td><td>1.0</td><td>2.0</td></tr><tr><th>8</th><td>1.0</td><td>1.0</td><td>2.0</td></tr><tr><th>9</th><td>1.0</td><td>1.0</td><td>2.0</td></tr><tr><th>10</th><td>1.0</td><td>1.0</td><td>2.0</td></tr><tr><th>11</th><td>1.0</td><td>1.0</td><td>2.0</td></tr><tr><th>12</th><td>1.0</td><td>1.0</td><td>2.0</td></tr><tr><th>13</th><td>1.0</td><td>1.0</td><td>2.0</td></tr><tr><th>14</th><td>1.0</td><td>1.0</td><td>2.0</td></tr><tr><th>15</th><td>1.0</td><td>1.0</td><td>2.0</td></tr><tr><th>16</th><td>1.0</td><td>1.0</td><td>2.0</td></tr><tr><th>17</th><td>1.0</td><td>1.0</td><td>2.0</td></tr><tr><th>18</th><td>1.0</td><td>1.0</td><td>2.0</td></tr><tr><th>19</th><td>1.0</td><td>1.0</td><td>2.0</td></tr><tr><th>20</th><td>1.0</td><td>1.0</td><td>2.0</td></tr><tr><th>21</th><td>1.0</td><td>1.0</td><td>2.0</td></tr><tr><th>22</th><td>1.0</td><td>1.0</td><td>2.0</td></tr><tr><th>23</th><td>1.0</td><td>1.0</td><td>2.0</td></tr><tr><th>24</th><td>1.0</td><td>1.0</td><td>2.0</td></tr><tr><th>25</th><td>1.0</td><td>1.0</td><td>2.0</td></tr><tr><th>26</th><td>1.0</td><td>1.0</td><td>2.0</td></tr><tr><th>27</th><td>1.0</td><td>1.0</td><td>2.0</td></tr><tr><th>28</th><td>1.0</td><td>1.0</td><td>2.0</td></tr><tr><th>29</th><td>1.0</td><td>1.0</td><td>2.0</td></tr><tr><th>30</th><td>1.0</td><td>1.0</td><td>2.0</td></tr><tr><th>&vellip;</th><td>&vellip;</td><td>&vellip;</td><td>&vellip;</td></tr></tbody></table>"
      ],
      "text/latex": [
       "\\begin{tabular}{r|ccc}\n",
       "\t& intercept & sex & locus\\\\\n",
       "\t\\hline\n",
       "\t& Float64 & Float64 & Float64\\\\\n",
       "\t\\hline\n",
       "\t1 & 1.0 & 1.0 & 2.0 \\\\\n",
       "\t2 & 1.0 & 1.0 & 1.0 \\\\\n",
       "\t3 & 1.0 & 1.0 & 2.0 \\\\\n",
       "\t4 & 1.0 & 1.0 & 2.0 \\\\\n",
       "\t5 & 1.0 & 1.0 & 2.0 \\\\\n",
       "\t6 & 1.0 & 1.0 & 2.0 \\\\\n",
       "\t7 & 1.0 & 1.0 & 2.0 \\\\\n",
       "\t8 & 1.0 & 1.0 & 2.0 \\\\\n",
       "\t9 & 1.0 & 1.0 & 2.0 \\\\\n",
       "\t10 & 1.0 & 1.0 & 2.0 \\\\\n",
       "\t11 & 1.0 & 1.0 & 2.0 \\\\\n",
       "\t12 & 1.0 & 1.0 & 2.0 \\\\\n",
       "\t13 & 1.0 & 1.0 & 2.0 \\\\\n",
       "\t14 & 1.0 & 1.0 & 2.0 \\\\\n",
       "\t15 & 1.0 & 1.0 & 2.0 \\\\\n",
       "\t16 & 1.0 & 1.0 & 2.0 \\\\\n",
       "\t17 & 1.0 & 1.0 & 2.0 \\\\\n",
       "\t18 & 1.0 & 1.0 & 2.0 \\\\\n",
       "\t19 & 1.0 & 1.0 & 2.0 \\\\\n",
       "\t20 & 1.0 & 1.0 & 2.0 \\\\\n",
       "\t21 & 1.0 & 1.0 & 2.0 \\\\\n",
       "\t22 & 1.0 & 1.0 & 2.0 \\\\\n",
       "\t23 & 1.0 & 1.0 & 2.0 \\\\\n",
       "\t24 & 1.0 & 1.0 & 2.0 \\\\\n",
       "\t25 & 1.0 & 1.0 & 2.0 \\\\\n",
       "\t26 & 1.0 & 1.0 & 2.0 \\\\\n",
       "\t27 & 1.0 & 1.0 & 2.0 \\\\\n",
       "\t28 & 1.0 & 1.0 & 2.0 \\\\\n",
       "\t29 & 1.0 & 1.0 & 2.0 \\\\\n",
       "\t30 & 1.0 & 1.0 & 2.0 \\\\\n",
       "\t$\\dots$ & $\\dots$ & $\\dots$ & $\\dots$ \\\\\n",
       "\\end{tabular}\n"
      ],
      "text/plain": [
       "379×3 DataFrame\n",
       "│ Row │ intercept │ sex     │ locus   │\n",
       "│     │ \u001b[90mFloat64\u001b[39m   │ \u001b[90mFloat64\u001b[39m │ \u001b[90mFloat64\u001b[39m │\n",
       "├─────┼───────────┼─────────┼─────────┤\n",
       "│ 1   │ 1.0       │ 1.0     │ 2.0     │\n",
       "│ 2   │ 1.0       │ 1.0     │ 1.0     │\n",
       "│ 3   │ 1.0       │ 1.0     │ 2.0     │\n",
       "│ 4   │ 1.0       │ 1.0     │ 2.0     │\n",
       "│ 5   │ 1.0       │ 1.0     │ 2.0     │\n",
       "│ 6   │ 1.0       │ 1.0     │ 2.0     │\n",
       "│ 7   │ 1.0       │ 1.0     │ 2.0     │\n",
       "│ 8   │ 1.0       │ 1.0     │ 2.0     │\n",
       "│ 9   │ 1.0       │ 1.0     │ 2.0     │\n",
       "│ 10  │ 1.0       │ 1.0     │ 2.0     │\n",
       "⋮\n",
       "│ 369 │ 1.0       │ 1.0     │ 2.0     │\n",
       "│ 370 │ 1.0       │ 1.0     │ 1.0     │\n",
       "│ 371 │ 1.0       │ 1.0     │ 2.0     │\n",
       "│ 372 │ 1.0       │ 1.0     │ 2.0     │\n",
       "│ 373 │ 1.0       │ 1.0     │ 2.0     │\n",
       "│ 374 │ 1.0       │ 1.0     │ 2.0     │\n",
       "│ 375 │ 1.0       │ 1.0     │ 2.0     │\n",
       "│ 376 │ 1.0       │ 1.0     │ 2.0     │\n",
       "│ 377 │ 1.0       │ 1.0     │ 2.0     │\n",
       "│ 378 │ 1.0       │ 1.0     │ 2.0     │\n",
       "│ 379 │ 1.0       │ 1.0     │ 2.0     │"
      ]
     },
     "execution_count": 6,
     "metadata": {},
     "output_type": "execute_result"
    }
   ],
   "source": [
    "bimfile = EUR_data.snp_info\n",
    "causal_snp_index = findmin(minor_allele_frequency)[2]\n",
    "locus = convert(Vector{Float64}, @view(EUR[:, causal_snp_index]))\n",
    "\n",
    "famfile = EUR_data.person_info\n",
    "sex = map(x -> strip(x) == \"F\" ? 0.0 : 1.0, famfile[!, :sex]) # note julia's ternary operator '?'\n",
    "X = DataFrame(intercept = ones(length(sex)), sex = sex, locus = locus)"
   ]
  },
  {
   "cell_type": "markdown",
   "metadata": {},
   "source": [
    "# Example 1: Standard Models\n",
    "\n",
    "In this example we first demonstrate how to use the GLM.jl package to simulate a trait from unrelated individuals. We then show how to use our TraitSimulation.jl package to simulate a trait from families.  \n",
    "\n",
    "The notebook is organized as follows:\n",
    "    \n",
    "$\\textbf{Example 1: Standard Models}$\n",
    "\n",
    "For the first example, we show how to simulate traits from standard models users in the genetics community will recognize. \n",
    "\n",
    "Users can specify to simulate phenotypes from unrelateds or families with user-specified Generalized Linear Models (GLMs) or Linear Mixed Models (LMMs), respectively. Researchers who feel more comfortable viewing the latter as a Variance Component Model(VCM) an additive genetic variance component and environmental variance component, we welcome you to do so. \n",
    "\n",
    "$$ 1 . \\text{GLM}: Y_{n \\times 1} \\sim \\text{Poisson}(\\mathbf{\\mu}_{n \\times 1} = g^{-1}{(XB)}, \\Sigma_{n \\times n} = \\sigma_A \\times \\Phi + \\sigma_E \\times I_n) $$\n",
    "\n",
    "$$ 2 . \\text{LMM/VCM}: Y_{n \\times p} \\sim \\text{MatrixNormal}(\\mathbf{M}_{n \\times p} = XB, \\Omega_{np \\times np} = \\Sigma_A \\otimes \\Phi + \\Sigma_E \\otimes I_n)$$\n",
    "\n",
    "We show in the next example, models with additional variance components can also be specified, as long as they are sensible (positive semi definite).\n",
    "\n",
    "## GLM Traits from Unrelated Individuals\n",
    "$$\n",
    "    Y ∼ Poisson(μ = X\\beta)\n",
    "$$ \n",
    "\n",
    "Here we specify the fixed effects and the phenotype distribution, and output for ten simulations per person. "
   ]
  },
  {
   "cell_type": "code",
   "execution_count": 7,
   "metadata": {},
   "outputs": [
    {
     "data": {
      "text/html": [
       "<table class=\"data-frame\"><thead><tr><th></th><th>PoissonTrait</th></tr><tr><th></th><th>Int64</th></tr></thead><tbody><p>379 rows × 1 columns</p><tr><th>1</th><td>10</td></tr><tr><th>2</th><td>7</td></tr><tr><th>3</th><td>9</td></tr><tr><th>4</th><td>9</td></tr><tr><th>5</th><td>11</td></tr><tr><th>6</th><td>12</td></tr><tr><th>7</th><td>6</td></tr><tr><th>8</th><td>7</td></tr><tr><th>9</th><td>7</td></tr><tr><th>10</th><td>9</td></tr><tr><th>11</th><td>10</td></tr><tr><th>12</th><td>3</td></tr><tr><th>13</th><td>5</td></tr><tr><th>14</th><td>14</td></tr><tr><th>15</th><td>10</td></tr><tr><th>16</th><td>5</td></tr><tr><th>17</th><td>7</td></tr><tr><th>18</th><td>10</td></tr><tr><th>19</th><td>5</td></tr><tr><th>20</th><td>12</td></tr><tr><th>21</th><td>14</td></tr><tr><th>22</th><td>15</td></tr><tr><th>23</th><td>14</td></tr><tr><th>24</th><td>11</td></tr><tr><th>25</th><td>12</td></tr><tr><th>26</th><td>4</td></tr><tr><th>27</th><td>5</td></tr><tr><th>28</th><td>7</td></tr><tr><th>29</th><td>6</td></tr><tr><th>30</th><td>8</td></tr><tr><th>&vellip;</th><td>&vellip;</td></tr></tbody></table>"
      ],
      "text/latex": [
       "\\begin{tabular}{r|c}\n",
       "\t& PoissonTrait\\\\\n",
       "\t\\hline\n",
       "\t& Int64\\\\\n",
       "\t\\hline\n",
       "\t1 & 10 \\\\\n",
       "\t2 & 7 \\\\\n",
       "\t3 & 9 \\\\\n",
       "\t4 & 9 \\\\\n",
       "\t5 & 11 \\\\\n",
       "\t6 & 12 \\\\\n",
       "\t7 & 6 \\\\\n",
       "\t8 & 7 \\\\\n",
       "\t9 & 7 \\\\\n",
       "\t10 & 9 \\\\\n",
       "\t11 & 10 \\\\\n",
       "\t12 & 3 \\\\\n",
       "\t13 & 5 \\\\\n",
       "\t14 & 14 \\\\\n",
       "\t15 & 10 \\\\\n",
       "\t16 & 5 \\\\\n",
       "\t17 & 7 \\\\\n",
       "\t18 & 10 \\\\\n",
       "\t19 & 5 \\\\\n",
       "\t20 & 12 \\\\\n",
       "\t21 & 14 \\\\\n",
       "\t22 & 15 \\\\\n",
       "\t23 & 14 \\\\\n",
       "\t24 & 11 \\\\\n",
       "\t25 & 12 \\\\\n",
       "\t26 & 4 \\\\\n",
       "\t27 & 5 \\\\\n",
       "\t28 & 7 \\\\\n",
       "\t29 & 6 \\\\\n",
       "\t30 & 8 \\\\\n",
       "\t$\\dots$ & $\\dots$ \\\\\n",
       "\\end{tabular}\n"
      ],
      "text/plain": [
       "379×1 DataFrame\n",
       "│ Row │ PoissonTrait │\n",
       "│     │ \u001b[90mInt64\u001b[39m        │\n",
       "├─────┼──────────────┤\n",
       "│ 1   │ 10           │\n",
       "│ 2   │ 7            │\n",
       "│ 3   │ 9            │\n",
       "│ 4   │ 9            │\n",
       "│ 5   │ 11           │\n",
       "│ 6   │ 12           │\n",
       "│ 7   │ 6            │\n",
       "│ 8   │ 7            │\n",
       "│ 9   │ 7            │\n",
       "│ 10  │ 9            │\n",
       "⋮\n",
       "│ 369 │ 11           │\n",
       "│ 370 │ 3            │\n",
       "│ 371 │ 9            │\n",
       "│ 372 │ 4            │\n",
       "│ 373 │ 11           │\n",
       "│ 374 │ 12           │\n",
       "│ 375 │ 8            │\n",
       "│ 376 │ 9            │\n",
       "│ 377 │ 10           │\n",
       "│ 378 │ 7            │\n",
       "│ 379 │ 3            │"
      ]
     },
     "execution_count": 7,
     "metadata": {},
     "output_type": "execute_result"
    }
   ],
   "source": [
    "β = [1; 0.2; 0.5]\n",
    "mu = Matrix(X) * β\n",
    "dist = Poisson\n",
    "GLMmodel = GLMTrait(mu, dist);\n",
    "Simulated_GLM_Traits = DataFrame(PoissonTrait = simulate(GLMmodel))"
   ]
  },
  {
   "cell_type": "markdown",
   "metadata": {},
   "source": [
    "## Rare Variant LMM Related Individuals\n",
    "\n",
    "In this example we show how to generate data so that the related individuals have correlated trait values even after we account for the effect of a snp, a combination of snps or other fixed effects. We simulate data under a linear mixed model so that we can model residual dependency among individuals. \n",
    "\n",
    "$$\n",
    "Y ∼ N(\\mu, 4* 2GRM + 2I)\n",
    "$$\n",
    "\n",
    "This example is meant to simulate data in a scenario in which a number of rare mutations in a single gene can change a trait value. We model the residual variation among relatives with the additive genetic variance component and we include 20 rare variants in the mean portion of the model, defined as loci with minor allele frequencies greater than 0.002 but less than 0.02.\n",
    "\n",
    "Specifically we are generating a single normal trait controlling for family structure with residual heritabiity of 67%, and effect sizes for the variants generated as a function of the minor allele frequencies. The rarer the variant the greater its effect size.\n",
    "\n",
    "In practice rare variants have smaller minor allele frequencies, but we are limited in this tutorial by the relatively small size of the data set. Note also that our modeling these effects as part of the mean is not meant to imply that the best way to detect them would be a standard association analysis. Instead we recommend a burden or SKAT test."
   ]
  },
  {
   "cell_type": "code",
   "execution_count": 8,
   "metadata": {},
   "outputs": [],
   "source": [
    "GRM = grm(EUR, minmaf = 0.05);"
   ]
  },
  {
   "cell_type": "markdown",
   "metadata": {},
   "source": [
    "## Filtering\n",
    "\n",
    "We first subset only the rare SNP's, then we simulate traits on the 20 of the rare SNP's. For this demo, we subset the fist k = 20 rare snps. Change the parameters and the number of SNPs for simulation to model different regions of the genome. The number 20 is arbitrary and you can use more or less than 20 if you desire by changing the final number."
   ]
  },
  {
   "cell_type": "code",
   "execution_count": 9,
   "metadata": {},
   "outputs": [],
   "source": [
    "# filter out rare SNPS, get a subset of uncommon SNPs with 0.002 < MAF ≤ 0.02\n",
    "minor_allele_frequency = maf(EUR)\n",
    "rare_index = (0.002 .< minor_allele_frequency .≤ 0.02)\n",
    "filtsnpdata = SnpArrays.filter(EUR_data, rowmask, rare_index, des = \"rare_filtered_28data\");"
   ]
  },
  {
   "cell_type": "code",
   "execution_count": 10,
   "metadata": {},
   "outputs": [],
   "source": [
    "rare_snps = SnpArray(\"rare_filtered_28data.bed\");"
   ]
  },
  {
   "cell_type": "markdown",
   "metadata": {},
   "source": [
    "### Simulation\n",
    "\n",
    "For demonstration purposes, we simulate effect sizes from the Chi-squared(df = 1) distribution, where we use the minor allele frequency (maf) as x and find f(x) where f is the pdf for the Chi-squared (df = 1) density, so that the rarest SNP's have the biggest effect sizes. The effect sizes are rounded to the second digit, throughout this example. Notice there is a random +1 or -1, so that there are effects that both increase and decrease the simulated trait value.\n",
    "\n",
    "```julia\n",
    "\n",
    "# Generating Effect Sizes from Chisquared(df = 1) density\n",
    "\n",
    "n = length(rare_snps)\n",
    "chisq_coeff = zeros(n)\n",
    "\n",
    "for i in 1:n\n",
    "    chisq_coeff[i] = rand([-1, 1]) .* (0.1 / sqrt.(maf_rare_snps[i] .* (1 - maf_rare_snps[i])))\n",
    "end\n",
    "```"
   ]
  },
  {
   "cell_type": "code",
   "execution_count": 11,
   "metadata": {},
   "outputs": [
    {
     "data": {
      "text/html": [
       "<table class=\"data-frame\"><thead><tr><th></th><th>SimTrait</th></tr><tr><th></th><th>Float64</th></tr></thead><tbody><p>379 rows × 1 columns</p><tr><th>1</th><td>3.49578</td></tr><tr><th>2</th><td>3.07411</td></tr><tr><th>3</th><td>6.29971</td></tr><tr><th>4</th><td>12.0832</td></tr><tr><th>5</th><td>6.64243</td></tr><tr><th>6</th><td>7.04278</td></tr><tr><th>7</th><td>7.12708</td></tr><tr><th>8</th><td>5.55116</td></tr><tr><th>9</th><td>3.29359</td></tr><tr><th>10</th><td>6.13644</td></tr><tr><th>11</th><td>7.49382</td></tr><tr><th>12</th><td>8.55391</td></tr><tr><th>13</th><td>6.64012</td></tr><tr><th>14</th><td>4.23567</td></tr><tr><th>15</th><td>8.88951</td></tr><tr><th>16</th><td>6.53257</td></tr><tr><th>17</th><td>5.86064</td></tr><tr><th>18</th><td>6.26042</td></tr><tr><th>19</th><td>4.0243</td></tr><tr><th>20</th><td>9.29361</td></tr><tr><th>21</th><td>9.28487</td></tr><tr><th>22</th><td>3.75165</td></tr><tr><th>23</th><td>5.01278</td></tr><tr><th>24</th><td>4.74125</td></tr><tr><th>25</th><td>6.62367</td></tr><tr><th>26</th><td>5.99842</td></tr><tr><th>27</th><td>12.5812</td></tr><tr><th>28</th><td>9.83801</td></tr><tr><th>29</th><td>7.10542</td></tr><tr><th>30</th><td>6.47704</td></tr><tr><th>&vellip;</th><td>&vellip;</td></tr></tbody></table>"
      ],
      "text/latex": [
       "\\begin{tabular}{r|c}\n",
       "\t& SimTrait\\\\\n",
       "\t\\hline\n",
       "\t& Float64\\\\\n",
       "\t\\hline\n",
       "\t1 & 3.49578 \\\\\n",
       "\t2 & 3.07411 \\\\\n",
       "\t3 & 6.29971 \\\\\n",
       "\t4 & 12.0832 \\\\\n",
       "\t5 & 6.64243 \\\\\n",
       "\t6 & 7.04278 \\\\\n",
       "\t7 & 7.12708 \\\\\n",
       "\t8 & 5.55116 \\\\\n",
       "\t9 & 3.29359 \\\\\n",
       "\t10 & 6.13644 \\\\\n",
       "\t11 & 7.49382 \\\\\n",
       "\t12 & 8.55391 \\\\\n",
       "\t13 & 6.64012 \\\\\n",
       "\t14 & 4.23567 \\\\\n",
       "\t15 & 8.88951 \\\\\n",
       "\t16 & 6.53257 \\\\\n",
       "\t17 & 5.86064 \\\\\n",
       "\t18 & 6.26042 \\\\\n",
       "\t19 & 4.0243 \\\\\n",
       "\t20 & 9.29361 \\\\\n",
       "\t21 & 9.28487 \\\\\n",
       "\t22 & 3.75165 \\\\\n",
       "\t23 & 5.01278 \\\\\n",
       "\t24 & 4.74125 \\\\\n",
       "\t25 & 6.62367 \\\\\n",
       "\t26 & 5.99842 \\\\\n",
       "\t27 & 12.5812 \\\\\n",
       "\t28 & 9.83801 \\\\\n",
       "\t29 & 7.10542 \\\\\n",
       "\t30 & 6.47704 \\\\\n",
       "\t$\\dots$ & $\\dots$ \\\\\n",
       "\\end{tabular}\n"
      ],
      "text/plain": [
       "379×1 DataFrame\n",
       "│ Row │ SimTrait │\n",
       "│     │ \u001b[90mFloat64\u001b[39m  │\n",
       "├─────┼──────────┤\n",
       "│ 1   │ 3.49578  │\n",
       "│ 2   │ 3.07411  │\n",
       "│ 3   │ 6.29971  │\n",
       "│ 4   │ 12.0832  │\n",
       "│ 5   │ 6.64243  │\n",
       "│ 6   │ 7.04278  │\n",
       "│ 7   │ 7.12708  │\n",
       "│ 8   │ 5.55116  │\n",
       "│ 9   │ 3.29359  │\n",
       "│ 10  │ 6.13644  │\n",
       "⋮\n",
       "│ 369 │ 7.59635  │\n",
       "│ 370 │ 4.37231  │\n",
       "│ 371 │ 4.67609  │\n",
       "│ 372 │ 3.65632  │\n",
       "│ 373 │ 9.60724  │\n",
       "│ 374 │ 10.2547  │\n",
       "│ 375 │ 3.36246  │\n",
       "│ 376 │ 6.63287  │\n",
       "│ 377 │ 7.63425  │\n",
       "│ 378 │ 5.62782  │\n",
       "│ 379 │ 6.47881  │"
      ]
     },
     "execution_count": 11,
     "metadata": {},
     "output_type": "execute_result"
    }
   ],
   "source": [
    "effsizes = simulate_effect_size(minor_allele_frequency[rare_index][1:20])\n",
    "X_rare = rare_snps[:, 1:20]\n",
    "mu = Matrix(X_rare) * effsizes\n",
    "rare_20_snp_model = LMMTrait(mu[:, :], 4*(2*GRM) + 2*(I))\n",
    "trait_rare_20_snps = DataFrame(SimTrait = simulate(rare_20_snp_model)[:])"
   ]
  },
  {
   "cell_type": "code",
   "execution_count": 12,
   "metadata": {},
   "outputs": [],
   "source": [
    "rm(\"rare_filtered_28data.bed\")\n",
    "rm(\"rare_filtered_28data.bim\")\n",
    "rm(\"rare_filtered_28data.fam\")"
   ]
  },
  {
   "cell_type": "markdown",
   "metadata": {},
   "source": [
    "# Example 2: Multiple Traits, Multiple Variance Components? Easy.\n",
    "\n",
    "\n",
    "$\\textbf{Example 2: M > 2 Variance Components? Easy.}$\n",
    "\n",
    "This example extends the linear mixed model in the previous example to demo how to efficiently account for any number of other random effects, in addition to the additive genetic and environmental variance components. In this example we show alternative ways to specify the simulation parameters for the LMM/VCM and benchmark it against the available MatrixNormal distribution in Julia package, Distributions.jl.\n",
    "\n",
    "$$Y_{n \\times p} \\sim \\text{MatrixNormal}(\\mathbf{M}_{n \\times p} = XB, \\Omega_{np \\times np} = \\sum_{k=1}^m \\Sigma_k \\otimes V_k)$$\n",
    "\n",
    "Say that you have the the classical setting in genetics, two variance components, one for the additive genetic variance and one for the environmental variance. \n",
    "\n",
    "Users can specify their covariance structures as follows. We note that this form can also accompany more than 2 variance components. "
   ]
  },
  {
   "cell_type": "code",
   "execution_count": 13,
   "metadata": {},
   "outputs": [],
   "source": [
    "formulas = [\"1 + 2.0*sex + 0.5*locus\", \"20 + 2.0*sex + 1.0*locus\"]\n",
    "I_n = Matrix{Float64}(I, size(GRM))\n",
    "V_A = [4 1; 1 4]\n",
    "V_E = [2.0 0.0; 0.0 2.0];\n",
    "\n",
    "# @vc is a macro that creates a 'VarianceComponent' Type for simulation\n",
    "variance_formula = @vc V_A ⊗ 2GRM + V_E ⊗ I_n;"
   ]
  },
  {
   "cell_type": "code",
   "execution_count": 14,
   "metadata": {},
   "outputs": [
    {
     "data": {
      "text/html": [
       "<table class=\"data-frame\"><thead><tr><th></th><th>intercept</th><th>sex</th><th>locus</th></tr><tr><th></th><th>Float64</th><th>Float64</th><th>Float64</th></tr></thead><tbody><p>379 rows × 3 columns</p><tr><th>1</th><td>1.0</td><td>1.0</td><td>2.0</td></tr><tr><th>2</th><td>1.0</td><td>1.0</td><td>1.0</td></tr><tr><th>3</th><td>1.0</td><td>1.0</td><td>2.0</td></tr><tr><th>4</th><td>1.0</td><td>1.0</td><td>2.0</td></tr><tr><th>5</th><td>1.0</td><td>1.0</td><td>2.0</td></tr><tr><th>6</th><td>1.0</td><td>1.0</td><td>2.0</td></tr><tr><th>7</th><td>1.0</td><td>1.0</td><td>2.0</td></tr><tr><th>8</th><td>1.0</td><td>1.0</td><td>2.0</td></tr><tr><th>9</th><td>1.0</td><td>1.0</td><td>2.0</td></tr><tr><th>10</th><td>1.0</td><td>1.0</td><td>2.0</td></tr><tr><th>11</th><td>1.0</td><td>1.0</td><td>2.0</td></tr><tr><th>12</th><td>1.0</td><td>1.0</td><td>2.0</td></tr><tr><th>13</th><td>1.0</td><td>1.0</td><td>2.0</td></tr><tr><th>14</th><td>1.0</td><td>1.0</td><td>2.0</td></tr><tr><th>15</th><td>1.0</td><td>1.0</td><td>2.0</td></tr><tr><th>16</th><td>1.0</td><td>1.0</td><td>2.0</td></tr><tr><th>17</th><td>1.0</td><td>1.0</td><td>2.0</td></tr><tr><th>18</th><td>1.0</td><td>1.0</td><td>2.0</td></tr><tr><th>19</th><td>1.0</td><td>1.0</td><td>2.0</td></tr><tr><th>20</th><td>1.0</td><td>1.0</td><td>2.0</td></tr><tr><th>21</th><td>1.0</td><td>1.0</td><td>2.0</td></tr><tr><th>22</th><td>1.0</td><td>1.0</td><td>2.0</td></tr><tr><th>23</th><td>1.0</td><td>1.0</td><td>2.0</td></tr><tr><th>24</th><td>1.0</td><td>1.0</td><td>2.0</td></tr><tr><th>25</th><td>1.0</td><td>1.0</td><td>2.0</td></tr><tr><th>26</th><td>1.0</td><td>1.0</td><td>2.0</td></tr><tr><th>27</th><td>1.0</td><td>1.0</td><td>2.0</td></tr><tr><th>28</th><td>1.0</td><td>1.0</td><td>2.0</td></tr><tr><th>29</th><td>1.0</td><td>1.0</td><td>2.0</td></tr><tr><th>30</th><td>1.0</td><td>1.0</td><td>2.0</td></tr><tr><th>&vellip;</th><td>&vellip;</td><td>&vellip;</td><td>&vellip;</td></tr></tbody></table>"
      ],
      "text/latex": [
       "\\begin{tabular}{r|ccc}\n",
       "\t& intercept & sex & locus\\\\\n",
       "\t\\hline\n",
       "\t& Float64 & Float64 & Float64\\\\\n",
       "\t\\hline\n",
       "\t1 & 1.0 & 1.0 & 2.0 \\\\\n",
       "\t2 & 1.0 & 1.0 & 1.0 \\\\\n",
       "\t3 & 1.0 & 1.0 & 2.0 \\\\\n",
       "\t4 & 1.0 & 1.0 & 2.0 \\\\\n",
       "\t5 & 1.0 & 1.0 & 2.0 \\\\\n",
       "\t6 & 1.0 & 1.0 & 2.0 \\\\\n",
       "\t7 & 1.0 & 1.0 & 2.0 \\\\\n",
       "\t8 & 1.0 & 1.0 & 2.0 \\\\\n",
       "\t9 & 1.0 & 1.0 & 2.0 \\\\\n",
       "\t10 & 1.0 & 1.0 & 2.0 \\\\\n",
       "\t11 & 1.0 & 1.0 & 2.0 \\\\\n",
       "\t12 & 1.0 & 1.0 & 2.0 \\\\\n",
       "\t13 & 1.0 & 1.0 & 2.0 \\\\\n",
       "\t14 & 1.0 & 1.0 & 2.0 \\\\\n",
       "\t15 & 1.0 & 1.0 & 2.0 \\\\\n",
       "\t16 & 1.0 & 1.0 & 2.0 \\\\\n",
       "\t17 & 1.0 & 1.0 & 2.0 \\\\\n",
       "\t18 & 1.0 & 1.0 & 2.0 \\\\\n",
       "\t19 & 1.0 & 1.0 & 2.0 \\\\\n",
       "\t20 & 1.0 & 1.0 & 2.0 \\\\\n",
       "\t21 & 1.0 & 1.0 & 2.0 \\\\\n",
       "\t22 & 1.0 & 1.0 & 2.0 \\\\\n",
       "\t23 & 1.0 & 1.0 & 2.0 \\\\\n",
       "\t24 & 1.0 & 1.0 & 2.0 \\\\\n",
       "\t25 & 1.0 & 1.0 & 2.0 \\\\\n",
       "\t26 & 1.0 & 1.0 & 2.0 \\\\\n",
       "\t27 & 1.0 & 1.0 & 2.0 \\\\\n",
       "\t28 & 1.0 & 1.0 & 2.0 \\\\\n",
       "\t29 & 1.0 & 1.0 & 2.0 \\\\\n",
       "\t30 & 1.0 & 1.0 & 2.0 \\\\\n",
       "\t$\\dots$ & $\\dots$ & $\\dots$ & $\\dots$ \\\\\n",
       "\\end{tabular}\n"
      ],
      "text/plain": [
       "379×3 DataFrame\n",
       "│ Row │ intercept │ sex     │ locus   │\n",
       "│     │ \u001b[90mFloat64\u001b[39m   │ \u001b[90mFloat64\u001b[39m │ \u001b[90mFloat64\u001b[39m │\n",
       "├─────┼───────────┼─────────┼─────────┤\n",
       "│ 1   │ 1.0       │ 1.0     │ 2.0     │\n",
       "│ 2   │ 1.0       │ 1.0     │ 1.0     │\n",
       "│ 3   │ 1.0       │ 1.0     │ 2.0     │\n",
       "│ 4   │ 1.0       │ 1.0     │ 2.0     │\n",
       "│ 5   │ 1.0       │ 1.0     │ 2.0     │\n",
       "│ 6   │ 1.0       │ 1.0     │ 2.0     │\n",
       "│ 7   │ 1.0       │ 1.0     │ 2.0     │\n",
       "│ 8   │ 1.0       │ 1.0     │ 2.0     │\n",
       "│ 9   │ 1.0       │ 1.0     │ 2.0     │\n",
       "│ 10  │ 1.0       │ 1.0     │ 2.0     │\n",
       "⋮\n",
       "│ 369 │ 1.0       │ 1.0     │ 2.0     │\n",
       "│ 370 │ 1.0       │ 1.0     │ 1.0     │\n",
       "│ 371 │ 1.0       │ 1.0     │ 2.0     │\n",
       "│ 372 │ 1.0       │ 1.0     │ 2.0     │\n",
       "│ 373 │ 1.0       │ 1.0     │ 2.0     │\n",
       "│ 374 │ 1.0       │ 1.0     │ 2.0     │\n",
       "│ 375 │ 1.0       │ 1.0     │ 2.0     │\n",
       "│ 376 │ 1.0       │ 1.0     │ 2.0     │\n",
       "│ 377 │ 1.0       │ 1.0     │ 2.0     │\n",
       "│ 378 │ 1.0       │ 1.0     │ 2.0     │\n",
       "│ 379 │ 1.0       │ 1.0     │ 2.0     │"
      ]
     },
     "execution_count": 14,
     "metadata": {},
     "output_type": "execute_result"
    }
   ],
   "source": [
    "X"
   ]
  },
  {
   "cell_type": "code",
   "execution_count": 15,
   "metadata": {},
   "outputs": [
    {
     "data": {
      "text/plain": [
       "379×2 Array{Float64,2}:\n",
       "  2.91272   16.855 \n",
       "  6.47788   22.6709\n",
       "  6.28548   22.1494\n",
       "  1.68611   23.9102\n",
       "  6.21815   21.9615\n",
       "  0.775005  22.8052\n",
       "  6.92803   25.2613\n",
       "  4.65273   22.0473\n",
       "  5.70771   26.3672\n",
       "  5.36878   24.0772\n",
       "  5.28921   27.3522\n",
       "  6.83123   27.4631\n",
       "  1.37503   25.5119\n",
       "  ⋮                \n",
       "  2.83931   26.3809\n",
       "  6.16545   25.392 \n",
       "  3.61415   19.5572\n",
       "  5.51532   30.2318\n",
       " -0.712072  22.7384\n",
       "  4.3396    24.9106\n",
       "  0.721891  24.7025\n",
       "  5.27661   22.5513\n",
       "  9.57922   24.9344\n",
       "  5.10513   22.517 \n",
       "  7.3557    26.0108\n",
       "  3.7574    23.7958"
      ]
     },
     "execution_count": 15,
     "metadata": {},
     "output_type": "execute_result"
    }
   ],
   "source": [
    "genetic_model = LMMTrait(formulas, X, variance_formula)\n",
    "simulate(genetic_model)"
   ]
  },
  {
   "cell_type": "markdown",
   "metadata": {},
   "source": [
    "## Benchmarking against Julia\n",
    "\n",
    "Here for m = 10 random Variance Components, we generate m random covariance matrices, a random design matrix and p regression coefficients to illustrate the simulation of a d = 2 dimensional response matrix of traits for a sample of n = 1000 people. \n",
    "\n",
    "We then benchmark against the same simulation process using the MatrixNormal() function in the Distributions.jl package. \n",
    "\n",
    "    function generateSPDmatrix(n)\n",
    "        A = rand(n)\n",
    "        m = 0.5 * (A * A')\n",
    "        PDmat = m + (n * Diagonal(ones(n)))\n",
    "    end\n",
    "\n",
    "\n",
    "    function generateRandomVCM(n::Int64, p::Int64, d::Int64, m::Int64)\n",
    "        # n-by-p design matrix\n",
    "        X = randn(n, p)\n",
    "\n",
    "        # p-by-d mean component regression coefficient for each trait\n",
    "        B = hcat(ones(p, 1), rand(p))  \n",
    "\n",
    "        V = ntuple(x -> zeros(n, n), m) \n",
    "        for i = 1:m-1\n",
    "          copy!(V[i], generateSPDmatrix(n))\n",
    "        end\n",
    "        copy!(V[end], Diagonal(ones(n))) # last covarianec matrix is identity\n",
    "\n",
    "        # a tuple of m d-by-d variance component parameters\n",
    "        Σ = ntuple(x -> zeros(d, d), m) \n",
    "        for i in 1:m\n",
    "          copy!(Σ[i], generateSPDmatrix(d))\n",
    "        end\n",
    "\n",
    "        return(X, B, Σ, V)\n",
    "    end\n"
   ]
  },
  {
   "cell_type": "code",
   "execution_count": 16,
   "metadata": {},
   "outputs": [],
   "source": [
    "n = 379   # no. observations\n",
    "d = 2      # dimension of responses\n",
    "m = 10      # no. variance components\n",
    "p = 2;      # no. covariates"
   ]
  },
  {
   "cell_type": "code",
   "execution_count": 17,
   "metadata": {},
   "outputs": [
    {
     "data": {
      "text/html": [
       "<table class=\"data-frame\"><thead><tr><th></th><th>SimTrait1</th><th>SimTrait2</th></tr><tr><th></th><th>Float64</th><th>Float64</th></tr></thead><tbody><p>379 rows × 2 columns</p><tr><th>1</th><td>201.289</td><td>-57.8455</td></tr><tr><th>2</th><td>-30.4242</td><td>-15.2018</td></tr><tr><th>3</th><td>200.725</td><td>154.022</td></tr><tr><th>4</th><td>94.3728</td><td>-54.2853</td></tr><tr><th>5</th><td>-48.6075</td><td>17.684</td></tr><tr><th>6</th><td>38.2245</td><td>167.131</td></tr><tr><th>7</th><td>88.3336</td><td>-97.9209</td></tr><tr><th>8</th><td>-38.276</td><td>-1.67935</td></tr><tr><th>9</th><td>-9.06548</td><td>6.77236</td></tr><tr><th>10</th><td>34.6549</td><td>29.3139</td></tr><tr><th>11</th><td>257.987</td><td>-102.325</td></tr><tr><th>12</th><td>23.0656</td><td>-13.6849</td></tr><tr><th>13</th><td>-206.31</td><td>125.205</td></tr><tr><th>14</th><td>77.5364</td><td>103.789</td></tr><tr><th>15</th><td>-180.089</td><td>-82.7748</td></tr><tr><th>16</th><td>-83.2242</td><td>-202.853</td></tr><tr><th>17</th><td>87.2162</td><td>-108.985</td></tr><tr><th>18</th><td>-9.86415</td><td>56.7066</td></tr><tr><th>19</th><td>-55.8184</td><td>-90.7994</td></tr><tr><th>20</th><td>-117.91</td><td>50.0351</td></tr><tr><th>21</th><td>67.9903</td><td>82.4465</td></tr><tr><th>22</th><td>-78.8647</td><td>72.9653</td></tr><tr><th>23</th><td>18.8426</td><td>-0.974685</td></tr><tr><th>24</th><td>117.452</td><td>-21.6553</td></tr><tr><th>25</th><td>85.2955</td><td>-22.3945</td></tr><tr><th>26</th><td>92.5618</td><td>-16.0868</td></tr><tr><th>27</th><td>-68.4256</td><td>-35.8797</td></tr><tr><th>28</th><td>-20.3321</td><td>-126.315</td></tr><tr><th>29</th><td>-83.6554</td><td>86.8669</td></tr><tr><th>30</th><td>-104.355</td><td>-127.282</td></tr><tr><th>&vellip;</th><td>&vellip;</td><td>&vellip;</td></tr></tbody></table>"
      ],
      "text/latex": [
       "\\begin{tabular}{r|cc}\n",
       "\t& SimTrait1 & SimTrait2\\\\\n",
       "\t\\hline\n",
       "\t& Float64 & Float64\\\\\n",
       "\t\\hline\n",
       "\t1 & 201.289 & -57.8455 \\\\\n",
       "\t2 & -30.4242 & -15.2018 \\\\\n",
       "\t3 & 200.725 & 154.022 \\\\\n",
       "\t4 & 94.3728 & -54.2853 \\\\\n",
       "\t5 & -48.6075 & 17.684 \\\\\n",
       "\t6 & 38.2245 & 167.131 \\\\\n",
       "\t7 & 88.3336 & -97.9209 \\\\\n",
       "\t8 & -38.276 & -1.67935 \\\\\n",
       "\t9 & -9.06548 & 6.77236 \\\\\n",
       "\t10 & 34.6549 & 29.3139 \\\\\n",
       "\t11 & 257.987 & -102.325 \\\\\n",
       "\t12 & 23.0656 & -13.6849 \\\\\n",
       "\t13 & -206.31 & 125.205 \\\\\n",
       "\t14 & 77.5364 & 103.789 \\\\\n",
       "\t15 & -180.089 & -82.7748 \\\\\n",
       "\t16 & -83.2242 & -202.853 \\\\\n",
       "\t17 & 87.2162 & -108.985 \\\\\n",
       "\t18 & -9.86415 & 56.7066 \\\\\n",
       "\t19 & -55.8184 & -90.7994 \\\\\n",
       "\t20 & -117.91 & 50.0351 \\\\\n",
       "\t21 & 67.9903 & 82.4465 \\\\\n",
       "\t22 & -78.8647 & 72.9653 \\\\\n",
       "\t23 & 18.8426 & -0.974685 \\\\\n",
       "\t24 & 117.452 & -21.6553 \\\\\n",
       "\t25 & 85.2955 & -22.3945 \\\\\n",
       "\t26 & 92.5618 & -16.0868 \\\\\n",
       "\t27 & -68.4256 & -35.8797 \\\\\n",
       "\t28 & -20.3321 & -126.315 \\\\\n",
       "\t29 & -83.6554 & 86.8669 \\\\\n",
       "\t30 & -104.355 & -127.282 \\\\\n",
       "\t$\\dots$ & $\\dots$ & $\\dots$ \\\\\n",
       "\\end{tabular}\n"
      ],
      "text/plain": [
       "379×2 DataFrame\n",
       "│ Row │ SimTrait1 │ SimTrait2 │\n",
       "│     │ \u001b[90mFloat64\u001b[39m   │ \u001b[90mFloat64\u001b[39m   │\n",
       "├─────┼───────────┼───────────┤\n",
       "│ 1   │ 201.289   │ -57.8455  │\n",
       "│ 2   │ -30.4242  │ -15.2018  │\n",
       "│ 3   │ 200.725   │ 154.022   │\n",
       "│ 4   │ 94.3728   │ -54.2853  │\n",
       "│ 5   │ -48.6075  │ 17.684    │\n",
       "│ 6   │ 38.2245   │ 167.131   │\n",
       "│ 7   │ 88.3336   │ -97.9209  │\n",
       "│ 8   │ -38.276   │ -1.67935  │\n",
       "│ 9   │ -9.06548  │ 6.77236   │\n",
       "│ 10  │ 34.6549   │ 29.3139   │\n",
       "⋮\n",
       "│ 369 │ 89.5203   │ 6.27039   │\n",
       "│ 370 │ 51.0703   │ -12.2791  │\n",
       "│ 371 │ 8.06713   │ 13.1117   │\n",
       "│ 372 │ 36.8614   │ -20.4634  │\n",
       "│ 373 │ 38.2288   │ -93.6524  │\n",
       "│ 374 │ 30.3344   │ -7.23448  │\n",
       "│ 375 │ 70.815    │ 85.2317   │\n",
       "│ 376 │ -19.2308  │ 20.8385   │\n",
       "│ 377 │ 0.296626  │ -20.4286  │\n",
       "│ 378 │ -28.6744  │ -35.6179  │\n",
       "│ 379 │ 188.103   │ 14.2083   │"
      ]
     },
     "execution_count": 17,
     "metadata": {},
     "output_type": "execute_result"
    }
   ],
   "source": [
    "X_sim, B_sim, Σ_sim, V_sim = generateRandomVCM(n, p, d, m);\n",
    "Random_VCM_Trait = DataFrame(LMM_trait_simulation(X_sim, B_sim, Σ_sim, V_sim), [:SimTrait1, :SimTrait2])"
   ]
  },
  {
   "cell_type": "markdown",
   "metadata": {},
   "source": [
    "In our VarianceComponent type, we store the cholesky decomposition of each $\\Sigma_i$ and $V_i$, computed outside of simulation within the vc_vector of VarianceComponent types. This is important since the more often than not, users have to run the simulation many times for their desired goal. \n",
    "\n",
    "From our benchmarking below, we show that when we use the simulation package to simulate traits n_reps times, using the VariaceComponent type is much faster and memory efficient than calling the available julia MatrixNormal distribution m times. \n",
    "\n",
    "## Compare simulation for m = 1 variance component\n",
    "\n",
    "For only one variance component we are roughly four 2x more memory efficient and 3.7x faster at simulating this bivariate trait"
   ]
  },
  {
   "cell_type": "code",
   "execution_count": 18,
   "metadata": {},
   "outputs": [
    {
     "data": {
      "text/plain": [
       "BenchmarkTools.Trial: \n",
       "  memory estimate:  1.11 MiB\n",
       "  allocs estimate:  4\n",
       "  --------------\n",
       "  minimum time:     237.055 μs (0.00% GC)\n",
       "  median time:      297.830 μs (0.00% GC)\n",
       "  mean time:        512.769 μs (20.59% GC)\n",
       "  maximum time:     5.741 ms (77.12% GC)\n",
       "  --------------\n",
       "  samples:          9666\n",
       "  evals/sample:     1"
      ]
     },
     "execution_count": 18,
     "metadata": {},
     "output_type": "execute_result"
    }
   ],
   "source": [
    "LMMtraitobj = LMMTrait(X_sim*B_sim, VarianceComponent(Σ_sim[1], V_sim[1]))\n",
    "@benchmark simulate(LMMtraitobj)"
   ]
  },
  {
   "cell_type": "code",
   "execution_count": 19,
   "metadata": {},
   "outputs": [
    {
     "data": {
      "text/plain": [
       "BenchmarkTools.Trial: \n",
       "  memory estimate:  2.24 MiB\n",
       "  allocs estimate:  25\n",
       "  --------------\n",
       "  minimum time:     986.931 μs (0.00% GC)\n",
       "  median time:      1.121 ms (0.00% GC)\n",
       "  mean time:        1.523 ms (13.34% GC)\n",
       "  maximum time:     6.378 ms (38.78% GC)\n",
       "  --------------\n",
       "  samples:          3264\n",
       "  evals/sample:     1"
      ]
     },
     "execution_count": 19,
     "metadata": {},
     "output_type": "execute_result"
    }
   ],
   "source": [
    "function MN_J(X, B, Σ, V; n_reps = 1)\n",
    "    n, p = size(X*B)\n",
    "    sim = [zeros(n, p) for i in 1:n_reps]\n",
    "    for i in 1:n_reps\n",
    "        sim[i] = rand(MatrixNormal(X*B, V, Σ))\n",
    "    end\n",
    "    return(sim)\n",
    "end\n",
    "\n",
    "@benchmark MN_J($X_sim, $B_sim, $Σ_sim[1], $V_sim[1])"
   ]
  },
  {
   "cell_type": "markdown",
   "metadata": {},
   "source": [
    "## Compare simulation for m = 10 variance components\n",
    "\n",
    "still about 2x memory efficient but now 3.2x faster compared to the Distributions package"
   ]
  },
  {
   "cell_type": "code",
   "execution_count": 20,
   "metadata": {},
   "outputs": [
    {
     "data": {
      "text/plain": [
       "BenchmarkTools.Trial: \n",
       "  memory estimate:  10.98 MiB\n",
       "  allocs estimate:  23\n",
       "  --------------\n",
       "  minimum time:     3.021 ms (0.00% GC)\n",
       "  median time:      6.274 ms (14.95% GC)\n",
       "  mean time:        5.434 ms (19.08% GC)\n",
       "  maximum time:     9.107 ms (23.71% GC)\n",
       "  --------------\n",
       "  samples:          918\n",
       "  evals/sample:     1"
      ]
     },
     "execution_count": 20,
     "metadata": {},
     "output_type": "execute_result"
    }
   ],
   "source": [
    "vc_vector = [VarianceComponent(Σ_sim[i], V_sim[i]) for i in eachindex(V_sim)]\n",
    "LMMtraitobjm = LMMTrait(X_sim*B_sim, vc_vector);\n",
    "@benchmark simulate(LMMtraitobjm)"
   ]
  },
  {
   "cell_type": "code",
   "execution_count": 21,
   "metadata": {},
   "outputs": [
    {
     "data": {
      "text/plain": [
       "BenchmarkTools.Trial: \n",
       "  memory estimate:  22.35 MiB\n",
       "  allocs estimate:  233\n",
       "  --------------\n",
       "  minimum time:     14.524 ms (14.65% GC)\n",
       "  median time:      15.335 ms (14.09% GC)\n",
       "  mean time:        16.857 ms (13.55% GC)\n",
       "  maximum time:     30.225 ms (11.75% GC)\n",
       "  --------------\n",
       "  samples:          297\n",
       "  evals/sample:     1"
      ]
     },
     "execution_count": 21,
     "metadata": {},
     "output_type": "execute_result"
    }
   ],
   "source": [
    "function MN_Jm(X, B, Σ, V; n_reps = 1)\n",
    "    n, p = size(X*B)\n",
    "    m = length(V)\n",
    "    sim = [zeros(n, p) for i in 1:n_reps]\n",
    "    for i in 1:n_reps\n",
    "        for j in 1:m\n",
    "            dist = MatrixNormal(X*B, V[j], Σ[j])\n",
    "            sim[i] += rand(dist)\n",
    "        end\n",
    "    end\n",
    "    return(sim)\n",
    "end\n",
    "\n",
    "@benchmark vecs = MN_Jm($X_sim, $B_sim, $Σ_sim, $V_sim)"
   ]
  },
  {
   "cell_type": "markdown",
   "metadata": {},
   "source": [
    "# Example 3: Power Calculation\n",
    "\n",
    "$\\textbf{Example 3: Custom Models- Power Demonstration}$\n",
    "\n",
    "For the last example, we show how to simulate from customized simulation models that accompany specific genetic analysis options in Open-Mendel; for example, ordered, multinomial traits. This example illustrates the use of the simulations to generates data sets allowing researchers to accurately check the validity of programs and to calculate power for their proposed studies.\n",
    "\n",
    "\n",
    "## Genotype Simulation:\n",
    "\n",
    "a) genotype simulation utilities under HWE"
   ]
  },
  {
   "cell_type": "markdown",
   "metadata": {},
   "source": [
    "We use the minor allele frequency of the causal variant to simulate the SnpArray."
   ]
  },
  {
   "cell_type": "code",
   "execution_count": 22,
   "metadata": {},
   "outputs": [
    {
     "data": {
      "text/plain": [
       "379×1 SnpArray:\n",
       " 0x00\n",
       " 0x02\n",
       " 0x00\n",
       " 0x00\n",
       " 0x02\n",
       " 0x02\n",
       " 0x00\n",
       " 0x00\n",
       " 0x00\n",
       " 0x02\n",
       " 0x00\n",
       " 0x02\n",
       " 0x00\n",
       "    ⋮\n",
       " 0x00\n",
       " 0x00\n",
       " 0x00\n",
       " 0x00\n",
       " 0x00\n",
       " 0x00\n",
       " 0x00\n",
       " 0x02\n",
       " 0x00\n",
       " 0x00\n",
       " 0x02\n",
       " 0x00"
      ]
     },
     "execution_count": 22,
     "metadata": {},
     "output_type": "execute_result"
    }
   ],
   "source": [
    "maf_causal_snp = [0.2]\n",
    "Simulated_SnpArray = snparray_simulation(maf_causal_snp, n)"
   ]
  },
  {
   "cell_type": "code",
   "execution_count": 23,
   "metadata": {},
   "outputs": [
    {
     "data": {
      "text/plain": [
       "379-element Array{Float64,1}:\n",
       " 0.0\n",
       " 1.0\n",
       " 0.0\n",
       " 0.0\n",
       " 1.0\n",
       " 1.0\n",
       " 0.0\n",
       " 0.0\n",
       " 0.0\n",
       " 1.0\n",
       " 0.0\n",
       " 1.0\n",
       " 0.0\n",
       " ⋮  \n",
       " 0.0\n",
       " 0.0\n",
       " 0.0\n",
       " 0.0\n",
       " 0.0\n",
       " 0.0\n",
       " 0.0\n",
       " 1.0\n",
       " 0.0\n",
       " 0.0\n",
       " 1.0\n",
       " 0.0"
      ]
     },
     "execution_count": 23,
     "metadata": {},
     "output_type": "execute_result"
    }
   ],
   "source": [
    "locus = convert(Vector{Float64}, @view(Simulated_SnpArray[:, 1]))"
   ]
  },
  {
   "cell_type": "code",
   "execution_count": 24,
   "metadata": {},
   "outputs": [
    {
     "data": {
      "text/plain": [
       "379×3 Array{Float64,2}:\n",
       "  0.407127   0.0  0.0\n",
       " -0.558203   1.0  1.0\n",
       " -1.12104    0.0  0.0\n",
       "  0.45187    1.0  0.0\n",
       " -1.8414     1.0  1.0\n",
       "  1.1218     1.0  1.0\n",
       " -0.625564   0.0  0.0\n",
       " -0.0349323  1.0  0.0\n",
       "  0.586154   0.0  0.0\n",
       "  1.07314    1.0  1.0\n",
       "  0.131521   1.0  0.0\n",
       " -1.1149     1.0  1.0\n",
       "  0.403265   0.0  0.0\n",
       "  ⋮                  \n",
       "  2.29484    0.0  0.0\n",
       " -0.234866   1.0  0.0\n",
       "  0.663314   1.0  0.0\n",
       "  0.907418   1.0  0.0\n",
       " -0.854223   0.0  0.0\n",
       " -0.618171   1.0  0.0\n",
       "  0.0584837  0.0  0.0\n",
       " -0.21188    1.0  1.0\n",
       "  0.762782   1.0  0.0\n",
       " -0.841109   1.0  0.0\n",
       "  0.877906   1.0  1.0\n",
       " -1.5609     0.0  0.0"
      ]
     },
     "execution_count": 24,
     "metadata": {},
     "output_type": "execute_result"
    }
   ],
   "source": [
    "pdf_sex = Bernoulli(0.51)\n",
    "pdf_age = Normal(45, 8)\n",
    "\n",
    "sex = rand(pdf_sex, n)\n",
    "age = zscore(rand(pdf_age, n))\n",
    "\n",
    "X_new = [age sex locus]"
   ]
  },
  {
   "cell_type": "markdown",
   "metadata": {},
   "source": [
    "## Phenotype Simulation:\n",
    "b) phenotype simulation conditional on simulated genotypes\n",
    "\n",
    "### Ordered Multinomial Trait"
   ]
  },
  {
   "cell_type": "code",
   "execution_count": 25,
   "metadata": {},
   "outputs": [
    {
     "data": {
      "text/plain": [
       "OrdinalTrait{Float64,LogitLink}([0.4071271462021118 0.0 0.0; -0.5582027968010086 1.0 1.0; … ; 0.8779062782252005 1.0 1.0; -1.5609003032306286 0.0 0.0], [1.0, 2.0, 10.0], [1.0, 1.2, 1.4], LogitLink())"
      ]
     },
     "execution_count": 25,
     "metadata": {},
     "output_type": "execute_result"
    }
   ],
   "source": [
    "θ = [1.0, 1.2, 1.4]\n",
    "β_new = [1.0, 2.0, 10.0]\n",
    "Ordinal_Model = OrdinalTrait(X_new, β_new, θ, LogitLink())"
   ]
  },
  {
   "cell_type": "code",
   "execution_count": 26,
   "metadata": {},
   "outputs": [
    {
     "data": {
      "text/plain": [
       "379-element Array{Int64,1}:\n",
       " 1\n",
       " 4\n",
       " 1\n",
       " 4\n",
       " 4\n",
       " 4\n",
       " 1\n",
       " 1\n",
       " 1\n",
       " 4\n",
       " 4\n",
       " 4\n",
       " 1\n",
       " ⋮\n",
       " 1\n",
       " 1\n",
       " 4\n",
       " 4\n",
       " 1\n",
       " 4\n",
       " 4\n",
       " 4\n",
       " 4\n",
       " 4\n",
       " 4\n",
       " 1"
      ]
     },
     "execution_count": 26,
     "metadata": {},
     "output_type": "execute_result"
    }
   ],
   "source": [
    "Ordinal_Trait = simulate(Ordinal_Model)"
   ]
  },
  {
   "cell_type": "markdown",
   "metadata": {},
   "source": [
    "### Simulate Ordered Multinomial Logistic"
   ]
  },
  {
   "cell_type": "code",
   "execution_count": 27,
   "metadata": {},
   "outputs": [
    {
     "data": {
      "text/plain": [
       "379-element Array{Int64,1}:\n",
       " 0\n",
       " 1\n",
       " 1\n",
       " 1\n",
       " 1\n",
       " 1\n",
       " 0\n",
       " 0\n",
       " 0\n",
       " 1\n",
       " 0\n",
       " 1\n",
       " 0\n",
       " ⋮\n",
       " 1\n",
       " 1\n",
       " 0\n",
       " 0\n",
       " 0\n",
       " 0\n",
       " 0\n",
       " 1\n",
       " 1\n",
       " 1\n",
       " 1\n",
       " 1"
      ]
     },
     "execution_count": 27,
     "metadata": {},
     "output_type": "execute_result"
    }
   ],
   "source": [
    "Logistic_Trait = simulate(Ordinal_Model, Logistic = true, threshold = 2)"
   ]
  },
  {
   "cell_type": "markdown",
   "metadata": {},
   "source": [
    "### Power Calculation:\n",
    "\n",
    "We use the following function to generate the p-values for the simulated power example for the logistic vs linear regression model. We include plots of different power/effect size combinations for Ordered Logistic Regression models \n",
    "    "
   ]
  },
  {
   "cell_type": "code",
   "execution_count": 28,
   "metadata": {},
   "outputs": [
    {
     "data": {
      "text/plain": [
       "11-element Array{Float64,1}:\n",
       " 0.0 \n",
       " 0.05\n",
       " 0.1 \n",
       " 0.15\n",
       " 0.2 \n",
       " 0.25\n",
       " 0.3 \n",
       " 0.35\n",
       " 0.4 \n",
       " 0.45\n",
       " 0.5 "
      ]
     },
     "execution_count": 28,
     "metadata": {},
     "output_type": "execute_result"
    }
   ],
   "source": [
    "γs = collect(0.0:0.05:0.5)"
   ]
  },
  {
   "cell_type": "code",
   "execution_count": 29,
   "metadata": {},
   "outputs": [
    {
     "data": {
      "text/plain": [
       "1000×11 Array{Float64,2}:\n",
       " 0.98821    0.677405    0.750923   0.0035454  …  0.00125706  0.00806858 \n",
       " 0.753635   0.0544803   0.995895   0.626111      0.00106554  0.00668177 \n",
       " 0.0567127  0.132338    0.639366   0.868032      0.0609115   0.0436389  \n",
       " 0.421616   0.852874    0.719334   0.972179      0.0368512   0.000209448\n",
       " 0.904168   0.965509    0.192946   0.0886994     0.0316606   0.0205866  \n",
       " 0.510296   0.798285    0.802923   0.827623   …  0.0176615   0.394335   \n",
       " 0.238666   0.662985    0.0841425  0.646225      0.0430174   0.0363795  \n",
       " 0.44257    0.800534    0.0951966  0.24411       0.1619      0.175332   \n",
       " 0.97319    0.0514531   0.406705   0.0977883     0.100182    0.249145   \n",
       " 0.766394   0.399194    0.514458   0.91565       0.0127169   0.385098   \n",
       " 0.94113    0.233683    0.504514   0.213161   …  0.503449    0.00322882 \n",
       " 0.277928   0.203745    0.269898   0.0492218     0.0127707   0.0117821  \n",
       " 0.803519   0.53307     0.120443   0.0782337     0.0570739   0.00909654 \n",
       " ⋮                                            ⋱              ⋮          \n",
       " 0.356107   0.532645    0.363096   0.250489      0.0493486   0.000174088\n",
       " 0.975161   0.789077    0.858029   0.0666524     0.359737    0.701972   \n",
       " 0.304201   0.206114    0.0111405  0.0729968  …  0.748483    0.715364   \n",
       " 0.679226   0.0895138   0.728475   0.835556      0.0610553   0.332836   \n",
       " 0.832789   0.532057    0.616256   0.141757      0.0183789   0.00177642 \n",
       " 0.0751197  0.644174    0.597981   0.997835      0.497883    0.19837    \n",
       " 0.790398   0.447097    0.307694   0.0440043     0.498304    0.479854   \n",
       " 0.898414   0.589085    0.212724   0.128744   …  0.0113197   0.0068795  \n",
       " 0.726674   0.879546    0.19758    0.251684      0.0254098   0.530628   \n",
       " 0.0308547  0.380529    0.253044   0.227486      4.33272e-5  0.00951939 \n",
       " 0.223623   0.00425701  0.037731   0.874184      0.170597    0.119055   \n",
       " 0.732489   0.317716    0.456334   0.103489      0.00220978  0.149356   "
      ]
     },
     "execution_count": 29,
     "metadata": {},
     "output_type": "execute_result"
    }
   ],
   "source": [
    "P = realistic_power_simulation(1000, γs, Ordinal_Model, 1234)"
   ]
  },
  {
   "cell_type": "code",
   "execution_count": 30,
   "metadata": {},
   "outputs": [
    {
     "data": {
      "text/plain": [
       "11-element Array{Float64,1}:\n",
       " 0.045\n",
       " 0.052\n",
       " 0.078\n",
       " 0.116\n",
       " 0.131\n",
       " 0.234\n",
       " 0.256\n",
       " 0.349\n",
       " 0.42 \n",
       " 0.513\n",
       " 0.618"
      ]
     },
     "execution_count": 30,
     "metadata": {},
     "output_type": "execute_result"
    }
   ],
   "source": [
    "power_ES = power(P, 0.05)"
   ]
  },
  {
   "cell_type": "code",
   "execution_count": 31,
   "metadata": {},
   "outputs": [
    {
     "data": {
      "image/svg+xml": [
       "<?xml version=\"1.0\" encoding=\"utf-8\"?>\n",
       "<svg xmlns=\"http://www.w3.org/2000/svg\" xmlns:xlink=\"http://www.w3.org/1999/xlink\" width=\"600\" height=\"400\" viewBox=\"0 0 2400 1600\">\n",
       "<defs>\n",
       "  <clipPath id=\"clip7800\">\n",
       "    <rect x=\"0\" y=\"0\" width=\"2400\" height=\"1600\"/>\n",
       "  </clipPath>\n",
       "</defs>\n",
       "<path clip-path=\"url(#clip7800)\" d=\"\n",
       "M0 1600 L2400 1600 L2400 0 L0 0  Z\n",
       "  \" fill=\"#ffffff\" fill-rule=\"evenodd\" fill-opacity=\"1\"/>\n",
       "<defs>\n",
       "  <clipPath id=\"clip7801\">\n",
       "    <rect x=\"480\" y=\"0\" width=\"1681\" height=\"1600\"/>\n",
       "  </clipPath>\n",
       "</defs>\n",
       "<path clip-path=\"url(#clip7800)\" d=\"\n",
       "M153.898 1487.47 L2352.76 1487.47 L2352.76 47.2441 L153.898 47.2441  Z\n",
       "  \" fill=\"#ffffff\" fill-rule=\"evenodd\" fill-opacity=\"1\"/>\n",
       "<defs>\n",
       "  <clipPath id=\"clip7802\">\n",
       "    <rect x=\"153\" y=\"47\" width=\"2200\" height=\"1441\"/>\n",
       "  </clipPath>\n",
       "</defs>\n",
       "<polyline clip-path=\"url(#clip7802)\" style=\"stroke:#000000; stroke-width:2; stroke-opacity:0.1; fill:none\" points=\"\n",
       "  216.13,1487.47 216.13,47.2441 \n",
       "  \"/>\n",
       "<polyline clip-path=\"url(#clip7802)\" style=\"stroke:#000000; stroke-width:2; stroke-opacity:0.1; fill:none\" points=\"\n",
       "  631.009,1487.47 631.009,47.2441 \n",
       "  \"/>\n",
       "<polyline clip-path=\"url(#clip7802)\" style=\"stroke:#000000; stroke-width:2; stroke-opacity:0.1; fill:none\" points=\"\n",
       "  1045.89,1487.47 1045.89,47.2441 \n",
       "  \"/>\n",
       "<polyline clip-path=\"url(#clip7802)\" style=\"stroke:#000000; stroke-width:2; stroke-opacity:0.1; fill:none\" points=\"\n",
       "  1460.77,1487.47 1460.77,47.2441 \n",
       "  \"/>\n",
       "<polyline clip-path=\"url(#clip7802)\" style=\"stroke:#000000; stroke-width:2; stroke-opacity:0.1; fill:none\" points=\"\n",
       "  1875.65,1487.47 1875.65,47.2441 \n",
       "  \"/>\n",
       "<polyline clip-path=\"url(#clip7802)\" style=\"stroke:#000000; stroke-width:2; stroke-opacity:0.1; fill:none\" points=\"\n",
       "  2290.52,1487.47 2290.52,47.2441 \n",
       "  \"/>\n",
       "<polyline clip-path=\"url(#clip7802)\" style=\"stroke:#000000; stroke-width:2; stroke-opacity:0.1; fill:none\" points=\"\n",
       "  153.898,1316.3 2352.76,1316.3 \n",
       "  \"/>\n",
       "<polyline clip-path=\"url(#clip7802)\" style=\"stroke:#000000; stroke-width:2; stroke-opacity:0.1; fill:none\" points=\"\n",
       "  153.898,1079.17 2352.76,1079.17 \n",
       "  \"/>\n",
       "<polyline clip-path=\"url(#clip7802)\" style=\"stroke:#000000; stroke-width:2; stroke-opacity:0.1; fill:none\" points=\"\n",
       "  153.898,842.053 2352.76,842.053 \n",
       "  \"/>\n",
       "<polyline clip-path=\"url(#clip7802)\" style=\"stroke:#000000; stroke-width:2; stroke-opacity:0.1; fill:none\" points=\"\n",
       "  153.898,604.931 2352.76,604.931 \n",
       "  \"/>\n",
       "<polyline clip-path=\"url(#clip7802)\" style=\"stroke:#000000; stroke-width:2; stroke-opacity:0.1; fill:none\" points=\"\n",
       "  153.898,367.809 2352.76,367.809 \n",
       "  \"/>\n",
       "<polyline clip-path=\"url(#clip7802)\" style=\"stroke:#000000; stroke-width:2; stroke-opacity:0.1; fill:none\" points=\"\n",
       "  153.898,130.687 2352.76,130.687 \n",
       "  \"/>\n",
       "<polyline clip-path=\"url(#clip7800)\" style=\"stroke:#000000; stroke-width:4; stroke-opacity:1; fill:none\" points=\"\n",
       "  153.898,1487.47 2352.76,1487.47 \n",
       "  \"/>\n",
       "<polyline clip-path=\"url(#clip7800)\" style=\"stroke:#000000; stroke-width:4; stroke-opacity:1; fill:none\" points=\"\n",
       "  153.898,1487.47 153.898,47.2441 \n",
       "  \"/>\n",
       "<polyline clip-path=\"url(#clip7800)\" style=\"stroke:#000000; stroke-width:4; stroke-opacity:1; fill:none\" points=\"\n",
       "  216.13,1487.47 216.13,1470.19 \n",
       "  \"/>\n",
       "<polyline clip-path=\"url(#clip7800)\" style=\"stroke:#000000; stroke-width:4; stroke-opacity:1; fill:none\" points=\"\n",
       "  631.009,1487.47 631.009,1470.19 \n",
       "  \"/>\n",
       "<polyline clip-path=\"url(#clip7800)\" style=\"stroke:#000000; stroke-width:4; stroke-opacity:1; fill:none\" points=\"\n",
       "  1045.89,1487.47 1045.89,1470.19 \n",
       "  \"/>\n",
       "<polyline clip-path=\"url(#clip7800)\" style=\"stroke:#000000; stroke-width:4; stroke-opacity:1; fill:none\" points=\"\n",
       "  1460.77,1487.47 1460.77,1470.19 \n",
       "  \"/>\n",
       "<polyline clip-path=\"url(#clip7800)\" style=\"stroke:#000000; stroke-width:4; stroke-opacity:1; fill:none\" points=\"\n",
       "  1875.65,1487.47 1875.65,1470.19 \n",
       "  \"/>\n",
       "<polyline clip-path=\"url(#clip7800)\" style=\"stroke:#000000; stroke-width:4; stroke-opacity:1; fill:none\" points=\"\n",
       "  2290.52,1487.47 2290.52,1470.19 \n",
       "  \"/>\n",
       "<polyline clip-path=\"url(#clip7800)\" style=\"stroke:#000000; stroke-width:4; stroke-opacity:1; fill:none\" points=\"\n",
       "  153.898,1316.3 180.284,1316.3 \n",
       "  \"/>\n",
       "<polyline clip-path=\"url(#clip7800)\" style=\"stroke:#000000; stroke-width:4; stroke-opacity:1; fill:none\" points=\"\n",
       "  153.898,1079.17 180.284,1079.17 \n",
       "  \"/>\n",
       "<polyline clip-path=\"url(#clip7800)\" style=\"stroke:#000000; stroke-width:4; stroke-opacity:1; fill:none\" points=\"\n",
       "  153.898,842.053 180.284,842.053 \n",
       "  \"/>\n",
       "<polyline clip-path=\"url(#clip7800)\" style=\"stroke:#000000; stroke-width:4; stroke-opacity:1; fill:none\" points=\"\n",
       "  153.898,604.931 180.284,604.931 \n",
       "  \"/>\n",
       "<polyline clip-path=\"url(#clip7800)\" style=\"stroke:#000000; stroke-width:4; stroke-opacity:1; fill:none\" points=\"\n",
       "  153.898,367.809 180.284,367.809 \n",
       "  \"/>\n",
       "<polyline clip-path=\"url(#clip7800)\" style=\"stroke:#000000; stroke-width:4; stroke-opacity:1; fill:none\" points=\"\n",
       "  153.898,130.687 180.284,130.687 \n",
       "  \"/>\n",
       "<g clip-path=\"url(#clip7800)\">\n",
       "<text style=\"fill:#000000; fill-opacity:1; font-family:Arial,Helvetica Neue,Helvetica,sans-serif; font-size:48px; text-anchor:middle;\" transform=\"rotate(0, 216.13, 1541.47)\" x=\"216.13\" y=\"1541.47\">0.0</text>\n",
       "</g>\n",
       "<g clip-path=\"url(#clip7800)\">\n",
       "<text style=\"fill:#000000; fill-opacity:1; font-family:Arial,Helvetica Neue,Helvetica,sans-serif; font-size:48px; text-anchor:middle;\" transform=\"rotate(0, 631.009, 1541.47)\" x=\"631.009\" y=\"1541.47\">0.1</text>\n",
       "</g>\n",
       "<g clip-path=\"url(#clip7800)\">\n",
       "<text style=\"fill:#000000; fill-opacity:1; font-family:Arial,Helvetica Neue,Helvetica,sans-serif; font-size:48px; text-anchor:middle;\" transform=\"rotate(0, 1045.89, 1541.47)\" x=\"1045.89\" y=\"1541.47\">0.2</text>\n",
       "</g>\n",
       "<g clip-path=\"url(#clip7800)\">\n",
       "<text style=\"fill:#000000; fill-opacity:1; font-family:Arial,Helvetica Neue,Helvetica,sans-serif; font-size:48px; text-anchor:middle;\" transform=\"rotate(0, 1460.77, 1541.47)\" x=\"1460.77\" y=\"1541.47\">0.3</text>\n",
       "</g>\n",
       "<g clip-path=\"url(#clip7800)\">\n",
       "<text style=\"fill:#000000; fill-opacity:1; font-family:Arial,Helvetica Neue,Helvetica,sans-serif; font-size:48px; text-anchor:middle;\" transform=\"rotate(0, 1875.65, 1541.47)\" x=\"1875.65\" y=\"1541.47\">0.4</text>\n",
       "</g>\n",
       "<g clip-path=\"url(#clip7800)\">\n",
       "<text style=\"fill:#000000; fill-opacity:1; font-family:Arial,Helvetica Neue,Helvetica,sans-serif; font-size:48px; text-anchor:middle;\" transform=\"rotate(0, 2290.52, 1541.47)\" x=\"2290.52\" y=\"1541.47\">0.5</text>\n",
       "</g>\n",
       "<g clip-path=\"url(#clip7800)\">\n",
       "<text style=\"fill:#000000; fill-opacity:1; font-family:Arial,Helvetica Neue,Helvetica,sans-serif; font-size:48px; text-anchor:end;\" transform=\"rotate(0, 129.898, 1333.8)\" x=\"129.898\" y=\"1333.8\">0.1</text>\n",
       "</g>\n",
       "<g clip-path=\"url(#clip7800)\">\n",
       "<text style=\"fill:#000000; fill-opacity:1; font-family:Arial,Helvetica Neue,Helvetica,sans-serif; font-size:48px; text-anchor:end;\" transform=\"rotate(0, 129.898, 1096.67)\" x=\"129.898\" y=\"1096.67\">0.2</text>\n",
       "</g>\n",
       "<g clip-path=\"url(#clip7800)\">\n",
       "<text style=\"fill:#000000; fill-opacity:1; font-family:Arial,Helvetica Neue,Helvetica,sans-serif; font-size:48px; text-anchor:end;\" transform=\"rotate(0, 129.898, 859.553)\" x=\"129.898\" y=\"859.553\">0.3</text>\n",
       "</g>\n",
       "<g clip-path=\"url(#clip7800)\">\n",
       "<text style=\"fill:#000000; fill-opacity:1; font-family:Arial,Helvetica Neue,Helvetica,sans-serif; font-size:48px; text-anchor:end;\" transform=\"rotate(0, 129.898, 622.431)\" x=\"129.898\" y=\"622.431\">0.4</text>\n",
       "</g>\n",
       "<g clip-path=\"url(#clip7800)\">\n",
       "<text style=\"fill:#000000; fill-opacity:1; font-family:Arial,Helvetica Neue,Helvetica,sans-serif; font-size:48px; text-anchor:end;\" transform=\"rotate(0, 129.898, 385.309)\" x=\"129.898\" y=\"385.309\">0.5</text>\n",
       "</g>\n",
       "<g clip-path=\"url(#clip7800)\">\n",
       "<text style=\"fill:#000000; fill-opacity:1; font-family:Arial,Helvetica Neue,Helvetica,sans-serif; font-size:48px; text-anchor:end;\" transform=\"rotate(0, 129.898, 148.187)\" x=\"129.898\" y=\"148.187\">0.6</text>\n",
       "</g>\n",
       "<polyline clip-path=\"url(#clip7802)\" style=\"stroke:#009af9; stroke-width:4; stroke-opacity:1; fill:none\" points=\"\n",
       "  216.13,1446.71 423.569,1430.11 631.009,1368.46 838.448,1278.36 1045.89,1242.79 1253.33,998.553 1460.77,946.386 1668.21,725.863 1875.65,557.507 2083.08,336.983 \n",
       "  2290.52,88.0053 \n",
       "  \"/>\n",
       "<path clip-path=\"url(#clip7800)\" d=\"\n",
       "M1989.93 251.724 L2280.76 251.724 L2280.76 130.764 L1989.93 130.764  Z\n",
       "  \" fill=\"#ffffff\" fill-rule=\"evenodd\" fill-opacity=\"1\"/>\n",
       "<polyline clip-path=\"url(#clip7800)\" style=\"stroke:#000000; stroke-width:4; stroke-opacity:1; fill:none\" points=\"\n",
       "  1989.93,251.724 2280.76,251.724 2280.76,130.764 1989.93,130.764 1989.93,251.724 \n",
       "  \"/>\n",
       "<polyline clip-path=\"url(#clip7800)\" style=\"stroke:#009af9; stroke-width:4; stroke-opacity:1; fill:none\" points=\"\n",
       "  2013.93,191.244 2157.93,191.244 \n",
       "  \"/>\n",
       "<g clip-path=\"url(#clip7800)\">\n",
       "<text style=\"fill:#000000; fill-opacity:1; font-family:Arial,Helvetica Neue,Helvetica,sans-serif; font-size:48px; text-anchor:start;\" transform=\"rotate(0, 2181.93, 208.744)\" x=\"2181.93\" y=\"208.744\">y1</text>\n",
       "</g>\n",
       "</svg>\n"
      ]
     },
     "execution_count": 31,
     "metadata": {},
     "output_type": "execute_result"
    }
   ],
   "source": [
    "plot(γs, power_ES)"
   ]
  },
  {
   "cell_type": "markdown",
   "metadata": {},
   "source": [
    "## Citations: \n",
    "\n",
    "[1] Lange K, Papp JC, Sinsheimer JS, Sripracha R, Zhou H, Sobel EM (2013) Mendel: The Swiss army knife of genetic analysis programs. Bioinformatics 29:1568-1570.`\n",
    "\n",
    "\n",
    "[2] OPENMENDEL: a cooperative programming project for statistical genetics.\n",
    "[Hum Genet. 2019 Mar 26. doi: 10.1007/s00439-019-02001-z](https://www.ncbi.nlm.nih.gov/pubmed/?term=OPENMENDEL).\n"
   ]
  }
 ],
 "metadata": {
  "@webio": {
   "lastCommId": null,
   "lastKernelId": null
  },
  "kernelspec": {
   "display_name": "Julia 1.2.0",
   "language": "julia",
   "name": "julia-1.2"
  },
  "language_info": {
   "file_extension": ".jl",
   "mimetype": "application/julia",
   "name": "julia",
   "version": "1.2.0"
  },
  "toc": {
   "base_numbering": 1,
   "nav_menu": {},
   "number_sections": true,
   "sideBar": true,
   "skip_h1_title": false,
   "title_cell": "Table of Contents",
   "title_sidebar": "Contents",
   "toc_cell": false,
   "toc_position": {},
   "toc_section_display": true,
   "toc_window_display": false
  }
 },
 "nbformat": 4,
 "nbformat_minor": 2
}
