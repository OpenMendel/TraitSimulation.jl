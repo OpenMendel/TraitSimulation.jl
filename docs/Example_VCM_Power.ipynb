{
 "cells": [
  {
   "cell_type": "markdown",
   "metadata": {},
   "source": [
    "# Trait Simulation - VCM Power Example\n",
    "\n",
    "Authors: Sarah Ji, Janet Sinsheimer, Kenneth Lange, Hua Zhou\n",
    "\n",
    "In this notebook we show how to use the `TraitSimulation.jl` package we illustrate how TraitSimulation.jl can easily simulate traits from genotype data, all within the OpenMendel universe. Operating within this universe brings potential advantages over the available software(s) when needed for downstream analysis or study design. \n",
    "\n",
    "Using just a few calls on the command line to the appropriate packages within the OpenMendel, we demonstrate in three easy examples the utilities of the TraitSimulation.jl package.\n",
    "\n",
    "Users who want a reference on genetic modeling, we recommend \n",
    "[Mathematical And Statistical Methods For Genetic Analysis](http://www.biometrica.tomsk.ru/lib/lange_1.pdf) by Dr. Kenneth Lange. In chapter 8 of this book, the user can find an introduction to Variance Component Models in Genetic Setting. For a more in depth review of variance component modeling in the genetic setting, we include a reference at the end of the notebook [4].\n",
    "\n",
    "\n",
    "## Background\n",
    "\n",
    "There is a lack of software available to geneticists who wish to calculate power and sample sizes in designing a study on genetics data. Typically, the study power depends on assumptions about the underlying disease model.  Many power calculating software tools operate as a black box and do not allow for customization.  To develop custom tests, researchers can develop their own simulation procedures to carry out power calculations.  One limitation with many existing methods for simulating traits conditional on genotypes is that these methods are limited to normally distributed traits and to fixed effects. \n",
    "\n",
    "This software package, TraitSimuliation.jl addresses the need for simulated trait data in genetic analyses.  This package generates data sets that will allow researchers to accurately check the validity of programs and to calculate power for their proposed studies. We demonstrate customized simulation utilities that accompany specific genetic analysis options in Open-Mendel; for example Variance Component Models (VCM) and [ordered multinomial traits](https://github.com/OpenMendel/TraitSimulation.jl/blob/master/docs/Example_Ordinal_Multinomial_Power.ipynb). We demonstrate the simulation utilities on a subset of 3754 individuals and 470228 snps in the UK Biobank dataset. We filtered the dataset in the [Ordinal GWAS paper](https://doi.org/10.1002/gepi.22276) to only include the individuals that had the highest indicated measures of hypertension. \n",
    "\n",
    "\n",
    "## Demonstration\n",
    "\n",
    "##### Example Data\n",
    "\n",
    "We use the OpenMendel package [SnpArrays.jl](https://openmendel.github.io/SnpArrays.jl/latest/) to both read in and write out PLINK formatted files. \n",
    "\n",
    "Based on several different features in the EHR including diabetes diagnostic codes, diabetes medication, hyperglycemia in blood results defined by HbA1c and fasting glucose levels, and presence of diabetes process of care codes, the algorithm categorizes individuals into different categories that relate to how likely they are to have diabetes. \n",
    "\n",
    "For convenience we use the common assumption that the residual covariance among two relatives can be captured by the additive genetic variance times twice the kinship coefficient.\n",
    "\n",
    "In each example the user can specify the simulation model parameters, along with the number of repitions for each simulation model as desired. By default, the simulation will return the result of a single simulation.\n"
   ]
  },
  {
   "cell_type": "markdown",
   "metadata": {},
   "source": [
    "### Double check that you are using Julia version 1.0 or higher by checking the machine information"
   ]
  },
  {
   "cell_type": "code",
   "execution_count": null,
   "metadata": {},
   "outputs": [],
   "source": [
    "versioninfo()"
   ]
  },
  {
   "cell_type": "code",
   "execution_count": null,
   "metadata": {},
   "outputs": [],
   "source": [
    "using Random, Plots, DataFrames, LinearAlgebra, StatsFuns, CSV\n",
    "using SnpArrays, TraitSimulation, GLM, StatsBase, VarianceComponentModels\n",
    "Random.seed!(1234);"
   ]
  },
  {
   "cell_type": "markdown",
   "metadata": {},
   "source": [
    "# Reading genotype data using SnpArrays\n",
    "\n",
    "First use `SnpArrays.jl` to read in the genotype data. We use PLINK formatted data with the same prefixes for the .bim, .fam, .bed files.\n",
    "\n",
    "SnpArrays is a very useful utility and can do a lot more than just read in the data. More information about all the functionality of SnpArrays can be found at:\n",
    "https://openmendel.github.io/SnpArrays.jl/latest/\n",
    "\n",
    "As missing genotypes are often due to problems making the calls, the called genotypes at a marker with too much missing genotypes are potentially unreliable. By default, SnpArrays filters to keep only the genotypes with success rates greater than 0.98 and the minimum minor allele frequency to be 0.01. If the user wishes to change the stringency, change the number given in filter according to [SnpArrays](https://openmendel.github.io/SnpArrays.jl/latest/#Fitering-1)."
   ]
  },
  {
   "cell_type": "code",
   "execution_count": null,
   "metadata": {},
   "outputs": [],
   "source": [
    "filename = \"fullhypertensionbad\"\n",
    "full_snps = SnpArray(\"fullhypertensionbad.bed\", 3754)"
   ]
  },
  {
   "cell_type": "code",
   "execution_count": null,
   "metadata": {},
   "outputs": [],
   "source": [
    "sample_snp_data = SnpData(filename)"
   ]
  },
  {
   "cell_type": "markdown",
   "metadata": {},
   "source": [
    "The published hypertension GWAS analysis includes the following covariates: sex, center, age, age2, BMI, and the top ten principal components to adjust for ancestry/relatedness."
   ]
  },
  {
   "cell_type": "markdown",
   "metadata": {},
   "source": [
    "\n",
    "# Construct Genetic Model: (VCM Parameter Specification)\n",
    "\n",
    "Say that you have the the classical setting in genetics, two variance components, one for the additive genetic variance and one for the environmental variance. For simulating $d$ correlated traits for $n$ related people under the VCM, users can specify their covariance structures as follows.\n",
    "\n",
    "$$Y_{n \\times d} \\sim \\text{MatrixNormal}(\\mathbf{M}_{n \\times d} = XB, \\Omega_{nd \\times nd} = \\Sigma_A \\otimes V_A + \\Sigma_E \\otimes V_E)$$"
   ]
  },
  {
   "cell_type": "code",
   "execution_count": null,
   "metadata": {},
   "outputs": [],
   "source": [
    "bimfile = sample_snp_data.snp_info # store the snp_info with the snp names\n",
    "snpid  = bimfile[!, :snpid] # store the snp names in the snpid vector\n",
    "causal_snp_index = findall(x -> x == \"rs11240779\", snpid); # find the index of the snp of interest by snpid\n",
    "causal_snp = @view full_snps[:, causal_snp_index]"
   ]
  },
  {
   "cell_type": "markdown",
   "metadata": {},
   "source": [
    "Here are the minor allele frequencies"
   ]
  },
  {
   "cell_type": "code",
   "execution_count": null,
   "metadata": {},
   "outputs": [],
   "source": [
    "maf_cs = maf(@view full_snps[:, causal_snp_index])[:]"
   ]
  },
  {
   "cell_type": "code",
   "execution_count": null,
   "metadata": {},
   "outputs": [],
   "source": [
    "# Generating Effect Sizes from Chisquared(df = 1) density\n",
    "chisq_coeff = round.(chisqpdf.(1, maf_cs), digits = 3)"
   ]
  },
  {
   "cell_type": "code",
   "execution_count": null,
   "metadata": {},
   "outputs": [],
   "source": [
    "GRM = grm(full_snps, minmaf = 0.05)"
   ]
  },
  {
   "cell_type": "markdown",
   "metadata": {},
   "source": [
    "# Power Calculation\n",
    "\n",
    "Now we show how to simulate from customized simulation models that accompany specific genetic analysis options in OpenMendel; for example, ordered, multinomial traits and Variance Component Models.\n",
    "\n",
    "\n",
    "This example illustrates the use of the simulations to generates data sets allowing researchers to accurately check the validity of programs and to calculate power for their proposed studies. \n",
    "\n",
    "We illustrate this example in three digestable steps: \n",
    "   * The first by simulating genotypes and covariate values representative for our study population.\n",
    "   * Carry over the simulated design matrix from (1) to create the OrderedMultinomialTrait model object.\n",
    "   * Simulate off the OrderedMultinomialTrait model object created in (2) and run the power analyses for the desired significance level.\n"
   ]
  },
  {
   "cell_type": "markdown",
   "metadata": {},
   "source": [
    "### convert\n",
    "By default `convert` function translates genotypes according to the *additive* SNP model, which essentially counts the number of **A2** allele (0, 1 or 2) per genotype. Other SNP models are *dominant* and *recessive*, both in terms of the **A2** allele.\n",
    "\n",
    "| Genotype | `SnpArray` | `model=ADDITIVE_MODEL` | `model=DOMINANT_MODEL` | `model=RECESSIVE_MODEL` |    \n",
    "|:---:|:---:|:---:|:---:|:---:|  \n",
    "| A1,A1 | 0x00 | 0 | 0 | 0 |  \n",
    "| missing | 0x01 | NaN | NaN | NaN |\n",
    "| A1,A2 | 0x02 | 1 | 1 | 0 |  \n",
    "| A2,A2 | 0x03 | 2 | 1 | 1 |  \n",
    "\n",
    "If desired, the user can decide to specify alternative model parameters found in the [SnpArrays](https://openmendel.github.io/SnpArrays.jl/latest/#convert-and-copyto!-1) documentation."
   ]
  },
  {
   "cell_type": "code",
   "execution_count": null,
   "metadata": {},
   "outputs": [],
   "source": [
    "locus = convert(Vector{Float64}, causal_snp[:])"
   ]
  },
  {
   "cell_type": "markdown",
   "metadata": {},
   "source": [
    "## Design Matrix\n",
    "\n",
    "Now we concatenate the simulated causal locus, transformed to Float64, to the other covariates we want to control for in the study design."
   ]
  },
  {
   "cell_type": "markdown",
   "metadata": {},
   "source": [
    "The published hypertension GWAS analysis includes the following covariates: sex, center, age, age2, BMI, and the top ten principal components to adjust for ancestry/relatedness."
   ]
  },
  {
   "cell_type": "code",
   "execution_count": null,
   "metadata": {},
   "outputs": [],
   "source": [
    "n = length(locus)\n",
    "published_covariate_data = CSV.read(\"/mnt/UKBiobank/ukbdata/ordinalanalysis/Covariate_Final.csv\")\n",
    "covariates = published_covariate_data[1:n, 1:10]"
   ]
  },
  {
   "cell_type": "code",
   "execution_count": null,
   "metadata": {},
   "outputs": [],
   "source": [
    "age = Float64.(covariates[!, :age])\n",
    "sex = Float64.(covariates[!, :sex])\n",
    "center = Int64.(covariates[!, :center])\n",
    "bmi = Float64.(covariates[!, :bmi])\n",
    "avg_SBP = Float64.(covariates[!, :AveSBP])\n",
    "\n",
    "X_cov = DataFrame(sex = sex, center = center, age = age, age2 = age.^2, bmi = bmi)\n",
    "Data = DataFrame(y = avg_SBP, sex = sex, center = center, age = age, age2 = age.^2, bmi = bmi, locus = locus)\n",
    "X_full = hcat(X_cov, DataFrame(locus = locus))"
   ]
  },
  {
   "cell_type": "markdown",
   "metadata": {},
   "source": [
    "## Phenotype Simulation:\n",
    "\n",
    "Now that we have our simulated design matrix with the desired SNP of interest, we can simulate our phenotypes on the simulated data under different TraitSimulation models. To illustrate, we demonstrate on the `VCMTrait` model object in TraitSimulation.jl."
   ]
  },
  {
   "cell_type": "code",
   "execution_count": null,
   "metadata": {},
   "outputs": [],
   "source": [
    "β_init = \n",
    "[4.435\n",
    "  0.006\n",
    " -0.081\n",
    "  0.007\n",
    "  0.754]"
   ]
  },
  {
   "cell_type": "code",
   "execution_count": null,
   "metadata": {},
   "outputs": [],
   "source": [
    "n = size(GRM, 1)\n",
    "I_n = Matrix{Float64}(I, n, n)\n",
    "\n",
    "totalvc = @vc [0.1][:, :] ⊗ GRM + [0.9][:, :] ⊗ I_n\n",
    "genetic_model = VCMTrait(Matrix(X_cov), β_init[:,:], totalvc)"
   ]
  },
  {
   "cell_type": "code",
   "execution_count": null,
   "metadata": {},
   "outputs": [],
   "source": [
    "β_full = vcat(β_init, chisq_coeff)"
   ]
  },
  {
   "cell_type": "code",
   "execution_count": null,
   "metadata": {},
   "outputs": [],
   "source": [
    "genetic_model_test = VCMTrait(Matrix(X_full), β_full[:, :], totalvc)"
   ]
  },
  {
   "cell_type": "markdown",
   "metadata": {},
   "source": [
    "## `Power Calculation:`\n",
    "\n",
    "We use the following function to generate the p-values for the simulated power example for the ordered multinomial regression model. We range effect sizes in the vector γs, which collects effect sizes from 0 to 1 in increments of 0.05. As expected, the power increases as the effect size increases. \n",
    "    "
   ]
  },
  {
   "cell_type": "code",
   "execution_count": null,
   "metadata": {},
   "outputs": [],
   "source": [
    "γs = collect(0.0:0.05:0.5)"
   ]
  },
  {
   "cell_type": "markdown",
   "metadata": {},
   "source": [
    "Suppose we want to see a particular SNP has an effect on a given phenotype after accounting for relatedness among individuals. Here we fit variance component model with a single SNP *s* as fixed effect. \n",
    "\n",
    "$$\\hspace{5em}  \\mathbf{y} = \\mathbf{X}\\mathbf{\\beta} + \\mathbf{G}_s \\gamma + \\mathbf{g} + \\mathbf{\\epsilon} \\hspace{5em} (1)$$\n",
    "\n",
    "\\begin{equation}\n",
    "\\begin{array}{ll}\n",
    "\\mathbf{g} \\sim N(\\mathbf{0}, \\sigma_g^2\\mathbf{\\Phi}) \\\\\n",
    "\\mathbf{\\epsilon} \\sim N(\\mathbf{0}, \\sigma_e^2\\mathbf{I})\n",
    "\\end{array}\n",
    "\\end{equation}\n",
    "\n",
    "where \n",
    "\n",
    "* $\\mathbf{y}$: phenotype \n",
    "\n",
    "\n",
    "\n",
    "and \n",
    "\n",
    "\n",
    "* Fixed effects:\n",
    "    * $\\mathbf{X}$: matrix of covariates including intercept\n",
    "    * $\\beta$: vector of covariate effects, including intercept\n",
    "    * $\\mathbf{G}_s$: genotype of SNP *s*\n",
    "    * $\\gamma$: (scalar) association parameter of interest, measuring the effect of genotype on phenotype  \n",
    "* Random effects:\n",
    "    * $\\mathbf{g}$: random vector of polygenic effects with $\\mathbf{g} \\sim N(\\mathbf{0}, \\sigma_g^2 \\mathbf{\\Phi})$\n",
    "        * $\\sigma_g^2$: additive genetic variance\n",
    "        * $\\mathbf{\\Phi}$: matrix of pairwise measures of genetic relatedness \n",
    "    * $\\epsilon$: random vector with $\\epsilon \\sim N(\\mathbf{0}, \\sigma_e^2\\mathbf{I})$\n",
    "        * $\\sigma_e^2$: non-genetic variance due to non-genetic effects assumed to be acting independently on individuals\n",
    "\n",
    "\n",
    "\n",
    "To test whether SNP *s* is associated with phenotype, we fit two models. First consider the model without SNP *s* as fixed effects (aka null model): \n",
    "\n",
    "$$\\hspace{5em}  \\mathbf{y} = \\mathbf{X}\\mathbf{\\beta} + \\mathbf{g} + \\mathbf{\\epsilon} \\hspace{5em} (2)$$\n",
    "\n",
    "and the model with SNP *s* as fixed effects (1). Then we can compare the log likelihood to see if there is improvement in the model fit with inclusion of the SNP of interest. "
   ]
  },
  {
   "cell_type": "markdown",
   "metadata": {},
   "source": [
    "Each column of this matrix represents each of the detected effect sizes, and each row of this matrix represents each simulation for that effect size. The user feeds into the function the number of simulations, the vector of effect sizes, the TraitSimulation.jl model object, and the random seed.\n",
    "\n",
    "For VCMTrait objects, we include additional power utilities that make the appropriate function calls to the [VarianceComponentModels](https://openmendel.github.io/VarianceComponentModels.jl/stable/) module to get the p-value obtained from testing the significance of the causal locus on the simulated trait.\n"
   ]
  },
  {
   "cell_type": "markdown",
   "metadata": {},
   "source": [
    "For each effect size in $\\gamma_s,$ in each column we have the p-values obtained from testing the significance of the causal locus `nsim = 100` times under the VCM, and the `randomseed = 1234`."
   ]
  },
  {
   "cell_type": "code",
   "execution_count": null,
   "metadata": {},
   "outputs": [],
   "source": [
    "nsim = 1000\n",
    "randomseed = 1234\n",
    "simulated_pvalues = power_simulation(nsim, γs, genetic_model_test, β_full[:, :], randomseed);\n",
    "rename!(DataFrame(simulated_pvalues), [Symbol(\"γs = $(γs[i])\") for i in 1:length(γs)])"
   ]
  },
  {
   "cell_type": "markdown",
   "metadata": {},
   "source": [
    "Now we find the power of each effect size in the user-specified γs vector at the specified alpha level of significance, and plot the trajectory using the Plots.jl package."
   ]
  },
  {
   "cell_type": "code",
   "execution_count": null,
   "metadata": {},
   "outputs": [],
   "source": [
    "α = 0.0000000005\n",
    "power_effectsize = power(simulated_pvalues, α)"
   ]
  },
  {
   "cell_type": "code",
   "execution_count": null,
   "metadata": {},
   "outputs": [],
   "source": [
    "plot(γs, power_effectsize, title = \"VCM Power\", label = \"maf = $maf_cs, alpha = $α\", lw = 3 , legend = :bottomright, legendfontsize= 9)  # plot power\n",
    "xlabel!(\"Detectable Effect Size\")\n",
    "hline!([.8], label = \"power = 80%\", lw = 3)\n",
    "vline!([.29], label = \"minimum detectable effect size = 0.29\")\n",
    "savefig(\"/home/sarahji/TraitSimulation.jl/docs/vcmpower.pdf\")"
   ]
  },
  {
   "cell_type": "markdown",
   "metadata": {},
   "source": [
    "## Citations: \n",
    "\n",
    "[1] Lange K, Papp JC, Sinsheimer JS, Sripracha R, Zhou H, Sobel EM (2013) Mendel: The Swiss army knife of genetic analysis programs. Bioinformatics 29:1568-1570.`\n",
    "\n",
    "\n",
    "[2] OPENMENDEL: a cooperative programming project for statistical genetics.\n",
    "[Hum Genet. 2019 Mar 26. doi: 10.1007/s00439-019-02001-z](https://www.ncbi.nlm.nih.gov/pubmed/?term=OPENMENDEL).\n",
    "\n",
    "[3] German, CA, Sinsheimer, JS, Klimentidis, YC, Zhou, H, Zhou, JJ. Ordered multinomial regression for genetic association analysis of ordinal phenotypes at Biobank scale. Genetic Epidemiology. 2019; 1– 13. https://doi.org/10.1002/gepi.22276\n",
    "\n",
    "[4] Lange K, Boehnke M (1983) Extensions to pedigree analysis. IV. Covariance component models for multivariate traits. Amer J Med Genet\n",
    "14:513–524"
   ]
  }
 ],
 "metadata": {
  "@webio": {
   "lastCommId": null,
   "lastKernelId": null
  },
  "kernelspec": {
   "display_name": "Julia 1.3.0",
   "language": "julia",
   "name": "julia-1.3"
  },
  "language_info": {
   "file_extension": ".jl",
   "mimetype": "application/julia",
   "name": "julia",
   "version": "1.3.0"
  },
  "toc": {
   "base_numbering": 1,
   "nav_menu": {},
   "number_sections": true,
   "sideBar": true,
   "skip_h1_title": false,
   "title_cell": "Table of Contents",
   "title_sidebar": "Contents",
   "toc_cell": false,
   "toc_position": {},
   "toc_section_display": true,
   "toc_window_display": false
  }
 },
 "nbformat": 4,
 "nbformat_minor": 2
}
