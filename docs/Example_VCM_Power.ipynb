{
 "cells": [
  {
   "cell_type": "markdown",
   "metadata": {},
   "source": [
    "# Trait Simulation - VCM Power Example\n",
    "\n",
    "Authors: Sarah Ji, Janet Sinsheimer, Kenneth Lange, Hua Zhou\n",
    "\n",
    "In this notebook we show how to use the `TraitSimulation.jl` package we illustrate how TraitSimulation.jl can easily simulate traits from genotype data, all within the OpenMendel universe. Operating within this universe brings potential advantages over the available software(s) when needed for downstream analysis or study design. \n",
    "\n",
    "Using just a few calls on the command line to the appropriate packages within the OpenMendel, we demonstrate in three easy examples the utilities of the TraitSimulation.jl package.\n",
    "\n",
    "Reference on Introduction to Variance Component Models in Genetic Setting, textbook link.\n",
    "\n",
    "\n",
    "## Background\n",
    "\n",
    "There is a lack of software available to geneticists who wish to calculate power and sample sizes in designing a study on genetics data. Typically, the study power depends on assumptions about the underlying disease model.  Many power calculating software tools operate as a black box and do not allow for customization.  To develop custom tests, researchers can develop their own simulation procedures to carry out power calculations.  One limitation with many existing methods for simulating traits conditional on genotypes is that these methods are limited to normally distributed traits and to fixed effects. \n",
    "\n",
    "This software package, TraitSimuliation.jl addresses the need for simulated trait data in genetic analyses.  This package generates data sets that will allow researchers to accurately check the validity of programs and to calculate power for their proposed studies. This package gives users the ability to easily simulate phenotypic traits under generalized linear models (GLMs) or variance component models (VCMs) conditional on PLINK formatted genotype data [3]. In addition, we include customized simulation utilities that accompany specific genetic analysis options in Open-Mendel; for example, ordered, multinomial traits. We demonstrate these simulation utilities on the example dataset described below.\n",
    "\n",
    "\n",
    "## Demonstration\n",
    "\n",
    "##### Example Data\n",
    "\n",
    "We use the OpenMendel package [SnpArrays.jl](https://openmendel.github.io/SnpArrays.jl/latest/) to both read in and write out PLINK formatted files. \n",
    "\n",
    "Based on several different features in the EHR including diabetes diagnostic codes, diabetes medication, hyperglycemia in blood results defined by HbA1c and fasting glucose levels, and presence of diabetes process of care codes, the algorithm categorizes individuals into different categories that relate to how likely they are to have diabetes. \n",
    "\n",
    "For convenience we use the common assumption that the residual covariance among two relatives can be captured by the additive genetic variance times twice the kinship coefficient.\n",
    "\n",
    "In each example the user can specify the simulation model parameters, along with the number of repitions for each simulation model as desired. By default, the simulation will return the result of a single simulation.\n"
   ]
  },
  {
   "cell_type": "markdown",
   "metadata": {},
   "source": [
    "### Double check that you are using Julia version 1.0 or higher by checking the machine information"
   ]
  },
  {
   "cell_type": "code",
   "execution_count": 28,
   "metadata": {},
   "outputs": [
    {
     "name": "stdout",
     "output_type": "stream",
     "text": [
      "Julia Version 1.3.0\n",
      "Commit 46ce4d7933 (2019-11-26 06:09 UTC)\n",
      "Platform Info:\n",
      "  OS: Linux (x86_64-pc-linux-gnu)\n",
      "  CPU: Intel(R) Core(TM) i9-9920X CPU @ 3.50GHz\n",
      "  WORD_SIZE: 64\n",
      "  LIBM: libopenlibm\n",
      "  LLVM: libLLVM-6.0.1 (ORCJIT, skylake)\n"
     ]
    }
   ],
   "source": [
    "versioninfo()"
   ]
  },
  {
   "cell_type": "code",
   "execution_count": 29,
   "metadata": {},
   "outputs": [],
   "source": [
    "using Random, Plots, DataFrames, LinearAlgebra, StatsFuns, CSV\n",
    "using SnpArrays, TraitSimulation, GLM, StatsBase, VarianceComponentModels\n",
    "Random.seed!(1234);"
   ]
  },
  {
   "cell_type": "markdown",
   "metadata": {},
   "source": [
    "# Reading genotype data using SnpArrays\n",
    "\n",
    "First use `SnpArrays.jl` to read in the genotype data. We use PLINK formatted data with the same prefixes for the .bim, .fam, .bed files.\n",
    "\n",
    "SnpArrays is a very useful utility and can do a lot more than just read in the data. More information about all the functionality of SnpArrays can be found at:\n",
    "https://openmendel.github.io/SnpArrays.jl/latest/\n",
    "\n",
    "As missing genotypes are often due to problems making the calls, the called genotypes at a marker with too much missing genotypes are potentially unreliable. By default, SnpArrays filters to keep only the genotypes with success rates greater than 0.98 and the minimum minor allele frequency to be 0.01. If the user wishes to change the stringency, change the number given in filter according to [SnpArrays](https://openmendel.github.io/SnpArrays.jl/latest/#Fitering-1)."
   ]
  },
  {
   "cell_type": "code",
   "execution_count": 33,
   "metadata": {},
   "outputs": [
    {
     "data": {
      "text/plain": [
       "3754×470228 SnpArray:\n",
       " 0x03  0x03  0x03  0x02  0x03  0x03  …  0x00  0x00  0x00  0x00  0x00  0x00\n",
       " 0x02  0x03  0x02  0x03  0x03  0x02     0x00  0x00  0x00  0x00  0x00  0x00\n",
       " 0x03  0x03  0x03  0x03  0x03  0x03     0x00  0x00  0x00  0x00  0x00  0x00\n",
       " 0x02  0x02  0x03  0x03  0x03  0x03     0x00  0x00  0x00  0x00  0x00  0x00\n",
       " 0x03  0x03  0x03  0x02  0x03  0x03     0x00  0x00  0x00  0x00  0x00  0x00\n",
       " 0x02  0x03  0x02  0x03  0x03  0x02  …  0x00  0x00  0x00  0x00  0x00  0x00\n",
       " 0x03  0x03  0x03  0x03  0x03  0x03     0x00  0x00  0x00  0x00  0x00  0x00\n",
       " 0x02  0x03  0x02  0x03  0x03  0x02     0x00  0x00  0x00  0x00  0x00  0x00\n",
       " 0x02  0x03  0x02  0x03  0x03  0x02     0x00  0x00  0x00  0x00  0x00  0x00\n",
       " 0x03  0x03  0x03  0x03  0x03  0x03     0x00  0x00  0x00  0x00  0x00  0x00\n",
       " 0x03  0x03  0x03  0x03  0x03  0x03  …  0x00  0x00  0x00  0x00  0x00  0x00\n",
       " 0x03  0x03  0x03  0x03  0x03  0x03     0x00  0x00  0x00  0x00  0x00  0x00\n",
       " 0x02  0x03  0x02  0x03  0x03  0x02     0x00  0x00  0x00  0x00  0x00  0x00\n",
       "    ⋮                             ⋮  ⋱                       ⋮            \n",
       " 0x03  0x03  0x03  0x03  0x03  0x03     0x00  0x00  0x00  0x00  0x00  0x00\n",
       " 0x03  0x03  0x03  0x03  0x03  0x03     0x00  0x00  0x00  0x00  0x00  0x00\n",
       " 0x03  0x03  0x03  0x02  0x03  0x03     0x00  0x00  0x00  0x00  0x00  0x00\n",
       " 0x03  0x03  0x03  0x03  0x03  0x03  …  0x00  0x00  0x00  0x00  0x00  0x00\n",
       " 0x02  0x02  0x03  0x02  0x03  0x03     0x00  0x00  0x00  0x00  0x00  0x00\n",
       " 0x03  0x03  0x03  0x03  0x03  0x03     0x00  0x00  0x00  0x00  0x00  0x00\n",
       " 0x03  0x03  0x03  0x03  0x03  0x03     0x00  0x00  0x00  0x00  0x00  0x00\n",
       " 0x02  0x03  0x02  0x03  0x03  0x02     0x00  0x00  0x00  0x00  0x00  0x00\n",
       " 0x03  0x03  0x03  0x03  0x03  0x03  …  0x00  0x00  0x00  0x00  0x00  0x00\n",
       " 0x03  0x03  0x03  0x02  0x03  0x03     0x00  0x00  0x00  0x00  0x00  0x00\n",
       " 0x02  0x03  0x02  0x03  0x03  0x02     0x00  0x00  0x00  0x00  0x00  0x00\n",
       " 0x03  0x03  0x03  0x02  0x03  0x03     0x00  0x00  0x00  0x00  0x00  0x00"
      ]
     },
     "execution_count": 33,
     "metadata": {},
     "output_type": "execute_result"
    }
   ],
   "source": [
    "filename = \"fullhypertensionbad\"\n",
    "full_snps = SnpArray(\"fullhypertensionbad.bed\", 3754)"
   ]
  },
  {
   "cell_type": "code",
   "execution_count": 31,
   "metadata": {},
   "outputs": [
    {
     "data": {
      "text/plain": [
       "SnpData(people: 3754, snps: 470228,\n",
       "snp_info: \n",
       "│ Row │ chromosome │ snpid       │ genetic_distance │ position │ allele1      │ allele2      │\n",
       "│     │ String     │ String      │ Float64          │ Int64    │ Categorical… │ Categorical… │\n",
       "├─────┼────────────┼─────────────┼──────────────────┼──────────┼──────────────┼──────────────┤\n",
       "│ 1   │ 1          │ rs3131972   │ 0.0              │ 752721   │ A            │ G            │\n",
       "│ 2   │ 1          │ rs12184325  │ 0.0              │ 754105   │ T            │ C            │\n",
       "│ 3   │ 1          │ rs3131962   │ 0.0              │ 756604   │ A            │ G            │\n",
       "│ 4   │ 1          │ rs12562034  │ 0.0              │ 768448   │ A            │ G            │\n",
       "│ 5   │ 1          │ rs116390263 │ 0.0              │ 772927   │ T            │ C            │\n",
       "│ 6   │ 1          │ rs4040617   │ 0.0              │ 779322   │ G            │ A            │\n",
       "…,\n",
       "person_info: \n",
       "│ Row │ fid       │ iid       │ father    │ mother    │ sex       │ phenotype │\n",
       "│     │ Abstract… │ Abstract… │ Abstract… │ Abstract… │ Abstract… │ Abstract… │\n",
       "├─────┼───────────┼───────────┼───────────┼───────────┼───────────┼───────────┤\n",
       "│ 1   │ 1002101   │ 1002101   │ 0         │ 0         │ 1         │ -9        │\n",
       "│ 2   │ 1004064   │ 1004064   │ 0         │ 0         │ 1         │ -9        │\n",
       "│ 3   │ 1004240   │ 1004240   │ 0         │ 0         │ 2         │ -9        │\n",
       "│ 4   │ 1004303   │ 1004303   │ 0         │ 0         │ 1         │ -9        │\n",
       "│ 5   │ 1007498   │ 1007498   │ 0         │ 0         │ 1         │ -9        │\n",
       "│ 6   │ 1008785   │ 1008785   │ 0         │ 0         │ 1         │ -9        │\n",
       "…,\n",
       "srcbed: fullhypertensionbad.bed\n",
       "srcbim: fullhypertensionbad.bim\n",
       "srcfam: fullhypertensionbad.fam\n",
       ")"
      ]
     },
     "execution_count": 31,
     "metadata": {},
     "output_type": "execute_result"
    }
   ],
   "source": [
    "sample_snp_data = SnpData(filename)"
   ]
  },
  {
   "cell_type": "markdown",
   "metadata": {},
   "source": [
    "The published hypertension GWAS analysis includes the following covariates: sex, center, age, age2, BMI, and the top ten principal components to adjust for ancestry/relatedness."
   ]
  },
  {
   "cell_type": "markdown",
   "metadata": {},
   "source": [
    "\n",
    "# Construct Genetic Model: (VCM Parameter Specification)\n",
    "\n",
    "Say that you have the the classical setting in genetics, two variance components, one for the additive genetic variance and one for the environmental variance. For simulating $d$ correlated traits for $n$ related people under the VCM, users can specify their covariance structures as follows.\n",
    "\n",
    "$$Y_{n \\times d} \\sim \\text{MatrixNormal}(\\mathbf{M}_{n \\times d} = XB, \\Omega_{nd \\times nd} = \\Sigma_A \\otimes V_A + \\Sigma_E \\otimes V_E)$$"
   ]
  },
  {
   "cell_type": "code",
   "execution_count": 34,
   "metadata": {},
   "outputs": [
    {
     "data": {
      "text/plain": [
       "3754×1 view(::SnpArray, :, [7]) with eltype UInt8:\n",
       " 0x02\n",
       " 0x02\n",
       " 0x03\n",
       " 0x02\n",
       " 0x02\n",
       " 0x02\n",
       " 0x03\n",
       " 0x02\n",
       " 0x03\n",
       " 0x03\n",
       " 0x03\n",
       " 0x03\n",
       " 0x02\n",
       "    ⋮\n",
       " 0x03\n",
       " 0x03\n",
       " 0x02\n",
       " 0x03\n",
       " 0x03\n",
       " 0x03\n",
       " 0x03\n",
       " 0x02\n",
       " 0x03\n",
       " 0x02\n",
       " 0x02\n",
       " 0x03"
      ]
     },
     "execution_count": 34,
     "metadata": {},
     "output_type": "execute_result"
    }
   ],
   "source": [
    "bimfile = sample_snp_data.snp_info # store the snp_info with the snp names\n",
    "snpid  = bimfile[!, :snpid] # store the snp names in the snpid vector\n",
    "causal_snp_index = findall(x -> x == \"rs11240779\", snpid); # find the index of the snp of interest by snpid\n",
    "causal_snp = @view full_snps[:, causal_snp_index]"
   ]
  },
  {
   "cell_type": "markdown",
   "metadata": {},
   "source": [
    "Here are the minor allele frequencies"
   ]
  },
  {
   "cell_type": "code",
   "execution_count": 40,
   "metadata": {},
   "outputs": [
    {
     "data": {
      "text/plain": [
       "1-element Array{Float64,1}:\n",
       " 0.22996515679442509"
      ]
     },
     "execution_count": 40,
     "metadata": {},
     "output_type": "execute_result"
    }
   ],
   "source": [
    "maf_cs = maf(@view full_snps[:, causal_snp_index])[:]"
   ]
  },
  {
   "cell_type": "code",
   "execution_count": 42,
   "metadata": {},
   "outputs": [
    {
     "data": {
      "text/plain": [
       "1-element Array{Float64,1}:\n",
       " 0.742"
      ]
     },
     "execution_count": 42,
     "metadata": {},
     "output_type": "execute_result"
    }
   ],
   "source": [
    "# Generating Effect Sizes from Chisquared(df = 1) density\n",
    "chisq_coeff = round.(chisqpdf.(1, maf_cs), digits = 3)"
   ]
  },
  {
   "cell_type": "code",
   "execution_count": 44,
   "metadata": {},
   "outputs": [
    {
     "data": {
      "text/plain": [
       "3754×3754 Array{Float64,2}:\n",
       "  0.502981      0.000936836   0.000954635  …  -0.00105728    0.000601558\n",
       "  0.000936836   0.49314      -0.00087355      -0.000417225  -0.00400204 \n",
       "  0.000954635  -0.00087355    0.499788         0.00158897   -0.000694345\n",
       " -0.00276147    0.000671317  -0.00228694       0.000548168   0.0027718  \n",
       "  0.0036049    -0.000643086  -0.00354798       0.00240853   -0.00151607 \n",
       " -0.00378644    0.00418099   -0.00077422   …  -0.000466577  -0.000401483\n",
       " -0.00432779   -0.00593195    0.00209739       0.00366185    0.00421288 \n",
       "  0.00043021   -0.000119469  -8.9781e-5       -0.00218583   -0.00199718 \n",
       " -4.86011e-5   -0.00306901   -0.00267965      -0.000654534   0.00192883 \n",
       "  0.00242187    0.00625245   -0.00419928      -0.00108094   -0.00293948 \n",
       "  0.00104979    0.00316535    0.0013463    …   0.00493102   -0.00126338 \n",
       "  0.00236206   -0.000116416   0.00203903      -0.00178021   -0.00293362 \n",
       "  0.0041086    -0.00485801    0.00125295       0.000377517   0.000547523\n",
       "  ⋮                                        ⋱                            \n",
       " -0.00198018    0.0013257     0.000243762     -0.00207644    0.000868642\n",
       "  0.00156869    0.00423431   -0.00298936      -0.000200938  -4.68041e-5 \n",
       "  0.00147685    0.000519994   0.00141806       0.00191505   -0.00283342 \n",
       " -0.000906029  -8.77022e-5   -0.00273402   …  -0.00129292   -0.00225084 \n",
       " -0.00189921   -0.000499237   5.50458e-5      -0.00524164    0.00424343 \n",
       "  0.000374031  -0.000757314   0.00505823       0.00204259   -6.6071e-5  \n",
       "  0.00120754    0.00768422   -0.00221222       0.000715254  -0.00391431 \n",
       " -0.00593725    0.00622705   -0.00283901       0.00190634   -0.00425754 \n",
       " -0.000201057   0.00259308    0.000502909  …   0.00151893    0.00316652 \n",
       "  0.00112791    0.00617501   -0.00540796       0.00141273    0.00110103 \n",
       " -0.00105728   -0.000417225   0.00158897       0.500917     -0.00293131 \n",
       "  0.000601558  -0.00400204   -0.000694345     -0.00293131    0.491996   "
      ]
     },
     "execution_count": 44,
     "metadata": {},
     "output_type": "execute_result"
    }
   ],
   "source": [
    "GRM = grm(full_snps, minmaf = 0.05)"
   ]
  },
  {
   "cell_type": "markdown",
   "metadata": {},
   "source": [
    "# Power Calculation\n",
    "\n",
    "Now we show how to simulate from customized simulation models that accompany specific genetic analysis options in OpenMendel; for example, ordered, multinomial traits and Variance Component Models.\n",
    "\n",
    "\n",
    "This example illustrates the use of the simulations to generates data sets allowing researchers to accurately check the validity of programs and to calculate power for their proposed studies. \n",
    "\n",
    "We illustrate this example in three digestable steps: \n",
    "   * The first by simulating genotypes and covariate values representative for our study population.\n",
    "   * Carry over the simulated design matrix from (1) to create the OrderedMultinomialTrait model object.\n",
    "   * Simulate off the OrderedMultinomialTrait model object created in (2) and run the power analyses for the desired significance level.\n"
   ]
  },
  {
   "cell_type": "markdown",
   "metadata": {},
   "source": [
    "### convert\n",
    "By default `convert` function translates genotypes according to the *additive* SNP model, which essentially counts the number of **A2** allele (0, 1 or 2) per genotype. Other SNP models are *dominant* and *recessive*, both in terms of the **A2** allele.\n",
    "\n",
    "| Genotype | `SnpArray` | `model=ADDITIVE_MODEL` | `model=DOMINANT_MODEL` | `model=RECESSIVE_MODEL` |    \n",
    "|:---:|:---:|:---:|:---:|:---:|  \n",
    "| A1,A1 | 0x00 | 0 | 0 | 0 |  \n",
    "| missing | 0x01 | NaN | NaN | NaN |\n",
    "| A1,A2 | 0x02 | 1 | 1 | 0 |  \n",
    "| A2,A2 | 0x03 | 2 | 1 | 1 |  \n",
    "\n",
    "If desired, the user can decide to specify alternative model parameters found in the [SnpArrays](https://openmendel.github.io/SnpArrays.jl/latest/#convert-and-copyto!-1) documentation."
   ]
  },
  {
   "cell_type": "code",
   "execution_count": 57,
   "metadata": {},
   "outputs": [
    {
     "data": {
      "text/plain": [
       "3754-element Array{Float64,1}:\n",
       " 2.0\n",
       " 2.0\n",
       " 3.0\n",
       " 2.0\n",
       " 2.0\n",
       " 2.0\n",
       " 3.0\n",
       " 2.0\n",
       " 3.0\n",
       " 3.0\n",
       " 3.0\n",
       " 3.0\n",
       " 2.0\n",
       " ⋮  \n",
       " 3.0\n",
       " 3.0\n",
       " 2.0\n",
       " 3.0\n",
       " 3.0\n",
       " 3.0\n",
       " 3.0\n",
       " 2.0\n",
       " 3.0\n",
       " 2.0\n",
       " 2.0\n",
       " 3.0"
      ]
     },
     "execution_count": 57,
     "metadata": {},
     "output_type": "execute_result"
    }
   ],
   "source": [
    "locus = convert(Vector{Float64}, causal_snp[:])"
   ]
  },
  {
   "cell_type": "markdown",
   "metadata": {},
   "source": [
    "## Design Matrix\n",
    "\n",
    "Now we concatenate the simulated causal locus, transformed to Float64, to the other covariates we want to control for in the study design."
   ]
  },
  {
   "cell_type": "markdown",
   "metadata": {},
   "source": [
    "The published hypertension GWAS analysis includes the following covariates: sex, center, age, age2, BMI, and the top ten principal components to adjust for ancestry/relatedness."
   ]
  },
  {
   "cell_type": "code",
   "execution_count": 58,
   "metadata": {},
   "outputs": [
    {
     "data": {
      "text/html": [
       "<table class=\"data-frame\"><thead><tr><th></th><th>FID</th><th>IID</th><th>sex</th><th>center</th><th>age</th><th>age2</th><th>chip</th><th>bmi</th><th>hyptens</th><th>AveSBP</th></tr><tr><th></th><th>Int64</th><th>Int64</th><th>Int64</th><th>Int64</th><th>Int64</th><th>Int64</th><th>String</th><th>Float64</th><th>Int64</th><th>Float64</th></tr></thead><tbody><p>3,754 rows × 10 columns</p><tr><th>1</th><td>1000019</td><td>1000019</td><td>1</td><td>11016</td><td>62</td><td>3844</td><td>ChipOne</td><td>29.3424</td><td>0</td><td>118.0</td></tr><tr><th>2</th><td>1000078</td><td>1000078</td><td>1</td><td>11009</td><td>51</td><td>2601</td><td>ChipOne</td><td>31.0375</td><td>2</td><td>134.0</td></tr><tr><th>3</th><td>1000081</td><td>1000081</td><td>1</td><td>11014</td><td>47</td><td>2209</td><td>ChipOne</td><td>23.335</td><td>2</td><td>132.5</td></tr><tr><th>4</th><td>1000105</td><td>1000105</td><td>0</td><td>11010</td><td>42</td><td>1764</td><td>ChipOne</td><td>21.5793</td><td>0</td><td>104.5</td></tr><tr><th>5</th><td>1000112</td><td>1000112</td><td>1</td><td>11021</td><td>55</td><td>3025</td><td>ChipOne</td><td>26.7327</td><td>2</td><td>139.0</td></tr><tr><th>6</th><td>1000129</td><td>1000129</td><td>1</td><td>11009</td><td>63</td><td>3969</td><td>ChipOne</td><td>26.7034</td><td>3</td><td>141.0</td></tr><tr><th>7</th><td>1000141</td><td>1000141</td><td>0</td><td>11008</td><td>51</td><td>2601</td><td>ChipOne</td><td>35.1706</td><td>1</td><td>128.0</td></tr><tr><th>8</th><td>1000164</td><td>1000164</td><td>0</td><td>11011</td><td>45</td><td>2025</td><td>ChipOne</td><td>25.235</td><td>1</td><td>122.0</td></tr><tr><th>9</th><td>1000224</td><td>1000224</td><td>1</td><td>11010</td><td>52</td><td>2704</td><td>ChipOne</td><td>31.6387</td><td>3</td><td>158.0</td></tr><tr><th>10</th><td>1000236</td><td>1000236</td><td>1</td><td>11011</td><td>46</td><td>2116</td><td>ChipOne</td><td>22.6394</td><td>3</td><td>153.5</td></tr><tr><th>11</th><td>1000287</td><td>1000287</td><td>0</td><td>11008</td><td>62</td><td>3844</td><td>ChipOne</td><td>21.9137</td><td>2</td><td>140.0</td></tr><tr><th>12</th><td>1000304</td><td>1000304</td><td>0</td><td>11004</td><td>63</td><td>3969</td><td>ChipOne</td><td>24.7957</td><td>3</td><td>157.0</td></tr><tr><th>13</th><td>1000323</td><td>1000323</td><td>0</td><td>11007</td><td>58</td><td>3364</td><td>ChipOne</td><td>34.4386</td><td>3</td><td>133.0</td></tr><tr><th>14</th><td>1000340</td><td>1000340</td><td>1</td><td>11020</td><td>50</td><td>2500</td><td>ChipOne</td><td>20.5643</td><td>1</td><td>120.5</td></tr><tr><th>15</th><td>1000357</td><td>1000357</td><td>1</td><td>11008</td><td>64</td><td>4096</td><td>ChipOne</td><td>25.1148</td><td>3</td><td>168.0</td></tr><tr><th>16</th><td>1000408</td><td>1000408</td><td>0</td><td>11020</td><td>49</td><td>2401</td><td>ChipOne</td><td>20.3315</td><td>0</td><td>113.0</td></tr><tr><th>17</th><td>1000415</td><td>1000415</td><td>1</td><td>11017</td><td>44</td><td>1936</td><td>ChipOne</td><td>21.2094</td><td>2</td><td>128.5</td></tr><tr><th>18</th><td>1000421</td><td>1000421</td><td>1</td><td>11010</td><td>42</td><td>1764</td><td>ChipOne</td><td>25.9612</td><td>0</td><td>118.0</td></tr><tr><th>19</th><td>1000439</td><td>1000439</td><td>0</td><td>11018</td><td>50</td><td>2500</td><td>ChipOne</td><td>29.1797</td><td>1</td><td>124.0</td></tr><tr><th>20</th><td>1000443</td><td>1000443</td><td>1</td><td>11005</td><td>44</td><td>1936</td><td>ChipOne</td><td>24.9634</td><td>2</td><td>131.5</td></tr><tr><th>21</th><td>1000466</td><td>1000466</td><td>1</td><td>11008</td><td>56</td><td>3136</td><td>ChipOne</td><td>29.5254</td><td>3</td><td>154.0</td></tr><tr><th>22</th><td>1000477</td><td>1000477</td><td>1</td><td>11007</td><td>51</td><td>2601</td><td>ChipOne</td><td>30.4709</td><td>2</td><td>131.0</td></tr><tr><th>23</th><td>1000482</td><td>1000482</td><td>1</td><td>11007</td><td>55</td><td>3025</td><td>ChipOne</td><td>35.7345</td><td>2</td><td>138.5</td></tr><tr><th>24</th><td>1000516</td><td>1000516</td><td>1</td><td>11002</td><td>60</td><td>3600</td><td>ChipOne</td><td>26.2784</td><td>3</td><td>157.5</td></tr><tr><th>25</th><td>1000551</td><td>1000551</td><td>0</td><td>11018</td><td>53</td><td>2809</td><td>ChipOne</td><td>32.6294</td><td>3</td><td>174.0</td></tr><tr><th>26</th><td>1000568</td><td>1000568</td><td>0</td><td>11014</td><td>64</td><td>4096</td><td>ChipOne</td><td>26.2469</td><td>3</td><td>140.5</td></tr><tr><th>27</th><td>1000573</td><td>1000573</td><td>0</td><td>11010</td><td>54</td><td>2916</td><td>ChipOne</td><td>26.4453</td><td>3</td><td>139.5</td></tr><tr><th>28</th><td>1000584</td><td>1000584</td><td>1</td><td>11007</td><td>59</td><td>3481</td><td>ChipOne</td><td>25.3388</td><td>2</td><td>135.5</td></tr><tr><th>29</th><td>1000595</td><td>1000595</td><td>0</td><td>11004</td><td>64</td><td>4096</td><td>ChipOne</td><td>30.449</td><td>3</td><td>152.5</td></tr><tr><th>30</th><td>1000609</td><td>1000609</td><td>1</td><td>11021</td><td>52</td><td>2704</td><td>ChipOne</td><td>33.4969</td><td>2</td><td>129.5</td></tr><tr><th>&vellip;</th><td>&vellip;</td><td>&vellip;</td><td>&vellip;</td><td>&vellip;</td><td>&vellip;</td><td>&vellip;</td><td>&vellip;</td><td>&vellip;</td><td>&vellip;</td><td>&vellip;</td></tr></tbody></table>"
      ],
      "text/latex": [
       "\\begin{tabular}{r|cccccccccc}\n",
       "\t& FID & IID & sex & center & age & age2 & chip & bmi & hyptens & AveSBP\\\\\n",
       "\t\\hline\n",
       "\t& Int64 & Int64 & Int64 & Int64 & Int64 & Int64 & String & Float64 & Int64 & Float64\\\\\n",
       "\t\\hline\n",
       "\t1 & 1000019 & 1000019 & 1 & 11016 & 62 & 3844 & ChipOne & 29.3424 & 0 & 118.0 \\\\\n",
       "\t2 & 1000078 & 1000078 & 1 & 11009 & 51 & 2601 & ChipOne & 31.0375 & 2 & 134.0 \\\\\n",
       "\t3 & 1000081 & 1000081 & 1 & 11014 & 47 & 2209 & ChipOne & 23.335 & 2 & 132.5 \\\\\n",
       "\t4 & 1000105 & 1000105 & 0 & 11010 & 42 & 1764 & ChipOne & 21.5793 & 0 & 104.5 \\\\\n",
       "\t5 & 1000112 & 1000112 & 1 & 11021 & 55 & 3025 & ChipOne & 26.7327 & 2 & 139.0 \\\\\n",
       "\t6 & 1000129 & 1000129 & 1 & 11009 & 63 & 3969 & ChipOne & 26.7034 & 3 & 141.0 \\\\\n",
       "\t7 & 1000141 & 1000141 & 0 & 11008 & 51 & 2601 & ChipOne & 35.1706 & 1 & 128.0 \\\\\n",
       "\t8 & 1000164 & 1000164 & 0 & 11011 & 45 & 2025 & ChipOne & 25.235 & 1 & 122.0 \\\\\n",
       "\t9 & 1000224 & 1000224 & 1 & 11010 & 52 & 2704 & ChipOne & 31.6387 & 3 & 158.0 \\\\\n",
       "\t10 & 1000236 & 1000236 & 1 & 11011 & 46 & 2116 & ChipOne & 22.6394 & 3 & 153.5 \\\\\n",
       "\t11 & 1000287 & 1000287 & 0 & 11008 & 62 & 3844 & ChipOne & 21.9137 & 2 & 140.0 \\\\\n",
       "\t12 & 1000304 & 1000304 & 0 & 11004 & 63 & 3969 & ChipOne & 24.7957 & 3 & 157.0 \\\\\n",
       "\t13 & 1000323 & 1000323 & 0 & 11007 & 58 & 3364 & ChipOne & 34.4386 & 3 & 133.0 \\\\\n",
       "\t14 & 1000340 & 1000340 & 1 & 11020 & 50 & 2500 & ChipOne & 20.5643 & 1 & 120.5 \\\\\n",
       "\t15 & 1000357 & 1000357 & 1 & 11008 & 64 & 4096 & ChipOne & 25.1148 & 3 & 168.0 \\\\\n",
       "\t16 & 1000408 & 1000408 & 0 & 11020 & 49 & 2401 & ChipOne & 20.3315 & 0 & 113.0 \\\\\n",
       "\t17 & 1000415 & 1000415 & 1 & 11017 & 44 & 1936 & ChipOne & 21.2094 & 2 & 128.5 \\\\\n",
       "\t18 & 1000421 & 1000421 & 1 & 11010 & 42 & 1764 & ChipOne & 25.9612 & 0 & 118.0 \\\\\n",
       "\t19 & 1000439 & 1000439 & 0 & 11018 & 50 & 2500 & ChipOne & 29.1797 & 1 & 124.0 \\\\\n",
       "\t20 & 1000443 & 1000443 & 1 & 11005 & 44 & 1936 & ChipOne & 24.9634 & 2 & 131.5 \\\\\n",
       "\t21 & 1000466 & 1000466 & 1 & 11008 & 56 & 3136 & ChipOne & 29.5254 & 3 & 154.0 \\\\\n",
       "\t22 & 1000477 & 1000477 & 1 & 11007 & 51 & 2601 & ChipOne & 30.4709 & 2 & 131.0 \\\\\n",
       "\t23 & 1000482 & 1000482 & 1 & 11007 & 55 & 3025 & ChipOne & 35.7345 & 2 & 138.5 \\\\\n",
       "\t24 & 1000516 & 1000516 & 1 & 11002 & 60 & 3600 & ChipOne & 26.2784 & 3 & 157.5 \\\\\n",
       "\t25 & 1000551 & 1000551 & 0 & 11018 & 53 & 2809 & ChipOne & 32.6294 & 3 & 174.0 \\\\\n",
       "\t26 & 1000568 & 1000568 & 0 & 11014 & 64 & 4096 & ChipOne & 26.2469 & 3 & 140.5 \\\\\n",
       "\t27 & 1000573 & 1000573 & 0 & 11010 & 54 & 2916 & ChipOne & 26.4453 & 3 & 139.5 \\\\\n",
       "\t28 & 1000584 & 1000584 & 1 & 11007 & 59 & 3481 & ChipOne & 25.3388 & 2 & 135.5 \\\\\n",
       "\t29 & 1000595 & 1000595 & 0 & 11004 & 64 & 4096 & ChipOne & 30.449 & 3 & 152.5 \\\\\n",
       "\t30 & 1000609 & 1000609 & 1 & 11021 & 52 & 2704 & ChipOne & 33.4969 & 2 & 129.5 \\\\\n",
       "\t$\\dots$ & $\\dots$ & $\\dots$ & $\\dots$ & $\\dots$ & $\\dots$ & $\\dots$ & $\\dots$ & $\\dots$ & $\\dots$ & $\\dots$ \\\\\n",
       "\\end{tabular}\n"
      ],
      "text/plain": [
       "3754×10 DataFrame. Omitted printing of 3 columns\n",
       "│ Row  │ FID     │ IID     │ sex   │ center │ age   │ age2  │ chip    │\n",
       "│      │ \u001b[90mInt64\u001b[39m   │ \u001b[90mInt64\u001b[39m   │ \u001b[90mInt64\u001b[39m │ \u001b[90mInt64\u001b[39m  │ \u001b[90mInt64\u001b[39m │ \u001b[90mInt64\u001b[39m │ \u001b[90mString\u001b[39m  │\n",
       "├──────┼─────────┼─────────┼───────┼────────┼───────┼───────┼─────────┤\n",
       "│ 1    │ 1000019 │ 1000019 │ 1     │ 11016  │ 62    │ 3844  │ ChipOne │\n",
       "│ 2    │ 1000078 │ 1000078 │ 1     │ 11009  │ 51    │ 2601  │ ChipOne │\n",
       "│ 3    │ 1000081 │ 1000081 │ 1     │ 11014  │ 47    │ 2209  │ ChipOne │\n",
       "│ 4    │ 1000105 │ 1000105 │ 0     │ 11010  │ 42    │ 1764  │ ChipOne │\n",
       "│ 5    │ 1000112 │ 1000112 │ 1     │ 11021  │ 55    │ 3025  │ ChipOne │\n",
       "│ 6    │ 1000129 │ 1000129 │ 1     │ 11009  │ 63    │ 3969  │ ChipOne │\n",
       "│ 7    │ 1000141 │ 1000141 │ 0     │ 11008  │ 51    │ 2601  │ ChipOne │\n",
       "│ 8    │ 1000164 │ 1000164 │ 0     │ 11011  │ 45    │ 2025  │ ChipOne │\n",
       "│ 9    │ 1000224 │ 1000224 │ 1     │ 11010  │ 52    │ 2704  │ ChipOne │\n",
       "│ 10   │ 1000236 │ 1000236 │ 1     │ 11011  │ 46    │ 2116  │ ChipOne │\n",
       "⋮\n",
       "│ 3744 │ 1103064 │ 1103064 │ 0     │ 11016  │ 65    │ 4225  │ ChipOne │\n",
       "│ 3745 │ 1103107 │ 1103107 │ 0     │ 11009  │ 49    │ 2401  │ ChipOne │\n",
       "│ 3746 │ 1103163 │ 1103163 │ 1     │ 11003  │ 43    │ 1849  │ ChipOne │\n",
       "│ 3747 │ 1103178 │ 1103178 │ 1     │ 11007  │ 54    │ 2916  │ ChipOne │\n",
       "│ 3748 │ 1103181 │ 1103181 │ 1     │ 11004  │ 59    │ 3481  │ ChipOne │\n",
       "│ 3749 │ 1103231 │ 1103231 │ 1     │ 11011  │ 66    │ 4356  │ ChipOne │\n",
       "│ 3750 │ 1103296 │ 1103296 │ 0     │ 11011  │ 61    │ 3721  │ ChipOne │\n",
       "│ 3751 │ 1103303 │ 1103303 │ 0     │ 11010  │ 65    │ 4225  │ ChipOne │\n",
       "│ 3752 │ 1103348 │ 1103348 │ 0     │ 11003  │ 51    │ 2601  │ ChipOne │\n",
       "│ 3753 │ 1103372 │ 1103372 │ 1     │ 11011  │ 64    │ 4096  │ ChipOne │\n",
       "│ 3754 │ 1103391 │ 1103391 │ 0     │ 11011  │ 61    │ 3721  │ ChipOne │"
      ]
     },
     "execution_count": 58,
     "metadata": {},
     "output_type": "execute_result"
    }
   ],
   "source": [
    "n = length(locus)\n",
    "published_covariate_data = CSV.read(\"/mnt/UKBiobank/ukbdata/ordinalanalysis/Covariate_Final.csv\")\n",
    "covariates = published_covariate_data[1:n, 1:10]"
   ]
  },
  {
   "cell_type": "code",
   "execution_count": 59,
   "metadata": {},
   "outputs": [
    {
     "data": {
      "text/html": [
       "<table class=\"data-frame\"><thead><tr><th></th><th>sex</th><th>center</th><th>age</th><th>age2</th><th>bmi</th><th>locus</th></tr><tr><th></th><th>Float64</th><th>Int64</th><th>Float64</th><th>Float64</th><th>Float64</th><th>Float64</th></tr></thead><tbody><p>3,754 rows × 6 columns</p><tr><th>1</th><td>1.0</td><td>11016</td><td>62.0</td><td>3844.0</td><td>29.3424</td><td>2.0</td></tr><tr><th>2</th><td>1.0</td><td>11009</td><td>51.0</td><td>2601.0</td><td>31.0375</td><td>2.0</td></tr><tr><th>3</th><td>1.0</td><td>11014</td><td>47.0</td><td>2209.0</td><td>23.335</td><td>3.0</td></tr><tr><th>4</th><td>0.0</td><td>11010</td><td>42.0</td><td>1764.0</td><td>21.5793</td><td>2.0</td></tr><tr><th>5</th><td>1.0</td><td>11021</td><td>55.0</td><td>3025.0</td><td>26.7327</td><td>2.0</td></tr><tr><th>6</th><td>1.0</td><td>11009</td><td>63.0</td><td>3969.0</td><td>26.7034</td><td>2.0</td></tr><tr><th>7</th><td>0.0</td><td>11008</td><td>51.0</td><td>2601.0</td><td>35.1706</td><td>3.0</td></tr><tr><th>8</th><td>0.0</td><td>11011</td><td>45.0</td><td>2025.0</td><td>25.235</td><td>2.0</td></tr><tr><th>9</th><td>1.0</td><td>11010</td><td>52.0</td><td>2704.0</td><td>31.6387</td><td>3.0</td></tr><tr><th>10</th><td>1.0</td><td>11011</td><td>46.0</td><td>2116.0</td><td>22.6394</td><td>3.0</td></tr><tr><th>11</th><td>0.0</td><td>11008</td><td>62.0</td><td>3844.0</td><td>21.9137</td><td>3.0</td></tr><tr><th>12</th><td>0.0</td><td>11004</td><td>63.0</td><td>3969.0</td><td>24.7957</td><td>3.0</td></tr><tr><th>13</th><td>0.0</td><td>11007</td><td>58.0</td><td>3364.0</td><td>34.4386</td><td>2.0</td></tr><tr><th>14</th><td>1.0</td><td>11020</td><td>50.0</td><td>2500.0</td><td>20.5643</td><td>3.0</td></tr><tr><th>15</th><td>1.0</td><td>11008</td><td>64.0</td><td>4096.0</td><td>25.1148</td><td>2.0</td></tr><tr><th>16</th><td>0.0</td><td>11020</td><td>49.0</td><td>2401.0</td><td>20.3315</td><td>2.0</td></tr><tr><th>17</th><td>1.0</td><td>11017</td><td>44.0</td><td>1936.0</td><td>21.2094</td><td>3.0</td></tr><tr><th>18</th><td>1.0</td><td>11010</td><td>42.0</td><td>1764.0</td><td>25.9612</td><td>3.0</td></tr><tr><th>19</th><td>0.0</td><td>11018</td><td>50.0</td><td>2500.0</td><td>29.1797</td><td>3.0</td></tr><tr><th>20</th><td>1.0</td><td>11005</td><td>44.0</td><td>1936.0</td><td>24.9634</td><td>3.0</td></tr><tr><th>21</th><td>1.0</td><td>11008</td><td>56.0</td><td>3136.0</td><td>29.5254</td><td>2.0</td></tr><tr><th>22</th><td>1.0</td><td>11007</td><td>51.0</td><td>2601.0</td><td>30.4709</td><td>2.0</td></tr><tr><th>23</th><td>1.0</td><td>11007</td><td>55.0</td><td>3025.0</td><td>35.7345</td><td>3.0</td></tr><tr><th>24</th><td>1.0</td><td>11002</td><td>60.0</td><td>3600.0</td><td>26.2784</td><td>3.0</td></tr><tr><th>25</th><td>0.0</td><td>11018</td><td>53.0</td><td>2809.0</td><td>32.6294</td><td>3.0</td></tr><tr><th>26</th><td>0.0</td><td>11014</td><td>64.0</td><td>4096.0</td><td>26.2469</td><td>3.0</td></tr><tr><th>27</th><td>0.0</td><td>11010</td><td>54.0</td><td>2916.0</td><td>26.4453</td><td>3.0</td></tr><tr><th>28</th><td>1.0</td><td>11007</td><td>59.0</td><td>3481.0</td><td>25.3388</td><td>3.0</td></tr><tr><th>29</th><td>0.0</td><td>11004</td><td>64.0</td><td>4096.0</td><td>30.449</td><td>3.0</td></tr><tr><th>30</th><td>1.0</td><td>11021</td><td>52.0</td><td>2704.0</td><td>33.4969</td><td>0.0</td></tr><tr><th>&vellip;</th><td>&vellip;</td><td>&vellip;</td><td>&vellip;</td><td>&vellip;</td><td>&vellip;</td><td>&vellip;</td></tr></tbody></table>"
      ],
      "text/latex": [
       "\\begin{tabular}{r|cccccc}\n",
       "\t& sex & center & age & age2 & bmi & locus\\\\\n",
       "\t\\hline\n",
       "\t& Float64 & Int64 & Float64 & Float64 & Float64 & Float64\\\\\n",
       "\t\\hline\n",
       "\t1 & 1.0 & 11016 & 62.0 & 3844.0 & 29.3424 & 2.0 \\\\\n",
       "\t2 & 1.0 & 11009 & 51.0 & 2601.0 & 31.0375 & 2.0 \\\\\n",
       "\t3 & 1.0 & 11014 & 47.0 & 2209.0 & 23.335 & 3.0 \\\\\n",
       "\t4 & 0.0 & 11010 & 42.0 & 1764.0 & 21.5793 & 2.0 \\\\\n",
       "\t5 & 1.0 & 11021 & 55.0 & 3025.0 & 26.7327 & 2.0 \\\\\n",
       "\t6 & 1.0 & 11009 & 63.0 & 3969.0 & 26.7034 & 2.0 \\\\\n",
       "\t7 & 0.0 & 11008 & 51.0 & 2601.0 & 35.1706 & 3.0 \\\\\n",
       "\t8 & 0.0 & 11011 & 45.0 & 2025.0 & 25.235 & 2.0 \\\\\n",
       "\t9 & 1.0 & 11010 & 52.0 & 2704.0 & 31.6387 & 3.0 \\\\\n",
       "\t10 & 1.0 & 11011 & 46.0 & 2116.0 & 22.6394 & 3.0 \\\\\n",
       "\t11 & 0.0 & 11008 & 62.0 & 3844.0 & 21.9137 & 3.0 \\\\\n",
       "\t12 & 0.0 & 11004 & 63.0 & 3969.0 & 24.7957 & 3.0 \\\\\n",
       "\t13 & 0.0 & 11007 & 58.0 & 3364.0 & 34.4386 & 2.0 \\\\\n",
       "\t14 & 1.0 & 11020 & 50.0 & 2500.0 & 20.5643 & 3.0 \\\\\n",
       "\t15 & 1.0 & 11008 & 64.0 & 4096.0 & 25.1148 & 2.0 \\\\\n",
       "\t16 & 0.0 & 11020 & 49.0 & 2401.0 & 20.3315 & 2.0 \\\\\n",
       "\t17 & 1.0 & 11017 & 44.0 & 1936.0 & 21.2094 & 3.0 \\\\\n",
       "\t18 & 1.0 & 11010 & 42.0 & 1764.0 & 25.9612 & 3.0 \\\\\n",
       "\t19 & 0.0 & 11018 & 50.0 & 2500.0 & 29.1797 & 3.0 \\\\\n",
       "\t20 & 1.0 & 11005 & 44.0 & 1936.0 & 24.9634 & 3.0 \\\\\n",
       "\t21 & 1.0 & 11008 & 56.0 & 3136.0 & 29.5254 & 2.0 \\\\\n",
       "\t22 & 1.0 & 11007 & 51.0 & 2601.0 & 30.4709 & 2.0 \\\\\n",
       "\t23 & 1.0 & 11007 & 55.0 & 3025.0 & 35.7345 & 3.0 \\\\\n",
       "\t24 & 1.0 & 11002 & 60.0 & 3600.0 & 26.2784 & 3.0 \\\\\n",
       "\t25 & 0.0 & 11018 & 53.0 & 2809.0 & 32.6294 & 3.0 \\\\\n",
       "\t26 & 0.0 & 11014 & 64.0 & 4096.0 & 26.2469 & 3.0 \\\\\n",
       "\t27 & 0.0 & 11010 & 54.0 & 2916.0 & 26.4453 & 3.0 \\\\\n",
       "\t28 & 1.0 & 11007 & 59.0 & 3481.0 & 25.3388 & 3.0 \\\\\n",
       "\t29 & 0.0 & 11004 & 64.0 & 4096.0 & 30.449 & 3.0 \\\\\n",
       "\t30 & 1.0 & 11021 & 52.0 & 2704.0 & 33.4969 & 0.0 \\\\\n",
       "\t$\\dots$ & $\\dots$ & $\\dots$ & $\\dots$ & $\\dots$ & $\\dots$ & $\\dots$ \\\\\n",
       "\\end{tabular}\n"
      ],
      "text/plain": [
       "3754×6 DataFrame\n",
       "│ Row  │ sex     │ center │ age     │ age2    │ bmi     │ locus   │\n",
       "│      │ \u001b[90mFloat64\u001b[39m │ \u001b[90mInt64\u001b[39m  │ \u001b[90mFloat64\u001b[39m │ \u001b[90mFloat64\u001b[39m │ \u001b[90mFloat64\u001b[39m │ \u001b[90mFloat64\u001b[39m │\n",
       "├──────┼─────────┼────────┼─────────┼─────────┼─────────┼─────────┤\n",
       "│ 1    │ 1.0     │ 11016  │ 62.0    │ 3844.0  │ 29.3424 │ 2.0     │\n",
       "│ 2    │ 1.0     │ 11009  │ 51.0    │ 2601.0  │ 31.0375 │ 2.0     │\n",
       "│ 3    │ 1.0     │ 11014  │ 47.0    │ 2209.0  │ 23.335  │ 3.0     │\n",
       "│ 4    │ 0.0     │ 11010  │ 42.0    │ 1764.0  │ 21.5793 │ 2.0     │\n",
       "│ 5    │ 1.0     │ 11021  │ 55.0    │ 3025.0  │ 26.7327 │ 2.0     │\n",
       "│ 6    │ 1.0     │ 11009  │ 63.0    │ 3969.0  │ 26.7034 │ 2.0     │\n",
       "│ 7    │ 0.0     │ 11008  │ 51.0    │ 2601.0  │ 35.1706 │ 3.0     │\n",
       "│ 8    │ 0.0     │ 11011  │ 45.0    │ 2025.0  │ 25.235  │ 2.0     │\n",
       "│ 9    │ 1.0     │ 11010  │ 52.0    │ 2704.0  │ 31.6387 │ 3.0     │\n",
       "│ 10   │ 1.0     │ 11011  │ 46.0    │ 2116.0  │ 22.6394 │ 3.0     │\n",
       "⋮\n",
       "│ 3744 │ 0.0     │ 11016  │ 65.0    │ 4225.0  │ 24.788  │ 3.0     │\n",
       "│ 3745 │ 0.0     │ 11009  │ 49.0    │ 2401.0  │ 23.1991 │ 2.0     │\n",
       "│ 3746 │ 1.0     │ 11003  │ 43.0    │ 1849.0  │ 24.2793 │ 3.0     │\n",
       "│ 3747 │ 1.0     │ 11007  │ 54.0    │ 2916.0  │ 34.8837 │ 3.0     │\n",
       "│ 3748 │ 1.0     │ 11004  │ 59.0    │ 3481.0  │ 32.7019 │ 3.0     │\n",
       "│ 3749 │ 1.0     │ 11011  │ 66.0    │ 4356.0  │ 22.8457 │ 3.0     │\n",
       "│ 3750 │ 0.0     │ 11011  │ 61.0    │ 3721.0  │ 24.6407 │ 2.0     │\n",
       "│ 3751 │ 0.0     │ 11010  │ 65.0    │ 4225.0  │ 29.3724 │ 3.0     │\n",
       "│ 3752 │ 0.0     │ 11003  │ 51.0    │ 2601.0  │ 25.7443 │ 2.0     │\n",
       "│ 3753 │ 1.0     │ 11011  │ 64.0    │ 4096.0  │ 26.4461 │ 2.0     │\n",
       "│ 3754 │ 0.0     │ 11011  │ 61.0    │ 3721.0  │ 29.1693 │ 3.0     │"
      ]
     },
     "execution_count": 59,
     "metadata": {},
     "output_type": "execute_result"
    }
   ],
   "source": [
    "age = Float64.(covariates[!, :age])\n",
    "sex = Float64.(covariates[!, :sex])\n",
    "center = Int64.(covariates[!, :center])\n",
    "bmi = Float64.(covariates[!, :bmi])\n",
    "avg_SBP = Float64.(covariates[!, :AveSBP])\n",
    "\n",
    "X_cov = DataFrame(sex = sex, center = center, age = age, age2 = age.^2, bmi = bmi)\n",
    "Data = DataFrame(y = avg_SBP, sex = sex, center = center, age = age, age2 = age.^2, bmi = bmi, locus = locus)\n",
    "X_full = hcat(X_cov, DataFrame(locus = locus))"
   ]
  },
  {
   "cell_type": "markdown",
   "metadata": {},
   "source": [
    "## Phenotype Simulation:\n",
    "\n",
    "Now that we have our simulated design matrix with the desired SNP of interest, we can simulate our phenotypes on the simulated data under different TraitSimulation models. To illustrate, we demonstrate on the `VCMTrait` model object in TraitSimulation.jl."
   ]
  },
  {
   "cell_type": "code",
   "execution_count": 64,
   "metadata": {},
   "outputs": [
    {
     "data": {
      "text/plain": [
       "5-element Array{Float64,1}:\n",
       "  4.435\n",
       "  0.006\n",
       " -0.081\n",
       "  0.007\n",
       "  0.754"
      ]
     },
     "execution_count": 64,
     "metadata": {},
     "output_type": "execute_result"
    }
   ],
   "source": [
    "β_init = \n",
    "[4.435\n",
    "  0.006\n",
    " -0.081\n",
    "  0.007\n",
    "  0.754]"
   ]
  },
  {
   "cell_type": "code",
   "execution_count": 65,
   "metadata": {},
   "outputs": [
    {
     "data": {
      "text/plain": [
       "Variance Component Model\n",
       "  * number of traits: 1\n",
       "  * number of variance components: 2\n",
       "  * sample size: 3754"
      ]
     },
     "execution_count": 65,
     "metadata": {},
     "output_type": "execute_result"
    }
   ],
   "source": [
    "n = size(GRM, 1)\n",
    "I_n = Matrix{Float64}(I, n, n)\n",
    "\n",
    "totalvc = @vc [0.1][:, :] ⊗ GRM + [0.9][:, :] ⊗ I_n\n",
    "genetic_model = VCMTrait(Matrix(X_cov), β_init[:,:], totalvc)"
   ]
  },
  {
   "cell_type": "code",
   "execution_count": 66,
   "metadata": {},
   "outputs": [
    {
     "data": {
      "text/plain": [
       "6-element Array{Float64,1}:\n",
       "  4.435\n",
       "  0.006\n",
       " -0.081\n",
       "  0.007\n",
       "  0.754\n",
       "  0.742"
      ]
     },
     "execution_count": 66,
     "metadata": {},
     "output_type": "execute_result"
    }
   ],
   "source": [
    "β_full = vcat(β_init, chisq_coeff)"
   ]
  },
  {
   "cell_type": "code",
   "execution_count": 67,
   "metadata": {},
   "outputs": [
    {
     "data": {
      "text/plain": [
       "Variance Component Model\n",
       "  * number of traits: 1\n",
       "  * number of variance components: 2\n",
       "  * sample size: 3754"
      ]
     },
     "execution_count": 67,
     "metadata": {},
     "output_type": "execute_result"
    }
   ],
   "source": [
    "genetic_model_test = VCMTrait(Matrix(X_full), β_full[:, :], totalvc)"
   ]
  },
  {
   "cell_type": "markdown",
   "metadata": {},
   "source": [
    "## `Power Calculation:`\n",
    "\n",
    "We use the following function to generate the p-values for the simulated power example for the ordered multinomial regression model. We range effect sizes in the vector γs, which collects effect sizes from 0 to 1 in increments of 0.05. As expected, the power increases as the effect size increases. \n",
    "    "
   ]
  },
  {
   "cell_type": "code",
   "execution_count": 68,
   "metadata": {},
   "outputs": [
    {
     "data": {
      "text/plain": [
       "11-element Array{Float64,1}:\n",
       " 0.0 \n",
       " 0.05\n",
       " 0.1 \n",
       " 0.15\n",
       " 0.2 \n",
       " 0.25\n",
       " 0.3 \n",
       " 0.35\n",
       " 0.4 \n",
       " 0.45\n",
       " 0.5 "
      ]
     },
     "execution_count": 68,
     "metadata": {},
     "output_type": "execute_result"
    }
   ],
   "source": [
    "γs = collect(0.0:0.05:0.5)"
   ]
  },
  {
   "cell_type": "markdown",
   "metadata": {},
   "source": [
    "Suppose we want to see a particular SNP has an effect on a given phenotype after accounting for relatedness among individuals. Here we fit variance component model with a single SNP *s* as fixed effect. \n",
    "\n",
    "$$\\hspace{5em}  \\mathbf{y} = \\mathbf{X}\\mathbf{\\beta} + \\mathbf{G}_s \\gamma + \\mathbf{g} + \\mathbf{\\epsilon} \\hspace{5em} (1)$$\n",
    "\n",
    "\\begin{equation}\n",
    "\\begin{array}{ll}\n",
    "\\mathbf{g} \\sim N(\\mathbf{0}, \\sigma_g^2\\mathbf{\\Phi}) \\\\\n",
    "\\mathbf{\\epsilon} \\sim N(\\mathbf{0}, \\sigma_e^2\\mathbf{I})\n",
    "\\end{array}\n",
    "\\end{equation}\n",
    "\n",
    "where \n",
    "\n",
    "* $\\mathbf{y}$: phenotype \n",
    "\n",
    "\n",
    "\n",
    "and \n",
    "\n",
    "\n",
    "* Fixed effects:\n",
    "    * $\\mathbf{X}$: matrix of covariates including intercept\n",
    "    * $\\beta$: vector of covariate effects, including intercept\n",
    "    * $\\mathbf{G}_s$: genotype of SNP *s*\n",
    "    * $\\gamma$: (scalar) association parameter of interest, measuring the effect of genotype on phenotype  \n",
    "* Random effects:\n",
    "    * $\\mathbf{g}$: random vector of polygenic effects with $\\mathbf{g} \\sim N(\\mathbf{0}, \\sigma_g^2 \\mathbf{\\Phi})$\n",
    "        * $\\sigma_g^2$: additive genetic variance\n",
    "        * $\\mathbf{\\Phi}$: matrix of pairwise measures of genetic relatedness \n",
    "    * $\\epsilon$: random vector with $\\epsilon \\sim N(\\mathbf{0}, \\sigma_e^2\\mathbf{I})$\n",
    "        * $\\sigma_e^2$: non-genetic variance due to non-genetic effects assumed to be acting independently on individuals\n",
    "\n",
    "\n",
    "\n",
    "To test whether SNP *s* is associated with phenotype, we fit two models. First consider the model without SNP *s* as fixed effects (aka null model): \n",
    "\n",
    "$$\\hspace{5em}  \\mathbf{y} = \\mathbf{X}\\mathbf{\\beta} + \\mathbf{g} + \\mathbf{\\epsilon} \\hspace{5em} (2)$$\n",
    "\n",
    "and the model with SNP *s* as fixed effects (1). Then we can compare the log likelihood to see if there is improvement in the model fit with inclusion of the SNP of interest. "
   ]
  },
  {
   "cell_type": "markdown",
   "metadata": {},
   "source": [
    "Each column of this matrix represents each of the detected effect sizes, and each row of this matrix represents each simulation for that effect size. The user feeds into the function the number of simulations, the vector of effect sizes, the TraitSimulation.jl model object, and the random seed.\n",
    "\n",
    "For GLMTrait objects, the `realistic_power_simulation` function makes the appropriate calls to the GLM.jl package to get the simulation p-values obtained from testing the significance of the causal locus using the Wald Test by default. However since the GLM.jl package has its limitations, we include additional power utilities that make the appropriate function calls to the [OrdinalMultinomialModels](https://openmendel.github.io/OrdinalMultinomialModels.jl/stable/#Syntax-1) to get the p-value obtained from testing the significance of the causal locus.\n"
   ]
  },
  {
   "cell_type": "markdown",
   "metadata": {},
   "source": [
    "For each effect size in $\\gamma_s,$ in each column we have the p-values obtained from testing the significance of the causal locus `nsim = 100` times under the VCM, and the `randomseed = 1234`."
   ]
  },
  {
   "cell_type": "code",
   "execution_count": null,
   "metadata": {},
   "outputs": [
    {
     "name": "stdout",
     "output_type": "stream",
     "text": [
      "\n",
      "******************************************************************************\n",
      "This program contains Ipopt, a library for large-scale nonlinear optimization.\n",
      " Ipopt is released as open source code under the Eclipse Public License (EPL).\n",
      "         For more information visit http://projects.coin-or.org/Ipopt\n",
      "******************************************************************************\n",
      "\n"
     ]
    },
    {
     "data": {
      "text/html": [
       "<table class=\"data-frame\"><thead><tr><th></th><th>γs = 0.0</th><th>γs = 0.05</th><th>γs = 0.1</th><th>γs = 0.15</th><th>γs = 0.2</th><th>γs = 0.25</th><th>γs = 0.3</th></tr><tr><th></th><th>Float64</th><th>Float64</th><th>Float64</th><th>Float64</th><th>Float64</th><th>Float64</th><th>Float64</th></tr></thead><tbody><p>1,000 rows × 11 columns (omitted printing of 4 columns)</p><tr><th>1</th><td>0.524195</td><td>0.000332155</td><td>0.000121027</td><td>4.61311e-15</td><td>5.4629e-23</td><td>2.85855e-47</td><td>2.73095e-42</td></tr><tr><th>2</th><td>0.998479</td><td>0.000355733</td><td>2.88285e-7</td><td>1.8455e-24</td><td>6.2421e-22</td><td>8.35046e-42</td><td>2.27117e-49</td></tr><tr><th>3</th><td>0.164856</td><td>0.182795</td><td>3.97841e-5</td><td>8.52498e-10</td><td>1.19908e-19</td><td>4.82556e-39</td><td>3.97908e-48</td></tr><tr><th>4</th><td>0.836477</td><td>0.0292655</td><td>3.36015e-5</td><td>2.37606e-11</td><td>1.43864e-17</td><td>4.62361e-40</td><td>1.43978e-39</td></tr><tr><th>5</th><td>0.614246</td><td>0.0274985</td><td>1.94474e-8</td><td>1.75697e-19</td><td>2.73971e-24</td><td>4.85311e-32</td><td>7.53796e-43</td></tr><tr><th>6</th><td>0.287576</td><td>0.0274272</td><td>3.02843e-5</td><td>7.1158e-18</td><td>3.52477e-25</td><td>2.80054e-31</td><td>1.83542e-49</td></tr><tr><th>7</th><td>0.484015</td><td>0.0220593</td><td>9.56956e-5</td><td>2.27652e-13</td><td>2.85198e-24</td><td>4.75938e-32</td><td>1.41651e-47</td></tr><tr><th>8</th><td>0.0267504</td><td>0.00680909</td><td>2.5878e-6</td><td>1.2997e-11</td><td>1.96043e-19</td><td>1.03943e-30</td><td>1.28455e-29</td></tr><tr><th>9</th><td>0.179694</td><td>0.124784</td><td>0.000282669</td><td>2.99293e-16</td><td>5.30596e-20</td><td>4.64257e-37</td><td>1.83945e-46</td></tr><tr><th>10</th><td>0.174504</td><td>0.00070834</td><td>0.000138674</td><td>3.4463e-15</td><td>7.75501e-19</td><td>7.07441e-25</td><td>3.29806e-53</td></tr><tr><th>11</th><td>0.194823</td><td>0.0193343</td><td>4.01978e-8</td><td>1.31493e-12</td><td>2.72801e-20</td><td>2.57642e-30</td><td>1.29981e-50</td></tr><tr><th>12</th><td>0.388138</td><td>0.00162492</td><td>8.4731e-7</td><td>5.39125e-17</td><td>2.3079e-21</td><td>1.02295e-33</td><td>4.91471e-47</td></tr><tr><th>13</th><td>0.395298</td><td>0.0809195</td><td>1.23527e-6</td><td>3.94991e-15</td><td>8.65578e-23</td><td>7.35364e-34</td><td>2.81859e-47</td></tr><tr><th>14</th><td>0.542173</td><td>0.0257029</td><td>0.00125928</td><td>6.83414e-19</td><td>2.5618e-23</td><td>4.01202e-29</td><td>1.46834e-44</td></tr><tr><th>15</th><td>0.999413</td><td>0.00406812</td><td>2.27877e-7</td><td>2.52166e-18</td><td>1.8297e-21</td><td>6.65291e-34</td><td>5.36226e-56</td></tr><tr><th>16</th><td>0.0264672</td><td>0.0135773</td><td>1.79763e-7</td><td>2.31182e-14</td><td>1.8102e-22</td><td>3.69251e-31</td><td>6.34212e-52</td></tr><tr><th>17</th><td>0.252653</td><td>0.00567748</td><td>3.68441e-6</td><td>4.4847e-11</td><td>7.32345e-20</td><td>1.85267e-31</td><td>1.24156e-31</td></tr><tr><th>18</th><td>0.00254153</td><td>0.00591231</td><td>4.76999e-7</td><td>3.04367e-12</td><td>4.20523e-20</td><td>3.24213e-24</td><td>4.31126e-45</td></tr><tr><th>19</th><td>0.793258</td><td>0.0403086</td><td>0.000126582</td><td>1.54251e-14</td><td>4.81517e-21</td><td>1.02818e-39</td><td>8.94936e-52</td></tr><tr><th>20</th><td>0.018697</td><td>0.000891053</td><td>1.14503e-7</td><td>3.55508e-13</td><td>2.87251e-13</td><td>1.70275e-37</td><td>1.19288e-41</td></tr><tr><th>21</th><td>0.854641</td><td>5.6498e-5</td><td>2.22445e-5</td><td>1.97558e-15</td><td>1.20109e-14</td><td>1.84499e-34</td><td>8.45667e-40</td></tr><tr><th>22</th><td>0.870715</td><td>0.201255</td><td>9.64773e-10</td><td>8.41948e-9</td><td>2.07028e-20</td><td>1.27626e-32</td><td>5.1395e-52</td></tr><tr><th>23</th><td>0.110893</td><td>0.00372587</td><td>3.48676e-5</td><td>3.51673e-12</td><td>4.79346e-24</td><td>1.83858e-41</td><td>7.79204e-51</td></tr><tr><th>24</th><td>0.380068</td><td>0.130749</td><td>0.00119656</td><td>3.44563e-8</td><td>7.9516e-29</td><td>3.6653e-33</td><td>8.20882e-54</td></tr><tr><th>25</th><td>0.905963</td><td>0.180257</td><td>1.0185e-6</td><td>3.57612e-17</td><td>3.96116e-30</td><td>6.21118e-37</td><td>2.97226e-47</td></tr><tr><th>26</th><td>0.483793</td><td>0.0252773</td><td>0.00810622</td><td>8.90023e-11</td><td>2.18028e-16</td><td>3.25141e-32</td><td>3.04806e-43</td></tr><tr><th>27</th><td>0.86748</td><td>0.449774</td><td>9.46823e-7</td><td>7.26568e-8</td><td>4.9102e-29</td><td>2.26826e-26</td><td>4.33234e-54</td></tr><tr><th>28</th><td>0.487219</td><td>0.00161782</td><td>6.64573e-11</td><td>3.82324e-15</td><td>6.23141e-25</td><td>8.82249e-29</td><td>1.10637e-44</td></tr><tr><th>29</th><td>0.722541</td><td>0.407637</td><td>0.000633279</td><td>8.83388e-16</td><td>1.13299e-21</td><td>1.73489e-27</td><td>5.43351e-42</td></tr><tr><th>30</th><td>0.798733</td><td>0.0262879</td><td>5.96834e-5</td><td>3.15623e-13</td><td>1.06809e-27</td><td>1.08232e-33</td><td>1.55103e-47</td></tr><tr><th>&vellip;</th><td>&vellip;</td><td>&vellip;</td><td>&vellip;</td><td>&vellip;</td><td>&vellip;</td><td>&vellip;</td><td>&vellip;</td></tr></tbody></table>"
      ],
      "text/latex": [
       "\\begin{tabular}{r|cccccccc}\n",
       "\t& γs = 0.0 & γs = 0.05 & γs = 0.1 & γs = 0.15 & γs = 0.2 & γs = 0.25 & γs = 0.3 & \\\\\n",
       "\t\\hline\n",
       "\t& Float64 & Float64 & Float64 & Float64 & Float64 & Float64 & Float64 & \\\\\n",
       "\t\\hline\n",
       "\t1 & 0.524195 & 0.000332155 & 0.000121027 & 4.61311e-15 & 5.4629e-23 & 2.85855e-47 & 2.73095e-42 & $\\dots$ \\\\\n",
       "\t2 & 0.998479 & 0.000355733 & 2.88285e-7 & 1.8455e-24 & 6.2421e-22 & 8.35046e-42 & 2.27117e-49 & $\\dots$ \\\\\n",
       "\t3 & 0.164856 & 0.182795 & 3.97841e-5 & 8.52498e-10 & 1.19908e-19 & 4.82556e-39 & 3.97908e-48 & $\\dots$ \\\\\n",
       "\t4 & 0.836477 & 0.0292655 & 3.36015e-5 & 2.37606e-11 & 1.43864e-17 & 4.62361e-40 & 1.43978e-39 & $\\dots$ \\\\\n",
       "\t5 & 0.614246 & 0.0274985 & 1.94474e-8 & 1.75697e-19 & 2.73971e-24 & 4.85311e-32 & 7.53796e-43 & $\\dots$ \\\\\n",
       "\t6 & 0.287576 & 0.0274272 & 3.02843e-5 & 7.1158e-18 & 3.52477e-25 & 2.80054e-31 & 1.83542e-49 & $\\dots$ \\\\\n",
       "\t7 & 0.484015 & 0.0220593 & 9.56956e-5 & 2.27652e-13 & 2.85198e-24 & 4.75938e-32 & 1.41651e-47 & $\\dots$ \\\\\n",
       "\t8 & 0.0267504 & 0.00680909 & 2.5878e-6 & 1.2997e-11 & 1.96043e-19 & 1.03943e-30 & 1.28455e-29 & $\\dots$ \\\\\n",
       "\t9 & 0.179694 & 0.124784 & 0.000282669 & 2.99293e-16 & 5.30596e-20 & 4.64257e-37 & 1.83945e-46 & $\\dots$ \\\\\n",
       "\t10 & 0.174504 & 0.00070834 & 0.000138674 & 3.4463e-15 & 7.75501e-19 & 7.07441e-25 & 3.29806e-53 & $\\dots$ \\\\\n",
       "\t11 & 0.194823 & 0.0193343 & 4.01978e-8 & 1.31493e-12 & 2.72801e-20 & 2.57642e-30 & 1.29981e-50 & $\\dots$ \\\\\n",
       "\t12 & 0.388138 & 0.00162492 & 8.4731e-7 & 5.39125e-17 & 2.3079e-21 & 1.02295e-33 & 4.91471e-47 & $\\dots$ \\\\\n",
       "\t13 & 0.395298 & 0.0809195 & 1.23527e-6 & 3.94991e-15 & 8.65578e-23 & 7.35364e-34 & 2.81859e-47 & $\\dots$ \\\\\n",
       "\t14 & 0.542173 & 0.0257029 & 0.00125928 & 6.83414e-19 & 2.5618e-23 & 4.01202e-29 & 1.46834e-44 & $\\dots$ \\\\\n",
       "\t15 & 0.999413 & 0.00406812 & 2.27877e-7 & 2.52166e-18 & 1.8297e-21 & 6.65291e-34 & 5.36226e-56 & $\\dots$ \\\\\n",
       "\t16 & 0.0264672 & 0.0135773 & 1.79763e-7 & 2.31182e-14 & 1.8102e-22 & 3.69251e-31 & 6.34212e-52 & $\\dots$ \\\\\n",
       "\t17 & 0.252653 & 0.00567748 & 3.68441e-6 & 4.4847e-11 & 7.32345e-20 & 1.85267e-31 & 1.24156e-31 & $\\dots$ \\\\\n",
       "\t18 & 0.00254153 & 0.00591231 & 4.76999e-7 & 3.04367e-12 & 4.20523e-20 & 3.24213e-24 & 4.31126e-45 & $\\dots$ \\\\\n",
       "\t19 & 0.793258 & 0.0403086 & 0.000126582 & 1.54251e-14 & 4.81517e-21 & 1.02818e-39 & 8.94936e-52 & $\\dots$ \\\\\n",
       "\t20 & 0.018697 & 0.000891053 & 1.14503e-7 & 3.55508e-13 & 2.87251e-13 & 1.70275e-37 & 1.19288e-41 & $\\dots$ \\\\\n",
       "\t21 & 0.854641 & 5.6498e-5 & 2.22445e-5 & 1.97558e-15 & 1.20109e-14 & 1.84499e-34 & 8.45667e-40 & $\\dots$ \\\\\n",
       "\t22 & 0.870715 & 0.201255 & 9.64773e-10 & 8.41948e-9 & 2.07028e-20 & 1.27626e-32 & 5.1395e-52 & $\\dots$ \\\\\n",
       "\t23 & 0.110893 & 0.00372587 & 3.48676e-5 & 3.51673e-12 & 4.79346e-24 & 1.83858e-41 & 7.79204e-51 & $\\dots$ \\\\\n",
       "\t24 & 0.380068 & 0.130749 & 0.00119656 & 3.44563e-8 & 7.9516e-29 & 3.6653e-33 & 8.20882e-54 & $\\dots$ \\\\\n",
       "\t25 & 0.905963 & 0.180257 & 1.0185e-6 & 3.57612e-17 & 3.96116e-30 & 6.21118e-37 & 2.97226e-47 & $\\dots$ \\\\\n",
       "\t26 & 0.483793 & 0.0252773 & 0.00810622 & 8.90023e-11 & 2.18028e-16 & 3.25141e-32 & 3.04806e-43 & $\\dots$ \\\\\n",
       "\t27 & 0.86748 & 0.449774 & 9.46823e-7 & 7.26568e-8 & 4.9102e-29 & 2.26826e-26 & 4.33234e-54 & $\\dots$ \\\\\n",
       "\t28 & 0.487219 & 0.00161782 & 6.64573e-11 & 3.82324e-15 & 6.23141e-25 & 8.82249e-29 & 1.10637e-44 & $\\dots$ \\\\\n",
       "\t29 & 0.722541 & 0.407637 & 0.000633279 & 8.83388e-16 & 1.13299e-21 & 1.73489e-27 & 5.43351e-42 & $\\dots$ \\\\\n",
       "\t30 & 0.798733 & 0.0262879 & 5.96834e-5 & 3.15623e-13 & 1.06809e-27 & 1.08232e-33 & 1.55103e-47 & $\\dots$ \\\\\n",
       "\t$\\dots$ & $\\dots$ & $\\dots$ & $\\dots$ & $\\dots$ & $\\dots$ & $\\dots$ & $\\dots$ &  \\\\\n",
       "\\end{tabular}\n"
      ],
      "text/plain": [
       "1000×11 DataFrame. Omitted printing of 6 columns\n",
       "│ Row  │ γs = 0.0  │ γs = 0.05   │ γs = 0.1    │ γs = 0.15   │ γs = 0.2    │\n",
       "│      │ \u001b[90mFloat64\u001b[39m   │ \u001b[90mFloat64\u001b[39m     │ \u001b[90mFloat64\u001b[39m     │ \u001b[90mFloat64\u001b[39m     │ \u001b[90mFloat64\u001b[39m     │\n",
       "├──────┼───────────┼─────────────┼─────────────┼─────────────┼─────────────┤\n",
       "│ 1    │ 0.524195  │ 0.000332155 │ 0.000121027 │ 4.61311e-15 │ 5.4629e-23  │\n",
       "│ 2    │ 0.998479  │ 0.000355733 │ 2.88285e-7  │ 1.8455e-24  │ 6.2421e-22  │\n",
       "│ 3    │ 0.164856  │ 0.182795    │ 3.97841e-5  │ 8.52498e-10 │ 1.19908e-19 │\n",
       "│ 4    │ 0.836477  │ 0.0292655   │ 3.36015e-5  │ 2.37606e-11 │ 1.43864e-17 │\n",
       "│ 5    │ 0.614246  │ 0.0274985   │ 1.94474e-8  │ 1.75697e-19 │ 2.73971e-24 │\n",
       "│ 6    │ 0.287576  │ 0.0274272   │ 3.02843e-5  │ 7.1158e-18  │ 3.52477e-25 │\n",
       "│ 7    │ 0.484015  │ 0.0220593   │ 9.56956e-5  │ 2.27652e-13 │ 2.85198e-24 │\n",
       "│ 8    │ 0.0267504 │ 0.00680909  │ 2.5878e-6   │ 1.2997e-11  │ 1.96043e-19 │\n",
       "│ 9    │ 0.179694  │ 0.124784    │ 0.000282669 │ 2.99293e-16 │ 5.30596e-20 │\n",
       "│ 10   │ 0.174504  │ 0.00070834  │ 0.000138674 │ 3.4463e-15  │ 7.75501e-19 │\n",
       "⋮\n",
       "│ 990  │ 0.204001  │ 0.00339569  │ 1.5449e-6   │ 1.59772e-15 │ 4.22459e-24 │\n",
       "│ 991  │ 0.15738   │ 0.00317221  │ 1.15556e-6  │ 8.32688e-15 │ 2.82883e-26 │\n",
       "│ 992  │ 0.152666  │ 0.0499242   │ 6.64252e-6  │ 7.76196e-12 │ 1.7381e-29  │\n",
       "│ 993  │ 0.0230397 │ 0.172559    │ 4.74555e-6  │ 6.36866e-17 │ 5.27406e-25 │\n",
       "│ 994  │ 0.486207  │ 0.00316355  │ 1.53123e-8  │ 3.00998e-12 │ 1.60546e-18 │\n",
       "│ 995  │ 0.53576   │ 0.0292517   │ 1.57774e-7  │ 1.74246e-8  │ 1.74402e-17 │\n",
       "│ 996  │ 0.0238689 │ 0.0148058   │ 0.000326598 │ 1.25347e-14 │ 1.22783e-29 │\n",
       "│ 997  │ 0.329891  │ 0.0602664   │ 8.85073e-10 │ 1.41971e-10 │ 5.84108e-22 │\n",
       "│ 998  │ 0.335941  │ 0.247585    │ 1.3681e-6   │ 2.52142e-16 │ 5.4061e-19  │\n",
       "│ 999  │ 0.904879  │ 0.296625    │ 0.00768137  │ 4.28017e-10 │ 3.13434e-15 │\n",
       "│ 1000 │ 0.292293  │ 0.000644431 │ 1.4803e-8   │ 1.41613e-20 │ 1.63407e-20 │"
      ]
     },
     "execution_count": 69,
     "metadata": {},
     "output_type": "execute_result"
    }
   ],
   "source": [
    "nsim = 1000\n",
    "randomseed = 1234\n",
    "simulated_pvalues = power_simulation(nsim, γs, genetic_model_test, β_full[:, :], randomseed);\n",
    "rename!(DataFrame(simulated_pvalues), [Symbol(\"γs = $(γs[i])\") for i in 1:length(γs)])"
   ]
  },
  {
   "cell_type": "markdown",
   "metadata": {},
   "source": [
    "Now we find the power of each effect size in the user-specified γs vector at the specified alpha level of significance, and plot the trajectory using the Plots.jl package."
   ]
  },
  {
   "cell_type": "code",
   "execution_count": null,
   "metadata": {},
   "outputs": [],
   "source": [
    "α = 0.0000000005\n",
    "power_effectsize = power(simulated_pvalues, α)"
   ]
  },
  {
   "cell_type": "code",
   "execution_count": null,
   "metadata": {},
   "outputs": [],
   "source": [
    "plot(γs, power_effectsize, title = \"VCM Power\", label = \"maf = $maf_cs, alpha = $α\", lw = 3 , legend = :bottomright, legendfontsize= 9)  # plot power\n",
    "xlabel!(\"Detectable Effect Size\")\n",
    "hline!([.8], label = \"power = 80%\", lw = 3)\n",
    "vline!([.29], label = \"minimum detectable effect size = 0.29\")\n",
    "savefig(\"/home/sarahji/TraitSimulation.jl/docs/vcmpower.pdf\")"
   ]
  },
  {
   "cell_type": "markdown",
   "metadata": {},
   "source": [
    "## Citations: \n",
    "\n",
    "[1] Lange K, Papp JC, Sinsheimer JS, Sripracha R, Zhou H, Sobel EM (2013) Mendel: The Swiss army knife of genetic analysis programs. Bioinformatics 29:1568-1570.`\n",
    "\n",
    "\n",
    "[2] OPENMENDEL: a cooperative programming project for statistical genetics.\n",
    "[Hum Genet. 2019 Mar 26. doi: 10.1007/s00439-019-02001-z](https://www.ncbi.nlm.nih.gov/pubmed/?term=OPENMENDEL).\n",
    "\n",
    "[3] German, CA, Sinsheimer, JS, Klimentidis, YC, Zhou, H, Zhou, JJ. Ordered multinomial regression for genetic association analysis of ordinal phenotypes at Biobank scale. Genetic Epidemiology. 2019; 1– 13. https://doi.org/10.1002/gepi.22276\n"
   ]
  }
 ],
 "metadata": {
  "@webio": {
   "lastCommId": null,
   "lastKernelId": null
  },
  "kernelspec": {
   "display_name": "Julia 1.3.0",
   "language": "julia",
   "name": "julia-1.3"
  },
  "language_info": {
   "file_extension": ".jl",
   "mimetype": "application/julia",
   "name": "julia",
   "version": "1.3.0"
  },
  "toc": {
   "base_numbering": 1,
   "nav_menu": {},
   "number_sections": true,
   "sideBar": true,
   "skip_h1_title": false,
   "title_cell": "Table of Contents",
   "title_sidebar": "Contents",
   "toc_cell": false,
   "toc_position": {},
   "toc_section_display": true,
   "toc_window_display": false
  }
 },
 "nbformat": 4,
 "nbformat_minor": 2
}
