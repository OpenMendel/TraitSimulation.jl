{
 "cells": [
  {
   "cell_type": "markdown",
   "metadata": {},
   "source": [
    "# TraitSimulation for Variance Component Models (VCM):\n",
    "\n",
    "Authors: Sarah Ji, Janet Sinsheimer, Ken Lange, Eric Sobel"
   ]
  },
  {
   "cell_type": "markdown",
   "metadata": {},
   "source": [
    "In this notebook, we use the GAW 2019 data to demonstrate how to simulate phenotypic traits from the Variance Component Model (VCM) framework under different scenarios. We let the user specify the effect sizes for non-genetic covariates, and we provide the user with an option to simulate their own effect sizes, given a known distribution. In both models $\\mu$ is the mean, $x_i$ is the allele count for snp $i$, GRM is kinship matrix as derived from the genetic relationship matrix (GRM) across only the common snps with minor allele frequency $\\ge 0.05$, and I is the identity matrix. At the end of each example, we demonstrate how to write the results of each simulation to a file on the users own machine. The notebook is organized as follows: <br>\n",
    "\n",
    "**Example 1: User specified mixed effects model with Interaction in the Fixed Effects**\n",
    "\n",
    "**Example 2: Rare Variant Model with effect sizes generated off minor allele frequency**\n",
    "\n",
    "**a) Univariate Trait Simulation**\n",
    "\n",
    "**b) Bivariate Trait Simulation**"
   ]
  },
  {
   "cell_type": "markdown",
   "metadata": {},
   "source": [
    "### Double check that you are using Julia version 1.0 or higher by checking the machine information"
   ]
  },
  {
   "cell_type": "code",
   "execution_count": 1,
   "metadata": {},
   "outputs": [
    {
     "name": "stdout",
     "output_type": "stream",
     "text": [
      "Julia Version 1.2.0\n",
      "Commit c6da87ff4b (2019-08-20 00:03 UTC)\n",
      "Platform Info:\n",
      "  OS: macOS (x86_64-apple-darwin18.6.0)\n",
      "  CPU: Intel(R) Core(TM) i7-7700HQ CPU @ 2.80GHz\n",
      "  WORD_SIZE: 64\n",
      "  LIBM: libopenlibm\n",
      "  LLVM: libLLVM-6.0.1 (ORCJIT, skylake)\n"
     ]
    }
   ],
   "source": [
    "using Random, SnpArrays, TraitSimulation, VarianceComponentModels, StatsBase, DataFrames\n",
    "using LinearAlgebra, Distributions, CSV, Plots\n",
    "Random.seed!(1234);\n",
    "versioninfo()"
   ]
  },
  {
   "cell_type": "code",
   "execution_count": 2,
   "metadata": {
    "scrolled": true
   },
   "outputs": [
    {
     "data": {
      "text/plain": [
       "849×8348674 SnpArray:\n",
       " 0x03  0x02  0x03  0x03  0x03  0x03  …  0x03  0x03  0x03  0x03  0x02  0x03\n",
       " 0x03  0x02  0x03  0x03  0x03  0x03     0x03  0x02  0x03  0x03  0x03  0x03\n",
       " 0x03  0x02  0x02  0x02  0x02  0x03     0x03  0x03  0x03  0x03  0x03  0x03\n",
       " 0x03  0x03  0x03  0x03  0x03  0x03     0x03  0x02  0x03  0x03  0x03  0x03\n",
       " 0x03  0x03  0x03  0x03  0x03  0x03     0x03  0x03  0x03  0x03  0x02  0x03\n",
       " 0x03  0x01  0x03  0x03  0x03  0x03  …  0x03  0x03  0x03  0x03  0x02  0x03\n",
       " 0x03  0x03  0x02  0x02  0x02  0x02     0x03  0x03  0x03  0x03  0x02  0x03\n",
       " 0x03  0x03  0x03  0x03  0x03  0x03     0x03  0x03  0x03  0x03  0x03  0x03\n",
       " 0x03  0x02  0x03  0x03  0x03  0x03     0x02  0x03  0x03  0x03  0x03  0x03\n",
       " 0x03  0x03  0x03  0x03  0x03  0x03     0x03  0x03  0x03  0x03  0x03  0x03\n",
       " 0x03  0x00  0x02  0x02  0x02  0x02  …  0x03  0x03  0x03  0x03  0x02  0x03\n",
       " 0x03  0x03  0x03  0x03  0x03  0x03     0x03  0x03  0x03  0x03  0x02  0x03\n",
       " 0x03  0x01  0x03  0x03  0x03  0x03     0x03  0x03  0x03  0x03  0x03  0x03\n",
       "    ⋮                             ⋮  ⋱                 ⋮                  \n",
       " 0x03  0x01  0x01  0x01  0x01  0x01     0x03  0x03  0x03  0x03  0x03  0x03\n",
       " 0x03  0x02  0x03  0x03  0x03  0x03     0x03  0x03  0x03  0x03  0x02  0x03\n",
       " 0x03  0x02  0x03  0x03  0x03  0x03     0x02  0x03  0x02  0x03  0x02  0x03\n",
       " 0x03  0x02  0x03  0x03  0x03  0x03  …  0x02  0x03  0x02  0x03  0x02  0x03\n",
       " 0x03  0x02  0x03  0x03  0x03  0x03     0x03  0x03  0x03  0x03  0x02  0x03\n",
       " 0x03  0x02  0x03  0x03  0x03  0x03     0x03  0x03  0x03  0x03  0x03  0x03\n",
       " 0x03  0x02  0x03  0x03  0x03  0x03     0x03  0x03  0x03  0x03  0x02  0x03\n",
       " 0x03  0x02  0x01  0x01  0x02  0x01     0x03  0x03  0x03  0x03  0x00  0x03\n",
       " 0x01  0x03  0x03  0x03  0x03  0x03  …  0x03  0x03  0x03  0x03  0x02  0x03\n",
       " 0x01  0x03  0x03  0x03  0x03  0x03     0x03  0x03  0x03  0x03  0x00  0x03\n",
       " 0x03  0x02  0x03  0x03  0x03  0x03     0x02  0x03  0x02  0x03  0x02  0x03\n",
       " 0x03  0x00  0x01  0x01  0x02  0x01     0x03  0x03  0x03  0x03  0x00  0x03"
      ]
     },
     "execution_count": 2,
     "metadata": {},
     "output_type": "execute_result"
    }
   ],
   "source": [
    "# Load genotype data in PLINK format\n",
    "data = SnpArray(\"simphen_849.bed\")"
   ]
  },
  {
   "cell_type": "markdown",
   "metadata": {},
   "source": [
    "# GAW19 Example Data\n",
    "\n",
    "In this GAW dataset there are 849 individuals in 20 families and 8,348,674 SNP's. We used data from the Genetic Analysis Workshop (GAW) 19, which are provided for 1943 Hispanic samples that have been whole-exome sequenced. Our analyses are based on the genotype calls for 959 individuals (464 directly sequenced and the rest imputed) provided in the chrNN-geno.csv.gz files, of which we excluded 110 individuals based on genotyping success rates below 98 %. The largest family contains 107 individuals, the smallest, 27.\n",
    "\n",
    "1. Genetic Analysis Workshop 19: methods and strategies for analyzing human sequence and gene expression data in extended families and unrelated individuals, Corinne D. EngelmanEmail author, Celia M. T. Greenwood, Julia N. Bailey, Rita M. Cantor, Jack W. KentJr, Inke R. König, Justo Lorenzo Bermejo, Phillip E. Melton, Stephanie A. Santorico, Arne Schillert, Ellen M. Wijsman, Jean W. MacCluer and Laura Almasy, BMC Proceedings201610(Suppl 7):19\n",
    "https://doi.org/10.1186/s12919-016-0007-z \n",
    "\n",
    "2. Genome-wide QTL and eQTL analyses using Mendel, Hua Zhou, Jin Zhou, Tao Hu, Eric M. Sobel, Kenneth Lange\n",
    "https://www.ncbi.nlm.nih.gov/pmc/articles/PMC5133530/"
   ]
  },
  {
   "cell_type": "markdown",
   "metadata": {},
   "source": [
    "Information on the individual can be found in the .fam file. We retrieve the `familyid` (Pedigree ID) along with the `personid` for each of the 849 individuals in the sample. "
   ]
  },
  {
   "cell_type": "code",
   "execution_count": 3,
   "metadata": {},
   "outputs": [],
   "source": [
    "snpdata = SnpData(\"simphen_849\");"
   ]
  },
  {
   "cell_type": "code",
   "execution_count": 4,
   "metadata": {},
   "outputs": [
    {
     "data": {
      "text/plain": [
       "(849, 8348674)"
      ]
     },
     "execution_count": 4,
     "metadata": {},
     "output_type": "execute_result"
    }
   ],
   "source": [
    "# rows are people; columns are SNPs\n",
    "people, snps = size(data)"
   ]
  },
  {
   "cell_type": "markdown",
   "metadata": {},
   "source": [
    "We obtain summary statistics for later use, mainly the minor allele frequency (maf)."
   ]
  },
  {
   "cell_type": "code",
   "execution_count": 5,
   "metadata": {},
   "outputs": [
    {
     "data": {
      "text/plain": [
       "8348674-element Array{Float64,1}:\n",
       " 0.014201183431952646 \n",
       " 0.4032258064516129   \n",
       " 0.07116788321167888  \n",
       " 0.07099514563106801  \n",
       " 0.07776427703523692  \n",
       " 0.05110837438423643  \n",
       " 0.051724137931034475 \n",
       " 0.000589622641509413 \n",
       " 0.0011778563015312216\n",
       " 0.07334963325183375  \n",
       " 0.0017667844522968323\n",
       " 0.0011778563015312216\n",
       " 0.0011778563015312216\n",
       " ⋮                    \n",
       " 0.0011778563015312216\n",
       " 0.011189634864546494 \n",
       " 0.006478209658421719 \n",
       " 0.0017667844522968323\n",
       " 0.004711425206124886 \n",
       " 0.0005889281507656108\n",
       " 0.02414605418138982  \n",
       " 0.01531213191990577  \n",
       " 0.0223792697290931   \n",
       " 0.002944640753828054 \n",
       " 0.49469339622641506  \n",
       " 0.0017667844522968323"
      ]
     },
     "execution_count": 5,
     "metadata": {},
     "output_type": "execute_result"
    }
   ],
   "source": [
    "minor_allele_frequency = maf(data)"
   ]
  },
  {
   "cell_type": "code",
   "execution_count": 6,
   "metadata": {},
   "outputs": [
    {
     "data": {
      "text/html": [
       "<table class=\"data-frame\"><thead><tr><th></th><th>chromosome</th><th>snpid</th><th>genetic_distance</th><th>position</th><th>allele1</th><th>allele2</th></tr><tr><th></th><th>String</th><th>String</th><th>Float64</th><th>Int64</th><th>Categorical…</th><th>Categorical…</th></tr></thead><tbody><p>8,348,674 rows × 6 columns</p><tr><th>1</th><td>1</td><td>c1_54490</td><td>0.0</td><td>54490</td><td>A</td><td>G</td></tr><tr><th>2</th><td>1</td><td>c1_55550</td><td>0.0</td><td>55550</td><td>T</td><td>A</td></tr><tr><th>3</th><td>1</td><td>c1_57033</td><td>0.0</td><td>57033</td><td>C</td><td>T</td></tr><tr><th>4</th><td>1</td><td>c1_57064</td><td>0.0</td><td>57064</td><td>A</td><td>G</td></tr><tr><th>5</th><td>1</td><td>c1_57818</td><td>0.0</td><td>57818</td><td>A</td><td>C</td></tr><tr><th>6</th><td>1</td><td>c1_58432</td><td>0.0</td><td>58432</td><td>C</td><td>T</td></tr><tr><th>7</th><td>1</td><td>c1_58448</td><td>0.0</td><td>58448</td><td>A</td><td>G</td></tr><tr><th>8</th><td>1</td><td>c1_58814</td><td>0.0</td><td>58814</td><td>A</td><td>G</td></tr><tr><th>9</th><td>1</td><td>c1_59492</td><td>0.0</td><td>59492</td><td>G</td><td>A</td></tr><tr><th>10</th><td>1</td><td>c1_60829</td><td>0.0</td><td>60829</td><td>T</td><td>C</td></tr><tr><th>11</th><td>1</td><td>c1_61462</td><td>0.0</td><td>61462</td><td>A</td><td>T</td></tr><tr><th>12</th><td>1</td><td>c1_61920</td><td>0.0</td><td>61920</td><td>A</td><td>G</td></tr><tr><th>13</th><td>1</td><td>c1_62162</td><td>0.0</td><td>62162</td><td>A</td><td>G</td></tr><tr><th>14</th><td>1</td><td>c1_62180</td><td>0.0</td><td>62180</td><td>G</td><td>T</td></tr><tr><th>15</th><td>1</td><td>c1_62426</td><td>0.0</td><td>62426</td><td>A</td><td>G</td></tr><tr><th>16</th><td>1</td><td>c1_67580</td><td>0.0</td><td>67580</td><td>A</td><td>T</td></tr><tr><th>17</th><td>1</td><td>c1_74902</td><td>0.0</td><td>74902</td><td>T</td><td>C</td></tr><tr><th>18</th><td>1</td><td>c1_76838</td><td>0.0</td><td>76838</td><td>G</td><td>T</td></tr><tr><th>19</th><td>1</td><td>c1_76846</td><td>0.0</td><td>76846</td><td>A</td><td>T</td></tr><tr><th>20</th><td>1</td><td>c1_86000</td><td>0.0</td><td>86000</td><td>C</td><td>A</td></tr><tr><th>21</th><td>1</td><td>c1_86329</td><td>0.0</td><td>86329</td><td>T</td><td>G</td></tr><tr><th>22</th><td>1</td><td>c1_86331</td><td>0.0</td><td>86331</td><td>G</td><td>A</td></tr><tr><th>23</th><td>1</td><td>c1_86340</td><td>0.0</td><td>86340</td><td>T</td><td>C</td></tr><tr><th>24</th><td>1</td><td>c1_86947</td><td>0.0</td><td>86947</td><td>C</td><td>T</td></tr><tr><th>25</th><td>1</td><td>c1_87157</td><td>0.0</td><td>87157</td><td>G</td><td>C</td></tr><tr><th>26</th><td>1</td><td>c1_87176</td><td>0.0</td><td>87176</td><td>T</td><td>C</td></tr><tr><th>27</th><td>1</td><td>c1_87190</td><td>0.0</td><td>87190</td><td>A</td><td>G</td></tr><tr><th>28</th><td>1</td><td>c1_87366</td><td>0.0</td><td>87366</td><td>A</td><td>G</td></tr><tr><th>29</th><td>1</td><td>c1_87409</td><td>0.0</td><td>87409</td><td>T</td><td>C</td></tr><tr><th>30</th><td>1</td><td>c1_87683</td><td>0.0</td><td>87683</td><td>C</td><td>T</td></tr><tr><th>&vellip;</th><td>&vellip;</td><td>&vellip;</td><td>&vellip;</td><td>&vellip;</td><td>&vellip;</td><td>&vellip;</td></tr></tbody></table>"
      ],
      "text/latex": [
       "\\begin{tabular}{r|cccccc}\n",
       "\t& chromosome & snpid & genetic\\_distance & position & allele1 & allele2\\\\\n",
       "\t\\hline\n",
       "\t& String & String & Float64 & Int64 & Categorical… & Categorical…\\\\\n",
       "\t\\hline\n",
       "\t1 & 1 & c1\\_54490 & 0.0 & 54490 & A & G \\\\\n",
       "\t2 & 1 & c1\\_55550 & 0.0 & 55550 & T & A \\\\\n",
       "\t3 & 1 & c1\\_57033 & 0.0 & 57033 & C & T \\\\\n",
       "\t4 & 1 & c1\\_57064 & 0.0 & 57064 & A & G \\\\\n",
       "\t5 & 1 & c1\\_57818 & 0.0 & 57818 & A & C \\\\\n",
       "\t6 & 1 & c1\\_58432 & 0.0 & 58432 & C & T \\\\\n",
       "\t7 & 1 & c1\\_58448 & 0.0 & 58448 & A & G \\\\\n",
       "\t8 & 1 & c1\\_58814 & 0.0 & 58814 & A & G \\\\\n",
       "\t9 & 1 & c1\\_59492 & 0.0 & 59492 & G & A \\\\\n",
       "\t10 & 1 & c1\\_60829 & 0.0 & 60829 & T & C \\\\\n",
       "\t11 & 1 & c1\\_61462 & 0.0 & 61462 & A & T \\\\\n",
       "\t12 & 1 & c1\\_61920 & 0.0 & 61920 & A & G \\\\\n",
       "\t13 & 1 & c1\\_62162 & 0.0 & 62162 & A & G \\\\\n",
       "\t14 & 1 & c1\\_62180 & 0.0 & 62180 & G & T \\\\\n",
       "\t15 & 1 & c1\\_62426 & 0.0 & 62426 & A & G \\\\\n",
       "\t16 & 1 & c1\\_67580 & 0.0 & 67580 & A & T \\\\\n",
       "\t17 & 1 & c1\\_74902 & 0.0 & 74902 & T & C \\\\\n",
       "\t18 & 1 & c1\\_76838 & 0.0 & 76838 & G & T \\\\\n",
       "\t19 & 1 & c1\\_76846 & 0.0 & 76846 & A & T \\\\\n",
       "\t20 & 1 & c1\\_86000 & 0.0 & 86000 & C & A \\\\\n",
       "\t21 & 1 & c1\\_86329 & 0.0 & 86329 & T & G \\\\\n",
       "\t22 & 1 & c1\\_86331 & 0.0 & 86331 & G & A \\\\\n",
       "\t23 & 1 & c1\\_86340 & 0.0 & 86340 & T & C \\\\\n",
       "\t24 & 1 & c1\\_86947 & 0.0 & 86947 & C & T \\\\\n",
       "\t25 & 1 & c1\\_87157 & 0.0 & 87157 & G & C \\\\\n",
       "\t26 & 1 & c1\\_87176 & 0.0 & 87176 & T & C \\\\\n",
       "\t27 & 1 & c1\\_87190 & 0.0 & 87190 & A & G \\\\\n",
       "\t28 & 1 & c1\\_87366 & 0.0 & 87366 & A & G \\\\\n",
       "\t29 & 1 & c1\\_87409 & 0.0 & 87409 & T & C \\\\\n",
       "\t30 & 1 & c1\\_87683 & 0.0 & 87683 & C & T \\\\\n",
       "\t$\\dots$ & $\\dots$ & $\\dots$ & $\\dots$ & $\\dots$ & $\\dots$ & $\\dots$ \\\\\n",
       "\\end{tabular}\n"
      ],
      "text/plain": [
       "8348674×6 DataFrame. Omitted printing of 2 columns\n",
       "│ Row     │ chromosome │ snpid        │ genetic_distance │ position │\n",
       "│         │ \u001b[90mString\u001b[39m     │ \u001b[90mString\u001b[39m       │ \u001b[90mFloat64\u001b[39m          │ \u001b[90mInt64\u001b[39m    │\n",
       "├─────────┼────────────┼──────────────┼──────────────────┼──────────┤\n",
       "│ 1       │ 1          │ c1_54490     │ 0.0              │ 54490    │\n",
       "│ 2       │ 1          │ c1_55550     │ 0.0              │ 55550    │\n",
       "│ 3       │ 1          │ c1_57033     │ 0.0              │ 57033    │\n",
       "│ 4       │ 1          │ c1_57064     │ 0.0              │ 57064    │\n",
       "│ 5       │ 1          │ c1_57818     │ 0.0              │ 57818    │\n",
       "│ 6       │ 1          │ c1_58432     │ 0.0              │ 58432    │\n",
       "│ 7       │ 1          │ c1_58448     │ 0.0              │ 58448    │\n",
       "│ 8       │ 1          │ c1_58814     │ 0.0              │ 58814    │\n",
       "│ 9       │ 1          │ c1_59492     │ 0.0              │ 59492    │\n",
       "│ 10      │ 1          │ c1_60829     │ 0.0              │ 60829    │\n",
       "⋮\n",
       "│ 8348664 │ 21         │ c21_48098650 │ 0.0              │ 48098650 │\n",
       "│ 8348665 │ 21         │ c21_48099610 │ 0.0              │ 48099610 │\n",
       "│ 8348666 │ 21         │ c21_48099701 │ 0.0              │ 48099701 │\n",
       "│ 8348667 │ 21         │ c21_48099782 │ 0.0              │ 48099782 │\n",
       "│ 8348668 │ 21         │ c21_48099931 │ 0.0              │ 48099931 │\n",
       "│ 8348669 │ 21         │ c21_48100155 │ 0.0              │ 48100155 │\n",
       "│ 8348670 │ 21         │ c21_48100388 │ 0.0              │ 48100388 │\n",
       "│ 8348671 │ 21         │ c21_48100711 │ 0.0              │ 48100711 │\n",
       "│ 8348672 │ 21         │ c21_48100861 │ 0.0              │ 48100861 │\n",
       "│ 8348673 │ 21         │ c21_48101335 │ 0.0              │ 48101335 │\n",
       "│ 8348674 │ 21         │ c21_48101690 │ 0.0              │ 48101690 │"
      ]
     },
     "execution_count": 6,
     "metadata": {},
     "output_type": "execute_result"
    }
   ],
   "source": [
    "# columns are: :chrom, :snpid,\n",
    "snpdefbimfile = snpdata.snp_info # store the snp_info with the snp names"
   ]
  },
  {
   "cell_type": "markdown",
   "metadata": {},
   "source": [
    "We subset the SNP names into a vector called `snpid`"
   ]
  },
  {
   "cell_type": "code",
   "execution_count": 7,
   "metadata": {},
   "outputs": [],
   "source": [
    "snpid  = snpdefbimfile[!, :snpid] # store the snp names in the snpid vector;"
   ]
  },
  {
   "cell_type": "markdown",
   "metadata": {},
   "source": [
    "# Example 1: User Specified Model\n",
    "\n",
    "Say, for instance, we know which SNP's we want to have an effect on the Trait. \n",
    "\n",
    "To save computing time and memory, we can simply call them by their names in `snpid`, and subset only those specified SNP's for the analysis.\n",
    "\n",
    "In this example, we choose three snp's on three different chromosomes to prevent Linkage disequilibrium (LD). Say I know the associated SNP's are located on the tenth, eleventh and twenty first respective chromosomes to have an effect on the trait. We include the three SNP's and the interaction of the SNP on chromosome 11 and 21.\n",
    "\n",
    "We first get the indices of the specified snps to subset the dataset. The snps of interest in this example are in the 10th, 5348671th and 8348112th respective columns of the dataset.\n",
    "\n",
    "Note: While prior knowledge of which SNP's have an effect on the trait can be helpful, it is important to consider the proper assumptions of the SNP's before performing any analyses. In particular, we will later check to make sure that all the minor allele frequencies are large enough so that a fixed effect model makes sense, and the SNP's are not monomorphic. "
   ]
  },
  {
   "cell_type": "code",
   "execution_count": 8,
   "metadata": {},
   "outputs": [
    {
     "data": {
      "text/plain": [
       "3-element Array{Int64,1}:\n",
       "       3\n",
       " 5348671\n",
       " 8348112"
      ]
     },
     "execution_count": 8,
     "metadata": {},
     "output_type": "execute_result"
    }
   ],
   "source": [
    "specified_indices = findall(x -> (x == \"c1_57033\" || x == \"c11_2993197\"  || x == \"c21_48019937\"), snpid)\n",
    "# Use can change this SNP if you would like to assess another's snps effect on the trait, e.g.:\n",
    "# specified_indices = findall(x -> x == \"c1_61920\", snpid)"
   ]
  },
  {
   "cell_type": "code",
   "execution_count": 9,
   "metadata": {},
   "outputs": [
    {
     "data": {
      "text/html": [
       "<table class=\"data-frame\"><thead><tr><th></th><th>c1_57033</th><th>c11_2993197</th><th>c21_48019937</th><th>intxn</th></tr><tr><th></th><th>Float64</th><th>Float64</th><th>Float64</th><th>Float64</th></tr></thead><tbody><p>849 rows × 4 columns</p><tr><th>1</th><td>2.0</td><td>2.0</td><td>2.0</td><td>4.0</td></tr><tr><th>2</th><td>2.0</td><td>2.0</td><td>2.0</td><td>4.0</td></tr><tr><th>3</th><td>1.0</td><td>2.0</td><td>1.0</td><td>2.0</td></tr><tr><th>4</th><td>2.0</td><td>2.0</td><td>1.0</td><td>2.0</td></tr><tr><th>5</th><td>2.0</td><td>2.0</td><td>2.0</td><td>4.0</td></tr><tr><th>6</th><td>2.0</td><td>2.0</td><td>2.0</td><td>4.0</td></tr><tr><th>7</th><td>1.0</td><td>2.0</td><td>2.0</td><td>4.0</td></tr><tr><th>8</th><td>2.0</td><td>0.0</td><td>2.0</td><td>0.0</td></tr><tr><th>9</th><td>2.0</td><td>2.0</td><td>2.0</td><td>4.0</td></tr><tr><th>10</th><td>2.0</td><td>1.0</td><td>2.0</td><td>2.0</td></tr><tr><th>11</th><td>1.0</td><td>2.0</td><td>2.0</td><td>4.0</td></tr><tr><th>12</th><td>2.0</td><td>2.0</td><td>2.0</td><td>4.0</td></tr><tr><th>13</th><td>2.0</td><td>1.0</td><td>2.0</td><td>2.0</td></tr><tr><th>14</th><td>1.0</td><td>1.0</td><td>2.0</td><td>2.0</td></tr><tr><th>15</th><td>2.0</td><td>2.0</td><td>2.0</td><td>4.0</td></tr><tr><th>16</th><td>1.0</td><td>2.0</td><td>2.0</td><td>4.0</td></tr><tr><th>17</th><td>2.0</td><td>2.0</td><td>2.0</td><td>4.0</td></tr><tr><th>18</th><td>2.0</td><td>2.0</td><td>2.0</td><td>4.0</td></tr><tr><th>19</th><td>2.0</td><td>2.0</td><td>2.0</td><td>4.0</td></tr><tr><th>20</th><td>2.0</td><td>2.0</td><td>2.0</td><td>4.0</td></tr><tr><th>21</th><td>2.0</td><td>2.0</td><td>2.0</td><td>4.0</td></tr><tr><th>22</th><td>1.85766</td><td>2.0</td><td>2.0</td><td>4.0</td></tr><tr><th>23</th><td>1.0</td><td>2.0</td><td>2.0</td><td>4.0</td></tr><tr><th>24</th><td>2.0</td><td>1.0</td><td>2.0</td><td>2.0</td></tr><tr><th>25</th><td>2.0</td><td>1.0</td><td>2.0</td><td>2.0</td></tr><tr><th>26</th><td>2.0</td><td>2.0</td><td>2.0</td><td>4.0</td></tr><tr><th>27</th><td>2.0</td><td>2.0</td><td>2.0</td><td>4.0</td></tr><tr><th>28</th><td>2.0</td><td>2.0</td><td>2.0</td><td>4.0</td></tr><tr><th>29</th><td>2.0</td><td>2.0</td><td>2.0</td><td>4.0</td></tr><tr><th>30</th><td>2.0</td><td>1.0</td><td>2.0</td><td>2.0</td></tr><tr><th>&vellip;</th><td>&vellip;</td><td>&vellip;</td><td>&vellip;</td><td>&vellip;</td></tr></tbody></table>"
      ],
      "text/latex": [
       "\\begin{tabular}{r|cccc}\n",
       "\t& c1\\_57033 & c11\\_2993197 & c21\\_48019937 & intxn\\\\\n",
       "\t\\hline\n",
       "\t& Float64 & Float64 & Float64 & Float64\\\\\n",
       "\t\\hline\n",
       "\t1 & 2.0 & 2.0 & 2.0 & 4.0 \\\\\n",
       "\t2 & 2.0 & 2.0 & 2.0 & 4.0 \\\\\n",
       "\t3 & 1.0 & 2.0 & 1.0 & 2.0 \\\\\n",
       "\t4 & 2.0 & 2.0 & 1.0 & 2.0 \\\\\n",
       "\t5 & 2.0 & 2.0 & 2.0 & 4.0 \\\\\n",
       "\t6 & 2.0 & 2.0 & 2.0 & 4.0 \\\\\n",
       "\t7 & 1.0 & 2.0 & 2.0 & 4.0 \\\\\n",
       "\t8 & 2.0 & 0.0 & 2.0 & 0.0 \\\\\n",
       "\t9 & 2.0 & 2.0 & 2.0 & 4.0 \\\\\n",
       "\t10 & 2.0 & 1.0 & 2.0 & 2.0 \\\\\n",
       "\t11 & 1.0 & 2.0 & 2.0 & 4.0 \\\\\n",
       "\t12 & 2.0 & 2.0 & 2.0 & 4.0 \\\\\n",
       "\t13 & 2.0 & 1.0 & 2.0 & 2.0 \\\\\n",
       "\t14 & 1.0 & 1.0 & 2.0 & 2.0 \\\\\n",
       "\t15 & 2.0 & 2.0 & 2.0 & 4.0 \\\\\n",
       "\t16 & 1.0 & 2.0 & 2.0 & 4.0 \\\\\n",
       "\t17 & 2.0 & 2.0 & 2.0 & 4.0 \\\\\n",
       "\t18 & 2.0 & 2.0 & 2.0 & 4.0 \\\\\n",
       "\t19 & 2.0 & 2.0 & 2.0 & 4.0 \\\\\n",
       "\t20 & 2.0 & 2.0 & 2.0 & 4.0 \\\\\n",
       "\t21 & 2.0 & 2.0 & 2.0 & 4.0 \\\\\n",
       "\t22 & 1.85766 & 2.0 & 2.0 & 4.0 \\\\\n",
       "\t23 & 1.0 & 2.0 & 2.0 & 4.0 \\\\\n",
       "\t24 & 2.0 & 1.0 & 2.0 & 2.0 \\\\\n",
       "\t25 & 2.0 & 1.0 & 2.0 & 2.0 \\\\\n",
       "\t26 & 2.0 & 2.0 & 2.0 & 4.0 \\\\\n",
       "\t27 & 2.0 & 2.0 & 2.0 & 4.0 \\\\\n",
       "\t28 & 2.0 & 2.0 & 2.0 & 4.0 \\\\\n",
       "\t29 & 2.0 & 2.0 & 2.0 & 4.0 \\\\\n",
       "\t30 & 2.0 & 1.0 & 2.0 & 2.0 \\\\\n",
       "\t$\\dots$ & $\\dots$ & $\\dots$ & $\\dots$ & $\\dots$ \\\\\n",
       "\\end{tabular}\n"
      ],
      "text/plain": [
       "849×4 DataFrame\n",
       "│ Row │ c1_57033 │ c11_2993197 │ c21_48019937 │ intxn   │\n",
       "│     │ \u001b[90mFloat64\u001b[39m  │ \u001b[90mFloat64\u001b[39m     │ \u001b[90mFloat64\u001b[39m      │ \u001b[90mFloat64\u001b[39m │\n",
       "├─────┼──────────┼─────────────┼──────────────┼─────────┤\n",
       "│ 1   │ 2.0      │ 2.0         │ 2.0          │ 4.0     │\n",
       "│ 2   │ 2.0      │ 2.0         │ 2.0          │ 4.0     │\n",
       "│ 3   │ 1.0      │ 2.0         │ 1.0          │ 2.0     │\n",
       "│ 4   │ 2.0      │ 2.0         │ 1.0          │ 2.0     │\n",
       "│ 5   │ 2.0      │ 2.0         │ 2.0          │ 4.0     │\n",
       "│ 6   │ 2.0      │ 2.0         │ 2.0          │ 4.0     │\n",
       "│ 7   │ 1.0      │ 2.0         │ 2.0          │ 4.0     │\n",
       "│ 8   │ 2.0      │ 0.0         │ 2.0          │ 0.0     │\n",
       "│ 9   │ 2.0      │ 2.0         │ 2.0          │ 4.0     │\n",
       "│ 10  │ 2.0      │ 1.0         │ 2.0          │ 2.0     │\n",
       "⋮\n",
       "│ 839 │ 2.0      │ 2.0         │ 2.0          │ 4.0     │\n",
       "│ 840 │ 2.0      │ 2.0         │ 2.0          │ 4.0     │\n",
       "│ 841 │ 2.0      │ 2.0         │ 2.0          │ 4.0     │\n",
       "│ 842 │ 2.0      │ 2.0         │ 2.0          │ 4.0     │\n",
       "│ 843 │ 2.0      │ 2.0         │ 1.0          │ 2.0     │\n",
       "│ 844 │ 2.0      │ 2.0         │ 1.0          │ 2.0     │\n",
       "│ 845 │ 1.85766  │ 2.0         │ 2.0          │ 4.0     │\n",
       "│ 846 │ 2.0      │ 2.0         │ 2.0          │ 4.0     │\n",
       "│ 847 │ 2.0      │ 2.0         │ 2.0          │ 4.0     │\n",
       "│ 848 │ 2.0      │ 1.0         │ 2.0          │ 2.0     │\n",
       "│ 849 │ 1.85766  │ 2.0         │ 2.0          │ 4.0     │"
      ]
     },
     "execution_count": 9,
     "metadata": {},
     "output_type": "execute_result"
    }
   ],
   "source": [
    "loci = convert(Matrix{Float64}, @view(data[:, specified_indices]), impute = true)\n",
    "X_gen = DataFrame(loci)\n",
    "rename!(X_gen, Symbol.(snpid[specified_indices]))\n",
    "X_gen[!, :intxn] = X_gen[!, :c11_2993197].*X_gen[!, :c21_48019937]\n",
    "X_gen"
   ]
  },
  {
   "cell_type": "markdown",
   "metadata": {},
   "source": [
    "# Polymorphic Loci \n",
    "\n",
    "We check that the minor allele frequencies for our three specified SNP's are greater than 0.05 so we will proceed with just these SNP's in our fixed effect model. "
   ]
  },
  {
   "cell_type": "code",
   "execution_count": 10,
   "metadata": {},
   "outputs": [
    {
     "data": {
      "text/plain": [
       "3-element BitArray{1}:\n",
       " 1\n",
       " 1\n",
       " 1"
      ]
     },
     "execution_count": 10,
     "metadata": {},
     "output_type": "execute_result"
    }
   ],
   "source": [
    "minor_allele_frequency[specified_indices] .> 0.05"
   ]
  },
  {
   "cell_type": "markdown",
   "metadata": {},
   "source": [
    "For the three specified SNP's, we simulate effect sizes based off of their minor allele frequencies. These effect sizes will be used throughout example 1. "
   ]
  },
  {
   "cell_type": "markdown",
   "metadata": {},
   "source": [
    "# Simulate or Specify Non-genetic Covariates"
   ]
  },
  {
   "cell_type": "code",
   "execution_count": 11,
   "metadata": {},
   "outputs": [
    {
     "data": {
      "text/html": [
       "<table class=\"data-frame\"><thead><tr><th></th><th>intercept</th><th>age</th><th>sex</th><th>c1_57033</th><th>c11_2993197</th><th>c21_48019937</th><th>intxn</th></tr><tr><th></th><th>Float64</th><th>Float64</th><th>Float64</th><th>Float64</th><th>Float64</th><th>Float64</th><th>Float64</th></tr></thead><tbody><p>849 rows × 7 columns</p><tr><th>1</th><td>1.0</td><td>0.883123</td><td>1.0</td><td>2.0</td><td>2.0</td><td>2.0</td><td>4.0</td></tr><tr><th>2</th><td>1.0</td><td>-0.878451</td><td>1.0</td><td>2.0</td><td>2.0</td><td>2.0</td><td>4.0</td></tr><tr><th>3</th><td>1.0</td><td>-0.472917</td><td>1.0</td><td>1.0</td><td>2.0</td><td>1.0</td><td>2.0</td></tr><tr><th>4</th><td>1.0</td><td>-0.879617</td><td>1.0</td><td>2.0</td><td>2.0</td><td>1.0</td><td>2.0</td></tr><tr><th>5</th><td>1.0</td><td>0.88019</td><td>1.0</td><td>2.0</td><td>2.0</td><td>2.0</td><td>4.0</td></tr><tr><th>6</th><td>1.0</td><td>2.22194</td><td>1.0</td><td>2.0</td><td>2.0</td><td>2.0</td><td>4.0</td></tr><tr><th>7</th><td>1.0</td><td>0.550011</td><td>1.0</td><td>1.0</td><td>2.0</td><td>2.0</td><td>4.0</td></tr><tr><th>8</th><td>1.0</td><td>-0.25112</td><td>1.0</td><td>2.0</td><td>0.0</td><td>2.0</td><td>0.0</td></tr><tr><th>9</th><td>1.0</td><td>0.519661</td><td>1.0</td><td>2.0</td><td>2.0</td><td>2.0</td><td>4.0</td></tr><tr><th>10</th><td>1.0</td><td>-0.495326</td><td>1.0</td><td>2.0</td><td>1.0</td><td>2.0</td><td>2.0</td></tr><tr><th>11</th><td>1.0</td><td>-0.538659</td><td>1.0</td><td>1.0</td><td>2.0</td><td>2.0</td><td>4.0</td></tr><tr><th>12</th><td>1.0</td><td>0.000251449</td><td>1.0</td><td>2.0</td><td>2.0</td><td>2.0</td><td>4.0</td></tr><tr><th>13</th><td>1.0</td><td>0.146982</td><td>1.0</td><td>2.0</td><td>1.0</td><td>2.0</td><td>2.0</td></tr><tr><th>14</th><td>1.0</td><td>1.86437</td><td>1.0</td><td>1.0</td><td>1.0</td><td>2.0</td><td>2.0</td></tr><tr><th>15</th><td>1.0</td><td>-0.804785</td><td>1.0</td><td>2.0</td><td>2.0</td><td>2.0</td><td>4.0</td></tr><tr><th>16</th><td>1.0</td><td>0.12909</td><td>1.0</td><td>1.0</td><td>2.0</td><td>2.0</td><td>4.0</td></tr><tr><th>17</th><td>1.0</td><td>-0.230647</td><td>1.0</td><td>2.0</td><td>2.0</td><td>2.0</td><td>4.0</td></tr><tr><th>18</th><td>1.0</td><td>0.387604</td><td>1.0</td><td>2.0</td><td>2.0</td><td>2.0</td><td>4.0</td></tr><tr><th>19</th><td>1.0</td><td>0.0912712</td><td>1.0</td><td>2.0</td><td>2.0</td><td>2.0</td><td>4.0</td></tr><tr><th>20</th><td>1.0</td><td>-1.47758</td><td>1.0</td><td>2.0</td><td>2.0</td><td>2.0</td><td>4.0</td></tr><tr><th>21</th><td>1.0</td><td>1.57698</td><td>1.0</td><td>2.0</td><td>2.0</td><td>2.0</td><td>4.0</td></tr><tr><th>22</th><td>1.0</td><td>-1.37134</td><td>1.0</td><td>1.85766</td><td>2.0</td><td>2.0</td><td>4.0</td></tr><tr><th>23</th><td>1.0</td><td>1.12026</td><td>1.0</td><td>1.0</td><td>2.0</td><td>2.0</td><td>4.0</td></tr><tr><th>24</th><td>1.0</td><td>-1.08257</td><td>1.0</td><td>2.0</td><td>1.0</td><td>2.0</td><td>2.0</td></tr><tr><th>25</th><td>1.0</td><td>-3.17825</td><td>1.0</td><td>2.0</td><td>1.0</td><td>2.0</td><td>2.0</td></tr><tr><th>26</th><td>1.0</td><td>-0.0542388</td><td>1.0</td><td>2.0</td><td>2.0</td><td>2.0</td><td>4.0</td></tr><tr><th>27</th><td>1.0</td><td>0.169795</td><td>1.0</td><td>2.0</td><td>2.0</td><td>2.0</td><td>4.0</td></tr><tr><th>28</th><td>1.0</td><td>0.785471</td><td>1.0</td><td>2.0</td><td>2.0</td><td>2.0</td><td>4.0</td></tr><tr><th>29</th><td>1.0</td><td>-0.289374</td><td>1.0</td><td>2.0</td><td>2.0</td><td>2.0</td><td>4.0</td></tr><tr><th>30</th><td>1.0</td><td>-0.580685</td><td>1.0</td><td>2.0</td><td>1.0</td><td>2.0</td><td>2.0</td></tr><tr><th>&vellip;</th><td>&vellip;</td><td>&vellip;</td><td>&vellip;</td><td>&vellip;</td><td>&vellip;</td><td>&vellip;</td><td>&vellip;</td></tr></tbody></table>"
      ],
      "text/latex": [
       "\\begin{tabular}{r|ccccccc}\n",
       "\t& intercept & age & sex & c1\\_57033 & c11\\_2993197 & c21\\_48019937 & intxn\\\\\n",
       "\t\\hline\n",
       "\t& Float64 & Float64 & Float64 & Float64 & Float64 & Float64 & Float64\\\\\n",
       "\t\\hline\n",
       "\t1 & 1.0 & 0.883123 & 1.0 & 2.0 & 2.0 & 2.0 & 4.0 \\\\\n",
       "\t2 & 1.0 & -0.878451 & 1.0 & 2.0 & 2.0 & 2.0 & 4.0 \\\\\n",
       "\t3 & 1.0 & -0.472917 & 1.0 & 1.0 & 2.0 & 1.0 & 2.0 \\\\\n",
       "\t4 & 1.0 & -0.879617 & 1.0 & 2.0 & 2.0 & 1.0 & 2.0 \\\\\n",
       "\t5 & 1.0 & 0.88019 & 1.0 & 2.0 & 2.0 & 2.0 & 4.0 \\\\\n",
       "\t6 & 1.0 & 2.22194 & 1.0 & 2.0 & 2.0 & 2.0 & 4.0 \\\\\n",
       "\t7 & 1.0 & 0.550011 & 1.0 & 1.0 & 2.0 & 2.0 & 4.0 \\\\\n",
       "\t8 & 1.0 & -0.25112 & 1.0 & 2.0 & 0.0 & 2.0 & 0.0 \\\\\n",
       "\t9 & 1.0 & 0.519661 & 1.0 & 2.0 & 2.0 & 2.0 & 4.0 \\\\\n",
       "\t10 & 1.0 & -0.495326 & 1.0 & 2.0 & 1.0 & 2.0 & 2.0 \\\\\n",
       "\t11 & 1.0 & -0.538659 & 1.0 & 1.0 & 2.0 & 2.0 & 4.0 \\\\\n",
       "\t12 & 1.0 & 0.000251449 & 1.0 & 2.0 & 2.0 & 2.0 & 4.0 \\\\\n",
       "\t13 & 1.0 & 0.146982 & 1.0 & 2.0 & 1.0 & 2.0 & 2.0 \\\\\n",
       "\t14 & 1.0 & 1.86437 & 1.0 & 1.0 & 1.0 & 2.0 & 2.0 \\\\\n",
       "\t15 & 1.0 & -0.804785 & 1.0 & 2.0 & 2.0 & 2.0 & 4.0 \\\\\n",
       "\t16 & 1.0 & 0.12909 & 1.0 & 1.0 & 2.0 & 2.0 & 4.0 \\\\\n",
       "\t17 & 1.0 & -0.230647 & 1.0 & 2.0 & 2.0 & 2.0 & 4.0 \\\\\n",
       "\t18 & 1.0 & 0.387604 & 1.0 & 2.0 & 2.0 & 2.0 & 4.0 \\\\\n",
       "\t19 & 1.0 & 0.0912712 & 1.0 & 2.0 & 2.0 & 2.0 & 4.0 \\\\\n",
       "\t20 & 1.0 & -1.47758 & 1.0 & 2.0 & 2.0 & 2.0 & 4.0 \\\\\n",
       "\t21 & 1.0 & 1.57698 & 1.0 & 2.0 & 2.0 & 2.0 & 4.0 \\\\\n",
       "\t22 & 1.0 & -1.37134 & 1.0 & 1.85766 & 2.0 & 2.0 & 4.0 \\\\\n",
       "\t23 & 1.0 & 1.12026 & 1.0 & 1.0 & 2.0 & 2.0 & 4.0 \\\\\n",
       "\t24 & 1.0 & -1.08257 & 1.0 & 2.0 & 1.0 & 2.0 & 2.0 \\\\\n",
       "\t25 & 1.0 & -3.17825 & 1.0 & 2.0 & 1.0 & 2.0 & 2.0 \\\\\n",
       "\t26 & 1.0 & -0.0542388 & 1.0 & 2.0 & 2.0 & 2.0 & 4.0 \\\\\n",
       "\t27 & 1.0 & 0.169795 & 1.0 & 2.0 & 2.0 & 2.0 & 4.0 \\\\\n",
       "\t28 & 1.0 & 0.785471 & 1.0 & 2.0 & 2.0 & 2.0 & 4.0 \\\\\n",
       "\t29 & 1.0 & -0.289374 & 1.0 & 2.0 & 2.0 & 2.0 & 4.0 \\\\\n",
       "\t30 & 1.0 & -0.580685 & 1.0 & 2.0 & 1.0 & 2.0 & 2.0 \\\\\n",
       "\t$\\dots$ & $\\dots$ & $\\dots$ & $\\dots$ & $\\dots$ & $\\dots$ & $\\dots$ & $\\dots$ \\\\\n",
       "\\end{tabular}\n"
      ],
      "text/plain": [
       "849×7 DataFrame. Omitted printing of 2 columns\n",
       "│ Row │ intercept │ age       │ sex     │ c1_57033 │ c11_2993197 │\n",
       "│     │ \u001b[90mFloat64\u001b[39m   │ \u001b[90mFloat64\u001b[39m   │ \u001b[90mFloat64\u001b[39m │ \u001b[90mFloat64\u001b[39m  │ \u001b[90mFloat64\u001b[39m     │\n",
       "├─────┼───────────┼───────────┼─────────┼──────────┼─────────────┤\n",
       "│ 1   │ 1.0       │ 0.883123  │ 1.0     │ 2.0      │ 2.0         │\n",
       "│ 2   │ 1.0       │ -0.878451 │ 1.0     │ 2.0      │ 2.0         │\n",
       "│ 3   │ 1.0       │ -0.472917 │ 1.0     │ 1.0      │ 2.0         │\n",
       "│ 4   │ 1.0       │ -0.879617 │ 1.0     │ 2.0      │ 2.0         │\n",
       "│ 5   │ 1.0       │ 0.88019   │ 1.0     │ 2.0      │ 2.0         │\n",
       "│ 6   │ 1.0       │ 2.22194   │ 1.0     │ 2.0      │ 2.0         │\n",
       "│ 7   │ 1.0       │ 0.550011  │ 1.0     │ 1.0      │ 2.0         │\n",
       "│ 8   │ 1.0       │ -0.25112  │ 1.0     │ 2.0      │ 0.0         │\n",
       "│ 9   │ 1.0       │ 0.519661  │ 1.0     │ 2.0      │ 2.0         │\n",
       "│ 10  │ 1.0       │ -0.495326 │ 1.0     │ 2.0      │ 1.0         │\n",
       "⋮\n",
       "│ 839 │ 1.0       │ 0.14013   │ 1.0     │ 2.0      │ 2.0         │\n",
       "│ 840 │ 1.0       │ 1.3462    │ 1.0     │ 2.0      │ 2.0         │\n",
       "│ 841 │ 1.0       │ -0.07404  │ 1.0     │ 2.0      │ 2.0         │\n",
       "│ 842 │ 1.0       │ -2.28684  │ 1.0     │ 2.0      │ 2.0         │\n",
       "│ 843 │ 1.0       │ 1.54095   │ 1.0     │ 2.0      │ 2.0         │\n",
       "│ 844 │ 1.0       │ 0.975948  │ 1.0     │ 2.0      │ 2.0         │\n",
       "│ 845 │ 1.0       │ -0.999364 │ 1.0     │ 1.85766  │ 2.0         │\n",
       "│ 846 │ 1.0       │ 1.69877   │ 1.0     │ 2.0      │ 2.0         │\n",
       "│ 847 │ 1.0       │ -1.15702  │ 1.0     │ 2.0      │ 2.0         │\n",
       "│ 848 │ 1.0       │ 0.442174  │ 1.0     │ 2.0      │ 1.0         │\n",
       "│ 849 │ 1.0       │ 1.06363   │ 1.0     │ 1.85766  │ 2.0         │"
      ]
     },
     "execution_count": 11,
     "metadata": {},
     "output_type": "execute_result"
    }
   ],
   "source": [
    "n = people\n",
    "famfile = snpdata.person_info\n",
    "IndividualID = famfile[:, 1:2];\n",
    "\n",
    "# map sex from M/F to 1/0\n",
    "sex = map(x -> strip(x) == \"F\" ? 0.0 : 1.0, famfile[!, :sex]);\n",
    "\n",
    "# pdf_sex = Bernoulli(0.51)\n",
    "pdf_age = Normal(45, 8)\n",
    "\n",
    "# sex = rand(pdf_sex, n)\n",
    "# # simulate age under the specified pdf_age and standardize to be ~ N(0, 1)\n",
    "age = zscore(rand(pdf_age, n))\n",
    "intercept = ones(n)\n",
    "X_non_gen = DataFrame(intercept = intercept, age = age, sex = sex)\n",
    "sim_effectsize = simulate_effect_size(minor_allele_frequency[specified_indices])\n",
    "intxn_effect = 0.3\n",
    "\n",
    "β_cov = [1.0, 0.0002, 0.2]\n",
    "β = vcat(β_cov, sim_effectsize, intxn_effect)\n",
    "X_design = [X_non_gen X_gen]"
   ]
  },
  {
   "cell_type": "markdown",
   "metadata": {},
   "source": [
    "# Genetic Relationship Matrix (GRM)\n",
    "\n",
    "We estimate the kinship using the grm function in `SnpArrays` from only the common snps with minor allele frequency(maf) > 0.05.\n",
    "\n",
    "We will use the same values of GRM, I and Σ for all 3 examples. \n",
    "\n",
    "This example simulates an infinitesmal effect model in which each SNP contributes a small amount to the variance of the trait. In this case, methods to identify SNPs that contribute to the trait value will be unsuccessful and any SNPs identified are false positives.  As such, this simulation can be when the null hypothesis is desired. \n",
    "\n",
    "Another issue of importance $E(GRM) = \\Phi$ and $V_p = 2V_a \\Phi + V_e I$ , so we are in fact simulating a trait that has $V_p = 1.0, h^2 = 0.30$."
   ]
  },
  {
   "cell_type": "markdown",
   "metadata": {},
   "source": [
    "We take a look at the Genetic Relationship Matrix computed through `SnpArrays`. \n",
    "As a rule of thumb, we should see values close to a half on the diagonal of the GRM."
   ]
  },
  {
   "cell_type": "code",
   "execution_count": 12,
   "metadata": {},
   "outputs": [
    {
     "data": {
      "text/plain": [
       "849×849 Array{Float64,2}:\n",
       "  0.439528      0.00578792   -0.00513657   …  -0.0102565    -0.00735002 \n",
       "  0.00578792    0.470776      0.000283674      0.00113738    0.00338513 \n",
       " -0.00513657    0.000283674   0.494281         0.00753482    0.000493164\n",
       "  0.00397425    0.00685784   -0.00111751      -0.00632067   -0.0036096  \n",
       " -0.00947635    0.0052004     0.00138248       0.0120027     0.00402512 \n",
       "  0.0122564     0.00843351    0.00381375   …  -0.00097642   -0.00135375 \n",
       "  3.40091e-5    2.97977e-5    0.00906778      -0.00214236    0.000921063\n",
       " -0.0198685    -0.00111119    0.00533031       0.0141974     0.00952904 \n",
       " -0.00775167   -0.00142722   -0.0017737        0.00681067    0.00854752 \n",
       " -0.00505832    0.00025334    0.00538903       0.00195095   -0.000926909\n",
       " -0.00379525   -0.00118807    0.00577121   …   0.000668809  -0.00292677 \n",
       " -0.00840363   -0.00287342    0.00480007       0.00490979    0.00382081 \n",
       " -0.00593582   -0.00042752    0.0052472       -0.0031738     0.000446541\n",
       "  ⋮                                        ⋱                            \n",
       "  0.0036944     0.000267896   0.00416749       0.111183      0.00776578 \n",
       "  0.00142452    0.0039087    -0.000806297      0.132712      0.0233186  \n",
       " -0.00108096    0.0010256     0.00411436       0.117325      0.0241288  \n",
       " -0.00370825    0.00389171    0.00277797   …   0.103566      0.0171545  \n",
       "  0.00175613    0.00296945    5.37366e-5       0.11965       0.0138927  \n",
       " -0.00163659    0.00161204    0.000544151      0.0233791     0.138826   \n",
       " -0.00211476    0.00316078    0.000326306      0.0340522     0.128167   \n",
       " -0.00380526    0.00221129    3.25379e-5       0.0300037     0.249377   \n",
       " -0.000687734  -0.00126215    0.00184584   …   0.0344263     0.163694   \n",
       " -0.00134941   -0.00113921    0.00252752       0.0221419     0.124211   \n",
       " -0.0102565     0.00113738    0.00753482       0.494984      0.0168303  \n",
       " -0.00735002    0.00338513    0.000493164      0.0168303     0.512316   "
      ]
     },
     "execution_count": 12,
     "metadata": {},
     "output_type": "execute_result"
    }
   ],
   "source": [
    "# Compute GRM using the grm function in SnpArrays\n",
    "GRM = grm(data)"
   ]
  },
  {
   "cell_type": "code",
   "execution_count": 13,
   "metadata": {},
   "outputs": [
    {
     "data": {
      "text/plain": [
       "Variance Component Model\n",
       "  * number of traits: 1\n",
       "  * number of variance components: 2\n",
       "  * sample size: 849"
      ]
     },
     "execution_count": 13,
     "metadata": {},
     "output_type": "execute_result"
    }
   ],
   "source": [
    "I_n = Matrix{Float64}(I, size(GRM));\n",
    "totalvc = @vc [0.1][:, :] ⊗ (GRM + I_n) + [0.9][:, :] ⊗ I_n\n",
    "# # # Create the simulation model \n",
    "vcm_model1 =  VCMTrait(Matrix(X_design), β, totalvc)"
   ]
  },
  {
   "cell_type": "code",
   "execution_count": 14,
   "metadata": {},
   "outputs": [
    {
     "data": {
      "text/html": [
       "<table class=\"data-frame\"><thead><tr><th></th><th>Trait</th></tr><tr><th></th><th>Float64</th></tr></thead><tbody><p>849 rows × 1 columns</p><tr><th>1</th><td>-0.461096</td></tr><tr><th>2</th><td>0.436411</td></tr><tr><th>3</th><td>0.981048</td></tr><tr><th>4</th><td>-1.06051</td></tr><tr><th>5</th><td>0.244939</td></tr><tr><th>6</th><td>2.03927</td></tr><tr><th>7</th><td>0.261482</td></tr><tr><th>8</th><td>-1.66674</td></tr><tr><th>9</th><td>0.415643</td></tr><tr><th>10</th><td>0.841028</td></tr><tr><th>11</th><td>0.0811413</td></tr><tr><th>12</th><td>-1.86475</td></tr><tr><th>13</th><td>-1.22388</td></tr><tr><th>14</th><td>1.18337</td></tr><tr><th>15</th><td>0.248347</td></tr><tr><th>16</th><td>0.779913</td></tr><tr><th>17</th><td>-0.136128</td></tr><tr><th>18</th><td>0.714752</td></tr><tr><th>19</th><td>-0.919125</td></tr><tr><th>20</th><td>-0.358804</td></tr><tr><th>21</th><td>-0.482117</td></tr><tr><th>22</th><td>0.462557</td></tr><tr><th>23</th><td>-0.496663</td></tr><tr><th>24</th><td>0.796003</td></tr><tr><th>25</th><td>-1.23315</td></tr><tr><th>26</th><td>0.786397</td></tr><tr><th>27</th><td>2.31716</td></tr><tr><th>28</th><td>-0.0398159</td></tr><tr><th>29</th><td>1.70039</td></tr><tr><th>30</th><td>0.0149443</td></tr><tr><th>&vellip;</th><td>&vellip;</td></tr></tbody></table>"
      ],
      "text/latex": [
       "\\begin{tabular}{r|c}\n",
       "\t& Trait\\\\\n",
       "\t\\hline\n",
       "\t& Float64\\\\\n",
       "\t\\hline\n",
       "\t1 & -0.461096 \\\\\n",
       "\t2 & 0.436411 \\\\\n",
       "\t3 & 0.981048 \\\\\n",
       "\t4 & -1.06051 \\\\\n",
       "\t5 & 0.244939 \\\\\n",
       "\t6 & 2.03927 \\\\\n",
       "\t7 & 0.261482 \\\\\n",
       "\t8 & -1.66674 \\\\\n",
       "\t9 & 0.415643 \\\\\n",
       "\t10 & 0.841028 \\\\\n",
       "\t11 & 0.0811413 \\\\\n",
       "\t12 & -1.86475 \\\\\n",
       "\t13 & -1.22388 \\\\\n",
       "\t14 & 1.18337 \\\\\n",
       "\t15 & 0.248347 \\\\\n",
       "\t16 & 0.779913 \\\\\n",
       "\t17 & -0.136128 \\\\\n",
       "\t18 & 0.714752 \\\\\n",
       "\t19 & -0.919125 \\\\\n",
       "\t20 & -0.358804 \\\\\n",
       "\t21 & -0.482117 \\\\\n",
       "\t22 & 0.462557 \\\\\n",
       "\t23 & -0.496663 \\\\\n",
       "\t24 & 0.796003 \\\\\n",
       "\t25 & -1.23315 \\\\\n",
       "\t26 & 0.786397 \\\\\n",
       "\t27 & 2.31716 \\\\\n",
       "\t28 & -0.0398159 \\\\\n",
       "\t29 & 1.70039 \\\\\n",
       "\t30 & 0.0149443 \\\\\n",
       "\t$\\dots$ & $\\dots$ \\\\\n",
       "\\end{tabular}\n"
      ],
      "text/plain": [
       "849×1 DataFrame\n",
       "│ Row │ Trait     │\n",
       "│     │ \u001b[90mFloat64\u001b[39m   │\n",
       "├─────┼───────────┤\n",
       "│ 1   │ -0.461096 │\n",
       "│ 2   │ 0.436411  │\n",
       "│ 3   │ 0.981048  │\n",
       "│ 4   │ -1.06051  │\n",
       "│ 5   │ 0.244939  │\n",
       "│ 6   │ 2.03927   │\n",
       "│ 7   │ 0.261482  │\n",
       "│ 8   │ -1.66674  │\n",
       "│ 9   │ 0.415643  │\n",
       "│ 10  │ 0.841028  │\n",
       "⋮\n",
       "│ 839 │ -0.714014 │\n",
       "│ 840 │ -3.37642  │\n",
       "│ 841 │ -0.69951  │\n",
       "│ 842 │ -1.61255  │\n",
       "│ 843 │ 0.912233  │\n",
       "│ 844 │ -1.3057   │\n",
       "│ 845 │ 1.98376   │\n",
       "│ 846 │ 1.96596   │\n",
       "│ 847 │ 1.08977   │\n",
       "│ 848 │ -0.087134 │\n",
       "│ 849 │ 0.63953   │"
      ]
     },
     "execution_count": 14,
     "metadata": {},
     "output_type": "execute_result"
    }
   ],
   "source": [
    "# simulate the trait\n",
    "y_1 = DataFrame(Trait = simulate(vcm_model1)[:])"
   ]
  },
  {
   "cell_type": "markdown",
   "metadata": {},
   "source": [
    "## Saving Simulation Results to Local Machine\n",
    "\n",
    "Next we output the SNPs and the coefficients used to simulate this trait along with the simulated trait values and corresponding design matrix for each of the 849 individuals, labeled by their pedigree ID and person ID.\n",
    "\n",
    "In addition, we output the genotypes for the variants used to simulate this trait. Note that we can impute missing genotypes by turning the argument `impute = true`.\n"
   ]
  },
  {
   "cell_type": "code",
   "execution_count": 15,
   "metadata": {},
   "outputs": [
    {
     "data": {
      "text/html": [
       "<table class=\"data-frame\"><thead><tr><th></th><th>Coefficients</th><th>covariates</th></tr><tr><th></th><th>Float64</th><th>Symbol</th></tr></thead><tbody><p>7 rows × 2 columns</p><tr><th>1</th><td>1.0</td><td>intercept</td></tr><tr><th>2</th><td>0.0002</td><td>age</td></tr><tr><th>3</th><td>0.2</td><td>sex</td></tr><tr><th>4</th><td>-0.388946</td><td>c1_57033</td></tr><tr><th>5</th><td>-0.244657</td><td>c11_2993197</td></tr><tr><th>6</th><td>-0.376091</td><td>c21_48019937</td></tr><tr><th>7</th><td>0.3</td><td>intxn</td></tr></tbody></table>"
      ],
      "text/latex": [
       "\\begin{tabular}{r|cc}\n",
       "\t& Coefficients & covariates\\\\\n",
       "\t\\hline\n",
       "\t& Float64 & Symbol\\\\\n",
       "\t\\hline\n",
       "\t1 & 1.0 & intercept \\\\\n",
       "\t2 & 0.0002 & age \\\\\n",
       "\t3 & 0.2 & sex \\\\\n",
       "\t4 & -0.388946 & c1\\_57033 \\\\\n",
       "\t5 & -0.244657 & c11\\_2993197 \\\\\n",
       "\t6 & -0.376091 & c21\\_48019937 \\\\\n",
       "\t7 & 0.3 & intxn \\\\\n",
       "\\end{tabular}\n"
      ],
      "text/plain": [
       "7×2 DataFrame\n",
       "│ Row │ Coefficients │ covariates   │\n",
       "│     │ \u001b[90mFloat64\u001b[39m      │ \u001b[90mSymbol\u001b[39m       │\n",
       "├─────┼──────────────┼──────────────┤\n",
       "│ 1   │ 1.0          │ intercept    │\n",
       "│ 2   │ 0.0002       │ age          │\n",
       "│ 3   │ 0.2          │ sex          │\n",
       "│ 4   │ -0.388946    │ c1_57033     │\n",
       "│ 5   │ -0.244657    │ c11_2993197  │\n",
       "│ 6   │ -0.376091    │ c21_48019937 │\n",
       "│ 7   │ 0.3          │ intxn        │"
      ]
     },
     "execution_count": 15,
     "metadata": {},
     "output_type": "execute_result"
    }
   ],
   "source": [
    "Coefficients = DataFrame(Coefficients = β)\n",
    "Covariates = DataFrame(covariates = names(X_design))\n",
    "Trait1_SNPs = hcat(Coefficients, Covariates)"
   ]
  },
  {
   "cell_type": "code",
   "execution_count": 16,
   "metadata": {},
   "outputs": [
    {
     "data": {
      "text/html": [
       "<table class=\"data-frame\"><thead><tr><th></th><th>fid</th><th>iid</th><th>intercept</th><th>age</th><th>sex</th><th>c1_57033</th><th>c11_2993197</th></tr><tr><th></th><th>Abstract…</th><th>Abstract…</th><th>Float64</th><th>Float64</th><th>Float64</th><th>Float64</th><th>Float64</th></tr></thead><tbody><p>849 rows × 9 columns (omitted printing of 2 columns)</p><tr><th>1</th><td>2</td><td>T2DG0200001</td><td>1.0</td><td>0.883123</td><td>1.0</td><td>2.0</td><td>2.0</td></tr><tr><th>2</th><td>2</td><td>T2DG0200002</td><td>1.0</td><td>-0.878451</td><td>1.0</td><td>2.0</td><td>2.0</td></tr><tr><th>3</th><td>2</td><td>T2DG0200003</td><td>1.0</td><td>-0.472917</td><td>1.0</td><td>1.0</td><td>2.0</td></tr><tr><th>4</th><td>2</td><td>T2DG0200004</td><td>1.0</td><td>-0.879617</td><td>1.0</td><td>2.0</td><td>2.0</td></tr><tr><th>5</th><td>2</td><td>T2DG0200005</td><td>1.0</td><td>0.88019</td><td>1.0</td><td>2.0</td><td>2.0</td></tr><tr><th>6</th><td>2</td><td>T2DG0200006</td><td>1.0</td><td>2.22194</td><td>1.0</td><td>2.0</td><td>2.0</td></tr><tr><th>7</th><td>2</td><td>T2DG0200007</td><td>1.0</td><td>0.550011</td><td>1.0</td><td>1.0</td><td>2.0</td></tr><tr><th>8</th><td>2</td><td>T2DG0200008</td><td>1.0</td><td>-0.25112</td><td>1.0</td><td>2.0</td><td>0.0</td></tr><tr><th>9</th><td>2</td><td>T2DG0200009</td><td>1.0</td><td>0.519661</td><td>1.0</td><td>2.0</td><td>2.0</td></tr><tr><th>10</th><td>2</td><td>T2DG0200012</td><td>1.0</td><td>-0.495326</td><td>1.0</td><td>2.0</td><td>1.0</td></tr><tr><th>11</th><td>2</td><td>T2DG0200013</td><td>1.0</td><td>-0.538659</td><td>1.0</td><td>1.0</td><td>2.0</td></tr><tr><th>12</th><td>2</td><td>T2DG0200018</td><td>1.0</td><td>0.000251449</td><td>1.0</td><td>2.0</td><td>2.0</td></tr><tr><th>13</th><td>2</td><td>T2DG0200023</td><td>1.0</td><td>0.146982</td><td>1.0</td><td>2.0</td><td>1.0</td></tr><tr><th>14</th><td>2</td><td>T2DG0200027</td><td>1.0</td><td>1.86437</td><td>1.0</td><td>1.0</td><td>1.0</td></tr><tr><th>15</th><td>2</td><td>T2DG0200031</td><td>1.0</td><td>-0.804785</td><td>1.0</td><td>2.0</td><td>2.0</td></tr><tr><th>16</th><td>2</td><td>T2DG0200032</td><td>1.0</td><td>0.12909</td><td>1.0</td><td>1.0</td><td>2.0</td></tr><tr><th>17</th><td>2</td><td>T2DG0200033</td><td>1.0</td><td>-0.230647</td><td>1.0</td><td>2.0</td><td>2.0</td></tr><tr><th>18</th><td>2</td><td>T2DG0200034</td><td>1.0</td><td>0.387604</td><td>1.0</td><td>2.0</td><td>2.0</td></tr><tr><th>19</th><td>2</td><td>T2DG0200035</td><td>1.0</td><td>0.0912712</td><td>1.0</td><td>2.0</td><td>2.0</td></tr><tr><th>20</th><td>2</td><td>T2DG0200036</td><td>1.0</td><td>-1.47758</td><td>1.0</td><td>2.0</td><td>2.0</td></tr><tr><th>21</th><td>2</td><td>T2DG0200039</td><td>1.0</td><td>1.57698</td><td>1.0</td><td>2.0</td><td>2.0</td></tr><tr><th>22</th><td>2</td><td>T2DG0200040</td><td>1.0</td><td>-1.37134</td><td>1.0</td><td>1.85766</td><td>2.0</td></tr><tr><th>23</th><td>2</td><td>T2DG0200041</td><td>1.0</td><td>1.12026</td><td>1.0</td><td>1.0</td><td>2.0</td></tr><tr><th>24</th><td>2</td><td>T2DG0200042</td><td>1.0</td><td>-1.08257</td><td>1.0</td><td>2.0</td><td>1.0</td></tr><tr><th>25</th><td>2</td><td>T2DG0200043</td><td>1.0</td><td>-3.17825</td><td>1.0</td><td>2.0</td><td>1.0</td></tr><tr><th>26</th><td>2</td><td>T2DG0200045</td><td>1.0</td><td>-0.0542388</td><td>1.0</td><td>2.0</td><td>2.0</td></tr><tr><th>27</th><td>2</td><td>T2DG0200046</td><td>1.0</td><td>0.169795</td><td>1.0</td><td>2.0</td><td>2.0</td></tr><tr><th>28</th><td>2</td><td>T2DG0200047</td><td>1.0</td><td>0.785471</td><td>1.0</td><td>2.0</td><td>2.0</td></tr><tr><th>29</th><td>2</td><td>T2DG0200048</td><td>1.0</td><td>-0.289374</td><td>1.0</td><td>2.0</td><td>2.0</td></tr><tr><th>30</th><td>2</td><td>T2DG0200049</td><td>1.0</td><td>-0.580685</td><td>1.0</td><td>2.0</td><td>1.0</td></tr><tr><th>&vellip;</th><td>&vellip;</td><td>&vellip;</td><td>&vellip;</td><td>&vellip;</td><td>&vellip;</td><td>&vellip;</td><td>&vellip;</td></tr></tbody></table>"
      ],
      "text/latex": [
       "\\begin{tabular}{r|cccccccc}\n",
       "\t& fid & iid & intercept & age & sex & c1\\_57033 & c11\\_2993197 & \\\\\n",
       "\t\\hline\n",
       "\t& Abstract… & Abstract… & Float64 & Float64 & Float64 & Float64 & Float64 & \\\\\n",
       "\t\\hline\n",
       "\t1 & 2 & T2DG0200001 & 1.0 & 0.883123 & 1.0 & 2.0 & 2.0 & $\\dots$ \\\\\n",
       "\t2 & 2 & T2DG0200002 & 1.0 & -0.878451 & 1.0 & 2.0 & 2.0 & $\\dots$ \\\\\n",
       "\t3 & 2 & T2DG0200003 & 1.0 & -0.472917 & 1.0 & 1.0 & 2.0 & $\\dots$ \\\\\n",
       "\t4 & 2 & T2DG0200004 & 1.0 & -0.879617 & 1.0 & 2.0 & 2.0 & $\\dots$ \\\\\n",
       "\t5 & 2 & T2DG0200005 & 1.0 & 0.88019 & 1.0 & 2.0 & 2.0 & $\\dots$ \\\\\n",
       "\t6 & 2 & T2DG0200006 & 1.0 & 2.22194 & 1.0 & 2.0 & 2.0 & $\\dots$ \\\\\n",
       "\t7 & 2 & T2DG0200007 & 1.0 & 0.550011 & 1.0 & 1.0 & 2.0 & $\\dots$ \\\\\n",
       "\t8 & 2 & T2DG0200008 & 1.0 & -0.25112 & 1.0 & 2.0 & 0.0 & $\\dots$ \\\\\n",
       "\t9 & 2 & T2DG0200009 & 1.0 & 0.519661 & 1.0 & 2.0 & 2.0 & $\\dots$ \\\\\n",
       "\t10 & 2 & T2DG0200012 & 1.0 & -0.495326 & 1.0 & 2.0 & 1.0 & $\\dots$ \\\\\n",
       "\t11 & 2 & T2DG0200013 & 1.0 & -0.538659 & 1.0 & 1.0 & 2.0 & $\\dots$ \\\\\n",
       "\t12 & 2 & T2DG0200018 & 1.0 & 0.000251449 & 1.0 & 2.0 & 2.0 & $\\dots$ \\\\\n",
       "\t13 & 2 & T2DG0200023 & 1.0 & 0.146982 & 1.0 & 2.0 & 1.0 & $\\dots$ \\\\\n",
       "\t14 & 2 & T2DG0200027 & 1.0 & 1.86437 & 1.0 & 1.0 & 1.0 & $\\dots$ \\\\\n",
       "\t15 & 2 & T2DG0200031 & 1.0 & -0.804785 & 1.0 & 2.0 & 2.0 & $\\dots$ \\\\\n",
       "\t16 & 2 & T2DG0200032 & 1.0 & 0.12909 & 1.0 & 1.0 & 2.0 & $\\dots$ \\\\\n",
       "\t17 & 2 & T2DG0200033 & 1.0 & -0.230647 & 1.0 & 2.0 & 2.0 & $\\dots$ \\\\\n",
       "\t18 & 2 & T2DG0200034 & 1.0 & 0.387604 & 1.0 & 2.0 & 2.0 & $\\dots$ \\\\\n",
       "\t19 & 2 & T2DG0200035 & 1.0 & 0.0912712 & 1.0 & 2.0 & 2.0 & $\\dots$ \\\\\n",
       "\t20 & 2 & T2DG0200036 & 1.0 & -1.47758 & 1.0 & 2.0 & 2.0 & $\\dots$ \\\\\n",
       "\t21 & 2 & T2DG0200039 & 1.0 & 1.57698 & 1.0 & 2.0 & 2.0 & $\\dots$ \\\\\n",
       "\t22 & 2 & T2DG0200040 & 1.0 & -1.37134 & 1.0 & 1.85766 & 2.0 & $\\dots$ \\\\\n",
       "\t23 & 2 & T2DG0200041 & 1.0 & 1.12026 & 1.0 & 1.0 & 2.0 & $\\dots$ \\\\\n",
       "\t24 & 2 & T2DG0200042 & 1.0 & -1.08257 & 1.0 & 2.0 & 1.0 & $\\dots$ \\\\\n",
       "\t25 & 2 & T2DG0200043 & 1.0 & -3.17825 & 1.0 & 2.0 & 1.0 & $\\dots$ \\\\\n",
       "\t26 & 2 & T2DG0200045 & 1.0 & -0.0542388 & 1.0 & 2.0 & 2.0 & $\\dots$ \\\\\n",
       "\t27 & 2 & T2DG0200046 & 1.0 & 0.169795 & 1.0 & 2.0 & 2.0 & $\\dots$ \\\\\n",
       "\t28 & 2 & T2DG0200047 & 1.0 & 0.785471 & 1.0 & 2.0 & 2.0 & $\\dots$ \\\\\n",
       "\t29 & 2 & T2DG0200048 & 1.0 & -0.289374 & 1.0 & 2.0 & 2.0 & $\\dots$ \\\\\n",
       "\t30 & 2 & T2DG0200049 & 1.0 & -0.580685 & 1.0 & 2.0 & 1.0 & $\\dots$ \\\\\n",
       "\t$\\dots$ & $\\dots$ & $\\dots$ & $\\dots$ & $\\dots$ & $\\dots$ & $\\dots$ & $\\dots$ &  \\\\\n",
       "\\end{tabular}\n"
      ],
      "text/plain": [
       "849×9 DataFrame. Omitted printing of 3 columns\n",
       "│ Row │ fid       │ iid         │ intercept │ age       │ sex     │ c1_57033 │\n",
       "│     │ \u001b[90mAbstract…\u001b[39m │ \u001b[90mAbstract…\u001b[39m   │ \u001b[90mFloat64\u001b[39m   │ \u001b[90mFloat64\u001b[39m   │ \u001b[90mFloat64\u001b[39m │ \u001b[90mFloat64\u001b[39m  │\n",
       "├─────┼───────────┼─────────────┼───────────┼───────────┼─────────┼──────────┤\n",
       "│ 1   │ 2         │ T2DG0200001 │ 1.0       │ 0.883123  │ 1.0     │ 2.0      │\n",
       "│ 2   │ 2         │ T2DG0200002 │ 1.0       │ -0.878451 │ 1.0     │ 2.0      │\n",
       "│ 3   │ 2         │ T2DG0200003 │ 1.0       │ -0.472917 │ 1.0     │ 1.0      │\n",
       "│ 4   │ 2         │ T2DG0200004 │ 1.0       │ -0.879617 │ 1.0     │ 2.0      │\n",
       "│ 5   │ 2         │ T2DG0200005 │ 1.0       │ 0.88019   │ 1.0     │ 2.0      │\n",
       "│ 6   │ 2         │ T2DG0200006 │ 1.0       │ 2.22194   │ 1.0     │ 2.0      │\n",
       "│ 7   │ 2         │ T2DG0200007 │ 1.0       │ 0.550011  │ 1.0     │ 1.0      │\n",
       "│ 8   │ 2         │ T2DG0200008 │ 1.0       │ -0.25112  │ 1.0     │ 2.0      │\n",
       "│ 9   │ 2         │ T2DG0200009 │ 1.0       │ 0.519661  │ 1.0     │ 2.0      │\n",
       "│ 10  │ 2         │ T2DG0200012 │ 1.0       │ -0.495326 │ 1.0     │ 2.0      │\n",
       "⋮\n",
       "│ 839 │ 47        │ T2DG4701129 │ 1.0       │ 0.14013   │ 1.0     │ 2.0      │\n",
       "│ 840 │ 47        │ T2DG4701130 │ 1.0       │ 1.3462    │ 1.0     │ 2.0      │\n",
       "│ 841 │ 47        │ T2DG4701131 │ 1.0       │ -0.07404  │ 1.0     │ 2.0      │\n",
       "│ 842 │ 47        │ T2DG4701132 │ 1.0       │ -2.28684  │ 1.0     │ 2.0      │\n",
       "│ 843 │ 47        │ T2DG4701133 │ 1.0       │ 1.54095   │ 1.0     │ 2.0      │\n",
       "│ 844 │ 47        │ T2DG4701134 │ 1.0       │ 0.975948  │ 1.0     │ 2.0      │\n",
       "│ 845 │ 47        │ T2DG4701135 │ 1.0       │ -0.999364 │ 1.0     │ 1.85766  │\n",
       "│ 846 │ 47        │ T2DG4701136 │ 1.0       │ 1.69877   │ 1.0     │ 2.0      │\n",
       "│ 847 │ 47        │ T2DG4701137 │ 1.0       │ -1.15702  │ 1.0     │ 2.0      │\n",
       "│ 848 │ 47        │ T2DG4701138 │ 1.0       │ 0.442174  │ 1.0     │ 2.0      │\n",
       "│ 849 │ 47        │ T2DG4701139 │ 1.0       │ 1.06363   │ 1.0     │ 1.85766  │"
      ]
     },
     "execution_count": 16,
     "metadata": {},
     "output_type": "execute_result"
    }
   ],
   "source": [
    "Trait1_data = [IndividualID X_design]"
   ]
  },
  {
   "cell_type": "code",
   "execution_count": 17,
   "metadata": {},
   "outputs": [
    {
     "data": {
      "text/plain": [
       "\"Trait1_SNPs.csv\""
      ]
     },
     "execution_count": 17,
     "metadata": {},
     "output_type": "execute_result"
    }
   ],
   "source": [
    "CSV.write(\"Trait1_data.csv\", Trait1_data)\n",
    "CSV.write(\"Trait1_SNPs.csv\", Trait1_SNPs)"
   ]
  },
  {
   "cell_type": "markdown",
   "metadata": {},
   "source": [
    "# Example 2: Rare Variant Model -- Genotypes of the uncommon SNP's "
   ]
  },
  {
   "cell_type": "markdown",
   "metadata": {},
   "source": [
    "In this example we first subset only the rare SNP's with minor allele frequency greater than 0.0005 but less than 0.02, then we simulate traits on the first 20 rare SNP's as fixed effects."
   ]
  },
  {
   "cell_type": "code",
   "execution_count": 18,
   "metadata": {},
   "outputs": [
    {
     "data": {
      "text/plain": [
       "4603083-element Array{Float64,1}:\n",
       " 0.014201183431952646 \n",
       " 0.0011778563015312216\n",
       " 0.0017667844522968323\n",
       " 0.0011778563015312216\n",
       " 0.0011778563015312216\n",
       " 0.0011778563015312216\n",
       " 0.0023612750885477762\n",
       " 0.002355712603062443 \n",
       " 0.0017751479289941363\n",
       " 0.0035335689045936647\n",
       " 0.0017751479289941363\n",
       " 0.0011778563015312216\n",
       " 0.0011778563015312216\n",
       " ⋮                    \n",
       " 0.0017667844522968323\n",
       " 0.018256772673733823 \n",
       " 0.002951593860684776 \n",
       " 0.002355712603062443 \n",
       " 0.0011778563015312216\n",
       " 0.011189634864546494 \n",
       " 0.006478209658421719 \n",
       " 0.0017667844522968323\n",
       " 0.004711425206124886 \n",
       " 0.01531213191990577  \n",
       " 0.002944640753828054 \n",
       " 0.0017667844522968323"
      ]
     },
     "execution_count": 18,
     "metadata": {},
     "output_type": "execute_result"
    }
   ],
   "source": [
    "rare_snp_indx = 0.001 .≤ minor_allele_frequency .≤ 0.02\n",
    "maf_rare = minor_allele_frequency[rare_snp_indx]"
   ]
  },
  {
   "cell_type": "markdown",
   "metadata": {},
   "source": [
    "## Generating Effect Sizes \n",
    "\n",
    "Below we demonstrate how to simulate effect sizes for each SNP, conditional on its minor allele frequency and a known distribution.\n",
    "\n",
    "We include these distributions to model realistic scenarios where the rarest snps have the largest effect size.  \n"
   ]
  },
  {
   "cell_type": "markdown",
   "metadata": {},
   "source": [
    "## Chisquared(df = 1)\n",
    "\n",
    "We want to use allele frequency as x and find f(x) where f is the pdf for the chisquare (df=1) density, so that the rarest snps have the biggest effect sizes."
   ]
  },
  {
   "cell_type": "code",
   "execution_count": 19,
   "metadata": {},
   "outputs": [],
   "source": [
    "# Generating Effect Sizes from Chisquared(df = 1) density\n",
    "using StatsFuns\n",
    "chisq_coeff = zeros(20)\n",
    "for i in 1:20\n",
    "chisq_coeff[i] = chisqpdf(1, maf_rare[i])\n",
    "end"
   ]
  },
  {
   "cell_type": "markdown",
   "metadata": {},
   "source": [
    "Take a look at the simulated coefficients on the left, next to the corresponding minor allele frequency. Notice how the more rare SNP's have the largest effect sizes."
   ]
  },
  {
   "cell_type": "code",
   "execution_count": 20,
   "metadata": {},
   "outputs": [
    {
     "data": {
      "text/html": [
       "<table class=\"data-frame\"><thead><tr><th></th><th>chisq_coeff</th><th>maf</th></tr><tr><th></th><th>Float64</th><th>Float64</th></tr></thead><tbody><p>20 rows × 2 columns</p><tr><th>1</th><td>3.32</td><td>0.0142012</td></tr><tr><th>2</th><td>11.62</td><td>0.00117786</td></tr><tr><th>3</th><td>9.48</td><td>0.00176678</td></tr><tr><th>4</th><td>11.62</td><td>0.00117786</td></tr><tr><th>5</th><td>11.62</td><td>0.00117786</td></tr><tr><th>6</th><td>11.62</td><td>0.00117786</td></tr><tr><th>7</th><td>8.2</td><td>0.00236128</td></tr><tr><th>8</th><td>8.21</td><td>0.00235571</td></tr><tr><th>9</th><td>9.46</td><td>0.00177515</td></tr><tr><th>10</th><td>6.7</td><td>0.00353357</td></tr><tr><th>11</th><td>9.46</td><td>0.00177515</td></tr><tr><th>12</th><td>11.62</td><td>0.00117786</td></tr><tr><th>13</th><td>11.62</td><td>0.00117786</td></tr><tr><th>14</th><td>6.18</td><td>0.00414692</td></tr><tr><th>15</th><td>2.79</td><td>0.019975</td></tr><tr><th>16</th><td>2.93</td><td>0.0181704</td></tr><tr><th>17</th><td>2.88</td><td>0.0188206</td></tr><tr><th>18</th><td>11.6</td><td>0.00118064</td></tr><tr><th>19</th><td>8.2</td><td>0.00236407</td></tr><tr><th>20</th><td>11.6</td><td>0.00118064</td></tr></tbody></table>"
      ],
      "text/latex": [
       "\\begin{tabular}{r|cc}\n",
       "\t& chisq\\_coeff & maf\\\\\n",
       "\t\\hline\n",
       "\t& Float64 & Float64\\\\\n",
       "\t\\hline\n",
       "\t1 & 3.32 & 0.0142012 \\\\\n",
       "\t2 & 11.62 & 0.00117786 \\\\\n",
       "\t3 & 9.48 & 0.00176678 \\\\\n",
       "\t4 & 11.62 & 0.00117786 \\\\\n",
       "\t5 & 11.62 & 0.00117786 \\\\\n",
       "\t6 & 11.62 & 0.00117786 \\\\\n",
       "\t7 & 8.2 & 0.00236128 \\\\\n",
       "\t8 & 8.21 & 0.00235571 \\\\\n",
       "\t9 & 9.46 & 0.00177515 \\\\\n",
       "\t10 & 6.7 & 0.00353357 \\\\\n",
       "\t11 & 9.46 & 0.00177515 \\\\\n",
       "\t12 & 11.62 & 0.00117786 \\\\\n",
       "\t13 & 11.62 & 0.00117786 \\\\\n",
       "\t14 & 6.18 & 0.00414692 \\\\\n",
       "\t15 & 2.79 & 0.019975 \\\\\n",
       "\t16 & 2.93 & 0.0181704 \\\\\n",
       "\t17 & 2.88 & 0.0188206 \\\\\n",
       "\t18 & 11.6 & 0.00118064 \\\\\n",
       "\t19 & 8.2 & 0.00236407 \\\\\n",
       "\t20 & 11.6 & 0.00118064 \\\\\n",
       "\\end{tabular}\n"
      ],
      "text/plain": [
       "20×2 DataFrame\n",
       "│ Row │ chisq_coeff │ maf        │\n",
       "│     │ \u001b[90mFloat64\u001b[39m     │ \u001b[90mFloat64\u001b[39m    │\n",
       "├─────┼─────────────┼────────────┤\n",
       "│ 1   │ 3.32        │ 0.0142012  │\n",
       "│ 2   │ 11.62       │ 0.00117786 │\n",
       "│ 3   │ 9.48        │ 0.00176678 │\n",
       "│ 4   │ 11.62       │ 0.00117786 │\n",
       "│ 5   │ 11.62       │ 0.00117786 │\n",
       "│ 6   │ 11.62       │ 0.00117786 │\n",
       "│ 7   │ 8.2         │ 0.00236128 │\n",
       "│ 8   │ 8.21        │ 0.00235571 │\n",
       "│ 9   │ 9.46        │ 0.00177515 │\n",
       "│ 10  │ 6.7         │ 0.00353357 │\n",
       "│ 11  │ 9.46        │ 0.00177515 │\n",
       "│ 12  │ 11.62       │ 0.00117786 │\n",
       "│ 13  │ 11.62       │ 0.00117786 │\n",
       "│ 14  │ 6.18        │ 0.00414692 │\n",
       "│ 15  │ 2.79        │ 0.019975   │\n",
       "│ 16  │ 2.93        │ 0.0181704  │\n",
       "│ 17  │ 2.88        │ 0.0188206  │\n",
       "│ 18  │ 11.6        │ 0.00118064 │\n",
       "│ 19  │ 8.2         │ 0.00236407 │\n",
       "│ 20  │ 11.6        │ 0.00118064 │"
      ]
     },
     "execution_count": 20,
     "metadata": {},
     "output_type": "execute_result"
    }
   ],
   "source": [
    "simulated_effectsizes_chisq = round.(chisq_coeff, digits = 2)\n",
    "DataFrame(chisq_coeff = simulated_effectsizes_chisq, maf = maf_rare[1:20])"
   ]
  },
  {
   "cell_type": "markdown",
   "metadata": {},
   "source": [
    "## Exponential\n",
    "\n",
    "For demonstration purposes, we use simulated_effectsizes3 = 3*exp.(-200*maf_rare\\[1:20\\]), rounded to the second digit, throughout this example. However, named distribution can also be used to simulate effect sizes. "
   ]
  },
  {
   "cell_type": "code",
   "execution_count": 21,
   "metadata": {},
   "outputs": [
    {
     "data": {
      "text/plain": [
       "20-element Array{Float64,1}:\n",
       " 0.18\n",
       " 2.37\n",
       " 2.11\n",
       " 2.37\n",
       " 2.37\n",
       " 2.37\n",
       " 1.87\n",
       " 1.87\n",
       " 2.1 \n",
       " 1.48\n",
       " 2.1 \n",
       " 2.37\n",
       " 2.37\n",
       " 1.31\n",
       " 0.06\n",
       " 0.08\n",
       " 0.07\n",
       " 2.37\n",
       " 1.87\n",
       " 2.37"
      ]
     },
     "execution_count": 21,
     "metadata": {},
     "output_type": "execute_result"
    }
   ],
   "source": [
    "simulated_effectsizes_exp = round.(3*exp.(-200*maf_rare[1:20]), digits = 2)"
   ]
  },
  {
   "cell_type": "code",
   "execution_count": 22,
   "metadata": {},
   "outputs": [
    {
     "data": {
      "text/html": [
       "<table class=\"data-frame\"><thead><tr><th></th><th>intercept</th><th>age</th><th>sex</th><th>c1_54490</th><th>c1_59492</th><th>c1_61462</th><th>c1_61920</th><th>c1_62162</th></tr><tr><th></th><th>Float64</th><th>Float64</th><th>Float64</th><th>Float64</th><th>Float64</th><th>Float64</th><th>Float64</th><th>Float64</th></tr></thead><tbody><p>849 rows × 23 columns (omitted printing of 15 columns)</p><tr><th>1</th><td>1.0</td><td>0.883123</td><td>1.0</td><td>2.0</td><td>2.0</td><td>2.0</td><td>2.0</td><td>2.0</td></tr><tr><th>2</th><td>1.0</td><td>-0.878451</td><td>1.0</td><td>2.0</td><td>2.0</td><td>2.0</td><td>2.0</td><td>2.0</td></tr><tr><th>3</th><td>1.0</td><td>-0.472917</td><td>1.0</td><td>2.0</td><td>2.0</td><td>2.0</td><td>2.0</td><td>2.0</td></tr><tr><th>4</th><td>1.0</td><td>-0.879617</td><td>1.0</td><td>2.0</td><td>2.0</td><td>2.0</td><td>2.0</td><td>2.0</td></tr><tr><th>5</th><td>1.0</td><td>0.88019</td><td>1.0</td><td>2.0</td><td>2.0</td><td>2.0</td><td>2.0</td><td>2.0</td></tr><tr><th>6</th><td>1.0</td><td>2.22194</td><td>1.0</td><td>2.0</td><td>2.0</td><td>2.0</td><td>2.0</td><td>2.0</td></tr><tr><th>7</th><td>1.0</td><td>0.550011</td><td>1.0</td><td>2.0</td><td>2.0</td><td>2.0</td><td>2.0</td><td>2.0</td></tr><tr><th>8</th><td>1.0</td><td>-0.25112</td><td>1.0</td><td>2.0</td><td>2.0</td><td>2.0</td><td>2.0</td><td>2.0</td></tr><tr><th>9</th><td>1.0</td><td>0.519661</td><td>1.0</td><td>2.0</td><td>2.0</td><td>2.0</td><td>2.0</td><td>2.0</td></tr><tr><th>10</th><td>1.0</td><td>-0.495326</td><td>1.0</td><td>2.0</td><td>2.0</td><td>2.0</td><td>2.0</td><td>2.0</td></tr><tr><th>11</th><td>1.0</td><td>-0.538659</td><td>1.0</td><td>2.0</td><td>2.0</td><td>2.0</td><td>2.0</td><td>2.0</td></tr><tr><th>12</th><td>1.0</td><td>0.000251449</td><td>1.0</td><td>2.0</td><td>2.0</td><td>2.0</td><td>2.0</td><td>2.0</td></tr><tr><th>13</th><td>1.0</td><td>0.146982</td><td>1.0</td><td>2.0</td><td>2.0</td><td>2.0</td><td>2.0</td><td>2.0</td></tr><tr><th>14</th><td>1.0</td><td>1.86437</td><td>1.0</td><td>2.0</td><td>2.0</td><td>2.0</td><td>2.0</td><td>2.0</td></tr><tr><th>15</th><td>1.0</td><td>-0.804785</td><td>1.0</td><td>2.0</td><td>2.0</td><td>2.0</td><td>2.0</td><td>2.0</td></tr><tr><th>16</th><td>1.0</td><td>0.12909</td><td>1.0</td><td>2.0</td><td>2.0</td><td>2.0</td><td>2.0</td><td>2.0</td></tr><tr><th>17</th><td>1.0</td><td>-0.230647</td><td>1.0</td><td>2.0</td><td>2.0</td><td>2.0</td><td>2.0</td><td>2.0</td></tr><tr><th>18</th><td>1.0</td><td>0.387604</td><td>1.0</td><td>2.0</td><td>2.0</td><td>2.0</td><td>2.0</td><td>2.0</td></tr><tr><th>19</th><td>1.0</td><td>0.0912712</td><td>1.0</td><td>2.0</td><td>2.0</td><td>2.0</td><td>2.0</td><td>2.0</td></tr><tr><th>20</th><td>1.0</td><td>-1.47758</td><td>1.0</td><td>2.0</td><td>2.0</td><td>2.0</td><td>2.0</td><td>2.0</td></tr><tr><th>21</th><td>1.0</td><td>1.57698</td><td>1.0</td><td>2.0</td><td>2.0</td><td>2.0</td><td>2.0</td><td>2.0</td></tr><tr><th>22</th><td>1.0</td><td>-1.37134</td><td>1.0</td><td>2.0</td><td>2.0</td><td>2.0</td><td>2.0</td><td>2.0</td></tr><tr><th>23</th><td>1.0</td><td>1.12026</td><td>1.0</td><td>2.0</td><td>2.0</td><td>2.0</td><td>2.0</td><td>2.0</td></tr><tr><th>24</th><td>1.0</td><td>-1.08257</td><td>1.0</td><td>2.0</td><td>2.0</td><td>2.0</td><td>2.0</td><td>2.0</td></tr><tr><th>25</th><td>1.0</td><td>-3.17825</td><td>1.0</td><td>2.0</td><td>2.0</td><td>2.0</td><td>2.0</td><td>2.0</td></tr><tr><th>26</th><td>1.0</td><td>-0.0542388</td><td>1.0</td><td>1.0</td><td>2.0</td><td>2.0</td><td>2.0</td><td>2.0</td></tr><tr><th>27</th><td>1.0</td><td>0.169795</td><td>1.0</td><td>2.0</td><td>2.0</td><td>2.0</td><td>2.0</td><td>2.0</td></tr><tr><th>28</th><td>1.0</td><td>0.785471</td><td>1.0</td><td>2.0</td><td>2.0</td><td>2.0</td><td>2.0</td><td>2.0</td></tr><tr><th>29</th><td>1.0</td><td>-0.289374</td><td>1.0</td><td>2.0</td><td>2.0</td><td>2.0</td><td>2.0</td><td>2.0</td></tr><tr><th>30</th><td>1.0</td><td>-0.580685</td><td>1.0</td><td>2.0</td><td>2.0</td><td>2.0</td><td>2.0</td><td>2.0</td></tr><tr><th>&vellip;</th><td>&vellip;</td><td>&vellip;</td><td>&vellip;</td><td>&vellip;</td><td>&vellip;</td><td>&vellip;</td><td>&vellip;</td><td>&vellip;</td></tr></tbody></table>"
      ],
      "text/latex": [
       "\\begin{tabular}{r|ccccccccc}\n",
       "\t& intercept & age & sex & c1\\_54490 & c1\\_59492 & c1\\_61462 & c1\\_61920 & c1\\_62162 & \\\\\n",
       "\t\\hline\n",
       "\t& Float64 & Float64 & Float64 & Float64 & Float64 & Float64 & Float64 & Float64 & \\\\\n",
       "\t\\hline\n",
       "\t1 & 1.0 & 0.883123 & 1.0 & 2.0 & 2.0 & 2.0 & 2.0 & 2.0 & $\\dots$ \\\\\n",
       "\t2 & 1.0 & -0.878451 & 1.0 & 2.0 & 2.0 & 2.0 & 2.0 & 2.0 & $\\dots$ \\\\\n",
       "\t3 & 1.0 & -0.472917 & 1.0 & 2.0 & 2.0 & 2.0 & 2.0 & 2.0 & $\\dots$ \\\\\n",
       "\t4 & 1.0 & -0.879617 & 1.0 & 2.0 & 2.0 & 2.0 & 2.0 & 2.0 & $\\dots$ \\\\\n",
       "\t5 & 1.0 & 0.88019 & 1.0 & 2.0 & 2.0 & 2.0 & 2.0 & 2.0 & $\\dots$ \\\\\n",
       "\t6 & 1.0 & 2.22194 & 1.0 & 2.0 & 2.0 & 2.0 & 2.0 & 2.0 & $\\dots$ \\\\\n",
       "\t7 & 1.0 & 0.550011 & 1.0 & 2.0 & 2.0 & 2.0 & 2.0 & 2.0 & $\\dots$ \\\\\n",
       "\t8 & 1.0 & -0.25112 & 1.0 & 2.0 & 2.0 & 2.0 & 2.0 & 2.0 & $\\dots$ \\\\\n",
       "\t9 & 1.0 & 0.519661 & 1.0 & 2.0 & 2.0 & 2.0 & 2.0 & 2.0 & $\\dots$ \\\\\n",
       "\t10 & 1.0 & -0.495326 & 1.0 & 2.0 & 2.0 & 2.0 & 2.0 & 2.0 & $\\dots$ \\\\\n",
       "\t11 & 1.0 & -0.538659 & 1.0 & 2.0 & 2.0 & 2.0 & 2.0 & 2.0 & $\\dots$ \\\\\n",
       "\t12 & 1.0 & 0.000251449 & 1.0 & 2.0 & 2.0 & 2.0 & 2.0 & 2.0 & $\\dots$ \\\\\n",
       "\t13 & 1.0 & 0.146982 & 1.0 & 2.0 & 2.0 & 2.0 & 2.0 & 2.0 & $\\dots$ \\\\\n",
       "\t14 & 1.0 & 1.86437 & 1.0 & 2.0 & 2.0 & 2.0 & 2.0 & 2.0 & $\\dots$ \\\\\n",
       "\t15 & 1.0 & -0.804785 & 1.0 & 2.0 & 2.0 & 2.0 & 2.0 & 2.0 & $\\dots$ \\\\\n",
       "\t16 & 1.0 & 0.12909 & 1.0 & 2.0 & 2.0 & 2.0 & 2.0 & 2.0 & $\\dots$ \\\\\n",
       "\t17 & 1.0 & -0.230647 & 1.0 & 2.0 & 2.0 & 2.0 & 2.0 & 2.0 & $\\dots$ \\\\\n",
       "\t18 & 1.0 & 0.387604 & 1.0 & 2.0 & 2.0 & 2.0 & 2.0 & 2.0 & $\\dots$ \\\\\n",
       "\t19 & 1.0 & 0.0912712 & 1.0 & 2.0 & 2.0 & 2.0 & 2.0 & 2.0 & $\\dots$ \\\\\n",
       "\t20 & 1.0 & -1.47758 & 1.0 & 2.0 & 2.0 & 2.0 & 2.0 & 2.0 & $\\dots$ \\\\\n",
       "\t21 & 1.0 & 1.57698 & 1.0 & 2.0 & 2.0 & 2.0 & 2.0 & 2.0 & $\\dots$ \\\\\n",
       "\t22 & 1.0 & -1.37134 & 1.0 & 2.0 & 2.0 & 2.0 & 2.0 & 2.0 & $\\dots$ \\\\\n",
       "\t23 & 1.0 & 1.12026 & 1.0 & 2.0 & 2.0 & 2.0 & 2.0 & 2.0 & $\\dots$ \\\\\n",
       "\t24 & 1.0 & -1.08257 & 1.0 & 2.0 & 2.0 & 2.0 & 2.0 & 2.0 & $\\dots$ \\\\\n",
       "\t25 & 1.0 & -3.17825 & 1.0 & 2.0 & 2.0 & 2.0 & 2.0 & 2.0 & $\\dots$ \\\\\n",
       "\t26 & 1.0 & -0.0542388 & 1.0 & 1.0 & 2.0 & 2.0 & 2.0 & 2.0 & $\\dots$ \\\\\n",
       "\t27 & 1.0 & 0.169795 & 1.0 & 2.0 & 2.0 & 2.0 & 2.0 & 2.0 & $\\dots$ \\\\\n",
       "\t28 & 1.0 & 0.785471 & 1.0 & 2.0 & 2.0 & 2.0 & 2.0 & 2.0 & $\\dots$ \\\\\n",
       "\t29 & 1.0 & -0.289374 & 1.0 & 2.0 & 2.0 & 2.0 & 2.0 & 2.0 & $\\dots$ \\\\\n",
       "\t30 & 1.0 & -0.580685 & 1.0 & 2.0 & 2.0 & 2.0 & 2.0 & 2.0 & $\\dots$ \\\\\n",
       "\t$\\dots$ & $\\dots$ & $\\dots$ & $\\dots$ & $\\dots$ & $\\dots$ & $\\dots$ & $\\dots$ & $\\dots$ &  \\\\\n",
       "\\end{tabular}\n"
      ],
      "text/plain": [
       "849×23 DataFrame. Omitted printing of 17 columns\n",
       "│ Row │ intercept │ age       │ sex     │ c1_54490 │ c1_59492 │ c1_61462 │\n",
       "│     │ \u001b[90mFloat64\u001b[39m   │ \u001b[90mFloat64\u001b[39m   │ \u001b[90mFloat64\u001b[39m │ \u001b[90mFloat64\u001b[39m  │ \u001b[90mFloat64\u001b[39m  │ \u001b[90mFloat64\u001b[39m  │\n",
       "├─────┼───────────┼───────────┼─────────┼──────────┼──────────┼──────────┤\n",
       "│ 1   │ 1.0       │ 0.883123  │ 1.0     │ 2.0      │ 2.0      │ 2.0      │\n",
       "│ 2   │ 1.0       │ -0.878451 │ 1.0     │ 2.0      │ 2.0      │ 2.0      │\n",
       "│ 3   │ 1.0       │ -0.472917 │ 1.0     │ 2.0      │ 2.0      │ 2.0      │\n",
       "│ 4   │ 1.0       │ -0.879617 │ 1.0     │ 2.0      │ 2.0      │ 2.0      │\n",
       "│ 5   │ 1.0       │ 0.88019   │ 1.0     │ 2.0      │ 2.0      │ 2.0      │\n",
       "│ 6   │ 1.0       │ 2.22194   │ 1.0     │ 2.0      │ 2.0      │ 2.0      │\n",
       "│ 7   │ 1.0       │ 0.550011  │ 1.0     │ 2.0      │ 2.0      │ 2.0      │\n",
       "│ 8   │ 1.0       │ -0.25112  │ 1.0     │ 2.0      │ 2.0      │ 2.0      │\n",
       "│ 9   │ 1.0       │ 0.519661  │ 1.0     │ 2.0      │ 2.0      │ 2.0      │\n",
       "│ 10  │ 1.0       │ -0.495326 │ 1.0     │ 2.0      │ 2.0      │ 2.0      │\n",
       "⋮\n",
       "│ 839 │ 1.0       │ 0.14013   │ 1.0     │ 2.0      │ 2.0      │ 2.0      │\n",
       "│ 840 │ 1.0       │ 1.3462    │ 1.0     │ 2.0      │ 2.0      │ 2.0      │\n",
       "│ 841 │ 1.0       │ -0.07404  │ 1.0     │ 2.0      │ 2.0      │ 2.0      │\n",
       "│ 842 │ 1.0       │ -2.28684  │ 1.0     │ 2.0      │ 2.0      │ 2.0      │\n",
       "│ 843 │ 1.0       │ 1.54095   │ 1.0     │ 2.0      │ 2.0      │ 2.0      │\n",
       "│ 844 │ 1.0       │ 0.975948  │ 1.0     │ 2.0      │ 2.0      │ 2.0      │\n",
       "│ 845 │ 1.0       │ -0.999364 │ 1.0     │ 2.0      │ 2.0      │ 2.0      │\n",
       "│ 846 │ 1.0       │ 1.69877   │ 1.0     │ 1.9716   │ 2.0      │ 2.0      │\n",
       "│ 847 │ 1.0       │ -1.15702  │ 1.0     │ 1.9716   │ 2.0      │ 2.0      │\n",
       "│ 848 │ 1.0       │ 0.442174  │ 1.0     │ 2.0      │ 2.0      │ 2.0      │\n",
       "│ 849 │ 1.0       │ 1.06363   │ 1.0     │ 2.0      │ 2.0      │ 2.0      │"
      ]
     },
     "execution_count": 22,
     "metadata": {},
     "output_type": "execute_result"
    }
   ],
   "source": [
    "rare_indices = findall(x-> x==1, rare_snp_indx)[1:20]\n",
    "rare_loci2 = convert(Matrix{Float64}, @view(data[:, rare_indices]), impute = true)\n",
    "\n",
    "X_gen2 = DataFrame(rare_loci2)\n",
    "rename!(X_gen2, Symbol.(snpid[rare_snp_indx][1:20]))\n",
    "\n",
    "X_rare_design = [X_non_gen X_gen2]"
   ]
  },
  {
   "cell_type": "markdown",
   "metadata": {},
   "source": [
    "## Simulate Trait\n",
    "\n",
    "The following code simulates a trait under the mixed effect model with two variance components as well as a fixed effect μ.\n"
   ]
  },
  {
   "cell_type": "code",
   "execution_count": 23,
   "metadata": {},
   "outputs": [
    {
     "data": {
      "text/plain": [
       "Variance Component Model\n",
       "  * number of traits: 1\n",
       "  * number of variance components: 2\n",
       "  * sample size: 849"
      ]
     },
     "execution_count": 23,
     "metadata": {},
     "output_type": "execute_result"
    }
   ],
   "source": [
    "β_exp = vcat(β_cov, simulated_effectsizes_exp)\n",
    "# # # Create the simulation model (:T is the name of the simulated trait)\n",
    "vcm_model2 = VCMTrait(Matrix(X_rare_design), β_exp, totalvc)\n",
    "sigma, v = vcobjtuple(totalvc)\n",
    "Σ = [sigma...]\n",
    "V = [v...]\n",
    "vcmOBJ2 = VCMTrait(Matrix(X_non_gen), β_cov, rare_loci2, simulated_effectsizes_exp, Σ, V)"
   ]
  },
  {
   "cell_type": "code",
   "execution_count": 24,
   "metadata": {},
   "outputs": [
    {
     "data": {
      "text/html": [
       "<table class=\"data-frame\"><thead><tr><th></th><th>Trait</th></tr><tr><th></th><th>Float64</th></tr></thead><tbody><p>849 rows × 1 columns</p><tr><th>1</th><td>66.3349</td></tr><tr><th>2</th><td>68.7386</td></tr><tr><th>3</th><td>69.6754</td></tr><tr><th>4</th><td>67.1783</td></tr><tr><th>5</th><td>68.6255</td></tr><tr><th>6</th><td>67.8581</td></tr><tr><th>7</th><td>67.8991</td></tr><tr><th>8</th><td>66.2767</td></tr><tr><th>9</th><td>69.3029</td></tr><tr><th>10</th><td>65.6474</td></tr><tr><th>11</th><td>66.9281</td></tr><tr><th>12</th><td>67.646</td></tr><tr><th>13</th><td>67.9556</td></tr><tr><th>14</th><td>67.4153</td></tr><tr><th>15</th><td>69.6671</td></tr><tr><th>16</th><td>68.6076</td></tr><tr><th>17</th><td>69.2536</td></tr><tr><th>18</th><td>69.1031</td></tr><tr><th>19</th><td>67.2491</td></tr><tr><th>20</th><td>67.3729</td></tr><tr><th>21</th><td>67.0923</td></tr><tr><th>22</th><td>68.2825</td></tr><tr><th>23</th><td>66.6639</td></tr><tr><th>24</th><td>67.926</td></tr><tr><th>25</th><td>70.1316</td></tr><tr><th>26</th><td>68.4446</td></tr><tr><th>27</th><td>67.1653</td></tr><tr><th>28</th><td>66.0387</td></tr><tr><th>29</th><td>68.2812</td></tr><tr><th>30</th><td>67.4865</td></tr><tr><th>&vellip;</th><td>&vellip;</td></tr></tbody></table>"
      ],
      "text/latex": [
       "\\begin{tabular}{r|c}\n",
       "\t& Trait\\\\\n",
       "\t\\hline\n",
       "\t& Float64\\\\\n",
       "\t\\hline\n",
       "\t1 & 66.3349 \\\\\n",
       "\t2 & 68.7386 \\\\\n",
       "\t3 & 69.6754 \\\\\n",
       "\t4 & 67.1783 \\\\\n",
       "\t5 & 68.6255 \\\\\n",
       "\t6 & 67.8581 \\\\\n",
       "\t7 & 67.8991 \\\\\n",
       "\t8 & 66.2767 \\\\\n",
       "\t9 & 69.3029 \\\\\n",
       "\t10 & 65.6474 \\\\\n",
       "\t11 & 66.9281 \\\\\n",
       "\t12 & 67.646 \\\\\n",
       "\t13 & 67.9556 \\\\\n",
       "\t14 & 67.4153 \\\\\n",
       "\t15 & 69.6671 \\\\\n",
       "\t16 & 68.6076 \\\\\n",
       "\t17 & 69.2536 \\\\\n",
       "\t18 & 69.1031 \\\\\n",
       "\t19 & 67.2491 \\\\\n",
       "\t20 & 67.3729 \\\\\n",
       "\t21 & 67.0923 \\\\\n",
       "\t22 & 68.2825 \\\\\n",
       "\t23 & 66.6639 \\\\\n",
       "\t24 & 67.926 \\\\\n",
       "\t25 & 70.1316 \\\\\n",
       "\t26 & 68.4446 \\\\\n",
       "\t27 & 67.1653 \\\\\n",
       "\t28 & 66.0387 \\\\\n",
       "\t29 & 68.2812 \\\\\n",
       "\t30 & 67.4865 \\\\\n",
       "\t$\\dots$ & $\\dots$ \\\\\n",
       "\\end{tabular}\n"
      ],
      "text/plain": [
       "849×1 DataFrame\n",
       "│ Row │ Trait   │\n",
       "│     │ \u001b[90mFloat64\u001b[39m │\n",
       "├─────┼─────────┤\n",
       "│ 1   │ 66.3349 │\n",
       "│ 2   │ 68.7386 │\n",
       "│ 3   │ 69.6754 │\n",
       "│ 4   │ 67.1783 │\n",
       "│ 5   │ 68.6255 │\n",
       "│ 6   │ 67.8581 │\n",
       "│ 7   │ 67.8991 │\n",
       "│ 8   │ 66.2767 │\n",
       "│ 9   │ 69.3029 │\n",
       "│ 10  │ 65.6474 │\n",
       "⋮\n",
       "│ 839 │ 68.8321 │\n",
       "│ 840 │ 68.8022 │\n",
       "│ 841 │ 69.13   │\n",
       "│ 842 │ 69.1154 │\n",
       "│ 843 │ 69.699  │\n",
       "│ 844 │ 68.125  │\n",
       "│ 845 │ 69.4407 │\n",
       "│ 846 │ 68.8791 │\n",
       "│ 847 │ 67.2845 │\n",
       "│ 848 │ 67.6513 │\n",
       "│ 849 │ 69.4387 │"
      ]
     },
     "execution_count": 24,
     "metadata": {},
     "output_type": "execute_result"
    }
   ],
   "source": [
    "# Generate the simulations\n",
    "y_2 = DataFrame(Trait = simulate(vcmOBJ2)[:])"
   ]
  },
  {
   "cell_type": "markdown",
   "metadata": {},
   "source": [
    "## Saving Simulation Results to Local Machine"
   ]
  },
  {
   "cell_type": "markdown",
   "metadata": {},
   "source": [
    "Write the newly simulated trait into a comma separated (csv) file for later use. Note that the user can specify the separator to '\\t' for tab separated, or another separator of choice. "
   ]
  },
  {
   "cell_type": "markdown",
   "metadata": {},
   "source": [
    "Here we output the simulated trait values for each of the 849 individuals, labeled by their pedigree ID and person ID.\n",
    "\n",
    "In addition, we output the genotypes for the variants used to simulate this trait. Note that we can impute missing genotypes by turning the `impute` argument = true."
   ]
  },
  {
   "cell_type": "code",
   "execution_count": 25,
   "metadata": {},
   "outputs": [
    {
     "data": {
      "text/html": [
       "<table class=\"data-frame\"><thead><tr><th></th><th>fid</th><th>iid</th><th>Trait</th><th>intercept</th><th>age</th><th>sex</th><th>c1_54490</th><th>c1_59492</th></tr><tr><th></th><th>Abstract…</th><th>Abstract…</th><th>Float64</th><th>Float64</th><th>Float64</th><th>Float64</th><th>Float64</th><th>Float64</th></tr></thead><tbody><p>849 rows × 26 columns (omitted printing of 18 columns)</p><tr><th>1</th><td>2</td><td>T2DG0200001</td><td>66.3349</td><td>1.0</td><td>0.883123</td><td>1.0</td><td>2.0</td><td>2.0</td></tr><tr><th>2</th><td>2</td><td>T2DG0200002</td><td>68.7386</td><td>1.0</td><td>-0.878451</td><td>1.0</td><td>2.0</td><td>2.0</td></tr><tr><th>3</th><td>2</td><td>T2DG0200003</td><td>69.6754</td><td>1.0</td><td>-0.472917</td><td>1.0</td><td>2.0</td><td>2.0</td></tr><tr><th>4</th><td>2</td><td>T2DG0200004</td><td>67.1783</td><td>1.0</td><td>-0.879617</td><td>1.0</td><td>2.0</td><td>2.0</td></tr><tr><th>5</th><td>2</td><td>T2DG0200005</td><td>68.6255</td><td>1.0</td><td>0.88019</td><td>1.0</td><td>2.0</td><td>2.0</td></tr><tr><th>6</th><td>2</td><td>T2DG0200006</td><td>67.8581</td><td>1.0</td><td>2.22194</td><td>1.0</td><td>2.0</td><td>2.0</td></tr><tr><th>7</th><td>2</td><td>T2DG0200007</td><td>67.8991</td><td>1.0</td><td>0.550011</td><td>1.0</td><td>2.0</td><td>2.0</td></tr><tr><th>8</th><td>2</td><td>T2DG0200008</td><td>66.2767</td><td>1.0</td><td>-0.25112</td><td>1.0</td><td>2.0</td><td>2.0</td></tr><tr><th>9</th><td>2</td><td>T2DG0200009</td><td>69.3029</td><td>1.0</td><td>0.519661</td><td>1.0</td><td>2.0</td><td>2.0</td></tr><tr><th>10</th><td>2</td><td>T2DG0200012</td><td>65.6474</td><td>1.0</td><td>-0.495326</td><td>1.0</td><td>2.0</td><td>2.0</td></tr><tr><th>11</th><td>2</td><td>T2DG0200013</td><td>66.9281</td><td>1.0</td><td>-0.538659</td><td>1.0</td><td>2.0</td><td>2.0</td></tr><tr><th>12</th><td>2</td><td>T2DG0200018</td><td>67.646</td><td>1.0</td><td>0.000251449</td><td>1.0</td><td>2.0</td><td>2.0</td></tr><tr><th>13</th><td>2</td><td>T2DG0200023</td><td>67.9556</td><td>1.0</td><td>0.146982</td><td>1.0</td><td>2.0</td><td>2.0</td></tr><tr><th>14</th><td>2</td><td>T2DG0200027</td><td>67.4153</td><td>1.0</td><td>1.86437</td><td>1.0</td><td>2.0</td><td>2.0</td></tr><tr><th>15</th><td>2</td><td>T2DG0200031</td><td>69.6671</td><td>1.0</td><td>-0.804785</td><td>1.0</td><td>2.0</td><td>2.0</td></tr><tr><th>16</th><td>2</td><td>T2DG0200032</td><td>68.6076</td><td>1.0</td><td>0.12909</td><td>1.0</td><td>2.0</td><td>2.0</td></tr><tr><th>17</th><td>2</td><td>T2DG0200033</td><td>69.2536</td><td>1.0</td><td>-0.230647</td><td>1.0</td><td>2.0</td><td>2.0</td></tr><tr><th>18</th><td>2</td><td>T2DG0200034</td><td>69.1031</td><td>1.0</td><td>0.387604</td><td>1.0</td><td>2.0</td><td>2.0</td></tr><tr><th>19</th><td>2</td><td>T2DG0200035</td><td>67.2491</td><td>1.0</td><td>0.0912712</td><td>1.0</td><td>2.0</td><td>2.0</td></tr><tr><th>20</th><td>2</td><td>T2DG0200036</td><td>67.3729</td><td>1.0</td><td>-1.47758</td><td>1.0</td><td>2.0</td><td>2.0</td></tr><tr><th>21</th><td>2</td><td>T2DG0200039</td><td>67.0923</td><td>1.0</td><td>1.57698</td><td>1.0</td><td>2.0</td><td>2.0</td></tr><tr><th>22</th><td>2</td><td>T2DG0200040</td><td>68.2825</td><td>1.0</td><td>-1.37134</td><td>1.0</td><td>2.0</td><td>2.0</td></tr><tr><th>23</th><td>2</td><td>T2DG0200041</td><td>66.6639</td><td>1.0</td><td>1.12026</td><td>1.0</td><td>2.0</td><td>2.0</td></tr><tr><th>24</th><td>2</td><td>T2DG0200042</td><td>67.926</td><td>1.0</td><td>-1.08257</td><td>1.0</td><td>2.0</td><td>2.0</td></tr><tr><th>25</th><td>2</td><td>T2DG0200043</td><td>70.1316</td><td>1.0</td><td>-3.17825</td><td>1.0</td><td>2.0</td><td>2.0</td></tr><tr><th>26</th><td>2</td><td>T2DG0200045</td><td>68.4446</td><td>1.0</td><td>-0.0542388</td><td>1.0</td><td>1.0</td><td>2.0</td></tr><tr><th>27</th><td>2</td><td>T2DG0200046</td><td>67.1653</td><td>1.0</td><td>0.169795</td><td>1.0</td><td>2.0</td><td>2.0</td></tr><tr><th>28</th><td>2</td><td>T2DG0200047</td><td>66.0387</td><td>1.0</td><td>0.785471</td><td>1.0</td><td>2.0</td><td>2.0</td></tr><tr><th>29</th><td>2</td><td>T2DG0200048</td><td>68.2812</td><td>1.0</td><td>-0.289374</td><td>1.0</td><td>2.0</td><td>2.0</td></tr><tr><th>30</th><td>2</td><td>T2DG0200049</td><td>67.4865</td><td>1.0</td><td>-0.580685</td><td>1.0</td><td>2.0</td><td>2.0</td></tr><tr><th>&vellip;</th><td>&vellip;</td><td>&vellip;</td><td>&vellip;</td><td>&vellip;</td><td>&vellip;</td><td>&vellip;</td><td>&vellip;</td><td>&vellip;</td></tr></tbody></table>"
      ],
      "text/latex": [
       "\\begin{tabular}{r|ccccccccc}\n",
       "\t& fid & iid & Trait & intercept & age & sex & c1\\_54490 & c1\\_59492 & \\\\\n",
       "\t\\hline\n",
       "\t& Abstract… & Abstract… & Float64 & Float64 & Float64 & Float64 & Float64 & Float64 & \\\\\n",
       "\t\\hline\n",
       "\t1 & 2 & T2DG0200001 & 66.3349 & 1.0 & 0.883123 & 1.0 & 2.0 & 2.0 & $\\dots$ \\\\\n",
       "\t2 & 2 & T2DG0200002 & 68.7386 & 1.0 & -0.878451 & 1.0 & 2.0 & 2.0 & $\\dots$ \\\\\n",
       "\t3 & 2 & T2DG0200003 & 69.6754 & 1.0 & -0.472917 & 1.0 & 2.0 & 2.0 & $\\dots$ \\\\\n",
       "\t4 & 2 & T2DG0200004 & 67.1783 & 1.0 & -0.879617 & 1.0 & 2.0 & 2.0 & $\\dots$ \\\\\n",
       "\t5 & 2 & T2DG0200005 & 68.6255 & 1.0 & 0.88019 & 1.0 & 2.0 & 2.0 & $\\dots$ \\\\\n",
       "\t6 & 2 & T2DG0200006 & 67.8581 & 1.0 & 2.22194 & 1.0 & 2.0 & 2.0 & $\\dots$ \\\\\n",
       "\t7 & 2 & T2DG0200007 & 67.8991 & 1.0 & 0.550011 & 1.0 & 2.0 & 2.0 & $\\dots$ \\\\\n",
       "\t8 & 2 & T2DG0200008 & 66.2767 & 1.0 & -0.25112 & 1.0 & 2.0 & 2.0 & $\\dots$ \\\\\n",
       "\t9 & 2 & T2DG0200009 & 69.3029 & 1.0 & 0.519661 & 1.0 & 2.0 & 2.0 & $\\dots$ \\\\\n",
       "\t10 & 2 & T2DG0200012 & 65.6474 & 1.0 & -0.495326 & 1.0 & 2.0 & 2.0 & $\\dots$ \\\\\n",
       "\t11 & 2 & T2DG0200013 & 66.9281 & 1.0 & -0.538659 & 1.0 & 2.0 & 2.0 & $\\dots$ \\\\\n",
       "\t12 & 2 & T2DG0200018 & 67.646 & 1.0 & 0.000251449 & 1.0 & 2.0 & 2.0 & $\\dots$ \\\\\n",
       "\t13 & 2 & T2DG0200023 & 67.9556 & 1.0 & 0.146982 & 1.0 & 2.0 & 2.0 & $\\dots$ \\\\\n",
       "\t14 & 2 & T2DG0200027 & 67.4153 & 1.0 & 1.86437 & 1.0 & 2.0 & 2.0 & $\\dots$ \\\\\n",
       "\t15 & 2 & T2DG0200031 & 69.6671 & 1.0 & -0.804785 & 1.0 & 2.0 & 2.0 & $\\dots$ \\\\\n",
       "\t16 & 2 & T2DG0200032 & 68.6076 & 1.0 & 0.12909 & 1.0 & 2.0 & 2.0 & $\\dots$ \\\\\n",
       "\t17 & 2 & T2DG0200033 & 69.2536 & 1.0 & -0.230647 & 1.0 & 2.0 & 2.0 & $\\dots$ \\\\\n",
       "\t18 & 2 & T2DG0200034 & 69.1031 & 1.0 & 0.387604 & 1.0 & 2.0 & 2.0 & $\\dots$ \\\\\n",
       "\t19 & 2 & T2DG0200035 & 67.2491 & 1.0 & 0.0912712 & 1.0 & 2.0 & 2.0 & $\\dots$ \\\\\n",
       "\t20 & 2 & T2DG0200036 & 67.3729 & 1.0 & -1.47758 & 1.0 & 2.0 & 2.0 & $\\dots$ \\\\\n",
       "\t21 & 2 & T2DG0200039 & 67.0923 & 1.0 & 1.57698 & 1.0 & 2.0 & 2.0 & $\\dots$ \\\\\n",
       "\t22 & 2 & T2DG0200040 & 68.2825 & 1.0 & -1.37134 & 1.0 & 2.0 & 2.0 & $\\dots$ \\\\\n",
       "\t23 & 2 & T2DG0200041 & 66.6639 & 1.0 & 1.12026 & 1.0 & 2.0 & 2.0 & $\\dots$ \\\\\n",
       "\t24 & 2 & T2DG0200042 & 67.926 & 1.0 & -1.08257 & 1.0 & 2.0 & 2.0 & $\\dots$ \\\\\n",
       "\t25 & 2 & T2DG0200043 & 70.1316 & 1.0 & -3.17825 & 1.0 & 2.0 & 2.0 & $\\dots$ \\\\\n",
       "\t26 & 2 & T2DG0200045 & 68.4446 & 1.0 & -0.0542388 & 1.0 & 1.0 & 2.0 & $\\dots$ \\\\\n",
       "\t27 & 2 & T2DG0200046 & 67.1653 & 1.0 & 0.169795 & 1.0 & 2.0 & 2.0 & $\\dots$ \\\\\n",
       "\t28 & 2 & T2DG0200047 & 66.0387 & 1.0 & 0.785471 & 1.0 & 2.0 & 2.0 & $\\dots$ \\\\\n",
       "\t29 & 2 & T2DG0200048 & 68.2812 & 1.0 & -0.289374 & 1.0 & 2.0 & 2.0 & $\\dots$ \\\\\n",
       "\t30 & 2 & T2DG0200049 & 67.4865 & 1.0 & -0.580685 & 1.0 & 2.0 & 2.0 & $\\dots$ \\\\\n",
       "\t$\\dots$ & $\\dots$ & $\\dots$ & $\\dots$ & $\\dots$ & $\\dots$ & $\\dots$ & $\\dots$ & $\\dots$ &  \\\\\n",
       "\\end{tabular}\n"
      ],
      "text/plain": [
       "849×26 DataFrame. Omitted printing of 20 columns\n",
       "│ Row │ fid       │ iid         │ Trait   │ intercept │ age       │ sex     │\n",
       "│     │ \u001b[90mAbstract…\u001b[39m │ \u001b[90mAbstract…\u001b[39m   │ \u001b[90mFloat64\u001b[39m │ \u001b[90mFloat64\u001b[39m   │ \u001b[90mFloat64\u001b[39m   │ \u001b[90mFloat64\u001b[39m │\n",
       "├─────┼───────────┼─────────────┼─────────┼───────────┼───────────┼─────────┤\n",
       "│ 1   │ 2         │ T2DG0200001 │ 66.3349 │ 1.0       │ 0.883123  │ 1.0     │\n",
       "│ 2   │ 2         │ T2DG0200002 │ 68.7386 │ 1.0       │ -0.878451 │ 1.0     │\n",
       "│ 3   │ 2         │ T2DG0200003 │ 69.6754 │ 1.0       │ -0.472917 │ 1.0     │\n",
       "│ 4   │ 2         │ T2DG0200004 │ 67.1783 │ 1.0       │ -0.879617 │ 1.0     │\n",
       "│ 5   │ 2         │ T2DG0200005 │ 68.6255 │ 1.0       │ 0.88019   │ 1.0     │\n",
       "│ 6   │ 2         │ T2DG0200006 │ 67.8581 │ 1.0       │ 2.22194   │ 1.0     │\n",
       "│ 7   │ 2         │ T2DG0200007 │ 67.8991 │ 1.0       │ 0.550011  │ 1.0     │\n",
       "│ 8   │ 2         │ T2DG0200008 │ 66.2767 │ 1.0       │ -0.25112  │ 1.0     │\n",
       "│ 9   │ 2         │ T2DG0200009 │ 69.3029 │ 1.0       │ 0.519661  │ 1.0     │\n",
       "│ 10  │ 2         │ T2DG0200012 │ 65.6474 │ 1.0       │ -0.495326 │ 1.0     │\n",
       "⋮\n",
       "│ 839 │ 47        │ T2DG4701129 │ 68.8321 │ 1.0       │ 0.14013   │ 1.0     │\n",
       "│ 840 │ 47        │ T2DG4701130 │ 68.8022 │ 1.0       │ 1.3462    │ 1.0     │\n",
       "│ 841 │ 47        │ T2DG4701131 │ 69.13   │ 1.0       │ -0.07404  │ 1.0     │\n",
       "│ 842 │ 47        │ T2DG4701132 │ 69.1154 │ 1.0       │ -2.28684  │ 1.0     │\n",
       "│ 843 │ 47        │ T2DG4701133 │ 69.699  │ 1.0       │ 1.54095   │ 1.0     │\n",
       "│ 844 │ 47        │ T2DG4701134 │ 68.125  │ 1.0       │ 0.975948  │ 1.0     │\n",
       "│ 845 │ 47        │ T2DG4701135 │ 69.4407 │ 1.0       │ -0.999364 │ 1.0     │\n",
       "│ 846 │ 47        │ T2DG4701136 │ 68.8791 │ 1.0       │ 1.69877   │ 1.0     │\n",
       "│ 847 │ 47        │ T2DG4701137 │ 67.2845 │ 1.0       │ -1.15702  │ 1.0     │\n",
       "│ 848 │ 47        │ T2DG4701138 │ 67.6513 │ 1.0       │ 0.442174  │ 1.0     │\n",
       "│ 849 │ 47        │ T2DG4701139 │ 69.4387 │ 1.0       │ 1.06363   │ 1.0     │"
      ]
     },
     "execution_count": 25,
     "metadata": {},
     "output_type": "execute_result"
    }
   ],
   "source": [
    "Trait2_data = [IndividualID hcat(y_2, X_rare_design)]"
   ]
  },
  {
   "cell_type": "markdown",
   "metadata": {},
   "source": [
    "Next we output the coefficients and SNP's used to simulate this trait."
   ]
  },
  {
   "cell_type": "code",
   "execution_count": 26,
   "metadata": {},
   "outputs": [
    {
     "data": {
      "text/html": [
       "<table class=\"data-frame\"><thead><tr><th></th><th>Coefficients</th><th>SNPs</th></tr><tr><th></th><th>Float64</th><th>String</th></tr></thead><tbody><p>20 rows × 2 columns</p><tr><th>1</th><td>0.18</td><td>c1_54490</td></tr><tr><th>2</th><td>2.37</td><td>c1_59492</td></tr><tr><th>3</th><td>2.11</td><td>c1_61462</td></tr><tr><th>4</th><td>2.37</td><td>c1_61920</td></tr><tr><th>5</th><td>2.37</td><td>c1_62162</td></tr><tr><th>6</th><td>2.37</td><td>c1_67580</td></tr><tr><th>7</th><td>1.87</td><td>c1_74902</td></tr><tr><th>8</th><td>1.87</td><td>c1_76838</td></tr><tr><th>9</th><td>2.1</td><td>c1_86329</td></tr><tr><th>10</th><td>1.48</td><td>c1_86331</td></tr><tr><th>11</th><td>2.1</td><td>c1_86340</td></tr><tr><th>12</th><td>2.37</td><td>c1_86947</td></tr><tr><th>13</th><td>2.37</td><td>c1_87366</td></tr><tr><th>14</th><td>1.31</td><td>c1_87409</td></tr><tr><th>15</th><td>0.06</td><td>c1_87805</td></tr><tr><th>16</th><td>0.08</td><td>c1_87838</td></tr><tr><th>17</th><td>0.07</td><td>c1_87959</td></tr><tr><th>18</th><td>2.37</td><td>c1_88188</td></tr><tr><th>19</th><td>1.87</td><td>c1_526970</td></tr><tr><th>20</th><td>2.37</td><td>c1_526982</td></tr></tbody></table>"
      ],
      "text/latex": [
       "\\begin{tabular}{r|cc}\n",
       "\t& Coefficients & SNPs\\\\\n",
       "\t\\hline\n",
       "\t& Float64 & String\\\\\n",
       "\t\\hline\n",
       "\t1 & 0.18 & c1\\_54490 \\\\\n",
       "\t2 & 2.37 & c1\\_59492 \\\\\n",
       "\t3 & 2.11 & c1\\_61462 \\\\\n",
       "\t4 & 2.37 & c1\\_61920 \\\\\n",
       "\t5 & 2.37 & c1\\_62162 \\\\\n",
       "\t6 & 2.37 & c1\\_67580 \\\\\n",
       "\t7 & 1.87 & c1\\_74902 \\\\\n",
       "\t8 & 1.87 & c1\\_76838 \\\\\n",
       "\t9 & 2.1 & c1\\_86329 \\\\\n",
       "\t10 & 1.48 & c1\\_86331 \\\\\n",
       "\t11 & 2.1 & c1\\_86340 \\\\\n",
       "\t12 & 2.37 & c1\\_86947 \\\\\n",
       "\t13 & 2.37 & c1\\_87366 \\\\\n",
       "\t14 & 1.31 & c1\\_87409 \\\\\n",
       "\t15 & 0.06 & c1\\_87805 \\\\\n",
       "\t16 & 0.08 & c1\\_87838 \\\\\n",
       "\t17 & 0.07 & c1\\_87959 \\\\\n",
       "\t18 & 2.37 & c1\\_88188 \\\\\n",
       "\t19 & 1.87 & c1\\_526970 \\\\\n",
       "\t20 & 2.37 & c1\\_526982 \\\\\n",
       "\\end{tabular}\n"
      ],
      "text/plain": [
       "20×2 DataFrame\n",
       "│ Row │ Coefficients │ SNPs      │\n",
       "│     │ \u001b[90mFloat64\u001b[39m      │ \u001b[90mString\u001b[39m    │\n",
       "├─────┼──────────────┼───────────┤\n",
       "│ 1   │ 0.18         │ c1_54490  │\n",
       "│ 2   │ 2.37         │ c1_59492  │\n",
       "│ 3   │ 2.11         │ c1_61462  │\n",
       "│ 4   │ 2.37         │ c1_61920  │\n",
       "│ 5   │ 2.37         │ c1_62162  │\n",
       "│ 6   │ 2.37         │ c1_67580  │\n",
       "│ 7   │ 1.87         │ c1_74902  │\n",
       "│ 8   │ 1.87         │ c1_76838  │\n",
       "│ 9   │ 2.1          │ c1_86329  │\n",
       "│ 10  │ 1.48         │ c1_86331  │\n",
       "│ 11  │ 2.1          │ c1_86340  │\n",
       "│ 12  │ 2.37         │ c1_86947  │\n",
       "│ 13  │ 2.37         │ c1_87366  │\n",
       "│ 14  │ 1.31         │ c1_87409  │\n",
       "│ 15  │ 0.06         │ c1_87805  │\n",
       "│ 16  │ 0.08         │ c1_87838  │\n",
       "│ 17  │ 0.07         │ c1_87959  │\n",
       "│ 18  │ 2.37         │ c1_88188  │\n",
       "│ 19  │ 1.87         │ c1_526970 │\n",
       "│ 20  │ 2.37         │ c1_526982 │"
      ]
     },
     "execution_count": 26,
     "metadata": {},
     "output_type": "execute_result"
    }
   ],
   "source": [
    "Coefficients = DataFrame(Coefficients = simulated_effectsizes_exp)\n",
    "SNPs = DataFrame(SNPs = snpid[rare_snp_indx][1:20])\n",
    "Trait2_SNPs = hcat(Coefficients, SNPs)"
   ]
  },
  {
   "cell_type": "code",
   "execution_count": 27,
   "metadata": {},
   "outputs": [
    {
     "data": {
      "text/plain": [
       "\"Trait2_SNPs.csv\""
      ]
     },
     "execution_count": 27,
     "metadata": {},
     "output_type": "execute_result"
    }
   ],
   "source": [
    "CSV.write(\"Trait2_data.csv\", Trait2_data)\n",
    "CSV.write(\"Trait2_SNPs.csv\", Trait2_SNPs)"
   ]
  },
  {
   "cell_type": "markdown",
   "metadata": {},
   "source": [
    "# Example 3: Bivariate Rare Variant Model -- \n",
    "\n",
    "We extend the univariate variance component model above to simulate a bivariate trait. We will use the chi-squared effect sizes for the second trait."
   ]
  },
  {
   "cell_type": "code",
   "execution_count": 28,
   "metadata": {},
   "outputs": [
    {
     "data": {
      "text/plain": [
       "23×2 Array{Float64,2}:\n",
       " 1.0      1.0   \n",
       " 0.0002   0.0002\n",
       " 0.2      0.2   \n",
       " 0.18     3.32  \n",
       " 2.37    11.62  \n",
       " 2.11     9.48  \n",
       " 2.37    11.62  \n",
       " 2.37    11.62  \n",
       " 2.37    11.62  \n",
       " 1.87     8.2   \n",
       " 1.87     8.21  \n",
       " 2.1      9.46  \n",
       " 1.48     6.7   \n",
       " 2.1      9.46  \n",
       " 2.37    11.62  \n",
       " 2.37    11.62  \n",
       " 1.31     6.18  \n",
       " 0.06     2.79  \n",
       " 0.08     2.93  \n",
       " 0.07     2.88  \n",
       " 2.37    11.6   \n",
       " 1.87     8.2   \n",
       " 2.37    11.6   "
      ]
     },
     "execution_count": 28,
     "metadata": {},
     "output_type": "execute_result"
    }
   ],
   "source": [
    "β_chisq = vcat(β_cov, simulated_effectsizes_chisq)\n",
    "fixed_effects = [β_exp β_chisq]"
   ]
  },
  {
   "cell_type": "code",
   "execution_count": 29,
   "metadata": {},
   "outputs": [
    {
     "data": {
      "text/plain": [
       "Variance Component Model\n",
       "  * number of traits: 2\n",
       "  * number of variance components: 2\n",
       "  * sample size: 849"
      ]
     },
     "execution_count": 29,
     "metadata": {},
     "output_type": "execute_result"
    }
   ],
   "source": [
    "using LinearAlgebra\n",
    "Σ_A = [4 1; 1 4]\n",
    "Σ_E = [2.0 0.0; 0.0 2.0];\n",
    "variance_formula = @vc Σ_A ⊗ (GRM + I_n)  + Σ_E ⊗ I_n\n",
    "Σ_2 = [Σ_A, Σ_E]\n",
    "\n",
    "# # Create the simulation model \n",
    "vcm_model =  VCMTrait(Matrix(X_rare_design), fixed_effects, variance_formula)"
   ]
  },
  {
   "cell_type": "code",
   "execution_count": 30,
   "metadata": {},
   "outputs": [
    {
     "data": {
      "text/html": [
       "<table class=\"data-frame\"><thead><tr><th></th><th>Trait1</th><th>Trait2</th></tr><tr><th></th><th>Float64</th><th>Float64</th></tr></thead><tbody><p>849 rows × 2 columns</p><tr><th>1</th><td>68.1778</td><td>335.633</td></tr><tr><th>2</th><td>67.763</td><td>343.467</td></tr><tr><th>3</th><td>62.153</td><td>341.028</td></tr><tr><th>4</th><td>70.5878</td><td>341.497</td></tr><tr><th>5</th><td>71.8811</td><td>345.071</td></tr><tr><th>6</th><td>74.0223</td><td>340.659</td></tr><tr><th>7</th><td>71.7453</td><td>343.38</td></tr><tr><th>8</th><td>67.4223</td><td>337.422</td></tr><tr><th>9</th><td>67.5488</td><td>339.466</td></tr><tr><th>10</th><td>72.6452</td><td>344.51</td></tr><tr><th>11</th><td>66.9814</td><td>337.192</td></tr><tr><th>12</th><td>65.2227</td><td>331.276</td></tr><tr><th>13</th><td>64.756</td><td>338.376</td></tr><tr><th>14</th><td>66.7325</td><td>342.737</td></tr><tr><th>15</th><td>69.4014</td><td>345.423</td></tr><tr><th>16</th><td>70.2305</td><td>343.204</td></tr><tr><th>17</th><td>72.4422</td><td>343.575</td></tr><tr><th>18</th><td>69.2779</td><td>342.301</td></tr><tr><th>19</th><td>68.9063</td><td>337.87</td></tr><tr><th>20</th><td>73.551</td><td>342.096</td></tr><tr><th>21</th><td>70.4889</td><td>345.732</td></tr><tr><th>22</th><td>67.1074</td><td>344.703</td></tr><tr><th>23</th><td>68.4086</td><td>343.332</td></tr><tr><th>24</th><td>64.8085</td><td>333.518</td></tr><tr><th>25</th><td>66.3654</td><td>336.627</td></tr><tr><th>26</th><td>63.664</td><td>334.746</td></tr><tr><th>27</th><td>66.9065</td><td>339.931</td></tr><tr><th>28</th><td>67.0224</td><td>344.231</td></tr><tr><th>29</th><td>67.9043</td><td>344.887</td></tr><tr><th>30</th><td>69.9885</td><td>344.641</td></tr><tr><th>&vellip;</th><td>&vellip;</td><td>&vellip;</td></tr></tbody></table>"
      ],
      "text/latex": [
       "\\begin{tabular}{r|cc}\n",
       "\t& Trait1 & Trait2\\\\\n",
       "\t\\hline\n",
       "\t& Float64 & Float64\\\\\n",
       "\t\\hline\n",
       "\t1 & 68.1778 & 335.633 \\\\\n",
       "\t2 & 67.763 & 343.467 \\\\\n",
       "\t3 & 62.153 & 341.028 \\\\\n",
       "\t4 & 70.5878 & 341.497 \\\\\n",
       "\t5 & 71.8811 & 345.071 \\\\\n",
       "\t6 & 74.0223 & 340.659 \\\\\n",
       "\t7 & 71.7453 & 343.38 \\\\\n",
       "\t8 & 67.4223 & 337.422 \\\\\n",
       "\t9 & 67.5488 & 339.466 \\\\\n",
       "\t10 & 72.6452 & 344.51 \\\\\n",
       "\t11 & 66.9814 & 337.192 \\\\\n",
       "\t12 & 65.2227 & 331.276 \\\\\n",
       "\t13 & 64.756 & 338.376 \\\\\n",
       "\t14 & 66.7325 & 342.737 \\\\\n",
       "\t15 & 69.4014 & 345.423 \\\\\n",
       "\t16 & 70.2305 & 343.204 \\\\\n",
       "\t17 & 72.4422 & 343.575 \\\\\n",
       "\t18 & 69.2779 & 342.301 \\\\\n",
       "\t19 & 68.9063 & 337.87 \\\\\n",
       "\t20 & 73.551 & 342.096 \\\\\n",
       "\t21 & 70.4889 & 345.732 \\\\\n",
       "\t22 & 67.1074 & 344.703 \\\\\n",
       "\t23 & 68.4086 & 343.332 \\\\\n",
       "\t24 & 64.8085 & 333.518 \\\\\n",
       "\t25 & 66.3654 & 336.627 \\\\\n",
       "\t26 & 63.664 & 334.746 \\\\\n",
       "\t27 & 66.9065 & 339.931 \\\\\n",
       "\t28 & 67.0224 & 344.231 \\\\\n",
       "\t29 & 67.9043 & 344.887 \\\\\n",
       "\t30 & 69.9885 & 344.641 \\\\\n",
       "\t$\\dots$ & $\\dots$ & $\\dots$ \\\\\n",
       "\\end{tabular}\n"
      ],
      "text/plain": [
       "849×2 DataFrame\n",
       "│ Row │ Trait1  │ Trait2  │\n",
       "│     │ \u001b[90mFloat64\u001b[39m │ \u001b[90mFloat64\u001b[39m │\n",
       "├─────┼─────────┼─────────┤\n",
       "│ 1   │ 68.1778 │ 335.633 │\n",
       "│ 2   │ 67.763  │ 343.467 │\n",
       "│ 3   │ 62.153  │ 341.028 │\n",
       "│ 4   │ 70.5878 │ 341.497 │\n",
       "│ 5   │ 71.8811 │ 345.071 │\n",
       "│ 6   │ 74.0223 │ 340.659 │\n",
       "│ 7   │ 71.7453 │ 343.38  │\n",
       "│ 8   │ 67.4223 │ 337.422 │\n",
       "│ 9   │ 67.5488 │ 339.466 │\n",
       "│ 10  │ 72.6452 │ 344.51  │\n",
       "⋮\n",
       "│ 839 │ 71.0612 │ 340.975 │\n",
       "│ 840 │ 74.196  │ 345.755 │\n",
       "│ 841 │ 70.7729 │ 341.506 │\n",
       "│ 842 │ 71.9106 │ 339.702 │\n",
       "│ 843 │ 70.7234 │ 345.279 │\n",
       "│ 844 │ 72.0693 │ 346.057 │\n",
       "│ 845 │ 68.8003 │ 346.384 │\n",
       "│ 846 │ 72.7135 │ 345.481 │\n",
       "│ 847 │ 66.4754 │ 338.368 │\n",
       "│ 848 │ 74.2246 │ 343.715 │\n",
       "│ 849 │ 67.1771 │ 344.701 │"
      ]
     },
     "execution_count": 30,
     "metadata": {},
     "output_type": "execute_result"
    }
   ],
   "source": [
    "# Generate the simulations\n",
    "y_3 = DataFrame(simulate(vcm_model))\n",
    "rename!(y_3, [Symbol(\"Trait$i\") for i in 1:length(variance_formula)])"
   ]
  },
  {
   "cell_type": "markdown",
   "metadata": {},
   "source": [
    "## Saving Simulation Results to Local Machine"
   ]
  },
  {
   "cell_type": "code",
   "execution_count": 31,
   "metadata": {},
   "outputs": [
    {
     "data": {
      "text/html": [
       "<table class=\"data-frame\"><thead><tr><th></th><th>fid</th><th>iid</th><th>Trait1</th><th>Trait2</th><th>intercept</th><th>age</th><th>sex</th><th>c1_54490</th></tr><tr><th></th><th>Abstract…</th><th>Abstract…</th><th>Float64</th><th>Float64</th><th>Float64</th><th>Float64</th><th>Float64</th><th>Float64</th></tr></thead><tbody><p>849 rows × 27 columns (omitted printing of 19 columns)</p><tr><th>1</th><td>2</td><td>T2DG0200001</td><td>68.1778</td><td>335.633</td><td>1.0</td><td>0.883123</td><td>1.0</td><td>2.0</td></tr><tr><th>2</th><td>2</td><td>T2DG0200002</td><td>67.763</td><td>343.467</td><td>1.0</td><td>-0.878451</td><td>1.0</td><td>2.0</td></tr><tr><th>3</th><td>2</td><td>T2DG0200003</td><td>62.153</td><td>341.028</td><td>1.0</td><td>-0.472917</td><td>1.0</td><td>2.0</td></tr><tr><th>4</th><td>2</td><td>T2DG0200004</td><td>70.5878</td><td>341.497</td><td>1.0</td><td>-0.879617</td><td>1.0</td><td>2.0</td></tr><tr><th>5</th><td>2</td><td>T2DG0200005</td><td>71.8811</td><td>345.071</td><td>1.0</td><td>0.88019</td><td>1.0</td><td>2.0</td></tr><tr><th>6</th><td>2</td><td>T2DG0200006</td><td>74.0223</td><td>340.659</td><td>1.0</td><td>2.22194</td><td>1.0</td><td>2.0</td></tr><tr><th>7</th><td>2</td><td>T2DG0200007</td><td>71.7453</td><td>343.38</td><td>1.0</td><td>0.550011</td><td>1.0</td><td>2.0</td></tr><tr><th>8</th><td>2</td><td>T2DG0200008</td><td>67.4223</td><td>337.422</td><td>1.0</td><td>-0.25112</td><td>1.0</td><td>2.0</td></tr><tr><th>9</th><td>2</td><td>T2DG0200009</td><td>67.5488</td><td>339.466</td><td>1.0</td><td>0.519661</td><td>1.0</td><td>2.0</td></tr><tr><th>10</th><td>2</td><td>T2DG0200012</td><td>72.6452</td><td>344.51</td><td>1.0</td><td>-0.495326</td><td>1.0</td><td>2.0</td></tr><tr><th>11</th><td>2</td><td>T2DG0200013</td><td>66.9814</td><td>337.192</td><td>1.0</td><td>-0.538659</td><td>1.0</td><td>2.0</td></tr><tr><th>12</th><td>2</td><td>T2DG0200018</td><td>65.2227</td><td>331.276</td><td>1.0</td><td>0.000251449</td><td>1.0</td><td>2.0</td></tr><tr><th>13</th><td>2</td><td>T2DG0200023</td><td>64.756</td><td>338.376</td><td>1.0</td><td>0.146982</td><td>1.0</td><td>2.0</td></tr><tr><th>14</th><td>2</td><td>T2DG0200027</td><td>66.7325</td><td>342.737</td><td>1.0</td><td>1.86437</td><td>1.0</td><td>2.0</td></tr><tr><th>15</th><td>2</td><td>T2DG0200031</td><td>69.4014</td><td>345.423</td><td>1.0</td><td>-0.804785</td><td>1.0</td><td>2.0</td></tr><tr><th>16</th><td>2</td><td>T2DG0200032</td><td>70.2305</td><td>343.204</td><td>1.0</td><td>0.12909</td><td>1.0</td><td>2.0</td></tr><tr><th>17</th><td>2</td><td>T2DG0200033</td><td>72.4422</td><td>343.575</td><td>1.0</td><td>-0.230647</td><td>1.0</td><td>2.0</td></tr><tr><th>18</th><td>2</td><td>T2DG0200034</td><td>69.2779</td><td>342.301</td><td>1.0</td><td>0.387604</td><td>1.0</td><td>2.0</td></tr><tr><th>19</th><td>2</td><td>T2DG0200035</td><td>68.9063</td><td>337.87</td><td>1.0</td><td>0.0912712</td><td>1.0</td><td>2.0</td></tr><tr><th>20</th><td>2</td><td>T2DG0200036</td><td>73.551</td><td>342.096</td><td>1.0</td><td>-1.47758</td><td>1.0</td><td>2.0</td></tr><tr><th>21</th><td>2</td><td>T2DG0200039</td><td>70.4889</td><td>345.732</td><td>1.0</td><td>1.57698</td><td>1.0</td><td>2.0</td></tr><tr><th>22</th><td>2</td><td>T2DG0200040</td><td>67.1074</td><td>344.703</td><td>1.0</td><td>-1.37134</td><td>1.0</td><td>2.0</td></tr><tr><th>23</th><td>2</td><td>T2DG0200041</td><td>68.4086</td><td>343.332</td><td>1.0</td><td>1.12026</td><td>1.0</td><td>2.0</td></tr><tr><th>24</th><td>2</td><td>T2DG0200042</td><td>64.8085</td><td>333.518</td><td>1.0</td><td>-1.08257</td><td>1.0</td><td>2.0</td></tr><tr><th>25</th><td>2</td><td>T2DG0200043</td><td>66.3654</td><td>336.627</td><td>1.0</td><td>-3.17825</td><td>1.0</td><td>2.0</td></tr><tr><th>26</th><td>2</td><td>T2DG0200045</td><td>63.664</td><td>334.746</td><td>1.0</td><td>-0.0542388</td><td>1.0</td><td>1.0</td></tr><tr><th>27</th><td>2</td><td>T2DG0200046</td><td>66.9065</td><td>339.931</td><td>1.0</td><td>0.169795</td><td>1.0</td><td>2.0</td></tr><tr><th>28</th><td>2</td><td>T2DG0200047</td><td>67.0224</td><td>344.231</td><td>1.0</td><td>0.785471</td><td>1.0</td><td>2.0</td></tr><tr><th>29</th><td>2</td><td>T2DG0200048</td><td>67.9043</td><td>344.887</td><td>1.0</td><td>-0.289374</td><td>1.0</td><td>2.0</td></tr><tr><th>30</th><td>2</td><td>T2DG0200049</td><td>69.9885</td><td>344.641</td><td>1.0</td><td>-0.580685</td><td>1.0</td><td>2.0</td></tr><tr><th>&vellip;</th><td>&vellip;</td><td>&vellip;</td><td>&vellip;</td><td>&vellip;</td><td>&vellip;</td><td>&vellip;</td><td>&vellip;</td><td>&vellip;</td></tr></tbody></table>"
      ],
      "text/latex": [
       "\\begin{tabular}{r|ccccccccc}\n",
       "\t& fid & iid & Trait1 & Trait2 & intercept & age & sex & c1\\_54490 & \\\\\n",
       "\t\\hline\n",
       "\t& Abstract… & Abstract… & Float64 & Float64 & Float64 & Float64 & Float64 & Float64 & \\\\\n",
       "\t\\hline\n",
       "\t1 & 2 & T2DG0200001 & 68.1778 & 335.633 & 1.0 & 0.883123 & 1.0 & 2.0 & $\\dots$ \\\\\n",
       "\t2 & 2 & T2DG0200002 & 67.763 & 343.467 & 1.0 & -0.878451 & 1.0 & 2.0 & $\\dots$ \\\\\n",
       "\t3 & 2 & T2DG0200003 & 62.153 & 341.028 & 1.0 & -0.472917 & 1.0 & 2.0 & $\\dots$ \\\\\n",
       "\t4 & 2 & T2DG0200004 & 70.5878 & 341.497 & 1.0 & -0.879617 & 1.0 & 2.0 & $\\dots$ \\\\\n",
       "\t5 & 2 & T2DG0200005 & 71.8811 & 345.071 & 1.0 & 0.88019 & 1.0 & 2.0 & $\\dots$ \\\\\n",
       "\t6 & 2 & T2DG0200006 & 74.0223 & 340.659 & 1.0 & 2.22194 & 1.0 & 2.0 & $\\dots$ \\\\\n",
       "\t7 & 2 & T2DG0200007 & 71.7453 & 343.38 & 1.0 & 0.550011 & 1.0 & 2.0 & $\\dots$ \\\\\n",
       "\t8 & 2 & T2DG0200008 & 67.4223 & 337.422 & 1.0 & -0.25112 & 1.0 & 2.0 & $\\dots$ \\\\\n",
       "\t9 & 2 & T2DG0200009 & 67.5488 & 339.466 & 1.0 & 0.519661 & 1.0 & 2.0 & $\\dots$ \\\\\n",
       "\t10 & 2 & T2DG0200012 & 72.6452 & 344.51 & 1.0 & -0.495326 & 1.0 & 2.0 & $\\dots$ \\\\\n",
       "\t11 & 2 & T2DG0200013 & 66.9814 & 337.192 & 1.0 & -0.538659 & 1.0 & 2.0 & $\\dots$ \\\\\n",
       "\t12 & 2 & T2DG0200018 & 65.2227 & 331.276 & 1.0 & 0.000251449 & 1.0 & 2.0 & $\\dots$ \\\\\n",
       "\t13 & 2 & T2DG0200023 & 64.756 & 338.376 & 1.0 & 0.146982 & 1.0 & 2.0 & $\\dots$ \\\\\n",
       "\t14 & 2 & T2DG0200027 & 66.7325 & 342.737 & 1.0 & 1.86437 & 1.0 & 2.0 & $\\dots$ \\\\\n",
       "\t15 & 2 & T2DG0200031 & 69.4014 & 345.423 & 1.0 & -0.804785 & 1.0 & 2.0 & $\\dots$ \\\\\n",
       "\t16 & 2 & T2DG0200032 & 70.2305 & 343.204 & 1.0 & 0.12909 & 1.0 & 2.0 & $\\dots$ \\\\\n",
       "\t17 & 2 & T2DG0200033 & 72.4422 & 343.575 & 1.0 & -0.230647 & 1.0 & 2.0 & $\\dots$ \\\\\n",
       "\t18 & 2 & T2DG0200034 & 69.2779 & 342.301 & 1.0 & 0.387604 & 1.0 & 2.0 & $\\dots$ \\\\\n",
       "\t19 & 2 & T2DG0200035 & 68.9063 & 337.87 & 1.0 & 0.0912712 & 1.0 & 2.0 & $\\dots$ \\\\\n",
       "\t20 & 2 & T2DG0200036 & 73.551 & 342.096 & 1.0 & -1.47758 & 1.0 & 2.0 & $\\dots$ \\\\\n",
       "\t21 & 2 & T2DG0200039 & 70.4889 & 345.732 & 1.0 & 1.57698 & 1.0 & 2.0 & $\\dots$ \\\\\n",
       "\t22 & 2 & T2DG0200040 & 67.1074 & 344.703 & 1.0 & -1.37134 & 1.0 & 2.0 & $\\dots$ \\\\\n",
       "\t23 & 2 & T2DG0200041 & 68.4086 & 343.332 & 1.0 & 1.12026 & 1.0 & 2.0 & $\\dots$ \\\\\n",
       "\t24 & 2 & T2DG0200042 & 64.8085 & 333.518 & 1.0 & -1.08257 & 1.0 & 2.0 & $\\dots$ \\\\\n",
       "\t25 & 2 & T2DG0200043 & 66.3654 & 336.627 & 1.0 & -3.17825 & 1.0 & 2.0 & $\\dots$ \\\\\n",
       "\t26 & 2 & T2DG0200045 & 63.664 & 334.746 & 1.0 & -0.0542388 & 1.0 & 1.0 & $\\dots$ \\\\\n",
       "\t27 & 2 & T2DG0200046 & 66.9065 & 339.931 & 1.0 & 0.169795 & 1.0 & 2.0 & $\\dots$ \\\\\n",
       "\t28 & 2 & T2DG0200047 & 67.0224 & 344.231 & 1.0 & 0.785471 & 1.0 & 2.0 & $\\dots$ \\\\\n",
       "\t29 & 2 & T2DG0200048 & 67.9043 & 344.887 & 1.0 & -0.289374 & 1.0 & 2.0 & $\\dots$ \\\\\n",
       "\t30 & 2 & T2DG0200049 & 69.9885 & 344.641 & 1.0 & -0.580685 & 1.0 & 2.0 & $\\dots$ \\\\\n",
       "\t$\\dots$ & $\\dots$ & $\\dots$ & $\\dots$ & $\\dots$ & $\\dots$ & $\\dots$ & $\\dots$ & $\\dots$ &  \\\\\n",
       "\\end{tabular}\n"
      ],
      "text/plain": [
       "849×27 DataFrame. Omitted printing of 21 columns\n",
       "│ Row │ fid       │ iid         │ Trait1  │ Trait2  │ intercept │ age       │\n",
       "│     │ \u001b[90mAbstract…\u001b[39m │ \u001b[90mAbstract…\u001b[39m   │ \u001b[90mFloat64\u001b[39m │ \u001b[90mFloat64\u001b[39m │ \u001b[90mFloat64\u001b[39m   │ \u001b[90mFloat64\u001b[39m   │\n",
       "├─────┼───────────┼─────────────┼─────────┼─────────┼───────────┼───────────┤\n",
       "│ 1   │ 2         │ T2DG0200001 │ 68.1778 │ 335.633 │ 1.0       │ 0.883123  │\n",
       "│ 2   │ 2         │ T2DG0200002 │ 67.763  │ 343.467 │ 1.0       │ -0.878451 │\n",
       "│ 3   │ 2         │ T2DG0200003 │ 62.153  │ 341.028 │ 1.0       │ -0.472917 │\n",
       "│ 4   │ 2         │ T2DG0200004 │ 70.5878 │ 341.497 │ 1.0       │ -0.879617 │\n",
       "│ 5   │ 2         │ T2DG0200005 │ 71.8811 │ 345.071 │ 1.0       │ 0.88019   │\n",
       "│ 6   │ 2         │ T2DG0200006 │ 74.0223 │ 340.659 │ 1.0       │ 2.22194   │\n",
       "│ 7   │ 2         │ T2DG0200007 │ 71.7453 │ 343.38  │ 1.0       │ 0.550011  │\n",
       "│ 8   │ 2         │ T2DG0200008 │ 67.4223 │ 337.422 │ 1.0       │ -0.25112  │\n",
       "│ 9   │ 2         │ T2DG0200009 │ 67.5488 │ 339.466 │ 1.0       │ 0.519661  │\n",
       "│ 10  │ 2         │ T2DG0200012 │ 72.6452 │ 344.51  │ 1.0       │ -0.495326 │\n",
       "⋮\n",
       "│ 839 │ 47        │ T2DG4701129 │ 71.0612 │ 340.975 │ 1.0       │ 0.14013   │\n",
       "│ 840 │ 47        │ T2DG4701130 │ 74.196  │ 345.755 │ 1.0       │ 1.3462    │\n",
       "│ 841 │ 47        │ T2DG4701131 │ 70.7729 │ 341.506 │ 1.0       │ -0.07404  │\n",
       "│ 842 │ 47        │ T2DG4701132 │ 71.9106 │ 339.702 │ 1.0       │ -2.28684  │\n",
       "│ 843 │ 47        │ T2DG4701133 │ 70.7234 │ 345.279 │ 1.0       │ 1.54095   │\n",
       "│ 844 │ 47        │ T2DG4701134 │ 72.0693 │ 346.057 │ 1.0       │ 0.975948  │\n",
       "│ 845 │ 47        │ T2DG4701135 │ 68.8003 │ 346.384 │ 1.0       │ -0.999364 │\n",
       "│ 846 │ 47        │ T2DG4701136 │ 72.7135 │ 345.481 │ 1.0       │ 1.69877   │\n",
       "│ 847 │ 47        │ T2DG4701137 │ 66.4754 │ 338.368 │ 1.0       │ -1.15702  │\n",
       "│ 848 │ 47        │ T2DG4701138 │ 74.2246 │ 343.715 │ 1.0       │ 0.442174  │\n",
       "│ 849 │ 47        │ T2DG4701139 │ 67.1771 │ 344.701 │ 1.0       │ 1.06363   │"
      ]
     },
     "execution_count": 31,
     "metadata": {},
     "output_type": "execute_result"
    }
   ],
   "source": [
    "Trait3_data = [IndividualID hcat(y_3, X_rare_design)]"
   ]
  },
  {
   "cell_type": "code",
   "execution_count": 32,
   "metadata": {},
   "outputs": [
    {
     "data": {
      "text/html": [
       "<table class=\"data-frame\"><thead><tr><th></th><th>Coefficients_Trait1</th><th>Coefficients_Trait2</th><th>SNPs</th></tr><tr><th></th><th>Float64</th><th>Float64</th><th>String</th></tr></thead><tbody><p>20 rows × 3 columns</p><tr><th>1</th><td>0.18</td><td>3.32</td><td>c1_54490</td></tr><tr><th>2</th><td>2.37</td><td>11.62</td><td>c1_59492</td></tr><tr><th>3</th><td>2.11</td><td>9.48</td><td>c1_61462</td></tr><tr><th>4</th><td>2.37</td><td>11.62</td><td>c1_61920</td></tr><tr><th>5</th><td>2.37</td><td>11.62</td><td>c1_62162</td></tr><tr><th>6</th><td>2.37</td><td>11.62</td><td>c1_67580</td></tr><tr><th>7</th><td>1.87</td><td>8.2</td><td>c1_74902</td></tr><tr><th>8</th><td>1.87</td><td>8.21</td><td>c1_76838</td></tr><tr><th>9</th><td>2.1</td><td>9.46</td><td>c1_86329</td></tr><tr><th>10</th><td>1.48</td><td>6.7</td><td>c1_86331</td></tr><tr><th>11</th><td>2.1</td><td>9.46</td><td>c1_86340</td></tr><tr><th>12</th><td>2.37</td><td>11.62</td><td>c1_86947</td></tr><tr><th>13</th><td>2.37</td><td>11.62</td><td>c1_87366</td></tr><tr><th>14</th><td>1.31</td><td>6.18</td><td>c1_87409</td></tr><tr><th>15</th><td>0.06</td><td>2.79</td><td>c1_87805</td></tr><tr><th>16</th><td>0.08</td><td>2.93</td><td>c1_87838</td></tr><tr><th>17</th><td>0.07</td><td>2.88</td><td>c1_87959</td></tr><tr><th>18</th><td>2.37</td><td>11.6</td><td>c1_88188</td></tr><tr><th>19</th><td>1.87</td><td>8.2</td><td>c1_526970</td></tr><tr><th>20</th><td>2.37</td><td>11.6</td><td>c1_526982</td></tr></tbody></table>"
      ],
      "text/latex": [
       "\\begin{tabular}{r|ccc}\n",
       "\t& Coefficients\\_Trait1 & Coefficients\\_Trait2 & SNPs\\\\\n",
       "\t\\hline\n",
       "\t& Float64 & Float64 & String\\\\\n",
       "\t\\hline\n",
       "\t1 & 0.18 & 3.32 & c1\\_54490 \\\\\n",
       "\t2 & 2.37 & 11.62 & c1\\_59492 \\\\\n",
       "\t3 & 2.11 & 9.48 & c1\\_61462 \\\\\n",
       "\t4 & 2.37 & 11.62 & c1\\_61920 \\\\\n",
       "\t5 & 2.37 & 11.62 & c1\\_62162 \\\\\n",
       "\t6 & 2.37 & 11.62 & c1\\_67580 \\\\\n",
       "\t7 & 1.87 & 8.2 & c1\\_74902 \\\\\n",
       "\t8 & 1.87 & 8.21 & c1\\_76838 \\\\\n",
       "\t9 & 2.1 & 9.46 & c1\\_86329 \\\\\n",
       "\t10 & 1.48 & 6.7 & c1\\_86331 \\\\\n",
       "\t11 & 2.1 & 9.46 & c1\\_86340 \\\\\n",
       "\t12 & 2.37 & 11.62 & c1\\_86947 \\\\\n",
       "\t13 & 2.37 & 11.62 & c1\\_87366 \\\\\n",
       "\t14 & 1.31 & 6.18 & c1\\_87409 \\\\\n",
       "\t15 & 0.06 & 2.79 & c1\\_87805 \\\\\n",
       "\t16 & 0.08 & 2.93 & c1\\_87838 \\\\\n",
       "\t17 & 0.07 & 2.88 & c1\\_87959 \\\\\n",
       "\t18 & 2.37 & 11.6 & c1\\_88188 \\\\\n",
       "\t19 & 1.87 & 8.2 & c1\\_526970 \\\\\n",
       "\t20 & 2.37 & 11.6 & c1\\_526982 \\\\\n",
       "\\end{tabular}\n"
      ],
      "text/plain": [
       "20×3 DataFrame\n",
       "│ Row │ Coefficients_Trait1 │ Coefficients_Trait2 │ SNPs      │\n",
       "│     │ \u001b[90mFloat64\u001b[39m             │ \u001b[90mFloat64\u001b[39m             │ \u001b[90mString\u001b[39m    │\n",
       "├─────┼─────────────────────┼─────────────────────┼───────────┤\n",
       "│ 1   │ 0.18                │ 3.32                │ c1_54490  │\n",
       "│ 2   │ 2.37                │ 11.62               │ c1_59492  │\n",
       "│ 3   │ 2.11                │ 9.48                │ c1_61462  │\n",
       "│ 4   │ 2.37                │ 11.62               │ c1_61920  │\n",
       "│ 5   │ 2.37                │ 11.62               │ c1_62162  │\n",
       "│ 6   │ 2.37                │ 11.62               │ c1_67580  │\n",
       "│ 7   │ 1.87                │ 8.2                 │ c1_74902  │\n",
       "│ 8   │ 1.87                │ 8.21                │ c1_76838  │\n",
       "│ 9   │ 2.1                 │ 9.46                │ c1_86329  │\n",
       "│ 10  │ 1.48                │ 6.7                 │ c1_86331  │\n",
       "│ 11  │ 2.1                 │ 9.46                │ c1_86340  │\n",
       "│ 12  │ 2.37                │ 11.62               │ c1_86947  │\n",
       "│ 13  │ 2.37                │ 11.62               │ c1_87366  │\n",
       "│ 14  │ 1.31                │ 6.18                │ c1_87409  │\n",
       "│ 15  │ 0.06                │ 2.79                │ c1_87805  │\n",
       "│ 16  │ 0.08                │ 2.93                │ c1_87838  │\n",
       "│ 17  │ 0.07                │ 2.88                │ c1_87959  │\n",
       "│ 18  │ 2.37                │ 11.6                │ c1_88188  │\n",
       "│ 19  │ 1.87                │ 8.2                 │ c1_526970 │\n",
       "│ 20  │ 2.37                │ 11.6                │ c1_526982 │"
      ]
     },
     "execution_count": 32,
     "metadata": {},
     "output_type": "execute_result"
    }
   ],
   "source": [
    "Coefficients = DataFrame(Coefficients_Trait1 = simulated_effectsizes_exp, Coefficients_Trait2 = simulated_effectsizes_chisq)\n",
    "SNPs = DataFrame(SNPs = snpid[rare_snp_indx][1:20])\n",
    "Trait3_SNPs = hcat(Coefficients, SNPs)"
   ]
  },
  {
   "cell_type": "code",
   "execution_count": 33,
   "metadata": {},
   "outputs": [
    {
     "data": {
      "text/plain": [
       "\"Trait3_SNPs.csv\""
      ]
     },
     "execution_count": 33,
     "metadata": {},
     "output_type": "execute_result"
    }
   ],
   "source": [
    "CSV.write(\"Trait3_data.csv\", Trait3_data)\n",
    "CSV.write(\"Trait3_SNPs.csv\", Trait3_SNPs)"
   ]
  },
  {
   "cell_type": "markdown",
   "metadata": {},
   "source": [
    "## Citations: \n",
    "\n",
    "[1] Lange K, Papp JC, Sinsheimer JS, Sripracha R, Zhou H, Sobel EM (2013) Mendel: The Swiss army knife of genetic analysis programs. Bioinformatics 29:1568-1570.`\n",
    "\n",
    "\n",
    "[2] OPENMENDEL: a cooperative programming project for statistical genetics.\n",
    "[Hum Genet. 2019 Mar 26. doi: 10.1007/s00439-019-02001-z](https://www.ncbi.nlm.nih.gov/pubmed/?term=OPENMENDEL)."
   ]
  }
 ],
 "metadata": {
  "kernelspec": {
   "display_name": "Julia 1.2.0",
   "language": "julia",
   "name": "julia-1.2"
  },
  "language_info": {
   "file_extension": ".jl",
   "mimetype": "application/julia",
   "name": "julia",
   "version": "1.2.0"
  },
  "toc": {
   "base_numbering": 1,
   "nav_menu": {},
   "number_sections": true,
   "sideBar": true,
   "skip_h1_title": false,
   "title_cell": "Table of Contents",
   "title_sidebar": "Contents",
   "toc_cell": false,
   "toc_position": {},
   "toc_section_display": true,
   "toc_window_display": false
  }
 },
 "nbformat": 4,
 "nbformat_minor": 2
}
