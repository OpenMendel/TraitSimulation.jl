{
 "cells": [
  {
   "cell_type": "markdown",
   "metadata": {},
   "source": [
    "# Trait Simulation Tutorial\n",
    "\n",
    "\n",
    "Authors: Sarah Ji, Janet Sinsheimer, Kenneth Lange\n",
    "\n",
    "In this notebook we show how to use the `TraitSimulation.jl` package to simulate traits from genotype data from unrelateds or families with user-specified Generalized Linear Models (GLMs) or Linear Mixed Models (LMMs), respectively. For simulating under either GLM or LMMs, the user can specify the number of repitions for each simulation model. By default, the simulation will return the result of a single simulation. \n",
    "\n",
    "We use the OpenMendel package [SnpArrays.jl](https://openmendel.github.io/SnpArrays.jl/latest/) to both read in and write out PLINK formatted files. The notebook is organized as follows:\n",
    "\n",
    "$\\textbf{Example 1: Mendel28e Linear Mixed Model Example}$\n",
    "\n",
    "In this example we show how to generate data so that the related individuals have correlated trait values even after we account for the effect of a snp, a combination of snps or other fixed effects. We simulate data under a linear mixed model so that we can model residual dependency among individuals. We use the same parameters as were used in Mendel Option 28e with the simulation parameters for Trait1 and Trait2 as shown below. \n",
    "\n",
    "For convenience we use the common assumption that the residual covariance among two relatives can be captured by the additive genetic variance times twice the kinship coefficient. However, if you like you can specify your own variance components and their design matrices as long as they are positive semi definite using the `@vc` macro demonstrated in this example. We run this simulation 1000 times, and store the simulation results in a vector of DataFrames.\n",
    "\n",
    "$\\textbf{Example 2: Rare Variant Linear Mixed Model}$\n",
    "\n",
    "This example is meant to simulate data in a scenario in which a number of rare mutations in a single gene can change a trait value.  In this example we model the residual variation among relatives with the additive genetic variance component and we include 20 rare variants in the mean portion of the model, defined as loci with minor allele frequencies greater than 0.002 but less than 0.02.  In practice rare variants have smaller minor allele frequencies, but we are limited in this tutorial by the relatively small size of the data set. Note also that our modeling these effects as part of the mean is not meant to imply that the best way to detect them would be a standard association analysis. Instead we recommend a burden or SKAT test.\n",
    "\n",
    "Specifically we are generating a single normal trait controlling for family structure with residual heritabiity of 67%, and effect sizes for the variants generated as a function of the minor allele frequencies. The rarer the variant the greater its effect size.\n",
    "\n",
    "In both examples, you can specify your own arbitrary fixed effect sizes, variance components and simulation parameters as desired. You can also specify the number of replicates for each Trait simulation in the `simulate` function."
   ]
  },
  {
   "cell_type": "markdown",
   "metadata": {},
   "source": [
    "### Double check that you are using Julia version 1.0 or higher by checking the machine information"
   ]
  },
  {
   "cell_type": "code",
   "execution_count": 1,
   "metadata": {},
   "outputs": [
    {
     "name": "stdout",
     "output_type": "stream",
     "text": [
      "Julia Version 1.2.0\n",
      "Commit c6da87ff4b (2019-08-20 00:03 UTC)\n",
      "Platform Info:\n",
      "  OS: macOS (x86_64-apple-darwin18.6.0)\n",
      "  CPU: Intel(R) Core(TM) i7-7700HQ CPU @ 2.80GHz\n",
      "  WORD_SIZE: 64\n",
      "  LIBM: libopenlibm\n",
      "  LLVM: libLLVM-6.0.1 (ORCJIT, skylake)\n"
     ]
    }
   ],
   "source": [
    "versioninfo()"
   ]
  },
  {
   "cell_type": "code",
   "execution_count": 2,
   "metadata": {},
   "outputs": [],
   "source": [
    "using DataFrames, SnpArrays, Random, LinearAlgebra, CSV, TraitSimulation"
   ]
  },
  {
   "cell_type": "code",
   "execution_count": 3,
   "metadata": {},
   "outputs": [],
   "source": [
    "Random.seed!(1234);"
   ]
  },
  {
   "cell_type": "markdown",
   "metadata": {},
   "source": [
    "# Reading the Mendel 28a data using SnpArrays\n",
    "\n",
    "First use `SnpArrays.jl` to read in the genotype data. We use PLINK formatted data with the same prefixes for the .bim, .fam, .bed files.\n",
    "\n",
    "The data we will be using are from the Mendel version 16[1] sample files. The data are described in examples under Option 28e in the Mendel Version 16 Manual [Section 28.1,  page 279](http://software.genetics.ucla.edu/download?file=202). It consists of simulated data where the two traits of interest have one contributing SNP and a sex effect.\n",
    "\n",
    "SnpArrays is a very useful utility and can do a lot more than just read in the data. More information about all the functionality of SnpArrays can be found at:\n",
    "https://openmendel.github.io/SnpArrays.jl/latest/"
   ]
  },
  {
   "cell_type": "code",
   "execution_count": 4,
   "metadata": {},
   "outputs": [
    {
     "data": {
      "text/html": [
       "<table class=\"data-frame\"><thead><tr><th></th><th>fid</th><th>iid</th><th>father</th><th>mother</th><th>sex</th><th>phenotype1</th><th>phenotype2</th></tr><tr><th></th><th>Int64</th><th>Int64</th><th>Int64</th><th>Int64</th><th>String</th><th>Float64</th><th>Float64</th></tr></thead><tbody><p>209 rows × 7 columns</p><tr><th>1</th><td>1</td><td>9218</td><td>17008</td><td>16</td><td>M</td><td>38.9635</td><td>18.9857</td></tr><tr><th>2</th><td>1</td><td>3226</td><td>9218</td><td>8228</td><td>F</td><td>33.7391</td><td>21.1041</td></tr><tr><th>3</th><td>2</td><td>29</td><td>0</td><td>0</td><td>F</td><td>34.8884</td><td>19.0114</td></tr><tr><th>4</th><td>2</td><td>2294</td><td>0</td><td>0</td><td>M</td><td>37.7011</td><td>19.1656</td></tr><tr><th>5</th><td>2</td><td>3416</td><td>0</td><td>0</td><td>M</td><td>45.1317</td><td>19.8409</td></tr><tr><th>6</th><td>2</td><td>17893</td><td>2294</td><td>29</td><td>F</td><td>35.156</td><td>14.1423</td></tr><tr><th>7</th><td>2</td><td>6952</td><td>3416</td><td>17893</td><td>M</td><td>42.4514</td><td>19.9271</td></tr><tr><th>8</th><td>2</td><td>14695</td><td>2294</td><td>29</td><td>F</td><td>35.6426</td><td>17.4191</td></tr><tr><th>9</th><td>2</td><td>6790</td><td>2294</td><td>29</td><td>M</td><td>40.6344</td><td>23.6845</td></tr><tr><th>10</th><td>2</td><td>3916</td><td>2294</td><td>29</td><td>F</td><td>34.8618</td><td>16.8684</td></tr><tr><th>11</th><td>3</td><td>39</td><td>0</td><td>0</td><td>F</td><td>37.2552</td><td>16.397</td></tr><tr><th>12</th><td>3</td><td>4521</td><td>0</td><td>0</td><td>F</td><td>33.0975</td><td>15.3287</td></tr><tr><th>13</th><td>3</td><td>8366</td><td>0</td><td>0</td><td>M</td><td>37.916</td><td>20.6693</td></tr><tr><th>14</th><td>3</td><td>16693</td><td>0</td><td>0</td><td>F</td><td>34.839</td><td>17.6651</td></tr><tr><th>15</th><td>3</td><td>21688</td><td>8366</td><td>16693</td><td>M</td><td>36.2022</td><td>21.7773</td></tr><tr><th>16</th><td>3</td><td>25532</td><td>21688</td><td>39</td><td>F</td><td>30.9314</td><td>17.8042</td></tr><tr><th>17</th><td>3</td><td>26294</td><td>21688</td><td>39</td><td>M</td><td>41.5899</td><td>22.0772</td></tr><tr><th>18</th><td>3</td><td>16795</td><td>21688</td><td>39</td><td>F</td><td>31.5552</td><td>17.7989</td></tr><tr><th>19</th><td>3</td><td>17445</td><td>8366</td><td>16693</td><td>M</td><td>35.5947</td><td>20.0131</td></tr><tr><th>20</th><td>3</td><td>2039</td><td>17445</td><td>4521</td><td>M</td><td>36.048</td><td>17.7814</td></tr><tr><th>21</th><td>3</td><td>2831</td><td>8366</td><td>16693</td><td>M</td><td>39.1822</td><td>20.747</td></tr><tr><th>22</th><td>4</td><td>54</td><td>0</td><td>0</td><td>F</td><td>34.7339</td><td>9.88673</td></tr><tr><th>23</th><td>4</td><td>5072</td><td>0</td><td>0</td><td>M</td><td>37.5677</td><td>14.2164</td></tr><tr><th>24</th><td>4</td><td>17240</td><td>5072</td><td>54</td><td>F</td><td>32.9781</td><td>12.9809</td></tr><tr><th>25</th><td>5</td><td>70</td><td>0</td><td>0</td><td>F</td><td>40.2272</td><td>21.0772</td></tr><tr><th>26</th><td>5</td><td>24010</td><td>0</td><td>0</td><td>M</td><td>41.7587</td><td>24.1248</td></tr><tr><th>27</th><td>5</td><td>21999</td><td>24010</td><td>70</td><td>M</td><td>45.4635</td><td>27.5554</td></tr><tr><th>28</th><td>8</td><td>109</td><td>0</td><td>0</td><td>M</td><td>42.4648</td><td>22.7341</td></tr><tr><th>29</th><td>8</td><td>7395</td><td>0</td><td>0</td><td>F</td><td>31.1618</td><td>11.0314</td></tr><tr><th>30</th><td>8</td><td>19099</td><td>109</td><td>7395</td><td>M</td><td>37.9423</td><td>17.4184</td></tr><tr><th>&vellip;</th><td>&vellip;</td><td>&vellip;</td><td>&vellip;</td><td>&vellip;</td><td>&vellip;</td><td>&vellip;</td><td>&vellip;</td></tr></tbody></table>"
      ],
      "text/latex": [
       "\\begin{tabular}{r|ccccccc}\n",
       "\t& fid & iid & father & mother & sex & phenotype1 & phenotype2\\\\\n",
       "\t\\hline\n",
       "\t& Int64 & Int64 & Int64 & Int64 & String & Float64 & Float64\\\\\n",
       "\t\\hline\n",
       "\t1 & 1 & 9218 & 17008 & 16 & M & 38.9635 & 18.9857 \\\\\n",
       "\t2 & 1 & 3226 & 9218 & 8228 & F & 33.7391 & 21.1041 \\\\\n",
       "\t3 & 2 & 29 & 0 & 0 & F & 34.8884 & 19.0114 \\\\\n",
       "\t4 & 2 & 2294 & 0 & 0 & M & 37.7011 & 19.1656 \\\\\n",
       "\t5 & 2 & 3416 & 0 & 0 & M & 45.1317 & 19.8409 \\\\\n",
       "\t6 & 2 & 17893 & 2294 & 29 & F & 35.156 & 14.1423 \\\\\n",
       "\t7 & 2 & 6952 & 3416 & 17893 & M & 42.4514 & 19.9271 \\\\\n",
       "\t8 & 2 & 14695 & 2294 & 29 & F & 35.6426 & 17.4191 \\\\\n",
       "\t9 & 2 & 6790 & 2294 & 29 & M & 40.6344 & 23.6845 \\\\\n",
       "\t10 & 2 & 3916 & 2294 & 29 & F & 34.8618 & 16.8684 \\\\\n",
       "\t11 & 3 & 39 & 0 & 0 & F & 37.2552 & 16.397 \\\\\n",
       "\t12 & 3 & 4521 & 0 & 0 & F & 33.0975 & 15.3287 \\\\\n",
       "\t13 & 3 & 8366 & 0 & 0 & M & 37.916 & 20.6693 \\\\\n",
       "\t14 & 3 & 16693 & 0 & 0 & F & 34.839 & 17.6651 \\\\\n",
       "\t15 & 3 & 21688 & 8366 & 16693 & M & 36.2022 & 21.7773 \\\\\n",
       "\t16 & 3 & 25532 & 21688 & 39 & F & 30.9314 & 17.8042 \\\\\n",
       "\t17 & 3 & 26294 & 21688 & 39 & M & 41.5899 & 22.0772 \\\\\n",
       "\t18 & 3 & 16795 & 21688 & 39 & F & 31.5552 & 17.7989 \\\\\n",
       "\t19 & 3 & 17445 & 8366 & 16693 & M & 35.5947 & 20.0131 \\\\\n",
       "\t20 & 3 & 2039 & 17445 & 4521 & M & 36.048 & 17.7814 \\\\\n",
       "\t21 & 3 & 2831 & 8366 & 16693 & M & 39.1822 & 20.747 \\\\\n",
       "\t22 & 4 & 54 & 0 & 0 & F & 34.7339 & 9.88673 \\\\\n",
       "\t23 & 4 & 5072 & 0 & 0 & M & 37.5677 & 14.2164 \\\\\n",
       "\t24 & 4 & 17240 & 5072 & 54 & F & 32.9781 & 12.9809 \\\\\n",
       "\t25 & 5 & 70 & 0 & 0 & F & 40.2272 & 21.0772 \\\\\n",
       "\t26 & 5 & 24010 & 0 & 0 & M & 41.7587 & 24.1248 \\\\\n",
       "\t27 & 5 & 21999 & 24010 & 70 & M & 45.4635 & 27.5554 \\\\\n",
       "\t28 & 8 & 109 & 0 & 0 & M & 42.4648 & 22.7341 \\\\\n",
       "\t29 & 8 & 7395 & 0 & 0 & F & 31.1618 & 11.0314 \\\\\n",
       "\t30 & 8 & 19099 & 109 & 7395 & M & 37.9423 & 17.4184 \\\\\n",
       "\t$\\dots$ & $\\dots$ & $\\dots$ & $\\dots$ & $\\dots$ & $\\dots$ & $\\dots$ & $\\dots$ \\\\\n",
       "\\end{tabular}\n"
      ],
      "text/plain": [
       "209×7 DataFrame\n",
       "│ Row │ fid   │ iid   │ father │ mother │ sex    │ phenotype1 │ phenotype2 │\n",
       "│     │ \u001b[90mInt64\u001b[39m │ \u001b[90mInt64\u001b[39m │ \u001b[90mInt64\u001b[39m  │ \u001b[90mInt64\u001b[39m  │ \u001b[90mString\u001b[39m │ \u001b[90mFloat64\u001b[39m    │ \u001b[90mFloat64\u001b[39m    │\n",
       "├─────┼───────┼───────┼────────┼────────┼────────┼────────────┼────────────┤\n",
       "│ 1   │ 1     │ 9218  │ 17008  │ 16     │ M      │ 38.9635    │ 18.9857    │\n",
       "│ 2   │ 1     │ 3226  │ 9218   │ 8228   │ F      │ 33.7391    │ 21.1041    │\n",
       "│ 3   │ 2     │ 29    │ 0      │ 0      │ F      │ 34.8884    │ 19.0114    │\n",
       "│ 4   │ 2     │ 2294  │ 0      │ 0      │ M      │ 37.7011    │ 19.1656    │\n",
       "│ 5   │ 2     │ 3416  │ 0      │ 0      │ M      │ 45.1317    │ 19.8409    │\n",
       "│ 6   │ 2     │ 17893 │ 2294   │ 29     │ F      │ 35.156     │ 14.1423    │\n",
       "│ 7   │ 2     │ 6952  │ 3416   │ 17893  │ M      │ 42.4514    │ 19.9271    │\n",
       "│ 8   │ 2     │ 14695 │ 2294   │ 29     │ F      │ 35.6426    │ 17.4191    │\n",
       "│ 9   │ 2     │ 6790  │ 2294   │ 29     │ M      │ 40.6344    │ 23.6845    │\n",
       "│ 10  │ 2     │ 3916  │ 2294   │ 29     │ F      │ 34.8618    │ 16.8684    │\n",
       "⋮\n",
       "│ 199 │ 31    │ 16139 │ 4257   │ 13772  │ M      │ 39.3161    │ 24.8508    │\n",
       "│ 200 │ 31    │ 10439 │ 4257   │ 13772  │ M      │ 41.7913    │ 22.5294    │\n",
       "│ 201 │ 31    │ 63    │ 17673  │ 19770  │ F      │ 36.3301    │ 17.0813    │\n",
       "│ 202 │ 10006 │ 66    │ 0      │ 0      │ M      │ 42.9442    │ 17.1984    │\n",
       "│ 203 │ 10008 │ 92    │ 0      │ 0      │ M      │ 39.8927    │ 20.9043    │\n",
       "│ 204 │ 10014 │ 186   │ 0      │ 0      │ M      │ 42.5795    │ 15.9365    │\n",
       "│ 205 │ 10027 │ 374   │ 0      │ 0      │ M      │ 47.8619    │ 19.8943    │\n",
       "│ 206 │ 10029 │ 434   │ 0      │ 0      │ M      │ 41.0531    │ 25.1045    │\n",
       "│ 207 │ 10033 │ 333   │ 0      │ 0      │ M      │ 39.9502    │ 19.7227    │\n",
       "│ 208 │ 10040 │ 234   │ 0      │ 0      │ M      │ 35.4778    │ 21.935     │\n",
       "│ 209 │ 10045 │ 789   │ 0      │ 0      │ M      │ 44.3932    │ 26.1222    │"
      ]
     },
     "execution_count": 4,
     "metadata": {},
     "output_type": "execute_result"
    }
   ],
   "source": [
    "filepath = \"traitsim28e\"\n",
    "snpdata = SnpArray(filepath * \".bed\")\n",
    "rowmask, colmask =  SnpArrays.filter(snpdata);\n",
    "famfile28e = CSV.read(\"traitsim28e.fam\"; header = [:fid, :iid, :father, :mother, :sex, :phenotype1, :phenotype2])"
   ]
  },
  {
   "cell_type": "markdown",
   "metadata": {},
   "source": [
    "Transform sex variable from M/F to 1/-1 as is done in the older version of Mendel.  If you prefer you can use the more common convention of making one of the sexes the reference sex (coding it as zero) and make the other sex have the value 1 but then you will have to work a little harder to compare the results to the older version of Mendel. "
   ]
  },
  {
   "cell_type": "code",
   "execution_count": 5,
   "metadata": {},
   "outputs": [
    {
     "data": {
      "text/plain": [
       "209-element Array{Float64,1}:\n",
       "  1.0\n",
       " -1.0\n",
       " -1.0\n",
       "  1.0\n",
       "  1.0\n",
       " -1.0\n",
       "  1.0\n",
       " -1.0\n",
       "  1.0\n",
       " -1.0\n",
       " -1.0\n",
       " -1.0\n",
       "  1.0\n",
       "  ⋮  \n",
       "  1.0\n",
       "  1.0\n",
       "  1.0\n",
       " -1.0\n",
       "  1.0\n",
       "  1.0\n",
       "  1.0\n",
       "  1.0\n",
       "  1.0\n",
       "  1.0\n",
       "  1.0\n",
       "  1.0"
      ]
     },
     "execution_count": 5,
     "metadata": {},
     "output_type": "execute_result"
    }
   ],
   "source": [
    "sex = map(x -> strip(x) == \"F\" ? -1.0 : 1.0, famfile28e[!, :sex]) # note julia's ternary operator '?'"
   ]
  },
  {
   "cell_type": "markdown",
   "metadata": {},
   "source": [
    "We will use snp rs10412915 as a covariate in our model.  We want to find the index of this causal locus in the snp_definition file and then subset that locus from the genetic marker data above. \n",
    "We first subset the names of all the loci into a vector called `snpid` and store our design matrix for the model that includes sex and locus rs10412915."
   ]
  },
  {
   "cell_type": "code",
   "execution_count": 6,
   "metadata": {},
   "outputs": [
    {
     "data": {
      "text/html": [
       "<table class=\"data-frame\"><thead><tr><th></th><th>sex</th><th>locus</th></tr><tr><th></th><th>Float64</th><th>Float64</th></tr></thead><tbody><p>209 rows × 2 columns</p><tr><th>1</th><td>1.0</td><td>2.0</td></tr><tr><th>2</th><td>-1.0</td><td>0.0</td></tr><tr><th>3</th><td>-1.0</td><td>2.0</td></tr><tr><th>4</th><td>1.0</td><td>2.0</td></tr><tr><th>5</th><td>1.0</td><td>1.0</td></tr><tr><th>6</th><td>-1.0</td><td>1.0</td></tr><tr><th>7</th><td>1.0</td><td>1.0</td></tr><tr><th>8</th><td>-1.0</td><td>2.0</td></tr><tr><th>9</th><td>1.0</td><td>1.0</td></tr><tr><th>10</th><td>-1.0</td><td>1.0</td></tr><tr><th>11</th><td>-1.0</td><td>0.0</td></tr><tr><th>12</th><td>-1.0</td><td>0.0</td></tr><tr><th>13</th><td>1.0</td><td>0.0</td></tr><tr><th>14</th><td>-1.0</td><td>1.0</td></tr><tr><th>15</th><td>1.0</td><td>2.0</td></tr><tr><th>16</th><td>-1.0</td><td>1.0</td></tr><tr><th>17</th><td>1.0</td><td>2.0</td></tr><tr><th>18</th><td>-1.0</td><td>2.0</td></tr><tr><th>19</th><td>1.0</td><td>2.0</td></tr><tr><th>20</th><td>1.0</td><td>1.0</td></tr><tr><th>21</th><td>1.0</td><td>1.0</td></tr><tr><th>22</th><td>-1.0</td><td>2.0</td></tr><tr><th>23</th><td>1.0</td><td>2.0</td></tr><tr><th>24</th><td>-1.0</td><td>1.0</td></tr><tr><th>25</th><td>-1.0</td><td>2.0</td></tr><tr><th>26</th><td>1.0</td><td>2.0</td></tr><tr><th>27</th><td>1.0</td><td>2.0</td></tr><tr><th>28</th><td>1.0</td><td>1.0</td></tr><tr><th>29</th><td>-1.0</td><td>1.0</td></tr><tr><th>30</th><td>1.0</td><td>0.0</td></tr><tr><th>&vellip;</th><td>&vellip;</td><td>&vellip;</td></tr></tbody></table>"
      ],
      "text/latex": [
       "\\begin{tabular}{r|cc}\n",
       "\t& sex & locus\\\\\n",
       "\t\\hline\n",
       "\t& Float64 & Float64\\\\\n",
       "\t\\hline\n",
       "\t1 & 1.0 & 2.0 \\\\\n",
       "\t2 & -1.0 & 0.0 \\\\\n",
       "\t3 & -1.0 & 2.0 \\\\\n",
       "\t4 & 1.0 & 2.0 \\\\\n",
       "\t5 & 1.0 & 1.0 \\\\\n",
       "\t6 & -1.0 & 1.0 \\\\\n",
       "\t7 & 1.0 & 1.0 \\\\\n",
       "\t8 & -1.0 & 2.0 \\\\\n",
       "\t9 & 1.0 & 1.0 \\\\\n",
       "\t10 & -1.0 & 1.0 \\\\\n",
       "\t11 & -1.0 & 0.0 \\\\\n",
       "\t12 & -1.0 & 0.0 \\\\\n",
       "\t13 & 1.0 & 0.0 \\\\\n",
       "\t14 & -1.0 & 1.0 \\\\\n",
       "\t15 & 1.0 & 2.0 \\\\\n",
       "\t16 & -1.0 & 1.0 \\\\\n",
       "\t17 & 1.0 & 2.0 \\\\\n",
       "\t18 & -1.0 & 2.0 \\\\\n",
       "\t19 & 1.0 & 2.0 \\\\\n",
       "\t20 & 1.0 & 1.0 \\\\\n",
       "\t21 & 1.0 & 1.0 \\\\\n",
       "\t22 & -1.0 & 2.0 \\\\\n",
       "\t23 & 1.0 & 2.0 \\\\\n",
       "\t24 & -1.0 & 1.0 \\\\\n",
       "\t25 & -1.0 & 2.0 \\\\\n",
       "\t26 & 1.0 & 2.0 \\\\\n",
       "\t27 & 1.0 & 2.0 \\\\\n",
       "\t28 & 1.0 & 1.0 \\\\\n",
       "\t29 & -1.0 & 1.0 \\\\\n",
       "\t30 & 1.0 & 0.0 \\\\\n",
       "\t$\\dots$ & $\\dots$ & $\\dots$ \\\\\n",
       "\\end{tabular}\n"
      ],
      "text/plain": [
       "209×2 DataFrame\n",
       "│ Row │ sex     │ locus   │\n",
       "│     │ \u001b[90mFloat64\u001b[39m │ \u001b[90mFloat64\u001b[39m │\n",
       "├─────┼─────────┼─────────┤\n",
       "│ 1   │ 1.0     │ 2.0     │\n",
       "│ 2   │ -1.0    │ 0.0     │\n",
       "│ 3   │ -1.0    │ 2.0     │\n",
       "│ 4   │ 1.0     │ 2.0     │\n",
       "│ 5   │ 1.0     │ 1.0     │\n",
       "│ 6   │ -1.0    │ 1.0     │\n",
       "│ 7   │ 1.0     │ 1.0     │\n",
       "│ 8   │ -1.0    │ 2.0     │\n",
       "│ 9   │ 1.0     │ 1.0     │\n",
       "│ 10  │ -1.0    │ 1.0     │\n",
       "⋮\n",
       "│ 199 │ 1.0     │ 1.0     │\n",
       "│ 200 │ 1.0     │ 1.0     │\n",
       "│ 201 │ -1.0    │ 2.0     │\n",
       "│ 202 │ 1.0     │ 1.0     │\n",
       "│ 203 │ 1.0     │ 2.0     │\n",
       "│ 204 │ 1.0     │ 1.0     │\n",
       "│ 205 │ 1.0     │ 2.0     │\n",
       "│ 206 │ 1.0     │ 1.0     │\n",
       "│ 207 │ 1.0     │ 1.0     │\n",
       "│ 208 │ 1.0     │ 1.0     │\n",
       "│ 209 │ 1.0     │ 1.0     │"
      ]
     },
     "execution_count": 6,
     "metadata": {},
     "output_type": "execute_result"
    }
   ],
   "source": [
    "bimfile = SnpData(filepath).snp_info\n",
    "snpid  = bimfile[!, :snpid]\n",
    "ind_rs10412915 = findall(x -> x == \"rs10412915\", snpid)[1]\n",
    "locus = convert(Vector{Float64}, @view(snpdata[:, ind_rs10412915]))\n",
    "X = DataFrame(sex = sex, locus = locus)"
   ]
  },
  {
   "cell_type": "markdown",
   "metadata": {},
   "source": [
    "# Example: Multiple Correlated Traits (Mendel Example 28e Simulation)\n",
    "\n",
    "We simulate two correlated Normal Traits controlling for family structure, location = $μ$ and scale = $\\mathbf\\Sigma$. \n",
    "The corresponding bivariate variance covariance matrix as specified Mendel Option 28e, $\\mathbf{Σ}$, is generated here.\n",
    "\n",
    "$$\n",
    "Y ∼ N(μ, \\mathbf\\Sigma)\n",
    "$$ \n",
    "\n",
    "$$\n",
    "\\mathbf{\\mu} = \\begin{vmatrix}\n",
    "\\mu_1 \\\\\n",
    "\\mu_2 \\\\\n",
    "\\end{vmatrix}\n",
    "= \\begin{vmatrix}\n",
    "40 + 3(sex) - 1.5(locus)\\\\\n",
    "20 + 2(sex) - 1.5(locus)\\\\\n",
    "\\end{vmatrix}\n",
    "\\\\\n",
    "$$\n",
    "\n",
    "$$\n",
    "\\mathbf\\Sigma  = V_a \\otimes (2GRM) + V_e \\otimes I_n\n",
    "$$\n",
    "\n",
    "\n",
    "&nbsp; $FYI$: To create a trait with different variance components change the elements of $\\mathbf\\Sigma$. We create the variance component object `variance_formula` below, to simulate our traits in example 2b. While this tutorial only uses 2 variance components, we make note that the `@vc` macro is designed to handle as many variance components as needed. \n",
    "\n",
    "As long as each Variance Component is specified correctly, we can create a `VarianceComponent` Julia object for Trait Simulation:\n",
    "\n",
    "&nbsp; \n",
    "Example) Specifying more than 2 variance components (let V_H indicate an additional Household Variance component and V_D indicate a dominance genetic effect) \n",
    "\n",
    "```{julia}\n",
    "    multiple_variance_formula = @vc V_A ⊗ 2GRM + V_E ⊗ I_n + V_D ⊗ Δ + V_H ⊗ H;\n",
    "```"
   ]
  },
  {
   "cell_type": "markdown",
   "metadata": {},
   "source": [
    "## The Variance Covariance Matrix\n",
    "\n",
    "Recall : $E(\\mathbf{GRM}) = \\Phi$\n",
    "<br>\n",
    "We use the [SnpArrays.jl](https://github.com/OpenMendel/SnpArrays.jl) package to find an estimate of the Kinship ($\\Phi$), the Genetic Relationship Matrix (GRM). \n",
    "\n",
    "We will use the same values of $\\textbf{GRM, V_a, and V_e}$ in the bivariate covariance matrix for both the mixed effect example and for the rare variant example.\n",
    "\n",
    "Note that the residual covariance among two relatives is the additive genetic variance, $\\textbf{V_a}$, times twice the kinship coefficient, $\\Phi$. The kinship matrix is derived from the genetic relationship matrix $\\textbf{GRM}$ across the common SNPs with minor allele frequency at least 0.05."
   ]
  },
  {
   "cell_type": "code",
   "execution_count": 7,
   "metadata": {},
   "outputs": [
    {
     "data": {
      "text/plain": [
       "209×209 Array{Float64,2}:\n",
       "  0.497782     0.00779799    0.016657    …   0.0140643    -0.00555751\n",
       "  0.00779799   0.498684     -0.0213316       0.0198823    -0.00755835\n",
       "  0.016657    -0.0213316     0.497585        0.00955793    0.0336777 \n",
       "  0.25366     -0.00194255    0.281407        0.00753494    0.0204589 \n",
       "  0.126378     0.254046      0.129138        0.00573495   -0.00581729\n",
       " -0.0144856   -0.00275722   -0.00250825  …  -0.0116607     0.00598452\n",
       " -0.0226168    0.00895183   -0.0110798       0.00297856   -0.0140158 \n",
       " -0.0161397   -0.00731042   -0.015204       -0.00219203    0.00893666\n",
       " -0.0170008    0.00269143   -0.0131553      -0.0169046    -0.0058373 \n",
       " -0.0177143   -0.0104742    -0.0160042      -0.00568833   -0.00707821\n",
       " -0.0162183    0.00914329    0.0059497   …  -0.0160541    -0.00293139\n",
       " -0.0164437    0.0034591    -0.00952172     -0.00945007   -0.00813788\n",
       " -0.0311472    0.000528572  -0.0109591       0.007882     -0.00431412\n",
       "  ⋮                                      ⋱                           \n",
       " -0.0171094   -0.0148774    -0.0135626      -0.0156379    -0.0145361 \n",
       " -0.0129723   -0.0180135    -0.01902         0.00679714   -0.0236948 \n",
       " -0.00621045  -0.012424      0.00177619      0.000436555  -0.015605  \n",
       " -0.00867222  -0.00408883   -0.0151799   …  -0.00386196   -0.0244098 \n",
       "  0.00300959   0.00376283   -0.0184253       0.0022133    -0.0152735 \n",
       " -0.0205439   -0.027642     -0.00240249     -0.00441674   -0.0156177 \n",
       " -0.0176321   -0.0135408    -0.0159612      -0.0147369    -0.0119489 \n",
       " -0.00174267   0.0146811    -0.00198259      0.0074085    -0.00666783\n",
       "  0.00800909  -0.00498897   -0.00267365  …  -0.00841167    0.0283205 \n",
       " -0.0169969   -0.00640485    0.00182807     -0.002888      0.0248025 \n",
       "  0.0140643    0.0198823     0.00955793      0.498839     -0.0169828 \n",
       " -0.00555751  -0.00755835    0.0336777      -0.0169828     0.529342  "
      ]
     },
     "execution_count": 7,
     "metadata": {},
     "output_type": "execute_result"
    }
   ],
   "source": [
    "GRM = grm(snpdata, minmaf = 0.05)"
   ]
  },
  {
   "cell_type": "markdown",
   "metadata": {},
   "source": [
    "These are the formulas for the mean and variance, as specified by Mendel Option 28e."
   ]
  },
  {
   "cell_type": "code",
   "execution_count": 8,
   "metadata": {},
   "outputs": [
    {
     "data": {
      "text/plain": [
       "2-element Array{String,1}:\n",
       " \"40 + 3(sex) - 1.5(locus)\"\n",
       " \"20 + 2(sex) - 1.5(locus)\""
      ]
     },
     "execution_count": 8,
     "metadata": {},
     "output_type": "execute_result"
    }
   ],
   "source": [
    "mean_formulas = [\"40 + 3(sex) - 1.5(locus)\", \"20 + 2(sex) - 1.5(locus)\"]"
   ]
  },
  {
   "cell_type": "code",
   "execution_count": 9,
   "metadata": {},
   "outputs": [],
   "source": [
    "I_n = Matrix{Float64}(I, size(GRM))\n",
    "V_A = [4 1; 1 4]\n",
    "V_E = [2.0 0.0; 0.0 2.0];\n",
    "\n",
    "# @vc is a macro that creates a 'VarianceComponent' Type for simulation\n",
    "variance_formula = @vc V_A ⊗ 2GRM + V_E ⊗ I_n;"
   ]
  },
  {
   "cell_type": "code",
   "execution_count": 10,
   "metadata": {},
   "outputs": [
    {
     "data": {
      "text/html": [
       "<table class=\"data-frame\"><thead><tr><th></th><th>Trait1</th><th>Trait2</th></tr><tr><th></th><th>Float64</th><th>Float64</th></tr></thead><tbody><p>209 rows × 2 columns</p><tr><th>1</th><td>40.0</td><td>19.0</td></tr><tr><th>2</th><td>37.0</td><td>18.0</td></tr><tr><th>3</th><td>34.0</td><td>15.0</td></tr><tr><th>4</th><td>40.0</td><td>19.0</td></tr><tr><th>5</th><td>41.5</td><td>20.5</td></tr><tr><th>6</th><td>35.5</td><td>16.5</td></tr><tr><th>7</th><td>41.5</td><td>20.5</td></tr><tr><th>8</th><td>34.0</td><td>15.0</td></tr><tr><th>9</th><td>41.5</td><td>20.5</td></tr><tr><th>10</th><td>35.5</td><td>16.5</td></tr><tr><th>11</th><td>37.0</td><td>18.0</td></tr><tr><th>12</th><td>37.0</td><td>18.0</td></tr><tr><th>13</th><td>43.0</td><td>22.0</td></tr><tr><th>14</th><td>35.5</td><td>16.5</td></tr><tr><th>15</th><td>40.0</td><td>19.0</td></tr><tr><th>16</th><td>35.5</td><td>16.5</td></tr><tr><th>17</th><td>40.0</td><td>19.0</td></tr><tr><th>18</th><td>34.0</td><td>15.0</td></tr><tr><th>19</th><td>40.0</td><td>19.0</td></tr><tr><th>20</th><td>41.5</td><td>20.5</td></tr><tr><th>21</th><td>41.5</td><td>20.5</td></tr><tr><th>22</th><td>34.0</td><td>15.0</td></tr><tr><th>23</th><td>40.0</td><td>19.0</td></tr><tr><th>24</th><td>35.5</td><td>16.5</td></tr><tr><th>25</th><td>34.0</td><td>15.0</td></tr><tr><th>26</th><td>40.0</td><td>19.0</td></tr><tr><th>27</th><td>40.0</td><td>19.0</td></tr><tr><th>28</th><td>41.5</td><td>20.5</td></tr><tr><th>29</th><td>35.5</td><td>16.5</td></tr><tr><th>30</th><td>43.0</td><td>22.0</td></tr><tr><th>&vellip;</th><td>&vellip;</td><td>&vellip;</td></tr></tbody></table>"
      ],
      "text/latex": [
       "\\begin{tabular}{r|cc}\n",
       "\t& Trait1 & Trait2\\\\\n",
       "\t\\hline\n",
       "\t& Float64 & Float64\\\\\n",
       "\t\\hline\n",
       "\t1 & 40.0 & 19.0 \\\\\n",
       "\t2 & 37.0 & 18.0 \\\\\n",
       "\t3 & 34.0 & 15.0 \\\\\n",
       "\t4 & 40.0 & 19.0 \\\\\n",
       "\t5 & 41.5 & 20.5 \\\\\n",
       "\t6 & 35.5 & 16.5 \\\\\n",
       "\t7 & 41.5 & 20.5 \\\\\n",
       "\t8 & 34.0 & 15.0 \\\\\n",
       "\t9 & 41.5 & 20.5 \\\\\n",
       "\t10 & 35.5 & 16.5 \\\\\n",
       "\t11 & 37.0 & 18.0 \\\\\n",
       "\t12 & 37.0 & 18.0 \\\\\n",
       "\t13 & 43.0 & 22.0 \\\\\n",
       "\t14 & 35.5 & 16.5 \\\\\n",
       "\t15 & 40.0 & 19.0 \\\\\n",
       "\t16 & 35.5 & 16.5 \\\\\n",
       "\t17 & 40.0 & 19.0 \\\\\n",
       "\t18 & 34.0 & 15.0 \\\\\n",
       "\t19 & 40.0 & 19.0 \\\\\n",
       "\t20 & 41.5 & 20.5 \\\\\n",
       "\t21 & 41.5 & 20.5 \\\\\n",
       "\t22 & 34.0 & 15.0 \\\\\n",
       "\t23 & 40.0 & 19.0 \\\\\n",
       "\t24 & 35.5 & 16.5 \\\\\n",
       "\t25 & 34.0 & 15.0 \\\\\n",
       "\t26 & 40.0 & 19.0 \\\\\n",
       "\t27 & 40.0 & 19.0 \\\\\n",
       "\t28 & 41.5 & 20.5 \\\\\n",
       "\t29 & 35.5 & 16.5 \\\\\n",
       "\t30 & 43.0 & 22.0 \\\\\n",
       "\t$\\dots$ & $\\dots$ & $\\dots$ \\\\\n",
       "\\end{tabular}\n"
      ],
      "text/plain": [
       "209×2 DataFrame\n",
       "│ Row │ Trait1  │ Trait2  │\n",
       "│     │ \u001b[90mFloat64\u001b[39m │ \u001b[90mFloat64\u001b[39m │\n",
       "├─────┼─────────┼─────────┤\n",
       "│ 1   │ 40.0    │ 19.0    │\n",
       "│ 2   │ 37.0    │ 18.0    │\n",
       "│ 3   │ 34.0    │ 15.0    │\n",
       "│ 4   │ 40.0    │ 19.0    │\n",
       "│ 5   │ 41.5    │ 20.5    │\n",
       "│ 6   │ 35.5    │ 16.5    │\n",
       "│ 7   │ 41.5    │ 20.5    │\n",
       "│ 8   │ 34.0    │ 15.0    │\n",
       "│ 9   │ 41.5    │ 20.5    │\n",
       "│ 10  │ 35.5    │ 16.5    │\n",
       "⋮\n",
       "│ 199 │ 41.5    │ 20.5    │\n",
       "│ 200 │ 41.5    │ 20.5    │\n",
       "│ 201 │ 34.0    │ 15.0    │\n",
       "│ 202 │ 41.5    │ 20.5    │\n",
       "│ 203 │ 40.0    │ 19.0    │\n",
       "│ 204 │ 41.5    │ 20.5    │\n",
       "│ 205 │ 40.0    │ 19.0    │\n",
       "│ 206 │ 41.5    │ 20.5    │\n",
       "│ 207 │ 41.5    │ 20.5    │\n",
       "│ 208 │ 41.5    │ 20.5    │\n",
       "│ 209 │ 41.5    │ 20.5    │"
      ]
     },
     "execution_count": 10,
     "metadata": {},
     "output_type": "execute_result"
    }
   ],
   "source": [
    "Multiple_LMM_traits_model = LMMTrait(mean_formulas, X, variance_formula)\n",
    "Simulated_LMM_Traits = simulate(Multiple_LMM_traits_model)\n",
    "Simulated_LMM_Traits = DataFrame(Trait1 = Simulated_LMM_Traits[:, 1][:], Trait2 = Simulated_LMM_Traits[:, 2][:])"
   ]
  },
  {
   "cell_type": "markdown",
   "metadata": {},
   "source": [
    "### Summary Statistics of Our Simulated Traits vs. Mendel 28e Simulated Traits"
   ]
  },
  {
   "cell_type": "code",
   "execution_count": 11,
   "metadata": {},
   "outputs": [
    {
     "data": {
      "text/html": [
       "<table class=\"data-frame\"><thead><tr><th></th><th>variable</th><th>mean</th><th>min</th><th>median</th><th>max</th><th>nunique</th><th>nmissing</th><th>eltype</th></tr><tr><th></th><th>Symbol</th><th>Float64</th><th>Float64</th><th>Float64</th><th>Float64</th><th>Nothing</th><th>Nothing</th><th>DataType</th></tr></thead><tbody><p>2 rows × 8 columns</p><tr><th>1</th><td>Trait1</td><td>38.1411</td><td>34.0</td><td>40.0</td><td>43.0</td><td></td><td></td><td>Float64</td></tr><tr><th>2</th><td>Trait2</td><td>18.0502</td><td>15.0</td><td>19.0</td><td>22.0</td><td></td><td></td><td>Float64</td></tr></tbody></table>"
      ],
      "text/latex": [
       "\\begin{tabular}{r|cccccccc}\n",
       "\t& variable & mean & min & median & max & nunique & nmissing & eltype\\\\\n",
       "\t\\hline\n",
       "\t& Symbol & Float64 & Float64 & Float64 & Float64 & Nothing & Nothing & DataType\\\\\n",
       "\t\\hline\n",
       "\t1 & Trait1 & 38.1411 & 34.0 & 40.0 & 43.0 &  &  & Float64 \\\\\n",
       "\t2 & Trait2 & 18.0502 & 15.0 & 19.0 & 22.0 &  &  & Float64 \\\\\n",
       "\\end{tabular}\n"
      ],
      "text/plain": [
       "2×8 DataFrame. Omitted printing of 1 columns\n",
       "│ Row │ variable │ mean    │ min     │ median  │ max     │ nunique │ nmissing │\n",
       "│     │ \u001b[90mSymbol\u001b[39m   │ \u001b[90mFloat64\u001b[39m │ \u001b[90mFloat64\u001b[39m │ \u001b[90mFloat64\u001b[39m │ \u001b[90mFloat64\u001b[39m │ \u001b[90mNothing\u001b[39m │ \u001b[90mNothing\u001b[39m  │\n",
       "├─────┼──────────┼─────────┼─────────┼─────────┼─────────┼─────────┼──────────┤\n",
       "│ 1   │ Trait1   │ 38.1411 │ 34.0    │ 40.0    │ 43.0    │         │          │\n",
       "│ 2   │ Trait2   │ 18.0502 │ 15.0    │ 19.0    │ 22.0    │         │          │"
      ]
     },
     "execution_count": 11,
     "metadata": {},
     "output_type": "execute_result"
    }
   ],
   "source": [
    "describe(Simulated_LMM_Traits)"
   ]
  },
  {
   "cell_type": "code",
   "execution_count": 12,
   "metadata": {},
   "outputs": [
    {
     "data": {
      "text/html": [
       "<table class=\"data-frame\"><thead><tr><th></th><th>variable</th><th>mean</th><th>min</th><th>median</th><th>max</th><th>nunique</th><th>nmissing</th><th>eltype</th></tr><tr><th></th><th>Symbol</th><th>Float64</th><th>Float64</th><th>Float64</th><th>Float64</th><th>Nothing</th><th>Nothing</th><th>DataType</th></tr></thead><tbody><p>2 rows × 8 columns</p><tr><th>1</th><td>phenotype1</td><td>37.9152</td><td>29.2403</td><td>37.7165</td><td>47.8619</td><td></td><td></td><td>Float64</td></tr><tr><th>2</th><td>phenotype2</td><td>18.5265</td><td>9.88673</td><td>18.654</td><td>27.5554</td><td></td><td></td><td>Float64</td></tr></tbody></table>"
      ],
      "text/latex": [
       "\\begin{tabular}{r|cccccccc}\n",
       "\t& variable & mean & min & median & max & nunique & nmissing & eltype\\\\\n",
       "\t\\hline\n",
       "\t& Symbol & Float64 & Float64 & Float64 & Float64 & Nothing & Nothing & DataType\\\\\n",
       "\t\\hline\n",
       "\t1 & phenotype1 & 37.9152 & 29.2403 & 37.7165 & 47.8619 &  &  & Float64 \\\\\n",
       "\t2 & phenotype2 & 18.5265 & 9.88673 & 18.654 & 27.5554 &  &  & Float64 \\\\\n",
       "\\end{tabular}\n"
      ],
      "text/plain": [
       "2×8 DataFrame. Omitted printing of 2 columns\n",
       "│ Row │ variable   │ mean    │ min     │ median  │ max     │ nunique │\n",
       "│     │ \u001b[90mSymbol\u001b[39m     │ \u001b[90mFloat64\u001b[39m │ \u001b[90mFloat64\u001b[39m │ \u001b[90mFloat64\u001b[39m │ \u001b[90mFloat64\u001b[39m │ \u001b[90mNothing\u001b[39m │\n",
       "├─────┼────────────┼─────────┼─────────┼─────────┼─────────┼─────────┤\n",
       "│ 1   │ phenotype1 │ 37.9152 │ 29.2403 │ 37.7165 │ 47.8619 │         │\n",
       "│ 2   │ phenotype2 │ 18.5265 │ 9.88673 │ 18.654  │ 27.5554 │         │"
      ]
     },
     "execution_count": 12,
     "metadata": {},
     "output_type": "execute_result"
    }
   ],
   "source": [
    "describe(famfile28e[!, [:phenotype1, :phenotype2]])"
   ]
  },
  {
   "cell_type": "markdown",
   "metadata": {},
   "source": [
    "# Example 2: Rare Variant Linear Mixed Model\n",
    "\n",
    "\n",
    "$$\n",
    "Y ∼ N(\\mu, 4* 2GRM + 2I)\n",
    "$$\n",
    "\n",
    "In this example we first subset only the rare SNP's with minor allele frequency greater than 0.002 but less than 0.02, then we simulate traits on 20 of the rare SNP's as fixed effects. For this demo, we subset the fist k = 20 rare snps. Change the parameters and the number of SNPs for simulation to model different regions of the genome. The number 20 is arbitrary and you can use more or less than 20 if you desire by changing the final number."
   ]
  },
  {
   "cell_type": "code",
   "execution_count": 13,
   "metadata": {},
   "outputs": [
    {
     "data": {
      "text/plain": [
       "209×79507 SnpArray:\n",
       " 0x03  0x00  0x00  0x00  0x03  0x03  …  0x00  0x00  0x00  0x00  0x00  0x00\n",
       " 0x03  0x00  0x00  0x00  0x03  0x03     0x00  0x00  0x00  0x00  0x00  0x00\n",
       " 0x03  0x00  0x00  0x00  0x03  0x03     0x02  0x02  0x00  0x00  0x00  0x00\n",
       " 0x03  0x00  0x00  0x00  0x03  0x03     0x00  0x00  0x00  0x00  0x00  0x00\n",
       " 0x03  0x00  0x00  0x00  0x03  0x03     0x00  0x00  0x00  0x00  0x00  0x00\n",
       " 0x03  0x00  0x00  0x00  0x03  0x03  …  0x00  0x00  0x00  0x00  0x00  0x00\n",
       " 0x03  0x00  0x00  0x00  0x03  0x03     0x00  0x00  0x00  0x00  0x00  0x00\n",
       " 0x03  0x00  0x00  0x00  0x03  0x03     0x00  0x00  0x00  0x00  0x00  0x00\n",
       " 0x03  0x00  0x00  0x00  0x03  0x03     0x00  0x00  0x00  0x00  0x00  0x00\n",
       " 0x03  0x00  0x00  0x00  0x03  0x03     0x00  0x00  0x00  0x00  0x00  0x00\n",
       " 0x03  0x00  0x00  0x00  0x03  0x03  …  0x00  0x00  0x00  0x00  0x00  0x00\n",
       " 0x03  0x00  0x00  0x00  0x03  0x03     0x00  0x00  0x00  0x00  0x00  0x00\n",
       " 0x03  0x00  0x00  0x00  0x03  0x03     0x00  0x00  0x00  0x00  0x00  0x00\n",
       "    ⋮                             ⋮  ⋱                             ⋮      \n",
       " 0x03  0x00  0x00  0x00  0x03  0x03     0x00  0x00  0x00  0x00  0x00  0x00\n",
       " 0x03  0x00  0x00  0x00  0x03  0x03     0x00  0x00  0x00  0x00  0x00  0x00\n",
       " 0x03  0x00  0x00  0x00  0x03  0x03     0x00  0x00  0x00  0x00  0x00  0x00\n",
       " 0x03  0x00  0x00  0x00  0x03  0x03  …  0x00  0x00  0x00  0x00  0x00  0x00\n",
       " 0x03  0x00  0x00  0x00  0x03  0x03     0x00  0x00  0x00  0x00  0x00  0x00\n",
       " 0x03  0x00  0x00  0x00  0x03  0x03     0x00  0x00  0x00  0x00  0x00  0x00\n",
       " 0x03  0x00  0x00  0x00  0x03  0x03     0x00  0x00  0x00  0x00  0x00  0x00\n",
       " 0x03  0x00  0x00  0x00  0x03  0x03     0x00  0x00  0x00  0x00  0x00  0x00\n",
       " 0x03  0x00  0x00  0x00  0x03  0x03  …  0x00  0x00  0x00  0x00  0x00  0x00\n",
       " 0x03  0x00  0x00  0x00  0x03  0x03     0x00  0x00  0x00  0x00  0x00  0x00\n",
       " 0x03  0x00  0x00  0x00  0x03  0x02     0x00  0x00  0x00  0x00  0x00  0x00\n",
       " 0x03  0x00  0x00  0x00  0x03  0x03     0x00  0x00  0x00  0x00  0x00  0x00"
      ]
     },
     "execution_count": 13,
     "metadata": {},
     "output_type": "execute_result"
    }
   ],
   "source": [
    "# filter out rare SNPS, get a subset of uncommon SNPs with 0.002 < MAF ≤ 0.02\n",
    "minor_allele_frequency = maf(snpdata)\n",
    "rare_index = (0.002 .< minor_allele_frequency .≤ 0.02)\n",
    "filtsnpdata = SnpArrays.filter(filepath, rowmask, rare_index, des = \"rare_filtered_28data\")"
   ]
  },
  {
   "cell_type": "markdown",
   "metadata": {},
   "source": [
    "### Chisquared Distribution (df = 1)\n",
    "\n",
    "For demonstration purposes, we simulate effect sizes from the Chi-squared(df = 1) distribution, where we use the minor allele frequency (maf) as x and find f(x) where f is the pdf for the Chi-squared (df = 1) density, so that the rarest SNP's have the biggest effect sizes. The effect sizes are rounded to the second digit, throughout this example. Notice there is a random +1 or -1, so that there are effects that both increase and decrease the simulated trait value.\n",
    "\n",
    "```julia\n",
    "\n",
    "# Generating Effect Sizes from Chisquared(df = 1) density\n",
    "\n",
    "n = length(rare_snps)\n",
    "chisq_coeff = zeros(n)\n",
    "\n",
    "for i in 1:n\n",
    "    chisq_coeff[i] = rand([-1, 1]) .* (0.1 / sqrt.(maf_rare_snps[i] .* (1 - maf_rare_snps[i])))\n",
    "end\n",
    "```"
   ]
  },
  {
   "cell_type": "code",
   "execution_count": 14,
   "metadata": {},
   "outputs": [
    {
     "data": {
      "text/html": [
       "<table class=\"data-frame\"><thead><tr><th></th><th>SimTrait</th></tr><tr><th></th><th>Float64</th></tr></thead><tbody><p>209 rows × 1 columns</p><tr><th>1</th><td>0.438912</td></tr><tr><th>2</th><td>4.05968</td></tr><tr><th>3</th><td>1.06029</td></tr><tr><th>4</th><td>-1.70496</td></tr><tr><th>5</th><td>1.47966</td></tr><tr><th>6</th><td>5.69039</td></tr><tr><th>7</th><td>0.886001</td></tr><tr><th>8</th><td>0.0463611</td></tr><tr><th>9</th><td>3.94482</td></tr><tr><th>10</th><td>0.98625</td></tr><tr><th>11</th><td>3.14297</td></tr><tr><th>12</th><td>3.72087</td></tr><tr><th>13</th><td>2.67595</td></tr><tr><th>14</th><td>-0.0206306</td></tr><tr><th>15</th><td>1.78152</td></tr><tr><th>16</th><td>-1.19374</td></tr><tr><th>17</th><td>2.81602</td></tr><tr><th>18</th><td>3.60135</td></tr><tr><th>19</th><td>-1.43591</td></tr><tr><th>20</th><td>0.625366</td></tr><tr><th>21</th><td>2.38834</td></tr><tr><th>22</th><td>-1.65176</td></tr><tr><th>23</th><td>1.20813</td></tr><tr><th>24</th><td>-1.69293</td></tr><tr><th>25</th><td>1.93383</td></tr><tr><th>26</th><td>-0.934995</td></tr><tr><th>27</th><td>-0.448805</td></tr><tr><th>28</th><td>2.69647</td></tr><tr><th>29</th><td>7.74915</td></tr><tr><th>30</th><td>5.68217</td></tr><tr><th>&vellip;</th><td>&vellip;</td></tr></tbody></table>"
      ],
      "text/latex": [
       "\\begin{tabular}{r|c}\n",
       "\t& SimTrait\\\\\n",
       "\t\\hline\n",
       "\t& Float64\\\\\n",
       "\t\\hline\n",
       "\t1 & 0.438912 \\\\\n",
       "\t2 & 4.05968 \\\\\n",
       "\t3 & 1.06029 \\\\\n",
       "\t4 & -1.70496 \\\\\n",
       "\t5 & 1.47966 \\\\\n",
       "\t6 & 5.69039 \\\\\n",
       "\t7 & 0.886001 \\\\\n",
       "\t8 & 0.0463611 \\\\\n",
       "\t9 & 3.94482 \\\\\n",
       "\t10 & 0.98625 \\\\\n",
       "\t11 & 3.14297 \\\\\n",
       "\t12 & 3.72087 \\\\\n",
       "\t13 & 2.67595 \\\\\n",
       "\t14 & -0.0206306 \\\\\n",
       "\t15 & 1.78152 \\\\\n",
       "\t16 & -1.19374 \\\\\n",
       "\t17 & 2.81602 \\\\\n",
       "\t18 & 3.60135 \\\\\n",
       "\t19 & -1.43591 \\\\\n",
       "\t20 & 0.625366 \\\\\n",
       "\t21 & 2.38834 \\\\\n",
       "\t22 & -1.65176 \\\\\n",
       "\t23 & 1.20813 \\\\\n",
       "\t24 & -1.69293 \\\\\n",
       "\t25 & 1.93383 \\\\\n",
       "\t26 & -0.934995 \\\\\n",
       "\t27 & -0.448805 \\\\\n",
       "\t28 & 2.69647 \\\\\n",
       "\t29 & 7.74915 \\\\\n",
       "\t30 & 5.68217 \\\\\n",
       "\t$\\dots$ & $\\dots$ \\\\\n",
       "\\end{tabular}\n"
      ],
      "text/plain": [
       "209×1 DataFrame\n",
       "│ Row │ SimTrait  │\n",
       "│     │ \u001b[90mFloat64\u001b[39m   │\n",
       "├─────┼───────────┤\n",
       "│ 1   │ 0.438912  │\n",
       "│ 2   │ 4.05968   │\n",
       "│ 3   │ 1.06029   │\n",
       "│ 4   │ -1.70496  │\n",
       "│ 5   │ 1.47966   │\n",
       "│ 6   │ 5.69039   │\n",
       "│ 7   │ 0.886001  │\n",
       "│ 8   │ 0.0463611 │\n",
       "│ 9   │ 3.94482   │\n",
       "│ 10  │ 0.98625   │\n",
       "⋮\n",
       "│ 199 │ 8.35332   │\n",
       "│ 200 │ 1.14013   │\n",
       "│ 201 │ 6.69659   │\n",
       "│ 202 │ 2.91608   │\n",
       "│ 203 │ 5.28091   │\n",
       "│ 204 │ 0.739259  │\n",
       "│ 205 │ 4.63743   │\n",
       "│ 206 │ -0.551629 │\n",
       "│ 207 │ 2.79365   │\n",
       "│ 208 │ 2.99277   │\n",
       "│ 209 │ -3.47164  │"
      ]
     },
     "execution_count": 14,
     "metadata": {},
     "output_type": "execute_result"
    }
   ],
   "source": [
    "meanformula_rare, df_rare = Generate_Random_Model_Chisq(\"rare_filtered_28data\", 20)\n",
    "rare_20_snp_model = LMMTrait([meanformula_rare], df_rare, 4*(2*GRM) + 2*(I_n))\n",
    "trait_rare_20_snps = DataFrame(SimTrait = simulate(rare_20_snp_model)[:])"
   ]
  },
  {
   "cell_type": "markdown",
   "metadata": {},
   "source": [
    "Some summary statistics"
   ]
  },
  {
   "cell_type": "code",
   "execution_count": 15,
   "metadata": {},
   "outputs": [
    {
     "data": {
      "text/html": [
       "<table class=\"data-frame\"><thead><tr><th></th><th>variable</th><th>mean</th><th>min</th><th>median</th><th>max</th><th>nunique</th><th>nmissing</th><th>eltype</th></tr><tr><th></th><th>Symbol</th><th>Float64</th><th>Float64</th><th>Float64</th><th>Float64</th><th>Nothing</th><th>Nothing</th><th>DataType</th></tr></thead><tbody><p>1 rows × 8 columns</p><tr><th>1</th><td>SimTrait</td><td>2.1325</td><td>-5.61635</td><td>2.13658</td><td>9.29495</td><td></td><td></td><td>Float64</td></tr></tbody></table>"
      ],
      "text/latex": [
       "\\begin{tabular}{r|cccccccc}\n",
       "\t& variable & mean & min & median & max & nunique & nmissing & eltype\\\\\n",
       "\t\\hline\n",
       "\t& Symbol & Float64 & Float64 & Float64 & Float64 & Nothing & Nothing & DataType\\\\\n",
       "\t\\hline\n",
       "\t1 & SimTrait & 2.1325 & -5.61635 & 2.13658 & 9.29495 &  &  & Float64 \\\\\n",
       "\\end{tabular}\n"
      ],
      "text/plain": [
       "1×8 DataFrame. Omitted printing of 1 columns\n",
       "│ Row │ variable │ mean    │ min      │ median  │ max     │ nunique │ nmissing │\n",
       "│     │ \u001b[90mSymbol\u001b[39m   │ \u001b[90mFloat64\u001b[39m │ \u001b[90mFloat64\u001b[39m  │ \u001b[90mFloat64\u001b[39m │ \u001b[90mFloat64\u001b[39m │ \u001b[90mNothing\u001b[39m │ \u001b[90mNothing\u001b[39m  │\n",
       "├─────┼──────────┼─────────┼──────────┼─────────┼─────────┼─────────┼──────────┤\n",
       "│ 1   │ SimTrait │ 2.1325  │ -5.61635 │ 2.13658 │ 9.29495 │         │          │"
      ]
     },
     "execution_count": 15,
     "metadata": {},
     "output_type": "execute_result"
    }
   ],
   "source": [
    "describe(trait_rare_20_snps)"
   ]
  },
  {
   "cell_type": "markdown",
   "metadata": {},
   "source": [
    "## Citations: \n",
    "\n",
    "[1] Lange K, Papp JC, Sinsheimer JS, Sripracha R, Zhou H, Sobel EM (2013) Mendel: The Swiss army knife of genetic analysis programs. Bioinformatics 29:1568-1570.`\n",
    "\n",
    "\n",
    "[2] OPENMENDEL: a cooperative programming project for statistical genetics.\n",
    "[Hum Genet. 2019 Mar 26. doi: 10.1007/s00439-019-02001-z](https://www.ncbi.nlm.nih.gov/pubmed/?term=OPENMENDEL).\n"
   ]
  }
 ],
 "metadata": {
  "@webio": {
   "lastCommId": null,
   "lastKernelId": null
  },
  "kernelspec": {
   "display_name": "Julia 1.2.0",
   "language": "julia",
   "name": "julia-1.2"
  },
  "language_info": {
   "file_extension": ".jl",
   "mimetype": "application/julia",
   "name": "julia",
   "version": "1.2.0"
  },
  "toc": {
   "base_numbering": 1,
   "nav_menu": {},
   "number_sections": true,
   "sideBar": true,
   "skip_h1_title": false,
   "title_cell": "Table of Contents",
   "title_sidebar": "Contents",
   "toc_cell": false,
   "toc_position": {},
   "toc_section_display": true,
   "toc_window_display": false
  }
 },
 "nbformat": 4,
 "nbformat_minor": 2
}
