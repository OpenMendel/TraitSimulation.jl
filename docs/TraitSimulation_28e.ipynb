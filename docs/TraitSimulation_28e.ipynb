{
 "cells": [
  {
   "cell_type": "markdown",
   "metadata": {},
   "source": [
    "# Trait Simulation Tutorial\n",
    "\n",
    "\n",
    "Authors: Sarah Ji, Janet Sinsheimer, Kenneth Lange\n",
    "\n",
    "In this notebook we show how to use the `TraitSimulation.jl` package to simulate traits from genotype data from unrelateds or families with user-specified Generalized Linear Models (GLMs) or Linear Mixed Models (LMMs), respectively. For simulating under either GLM or LMMs, the user can specify the number of repitions for each simulation model. By default, the simulation will return the result of a single simulation. \n",
    "\n",
    "We use the OpenMendel package [SnpArrays.jl](https://openmendel.github.io/SnpArrays.jl/latest/) to read in the PLINK formatted SNP data. The notebook is organized as follows:\n",
    "\n",
    "$\\textbf{Example 1: Mendel28e Example}$\n",
    "\n",
    "In example 1 we simulate data under a linear mixed model so that we can model residual dependency among individuals. We use the same parameters as were used in Mendel Option 28e with the simulation parameters for Trait1 and Trait2 in Ped28e.out as shown below. \n",
    "\n",
    "$\\textbf{Example 2: Rare Variant Example}$\n",
    "\n",
    "In example 2 we simulate a trait from the first 20 rare snps, with effect sizes simulated from the minor allele frequencies.\n",
    "\n",
    "In both examples, you can specify your own arbitrary fixed effect sizes, variance components and simulation parameters as desired. You can also specify the number of replicates for each Trait simulation in the `simulate` function."
   ]
  },
  {
   "cell_type": "markdown",
   "metadata": {},
   "source": [
    "### Double check that you are using Julia version 1.0 or higher by checking the machine information"
   ]
  },
  {
   "cell_type": "code",
   "execution_count": 1,
   "metadata": {},
   "outputs": [
    {
     "name": "stdout",
     "output_type": "stream",
     "text": [
      "Julia Version 1.2.0\n",
      "Commit c6da87ff4b (2019-08-20 00:03 UTC)\n",
      "Platform Info:\n",
      "  OS: macOS (x86_64-apple-darwin18.6.0)\n",
      "  CPU: Intel(R) Core(TM) i7-7700HQ CPU @ 2.80GHz\n",
      "  WORD_SIZE: 64\n",
      "  LIBM: libopenlibm\n",
      "  LLVM: libLLVM-6.0.1 (ORCJIT, skylake)\n"
     ]
    }
   ],
   "source": [
    "versioninfo()"
   ]
  },
  {
   "cell_type": "code",
   "execution_count": 2,
   "metadata": {},
   "outputs": [],
   "source": [
    "using DataFrames, SnpArrays, Random, LinearAlgebra, TraitSimulation"
   ]
  },
  {
   "cell_type": "code",
   "execution_count": 3,
   "metadata": {},
   "outputs": [],
   "source": [
    "Random.seed!(1234);"
   ]
  },
  {
   "cell_type": "markdown",
   "metadata": {},
   "source": [
    "# Reading the Mendel 28a data using SnpArrays\n",
    "\n",
    "First use `SnpArrays.jl` to read in the genotype data. We use PLINK formatted data with the same prefixes for the .bim, .fam, .bed files.\n",
    "\n",
    "The data we will be using are from the Mendel version 16[1] sample files. The data are described in examples under Option 28e in the Mendel Version 16 Manual [Section 28.1,  page 279](http://software.genetics.ucla.edu/download?file=202). It consists of simulated data where the two traits of interest have one contributing SNP and a sex effect.\n",
    "\n",
    "SnpArrays is a very useful utility and can do a lot more than just read in the data. More information about all the functionality of SnpArrays can be found at:\n",
    "https://openmendel.github.io/SnpArrays.jl/latest/"
   ]
  },
  {
   "cell_type": "code",
   "execution_count": 22,
   "metadata": {},
   "outputs": [
    {
     "data": {
      "text/html": [
       "<table class=\"data-frame\"><thead><tr><th></th><th>fid</th><th>iid</th><th>father</th><th>mother</th><th>sex</th><th>phenotype</th><th>x7</th></tr><tr><th></th><th>Abstract…</th><th>Abstract…</th><th>Abstract…</th><th>Abstract…</th><th>Abstract…</th><th>Abstract…</th><th>Abstract…</th></tr></thead><tbody><p>212 rows × 7 columns</p><tr><th>1</th><td>1</td><td>16</td><td>0</td><td>0</td><td>F</td><td>30.20564</td><td>9.2421</td></tr><tr><th>2</th><td>1</td><td>8228</td><td>0</td><td>0</td><td>F</td><td>35.82143</td><td>15.27458</td></tr><tr><th>3</th><td>1</td><td>17008</td><td>0</td><td>0</td><td>M</td><td>36.05298</td><td>19.50496</td></tr><tr><th>4</th><td>1</td><td>9218</td><td>17008</td><td>16</td><td>M</td><td>38.96351</td><td>18.98575</td></tr><tr><th>5</th><td>1</td><td>3226</td><td>9218</td><td>8228</td><td>F</td><td>33.73911</td><td>21.10412</td></tr><tr><th>6</th><td>2</td><td>29</td><td>0</td><td>0</td><td>F</td><td>34.88835</td><td>19.01142</td></tr><tr><th>7</th><td>2</td><td>2294</td><td>0</td><td>0</td><td>M</td><td>37.70105</td><td>19.16556</td></tr><tr><th>8</th><td>2</td><td>3416</td><td>0</td><td>0</td><td>M</td><td>45.13171</td><td>19.84088</td></tr><tr><th>9</th><td>2</td><td>17893</td><td>2294</td><td>29</td><td>F</td><td>35.15599</td><td>14.14228</td></tr><tr><th>10</th><td>2</td><td>6952</td><td>3416</td><td>17893</td><td>M</td><td>42.45136</td><td>19.92713</td></tr><tr><th>11</th><td>2</td><td>14695</td><td>2294</td><td>29</td><td>F</td><td>35.6426</td><td>17.41914</td></tr><tr><th>12</th><td>2</td><td>6790</td><td>2294</td><td>29</td><td>M</td><td>40.63441</td><td>23.6845</td></tr><tr><th>13</th><td>2</td><td>3916</td><td>2294</td><td>29</td><td>F</td><td>34.86183</td><td>16.86836</td></tr><tr><th>14</th><td>3</td><td>39</td><td>0</td><td>0</td><td>F</td><td>37.25525</td><td>16.39703</td></tr><tr><th>15</th><td>3</td><td>4521</td><td>0</td><td>0</td><td>F</td><td>33.09751</td><td>15.32872</td></tr><tr><th>16</th><td>3</td><td>8366</td><td>0</td><td>0</td><td>M</td><td>37.91603</td><td>20.66932</td></tr><tr><th>17</th><td>3</td><td>16693</td><td>0</td><td>0</td><td>F</td><td>34.83896</td><td>17.66506</td></tr><tr><th>18</th><td>3</td><td>21688</td><td>8366</td><td>16693</td><td>M</td><td>36.20219</td><td>21.77733</td></tr><tr><th>19</th><td>3</td><td>25532</td><td>21688</td><td>39</td><td>F</td><td>30.93143</td><td>17.80424</td></tr><tr><th>20</th><td>3</td><td>26294</td><td>21688</td><td>39</td><td>M</td><td>41.58987</td><td>22.07719</td></tr><tr><th>21</th><td>3</td><td>16795</td><td>21688</td><td>39</td><td>F</td><td>31.5552</td><td>17.79886</td></tr><tr><th>22</th><td>3</td><td>17445</td><td>8366</td><td>16693</td><td>M</td><td>35.5947</td><td>20.01312</td></tr><tr><th>23</th><td>3</td><td>2039</td><td>17445</td><td>4521</td><td>M</td><td>36.04803</td><td>17.7814</td></tr><tr><th>24</th><td>3</td><td>2831</td><td>8366</td><td>16693</td><td>M</td><td>39.18217</td><td>20.74701</td></tr><tr><th>25</th><td>4</td><td>54</td><td>0</td><td>0</td><td>F</td><td>34.73394</td><td>9.88673</td></tr><tr><th>26</th><td>4</td><td>5072</td><td>0</td><td>0</td><td>M</td><td>37.56775</td><td>14.21644</td></tr><tr><th>27</th><td>4</td><td>17240</td><td>5072</td><td>54</td><td>F</td><td>32.97813</td><td>12.98087</td></tr><tr><th>28</th><td>5</td><td>70</td><td>0</td><td>0</td><td>F</td><td>40.22716</td><td>21.07721</td></tr><tr><th>29</th><td>5</td><td>24010</td><td>0</td><td>0</td><td>M</td><td>41.75868</td><td>24.1248</td></tr><tr><th>30</th><td>5</td><td>21999</td><td>24010</td><td>70</td><td>M</td><td>45.46347</td><td>27.55542</td></tr><tr><th>&vellip;</th><td>&vellip;</td><td>&vellip;</td><td>&vellip;</td><td>&vellip;</td><td>&vellip;</td><td>&vellip;</td><td>&vellip;</td></tr></tbody></table>"
      ],
      "text/latex": [
       "\\begin{tabular}{r|ccccccc}\n",
       "\t& fid & iid & father & mother & sex & phenotype & x7\\\\\n",
       "\t\\hline\n",
       "\t& Abstract… & Abstract… & Abstract… & Abstract… & Abstract… & Abstract… & Abstract…\\\\\n",
       "\t\\hline\n",
       "\t1 & 1 & 16 & 0 & 0 & F & 30.20564 & 9.2421 \\\\\n",
       "\t2 & 1 & 8228 & 0 & 0 & F & 35.82143 & 15.27458 \\\\\n",
       "\t3 & 1 & 17008 & 0 & 0 & M & 36.05298 & 19.50496 \\\\\n",
       "\t4 & 1 & 9218 & 17008 & 16 & M & 38.96351 & 18.98575 \\\\\n",
       "\t5 & 1 & 3226 & 9218 & 8228 & F & 33.73911 & 21.10412 \\\\\n",
       "\t6 & 2 & 29 & 0 & 0 & F & 34.88835 & 19.01142 \\\\\n",
       "\t7 & 2 & 2294 & 0 & 0 & M & 37.70105 & 19.16556 \\\\\n",
       "\t8 & 2 & 3416 & 0 & 0 & M & 45.13171 & 19.84088 \\\\\n",
       "\t9 & 2 & 17893 & 2294 & 29 & F & 35.15599 & 14.14228 \\\\\n",
       "\t10 & 2 & 6952 & 3416 & 17893 & M & 42.45136 & 19.92713 \\\\\n",
       "\t11 & 2 & 14695 & 2294 & 29 & F & 35.6426 & 17.41914 \\\\\n",
       "\t12 & 2 & 6790 & 2294 & 29 & M & 40.63441 & 23.6845 \\\\\n",
       "\t13 & 2 & 3916 & 2294 & 29 & F & 34.86183 & 16.86836 \\\\\n",
       "\t14 & 3 & 39 & 0 & 0 & F & 37.25525 & 16.39703 \\\\\n",
       "\t15 & 3 & 4521 & 0 & 0 & F & 33.09751 & 15.32872 \\\\\n",
       "\t16 & 3 & 8366 & 0 & 0 & M & 37.91603 & 20.66932 \\\\\n",
       "\t17 & 3 & 16693 & 0 & 0 & F & 34.83896 & 17.66506 \\\\\n",
       "\t18 & 3 & 21688 & 8366 & 16693 & M & 36.20219 & 21.77733 \\\\\n",
       "\t19 & 3 & 25532 & 21688 & 39 & F & 30.93143 & 17.80424 \\\\\n",
       "\t20 & 3 & 26294 & 21688 & 39 & M & 41.58987 & 22.07719 \\\\\n",
       "\t21 & 3 & 16795 & 21688 & 39 & F & 31.5552 & 17.79886 \\\\\n",
       "\t22 & 3 & 17445 & 8366 & 16693 & M & 35.5947 & 20.01312 \\\\\n",
       "\t23 & 3 & 2039 & 17445 & 4521 & M & 36.04803 & 17.7814 \\\\\n",
       "\t24 & 3 & 2831 & 8366 & 16693 & M & 39.18217 & 20.74701 \\\\\n",
       "\t25 & 4 & 54 & 0 & 0 & F & 34.73394 & 9.88673 \\\\\n",
       "\t26 & 4 & 5072 & 0 & 0 & M & 37.56775 & 14.21644 \\\\\n",
       "\t27 & 4 & 17240 & 5072 & 54 & F & 32.97813 & 12.98087 \\\\\n",
       "\t28 & 5 & 70 & 0 & 0 & F & 40.22716 & 21.07721 \\\\\n",
       "\t29 & 5 & 24010 & 0 & 0 & M & 41.75868 & 24.1248 \\\\\n",
       "\t30 & 5 & 21999 & 24010 & 70 & M & 45.46347 & 27.55542 \\\\\n",
       "\t$\\dots$ & $\\dots$ & $\\dots$ & $\\dots$ & $\\dots$ & $\\dots$ & $\\dots$ & $\\dots$ \\\\\n",
       "\\end{tabular}\n"
      ],
      "text/plain": [
       "212×7 DataFrame. Omitted printing of 1 columns\n",
       "│ Row │ fid       │ iid       │ father    │ mother    │ sex       │ phenotype │\n",
       "│     │ \u001b[90mAbstract…\u001b[39m │ \u001b[90mAbstract…\u001b[39m │ \u001b[90mAbstract…\u001b[39m │ \u001b[90mAbstract…\u001b[39m │ \u001b[90mAbstract…\u001b[39m │ \u001b[90mAbstract…\u001b[39m │\n",
       "├─────┼───────────┼───────────┼───────────┼───────────┼───────────┼───────────┤\n",
       "│ 1   │ 1         │ 16        │ 0         │ 0         │ F         │ 30.20564  │\n",
       "│ 2   │ 1         │ 8228      │ 0         │ 0         │ F         │ 35.82143  │\n",
       "│ 3   │ 1         │ 17008     │ 0         │ 0         │ M         │ 36.05298  │\n",
       "│ 4   │ 1         │ 9218      │ 17008     │ 16        │ M         │ 38.96351  │\n",
       "│ 5   │ 1         │ 3226      │ 9218      │ 8228      │ F         │ 33.73911  │\n",
       "│ 6   │ 2         │ 29        │ 0         │ 0         │ F         │ 34.88835  │\n",
       "│ 7   │ 2         │ 2294      │ 0         │ 0         │ M         │ 37.70105  │\n",
       "│ 8   │ 2         │ 3416      │ 0         │ 0         │ M         │ 45.13171  │\n",
       "│ 9   │ 2         │ 17893     │ 2294      │ 29        │ F         │ 35.15599  │\n",
       "│ 10  │ 2         │ 6952      │ 3416      │ 17893     │ M         │ 42.45136  │\n",
       "⋮\n",
       "│ 202 │ 31        │ 16139     │ 4257      │ 13772     │ M         │ 39.3161   │\n",
       "│ 203 │ 31        │ 10439     │ 4257      │ 13772     │ M         │ 41.79131  │\n",
       "│ 204 │ 31        │ 63        │ 17673     │ 19770     │ F         │ 36.33006  │\n",
       "│ 205 │ 10006     │ 66        │ 0         │ 0         │ M         │ 42.94419  │\n",
       "│ 206 │ 10008     │ 92        │ 0         │ 0         │ M         │ 39.89268  │\n",
       "│ 207 │ 10014     │ 186       │ 0         │ 0         │ M         │ 42.57953  │\n",
       "│ 208 │ 10027     │ 374       │ 0         │ 0         │ M         │ 47.86193  │\n",
       "│ 209 │ 10029     │ 434       │ 0         │ 0         │ M         │ 41.0531   │\n",
       "│ 210 │ 10033     │ 333       │ 0         │ 0         │ M         │ 39.95023  │\n",
       "│ 211 │ 10040     │ 234       │ 0         │ 0         │ M         │ 35.47784  │\n",
       "│ 212 │ 10045     │ 789       │ 0         │ 0         │ M         │ 44.3932   │"
      ]
     },
     "execution_count": 22,
     "metadata": {},
     "output_type": "execute_result"
    }
   ],
   "source": [
    "filepath = \"traitsim28e\"\n",
    "snpdata = SnpArray(filepath * \".bed\")\n",
    "rowmask, colmask =  SnpArrays.filter(snpdata);\n",
    "famfile = SnpData(filepath).person_info"
   ]
  },
  {
   "cell_type": "markdown",
   "metadata": {},
   "source": [
    "Transform sex variable from M/F to 1/-1 as is done in the older version of Mendel.  If you prefer you can use the more common convention of making one of the sexes the reference sex (coding it as zero) and make the other sex have the value 1 but then you will have to work a little harder to compare the results to the older version of Mendel. "
   ]
  },
  {
   "cell_type": "code",
   "execution_count": 5,
   "metadata": {},
   "outputs": [
    {
     "data": {
      "text/plain": [
       "212-element Array{Float64,1}:\n",
       " -1.0\n",
       " -1.0\n",
       "  1.0\n",
       "  1.0\n",
       " -1.0\n",
       " -1.0\n",
       "  1.0\n",
       "  1.0\n",
       " -1.0\n",
       "  1.0\n",
       " -1.0\n",
       "  1.0\n",
       " -1.0\n",
       "  ⋮  \n",
       "  1.0\n",
       "  1.0\n",
       "  1.0\n",
       " -1.0\n",
       "  1.0\n",
       "  1.0\n",
       "  1.0\n",
       "  1.0\n",
       "  1.0\n",
       "  1.0\n",
       "  1.0\n",
       "  1.0"
      ]
     },
     "execution_count": 5,
     "metadata": {},
     "output_type": "execute_result"
    }
   ],
   "source": [
    "sex = map(x -> strip(x) == \"F\" ? -1.0 : 1.0, famfile[!, :sex]) # note julia's ternary operator '?'"
   ]
  },
  {
   "cell_type": "markdown",
   "metadata": {},
   "source": [
    "We will use snp rs10412915 as a covariate in our model.  We want to find the index of this causal locus in the snp_definition file and then subset that locus from the genetic marker data above. \n",
    "We first subset the names of all the loci into a vector called `snpid` and store our design matrix for the model that includes sex and locus rs10412915."
   ]
  },
  {
   "cell_type": "code",
   "execution_count": 6,
   "metadata": {},
   "outputs": [
    {
     "data": {
      "text/html": [
       "<table class=\"data-frame\"><thead><tr><th></th><th>sex</th><th>locus</th></tr><tr><th></th><th>Float64</th><th>Float64</th></tr></thead><tbody><p>212 rows × 2 columns</p><tr><th>1</th><td>-1.0</td><td>2.0</td></tr><tr><th>2</th><td>-1.0</td><td>0.0</td></tr><tr><th>3</th><td>1.0</td><td>2.0</td></tr><tr><th>4</th><td>1.0</td><td>2.0</td></tr><tr><th>5</th><td>-1.0</td><td>1.0</td></tr><tr><th>6</th><td>-1.0</td><td>1.0</td></tr><tr><th>7</th><td>1.0</td><td>1.0</td></tr><tr><th>8</th><td>1.0</td><td>2.0</td></tr><tr><th>9</th><td>-1.0</td><td>1.0</td></tr><tr><th>10</th><td>1.0</td><td>1.0</td></tr><tr><th>11</th><td>-1.0</td><td>0.0</td></tr><tr><th>12</th><td>1.0</td><td>0.0</td></tr><tr><th>13</th><td>-1.0</td><td>0.0</td></tr><tr><th>14</th><td>-1.0</td><td>1.0</td></tr><tr><th>15</th><td>-1.0</td><td>2.0</td></tr><tr><th>16</th><td>1.0</td><td>1.0</td></tr><tr><th>17</th><td>-1.0</td><td>2.0</td></tr><tr><th>18</th><td>1.0</td><td>2.0</td></tr><tr><th>19</th><td>-1.0</td><td>2.0</td></tr><tr><th>20</th><td>1.0</td><td>1.0</td></tr><tr><th>21</th><td>-1.0</td><td>1.0</td></tr><tr><th>22</th><td>1.0</td><td>2.0</td></tr><tr><th>23</th><td>1.0</td><td>2.0</td></tr><tr><th>24</th><td>1.0</td><td>1.0</td></tr><tr><th>25</th><td>-1.0</td><td>2.0</td></tr><tr><th>26</th><td>1.0</td><td>2.0</td></tr><tr><th>27</th><td>-1.0</td><td>2.0</td></tr><tr><th>28</th><td>-1.0</td><td>1.0</td></tr><tr><th>29</th><td>1.0</td><td>1.0</td></tr><tr><th>30</th><td>1.0</td><td>0.0</td></tr><tr><th>&vellip;</th><td>&vellip;</td><td>&vellip;</td></tr></tbody></table>"
      ],
      "text/latex": [
       "\\begin{tabular}{r|cc}\n",
       "\t& sex & locus\\\\\n",
       "\t\\hline\n",
       "\t& Float64 & Float64\\\\\n",
       "\t\\hline\n",
       "\t1 & -1.0 & 2.0 \\\\\n",
       "\t2 & -1.0 & 0.0 \\\\\n",
       "\t3 & 1.0 & 2.0 \\\\\n",
       "\t4 & 1.0 & 2.0 \\\\\n",
       "\t5 & -1.0 & 1.0 \\\\\n",
       "\t6 & -1.0 & 1.0 \\\\\n",
       "\t7 & 1.0 & 1.0 \\\\\n",
       "\t8 & 1.0 & 2.0 \\\\\n",
       "\t9 & -1.0 & 1.0 \\\\\n",
       "\t10 & 1.0 & 1.0 \\\\\n",
       "\t11 & -1.0 & 0.0 \\\\\n",
       "\t12 & 1.0 & 0.0 \\\\\n",
       "\t13 & -1.0 & 0.0 \\\\\n",
       "\t14 & -1.0 & 1.0 \\\\\n",
       "\t15 & -1.0 & 2.0 \\\\\n",
       "\t16 & 1.0 & 1.0 \\\\\n",
       "\t17 & -1.0 & 2.0 \\\\\n",
       "\t18 & 1.0 & 2.0 \\\\\n",
       "\t19 & -1.0 & 2.0 \\\\\n",
       "\t20 & 1.0 & 1.0 \\\\\n",
       "\t21 & -1.0 & 1.0 \\\\\n",
       "\t22 & 1.0 & 2.0 \\\\\n",
       "\t23 & 1.0 & 2.0 \\\\\n",
       "\t24 & 1.0 & 1.0 \\\\\n",
       "\t25 & -1.0 & 2.0 \\\\\n",
       "\t26 & 1.0 & 2.0 \\\\\n",
       "\t27 & -1.0 & 2.0 \\\\\n",
       "\t28 & -1.0 & 1.0 \\\\\n",
       "\t29 & 1.0 & 1.0 \\\\\n",
       "\t30 & 1.0 & 0.0 \\\\\n",
       "\t$\\dots$ & $\\dots$ & $\\dots$ \\\\\n",
       "\\end{tabular}\n"
      ],
      "text/plain": [
       "212×2 DataFrame\n",
       "│ Row │ sex     │ locus   │\n",
       "│     │ \u001b[90mFloat64\u001b[39m │ \u001b[90mFloat64\u001b[39m │\n",
       "├─────┼─────────┼─────────┤\n",
       "│ 1   │ -1.0    │ 2.0     │\n",
       "│ 2   │ -1.0    │ 0.0     │\n",
       "│ 3   │ 1.0     │ 2.0     │\n",
       "│ 4   │ 1.0     │ 2.0     │\n",
       "│ 5   │ -1.0    │ 1.0     │\n",
       "│ 6   │ -1.0    │ 1.0     │\n",
       "│ 7   │ 1.0     │ 1.0     │\n",
       "│ 8   │ 1.0     │ 2.0     │\n",
       "│ 9   │ -1.0    │ 1.0     │\n",
       "│ 10  │ 1.0     │ 1.0     │\n",
       "⋮\n",
       "│ 202 │ 1.0     │ 1.0     │\n",
       "│ 203 │ 1.0     │ 2.0     │\n",
       "│ 204 │ -1.0    │ 1.0     │\n",
       "│ 205 │ 1.0     │ 2.0     │\n",
       "│ 206 │ 1.0     │ 1.0     │\n",
       "│ 207 │ 1.0     │ 1.0     │\n",
       "│ 208 │ 1.0     │ 1.0     │\n",
       "│ 209 │ 1.0     │ 1.0     │\n",
       "│ 210 │ 1.0     │ 1.0     │\n",
       "│ 211 │ 1.0     │ 2.0     │\n",
       "│ 212 │ 1.0     │ 0.0     │"
      ]
     },
     "execution_count": 6,
     "metadata": {},
     "output_type": "execute_result"
    }
   ],
   "source": [
    "bimfile = SnpData(filepath).snp_info\n",
    "snpid  = bimfile[!, :snpid]\n",
    "ind_rs10412915 = findall(x -> x == \"rs10412915\", snpid)[1]\n",
    "locus = convert(Vector{Float64}, @view(snpdata[:, ind_rs10412915]))\n",
    "X = DataFrame(sex = sex, locus = locus)"
   ]
  },
  {
   "cell_type": "markdown",
   "metadata": {},
   "source": [
    "# Example: Multiple Correlated Traits (Mendel Example 28e Simulation)\n",
    "\n",
    "We simulate two correlated Normal Traits controlling for family structure, location = $μ$ and scale = $\\mathbf\\Sigma$. \n",
    "The corresponding bivariate variance covariance matrix as specified Mendel Option 28e, $\\mathbf{Σ}$, is generated here.\n",
    "\n",
    "$$\n",
    "Y ∼ N(μ, \\mathbf\\Sigma)\n",
    "$$ \n",
    "\n",
    "$$\n",
    "\\mathbf{\\mu} = \\begin{vmatrix}\n",
    "\\mu_1 \\\\\n",
    "\\mu_2 \\\\\n",
    "\\end{vmatrix}\n",
    "= \\begin{vmatrix}\n",
    "40 + 3(sex) - 1.5(locus)\\\\\n",
    "20 + 2(sex) - 1.5(locus)\\\\\n",
    "\\end{vmatrix}\n",
    "\\\\\n",
    "$$\n",
    "\n",
    "$$\n",
    "\\mathbf\\Sigma  = V_a \\otimes (2GRM) + V_e \\otimes I_n\n",
    "$$\n",
    "\n",
    "\n",
    "&nbsp; $FYI$: To create a trait with different variance components change the elements of $\\mathbf\\Sigma$. We create the variance component object `variance_formula` below, to simulate our traits in example 2b. While this tutorial only uses 2 variance components, we make note that the `@vc` macro is designed to handle as many variance components as needed. \n",
    "\n",
    "As long as each Variance Component is specified correctly, we can create a `VarianceComponent` Julia object for Trait Simulation:\n",
    "\n",
    "&nbsp; \n",
    "Example) Specifying more than 2 variance components (let V_H indicate an additional Household Variance component and V_D indicate a dominance genetic effect) \n",
    "\n",
    "```{julia}\n",
    "    multiple_variance_formula = @vc V_A ⊗ 2GRM + V_E ⊗ I_n + V_D ⊗ Δ + V_H ⊗ H;\n",
    "```"
   ]
  },
  {
   "cell_type": "markdown",
   "metadata": {},
   "source": [
    "## The Variance Covariance Matrix\n",
    "\n",
    "Recall : $E(\\mathbf{GRM}) = \\Phi$\n",
    "<br>\n",
    "We use the [SnpArrays.jl](https://github.com/OpenMendel/SnpArrays.jl) package to find an estimate of the Kinship ($\\Phi$), the Genetic Relationship Matrix (GRM). \n",
    "\n",
    "We will use the same values of $\\textbf{GRM, V_a, and V_e}$ in the bivariate covariance matrix for both the mixed effect example and for the rare variant example.\n",
    "\n",
    "Note that the residual covariance among two relatives is the additive genetic variance, $\\textbf{V_a}$, times twice the kinship coefficient, $\\Phi$. The kinship matrix is derived from the genetic relationship matrix $\\textbf{GRM}$ across the common SNPs with minor allele frequency at least 0.05."
   ]
  },
  {
   "cell_type": "code",
   "execution_count": 7,
   "metadata": {},
   "outputs": [
    {
     "data": {
      "text/plain": [
       "212×212 Array{Float64,2}:\n",
       "  0.498264     0.0080878    0.0164327   …   0.0246825    0.00181856\n",
       "  0.0080878    0.498054    -0.0212599      -0.0285927   -0.0226525 \n",
       "  0.0164327   -0.0212599    0.499442       -0.0219661   -0.00748536\n",
       "  0.253627    -0.00160532   0.282542        0.00612693  -0.00339125\n",
       "  0.126098     0.253365     0.128931       -0.0158446   -0.00633959\n",
       " -0.014971    -0.00266073  -0.00243384  …   0.00384757   0.0145936 \n",
       " -0.0221357    0.0100492   -0.0107012      -0.0148443   -0.00127783\n",
       " -0.01629     -0.00749253  -0.015372       -0.0163305   -0.00258392\n",
       " -0.016679     0.00353587  -0.0128844      -0.0332489   -0.00707839\n",
       " -0.0176101   -0.00996912  -0.0158473      -0.00675875  -0.0122339 \n",
       " -0.0162558    0.00938592   0.0064231   …  -0.00510882   0.0168778 \n",
       " -0.0167487    0.00414544  -0.00936538     -0.0134863    0.0020952 \n",
       " -0.031148     0.00112387  -0.010794        0.00383105   0.0198635 \n",
       "  ⋮                                     ⋱   ⋮                      \n",
       " -0.00865735  -0.00335548  -0.0148433   …   0.00806601  -0.0211537 \n",
       "  0.00296028   0.0043655   -0.0183683       0.0012496    0.00898193\n",
       " -0.0204601   -0.0270898   -0.00194048     -0.0185883   -0.0116621 \n",
       " -0.0174561   -0.0128509   -0.0155773      -0.0274183   -0.0063823 \n",
       " -0.00170995   0.0154211   -0.00168146     -0.00684865  -0.0067438 \n",
       "  0.00718047  -0.00525265  -0.00283975  …   0.0309601    0.0261103 \n",
       " -0.0170218   -0.00661916   0.0020924      -0.022858     0.0037451 \n",
       "  0.0142551    0.0208073    0.0096287       0.00598877   0.0094809 \n",
       " -0.00586031  -0.00733706   0.0339257       0.0109116   -0.0177771 \n",
       "  0.00299024  -0.0134027    0.0150825       0.00799507   0.0150077 \n",
       "  0.0246825   -0.0285927   -0.0219661   …   0.593999     0.0497083 \n",
       "  0.00181856  -0.0226525   -0.00748536      0.0497083    0.491743  "
      ]
     },
     "execution_count": 7,
     "metadata": {},
     "output_type": "execute_result"
    }
   ],
   "source": [
    "GRM = grm(snpdata, minmaf = 0.05)"
   ]
  },
  {
   "cell_type": "markdown",
   "metadata": {},
   "source": [
    "These are the formulas for the mean and variance, as specified by Mendel Option 28e."
   ]
  },
  {
   "cell_type": "code",
   "execution_count": 8,
   "metadata": {},
   "outputs": [
    {
     "data": {
      "text/plain": [
       "2-element Array{String,1}:\n",
       " \"40 + 3(sex) - 1.5(locus)\"\n",
       " \"20 + 2(sex) - 1.5(locus)\""
      ]
     },
     "execution_count": 8,
     "metadata": {},
     "output_type": "execute_result"
    }
   ],
   "source": [
    "mean_formulas = [\"40 + 3(sex) - 1.5(locus)\", \"20 + 2(sex) - 1.5(locus)\"]"
   ]
  },
  {
   "cell_type": "code",
   "execution_count": 9,
   "metadata": {},
   "outputs": [],
   "source": [
    "I_n = Matrix{Float64}(I, size(GRM))\n",
    "V_A = [4 1; 1 4]\n",
    "V_E = [2.0 0.0; 0.0 2.0];\n",
    "\n",
    "# @vc is a macro that creates a 'VarianceComponent' Type for simulation\n",
    "variance_formula = @vc V_A ⊗ 2GRM + V_E ⊗ I_n;"
   ]
  },
  {
   "cell_type": "code",
   "execution_count": 10,
   "metadata": {},
   "outputs": [
    {
     "data": {
      "text/html": [
       "<table class=\"data-frame\"><thead><tr><th></th><th>Trait1</th><th>Trait2</th></tr><tr><th></th><th>Float64</th><th>Float64</th></tr></thead><tbody><p>212 rows × 2 columns</p><tr><th>1</th><td>34.0</td><td>15.0</td></tr><tr><th>2</th><td>37.0</td><td>18.0</td></tr><tr><th>3</th><td>40.0</td><td>19.0</td></tr><tr><th>4</th><td>40.0</td><td>19.0</td></tr><tr><th>5</th><td>35.5</td><td>16.5</td></tr><tr><th>6</th><td>35.5</td><td>16.5</td></tr><tr><th>7</th><td>41.5</td><td>20.5</td></tr><tr><th>8</th><td>40.0</td><td>19.0</td></tr><tr><th>9</th><td>35.5</td><td>16.5</td></tr><tr><th>10</th><td>41.5</td><td>20.5</td></tr><tr><th>11</th><td>37.0</td><td>18.0</td></tr><tr><th>12</th><td>43.0</td><td>22.0</td></tr><tr><th>13</th><td>37.0</td><td>18.0</td></tr><tr><th>14</th><td>35.5</td><td>16.5</td></tr><tr><th>15</th><td>34.0</td><td>15.0</td></tr><tr><th>16</th><td>41.5</td><td>20.5</td></tr><tr><th>17</th><td>34.0</td><td>15.0</td></tr><tr><th>18</th><td>40.0</td><td>19.0</td></tr><tr><th>19</th><td>34.0</td><td>15.0</td></tr><tr><th>20</th><td>41.5</td><td>20.5</td></tr><tr><th>21</th><td>35.5</td><td>16.5</td></tr><tr><th>22</th><td>40.0</td><td>19.0</td></tr><tr><th>23</th><td>40.0</td><td>19.0</td></tr><tr><th>24</th><td>41.5</td><td>20.5</td></tr><tr><th>25</th><td>34.0</td><td>15.0</td></tr><tr><th>26</th><td>40.0</td><td>19.0</td></tr><tr><th>27</th><td>34.0</td><td>15.0</td></tr><tr><th>28</th><td>35.5</td><td>16.5</td></tr><tr><th>29</th><td>41.5</td><td>20.5</td></tr><tr><th>30</th><td>43.0</td><td>22.0</td></tr><tr><th>&vellip;</th><td>&vellip;</td><td>&vellip;</td></tr></tbody></table>"
      ],
      "text/latex": [
       "\\begin{tabular}{r|cc}\n",
       "\t& Trait1 & Trait2\\\\\n",
       "\t\\hline\n",
       "\t& Float64 & Float64\\\\\n",
       "\t\\hline\n",
       "\t1 & 34.0 & 15.0 \\\\\n",
       "\t2 & 37.0 & 18.0 \\\\\n",
       "\t3 & 40.0 & 19.0 \\\\\n",
       "\t4 & 40.0 & 19.0 \\\\\n",
       "\t5 & 35.5 & 16.5 \\\\\n",
       "\t6 & 35.5 & 16.5 \\\\\n",
       "\t7 & 41.5 & 20.5 \\\\\n",
       "\t8 & 40.0 & 19.0 \\\\\n",
       "\t9 & 35.5 & 16.5 \\\\\n",
       "\t10 & 41.5 & 20.5 \\\\\n",
       "\t11 & 37.0 & 18.0 \\\\\n",
       "\t12 & 43.0 & 22.0 \\\\\n",
       "\t13 & 37.0 & 18.0 \\\\\n",
       "\t14 & 35.5 & 16.5 \\\\\n",
       "\t15 & 34.0 & 15.0 \\\\\n",
       "\t16 & 41.5 & 20.5 \\\\\n",
       "\t17 & 34.0 & 15.0 \\\\\n",
       "\t18 & 40.0 & 19.0 \\\\\n",
       "\t19 & 34.0 & 15.0 \\\\\n",
       "\t20 & 41.5 & 20.5 \\\\\n",
       "\t21 & 35.5 & 16.5 \\\\\n",
       "\t22 & 40.0 & 19.0 \\\\\n",
       "\t23 & 40.0 & 19.0 \\\\\n",
       "\t24 & 41.5 & 20.5 \\\\\n",
       "\t25 & 34.0 & 15.0 \\\\\n",
       "\t26 & 40.0 & 19.0 \\\\\n",
       "\t27 & 34.0 & 15.0 \\\\\n",
       "\t28 & 35.5 & 16.5 \\\\\n",
       "\t29 & 41.5 & 20.5 \\\\\n",
       "\t30 & 43.0 & 22.0 \\\\\n",
       "\t$\\dots$ & $\\dots$ & $\\dots$ \\\\\n",
       "\\end{tabular}\n"
      ],
      "text/plain": [
       "212×2 DataFrame\n",
       "│ Row │ Trait1  │ Trait2  │\n",
       "│     │ \u001b[90mFloat64\u001b[39m │ \u001b[90mFloat64\u001b[39m │\n",
       "├─────┼─────────┼─────────┤\n",
       "│ 1   │ 34.0    │ 15.0    │\n",
       "│ 2   │ 37.0    │ 18.0    │\n",
       "│ 3   │ 40.0    │ 19.0    │\n",
       "│ 4   │ 40.0    │ 19.0    │\n",
       "│ 5   │ 35.5    │ 16.5    │\n",
       "│ 6   │ 35.5    │ 16.5    │\n",
       "│ 7   │ 41.5    │ 20.5    │\n",
       "│ 8   │ 40.0    │ 19.0    │\n",
       "│ 9   │ 35.5    │ 16.5    │\n",
       "│ 10  │ 41.5    │ 20.5    │\n",
       "⋮\n",
       "│ 202 │ 41.5    │ 20.5    │\n",
       "│ 203 │ 40.0    │ 19.0    │\n",
       "│ 204 │ 35.5    │ 16.5    │\n",
       "│ 205 │ 40.0    │ 19.0    │\n",
       "│ 206 │ 41.5    │ 20.5    │\n",
       "│ 207 │ 41.5    │ 20.5    │\n",
       "│ 208 │ 41.5    │ 20.5    │\n",
       "│ 209 │ 41.5    │ 20.5    │\n",
       "│ 210 │ 41.5    │ 20.5    │\n",
       "│ 211 │ 40.0    │ 19.0    │\n",
       "│ 212 │ 43.0    │ 22.0    │"
      ]
     },
     "execution_count": 10,
     "metadata": {},
     "output_type": "execute_result"
    }
   ],
   "source": [
    "Multiple_LMM_traits_model = LMMTrait(mean_formulas, X, variance_formula)\n",
    "Simulated_LMM_Traits = simulate(Multiple_LMM_traits_model)\n",
    "Simulated_LMM_Traits = DataFrame(Trait1 = Simulated_LMM_Traits[:, 1][:], Trait2 = Simulated_LMM_Traits[:, 2][:])"
   ]
  },
  {
   "cell_type": "markdown",
   "metadata": {},
   "source": [
    "### Summary Statistics of Our Simulated Traits"
   ]
  },
  {
   "cell_type": "code",
   "execution_count": 18,
   "metadata": {},
   "outputs": [
    {
     "data": {
      "text/html": [
       "<table class=\"data-frame\"><thead><tr><th></th><th>variable</th><th>mean</th><th>min</th><th>median</th><th>max</th><th>nunique</th><th>nmissing</th><th>eltype</th></tr><tr><th></th><th>Symbol</th><th>Float64</th><th>Float64</th><th>Float64</th><th>Float64</th><th>Nothing</th><th>Nothing</th><th>DataType</th></tr></thead><tbody><p>2 rows × 8 columns</p><tr><th>1</th><td>Trait1</td><td>38.1321</td><td>34.0</td><td>40.0</td><td>43.0</td><td></td><td></td><td>Float64</td></tr><tr><th>2</th><td>Trait2</td><td>18.0472</td><td>15.0</td><td>19.0</td><td>22.0</td><td></td><td></td><td>Float64</td></tr></tbody></table>"
      ],
      "text/latex": [
       "\\begin{tabular}{r|cccccccc}\n",
       "\t& variable & mean & min & median & max & nunique & nmissing & eltype\\\\\n",
       "\t\\hline\n",
       "\t& Symbol & Float64 & Float64 & Float64 & Float64 & Nothing & Nothing & DataType\\\\\n",
       "\t\\hline\n",
       "\t1 & Trait1 & 38.1321 & 34.0 & 40.0 & 43.0 &  &  & Float64 \\\\\n",
       "\t2 & Trait2 & 18.0472 & 15.0 & 19.0 & 22.0 &  &  & Float64 \\\\\n",
       "\\end{tabular}\n"
      ],
      "text/plain": [
       "2×8 DataFrame. Omitted printing of 1 columns\n",
       "│ Row │ variable │ mean    │ min     │ median  │ max     │ nunique │ nmissing │\n",
       "│     │ \u001b[90mSymbol\u001b[39m   │ \u001b[90mFloat64\u001b[39m │ \u001b[90mFloat64\u001b[39m │ \u001b[90mFloat64\u001b[39m │ \u001b[90mFloat64\u001b[39m │ \u001b[90mNothing\u001b[39m │ \u001b[90mNothing\u001b[39m  │\n",
       "├─────┼──────────┼─────────┼─────────┼─────────┼─────────┼─────────┼──────────┤\n",
       "│ 1   │ Trait1   │ 38.1321 │ 34.0    │ 40.0    │ 43.0    │         │          │\n",
       "│ 2   │ Trait2   │ 18.0472 │ 15.0    │ 19.0    │ 22.0    │         │          │"
      ]
     },
     "execution_count": 18,
     "metadata": {},
     "output_type": "execute_result"
    }
   ],
   "source": [
    "describe(Simulated_LMM_Traits)"
   ]
  },
  {
   "cell_type": "markdown",
   "metadata": {},
   "source": [
    "# Example 2: Rare Variant Linear Mixed Model\n",
    "\n",
    "\n",
    "$$\n",
    "Y ∼ N(\\mu_{rare20}, 4* 2GRM + 2I)\n",
    "$$\n",
    "\n",
    "In this example we first subset only the rare SNP's with minor allele frequency greater than 0.002 but less than 0.02, then we simulate traits on 20 of the rare SNP's as fixed effects. For this demo, we subset the fist k = 20 rare snps. Change the parameters and the number of SNPs for simulation to model different regions of the genome. The number 20 is arbitrary and you can use more or less than 20 if you desire by changing the final number."
   ]
  },
  {
   "cell_type": "code",
   "execution_count": 13,
   "metadata": {},
   "outputs": [
    {
     "data": {
      "text/plain": [
       "212×80493 SnpArray:\n",
       " 0x03  0x00  0x00  0x00  0x03  0x03  …  0x00  0x00  0x00  0x00  0x00  0x00\n",
       " 0x03  0x00  0x00  0x00  0x03  0x03     0x00  0x00  0x00  0x00  0x00  0x00\n",
       " 0x03  0x00  0x00  0x00  0x03  0x03     0x02  0x02  0x00  0x00  0x00  0x00\n",
       " 0x03  0x00  0x00  0x00  0x03  0x03     0x00  0x00  0x00  0x00  0x00  0x00\n",
       " 0x03  0x00  0x00  0x00  0x03  0x03     0x00  0x00  0x00  0x00  0x00  0x00\n",
       " 0x03  0x00  0x00  0x00  0x03  0x03  …  0x00  0x00  0x00  0x00  0x00  0x00\n",
       " 0x03  0x00  0x00  0x00  0x03  0x03     0x00  0x00  0x00  0x00  0x00  0x00\n",
       " 0x03  0x00  0x00  0x00  0x03  0x03     0x00  0x00  0x00  0x00  0x00  0x00\n",
       " 0x03  0x00  0x00  0x00  0x03  0x03     0x00  0x00  0x00  0x00  0x00  0x00\n",
       " 0x03  0x00  0x00  0x00  0x03  0x03     0x00  0x00  0x00  0x00  0x00  0x00\n",
       " 0x03  0x00  0x00  0x00  0x03  0x03  …  0x00  0x00  0x00  0x00  0x00  0x00\n",
       " 0x03  0x00  0x00  0x00  0x03  0x03     0x00  0x00  0x00  0x00  0x00  0x00\n",
       " 0x03  0x00  0x00  0x00  0x03  0x03     0x00  0x00  0x00  0x00  0x00  0x00\n",
       "    ⋮                             ⋮  ⋱                       ⋮            \n",
       " 0x03  0x00  0x00  0x00  0x03  0x03  …  0x00  0x00  0x00  0x00  0x00  0x00\n",
       " 0x03  0x00  0x00  0x00  0x03  0x03     0x00  0x00  0x00  0x00  0x00  0x00\n",
       " 0x03  0x00  0x00  0x00  0x03  0x03     0x00  0x00  0x00  0x00  0x00  0x00\n",
       " 0x03  0x00  0x00  0x00  0x03  0x03     0x00  0x00  0x00  0x00  0x00  0x00\n",
       " 0x03  0x00  0x00  0x00  0x03  0x03     0x00  0x00  0x00  0x00  0x00  0x00\n",
       " 0x03  0x00  0x00  0x00  0x03  0x03  …  0x00  0x00  0x00  0x00  0x00  0x00\n",
       " 0x03  0x00  0x00  0x00  0x03  0x03     0x00  0x00  0x00  0x00  0x00  0x00\n",
       " 0x03  0x00  0x00  0x00  0x03  0x02     0x00  0x00  0x00  0x00  0x00  0x00\n",
       " 0x03  0x00  0x00  0x00  0x03  0x03     0x00  0x00  0x00  0x00  0x00  0x00\n",
       " 0x03  0x00  0x00  0x00  0x03  0x03     0x00  0x00  0x00  0x00  0x00  0x00\n",
       " 0x03  0x00  0x00  0x00  0x03  0x03  …  0x00  0x00  0x00  0x00  0x00  0x00\n",
       " 0x03  0x00  0x00  0x00  0x03  0x03     0x00  0x00  0x00  0x00  0x00  0x00"
      ]
     },
     "execution_count": 13,
     "metadata": {},
     "output_type": "execute_result"
    }
   ],
   "source": [
    "# filter out rare SNPS, get a subset of uncommon SNPs with 0.002 < MAF ≤ 0.02\n",
    "minor_allele_frequency = maf(snpdata)\n",
    "rare_index = (0.002 .< minor_allele_frequency .≤ 0.02)\n",
    "filtsnpdata = SnpArrays.filter(filepath, rowmask, rare_index, des = \"rare_filtered_28data\")"
   ]
  },
  {
   "cell_type": "markdown",
   "metadata": {},
   "source": [
    "### Chisquared Distribution (df = 1)\n",
    "\n",
    "For demonstration purposes, we simulate effect sizes from the Chi-squared(df = 1) distribution, where we use the minor allele frequency (maf) as x and find f(x) where f is the pdf for the Chi-squared (df = 1) density, so that the rarest SNP's have the biggest effect sizes. The effect sizes are rounded to the second digit, throughout this example. Notice there is a random +1 or -1, so that there are effects that both increase and decrease the simulated trait value.\n",
    "\n",
    "```julia\n",
    "\n",
    "# Generating Effect Sizes from Chisquared(df = 1) density\n",
    "\n",
    "n = length(maf_20_rare_snps)\n",
    "chisq_coeff = zeros(n)\n",
    "\n",
    "for i in 1:n\n",
    "    chisq_coeff[i] = rand([-1, 1]) .* (0.1 / sqrt.(maf_20_rare_snps[i] .* (1 - maf_20_rare_snps[i])))\n",
    "end\n",
    "```"
   ]
  },
  {
   "cell_type": "code",
   "execution_count": 16,
   "metadata": {},
   "outputs": [
    {
     "data": {
      "text/html": [
       "<table class=\"data-frame\"><thead><tr><th></th><th>SimTrait</th></tr><tr><th></th><th>Float64</th></tr></thead><tbody><p>212 rows × 1 columns</p><tr><th>1</th><td>-5.63749</td></tr><tr><th>2</th><td>-11.1311</td></tr><tr><th>3</th><td>-10.7046</td></tr><tr><th>4</th><td>-9.1107</td></tr><tr><th>5</th><td>-4.73371</td></tr><tr><th>6</th><td>-10.8011</td></tr><tr><th>7</th><td>-12.6473</td></tr><tr><th>8</th><td>-12.8405</td></tr><tr><th>9</th><td>-11.6011</td></tr><tr><th>10</th><td>-10.359</td></tr><tr><th>11</th><td>-10.2608</td></tr><tr><th>12</th><td>-12.8895</td></tr><tr><th>13</th><td>-11.7668</td></tr><tr><th>14</th><td>-13.9715</td></tr><tr><th>15</th><td>-5.90316</td></tr><tr><th>16</th><td>-11.501</td></tr><tr><th>17</th><td>-11.4287</td></tr><tr><th>18</th><td>-15.0031</td></tr><tr><th>19</th><td>-12.0187</td></tr><tr><th>20</th><td>-13.8606</td></tr><tr><th>21</th><td>-9.28858</td></tr><tr><th>22</th><td>-7.38427</td></tr><tr><th>23</th><td>-5.96441</td></tr><tr><th>24</th><td>-9.52074</td></tr><tr><th>25</th><td>-13.1052</td></tr><tr><th>26</th><td>-13.3627</td></tr><tr><th>27</th><td>-12.3088</td></tr><tr><th>28</th><td>-9.89986</td></tr><tr><th>29</th><td>-6.22023</td></tr><tr><th>30</th><td>-9.62168</td></tr><tr><th>&vellip;</th><td>&vellip;</td></tr></tbody></table>"
      ],
      "text/latex": [
       "\\begin{tabular}{r|c}\n",
       "\t& SimTrait\\\\\n",
       "\t\\hline\n",
       "\t& Float64\\\\\n",
       "\t\\hline\n",
       "\t1 & -5.63749 \\\\\n",
       "\t2 & -11.1311 \\\\\n",
       "\t3 & -10.7046 \\\\\n",
       "\t4 & -9.1107 \\\\\n",
       "\t5 & -4.73371 \\\\\n",
       "\t6 & -10.8011 \\\\\n",
       "\t7 & -12.6473 \\\\\n",
       "\t8 & -12.8405 \\\\\n",
       "\t9 & -11.6011 \\\\\n",
       "\t10 & -10.359 \\\\\n",
       "\t11 & -10.2608 \\\\\n",
       "\t12 & -12.8895 \\\\\n",
       "\t13 & -11.7668 \\\\\n",
       "\t14 & -13.9715 \\\\\n",
       "\t15 & -5.90316 \\\\\n",
       "\t16 & -11.501 \\\\\n",
       "\t17 & -11.4287 \\\\\n",
       "\t18 & -15.0031 \\\\\n",
       "\t19 & -12.0187 \\\\\n",
       "\t20 & -13.8606 \\\\\n",
       "\t21 & -9.28858 \\\\\n",
       "\t22 & -7.38427 \\\\\n",
       "\t23 & -5.96441 \\\\\n",
       "\t24 & -9.52074 \\\\\n",
       "\t25 & -13.1052 \\\\\n",
       "\t26 & -13.3627 \\\\\n",
       "\t27 & -12.3088 \\\\\n",
       "\t28 & -9.89986 \\\\\n",
       "\t29 & -6.22023 \\\\\n",
       "\t30 & -9.62168 \\\\\n",
       "\t$\\dots$ & $\\dots$ \\\\\n",
       "\\end{tabular}\n"
      ],
      "text/plain": [
       "212×1 DataFrame\n",
       "│ Row │ SimTrait │\n",
       "│     │ \u001b[90mFloat64\u001b[39m  │\n",
       "├─────┼──────────┤\n",
       "│ 1   │ -5.63749 │\n",
       "│ 2   │ -11.1311 │\n",
       "│ 3   │ -10.7046 │\n",
       "│ 4   │ -9.1107  │\n",
       "│ 5   │ -4.73371 │\n",
       "│ 6   │ -10.8011 │\n",
       "│ 7   │ -12.6473 │\n",
       "│ 8   │ -12.8405 │\n",
       "│ 9   │ -11.6011 │\n",
       "│ 10  │ -10.359  │\n",
       "⋮\n",
       "│ 202 │ -9.68103 │\n",
       "│ 203 │ -10.8878 │\n",
       "│ 204 │ -10.1838 │\n",
       "│ 205 │ -9.84212 │\n",
       "│ 206 │ -8.7314  │\n",
       "│ 207 │ -11.6118 │\n",
       "│ 208 │ -8.29363 │\n",
       "│ 209 │ -10.2741 │\n",
       "│ 210 │ -10.1124 │\n",
       "│ 211 │ -12.9331 │\n",
       "│ 212 │ -10.8294 │"
      ]
     },
     "execution_count": 16,
     "metadata": {},
     "output_type": "execute_result"
    }
   ],
   "source": [
    "meanformula_rare, df_rare = Generate_Random_Model_Chisq(\"rare_filtered_28data\", 20)\n",
    "rare_20_snp_model = LMMTrait([meanformula_rare], df_rare, 4*(2*GRM) + 2*(I_n))\n",
    "trait_rare_20_snps = DataFrame(SimTrait = simulate(rare_20_snp_model)[:])"
   ]
  },
  {
   "cell_type": "markdown",
   "metadata": {},
   "source": [
    "Some summary statistics of just the first of the 1000 simulation results."
   ]
  },
  {
   "cell_type": "code",
   "execution_count": 17,
   "metadata": {},
   "outputs": [
    {
     "data": {
      "text/html": [
       "<table class=\"data-frame\"><thead><tr><th></th><th>variable</th><th>mean</th><th>min</th><th>median</th><th>max</th><th>nunique</th><th>nmissing</th><th>eltype</th></tr><tr><th></th><th>Symbol</th><th>Float64</th><th>Float64</th><th>Float64</th><th>Float64</th><th>Nothing</th><th>Nothing</th><th>DataType</th></tr></thead><tbody><p>1 rows × 8 columns</p><tr><th>1</th><td>SimTrait</td><td>-10.0043</td><td>-18.0882</td><td>-9.94102</td><td>-3.60614</td><td></td><td></td><td>Float64</td></tr></tbody></table>"
      ],
      "text/latex": [
       "\\begin{tabular}{r|cccccccc}\n",
       "\t& variable & mean & min & median & max & nunique & nmissing & eltype\\\\\n",
       "\t\\hline\n",
       "\t& Symbol & Float64 & Float64 & Float64 & Float64 & Nothing & Nothing & DataType\\\\\n",
       "\t\\hline\n",
       "\t1 & SimTrait & -10.0043 & -18.0882 & -9.94102 & -3.60614 &  &  & Float64 \\\\\n",
       "\\end{tabular}\n"
      ],
      "text/plain": [
       "1×8 DataFrame. Omitted printing of 2 columns\n",
       "│ Row │ variable │ mean     │ min      │ median   │ max      │ nunique │\n",
       "│     │ \u001b[90mSymbol\u001b[39m   │ \u001b[90mFloat64\u001b[39m  │ \u001b[90mFloat64\u001b[39m  │ \u001b[90mFloat64\u001b[39m  │ \u001b[90mFloat64\u001b[39m  │ \u001b[90mNothing\u001b[39m │\n",
       "├─────┼──────────┼──────────┼──────────┼──────────┼──────────┼─────────┤\n",
       "│ 1   │ SimTrait │ -10.0043 │ -18.0882 │ -9.94102 │ -3.60614 │         │"
      ]
     },
     "execution_count": 17,
     "metadata": {},
     "output_type": "execute_result"
    }
   ],
   "source": [
    "describe(trait_rare_20_snps)"
   ]
  },
  {
   "cell_type": "markdown",
   "metadata": {},
   "source": [
    "## Saving Simulation Results to Local Machine"
   ]
  },
  {
   "cell_type": "markdown",
   "metadata": {},
   "source": [
    "Here we output the simulated trait values and corresponding genotypes for each of the 212 individuals, labeled by their pedigree ID and person ID for the first iteration of the 1000 simulations. "
   ]
  },
  {
   "cell_type": "markdown",
   "metadata": {},
   "source": [
    "## Citations: \n",
    "\n",
    "[1] Lange K, Papp JC, Sinsheimer JS, Sripracha R, Zhou H, Sobel EM (2013) Mendel: The Swiss army knife of genetic analysis programs. Bioinformatics 29:1568-1570.`\n",
    "\n",
    "\n",
    "[2] OPENMENDEL: a cooperative programming project for statistical genetics.\n",
    "[Hum Genet. 2019 Mar 26. doi: 10.1007/s00439-019-02001-z](https://www.ncbi.nlm.nih.gov/pubmed/?term=OPENMENDEL).\n"
   ]
  }
 ],
 "metadata": {
  "@webio": {
   "lastCommId": null,
   "lastKernelId": null
  },
  "kernelspec": {
   "display_name": "Julia 1.2.0",
   "language": "julia",
   "name": "julia-1.2"
  },
  "language_info": {
   "file_extension": ".jl",
   "mimetype": "application/julia",
   "name": "julia",
   "version": "1.2.0"
  },
  "toc": {
   "base_numbering": 1,
   "nav_menu": {},
   "number_sections": true,
   "sideBar": true,
   "skip_h1_title": false,
   "title_cell": "Table of Contents",
   "title_sidebar": "Contents",
   "toc_cell": false,
   "toc_position": {},
   "toc_section_display": true,
   "toc_window_display": false
  }
 },
 "nbformat": 4,
 "nbformat_minor": 2
}
