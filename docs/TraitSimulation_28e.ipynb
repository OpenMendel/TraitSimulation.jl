{
 "cells": [
  {
   "cell_type": "markdown",
   "metadata": {},
   "source": [
    "# Trait Simulation Tutorial\n",
    "\n",
    "# feedback: \n",
    "\n",
    "1. get rid of the exponential \n",
    "rand([-1, 1], n_samplesize) \n",
    "\n",
    "2. reps_1 and reps_2 simulations of trait 1 and trait 2 in example 1b. \n",
    "\n",
    "3. Link to kinship.jl and state how to access delta7 matrix and kinship matrix (in the same notebook???) \n",
    "\n",
    "\n",
    "Authors: Sarah Ji, Janet Sinsheimer, Kenneth Lange\n",
    "\n",
    "In this notebook we show how to use the `TraitSimulation.jl` package to simulate traits from genotype data from unrelateds or families with user-specified Generalized Linear Models (GLMs) or Linear Mixed Models (LMMs), respectively.\n",
    "\n",
    "The data we will be using are from the Mendel version 16[1] sample files. The data are described in examples under Option 28e in the Mendel Version 16 Manual [Section 28.1,  page 279](http://software.genetics.ucla.edu/download?file=202). It consists of simulated data where the two traits of interest have one contributing SNP and a sex effect.\n",
    "\n",
    "We use the OpenMendel package [SnpArrays.jl](https://openmendel.github.io/SnpArrays.jl/latest/) to read in the PLINK formatted SNP data. In example 1, we simulate generalized linear models assuming that everyone is unrelated. So in example 1,  the only data used from option 28e is the genotype for a specific locus in the snp file and the sex of the individual. The pedigree structure and relationship matrix are irrelevant.   In example 2 we simulate data under a linear mixed model so that we can model residual dependency among individuals.  In example 2b, we use the same parameters as were used in Mendel Option 28e with the simulation parameters for Trait1 and Trait2 in Ped28e.out as shown below.\n",
    "\n",
    "In both examples, you can specify your own arbitrary fixed effect sizes, variance components and simulation parameters as desired.\n",
    "\n",
    "In the $\\mathbf{Generating}$ $\\mathbf{Effect}$ $\\mathbf{Sizes}$ Section of Example 2), we show how the user can generate effect sizes that depend on the minor allele frequencies from a function such as an exponential or chisquare. To aid the user when they wish to include a large number of loci in the model, we created a function that automatically writes out the mean components. \n",
    "\n",
    "$\\textbf{At the end of Examples 1 and 3}$, we demo how to $\\textbf{write the results}$ of the simulation to a file on your own machine."
   ]
  },
  {
   "cell_type": "markdown",
   "metadata": {},
   "source": [
    "### Double check that you are using Julia version 1.0 or higher by checking the machine information"
   ]
  },
  {
   "cell_type": "code",
   "execution_count": 1,
   "metadata": {},
   "outputs": [
    {
     "name": "stdout",
     "output_type": "stream",
     "text": [
      "Julia Version 1.1.1\n",
      "Commit 55e36cc (2019-05-16 04:10 UTC)\n",
      "Platform Info:\n",
      "  OS: macOS (x86_64-apple-darwin15.6.0)\n",
      "  CPU: Intel(R) Core(TM) i7-7700HQ CPU @ 2.80GHz\n",
      "  WORD_SIZE: 64\n",
      "  LIBM: libopenlibm\n",
      "  LLVM: libLLVM-6.0.1 (ORCJIT, skylake)\n"
     ]
    }
   ],
   "source": [
    "versioninfo()"
   ]
  },
  {
   "cell_type": "markdown",
   "metadata": {},
   "source": [
    "# Add any missing packages needed for this tutorial:\n",
    "\n",
    "Note: For demonstration purposes, the generation of this Jupyter Notebook requires the use of the following registered packages: `DataFrames.jl`, `SnpArrays.jl`, `StatsModels.jl`, `Random.jl`, `DelimitedFiles.jl`, `StatsBase.jl`, and `StatsFuns.jl`. \n",
    "\n",
    "If it is your first time using these registered packages, you will first have to add the registered packages: DataFrames, SnpArrays, StatsModels, Random, LinearAlgebra, DelimitedFiles, Random, StatsBase by running the following code chunk in Julia's package manager:\n",
    "\n",
    "```{julia}\n",
    "pkg> add DataFrames\n",
    "pkg> add SnpArrays\n",
    "...\n",
    "pkg> add StatsFuns\n",
    "```\n",
    "You can also use the package manager to add the `TraitSimulation.jl` package by running the following link: </br>\n",
    "\n",
    "```{julia}\n",
    "pkg> add \"https://github.com/sarah-ji/TraitSimulation.jl\"\n",
    "```\n",
    "\n",
    "Only after all of the necessary packages have been added, load them into your working environment with the `using` command:"
   ]
  },
  {
   "cell_type": "code",
   "execution_count": 2,
   "metadata": {},
   "outputs": [],
   "source": [
    "using DataFrames, SnpArrays, StatsModels, Random, LinearAlgebra, DelimitedFiles, StatsBase, TraitSimulation, StatsFuns\n",
    "using CSV"
   ]
  },
  {
   "cell_type": "markdown",
   "metadata": {},
   "source": [
    "# Reproducibility\n",
    "\n",
    "For reproducibility, we set a random seed using the `Random.jl` package for each simulation using `Random.seed!(1234)`.  If you wish to end up with different data, you will need to comment out these commands or use another value in Random.seed!()."
   ]
  },
  {
   "cell_type": "code",
   "execution_count": 3,
   "metadata": {},
   "outputs": [],
   "source": [
    "Random.seed!(1234);"
   ]
  },
  {
   "cell_type": "markdown",
   "metadata": {},
   "source": [
    "# The notebook is organized as follows:\n",
    "\n",
    "## Example 1: Generalized Linear Model\n",
    "In this example we show how to generate multiple traits from GLM's with a genetic variant in the fixed effects, but no residual familial correlation.\n",
    "\n",
    "### Single Trait:\n",
    "$$Y ∼ N(\\mu, \\sigma^{2})$$\n",
    "\n",
    "In example (1a) we simulate a $\\textbf{SINGLE INDEPENDENT NORMAL TRAIT}$, with simulation parameters: $\\mu = 20 + 3*sex - 1.5*locus$, $\\sigma^{2} = 2$\n",
    "\n",
    "## Example 2: Linear Mixed Model\n",
    "In this example we show how to generate data so that the related individuals have correlated trait values even after we account for the effect of a snp, a combination of snps or other fixed effects.\n",
    "\n",
    "For convenience we use the common assumption that the residual covariance among two relatives can be captured by the additive genetic variance times twice the kinship coefficient. However, if you like you can specify your own variance components and their design matrices as long as they are positive semi definite using the `@vc` macro demonstrated in this example. We run this simulation 10 times, and store the simulation results in a vector of DataFrames.\n",
    "\n",
    "### (a) Multiple Independent Traits:\n",
    "$$Y ∼ N(\\mu, 4* 2GRM + 2I, n_{reps} = 10)$$\n",
    "\n",
    "In example (2a) we simulate $\\textbf{MULTIPLE 2 INDEPENDENT TRAITS CONTROLLING FOR FAMILY STRUCTURE}$, with the corresponding Mendel Example 28e Simulation parameters, location : $\\mu = 40 + 3*sex - 1.5*locus$, scale : $V$ = 4* 2GRM + 2I$.$ We run this simulation 10 times.\n",
    "\n",
    "## (b) Multiple Correlated Traits: (Mendel Example 28e Simulation)\n",
    "\n",
    "$$ Y = \n",
    "\\begin{bmatrix}\n",
    "Y_{1}\\\\\n",
    "Y_{2}\n",
    "\\end{bmatrix}, Y_{1} \\not\\!\\perp\\!\\!\\!\\perp Y_{2}\n",
    "$$\n",
    "\n",
    "$$Y \\sim N(\\mathbf{\\mu},\\Sigma  = V_{a} \\otimes (2GRM) + V_{e} \\otimes I_{n}) ,$$\n",
    "\n",
    "\n",
    "$$\n",
    "\\mathbf{\\mu} = \\begin{bmatrix}\n",
    "\\mu_1 \\\\\n",
    "\\mu_2 \\\\\n",
    "\\end{bmatrix}\n",
    "= \\begin{bmatrix}\n",
    "40 + 3(sex) - 1.5(locus)\\\\\n",
    "20 + 2(sex) - 1.5(locus)\\\\\n",
    "\\end{bmatrix} , V_{a} = \\begin{bmatrix}\n",
    "4 & 1\\\\\n",
    "1 & 4\\\\\n",
    "\\end{bmatrix} , V_e \n",
    "= \\begin{bmatrix}\n",
    "2 & 0\\\\\n",
    "0 & 2\\\\\n",
    "\\end{bmatrix}\n",
    "$$\n",
    "\n",
    "\n",
    "We simulate $\\textbf{TWO CORRELATED TRAITS CONTROLLING FOR FAMILY STRUCTURE}$ with simulation parameters, location = $\\mu$ and scale = $\\Sigma$. \n",
    "\n",
    "\n",
    "## Example 3: Rare Variant Linear Mixed Model \n",
    "\n",
    "This example is meant to simulate data in a scenario in which a number of rare mutations in a single gene can change a trait value.  In this example we model the residual variation among relatives with the additive genetic variance component and we include 20 rare variants in the mean portion of the model, defined as loci with minor allele frequencies greater than 0.002 but less than 0.02.  In practice rare variants have smaller minor allele frequencies, but we are limited in this tutorial by the relatively small size of the data set. Note also that our modeling these effects as part of the mean is not meant to imply that the best way to detect them would be a standard association analysis. Instead we recommend a burden or SKAT test. <br>\n",
    "\n",
    "Specifically we are generating a single normal trait controlling for family structure with residual heritabiity of 67%, and effect sizes for the variants generated as a function of the minor allele frequencies. The rarer the variant the greater its effect size.\n",
    "\n",
    "We run this simulation n = 100 times\n",
    "\n",
    "$$ Y ∼ N(\\mu_{rare20}, 4* 2GRM + 2I, n_{reps} = 100)\n",
    "$$"
   ]
  },
  {
   "cell_type": "markdown",
   "metadata": {},
   "source": [
    "# Reading the Mendel 28a data using SnpArrays\n",
    "\n",
    "First use `SnpArrays.jl` to read in the genotype data. The value 212 is the number of individuals in the genotype data set. \n"
   ]
  },
  {
   "cell_type": "code",
   "execution_count": 4,
   "metadata": {},
   "outputs": [
    {
     "data": {
      "text/plain": [
       "212×253141 SnpArray:\n",
       " 0x03  0x03  0x00  0x03  0x03  0x03  …  0x02  0x02  0x00  0x00  0x03  0x00\n",
       " 0x03  0x03  0x00  0x02  0x02  0x03     0x00  0x03  0x00  0x00  0x03  0x00\n",
       " 0x03  0x03  0x00  0x03  0x03  0x03     0x03  0x02  0x00  0x00  0x03  0x00\n",
       " 0x03  0x03  0x00  0x03  0x03  0x03     0x02  0x03  0x00  0x00  0x03  0x00\n",
       " 0x03  0x03  0x00  0x03  0x03  0x03     0x00  0x03  0x00  0x00  0x03  0x00\n",
       " 0x03  0x03  0x00  0x03  0x03  0x03  …  0x00  0x00  0x00  0x00  0x00  0x03\n",
       " 0x03  0x02  0x00  0x03  0x03  0x03     0x02  0x03  0x00  0x03  0x00  0x03\n",
       " 0x03  0x03  0x00  0x03  0x03  0x03     0x02  0x03  0x00  0x03  0x00  0x03\n",
       " 0x03  0x02  0x00  0x03  0x03  0x03     0x02  0x02  0x00  0x02  0x00  0x03\n",
       " 0x03  0x02  0x00  0x03  0x03  0x03     0x03  0x03  0x00  0x03  0x00  0x03\n",
       " 0x03  0x02  0x00  0x03  0x03  0x03  …  0x00  0x02  0x00  0x02  0x00  0x03\n",
       " 0x03  0x03  0x00  0x03  0x03  0x03     0x00  0x02  0x00  0x02  0x00  0x03\n",
       " 0x03  0x02  0x00  0x03  0x03  0x03     0x02  0x02  0x00  0x02  0x00  0x03\n",
       "    ⋮                             ⋮  ⋱     ⋮                             ⋮\n",
       " 0x03  0x03  0x00  0x03  0x03  0x03  …  0x00  0x03  0x00  0x00  0x03  0x00\n",
       " 0x03  0x03  0x00  0x03  0x03  0x03     0x00  0x03  0x00  0x02  0x02  0x02\n",
       " 0x03  0x03  0x00  0x03  0x03  0x03     0x00  0x02  0x00  0x00  0x03  0x00\n",
       " 0x03  0x02  0x00  0x02  0x02  0x03     0x02  0x03  0x00  0x03  0x00  0x03\n",
       " 0x03  0x03  0x00  0x02  0x02  0x03     0x02  0x03  0x00  0x00  0x03  0x00\n",
       " 0x03  0x03  0x00  0x03  0x03  0x03  …  0x02  0x03  0x00  0x02  0x02  0x00\n",
       " 0x03  0x03  0x00  0x02  0x02  0x03     0x02  0x03  0x00  0x00  0x02  0x02\n",
       " 0x03  0x03  0x00  0x03  0x03  0x03     0x00  0x03  0x00  0x00  0x03  0x00\n",
       " 0x03  0x02  0x00  0x03  0x03  0x03     0x02  0x03  0x00  0x00  0x02  0x02\n",
       " 0x03  0x03  0x00  0x03  0x03  0x03     0x00  0x03  0x00  0x00  0x03  0x00\n",
       " 0x03  0x03  0x00  0x03  0x03  0x03  …  0x02  0x03  0x00  0x00  0x03  0x00\n",
       " 0x03  0x03  0x00  0x03  0x03  0x03     0x00  0x03  0x00  0x02  0x02  0x02"
      ]
     },
     "execution_count": 4,
     "metadata": {},
     "output_type": "execute_result"
    }
   ],
   "source": [
    "snpdata = SnpArray(\"traitsim28e.bed\", 212)"
   ]
  },
  {
   "cell_type": "markdown",
   "metadata": {},
   "source": [
    "The first line gives the size of the matrix. 212 individuals by 253141, the number of loci.\n",
    "\n",
    "The binary codes correspond to genotypes, A1,A1=0x00, missing=0x01, A1,A2=0x02 and A2,A2=0x03\n",
    "\n",
    "SnpArrays is a very useful utility and can do a lot more than just read in the data. More information about all the functionality of SnpArrays can be found at:\n",
    "https://openmendel.github.io/SnpArrays.jl/latest/"
   ]
  },
  {
   "cell_type": "markdown",
   "metadata": {},
   "source": [
    "Store the FamID and PersonID of Individuals in Mendel 28e data"
   ]
  },
  {
   "cell_type": "code",
   "execution_count": 5,
   "metadata": {},
   "outputs": [
    {
     "data": {
      "text/html": [
       "<table class=\"data-frame\"><thead><tr><th></th><th>FamID</th><th>PID</th></tr><tr><th></th><th>Any</th><th>Any</th></tr></thead><tbody><p>212 rows × 2 columns</p><tr><th>1</th><td>1</td><td>16</td></tr><tr><th>2</th><td>1</td><td>8228</td></tr><tr><th>3</th><td>1</td><td>17008</td></tr><tr><th>4</th><td>1</td><td>9218</td></tr><tr><th>5</th><td>1</td><td>3226</td></tr><tr><th>6</th><td>2</td><td>29</td></tr><tr><th>7</th><td>2</td><td>2294</td></tr><tr><th>8</th><td>2</td><td>3416</td></tr><tr><th>9</th><td>2</td><td>17893</td></tr><tr><th>10</th><td>2</td><td>6952</td></tr><tr><th>11</th><td>2</td><td>14695</td></tr><tr><th>12</th><td>2</td><td>6790</td></tr><tr><th>13</th><td>2</td><td>3916</td></tr><tr><th>14</th><td>3</td><td>39</td></tr><tr><th>15</th><td>3</td><td>4521</td></tr><tr><th>16</th><td>3</td><td>8366</td></tr><tr><th>17</th><td>3</td><td>16693</td></tr><tr><th>18</th><td>3</td><td>21688</td></tr><tr><th>19</th><td>3</td><td>25532</td></tr><tr><th>20</th><td>3</td><td>26294</td></tr><tr><th>21</th><td>3</td><td>16795</td></tr><tr><th>22</th><td>3</td><td>17445</td></tr><tr><th>23</th><td>3</td><td>2039</td></tr><tr><th>24</th><td>3</td><td>2831</td></tr><tr><th>25</th><td>4</td><td>54</td></tr><tr><th>26</th><td>4</td><td>5072</td></tr><tr><th>27</th><td>4</td><td>17240</td></tr><tr><th>28</th><td>5</td><td>70</td></tr><tr><th>29</th><td>5</td><td>24010</td></tr><tr><th>30</th><td>5</td><td>21999</td></tr><tr><th>&vellip;</th><td>&vellip;</td><td>&vellip;</td></tr></tbody></table>"
      ],
      "text/latex": [
       "\\begin{tabular}{r|cc}\n",
       "\t& FamID & PID\\\\\n",
       "\t\\hline\n",
       "\t& Any & Any\\\\\n",
       "\t\\hline\n",
       "\t1 & 1 & 16 \\\\\n",
       "\t2 & 1 & 8228 \\\\\n",
       "\t3 & 1 & 17008 \\\\\n",
       "\t4 & 1 & 9218 \\\\\n",
       "\t5 & 1 & 3226 \\\\\n",
       "\t6 & 2 & 29 \\\\\n",
       "\t7 & 2 & 2294 \\\\\n",
       "\t8 & 2 & 3416 \\\\\n",
       "\t9 & 2 & 17893 \\\\\n",
       "\t10 & 2 & 6952 \\\\\n",
       "\t11 & 2 & 14695 \\\\\n",
       "\t12 & 2 & 6790 \\\\\n",
       "\t13 & 2 & 3916 \\\\\n",
       "\t14 & 3 & 39 \\\\\n",
       "\t15 & 3 & 4521 \\\\\n",
       "\t16 & 3 & 8366 \\\\\n",
       "\t17 & 3 & 16693 \\\\\n",
       "\t18 & 3 & 21688 \\\\\n",
       "\t19 & 3 & 25532 \\\\\n",
       "\t20 & 3 & 26294 \\\\\n",
       "\t21 & 3 & 16795 \\\\\n",
       "\t22 & 3 & 17445 \\\\\n",
       "\t23 & 3 & 2039 \\\\\n",
       "\t24 & 3 & 2831 \\\\\n",
       "\t25 & 4 & 54 \\\\\n",
       "\t26 & 4 & 5072 \\\\\n",
       "\t27 & 4 & 17240 \\\\\n",
       "\t28 & 5 & 70 \\\\\n",
       "\t29 & 5 & 24010 \\\\\n",
       "\t30 & 5 & 21999 \\\\\n",
       "\t$\\dots$ & $\\dots$ & $\\dots$ \\\\\n",
       "\\end{tabular}\n"
      ],
      "text/plain": [
       "212×2 DataFrame\n",
       "│ Row │ FamID │ PID   │\n",
       "│     │ \u001b[90mAny\u001b[39m   │ \u001b[90mAny\u001b[39m   │\n",
       "├─────┼───────┼───────┤\n",
       "│ 1   │ 1     │ 16    │\n",
       "│ 2   │ 1     │ 8228  │\n",
       "│ 3   │ 1     │ 17008 │\n",
       "│ 4   │ 1     │ 9218  │\n",
       "│ 5   │ 1     │ 3226  │\n",
       "│ 6   │ 2     │ 29    │\n",
       "│ 7   │ 2     │ 2294  │\n",
       "│ 8   │ 2     │ 3416  │\n",
       "│ 9   │ 2     │ 17893 │\n",
       "│ 10  │ 2     │ 6952  │\n",
       "⋮\n",
       "│ 202 │ 31    │ 16139 │\n",
       "│ 203 │ 31    │ 10439 │\n",
       "│ 204 │ 31    │ 63    │\n",
       "│ 205 │ 10006 │ 66    │\n",
       "│ 206 │ 10008 │ 92    │\n",
       "│ 207 │ 10014 │ 186   │\n",
       "│ 208 │ 10027 │ 374   │\n",
       "│ 209 │ 10029 │ 434   │\n",
       "│ 210 │ 10033 │ 333   │\n",
       "│ 211 │ 10040 │ 234   │\n",
       "│ 212 │ 10045 │ 789   │"
      ]
     },
     "execution_count": 5,
     "metadata": {},
     "output_type": "execute_result"
    }
   ],
   "source": [
    "famfile = readdlm(\"traitsim28e.fam\", ',')\n",
    "Fam_Person_id = DataFrame(FamID = famfile[:, 1], PID = famfile[:, 2])"
   ]
  },
  {
   "cell_type": "markdown",
   "metadata": {},
   "source": [
    "Note: Because later we will want to compare our results to Mendel 28e results,  we subset `Traits_Mendel28e` "
   ]
  },
  {
   "cell_type": "code",
   "execution_count": 6,
   "metadata": {},
   "outputs": [
    {
     "data": {
      "text/html": [
       "<table class=\"data-frame\"><thead><tr><th></th><th>Trait1</th><th>Trait2</th></tr><tr><th></th><th>Any</th><th>Any</th></tr></thead><tbody><p>212 rows × 2 columns</p><tr><th>1</th><td>30.2056</td><td>9.2421</td></tr><tr><th>2</th><td>35.8214</td><td>15.2746</td></tr><tr><th>3</th><td>36.053</td><td>19.505</td></tr><tr><th>4</th><td>38.9635</td><td>18.9857</td></tr><tr><th>5</th><td>33.7391</td><td>21.1041</td></tr><tr><th>6</th><td>34.8884</td><td>19.0114</td></tr><tr><th>7</th><td>37.7011</td><td>19.1656</td></tr><tr><th>8</th><td>45.1317</td><td>19.8409</td></tr><tr><th>9</th><td>35.156</td><td>14.1423</td></tr><tr><th>10</th><td>42.4514</td><td>19.9271</td></tr><tr><th>11</th><td>35.6426</td><td>17.4191</td></tr><tr><th>12</th><td>40.6344</td><td>23.6845</td></tr><tr><th>13</th><td>34.8618</td><td>16.8684</td></tr><tr><th>14</th><td>37.2552</td><td>16.397</td></tr><tr><th>15</th><td>33.0975</td><td>15.3287</td></tr><tr><th>16</th><td>37.916</td><td>20.6693</td></tr><tr><th>17</th><td>34.839</td><td>17.6651</td></tr><tr><th>18</th><td>36.2022</td><td>21.7773</td></tr><tr><th>19</th><td>30.9314</td><td>17.8042</td></tr><tr><th>20</th><td>41.5899</td><td>22.0772</td></tr><tr><th>21</th><td>31.5552</td><td>17.7989</td></tr><tr><th>22</th><td>35.5947</td><td>20.0131</td></tr><tr><th>23</th><td>36.048</td><td>17.7814</td></tr><tr><th>24</th><td>39.1822</td><td>20.747</td></tr><tr><th>25</th><td>34.7339</td><td>9.88673</td></tr><tr><th>26</th><td>37.5677</td><td>14.2164</td></tr><tr><th>27</th><td>32.9781</td><td>12.9809</td></tr><tr><th>28</th><td>40.2272</td><td>21.0772</td></tr><tr><th>29</th><td>41.7587</td><td>24.1248</td></tr><tr><th>30</th><td>45.4635</td><td>27.5554</td></tr><tr><th>&vellip;</th><td>&vellip;</td><td>&vellip;</td></tr></tbody></table>"
      ],
      "text/latex": [
       "\\begin{tabular}{r|cc}\n",
       "\t& Trait1 & Trait2\\\\\n",
       "\t\\hline\n",
       "\t& Any & Any\\\\\n",
       "\t\\hline\n",
       "\t1 & 30.2056 & 9.2421 \\\\\n",
       "\t2 & 35.8214 & 15.2746 \\\\\n",
       "\t3 & 36.053 & 19.505 \\\\\n",
       "\t4 & 38.9635 & 18.9857 \\\\\n",
       "\t5 & 33.7391 & 21.1041 \\\\\n",
       "\t6 & 34.8884 & 19.0114 \\\\\n",
       "\t7 & 37.7011 & 19.1656 \\\\\n",
       "\t8 & 45.1317 & 19.8409 \\\\\n",
       "\t9 & 35.156 & 14.1423 \\\\\n",
       "\t10 & 42.4514 & 19.9271 \\\\\n",
       "\t11 & 35.6426 & 17.4191 \\\\\n",
       "\t12 & 40.6344 & 23.6845 \\\\\n",
       "\t13 & 34.8618 & 16.8684 \\\\\n",
       "\t14 & 37.2552 & 16.397 \\\\\n",
       "\t15 & 33.0975 & 15.3287 \\\\\n",
       "\t16 & 37.916 & 20.6693 \\\\\n",
       "\t17 & 34.839 & 17.6651 \\\\\n",
       "\t18 & 36.2022 & 21.7773 \\\\\n",
       "\t19 & 30.9314 & 17.8042 \\\\\n",
       "\t20 & 41.5899 & 22.0772 \\\\\n",
       "\t21 & 31.5552 & 17.7989 \\\\\n",
       "\t22 & 35.5947 & 20.0131 \\\\\n",
       "\t23 & 36.048 & 17.7814 \\\\\n",
       "\t24 & 39.1822 & 20.747 \\\\\n",
       "\t25 & 34.7339 & 9.88673 \\\\\n",
       "\t26 & 37.5677 & 14.2164 \\\\\n",
       "\t27 & 32.9781 & 12.9809 \\\\\n",
       "\t28 & 40.2272 & 21.0772 \\\\\n",
       "\t29 & 41.7587 & 24.1248 \\\\\n",
       "\t30 & 45.4635 & 27.5554 \\\\\n",
       "\t$\\dots$ & $\\dots$ & $\\dots$ \\\\\n",
       "\\end{tabular}\n"
      ],
      "text/plain": [
       "212×2 DataFrame\n",
       "│ Row │ Trait1  │ Trait2  │\n",
       "│     │ \u001b[90mAny\u001b[39m     │ \u001b[90mAny\u001b[39m     │\n",
       "├─────┼─────────┼─────────┤\n",
       "│ 1   │ 30.2056 │ 9.2421  │\n",
       "│ 2   │ 35.8214 │ 15.2746 │\n",
       "│ 3   │ 36.053  │ 19.505  │\n",
       "│ 4   │ 38.9635 │ 18.9857 │\n",
       "│ 5   │ 33.7391 │ 21.1041 │\n",
       "│ 6   │ 34.8884 │ 19.0114 │\n",
       "│ 7   │ 37.7011 │ 19.1656 │\n",
       "│ 8   │ 45.1317 │ 19.8409 │\n",
       "│ 9   │ 35.156  │ 14.1423 │\n",
       "│ 10  │ 42.4514 │ 19.9271 │\n",
       "⋮\n",
       "│ 202 │ 39.3161 │ 24.8508 │\n",
       "│ 203 │ 41.7913 │ 22.5294 │\n",
       "│ 204 │ 36.3301 │ 17.0813 │\n",
       "│ 205 │ 42.9442 │ 17.1984 │\n",
       "│ 206 │ 39.8927 │ 20.9043 │\n",
       "│ 207 │ 42.5795 │ 15.9365 │\n",
       "│ 208 │ 47.8619 │ 19.8943 │\n",
       "│ 209 │ 41.0531 │ 25.1045 │\n",
       "│ 210 │ 39.9502 │ 19.7227 │\n",
       "│ 211 │ 35.4778 │ 21.935  │\n",
       "│ 212 │ 44.3932 │ 26.1222 │"
      ]
     },
     "execution_count": 6,
     "metadata": {},
     "output_type": "execute_result"
    }
   ],
   "source": [
    "Traits_Mendel28e = DataFrame(Trait1 = famfile[:, 7], Trait2 = famfile[:, 8])"
   ]
  },
  {
   "cell_type": "markdown",
   "metadata": {},
   "source": [
    "Transform sex variable from M/F to 1/-1 as is done in the older version of Mendel.  If you prefer you can use the more common convention of making one of the sexes the reference sex (coding it as zero) and make the other sex have the value 1 but then you will have to work a little harder to compare the results to the older version of Mendel. "
   ]
  },
  {
   "cell_type": "code",
   "execution_count": 7,
   "metadata": {},
   "outputs": [
    {
     "data": {
      "text/plain": [
       "212-element Array{Float64,1}:\n",
       " -1.0\n",
       " -1.0\n",
       "  1.0\n",
       "  1.0\n",
       " -1.0\n",
       " -1.0\n",
       "  1.0\n",
       "  1.0\n",
       " -1.0\n",
       "  1.0\n",
       " -1.0\n",
       "  1.0\n",
       " -1.0\n",
       "  ⋮  \n",
       "  1.0\n",
       "  1.0\n",
       "  1.0\n",
       " -1.0\n",
       "  1.0\n",
       "  1.0\n",
       "  1.0\n",
       "  1.0\n",
       "  1.0\n",
       "  1.0\n",
       "  1.0\n",
       "  1.0"
      ]
     },
     "execution_count": 7,
     "metadata": {},
     "output_type": "execute_result"
    }
   ],
   "source": [
    "sex = map(x -> strip(x) == \"F\" ? -1.0 : 1.0, famfile[:, 5]) # note julia's ternary operator '?'"
   ]
  },
  {
   "cell_type": "markdown",
   "metadata": {},
   "source": [
    "### Names of Variants:"
   ]
  },
  {
   "cell_type": "markdown",
   "metadata": {},
   "source": [
    "We will use snp rs10412915 as a covariate in our model.  We want to find the index of this causal locus in the snp_definition file and then subset that locus from the genetic marker data above. \n",
    "We first subset the names of all the loci into a vector called `snpid`"
   ]
  },
  {
   "cell_type": "code",
   "execution_count": 8,
   "metadata": {},
   "outputs": [
    {
     "data": {
      "text/plain": [
       "253141-element Array{SubString{String},1}:\n",
       " \"rs3020701\"  \n",
       " \"rs56343121\" \n",
       " \"rs143501051\"\n",
       " \"rs56182540\" \n",
       " \"rs7260412\"  \n",
       " \"rs11669393\" \n",
       " \"rs181646587\"\n",
       " \"rs8106297\"  \n",
       " \"rs8106302\"  \n",
       " \"rs183568620\"\n",
       " \"rs186451972\"\n",
       " \"rs189699222\"\n",
       " \"rs182902214\"\n",
       " ⋮            \n",
       " \"rs188169422\"\n",
       " \"rs144587467\"\n",
       " \"rs139879509\"\n",
       " \"rs143250448\"\n",
       " \"rs145384750\"\n",
       " \"rs149215836\"\n",
       " \"rs139221927\"\n",
       " \"rs181848453\"\n",
       " \"rs138318162\"\n",
       " \"rs186913222\"\n",
       " \"rs141816674\"\n",
       " \"rs150801216\""
      ]
     },
     "execution_count": 8,
     "metadata": {},
     "output_type": "execute_result"
    }
   ],
   "source": [
    "snpdef28_1 = readdlm(\"traitsim28e.bim\", Any; header = false)\n",
    "snpid = map(x -> strip(string(x)), snpdef28_1[:, 1]) # strip mining in the data "
   ]
  },
  {
   "cell_type": "markdown",
   "metadata": {},
   "source": [
    "We next need to find the position of the snp rs10412915.  If you wish to use another snp as the causal locus just change the rs number to another one that is found in the available genotype data, for example rs186913222."
   ]
  },
  {
   "cell_type": "code",
   "execution_count": 9,
   "metadata": {},
   "outputs": [
    {
     "data": {
      "text/plain": [
       "236074"
      ]
     },
     "execution_count": 9,
     "metadata": {},
     "output_type": "execute_result"
    }
   ],
   "source": [
    "ind_rs10412915 = findall(x -> x == \"rs10412915\", snpid)[1]"
   ]
  },
  {
   "cell_type": "markdown",
   "metadata": {},
   "source": [
    "We see that rs10412915, is the 236074th locus in the dataset."
   ]
  },
  {
   "cell_type": "markdown",
   "metadata": {},
   "source": [
    "Let's create a design matrix for the model that includes sex and locus rs10412915."
   ]
  },
  {
   "cell_type": "code",
   "execution_count": 10,
   "metadata": {},
   "outputs": [
    {
     "data": {
      "text/html": [
       "<table class=\"data-frame\"><thead><tr><th></th><th>sex</th><th>locus</th></tr><tr><th></th><th>Float64</th><th>Float64</th></tr></thead><tbody><p>212 rows × 2 columns</p><tr><th>1</th><td>-1.0</td><td>2.0</td></tr><tr><th>2</th><td>-1.0</td><td>0.0</td></tr><tr><th>3</th><td>1.0</td><td>2.0</td></tr><tr><th>4</th><td>1.0</td><td>2.0</td></tr><tr><th>5</th><td>-1.0</td><td>1.0</td></tr><tr><th>6</th><td>-1.0</td><td>1.0</td></tr><tr><th>7</th><td>1.0</td><td>1.0</td></tr><tr><th>8</th><td>1.0</td><td>2.0</td></tr><tr><th>9</th><td>-1.0</td><td>1.0</td></tr><tr><th>10</th><td>1.0</td><td>1.0</td></tr><tr><th>11</th><td>-1.0</td><td>0.0</td></tr><tr><th>12</th><td>1.0</td><td>0.0</td></tr><tr><th>13</th><td>-1.0</td><td>0.0</td></tr><tr><th>14</th><td>-1.0</td><td>1.0</td></tr><tr><th>15</th><td>-1.0</td><td>2.0</td></tr><tr><th>16</th><td>1.0</td><td>1.0</td></tr><tr><th>17</th><td>-1.0</td><td>2.0</td></tr><tr><th>18</th><td>1.0</td><td>2.0</td></tr><tr><th>19</th><td>-1.0</td><td>2.0</td></tr><tr><th>20</th><td>1.0</td><td>1.0</td></tr><tr><th>21</th><td>-1.0</td><td>1.0</td></tr><tr><th>22</th><td>1.0</td><td>2.0</td></tr><tr><th>23</th><td>1.0</td><td>2.0</td></tr><tr><th>24</th><td>1.0</td><td>1.0</td></tr><tr><th>25</th><td>-1.0</td><td>2.0</td></tr><tr><th>26</th><td>1.0</td><td>2.0</td></tr><tr><th>27</th><td>-1.0</td><td>2.0</td></tr><tr><th>28</th><td>-1.0</td><td>1.0</td></tr><tr><th>29</th><td>1.0</td><td>1.0</td></tr><tr><th>30</th><td>1.0</td><td>0.0</td></tr><tr><th>&vellip;</th><td>&vellip;</td><td>&vellip;</td></tr></tbody></table>"
      ],
      "text/latex": [
       "\\begin{tabular}{r|cc}\n",
       "\t& sex & locus\\\\\n",
       "\t\\hline\n",
       "\t& Float64 & Float64\\\\\n",
       "\t\\hline\n",
       "\t1 & -1.0 & 2.0 \\\\\n",
       "\t2 & -1.0 & 0.0 \\\\\n",
       "\t3 & 1.0 & 2.0 \\\\\n",
       "\t4 & 1.0 & 2.0 \\\\\n",
       "\t5 & -1.0 & 1.0 \\\\\n",
       "\t6 & -1.0 & 1.0 \\\\\n",
       "\t7 & 1.0 & 1.0 \\\\\n",
       "\t8 & 1.0 & 2.0 \\\\\n",
       "\t9 & -1.0 & 1.0 \\\\\n",
       "\t10 & 1.0 & 1.0 \\\\\n",
       "\t11 & -1.0 & 0.0 \\\\\n",
       "\t12 & 1.0 & 0.0 \\\\\n",
       "\t13 & -1.0 & 0.0 \\\\\n",
       "\t14 & -1.0 & 1.0 \\\\\n",
       "\t15 & -1.0 & 2.0 \\\\\n",
       "\t16 & 1.0 & 1.0 \\\\\n",
       "\t17 & -1.0 & 2.0 \\\\\n",
       "\t18 & 1.0 & 2.0 \\\\\n",
       "\t19 & -1.0 & 2.0 \\\\\n",
       "\t20 & 1.0 & 1.0 \\\\\n",
       "\t21 & -1.0 & 1.0 \\\\\n",
       "\t22 & 1.0 & 2.0 \\\\\n",
       "\t23 & 1.0 & 2.0 \\\\\n",
       "\t24 & 1.0 & 1.0 \\\\\n",
       "\t25 & -1.0 & 2.0 \\\\\n",
       "\t26 & 1.0 & 2.0 \\\\\n",
       "\t27 & -1.0 & 2.0 \\\\\n",
       "\t28 & -1.0 & 1.0 \\\\\n",
       "\t29 & 1.0 & 1.0 \\\\\n",
       "\t30 & 1.0 & 0.0 \\\\\n",
       "\t$\\dots$ & $\\dots$ & $\\dots$ \\\\\n",
       "\\end{tabular}\n"
      ],
      "text/plain": [
       "212×2 DataFrame\n",
       "│ Row │ sex     │ locus   │\n",
       "│     │ \u001b[90mFloat64\u001b[39m │ \u001b[90mFloat64\u001b[39m │\n",
       "├─────┼─────────┼─────────┤\n",
       "│ 1   │ -1.0    │ 2.0     │\n",
       "│ 2   │ -1.0    │ 0.0     │\n",
       "│ 3   │ 1.0     │ 2.0     │\n",
       "│ 4   │ 1.0     │ 2.0     │\n",
       "│ 5   │ -1.0    │ 1.0     │\n",
       "│ 6   │ -1.0    │ 1.0     │\n",
       "│ 7   │ 1.0     │ 1.0     │\n",
       "│ 8   │ 1.0     │ 2.0     │\n",
       "│ 9   │ -1.0    │ 1.0     │\n",
       "│ 10  │ 1.0     │ 1.0     │\n",
       "⋮\n",
       "│ 202 │ 1.0     │ 1.0     │\n",
       "│ 203 │ 1.0     │ 2.0     │\n",
       "│ 204 │ -1.0    │ 1.0     │\n",
       "│ 205 │ 1.0     │ 2.0     │\n",
       "│ 206 │ 1.0     │ 1.0     │\n",
       "│ 207 │ 1.0     │ 1.0     │\n",
       "│ 208 │ 1.0     │ 1.0     │\n",
       "│ 209 │ 1.0     │ 1.0     │\n",
       "│ 210 │ 1.0     │ 1.0     │\n",
       "│ 211 │ 1.0     │ 2.0     │\n",
       "│ 212 │ 1.0     │ 0.0     │"
      ]
     },
     "execution_count": 10,
     "metadata": {},
     "output_type": "execute_result"
    }
   ],
   "source": [
    "locus = convert(Vector{Float64}, @view(snpdata[:, ind_rs10412915]))\n",
    "X = DataFrame(sex = sex, locus = locus)"
   ]
  },
  {
   "cell_type": "markdown",
   "metadata": {},
   "source": [
    "# Example 1 Generalized Linear Model:\n",
    "\n",
    "This example simulates a case where three snps have fixed effects on the trait. Any apparent genetic correlation between relatives for the trait is due to the effect of these snps, so once these effects of these snps are modelled there should be no residual correlation among relatives. Note that by default, individuals with missing genotype values will have missing phenotype values, unless the user specifies the argument `impute = true` in the convert function above.\n",
    "Be sure to change Random.seed!(1234) to something else (or comment out) if you want to generate a new data set. \n",
    "\n",
    "\n",
    "### Example 1a: Single Trait\n",
    "$$Y ∼ N(\\mu, \\sigma^{2})$$\n",
    "\n",
    "In example (1a) we simulate a $\\textbf{SINGLE INDEPENDENT NORMAL TRAIT}$, with simulation parameters: $\\mu = 20 + 3*sex - 1.5*locus$, $\\sigma^{2} = 2$"
   ]
  },
  {
   "cell_type": "code",
   "execution_count": 11,
   "metadata": {},
   "outputs": [
    {
     "data": {
      "text/html": [
       "<table class=\"data-frame\"><thead><tr><th></th><th>trait1</th></tr><tr><th></th><th>Float64</th></tr></thead><tbody><p>212 rows × 1 columns</p><tr><th>1</th><td>15.7347</td></tr><tr><th>2</th><td>15.1965</td></tr><tr><th>3</th><td>19.011</td></tr><tr><th>4</th><td>18.1942</td></tr><tr><th>5</th><td>17.2288</td></tr><tr><th>6</th><td>19.9238</td></tr><tr><th>7</th><td>22.5656</td></tr><tr><th>8</th><td>19.4565</td></tr><tr><th>9</th><td>16.5047</td></tr><tr><th>10</th><td>20.466</td></tr><tr><th>11</th><td>15.879</td></tr><tr><th>12</th><td>22.9614</td></tr><tr><th>13</th><td>17.2561</td></tr><tr><th>14</th><td>19.2056</td></tr><tr><th>15</th><td>12.3445</td></tr><tr><th>16</th><td>21.7202</td></tr><tr><th>17</th><td>13.4976</td></tr><tr><th>18</th><td>20.7394</td></tr><tr><th>19</th><td>14.1442</td></tr><tr><th>20</th><td>18.4931</td></tr><tr><th>21</th><td>18.6283</td></tr><tr><th>22</th><td>17.2065</td></tr><tr><th>23</th><td>22.211</td></tr><tr><th>24</th><td>19.2865</td></tr><tr><th>25</th><td>7.57728</td></tr><tr><th>26</th><td>19.852</td></tr><tr><th>27</th><td>14.302</td></tr><tr><th>28</th><td>17.0386</td></tr><tr><th>29</th><td>20.8797</td></tr><tr><th>30</th><td>21.7946</td></tr><tr><th>&vellip;</th><td>&vellip;</td></tr></tbody></table>"
      ],
      "text/latex": [
       "\\begin{tabular}{r|c}\n",
       "\t& trait1\\\\\n",
       "\t\\hline\n",
       "\t& Float64\\\\\n",
       "\t\\hline\n",
       "\t1 & 15.7347 \\\\\n",
       "\t2 & 15.1965 \\\\\n",
       "\t3 & 19.011 \\\\\n",
       "\t4 & 18.1942 \\\\\n",
       "\t5 & 17.2288 \\\\\n",
       "\t6 & 19.9238 \\\\\n",
       "\t7 & 22.5656 \\\\\n",
       "\t8 & 19.4565 \\\\\n",
       "\t9 & 16.5047 \\\\\n",
       "\t10 & 20.466 \\\\\n",
       "\t11 & 15.879 \\\\\n",
       "\t12 & 22.9614 \\\\\n",
       "\t13 & 17.2561 \\\\\n",
       "\t14 & 19.2056 \\\\\n",
       "\t15 & 12.3445 \\\\\n",
       "\t16 & 21.7202 \\\\\n",
       "\t17 & 13.4976 \\\\\n",
       "\t18 & 20.7394 \\\\\n",
       "\t19 & 14.1442 \\\\\n",
       "\t20 & 18.4931 \\\\\n",
       "\t21 & 18.6283 \\\\\n",
       "\t22 & 17.2065 \\\\\n",
       "\t23 & 22.211 \\\\\n",
       "\t24 & 19.2865 \\\\\n",
       "\t25 & 7.57728 \\\\\n",
       "\t26 & 19.852 \\\\\n",
       "\t27 & 14.302 \\\\\n",
       "\t28 & 17.0386 \\\\\n",
       "\t29 & 20.8797 \\\\\n",
       "\t30 & 21.7946 \\\\\n",
       "\t$\\dots$ & $\\dots$ \\\\\n",
       "\\end{tabular}\n"
      ],
      "text/plain": [
       "212×1 DataFrame\n",
       "│ Row │ trait1  │\n",
       "│     │ \u001b[90mFloat64\u001b[39m │\n",
       "├─────┼─────────┤\n",
       "│ 1   │ 15.7347 │\n",
       "│ 2   │ 15.1965 │\n",
       "│ 3   │ 19.011  │\n",
       "│ 4   │ 18.1942 │\n",
       "│ 5   │ 17.2288 │\n",
       "│ 6   │ 19.9238 │\n",
       "│ 7   │ 22.5656 │\n",
       "│ 8   │ 19.4565 │\n",
       "│ 9   │ 16.5047 │\n",
       "│ 10  │ 20.466  │\n",
       "⋮\n",
       "│ 202 │ 23.9794 │\n",
       "│ 203 │ 22.1232 │\n",
       "│ 204 │ 15.8523 │\n",
       "│ 205 │ 21.4285 │\n",
       "│ 206 │ 21.3635 │\n",
       "│ 207 │ 21.6066 │\n",
       "│ 208 │ 25.22   │\n",
       "│ 209 │ 23.2118 │\n",
       "│ 210 │ 20.8352 │\n",
       "│ 211 │ 20.4521 │\n",
       "│ 212 │ 22.6036 │"
      ]
     },
     "execution_count": 11,
     "metadata": {},
     "output_type": "execute_result"
    }
   ],
   "source": [
    "mean_formula = \"20 + 3(sex) - 1.5(locus)\"\n",
    "GLM_trait_model = GLMTrait(mean_formula, X, NormalResponse(2), IdentityLink())\n",
    "Simulated_GLM_trait = simulate(GLM_trait_model)"
   ]
  },
  {
   "cell_type": "code",
   "execution_count": 12,
   "metadata": {},
   "outputs": [
    {
     "data": {
      "text/html": [
       "<table class=\"data-frame\"><thead><tr><th></th><th>variable</th><th>mean</th><th>std</th><th>min</th><th>q25</th><th>median</th><th>q75</th><th>max</th><th>eltype</th></tr><tr><th></th><th>Symbol</th><th>Float64</th><th>Float64</th><th>Float64</th><th>Float64</th><th>Float64</th><th>Float64</th><th>Float64</th><th>DataType</th></tr></thead><tbody><p>1 rows × 9 columns</p><tr><th>1</th><td>trait1</td><td>18.1255</td><td>3.6456</td><td>7.57728</td><td>15.1154</td><td>18.7315</td><td>20.7634</td><td>26.2376</td><td>Float64</td></tr></tbody></table>"
      ],
      "text/latex": [
       "\\begin{tabular}{r|ccccccccc}\n",
       "\t& variable & mean & std & min & q25 & median & q75 & max & eltype\\\\\n",
       "\t\\hline\n",
       "\t& Symbol & Float64 & Float64 & Float64 & Float64 & Float64 & Float64 & Float64 & DataType\\\\\n",
       "\t\\hline\n",
       "\t1 & trait1 & 18.1255 & 3.6456 & 7.57728 & 15.1154 & 18.7315 & 20.7634 & 26.2376 & Float64 \\\\\n",
       "\\end{tabular}\n"
      ],
      "text/plain": [
       "1×9 DataFrame. Omitted printing of 2 columns\n",
       "│ Row │ variable │ mean    │ std     │ min     │ q25     │ median  │ q75     │\n",
       "│     │ \u001b[90mSymbol\u001b[39m   │ \u001b[90mFloat64\u001b[39m │ \u001b[90mFloat64\u001b[39m │ \u001b[90mFloat64\u001b[39m │ \u001b[90mFloat64\u001b[39m │ \u001b[90mFloat64\u001b[39m │ \u001b[90mFloat64\u001b[39m │\n",
       "├─────┼──────────┼─────────┼─────────┼─────────┼─────────┼─────────┼─────────┤\n",
       "│ 1   │ trait1   │ 18.1255 │ 3.6456  │ 7.57728 │ 15.1154 │ 18.7315 │ 20.7634 │"
      ]
     },
     "execution_count": 12,
     "metadata": {},
     "output_type": "execute_result"
    }
   ],
   "source": [
    "describe(Simulated_GLM_trait, stats = [:mean, :std, :min, :q25, :median, :q75, :max, :eltype])"
   ]
  },
  {
   "cell_type": "markdown",
   "metadata": {},
   "source": [
    "## Saving Simulation Results to Local Machine\n",
    "\n",
    "Write the newly simulated trait into a comma separated (csv) file for later use. Note that the user can specify the separator to '\\t' for tab separated, or another separator of choice. \n",
    "\n",
    "Here we output the simulated trait and covariates for each of the 212 individuals, labeled by their pedigree ID and person ID."
   ]
  },
  {
   "cell_type": "code",
   "execution_count": 13,
   "metadata": {},
   "outputs": [
    {
     "data": {
      "text/html": [
       "<table class=\"data-frame\"><thead><tr><th></th><th>FamID</th><th>PID</th><th>trait1</th><th>sex</th><th>locus</th></tr><tr><th></th><th>Any</th><th>Any</th><th>Float64</th><th>Float64</th><th>Float64</th></tr></thead><tbody><p>212 rows × 5 columns</p><tr><th>1</th><td>1</td><td>16</td><td>15.7347</td><td>-1.0</td><td>2.0</td></tr><tr><th>2</th><td>1</td><td>8228</td><td>15.1965</td><td>-1.0</td><td>0.0</td></tr><tr><th>3</th><td>1</td><td>17008</td><td>19.011</td><td>1.0</td><td>2.0</td></tr><tr><th>4</th><td>1</td><td>9218</td><td>18.1942</td><td>1.0</td><td>2.0</td></tr><tr><th>5</th><td>1</td><td>3226</td><td>17.2288</td><td>-1.0</td><td>1.0</td></tr><tr><th>6</th><td>2</td><td>29</td><td>19.9238</td><td>-1.0</td><td>1.0</td></tr><tr><th>7</th><td>2</td><td>2294</td><td>22.5656</td><td>1.0</td><td>1.0</td></tr><tr><th>8</th><td>2</td><td>3416</td><td>19.4565</td><td>1.0</td><td>2.0</td></tr><tr><th>9</th><td>2</td><td>17893</td><td>16.5047</td><td>-1.0</td><td>1.0</td></tr><tr><th>10</th><td>2</td><td>6952</td><td>20.466</td><td>1.0</td><td>1.0</td></tr><tr><th>11</th><td>2</td><td>14695</td><td>15.879</td><td>-1.0</td><td>0.0</td></tr><tr><th>12</th><td>2</td><td>6790</td><td>22.9614</td><td>1.0</td><td>0.0</td></tr><tr><th>13</th><td>2</td><td>3916</td><td>17.2561</td><td>-1.0</td><td>0.0</td></tr><tr><th>14</th><td>3</td><td>39</td><td>19.2056</td><td>-1.0</td><td>1.0</td></tr><tr><th>15</th><td>3</td><td>4521</td><td>12.3445</td><td>-1.0</td><td>2.0</td></tr><tr><th>16</th><td>3</td><td>8366</td><td>21.7202</td><td>1.0</td><td>1.0</td></tr><tr><th>17</th><td>3</td><td>16693</td><td>13.4976</td><td>-1.0</td><td>2.0</td></tr><tr><th>18</th><td>3</td><td>21688</td><td>20.7394</td><td>1.0</td><td>2.0</td></tr><tr><th>19</th><td>3</td><td>25532</td><td>14.1442</td><td>-1.0</td><td>2.0</td></tr><tr><th>20</th><td>3</td><td>26294</td><td>18.4931</td><td>1.0</td><td>1.0</td></tr><tr><th>21</th><td>3</td><td>16795</td><td>18.6283</td><td>-1.0</td><td>1.0</td></tr><tr><th>22</th><td>3</td><td>17445</td><td>17.2065</td><td>1.0</td><td>2.0</td></tr><tr><th>23</th><td>3</td><td>2039</td><td>22.211</td><td>1.0</td><td>2.0</td></tr><tr><th>24</th><td>3</td><td>2831</td><td>19.2865</td><td>1.0</td><td>1.0</td></tr><tr><th>25</th><td>4</td><td>54</td><td>7.57728</td><td>-1.0</td><td>2.0</td></tr><tr><th>26</th><td>4</td><td>5072</td><td>19.852</td><td>1.0</td><td>2.0</td></tr><tr><th>27</th><td>4</td><td>17240</td><td>14.302</td><td>-1.0</td><td>2.0</td></tr><tr><th>28</th><td>5</td><td>70</td><td>17.0386</td><td>-1.0</td><td>1.0</td></tr><tr><th>29</th><td>5</td><td>24010</td><td>20.8797</td><td>1.0</td><td>1.0</td></tr><tr><th>30</th><td>5</td><td>21999</td><td>21.7946</td><td>1.0</td><td>0.0</td></tr><tr><th>&vellip;</th><td>&vellip;</td><td>&vellip;</td><td>&vellip;</td><td>&vellip;</td><td>&vellip;</td></tr></tbody></table>"
      ],
      "text/latex": [
       "\\begin{tabular}{r|ccccc}\n",
       "\t& FamID & PID & trait1 & sex & locus\\\\\n",
       "\t\\hline\n",
       "\t& Any & Any & Float64 & Float64 & Float64\\\\\n",
       "\t\\hline\n",
       "\t1 & 1 & 16 & 15.7347 & -1.0 & 2.0 \\\\\n",
       "\t2 & 1 & 8228 & 15.1965 & -1.0 & 0.0 \\\\\n",
       "\t3 & 1 & 17008 & 19.011 & 1.0 & 2.0 \\\\\n",
       "\t4 & 1 & 9218 & 18.1942 & 1.0 & 2.0 \\\\\n",
       "\t5 & 1 & 3226 & 17.2288 & -1.0 & 1.0 \\\\\n",
       "\t6 & 2 & 29 & 19.9238 & -1.0 & 1.0 \\\\\n",
       "\t7 & 2 & 2294 & 22.5656 & 1.0 & 1.0 \\\\\n",
       "\t8 & 2 & 3416 & 19.4565 & 1.0 & 2.0 \\\\\n",
       "\t9 & 2 & 17893 & 16.5047 & -1.0 & 1.0 \\\\\n",
       "\t10 & 2 & 6952 & 20.466 & 1.0 & 1.0 \\\\\n",
       "\t11 & 2 & 14695 & 15.879 & -1.0 & 0.0 \\\\\n",
       "\t12 & 2 & 6790 & 22.9614 & 1.0 & 0.0 \\\\\n",
       "\t13 & 2 & 3916 & 17.2561 & -1.0 & 0.0 \\\\\n",
       "\t14 & 3 & 39 & 19.2056 & -1.0 & 1.0 \\\\\n",
       "\t15 & 3 & 4521 & 12.3445 & -1.0 & 2.0 \\\\\n",
       "\t16 & 3 & 8366 & 21.7202 & 1.0 & 1.0 \\\\\n",
       "\t17 & 3 & 16693 & 13.4976 & -1.0 & 2.0 \\\\\n",
       "\t18 & 3 & 21688 & 20.7394 & 1.0 & 2.0 \\\\\n",
       "\t19 & 3 & 25532 & 14.1442 & -1.0 & 2.0 \\\\\n",
       "\t20 & 3 & 26294 & 18.4931 & 1.0 & 1.0 \\\\\n",
       "\t21 & 3 & 16795 & 18.6283 & -1.0 & 1.0 \\\\\n",
       "\t22 & 3 & 17445 & 17.2065 & 1.0 & 2.0 \\\\\n",
       "\t23 & 3 & 2039 & 22.211 & 1.0 & 2.0 \\\\\n",
       "\t24 & 3 & 2831 & 19.2865 & 1.0 & 1.0 \\\\\n",
       "\t25 & 4 & 54 & 7.57728 & -1.0 & 2.0 \\\\\n",
       "\t26 & 4 & 5072 & 19.852 & 1.0 & 2.0 \\\\\n",
       "\t27 & 4 & 17240 & 14.302 & -1.0 & 2.0 \\\\\n",
       "\t28 & 5 & 70 & 17.0386 & -1.0 & 1.0 \\\\\n",
       "\t29 & 5 & 24010 & 20.8797 & 1.0 & 1.0 \\\\\n",
       "\t30 & 5 & 21999 & 21.7946 & 1.0 & 0.0 \\\\\n",
       "\t$\\dots$ & $\\dots$ & $\\dots$ & $\\dots$ & $\\dots$ & $\\dots$ \\\\\n",
       "\\end{tabular}\n"
      ],
      "text/plain": [
       "212×5 DataFrame\n",
       "│ Row │ FamID │ PID   │ trait1  │ sex     │ locus   │\n",
       "│     │ \u001b[90mAny\u001b[39m   │ \u001b[90mAny\u001b[39m   │ \u001b[90mFloat64\u001b[39m │ \u001b[90mFloat64\u001b[39m │ \u001b[90mFloat64\u001b[39m │\n",
       "├─────┼───────┼───────┼─────────┼─────────┼─────────┤\n",
       "│ 1   │ 1     │ 16    │ 15.7347 │ -1.0    │ 2.0     │\n",
       "│ 2   │ 1     │ 8228  │ 15.1965 │ -1.0    │ 0.0     │\n",
       "│ 3   │ 1     │ 17008 │ 19.011  │ 1.0     │ 2.0     │\n",
       "│ 4   │ 1     │ 9218  │ 18.1942 │ 1.0     │ 2.0     │\n",
       "│ 5   │ 1     │ 3226  │ 17.2288 │ -1.0    │ 1.0     │\n",
       "│ 6   │ 2     │ 29    │ 19.9238 │ -1.0    │ 1.0     │\n",
       "│ 7   │ 2     │ 2294  │ 22.5656 │ 1.0     │ 1.0     │\n",
       "│ 8   │ 2     │ 3416  │ 19.4565 │ 1.0     │ 2.0     │\n",
       "│ 9   │ 2     │ 17893 │ 16.5047 │ -1.0    │ 1.0     │\n",
       "│ 10  │ 2     │ 6952  │ 20.466  │ 1.0     │ 1.0     │\n",
       "⋮\n",
       "│ 202 │ 31    │ 16139 │ 23.9794 │ 1.0     │ 1.0     │\n",
       "│ 203 │ 31    │ 10439 │ 22.1232 │ 1.0     │ 2.0     │\n",
       "│ 204 │ 31    │ 63    │ 15.8523 │ -1.0    │ 1.0     │\n",
       "│ 205 │ 10006 │ 66    │ 21.4285 │ 1.0     │ 2.0     │\n",
       "│ 206 │ 10008 │ 92    │ 21.3635 │ 1.0     │ 1.0     │\n",
       "│ 207 │ 10014 │ 186   │ 21.6066 │ 1.0     │ 1.0     │\n",
       "│ 208 │ 10027 │ 374   │ 25.22   │ 1.0     │ 1.0     │\n",
       "│ 209 │ 10029 │ 434   │ 23.2118 │ 1.0     │ 1.0     │\n",
       "│ 210 │ 10033 │ 333   │ 20.8352 │ 1.0     │ 1.0     │\n",
       "│ 211 │ 10040 │ 234   │ 20.4521 │ 1.0     │ 2.0     │\n",
       "│ 212 │ 10045 │ 789   │ 22.6036 │ 1.0     │ 0.0     │"
      ]
     },
     "execution_count": 13,
     "metadata": {},
     "output_type": "execute_result"
    }
   ],
   "source": [
    "Trait1_GLM = hcat(Fam_Person_id, Simulated_GLM_trait, X)"
   ]
  },
  {
   "cell_type": "code",
   "execution_count": 14,
   "metadata": {},
   "outputs": [
    {
     "data": {
      "text/plain": [
       "\"Trait1_GLM.csv\""
      ]
     },
     "execution_count": 14,
     "metadata": {},
     "output_type": "execute_result"
    }
   ],
   "source": [
    "#cd(\"/Users\") #change to home directory\n",
    "CSV.write(\"Trait1_GLM.csv\", Trait1_GLM)"
   ]
  },
  {
   "cell_type": "markdown",
   "metadata": {},
   "source": [
    "# Example 2: Linear Mixed Model (with additive genetic variance component).\n",
    "Examples 2a simulates a single trait, while Example 2b simulates two correlated traits.\n",
    "\n",
    "Note you can scale the function to simulate the trait multiple times by specifying the argument, `n_reps`. \n",
    "Also, you can extend the model in Example 2b to include more than 2 variance components using the `@vc` macro.\n"
   ]
  },
  {
   "cell_type": "markdown",
   "metadata": {},
   "source": [
    "## The Variance Covariance Matrix\n",
    "\n",
    "Recall : $E(\\mathbf{GRM}) = \\Phi$\n",
    "<br>\n",
    "We use the [SnpArrays.jl](https://github.com/OpenMendel/SnpArrays.jl) package to find an estimate of the Kinship ($\\Phi$), the Genetic Relationship Matrix (GRM). \n",
    "\n",
    "We will use the same values of $\\textbf{GRM, V_a, and V_e}$ in the bivariate covariance matrix for both the mixed effect example and for the rare variant example.\n",
    "\n",
    "Note that the residual covariance among two relatives is the additive genetic variance, $\\textbf{V_a}$, times twice the kinship coefficient, $\\Phi$. The kinship matrix is derived from the genetic relationship matrix $\\textbf{GRM}$ across the common SNPs with minor allele frequency at least 0.05."
   ]
  },
  {
   "cell_type": "code",
   "execution_count": 15,
   "metadata": {},
   "outputs": [
    {
     "data": {
      "text/plain": [
       "212×212 Array{Float64,2}:\n",
       "  0.498264     0.0080878    0.0164327   …   0.0246825    0.00181856\n",
       "  0.0080878    0.498054    -0.0212599      -0.0285927   -0.0226525 \n",
       "  0.0164327   -0.0212599    0.499442       -0.0219661   -0.00748536\n",
       "  0.253627    -0.00160532   0.282542        0.00612693  -0.00339125\n",
       "  0.126098     0.253365     0.128931       -0.0158446   -0.00633959\n",
       " -0.014971    -0.00266073  -0.00243384  …   0.00384757   0.0145936 \n",
       " -0.0221357    0.0100492   -0.0107012      -0.0148443   -0.00127783\n",
       " -0.01629     -0.00749253  -0.015372       -0.0163305   -0.00258392\n",
       " -0.016679     0.00353587  -0.0128844      -0.0332489   -0.00707839\n",
       " -0.0176101   -0.00996912  -0.0158473      -0.00675875  -0.0122339 \n",
       " -0.0162558    0.00938592   0.0064231   …  -0.00510882   0.0168778 \n",
       " -0.0167487    0.00414544  -0.00936538     -0.0134863    0.0020952 \n",
       " -0.031148     0.00112387  -0.010794        0.00383105   0.0198635 \n",
       "  ⋮                                     ⋱   ⋮                      \n",
       " -0.00865735  -0.00335548  -0.0148433   …   0.00806601  -0.0211537 \n",
       "  0.00296028   0.0043655   -0.0183683       0.0012496    0.00898193\n",
       " -0.0204601   -0.0270898   -0.00194048     -0.0185883   -0.0116621 \n",
       " -0.0174561   -0.0128509   -0.0155773      -0.0274183   -0.0063823 \n",
       " -0.00170995   0.0154211   -0.00168146     -0.00684865  -0.0067438 \n",
       "  0.00718047  -0.00525265  -0.00283975  …   0.0309601    0.0261103 \n",
       " -0.0170218   -0.00661916   0.0020924      -0.022858     0.0037451 \n",
       "  0.0142551    0.0208073    0.0096287       0.00598877   0.0094809 \n",
       " -0.00586031  -0.00733706   0.0339257       0.0109116   -0.0177771 \n",
       "  0.00299024  -0.0134027    0.0150825       0.00799507   0.0150077 \n",
       "  0.0246825   -0.0285927   -0.0219661   …   0.593999     0.0497083 \n",
       "  0.00181856  -0.0226525   -0.00748536      0.0497083    0.491743  "
      ]
     },
     "execution_count": 15,
     "metadata": {},
     "output_type": "execute_result"
    }
   ],
   "source": [
    "GRM = grm(snpdata, minmaf = 0.05)"
   ]
  },
  {
   "cell_type": "markdown",
   "metadata": {},
   "source": [
    "### Example 2a: Single Trait \n",
    "$$\n",
    "Y ∼ N(μ, 4* 2GRM + 2I, n_{reps} = 10)$$\n",
    "\n",
    "We simulate a Normal Trait controlling for family structure, location = $\\mu = 40 + 3(sex) - 1.5(locus)$ and scale =  $\\mathbf{V} = 2*V_a \\Phi + V_e I = 4* 2GRM + 2I$. \n"
   ]
  },
  {
   "cell_type": "code",
   "execution_count": 16,
   "metadata": {},
   "outputs": [
    {
     "data": {
      "text/plain": [
       "1-element Array{String,1}:\n",
       " \"40 + 3(sex) - 1.5(locus)\""
      ]
     },
     "execution_count": 16,
     "metadata": {},
     "output_type": "execute_result"
    }
   ],
   "source": [
    "mean_formula = [\"40 + 3(sex) - 1.5(locus)\"]"
   ]
  },
  {
   "cell_type": "code",
   "execution_count": 17,
   "metadata": {},
   "outputs": [
    {
     "data": {
      "text/plain": [
       "10-element Array{DataFrame,1}:\n",
       " 212×1 DataFrame\n",
       "│ Row │ trait1  │\n",
       "│     │ \u001b[90mFloat64\u001b[39m │\n",
       "├─────┼─────────┤\n",
       "│ 1   │ 38.2027 │\n",
       "│ 2   │ 37.3688 │\n",
       "│ 3   │ 41.6529 │\n",
       "│ 4   │ 38.3787 │\n",
       "│ 5   │ 40.9976 │\n",
       "│ 6   │ 31.6698 │\n",
       "│ 7   │ 41.2552 │\n",
       "│ 8   │ 39.1221 │\n",
       "│ 9   │ 34.2723 │\n",
       "│ 10  │ 37.8134 │\n",
       "⋮\n",
       "│ 202 │ 40.1108 │\n",
       "│ 203 │ 38.8683 │\n",
       "│ 204 │ 34.5983 │\n",
       "│ 205 │ 46.092  │\n",
       "│ 206 │ 45.2298 │\n",
       "│ 207 │ 43.5263 │\n",
       "│ 208 │ 41.0581 │\n",
       "│ 209 │ 43.5526 │\n",
       "│ 210 │ 42.724  │\n",
       "│ 211 │ 41.3241 │\n",
       "│ 212 │ 41.2386 │\n",
       " 212×1 DataFrame\n",
       "│ Row │ trait1  │\n",
       "│     │ \u001b[90mFloat64\u001b[39m │\n",
       "├─────┼─────────┤\n",
       "│ 1   │ 33.0839 │\n",
       "│ 2   │ 33.0949 │\n",
       "│ 3   │ 41.1588 │\n",
       "│ 4   │ 41.6931 │\n",
       "│ 5   │ 38.3288 │\n",
       "│ 6   │ 31.6674 │\n",
       "│ 7   │ 39.5764 │\n",
       "│ 8   │ 39.2864 │\n",
       "│ 9   │ 35.8626 │\n",
       "│ 10  │ 42.3515 │\n",
       "⋮\n",
       "│ 202 │ 42.4309 │\n",
       "│ 203 │ 40.1033 │\n",
       "│ 204 │ 32.1262 │\n",
       "│ 205 │ 38.2673 │\n",
       "│ 206 │ 40.4448 │\n",
       "│ 207 │ 44.2101 │\n",
       "│ 208 │ 43.6834 │\n",
       "│ 209 │ 39.2256 │\n",
       "│ 210 │ 41.5687 │\n",
       "│ 211 │ 44.0206 │\n",
       "│ 212 │ 42.7775 │\n",
       " 212×1 DataFrame\n",
       "│ Row │ trait1  │\n",
       "│     │ \u001b[90mFloat64\u001b[39m │\n",
       "├─────┼─────────┤\n",
       "│ 1   │ 33.9506 │\n",
       "│ 2   │ 38.1973 │\n",
       "│ 3   │ 41.0924 │\n",
       "│ 4   │ 43.8899 │\n",
       "│ 5   │ 36.3771 │\n",
       "│ 6   │ 34.1713 │\n",
       "│ 7   │ 42.2629 │\n",
       "│ 8   │ 36.4127 │\n",
       "│ 9   │ 37.5503 │\n",
       "│ 10  │ 43.1954 │\n",
       "⋮\n",
       "│ 202 │ 41.18   │\n",
       "│ 203 │ 40.2167 │\n",
       "│ 204 │ 38.2712 │\n",
       "│ 205 │ 40.2177 │\n",
       "│ 206 │ 35.905  │\n",
       "│ 207 │ 45.2427 │\n",
       "│ 208 │ 43.931  │\n",
       "│ 209 │ 39.428  │\n",
       "│ 210 │ 45.8364 │\n",
       "│ 211 │ 36.707  │\n",
       "│ 212 │ 44.662  │\n",
       " 212×1 DataFrame\n",
       "│ Row │ trait1  │\n",
       "│     │ \u001b[90mFloat64\u001b[39m │\n",
       "├─────┼─────────┤\n",
       "│ 1   │ 36.5656 │\n",
       "│ 2   │ 39.362  │\n",
       "│ 3   │ 42.9832 │\n",
       "│ 4   │ 42.5404 │\n",
       "│ 5   │ 35.8992 │\n",
       "│ 6   │ 34.3079 │\n",
       "│ 7   │ 43.1979 │\n",
       "│ 8   │ 38.4344 │\n",
       "│ 9   │ 34.0486 │\n",
       "│ 10  │ 42.2294 │\n",
       "⋮\n",
       "│ 202 │ 43.1652 │\n",
       "│ 203 │ 41.0509 │\n",
       "│ 204 │ 33.9763 │\n",
       "│ 205 │ 39.1312 │\n",
       "│ 206 │ 42.7881 │\n",
       "│ 207 │ 45.5801 │\n",
       "│ 208 │ 38.9701 │\n",
       "│ 209 │ 45.3976 │\n",
       "│ 210 │ 40.5227 │\n",
       "│ 211 │ 43.0819 │\n",
       "│ 212 │ 36.2136 │\n",
       " 212×1 DataFrame\n",
       "│ Row │ trait1  │\n",
       "│     │ \u001b[90mFloat64\u001b[39m │\n",
       "├─────┼─────────┤\n",
       "│ 1   │ 38.1115 │\n",
       "│ 2   │ 34.7826 │\n",
       "│ 3   │ 42.1213 │\n",
       "│ 4   │ 42.6051 │\n",
       "│ 5   │ 32.2535 │\n",
       "│ 6   │ 37.029  │\n",
       "│ 7   │ 43.142  │\n",
       "│ 8   │ 40.3586 │\n",
       "│ 9   │ 31.1293 │\n",
       "│ 10  │ 39.0632 │\n",
       "⋮\n",
       "│ 202 │ 39.777  │\n",
       "│ 203 │ 34.8092 │\n",
       "│ 204 │ 33.2374 │\n",
       "│ 205 │ 43.6085 │\n",
       "│ 206 │ 40.652  │\n",
       "│ 207 │ 40.6575 │\n",
       "│ 208 │ 37.6834 │\n",
       "│ 209 │ 43.375  │\n",
       "│ 210 │ 40.675  │\n",
       "│ 211 │ 41.2143 │\n",
       "│ 212 │ 44.745  │\n",
       " 212×1 DataFrame\n",
       "│ Row │ trait1  │\n",
       "│     │ \u001b[90mFloat64\u001b[39m │\n",
       "├─────┼─────────┤\n",
       "│ 1   │ 30.982  │\n",
       "│ 2   │ 34.8787 │\n",
       "│ 3   │ 41.1335 │\n",
       "│ 4   │ 40.0226 │\n",
       "│ 5   │ 35.7324 │\n",
       "│ 6   │ 35.3572 │\n",
       "│ 7   │ 41.0041 │\n",
       "│ 8   │ 39.7841 │\n",
       "│ 9   │ 37.3544 │\n",
       "│ 10  │ 41.0159 │\n",
       "⋮\n",
       "│ 202 │ 38.1921 │\n",
       "│ 203 │ 38.8113 │\n",
       "│ 204 │ 33.772  │\n",
       "│ 205 │ 40.1497 │\n",
       "│ 206 │ 43.0688 │\n",
       "│ 207 │ 43.1457 │\n",
       "│ 208 │ 40.6596 │\n",
       "│ 209 │ 39.8476 │\n",
       "│ 210 │ 37.0261 │\n",
       "│ 211 │ 41.4676 │\n",
       "│ 212 │ 43.2348 │\n",
       " 212×1 DataFrame\n",
       "│ Row │ trait1  │\n",
       "│     │ \u001b[90mFloat64\u001b[39m │\n",
       "├─────┼─────────┤\n",
       "│ 1   │ 33.9871 │\n",
       "│ 2   │ 37.857  │\n",
       "│ 3   │ 43.5695 │\n",
       "│ 4   │ 44.8209 │\n",
       "│ 5   │ 39.494  │\n",
       "│ 6   │ 34.962  │\n",
       "│ 7   │ 40.3809 │\n",
       "│ 8   │ 44.0582 │\n",
       "│ 9   │ 36.0193 │\n",
       "│ 10  │ 41.0206 │\n",
       "⋮\n",
       "│ 202 │ 39.4462 │\n",
       "│ 203 │ 41.2105 │\n",
       "│ 204 │ 32.8429 │\n",
       "│ 205 │ 37.2968 │\n",
       "│ 206 │ 48.3959 │\n",
       "│ 207 │ 38.9664 │\n",
       "│ 208 │ 39.6488 │\n",
       "│ 209 │ 43.1038 │\n",
       "│ 210 │ 41.1732 │\n",
       "│ 211 │ 39.9973 │\n",
       "│ 212 │ 43.457  │\n",
       " 212×1 DataFrame\n",
       "│ Row │ trait1  │\n",
       "│     │ \u001b[90mFloat64\u001b[39m │\n",
       "├─────┼─────────┤\n",
       "│ 1   │ 29.5939 │\n",
       "│ 2   │ 41.6715 │\n",
       "│ 3   │ 41.8498 │\n",
       "│ 4   │ 40.0835 │\n",
       "│ 5   │ 34.888  │\n",
       "│ 6   │ 34.0943 │\n",
       "│ 7   │ 42.2379 │\n",
       "│ 8   │ 40.3389 │\n",
       "│ 9   │ 32.9668 │\n",
       "│ 10  │ 41.1557 │\n",
       "⋮\n",
       "│ 202 │ 41.8905 │\n",
       "│ 203 │ 37.3066 │\n",
       "│ 204 │ 35.4764 │\n",
       "│ 205 │ 36.8624 │\n",
       "│ 206 │ 39.8573 │\n",
       "│ 207 │ 46.283  │\n",
       "│ 208 │ 43.6339 │\n",
       "│ 209 │ 42.2684 │\n",
       "│ 210 │ 40.2451 │\n",
       "│ 211 │ 33.1471 │\n",
       "│ 212 │ 43.2421 │\n",
       " 212×1 DataFrame\n",
       "│ Row │ trait1  │\n",
       "│     │ \u001b[90mFloat64\u001b[39m │\n",
       "├─────┼─────────┤\n",
       "│ 1   │ 28.9402 │\n",
       "│ 2   │ 33.5736 │\n",
       "│ 3   │ 38.3454 │\n",
       "│ 4   │ 39.1851 │\n",
       "│ 5   │ 34.7995 │\n",
       "│ 6   │ 31.0946 │\n",
       "│ 7   │ 43.3433 │\n",
       "│ 8   │ 36.296  │\n",
       "│ 9   │ 37.561  │\n",
       "│ 10  │ 43.2023 │\n",
       "⋮\n",
       "│ 202 │ 46.729  │\n",
       "│ 203 │ 38.6709 │\n",
       "│ 204 │ 38.9043 │\n",
       "│ 205 │ 42.207  │\n",
       "│ 206 │ 41.5211 │\n",
       "│ 207 │ 44.5037 │\n",
       "│ 208 │ 42.7048 │\n",
       "│ 209 │ 41.5569 │\n",
       "│ 210 │ 39.5055 │\n",
       "│ 211 │ 41.6717 │\n",
       "│ 212 │ 40.0844 │\n",
       " 212×1 DataFrame\n",
       "│ Row │ trait1  │\n",
       "│     │ \u001b[90mFloat64\u001b[39m │\n",
       "├─────┼─────────┤\n",
       "│ 1   │ 31.9017 │\n",
       "│ 2   │ 41.1508 │\n",
       "│ 3   │ 37.9657 │\n",
       "│ 4   │ 41.4542 │\n",
       "│ 5   │ 36.8418 │\n",
       "│ 6   │ 37.9532 │\n",
       "│ 7   │ 41.406  │\n",
       "│ 8   │ 43.6446 │\n",
       "│ 9   │ 33.2204 │\n",
       "│ 10  │ 42.9885 │\n",
       "⋮\n",
       "│ 202 │ 43.2788 │\n",
       "│ 203 │ 43.7127 │\n",
       "│ 204 │ 30.1317 │\n",
       "│ 205 │ 37.7531 │\n",
       "│ 206 │ 36.7496 │\n",
       "│ 207 │ 40.3715 │\n",
       "│ 208 │ 46.5485 │\n",
       "│ 209 │ 38.3622 │\n",
       "│ 210 │ 44.7208 │\n",
       "│ 211 │ 37.5322 │\n",
       "│ 212 │ 41.9749 │"
      ]
     },
     "execution_count": 17,
     "metadata": {},
     "output_type": "execute_result"
    }
   ],
   "source": [
    "I_n = Matrix{Float64}(I, size(GRM));\n",
    "LMM_trait_model = LMMTrait(mean_formula, X, 4*(2*GRM) + 2*(I_n))\n",
    "Simulated_LMM_Trait = simulate(LMM_trait_model, 10)"
   ]
  },
  {
   "cell_type": "markdown",
   "metadata": {},
   "source": [
    "Let's look at summary statistics of just one of the 10 simulation results."
   ]
  },
  {
   "cell_type": "code",
   "execution_count": 18,
   "metadata": {},
   "outputs": [
    {
     "data": {
      "text/html": [
       "<table class=\"data-frame\"><thead><tr><th></th><th>variable</th><th>mean</th><th>std</th><th>min</th><th>q25</th><th>median</th><th>q75</th><th>max</th><th>eltype</th></tr><tr><th></th><th>Symbol</th><th>Float64</th><th>Float64</th><th>Float64</th><th>Float64</th><th>Float64</th><th>Float64</th><th>Float64</th><th>DataType</th></tr></thead><tbody><p>1 rows × 9 columns</p><tr><th>1</th><td>trait1</td><td>38.1296</td><td>3.78595</td><td>27.4439</td><td>35.2619</td><td>38.2839</td><td>41.1596</td><td>47.8099</td><td>Float64</td></tr></tbody></table>"
      ],
      "text/latex": [
       "\\begin{tabular}{r|ccccccccc}\n",
       "\t& variable & mean & std & min & q25 & median & q75 & max & eltype\\\\\n",
       "\t\\hline\n",
       "\t& Symbol & Float64 & Float64 & Float64 & Float64 & Float64 & Float64 & Float64 & DataType\\\\\n",
       "\t\\hline\n",
       "\t1 & trait1 & 38.1296 & 3.78595 & 27.4439 & 35.2619 & 38.2839 & 41.1596 & 47.8099 & Float64 \\\\\n",
       "\\end{tabular}\n"
      ],
      "text/plain": [
       "1×9 DataFrame. Omitted printing of 2 columns\n",
       "│ Row │ variable │ mean    │ std     │ min     │ q25     │ median  │ q75     │\n",
       "│     │ \u001b[90mSymbol\u001b[39m   │ \u001b[90mFloat64\u001b[39m │ \u001b[90mFloat64\u001b[39m │ \u001b[90mFloat64\u001b[39m │ \u001b[90mFloat64\u001b[39m │ \u001b[90mFloat64\u001b[39m │ \u001b[90mFloat64\u001b[39m │\n",
       "├─────┼──────────┼─────────┼─────────┼─────────┼─────────┼─────────┼─────────┤\n",
       "│ 1   │ trait1   │ 38.1296 │ 3.78595 │ 27.4439 │ 35.2619 │ 38.2839 │ 41.1596 │"
      ]
     },
     "execution_count": 18,
     "metadata": {},
     "output_type": "execute_result"
    }
   ],
   "source": [
    "describe(Simulated_LMM_Trait[1], stats = [:mean, :std, :min, :q25, :median, :q75, :max, :eltype])"
   ]
  },
  {
   "cell_type": "markdown",
   "metadata": {},
   "source": [
    "###  Example 2b: Multiple Correlated Traits (Mendel Example 28e Simulation)\n",
    "\n",
    "We simulate two correlated Normal Traits controlling for family structure, location = $μ$ and scale = $\\mathbf\\Sigma$.\n",
    "The corresponding bivariate variance covariance matrix as specified Mendel Option 28e, $\\mathbf{Σ}$, is generated here.\n",
    "\n",
    "$$\n",
    "Y ∼ N(μ, \\mathbf\\Sigma)\n",
    "$$ \n",
    "\n",
    "$$\n",
    "\\mathbf{\\mu} = \\begin{vmatrix}\n",
    "\\mu_1 \\\\\n",
    "\\mu_2 \\\\\n",
    "\\end{vmatrix}\n",
    "= \\begin{vmatrix}\n",
    "40 + 3(sex) - 1.5(locus)\\\\\n",
    "20 + 2(sex) - 1.5(locus)\\\\\n",
    "\\end{vmatrix}\n",
    "\\\\\n",
    "$$\n",
    "\n",
    "$$\n",
    "\\mathbf\\Sigma  = V_a \\otimes (2GRM) + V_e \\otimes I_n\n",
    "$$\n",
    "\n",
    "\n",
    "&nbsp; $FYI$: To create a trait with different variance components change the elements of $\\mathbf\\Sigma$. We create the variance component object `variance_formula` below, to simulate our traits in example 2b. While this tutorial only uses 2 variance components, we make note that the `@vc` macro is designed to handle as many variance components as needed. \n",
    "\n",
    "As long as each Variance Component is specified correctly, we can create a `VarianceComponent` Julia object for Trait Simulation:\n",
    "\n",
    "&nbsp; \n",
    "Example) Specifying more than 2 variance components (let V_H indicate an additional Household Variance component and V_D indicate a dominance genetic effect) \n",
    "\n",
    "```{julia}\n",
    "    multiple_variance_formula = @vc V_A ⊗ 2GRM + V_E ⊗ I_n + V_D ⊗ Δ + V_H ⊗ H;\n",
    "```"
   ]
  },
  {
   "cell_type": "markdown",
   "metadata": {},
   "source": [
    "V_E is multiplies a 212 by 212 identity matrix, which we creat along with the V_E and V_A matrices. "
   ]
  },
  {
   "cell_type": "code",
   "execution_count": 19,
   "metadata": {},
   "outputs": [],
   "source": [
    "V_A = [4 1; 1 4]\n",
    "V_E = [2.0 0.0; 0.0 2.0];"
   ]
  },
  {
   "cell_type": "code",
   "execution_count": 20,
   "metadata": {},
   "outputs": [],
   "source": [
    "# @vc is a macro that creates a 'VarianceComponent' Type for simulation\n",
    "variance_formula = @vc V_A ⊗ 2GRM + V_E ⊗ I_n;"
   ]
  },
  {
   "cell_type": "markdown",
   "metadata": {},
   "source": [
    "These are the formulas for the fixed effects, as specified by Mendel Option 28e."
   ]
  },
  {
   "cell_type": "code",
   "execution_count": 21,
   "metadata": {},
   "outputs": [
    {
     "data": {
      "text/plain": [
       "2-element Array{String,1}:\n",
       " \"40 + 3(sex) - 1.5(locus)\"\n",
       " \"20 + 2(sex) - 1.5(locus)\""
      ]
     },
     "execution_count": 21,
     "metadata": {},
     "output_type": "execute_result"
    }
   ],
   "source": [
    "mean_formulas = [\"40 + 3(sex) - 1.5(locus)\", \"20 + 2(sex) - 1.5(locus)\"]"
   ]
  },
  {
   "cell_type": "code",
   "execution_count": 22,
   "metadata": {},
   "outputs": [
    {
     "data": {
      "text/html": [
       "<table class=\"data-frame\"><thead><tr><th></th><th>trait1</th><th>trait2</th></tr><tr><th></th><th>Float64</th><th>Float64</th></tr></thead><tbody><p>212 rows × 2 columns</p><tr><th>1</th><td>34.0</td><td>15.0</td></tr><tr><th>2</th><td>37.0</td><td>18.0</td></tr><tr><th>3</th><td>40.0</td><td>19.0</td></tr><tr><th>4</th><td>40.0</td><td>19.0</td></tr><tr><th>5</th><td>35.5</td><td>16.5</td></tr><tr><th>6</th><td>35.5</td><td>16.5</td></tr><tr><th>7</th><td>41.5</td><td>20.5</td></tr><tr><th>8</th><td>40.0</td><td>19.0</td></tr><tr><th>9</th><td>35.5</td><td>16.5</td></tr><tr><th>10</th><td>41.5</td><td>20.5</td></tr><tr><th>11</th><td>37.0</td><td>18.0</td></tr><tr><th>12</th><td>43.0</td><td>22.0</td></tr><tr><th>13</th><td>37.0</td><td>18.0</td></tr><tr><th>14</th><td>35.5</td><td>16.5</td></tr><tr><th>15</th><td>34.0</td><td>15.0</td></tr><tr><th>16</th><td>41.5</td><td>20.5</td></tr><tr><th>17</th><td>34.0</td><td>15.0</td></tr><tr><th>18</th><td>40.0</td><td>19.0</td></tr><tr><th>19</th><td>34.0</td><td>15.0</td></tr><tr><th>20</th><td>41.5</td><td>20.5</td></tr><tr><th>21</th><td>35.5</td><td>16.5</td></tr><tr><th>22</th><td>40.0</td><td>19.0</td></tr><tr><th>23</th><td>40.0</td><td>19.0</td></tr><tr><th>24</th><td>41.5</td><td>20.5</td></tr><tr><th>25</th><td>34.0</td><td>15.0</td></tr><tr><th>26</th><td>40.0</td><td>19.0</td></tr><tr><th>27</th><td>34.0</td><td>15.0</td></tr><tr><th>28</th><td>35.5</td><td>16.5</td></tr><tr><th>29</th><td>41.5</td><td>20.5</td></tr><tr><th>30</th><td>43.0</td><td>22.0</td></tr><tr><th>&vellip;</th><td>&vellip;</td><td>&vellip;</td></tr></tbody></table>"
      ],
      "text/latex": [
       "\\begin{tabular}{r|cc}\n",
       "\t& trait1 & trait2\\\\\n",
       "\t\\hline\n",
       "\t& Float64 & Float64\\\\\n",
       "\t\\hline\n",
       "\t1 & 34.0 & 15.0 \\\\\n",
       "\t2 & 37.0 & 18.0 \\\\\n",
       "\t3 & 40.0 & 19.0 \\\\\n",
       "\t4 & 40.0 & 19.0 \\\\\n",
       "\t5 & 35.5 & 16.5 \\\\\n",
       "\t6 & 35.5 & 16.5 \\\\\n",
       "\t7 & 41.5 & 20.5 \\\\\n",
       "\t8 & 40.0 & 19.0 \\\\\n",
       "\t9 & 35.5 & 16.5 \\\\\n",
       "\t10 & 41.5 & 20.5 \\\\\n",
       "\t11 & 37.0 & 18.0 \\\\\n",
       "\t12 & 43.0 & 22.0 \\\\\n",
       "\t13 & 37.0 & 18.0 \\\\\n",
       "\t14 & 35.5 & 16.5 \\\\\n",
       "\t15 & 34.0 & 15.0 \\\\\n",
       "\t16 & 41.5 & 20.5 \\\\\n",
       "\t17 & 34.0 & 15.0 \\\\\n",
       "\t18 & 40.0 & 19.0 \\\\\n",
       "\t19 & 34.0 & 15.0 \\\\\n",
       "\t20 & 41.5 & 20.5 \\\\\n",
       "\t21 & 35.5 & 16.5 \\\\\n",
       "\t22 & 40.0 & 19.0 \\\\\n",
       "\t23 & 40.0 & 19.0 \\\\\n",
       "\t24 & 41.5 & 20.5 \\\\\n",
       "\t25 & 34.0 & 15.0 \\\\\n",
       "\t26 & 40.0 & 19.0 \\\\\n",
       "\t27 & 34.0 & 15.0 \\\\\n",
       "\t28 & 35.5 & 16.5 \\\\\n",
       "\t29 & 41.5 & 20.5 \\\\\n",
       "\t30 & 43.0 & 22.0 \\\\\n",
       "\t$\\dots$ & $\\dots$ & $\\dots$ \\\\\n",
       "\\end{tabular}\n"
      ],
      "text/plain": [
       "212×2 DataFrame\n",
       "│ Row │ trait1  │ trait2  │\n",
       "│     │ \u001b[90mFloat64\u001b[39m │ \u001b[90mFloat64\u001b[39m │\n",
       "├─────┼─────────┼─────────┤\n",
       "│ 1   │ 34.0    │ 15.0    │\n",
       "│ 2   │ 37.0    │ 18.0    │\n",
       "│ 3   │ 40.0    │ 19.0    │\n",
       "│ 4   │ 40.0    │ 19.0    │\n",
       "│ 5   │ 35.5    │ 16.5    │\n",
       "│ 6   │ 35.5    │ 16.5    │\n",
       "│ 7   │ 41.5    │ 20.5    │\n",
       "│ 8   │ 40.0    │ 19.0    │\n",
       "│ 9   │ 35.5    │ 16.5    │\n",
       "│ 10  │ 41.5    │ 20.5    │\n",
       "⋮\n",
       "│ 202 │ 41.5    │ 20.5    │\n",
       "│ 203 │ 40.0    │ 19.0    │\n",
       "│ 204 │ 35.5    │ 16.5    │\n",
       "│ 205 │ 40.0    │ 19.0    │\n",
       "│ 206 │ 41.5    │ 20.5    │\n",
       "│ 207 │ 41.5    │ 20.5    │\n",
       "│ 208 │ 41.5    │ 20.5    │\n",
       "│ 209 │ 41.5    │ 20.5    │\n",
       "│ 210 │ 41.5    │ 20.5    │\n",
       "│ 211 │ 40.0    │ 19.0    │\n",
       "│ 212 │ 43.0    │ 22.0    │"
      ]
     },
     "execution_count": 22,
     "metadata": {},
     "output_type": "execute_result"
    }
   ],
   "source": [
    "Multiple_LMM_traits_model = LMMTrait(mean_formulas, X, variance_formula)\n",
    "Simulated_LMM_Traits = simulate(Multiple_LMM_traits_model)"
   ]
  },
  {
   "cell_type": "markdown",
   "metadata": {},
   "source": [
    "### Summary Statistics of Our Simulated Traits"
   ]
  },
  {
   "cell_type": "code",
   "execution_count": 23,
   "metadata": {},
   "outputs": [
    {
     "data": {
      "text/html": [
       "<table class=\"data-frame\"><thead><tr><th></th><th>variable</th><th>mean</th><th>std</th><th>min</th><th>max</th><th>eltype</th></tr><tr><th></th><th>Symbol</th><th>Float64</th><th>Float64</th><th>Float64</th><th>Float64</th><th>DataType</th></tr></thead><tbody><p>2 rows × 6 columns</p><tr><th>1</th><td>trait1</td><td>38.1321</td><td>3.16812</td><td>34.0</td><td>43.0</td><td>Float64</td></tr><tr><th>2</th><td>trait2</td><td>18.0472</td><td>2.2361</td><td>15.0</td><td>22.0</td><td>Float64</td></tr></tbody></table>"
      ],
      "text/latex": [
       "\\begin{tabular}{r|cccccc}\n",
       "\t& variable & mean & std & min & max & eltype\\\\\n",
       "\t\\hline\n",
       "\t& Symbol & Float64 & Float64 & Float64 & Float64 & DataType\\\\\n",
       "\t\\hline\n",
       "\t1 & trait1 & 38.1321 & 3.16812 & 34.0 & 43.0 & Float64 \\\\\n",
       "\t2 & trait2 & 18.0472 & 2.2361 & 15.0 & 22.0 & Float64 \\\\\n",
       "\\end{tabular}\n"
      ],
      "text/plain": [
       "2×6 DataFrame\n",
       "│ Row │ variable │ mean    │ std     │ min     │ max     │ eltype   │\n",
       "│     │ \u001b[90mSymbol\u001b[39m   │ \u001b[90mFloat64\u001b[39m │ \u001b[90mFloat64\u001b[39m │ \u001b[90mFloat64\u001b[39m │ \u001b[90mFloat64\u001b[39m │ \u001b[90mDataType\u001b[39m │\n",
       "├─────┼──────────┼─────────┼─────────┼─────────┼─────────┼──────────┤\n",
       "│ 1   │ trait1   │ 38.1321 │ 3.16812 │ 34.0    │ 43.0    │ Float64  │\n",
       "│ 2   │ trait2   │ 18.0472 │ 2.2361  │ 15.0    │ 22.0    │ Float64  │"
      ]
     },
     "execution_count": 23,
     "metadata": {},
     "output_type": "execute_result"
    }
   ],
   "source": [
    "describe(Simulated_LMM_Traits, stats = [:mean, :std, :min, :max, :eltype])"
   ]
  },
  {
   "cell_type": "markdown",
   "metadata": {},
   "source": [
    "### Summary Statistics of the Original Mendel 28e dataset Traits:\n",
    "\n",
    "Note we want to see similar values from our simulated traits!"
   ]
  },
  {
   "cell_type": "code",
   "execution_count": 24,
   "metadata": {},
   "outputs": [
    {
     "data": {
      "text/html": [
       "<table class=\"data-frame\"><thead><tr><th></th><th>variable</th><th>mean</th><th>std</th><th>min</th><th>max</th><th>eltype</th></tr><tr><th></th><th>Symbol</th><th>Float64</th><th>Float64</th><th>Float64</th><th>Float64</th><th>DataType</th></tr></thead><tbody><p>2 rows × 6 columns</p><tr><th>1</th><td>Trait1</td><td>37.8602</td><td>4.04887</td><td>29.2403</td><td>47.8619</td><td>Any</td></tr><tr><th>2</th><td>Trait2</td><td>18.472</td><td>3.37633</td><td>9.2421</td><td>27.5554</td><td>Any</td></tr></tbody></table>"
      ],
      "text/latex": [
       "\\begin{tabular}{r|cccccc}\n",
       "\t& variable & mean & std & min & max & eltype\\\\\n",
       "\t\\hline\n",
       "\t& Symbol & Float64 & Float64 & Float64 & Float64 & DataType\\\\\n",
       "\t\\hline\n",
       "\t1 & Trait1 & 37.8602 & 4.04887 & 29.2403 & 47.8619 & Any \\\\\n",
       "\t2 & Trait2 & 18.472 & 3.37633 & 9.2421 & 27.5554 & Any \\\\\n",
       "\\end{tabular}\n"
      ],
      "text/plain": [
       "2×6 DataFrame\n",
       "│ Row │ variable │ mean    │ std     │ min     │ max     │ eltype   │\n",
       "│     │ \u001b[90mSymbol\u001b[39m   │ \u001b[90mFloat64\u001b[39m │ \u001b[90mFloat64\u001b[39m │ \u001b[90mFloat64\u001b[39m │ \u001b[90mFloat64\u001b[39m │ \u001b[90mDataType\u001b[39m │\n",
       "├─────┼──────────┼─────────┼─────────┼─────────┼─────────┼──────────┤\n",
       "│ 1   │ Trait1   │ 37.8602 │ 4.04887 │ 29.2403 │ 47.8619 │ Any      │\n",
       "│ 2   │ Trait2   │ 18.472  │ 3.37633 │ 9.2421  │ 27.5554 │ Any      │"
      ]
     },
     "execution_count": 24,
     "metadata": {},
     "output_type": "execute_result"
    }
   ],
   "source": [
    "describe(Traits_Mendel28e, stats = [:mean, :std, :min, :max, :eltype])"
   ]
  },
  {
   "cell_type": "markdown",
   "metadata": {},
   "source": [
    "# Example 3: Rare Variant Linear Mixed Model\n",
    "\n",
    "\n",
    "$$\n",
    "Y ∼ N(\\mu_{rare20}, 4* 2GRM + 2I)\n",
    "$$\n",
    "\n",
    "In this example we first subset only the rare SNP's with minor allele frequency greater than 0.002 but less than 0.02, then we simulate traits on 20 of the rare SNP's as fixed effects. For this demo, the indexing `snpid[rare_index][1:2:40]` allows us to subset every other rare snp in the first 40 SNPs, to get our list of 20 rare SNPs. Change the range and number of SNPs to simulate with more or less SNPs and from different regions of the genome. The number 20 is arbitrary and you can use more or less than 20 if you desire by changing the final number. You can change the spacing of the snps by changing the second number. \n",
    "For example, `snpid[rare_index][1:5:500]` would give you 100 snps.\n",
    "\n",
    "Here are the 20 SNP's that will be used for trait simulation in this example.  \n"
   ]
  },
  {
   "cell_type": "code",
   "execution_count": 25,
   "metadata": {},
   "outputs": [],
   "source": [
    "# filter out rare SNPS, get a subset of uncommon SNPs with 0.002 < MAF ≤ 0.02\n",
    "minor_allele_frequency = maf(snpdata)\n",
    "rare_index = (0.002 .< minor_allele_frequency .≤ 0.02)\n",
    "data_rare = @view(snpdata[:, rare_index]);"
   ]
  },
  {
   "cell_type": "code",
   "execution_count": 26,
   "metadata": {},
   "outputs": [
    {
     "data": {
      "text/plain": [
       "20-element Array{SubString{String},1}:\n",
       " \"rs3020701\"  \n",
       " \"rs181646587\"\n",
       " \"rs182902214\"\n",
       " \"rs184527030\"\n",
       " \"rs10409990\" \n",
       " \"rs185166611\"\n",
       " \"rs181637538\"\n",
       " \"rs186213888\"\n",
       " \"rs184010370\"\n",
       " \"rs11667161\" \n",
       " \"rs188819713\"\n",
       " \"rs182378235\"\n",
       " \"rs146361744\"\n",
       " \"rs190575937\"\n",
       " \"rs149949827\"\n",
       " \"rs117671630\"\n",
       " \"rs149171388\"\n",
       " \"rs188520640\"\n",
       " \"rs142722885\"\n",
       " \"rs146938393\""
      ]
     },
     "execution_count": 26,
     "metadata": {},
     "output_type": "execute_result"
    }
   ],
   "source": [
    "maf_20_rare_snps = minor_allele_frequency[rare_index][1:2:40]\n",
    "rare_snps_for_simulation = snpid[rare_index][1:2:40]"
   ]
  },
  {
   "cell_type": "markdown",
   "metadata": {},
   "source": [
    "## Generating Effect Sizes (Based on MAF)\n",
    "\n",
    "In practice rare SNPs have smaller minor allele frequencies but we are limited in this tutorial by the number of individuals in the data set. We use generated effect sizes to evaluate $\\mu_{rare20}$ on the following Dataframe: <br> "
   ]
  },
  {
   "cell_type": "code",
   "execution_count": 27,
   "metadata": {},
   "outputs": [],
   "source": [
    "geno_rare_converted = convert(Matrix{Float64}, data_rare);"
   ]
  },
  {
   "cell_type": "code",
   "execution_count": 28,
   "metadata": {},
   "outputs": [
    {
     "data": {
      "text/html": [
       "<table class=\"data-frame\"><thead><tr><th></th><th>rs3020701</th><th>rs181646587</th><th>rs182902214</th><th>rs184527030</th><th>rs10409990</th><th>rs185166611</th><th>rs181637538</th><th>rs186213888</th><th>rs184010370</th><th>rs11667161</th><th>rs188819713</th><th>rs182378235</th><th>rs146361744</th><th>rs190575937</th><th>rs149949827</th><th>rs117671630</th><th>rs149171388</th><th>rs188520640</th><th>rs142722885</th><th>rs146938393</th></tr><tr><th></th><th>Float64</th><th>Float64</th><th>Float64</th><th>Float64</th><th>Float64</th><th>Float64</th><th>Float64</th><th>Float64</th><th>Float64</th><th>Float64</th><th>Float64</th><th>Float64</th><th>Float64</th><th>Float64</th><th>Float64</th><th>Float64</th><th>Float64</th><th>Float64</th><th>Float64</th><th>Float64</th></tr></thead><tbody><p>212 rows × 20 columns</p><tr><th>1</th><td>2.0</td><td>0.0</td><td>2.0</td><td>0.0</td><td>2.0</td><td>2.0</td><td>0.0</td><td>2.0</td><td>2.0</td><td>2.0</td><td>0.0</td><td>0.0</td><td>2.0</td><td>2.0</td><td>0.0</td><td>2.0</td><td>2.0</td><td>0.0</td><td>0.0</td><td>2.0</td></tr><tr><th>2</th><td>2.0</td><td>0.0</td><td>2.0</td><td>0.0</td><td>2.0</td><td>2.0</td><td>0.0</td><td>2.0</td><td>2.0</td><td>2.0</td><td>0.0</td><td>0.0</td><td>2.0</td><td>2.0</td><td>0.0</td><td>2.0</td><td>2.0</td><td>0.0</td><td>0.0</td><td>2.0</td></tr><tr><th>3</th><td>2.0</td><td>0.0</td><td>2.0</td><td>0.0</td><td>2.0</td><td>2.0</td><td>0.0</td><td>2.0</td><td>2.0</td><td>2.0</td><td>0.0</td><td>0.0</td><td>2.0</td><td>2.0</td><td>0.0</td><td>2.0</td><td>2.0</td><td>0.0</td><td>0.0</td><td>2.0</td></tr><tr><th>4</th><td>2.0</td><td>0.0</td><td>2.0</td><td>0.0</td><td>2.0</td><td>2.0</td><td>0.0</td><td>2.0</td><td>2.0</td><td>2.0</td><td>0.0</td><td>0.0</td><td>2.0</td><td>2.0</td><td>0.0</td><td>2.0</td><td>2.0</td><td>0.0</td><td>0.0</td><td>2.0</td></tr><tr><th>5</th><td>2.0</td><td>0.0</td><td>2.0</td><td>0.0</td><td>2.0</td><td>2.0</td><td>0.0</td><td>2.0</td><td>2.0</td><td>2.0</td><td>0.0</td><td>0.0</td><td>2.0</td><td>2.0</td><td>0.0</td><td>2.0</td><td>2.0</td><td>0.0</td><td>0.0</td><td>2.0</td></tr><tr><th>6</th><td>2.0</td><td>0.0</td><td>2.0</td><td>0.0</td><td>2.0</td><td>2.0</td><td>0.0</td><td>2.0</td><td>2.0</td><td>2.0</td><td>0.0</td><td>0.0</td><td>2.0</td><td>2.0</td><td>0.0</td><td>2.0</td><td>2.0</td><td>0.0</td><td>0.0</td><td>2.0</td></tr><tr><th>7</th><td>2.0</td><td>0.0</td><td>2.0</td><td>0.0</td><td>2.0</td><td>2.0</td><td>0.0</td><td>2.0</td><td>2.0</td><td>2.0</td><td>0.0</td><td>0.0</td><td>2.0</td><td>2.0</td><td>0.0</td><td>2.0</td><td>2.0</td><td>0.0</td><td>0.0</td><td>2.0</td></tr><tr><th>8</th><td>2.0</td><td>0.0</td><td>2.0</td><td>0.0</td><td>2.0</td><td>2.0</td><td>0.0</td><td>2.0</td><td>2.0</td><td>2.0</td><td>0.0</td><td>1.0</td><td>2.0</td><td>2.0</td><td>0.0</td><td>2.0</td><td>2.0</td><td>0.0</td><td>0.0</td><td>2.0</td></tr><tr><th>9</th><td>2.0</td><td>0.0</td><td>2.0</td><td>0.0</td><td>2.0</td><td>2.0</td><td>0.0</td><td>2.0</td><td>2.0</td><td>2.0</td><td>0.0</td><td>0.0</td><td>2.0</td><td>2.0</td><td>0.0</td><td>2.0</td><td>2.0</td><td>0.0</td><td>0.0</td><td>2.0</td></tr><tr><th>10</th><td>2.0</td><td>0.0</td><td>2.0</td><td>0.0</td><td>2.0</td><td>2.0</td><td>0.0</td><td>2.0</td><td>2.0</td><td>2.0</td><td>0.0</td><td>1.0</td><td>2.0</td><td>2.0</td><td>0.0</td><td>2.0</td><td>2.0</td><td>0.0</td><td>0.0</td><td>2.0</td></tr><tr><th>11</th><td>2.0</td><td>0.0</td><td>2.0</td><td>0.0</td><td>2.0</td><td>2.0</td><td>0.0</td><td>2.0</td><td>2.0</td><td>2.0</td><td>0.0</td><td>0.0</td><td>2.0</td><td>2.0</td><td>0.0</td><td>2.0</td><td>2.0</td><td>0.0</td><td>0.0</td><td>2.0</td></tr><tr><th>12</th><td>2.0</td><td>0.0</td><td>2.0</td><td>0.0</td><td>2.0</td><td>2.0</td><td>0.0</td><td>2.0</td><td>2.0</td><td>2.0</td><td>0.0</td><td>0.0</td><td>2.0</td><td>2.0</td><td>0.0</td><td>2.0</td><td>2.0</td><td>0.0</td><td>0.0</td><td>2.0</td></tr><tr><th>13</th><td>2.0</td><td>0.0</td><td>2.0</td><td>0.0</td><td>2.0</td><td>2.0</td><td>0.0</td><td>2.0</td><td>2.0</td><td>2.0</td><td>0.0</td><td>0.0</td><td>2.0</td><td>2.0</td><td>0.0</td><td>2.0</td><td>2.0</td><td>0.0</td><td>0.0</td><td>2.0</td></tr><tr><th>14</th><td>2.0</td><td>0.0</td><td>2.0</td><td>0.0</td><td>2.0</td><td>2.0</td><td>0.0</td><td>2.0</td><td>2.0</td><td>2.0</td><td>0.0</td><td>0.0</td><td>2.0</td><td>2.0</td><td>0.0</td><td>2.0</td><td>2.0</td><td>0.0</td><td>0.0</td><td>2.0</td></tr><tr><th>15</th><td>2.0</td><td>0.0</td><td>2.0</td><td>0.0</td><td>2.0</td><td>2.0</td><td>0.0</td><td>2.0</td><td>2.0</td><td>2.0</td><td>0.0</td><td>0.0</td><td>2.0</td><td>2.0</td><td>0.0</td><td>2.0</td><td>2.0</td><td>0.0</td><td>0.0</td><td>2.0</td></tr><tr><th>16</th><td>2.0</td><td>0.0</td><td>2.0</td><td>0.0</td><td>2.0</td><td>2.0</td><td>0.0</td><td>2.0</td><td>2.0</td><td>2.0</td><td>0.0</td><td>0.0</td><td>2.0</td><td>2.0</td><td>1.0</td><td>2.0</td><td>2.0</td><td>0.0</td><td>0.0</td><td>2.0</td></tr><tr><th>17</th><td>2.0</td><td>0.0</td><td>2.0</td><td>0.0</td><td>2.0</td><td>2.0</td><td>0.0</td><td>2.0</td><td>2.0</td><td>2.0</td><td>0.0</td><td>0.0</td><td>2.0</td><td>2.0</td><td>0.0</td><td>2.0</td><td>2.0</td><td>0.0</td><td>0.0</td><td>2.0</td></tr><tr><th>18</th><td>2.0</td><td>0.0</td><td>2.0</td><td>0.0</td><td>2.0</td><td>2.0</td><td>0.0</td><td>2.0</td><td>2.0</td><td>2.0</td><td>0.0</td><td>0.0</td><td>2.0</td><td>2.0</td><td>0.0</td><td>2.0</td><td>2.0</td><td>0.0</td><td>0.0</td><td>2.0</td></tr><tr><th>19</th><td>2.0</td><td>0.0</td><td>2.0</td><td>0.0</td><td>2.0</td><td>2.0</td><td>0.0</td><td>2.0</td><td>2.0</td><td>2.0</td><td>0.0</td><td>0.0</td><td>2.0</td><td>2.0</td><td>0.0</td><td>2.0</td><td>2.0</td><td>0.0</td><td>0.0</td><td>2.0</td></tr><tr><th>20</th><td>2.0</td><td>0.0</td><td>2.0</td><td>0.0</td><td>2.0</td><td>2.0</td><td>0.0</td><td>2.0</td><td>2.0</td><td>2.0</td><td>0.0</td><td>0.0</td><td>2.0</td><td>2.0</td><td>0.0</td><td>2.0</td><td>2.0</td><td>0.0</td><td>0.0</td><td>2.0</td></tr><tr><th>21</th><td>2.0</td><td>0.0</td><td>2.0</td><td>0.0</td><td>2.0</td><td>2.0</td><td>0.0</td><td>2.0</td><td>2.0</td><td>2.0</td><td>0.0</td><td>0.0</td><td>2.0</td><td>2.0</td><td>0.0</td><td>2.0</td><td>2.0</td><td>0.0</td><td>0.0</td><td>2.0</td></tr><tr><th>22</th><td>2.0</td><td>0.0</td><td>2.0</td><td>0.0</td><td>2.0</td><td>2.0</td><td>0.0</td><td>2.0</td><td>2.0</td><td>2.0</td><td>0.0</td><td>0.0</td><td>2.0</td><td>2.0</td><td>1.0</td><td>2.0</td><td>2.0</td><td>0.0</td><td>0.0</td><td>2.0</td></tr><tr><th>23</th><td>2.0</td><td>0.0</td><td>2.0</td><td>0.0</td><td>2.0</td><td>2.0</td><td>0.0</td><td>2.0</td><td>2.0</td><td>2.0</td><td>0.0</td><td>0.0</td><td>2.0</td><td>2.0</td><td>1.0</td><td>2.0</td><td>2.0</td><td>0.0</td><td>0.0</td><td>2.0</td></tr><tr><th>24</th><td>2.0</td><td>0.0</td><td>2.0</td><td>0.0</td><td>2.0</td><td>2.0</td><td>0.0</td><td>2.0</td><td>2.0</td><td>2.0</td><td>0.0</td><td>0.0</td><td>2.0</td><td>2.0</td><td>1.0</td><td>2.0</td><td>2.0</td><td>0.0</td><td>0.0</td><td>2.0</td></tr><tr><th>25</th><td>2.0</td><td>0.0</td><td>2.0</td><td>0.0</td><td>2.0</td><td>2.0</td><td>0.0</td><td>2.0</td><td>2.0</td><td>2.0</td><td>0.0</td><td>0.0</td><td>2.0</td><td>2.0</td><td>0.0</td><td>2.0</td><td>2.0</td><td>0.0</td><td>0.0</td><td>2.0</td></tr><tr><th>26</th><td>2.0</td><td>0.0</td><td>2.0</td><td>1.0</td><td>2.0</td><td>2.0</td><td>0.0</td><td>2.0</td><td>2.0</td><td>2.0</td><td>0.0</td><td>0.0</td><td>2.0</td><td>2.0</td><td>0.0</td><td>2.0</td><td>2.0</td><td>0.0</td><td>0.0</td><td>2.0</td></tr><tr><th>27</th><td>2.0</td><td>0.0</td><td>2.0</td><td>1.0</td><td>2.0</td><td>2.0</td><td>0.0</td><td>2.0</td><td>2.0</td><td>2.0</td><td>0.0</td><td>0.0</td><td>2.0</td><td>2.0</td><td>0.0</td><td>2.0</td><td>2.0</td><td>0.0</td><td>0.0</td><td>2.0</td></tr><tr><th>28</th><td>2.0</td><td>0.0</td><td>2.0</td><td>0.0</td><td>2.0</td><td>2.0</td><td>0.0</td><td>2.0</td><td>2.0</td><td>2.0</td><td>0.0</td><td>0.0</td><td>2.0</td><td>2.0</td><td>0.0</td><td>2.0</td><td>2.0</td><td>0.0</td><td>0.0</td><td>2.0</td></tr><tr><th>29</th><td>2.0</td><td>0.0</td><td>2.0</td><td>0.0</td><td>2.0</td><td>2.0</td><td>1.0</td><td>2.0</td><td>2.0</td><td>2.0</td><td>0.0</td><td>0.0</td><td>2.0</td><td>2.0</td><td>0.0</td><td>2.0</td><td>2.0</td><td>0.0</td><td>0.0</td><td>2.0</td></tr><tr><th>30</th><td>2.0</td><td>0.0</td><td>2.0</td><td>0.0</td><td>2.0</td><td>2.0</td><td>0.0</td><td>2.0</td><td>2.0</td><td>2.0</td><td>0.0</td><td>0.0</td><td>2.0</td><td>2.0</td><td>0.0</td><td>2.0</td><td>2.0</td><td>0.0</td><td>0.0</td><td>2.0</td></tr><tr><th>&vellip;</th><td>&vellip;</td><td>&vellip;</td><td>&vellip;</td><td>&vellip;</td><td>&vellip;</td><td>&vellip;</td><td>&vellip;</td><td>&vellip;</td><td>&vellip;</td><td>&vellip;</td><td>&vellip;</td><td>&vellip;</td><td>&vellip;</td><td>&vellip;</td><td>&vellip;</td><td>&vellip;</td><td>&vellip;</td><td>&vellip;</td><td>&vellip;</td><td>&vellip;</td></tr></tbody></table>"
      ],
      "text/latex": [
       "\\begin{tabular}{r|cccccccccccccccccccc}\n",
       "\t& rs3020701 & rs181646587 & rs182902214 & rs184527030 & rs10409990 & rs185166611 & rs181637538 & rs186213888 & rs184010370 & rs11667161 & rs188819713 & rs182378235 & rs146361744 & rs190575937 & rs149949827 & rs117671630 & rs149171388 & rs188520640 & rs142722885 & rs146938393\\\\\n",
       "\t\\hline\n",
       "\t& Float64 & Float64 & Float64 & Float64 & Float64 & Float64 & Float64 & Float64 & Float64 & Float64 & Float64 & Float64 & Float64 & Float64 & Float64 & Float64 & Float64 & Float64 & Float64 & Float64\\\\\n",
       "\t\\hline\n",
       "\t1 & 2.0 & 0.0 & 2.0 & 0.0 & 2.0 & 2.0 & 0.0 & 2.0 & 2.0 & 2.0 & 0.0 & 0.0 & 2.0 & 2.0 & 0.0 & 2.0 & 2.0 & 0.0 & 0.0 & 2.0 \\\\\n",
       "\t2 & 2.0 & 0.0 & 2.0 & 0.0 & 2.0 & 2.0 & 0.0 & 2.0 & 2.0 & 2.0 & 0.0 & 0.0 & 2.0 & 2.0 & 0.0 & 2.0 & 2.0 & 0.0 & 0.0 & 2.0 \\\\\n",
       "\t3 & 2.0 & 0.0 & 2.0 & 0.0 & 2.0 & 2.0 & 0.0 & 2.0 & 2.0 & 2.0 & 0.0 & 0.0 & 2.0 & 2.0 & 0.0 & 2.0 & 2.0 & 0.0 & 0.0 & 2.0 \\\\\n",
       "\t4 & 2.0 & 0.0 & 2.0 & 0.0 & 2.0 & 2.0 & 0.0 & 2.0 & 2.0 & 2.0 & 0.0 & 0.0 & 2.0 & 2.0 & 0.0 & 2.0 & 2.0 & 0.0 & 0.0 & 2.0 \\\\\n",
       "\t5 & 2.0 & 0.0 & 2.0 & 0.0 & 2.0 & 2.0 & 0.0 & 2.0 & 2.0 & 2.0 & 0.0 & 0.0 & 2.0 & 2.0 & 0.0 & 2.0 & 2.0 & 0.0 & 0.0 & 2.0 \\\\\n",
       "\t6 & 2.0 & 0.0 & 2.0 & 0.0 & 2.0 & 2.0 & 0.0 & 2.0 & 2.0 & 2.0 & 0.0 & 0.0 & 2.0 & 2.0 & 0.0 & 2.0 & 2.0 & 0.0 & 0.0 & 2.0 \\\\\n",
       "\t7 & 2.0 & 0.0 & 2.0 & 0.0 & 2.0 & 2.0 & 0.0 & 2.0 & 2.0 & 2.0 & 0.0 & 0.0 & 2.0 & 2.0 & 0.0 & 2.0 & 2.0 & 0.0 & 0.0 & 2.0 \\\\\n",
       "\t8 & 2.0 & 0.0 & 2.0 & 0.0 & 2.0 & 2.0 & 0.0 & 2.0 & 2.0 & 2.0 & 0.0 & 1.0 & 2.0 & 2.0 & 0.0 & 2.0 & 2.0 & 0.0 & 0.0 & 2.0 \\\\\n",
       "\t9 & 2.0 & 0.0 & 2.0 & 0.0 & 2.0 & 2.0 & 0.0 & 2.0 & 2.0 & 2.0 & 0.0 & 0.0 & 2.0 & 2.0 & 0.0 & 2.0 & 2.0 & 0.0 & 0.0 & 2.0 \\\\\n",
       "\t10 & 2.0 & 0.0 & 2.0 & 0.0 & 2.0 & 2.0 & 0.0 & 2.0 & 2.0 & 2.0 & 0.0 & 1.0 & 2.0 & 2.0 & 0.0 & 2.0 & 2.0 & 0.0 & 0.0 & 2.0 \\\\\n",
       "\t11 & 2.0 & 0.0 & 2.0 & 0.0 & 2.0 & 2.0 & 0.0 & 2.0 & 2.0 & 2.0 & 0.0 & 0.0 & 2.0 & 2.0 & 0.0 & 2.0 & 2.0 & 0.0 & 0.0 & 2.0 \\\\\n",
       "\t12 & 2.0 & 0.0 & 2.0 & 0.0 & 2.0 & 2.0 & 0.0 & 2.0 & 2.0 & 2.0 & 0.0 & 0.0 & 2.0 & 2.0 & 0.0 & 2.0 & 2.0 & 0.0 & 0.0 & 2.0 \\\\\n",
       "\t13 & 2.0 & 0.0 & 2.0 & 0.0 & 2.0 & 2.0 & 0.0 & 2.0 & 2.0 & 2.0 & 0.0 & 0.0 & 2.0 & 2.0 & 0.0 & 2.0 & 2.0 & 0.0 & 0.0 & 2.0 \\\\\n",
       "\t14 & 2.0 & 0.0 & 2.0 & 0.0 & 2.0 & 2.0 & 0.0 & 2.0 & 2.0 & 2.0 & 0.0 & 0.0 & 2.0 & 2.0 & 0.0 & 2.0 & 2.0 & 0.0 & 0.0 & 2.0 \\\\\n",
       "\t15 & 2.0 & 0.0 & 2.0 & 0.0 & 2.0 & 2.0 & 0.0 & 2.0 & 2.0 & 2.0 & 0.0 & 0.0 & 2.0 & 2.0 & 0.0 & 2.0 & 2.0 & 0.0 & 0.0 & 2.0 \\\\\n",
       "\t16 & 2.0 & 0.0 & 2.0 & 0.0 & 2.0 & 2.0 & 0.0 & 2.0 & 2.0 & 2.0 & 0.0 & 0.0 & 2.0 & 2.0 & 1.0 & 2.0 & 2.0 & 0.0 & 0.0 & 2.0 \\\\\n",
       "\t17 & 2.0 & 0.0 & 2.0 & 0.0 & 2.0 & 2.0 & 0.0 & 2.0 & 2.0 & 2.0 & 0.0 & 0.0 & 2.0 & 2.0 & 0.0 & 2.0 & 2.0 & 0.0 & 0.0 & 2.0 \\\\\n",
       "\t18 & 2.0 & 0.0 & 2.0 & 0.0 & 2.0 & 2.0 & 0.0 & 2.0 & 2.0 & 2.0 & 0.0 & 0.0 & 2.0 & 2.0 & 0.0 & 2.0 & 2.0 & 0.0 & 0.0 & 2.0 \\\\\n",
       "\t19 & 2.0 & 0.0 & 2.0 & 0.0 & 2.0 & 2.0 & 0.0 & 2.0 & 2.0 & 2.0 & 0.0 & 0.0 & 2.0 & 2.0 & 0.0 & 2.0 & 2.0 & 0.0 & 0.0 & 2.0 \\\\\n",
       "\t20 & 2.0 & 0.0 & 2.0 & 0.0 & 2.0 & 2.0 & 0.0 & 2.0 & 2.0 & 2.0 & 0.0 & 0.0 & 2.0 & 2.0 & 0.0 & 2.0 & 2.0 & 0.0 & 0.0 & 2.0 \\\\\n",
       "\t21 & 2.0 & 0.0 & 2.0 & 0.0 & 2.0 & 2.0 & 0.0 & 2.0 & 2.0 & 2.0 & 0.0 & 0.0 & 2.0 & 2.0 & 0.0 & 2.0 & 2.0 & 0.0 & 0.0 & 2.0 \\\\\n",
       "\t22 & 2.0 & 0.0 & 2.0 & 0.0 & 2.0 & 2.0 & 0.0 & 2.0 & 2.0 & 2.0 & 0.0 & 0.0 & 2.0 & 2.0 & 1.0 & 2.0 & 2.0 & 0.0 & 0.0 & 2.0 \\\\\n",
       "\t23 & 2.0 & 0.0 & 2.0 & 0.0 & 2.0 & 2.0 & 0.0 & 2.0 & 2.0 & 2.0 & 0.0 & 0.0 & 2.0 & 2.0 & 1.0 & 2.0 & 2.0 & 0.0 & 0.0 & 2.0 \\\\\n",
       "\t24 & 2.0 & 0.0 & 2.0 & 0.0 & 2.0 & 2.0 & 0.0 & 2.0 & 2.0 & 2.0 & 0.0 & 0.0 & 2.0 & 2.0 & 1.0 & 2.0 & 2.0 & 0.0 & 0.0 & 2.0 \\\\\n",
       "\t25 & 2.0 & 0.0 & 2.0 & 0.0 & 2.0 & 2.0 & 0.0 & 2.0 & 2.0 & 2.0 & 0.0 & 0.0 & 2.0 & 2.0 & 0.0 & 2.0 & 2.0 & 0.0 & 0.0 & 2.0 \\\\\n",
       "\t26 & 2.0 & 0.0 & 2.0 & 1.0 & 2.0 & 2.0 & 0.0 & 2.0 & 2.0 & 2.0 & 0.0 & 0.0 & 2.0 & 2.0 & 0.0 & 2.0 & 2.0 & 0.0 & 0.0 & 2.0 \\\\\n",
       "\t27 & 2.0 & 0.0 & 2.0 & 1.0 & 2.0 & 2.0 & 0.0 & 2.0 & 2.0 & 2.0 & 0.0 & 0.0 & 2.0 & 2.0 & 0.0 & 2.0 & 2.0 & 0.0 & 0.0 & 2.0 \\\\\n",
       "\t28 & 2.0 & 0.0 & 2.0 & 0.0 & 2.0 & 2.0 & 0.0 & 2.0 & 2.0 & 2.0 & 0.0 & 0.0 & 2.0 & 2.0 & 0.0 & 2.0 & 2.0 & 0.0 & 0.0 & 2.0 \\\\\n",
       "\t29 & 2.0 & 0.0 & 2.0 & 0.0 & 2.0 & 2.0 & 1.0 & 2.0 & 2.0 & 2.0 & 0.0 & 0.0 & 2.0 & 2.0 & 0.0 & 2.0 & 2.0 & 0.0 & 0.0 & 2.0 \\\\\n",
       "\t30 & 2.0 & 0.0 & 2.0 & 0.0 & 2.0 & 2.0 & 0.0 & 2.0 & 2.0 & 2.0 & 0.0 & 0.0 & 2.0 & 2.0 & 0.0 & 2.0 & 2.0 & 0.0 & 0.0 & 2.0 \\\\\n",
       "\t$\\dots$ & $\\dots$ & $\\dots$ & $\\dots$ & $\\dots$ & $\\dots$ & $\\dots$ & $\\dots$ & $\\dots$ & $\\dots$ & $\\dots$ & $\\dots$ & $\\dots$ & $\\dots$ & $\\dots$ & $\\dots$ & $\\dots$ & $\\dots$ & $\\dots$ & $\\dots$ & $\\dots$ \\\\\n",
       "\\end{tabular}\n"
      ],
      "text/plain": [
       "212×20 DataFrame. Omitted printing of 15 columns\n",
       "│ Row │ rs3020701 │ rs181646587 │ rs182902214 │ rs184527030 │ rs10409990 │\n",
       "│     │ \u001b[90mFloat64\u001b[39m   │ \u001b[90mFloat64\u001b[39m     │ \u001b[90mFloat64\u001b[39m     │ \u001b[90mFloat64\u001b[39m     │ \u001b[90mFloat64\u001b[39m    │\n",
       "├─────┼───────────┼─────────────┼─────────────┼─────────────┼────────────┤\n",
       "│ 1   │ 2.0       │ 0.0         │ 2.0         │ 0.0         │ 2.0        │\n",
       "│ 2   │ 2.0       │ 0.0         │ 2.0         │ 0.0         │ 2.0        │\n",
       "│ 3   │ 2.0       │ 0.0         │ 2.0         │ 0.0         │ 2.0        │\n",
       "│ 4   │ 2.0       │ 0.0         │ 2.0         │ 0.0         │ 2.0        │\n",
       "│ 5   │ 2.0       │ 0.0         │ 2.0         │ 0.0         │ 2.0        │\n",
       "│ 6   │ 2.0       │ 0.0         │ 2.0         │ 0.0         │ 2.0        │\n",
       "│ 7   │ 2.0       │ 0.0         │ 2.0         │ 0.0         │ 2.0        │\n",
       "│ 8   │ 2.0       │ 0.0         │ 2.0         │ 0.0         │ 2.0        │\n",
       "│ 9   │ 2.0       │ 0.0         │ 2.0         │ 0.0         │ 2.0        │\n",
       "│ 10  │ 2.0       │ 0.0         │ 2.0         │ 0.0         │ 2.0        │\n",
       "⋮\n",
       "│ 202 │ 2.0       │ 0.0         │ 2.0         │ 0.0         │ 2.0        │\n",
       "│ 203 │ 2.0       │ 0.0         │ 2.0         │ 0.0         │ 2.0        │\n",
       "│ 204 │ 2.0       │ 0.0         │ 2.0         │ 0.0         │ 2.0        │\n",
       "│ 205 │ 2.0       │ 0.0         │ 2.0         │ 0.0         │ 2.0        │\n",
       "│ 206 │ 2.0       │ 0.0         │ 2.0         │ 0.0         │ 2.0        │\n",
       "│ 207 │ 2.0       │ 0.0         │ 2.0         │ 0.0         │ 2.0        │\n",
       "│ 208 │ 2.0       │ 0.0         │ 2.0         │ 0.0         │ 2.0        │\n",
       "│ 209 │ 2.0       │ 0.0         │ 2.0         │ 0.0         │ 2.0        │\n",
       "│ 210 │ 2.0       │ 0.0         │ 2.0         │ 0.0         │ 2.0        │\n",
       "│ 211 │ 2.0       │ 0.0         │ 2.0         │ 0.0         │ 2.0        │\n",
       "│ 212 │ 2.0       │ 0.0         │ 2.0         │ 0.0         │ 2.0        │"
      ]
     },
     "execution_count": 28,
     "metadata": {},
     "output_type": "execute_result"
    }
   ],
   "source": [
    "geno_rare20_converted = convert(DataFrame, geno_rare_converted[:, 1:2:40])\n",
    "names!(geno_rare20_converted, Symbol.(rare_snps_for_simulation))"
   ]
  },
  {
   "cell_type": "markdown",
   "metadata": {},
   "source": [
    "### Chisquared Distribution (df = 1)\n",
    "\n",
    "For demonstration purposes, we simulate effect sizes from the Chi-squared(df = 1) distribution, where we use the minor allele frequency (maf) as x and find f(x) where f is the pdf for the Chi-squared (df = 1) density, so that the rarest SNP's have the biggest effect sizes. The effect sizes are rounded to the second digit, throughout this example. Notice there is a random +1 or -1, so that there are effects that both increase and decrease the simulated trait value.\n",
    "\n",
    "In addition to the Chi-Squared distribution, we also demo how to simulate from the Exponential distribution, where we use the minor allele frequency (maf) as x and find f(x) where f is the pdf for the Exponential density."
   ]
  },
  {
   "cell_type": "code",
   "execution_count": 29,
   "metadata": {},
   "outputs": [],
   "source": [
    "# Generating Effect Sizes from Chisquared(df = 1) density\n",
    "n = length(maf_20_rare_snps)\n",
    "chisq_coeff = zeros(n)\n",
    "\n",
    "for i in 1:n\n",
    "    chisq_coeff[i] = rand([-1, 1]) .* (0.1 / sqrt.(maf_20_rare_snps[i] .* (1 - maf_20_rare_snps[i])))\n",
    "end"
   ]
  },
  {
   "cell_type": "markdown",
   "metadata": {},
   "source": [
    "Take a look at the simulated coefficients on the left, next to the corresponding minor allele frequency. Notice the rarer SNPs have the largest absolute values for their effect sizes."
   ]
  },
  {
   "cell_type": "code",
   "execution_count": 30,
   "metadata": {},
   "outputs": [
    {
     "data": {
      "text/html": [
       "<table class=\"data-frame\"><thead><tr><th></th><th>Chisq_Coefficient</th><th>MAF_rare</th></tr><tr><th></th><th>Float64</th><th>Float64</th></tr></thead><tbody><p>20 rows × 2 columns</p><tr><th>1</th><td>-0.785</td><td>0.017</td></tr><tr><th>2</th><td>-0.847</td><td>0.014</td></tr><tr><th>3</th><td>1.034</td><td>0.009</td></tr><tr><th>4</th><td>-0.735</td><td>0.019</td></tr><tr><th>5</th><td>1.034</td><td>0.009</td></tr><tr><th>6</th><td>-1.459</td><td>0.005</td></tr><tr><th>7</th><td>1.193</td><td>0.007</td></tr><tr><th>8</th><td>-1.034</td><td>0.009</td></tr><tr><th>9</th><td>-1.193</td><td>0.007</td></tr><tr><th>10</th><td>2.062</td><td>0.002</td></tr><tr><th>11</th><td>0.847</td><td>0.014</td></tr><tr><th>12</th><td>1.459</td><td>0.005</td></tr><tr><th>13</th><td>2.062</td><td>0.002</td></tr><tr><th>14</th><td>-1.459</td><td>0.005</td></tr><tr><th>15</th><td>0.735</td><td>0.019</td></tr><tr><th>16</th><td>2.062</td><td>0.002</td></tr><tr><th>17</th><td>2.062</td><td>0.002</td></tr><tr><th>18</th><td>-2.062</td><td>0.002</td></tr><tr><th>19</th><td>0.735</td><td>0.019</td></tr><tr><th>20</th><td>-1.459</td><td>0.005</td></tr></tbody></table>"
      ],
      "text/latex": [
       "\\begin{tabular}{r|cc}\n",
       "\t& Chisq\\_Coefficient & MAF\\_rare\\\\\n",
       "\t\\hline\n",
       "\t& Float64 & Float64\\\\\n",
       "\t\\hline\n",
       "\t1 & -0.785 & 0.017 \\\\\n",
       "\t2 & -0.847 & 0.014 \\\\\n",
       "\t3 & 1.034 & 0.009 \\\\\n",
       "\t4 & -0.735 & 0.019 \\\\\n",
       "\t5 & 1.034 & 0.009 \\\\\n",
       "\t6 & -1.459 & 0.005 \\\\\n",
       "\t7 & 1.193 & 0.007 \\\\\n",
       "\t8 & -1.034 & 0.009 \\\\\n",
       "\t9 & -1.193 & 0.007 \\\\\n",
       "\t10 & 2.062 & 0.002 \\\\\n",
       "\t11 & 0.847 & 0.014 \\\\\n",
       "\t12 & 1.459 & 0.005 \\\\\n",
       "\t13 & 2.062 & 0.002 \\\\\n",
       "\t14 & -1.459 & 0.005 \\\\\n",
       "\t15 & 0.735 & 0.019 \\\\\n",
       "\t16 & 2.062 & 0.002 \\\\\n",
       "\t17 & 2.062 & 0.002 \\\\\n",
       "\t18 & -2.062 & 0.002 \\\\\n",
       "\t19 & 0.735 & 0.019 \\\\\n",
       "\t20 & -1.459 & 0.005 \\\\\n",
       "\\end{tabular}\n"
      ],
      "text/plain": [
       "20×2 DataFrame\n",
       "│ Row │ Chisq_Coefficient │ MAF_rare │\n",
       "│     │ \u001b[90mFloat64\u001b[39m           │ \u001b[90mFloat64\u001b[39m  │\n",
       "├─────┼───────────────────┼──────────┤\n",
       "│ 1   │ -0.785            │ 0.017    │\n",
       "│ 2   │ -0.847            │ 0.014    │\n",
       "│ 3   │ 1.034             │ 0.009    │\n",
       "│ 4   │ -0.735            │ 0.019    │\n",
       "│ 5   │ 1.034             │ 0.009    │\n",
       "│ 6   │ -1.459            │ 0.005    │\n",
       "│ 7   │ 1.193             │ 0.007    │\n",
       "│ 8   │ -1.034            │ 0.009    │\n",
       "│ 9   │ -1.193            │ 0.007    │\n",
       "│ 10  │ 2.062             │ 0.002    │\n",
       "│ 11  │ 0.847             │ 0.014    │\n",
       "│ 12  │ 1.459             │ 0.005    │\n",
       "│ 13  │ 2.062             │ 0.002    │\n",
       "│ 14  │ -1.459            │ 0.005    │\n",
       "│ 15  │ 0.735             │ 0.019    │\n",
       "│ 16  │ 2.062             │ 0.002    │\n",
       "│ 17  │ 2.062             │ 0.002    │\n",
       "│ 18  │ -2.062            │ 0.002    │\n",
       "│ 19  │ 0.735             │ 0.019    │\n",
       "│ 20  │ -1.459            │ 0.005    │"
      ]
     },
     "execution_count": 30,
     "metadata": {},
     "output_type": "execute_result"
    }
   ],
   "source": [
    "Ex3_rare = round.([chisq_coeff maf_20_rare_snps], digits = 3)\n",
    "Ex3_rare = DataFrame(Chisq_Coefficient = Ex3_rare[:, 1] , MAF_rare = Ex3_rare[:, 2] )"
   ]
  },
  {
   "cell_type": "code",
   "execution_count": 31,
   "metadata": {},
   "outputs": [
    {
     "data": {
      "text/plain": [
       "20-element Array{Float64,1}:\n",
       " -0.785\n",
       " -0.847\n",
       "  1.034\n",
       " -0.735\n",
       "  1.034\n",
       " -1.459\n",
       "  1.193\n",
       " -1.034\n",
       " -1.193\n",
       "  2.062\n",
       "  0.847\n",
       "  1.459\n",
       "  2.062\n",
       " -1.459\n",
       "  0.735\n",
       "  2.062\n",
       "  2.062\n",
       " -2.062\n",
       "  0.735\n",
       " -1.459"
      ]
     },
     "execution_count": 31,
     "metadata": {},
     "output_type": "execute_result"
    }
   ],
   "source": [
    "simulated_effectsizes_chisq = Ex3_rare[:, 1]"
   ]
  },
  {
   "cell_type": "markdown",
   "metadata": {},
   "source": [
    "## Function for Mean Model Expression\n",
    "\n",
    "In some cases a large number of variants may be used for simulation. Thus, in this example we create a function where the user inputs a vector of coefficients and a vector of variants for simulation, then the function outputs the mean model expression. \n",
    "\n",
    "The function `FixedEffectTerms`, creates the proper evaluated expression for the simulation process, using the specified vectors of coefficients and snp names. The function outputs `evaluated_fixed_expression` which will be used to estimate the mean effect, `μ` in our mixed effects model. We make use of this function in this example, instead of having to write out all 20 of the coefficients and variant locus names."
   ]
  },
  {
   "cell_type": "code",
   "execution_count": 32,
   "metadata": {},
   "outputs": [
    {
     "data": {
      "text/plain": [
       "20-element Array{SubString{String},1}:\n",
       " \"rs3020701\"  \n",
       " \"rs181646587\"\n",
       " \"rs182902214\"\n",
       " \"rs184527030\"\n",
       " \"rs10409990\" \n",
       " \"rs185166611\"\n",
       " \"rs181637538\"\n",
       " \"rs186213888\"\n",
       " \"rs184010370\"\n",
       " \"rs11667161\" \n",
       " \"rs188819713\"\n",
       " \"rs182378235\"\n",
       " \"rs146361744\"\n",
       " \"rs190575937\"\n",
       " \"rs149949827\"\n",
       " \"rs117671630\"\n",
       " \"rs149171388\"\n",
       " \"rs188520640\"\n",
       " \"rs142722885\"\n",
       " \"rs146938393\""
      ]
     },
     "execution_count": 32,
     "metadata": {},
     "output_type": "execute_result"
    }
   ],
   "source": [
    "rare_snps_for_simulation"
   ]
  },
  {
   "cell_type": "code",
   "execution_count": 33,
   "metadata": {},
   "outputs": [
    {
     "data": {
      "text/plain": [
       "FixedEffectTerms (generic function with 1 method)"
      ]
     },
     "execution_count": 33,
     "metadata": {},
     "output_type": "execute_result"
    }
   ],
   "source": [
    "function FixedEffectTerms(effectsizes::AbstractVecOrMat, snps::AbstractVecOrMat)\n",
    " # implementation\n",
    "    fixed_terms = \"\"\n",
    "for i in 1:length(simulated_effectsizes_chisq) - 1\n",
    "expression = \" + \" * string(simulated_effectsizes_chisq[i]) * \"(\" * rare_snps_for_simulation[i] * \")\"\n",
    "    fixed_terms = fixed_terms * expression\n",
    "end\n",
    "    return String(fixed_terms)\n",
    "end\n"
   ]
  },
  {
   "cell_type": "code",
   "execution_count": 34,
   "metadata": {},
   "outputs": [
    {
     "data": {
      "text/plain": [
       "\" + -0.785(rs3020701) + -0.847(rs181646587) + 1.034(rs182902214) + -0.735(rs184527030) + 1.034(rs10409990) + -1.459(rs185166611) + 1.193(rs181637538) + -1.034(rs186213888) + -1.193(rs184010370) + 2.062(rs11667161) + 0.847(rs188819713) + 1.459(rs182378235) + 2.062(rs146361744) + -1.459(rs190575937) + 0.735(rs149949827) + 2.062(rs117671630) + 2.062(rs149171388) + -2.062(rs188520640) + 0.735(rs142722885)\""
      ]
     },
     "execution_count": 34,
     "metadata": {},
     "output_type": "execute_result"
    }
   ],
   "source": [
    "mean_formula_rare = FixedEffectTerms(simulated_effectsizes_chisq, rare_snps_for_simulation)"
   ]
  },
  {
   "cell_type": "markdown",
   "metadata": {},
   "source": [
    "Example 3: Single Trait, Rare Variants\n",
    "\n",
    "$$\n",
    "Y ∼ N(μ_{20raresnps}, 4* 2GRM + 2I, n_{reps} = 100)$$"
   ]
  },
  {
   "cell_type": "code",
   "execution_count": 35,
   "metadata": {},
   "outputs": [
    {
     "data": {
      "text/plain": [
       "100-element Array{DataFrame,1}:\n",
       " 212×1 DataFrame\n",
       "│ Row │ trait1  │\n",
       "│     │ \u001b[90mFloat64\u001b[39m │\n",
       "├─────┼─────────┤\n",
       "│ 1   │ 8.43456 │\n",
       "│ 2   │ 12.8785 │\n",
       "│ 3   │ 5.11326 │\n",
       "│ 4   │ 7.45081 │\n",
       "│ 5   │ 10.4226 │\n",
       "│ 6   │ 12.3634 │\n",
       "│ 7   │ 11.8652 │\n",
       "│ 8   │ 9.9612  │\n",
       "│ 9   │ 12.4386 │\n",
       "│ 10  │ 10.3051 │\n",
       "⋮\n",
       "│ 202 │ 10.0173 │\n",
       "│ 203 │ 11.8982 │\n",
       "│ 204 │ 5.48018 │\n",
       "│ 205 │ 7.89105 │\n",
       "│ 206 │ 10.0517 │\n",
       "│ 207 │ 6.53909 │\n",
       "│ 208 │ 6.7012  │\n",
       "│ 209 │ 12.7953 │\n",
       "│ 210 │ 1.41336 │\n",
       "│ 211 │ 5.46968 │\n",
       "│ 212 │ 12.5289 │\n",
       " 212×1 DataFrame\n",
       "│ Row │ trait1  │\n",
       "│     │ \u001b[90mFloat64\u001b[39m │\n",
       "├─────┼─────────┤\n",
       "│ 1   │ 7.37923 │\n",
       "│ 2   │ 6.90418 │\n",
       "│ 3   │ 12.7443 │\n",
       "│ 4   │ 10.1706 │\n",
       "│ 5   │ 11.8944 │\n",
       "│ 6   │ 14.17   │\n",
       "│ 7   │ 7.76409 │\n",
       "│ 8   │ 8.60008 │\n",
       "│ 9   │ 7.77017 │\n",
       "│ 10  │ 8.90903 │\n",
       "⋮\n",
       "│ 202 │ 2.54868 │\n",
       "│ 203 │ 10.3961 │\n",
       "│ 204 │ 11.9399 │\n",
       "│ 205 │ 4.77159 │\n",
       "│ 206 │ 8.43463 │\n",
       "│ 207 │ 11.6535 │\n",
       "│ 208 │ 9.77956 │\n",
       "│ 209 │ 10.0108 │\n",
       "│ 210 │ 5.16753 │\n",
       "│ 211 │ 6.52008 │\n",
       "│ 212 │ 10.4702 │\n",
       " 212×1 DataFrame\n",
       "│ Row │ trait1  │\n",
       "│     │ \u001b[90mFloat64\u001b[39m │\n",
       "├─────┼─────────┤\n",
       "│ 1   │ 6.34614 │\n",
       "│ 2   │ 10.7307 │\n",
       "│ 3   │ 11.9033 │\n",
       "│ 4   │ 11.7302 │\n",
       "│ 5   │ 10.2598 │\n",
       "│ 6   │ 8.40907 │\n",
       "│ 7   │ 10.1697 │\n",
       "│ 8   │ 11.2457 │\n",
       "│ 9   │ 10.8553 │\n",
       "│ 10  │ 10.1983 │\n",
       "⋮\n",
       "│ 202 │ 10.8619 │\n",
       "│ 203 │ 11.2852 │\n",
       "│ 204 │ 10.962  │\n",
       "│ 205 │ 3.85604 │\n",
       "│ 206 │ 6.75435 │\n",
       "│ 207 │ 8.64389 │\n",
       "│ 208 │ 9.86088 │\n",
       "│ 209 │ 12.6161 │\n",
       "│ 210 │ 11.8065 │\n",
       "│ 211 │ 10.5115 │\n",
       "│ 212 │ 4.36814 │\n",
       " 212×1 DataFrame\n",
       "│ Row │ trait1  │\n",
       "│     │ \u001b[90mFloat64\u001b[39m │\n",
       "├─────┼─────────┤\n",
       "│ 1   │ 5.43432 │\n",
       "│ 2   │ 12.1221 │\n",
       "│ 3   │ 10.7759 │\n",
       "│ 4   │ 6.15071 │\n",
       "│ 5   │ 10.0701 │\n",
       "│ 6   │ 9.1414  │\n",
       "│ 7   │ 11.4785 │\n",
       "│ 8   │ 12.3461 │\n",
       "│ 9   │ 7.78115 │\n",
       "│ 10  │ 9.83901 │\n",
       "⋮\n",
       "│ 202 │ 8.18789 │\n",
       "│ 203 │ 8.83744 │\n",
       "│ 204 │ 7.58364 │\n",
       "│ 205 │ 7.09462 │\n",
       "│ 206 │ 9.85877 │\n",
       "│ 207 │ 7.37373 │\n",
       "│ 208 │ 8.87276 │\n",
       "│ 209 │ 14.6859 │\n",
       "│ 210 │ 9.5665  │\n",
       "│ 211 │ 5.92879 │\n",
       "│ 212 │ 11.3336 │\n",
       " 212×1 DataFrame\n",
       "│ Row │ trait1  │\n",
       "│     │ \u001b[90mFloat64\u001b[39m │\n",
       "├─────┼─────────┤\n",
       "│ 1   │ 8.47344 │\n",
       "│ 2   │ 6.09345 │\n",
       "│ 3   │ 7.86929 │\n",
       "│ 4   │ 6.13536 │\n",
       "│ 5   │ 8.63234 │\n",
       "│ 6   │ 10.6861 │\n",
       "│ 7   │ 11.2425 │\n",
       "│ 8   │ 13.2973 │\n",
       "│ 9   │ 8.76897 │\n",
       "│ 10  │ 12.4108 │\n",
       "⋮\n",
       "│ 202 │ 8.269   │\n",
       "│ 203 │ 9.8406  │\n",
       "│ 204 │ 6.42308 │\n",
       "│ 205 │ 7.34433 │\n",
       "│ 206 │ 10.5803 │\n",
       "│ 207 │ 14.072  │\n",
       "│ 208 │ 10.6373 │\n",
       "│ 209 │ 7.95389 │\n",
       "│ 210 │ 5.20031 │\n",
       "│ 211 │ 11.5351 │\n",
       "│ 212 │ 6.74553 │\n",
       " 212×1 DataFrame\n",
       "│ Row │ trait1  │\n",
       "│     │ \u001b[90mFloat64\u001b[39m │\n",
       "├─────┼─────────┤\n",
       "│ 1   │ 8.70352 │\n",
       "│ 2   │ 4.15171 │\n",
       "│ 3   │ 4.40728 │\n",
       "│ 4   │ 6.72549 │\n",
       "│ 5   │ 6.71772 │\n",
       "│ 6   │ 12.3493 │\n",
       "│ 7   │ 5.58752 │\n",
       "│ 8   │ 9.08437 │\n",
       "│ 9   │ 13.5705 │\n",
       "│ 10  │ 13.0193 │\n",
       "⋮\n",
       "│ 202 │ 5.50695 │\n",
       "│ 203 │ 8.80782 │\n",
       "│ 204 │ 6.31056 │\n",
       "│ 205 │ 10.6134 │\n",
       "│ 206 │ 2.50812 │\n",
       "│ 207 │ 13.3769 │\n",
       "│ 208 │ 11.9589 │\n",
       "│ 209 │ 6.94512 │\n",
       "│ 210 │ 12.4827 │\n",
       "│ 211 │ 14.1076 │\n",
       "│ 212 │ 11.7153 │\n",
       " 212×1 DataFrame\n",
       "│ Row │ trait1  │\n",
       "│     │ \u001b[90mFloat64\u001b[39m │\n",
       "├─────┼─────────┤\n",
       "│ 1   │ 7.67414 │\n",
       "│ 2   │ 7.57539 │\n",
       "│ 3   │ 11.054  │\n",
       "│ 4   │ 10.8387 │\n",
       "│ 5   │ 7.59399 │\n",
       "│ 6   │ 10.1388 │\n",
       "│ 7   │ 10.4706 │\n",
       "│ 8   │ 10.4159 │\n",
       "│ 9   │ 9.80477 │\n",
       "│ 10  │ 10.3399 │\n",
       "⋮\n",
       "│ 202 │ 8.66238 │\n",
       "│ 203 │ 5.20905 │\n",
       "│ 204 │ 8.43595 │\n",
       "│ 205 │ 11.2199 │\n",
       "│ 206 │ 12.295  │\n",
       "│ 207 │ 4.10248 │\n",
       "│ 208 │ 7.69252 │\n",
       "│ 209 │ 12.3151 │\n",
       "│ 210 │ 10.8324 │\n",
       "│ 211 │ 5.86254 │\n",
       "│ 212 │ 10.5864 │\n",
       " 212×1 DataFrame\n",
       "│ Row │ trait1  │\n",
       "│     │ \u001b[90mFloat64\u001b[39m │\n",
       "├─────┼─────────┤\n",
       "│ 1   │ 6.71529 │\n",
       "│ 2   │ 5.79109 │\n",
       "│ 3   │ 7.07914 │\n",
       "│ 4   │ 8.23048 │\n",
       "│ 5   │ 8.13323 │\n",
       "│ 6   │ 8.59288 │\n",
       "│ 7   │ 8.82828 │\n",
       "│ 8   │ 10.3158 │\n",
       "│ 9   │ 6.9554  │\n",
       "│ 10  │ 10.2941 │\n",
       "⋮\n",
       "│ 202 │ 5.65642 │\n",
       "│ 203 │ 9.01157 │\n",
       "│ 204 │ 11.754  │\n",
       "│ 205 │ 5.14729 │\n",
       "│ 206 │ 8.21572 │\n",
       "│ 207 │ 11.7297 │\n",
       "│ 208 │ 11.1488 │\n",
       "│ 209 │ 11.9926 │\n",
       "│ 210 │ 5.30231 │\n",
       "│ 211 │ 13.4362 │\n",
       "│ 212 │ 5.80549 │\n",
       " 212×1 DataFrame\n",
       "│ Row │ trait1  │\n",
       "│     │ \u001b[90mFloat64\u001b[39m │\n",
       "├─────┼─────────┤\n",
       "│ 1   │ 12.3018 │\n",
       "│ 2   │ 10.0161 │\n",
       "│ 3   │ 8.68026 │\n",
       "│ 4   │ 15.6799 │\n",
       "│ 5   │ 12.0219 │\n",
       "│ 6   │ 5.15943 │\n",
       "│ 7   │ 13.31   │\n",
       "│ 8   │ 9.39517 │\n",
       "│ 9   │ 9.14593 │\n",
       "│ 10  │ 9.31061 │\n",
       "⋮\n",
       "│ 202 │ 7.00887 │\n",
       "│ 203 │ 4.15559 │\n",
       "│ 204 │ 8.47725 │\n",
       "│ 205 │ 6.24412 │\n",
       "│ 206 │ 8.23922 │\n",
       "│ 207 │ 11.2837 │\n",
       "│ 208 │ 6.69417 │\n",
       "│ 209 │ 9.21454 │\n",
       "│ 210 │ 8.92265 │\n",
       "│ 211 │ 4.517   │\n",
       "│ 212 │ 6.83594 │\n",
       " 212×1 DataFrame\n",
       "│ Row │ trait1  │\n",
       "│     │ \u001b[90mFloat64\u001b[39m │\n",
       "├─────┼─────────┤\n",
       "│ 1   │ 12.817  │\n",
       "│ 2   │ 9.13623 │\n",
       "│ 3   │ 5.64881 │\n",
       "│ 4   │ 10.7083 │\n",
       "│ 5   │ 10.3232 │\n",
       "│ 6   │ 12.5932 │\n",
       "│ 7   │ 9.26935 │\n",
       "│ 8   │ 11.0807 │\n",
       "│ 9   │ 6.97918 │\n",
       "│ 10  │ 8.84444 │\n",
       "⋮\n",
       "│ 202 │ 5.38262 │\n",
       "│ 203 │ 11.3695 │\n",
       "│ 204 │ 11.0964 │\n",
       "│ 205 │ 6.93722 │\n",
       "│ 206 │ 9.88867 │\n",
       "│ 207 │ 9.83227 │\n",
       "│ 208 │ 7.84938 │\n",
       "│ 209 │ 9.42956 │\n",
       "│ 210 │ 11.3198 │\n",
       "│ 211 │ 7.90982 │\n",
       "│ 212 │ 12.222  │\n",
       " 212×1 DataFrame\n",
       "│ Row │ trait1  │\n",
       "│     │ \u001b[90mFloat64\u001b[39m │\n",
       "├─────┼─────────┤\n",
       "│ 1   │ 11.7401 │\n",
       "│ 2   │ 8.34557 │\n",
       "│ 3   │ 6.59277 │\n",
       "│ 4   │ 9.94327 │\n",
       "│ 5   │ 12.7267 │\n",
       "│ 6   │ 11.0456 │\n",
       "│ 7   │ 5.93744 │\n",
       "│ 8   │ 14.4025 │\n",
       "│ 9   │ 8.74678 │\n",
       "│ 10  │ 9.53532 │\n",
       "⋮\n",
       "│ 202 │ 8.05649 │\n",
       "│ 203 │ 5.53978 │\n",
       "│ 204 │ 9.96307 │\n",
       "│ 205 │ 5.70638 │\n",
       "│ 206 │ 8.30363 │\n",
       "│ 207 │ 7.25396 │\n",
       "│ 208 │ 11.501  │\n",
       "│ 209 │ 8.32974 │\n",
       "│ 210 │ 6.29273 │\n",
       "│ 211 │ 8.8085  │\n",
       "│ 212 │ 9.92922 │\n",
       " 212×1 DataFrame\n",
       "│ Row │ trait1  │\n",
       "│     │ \u001b[90mFloat64\u001b[39m │\n",
       "├─────┼─────────┤\n",
       "│ 1   │ 8.83421 │\n",
       "│ 2   │ 8.61339 │\n",
       "│ 3   │ 4.93006 │\n",
       "│ 4   │ 6.88916 │\n",
       "│ 5   │ 8.80197 │\n",
       "│ 6   │ 7.54372 │\n",
       "│ 7   │ 10.1519 │\n",
       "│ 8   │ 12.884  │\n",
       "│ 9   │ 9.47608 │\n",
       "│ 10  │ 10.7535 │\n",
       "⋮\n",
       "│ 202 │ 10.2438 │\n",
       "│ 203 │ 8.45552 │\n",
       "│ 204 │ 8.80704 │\n",
       "│ 205 │ 5.62484 │\n",
       "│ 206 │ 8.97923 │\n",
       "│ 207 │ 10.306  │\n",
       "│ 208 │ 10.8152 │\n",
       "│ 209 │ 13.9749 │\n",
       "│ 210 │ 6.82654 │\n",
       "│ 211 │ 11.4066 │\n",
       "│ 212 │ 5.27222 │\n",
       " 212×1 DataFrame\n",
       "│ Row │ trait1  │\n",
       "│     │ \u001b[90mFloat64\u001b[39m │\n",
       "├─────┼─────────┤\n",
       "│ 1   │ 9.32729 │\n",
       "│ 2   │ 10.4623 │\n",
       "│ 3   │ 12.5008 │\n",
       "│ 4   │ 12.2171 │\n",
       "│ 5   │ 11.3246 │\n",
       "│ 6   │ 3.40171 │\n",
       "│ 7   │ 9.06778 │\n",
       "│ 8   │ 7.74513 │\n",
       "│ 9   │ 5.41668 │\n",
       "│ 10  │ 8.29496 │\n",
       "⋮\n",
       "│ 202 │ 9.30197 │\n",
       "│ 203 │ 12.8274 │\n",
       "│ 204 │ 8.31806 │\n",
       "│ 205 │ 4.34208 │\n",
       "│ 206 │ 8.02468 │\n",
       "│ 207 │ 10.325  │\n",
       "│ 208 │ 12.0867 │\n",
       "│ 209 │ 7.12    │\n",
       "│ 210 │ 10.6249 │\n",
       "│ 211 │ 9.49247 │\n",
       "│ 212 │ 11.7429 │\n",
       " ⋮                                                                                                                                                                                                                                                                                                                                                                                                                                                                          \n",
       " 212×1 DataFrame\n",
       "│ Row │ trait1  │\n",
       "│     │ \u001b[90mFloat64\u001b[39m │\n",
       "├─────┼─────────┤\n",
       "│ 1   │ 8.02311 │\n",
       "│ 2   │ 8.8226  │\n",
       "│ 3   │ 6.34271 │\n",
       "│ 4   │ 11.223  │\n",
       "│ 5   │ 10.7286 │\n",
       "│ 6   │ 9.22325 │\n",
       "│ 7   │ 6.38119 │\n",
       "│ 8   │ 8.50889 │\n",
       "│ 9   │ 7.68987 │\n",
       "│ 10  │ 11.0027 │\n",
       "⋮\n",
       "│ 202 │ 13.1475 │\n",
       "│ 203 │ 6.94378 │\n",
       "│ 204 │ 10.1517 │\n",
       "│ 205 │ 7.94047 │\n",
       "│ 206 │ 11.4362 │\n",
       "│ 207 │ 5.30509 │\n",
       "│ 208 │ 8.64561 │\n",
       "│ 209 │ 8.63415 │\n",
       "│ 210 │ 5.03947 │\n",
       "│ 211 │ 5.24195 │\n",
       "│ 212 │ 9.81677 │\n",
       " 212×1 DataFrame\n",
       "│ Row │ trait1  │\n",
       "│     │ \u001b[90mFloat64\u001b[39m │\n",
       "├─────┼─────────┤\n",
       "│ 1   │ 8.61086 │\n",
       "│ 2   │ 8.25441 │\n",
       "│ 3   │ 7.17806 │\n",
       "│ 4   │ 6.22994 │\n",
       "│ 5   │ 10.9016 │\n",
       "│ 6   │ 9.87492 │\n",
       "│ 7   │ 5.10193 │\n",
       "│ 8   │ 14.2212 │\n",
       "│ 9   │ 9.21116 │\n",
       "│ 10  │ 14.5043 │\n",
       "⋮\n",
       "│ 202 │ 7.96903 │\n",
       "│ 203 │ 8.53125 │\n",
       "│ 204 │ 11.0508 │\n",
       "│ 205 │ 9.09771 │\n",
       "│ 206 │ 9.48247 │\n",
       "│ 207 │ 13.4386 │\n",
       "│ 208 │ 9.3193  │\n",
       "│ 209 │ 7.50826 │\n",
       "│ 210 │ 11.5378 │\n",
       "│ 211 │ 9.15983 │\n",
       "│ 212 │ 10.7664 │\n",
       " 212×1 DataFrame\n",
       "│ Row │ trait1  │\n",
       "│     │ \u001b[90mFloat64\u001b[39m │\n",
       "├─────┼─────────┤\n",
       "│ 1   │ 5.42905 │\n",
       "│ 2   │ 10.1916 │\n",
       "│ 3   │ 11.2047 │\n",
       "│ 4   │ 11.0614 │\n",
       "│ 5   │ 10.4602 │\n",
       "│ 6   │ 10.1604 │\n",
       "│ 7   │ 7.89194 │\n",
       "│ 8   │ 9.47236 │\n",
       "│ 9   │ 7.53692 │\n",
       "│ 10  │ 8.80697 │\n",
       "⋮\n",
       "│ 202 │ 4.76624 │\n",
       "│ 203 │ 6.10675 │\n",
       "│ 204 │ 7.80261 │\n",
       "│ 205 │ 12.745  │\n",
       "│ 206 │ 11.3412 │\n",
       "│ 207 │ 7.35829 │\n",
       "│ 208 │ 10.2741 │\n",
       "│ 209 │ 11.2814 │\n",
       "│ 210 │ 10.0511 │\n",
       "│ 211 │ 6.42498 │\n",
       "│ 212 │ 5.8449  │\n",
       " 212×1 DataFrame\n",
       "│ Row │ trait1  │\n",
       "│     │ \u001b[90mFloat64\u001b[39m │\n",
       "├─────┼─────────┤\n",
       "│ 1   │ 6.23332 │\n",
       "│ 2   │ 9.38286 │\n",
       "│ 3   │ 9.42335 │\n",
       "│ 4   │ 7.65291 │\n",
       "│ 5   │ 8.06248 │\n",
       "│ 6   │ 12.583  │\n",
       "│ 7   │ 10.864  │\n",
       "│ 8   │ 10.3039 │\n",
       "│ 9   │ 9.66436 │\n",
       "│ 10  │ 14.0143 │\n",
       "⋮\n",
       "│ 202 │ 8.81274 │\n",
       "│ 203 │ 9.25392 │\n",
       "│ 204 │ 11.7031 │\n",
       "│ 205 │ 11.4346 │\n",
       "│ 206 │ 8.51458 │\n",
       "│ 207 │ 8.5965  │\n",
       "│ 208 │ 10.183  │\n",
       "│ 209 │ 9.41673 │\n",
       "│ 210 │ 11.4269 │\n",
       "│ 211 │ 9.60932 │\n",
       "│ 212 │ 9.19497 │\n",
       " 212×1 DataFrame\n",
       "│ Row │ trait1  │\n",
       "│     │ \u001b[90mFloat64\u001b[39m │\n",
       "├─────┼─────────┤\n",
       "│ 1   │ 5.05622 │\n",
       "│ 2   │ 9.30552 │\n",
       "│ 3   │ 7.60233 │\n",
       "│ 4   │ 8.34541 │\n",
       "│ 5   │ 10.4216 │\n",
       "│ 6   │ 10.7458 │\n",
       "│ 7   │ 5.52265 │\n",
       "│ 8   │ 9.06278 │\n",
       "│ 9   │ 9.20816 │\n",
       "│ 10  │ 11.0186 │\n",
       "⋮\n",
       "│ 202 │ 5.10248 │\n",
       "│ 203 │ 6.71375 │\n",
       "│ 204 │ 6.16494 │\n",
       "│ 205 │ 6.98702 │\n",
       "│ 206 │ 6.81024 │\n",
       "│ 207 │ 10.2355 │\n",
       "│ 208 │ 10.4149 │\n",
       "│ 209 │ 9.09578 │\n",
       "│ 210 │ 9.44342 │\n",
       "│ 211 │ 6.61709 │\n",
       "│ 212 │ 7.88988 │\n",
       " 212×1 DataFrame\n",
       "│ Row │ trait1  │\n",
       "│     │ \u001b[90mFloat64\u001b[39m │\n",
       "├─────┼─────────┤\n",
       "│ 1   │ 13.0554 │\n",
       "│ 2   │ 6.26168 │\n",
       "│ 3   │ 5.88092 │\n",
       "│ 4   │ 11.44   │\n",
       "│ 5   │ 9.12625 │\n",
       "│ 6   │ 9.82462 │\n",
       "│ 7   │ 5.63124 │\n",
       "│ 8   │ 14.7049 │\n",
       "│ 9   │ 10.2627 │\n",
       "│ 10  │ 10.8089 │\n",
       "⋮\n",
       "│ 202 │ 8.69266 │\n",
       "│ 203 │ 7.39654 │\n",
       "│ 204 │ 8.60999 │\n",
       "│ 205 │ 2.01852 │\n",
       "│ 206 │ 8.66421 │\n",
       "│ 207 │ 8.19306 │\n",
       "│ 208 │ 10.1202 │\n",
       "│ 209 │ 6.58299 │\n",
       "│ 210 │ 9.35278 │\n",
       "│ 211 │ 5.36625 │\n",
       "│ 212 │ 7.56513 │\n",
       " 212×1 DataFrame\n",
       "│ Row │ trait1  │\n",
       "│     │ \u001b[90mFloat64\u001b[39m │\n",
       "├─────┼─────────┤\n",
       "│ 1   │ 9.75203 │\n",
       "│ 2   │ 9.21228 │\n",
       "│ 3   │ 9.44186 │\n",
       "│ 4   │ 8.51365 │\n",
       "│ 5   │ 10.4558 │\n",
       "│ 6   │ 8.63424 │\n",
       "│ 7   │ 12.097  │\n",
       "│ 8   │ 10.7347 │\n",
       "│ 9   │ 12.8347 │\n",
       "│ 10  │ 13.0976 │\n",
       "⋮\n",
       "│ 202 │ 10.172  │\n",
       "│ 203 │ 6.58229 │\n",
       "│ 204 │ 13.4749 │\n",
       "│ 205 │ 5.74277 │\n",
       "│ 206 │ 15.4443 │\n",
       "│ 207 │ 8.01506 │\n",
       "│ 208 │ 12.9604 │\n",
       "│ 209 │ 10.9931 │\n",
       "│ 210 │ 11.1156 │\n",
       "│ 211 │ 11.1193 │\n",
       "│ 212 │ 10.5118 │\n",
       " 212×1 DataFrame\n",
       "│ Row │ trait1  │\n",
       "│     │ \u001b[90mFloat64\u001b[39m │\n",
       "├─────┼─────────┤\n",
       "│ 1   │ 8.28034 │\n",
       "│ 2   │ 7.96171 │\n",
       "│ 3   │ 7.33989 │\n",
       "│ 4   │ 6.79179 │\n",
       "│ 5   │ 9.30249 │\n",
       "│ 6   │ 7.85995 │\n",
       "│ 7   │ 5.65907 │\n",
       "│ 8   │ 8.23144 │\n",
       "│ 9   │ 8.18561 │\n",
       "│ 10  │ 6.94929 │\n",
       "⋮\n",
       "│ 202 │ 7.98784 │\n",
       "│ 203 │ 7.98463 │\n",
       "│ 204 │ 10.6821 │\n",
       "│ 205 │ 3.59332 │\n",
       "│ 206 │ 10.8952 │\n",
       "│ 207 │ 8.89795 │\n",
       "│ 208 │ 8.96682 │\n",
       "│ 209 │ 3.06506 │\n",
       "│ 210 │ 8.41718 │\n",
       "│ 211 │ 5.07872 │\n",
       "│ 212 │ 5.61768 │\n",
       " 212×1 DataFrame\n",
       "│ Row │ trait1  │\n",
       "│     │ \u001b[90mFloat64\u001b[39m │\n",
       "├─────┼─────────┤\n",
       "│ 1   │ 14.4429 │\n",
       "│ 2   │ 7.5342  │\n",
       "│ 3   │ 12.9352 │\n",
       "│ 4   │ 13.694  │\n",
       "│ 5   │ 10.6202 │\n",
       "│ 6   │ 9.86214 │\n",
       "│ 7   │ 6.23227 │\n",
       "│ 8   │ 8.88308 │\n",
       "│ 9   │ 9.3465  │\n",
       "│ 10  │ 11.5759 │\n",
       "⋮\n",
       "│ 202 │ 11.3358 │\n",
       "│ 203 │ 8.42307 │\n",
       "│ 204 │ 8.05316 │\n",
       "│ 205 │ 12.1755 │\n",
       "│ 206 │ 9.08925 │\n",
       "│ 207 │ 6.72182 │\n",
       "│ 208 │ 11.0145 │\n",
       "│ 209 │ 4.88011 │\n",
       "│ 210 │ 10.134  │\n",
       "│ 211 │ 13.4079 │\n",
       "│ 212 │ 7.44095 │\n",
       " 212×1 DataFrame\n",
       "│ Row │ trait1  │\n",
       "│     │ \u001b[90mFloat64\u001b[39m │\n",
       "├─────┼─────────┤\n",
       "│ 1   │ 8.81925 │\n",
       "│ 2   │ 10.6543 │\n",
       "│ 3   │ 8.19554 │\n",
       "│ 4   │ 9.92429 │\n",
       "│ 5   │ 7.21223 │\n",
       "│ 6   │ 10.3501 │\n",
       "│ 7   │ 9.2338  │\n",
       "│ 8   │ 5.36273 │\n",
       "│ 9   │ 9.61667 │\n",
       "│ 10  │ 9.62435 │\n",
       "⋮\n",
       "│ 202 │ 9.66889 │\n",
       "│ 203 │ 7.60504 │\n",
       "│ 204 │ 12.5923 │\n",
       "│ 205 │ 6.98701 │\n",
       "│ 206 │ 7.34554 │\n",
       "│ 207 │ 8.6693  │\n",
       "│ 208 │ 9.78508 │\n",
       "│ 209 │ 12.9429 │\n",
       "│ 210 │ 7.03882 │\n",
       "│ 211 │ 8.93066 │\n",
       "│ 212 │ 8.28374 │\n",
       " 212×1 DataFrame\n",
       "│ Row │ trait1  │\n",
       "│     │ \u001b[90mFloat64\u001b[39m │\n",
       "├─────┼─────────┤\n",
       "│ 1   │ 4.08939 │\n",
       "│ 2   │ 5.6194  │\n",
       "│ 3   │ 13.6721 │\n",
       "│ 4   │ 9.16636 │\n",
       "│ 5   │ 9.88961 │\n",
       "│ 6   │ 13.9093 │\n",
       "│ 7   │ 9.73818 │\n",
       "│ 8   │ 10.6973 │\n",
       "│ 9   │ 9.08965 │\n",
       "│ 10  │ 9.45437 │\n",
       "⋮\n",
       "│ 202 │ 9.04682 │\n",
       "│ 203 │ 11.8514 │\n",
       "│ 204 │ 7.53093 │\n",
       "│ 205 │ 11.996  │\n",
       "│ 206 │ 9.04234 │\n",
       "│ 207 │ 9.68833 │\n",
       "│ 208 │ 10.3371 │\n",
       "│ 209 │ 6.66099 │\n",
       "│ 210 │ 5.78335 │\n",
       "│ 211 │ 12.5505 │\n",
       "│ 212 │ 4.19347 │\n",
       " 212×1 DataFrame\n",
       "│ Row │ trait1  │\n",
       "│     │ \u001b[90mFloat64\u001b[39m │\n",
       "├─────┼─────────┤\n",
       "│ 1   │ 7.67128 │\n",
       "│ 2   │ 7.23544 │\n",
       "│ 3   │ 10.6302 │\n",
       "│ 4   │ 8.55526 │\n",
       "│ 5   │ 7.49093 │\n",
       "│ 6   │ 4.97822 │\n",
       "│ 7   │ 8.10689 │\n",
       "│ 8   │ 12.4723 │\n",
       "│ 9   │ 4.99074 │\n",
       "│ 10  │ 9.11703 │\n",
       "⋮\n",
       "│ 202 │ 8.09404 │\n",
       "│ 203 │ 7.39414 │\n",
       "│ 204 │ 5.75954 │\n",
       "│ 205 │ 6.84266 │\n",
       "│ 206 │ 10.2605 │\n",
       "│ 207 │ 10.0395 │\n",
       "│ 208 │ 12.9149 │\n",
       "│ 209 │ 8.59797 │\n",
       "│ 210 │ 8.69077 │\n",
       "│ 211 │ 9.03441 │\n",
       "│ 212 │ 10.587  │"
      ]
     },
     "execution_count": 35,
     "metadata": {},
     "output_type": "execute_result"
    }
   ],
   "source": [
    "rare_20_snp_model = LMMTrait([mean_formula_rare], geno_rare20_converted, 4*(2*GRM) + 2*(I_n))\n",
    "trait_rare_20_snps = simulate(rare_20_snp_model, 100)"
   ]
  },
  {
   "cell_type": "code",
   "execution_count": 36,
   "metadata": {},
   "outputs": [
    {
     "data": {
      "text/html": [
       "<table class=\"data-frame\"><thead><tr><th></th><th>variable</th><th>mean</th><th>std</th><th>min</th><th>max</th><th>eltype</th></tr><tr><th></th><th>Symbol</th><th>Float64</th><th>Float64</th><th>Float64</th><th>Float64</th><th>DataType</th></tr></thead><tbody><p>1 rows × 6 columns</p><tr><th>1</th><td>trait1</td><td>8.91518</td><td>2.66501</td><td>0.67697</td><td>16.2227</td><td>Float64</td></tr></tbody></table>"
      ],
      "text/latex": [
       "\\begin{tabular}{r|cccccc}\n",
       "\t& variable & mean & std & min & max & eltype\\\\\n",
       "\t\\hline\n",
       "\t& Symbol & Float64 & Float64 & Float64 & Float64 & DataType\\\\\n",
       "\t\\hline\n",
       "\t1 & trait1 & 8.91518 & 2.66501 & 0.67697 & 16.2227 & Float64 \\\\\n",
       "\\end{tabular}\n"
      ],
      "text/plain": [
       "1×6 DataFrame\n",
       "│ Row │ variable │ mean    │ std     │ min     │ max     │ eltype   │\n",
       "│     │ \u001b[90mSymbol\u001b[39m   │ \u001b[90mFloat64\u001b[39m │ \u001b[90mFloat64\u001b[39m │ \u001b[90mFloat64\u001b[39m │ \u001b[90mFloat64\u001b[39m │ \u001b[90mDataType\u001b[39m │\n",
       "├─────┼──────────┼─────────┼─────────┼─────────┼─────────┼──────────┤\n",
       "│ 1   │ trait1   │ 8.91518 │ 2.66501 │ 0.67697 │ 16.2227 │ Float64  │"
      ]
     },
     "execution_count": 36,
     "metadata": {},
     "output_type": "execute_result"
    }
   ],
   "source": [
    "describe(trait_rare_20_snps[1], stats = [:mean, :std, :min, :max, :eltype])"
   ]
  },
  {
   "cell_type": "markdown",
   "metadata": {},
   "source": [
    "## Saving Simulation Results to Local Machine"
   ]
  },
  {
   "cell_type": "markdown",
   "metadata": {},
   "source": [
    "Here we output the simulated trait values and corresponding genotypes for each of the 212 individuals, labeled by their pedigree ID and person ID for the first iteration of the 100 simulations. \n",
    "\n",
    "In addition, we output the simulation parameters (generated effect sizes and SNP names) used to simulate this trait."
   ]
  },
  {
   "cell_type": "code",
   "execution_count": 40,
   "metadata": {},
   "outputs": [
    {
     "data": {
      "text/html": [
       "<table class=\"data-frame\"><thead><tr><th></th><th>FamID</th><th>PID</th><th>trait1</th><th>rs3020701</th><th>rs181646587</th><th>rs182902214</th><th>rs184527030</th><th>rs10409990</th><th>rs185166611</th><th>rs181637538</th><th>rs186213888</th><th>rs184010370</th><th>rs11667161</th><th>rs188819713</th><th>rs182378235</th><th>rs146361744</th><th>rs190575937</th><th>rs149949827</th><th>rs117671630</th><th>rs149171388</th><th>rs188520640</th><th>rs142722885</th><th>rs146938393</th></tr><tr><th></th><th>Any</th><th>Any</th><th>Float64</th><th>Float64</th><th>Float64</th><th>Float64</th><th>Float64</th><th>Float64</th><th>Float64</th><th>Float64</th><th>Float64</th><th>Float64</th><th>Float64</th><th>Float64</th><th>Float64</th><th>Float64</th><th>Float64</th><th>Float64</th><th>Float64</th><th>Float64</th><th>Float64</th><th>Float64</th><th>Float64</th></tr></thead><tbody><p>212 rows × 23 columns</p><tr><th>1</th><td>1</td><td>16</td><td>8.43456</td><td>2.0</td><td>0.0</td><td>2.0</td><td>0.0</td><td>2.0</td><td>2.0</td><td>0.0</td><td>2.0</td><td>2.0</td><td>2.0</td><td>0.0</td><td>0.0</td><td>2.0</td><td>2.0</td><td>0.0</td><td>2.0</td><td>2.0</td><td>0.0</td><td>0.0</td><td>2.0</td></tr><tr><th>2</th><td>1</td><td>8228</td><td>12.8785</td><td>2.0</td><td>0.0</td><td>2.0</td><td>0.0</td><td>2.0</td><td>2.0</td><td>0.0</td><td>2.0</td><td>2.0</td><td>2.0</td><td>0.0</td><td>0.0</td><td>2.0</td><td>2.0</td><td>0.0</td><td>2.0</td><td>2.0</td><td>0.0</td><td>0.0</td><td>2.0</td></tr><tr><th>3</th><td>1</td><td>17008</td><td>5.11326</td><td>2.0</td><td>0.0</td><td>2.0</td><td>0.0</td><td>2.0</td><td>2.0</td><td>0.0</td><td>2.0</td><td>2.0</td><td>2.0</td><td>0.0</td><td>0.0</td><td>2.0</td><td>2.0</td><td>0.0</td><td>2.0</td><td>2.0</td><td>0.0</td><td>0.0</td><td>2.0</td></tr><tr><th>4</th><td>1</td><td>9218</td><td>7.45081</td><td>2.0</td><td>0.0</td><td>2.0</td><td>0.0</td><td>2.0</td><td>2.0</td><td>0.0</td><td>2.0</td><td>2.0</td><td>2.0</td><td>0.0</td><td>0.0</td><td>2.0</td><td>2.0</td><td>0.0</td><td>2.0</td><td>2.0</td><td>0.0</td><td>0.0</td><td>2.0</td></tr><tr><th>5</th><td>1</td><td>3226</td><td>10.4226</td><td>2.0</td><td>0.0</td><td>2.0</td><td>0.0</td><td>2.0</td><td>2.0</td><td>0.0</td><td>2.0</td><td>2.0</td><td>2.0</td><td>0.0</td><td>0.0</td><td>2.0</td><td>2.0</td><td>0.0</td><td>2.0</td><td>2.0</td><td>0.0</td><td>0.0</td><td>2.0</td></tr><tr><th>6</th><td>2</td><td>29</td><td>12.3634</td><td>2.0</td><td>0.0</td><td>2.0</td><td>0.0</td><td>2.0</td><td>2.0</td><td>0.0</td><td>2.0</td><td>2.0</td><td>2.0</td><td>0.0</td><td>0.0</td><td>2.0</td><td>2.0</td><td>0.0</td><td>2.0</td><td>2.0</td><td>0.0</td><td>0.0</td><td>2.0</td></tr><tr><th>7</th><td>2</td><td>2294</td><td>11.8652</td><td>2.0</td><td>0.0</td><td>2.0</td><td>0.0</td><td>2.0</td><td>2.0</td><td>0.0</td><td>2.0</td><td>2.0</td><td>2.0</td><td>0.0</td><td>0.0</td><td>2.0</td><td>2.0</td><td>0.0</td><td>2.0</td><td>2.0</td><td>0.0</td><td>0.0</td><td>2.0</td></tr><tr><th>8</th><td>2</td><td>3416</td><td>9.9612</td><td>2.0</td><td>0.0</td><td>2.0</td><td>0.0</td><td>2.0</td><td>2.0</td><td>0.0</td><td>2.0</td><td>2.0</td><td>2.0</td><td>0.0</td><td>1.0</td><td>2.0</td><td>2.0</td><td>0.0</td><td>2.0</td><td>2.0</td><td>0.0</td><td>0.0</td><td>2.0</td></tr><tr><th>9</th><td>2</td><td>17893</td><td>12.4386</td><td>2.0</td><td>0.0</td><td>2.0</td><td>0.0</td><td>2.0</td><td>2.0</td><td>0.0</td><td>2.0</td><td>2.0</td><td>2.0</td><td>0.0</td><td>0.0</td><td>2.0</td><td>2.0</td><td>0.0</td><td>2.0</td><td>2.0</td><td>0.0</td><td>0.0</td><td>2.0</td></tr><tr><th>10</th><td>2</td><td>6952</td><td>10.3051</td><td>2.0</td><td>0.0</td><td>2.0</td><td>0.0</td><td>2.0</td><td>2.0</td><td>0.0</td><td>2.0</td><td>2.0</td><td>2.0</td><td>0.0</td><td>1.0</td><td>2.0</td><td>2.0</td><td>0.0</td><td>2.0</td><td>2.0</td><td>0.0</td><td>0.0</td><td>2.0</td></tr><tr><th>11</th><td>2</td><td>14695</td><td>13.3367</td><td>2.0</td><td>0.0</td><td>2.0</td><td>0.0</td><td>2.0</td><td>2.0</td><td>0.0</td><td>2.0</td><td>2.0</td><td>2.0</td><td>0.0</td><td>0.0</td><td>2.0</td><td>2.0</td><td>0.0</td><td>2.0</td><td>2.0</td><td>0.0</td><td>0.0</td><td>2.0</td></tr><tr><th>12</th><td>2</td><td>6790</td><td>7.20723</td><td>2.0</td><td>0.0</td><td>2.0</td><td>0.0</td><td>2.0</td><td>2.0</td><td>0.0</td><td>2.0</td><td>2.0</td><td>2.0</td><td>0.0</td><td>0.0</td><td>2.0</td><td>2.0</td><td>0.0</td><td>2.0</td><td>2.0</td><td>0.0</td><td>0.0</td><td>2.0</td></tr><tr><th>13</th><td>2</td><td>3916</td><td>13.0285</td><td>2.0</td><td>0.0</td><td>2.0</td><td>0.0</td><td>2.0</td><td>2.0</td><td>0.0</td><td>2.0</td><td>2.0</td><td>2.0</td><td>0.0</td><td>0.0</td><td>2.0</td><td>2.0</td><td>0.0</td><td>2.0</td><td>2.0</td><td>0.0</td><td>0.0</td><td>2.0</td></tr><tr><th>14</th><td>3</td><td>39</td><td>9.53873</td><td>2.0</td><td>0.0</td><td>2.0</td><td>0.0</td><td>2.0</td><td>2.0</td><td>0.0</td><td>2.0</td><td>2.0</td><td>2.0</td><td>0.0</td><td>0.0</td><td>2.0</td><td>2.0</td><td>0.0</td><td>2.0</td><td>2.0</td><td>0.0</td><td>0.0</td><td>2.0</td></tr><tr><th>15</th><td>3</td><td>4521</td><td>8.29678</td><td>2.0</td><td>0.0</td><td>2.0</td><td>0.0</td><td>2.0</td><td>2.0</td><td>0.0</td><td>2.0</td><td>2.0</td><td>2.0</td><td>0.0</td><td>0.0</td><td>2.0</td><td>2.0</td><td>0.0</td><td>2.0</td><td>2.0</td><td>0.0</td><td>0.0</td><td>2.0</td></tr><tr><th>16</th><td>3</td><td>8366</td><td>7.78961</td><td>2.0</td><td>0.0</td><td>2.0</td><td>0.0</td><td>2.0</td><td>2.0</td><td>0.0</td><td>2.0</td><td>2.0</td><td>2.0</td><td>0.0</td><td>0.0</td><td>2.0</td><td>2.0</td><td>1.0</td><td>2.0</td><td>2.0</td><td>0.0</td><td>0.0</td><td>2.0</td></tr><tr><th>17</th><td>3</td><td>16693</td><td>10.1063</td><td>2.0</td><td>0.0</td><td>2.0</td><td>0.0</td><td>2.0</td><td>2.0</td><td>0.0</td><td>2.0</td><td>2.0</td><td>2.0</td><td>0.0</td><td>0.0</td><td>2.0</td><td>2.0</td><td>0.0</td><td>2.0</td><td>2.0</td><td>0.0</td><td>0.0</td><td>2.0</td></tr><tr><th>18</th><td>3</td><td>21688</td><td>11.2783</td><td>2.0</td><td>0.0</td><td>2.0</td><td>0.0</td><td>2.0</td><td>2.0</td><td>0.0</td><td>2.0</td><td>2.0</td><td>2.0</td><td>0.0</td><td>0.0</td><td>2.0</td><td>2.0</td><td>0.0</td><td>2.0</td><td>2.0</td><td>0.0</td><td>0.0</td><td>2.0</td></tr><tr><th>19</th><td>3</td><td>25532</td><td>12.8036</td><td>2.0</td><td>0.0</td><td>2.0</td><td>0.0</td><td>2.0</td><td>2.0</td><td>0.0</td><td>2.0</td><td>2.0</td><td>2.0</td><td>0.0</td><td>0.0</td><td>2.0</td><td>2.0</td><td>0.0</td><td>2.0</td><td>2.0</td><td>0.0</td><td>0.0</td><td>2.0</td></tr><tr><th>20</th><td>3</td><td>26294</td><td>11.9946</td><td>2.0</td><td>0.0</td><td>2.0</td><td>0.0</td><td>2.0</td><td>2.0</td><td>0.0</td><td>2.0</td><td>2.0</td><td>2.0</td><td>0.0</td><td>0.0</td><td>2.0</td><td>2.0</td><td>0.0</td><td>2.0</td><td>2.0</td><td>0.0</td><td>0.0</td><td>2.0</td></tr><tr><th>21</th><td>3</td><td>16795</td><td>8.09665</td><td>2.0</td><td>0.0</td><td>2.0</td><td>0.0</td><td>2.0</td><td>2.0</td><td>0.0</td><td>2.0</td><td>2.0</td><td>2.0</td><td>0.0</td><td>0.0</td><td>2.0</td><td>2.0</td><td>0.0</td><td>2.0</td><td>2.0</td><td>0.0</td><td>0.0</td><td>2.0</td></tr><tr><th>22</th><td>3</td><td>17445</td><td>7.77212</td><td>2.0</td><td>0.0</td><td>2.0</td><td>0.0</td><td>2.0</td><td>2.0</td><td>0.0</td><td>2.0</td><td>2.0</td><td>2.0</td><td>0.0</td><td>0.0</td><td>2.0</td><td>2.0</td><td>1.0</td><td>2.0</td><td>2.0</td><td>0.0</td><td>0.0</td><td>2.0</td></tr><tr><th>23</th><td>3</td><td>2039</td><td>9.50653</td><td>2.0</td><td>0.0</td><td>2.0</td><td>0.0</td><td>2.0</td><td>2.0</td><td>0.0</td><td>2.0</td><td>2.0</td><td>2.0</td><td>0.0</td><td>0.0</td><td>2.0</td><td>2.0</td><td>1.0</td><td>2.0</td><td>2.0</td><td>0.0</td><td>0.0</td><td>2.0</td></tr><tr><th>24</th><td>3</td><td>2831</td><td>14.6836</td><td>2.0</td><td>0.0</td><td>2.0</td><td>0.0</td><td>2.0</td><td>2.0</td><td>0.0</td><td>2.0</td><td>2.0</td><td>2.0</td><td>0.0</td><td>0.0</td><td>2.0</td><td>2.0</td><td>1.0</td><td>2.0</td><td>2.0</td><td>0.0</td><td>0.0</td><td>2.0</td></tr><tr><th>25</th><td>4</td><td>54</td><td>9.10462</td><td>2.0</td><td>0.0</td><td>2.0</td><td>0.0</td><td>2.0</td><td>2.0</td><td>0.0</td><td>2.0</td><td>2.0</td><td>2.0</td><td>0.0</td><td>0.0</td><td>2.0</td><td>2.0</td><td>0.0</td><td>2.0</td><td>2.0</td><td>0.0</td><td>0.0</td><td>2.0</td></tr><tr><th>26</th><td>4</td><td>5072</td><td>8.40502</td><td>2.0</td><td>0.0</td><td>2.0</td><td>1.0</td><td>2.0</td><td>2.0</td><td>0.0</td><td>2.0</td><td>2.0</td><td>2.0</td><td>0.0</td><td>0.0</td><td>2.0</td><td>2.0</td><td>0.0</td><td>2.0</td><td>2.0</td><td>0.0</td><td>0.0</td><td>2.0</td></tr><tr><th>27</th><td>4</td><td>17240</td><td>6.67702</td><td>2.0</td><td>0.0</td><td>2.0</td><td>1.0</td><td>2.0</td><td>2.0</td><td>0.0</td><td>2.0</td><td>2.0</td><td>2.0</td><td>0.0</td><td>0.0</td><td>2.0</td><td>2.0</td><td>0.0</td><td>2.0</td><td>2.0</td><td>0.0</td><td>0.0</td><td>2.0</td></tr><tr><th>28</th><td>5</td><td>70</td><td>6.76635</td><td>2.0</td><td>0.0</td><td>2.0</td><td>0.0</td><td>2.0</td><td>2.0</td><td>0.0</td><td>2.0</td><td>2.0</td><td>2.0</td><td>0.0</td><td>0.0</td><td>2.0</td><td>2.0</td><td>0.0</td><td>2.0</td><td>2.0</td><td>0.0</td><td>0.0</td><td>2.0</td></tr><tr><th>29</th><td>5</td><td>24010</td><td>9.77935</td><td>2.0</td><td>0.0</td><td>2.0</td><td>0.0</td><td>2.0</td><td>2.0</td><td>1.0</td><td>2.0</td><td>2.0</td><td>2.0</td><td>0.0</td><td>0.0</td><td>2.0</td><td>2.0</td><td>0.0</td><td>2.0</td><td>2.0</td><td>0.0</td><td>0.0</td><td>2.0</td></tr><tr><th>30</th><td>5</td><td>21999</td><td>13.2846</td><td>2.0</td><td>0.0</td><td>2.0</td><td>0.0</td><td>2.0</td><td>2.0</td><td>0.0</td><td>2.0</td><td>2.0</td><td>2.0</td><td>0.0</td><td>0.0</td><td>2.0</td><td>2.0</td><td>0.0</td><td>2.0</td><td>2.0</td><td>0.0</td><td>0.0</td><td>2.0</td></tr><tr><th>&vellip;</th><td>&vellip;</td><td>&vellip;</td><td>&vellip;</td><td>&vellip;</td><td>&vellip;</td><td>&vellip;</td><td>&vellip;</td><td>&vellip;</td><td>&vellip;</td><td>&vellip;</td><td>&vellip;</td><td>&vellip;</td><td>&vellip;</td><td>&vellip;</td><td>&vellip;</td><td>&vellip;</td><td>&vellip;</td><td>&vellip;</td><td>&vellip;</td><td>&vellip;</td><td>&vellip;</td><td>&vellip;</td><td>&vellip;</td></tr></tbody></table>"
      ],
      "text/latex": [
       "\\begin{tabular}{r|ccccccccccccccccccccccc}\n",
       "\t& FamID & PID & trait1 & rs3020701 & rs181646587 & rs182902214 & rs184527030 & rs10409990 & rs185166611 & rs181637538 & rs186213888 & rs184010370 & rs11667161 & rs188819713 & rs182378235 & rs146361744 & rs190575937 & rs149949827 & rs117671630 & rs149171388 & rs188520640 & rs142722885 & rs146938393\\\\\n",
       "\t\\hline\n",
       "\t& Any & Any & Float64 & Float64 & Float64 & Float64 & Float64 & Float64 & Float64 & Float64 & Float64 & Float64 & Float64 & Float64 & Float64 & Float64 & Float64 & Float64 & Float64 & Float64 & Float64 & Float64 & Float64\\\\\n",
       "\t\\hline\n",
       "\t1 & 1 & 16 & 8.43456 & 2.0 & 0.0 & 2.0 & 0.0 & 2.0 & 2.0 & 0.0 & 2.0 & 2.0 & 2.0 & 0.0 & 0.0 & 2.0 & 2.0 & 0.0 & 2.0 & 2.0 & 0.0 & 0.0 & 2.0 \\\\\n",
       "\t2 & 1 & 8228 & 12.8785 & 2.0 & 0.0 & 2.0 & 0.0 & 2.0 & 2.0 & 0.0 & 2.0 & 2.0 & 2.0 & 0.0 & 0.0 & 2.0 & 2.0 & 0.0 & 2.0 & 2.0 & 0.0 & 0.0 & 2.0 \\\\\n",
       "\t3 & 1 & 17008 & 5.11326 & 2.0 & 0.0 & 2.0 & 0.0 & 2.0 & 2.0 & 0.0 & 2.0 & 2.0 & 2.0 & 0.0 & 0.0 & 2.0 & 2.0 & 0.0 & 2.0 & 2.0 & 0.0 & 0.0 & 2.0 \\\\\n",
       "\t4 & 1 & 9218 & 7.45081 & 2.0 & 0.0 & 2.0 & 0.0 & 2.0 & 2.0 & 0.0 & 2.0 & 2.0 & 2.0 & 0.0 & 0.0 & 2.0 & 2.0 & 0.0 & 2.0 & 2.0 & 0.0 & 0.0 & 2.0 \\\\\n",
       "\t5 & 1 & 3226 & 10.4226 & 2.0 & 0.0 & 2.0 & 0.0 & 2.0 & 2.0 & 0.0 & 2.0 & 2.0 & 2.0 & 0.0 & 0.0 & 2.0 & 2.0 & 0.0 & 2.0 & 2.0 & 0.0 & 0.0 & 2.0 \\\\\n",
       "\t6 & 2 & 29 & 12.3634 & 2.0 & 0.0 & 2.0 & 0.0 & 2.0 & 2.0 & 0.0 & 2.0 & 2.0 & 2.0 & 0.0 & 0.0 & 2.0 & 2.0 & 0.0 & 2.0 & 2.0 & 0.0 & 0.0 & 2.0 \\\\\n",
       "\t7 & 2 & 2294 & 11.8652 & 2.0 & 0.0 & 2.0 & 0.0 & 2.0 & 2.0 & 0.0 & 2.0 & 2.0 & 2.0 & 0.0 & 0.0 & 2.0 & 2.0 & 0.0 & 2.0 & 2.0 & 0.0 & 0.0 & 2.0 \\\\\n",
       "\t8 & 2 & 3416 & 9.9612 & 2.0 & 0.0 & 2.0 & 0.0 & 2.0 & 2.0 & 0.0 & 2.0 & 2.0 & 2.0 & 0.0 & 1.0 & 2.0 & 2.0 & 0.0 & 2.0 & 2.0 & 0.0 & 0.0 & 2.0 \\\\\n",
       "\t9 & 2 & 17893 & 12.4386 & 2.0 & 0.0 & 2.0 & 0.0 & 2.0 & 2.0 & 0.0 & 2.0 & 2.0 & 2.0 & 0.0 & 0.0 & 2.0 & 2.0 & 0.0 & 2.0 & 2.0 & 0.0 & 0.0 & 2.0 \\\\\n",
       "\t10 & 2 & 6952 & 10.3051 & 2.0 & 0.0 & 2.0 & 0.0 & 2.0 & 2.0 & 0.0 & 2.0 & 2.0 & 2.0 & 0.0 & 1.0 & 2.0 & 2.0 & 0.0 & 2.0 & 2.0 & 0.0 & 0.0 & 2.0 \\\\\n",
       "\t11 & 2 & 14695 & 13.3367 & 2.0 & 0.0 & 2.0 & 0.0 & 2.0 & 2.0 & 0.0 & 2.0 & 2.0 & 2.0 & 0.0 & 0.0 & 2.0 & 2.0 & 0.0 & 2.0 & 2.0 & 0.0 & 0.0 & 2.0 \\\\\n",
       "\t12 & 2 & 6790 & 7.20723 & 2.0 & 0.0 & 2.0 & 0.0 & 2.0 & 2.0 & 0.0 & 2.0 & 2.0 & 2.0 & 0.0 & 0.0 & 2.0 & 2.0 & 0.0 & 2.0 & 2.0 & 0.0 & 0.0 & 2.0 \\\\\n",
       "\t13 & 2 & 3916 & 13.0285 & 2.0 & 0.0 & 2.0 & 0.0 & 2.0 & 2.0 & 0.0 & 2.0 & 2.0 & 2.0 & 0.0 & 0.0 & 2.0 & 2.0 & 0.0 & 2.0 & 2.0 & 0.0 & 0.0 & 2.0 \\\\\n",
       "\t14 & 3 & 39 & 9.53873 & 2.0 & 0.0 & 2.0 & 0.0 & 2.0 & 2.0 & 0.0 & 2.0 & 2.0 & 2.0 & 0.0 & 0.0 & 2.0 & 2.0 & 0.0 & 2.0 & 2.0 & 0.0 & 0.0 & 2.0 \\\\\n",
       "\t15 & 3 & 4521 & 8.29678 & 2.0 & 0.0 & 2.0 & 0.0 & 2.0 & 2.0 & 0.0 & 2.0 & 2.0 & 2.0 & 0.0 & 0.0 & 2.0 & 2.0 & 0.0 & 2.0 & 2.0 & 0.0 & 0.0 & 2.0 \\\\\n",
       "\t16 & 3 & 8366 & 7.78961 & 2.0 & 0.0 & 2.0 & 0.0 & 2.0 & 2.0 & 0.0 & 2.0 & 2.0 & 2.0 & 0.0 & 0.0 & 2.0 & 2.0 & 1.0 & 2.0 & 2.0 & 0.0 & 0.0 & 2.0 \\\\\n",
       "\t17 & 3 & 16693 & 10.1063 & 2.0 & 0.0 & 2.0 & 0.0 & 2.0 & 2.0 & 0.0 & 2.0 & 2.0 & 2.0 & 0.0 & 0.0 & 2.0 & 2.0 & 0.0 & 2.0 & 2.0 & 0.0 & 0.0 & 2.0 \\\\\n",
       "\t18 & 3 & 21688 & 11.2783 & 2.0 & 0.0 & 2.0 & 0.0 & 2.0 & 2.0 & 0.0 & 2.0 & 2.0 & 2.0 & 0.0 & 0.0 & 2.0 & 2.0 & 0.0 & 2.0 & 2.0 & 0.0 & 0.0 & 2.0 \\\\\n",
       "\t19 & 3 & 25532 & 12.8036 & 2.0 & 0.0 & 2.0 & 0.0 & 2.0 & 2.0 & 0.0 & 2.0 & 2.0 & 2.0 & 0.0 & 0.0 & 2.0 & 2.0 & 0.0 & 2.0 & 2.0 & 0.0 & 0.0 & 2.0 \\\\\n",
       "\t20 & 3 & 26294 & 11.9946 & 2.0 & 0.0 & 2.0 & 0.0 & 2.0 & 2.0 & 0.0 & 2.0 & 2.0 & 2.0 & 0.0 & 0.0 & 2.0 & 2.0 & 0.0 & 2.0 & 2.0 & 0.0 & 0.0 & 2.0 \\\\\n",
       "\t21 & 3 & 16795 & 8.09665 & 2.0 & 0.0 & 2.0 & 0.0 & 2.0 & 2.0 & 0.0 & 2.0 & 2.0 & 2.0 & 0.0 & 0.0 & 2.0 & 2.0 & 0.0 & 2.0 & 2.0 & 0.0 & 0.0 & 2.0 \\\\\n",
       "\t22 & 3 & 17445 & 7.77212 & 2.0 & 0.0 & 2.0 & 0.0 & 2.0 & 2.0 & 0.0 & 2.0 & 2.0 & 2.0 & 0.0 & 0.0 & 2.0 & 2.0 & 1.0 & 2.0 & 2.0 & 0.0 & 0.0 & 2.0 \\\\\n",
       "\t23 & 3 & 2039 & 9.50653 & 2.0 & 0.0 & 2.0 & 0.0 & 2.0 & 2.0 & 0.0 & 2.0 & 2.0 & 2.0 & 0.0 & 0.0 & 2.0 & 2.0 & 1.0 & 2.0 & 2.0 & 0.0 & 0.0 & 2.0 \\\\\n",
       "\t24 & 3 & 2831 & 14.6836 & 2.0 & 0.0 & 2.0 & 0.0 & 2.0 & 2.0 & 0.0 & 2.0 & 2.0 & 2.0 & 0.0 & 0.0 & 2.0 & 2.0 & 1.0 & 2.0 & 2.0 & 0.0 & 0.0 & 2.0 \\\\\n",
       "\t25 & 4 & 54 & 9.10462 & 2.0 & 0.0 & 2.0 & 0.0 & 2.0 & 2.0 & 0.0 & 2.0 & 2.0 & 2.0 & 0.0 & 0.0 & 2.0 & 2.0 & 0.0 & 2.0 & 2.0 & 0.0 & 0.0 & 2.0 \\\\\n",
       "\t26 & 4 & 5072 & 8.40502 & 2.0 & 0.0 & 2.0 & 1.0 & 2.0 & 2.0 & 0.0 & 2.0 & 2.0 & 2.0 & 0.0 & 0.0 & 2.0 & 2.0 & 0.0 & 2.0 & 2.0 & 0.0 & 0.0 & 2.0 \\\\\n",
       "\t27 & 4 & 17240 & 6.67702 & 2.0 & 0.0 & 2.0 & 1.0 & 2.0 & 2.0 & 0.0 & 2.0 & 2.0 & 2.0 & 0.0 & 0.0 & 2.0 & 2.0 & 0.0 & 2.0 & 2.0 & 0.0 & 0.0 & 2.0 \\\\\n",
       "\t28 & 5 & 70 & 6.76635 & 2.0 & 0.0 & 2.0 & 0.0 & 2.0 & 2.0 & 0.0 & 2.0 & 2.0 & 2.0 & 0.0 & 0.0 & 2.0 & 2.0 & 0.0 & 2.0 & 2.0 & 0.0 & 0.0 & 2.0 \\\\\n",
       "\t29 & 5 & 24010 & 9.77935 & 2.0 & 0.0 & 2.0 & 0.0 & 2.0 & 2.0 & 1.0 & 2.0 & 2.0 & 2.0 & 0.0 & 0.0 & 2.0 & 2.0 & 0.0 & 2.0 & 2.0 & 0.0 & 0.0 & 2.0 \\\\\n",
       "\t30 & 5 & 21999 & 13.2846 & 2.0 & 0.0 & 2.0 & 0.0 & 2.0 & 2.0 & 0.0 & 2.0 & 2.0 & 2.0 & 0.0 & 0.0 & 2.0 & 2.0 & 0.0 & 2.0 & 2.0 & 0.0 & 0.0 & 2.0 \\\\\n",
       "\t$\\dots$ & $\\dots$ & $\\dots$ & $\\dots$ & $\\dots$ & $\\dots$ & $\\dots$ & $\\dots$ & $\\dots$ & $\\dots$ & $\\dots$ & $\\dots$ & $\\dots$ & $\\dots$ & $\\dots$ & $\\dots$ & $\\dots$ & $\\dots$ & $\\dots$ & $\\dots$ & $\\dots$ & $\\dots$ & $\\dots$ & $\\dots$ \\\\\n",
       "\\end{tabular}\n"
      ],
      "text/plain": [
       "212×23 DataFrame. Omitted printing of 17 columns\n",
       "│ Row │ FamID │ PID   │ trait1  │ rs3020701 │ rs181646587 │ rs182902214 │\n",
       "│     │ \u001b[90mAny\u001b[39m   │ \u001b[90mAny\u001b[39m   │ \u001b[90mFloat64\u001b[39m │ \u001b[90mFloat64\u001b[39m   │ \u001b[90mFloat64\u001b[39m     │ \u001b[90mFloat64\u001b[39m     │\n",
       "├─────┼───────┼───────┼─────────┼───────────┼─────────────┼─────────────┤\n",
       "│ 1   │ 1     │ 16    │ 8.43456 │ 2.0       │ 0.0         │ 2.0         │\n",
       "│ 2   │ 1     │ 8228  │ 12.8785 │ 2.0       │ 0.0         │ 2.0         │\n",
       "│ 3   │ 1     │ 17008 │ 5.11326 │ 2.0       │ 0.0         │ 2.0         │\n",
       "│ 4   │ 1     │ 9218  │ 7.45081 │ 2.0       │ 0.0         │ 2.0         │\n",
       "│ 5   │ 1     │ 3226  │ 10.4226 │ 2.0       │ 0.0         │ 2.0         │\n",
       "│ 6   │ 2     │ 29    │ 12.3634 │ 2.0       │ 0.0         │ 2.0         │\n",
       "│ 7   │ 2     │ 2294  │ 11.8652 │ 2.0       │ 0.0         │ 2.0         │\n",
       "│ 8   │ 2     │ 3416  │ 9.9612  │ 2.0       │ 0.0         │ 2.0         │\n",
       "│ 9   │ 2     │ 17893 │ 12.4386 │ 2.0       │ 0.0         │ 2.0         │\n",
       "│ 10  │ 2     │ 6952  │ 10.3051 │ 2.0       │ 0.0         │ 2.0         │\n",
       "⋮\n",
       "│ 202 │ 31    │ 16139 │ 10.0173 │ 2.0       │ 0.0         │ 2.0         │\n",
       "│ 203 │ 31    │ 10439 │ 11.8982 │ 2.0       │ 0.0         │ 2.0         │\n",
       "│ 204 │ 31    │ 63    │ 5.48018 │ 2.0       │ 0.0         │ 2.0         │\n",
       "│ 205 │ 10006 │ 66    │ 7.89105 │ 2.0       │ 0.0         │ 2.0         │\n",
       "│ 206 │ 10008 │ 92    │ 10.0517 │ 2.0       │ 0.0         │ 2.0         │\n",
       "│ 207 │ 10014 │ 186   │ 6.53909 │ 2.0       │ 0.0         │ 2.0         │\n",
       "│ 208 │ 10027 │ 374   │ 6.7012  │ 2.0       │ 0.0         │ 2.0         │\n",
       "│ 209 │ 10029 │ 434   │ 12.7953 │ 2.0       │ 0.0         │ 2.0         │\n",
       "│ 210 │ 10033 │ 333   │ 1.41336 │ 2.0       │ 0.0         │ 2.0         │\n",
       "│ 211 │ 10040 │ 234   │ 5.46968 │ 2.0       │ 0.0         │ 2.0         │\n",
       "│ 212 │ 10045 │ 789   │ 12.5289 │ 2.0       │ 0.0         │ 2.0         │"
      ]
     },
     "execution_count": 40,
     "metadata": {},
     "output_type": "execute_result"
    }
   ],
   "source": [
    "Trait3_rare = hcat(Fam_Person_id, trait_rare_20_snps[1], geno_rare20_converted)"
   ]
  },
  {
   "cell_type": "code",
   "execution_count": 38,
   "metadata": {},
   "outputs": [
    {
     "data": {
      "text/html": [
       "<table class=\"data-frame\"><thead><tr><th></th><th>Coefficients</th><th>SNPs</th></tr><tr><th></th><th>Float64</th><th>SubStrin…</th></tr></thead><tbody><p>20 rows × 2 columns</p><tr><th>1</th><td>-0.785</td><td>rs3020701</td></tr><tr><th>2</th><td>-0.847</td><td>rs181646587</td></tr><tr><th>3</th><td>1.034</td><td>rs182902214</td></tr><tr><th>4</th><td>-0.735</td><td>rs184527030</td></tr><tr><th>5</th><td>1.034</td><td>rs10409990</td></tr><tr><th>6</th><td>-1.459</td><td>rs185166611</td></tr><tr><th>7</th><td>1.193</td><td>rs181637538</td></tr><tr><th>8</th><td>-1.034</td><td>rs186213888</td></tr><tr><th>9</th><td>-1.193</td><td>rs184010370</td></tr><tr><th>10</th><td>2.062</td><td>rs11667161</td></tr><tr><th>11</th><td>0.847</td><td>rs188819713</td></tr><tr><th>12</th><td>1.459</td><td>rs182378235</td></tr><tr><th>13</th><td>2.062</td><td>rs146361744</td></tr><tr><th>14</th><td>-1.459</td><td>rs190575937</td></tr><tr><th>15</th><td>0.735</td><td>rs149949827</td></tr><tr><th>16</th><td>2.062</td><td>rs117671630</td></tr><tr><th>17</th><td>2.062</td><td>rs149171388</td></tr><tr><th>18</th><td>-2.062</td><td>rs188520640</td></tr><tr><th>19</th><td>0.735</td><td>rs142722885</td></tr><tr><th>20</th><td>-1.459</td><td>rs146938393</td></tr></tbody></table>"
      ],
      "text/latex": [
       "\\begin{tabular}{r|cc}\n",
       "\t& Coefficients & SNPs\\\\\n",
       "\t\\hline\n",
       "\t& Float64 & SubStrin…\\\\\n",
       "\t\\hline\n",
       "\t1 & -0.785 & rs3020701 \\\\\n",
       "\t2 & -0.847 & rs181646587 \\\\\n",
       "\t3 & 1.034 & rs182902214 \\\\\n",
       "\t4 & -0.735 & rs184527030 \\\\\n",
       "\t5 & 1.034 & rs10409990 \\\\\n",
       "\t6 & -1.459 & rs185166611 \\\\\n",
       "\t7 & 1.193 & rs181637538 \\\\\n",
       "\t8 & -1.034 & rs186213888 \\\\\n",
       "\t9 & -1.193 & rs184010370 \\\\\n",
       "\t10 & 2.062 & rs11667161 \\\\\n",
       "\t11 & 0.847 & rs188819713 \\\\\n",
       "\t12 & 1.459 & rs182378235 \\\\\n",
       "\t13 & 2.062 & rs146361744 \\\\\n",
       "\t14 & -1.459 & rs190575937 \\\\\n",
       "\t15 & 0.735 & rs149949827 \\\\\n",
       "\t16 & 2.062 & rs117671630 \\\\\n",
       "\t17 & 2.062 & rs149171388 \\\\\n",
       "\t18 & -2.062 & rs188520640 \\\\\n",
       "\t19 & 0.735 & rs142722885 \\\\\n",
       "\t20 & -1.459 & rs146938393 \\\\\n",
       "\\end{tabular}\n"
      ],
      "text/plain": [
       "20×2 DataFrame\n",
       "│ Row │ Coefficients │ SNPs        │\n",
       "│     │ \u001b[90mFloat64\u001b[39m      │ \u001b[90mSubStrin…\u001b[39m   │\n",
       "├─────┼──────────────┼─────────────┤\n",
       "│ 1   │ -0.785       │ rs3020701   │\n",
       "│ 2   │ -0.847       │ rs181646587 │\n",
       "│ 3   │ 1.034        │ rs182902214 │\n",
       "│ 4   │ -0.735       │ rs184527030 │\n",
       "│ 5   │ 1.034        │ rs10409990  │\n",
       "│ 6   │ -1.459       │ rs185166611 │\n",
       "│ 7   │ 1.193        │ rs181637538 │\n",
       "│ 8   │ -1.034       │ rs186213888 │\n",
       "│ 9   │ -1.193       │ rs184010370 │\n",
       "│ 10  │ 2.062        │ rs11667161  │\n",
       "│ 11  │ 0.847        │ rs188819713 │\n",
       "│ 12  │ 1.459        │ rs182378235 │\n",
       "│ 13  │ 2.062        │ rs146361744 │\n",
       "│ 14  │ -1.459       │ rs190575937 │\n",
       "│ 15  │ 0.735        │ rs149949827 │\n",
       "│ 16  │ 2.062        │ rs117671630 │\n",
       "│ 17  │ 2.062        │ rs149171388 │\n",
       "│ 18  │ -2.062       │ rs188520640 │\n",
       "│ 19  │ 0.735        │ rs142722885 │\n",
       "│ 20  │ -1.459       │ rs146938393 │"
      ]
     },
     "execution_count": 38,
     "metadata": {},
     "output_type": "execute_result"
    }
   ],
   "source": [
    "Coefficients = DataFrame(Coefficients = simulated_effectsizes_chisq)\n",
    "SNPs_rare = DataFrame(SNPs = rare_snps_for_simulation)\n",
    "Trait3_rare_sim = hcat(Coefficients, SNPs_rare)"
   ]
  },
  {
   "cell_type": "code",
   "execution_count": 39,
   "metadata": {},
   "outputs": [
    {
     "ename": "UndefVarError",
     "evalue": "UndefVarError: Trait3_rare not defined",
     "output_type": "error",
     "traceback": [
      "UndefVarError: Trait3_rare not defined",
      "",
      "Stacktrace:",
      " [1] top-level scope at In[39]:1"
     ]
    }
   ],
   "source": [
    "#cd(\"/Users\") #change to home directory\n",
    "CSV.write(\"Trait3_rare.csv\", Trait3_rare)\n",
    "CSV.write(\"Trait3_rare_sim.csv\", Trait3_rare_sim);"
   ]
  },
  {
   "cell_type": "markdown",
   "metadata": {},
   "source": [
    "## Citations: \n",
    "\n",
    "[1] Lange K, Papp JC, Sinsheimer JS, Sripracha R, Zhou H, Sobel EM (2013) Mendel: The Swiss army knife of genetic analysis programs. Bioinformatics 29:1568-1570.`\n",
    "\n",
    "\n",
    "[2] OPENMENDEL: a cooperative programming project for statistical genetics.\n",
    "[Hum Genet. 2019 Mar 26. doi: 10.1007/s00439-019-02001-z](https://www.ncbi.nlm.nih.gov/pubmed/?term=OPENMENDEL).\n"
   ]
  }
 ],
 "metadata": {
  "@webio": {
   "lastCommId": null,
   "lastKernelId": null
  },
  "kernelspec": {
   "display_name": "Julia 1.1.1",
   "language": "julia",
   "name": "julia-1.1"
  },
  "language_info": {
   "file_extension": ".jl",
   "mimetype": "application/julia",
   "name": "julia",
   "version": "1.1.1"
  },
  "toc": {
   "base_numbering": 1,
   "nav_menu": {},
   "number_sections": true,
   "sideBar": true,
   "skip_h1_title": false,
   "title_cell": "Table of Contents",
   "title_sidebar": "Contents",
   "toc_cell": false,
   "toc_position": {},
   "toc_section_display": true,
   "toc_window_display": false
  }
 },
 "nbformat": 4,
 "nbformat_minor": 2
}
