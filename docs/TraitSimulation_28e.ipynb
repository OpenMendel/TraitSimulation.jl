{
 "cells": [
  {
   "cell_type": "markdown",
   "metadata": {},
   "source": [
    "# Trait Simulation Tutorial\n",
    "\n",
    "Authors: Sarah Ji, Janet Sinsheimer, Kenneth Lange\n",
    "\n",
    "In this notebook we show how to use the `TraitSimulation.jl` package to simulate traits from genotype data from unrelateds or families on user-specified Generalized Linear Models (GLMs) or Linear Mixed Models (LMMs), respectively.\n",
    "\n",
    "The data we will be using is from the Mendel version 16[1] sample files. The data is described in examples under Option 28e in the Mendel Version 16 Manual [Section 28.1,  page 279](http://software.genetics.ucla.edu/download?file=202). It consists of simulated data where the two traits of interest have one contributing SNP and a sex effect.\n",
    "\n",
    "We use the OpenMendel package [SnpArrays.jl](https://openmendel.github.io/SnpArrays.jl/latest/) to read in the PLINK formatted SNP data. In example 2b, we follow Mendel Option 28e with the simulation parameters for Trait1 and Trait2 in Ped28e.out as shown below.\n",
    "\n",
    "In all three examples, you can specify your own arbitrary fixed effect sizes, variance components and simulation parameters as desired.\n",
    "\n",
    "In the $\\textbf{Generating Effect Sizes}$ Section of Example 3), we show how you can generate effect sizes that depend on the minor allele frequencies from a function such as an exponential or chisquare. To aid this process when you wish to include a large number of loci in the model, we created a function that automatically writes out the mean components given a vector of effect sizes and \n",
    "\n",
    "$\\textbf{At the end of Examples 1 and 3}$, we demo how to $\\textbf{write the results}$ of the simulation to a file on your own machine."
   ]
  },
  {
   "cell_type": "markdown",
   "metadata": {},
   "source": [
    "### Double check that you are using Julia version 1.0.3 or higher by checking the machine information"
   ]
  },
  {
   "cell_type": "code",
   "execution_count": 1,
   "metadata": {},
   "outputs": [
    {
     "name": "stdout",
     "output_type": "stream",
     "text": [
      "Julia Version 1.0.3\n",
      "Commit 099e826241 (2018-12-18 01:34 UTC)\n",
      "Platform Info:\n",
      "  OS: macOS (x86_64-apple-darwin14.5.0)\n",
      "  CPU: Intel(R) Core(TM) i7-7700HQ CPU @ 2.80GHz\n",
      "  WORD_SIZE: 64\n",
      "  LIBM: libopenlibm\n",
      "  LLVM: libLLVM-6.0.0 (ORCJIT, skylake)\n"
     ]
    }
   ],
   "source": [
    "versioninfo()"
   ]
  },
  {
   "cell_type": "markdown",
   "metadata": {},
   "source": [
    "# Add any missing packages needed for this tutorial:\n",
    "\n",
    "Note: For demonstration purposes, the generation of this Jupyter Notebook requires the use of the following registered packages: `DataFrames.jl`, `SnpArrays.jl`, `StatsModels.jl`, `Random.jl`, `DelimitedFiles.jl`, `StatsBase.jl`, and `StatsFuns.jl`. \n",
    "\n",
    "We note: If you choose not to write simulation results to a file on your local machine, you do not need to add `CSV.jl`. \n",
    "\n",
    "If it is your first time using these registered packages, you will first have to add the registered packages: DataFrames, SnpArrays, StatsModels, Random, LinearAlgebra, DelimitedFiles, Random, StatsBase by running the following code chunk in Julia's package manager:\n",
    "\n",
    "```{julia}\n",
    "pkg> add DataFrames\n",
    "pkg> add SnpArrays\n",
    "...\n",
    "pkg> add StatsFuns\n",
    "```\n",
    "You can also use the package manager to add the `TraitSimulation.jl` package by running the following link: </br>\n",
    "\n",
    "```{julia}\n",
    "pkg> add \"https://github.com/sarah-ji/TraitSimulation.jl\"\n",
    "```\n",
    "\n",
    "Only after all of the necessary packages have been added, load them into your working environment with the `using` command:"
   ]
  },
  {
   "cell_type": "code",
   "execution_count": 2,
   "metadata": {},
   "outputs": [],
   "source": [
    "using DataFrames, SnpArrays, StatsModels, Random, LinearAlgebra, DelimitedFiles, StatsBase, TraitSimulation, StatsFuns\n",
    "using CSV"
   ]
  },
  {
   "cell_type": "markdown",
   "metadata": {},
   "source": [
    "# Reproducibility\n",
    "\n",
    "For reproducibility, we set a random seed using the `Random.jl` package for each simulation using `Random.seed!(1234)`.  If you wish to end up with different data, you will need to comment out these commands or use another value in Random.seed!()."
   ]
  },
  {
   "cell_type": "code",
   "execution_count": 3,
   "metadata": {},
   "outputs": [],
   "source": [
    "Random.seed!(1234);"
   ]
  },
  {
   "cell_type": "markdown",
   "metadata": {},
   "source": [
    "# The notebook is organized as follows:\n",
    "\n",
    "\n",
    "## Example 1: Generalized Linear Model\n",
    "In this example we show how to generate single or multiple traits from GLM's with a genetic variant in the fixed effects, but no residual familial correlation.\n",
    "\n",
    "### (a) Single Trait:\n",
    "$$Y ∼ N(\\mu, \\sigma^{2})$$\n",
    "\n",
    "In example (1a) we simulate a $\\textbf{SINGLE INDEPENDENT NORMAL TRAIT}$, with simulation parameters: $\\mu = 20 + 3*sex - 1.5*locus$, $\\sigma^{2} = 2$\n",
    "\n",
    "### (b) Multiple Independent Traits:\n",
    " $$ Y = \n",
    " \\begin{bmatrix}\n",
    "Y_{1}\\\\\n",
    "Y_{2}\n",
    "\\end{bmatrix}, Y_{1} \\!\\perp\\!\\!\\!\\perp Y_{2}$$  &nbsp; &nbsp;  \n",
    "$$ Y_{1} ∼ N(\\mu_{1}, 2), \\mu_{1} = 40 + 3(sex) - 1.5(locus), Y_{2} ∼ Poisson(\\mu_{2}), \\mu_{2} = 2 + 2(sex) - 1.5(locus))$$\n",
    "\n",
    "In example (1b) we simulate $\\textbf{TWO INDEPENDENT TRAITS SIMULTANEOUSLY}$, one from a Normal distribution and one from a Poisson distribution.<br>\n",
    "\n",
    "\n",
    "## Example 2: Linear Mixed Model\n",
    "In this example we show how to generate data with the additional additive genetic variance component or residual correlation among relatives. \n",
    "\n",
    "For convenience we use the common assumption that the residual covariance among two relatives can be captured by the additive genetic variance times twice the kinship coefficient. However, if you like you can specify your own variance components and their design matrices as long as they are positive semi definite using the `@vc` macro demonstrated in this example. \n",
    "\n",
    "### (a) Single Trait:\n",
    "\n",
    "$$Y ∼ N(\\mu_{1}, 4* 2GRM + 2I)$$\n",
    "\n",
    "In example (1a) we simulate a $\\textbf{SINGLE TRAIT CONTROLLING FOR FAMILY STRUCTURE}$, with the corresponding Mendel Example 28e Simulation parameters, location : $\\mu = 40 + 3*sex - 1.5*locus$, scale : $V$ =  $V_{{a}_{1,1}}* 2GRM + V_{{e}_{1, 1}}I_{n} = 4* 2GRM + 2I$. \n",
    "\n",
    "\n",
    "### (b) Multiple Correlated Traits: (Mendel Example 28e Simulation)\n",
    "\n",
    "\n",
    "$$ Y = \n",
    "\\begin{bmatrix}\n",
    "Y_{1}\\\\\n",
    "Y_{2}\n",
    "\\end{bmatrix}, Y_{1} \\not\\!\\perp\\!\\!\\!\\perp Y_{2}\n",
    "$$\n",
    "\n",
    "$$Y \\sim N(\\mathbf{\\mu},\\Sigma  = V_{a} \\otimes (2GRM) + V_{e} \\otimes I_{n}) ,$$\n",
    "\n",
    "\n",
    "$$\n",
    "\\mathbf{\\mu} = \\begin{bmatrix}\n",
    "\\mu_1 \\\\\n",
    "\\mu_2 \\\\\n",
    "\\end{bmatrix}\n",
    "= \\begin{bmatrix}\n",
    "40 + 3(sex) - 1.5(locus)\\\\\n",
    "20 + 2(sex) - 1.5(locus)\\\\\n",
    "\\end{bmatrix} , V_{a} = \\begin{bmatrix}\n",
    "4 & 1\\\\\n",
    "1 & 4\\\\\n",
    "\\end{bmatrix} , V_e \n",
    "= \\begin{bmatrix}\n",
    "2 & 0\\\\\n",
    "0 & 2\\\\\n",
    "\\end{bmatrix}\n",
    "$$\n",
    "\n",
    "\n",
    "We simulate $\\textbf{TWO CORRELATED TRAITS CONTROLLING FOR FAMILY STRUCTURE}$ with simulation parameters, location = $\\mu$ and scale = $\\Sigma$. \n",
    "\n",
    "\n",
    "## Example 3: Rare Variant Linear Mixed Model \n",
    "\n",
    "The example also assumes an additive genetic variance component in the model which includes 20 rare SNPs, defined as snps with minor allele frequencies greater than 0.002 but less than 0.02.  In practice rare SNPs have smaller minor allele frequencies, but we are limited in this tutorial by the number of individuals in the data set. <br>\n",
    "\n",
    "We simulate a Single normal Trait controlling for family structure, with effect sizes generated as a function of the minor allele frequencies.\n",
    "\n",
    "$$ Y ∼ N(\\mu_{rare20}, 4* 2GRM + 2I)\n",
    "$$"
   ]
  },
  {
   "cell_type": "markdown",
   "metadata": {},
   "source": [
    "# Reading the Mendel 28a data using SnpArrays\n",
    "\n",
    "First use `SnpArrays.jl` to read in the SNP data\n"
   ]
  },
  {
   "cell_type": "code",
   "execution_count": 4,
   "metadata": {},
   "outputs": [
    {
     "data": {
      "text/plain": [
       "212×253141 SnpArray:\n",
       " 0x03  0x03  0x00  0x03  0x03  0x03  …  0x02  0x02  0x00  0x00  0x03  0x00\n",
       " 0x03  0x03  0x00  0x02  0x02  0x03     0x00  0x03  0x00  0x00  0x03  0x00\n",
       " 0x03  0x03  0x00  0x03  0x03  0x03     0x03  0x02  0x00  0x00  0x03  0x00\n",
       " 0x03  0x03  0x00  0x03  0x03  0x03     0x02  0x03  0x00  0x00  0x03  0x00\n",
       " 0x03  0x03  0x00  0x03  0x03  0x03     0x00  0x03  0x00  0x00  0x03  0x00\n",
       " 0x03  0x03  0x00  0x03  0x03  0x03  …  0x00  0x00  0x00  0x00  0x00  0x03\n",
       " 0x03  0x02  0x00  0x03  0x03  0x03     0x02  0x03  0x00  0x03  0x00  0x03\n",
       " 0x03  0x03  0x00  0x03  0x03  0x03     0x02  0x03  0x00  0x03  0x00  0x03\n",
       " 0x03  0x02  0x00  0x03  0x03  0x03     0x02  0x02  0x00  0x02  0x00  0x03\n",
       " 0x03  0x02  0x00  0x03  0x03  0x03     0x03  0x03  0x00  0x03  0x00  0x03\n",
       " 0x03  0x02  0x00  0x03  0x03  0x03  …  0x00  0x02  0x00  0x02  0x00  0x03\n",
       " 0x03  0x03  0x00  0x03  0x03  0x03     0x00  0x02  0x00  0x02  0x00  0x03\n",
       " 0x03  0x02  0x00  0x03  0x03  0x03     0x02  0x02  0x00  0x02  0x00  0x03\n",
       "    ⋮                             ⋮  ⋱     ⋮                             ⋮\n",
       " 0x03  0x03  0x00  0x03  0x03  0x03  …  0x00  0x03  0x00  0x00  0x03  0x00\n",
       " 0x03  0x03  0x00  0x03  0x03  0x03     0x00  0x03  0x00  0x02  0x02  0x02\n",
       " 0x03  0x03  0x00  0x03  0x03  0x03     0x00  0x02  0x00  0x00  0x03  0x00\n",
       " 0x03  0x02  0x00  0x02  0x02  0x03     0x02  0x03  0x00  0x03  0x00  0x03\n",
       " 0x03  0x03  0x00  0x02  0x02  0x03     0x02  0x03  0x00  0x00  0x03  0x00\n",
       " 0x03  0x03  0x00  0x03  0x03  0x03  …  0x02  0x03  0x00  0x02  0x02  0x00\n",
       " 0x03  0x03  0x00  0x02  0x02  0x03     0x02  0x03  0x00  0x00  0x02  0x02\n",
       " 0x03  0x03  0x00  0x03  0x03  0x03     0x00  0x03  0x00  0x00  0x03  0x00\n",
       " 0x03  0x02  0x00  0x03  0x03  0x03     0x02  0x03  0x00  0x00  0x02  0x02\n",
       " 0x03  0x03  0x00  0x03  0x03  0x03     0x00  0x03  0x00  0x00  0x03  0x00\n",
       " 0x03  0x03  0x00  0x03  0x03  0x03  …  0x02  0x03  0x00  0x00  0x03  0x00\n",
       " 0x03  0x03  0x00  0x03  0x03  0x03     0x00  0x03  0x00  0x02  0x02  0x02"
      ]
     },
     "execution_count": 4,
     "metadata": {},
     "output_type": "execute_result"
    }
   ],
   "source": [
    "snpdata = SnpArray(\"traitsim28e.bed\", 212)"
   ]
  },
  {
   "cell_type": "markdown",
   "metadata": {},
   "source": [
    "Store the FamID and PersonID of Individuals in Mendel 28e data"
   ]
  },
  {
   "cell_type": "code",
   "execution_count": 5,
   "metadata": {},
   "outputs": [
    {
     "data": {
      "text/html": [
       "<table class=\"data-frame\"><thead><tr><th></th><th>FamID</th><th>PID</th></tr><tr><th></th><th>Any</th><th>Any</th></tr></thead><tbody><p>212 rows × 2 columns</p><tr><th>1</th><td>1</td><td>16</td></tr><tr><th>2</th><td>1</td><td>8228</td></tr><tr><th>3</th><td>1</td><td>17008</td></tr><tr><th>4</th><td>1</td><td>9218</td></tr><tr><th>5</th><td>1</td><td>3226</td></tr><tr><th>6</th><td>2</td><td>29</td></tr><tr><th>7</th><td>2</td><td>2294</td></tr><tr><th>8</th><td>2</td><td>3416</td></tr><tr><th>9</th><td>2</td><td>17893</td></tr><tr><th>10</th><td>2</td><td>6952</td></tr><tr><th>11</th><td>2</td><td>14695</td></tr><tr><th>12</th><td>2</td><td>6790</td></tr><tr><th>13</th><td>2</td><td>3916</td></tr><tr><th>14</th><td>3</td><td>39</td></tr><tr><th>15</th><td>3</td><td>4521</td></tr><tr><th>16</th><td>3</td><td>8366</td></tr><tr><th>17</th><td>3</td><td>16693</td></tr><tr><th>18</th><td>3</td><td>21688</td></tr><tr><th>19</th><td>3</td><td>25532</td></tr><tr><th>20</th><td>3</td><td>26294</td></tr><tr><th>21</th><td>3</td><td>16795</td></tr><tr><th>22</th><td>3</td><td>17445</td></tr><tr><th>23</th><td>3</td><td>2039</td></tr><tr><th>24</th><td>3</td><td>2831</td></tr><tr><th>25</th><td>4</td><td>54</td></tr><tr><th>26</th><td>4</td><td>5072</td></tr><tr><th>27</th><td>4</td><td>17240</td></tr><tr><th>28</th><td>5</td><td>70</td></tr><tr><th>29</th><td>5</td><td>24010</td></tr><tr><th>30</th><td>5</td><td>21999</td></tr><tr><th>&vellip;</th><td>&vellip;</td><td>&vellip;</td></tr></tbody></table>"
      ],
      "text/latex": [
       "\\begin{tabular}{r|cc}\n",
       "\t& FamID & PID\\\\\n",
       "\t\\hline\n",
       "\t& Any & Any\\\\\n",
       "\t\\hline\n",
       "\t1 & 1 & 16 \\\\\n",
       "\t2 & 1 & 8228 \\\\\n",
       "\t3 & 1 & 17008 \\\\\n",
       "\t4 & 1 & 9218 \\\\\n",
       "\t5 & 1 & 3226 \\\\\n",
       "\t6 & 2 & 29 \\\\\n",
       "\t7 & 2 & 2294 \\\\\n",
       "\t8 & 2 & 3416 \\\\\n",
       "\t9 & 2 & 17893 \\\\\n",
       "\t10 & 2 & 6952 \\\\\n",
       "\t11 & 2 & 14695 \\\\\n",
       "\t12 & 2 & 6790 \\\\\n",
       "\t13 & 2 & 3916 \\\\\n",
       "\t14 & 3 & 39 \\\\\n",
       "\t15 & 3 & 4521 \\\\\n",
       "\t16 & 3 & 8366 \\\\\n",
       "\t17 & 3 & 16693 \\\\\n",
       "\t18 & 3 & 21688 \\\\\n",
       "\t19 & 3 & 25532 \\\\\n",
       "\t20 & 3 & 26294 \\\\\n",
       "\t21 & 3 & 16795 \\\\\n",
       "\t22 & 3 & 17445 \\\\\n",
       "\t23 & 3 & 2039 \\\\\n",
       "\t24 & 3 & 2831 \\\\\n",
       "\t25 & 4 & 54 \\\\\n",
       "\t26 & 4 & 5072 \\\\\n",
       "\t27 & 4 & 17240 \\\\\n",
       "\t28 & 5 & 70 \\\\\n",
       "\t29 & 5 & 24010 \\\\\n",
       "\t30 & 5 & 21999 \\\\\n",
       "\t$\\dots$ & $\\dots$ & $\\dots$ \\\\\n",
       "\\end{tabular}\n"
      ],
      "text/plain": [
       "212×2 DataFrame\n",
       "│ Row │ FamID │ PID   │\n",
       "│     │ \u001b[90mAny\u001b[39m   │ \u001b[90mAny\u001b[39m   │\n",
       "├─────┼───────┼───────┤\n",
       "│ 1   │ 1     │ 16    │\n",
       "│ 2   │ 1     │ 8228  │\n",
       "│ 3   │ 1     │ 17008 │\n",
       "│ 4   │ 1     │ 9218  │\n",
       "│ 5   │ 1     │ 3226  │\n",
       "│ 6   │ 2     │ 29    │\n",
       "│ 7   │ 2     │ 2294  │\n",
       "│ 8   │ 2     │ 3416  │\n",
       "│ 9   │ 2     │ 17893 │\n",
       "│ 10  │ 2     │ 6952  │\n",
       "⋮\n",
       "│ 202 │ 31    │ 16139 │\n",
       "│ 203 │ 31    │ 10439 │\n",
       "│ 204 │ 31    │ 63    │\n",
       "│ 205 │ 10006 │ 66    │\n",
       "│ 206 │ 10008 │ 92    │\n",
       "│ 207 │ 10014 │ 186   │\n",
       "│ 208 │ 10027 │ 374   │\n",
       "│ 209 │ 10029 │ 434   │\n",
       "│ 210 │ 10033 │ 333   │\n",
       "│ 211 │ 10040 │ 234   │\n",
       "│ 212 │ 10045 │ 789   │"
      ]
     },
     "execution_count": 5,
     "metadata": {},
     "output_type": "execute_result"
    }
   ],
   "source": [
    "famfile = readdlm(\"traitsim28e.fam\", ',')\n",
    "Fam_Person_id = DataFrame(FamID = famfile[:, 1], PID = famfile[:, 2])"
   ]
  },
  {
   "cell_type": "markdown",
   "metadata": {},
   "source": [
    "Note: Because later we will want to compare our results to the original results in the file,  we subset `Traits_Mendel28e` "
   ]
  },
  {
   "cell_type": "code",
   "execution_count": 6,
   "metadata": {},
   "outputs": [
    {
     "data": {
      "text/html": [
       "<table class=\"data-frame\"><thead><tr><th></th><th>Trait1</th><th>Trait2</th></tr><tr><th></th><th>Any</th><th>Any</th></tr></thead><tbody><p>212 rows × 2 columns</p><tr><th>1</th><td>30.2056</td><td>9.2421</td></tr><tr><th>2</th><td>35.8214</td><td>15.2746</td></tr><tr><th>3</th><td>36.053</td><td>19.505</td></tr><tr><th>4</th><td>38.9635</td><td>18.9857</td></tr><tr><th>5</th><td>33.7391</td><td>21.1041</td></tr><tr><th>6</th><td>34.8884</td><td>19.0114</td></tr><tr><th>7</th><td>37.7011</td><td>19.1656</td></tr><tr><th>8</th><td>45.1317</td><td>19.8409</td></tr><tr><th>9</th><td>35.156</td><td>14.1423</td></tr><tr><th>10</th><td>42.4514</td><td>19.9271</td></tr><tr><th>11</th><td>35.6426</td><td>17.4191</td></tr><tr><th>12</th><td>40.6344</td><td>23.6845</td></tr><tr><th>13</th><td>34.8618</td><td>16.8684</td></tr><tr><th>14</th><td>37.2552</td><td>16.397</td></tr><tr><th>15</th><td>33.0975</td><td>15.3287</td></tr><tr><th>16</th><td>37.916</td><td>20.6693</td></tr><tr><th>17</th><td>34.839</td><td>17.6651</td></tr><tr><th>18</th><td>36.2022</td><td>21.7773</td></tr><tr><th>19</th><td>30.9314</td><td>17.8042</td></tr><tr><th>20</th><td>41.5899</td><td>22.0772</td></tr><tr><th>21</th><td>31.5552</td><td>17.7989</td></tr><tr><th>22</th><td>35.5947</td><td>20.0131</td></tr><tr><th>23</th><td>36.048</td><td>17.7814</td></tr><tr><th>24</th><td>39.1822</td><td>20.747</td></tr><tr><th>25</th><td>34.7339</td><td>9.88673</td></tr><tr><th>26</th><td>37.5677</td><td>14.2164</td></tr><tr><th>27</th><td>32.9781</td><td>12.9809</td></tr><tr><th>28</th><td>40.2272</td><td>21.0772</td></tr><tr><th>29</th><td>41.7587</td><td>24.1248</td></tr><tr><th>30</th><td>45.4635</td><td>27.5554</td></tr><tr><th>&vellip;</th><td>&vellip;</td><td>&vellip;</td></tr></tbody></table>"
      ],
      "text/latex": [
       "\\begin{tabular}{r|cc}\n",
       "\t& Trait1 & Trait2\\\\\n",
       "\t\\hline\n",
       "\t& Any & Any\\\\\n",
       "\t\\hline\n",
       "\t1 & 30.2056 & 9.2421 \\\\\n",
       "\t2 & 35.8214 & 15.2746 \\\\\n",
       "\t3 & 36.053 & 19.505 \\\\\n",
       "\t4 & 38.9635 & 18.9857 \\\\\n",
       "\t5 & 33.7391 & 21.1041 \\\\\n",
       "\t6 & 34.8884 & 19.0114 \\\\\n",
       "\t7 & 37.7011 & 19.1656 \\\\\n",
       "\t8 & 45.1317 & 19.8409 \\\\\n",
       "\t9 & 35.156 & 14.1423 \\\\\n",
       "\t10 & 42.4514 & 19.9271 \\\\\n",
       "\t11 & 35.6426 & 17.4191 \\\\\n",
       "\t12 & 40.6344 & 23.6845 \\\\\n",
       "\t13 & 34.8618 & 16.8684 \\\\\n",
       "\t14 & 37.2552 & 16.397 \\\\\n",
       "\t15 & 33.0975 & 15.3287 \\\\\n",
       "\t16 & 37.916 & 20.6693 \\\\\n",
       "\t17 & 34.839 & 17.6651 \\\\\n",
       "\t18 & 36.2022 & 21.7773 \\\\\n",
       "\t19 & 30.9314 & 17.8042 \\\\\n",
       "\t20 & 41.5899 & 22.0772 \\\\\n",
       "\t21 & 31.5552 & 17.7989 \\\\\n",
       "\t22 & 35.5947 & 20.0131 \\\\\n",
       "\t23 & 36.048 & 17.7814 \\\\\n",
       "\t24 & 39.1822 & 20.747 \\\\\n",
       "\t25 & 34.7339 & 9.88673 \\\\\n",
       "\t26 & 37.5677 & 14.2164 \\\\\n",
       "\t27 & 32.9781 & 12.9809 \\\\\n",
       "\t28 & 40.2272 & 21.0772 \\\\\n",
       "\t29 & 41.7587 & 24.1248 \\\\\n",
       "\t30 & 45.4635 & 27.5554 \\\\\n",
       "\t$\\dots$ & $\\dots$ & $\\dots$ \\\\\n",
       "\\end{tabular}\n"
      ],
      "text/plain": [
       "212×2 DataFrame\n",
       "│ Row │ Trait1  │ Trait2  │\n",
       "│     │ \u001b[90mAny\u001b[39m     │ \u001b[90mAny\u001b[39m     │\n",
       "├─────┼─────────┼─────────┤\n",
       "│ 1   │ 30.2056 │ 9.2421  │\n",
       "│ 2   │ 35.8214 │ 15.2746 │\n",
       "│ 3   │ 36.053  │ 19.505  │\n",
       "│ 4   │ 38.9635 │ 18.9857 │\n",
       "│ 5   │ 33.7391 │ 21.1041 │\n",
       "│ 6   │ 34.8884 │ 19.0114 │\n",
       "│ 7   │ 37.7011 │ 19.1656 │\n",
       "│ 8   │ 45.1317 │ 19.8409 │\n",
       "│ 9   │ 35.156  │ 14.1423 │\n",
       "│ 10  │ 42.4514 │ 19.9271 │\n",
       "⋮\n",
       "│ 202 │ 39.3161 │ 24.8508 │\n",
       "│ 203 │ 41.7913 │ 22.5294 │\n",
       "│ 204 │ 36.3301 │ 17.0813 │\n",
       "│ 205 │ 42.9442 │ 17.1984 │\n",
       "│ 206 │ 39.8927 │ 20.9043 │\n",
       "│ 207 │ 42.5795 │ 15.9365 │\n",
       "│ 208 │ 47.8619 │ 19.8943 │\n",
       "│ 209 │ 41.0531 │ 25.1045 │\n",
       "│ 210 │ 39.9502 │ 19.7227 │\n",
       "│ 211 │ 35.4778 │ 21.935  │\n",
       "│ 212 │ 44.3932 │ 26.1222 │"
      ]
     },
     "execution_count": 6,
     "metadata": {},
     "output_type": "execute_result"
    }
   ],
   "source": [
    "Traits_Mendel28e = DataFrame(Trait1 = famfile[:, 7], Trait2 = famfile[:, 8])"
   ]
  },
  {
   "cell_type": "markdown",
   "metadata": {},
   "source": [
    "Transform sex variable from M/F to 1/-1 as does Mendel 28e data.  If you prefer you can use the more common convention of making one of the sexes the reference sex (coding it as zero) and make the other sex have the value 1."
   ]
  },
  {
   "cell_type": "code",
   "execution_count": 7,
   "metadata": {},
   "outputs": [
    {
     "data": {
      "text/plain": [
       "212-element Array{Float64,1}:\n",
       " -1.0\n",
       " -1.0\n",
       "  1.0\n",
       "  1.0\n",
       " -1.0\n",
       " -1.0\n",
       "  1.0\n",
       "  1.0\n",
       " -1.0\n",
       "  1.0\n",
       " -1.0\n",
       "  1.0\n",
       " -1.0\n",
       "  ⋮  \n",
       "  1.0\n",
       "  1.0\n",
       "  1.0\n",
       " -1.0\n",
       "  1.0\n",
       "  1.0\n",
       "  1.0\n",
       "  1.0\n",
       "  1.0\n",
       "  1.0\n",
       "  1.0\n",
       "  1.0"
      ]
     },
     "execution_count": 7,
     "metadata": {},
     "output_type": "execute_result"
    }
   ],
   "source": [
    "sex = map(x -> strip(x) == \"F\" ? -1.0 : 1.0, famfile[:, 5]) # note julia's ternary operator '?'"
   ]
  },
  {
   "cell_type": "markdown",
   "metadata": {},
   "source": [
    "### Names of Variants:"
   ]
  },
  {
   "cell_type": "markdown",
   "metadata": {},
   "source": [
    "We want to find the index of the causal snp, rs10412915, in the snp_definition file and then subset that snp from the genetic marker data above. \n",
    "We first subset the SNP names into a vector called `snpid`"
   ]
  },
  {
   "cell_type": "code",
   "execution_count": 8,
   "metadata": {},
   "outputs": [
    {
     "data": {
      "text/plain": [
       "253141-element Array{SubString{String},1}:\n",
       " \"rs3020701\"  \n",
       " \"rs56343121\" \n",
       " \"rs143501051\"\n",
       " \"rs56182540\" \n",
       " \"rs7260412\"  \n",
       " \"rs11669393\" \n",
       " \"rs181646587\"\n",
       " \"rs8106297\"  \n",
       " \"rs8106302\"  \n",
       " \"rs183568620\"\n",
       " \"rs186451972\"\n",
       " \"rs189699222\"\n",
       " \"rs182902214\"\n",
       " ⋮            \n",
       " \"rs188169422\"\n",
       " \"rs144587467\"\n",
       " \"rs139879509\"\n",
       " \"rs143250448\"\n",
       " \"rs145384750\"\n",
       " \"rs149215836\"\n",
       " \"rs139221927\"\n",
       " \"rs181848453\"\n",
       " \"rs138318162\"\n",
       " \"rs186913222\"\n",
       " \"rs141816674\"\n",
       " \"rs150801216\""
      ]
     },
     "execution_count": 8,
     "metadata": {},
     "output_type": "execute_result"
    }
   ],
   "source": [
    "snpdef28_1 = readdlm(\"traitsim28e.bim\", Any; header = false)\n",
    "snpid = map(x -> strip(string(x)), snpdef28_1[:, 1]) # strip mining in the data "
   ]
  },
  {
   "cell_type": "markdown",
   "metadata": {},
   "source": [
    "We first need to find the position of the snp rs10412915.  If you wish to use another snp just change the rs number to another one that is found in the available genotype data, for example rs186913222."
   ]
  },
  {
   "cell_type": "code",
   "execution_count": 9,
   "metadata": {},
   "outputs": [
    {
     "data": {
      "text/plain": [
       "236074"
      ]
     },
     "execution_count": 9,
     "metadata": {},
     "output_type": "execute_result"
    }
   ],
   "source": [
    "ind_rs10412915 = findall(x -> x == \"rs10412915\", snpid)[1]"
   ]
  },
  {
   "cell_type": "markdown",
   "metadata": {},
   "source": [
    "We see that the causal snp, rs10412915, is the 236074th variant in the snp dataset."
   ]
  },
  {
   "cell_type": "markdown",
   "metadata": {},
   "source": [
    "Let's create a design matrix for the alternative model that includes sex and locus rs10412915."
   ]
  },
  {
   "cell_type": "code",
   "execution_count": 10,
   "metadata": {},
   "outputs": [
    {
     "data": {
      "text/html": [
       "<table class=\"data-frame\"><thead><tr><th></th><th>sex</th><th>locus</th></tr><tr><th></th><th>Float64</th><th>Float64</th></tr></thead><tbody><p>212 rows × 2 columns</p><tr><th>1</th><td>-1.0</td><td>2.0</td></tr><tr><th>2</th><td>-1.0</td><td>0.0</td></tr><tr><th>3</th><td>1.0</td><td>2.0</td></tr><tr><th>4</th><td>1.0</td><td>2.0</td></tr><tr><th>5</th><td>-1.0</td><td>1.0</td></tr><tr><th>6</th><td>-1.0</td><td>1.0</td></tr><tr><th>7</th><td>1.0</td><td>1.0</td></tr><tr><th>8</th><td>1.0</td><td>2.0</td></tr><tr><th>9</th><td>-1.0</td><td>1.0</td></tr><tr><th>10</th><td>1.0</td><td>1.0</td></tr><tr><th>11</th><td>-1.0</td><td>0.0</td></tr><tr><th>12</th><td>1.0</td><td>0.0</td></tr><tr><th>13</th><td>-1.0</td><td>0.0</td></tr><tr><th>14</th><td>-1.0</td><td>1.0</td></tr><tr><th>15</th><td>-1.0</td><td>2.0</td></tr><tr><th>16</th><td>1.0</td><td>1.0</td></tr><tr><th>17</th><td>-1.0</td><td>2.0</td></tr><tr><th>18</th><td>1.0</td><td>2.0</td></tr><tr><th>19</th><td>-1.0</td><td>2.0</td></tr><tr><th>20</th><td>1.0</td><td>1.0</td></tr><tr><th>21</th><td>-1.0</td><td>1.0</td></tr><tr><th>22</th><td>1.0</td><td>2.0</td></tr><tr><th>23</th><td>1.0</td><td>2.0</td></tr><tr><th>24</th><td>1.0</td><td>1.0</td></tr><tr><th>25</th><td>-1.0</td><td>2.0</td></tr><tr><th>26</th><td>1.0</td><td>2.0</td></tr><tr><th>27</th><td>-1.0</td><td>2.0</td></tr><tr><th>28</th><td>-1.0</td><td>1.0</td></tr><tr><th>29</th><td>1.0</td><td>1.0</td></tr><tr><th>30</th><td>1.0</td><td>0.0</td></tr><tr><th>&vellip;</th><td>&vellip;</td><td>&vellip;</td></tr></tbody></table>"
      ],
      "text/latex": [
       "\\begin{tabular}{r|cc}\n",
       "\t& sex & locus\\\\\n",
       "\t\\hline\n",
       "\t& Float64 & Float64\\\\\n",
       "\t\\hline\n",
       "\t1 & -1.0 & 2.0 \\\\\n",
       "\t2 & -1.0 & 0.0 \\\\\n",
       "\t3 & 1.0 & 2.0 \\\\\n",
       "\t4 & 1.0 & 2.0 \\\\\n",
       "\t5 & -1.0 & 1.0 \\\\\n",
       "\t6 & -1.0 & 1.0 \\\\\n",
       "\t7 & 1.0 & 1.0 \\\\\n",
       "\t8 & 1.0 & 2.0 \\\\\n",
       "\t9 & -1.0 & 1.0 \\\\\n",
       "\t10 & 1.0 & 1.0 \\\\\n",
       "\t11 & -1.0 & 0.0 \\\\\n",
       "\t12 & 1.0 & 0.0 \\\\\n",
       "\t13 & -1.0 & 0.0 \\\\\n",
       "\t14 & -1.0 & 1.0 \\\\\n",
       "\t15 & -1.0 & 2.0 \\\\\n",
       "\t16 & 1.0 & 1.0 \\\\\n",
       "\t17 & -1.0 & 2.0 \\\\\n",
       "\t18 & 1.0 & 2.0 \\\\\n",
       "\t19 & -1.0 & 2.0 \\\\\n",
       "\t20 & 1.0 & 1.0 \\\\\n",
       "\t21 & -1.0 & 1.0 \\\\\n",
       "\t22 & 1.0 & 2.0 \\\\\n",
       "\t23 & 1.0 & 2.0 \\\\\n",
       "\t24 & 1.0 & 1.0 \\\\\n",
       "\t25 & -1.0 & 2.0 \\\\\n",
       "\t26 & 1.0 & 2.0 \\\\\n",
       "\t27 & -1.0 & 2.0 \\\\\n",
       "\t28 & -1.0 & 1.0 \\\\\n",
       "\t29 & 1.0 & 1.0 \\\\\n",
       "\t30 & 1.0 & 0.0 \\\\\n",
       "\t$\\dots$ & $\\dots$ & $\\dots$ \\\\\n",
       "\\end{tabular}\n"
      ],
      "text/plain": [
       "212×2 DataFrame\n",
       "│ Row │ sex     │ locus   │\n",
       "│     │ \u001b[90mFloat64\u001b[39m │ \u001b[90mFloat64\u001b[39m │\n",
       "├─────┼─────────┼─────────┤\n",
       "│ 1   │ -1.0    │ 2.0     │\n",
       "│ 2   │ -1.0    │ 0.0     │\n",
       "│ 3   │ 1.0     │ 2.0     │\n",
       "│ 4   │ 1.0     │ 2.0     │\n",
       "│ 5   │ -1.0    │ 1.0     │\n",
       "│ 6   │ -1.0    │ 1.0     │\n",
       "│ 7   │ 1.0     │ 1.0     │\n",
       "│ 8   │ 1.0     │ 2.0     │\n",
       "│ 9   │ -1.0    │ 1.0     │\n",
       "│ 10  │ 1.0     │ 1.0     │\n",
       "⋮\n",
       "│ 202 │ 1.0     │ 1.0     │\n",
       "│ 203 │ 1.0     │ 2.0     │\n",
       "│ 204 │ -1.0    │ 1.0     │\n",
       "│ 205 │ 1.0     │ 2.0     │\n",
       "│ 206 │ 1.0     │ 1.0     │\n",
       "│ 207 │ 1.0     │ 1.0     │\n",
       "│ 208 │ 1.0     │ 1.0     │\n",
       "│ 209 │ 1.0     │ 1.0     │\n",
       "│ 210 │ 1.0     │ 1.0     │\n",
       "│ 211 │ 1.0     │ 2.0     │\n",
       "│ 212 │ 1.0     │ 0.0     │"
      ]
     },
     "execution_count": 10,
     "metadata": {},
     "output_type": "execute_result"
    }
   ],
   "source": [
    "locus = convert(Vector{Float64}, @view(snpdata[:, ind_rs10412915]))\n",
    "X = DataFrame(sex = sex, locus = locus)"
   ]
  },
  {
   "cell_type": "markdown",
   "metadata": {},
   "source": [
    "# Example 1 Generalized Linear Model:\n",
    "\n",
    "This example simulates a case where three snps have fixed effects on the trait. Any apparent genetic correlation between relatives for the trait is due to the effect of these snps, so once these effects of these snps are modelled there should be no residual correlation among relatives. Note that by default, individuals with missing genotype values will have missing phenotype values, unless the user specifies the argument `impute = true` in the convert function above.\n",
    "Be sure to change Random.seed!(1234) to something else (or comment out) if you want to generate a new data set. \n",
    "\n",
    "\n",
    "### (a) Single Trait:\n",
    "$$Y_{1} ∼ N(\\mu_{1}, \\sigma^{2})$$\n",
    "\n",
    "In example (1a) we simulate a $\\textbf{SINGLE INDEPENDENT NORMAL TRAIT}$, with simulation parameters: $\\mu_{1} = 20 + 3*sex - 1.5*locus$, $\\sigma^{2} = 2$"
   ]
  },
  {
   "cell_type": "code",
   "execution_count": 11,
   "metadata": {},
   "outputs": [
    {
     "data": {
      "text/html": [
       "<table class=\"data-frame\"><thead><tr><th></th><th>trait1</th></tr><tr><th></th><th>Float64</th></tr></thead><tbody><p>212 rows × 1 columns</p><tr><th>1</th><td>15.7347</td></tr><tr><th>2</th><td>15.1965</td></tr><tr><th>3</th><td>19.011</td></tr><tr><th>4</th><td>18.1942</td></tr><tr><th>5</th><td>17.2288</td></tr><tr><th>6</th><td>19.9238</td></tr><tr><th>7</th><td>22.5656</td></tr><tr><th>8</th><td>19.4565</td></tr><tr><th>9</th><td>16.5047</td></tr><tr><th>10</th><td>20.466</td></tr><tr><th>11</th><td>15.879</td></tr><tr><th>12</th><td>22.9614</td></tr><tr><th>13</th><td>17.2561</td></tr><tr><th>14</th><td>19.2056</td></tr><tr><th>15</th><td>12.3445</td></tr><tr><th>16</th><td>21.7202</td></tr><tr><th>17</th><td>13.4976</td></tr><tr><th>18</th><td>20.7394</td></tr><tr><th>19</th><td>14.1442</td></tr><tr><th>20</th><td>18.4931</td></tr><tr><th>21</th><td>18.6283</td></tr><tr><th>22</th><td>17.2065</td></tr><tr><th>23</th><td>22.211</td></tr><tr><th>24</th><td>19.2865</td></tr><tr><th>25</th><td>7.57728</td></tr><tr><th>26</th><td>19.852</td></tr><tr><th>27</th><td>14.302</td></tr><tr><th>28</th><td>17.0386</td></tr><tr><th>29</th><td>20.8797</td></tr><tr><th>30</th><td>21.7946</td></tr><tr><th>&vellip;</th><td>&vellip;</td></tr></tbody></table>"
      ],
      "text/latex": [
       "\\begin{tabular}{r|c}\n",
       "\t& trait1\\\\\n",
       "\t\\hline\n",
       "\t& Float64\\\\\n",
       "\t\\hline\n",
       "\t1 & 15.7347 \\\\\n",
       "\t2 & 15.1965 \\\\\n",
       "\t3 & 19.011 \\\\\n",
       "\t4 & 18.1942 \\\\\n",
       "\t5 & 17.2288 \\\\\n",
       "\t6 & 19.9238 \\\\\n",
       "\t7 & 22.5656 \\\\\n",
       "\t8 & 19.4565 \\\\\n",
       "\t9 & 16.5047 \\\\\n",
       "\t10 & 20.466 \\\\\n",
       "\t11 & 15.879 \\\\\n",
       "\t12 & 22.9614 \\\\\n",
       "\t13 & 17.2561 \\\\\n",
       "\t14 & 19.2056 \\\\\n",
       "\t15 & 12.3445 \\\\\n",
       "\t16 & 21.7202 \\\\\n",
       "\t17 & 13.4976 \\\\\n",
       "\t18 & 20.7394 \\\\\n",
       "\t19 & 14.1442 \\\\\n",
       "\t20 & 18.4931 \\\\\n",
       "\t21 & 18.6283 \\\\\n",
       "\t22 & 17.2065 \\\\\n",
       "\t23 & 22.211 \\\\\n",
       "\t24 & 19.2865 \\\\\n",
       "\t25 & 7.57728 \\\\\n",
       "\t26 & 19.852 \\\\\n",
       "\t27 & 14.302 \\\\\n",
       "\t28 & 17.0386 \\\\\n",
       "\t29 & 20.8797 \\\\\n",
       "\t30 & 21.7946 \\\\\n",
       "\t$\\dots$ & $\\dots$ \\\\\n",
       "\\end{tabular}\n"
      ],
      "text/plain": [
       "212×1 DataFrame\n",
       "│ Row │ trait1  │\n",
       "│     │ \u001b[90mFloat64\u001b[39m │\n",
       "├─────┼─────────┤\n",
       "│ 1   │ 15.7347 │\n",
       "│ 2   │ 15.1965 │\n",
       "│ 3   │ 19.011  │\n",
       "│ 4   │ 18.1942 │\n",
       "│ 5   │ 17.2288 │\n",
       "│ 6   │ 19.9238 │\n",
       "│ 7   │ 22.5656 │\n",
       "│ 8   │ 19.4565 │\n",
       "│ 9   │ 16.5047 │\n",
       "│ 10  │ 20.466  │\n",
       "⋮\n",
       "│ 202 │ 23.9794 │\n",
       "│ 203 │ 22.1232 │\n",
       "│ 204 │ 15.8523 │\n",
       "│ 205 │ 21.4285 │\n",
       "│ 206 │ 21.3635 │\n",
       "│ 207 │ 21.6066 │\n",
       "│ 208 │ 25.22   │\n",
       "│ 209 │ 23.2118 │\n",
       "│ 210 │ 20.8352 │\n",
       "│ 211 │ 20.4521 │\n",
       "│ 212 │ 22.6036 │"
      ]
     },
     "execution_count": 11,
     "metadata": {},
     "output_type": "execute_result"
    }
   ],
   "source": [
    "mean_formula = \"20 + 3(sex) - 1.5(locus)\"\n",
    "GLM_trait_model = GLMTrait(mean_formula, X, NormalResponse(2), IdentityLink())\n",
    "Simulated_GLM_trait = simulate(GLM_trait_model)"
   ]
  },
  {
   "cell_type": "code",
   "execution_count": 12,
   "metadata": {},
   "outputs": [
    {
     "data": {
      "text/html": [
       "<table class=\"data-frame\"><thead><tr><th></th><th>variable</th><th>mean</th><th>std</th><th>min</th><th>q25</th><th>median</th><th>q75</th><th>max</th><th>eltype</th></tr><tr><th></th><th>Symbol</th><th>Float64</th><th>Float64</th><th>Float64</th><th>Float64</th><th>Float64</th><th>Float64</th><th>Float64</th><th>DataType</th></tr></thead><tbody><p>1 rows × 9 columns</p><tr><th>1</th><td>trait1</td><td>18.1255</td><td>3.6456</td><td>7.57728</td><td>15.1154</td><td>18.7315</td><td>20.7634</td><td>26.2376</td><td>Float64</td></tr></tbody></table>"
      ],
      "text/latex": [
       "\\begin{tabular}{r|ccccccccc}\n",
       "\t& variable & mean & std & min & q25 & median & q75 & max & eltype\\\\\n",
       "\t\\hline\n",
       "\t& Symbol & Float64 & Float64 & Float64 & Float64 & Float64 & Float64 & Float64 & DataType\\\\\n",
       "\t\\hline\n",
       "\t1 & trait1 & 18.1255 & 3.6456 & 7.57728 & 15.1154 & 18.7315 & 20.7634 & 26.2376 & Float64 \\\\\n",
       "\\end{tabular}\n"
      ],
      "text/plain": [
       "1×9 DataFrame. Omitted printing of 2 columns\n",
       "│ Row │ variable │ mean    │ std     │ min     │ q25     │ median  │ q75     │\n",
       "│     │ \u001b[90mSymbol\u001b[39m   │ \u001b[90mFloat64\u001b[39m │ \u001b[90mFloat64\u001b[39m │ \u001b[90mFloat64\u001b[39m │ \u001b[90mFloat64\u001b[39m │ \u001b[90mFloat64\u001b[39m │ \u001b[90mFloat64\u001b[39m │\n",
       "├─────┼──────────┼─────────┼─────────┼─────────┼─────────┼─────────┼─────────┤\n",
       "│ 1   │ trait1   │ 18.1255 │ 3.6456  │ 7.57728 │ 15.1154 │ 18.7315 │ 20.7634 │"
      ]
     },
     "execution_count": 12,
     "metadata": {},
     "output_type": "execute_result"
    }
   ],
   "source": [
    "describe(Simulated_GLM_trait, stats = [:mean, :std, :min, :q25, :median, :q75, :max, :eltype])"
   ]
  },
  {
   "cell_type": "markdown",
   "metadata": {},
   "source": [
    "## Saving Simulation Results to Local Machine\n",
    "\n",
    "Write the newly simulated trait into a comma separated (csv) file for later use. Note that the user can specify the separator to '\\t' for tab separated, or another separator of choice. \n",
    "\n",
    "Here we output the simulated trait and covariates for each of the 212 individuals, labeled by their pedigree ID and person ID."
   ]
  },
  {
   "cell_type": "code",
   "execution_count": 13,
   "metadata": {},
   "outputs": [
    {
     "data": {
      "text/html": [
       "<table class=\"data-frame\"><thead><tr><th></th><th>FamID</th><th>PID</th><th>trait1</th><th>sex</th><th>locus</th></tr><tr><th></th><th>Any</th><th>Any</th><th>Float64</th><th>Float64</th><th>Float64</th></tr></thead><tbody><p>212 rows × 5 columns</p><tr><th>1</th><td>1</td><td>16</td><td>15.7347</td><td>-1.0</td><td>2.0</td></tr><tr><th>2</th><td>1</td><td>8228</td><td>15.1965</td><td>-1.0</td><td>0.0</td></tr><tr><th>3</th><td>1</td><td>17008</td><td>19.011</td><td>1.0</td><td>2.0</td></tr><tr><th>4</th><td>1</td><td>9218</td><td>18.1942</td><td>1.0</td><td>2.0</td></tr><tr><th>5</th><td>1</td><td>3226</td><td>17.2288</td><td>-1.0</td><td>1.0</td></tr><tr><th>6</th><td>2</td><td>29</td><td>19.9238</td><td>-1.0</td><td>1.0</td></tr><tr><th>7</th><td>2</td><td>2294</td><td>22.5656</td><td>1.0</td><td>1.0</td></tr><tr><th>8</th><td>2</td><td>3416</td><td>19.4565</td><td>1.0</td><td>2.0</td></tr><tr><th>9</th><td>2</td><td>17893</td><td>16.5047</td><td>-1.0</td><td>1.0</td></tr><tr><th>10</th><td>2</td><td>6952</td><td>20.466</td><td>1.0</td><td>1.0</td></tr><tr><th>11</th><td>2</td><td>14695</td><td>15.879</td><td>-1.0</td><td>0.0</td></tr><tr><th>12</th><td>2</td><td>6790</td><td>22.9614</td><td>1.0</td><td>0.0</td></tr><tr><th>13</th><td>2</td><td>3916</td><td>17.2561</td><td>-1.0</td><td>0.0</td></tr><tr><th>14</th><td>3</td><td>39</td><td>19.2056</td><td>-1.0</td><td>1.0</td></tr><tr><th>15</th><td>3</td><td>4521</td><td>12.3445</td><td>-1.0</td><td>2.0</td></tr><tr><th>16</th><td>3</td><td>8366</td><td>21.7202</td><td>1.0</td><td>1.0</td></tr><tr><th>17</th><td>3</td><td>16693</td><td>13.4976</td><td>-1.0</td><td>2.0</td></tr><tr><th>18</th><td>3</td><td>21688</td><td>20.7394</td><td>1.0</td><td>2.0</td></tr><tr><th>19</th><td>3</td><td>25532</td><td>14.1442</td><td>-1.0</td><td>2.0</td></tr><tr><th>20</th><td>3</td><td>26294</td><td>18.4931</td><td>1.0</td><td>1.0</td></tr><tr><th>21</th><td>3</td><td>16795</td><td>18.6283</td><td>-1.0</td><td>1.0</td></tr><tr><th>22</th><td>3</td><td>17445</td><td>17.2065</td><td>1.0</td><td>2.0</td></tr><tr><th>23</th><td>3</td><td>2039</td><td>22.211</td><td>1.0</td><td>2.0</td></tr><tr><th>24</th><td>3</td><td>2831</td><td>19.2865</td><td>1.0</td><td>1.0</td></tr><tr><th>25</th><td>4</td><td>54</td><td>7.57728</td><td>-1.0</td><td>2.0</td></tr><tr><th>26</th><td>4</td><td>5072</td><td>19.852</td><td>1.0</td><td>2.0</td></tr><tr><th>27</th><td>4</td><td>17240</td><td>14.302</td><td>-1.0</td><td>2.0</td></tr><tr><th>28</th><td>5</td><td>70</td><td>17.0386</td><td>-1.0</td><td>1.0</td></tr><tr><th>29</th><td>5</td><td>24010</td><td>20.8797</td><td>1.0</td><td>1.0</td></tr><tr><th>30</th><td>5</td><td>21999</td><td>21.7946</td><td>1.0</td><td>0.0</td></tr><tr><th>&vellip;</th><td>&vellip;</td><td>&vellip;</td><td>&vellip;</td><td>&vellip;</td><td>&vellip;</td></tr></tbody></table>"
      ],
      "text/latex": [
       "\\begin{tabular}{r|ccccc}\n",
       "\t& FamID & PID & trait1 & sex & locus\\\\\n",
       "\t\\hline\n",
       "\t& Any & Any & Float64 & Float64 & Float64\\\\\n",
       "\t\\hline\n",
       "\t1 & 1 & 16 & 15.7347 & -1.0 & 2.0 \\\\\n",
       "\t2 & 1 & 8228 & 15.1965 & -1.0 & 0.0 \\\\\n",
       "\t3 & 1 & 17008 & 19.011 & 1.0 & 2.0 \\\\\n",
       "\t4 & 1 & 9218 & 18.1942 & 1.0 & 2.0 \\\\\n",
       "\t5 & 1 & 3226 & 17.2288 & -1.0 & 1.0 \\\\\n",
       "\t6 & 2 & 29 & 19.9238 & -1.0 & 1.0 \\\\\n",
       "\t7 & 2 & 2294 & 22.5656 & 1.0 & 1.0 \\\\\n",
       "\t8 & 2 & 3416 & 19.4565 & 1.0 & 2.0 \\\\\n",
       "\t9 & 2 & 17893 & 16.5047 & -1.0 & 1.0 \\\\\n",
       "\t10 & 2 & 6952 & 20.466 & 1.0 & 1.0 \\\\\n",
       "\t11 & 2 & 14695 & 15.879 & -1.0 & 0.0 \\\\\n",
       "\t12 & 2 & 6790 & 22.9614 & 1.0 & 0.0 \\\\\n",
       "\t13 & 2 & 3916 & 17.2561 & -1.0 & 0.0 \\\\\n",
       "\t14 & 3 & 39 & 19.2056 & -1.0 & 1.0 \\\\\n",
       "\t15 & 3 & 4521 & 12.3445 & -1.0 & 2.0 \\\\\n",
       "\t16 & 3 & 8366 & 21.7202 & 1.0 & 1.0 \\\\\n",
       "\t17 & 3 & 16693 & 13.4976 & -1.0 & 2.0 \\\\\n",
       "\t18 & 3 & 21688 & 20.7394 & 1.0 & 2.0 \\\\\n",
       "\t19 & 3 & 25532 & 14.1442 & -1.0 & 2.0 \\\\\n",
       "\t20 & 3 & 26294 & 18.4931 & 1.0 & 1.0 \\\\\n",
       "\t21 & 3 & 16795 & 18.6283 & -1.0 & 1.0 \\\\\n",
       "\t22 & 3 & 17445 & 17.2065 & 1.0 & 2.0 \\\\\n",
       "\t23 & 3 & 2039 & 22.211 & 1.0 & 2.0 \\\\\n",
       "\t24 & 3 & 2831 & 19.2865 & 1.0 & 1.0 \\\\\n",
       "\t25 & 4 & 54 & 7.57728 & -1.0 & 2.0 \\\\\n",
       "\t26 & 4 & 5072 & 19.852 & 1.0 & 2.0 \\\\\n",
       "\t27 & 4 & 17240 & 14.302 & -1.0 & 2.0 \\\\\n",
       "\t28 & 5 & 70 & 17.0386 & -1.0 & 1.0 \\\\\n",
       "\t29 & 5 & 24010 & 20.8797 & 1.0 & 1.0 \\\\\n",
       "\t30 & 5 & 21999 & 21.7946 & 1.0 & 0.0 \\\\\n",
       "\t$\\dots$ & $\\dots$ & $\\dots$ & $\\dots$ & $\\dots$ & $\\dots$ \\\\\n",
       "\\end{tabular}\n"
      ],
      "text/plain": [
       "212×5 DataFrame\n",
       "│ Row │ FamID │ PID   │ trait1  │ sex     │ locus   │\n",
       "│     │ \u001b[90mAny\u001b[39m   │ \u001b[90mAny\u001b[39m   │ \u001b[90mFloat64\u001b[39m │ \u001b[90mFloat64\u001b[39m │ \u001b[90mFloat64\u001b[39m │\n",
       "├─────┼───────┼───────┼─────────┼─────────┼─────────┤\n",
       "│ 1   │ 1     │ 16    │ 15.7347 │ -1.0    │ 2.0     │\n",
       "│ 2   │ 1     │ 8228  │ 15.1965 │ -1.0    │ 0.0     │\n",
       "│ 3   │ 1     │ 17008 │ 19.011  │ 1.0     │ 2.0     │\n",
       "│ 4   │ 1     │ 9218  │ 18.1942 │ 1.0     │ 2.0     │\n",
       "│ 5   │ 1     │ 3226  │ 17.2288 │ -1.0    │ 1.0     │\n",
       "│ 6   │ 2     │ 29    │ 19.9238 │ -1.0    │ 1.0     │\n",
       "│ 7   │ 2     │ 2294  │ 22.5656 │ 1.0     │ 1.0     │\n",
       "│ 8   │ 2     │ 3416  │ 19.4565 │ 1.0     │ 2.0     │\n",
       "│ 9   │ 2     │ 17893 │ 16.5047 │ -1.0    │ 1.0     │\n",
       "│ 10  │ 2     │ 6952  │ 20.466  │ 1.0     │ 1.0     │\n",
       "⋮\n",
       "│ 202 │ 31    │ 16139 │ 23.9794 │ 1.0     │ 1.0     │\n",
       "│ 203 │ 31    │ 10439 │ 22.1232 │ 1.0     │ 2.0     │\n",
       "│ 204 │ 31    │ 63    │ 15.8523 │ -1.0    │ 1.0     │\n",
       "│ 205 │ 10006 │ 66    │ 21.4285 │ 1.0     │ 2.0     │\n",
       "│ 206 │ 10008 │ 92    │ 21.3635 │ 1.0     │ 1.0     │\n",
       "│ 207 │ 10014 │ 186   │ 21.6066 │ 1.0     │ 1.0     │\n",
       "│ 208 │ 10027 │ 374   │ 25.22   │ 1.0     │ 1.0     │\n",
       "│ 209 │ 10029 │ 434   │ 23.2118 │ 1.0     │ 1.0     │\n",
       "│ 210 │ 10033 │ 333   │ 20.8352 │ 1.0     │ 1.0     │\n",
       "│ 211 │ 10040 │ 234   │ 20.4521 │ 1.0     │ 2.0     │\n",
       "│ 212 │ 10045 │ 789   │ 22.6036 │ 1.0     │ 0.0     │"
      ]
     },
     "execution_count": 13,
     "metadata": {},
     "output_type": "execute_result"
    }
   ],
   "source": [
    "Trait1_GLM = hcat(Fam_Person_id, Simulated_GLM_trait, X)"
   ]
  },
  {
   "cell_type": "code",
   "execution_count": 14,
   "metadata": {},
   "outputs": [
    {
     "data": {
      "text/plain": [
       "\"Trait1_GLM.csv\""
      ]
     },
     "execution_count": 14,
     "metadata": {},
     "output_type": "execute_result"
    }
   ],
   "source": [
    "#cd(\"/Users\") #change to home directory\n",
    "CSV.write(\"Trait1_GLM.csv\", Trait1_GLM)"
   ]
  },
  {
   "cell_type": "markdown",
   "metadata": {},
   "source": [
    "### (b) Multiple Independent Traits: User specified distributions\n",
    "\n",
    "Here we simulate two independent traits simultaneously, one from a Normal distribution and the other from a Poisson Distribution. \n",
    "We create the following 3 vectors to specify the simulation parameters of the two independent traits: \n",
    "\n",
    "&nbsp; &nbsp; `dist_type_vector` &nbsp; &nbsp; `link_type_vector` &nbsp; &nbsp; `mean_formulas`\n",
    "\n",
    "$$\n",
    "Y_{1} ∼ N(\\mu_{1}, 2),  \\mu_{1} = 40 + 3(sex) - 1.5(locus)\\\\\n",
    "Y_{2} ∼ Poisson(\\mu_{2}),  \\mu_{2} = 2 + 2(sex) - 1.5(locus)\\\\\n",
    "$$"
   ]
  },
  {
   "cell_type": "code",
   "execution_count": 15,
   "metadata": {},
   "outputs": [
    {
     "data": {
      "text/html": [
       "<table class=\"data-frame\"><thead><tr><th></th><th>trait1</th><th>trait2</th></tr><tr><th></th><th>Float64</th><th>Int64</th></tr></thead><tbody><p>212 rows × 2 columns</p><tr><th>1</th><td>37.4354</td><td>0</td></tr><tr><th>2</th><td>37.2644</td><td>1</td></tr><tr><th>3</th><td>41.2831</td><td>4</td></tr><tr><th>4</th><td>36.6568</td><td>3</td></tr><tr><th>5</th><td>40.5592</td><td>0</td></tr><tr><th>6</th><td>32.4229</td><td>0</td></tr><tr><th>7</th><td>41.5765</td><td>12</td></tr><tr><th>8</th><td>39.3002</td><td>2</td></tr><tr><th>9</th><td>35.565</td><td>0</td></tr><tr><th>10</th><td>38.8137</td><td>10</td></tr><tr><th>11</th><td>33.6275</td><td>3</td></tr><tr><th>12</th><td>43.8571</td><td>63</td></tr><tr><th>13</th><td>35.6468</td><td>3</td></tr><tr><th>14</th><td>35.9737</td><td>0</td></tr><tr><th>15</th><td>36.8957</td><td>0</td></tr><tr><th>16</th><td>40.6911</td><td>9</td></tr><tr><th>17</th><td>35.9639</td><td>0</td></tr><tr><th>18</th><td>41.7688</td><td>4</td></tr><tr><th>19</th><td>35.7608</td><td>0</td></tr><tr><th>20</th><td>40.4029</td><td>11</td></tr><tr><th>21</th><td>34.6104</td><td>0</td></tr><tr><th>22</th><td>38.0742</td><td>2</td></tr><tr><th>23</th><td>42.0622</td><td>6</td></tr><tr><th>24</th><td>39.6058</td><td>13</td></tr><tr><th>25</th><td>32.5136</td><td>0</td></tr><tr><th>26</th><td>41.6023</td><td>1</td></tr><tr><th>27</th><td>31.2077</td><td>0</td></tr><tr><th>28</th><td>32.6917</td><td>0</td></tr><tr><th>29</th><td>41.6899</td><td>16</td></tr><tr><th>30</th><td>41.8075</td><td>54</td></tr><tr><th>&vellip;</th><td>&vellip;</td><td>&vellip;</td></tr></tbody></table>"
      ],
      "text/latex": [
       "\\begin{tabular}{r|cc}\n",
       "\t& trait1 & trait2\\\\\n",
       "\t\\hline\n",
       "\t& Float64 & Int64\\\\\n",
       "\t\\hline\n",
       "\t1 & 37.4354 & 0 \\\\\n",
       "\t2 & 37.2644 & 1 \\\\\n",
       "\t3 & 41.2831 & 4 \\\\\n",
       "\t4 & 36.6568 & 3 \\\\\n",
       "\t5 & 40.5592 & 0 \\\\\n",
       "\t6 & 32.4229 & 0 \\\\\n",
       "\t7 & 41.5765 & 12 \\\\\n",
       "\t8 & 39.3002 & 2 \\\\\n",
       "\t9 & 35.565 & 0 \\\\\n",
       "\t10 & 38.8137 & 10 \\\\\n",
       "\t11 & 33.6275 & 3 \\\\\n",
       "\t12 & 43.8571 & 63 \\\\\n",
       "\t13 & 35.6468 & 3 \\\\\n",
       "\t14 & 35.9737 & 0 \\\\\n",
       "\t15 & 36.8957 & 0 \\\\\n",
       "\t16 & 40.6911 & 9 \\\\\n",
       "\t17 & 35.9639 & 0 \\\\\n",
       "\t18 & 41.7688 & 4 \\\\\n",
       "\t19 & 35.7608 & 0 \\\\\n",
       "\t20 & 40.4029 & 11 \\\\\n",
       "\t21 & 34.6104 & 0 \\\\\n",
       "\t22 & 38.0742 & 2 \\\\\n",
       "\t23 & 42.0622 & 6 \\\\\n",
       "\t24 & 39.6058 & 13 \\\\\n",
       "\t25 & 32.5136 & 0 \\\\\n",
       "\t26 & 41.6023 & 1 \\\\\n",
       "\t27 & 31.2077 & 0 \\\\\n",
       "\t28 & 32.6917 & 0 \\\\\n",
       "\t29 & 41.6899 & 16 \\\\\n",
       "\t30 & 41.8075 & 54 \\\\\n",
       "\t$\\dots$ & $\\dots$ & $\\dots$ \\\\\n",
       "\\end{tabular}\n"
      ],
      "text/plain": [
       "212×2 DataFrame\n",
       "│ Row │ trait1  │ trait2 │\n",
       "│     │ \u001b[90mFloat64\u001b[39m │ \u001b[90mInt64\u001b[39m  │\n",
       "├─────┼─────────┼────────┤\n",
       "│ 1   │ 37.4354 │ 0      │\n",
       "│ 2   │ 37.2644 │ 1      │\n",
       "│ 3   │ 41.2831 │ 4      │\n",
       "│ 4   │ 36.6568 │ 3      │\n",
       "│ 5   │ 40.5592 │ 0      │\n",
       "│ 6   │ 32.4229 │ 0      │\n",
       "│ 7   │ 41.5765 │ 12     │\n",
       "│ 8   │ 39.3002 │ 2      │\n",
       "│ 9   │ 35.565  │ 0      │\n",
       "│ 10  │ 38.8137 │ 10     │\n",
       "⋮\n",
       "│ 202 │ 39.8518 │ 10     │\n",
       "│ 203 │ 39.3955 │ 4      │\n",
       "│ 204 │ 34.7307 │ 0      │\n",
       "│ 205 │ 45.2565 │ 3      │\n",
       "│ 206 │ 43.8366 │ 9      │\n",
       "│ 207 │ 42.5765 │ 12     │\n",
       "│ 208 │ 41.2778 │ 12     │\n",
       "│ 209 │ 42.9404 │ 15     │\n",
       "│ 210 │ 42.3946 │ 16     │\n",
       "│ 211 │ 41.2026 │ 1      │\n",
       "│ 212 │ 42.2378 │ 55     │"
      ]
     },
     "execution_count": 15,
     "metadata": {},
     "output_type": "execute_result"
    }
   ],
   "source": [
    "#for multiple glm traits from different distributions\n",
    "dist_type_vector = [NormalResponse(2), PoissonResponse()]\n",
    "link_type_vector = [IdentityLink(), LogLink()]\n",
    "\n",
    "mean_formulas = [\"40 + 3(sex) - 1.5(locus)\", \"2 + 2(sex) - 1.5(locus)\"]\n",
    "\n",
    "Multiple_GLM_traits_model = Multiple_GLMTraits(mean_formulas, X, dist_type_vector, link_type_vector)\n",
    "Simulated_GLM_traits = simulate(Multiple_GLM_traits_model)"
   ]
  },
  {
   "cell_type": "code",
   "execution_count": 16,
   "metadata": {},
   "outputs": [
    {
     "data": {
      "text/html": [
       "<table class=\"data-frame\"><thead><tr><th></th><th>variable</th><th>mean</th><th>std</th><th>min</th><th>q25</th><th>median</th><th>q75</th><th>max</th><th>eltype</th></tr><tr><th></th><th>Symbol</th><th>Float64</th><th>Float64</th><th>Real</th><th>Float64</th><th>Float64</th><th>Float64</th><th>Real</th><th>DataType</th></tr></thead><tbody><p>2 rows × 9 columns</p><tr><th>1</th><td>trait1</td><td>38.0713</td><td>3.57693</td><td>28.8424</td><td>34.959</td><td>38.0992</td><td>40.9793</td><td>45.999</td><td>Float64</td></tr><tr><th>2</th><td>trait2</td><td>6.41509</td><td>12.7449</td><td>0</td><td>0.0</td><td>1.0</td><td>9.0</td><td>71</td><td>Int64</td></tr></tbody></table>"
      ],
      "text/latex": [
       "\\begin{tabular}{r|ccccccccc}\n",
       "\t& variable & mean & std & min & q25 & median & q75 & max & eltype\\\\\n",
       "\t\\hline\n",
       "\t& Symbol & Float64 & Float64 & Real & Float64 & Float64 & Float64 & Real & DataType\\\\\n",
       "\t\\hline\n",
       "\t1 & trait1 & 38.0713 & 3.57693 & 28.8424 & 34.959 & 38.0992 & 40.9793 & 45.999 & Float64 \\\\\n",
       "\t2 & trait2 & 6.41509 & 12.7449 & 0 & 0.0 & 1.0 & 9.0 & 71 & Int64 \\\\\n",
       "\\end{tabular}\n"
      ],
      "text/plain": [
       "2×9 DataFrame. Omitted printing of 2 columns\n",
       "│ Row │ variable │ mean    │ std     │ min     │ q25     │ median  │ q75     │\n",
       "│     │ \u001b[90mSymbol\u001b[39m   │ \u001b[90mFloat64\u001b[39m │ \u001b[90mFloat64\u001b[39m │ \u001b[90mReal\u001b[39m    │ \u001b[90mFloat64\u001b[39m │ \u001b[90mFloat64\u001b[39m │ \u001b[90mFloat64\u001b[39m │\n",
       "├─────┼──────────┼─────────┼─────────┼─────────┼─────────┼─────────┼─────────┤\n",
       "│ 1   │ trait1   │ 38.0713 │ 3.57693 │ 28.8424 │ 34.959  │ 38.0992 │ 40.9793 │\n",
       "│ 2   │ trait2   │ 6.41509 │ 12.7449 │ 0       │ 0.0     │ 1.0     │ 9.0     │"
      ]
     },
     "execution_count": 16,
     "metadata": {},
     "output_type": "execute_result"
    }
   ],
   "source": [
    "describe(Simulated_GLM_traits, stats = [:mean, :std, :min, :q25, :median, :q75, :max, :eltype])"
   ]
  },
  {
   "cell_type": "markdown",
   "metadata": {},
   "source": [
    "# Example 2: Linear Mixed Model\n",
    "Examples 2a simulates a single trait, while Example 2b simulates two correlated traits with additive genetic variance component.\n",
    "\n",
    "We make note that the user can extend the model in Example 2b to include more than 2 variance components using the `@vc` macro.\n"
   ]
  },
  {
   "cell_type": "markdown",
   "metadata": {},
   "source": [
    "## The Variance Covariance Matrix\n",
    "\n",
    "Recall : $E(\\mathbf{GRM}) = \\Phi$\n",
    "<br>\n",
    "We use the [SnpArrays.jl](https://github.com/OpenMendel/SnpArrays.jl) package to find an estimate of the Kinship ($\\Phi$), the Genetic Relationship Matrix (GRM). \n",
    "\n",
    "We will use the same values of $\\mathbf{GRM}$, $V_a$, and $V_e$ for both the mixed effect example and for the rare variant example.\n",
    "\n",
    "Note that the residual covariance among two relatives is the additive genetic variance, $V_a$, times twice the kinship coefficient, $\\Phi$. The kinship matrix is derived from the genetic relationship matrix (GRM) across the common SNPs with minor allele frequency at least 0.05."
   ]
  },
  {
   "cell_type": "code",
   "execution_count": 17,
   "metadata": {},
   "outputs": [
    {
     "data": {
      "text/plain": [
       "212×212 Array{Float64,2}:\n",
       "  0.498264     0.0080878    0.0164327   …   0.0246825    0.00181856\n",
       "  0.0080878    0.498054    -0.0212599      -0.0285927   -0.0226525 \n",
       "  0.0164327   -0.0212599    0.499442       -0.0219661   -0.00748536\n",
       "  0.253627    -0.00160532   0.282542        0.00612693  -0.00339125\n",
       "  0.126098     0.253365     0.128931       -0.0158446   -0.00633959\n",
       " -0.014971    -0.00266073  -0.00243384  …   0.00384757   0.0145936 \n",
       " -0.0221357    0.0100492   -0.0107012      -0.0148443   -0.00127783\n",
       " -0.01629     -0.00749253  -0.015372       -0.0163305   -0.00258392\n",
       " -0.016679     0.00353587  -0.0128844      -0.0332489   -0.00707839\n",
       " -0.0176101   -0.00996912  -0.0158473      -0.00675875  -0.0122339 \n",
       " -0.0162558    0.00938592   0.0064231   …  -0.00510882   0.0168778 \n",
       " -0.0167487    0.00414544  -0.00936538     -0.0134863    0.0020952 \n",
       " -0.031148     0.00112387  -0.010794        0.00383105   0.0198635 \n",
       "  ⋮                                     ⋱   ⋮                      \n",
       " -0.00865735  -0.00335548  -0.0148433   …   0.00806601  -0.0211537 \n",
       "  0.00296028   0.0043655   -0.0183683       0.0012496    0.00898193\n",
       " -0.0204601   -0.0270898   -0.00194048     -0.0185883   -0.0116621 \n",
       " -0.0174561   -0.0128509   -0.0155773      -0.0274183   -0.0063823 \n",
       " -0.00170995   0.0154211   -0.00168146     -0.00684865  -0.0067438 \n",
       "  0.00718047  -0.00525265  -0.00283975  …   0.0309601    0.0261103 \n",
       " -0.0170218   -0.00661916   0.0020924      -0.022858     0.0037451 \n",
       "  0.0142551    0.0208073    0.0096287       0.00598877   0.0094809 \n",
       " -0.00586031  -0.00733706   0.0339257       0.0109116   -0.0177771 \n",
       "  0.00299024  -0.0134027    0.0150825       0.00799507   0.0150077 \n",
       "  0.0246825   -0.0285927   -0.0219661   …   0.593999     0.0497083 \n",
       "  0.00181856  -0.0226525   -0.00748536      0.0497083    0.491743  "
      ]
     },
     "execution_count": 17,
     "metadata": {},
     "output_type": "execute_result"
    }
   ],
   "source": [
    "GRM = grm(snpdata, minmaf = 0.05)"
   ]
  },
  {
   "cell_type": "code",
   "execution_count": 18,
   "metadata": {},
   "outputs": [],
   "source": [
    "V_A = [4 1; 1 4]\n",
    "V_E = [2.0 0.0; 0.0 2.0]\n",
    "I_n = Matrix{Float64}(I, size(GRM));"
   ]
  },
  {
   "cell_type": "markdown",
   "metadata": {},
   "source": [
    "### (a)  Single Trait \n",
    "$$\n",
    "Y ∼ N(μ_1, 4* 2GRM + 2I)$$\n",
    "\n",
    "We simulate a Normal Trait controlling for family structure, location = $\\mu_1$ and scale =  $\\mathbf{V} = 2*V_a \\Phi + V_e I = 4* 2GRM + 2I$. \n"
   ]
  },
  {
   "cell_type": "code",
   "execution_count": 19,
   "metadata": {},
   "outputs": [
    {
     "data": {
      "text/plain": [
       "1-element Array{String,1}:\n",
       " \"40 + 3(sex) - 1.5(locus)\""
      ]
     },
     "execution_count": 19,
     "metadata": {},
     "output_type": "execute_result"
    }
   ],
   "source": [
    "mean_formula = [\"40 + 3(sex) - 1.5(locus)\"]"
   ]
  },
  {
   "cell_type": "code",
   "execution_count": 20,
   "metadata": {},
   "outputs": [
    {
     "data": {
      "text/html": [
       "<table class=\"data-frame\"><thead><tr><th></th><th>trait1</th></tr><tr><th></th><th>Float64</th></tr></thead><tbody><p>212 rows × 1 columns</p><tr><th>1</th><td>31.4544</td></tr><tr><th>2</th><td>34.2562</td></tr><tr><th>3</th><td>36.6463</td></tr><tr><th>4</th><td>39.7548</td></tr><tr><th>5</th><td>38.2776</td></tr><tr><th>6</th><td>34.0764</td></tr><tr><th>7</th><td>39.1432</td></tr><tr><th>8</th><td>35.9694</td></tr><tr><th>9</th><td>32.7591</td></tr><tr><th>10</th><td>40.944</td></tr><tr><th>11</th><td>35.5855</td></tr><tr><th>12</th><td>42.1372</td></tr><tr><th>13</th><td>35.9122</td></tr><tr><th>14</th><td>36.8415</td></tr><tr><th>15</th><td>31.5934</td></tr><tr><th>16</th><td>40.6299</td></tr><tr><th>17</th><td>36.7439</td></tr><tr><th>18</th><td>40.7892</td></tr><tr><th>19</th><td>34.0102</td></tr><tr><th>20</th><td>39.8441</td></tr><tr><th>21</th><td>35.633</td></tr><tr><th>22</th><td>42.4827</td></tr><tr><th>23</th><td>39.0537</td></tr><tr><th>24</th><td>42.8845</td></tr><tr><th>25</th><td>34.5922</td></tr><tr><th>26</th><td>40.1701</td></tr><tr><th>27</th><td>35.1364</td></tr><tr><th>28</th><td>40.3758</td></tr><tr><th>29</th><td>43.5727</td></tr><tr><th>30</th><td>43.763</td></tr><tr><th>&vellip;</th><td>&vellip;</td></tr></tbody></table>"
      ],
      "text/latex": [
       "\\begin{tabular}{r|c}\n",
       "\t& trait1\\\\\n",
       "\t\\hline\n",
       "\t& Float64\\\\\n",
       "\t\\hline\n",
       "\t1 & 31.4544 \\\\\n",
       "\t2 & 34.2562 \\\\\n",
       "\t3 & 36.6463 \\\\\n",
       "\t4 & 39.7548 \\\\\n",
       "\t5 & 38.2776 \\\\\n",
       "\t6 & 34.0764 \\\\\n",
       "\t7 & 39.1432 \\\\\n",
       "\t8 & 35.9694 \\\\\n",
       "\t9 & 32.7591 \\\\\n",
       "\t10 & 40.944 \\\\\n",
       "\t11 & 35.5855 \\\\\n",
       "\t12 & 42.1372 \\\\\n",
       "\t13 & 35.9122 \\\\\n",
       "\t14 & 36.8415 \\\\\n",
       "\t15 & 31.5934 \\\\\n",
       "\t16 & 40.6299 \\\\\n",
       "\t17 & 36.7439 \\\\\n",
       "\t18 & 40.7892 \\\\\n",
       "\t19 & 34.0102 \\\\\n",
       "\t20 & 39.8441 \\\\\n",
       "\t21 & 35.633 \\\\\n",
       "\t22 & 42.4827 \\\\\n",
       "\t23 & 39.0537 \\\\\n",
       "\t24 & 42.8845 \\\\\n",
       "\t25 & 34.5922 \\\\\n",
       "\t26 & 40.1701 \\\\\n",
       "\t27 & 35.1364 \\\\\n",
       "\t28 & 40.3758 \\\\\n",
       "\t29 & 43.5727 \\\\\n",
       "\t30 & 43.763 \\\\\n",
       "\t$\\dots$ & $\\dots$ \\\\\n",
       "\\end{tabular}\n"
      ],
      "text/plain": [
       "212×1 DataFrame\n",
       "│ Row │ trait1  │\n",
       "│     │ \u001b[90mFloat64\u001b[39m │\n",
       "├─────┼─────────┤\n",
       "│ 1   │ 31.4544 │\n",
       "│ 2   │ 34.2562 │\n",
       "│ 3   │ 36.6463 │\n",
       "│ 4   │ 39.7548 │\n",
       "│ 5   │ 38.2776 │\n",
       "│ 6   │ 34.0764 │\n",
       "│ 7   │ 39.1432 │\n",
       "│ 8   │ 35.9694 │\n",
       "│ 9   │ 32.7591 │\n",
       "│ 10  │ 40.944  │\n",
       "⋮\n",
       "│ 202 │ 39.0072 │\n",
       "│ 203 │ 39.6513 │\n",
       "│ 204 │ 31.6072 │\n",
       "│ 205 │ 42.6381 │\n",
       "│ 206 │ 38.3764 │\n",
       "│ 207 │ 45.0033 │\n",
       "│ 208 │ 37.4731 │\n",
       "│ 209 │ 41.9462 │\n",
       "│ 210 │ 39.6536 │\n",
       "│ 211 │ 37.4564 │\n",
       "│ 212 │ 43.7662 │"
      ]
     },
     "execution_count": 20,
     "metadata": {},
     "output_type": "execute_result"
    }
   ],
   "source": [
    "LMM_trait_model = LMMTrait(mean_formula, X, 4*(2*GRM) + 2*(I_n))\n",
    "Simulated_LMM_Trait = simulate(LMM_trait_model)"
   ]
  },
  {
   "cell_type": "code",
   "execution_count": 21,
   "metadata": {},
   "outputs": [
    {
     "data": {
      "text/html": [
       "<table class=\"data-frame\"><thead><tr><th></th><th>variable</th><th>mean</th><th>std</th><th>min</th><th>q25</th><th>median</th><th>q75</th><th>max</th><th>eltype</th></tr><tr><th></th><th>Symbol</th><th>Float64</th><th>Float64</th><th>Float64</th><th>Float64</th><th>Float64</th><th>Float64</th><th>Float64</th><th>DataType</th></tr></thead><tbody><p>1 rows × 9 columns</p><tr><th>1</th><td>trait1</td><td>37.8829</td><td>4.08968</td><td>27.8396</td><td>34.6912</td><td>37.6513</td><td>41.2068</td><td>46.153</td><td>Float64</td></tr></tbody></table>"
      ],
      "text/latex": [
       "\\begin{tabular}{r|ccccccccc}\n",
       "\t& variable & mean & std & min & q25 & median & q75 & max & eltype\\\\\n",
       "\t\\hline\n",
       "\t& Symbol & Float64 & Float64 & Float64 & Float64 & Float64 & Float64 & Float64 & DataType\\\\\n",
       "\t\\hline\n",
       "\t1 & trait1 & 37.8829 & 4.08968 & 27.8396 & 34.6912 & 37.6513 & 41.2068 & 46.153 & Float64 \\\\\n",
       "\\end{tabular}\n"
      ],
      "text/plain": [
       "1×9 DataFrame. Omitted printing of 2 columns\n",
       "│ Row │ variable │ mean    │ std     │ min     │ q25     │ median  │ q75     │\n",
       "│     │ \u001b[90mSymbol\u001b[39m   │ \u001b[90mFloat64\u001b[39m │ \u001b[90mFloat64\u001b[39m │ \u001b[90mFloat64\u001b[39m │ \u001b[90mFloat64\u001b[39m │ \u001b[90mFloat64\u001b[39m │ \u001b[90mFloat64\u001b[39m │\n",
       "├─────┼──────────┼─────────┼─────────┼─────────┼─────────┼─────────┼─────────┤\n",
       "│ 1   │ trait1   │ 37.8829 │ 4.08968 │ 27.8396 │ 34.6912 │ 37.6513 │ 41.2068 │"
      ]
     },
     "execution_count": 21,
     "metadata": {},
     "output_type": "execute_result"
    }
   ],
   "source": [
    "describe(Simulated_LMM_Trait, stats = [:mean, :std, :min, :q25, :median, :q75, :max, :eltype])"
   ]
  },
  {
   "cell_type": "markdown",
   "metadata": {},
   "source": [
    "### (b) Multiple Correlated Traits: (Mendel Example 28e Simulation)\n",
    "\n",
    "We simulate two correlated Normal Traits controlling for family structure, location = $μ$ and scale = $\\mathbf\\Sigma$.\n",
    "The corresponding variance covariance matrix as specified Mendel Option 28e, $\\mathbf{Σ}$, is generated here.\n",
    "\n",
    "$$\n",
    "Y ∼ N(μ, \\mathbf\\Sigma)\n",
    "$$ \n",
    "\n",
    "$$\n",
    "\\mathbf{\\mu} = \\begin{vmatrix}\n",
    "\\mu_1 \\\\\n",
    "\\mu_2 \\\\\n",
    "\\end{vmatrix}\n",
    "= \\begin{vmatrix}\n",
    "40 + 3(sex) - 1.5(locus)\\\\\n",
    "20 + 2(sex) - 1.5(locus)\\\\\n",
    "\\end{vmatrix}\n",
    "\\\\\n",
    "$$\n",
    "\n",
    "$$\n",
    "\\mathbf\\Sigma  = V_a \\otimes (2GRM) + V_e \\otimes I_n\n",
    "$$\n",
    "\n",
    "\n",
    "&nbsp; $FYI$: To create a trait with different variance components change the elements of $\\mathbf\\Sigma$. We create the variance component object `variance_formula` below, to simulate our traits in example 2b. While this tutorial only uses 2 variance components, we make note that the `@vc` macro is designed to handle as many variance components as needed. \n",
    "\n",
    "As long as each Variance Component is specified correctly, we can create a `VarianceComponent` Julia object for Trait Simulation:\n",
    "\n",
    "&nbsp; \n",
    "Example) Specifying more than 2 variance components (let V_B indicate an additional Environmental Variance component) \n",
    "```{julia}\n",
    "multiple_variance_formula = @vc V_A ⊗ GRM + V_E1 ⊗ I_n + V_E2 ⊗ I_n + V_E3 ⊗ I_n;\n",
    "```\n"
   ]
  },
  {
   "cell_type": "code",
   "execution_count": 22,
   "metadata": {},
   "outputs": [],
   "source": [
    "# @vc is a macro that creates a 'VarianceComponent' Type for simulation\n",
    "variance_formula = @vc V_A ⊗ GRM + V_E ⊗ I_n;"
   ]
  },
  {
   "cell_type": "markdown",
   "metadata": {},
   "source": [
    "These are the formulas for the fixed effects, as specified by Mendel Option 28e."
   ]
  },
  {
   "cell_type": "code",
   "execution_count": 23,
   "metadata": {},
   "outputs": [
    {
     "data": {
      "text/plain": [
       "2-element Array{String,1}:\n",
       " \"40 + 3(sex) - 1.5(locus)\"\n",
       " \"20 + 2(sex) - 1.5(locus)\""
      ]
     },
     "execution_count": 23,
     "metadata": {},
     "output_type": "execute_result"
    }
   ],
   "source": [
    "mean_formulas = [\"40 + 3(sex) - 1.5(locus)\", \"20 + 2(sex) - 1.5(locus)\"]"
   ]
  },
  {
   "cell_type": "code",
   "execution_count": 24,
   "metadata": {},
   "outputs": [
    {
     "data": {
      "text/html": [
       "<table class=\"data-frame\"><thead><tr><th></th><th>trait1</th><th>trait2</th></tr><tr><th></th><th>Float64</th><th>Float64</th></tr></thead><tbody><p>212 rows × 2 columns</p><tr><th>1</th><td>27.8826</td><td>16.65</td></tr><tr><th>2</th><td>37.4768</td><td>18.3486</td></tr><tr><th>3</th><td>36.4672</td><td>17.3054</td></tr><tr><th>4</th><td>37.2998</td><td>17.052</td></tr><tr><th>5</th><td>33.1195</td><td>16.7648</td></tr><tr><th>6</th><td>31.4756</td><td>16.381</td></tr><tr><th>7</th><td>35.9896</td><td>18.8232</td></tr><tr><th>8</th><td>39.3571</td><td>20.53</td></tr><tr><th>9</th><td>29.4988</td><td>17.0425</td></tr><tr><th>10</th><td>38.1648</td><td>17.4286</td></tr><tr><th>11</th><td>33.0665</td><td>16.7512</td></tr><tr><th>12</th><td>39.4737</td><td>18.4851</td></tr><tr><th>13</th><td>29.1513</td><td>16.5726</td></tr><tr><th>14</th><td>27.0737</td><td>13.528</td></tr><tr><th>15</th><td>33.4222</td><td>10.7022</td></tr><tr><th>16</th><td>41.7844</td><td>24.5276</td></tr><tr><th>17</th><td>36.2357</td><td>22.2809</td></tr><tr><th>18</th><td>40.6486</td><td>20.2279</td></tr><tr><th>19</th><td>27.7653</td><td>15.111</td></tr><tr><th>20</th><td>37.5922</td><td>23.1182</td></tr><tr><th>21</th><td>31.5428</td><td>18.1938</td></tr><tr><th>22</th><td>40.2171</td><td>25.2191</td></tr><tr><th>23</th><td>38.5224</td><td>18.7287</td></tr><tr><th>24</th><td>42.3416</td><td>22.1356</td></tr><tr><th>25</th><td>35.0776</td><td>10.0462</td></tr><tr><th>26</th><td>45.0095</td><td>16.3795</td></tr><tr><th>27</th><td>35.5003</td><td>8.12643</td></tr><tr><th>28</th><td>33.1888</td><td>19.7703</td></tr><tr><th>29</th><td>43.4507</td><td>25.9512</td></tr><tr><th>30</th><td>44.4914</td><td>25.7177</td></tr><tr><th>&vellip;</th><td>&vellip;</td><td>&vellip;</td></tr></tbody></table>"
      ],
      "text/latex": [
       "\\begin{tabular}{r|cc}\n",
       "\t& trait1 & trait2\\\\\n",
       "\t\\hline\n",
       "\t& Float64 & Float64\\\\\n",
       "\t\\hline\n",
       "\t1 & 27.8826 & 16.65 \\\\\n",
       "\t2 & 37.4768 & 18.3486 \\\\\n",
       "\t3 & 36.4672 & 17.3054 \\\\\n",
       "\t4 & 37.2998 & 17.052 \\\\\n",
       "\t5 & 33.1195 & 16.7648 \\\\\n",
       "\t6 & 31.4756 & 16.381 \\\\\n",
       "\t7 & 35.9896 & 18.8232 \\\\\n",
       "\t8 & 39.3571 & 20.53 \\\\\n",
       "\t9 & 29.4988 & 17.0425 \\\\\n",
       "\t10 & 38.1648 & 17.4286 \\\\\n",
       "\t11 & 33.0665 & 16.7512 \\\\\n",
       "\t12 & 39.4737 & 18.4851 \\\\\n",
       "\t13 & 29.1513 & 16.5726 \\\\\n",
       "\t14 & 27.0737 & 13.528 \\\\\n",
       "\t15 & 33.4222 & 10.7022 \\\\\n",
       "\t16 & 41.7844 & 24.5276 \\\\\n",
       "\t17 & 36.2357 & 22.2809 \\\\\n",
       "\t18 & 40.6486 & 20.2279 \\\\\n",
       "\t19 & 27.7653 & 15.111 \\\\\n",
       "\t20 & 37.5922 & 23.1182 \\\\\n",
       "\t21 & 31.5428 & 18.1938 \\\\\n",
       "\t22 & 40.2171 & 25.2191 \\\\\n",
       "\t23 & 38.5224 & 18.7287 \\\\\n",
       "\t24 & 42.3416 & 22.1356 \\\\\n",
       "\t25 & 35.0776 & 10.0462 \\\\\n",
       "\t26 & 45.0095 & 16.3795 \\\\\n",
       "\t27 & 35.5003 & 8.12643 \\\\\n",
       "\t28 & 33.1888 & 19.7703 \\\\\n",
       "\t29 & 43.4507 & 25.9512 \\\\\n",
       "\t30 & 44.4914 & 25.7177 \\\\\n",
       "\t$\\dots$ & $\\dots$ & $\\dots$ \\\\\n",
       "\\end{tabular}\n"
      ],
      "text/plain": [
       "212×2 DataFrame\n",
       "│ Row │ trait1  │ trait2  │\n",
       "│     │ \u001b[90mFloat64\u001b[39m │ \u001b[90mFloat64\u001b[39m │\n",
       "├─────┼─────────┼─────────┤\n",
       "│ 1   │ 27.8826 │ 16.65   │\n",
       "│ 2   │ 37.4768 │ 18.3486 │\n",
       "│ 3   │ 36.4672 │ 17.3054 │\n",
       "│ 4   │ 37.2998 │ 17.052  │\n",
       "│ 5   │ 33.1195 │ 16.7648 │\n",
       "│ 6   │ 31.4756 │ 16.381  │\n",
       "│ 7   │ 35.9896 │ 18.8232 │\n",
       "│ 8   │ 39.3571 │ 20.53   │\n",
       "│ 9   │ 29.4988 │ 17.0425 │\n",
       "│ 10  │ 38.1648 │ 17.4286 │\n",
       "⋮\n",
       "│ 202 │ 39.9967 │ 17.3423 │\n",
       "│ 203 │ 37.2247 │ 14.4059 │\n",
       "│ 204 │ 28.984  │ 12.7503 │\n",
       "│ 205 │ 38.2457 │ 22.0046 │\n",
       "│ 206 │ 40.2716 │ 21.045  │\n",
       "│ 207 │ 42.8956 │ 13.8093 │\n",
       "│ 208 │ 41.2879 │ 16.3911 │\n",
       "│ 209 │ 40.4117 │ 20.6779 │\n",
       "│ 210 │ 45.0213 │ 25.8303 │\n",
       "│ 211 │ 35.7694 │ 16.3144 │\n",
       "│ 212 │ 39.2366 │ 17.5928 │"
      ]
     },
     "execution_count": 24,
     "metadata": {},
     "output_type": "execute_result"
    }
   ],
   "source": [
    "Multiple_LMM_traits_model = LMMTrait(mean_formulas, X, variance_formula)\n",
    "Simulated_LMM_Traits = simulate(Multiple_LMM_traits_model)"
   ]
  },
  {
   "cell_type": "markdown",
   "metadata": {},
   "source": [
    "### Summary Statistics of Our Simulated Traits"
   ]
  },
  {
   "cell_type": "code",
   "execution_count": 25,
   "metadata": {},
   "outputs": [
    {
     "data": {
      "text/html": [
       "<table class=\"data-frame\"><thead><tr><th></th><th>variable</th><th>mean</th><th>std</th><th>min</th><th>max</th><th>eltype</th></tr><tr><th></th><th>Symbol</th><th>Float64</th><th>Float64</th><th>Float64</th><th>Float64</th><th>DataType</th></tr></thead><tbody><p>2 rows × 6 columns</p><tr><th>1</th><td>trait1</td><td>38.2214</td><td>5.58574</td><td>27.0737</td><td>56.1341</td><td>Float64</td></tr><tr><th>2</th><td>trait2</td><td>17.878</td><td>4.59768</td><td>5.71281</td><td>29.9205</td><td>Float64</td></tr></tbody></table>"
      ],
      "text/latex": [
       "\\begin{tabular}{r|cccccc}\n",
       "\t& variable & mean & std & min & max & eltype\\\\\n",
       "\t\\hline\n",
       "\t& Symbol & Float64 & Float64 & Float64 & Float64 & DataType\\\\\n",
       "\t\\hline\n",
       "\t1 & trait1 & 38.2214 & 5.58574 & 27.0737 & 56.1341 & Float64 \\\\\n",
       "\t2 & trait2 & 17.878 & 4.59768 & 5.71281 & 29.9205 & Float64 \\\\\n",
       "\\end{tabular}\n"
      ],
      "text/plain": [
       "2×6 DataFrame\n",
       "│ Row │ variable │ mean    │ std     │ min     │ max     │ eltype   │\n",
       "│     │ \u001b[90mSymbol\u001b[39m   │ \u001b[90mFloat64\u001b[39m │ \u001b[90mFloat64\u001b[39m │ \u001b[90mFloat64\u001b[39m │ \u001b[90mFloat64\u001b[39m │ \u001b[90mDataType\u001b[39m │\n",
       "├─────┼──────────┼─────────┼─────────┼─────────┼─────────┼──────────┤\n",
       "│ 1   │ trait1   │ 38.2214 │ 5.58574 │ 27.0737 │ 56.1341 │ Float64  │\n",
       "│ 2   │ trait2   │ 17.878  │ 4.59768 │ 5.71281 │ 29.9205 │ Float64  │"
      ]
     },
     "execution_count": 25,
     "metadata": {},
     "output_type": "execute_result"
    }
   ],
   "source": [
    "describe(Simulated_LMM_Traits, stats = [:mean, :std, :min, :max, :eltype])"
   ]
  },
  {
   "cell_type": "markdown",
   "metadata": {},
   "source": [
    "### Summary Statistics of the Original Mendel 28e dataset Traits:\n",
    "\n",
    "Note we want to see similar values from our simulated traits!"
   ]
  },
  {
   "cell_type": "code",
   "execution_count": 26,
   "metadata": {},
   "outputs": [
    {
     "data": {
      "text/html": [
       "<table class=\"data-frame\"><thead><tr><th></th><th>variable</th><th>mean</th><th>std</th><th>min</th><th>max</th><th>eltype</th></tr><tr><th></th><th>Symbol</th><th>Float64</th><th>Float64</th><th>Float64</th><th>Float64</th><th>DataType</th></tr></thead><tbody><p>2 rows × 6 columns</p><tr><th>1</th><td>Trait1</td><td>37.8602</td><td>4.04887</td><td>29.2403</td><td>47.8619</td><td>Any</td></tr><tr><th>2</th><td>Trait2</td><td>18.472</td><td>3.37633</td><td>9.2421</td><td>27.5554</td><td>Any</td></tr></tbody></table>"
      ],
      "text/latex": [
       "\\begin{tabular}{r|cccccc}\n",
       "\t& variable & mean & std & min & max & eltype\\\\\n",
       "\t\\hline\n",
       "\t& Symbol & Float64 & Float64 & Float64 & Float64 & DataType\\\\\n",
       "\t\\hline\n",
       "\t1 & Trait1 & 37.8602 & 4.04887 & 29.2403 & 47.8619 & Any \\\\\n",
       "\t2 & Trait2 & 18.472 & 3.37633 & 9.2421 & 27.5554 & Any \\\\\n",
       "\\end{tabular}\n"
      ],
      "text/plain": [
       "2×6 DataFrame\n",
       "│ Row │ variable │ mean    │ std     │ min     │ max     │ eltype   │\n",
       "│     │ \u001b[90mSymbol\u001b[39m   │ \u001b[90mFloat64\u001b[39m │ \u001b[90mFloat64\u001b[39m │ \u001b[90mFloat64\u001b[39m │ \u001b[90mFloat64\u001b[39m │ \u001b[90mDataType\u001b[39m │\n",
       "├─────┼──────────┼─────────┼─────────┼─────────┼─────────┼──────────┤\n",
       "│ 1   │ Trait1   │ 37.8602 │ 4.04887 │ 29.2403 │ 47.8619 │ Any      │\n",
       "│ 2   │ Trait2   │ 18.472  │ 3.37633 │ 9.2421  │ 27.5554 │ Any      │"
      ]
     },
     "execution_count": 26,
     "metadata": {},
     "output_type": "execute_result"
    }
   ],
   "source": [
    "describe(Traits_Mendel28e, stats = [:mean, :std, :min, :max, :eltype])"
   ]
  },
  {
   "cell_type": "markdown",
   "metadata": {},
   "source": [
    "# Example 3: Rare Variant Linear Mixed Model\n",
    "\n",
    "\n",
    "$$\n",
    "Y_{3} ∼ N(\\mu_{rare20}, 4* 2GRM + 2I)\n",
    "$$\n",
    "\n",
    "In this example we first subset only the rare SNP's with minor allele frequency greater than 0.002 but less than 0.02, then we simulate traits on 20 of the rare SNP's as fixed effects. For this demo, the indexing `snpid[rare_index][1:2:40]` allows us to subset every other rare snp in the first 40 SNPs, to get our list of 20 rare SNPs. Change the range and number of SNPs to simulate with more or less SNPs and from different regions of the genome. The number 20 is arbitrary and you can use more or less than 20 if you desire by changing the final number. You can change the spacing of the snps by changing the second number. \n",
    "For example, `snpid[rare_index][1:5:500]` would give you 100 snps.\n",
    "\n",
    "Here are the 20 SNP's that will be used for trait simulation in this example.  \n"
   ]
  },
  {
   "cell_type": "code",
   "execution_count": 27,
   "metadata": {},
   "outputs": [],
   "source": [
    "# filter out rare SNPS, get a subset of uncommon SNPs with 0.002 < MAF ≤ 0.02\n",
    "minor_allele_frequency = maf(snpdata)\n",
    "rare_index = (0.002 .< minor_allele_frequency .≤ 0.02)\n",
    "data_rare = snpdata[:, rare_index];"
   ]
  },
  {
   "cell_type": "code",
   "execution_count": 28,
   "metadata": {},
   "outputs": [
    {
     "data": {
      "text/plain": [
       "20-element Array{SubString{String},1}:\n",
       " \"rs3020701\"  \n",
       " \"rs181646587\"\n",
       " \"rs182902214\"\n",
       " \"rs184527030\"\n",
       " \"rs10409990\" \n",
       " \"rs185166611\"\n",
       " \"rs181637538\"\n",
       " \"rs186213888\"\n",
       " \"rs184010370\"\n",
       " \"rs11667161\" \n",
       " \"rs188819713\"\n",
       " \"rs182378235\"\n",
       " \"rs146361744\"\n",
       " \"rs190575937\"\n",
       " \"rs149949827\"\n",
       " \"rs117671630\"\n",
       " \"rs149171388\"\n",
       " \"rs188520640\"\n",
       " \"rs142722885\"\n",
       " \"rs146938393\""
      ]
     },
     "execution_count": 28,
     "metadata": {},
     "output_type": "execute_result"
    }
   ],
   "source": [
    "maf_20_rare_snps = minor_allele_frequency[rare_index][1:2:40]\n",
    "rare_snps_for_simulation = snpid[rare_index][1:2:40]"
   ]
  },
  {
   "cell_type": "markdown",
   "metadata": {},
   "source": [
    "# Generating Effect Sizes\n",
    "\n",
    "In practice rare SNPs have smaller minor allele frequencies but we are limited in this tutorial by the number of individuals in the data set. We use generated effect sizes to evaluate $\\mu_{rare20}$ on the following Dataframe: <br> "
   ]
  },
  {
   "cell_type": "code",
   "execution_count": 29,
   "metadata": {},
   "outputs": [
    {
     "data": {
      "text/html": [
       "<table class=\"data-frame\"><thead><tr><th></th><th>rs3020701</th><th>rs181646587</th><th>rs182902214</th><th>rs184527030</th><th>rs10409990</th><th>rs185166611</th><th>rs181637538</th><th>rs186213888</th><th>rs184010370</th><th>rs11667161</th><th>rs188819713</th><th>rs182378235</th><th>rs146361744</th><th>rs190575937</th><th>rs149949827</th><th>rs117671630</th><th>rs149171388</th><th>rs188520640</th><th>rs142722885</th><th>rs146938393</th></tr><tr><th></th><th>Float64</th><th>Float64</th><th>Float64</th><th>Float64</th><th>Float64</th><th>Float64</th><th>Float64</th><th>Float64</th><th>Float64</th><th>Float64</th><th>Float64</th><th>Float64</th><th>Float64</th><th>Float64</th><th>Float64</th><th>Float64</th><th>Float64</th><th>Float64</th><th>Float64</th><th>Float64</th></tr></thead><tbody><p>212 rows × 20 columns</p><tr><th>1</th><td>3.0</td><td>0.0</td><td>3.0</td><td>0.0</td><td>3.0</td><td>3.0</td><td>0.0</td><td>3.0</td><td>3.0</td><td>3.0</td><td>0.0</td><td>0.0</td><td>3.0</td><td>3.0</td><td>0.0</td><td>3.0</td><td>3.0</td><td>0.0</td><td>0.0</td><td>3.0</td></tr><tr><th>2</th><td>3.0</td><td>0.0</td><td>3.0</td><td>0.0</td><td>3.0</td><td>3.0</td><td>0.0</td><td>3.0</td><td>3.0</td><td>3.0</td><td>0.0</td><td>0.0</td><td>3.0</td><td>3.0</td><td>0.0</td><td>3.0</td><td>3.0</td><td>0.0</td><td>0.0</td><td>3.0</td></tr><tr><th>3</th><td>3.0</td><td>0.0</td><td>3.0</td><td>0.0</td><td>3.0</td><td>3.0</td><td>0.0</td><td>3.0</td><td>3.0</td><td>3.0</td><td>0.0</td><td>0.0</td><td>3.0</td><td>3.0</td><td>0.0</td><td>3.0</td><td>3.0</td><td>0.0</td><td>0.0</td><td>3.0</td></tr><tr><th>4</th><td>3.0</td><td>0.0</td><td>3.0</td><td>0.0</td><td>3.0</td><td>3.0</td><td>0.0</td><td>3.0</td><td>3.0</td><td>3.0</td><td>0.0</td><td>0.0</td><td>3.0</td><td>3.0</td><td>0.0</td><td>3.0</td><td>3.0</td><td>0.0</td><td>0.0</td><td>3.0</td></tr><tr><th>5</th><td>3.0</td><td>0.0</td><td>3.0</td><td>0.0</td><td>3.0</td><td>3.0</td><td>0.0</td><td>3.0</td><td>3.0</td><td>3.0</td><td>0.0</td><td>0.0</td><td>3.0</td><td>3.0</td><td>0.0</td><td>3.0</td><td>3.0</td><td>0.0</td><td>0.0</td><td>3.0</td></tr><tr><th>6</th><td>3.0</td><td>0.0</td><td>3.0</td><td>0.0</td><td>3.0</td><td>3.0</td><td>0.0</td><td>3.0</td><td>3.0</td><td>3.0</td><td>0.0</td><td>0.0</td><td>3.0</td><td>3.0</td><td>0.0</td><td>3.0</td><td>3.0</td><td>0.0</td><td>0.0</td><td>3.0</td></tr><tr><th>7</th><td>3.0</td><td>0.0</td><td>3.0</td><td>0.0</td><td>3.0</td><td>3.0</td><td>0.0</td><td>3.0</td><td>3.0</td><td>3.0</td><td>0.0</td><td>0.0</td><td>3.0</td><td>3.0</td><td>0.0</td><td>3.0</td><td>3.0</td><td>0.0</td><td>0.0</td><td>3.0</td></tr><tr><th>8</th><td>3.0</td><td>0.0</td><td>3.0</td><td>0.0</td><td>3.0</td><td>3.0</td><td>0.0</td><td>3.0</td><td>3.0</td><td>3.0</td><td>0.0</td><td>2.0</td><td>3.0</td><td>3.0</td><td>0.0</td><td>3.0</td><td>3.0</td><td>0.0</td><td>0.0</td><td>3.0</td></tr><tr><th>9</th><td>3.0</td><td>0.0</td><td>3.0</td><td>0.0</td><td>3.0</td><td>3.0</td><td>0.0</td><td>3.0</td><td>3.0</td><td>3.0</td><td>0.0</td><td>0.0</td><td>3.0</td><td>3.0</td><td>0.0</td><td>3.0</td><td>3.0</td><td>0.0</td><td>0.0</td><td>3.0</td></tr><tr><th>10</th><td>3.0</td><td>0.0</td><td>3.0</td><td>0.0</td><td>3.0</td><td>3.0</td><td>0.0</td><td>3.0</td><td>3.0</td><td>3.0</td><td>0.0</td><td>2.0</td><td>3.0</td><td>3.0</td><td>0.0</td><td>3.0</td><td>3.0</td><td>0.0</td><td>0.0</td><td>3.0</td></tr><tr><th>11</th><td>3.0</td><td>0.0</td><td>3.0</td><td>0.0</td><td>3.0</td><td>3.0</td><td>0.0</td><td>3.0</td><td>3.0</td><td>3.0</td><td>0.0</td><td>0.0</td><td>3.0</td><td>3.0</td><td>0.0</td><td>3.0</td><td>3.0</td><td>0.0</td><td>0.0</td><td>3.0</td></tr><tr><th>12</th><td>3.0</td><td>0.0</td><td>3.0</td><td>0.0</td><td>3.0</td><td>3.0</td><td>0.0</td><td>3.0</td><td>3.0</td><td>3.0</td><td>0.0</td><td>0.0</td><td>3.0</td><td>3.0</td><td>0.0</td><td>3.0</td><td>3.0</td><td>0.0</td><td>0.0</td><td>3.0</td></tr><tr><th>13</th><td>3.0</td><td>0.0</td><td>3.0</td><td>0.0</td><td>3.0</td><td>3.0</td><td>0.0</td><td>3.0</td><td>3.0</td><td>3.0</td><td>0.0</td><td>0.0</td><td>3.0</td><td>3.0</td><td>0.0</td><td>3.0</td><td>3.0</td><td>0.0</td><td>0.0</td><td>3.0</td></tr><tr><th>14</th><td>3.0</td><td>0.0</td><td>3.0</td><td>0.0</td><td>3.0</td><td>3.0</td><td>0.0</td><td>3.0</td><td>3.0</td><td>3.0</td><td>0.0</td><td>0.0</td><td>3.0</td><td>3.0</td><td>0.0</td><td>3.0</td><td>3.0</td><td>0.0</td><td>0.0</td><td>3.0</td></tr><tr><th>15</th><td>3.0</td><td>0.0</td><td>3.0</td><td>0.0</td><td>3.0</td><td>3.0</td><td>0.0</td><td>3.0</td><td>3.0</td><td>3.0</td><td>0.0</td><td>0.0</td><td>3.0</td><td>3.0</td><td>0.0</td><td>3.0</td><td>3.0</td><td>0.0</td><td>0.0</td><td>3.0</td></tr><tr><th>16</th><td>3.0</td><td>0.0</td><td>3.0</td><td>0.0</td><td>3.0</td><td>3.0</td><td>0.0</td><td>3.0</td><td>3.0</td><td>3.0</td><td>0.0</td><td>0.0</td><td>3.0</td><td>3.0</td><td>2.0</td><td>3.0</td><td>3.0</td><td>0.0</td><td>0.0</td><td>3.0</td></tr><tr><th>17</th><td>3.0</td><td>0.0</td><td>3.0</td><td>0.0</td><td>3.0</td><td>3.0</td><td>0.0</td><td>3.0</td><td>3.0</td><td>3.0</td><td>0.0</td><td>0.0</td><td>3.0</td><td>3.0</td><td>0.0</td><td>3.0</td><td>3.0</td><td>0.0</td><td>0.0</td><td>3.0</td></tr><tr><th>18</th><td>3.0</td><td>0.0</td><td>3.0</td><td>0.0</td><td>3.0</td><td>3.0</td><td>0.0</td><td>3.0</td><td>3.0</td><td>3.0</td><td>0.0</td><td>0.0</td><td>3.0</td><td>3.0</td><td>0.0</td><td>3.0</td><td>3.0</td><td>0.0</td><td>0.0</td><td>3.0</td></tr><tr><th>19</th><td>3.0</td><td>0.0</td><td>3.0</td><td>0.0</td><td>3.0</td><td>3.0</td><td>0.0</td><td>3.0</td><td>3.0</td><td>3.0</td><td>0.0</td><td>0.0</td><td>3.0</td><td>3.0</td><td>0.0</td><td>3.0</td><td>3.0</td><td>0.0</td><td>0.0</td><td>3.0</td></tr><tr><th>20</th><td>3.0</td><td>0.0</td><td>3.0</td><td>0.0</td><td>3.0</td><td>3.0</td><td>0.0</td><td>3.0</td><td>3.0</td><td>3.0</td><td>0.0</td><td>0.0</td><td>3.0</td><td>3.0</td><td>0.0</td><td>3.0</td><td>3.0</td><td>0.0</td><td>0.0</td><td>3.0</td></tr><tr><th>21</th><td>3.0</td><td>0.0</td><td>3.0</td><td>0.0</td><td>3.0</td><td>3.0</td><td>0.0</td><td>3.0</td><td>3.0</td><td>3.0</td><td>0.0</td><td>0.0</td><td>3.0</td><td>3.0</td><td>0.0</td><td>3.0</td><td>3.0</td><td>0.0</td><td>0.0</td><td>3.0</td></tr><tr><th>22</th><td>3.0</td><td>0.0</td><td>3.0</td><td>0.0</td><td>3.0</td><td>3.0</td><td>0.0</td><td>3.0</td><td>3.0</td><td>3.0</td><td>0.0</td><td>0.0</td><td>3.0</td><td>3.0</td><td>2.0</td><td>3.0</td><td>3.0</td><td>0.0</td><td>0.0</td><td>3.0</td></tr><tr><th>23</th><td>3.0</td><td>0.0</td><td>3.0</td><td>0.0</td><td>3.0</td><td>3.0</td><td>0.0</td><td>3.0</td><td>3.0</td><td>3.0</td><td>0.0</td><td>0.0</td><td>3.0</td><td>3.0</td><td>2.0</td><td>3.0</td><td>3.0</td><td>0.0</td><td>0.0</td><td>3.0</td></tr><tr><th>24</th><td>3.0</td><td>0.0</td><td>3.0</td><td>0.0</td><td>3.0</td><td>3.0</td><td>0.0</td><td>3.0</td><td>3.0</td><td>3.0</td><td>0.0</td><td>0.0</td><td>3.0</td><td>3.0</td><td>2.0</td><td>3.0</td><td>3.0</td><td>0.0</td><td>0.0</td><td>3.0</td></tr><tr><th>25</th><td>3.0</td><td>0.0</td><td>3.0</td><td>0.0</td><td>3.0</td><td>3.0</td><td>0.0</td><td>3.0</td><td>3.0</td><td>3.0</td><td>0.0</td><td>0.0</td><td>3.0</td><td>3.0</td><td>0.0</td><td>3.0</td><td>3.0</td><td>0.0</td><td>0.0</td><td>3.0</td></tr><tr><th>26</th><td>3.0</td><td>0.0</td><td>3.0</td><td>2.0</td><td>3.0</td><td>3.0</td><td>0.0</td><td>3.0</td><td>3.0</td><td>3.0</td><td>0.0</td><td>0.0</td><td>3.0</td><td>3.0</td><td>0.0</td><td>3.0</td><td>3.0</td><td>0.0</td><td>0.0</td><td>3.0</td></tr><tr><th>27</th><td>3.0</td><td>0.0</td><td>3.0</td><td>2.0</td><td>3.0</td><td>3.0</td><td>0.0</td><td>3.0</td><td>3.0</td><td>3.0</td><td>0.0</td><td>0.0</td><td>3.0</td><td>3.0</td><td>0.0</td><td>3.0</td><td>3.0</td><td>0.0</td><td>0.0</td><td>3.0</td></tr><tr><th>28</th><td>3.0</td><td>0.0</td><td>3.0</td><td>0.0</td><td>3.0</td><td>3.0</td><td>0.0</td><td>3.0</td><td>3.0</td><td>3.0</td><td>0.0</td><td>0.0</td><td>3.0</td><td>3.0</td><td>0.0</td><td>3.0</td><td>3.0</td><td>0.0</td><td>0.0</td><td>3.0</td></tr><tr><th>29</th><td>3.0</td><td>0.0</td><td>3.0</td><td>0.0</td><td>3.0</td><td>3.0</td><td>2.0</td><td>3.0</td><td>3.0</td><td>3.0</td><td>0.0</td><td>0.0</td><td>3.0</td><td>3.0</td><td>0.0</td><td>3.0</td><td>3.0</td><td>0.0</td><td>0.0</td><td>3.0</td></tr><tr><th>30</th><td>3.0</td><td>0.0</td><td>3.0</td><td>0.0</td><td>3.0</td><td>3.0</td><td>0.0</td><td>3.0</td><td>3.0</td><td>3.0</td><td>0.0</td><td>0.0</td><td>3.0</td><td>3.0</td><td>0.0</td><td>3.0</td><td>3.0</td><td>0.0</td><td>0.0</td><td>3.0</td></tr><tr><th>&vellip;</th><td>&vellip;</td><td>&vellip;</td><td>&vellip;</td><td>&vellip;</td><td>&vellip;</td><td>&vellip;</td><td>&vellip;</td><td>&vellip;</td><td>&vellip;</td><td>&vellip;</td><td>&vellip;</td><td>&vellip;</td><td>&vellip;</td><td>&vellip;</td><td>&vellip;</td><td>&vellip;</td><td>&vellip;</td><td>&vellip;</td><td>&vellip;</td><td>&vellip;</td></tr></tbody></table>"
      ],
      "text/latex": [
       "\\begin{tabular}{r|cccccccccccccccccccc}\n",
       "\t& rs3020701 & rs181646587 & rs182902214 & rs184527030 & rs10409990 & rs185166611 & rs181637538 & rs186213888 & rs184010370 & rs11667161 & rs188819713 & rs182378235 & rs146361744 & rs190575937 & rs149949827 & rs117671630 & rs149171388 & rs188520640 & rs142722885 & rs146938393\\\\\n",
       "\t\\hline\n",
       "\t& Float64 & Float64 & Float64 & Float64 & Float64 & Float64 & Float64 & Float64 & Float64 & Float64 & Float64 & Float64 & Float64 & Float64 & Float64 & Float64 & Float64 & Float64 & Float64 & Float64\\\\\n",
       "\t\\hline\n",
       "\t1 & 3.0 & 0.0 & 3.0 & 0.0 & 3.0 & 3.0 & 0.0 & 3.0 & 3.0 & 3.0 & 0.0 & 0.0 & 3.0 & 3.0 & 0.0 & 3.0 & 3.0 & 0.0 & 0.0 & 3.0 \\\\\n",
       "\t2 & 3.0 & 0.0 & 3.0 & 0.0 & 3.0 & 3.0 & 0.0 & 3.0 & 3.0 & 3.0 & 0.0 & 0.0 & 3.0 & 3.0 & 0.0 & 3.0 & 3.0 & 0.0 & 0.0 & 3.0 \\\\\n",
       "\t3 & 3.0 & 0.0 & 3.0 & 0.0 & 3.0 & 3.0 & 0.0 & 3.0 & 3.0 & 3.0 & 0.0 & 0.0 & 3.0 & 3.0 & 0.0 & 3.0 & 3.0 & 0.0 & 0.0 & 3.0 \\\\\n",
       "\t4 & 3.0 & 0.0 & 3.0 & 0.0 & 3.0 & 3.0 & 0.0 & 3.0 & 3.0 & 3.0 & 0.0 & 0.0 & 3.0 & 3.0 & 0.0 & 3.0 & 3.0 & 0.0 & 0.0 & 3.0 \\\\\n",
       "\t5 & 3.0 & 0.0 & 3.0 & 0.0 & 3.0 & 3.0 & 0.0 & 3.0 & 3.0 & 3.0 & 0.0 & 0.0 & 3.0 & 3.0 & 0.0 & 3.0 & 3.0 & 0.0 & 0.0 & 3.0 \\\\\n",
       "\t6 & 3.0 & 0.0 & 3.0 & 0.0 & 3.0 & 3.0 & 0.0 & 3.0 & 3.0 & 3.0 & 0.0 & 0.0 & 3.0 & 3.0 & 0.0 & 3.0 & 3.0 & 0.0 & 0.0 & 3.0 \\\\\n",
       "\t7 & 3.0 & 0.0 & 3.0 & 0.0 & 3.0 & 3.0 & 0.0 & 3.0 & 3.0 & 3.0 & 0.0 & 0.0 & 3.0 & 3.0 & 0.0 & 3.0 & 3.0 & 0.0 & 0.0 & 3.0 \\\\\n",
       "\t8 & 3.0 & 0.0 & 3.0 & 0.0 & 3.0 & 3.0 & 0.0 & 3.0 & 3.0 & 3.0 & 0.0 & 2.0 & 3.0 & 3.0 & 0.0 & 3.0 & 3.0 & 0.0 & 0.0 & 3.0 \\\\\n",
       "\t9 & 3.0 & 0.0 & 3.0 & 0.0 & 3.0 & 3.0 & 0.0 & 3.0 & 3.0 & 3.0 & 0.0 & 0.0 & 3.0 & 3.0 & 0.0 & 3.0 & 3.0 & 0.0 & 0.0 & 3.0 \\\\\n",
       "\t10 & 3.0 & 0.0 & 3.0 & 0.0 & 3.0 & 3.0 & 0.0 & 3.0 & 3.0 & 3.0 & 0.0 & 2.0 & 3.0 & 3.0 & 0.0 & 3.0 & 3.0 & 0.0 & 0.0 & 3.0 \\\\\n",
       "\t11 & 3.0 & 0.0 & 3.0 & 0.0 & 3.0 & 3.0 & 0.0 & 3.0 & 3.0 & 3.0 & 0.0 & 0.0 & 3.0 & 3.0 & 0.0 & 3.0 & 3.0 & 0.0 & 0.0 & 3.0 \\\\\n",
       "\t12 & 3.0 & 0.0 & 3.0 & 0.0 & 3.0 & 3.0 & 0.0 & 3.0 & 3.0 & 3.0 & 0.0 & 0.0 & 3.0 & 3.0 & 0.0 & 3.0 & 3.0 & 0.0 & 0.0 & 3.0 \\\\\n",
       "\t13 & 3.0 & 0.0 & 3.0 & 0.0 & 3.0 & 3.0 & 0.0 & 3.0 & 3.0 & 3.0 & 0.0 & 0.0 & 3.0 & 3.0 & 0.0 & 3.0 & 3.0 & 0.0 & 0.0 & 3.0 \\\\\n",
       "\t14 & 3.0 & 0.0 & 3.0 & 0.0 & 3.0 & 3.0 & 0.0 & 3.0 & 3.0 & 3.0 & 0.0 & 0.0 & 3.0 & 3.0 & 0.0 & 3.0 & 3.0 & 0.0 & 0.0 & 3.0 \\\\\n",
       "\t15 & 3.0 & 0.0 & 3.0 & 0.0 & 3.0 & 3.0 & 0.0 & 3.0 & 3.0 & 3.0 & 0.0 & 0.0 & 3.0 & 3.0 & 0.0 & 3.0 & 3.0 & 0.0 & 0.0 & 3.0 \\\\\n",
       "\t16 & 3.0 & 0.0 & 3.0 & 0.0 & 3.0 & 3.0 & 0.0 & 3.0 & 3.0 & 3.0 & 0.0 & 0.0 & 3.0 & 3.0 & 2.0 & 3.0 & 3.0 & 0.0 & 0.0 & 3.0 \\\\\n",
       "\t17 & 3.0 & 0.0 & 3.0 & 0.0 & 3.0 & 3.0 & 0.0 & 3.0 & 3.0 & 3.0 & 0.0 & 0.0 & 3.0 & 3.0 & 0.0 & 3.0 & 3.0 & 0.0 & 0.0 & 3.0 \\\\\n",
       "\t18 & 3.0 & 0.0 & 3.0 & 0.0 & 3.0 & 3.0 & 0.0 & 3.0 & 3.0 & 3.0 & 0.0 & 0.0 & 3.0 & 3.0 & 0.0 & 3.0 & 3.0 & 0.0 & 0.0 & 3.0 \\\\\n",
       "\t19 & 3.0 & 0.0 & 3.0 & 0.0 & 3.0 & 3.0 & 0.0 & 3.0 & 3.0 & 3.0 & 0.0 & 0.0 & 3.0 & 3.0 & 0.0 & 3.0 & 3.0 & 0.0 & 0.0 & 3.0 \\\\\n",
       "\t20 & 3.0 & 0.0 & 3.0 & 0.0 & 3.0 & 3.0 & 0.0 & 3.0 & 3.0 & 3.0 & 0.0 & 0.0 & 3.0 & 3.0 & 0.0 & 3.0 & 3.0 & 0.0 & 0.0 & 3.0 \\\\\n",
       "\t21 & 3.0 & 0.0 & 3.0 & 0.0 & 3.0 & 3.0 & 0.0 & 3.0 & 3.0 & 3.0 & 0.0 & 0.0 & 3.0 & 3.0 & 0.0 & 3.0 & 3.0 & 0.0 & 0.0 & 3.0 \\\\\n",
       "\t22 & 3.0 & 0.0 & 3.0 & 0.0 & 3.0 & 3.0 & 0.0 & 3.0 & 3.0 & 3.0 & 0.0 & 0.0 & 3.0 & 3.0 & 2.0 & 3.0 & 3.0 & 0.0 & 0.0 & 3.0 \\\\\n",
       "\t23 & 3.0 & 0.0 & 3.0 & 0.0 & 3.0 & 3.0 & 0.0 & 3.0 & 3.0 & 3.0 & 0.0 & 0.0 & 3.0 & 3.0 & 2.0 & 3.0 & 3.0 & 0.0 & 0.0 & 3.0 \\\\\n",
       "\t24 & 3.0 & 0.0 & 3.0 & 0.0 & 3.0 & 3.0 & 0.0 & 3.0 & 3.0 & 3.0 & 0.0 & 0.0 & 3.0 & 3.0 & 2.0 & 3.0 & 3.0 & 0.0 & 0.0 & 3.0 \\\\\n",
       "\t25 & 3.0 & 0.0 & 3.0 & 0.0 & 3.0 & 3.0 & 0.0 & 3.0 & 3.0 & 3.0 & 0.0 & 0.0 & 3.0 & 3.0 & 0.0 & 3.0 & 3.0 & 0.0 & 0.0 & 3.0 \\\\\n",
       "\t26 & 3.0 & 0.0 & 3.0 & 2.0 & 3.0 & 3.0 & 0.0 & 3.0 & 3.0 & 3.0 & 0.0 & 0.0 & 3.0 & 3.0 & 0.0 & 3.0 & 3.0 & 0.0 & 0.0 & 3.0 \\\\\n",
       "\t27 & 3.0 & 0.0 & 3.0 & 2.0 & 3.0 & 3.0 & 0.0 & 3.0 & 3.0 & 3.0 & 0.0 & 0.0 & 3.0 & 3.0 & 0.0 & 3.0 & 3.0 & 0.0 & 0.0 & 3.0 \\\\\n",
       "\t28 & 3.0 & 0.0 & 3.0 & 0.0 & 3.0 & 3.0 & 0.0 & 3.0 & 3.0 & 3.0 & 0.0 & 0.0 & 3.0 & 3.0 & 0.0 & 3.0 & 3.0 & 0.0 & 0.0 & 3.0 \\\\\n",
       "\t29 & 3.0 & 0.0 & 3.0 & 0.0 & 3.0 & 3.0 & 2.0 & 3.0 & 3.0 & 3.0 & 0.0 & 0.0 & 3.0 & 3.0 & 0.0 & 3.0 & 3.0 & 0.0 & 0.0 & 3.0 \\\\\n",
       "\t30 & 3.0 & 0.0 & 3.0 & 0.0 & 3.0 & 3.0 & 0.0 & 3.0 & 3.0 & 3.0 & 0.0 & 0.0 & 3.0 & 3.0 & 0.0 & 3.0 & 3.0 & 0.0 & 0.0 & 3.0 \\\\\n",
       "\t$\\dots$ & $\\dots$ & $\\dots$ & $\\dots$ & $\\dots$ & $\\dots$ & $\\dots$ & $\\dots$ & $\\dots$ & $\\dots$ & $\\dots$ & $\\dots$ & $\\dots$ & $\\dots$ & $\\dots$ & $\\dots$ & $\\dots$ & $\\dots$ & $\\dots$ & $\\dots$ & $\\dots$ \\\\\n",
       "\\end{tabular}\n"
      ],
      "text/plain": [
       "212×20 DataFrame. Omitted printing of 15 columns\n",
       "│ Row │ rs3020701 │ rs181646587 │ rs182902214 │ rs184527030 │ rs10409990 │\n",
       "│     │ \u001b[90mFloat64\u001b[39m   │ \u001b[90mFloat64\u001b[39m     │ \u001b[90mFloat64\u001b[39m     │ \u001b[90mFloat64\u001b[39m     │ \u001b[90mFloat64\u001b[39m    │\n",
       "├─────┼───────────┼─────────────┼─────────────┼─────────────┼────────────┤\n",
       "│ 1   │ 3.0       │ 0.0         │ 3.0         │ 0.0         │ 3.0        │\n",
       "│ 2   │ 3.0       │ 0.0         │ 3.0         │ 0.0         │ 3.0        │\n",
       "│ 3   │ 3.0       │ 0.0         │ 3.0         │ 0.0         │ 3.0        │\n",
       "│ 4   │ 3.0       │ 0.0         │ 3.0         │ 0.0         │ 3.0        │\n",
       "│ 5   │ 3.0       │ 0.0         │ 3.0         │ 0.0         │ 3.0        │\n",
       "│ 6   │ 3.0       │ 0.0         │ 3.0         │ 0.0         │ 3.0        │\n",
       "│ 7   │ 3.0       │ 0.0         │ 3.0         │ 0.0         │ 3.0        │\n",
       "│ 8   │ 3.0       │ 0.0         │ 3.0         │ 0.0         │ 3.0        │\n",
       "│ 9   │ 3.0       │ 0.0         │ 3.0         │ 0.0         │ 3.0        │\n",
       "│ 10  │ 3.0       │ 0.0         │ 3.0         │ 0.0         │ 3.0        │\n",
       "⋮\n",
       "│ 202 │ 3.0       │ 0.0         │ 3.0         │ 0.0         │ 3.0        │\n",
       "│ 203 │ 3.0       │ 0.0         │ 3.0         │ 0.0         │ 3.0        │\n",
       "│ 204 │ 3.0       │ 0.0         │ 3.0         │ 0.0         │ 3.0        │\n",
       "│ 205 │ 3.0       │ 0.0         │ 3.0         │ 0.0         │ 3.0        │\n",
       "│ 206 │ 3.0       │ 0.0         │ 3.0         │ 0.0         │ 3.0        │\n",
       "│ 207 │ 3.0       │ 0.0         │ 3.0         │ 0.0         │ 3.0        │\n",
       "│ 208 │ 3.0       │ 0.0         │ 3.0         │ 0.0         │ 3.0        │\n",
       "│ 209 │ 3.0       │ 0.0         │ 3.0         │ 0.0         │ 3.0        │\n",
       "│ 210 │ 3.0       │ 0.0         │ 3.0         │ 0.0         │ 3.0        │\n",
       "│ 211 │ 3.0       │ 0.0         │ 3.0         │ 0.0         │ 3.0        │\n",
       "│ 212 │ 3.0       │ 0.0         │ 3.0         │ 0.0         │ 3.0        │"
      ]
     },
     "execution_count": 29,
     "metadata": {},
     "output_type": "execute_result"
    }
   ],
   "source": [
    "geno_rare20_converted = convert(DataFrame, convert(Matrix{Float64}, @view(data_rare[:, 1:2:40])))\n",
    "names!(geno_rare20_converted, Symbol.(rare_snps_for_simulation))"
   ]
  },
  {
   "cell_type": "markdown",
   "metadata": {},
   "source": [
    "## Generating Effect Sizes Based on MAF\n",
    "\n",
    "For demonstration purposes, we simulate effect sizes from the Chi-squared(df = 1) distribution, where we use the minor allele frequency (maf) as x and find f(x) where f is the pdf for the Chi-squared (df = 1) density, so that the rarest SNP's have the biggest effect sizes. The effect sizes are rounded to the second digit, throughout this example. Notice there is a random +1 or -1, so that there are effects that both increase and decrease the simulated trait value.\n",
    "\n",
    "In addition to the Chi-Squared distribution, we also demo how to simulate from the Exponential distribution, where we use the minor allele frequency (maf) as x and find f(x) where f is the pdf for the Exponential density.\n",
    "\n",
    "### Chisquared Distribution (df = 1)"
   ]
  },
  {
   "cell_type": "code",
   "execution_count": 30,
   "metadata": {},
   "outputs": [],
   "source": [
    "# Generating Effect Sizes from Chisquared(df = 1) density\n",
    "n = length(maf_20_rare_snps)\n",
    "chisq_coeff = zeros(n)\n",
    "\n",
    "for i in 1:n\n",
    "    chisq_coeff[i] = sign(rand() - .5) * chisqpdf(1, maf_20_rare_snps[i])/5.0\n",
    "end"
   ]
  },
  {
   "cell_type": "markdown",
   "metadata": {},
   "source": [
    "Take a look at the simulated coefficients on the left, next to the corresponding minor allele frequency. Notice the rarer SNPs have the largest absolute values for their effect sizes."
   ]
  },
  {
   "cell_type": "markdown",
   "metadata": {},
   "source": [
    "### Ex3_rare = round.([chisq_coeff maf_20_rare_snps], digits = 3)\n",
    "Ex2_rare = DataFrame(Chisq_Coefficient = Ex3_rare[:, 1] , MAF_rare = Ex3_rare[:, 2] )"
   ]
  },
  {
   "cell_type": "code",
   "execution_count": 31,
   "metadata": {},
   "outputs": [
    {
     "ename": "UndefVarError",
     "evalue": "UndefVarError: Ex3_rare not defined",
     "output_type": "error",
     "traceback": [
      "UndefVarError: Ex3_rare not defined",
      "",
      "Stacktrace:",
      " [1] top-level scope at In[31]:1"
     ]
    }
   ],
   "source": [
    "simulated_effectsizes_chisq = Ex3_rare[:, 1]"
   ]
  },
  {
   "cell_type": "markdown",
   "metadata": {},
   "source": [
    "### Exponential Distribution\n",
    "Here we show how to generate effect sizes for the 20 rare snp's from the Exponential Distribution, where we use the maf as x and find f(x) where f is the pdf for the Exponential density"
   ]
  },
  {
   "cell_type": "code",
   "execution_count": 32,
   "metadata": {},
   "outputs": [
    {
     "data": {
      "text/plain": [
       "20-element Array{Float64,1}:\n",
       " 0.221\n",
       " 0.354\n",
       " 0.909\n",
       " 0.138\n",
       " 0.909\n",
       " 2.336\n",
       " 1.457\n",
       " 0.909\n",
       " 1.457\n",
       " 3.744\n",
       " 0.354\n",
       " 2.336\n",
       " 3.744\n",
       " 2.336\n",
       " 0.138\n",
       " 3.744\n",
       " 3.744\n",
       " 3.744\n",
       " 0.138\n",
       " 2.336"
      ]
     },
     "execution_count": 32,
     "metadata": {},
     "output_type": "execute_result"
    }
   ],
   "source": [
    "simulated_effectsizes_exp = round.(6*exp.(-200*maf_20_rare_snps), digits = 3)"
   ]
  },
  {
   "cell_type": "markdown",
   "metadata": {},
   "source": [
    "## Function for Mean Model Expression\n",
    "\n",
    "In some cases a large number of variants may be used for simulation. Thus, in this example we create a function where the user inputs a vector of coefficients and a vector of variants for simulation, then the function outputs the mean model expression. \n",
    "\n",
    "The function `FixedEffectTerms`, creates the proper evaluated expression for the simulation process, using the specified vectors of coefficients and snp names. The function outputs `evaluated_fixed_expression` which will be used to estimate the mean effect, `μ` in our mixed effects model. We make use of this function in this example, instead of having to write out all 20 of the coefficients and variant locus names."
   ]
  },
  {
   "cell_type": "code",
   "execution_count": 33,
   "metadata": {},
   "outputs": [
    {
     "data": {
      "text/plain": [
       "20-element Array{SubString{String},1}:\n",
       " \"rs3020701\"  \n",
       " \"rs181646587\"\n",
       " \"rs182902214\"\n",
       " \"rs184527030\"\n",
       " \"rs10409990\" \n",
       " \"rs185166611\"\n",
       " \"rs181637538\"\n",
       " \"rs186213888\"\n",
       " \"rs184010370\"\n",
       " \"rs11667161\" \n",
       " \"rs188819713\"\n",
       " \"rs182378235\"\n",
       " \"rs146361744\"\n",
       " \"rs190575937\"\n",
       " \"rs149949827\"\n",
       " \"rs117671630\"\n",
       " \"rs149171388\"\n",
       " \"rs188520640\"\n",
       " \"rs142722885\"\n",
       " \"rs146938393\""
      ]
     },
     "execution_count": 33,
     "metadata": {},
     "output_type": "execute_result"
    }
   ],
   "source": [
    "rare_snps_for_simulation"
   ]
  },
  {
   "cell_type": "code",
   "execution_count": 34,
   "metadata": {},
   "outputs": [
    {
     "data": {
      "text/plain": [
       "FixedEffectTerms (generic function with 1 method)"
      ]
     },
     "execution_count": 34,
     "metadata": {},
     "output_type": "execute_result"
    }
   ],
   "source": [
    "function FixedEffectTerms(effectsizes::AbstractVecOrMat, snps::AbstractVecOrMat)\n",
    " # implementation\n",
    "    fixed_terms = \"\"\n",
    "for i in 1:length(simulated_effectsizes_chisq) - 1\n",
    "expression = \" + \" * string(simulated_effectsizes_chisq[i]) * \"(\" * rare_snps_for_simulation[i] * \")\"\n",
    "    fixed_terms = fixed_terms * expression\n",
    "end\n",
    "    return String(fixed_terms)\n",
    "end\n"
   ]
  },
  {
   "cell_type": "code",
   "execution_count": 35,
   "metadata": {},
   "outputs": [
    {
     "ename": "UndefVarError",
     "evalue": "UndefVarError: simulated_effectsizes_chisq not defined",
     "output_type": "error",
     "traceback": [
      "UndefVarError: simulated_effectsizes_chisq not defined",
      "",
      "Stacktrace:",
      " [1] top-level scope at In[35]:1"
     ]
    }
   ],
   "source": [
    "mean_formula_rare = FixedEffectTerms(simulated_effectsizes_chisq, rare_snps_for_simulation)"
   ]
  },
  {
   "cell_type": "markdown",
   "metadata": {},
   "source": [
    "Example 3: Single Trait, Rare Variants\n",
    "\n",
    "$$\n",
    "Y ∼ N(μ_{20raresnps}, 4* 2GRM + 2I)$$\n"
   ]
  },
  {
   "cell_type": "code",
   "execution_count": 36,
   "metadata": {},
   "outputs": [
    {
     "ename": "UndefVarError",
     "evalue": "UndefVarError: mean_formula_rare not defined",
     "output_type": "error",
     "traceback": [
      "UndefVarError: mean_formula_rare not defined",
      "",
      "Stacktrace:",
      " [1] top-level scope at In[36]:1"
     ]
    }
   ],
   "source": [
    "rare_20_snp_model = LMMTrait([mean_formula_rare], geno_rare20_converted, 4*(2*GRM) + 2*(I_n))\n",
    "trait_rare_20_snps = simulate(rare_20_snp_model)"
   ]
  },
  {
   "cell_type": "code",
   "execution_count": 37,
   "metadata": {},
   "outputs": [
    {
     "ename": "UndefVarError",
     "evalue": "UndefVarError: trait_rare_20_snps not defined",
     "output_type": "error",
     "traceback": [
      "UndefVarError: trait_rare_20_snps not defined",
      "",
      "Stacktrace:",
      " [1] top-level scope at In[37]:1"
     ]
    }
   ],
   "source": [
    "describe(trait_rare_20_snps, stats = [:mean, :std, :min, :max, :eltype])"
   ]
  },
  {
   "cell_type": "markdown",
   "metadata": {},
   "source": [
    "## Saving Simulation Results to Local Machine"
   ]
  },
  {
   "cell_type": "markdown",
   "metadata": {},
   "source": [
    "Here we output the simulated trait values and corresponding genotypes for each of the 212 individuals, labeled by their pedigree ID and person ID. In addition, we output the simulation parameters (generated effect sizes and SNP names) used to simulate this trait."
   ]
  },
  {
   "cell_type": "code",
   "execution_count": 38,
   "metadata": {},
   "outputs": [
    {
     "ename": "UndefVarError",
     "evalue": "UndefVarError: trait_rare_20_snps not defined",
     "output_type": "error",
     "traceback": [
      "UndefVarError: trait_rare_20_snps not defined",
      "",
      "Stacktrace:",
      " [1] top-level scope at In[38]:1"
     ]
    }
   ],
   "source": [
    "Trait3_rare = hcat(Fam_Person_id, trait_rare_20_snps, geno_rare20_converted)"
   ]
  },
  {
   "cell_type": "code",
   "execution_count": 39,
   "metadata": {},
   "outputs": [
    {
     "ename": "UndefVarError",
     "evalue": "UndefVarError: simulated_effectsizes_chisq not defined",
     "output_type": "error",
     "traceback": [
      "UndefVarError: simulated_effectsizes_chisq not defined",
      "",
      "Stacktrace:",
      " [1] top-level scope at In[39]:1"
     ]
    }
   ],
   "source": [
    "Coefficients = DataFrame(Coefficients = simulated_effectsizes_chisq)\n",
    "SNPs_rare = DataFrame(SNPs = rare_snps_for_simulation)\n",
    "Trait3_rare_sim = hcat(Coefficients, SNPs_rare)"
   ]
  },
  {
   "cell_type": "code",
   "execution_count": 40,
   "metadata": {},
   "outputs": [
    {
     "ename": "UndefVarError",
     "evalue": "UndefVarError: Trait3_rare_sim not defined",
     "output_type": "error",
     "traceback": [
      "UndefVarError: Trait3_rare_sim not defined",
      "",
      "Stacktrace:",
      " [1] top-level scope at In[40]:1"
     ]
    }
   ],
   "source": [
    "#cd(\"/Users\") #change to home directory\n",
    "CSV.write(\"Trait3_rare_sim.csv\", Trait3_rare_sim)\n",
    "CSV.write(\"Trait3_rare.csv\", Trait3_rare);"
   ]
  },
  {
   "cell_type": "markdown",
   "metadata": {},
   "source": [
    "## Citations: \n",
    "\n",
    "[1] Lange K, Papp JC, Sinsheimer JS, Sripracha R, Zhou H, Sobel EM (2013) Mendel: The Swiss army knife of genetic analysis programs. Bioinformatics 29:1568-1570.`\n",
    "\n",
    "\n",
    "[2] OPENMENDEL: a cooperative programming project for statistical genetics.\n",
    "[Hum Genet. 2019 Mar 26. doi: 10.1007/s00439-019-02001-z](https://www.ncbi.nlm.nih.gov/pubmed/?term=OPENMENDEL).\n"
   ]
  }
 ],
 "metadata": {
  "@webio": {
   "lastCommId": null,
   "lastKernelId": null
  },
  "kernelspec": {
   "display_name": "Julia 1.0.3",
   "language": "julia",
   "name": "julia-1.0"
  },
  "language_info": {
   "file_extension": ".jl",
   "mimetype": "application/julia",
   "name": "julia",
   "version": "1.0.3"
  },
  "toc": {
   "base_numbering": 1,
   "nav_menu": {},
   "number_sections": true,
   "sideBar": true,
   "skip_h1_title": false,
   "title_cell": "Table of Contents",
   "title_sidebar": "Contents",
   "toc_cell": false,
   "toc_position": {},
   "toc_section_display": true,
   "toc_window_display": false
  }
 },
 "nbformat": 4,
 "nbformat_minor": 2
}
