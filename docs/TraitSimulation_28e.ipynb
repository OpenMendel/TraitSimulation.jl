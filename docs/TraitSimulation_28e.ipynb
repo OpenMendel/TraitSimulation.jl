{
 "cells": [
  {
   "cell_type": "markdown",
   "metadata": {},
   "source": [
    "# Trait Simulation Tutorial\n",
    "\n",
    "\n",
    "Authors: Sarah Ji, Janet Sinsheimer, Kenneth Lange\n",
    "\n",
    "In this notebook we show how to use the `TraitSimulation.jl` package to simulate traits from genotype data from unrelateds or families with user-specified Generalized Linear Models (GLMs) or Linear Mixed Models (LMMs), respectively. For simulating under either GLM or LMMs, the user can specify the number of repitions for each simulation model. By default, the simulation will return the result of a single simulation. \n",
    "\n",
    "The data we will be using are from the Mendel version 16[1] sample files. The data are described in examples under Option 28e in the Mendel Version 16 Manual [Section 28.1,  page 279](http://software.genetics.ucla.edu/download?file=202). It consists of simulated data where the two traits of interest have one contributing SNP and a sex effect."
   ]
  },
  {
   "cell_type": "markdown",
   "metadata": {},
   "source": [
    "### Double check that you are using Julia version 1.0 or higher by checking the machine information"
   ]
  },
  {
   "cell_type": "code",
   "execution_count": 1,
   "metadata": {},
   "outputs": [
    {
     "name": "stdout",
     "output_type": "stream",
     "text": [
      "Julia Version 1.2.0\n",
      "Commit c6da87ff4b (2019-08-20 00:03 UTC)\n",
      "Platform Info:\n",
      "  OS: macOS (x86_64-apple-darwin18.6.0)\n",
      "  CPU: Intel(R) Core(TM) i7-7700HQ CPU @ 2.80GHz\n",
      "  WORD_SIZE: 64\n",
      "  LIBM: libopenlibm\n",
      "  LLVM: libLLVM-6.0.1 (ORCJIT, skylake)\n"
     ]
    }
   ],
   "source": [
    "versioninfo()"
   ]
  },
  {
   "cell_type": "markdown",
   "metadata": {},
   "source": [
    "# Add any missing packages needed for this tutorial:\n",
    "\n",
    "Note: For demonstration purposes, the generation of this Jupyter Notebook requires the use of the following registered packages: `DataFrames.jl`, `SnpArrays.jl`, `StatsModels.jl`, `Random.jl`, `DelimitedFiles.jl`, `StatsBase.jl`, and `StatsFuns.jl`. \n",
    "\n",
    "If it is your first time using these registered packages, you will first have to add the registered packages: DataFrames, SnpArrays, StatsModels, Random, LinearAlgebra, DelimitedFiles, Random, StatsBase by running the following code chunk in Julia's package manager:\n",
    "\n",
    "```{julia}\n",
    "pkg> add DataFrames\n",
    "pkg> add SnpArrays\n",
    "...\n",
    "pkg> add StatsFuns\n",
    "```\n",
    "You can also use the package manager to add the `TraitSimulation.jl` package by running the following link: </br>\n",
    "\n",
    "```{julia}\n",
    "pkg> add \"https://github.com/sarah-ji/TraitSimulation.jl\"\n",
    "```\n",
    "\n",
    "Only after all of the necessary packages have been added, load them into your working environment with the `using` command:"
   ]
  },
  {
   "cell_type": "code",
   "execution_count": 51,
   "metadata": {},
   "outputs": [],
   "source": [
    "using DataFrames, SnpArrays, Random, LinearAlgebra, TraitSimulation, Glob"
   ]
  },
  {
   "cell_type": "markdown",
   "metadata": {},
   "source": [
    "# Reproducibility\n",
    "\n",
    "For reproducibility, we set a random seed using the `Random.jl` package for each simulation using `Random.seed!(1234)`.  If you wish to end up with different data, you will need to comment out these commands or use another value in Random.seed!()."
   ]
  },
  {
   "cell_type": "code",
   "execution_count": 53,
   "metadata": {},
   "outputs": [],
   "source": [
    "Random.seed!(1234);"
   ]
  },
  {
   "cell_type": "markdown",
   "metadata": {},
   "source": [
    "# The notebook is organized as follows:\n",
    "\n",
    "We use the OpenMendel package [SnpArrays.jl](https://openmendel.github.io/SnpArrays.jl/latest/) to read in the PLINK formatted SNP data. In example 1, we simulate generalized linear models assuming that everyone is unrelated. So in example 1,  the only data used from option 28e is the genotype for a specific locus in the snp file and the sex of the individual. The pedigree structure and relationship matrix are irrelevant.   In example 2 we simulate data under a linear mixed model so that we can model residual dependency among individuals.  In example 2b, we use the same parameters as were used in Mendel Option 28e with the simulation parameters for Trait1 and Trait2 in Ped28e.out as shown below.\n",
    "\n",
    "In both examples, you can specify your own arbitrary fixed effect sizes, variance components and simulation parameters as desired. You can also specify the number of replicates for each Trait simulation in the `simulate` function.\n",
    "\n",
    "In Example 3, we demo how to simulate from the rare variant model. In addition, we show how the user can generate effect sizes that depend on the minor allele frequencies from the chisquare distribution. To aid the user when they wish to include a large number of loci in the model, we created a function that automatically writes out the mean components for simulation.\n",
    "\n",
    "$\\textbf{At the end of Examples 1 and 3}$, we demo how to $\\textbf{write the results}$ of the simulation to a file on your own machine."
   ]
  },
  {
   "cell_type": "markdown",
   "metadata": {},
   "source": [
    "# Reading the Mendel 28a data using SnpArrays.jl\n",
    "\n",
    "First use `SnpArrays.jl` to read in the genotype data. There are 212 individuals and 253,141 snps in the genotype data set. \n"
   ]
  },
  {
   "cell_type": "code",
   "execution_count": 54,
   "metadata": {},
   "outputs": [
    {
     "data": {
      "text/plain": [
       "379×54051 SnpArray:\n",
       " 0x03  0x03  0x03  0x02  0x02  0x03  …  0x03  0x03  0x03  0x03  0x03  0x03\n",
       " 0x03  0x02  0x03  0x02  0x03  0x03     0x03  0x03  0x03  0x03  0x03  0x03\n",
       " 0x03  0x03  0x03  0x03  0x03  0x03     0x02  0x02  0x02  0x03  0x03  0x02\n",
       " 0x03  0x03  0x03  0x00  0x03  0x03     0x03  0x03  0x03  0x03  0x03  0x03\n",
       " 0x03  0x03  0x03  0x00  0x03  0x03     0x02  0x02  0x02  0x03  0x03  0x03\n",
       " 0x02  0x03  0x03  0x03  0x03  0x03  …  0x03  0x03  0x03  0x03  0x03  0x02\n",
       " 0x02  0x03  0x03  0x02  0x02  0x03     0x03  0x03  0x02  0x02  0x03  0x03\n",
       " 0x02  0x03  0x03  0x03  0x02  0x02     0x03  0x03  0x03  0x03  0x03  0x03\n",
       " 0x03  0x03  0x03  0x00  0x02  0x03     0x03  0x03  0x03  0x03  0x03  0x03\n",
       " 0x02  0x03  0x03  0x02  0x03  0x02     0x03  0x03  0x03  0x03  0x03  0x03\n",
       " 0x03  0x03  0x03  0x02  0x03  0x03  …  0x03  0x03  0x02  0x02  0x03  0x03\n",
       " 0x03  0x03  0x03  0x02  0x03  0x03     0x03  0x03  0x03  0x03  0x03  0x02\n",
       " 0x03  0x02  0x03  0x02  0x02  0x03     0x03  0x03  0x03  0x03  0x03  0x03\n",
       "    ⋮                             ⋮  ⋱     ⋮                             ⋮\n",
       " 0x03  0x03  0x03  0x00  0x02  0x03     0x03  0x03  0x03  0x03  0x03  0x03\n",
       " 0x03  0x03  0x03  0x02  0x02  0x03     0x02  0x02  0x02  0x03  0x02  0x03\n",
       " 0x03  0x03  0x03  0x02  0x02  0x03     0x03  0x03  0x03  0x03  0x03  0x03\n",
       " 0x02  0x03  0x03  0x02  0x03  0x03  …  0x03  0x03  0x03  0x03  0x03  0x03\n",
       " 0x03  0x03  0x03  0x00  0x00  0x03     0x02  0x02  0x02  0x03  0x03  0x03\n",
       " 0x02  0x03  0x03  0x03  0x03  0x03     0x03  0x03  0x03  0x03  0x03  0x03\n",
       " 0x03  0x03  0x03  0x02  0x03  0x03     0x03  0x03  0x03  0x03  0x03  0x03\n",
       " 0x03  0x03  0x03  0x02  0x03  0x03     0x03  0x03  0x03  0x03  0x03  0x03\n",
       " 0x02  0x03  0x03  0x03  0x03  0x03  …  0x03  0x03  0x02  0x02  0x03  0x03\n",
       " 0x03  0x03  0x03  0x00  0x03  0x03     0x03  0x03  0x03  0x03  0x03  0x03\n",
       " 0x02  0x03  0x03  0x02  0x00  0x02     0x03  0x03  0x03  0x03  0x03  0x03\n",
       " 0x03  0x03  0x03  0x02  0x02  0x03     0x03  0x03  0x03  0x03  0x03  0x03"
      ]
     },
     "execution_count": 54,
     "metadata": {},
     "output_type": "execute_result"
    }
   ],
   "source": [
    "filepath = SnpArrays.datadir(\"EUR_subset\")\n",
    "snpdata = SnpArray(filepath * \".bed\")"
   ]
  },
  {
   "cell_type": "markdown",
   "metadata": {},
   "source": [
    "The binary codes correspond to genotypes, A1,A1=0x00, missing=0x01, A1,A2=0x02 and A2,A2=0x03\n",
    "\n",
    "SnpArrays is a very useful utility and can do a lot more than just read in the data. More information about all the functionality of SnpArrays can be found at:\n",
    "https://openmendel.github.io/SnpArrays.jl/latest/"
   ]
  },
  {
   "cell_type": "code",
   "execution_count": 55,
   "metadata": {},
   "outputs": [
    {
     "data": {
      "text/plain": [
       "SnpData(people: 379, snps: 54051,\n",
       "snp_info: \n",
       "│ Row │ chromosome │ snpid       │ genetic_distance │ position │ allele1      │ allele2      │\n",
       "│     │ String     │ String      │ Float64          │ Int64    │ Categorical… │ Categorical… │\n",
       "├─────┼────────────┼─────────────┼──────────────────┼──────────┼──────────────┼──────────────┤\n",
       "│ 1   │ 17         │ rs34151105  │ 0.0              │ 1665     │ T            │ C            │\n",
       "│ 2   │ 17         │ rs143500173 │ 0.0              │ 2748     │ T            │ A            │\n",
       "│ 3   │ 17         │ rs113560219 │ 0.0              │ 4702     │ T            │ C            │\n",
       "│ 4   │ 17         │ rs1882989   │ 5.6e-5           │ 15222    │ G            │ A            │\n",
       "│ 5   │ 17         │ rs8069133   │ 0.000499         │ 32311    │ G            │ A            │\n",
       "│ 6   │ 17         │ rs112221137 │ 0.000605         │ 36405    │ G            │ T            │\n",
       "…,\n",
       "person_info: \n",
       "│ Row │ fid       │ iid       │ father    │ mother    │ sex       │ phenotype │\n",
       "│     │ Abstract… │ Abstract… │ Abstract… │ Abstract… │ Abstract… │ Abstract… │\n",
       "├─────┼───────────┼───────────┼───────────┼───────────┼───────────┼───────────┤\n",
       "│ 1   │ 1         │ HG00096   │ 0         │ 0         │ 1         │ 1         │\n",
       "│ 2   │ 2         │ HG00097   │ 0         │ 0         │ 2         │ 1         │\n",
       "│ 3   │ 3         │ HG00099   │ 0         │ 0         │ 2         │ 1         │\n",
       "│ 4   │ 4         │ HG00100   │ 0         │ 0         │ 2         │ 1         │\n",
       "│ 5   │ 5         │ HG00101   │ 0         │ 0         │ 1         │ 1         │\n",
       "│ 6   │ 6         │ HG00102   │ 0         │ 0         │ 2         │ 1         │\n",
       "…,\n",
       "src: /Users/sarahji/.julia/packages/SnpArrays/d0iJw/src/../data/EUR_subset\n",
       ")"
      ]
     },
     "execution_count": 55,
     "metadata": {},
     "output_type": "execute_result"
    }
   ],
   "source": [
    "EUR_famdata = SnpData(filepath)"
   ]
  },
  {
   "cell_type": "markdown",
   "metadata": {},
   "source": [
    "### Names of Variants:"
   ]
  },
  {
   "cell_type": "markdown",
   "metadata": {},
   "source": [
    "We will use snp rs62057050 as a covariate in our model.  We want to find the index of this causal locus in the snp_definition file and then subset that locus from the genetic marker data above. \n",
    "We first subset the names of all the loci into a vector called `snpid`"
   ]
  },
  {
   "cell_type": "code",
   "execution_count": 56,
   "metadata": {},
   "outputs": [
    {
     "data": {
      "text/plain": [
       "54051-element CSV.Column{String,String}:\n",
       " \"rs34151105\" \n",
       " \"rs143500173\"\n",
       " \"rs113560219\"\n",
       " \"rs1882989\"  \n",
       " \"rs8069133\"  \n",
       " \"rs112221137\"\n",
       " \"rs34889101\" \n",
       " \"rs35840960\" \n",
       " \"rs144918387\"\n",
       " \"rs62057022\" \n",
       " \"rs4890182\"  \n",
       " \"rs1882990\"  \n",
       " \"rs62057050\" \n",
       " ⋮            \n",
       " \"rs5770999\"  \n",
       " \"rs6010070\"  \n",
       " \"rs6010072\"  \n",
       " \"rs6009960\"  \n",
       " \"rs56807126\" \n",
       " \"rs6010073\"  \n",
       " \"rs184517959\"\n",
       " \"rs113391741\"\n",
       " \"rs151247655\"\n",
       " \"rs187225588\"\n",
       " \"rs9616967\"  \n",
       " \"rs148755559\""
      ]
     },
     "execution_count": 56,
     "metadata": {},
     "output_type": "execute_result"
    }
   ],
   "source": [
    "snpid = EUR_famdata.snp_info[!, :snpid]"
   ]
  },
  {
   "cell_type": "markdown",
   "metadata": {},
   "source": [
    "We next need to find the position of the snp rs7212950.  If you wish to use another snp as the causal locus just change the rs number to another one that is found in the available genotype data, for example rs148755559."
   ]
  },
  {
   "cell_type": "code",
   "execution_count": 60,
   "metadata": {},
   "outputs": [
    {
     "data": {
      "text/plain": [
       "2362"
      ]
     },
     "execution_count": 60,
     "metadata": {},
     "output_type": "execute_result"
    }
   ],
   "source": [
    "index_rs7212950 = findall(x -> x == \"rs7212950\", snpid)[1]"
   ]
  },
  {
   "cell_type": "markdown",
   "metadata": {},
   "source": [
    "We see that rs7212950, is the 2362th locus in the dataset."
   ]
  },
  {
   "cell_type": "markdown",
   "metadata": {},
   "source": [
    "Let's create a design matrix for the model that includes the locus rs7212950."
   ]
  },
  {
   "cell_type": "code",
   "execution_count": 61,
   "metadata": {},
   "outputs": [
    {
     "data": {
      "text/html": [
       "<table class=\"data-frame\"><thead><tr><th></th><th>locus</th></tr><tr><th></th><th>Float64</th></tr></thead><tbody><p>379 rows × 1 columns</p><tr><th>1</th><td>2.0</td></tr><tr><th>2</th><td>2.0</td></tr><tr><th>3</th><td>1.0</td></tr><tr><th>4</th><td>2.0</td></tr><tr><th>5</th><td>2.0</td></tr><tr><th>6</th><td>2.0</td></tr><tr><th>7</th><td>2.0</td></tr><tr><th>8</th><td>2.0</td></tr><tr><th>9</th><td>1.0</td></tr><tr><th>10</th><td>2.0</td></tr><tr><th>11</th><td>2.0</td></tr><tr><th>12</th><td>2.0</td></tr><tr><th>13</th><td>2.0</td></tr><tr><th>14</th><td>2.0</td></tr><tr><th>15</th><td>2.0</td></tr><tr><th>16</th><td>2.0</td></tr><tr><th>17</th><td>2.0</td></tr><tr><th>18</th><td>2.0</td></tr><tr><th>19</th><td>2.0</td></tr><tr><th>20</th><td>1.0</td></tr><tr><th>21</th><td>2.0</td></tr><tr><th>22</th><td>2.0</td></tr><tr><th>23</th><td>2.0</td></tr><tr><th>24</th><td>2.0</td></tr><tr><th>25</th><td>1.0</td></tr><tr><th>26</th><td>2.0</td></tr><tr><th>27</th><td>2.0</td></tr><tr><th>28</th><td>1.0</td></tr><tr><th>29</th><td>2.0</td></tr><tr><th>30</th><td>2.0</td></tr><tr><th>&vellip;</th><td>&vellip;</td></tr></tbody></table>"
      ],
      "text/latex": [
       "\\begin{tabular}{r|c}\n",
       "\t& locus\\\\\n",
       "\t\\hline\n",
       "\t& Float64\\\\\n",
       "\t\\hline\n",
       "\t1 & 2.0 \\\\\n",
       "\t2 & 2.0 \\\\\n",
       "\t3 & 1.0 \\\\\n",
       "\t4 & 2.0 \\\\\n",
       "\t5 & 2.0 \\\\\n",
       "\t6 & 2.0 \\\\\n",
       "\t7 & 2.0 \\\\\n",
       "\t8 & 2.0 \\\\\n",
       "\t9 & 1.0 \\\\\n",
       "\t10 & 2.0 \\\\\n",
       "\t11 & 2.0 \\\\\n",
       "\t12 & 2.0 \\\\\n",
       "\t13 & 2.0 \\\\\n",
       "\t14 & 2.0 \\\\\n",
       "\t15 & 2.0 \\\\\n",
       "\t16 & 2.0 \\\\\n",
       "\t17 & 2.0 \\\\\n",
       "\t18 & 2.0 \\\\\n",
       "\t19 & 2.0 \\\\\n",
       "\t20 & 1.0 \\\\\n",
       "\t21 & 2.0 \\\\\n",
       "\t22 & 2.0 \\\\\n",
       "\t23 & 2.0 \\\\\n",
       "\t24 & 2.0 \\\\\n",
       "\t25 & 1.0 \\\\\n",
       "\t26 & 2.0 \\\\\n",
       "\t27 & 2.0 \\\\\n",
       "\t28 & 1.0 \\\\\n",
       "\t29 & 2.0 \\\\\n",
       "\t30 & 2.0 \\\\\n",
       "\t$\\dots$ & $\\dots$ \\\\\n",
       "\\end{tabular}\n"
      ],
      "text/plain": [
       "379×1 DataFrame\n",
       "│ Row │ locus   │\n",
       "│     │ \u001b[90mFloat64\u001b[39m │\n",
       "├─────┼─────────┤\n",
       "│ 1   │ 2.0     │\n",
       "│ 2   │ 2.0     │\n",
       "│ 3   │ 1.0     │\n",
       "│ 4   │ 2.0     │\n",
       "│ 5   │ 2.0     │\n",
       "│ 6   │ 2.0     │\n",
       "│ 7   │ 2.0     │\n",
       "│ 8   │ 2.0     │\n",
       "│ 9   │ 1.0     │\n",
       "│ 10  │ 2.0     │\n",
       "⋮\n",
       "│ 369 │ 2.0     │\n",
       "│ 370 │ 2.0     │\n",
       "│ 371 │ 2.0     │\n",
       "│ 372 │ 2.0     │\n",
       "│ 373 │ 2.0     │\n",
       "│ 374 │ 2.0     │\n",
       "│ 375 │ 2.0     │\n",
       "│ 376 │ 2.0     │\n",
       "│ 377 │ 2.0     │\n",
       "│ 378 │ 0.0     │\n",
       "│ 379 │ 2.0     │"
      ]
     },
     "execution_count": 61,
     "metadata": {},
     "output_type": "execute_result"
    }
   ],
   "source": [
    "X = DataFrame(locus = convert(Vector{Float64}, @view(EUR_snpdata[:, index_rs7212950])))"
   ]
  },
  {
   "cell_type": "markdown",
   "metadata": {},
   "source": [
    "# Example 1 Generalized Linear Model:\n",
    "\n",
    "This example simulates a case where three snps have fixed effects on the trait. Any apparent genetic correlation between relatives for the trait is due to the effect of these snps, so once these effects of these snps are modelled there should be no residual correlation among relatives. Note that by default, individuals with missing genotype values will have missing phenotype values, unless the user specifies the argument `impute = true` in the convert function above.\n",
    "Be sure to change Random.seed!(1234) to something else (or comment out) if you want to generate a new data set. \n",
    "\n",
    "\n",
    "### Example 1a: Single Trait\n",
    "$$Y ∼ N(\\mu, \\sigma^{2})$$\n",
    "\n",
    "In example (1a) we simulate a $\\textbf{SINGLE INDEPENDENT NORMAL TRAIT}$, with simulation parameters: $\\mu = 20 - 1.5*locus$, $\\sigma^{2} = 2$"
   ]
  },
  {
   "cell_type": "code",
   "execution_count": 62,
   "metadata": {},
   "outputs": [
    {
     "name": "stderr",
     "output_type": "stream",
     "text": [
      "┌ Warning: `getindex(df::DataFrame, col_ind::ColumnIndex)` is deprecated, use `df[!, col_ind]` instead.\n",
      "│   caller = top-level scope at kernel.jl:52\n",
      "└ @ Core /Users/sarahji/.julia/packages/IJulia/F1GUo/src/kernel.jl:52\n"
     ]
    },
    {
     "data": {
      "text/html": [
       "<table class=\"data-frame\"><thead><tr><th></th><th>Simulated_Trait</th></tr><tr><th></th><th>Float64</th></tr></thead><tbody><p>379 rows × 1 columns</p><tr><th>1</th><td>18.7347</td></tr><tr><th>2</th><td>15.1965</td></tr><tr><th>3</th><td>17.511</td></tr><tr><th>4</th><td>15.1942</td></tr><tr><th>5</th><td>18.7288</td></tr><tr><th>6</th><td>21.4238</td></tr><tr><th>7</th><td>18.0656</td></tr><tr><th>8</th><td>16.4565</td></tr><tr><th>9</th><td>19.5047</td></tr><tr><th>10</th><td>15.966</td></tr><tr><th>11</th><td>15.879</td></tr><tr><th>12</th><td>16.9614</td></tr><tr><th>13</th><td>17.2561</td></tr><tr><th>14</th><td>20.7056</td></tr><tr><th>15</th><td>15.3445</td></tr><tr><th>16</th><td>17.2202</td></tr><tr><th>17</th><td>16.4976</td></tr><tr><th>18</th><td>17.7394</td></tr><tr><th>19</th><td>17.1442</td></tr><tr><th>20</th><td>15.4931</td></tr><tr><th>21</th><td>20.1283</td></tr><tr><th>22</th><td>14.2065</td></tr><tr><th>23</th><td>19.211</td></tr><tr><th>24</th><td>14.7865</td></tr><tr><th>25</th><td>12.0773</td></tr><tr><th>26</th><td>16.852</td></tr><tr><th>27</th><td>17.302</td></tr><tr><th>28</th><td>20.0386</td></tr><tr><th>29</th><td>16.3797</td></tr><tr><th>30</th><td>15.7946</td></tr><tr><th>&vellip;</th><td>&vellip;</td></tr></tbody></table>"
      ],
      "text/latex": [
       "\\begin{tabular}{r|c}\n",
       "\t& Simulated\\_Trait\\\\\n",
       "\t\\hline\n",
       "\t& Float64\\\\\n",
       "\t\\hline\n",
       "\t1 & 18.7347 \\\\\n",
       "\t2 & 15.1965 \\\\\n",
       "\t3 & 17.511 \\\\\n",
       "\t4 & 15.1942 \\\\\n",
       "\t5 & 18.7288 \\\\\n",
       "\t6 & 21.4238 \\\\\n",
       "\t7 & 18.0656 \\\\\n",
       "\t8 & 16.4565 \\\\\n",
       "\t9 & 19.5047 \\\\\n",
       "\t10 & 15.966 \\\\\n",
       "\t11 & 15.879 \\\\\n",
       "\t12 & 16.9614 \\\\\n",
       "\t13 & 17.2561 \\\\\n",
       "\t14 & 20.7056 \\\\\n",
       "\t15 & 15.3445 \\\\\n",
       "\t16 & 17.2202 \\\\\n",
       "\t17 & 16.4976 \\\\\n",
       "\t18 & 17.7394 \\\\\n",
       "\t19 & 17.1442 \\\\\n",
       "\t20 & 15.4931 \\\\\n",
       "\t21 & 20.1283 \\\\\n",
       "\t22 & 14.2065 \\\\\n",
       "\t23 & 19.211 \\\\\n",
       "\t24 & 14.7865 \\\\\n",
       "\t25 & 12.0773 \\\\\n",
       "\t26 & 16.852 \\\\\n",
       "\t27 & 17.302 \\\\\n",
       "\t28 & 20.0386 \\\\\n",
       "\t29 & 16.3797 \\\\\n",
       "\t30 & 15.7946 \\\\\n",
       "\t$\\dots$ & $\\dots$ \\\\\n",
       "\\end{tabular}\n"
      ],
      "text/plain": [
       "379×1 DataFrame\n",
       "│ Row │ Simulated_Trait │\n",
       "│     │ \u001b[90mFloat64\u001b[39m         │\n",
       "├─────┼─────────────────┤\n",
       "│ 1   │ 18.7347         │\n",
       "│ 2   │ 15.1965         │\n",
       "│ 3   │ 17.511          │\n",
       "│ 4   │ 15.1942         │\n",
       "│ 5   │ 18.7288         │\n",
       "│ 6   │ 21.4238         │\n",
       "│ 7   │ 18.0656         │\n",
       "│ 8   │ 16.4565         │\n",
       "│ 9   │ 19.5047         │\n",
       "│ 10  │ 15.966          │\n",
       "⋮\n",
       "│ 369 │ 16.5647         │\n",
       "│ 370 │ 16.8932         │\n",
       "│ 371 │ 12.2923         │\n",
       "│ 372 │ 17.5752         │\n",
       "│ 373 │ 18.712          │\n",
       "│ 374 │ 19.7955         │\n",
       "│ 375 │ 17.6279         │\n",
       "│ 376 │ 17.425          │\n",
       "│ 377 │ 20.1336         │\n",
       "│ 378 │ 22.749          │\n",
       "│ 379 │ 15.1466         │"
      ]
     },
     "execution_count": 62,
     "metadata": {},
     "output_type": "execute_result"
    }
   ],
   "source": [
    "mean_formula = \"20 - 1.5(locus)\"\n",
    "GLM_trait_model = GLMTrait(mean_formula, X, NormalResponse(2), IdentityLink())\n",
    "Simulated_GLM_trait = DataFrame(Simulated_Trait = simulate(GLM_trait_model))"
   ]
  },
  {
   "cell_type": "code",
   "execution_count": 63,
   "metadata": {},
   "outputs": [
    {
     "data": {
      "text/html": [
       "<table class=\"data-frame\"><thead><tr><th></th><th>variable</th><th>mean</th><th>std</th><th>min</th><th>median</th><th>max</th></tr><tr><th></th><th>Symbol</th><th>Float64</th><th>Float64</th><th>Float64</th><th>Float64</th><th>Float64</th></tr></thead><tbody><p>1 rows × 6 columns</p><tr><th>1</th><td>Simulated_Trait</td><td>17.211</td><td>2.1495</td><td>11.8256</td><td>17.1321</td><td>26.1927</td></tr></tbody></table>"
      ],
      "text/latex": [
       "\\begin{tabular}{r|cccccc}\n",
       "\t& variable & mean & std & min & median & max\\\\\n",
       "\t\\hline\n",
       "\t& Symbol & Float64 & Float64 & Float64 & Float64 & Float64\\\\\n",
       "\t\\hline\n",
       "\t1 & Simulated\\_Trait & 17.211 & 2.1495 & 11.8256 & 17.1321 & 26.1927 \\\\\n",
       "\\end{tabular}\n"
      ],
      "text/plain": [
       "1×6 DataFrame\n",
       "│ Row │ variable        │ mean    │ std     │ min     │ median  │ max     │\n",
       "│     │ \u001b[90mSymbol\u001b[39m          │ \u001b[90mFloat64\u001b[39m │ \u001b[90mFloat64\u001b[39m │ \u001b[90mFloat64\u001b[39m │ \u001b[90mFloat64\u001b[39m │ \u001b[90mFloat64\u001b[39m │\n",
       "├─────┼─────────────────┼─────────┼─────────┼─────────┼─────────┼─────────┤\n",
       "│ 1   │ Simulated_Trait │ 17.211  │ 2.1495  │ 11.8256 │ 17.1321 │ 26.1927 │"
      ]
     },
     "execution_count": 63,
     "metadata": {},
     "output_type": "execute_result"
    }
   ],
   "source": [
    "describe(Simulated_GLM_trait, :mean, :std, :min, :median, :max)"
   ]
  },
  {
   "cell_type": "markdown",
   "metadata": {},
   "source": [
    "# Example 2: Linear Mixed Model (with additive genetic variance component).\n",
    "Examples 2a simulates a single trait, while Example 2b simulates two correlated traits.\n",
    "\n",
    "Note you can scale the function to simulate the trait multiple times by specifying the argument, `n_reps`. \n",
    "Also, you can extend the model in Example 2b to include more than 2 variance components using the `@vc` macro.\n"
   ]
  },
  {
   "cell_type": "markdown",
   "metadata": {},
   "source": [
    "## The Variance Covariance Matrix\n",
    "\n",
    "Recall : $E(\\mathbf{GRM}) = \\Phi$\n",
    "<br>\n",
    "We use the [SnpArrays.jl](https://github.com/OpenMendel/SnpArrays.jl) package to find an estimate of the Kinship ($\\Phi$), the Genetic Relationship Matrix (GRM). \n",
    "\n",
    "We will use the same values of $\\textbf{GRM, V_a, and V_e}$ in the bivariate covariance matrix for both the mixed effect example and for the rare variant example.\n",
    "\n",
    "Note that the residual covariance among two relatives is the additive genetic variance, $\\textbf{V_a}$, times twice the kinship coefficient, $\\Phi$. The kinship matrix is derived from the genetic relationship matrix $\\textbf{GRM}$ across the common SNPs with minor allele frequency at least 0.05."
   ]
  },
  {
   "cell_type": "code",
   "execution_count": 64,
   "metadata": {},
   "outputs": [
    {
     "data": {
      "text/plain": [
       "379×379 Array{Float64,2}:\n",
       "  0.515862     -0.0171514     0.000830645  …   0.01089       0.0133328  \n",
       " -0.0171514     0.504733     -0.000395141      0.000707769  -0.00699462 \n",
       "  0.000830645  -0.000395141   0.503371        -0.00896103   -0.00369584 \n",
       " -0.00482143    0.00671988    0.00610991      -0.000679375   0.000816469\n",
       " -0.00652937    0.00396417    0.0130454       -0.011225     -0.00324037 \n",
       "  0.00217151   -0.00044179    0.0132678    …  -0.0133392    -0.00687835 \n",
       " -0.0136113     0.00497049   -0.00402601      -0.0014478     0.000640062\n",
       " -0.00802599    0.00345512    0.00503707      -0.0115018    -0.0058708  \n",
       "  0.00277393   -0.0047003    -0.000865875      0.000308418   0.0107124  \n",
       " -0.0144153     0.00509626    0.00395056      -0.00405372   -0.00677055 \n",
       " -0.0011438    -0.00350985    0.0111732    …   0.000910357   0.0101875  \n",
       "  0.0138263    -0.00419484    1.09592e-5      -0.00980202   -0.00291516 \n",
       " -0.00418412    0.0100604    -0.00555352      -0.00600662   -0.00960445 \n",
       "  ⋮                                        ⋱                            \n",
       "  0.00461529   -0.0118068    -0.00513411       0.00560665    0.00594864 \n",
       "  0.00220142   -0.00665073   -0.0102258        0.00437125    0.00818527 \n",
       "  0.00241737   -0.00842119   -0.01219          0.00571925    0.0171951  \n",
       " -0.0027391    -0.00439221   -0.00835493   …   0.00157957    0.00914013 \n",
       " -0.00706903    0.0110288    -0.000389294      0.00230037   -0.00615776 \n",
       "  0.00376621   -0.00947601   -0.0165808        0.0107231     0.0102003  \n",
       " -0.0047493     0.00658306   -0.0128226       -0.0115866     0.0102794  \n",
       " -0.00327868   -0.00819631    0.00442964       0.0159538     0.0233113  \n",
       " -0.00211746    0.0108361    -0.0109254    …   0.00961683    0.00716298 \n",
       "  0.00544011   -0.0094951    -0.000750039     -0.00425245   -0.0082359  \n",
       "  0.01089       0.000707769  -0.00896103       0.505093      0.0177174  \n",
       "  0.0133328    -0.00699462   -0.00369584       0.0177174     0.515104   "
      ]
     },
     "execution_count": 64,
     "metadata": {},
     "output_type": "execute_result"
    }
   ],
   "source": [
    "GRM = grm(EUR_snpdata, minmaf = 0.05)"
   ]
  },
  {
   "cell_type": "markdown",
   "metadata": {},
   "source": [
    "### Example 2a: Single Trait \n",
    "$$\n",
    "Y ∼ N(μ, 4* 2GRM + 2I)$$\n",
    "\n",
    "We simulate a Normal Trait controlling for family structure, location = $\\mu = 40 + 3(sex) - 1.5(locus)$ and scale =  $\\mathbf{V} = 2*V_a \\Phi + V_e I = 4* 2GRM + 2I$. \n"
   ]
  },
  {
   "cell_type": "code",
   "execution_count": 65,
   "metadata": {},
   "outputs": [
    {
     "name": "stderr",
     "output_type": "stream",
     "text": [
      "┌ Warning: `getindex(df::DataFrame, col_ind::ColumnIndex)` is deprecated, use `df[!, col_ind]` instead.\n",
      "│   caller = top-level scope at kernel.jl:52\n",
      "└ @ Core /Users/sarahji/.julia/packages/IJulia/F1GUo/src/kernel.jl:52\n"
     ]
    },
    {
     "data": {
      "text/html": [
       "<table class=\"data-frame\"><thead><tr><th></th><th>Simulated_Trait</th></tr><tr><th></th><th>Float64</th></tr></thead><tbody><p>379 rows × 1 columns</p><tr><th>1</th><td>36.8906</td></tr><tr><th>2</th><td>36.6386</td></tr><tr><th>3</th><td>39.2387</td></tr><tr><th>4</th><td>36.156</td></tr><tr><th>5</th><td>37.5698</td></tr><tr><th>6</th><td>33.5482</td></tr><tr><th>7</th><td>36.3204</td></tr><tr><th>8</th><td>36.222</td></tr><tr><th>9</th><td>37.8047</td></tr><tr><th>10</th><td>34.578</td></tr><tr><th>11</th><td>34.4341</td></tr><tr><th>12</th><td>33.4121</td></tr><tr><th>13</th><td>34.9575</td></tr><tr><th>14</th><td>37.2139</td></tr><tr><th>15</th><td>41.0631</td></tr><tr><th>16</th><td>36.6056</td></tr><tr><th>17</th><td>37.0929</td></tr><tr><th>18</th><td>37.9852</td></tr><tr><th>19</th><td>35.6033</td></tr><tr><th>20</th><td>35.6556</td></tr><tr><th>21</th><td>36.0786</td></tr><tr><th>22</th><td>37.4595</td></tr><tr><th>23</th><td>37.8063</td></tr><tr><th>24</th><td>37.6505</td></tr><tr><th>25</th><td>35.1508</td></tr><tr><th>26</th><td>39.0297</td></tr><tr><th>27</th><td>38.2861</td></tr><tr><th>28</th><td>36.8545</td></tr><tr><th>29</th><td>36.3841</td></tr><tr><th>30</th><td>34.7995</td></tr><tr><th>&vellip;</th><td>&vellip;</td></tr></tbody></table>"
      ],
      "text/latex": [
       "\\begin{tabular}{r|c}\n",
       "\t& Simulated\\_Trait\\\\\n",
       "\t\\hline\n",
       "\t& Float64\\\\\n",
       "\t\\hline\n",
       "\t1 & 36.8906 \\\\\n",
       "\t2 & 36.6386 \\\\\n",
       "\t3 & 39.2387 \\\\\n",
       "\t4 & 36.156 \\\\\n",
       "\t5 & 37.5698 \\\\\n",
       "\t6 & 33.5482 \\\\\n",
       "\t7 & 36.3204 \\\\\n",
       "\t8 & 36.222 \\\\\n",
       "\t9 & 37.8047 \\\\\n",
       "\t10 & 34.578 \\\\\n",
       "\t11 & 34.4341 \\\\\n",
       "\t12 & 33.4121 \\\\\n",
       "\t13 & 34.9575 \\\\\n",
       "\t14 & 37.2139 \\\\\n",
       "\t15 & 41.0631 \\\\\n",
       "\t16 & 36.6056 \\\\\n",
       "\t17 & 37.0929 \\\\\n",
       "\t18 & 37.9852 \\\\\n",
       "\t19 & 35.6033 \\\\\n",
       "\t20 & 35.6556 \\\\\n",
       "\t21 & 36.0786 \\\\\n",
       "\t22 & 37.4595 \\\\\n",
       "\t23 & 37.8063 \\\\\n",
       "\t24 & 37.6505 \\\\\n",
       "\t25 & 35.1508 \\\\\n",
       "\t26 & 39.0297 \\\\\n",
       "\t27 & 38.2861 \\\\\n",
       "\t28 & 36.8545 \\\\\n",
       "\t29 & 36.3841 \\\\\n",
       "\t30 & 34.7995 \\\\\n",
       "\t$\\dots$ & $\\dots$ \\\\\n",
       "\\end{tabular}\n"
      ],
      "text/plain": [
       "379×1 DataFrame\n",
       "│ Row │ Simulated_Trait │\n",
       "│     │ \u001b[90mFloat64\u001b[39m         │\n",
       "├─────┼─────────────────┤\n",
       "│ 1   │ 36.8906         │\n",
       "│ 2   │ 36.6386         │\n",
       "│ 3   │ 39.2387         │\n",
       "│ 4   │ 36.156          │\n",
       "│ 5   │ 37.5698         │\n",
       "│ 6   │ 33.5482         │\n",
       "│ 7   │ 36.3204         │\n",
       "│ 8   │ 36.222          │\n",
       "│ 9   │ 37.8047         │\n",
       "│ 10  │ 34.578          │\n",
       "⋮\n",
       "│ 369 │ 33.0951         │\n",
       "│ 370 │ 38.8407         │\n",
       "│ 371 │ 33.596          │\n",
       "│ 372 │ 35.811          │\n",
       "│ 373 │ 36.6188         │\n",
       "│ 374 │ 38.4986         │\n",
       "│ 375 │ 36.9874         │\n",
       "│ 376 │ 37.2149         │\n",
       "│ 377 │ 37.982          │\n",
       "│ 378 │ 39.7976         │\n",
       "│ 379 │ 36.9037         │"
      ]
     },
     "execution_count": 65,
     "metadata": {},
     "output_type": "execute_result"
    }
   ],
   "source": [
    "mean_formula = [\"40 - 1.5(locus)\"]\n",
    "I_n = Matrix{Float64}(I, size(GRM));\n",
    "LMM_trait_model = LMMTrait(mean_formula, X, 4*(2*GRM) + 2*(I_n))\n",
    "Simulated_LMM_Trait = DataFrame(Simulated_Trait = simulate(LMM_trait_model, 1000)[:, :, 1][:])"
   ]
  },
  {
   "cell_type": "markdown",
   "metadata": {},
   "source": [
    "Let's look at summary statistics of just the first of the 1000 simulation results."
   ]
  },
  {
   "cell_type": "code",
   "execution_count": 66,
   "metadata": {},
   "outputs": [
    {
     "data": {
      "text/html": [
       "<table class=\"data-frame\"><thead><tr><th></th><th>variable</th><th>mean</th><th>std</th><th>min</th><th>median</th><th>max</th></tr><tr><th></th><th>Symbol</th><th>Float64</th><th>Float64</th><th>Float64</th><th>Float64</th><th>Float64</th></tr></thead><tbody><p>1 rows × 6 columns</p><tr><th>1</th><td>Simulated_Trait</td><td>37.1641</td><td>2.50047</td><td>29.7848</td><td>37.0535</td><td>43.6048</td></tr></tbody></table>"
      ],
      "text/latex": [
       "\\begin{tabular}{r|cccccc}\n",
       "\t& variable & mean & std & min & median & max\\\\\n",
       "\t\\hline\n",
       "\t& Symbol & Float64 & Float64 & Float64 & Float64 & Float64\\\\\n",
       "\t\\hline\n",
       "\t1 & Simulated\\_Trait & 37.1641 & 2.50047 & 29.7848 & 37.0535 & 43.6048 \\\\\n",
       "\\end{tabular}\n"
      ],
      "text/plain": [
       "1×6 DataFrame\n",
       "│ Row │ variable        │ mean    │ std     │ min     │ median  │ max     │\n",
       "│     │ \u001b[90mSymbol\u001b[39m          │ \u001b[90mFloat64\u001b[39m │ \u001b[90mFloat64\u001b[39m │ \u001b[90mFloat64\u001b[39m │ \u001b[90mFloat64\u001b[39m │ \u001b[90mFloat64\u001b[39m │\n",
       "├─────┼─────────────────┼─────────┼─────────┼─────────┼─────────┼─────────┤\n",
       "│ 1   │ Simulated_Trait │ 37.1641 │ 2.50047 │ 29.7848 │ 37.0535 │ 43.6048 │"
      ]
     },
     "execution_count": 66,
     "metadata": {},
     "output_type": "execute_result"
    }
   ],
   "source": [
    "describe(Simulated_LMM_Trait, :mean, :std, :min, :median, :max)"
   ]
  },
  {
   "cell_type": "markdown",
   "metadata": {},
   "source": [
    "###  Example 2b: Multiple Correlated Traits (Mendel Example 28e Simulation)\n",
    "\n",
    "We simulate two correlated Normal Traits controlling for family structure, location = μ and scale = $\\mathbf\\Sigma$. \n",
    "The corresponding bivariate variance covariance matrix as specified Mendel Option 28e, $\\mathbf{Σ}$, is generated here.\n",
    "\n",
    "$$\n",
    "Y ∼ N(μ, \\mathbf\\Sigma)\n",
    "$$ \n",
    "\n",
    "$$\n",
    "\\mathbf{\\mu} = \\begin{vmatrix}\n",
    "\\mu_1 \\\\\n",
    "\\mu_2 \\\\\n",
    "\\end{vmatrix}\n",
    "= \\begin{vmatrix}\n",
    "40 + 3(sex) - 1.5(locus)\\\\\n",
    "20 + 2(sex) - 1.5(locus)\\\\\n",
    "\\end{vmatrix}\n",
    "\\\\\n",
    "$$\n",
    "\n",
    "$$\n",
    "\\mathbf\\Sigma  = V_a \\otimes (2GRM) + V_e \\otimes I_n\n",
    "$$\n",
    "\n",
    "\n",
    "&nbsp; $FYI$: To create a trait with different variance components change the elements of $\\mathbf\\Sigma$. We create the variance component object `variance_formula` below, to simulate our traits in example 2b. While this tutorial only uses 2 variance components, we make note that the `@vc` macro is designed to handle as many variance components as needed. \n",
    "\n",
    "As long as each Variance Component is specified correctly, we can create a `VarianceComponent` Julia object for Trait Simulation:\n",
    "\n",
    "&nbsp; \n",
    "Example) Specifying more than 2 variance components (let V_H indicate an additional Household Variance component and V_D indicate a dominance genetic effect) \n",
    "\n",
    "```{julia}\n",
    "    multiple_variance_formula = @vc V_A ⊗ 2GRM + V_E ⊗ I_n + V_D ⊗ Δ + V_H ⊗ H;\n",
    "```"
   ]
  },
  {
   "cell_type": "markdown",
   "metadata": {},
   "source": [
    "V_E is multiplies a 212 by 212 identity matrix, which we creat along with the V_E and V_A matrices. "
   ]
  },
  {
   "cell_type": "code",
   "execution_count": 68,
   "metadata": {},
   "outputs": [],
   "source": [
    "V_A = [4 1; 1 4]\n",
    "V_E = [2.0 0.0; 0.0 2.0];\n",
    "# @vc is a macro that creates a 'VarianceComponent' Type for simulation\n",
    "variance_formula = @vc V_A ⊗ 2GRM + V_E ⊗ I_n;"
   ]
  },
  {
   "cell_type": "markdown",
   "metadata": {},
   "source": [
    "These are the formulas for the fixed effects, as specified by Mendel Option 28e."
   ]
  },
  {
   "cell_type": "code",
   "execution_count": 69,
   "metadata": {},
   "outputs": [
    {
     "name": "stderr",
     "output_type": "stream",
     "text": [
      "┌ Warning: `getindex(df::DataFrame, col_ind::ColumnIndex)` is deprecated, use `df[!, col_ind]` instead.\n",
      "│   caller = top-level scope at kernel.jl:52\n",
      "└ @ Core /Users/sarahji/.julia/packages/IJulia/F1GUo/src/kernel.jl:52\n",
      "┌ Warning: `getindex(df::DataFrame, col_ind::ColumnIndex)` is deprecated, use `df[!, col_ind]` instead.\n",
      "│   caller = top-level scope at kernel.jl:52\n",
      "└ @ Core /Users/sarahji/.julia/packages/IJulia/F1GUo/src/kernel.jl:52\n"
     ]
    },
    {
     "data": {
      "text/html": [
       "<table class=\"data-frame\"><thead><tr><th></th><th>x1</th><th>x2</th></tr><tr><th></th><th>Float64</th><th>Float64</th></tr></thead><tbody><p>379 rows × 2 columns</p><tr><th>1</th><td>37.0</td><td>17.0</td></tr><tr><th>2</th><td>37.0</td><td>17.0</td></tr><tr><th>3</th><td>38.5</td><td>18.5</td></tr><tr><th>4</th><td>37.0</td><td>17.0</td></tr><tr><th>5</th><td>37.0</td><td>17.0</td></tr><tr><th>6</th><td>37.0</td><td>17.0</td></tr><tr><th>7</th><td>37.0</td><td>17.0</td></tr><tr><th>8</th><td>37.0</td><td>17.0</td></tr><tr><th>9</th><td>38.5</td><td>18.5</td></tr><tr><th>10</th><td>37.0</td><td>17.0</td></tr><tr><th>11</th><td>37.0</td><td>17.0</td></tr><tr><th>12</th><td>37.0</td><td>17.0</td></tr><tr><th>13</th><td>37.0</td><td>17.0</td></tr><tr><th>14</th><td>37.0</td><td>17.0</td></tr><tr><th>15</th><td>37.0</td><td>17.0</td></tr><tr><th>16</th><td>37.0</td><td>17.0</td></tr><tr><th>17</th><td>37.0</td><td>17.0</td></tr><tr><th>18</th><td>37.0</td><td>17.0</td></tr><tr><th>19</th><td>37.0</td><td>17.0</td></tr><tr><th>20</th><td>38.5</td><td>18.5</td></tr><tr><th>21</th><td>37.0</td><td>17.0</td></tr><tr><th>22</th><td>37.0</td><td>17.0</td></tr><tr><th>23</th><td>37.0</td><td>17.0</td></tr><tr><th>24</th><td>37.0</td><td>17.0</td></tr><tr><th>25</th><td>38.5</td><td>18.5</td></tr><tr><th>26</th><td>37.0</td><td>17.0</td></tr><tr><th>27</th><td>37.0</td><td>17.0</td></tr><tr><th>28</th><td>38.5</td><td>18.5</td></tr><tr><th>29</th><td>37.0</td><td>17.0</td></tr><tr><th>30</th><td>37.0</td><td>17.0</td></tr><tr><th>&vellip;</th><td>&vellip;</td><td>&vellip;</td></tr></tbody></table>"
      ],
      "text/latex": [
       "\\begin{tabular}{r|cc}\n",
       "\t& x1 & x2\\\\\n",
       "\t\\hline\n",
       "\t& Float64 & Float64\\\\\n",
       "\t\\hline\n",
       "\t1 & 37.0 & 17.0 \\\\\n",
       "\t2 & 37.0 & 17.0 \\\\\n",
       "\t3 & 38.5 & 18.5 \\\\\n",
       "\t4 & 37.0 & 17.0 \\\\\n",
       "\t5 & 37.0 & 17.0 \\\\\n",
       "\t6 & 37.0 & 17.0 \\\\\n",
       "\t7 & 37.0 & 17.0 \\\\\n",
       "\t8 & 37.0 & 17.0 \\\\\n",
       "\t9 & 38.5 & 18.5 \\\\\n",
       "\t10 & 37.0 & 17.0 \\\\\n",
       "\t11 & 37.0 & 17.0 \\\\\n",
       "\t12 & 37.0 & 17.0 \\\\\n",
       "\t13 & 37.0 & 17.0 \\\\\n",
       "\t14 & 37.0 & 17.0 \\\\\n",
       "\t15 & 37.0 & 17.0 \\\\\n",
       "\t16 & 37.0 & 17.0 \\\\\n",
       "\t17 & 37.0 & 17.0 \\\\\n",
       "\t18 & 37.0 & 17.0 \\\\\n",
       "\t19 & 37.0 & 17.0 \\\\\n",
       "\t20 & 38.5 & 18.5 \\\\\n",
       "\t21 & 37.0 & 17.0 \\\\\n",
       "\t22 & 37.0 & 17.0 \\\\\n",
       "\t23 & 37.0 & 17.0 \\\\\n",
       "\t24 & 37.0 & 17.0 \\\\\n",
       "\t25 & 38.5 & 18.5 \\\\\n",
       "\t26 & 37.0 & 17.0 \\\\\n",
       "\t27 & 37.0 & 17.0 \\\\\n",
       "\t28 & 38.5 & 18.5 \\\\\n",
       "\t29 & 37.0 & 17.0 \\\\\n",
       "\t30 & 37.0 & 17.0 \\\\\n",
       "\t$\\dots$ & $\\dots$ & $\\dots$ \\\\\n",
       "\\end{tabular}\n"
      ],
      "text/plain": [
       "379×2 DataFrame\n",
       "│ Row │ x1      │ x2      │\n",
       "│     │ \u001b[90mFloat64\u001b[39m │ \u001b[90mFloat64\u001b[39m │\n",
       "├─────┼─────────┼─────────┤\n",
       "│ 1   │ 37.0    │ 17.0    │\n",
       "│ 2   │ 37.0    │ 17.0    │\n",
       "│ 3   │ 38.5    │ 18.5    │\n",
       "│ 4   │ 37.0    │ 17.0    │\n",
       "│ 5   │ 37.0    │ 17.0    │\n",
       "│ 6   │ 37.0    │ 17.0    │\n",
       "│ 7   │ 37.0    │ 17.0    │\n",
       "│ 8   │ 37.0    │ 17.0    │\n",
       "│ 9   │ 38.5    │ 18.5    │\n",
       "│ 10  │ 37.0    │ 17.0    │\n",
       "⋮\n",
       "│ 369 │ 37.0    │ 17.0    │\n",
       "│ 370 │ 37.0    │ 17.0    │\n",
       "│ 371 │ 37.0    │ 17.0    │\n",
       "│ 372 │ 37.0    │ 17.0    │\n",
       "│ 373 │ 37.0    │ 17.0    │\n",
       "│ 374 │ 37.0    │ 17.0    │\n",
       "│ 375 │ 37.0    │ 17.0    │\n",
       "│ 376 │ 37.0    │ 17.0    │\n",
       "│ 377 │ 37.0    │ 17.0    │\n",
       "│ 378 │ 40.0    │ 20.0    │\n",
       "│ 379 │ 37.0    │ 17.0    │"
      ]
     },
     "execution_count": 69,
     "metadata": {},
     "output_type": "execute_result"
    }
   ],
   "source": [
    "mean_formulas = [\"40 - 1.5(locus)\", \"20 - 1.5(locus)\"]\n",
    "Multiple_LMM_traits_model = LMMTrait(mean_formulas, X, variance_formula)\n",
    "Simulated_LMM_Traits = DataFrame(simulate(Multiple_LMM_traits_model))"
   ]
  },
  {
   "cell_type": "markdown",
   "metadata": {},
   "source": [
    "### Summary Statistics of Our Simulated Traits"
   ]
  },
  {
   "cell_type": "code",
   "execution_count": 71,
   "metadata": {},
   "outputs": [
    {
     "data": {
      "text/html": [
       "<table class=\"data-frame\"><thead><tr><th></th><th>variable</th><th>mean</th><th>std</th><th>min</th><th>max</th></tr><tr><th></th><th>Symbol</th><th>Float64</th><th>Float64</th><th>Float64</th><th>Float64</th></tr></thead><tbody><p>2 rows × 5 columns</p><tr><th>1</th><td>x1</td><td>37.2335</td><td>0.586633</td><td>37.0</td><td>40.0</td></tr><tr><th>2</th><td>x2</td><td>17.2335</td><td>0.586633</td><td>17.0</td><td>20.0</td></tr></tbody></table>"
      ],
      "text/latex": [
       "\\begin{tabular}{r|ccccc}\n",
       "\t& variable & mean & std & min & max\\\\\n",
       "\t\\hline\n",
       "\t& Symbol & Float64 & Float64 & Float64 & Float64\\\\\n",
       "\t\\hline\n",
       "\t1 & x1 & 37.2335 & 0.586633 & 37.0 & 40.0 \\\\\n",
       "\t2 & x2 & 17.2335 & 0.586633 & 17.0 & 20.0 \\\\\n",
       "\\end{tabular}\n"
      ],
      "text/plain": [
       "2×5 DataFrame\n",
       "│ Row │ variable │ mean    │ std      │ min     │ max     │\n",
       "│     │ \u001b[90mSymbol\u001b[39m   │ \u001b[90mFloat64\u001b[39m │ \u001b[90mFloat64\u001b[39m  │ \u001b[90mFloat64\u001b[39m │ \u001b[90mFloat64\u001b[39m │\n",
       "├─────┼──────────┼─────────┼──────────┼─────────┼─────────┤\n",
       "│ 1   │ x1       │ 37.2335 │ 0.586633 │ 37.0    │ 40.0    │\n",
       "│ 2   │ x2       │ 17.2335 │ 0.586633 │ 17.0    │ 20.0    │"
      ]
     },
     "execution_count": 71,
     "metadata": {},
     "output_type": "execute_result"
    }
   ],
   "source": [
    "describe(Simulated_LMM_Traits, :mean, :std, :min, :max)"
   ]
  },
  {
   "cell_type": "markdown",
   "metadata": {},
   "source": [
    "# Example 3: Rare Variant Linear Mixed Model\n",
    "\n",
    "\n",
    "$$\n",
    "Y ∼ N(\\mu, 4* 2GRM + 2I)\n",
    "$$\n",
    "\n",
    "In this example we simulate a trait from a prespecified k, number of snps, with simulated effect sizes based off of minor allele frequencies and a Chi-squared distribution. \n",
    "\n",
    "## Generating Effect Sizes (Based on MAF)\n",
    "\n",
    "In practice rare SNPs have smaller minor allele frequencies but we are limited in this tutorial by the number of individuals in the data set. We use generated effect sizes to evaluate $\\mu$ on the following Dataframe: <br> "
   ]
  },
  {
   "cell_type": "code",
   "execution_count": 83,
   "metadata": {},
   "outputs": [],
   "source": [
    "# filter out rare SNPS, get a subset of uncommon SNPs with 0.002 < MAF ≤ 0.02\n",
    "minor_allele_frequency = maf(snpdata)\n",
    "rare_index = (0.002 .< minor_allele_frequency .≤ 0.02)\n",
    "data_rare = @view(snpdata[:, rare_index]);"
   ]
  },
  {
   "cell_type": "code",
   "execution_count": 87,
   "metadata": {},
   "outputs": [
    {
     "name": "stderr",
     "output_type": "stream",
     "text": [
      "┌ Warning: `getindex(df::DataFrame, col_ind::ColumnIndex)` is deprecated, use `df[!, col_ind]` instead.\n",
      "│   caller = top-level scope at kernel.jl:52\n",
      "└ @ Core /Users/sarahji/.julia/packages/IJulia/F1GUo/src/kernel.jl:52\n",
      "┌ Warning: `getindex(df::DataFrame, col_ind::ColumnIndex)` is deprecated, use `df[!, col_ind]` instead.\n",
      "│   caller = top-level scope at kernel.jl:52\n",
      "└ @ Core /Users/sarahji/.julia/packages/IJulia/F1GUo/src/kernel.jl:52\n",
      "┌ Warning: `getindex(df::DataFrame, col_ind::ColumnIndex)` is deprecated, use `df[!, col_ind]` instead.\n",
      "│   caller = top-level scope at kernel.jl:52\n",
      "└ @ Core /Users/sarahji/.julia/packages/IJulia/F1GUo/src/kernel.jl:52\n",
      "┌ Warning: `getindex(df::DataFrame, col_ind::ColumnIndex)` is deprecated, use `df[!, col_ind]` instead.\n",
      "│   caller = top-level scope at kernel.jl:52\n",
      "└ @ Core /Users/sarahji/.julia/packages/IJulia/F1GUo/src/kernel.jl:52\n",
      "┌ Warning: `getindex(df::DataFrame, col_ind::ColumnIndex)` is deprecated, use `df[!, col_ind]` instead.\n",
      "│   caller = top-level scope at kernel.jl:52\n",
      "└ @ Core /Users/sarahji/.julia/packages/IJulia/F1GUo/src/kernel.jl:52\n"
     ]
    },
    {
     "data": {
      "text/plain": [
       "379-element Array{Float64,1}:\n",
       "  1.5661027315584106 \n",
       " -2.428580940323021  \n",
       " -1.897170220570642  \n",
       " -1.8148788490514518 \n",
       " -3.295922821333367  \n",
       " -1.5335608813595354 \n",
       "  0.3038800577950106 \n",
       " -0.8168966275116707 \n",
       " -2.3732135814713318 \n",
       " -2.084770406004215  \n",
       " -1.6952389469633933 \n",
       " -1.0108267421628827 \n",
       " -1.1130663200983464 \n",
       "  ⋮                  \n",
       " -0.736593478287938  \n",
       " -4.3141578250966415 \n",
       " -2.943297217377027  \n",
       " -2.034231422322049  \n",
       " -0.16117207974432068\n",
       " -1.6909873192064548 \n",
       " -1.1612333913411892 \n",
       " -3.5264825656258125 \n",
       " -2.7851622478430267 \n",
       " -0.7162636204504689 \n",
       " -0.9463627805091666 \n",
       " -2.7294006981079697 "
      ]
     },
     "execution_count": 87,
     "metadata": {},
     "output_type": "execute_result"
    }
   ],
   "source": [
    "\n",
    "model_k = GLMTrait(meanformula_k, genotype_df, NormalResponse(1), IdentityLink())\n",
    "simulated_trait = simulate(model_k)"
   ]
  },
  {
   "cell_type": "markdown",
   "metadata": {},
   "source": [
    "Some summary statistics of just the first of the 1000 simulation results."
   ]
  },
  {
   "cell_type": "code",
   "execution_count": 29,
   "metadata": {},
   "outputs": [
    {
     "ename": "UndefVarError",
     "evalue": "UndefVarError: trait_rare_20_snps not defined",
     "output_type": "error",
     "traceback": [
      "UndefVarError: trait_rare_20_snps not defined",
      "",
      "Stacktrace:",
      " [1] top-level scope at In[29]:1"
     ]
    }
   ],
   "source": [
    "describe(simulated_trait[:])"
   ]
  },
  {
   "cell_type": "markdown",
   "metadata": {},
   "source": [
    "## Saving Simulation Results to Local Machine"
   ]
  },
  {
   "cell_type": "markdown",
   "metadata": {},
   "source": [
    "Here we output the simulated trait values and corresponding genotypes for each of the 212 individuals, labeled by their pedigree ID and person ID for the first iteration of the 1000 simulations. "
   ]
  },
  {
   "cell_type": "code",
   "execution_count": 30,
   "metadata": {},
   "outputs": [
    {
     "ename": "UndefVarError",
     "evalue": "UndefVarError: trait_rare_20_snps not defined",
     "output_type": "error",
     "traceback": [
      "UndefVarError: trait_rare_20_snps not defined",
      "",
      "Stacktrace:",
      " [1] top-level scope at In[30]:1"
     ]
    }
   ],
   "source": [
    "Trait3_rare = hcat(Fam_Person_id, trait_rare_20_snps[:], geno_rare20_converted)"
   ]
  },
  {
   "cell_type": "markdown",
   "metadata": {},
   "source": [
    "In addition, we output the simulation parameters (generated effect sizes and SNP names) used to simulate this trait."
   ]
  },
  {
   "cell_type": "code",
   "execution_count": 31,
   "metadata": {},
   "outputs": [
    {
     "ename": "UndefVarError",
     "evalue": "UndefVarError: simulated_effectsizes_chisq not defined",
     "output_type": "error",
     "traceback": [
      "UndefVarError: simulated_effectsizes_chisq not defined",
      "",
      "Stacktrace:",
      " [1] top-level scope at In[31]:1"
     ]
    }
   ],
   "source": [
    "Coefficients = DataFrame(Coefficients = simulated_effectsizes_chisq)\n",
    "SNPs_rare = DataFrame(SNPs = rare_snps_for_simulation)\n",
    "Trait3_rare_sim = hcat(Coefficients, SNPs_rare)"
   ]
  },
  {
   "cell_type": "code",
   "execution_count": 32,
   "metadata": {},
   "outputs": [
    {
     "ename": "UndefVarError",
     "evalue": "UndefVarError: Trait3_rare not defined",
     "output_type": "error",
     "traceback": [
      "UndefVarError: Trait3_rare not defined",
      "",
      "Stacktrace:",
      " [1] top-level scope at In[32]:1"
     ]
    }
   ],
   "source": [
    "#cd(\"/Users\") #change to home directory\n",
    "CSV.write(\"Trait3_rare.csv\", Trait3_rare)\n",
    "CSV.write(\"Trait3_rare_sim.csv\", Trait3_rare_sim);"
   ]
  },
  {
   "cell_type": "markdown",
   "metadata": {},
   "source": [
    "## Citations: \n",
    "\n",
    "[1] Lange K, Papp JC, Sinsheimer JS, Sripracha R, Zhou H, Sobel EM (2013) Mendel: The Swiss army knife of genetic analysis programs. Bioinformatics 29:1568-1570.`\n",
    "\n",
    "\n",
    "[2] OPENMENDEL: a cooperative programming project for statistical genetics.\n",
    "[Hum Genet. 2019 Mar 26. doi: 10.1007/s00439-019-02001-z](https://www.ncbi.nlm.nih.gov/pubmed/?term=OPENMENDEL).\n"
   ]
  }
 ],
 "metadata": {
  "@webio": {
   "lastCommId": null,
   "lastKernelId": null
  },
  "kernelspec": {
   "display_name": "Julia 1.2.0",
   "language": "julia",
   "name": "julia-1.2"
  },
  "language_info": {
   "file_extension": ".jl",
   "mimetype": "application/julia",
   "name": "julia",
   "version": "1.2.0"
  },
  "toc": {
   "base_numbering": 1,
   "nav_menu": {},
   "number_sections": true,
   "sideBar": true,
   "skip_h1_title": false,
   "title_cell": "Table of Contents",
   "title_sidebar": "Contents",
   "toc_cell": false,
   "toc_position": {},
   "toc_section_display": true,
   "toc_window_display": false
  }
 },
 "nbformat": 4,
 "nbformat_minor": 2
}
