{
 "cells": [
  {
   "cell_type": "markdown",
   "metadata": {},
   "source": [
    "# Example of Random M Variance Components Simulation\n",
    "\n",
    "Authors: Sarah Ji, Hua Zhou, Janet Sinsheimer, Kenneth Lange\n",
    "\n",
    "Here for m = 10 random Variance Components, we generate m random covariance matrices, a random design matrix and p regression coefficients to illustrate the simulation of a d-dimensional response matrix for a sample of n = 1000 people.\n"
   ]
  },
  {
   "cell_type": "markdown",
   "metadata": {},
   "source": [
    "### Double check that you are using Julia version 1.0 or higher by checking the machine information"
   ]
  },
  {
   "cell_type": "code",
   "execution_count": 1,
   "metadata": {},
   "outputs": [
    {
     "name": "stdout",
     "output_type": "stream",
     "text": [
      "Julia Version 1.2.0\n",
      "Commit c6da87ff4b (2019-08-20 00:03 UTC)\n",
      "Platform Info:\n",
      "  OS: macOS (x86_64-apple-darwin18.6.0)\n",
      "  CPU: Intel(R) Core(TM) i7-7700HQ CPU @ 2.80GHz\n",
      "  WORD_SIZE: 64\n",
      "  LIBM: libopenlibm\n",
      "  LLVM: libLLVM-6.0.1 (ORCJIT, skylake)\n"
     ]
    }
   ],
   "source": [
    "versioninfo()"
   ]
  },
  {
   "cell_type": "code",
   "execution_count": 2,
   "metadata": {},
   "outputs": [
    {
     "name": "stderr",
     "output_type": "stream",
     "text": [
      "┌ Info: Recompiling stale cache file /Users/sarahji/.julia/compiled/v1.2/TraitSimulation/VikWX.ji for TraitSimulation [dec3038e-29bc-11e9-2207-9f3d5855a202]\n",
      "└ @ Base loading.jl:1240\n",
      "┌ Warning: Package TraitSimulation does not have Revise in its dependencies:\n",
      "│ - If you have TraitSimulation checked out for development and have\n",
      "│   added Revise as a dependency but haven't updated your primary\n",
      "│   environment's manifest file, try `Pkg.resolve()`.\n",
      "│ - Otherwise you may need to report an issue with TraitSimulation\n",
      "└ Loading Revise into TraitSimulation from project dependency, future warnings for TraitSimulation are suppressed.\n"
     ]
    }
   ],
   "source": [
    "using DataFrames, Random, LinearAlgebra\n",
    "Random.seed!(1234);\n",
    "n = 100   # no. observations\n",
    "d = 1      # dimension of responses\n",
    "m = 10      # no. variance components\n",
    "p = 2      # no. covariates\n",
    "\n",
    "# n-by-p design matrix\n",
    "X = randn(n, p)\n",
    "\n",
    "# p-by-d mean component regression coefficient\n",
    "B = ones(p, d)  \n",
    "\n",
    "# a tuple of m covariance matrices\n",
    "V = ntuple(x -> zeros(n, n), m) \n",
    "for i = 1:m-1\n",
    "  Vi = [j ≥ i ? i * (n - j + 1) : j * (n - i + 1) for i in 1:n, j in 1:n]\n",
    "  copy!(V[i], Vi * Vi')\n",
    "end\n",
    "copy!(V[m], Diagonal(ones(n))) # last covarianec matrix is idendity\n",
    "\n",
    "# a tuple of m d-by-d variance component parameters\n",
    "Σ = ntuple(x -> zeros(d, d), m) \n",
    "for i in 1:m\n",
    "  Σi = [j ≥ i ? i * (d - j + 1) : j * (d - i + 1) for i in 1:d, j in 1:d]\n",
    "  copy!(Σ[i], Σi' * Σi)\n",
    "end"
   ]
  },
  {
   "cell_type": "code",
   "execution_count": 3,
   "metadata": {},
   "outputs": [],
   "source": [
    "Random.seed!(1234);"
   ]
  },
  {
   "cell_type": "code",
   "execution_count": 4,
   "metadata": {},
   "outputs": [
    {
     "ename": "UndefVarError",
     "evalue": "UndefVarError: simulate not defined",
     "output_type": "error",
     "traceback": [
      "UndefVarError: simulate not defined",
      "",
      "Stacktrace:",
      " [1] VCM_simulation(::Array{Float64,2}, ::Array{Float64,2}, ::NTuple{10,Array{Float64,2}}, ::NTuple{10,Array{Float64,2}}) at /Users/sarahji/Desktop/TraitSimulation/src/Multiple_traits.jl:153",
      " [2] top-level scope at In[4]:28"
     ]
    }
   ],
   "source": [
    "using BenchmarkTools\n",
    "Random.seed!(1234);\n",
    "n = 1000   # no. observations\n",
    "d = 2      # dimension of responses\n",
    "m = 10      # no. variance components\n",
    "p = 2      # no. covariates\n",
    "\n",
    "# n-by-p design matrix\n",
    "X = randn(n, p)\n",
    "\n",
    "# p-by-d mean component regression coefficient\n",
    "B = ones(p, d)  \n",
    "\n",
    "# a tuple of m covariance matrices\n",
    "V = ntuple(x -> zeros(n, n), m) \n",
    "for i = 1:m-1\n",
    "  Vi = [j ≥ i ? i * (n - j + 1) : j * (n - i + 1) for i in 1:n, j in 1:n]\n",
    "  copy!(V[i], Vi * Vi')\n",
    "end\n",
    "copy!(V[m], Diagonal(ones(n))) # last covarianec matrix is idendity\n",
    "\n",
    "# a tuple of m d-by-d variance component parameters\n",
    "Σ = ntuple(x -> zeros(d, d), m) \n",
    "for i in 1:m\n",
    "  Σi = [j ≥ i ? i * (d - j + 1) : j * (d - i + 1) for i in 1:d, j in 1:d]\n",
    "  copy!(Σ[i], Σi' * Σi)\n",
    "end\n",
    "\n",
    "Random_VCM_Trait = DataFrame(VCM_simulation(X, B, V, Σ), [:SimTrait1, :SimTrait2])"
   ]
  },
  {
   "cell_type": "markdown",
   "metadata": {},
   "source": [
    "# Comparing with the MatrixNormal from the distributions package for a M variance components, we beat on memory but not on speed. "
   ]
  },
  {
   "cell_type": "code",
   "execution_count": 5,
   "metadata": {},
   "outputs": [
    {
     "ename": "UndefVarError",
     "evalue": "UndefVarError: simulate not defined",
     "output_type": "error",
     "traceback": [
      "UndefVarError: simulate not defined",
      "",
      "Stacktrace:",
      " [1] VCM_simulation(::Array{Float64,2}, ::Array{Float64,2}, ::NTuple{10,Array{Float64,2}}, ::NTuple{10,Array{Float64,2}}) at /Users/sarahji/Desktop/TraitSimulation/src/Multiple_traits.jl:153",
      " [2] ##core#377(::Array{Float64,2}, ::Array{Float64,2}, ::NTuple{10,Array{Float64,2}}, ::NTuple{10,Array{Float64,2}}) at /Users/sarahji/.julia/packages/BenchmarkTools/7aqwe/src/execution.jl:297",
      " [3] ##sample#378(::BenchmarkTools.Parameters) at /Users/sarahji/.julia/packages/BenchmarkTools/7aqwe/src/execution.jl:303",
      " [4] #_run#11(::Bool, ::String, ::Base.Iterators.Pairs{Symbol,Integer,NTuple{4,Symbol},NamedTuple{(:samples, :evals, :gctrial, :gcsample),Tuple{Int64,Int64,Bool,Bool}}}, ::typeof(BenchmarkTools._run), ::BenchmarkTools.Benchmark{Symbol(\"##benchmark#376\")}, ::BenchmarkTools.Parameters) at /Users/sarahji/.julia/packages/BenchmarkTools/7aqwe/src/execution.jl:331",
      " [5] (::getfield(Base, Symbol(\"#inner#2\")){Base.Iterators.Pairs{Symbol,Integer,NTuple{5,Symbol},NamedTuple{(:verbose, :samples, :evals, :gctrial, :gcsample),Tuple{Bool,Int64,Int64,Bool,Bool}}},typeof(BenchmarkTools._run),Tuple{BenchmarkTools.Benchmark{Symbol(\"##benchmark#376\")},BenchmarkTools.Parameters}})() at ./none:0",
      " [6] #invokelatest#1 at ./essentials.jl:794 [inlined]",
      " [7] #invokelatest at ./none:0 [inlined]",
      " [8] #run_result#37 at /Users/sarahji/.julia/packages/BenchmarkTools/7aqwe/src/execution.jl:32 [inlined]",
      " [9] #run_result at ./none:0 [inlined]",
      " [10] #run#39(::Base.Iterators.Pairs{Symbol,Integer,NTuple{5,Symbol},NamedTuple{(:verbose, :samples, :evals, :gctrial, :gcsample),Tuple{Bool,Int64,Int64,Bool,Bool}}}, ::typeof(run), ::BenchmarkTools.Benchmark{Symbol(\"##benchmark#376\")}, ::BenchmarkTools.Parameters) at /Users/sarahji/.julia/packages/BenchmarkTools/7aqwe/src/execution.jl:46",
      " [11] #run at ./none:0 [inlined] (repeats 2 times)",
      " [12] #warmup#42 at /Users/sarahji/.julia/packages/BenchmarkTools/7aqwe/src/execution.jl:79 [inlined]",
      " [13] warmup(::BenchmarkTools.Benchmark{Symbol(\"##benchmark#376\")}) at /Users/sarahji/.julia/packages/BenchmarkTools/7aqwe/src/execution.jl:79",
      " [14] top-level scope at /Users/sarahji/.julia/packages/BenchmarkTools/7aqwe/src/execution.jl:213",
      " [15] top-level scope at In[5]:1"
     ]
    }
   ],
   "source": [
    "@benchmark VCM_simulation($X, $B, $Σ, $V)"
   ]
  },
  {
   "cell_type": "markdown",
   "metadata": {},
   "source": [
    "# Cholesky computed outside of simulation within the vc_vector of VarianceComponent types\n",
    "\n",
    "This shows that when we use the simulation package to simulate traits multiple times for whatever use then storing the cholesky decomposition of the variance covariancce matrices outside of the simulation to use n_reps times is much faster and memory efficient than using the available julia MatrixNormal distribution package. "
   ]
  },
  {
   "cell_type": "code",
   "execution_count": 6,
   "metadata": {},
   "outputs": [
    {
     "ename": "UndefVarError",
     "evalue": "UndefVarError: simulate not defined",
     "output_type": "error",
     "traceback": [
      "UndefVarError: simulate not defined",
      "",
      "Stacktrace:",
      " [1] VCM_simulation(::Array{Float64,2}, ::Array{Float64,2}, ::Array{VarianceComponent,1}) at /Users/sarahji/Desktop/TraitSimulation/src/Multiple_traits.jl:160",
      " [2] ##core#388(::Array{Float64,2}, ::Array{Float64,2}, ::Array{VarianceComponent,1}) at /Users/sarahji/.julia/packages/BenchmarkTools/7aqwe/src/execution.jl:297",
      " [3] ##sample#389(::BenchmarkTools.Parameters) at /Users/sarahji/.julia/packages/BenchmarkTools/7aqwe/src/execution.jl:303",
      " [4] #_run#14(::Bool, ::String, ::Base.Iterators.Pairs{Symbol,Integer,NTuple{4,Symbol},NamedTuple{(:samples, :evals, :gctrial, :gcsample),Tuple{Int64,Int64,Bool,Bool}}}, ::typeof(BenchmarkTools._run), ::BenchmarkTools.Benchmark{Symbol(\"##benchmark#387\")}, ::BenchmarkTools.Parameters) at /Users/sarahji/.julia/packages/BenchmarkTools/7aqwe/src/execution.jl:331",
      " [5] (::getfield(Base, Symbol(\"#inner#2\")){Base.Iterators.Pairs{Symbol,Integer,NTuple{5,Symbol},NamedTuple{(:verbose, :samples, :evals, :gctrial, :gcsample),Tuple{Bool,Int64,Int64,Bool,Bool}}},typeof(BenchmarkTools._run),Tuple{BenchmarkTools.Benchmark{Symbol(\"##benchmark#387\")},BenchmarkTools.Parameters}})() at ./none:0",
      " [6] #invokelatest#1 at ./essentials.jl:794 [inlined]",
      " [7] #invokelatest at ./none:0 [inlined]",
      " [8] #run_result#37 at /Users/sarahji/.julia/packages/BenchmarkTools/7aqwe/src/execution.jl:32 [inlined]",
      " [9] #run_result at ./none:0 [inlined]",
      " [10] #run#39(::Base.Iterators.Pairs{Symbol,Integer,NTuple{5,Symbol},NamedTuple{(:verbose, :samples, :evals, :gctrial, :gcsample),Tuple{Bool,Int64,Int64,Bool,Bool}}}, ::typeof(run), ::BenchmarkTools.Benchmark{Symbol(\"##benchmark#387\")}, ::BenchmarkTools.Parameters) at /Users/sarahji/.julia/packages/BenchmarkTools/7aqwe/src/execution.jl:46",
      " [11] #run at ./none:0 [inlined] (repeats 2 times)",
      " [12] #warmup#42 at /Users/sarahji/.julia/packages/BenchmarkTools/7aqwe/src/execution.jl:79 [inlined]",
      " [13] warmup(::BenchmarkTools.Benchmark{Symbol(\"##benchmark#387\")}) at /Users/sarahji/.julia/packages/BenchmarkTools/7aqwe/src/execution.jl:79",
      " [14] top-level scope at /Users/sarahji/.julia/packages/BenchmarkTools/7aqwe/src/execution.jl:213",
      " [15] top-level scope at In[6]:2"
     ]
    }
   ],
   "source": [
    "vc_vector = [VarianceComponent(Σ[i], V[i]) for i in eachindex(V)]\n",
    "@benchmark VCM_simulation($X, $B, $vc_vector)"
   ]
  },
  {
   "cell_type": "markdown",
   "metadata": {},
   "source": [
    "## Using Julia's MatrixNormal distribution in the Distributions package for simulation"
   ]
  },
  {
   "cell_type": "code",
   "execution_count": 7,
   "metadata": {},
   "outputs": [
    {
     "ename": "UndefVarError",
     "evalue": "UndefVarError: MatrixNormal not defined",
     "output_type": "error",
     "traceback": [
      "UndefVarError: MatrixNormal not defined",
      "",
      "Stacktrace:",
      " [1] MN_J(::Array{Float64,2}, ::Array{Float64,2}, ::NTuple{10,Array{Float64,2}}, ::NTuple{10,Array{Float64,2}}) at ./In[7]:6",
      " [2] ##core#399(::Array{Float64,2}, ::Array{Float64,2}, ::NTuple{10,Array{Float64,2}}, ::NTuple{10,Array{Float64,2}}) at /Users/sarahji/.julia/packages/BenchmarkTools/7aqwe/src/execution.jl:297",
      " [3] ##sample#400(::BenchmarkTools.Parameters) at /Users/sarahji/.julia/packages/BenchmarkTools/7aqwe/src/execution.jl:303",
      " [4] #_run#15(::Bool, ::String, ::Base.Iterators.Pairs{Symbol,Integer,NTuple{4,Symbol},NamedTuple{(:samples, :evals, :gctrial, :gcsample),Tuple{Int64,Int64,Bool,Bool}}}, ::typeof(BenchmarkTools._run), ::BenchmarkTools.Benchmark{Symbol(\"##benchmark#398\")}, ::BenchmarkTools.Parameters) at /Users/sarahji/.julia/packages/BenchmarkTools/7aqwe/src/execution.jl:331",
      " [5] (::getfield(Base, Symbol(\"#inner#2\")){Base.Iterators.Pairs{Symbol,Integer,NTuple{5,Symbol},NamedTuple{(:verbose, :samples, :evals, :gctrial, :gcsample),Tuple{Bool,Int64,Int64,Bool,Bool}}},typeof(BenchmarkTools._run),Tuple{BenchmarkTools.Benchmark{Symbol(\"##benchmark#398\")},BenchmarkTools.Parameters}})() at ./none:0",
      " [6] #invokelatest#1 at ./essentials.jl:794 [inlined]",
      " [7] #invokelatest at ./none:0 [inlined]",
      " [8] #run_result#37 at /Users/sarahji/.julia/packages/BenchmarkTools/7aqwe/src/execution.jl:32 [inlined]",
      " [9] #run_result at ./none:0 [inlined]",
      " [10] #run#39(::Base.Iterators.Pairs{Symbol,Integer,NTuple{5,Symbol},NamedTuple{(:verbose, :samples, :evals, :gctrial, :gcsample),Tuple{Bool,Int64,Int64,Bool,Bool}}}, ::typeof(run), ::BenchmarkTools.Benchmark{Symbol(\"##benchmark#398\")}, ::BenchmarkTools.Parameters) at /Users/sarahji/.julia/packages/BenchmarkTools/7aqwe/src/execution.jl:46",
      " [11] #run at ./none:0 [inlined] (repeats 2 times)",
      " [12] #warmup#42 at /Users/sarahji/.julia/packages/BenchmarkTools/7aqwe/src/execution.jl:79 [inlined]",
      " [13] warmup(::BenchmarkTools.Benchmark{Symbol(\"##benchmark#398\")}) at /Users/sarahji/.julia/packages/BenchmarkTools/7aqwe/src/execution.jl:79",
      " [14] top-level scope at /Users/sarahji/.julia/packages/BenchmarkTools/7aqwe/src/execution.jl:213",
      " [15] top-level scope at In[7]:11"
     ]
    }
   ],
   "source": [
    "function MN_J(X, B, V, Σ)\n",
    "    n, p = size(X*B)\n",
    "    evec = zeros(n, p)\n",
    "    m = length(V)\n",
    "    for i in 1:m\n",
    "        dist = MatrixNormal(X*B, V[i], Σ[i])\n",
    "        evec += rand(dist)\n",
    "    end\n",
    "    return(evec)\n",
    "end\n",
    "\n",
    "@benchmark vecs = MN_J($X, $B, $V, $Σ)"
   ]
  },
  {
   "cell_type": "markdown",
   "metadata": {},
   "source": [
    "# Comparing with the MatrixNormal from the distributions package for m = 10 variance components, we beat! "
   ]
  },
  {
   "cell_type": "code",
   "execution_count": 8,
   "metadata": {},
   "outputs": [
    {
     "ename": "UndefVarError",
     "evalue": "UndefVarError: simulate not defined",
     "output_type": "error",
     "traceback": [
      "UndefVarError: simulate not defined",
      "",
      "Stacktrace:",
      " [1] ##core#407() at /Users/sarahji/.julia/packages/BenchmarkTools/7aqwe/src/execution.jl:297",
      " [2] ##sample#408(::BenchmarkTools.Parameters) at /Users/sarahji/.julia/packages/BenchmarkTools/7aqwe/src/execution.jl:303",
      " [3] #_run#16(::Bool, ::String, ::Base.Iterators.Pairs{Symbol,Integer,NTuple{4,Symbol},NamedTuple{(:samples, :evals, :gctrial, :gcsample),Tuple{Int64,Int64,Bool,Bool}}}, ::typeof(BenchmarkTools._run), ::BenchmarkTools.Benchmark{Symbol(\"##benchmark#406\")}, ::BenchmarkTools.Parameters) at /Users/sarahji/.julia/packages/BenchmarkTools/7aqwe/src/execution.jl:331",
      " [4] (::getfield(Base, Symbol(\"#inner#2\")){Base.Iterators.Pairs{Symbol,Integer,NTuple{5,Symbol},NamedTuple{(:verbose, :samples, :evals, :gctrial, :gcsample),Tuple{Bool,Int64,Int64,Bool,Bool}}},typeof(BenchmarkTools._run),Tuple{BenchmarkTools.Benchmark{Symbol(\"##benchmark#406\")},BenchmarkTools.Parameters}})() at ./none:0",
      " [5] #invokelatest#1 at ./essentials.jl:794 [inlined]",
      " [6] #invokelatest at ./none:0 [inlined]",
      " [7] #run_result#37 at /Users/sarahji/.julia/packages/BenchmarkTools/7aqwe/src/execution.jl:32 [inlined]",
      " [8] #run_result at ./none:0 [inlined]",
      " [9] #run#39(::Base.Iterators.Pairs{Symbol,Integer,NTuple{5,Symbol},NamedTuple{(:verbose, :samples, :evals, :gctrial, :gcsample),Tuple{Bool,Int64,Int64,Bool,Bool}}}, ::typeof(run), ::BenchmarkTools.Benchmark{Symbol(\"##benchmark#406\")}, ::BenchmarkTools.Parameters) at /Users/sarahji/.julia/packages/BenchmarkTools/7aqwe/src/execution.jl:46",
      " [10] #run at ./none:0 [inlined] (repeats 2 times)",
      " [11] #warmup#42 at /Users/sarahji/.julia/packages/BenchmarkTools/7aqwe/src/execution.jl:79 [inlined]",
      " [12] warmup(::BenchmarkTools.Benchmark{Symbol(\"##benchmark#406\")}) at /Users/sarahji/.julia/packages/BenchmarkTools/7aqwe/src/execution.jl:79",
      " [13] top-level scope at /Users/sarahji/.julia/packages/BenchmarkTools/7aqwe/src/execution.jl:213",
      " [14] top-level scope at In[8]:2"
     ]
    }
   ],
   "source": [
    "LMMtraitobj = LMMTrait(X*B, VarianceComponent(Σ[1], V[1]))\n",
    "@benchmark simulate(LMMtraitobj, 10)"
   ]
  },
  {
   "cell_type": "code",
   "execution_count": 9,
   "metadata": {},
   "outputs": [
    {
     "ename": "UndefVarError",
     "evalue": "UndefVarError: MatrixNormal not defined",
     "output_type": "error",
     "traceback": [
      "UndefVarError: MatrixNormal not defined",
      "",
      "Stacktrace:",
      " [1] #MN_J#17(::Int64, ::typeof(MN_J), ::Array{Float64,2}, ::Array{Float64,2}, ::Array{Float64,2}, ::Array{Float64,2}) at ./In[9]:5",
      " [2] #MN_J at ./none:0 [inlined]",
      " [3] ##core#415(::Array{Float64,2}, ::Array{Float64,2}, ::NTuple{10,Array{Float64,2}}, ::NTuple{10,Array{Float64,2}}) at /Users/sarahji/.julia/packages/BenchmarkTools/7aqwe/src/execution.jl:297",
      " [4] ##sample#416(::BenchmarkTools.Parameters) at /Users/sarahji/.julia/packages/BenchmarkTools/7aqwe/src/execution.jl:303",
      " [5] #_run#20(::Bool, ::String, ::Base.Iterators.Pairs{Symbol,Integer,NTuple{4,Symbol},NamedTuple{(:samples, :evals, :gctrial, :gcsample),Tuple{Int64,Int64,Bool,Bool}}}, ::typeof(BenchmarkTools._run), ::BenchmarkTools.Benchmark{Symbol(\"##benchmark#414\")}, ::BenchmarkTools.Parameters) at /Users/sarahji/.julia/packages/BenchmarkTools/7aqwe/src/execution.jl:331",
      " [6] (::getfield(Base, Symbol(\"#inner#2\")){Base.Iterators.Pairs{Symbol,Integer,NTuple{5,Symbol},NamedTuple{(:verbose, :samples, :evals, :gctrial, :gcsample),Tuple{Bool,Int64,Int64,Bool,Bool}}},typeof(BenchmarkTools._run),Tuple{BenchmarkTools.Benchmark{Symbol(\"##benchmark#414\")},BenchmarkTools.Parameters}})() at ./none:0",
      " [7] #invokelatest#1 at ./essentials.jl:794 [inlined]",
      " [8] #invokelatest at ./none:0 [inlined]",
      " [9] #run_result#37 at /Users/sarahji/.julia/packages/BenchmarkTools/7aqwe/src/execution.jl:32 [inlined]",
      " [10] #run_result at ./none:0 [inlined]",
      " [11] #run#39(::Base.Iterators.Pairs{Symbol,Integer,NTuple{5,Symbol},NamedTuple{(:verbose, :samples, :evals, :gctrial, :gcsample),Tuple{Bool,Int64,Int64,Bool,Bool}}}, ::typeof(run), ::BenchmarkTools.Benchmark{Symbol(\"##benchmark#414\")}, ::BenchmarkTools.Parameters) at /Users/sarahji/.julia/packages/BenchmarkTools/7aqwe/src/execution.jl:46",
      " [12] #run at ./none:0 [inlined] (repeats 2 times)",
      " [13] #warmup#42 at /Users/sarahji/.julia/packages/BenchmarkTools/7aqwe/src/execution.jl:79 [inlined]",
      " [14] warmup(::BenchmarkTools.Benchmark{Symbol(\"##benchmark#414\")}) at /Users/sarahji/.julia/packages/BenchmarkTools/7aqwe/src/execution.jl:79",
      " [15] top-level scope at /Users/sarahji/.julia/packages/BenchmarkTools/7aqwe/src/execution.jl:213",
      " [16] top-level scope at In[9]:9"
     ]
    }
   ],
   "source": [
    "function MN_J(X, B, V, Σ; n_reps = 1)\n",
    "    n, p = size(X*B)\n",
    "    sim = [zeros(n, p) for i in 1:n]\n",
    "    for i in 1:n_reps\n",
    "        sim[i] = rand(MatrixNormal(X*B, V, Σ))\n",
    "    end\n",
    "    return(sim)\n",
    "end\n",
    "\n",
    "@benchmark MN_J($X, $B, $V[1], $Σ[1], n_reps = 10)"
   ]
  },
  {
   "cell_type": "markdown",
   "metadata": {},
   "source": [
    "## Citations: \n",
    "\n",
    "[1] Lange K, Papp JC, Sinsheimer JS, Sripracha R, Zhou H, Sobel EM (2013) Mendel: The Swiss army knife of genetic analysis programs. Bioinformatics 29:1568-1570.`\n",
    "\n",
    "\n",
    "[2] OPENMENDEL: a cooperative programming project for statistical genetics.\n",
    "[Hum Genet. 2019 Mar 26. doi: 10.1007/s00439-019-02001-z](https://www.ncbi.nlm.nih.gov/pubmed/?term=OPENMENDEL).\n"
   ]
  }
 ],
 "metadata": {
  "@webio": {
   "lastCommId": null,
   "lastKernelId": null
  },
  "kernelspec": {
   "display_name": "Julia 1.2.0",
   "language": "julia",
   "name": "julia-1.2"
  },
  "language_info": {
   "file_extension": ".jl",
   "mimetype": "application/julia",
   "name": "julia",
   "version": "1.2.0"
  },
  "toc": {
   "base_numbering": 1,
   "nav_menu": {},
   "number_sections": true,
   "sideBar": true,
   "skip_h1_title": false,
   "title_cell": "Table of Contents",
   "title_sidebar": "Contents",
   "toc_cell": false,
   "toc_position": {},
   "toc_section_display": true,
   "toc_window_display": false
  }
 },
 "nbformat": 4,
 "nbformat_minor": 2
}
