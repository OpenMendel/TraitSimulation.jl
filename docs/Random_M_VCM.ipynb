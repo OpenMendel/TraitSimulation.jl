{
 "cells": [
  {
   "cell_type": "markdown",
   "metadata": {},
   "source": [
    "# Example of Random M Variance Components Simulation\n",
    "\n",
    "Authors: Sarah Ji, Hua Zhou, Janet Sinsheimer, Kenneth Lange\n",
    "\n",
    "In this notebook I demo how to simulte from the LMM/VCM framework with the following parameters. We then benchmark against the same simulation process using the MatrixNormal() function in the Distributions.jl package."
   ]
  },
  {
   "cell_type": "markdown",
   "metadata": {},
   "source": [
    "### Double check that you are using Julia version 1.0 or higher by checking the machine information"
   ]
  },
  {
   "cell_type": "code",
   "execution_count": 2,
   "metadata": {},
   "outputs": [
    {
     "name": "stdout",
     "output_type": "stream",
     "text": [
      "Julia Version 1.2.0\n",
      "Commit c6da87ff4b (2019-08-20 00:03 UTC)\n",
      "Platform Info:\n",
      "  OS: macOS (x86_64-apple-darwin18.6.0)\n",
      "  CPU: Intel(R) Core(TM) i7-7700HQ CPU @ 2.80GHz\n",
      "  WORD_SIZE: 64\n",
      "  LIBM: libopenlibm\n",
      "  LLVM: libLLVM-6.0.1 (ORCJIT, skylake)\n"
     ]
    }
   ],
   "source": [
    "versioninfo()"
   ]
  },
  {
   "cell_type": "code",
   "execution_count": 21,
   "metadata": {},
   "outputs": [],
   "source": [
    "using DataFrames, Random, LinearAlgebra, TraitSimulation, Distributions, BenchmarkTools\n",
    "Random.seed!(1234);"
   ]
  },
  {
   "cell_type": "markdown",
   "metadata": {},
   "source": [
    "# Generating Random Design Matrix, Coefficient Vector and Variance Component Matrices\n",
    "\n",
    "Here for m = 10 random Variance Components, we generate m random covariance matrices, a random design matrix and p regression coefficients to illustrate the simulation of a d-dimensional response matrix for a sample of n = 1000 people.\n"
   ]
  },
  {
   "cell_type": "code",
   "execution_count": 20,
   "metadata": {},
   "outputs": [],
   "source": [
    "n = 1000   # no. observations\n",
    "d = 2      # dimension of responses\n",
    "m = 10      # no. variance components\n",
    "p = 2;      # no. covariates"
   ]
  },
  {
   "cell_type": "markdown",
   "metadata": {},
   "source": [
    "\n",
    "    function generateSPDmatrix(n)\n",
    "        A = rand(n)\n",
    "        m = 0.5 * (A * A')\n",
    "        PDmat = m + (n * Diagonal(ones(n)))\n",
    "    end\n",
    "\n",
    "\n",
    "    function RVCModel(n::Int64, p::Int64, d::Int64, m::Int64)\n",
    "        # n-by-p design matrix\n",
    "        X = randn(n, p)\n",
    "\n",
    "        # p-by-d mean component regression coefficient for each trait\n",
    "        B = hcat(ones(p, 1), rand(p))  \n",
    "\n",
    "        V = ntuple(x -> zeros(n, n), m) \n",
    "        for i = 1:m-1\n",
    "          copy!(V[i], generateSPDmatrix(n))\n",
    "        end\n",
    "        copy!(V[end], Diagonal(ones(n))) # last covarianec matrix is identity\n",
    "\n",
    "        # a tuple of m d-by-d variance component parameters\n",
    "        Σ = ntuple(x -> zeros(d, d), m) \n",
    "        for i in 1:m\n",
    "          copy!(Σ[i], generateSPDmatrix(d))\n",
    "        end\n",
    "\n",
    "        return(X, B, Σ, V)\n",
    "    end"
   ]
  },
  {
   "cell_type": "code",
   "execution_count": 22,
   "metadata": {},
   "outputs": [
    {
     "data": {
      "text/html": [
       "<table class=\"data-frame\"><thead><tr><th></th><th>SimTrait1</th><th>SimTrait2</th></tr><tr><th></th><th>Float64</th><th>Float64</th></tr></thead><tbody><p>1,000 rows × 2 columns</p><tr><th>1</th><td>-69.5177</td><td>-125.128</td></tr><tr><th>2</th><td>-184.975</td><td>179.507</td></tr><tr><th>3</th><td>62.2697</td><td>-29.6645</td></tr><tr><th>4</th><td>-77.7197</td><td>-143.363</td></tr><tr><th>5</th><td>215.216</td><td>-109.543</td></tr><tr><th>6</th><td>45.6826</td><td>42.9817</td></tr><tr><th>7</th><td>-47.6316</td><td>-128.685</td></tr><tr><th>8</th><td>-43.8541</td><td>-191.055</td></tr><tr><th>9</th><td>95.7323</td><td>-119.535</td></tr><tr><th>10</th><td>89.6551</td><td>-251.84</td></tr><tr><th>11</th><td>2.17713</td><td>-143.1</td></tr><tr><th>12</th><td>114.522</td><td>5.53237</td></tr><tr><th>13</th><td>162.74</td><td>86.8052</td></tr><tr><th>14</th><td>-37.813</td><td>-14.3621</td></tr><tr><th>15</th><td>-294.319</td><td>-191.626</td></tr><tr><th>16</th><td>11.4143</td><td>141.237</td></tr><tr><th>17</th><td>17.1557</td><td>4.778</td></tr><tr><th>18</th><td>-30.3381</td><td>64.8794</td></tr><tr><th>19</th><td>-148.591</td><td>-78.2768</td></tr><tr><th>20</th><td>31.6244</td><td>155.687</td></tr><tr><th>21</th><td>14.3417</td><td>96.1905</td></tr><tr><th>22</th><td>-48.2401</td><td>16.2519</td></tr><tr><th>23</th><td>-172.998</td><td>61.9397</td></tr><tr><th>24</th><td>-68.3956</td><td>201.991</td></tr><tr><th>25</th><td>18.8098</td><td>-34.7764</td></tr><tr><th>26</th><td>69.9606</td><td>-3.21805</td></tr><tr><th>27</th><td>18.6577</td><td>264.836</td></tr><tr><th>28</th><td>33.3742</td><td>112.047</td></tr><tr><th>29</th><td>10.3314</td><td>-18.469</td></tr><tr><th>30</th><td>255.264</td><td>50.1649</td></tr><tr><th>&vellip;</th><td>&vellip;</td><td>&vellip;</td></tr></tbody></table>"
      ],
      "text/latex": [
       "\\begin{tabular}{r|cc}\n",
       "\t& SimTrait1 & SimTrait2\\\\\n",
       "\t\\hline\n",
       "\t& Float64 & Float64\\\\\n",
       "\t\\hline\n",
       "\t1 & -69.5177 & -125.128 \\\\\n",
       "\t2 & -184.975 & 179.507 \\\\\n",
       "\t3 & 62.2697 & -29.6645 \\\\\n",
       "\t4 & -77.7197 & -143.363 \\\\\n",
       "\t5 & 215.216 & -109.543 \\\\\n",
       "\t6 & 45.6826 & 42.9817 \\\\\n",
       "\t7 & -47.6316 & -128.685 \\\\\n",
       "\t8 & -43.8541 & -191.055 \\\\\n",
       "\t9 & 95.7323 & -119.535 \\\\\n",
       "\t10 & 89.6551 & -251.84 \\\\\n",
       "\t11 & 2.17713 & -143.1 \\\\\n",
       "\t12 & 114.522 & 5.53237 \\\\\n",
       "\t13 & 162.74 & 86.8052 \\\\\n",
       "\t14 & -37.813 & -14.3621 \\\\\n",
       "\t15 & -294.319 & -191.626 \\\\\n",
       "\t16 & 11.4143 & 141.237 \\\\\n",
       "\t17 & 17.1557 & 4.778 \\\\\n",
       "\t18 & -30.3381 & 64.8794 \\\\\n",
       "\t19 & -148.591 & -78.2768 \\\\\n",
       "\t20 & 31.6244 & 155.687 \\\\\n",
       "\t21 & 14.3417 & 96.1905 \\\\\n",
       "\t22 & -48.2401 & 16.2519 \\\\\n",
       "\t23 & -172.998 & 61.9397 \\\\\n",
       "\t24 & -68.3956 & 201.991 \\\\\n",
       "\t25 & 18.8098 & -34.7764 \\\\\n",
       "\t26 & 69.9606 & -3.21805 \\\\\n",
       "\t27 & 18.6577 & 264.836 \\\\\n",
       "\t28 & 33.3742 & 112.047 \\\\\n",
       "\t29 & 10.3314 & -18.469 \\\\\n",
       "\t30 & 255.264 & 50.1649 \\\\\n",
       "\t$\\dots$ & $\\dots$ & $\\dots$ \\\\\n",
       "\\end{tabular}\n"
      ],
      "text/plain": [
       "1000×2 DataFrame\n",
       "│ Row  │ SimTrait1 │ SimTrait2 │\n",
       "│      │ \u001b[90mFloat64\u001b[39m   │ \u001b[90mFloat64\u001b[39m   │\n",
       "├──────┼───────────┼───────────┤\n",
       "│ 1    │ -69.5177  │ -125.128  │\n",
       "│ 2    │ -184.975  │ 179.507   │\n",
       "│ 3    │ 62.2697   │ -29.6645  │\n",
       "│ 4    │ -77.7197  │ -143.363  │\n",
       "│ 5    │ 215.216   │ -109.543  │\n",
       "│ 6    │ 45.6826   │ 42.9817   │\n",
       "│ 7    │ -47.6316  │ -128.685  │\n",
       "│ 8    │ -43.8541  │ -191.055  │\n",
       "│ 9    │ 95.7323   │ -119.535  │\n",
       "│ 10   │ 89.6551   │ -251.84   │\n",
       "⋮\n",
       "│ 990  │ -59.5561  │ -168.46   │\n",
       "│ 991  │ 44.8732   │ -155.222  │\n",
       "│ 992  │ 198.474   │ 158.84    │\n",
       "│ 993  │ -196.183  │ -163.59   │\n",
       "│ 994  │ -169.13   │ 17.789    │\n",
       "│ 995  │ -163.142  │ -148.437  │\n",
       "│ 996  │ 256.007   │ -121.329  │\n",
       "│ 997  │ 66.3168   │ -73.7376  │\n",
       "│ 998  │ 118.536   │ -132.382  │\n",
       "│ 999  │ -171.228  │ -155.921  │\n",
       "│ 1000 │ -110.128  │ 64.2714   │"
      ]
     },
     "execution_count": 22,
     "metadata": {},
     "output_type": "execute_result"
    }
   ],
   "source": [
    "X, B, Σ, V = RVCModel(n, p, d, m);\n",
    "Random_VCM_Trait = DataFrame(VCM_simulation(X, B, Σ, V), [:SimTrait1, :SimTrait2])"
   ]
  },
  {
   "cell_type": "markdown",
   "metadata": {},
   "source": [
    "# Comparing Benchmarking with the Distributions.jl package MatrixNormal distribution. \n",
    "\n",
    "In our VarianceComponent type, we store the cholesky decomposition of each $\\Sigma_i$ and $V_i$, computed outside of simulation within the vc_vector of VarianceComponent types. This is important since the more often than not, users have to run the simulation many times for their desired goal. From our benchmarking below, we show that when we use the simulation package to simulate traits n_reps times, using the VariaceComponent type is much faster and memory efficient than calling the available julia MatrixNormal distribution m times for the following parameters:"
   ]
  },
  {
   "cell_type": "code",
   "execution_count": 13,
   "metadata": {},
   "outputs": [
    {
     "name": "stdout",
     "output_type": "stream",
     "text": [
      "n = 1000\n",
      "m = 2\n",
      "d = 2\n",
      "p = 2\n"
     ]
    }
   ],
   "source": [
    "@show n # sample size\n",
    "@show m # number of random variance componenents \n",
    "@show d # number of traits\n",
    "@show p; # number of fixed effects"
   ]
  },
  {
   "cell_type": "markdown",
   "metadata": {},
   "source": [
    "## Compare for m = 1 variance component\n",
    "\n",
    "For only one variance component we are roughly four 4x more memory efficient and 6x faster at simulating this bivariate trait"
   ]
  },
  {
   "cell_type": "code",
   "execution_count": 14,
   "metadata": {},
   "outputs": [
    {
     "data": {
      "text/plain": [
       "BenchmarkTools.Trial: \n",
       "  memory estimate:  7.66 MiB\n",
       "  allocs estimate:  4\n",
       "  --------------\n",
       "  minimum time:     2.920 ms (0.00% GC)\n",
       "  median time:      3.302 ms (0.00% GC)\n",
       "  mean time:        3.826 ms (19.60% GC)\n",
       "  maximum time:     71.487 ms (95.85% GC)\n",
       "  --------------\n",
       "  samples:          1302\n",
       "  evals/sample:     1"
      ]
     },
     "execution_count": 14,
     "metadata": {},
     "output_type": "execute_result"
    }
   ],
   "source": [
    "LMMtraitobj = LMMTrait(X*B, VarianceComponent(Σ[1], V[1]))\n",
    "@benchmark simulate(LMMtraitobj)"
   ]
  },
  {
   "cell_type": "code",
   "execution_count": 15,
   "metadata": {},
   "outputs": [
    {
     "data": {
      "text/plain": [
       "BenchmarkTools.Trial: \n",
       "  memory estimate:  15.38 MiB\n",
       "  allocs estimate:  25\n",
       "  --------------\n",
       "  minimum time:     9.394 ms (0.00% GC)\n",
       "  median time:      12.073 ms (16.45% GC)\n",
       "  mean time:        12.638 ms (14.21% GC)\n",
       "  maximum time:     74.095 ms (86.27% GC)\n",
       "  --------------\n",
       "  samples:          396\n",
       "  evals/sample:     1"
      ]
     },
     "execution_count": 15,
     "metadata": {},
     "output_type": "execute_result"
    }
   ],
   "source": [
    "function MN_J(X, B, Σ, V; n_reps = 1)\n",
    "    n, p = size(X*B)\n",
    "    sim = [zeros(n, p) for i in 1:n_reps]\n",
    "    for i in 1:n_reps\n",
    "        sim[i] = rand(MatrixNormal(X*B, V, Σ))\n",
    "    end\n",
    "    return(sim)\n",
    "end\n",
    "\n",
    "@benchmark MN_J($X, $B, $Σ[1], $V[1])"
   ]
  },
  {
   "cell_type": "markdown",
   "metadata": {},
   "source": [
    "## Compare simulation for m = 10 variance components\n",
    "\n",
    "still about 2x memory efficient but now 3.8x faster compared to the Distributions package"
   ]
  },
  {
   "cell_type": "code",
   "execution_count": 16,
   "metadata": {},
   "outputs": [
    {
     "data": {
      "text/plain": [
       "BenchmarkTools.Trial: \n",
       "  memory estimate:  15.31 MiB\n",
       "  allocs estimate:  7\n",
       "  --------------\n",
       "  minimum time:     5.208 ms (0.00% GC)\n",
       "  median time:      7.076 ms (25.51% GC)\n",
       "  mean time:        7.067 ms (18.40% GC)\n",
       "  maximum time:     13.386 ms (18.15% GC)\n",
       "  --------------\n",
       "  samples:          706\n",
       "  evals/sample:     1"
      ]
     },
     "execution_count": 16,
     "metadata": {},
     "output_type": "execute_result"
    }
   ],
   "source": [
    "vc_vector = [VarianceComponent(Σ[i], V[i]) for i in eachindex(V)]\n",
    "LMMtraitobjm = LMMTrait(X*B, vc_vector);\n",
    "@benchmark simulate(LMMtraitobjm)"
   ]
  },
  {
   "cell_type": "code",
   "execution_count": 17,
   "metadata": {},
   "outputs": [
    {
     "data": {
      "text/plain": [
       "BenchmarkTools.Trial: \n",
       "  memory estimate:  30.76 MiB\n",
       "  allocs estimate:  49\n",
       "  --------------\n",
       "  minimum time:     20.482 ms (9.27% GC)\n",
       "  median time:      21.485 ms (9.34% GC)\n",
       "  mean time:        22.357 ms (14.08% GC)\n",
       "  maximum time:     79.463 ms (76.47% GC)\n",
       "  --------------\n",
       "  samples:          224\n",
       "  evals/sample:     1"
      ]
     },
     "execution_count": 17,
     "metadata": {},
     "output_type": "execute_result"
    }
   ],
   "source": [
    "function MN_Jm(X, B, Σ, V; n_reps = 1)\n",
    "    n, p = size(X*B)\n",
    "    m = length(V)\n",
    "    sim = [zeros(n, p) for i in 1:n_reps]\n",
    "    for i in 1:n_reps\n",
    "        for j in 1:m\n",
    "            dist = MatrixNormal(X*B, V[j], Σ[j])\n",
    "            sim[i] += rand(dist)\n",
    "        end\n",
    "    end\n",
    "    return(sim)\n",
    "end\n",
    "\n",
    "@benchmark vecs = MN_Jm($X, $B, $Σ, $V)"
   ]
  },
  {
   "cell_type": "markdown",
   "metadata": {},
   "source": [
    "## Citations: \n",
    "\n",
    "[1] Lange K, Papp JC, Sinsheimer JS, Sripracha R, Zhou H, Sobel EM (2013) Mendel: The Swiss army knife of genetic analysis programs. Bioinformatics 29:1568-1570.`\n",
    "\n",
    "\n",
    "[2] OPENMENDEL: a cooperative programming project for statistical genetics.\n",
    "[Hum Genet. 2019 Mar 26. doi: 10.1007/s00439-019-02001-z](https://www.ncbi.nlm.nih.gov/pubmed/?term=OPENMENDEL).\n"
   ]
  }
 ],
 "metadata": {
  "@webio": {
   "lastCommId": null,
   "lastKernelId": null
  },
  "kernelspec": {
   "display_name": "Julia 1.2.0",
   "language": "julia",
   "name": "julia-1.2"
  },
  "language_info": {
   "file_extension": ".jl",
   "mimetype": "application/julia",
   "name": "julia",
   "version": "1.2.0"
  },
  "toc": {
   "base_numbering": 1,
   "nav_menu": {},
   "number_sections": true,
   "sideBar": true,
   "skip_h1_title": false,
   "title_cell": "Table of Contents",
   "title_sidebar": "Contents",
   "toc_cell": false,
   "toc_position": {},
   "toc_section_display": true,
   "toc_window_display": false
  }
 },
 "nbformat": 4,
 "nbformat_minor": 2
}
