{
 "cells": [
  {
   "cell_type": "markdown",
   "metadata": {},
   "source": [
    "# Example of Random M Variance Components Simulation\n",
    "\n",
    "Authors: Sarah Ji, Hua Zhou, Janet Sinsheimer, Kenneth Lange\n",
    "\n",
    "In this notebook I demo how to simulte from the LMM/VCM framework with the following parameters. We then benchmark against the same simulation process using the MatrixNormal() function in the Distributions.jl package."
   ]
  },
  {
   "cell_type": "code",
   "execution_count": 1,
   "metadata": {},
   "outputs": [
    {
     "name": "stdout",
     "output_type": "stream",
     "text": [
      "n = 1000 = 1000\n",
      "d = 2 = 2\n",
      "m = 10 = 10\n",
      "p = 2 = 2\n"
     ]
    },
    {
     "data": {
      "text/plain": [
       "2"
      ]
     },
     "execution_count": 1,
     "metadata": {},
     "output_type": "execute_result"
    }
   ],
   "source": [
    "@show n = 1000   # no. observations\n",
    "@show d = 2      # dimension of responses\n",
    "@show m = 10      # no. variance components\n",
    "@show p = 2;      # no. covariates"
   ]
  },
  {
   "cell_type": "markdown",
   "metadata": {},
   "source": [
    "### Double check that you are using Julia version 1.0 or higher by checking the machine information"
   ]
  },
  {
   "cell_type": "code",
   "execution_count": 2,
   "metadata": {},
   "outputs": [
    {
     "name": "stdout",
     "output_type": "stream",
     "text": [
      "Julia Version 1.2.0\n",
      "Commit c6da87ff4b (2019-08-20 00:03 UTC)\n",
      "Platform Info:\n",
      "  OS: macOS (x86_64-apple-darwin18.6.0)\n",
      "  CPU: Intel(R) Core(TM) i7-7700HQ CPU @ 2.80GHz\n",
      "  WORD_SIZE: 64\n",
      "  LIBM: libopenlibm\n",
      "  LLVM: libLLVM-6.0.1 (ORCJIT, skylake)\n"
     ]
    }
   ],
   "source": [
    "versioninfo()"
   ]
  },
  {
   "cell_type": "code",
   "execution_count": 3,
   "metadata": {},
   "outputs": [
    {
     "name": "stderr",
     "output_type": "stream",
     "text": [
      "┌ Info: Recompiling stale cache file /Users/sarahji/.julia/compiled/v1.2/TraitSimulation/VikWX.ji for TraitSimulation [dec3038e-29bc-11e9-2207-9f3d5855a202]\n",
      "└ @ Base loading.jl:1240\n",
      "┌ Warning: Package TraitSimulation does not have SnpArrays in its dependencies:\n",
      "│ - If you have TraitSimulation checked out for development and have\n",
      "│   added SnpArrays as a dependency but haven't updated your primary\n",
      "│   environment's manifest file, try `Pkg.resolve()`.\n",
      "│ - Otherwise you may need to report an issue with TraitSimulation\n",
      "└ Loading SnpArrays into TraitSimulation from project dependency, future warnings for TraitSimulation are suppressed.\n"
     ]
    }
   ],
   "source": [
    "using DataFrames, Random, LinearAlgebra, TraitSimulation, Distributions, BenchmarkTools\n",
    "Random.seed!(1234);"
   ]
  },
  {
   "cell_type": "markdown",
   "metadata": {},
   "source": [
    "# Generating Random Design Matrix, Coefficient Vector and Variance Component Matrices\n",
    "\n",
    "Here for m = 10 random Variance Components, we generate m random covariance matrices, a random design matrix and p regression coefficients to illustrate the simulation of a d-dimensional response matrix for a sample of n = 1000 people.\n"
   ]
  },
  {
   "cell_type": "code",
   "execution_count": 4,
   "metadata": {},
   "outputs": [
    {
     "data": {
      "text/html": [
       "<table class=\"data-frame\"><thead><tr><th></th><th>SimTrait1</th><th>SimTrait2</th></tr><tr><th></th><th>Float64</th><th>Float64</th></tr></thead><tbody><p>1,000 rows × 2 columns</p><tr><th>1</th><td>-0.141849</td><td>-0.141849</td></tr><tr><th>2</th><td>-1.37707</td><td>-1.37707</td></tr><tr><th>3</th><td>-1.25452</td><td>-1.25452</td></tr><tr><th>4</th><td>-1.46763</td><td>-1.46763</td></tr><tr><th>5</th><td>1.04345</td><td>1.04345</td></tr><tr><th>6</th><td>1.16475</td><td>1.16475</td></tr><tr><th>7</th><td>1.37619</td><td>1.37619</td></tr><tr><th>8</th><td>-0.900015</td><td>-0.900015</td></tr><tr><th>9</th><td>-1.26027</td><td>-1.26027</td></tr><tr><th>10</th><td>0.813623</td><td>0.813623</td></tr><tr><th>11</th><td>-0.51229</td><td>-0.51229</td></tr><tr><th>12</th><td>2.31168</td><td>2.31168</td></tr><tr><th>13</th><td>0.494663</td><td>0.494663</td></tr><tr><th>14</th><td>1.0582</td><td>1.0582</td></tr><tr><th>15</th><td>-1.61463</td><td>-1.61463</td></tr><tr><th>16</th><td>0.694477</td><td>0.694477</td></tr><tr><th>17</th><td>-0.867737</td><td>-0.867737</td></tr><tr><th>18</th><td>0.0454295</td><td>0.0454295</td></tr><tr><th>19</th><td>-0.63091</td><td>-0.63091</td></tr><tr><th>20</th><td>-1.9914</td><td>-1.9914</td></tr><tr><th>21</th><td>2.05466</td><td>2.05466</td></tr><tr><th>22</th><td>-0.366461</td><td>-0.366461</td></tr><tr><th>23</th><td>1.87529</td><td>1.87529</td></tr><tr><th>24</th><td>-1.96209</td><td>-1.96209</td></tr><tr><th>25</th><td>-2.51894</td><td>-2.51894</td></tr><tr><th>26</th><td>-0.0148081</td><td>-0.0148081</td></tr><tr><th>27</th><td>2.20189</td><td>2.20189</td></tr><tr><th>28</th><td>0.397721</td><td>0.397721</td></tr><tr><th>29</th><td>-0.58868</td><td>-0.58868</td></tr><tr><th>30</th><td>0.491771</td><td>0.491771</td></tr><tr><th>&vellip;</th><td>&vellip;</td><td>&vellip;</td></tr></tbody></table>"
      ],
      "text/latex": [
       "\\begin{tabular}{r|cc}\n",
       "\t& SimTrait1 & SimTrait2\\\\\n",
       "\t\\hline\n",
       "\t& Float64 & Float64\\\\\n",
       "\t\\hline\n",
       "\t1 & -0.141849 & -0.141849 \\\\\n",
       "\t2 & -1.37707 & -1.37707 \\\\\n",
       "\t3 & -1.25452 & -1.25452 \\\\\n",
       "\t4 & -1.46763 & -1.46763 \\\\\n",
       "\t5 & 1.04345 & 1.04345 \\\\\n",
       "\t6 & 1.16475 & 1.16475 \\\\\n",
       "\t7 & 1.37619 & 1.37619 \\\\\n",
       "\t8 & -0.900015 & -0.900015 \\\\\n",
       "\t9 & -1.26027 & -1.26027 \\\\\n",
       "\t10 & 0.813623 & 0.813623 \\\\\n",
       "\t11 & -0.51229 & -0.51229 \\\\\n",
       "\t12 & 2.31168 & 2.31168 \\\\\n",
       "\t13 & 0.494663 & 0.494663 \\\\\n",
       "\t14 & 1.0582 & 1.0582 \\\\\n",
       "\t15 & -1.61463 & -1.61463 \\\\\n",
       "\t16 & 0.694477 & 0.694477 \\\\\n",
       "\t17 & -0.867737 & -0.867737 \\\\\n",
       "\t18 & 0.0454295 & 0.0454295 \\\\\n",
       "\t19 & -0.63091 & -0.63091 \\\\\n",
       "\t20 & -1.9914 & -1.9914 \\\\\n",
       "\t21 & 2.05466 & 2.05466 \\\\\n",
       "\t22 & -0.366461 & -0.366461 \\\\\n",
       "\t23 & 1.87529 & 1.87529 \\\\\n",
       "\t24 & -1.96209 & -1.96209 \\\\\n",
       "\t25 & -2.51894 & -2.51894 \\\\\n",
       "\t26 & -0.0148081 & -0.0148081 \\\\\n",
       "\t27 & 2.20189 & 2.20189 \\\\\n",
       "\t28 & 0.397721 & 0.397721 \\\\\n",
       "\t29 & -0.58868 & -0.58868 \\\\\n",
       "\t30 & 0.491771 & 0.491771 \\\\\n",
       "\t$\\dots$ & $\\dots$ & $\\dots$ \\\\\n",
       "\\end{tabular}\n"
      ],
      "text/plain": [
       "1000×2 DataFrame\n",
       "│ Row  │ SimTrait1 │ SimTrait2 │\n",
       "│      │ \u001b[90mFloat64\u001b[39m   │ \u001b[90mFloat64\u001b[39m   │\n",
       "├──────┼───────────┼───────────┤\n",
       "│ 1    │ -0.141849 │ -0.141849 │\n",
       "│ 2    │ -1.37707  │ -1.37707  │\n",
       "│ 3    │ -1.25452  │ -1.25452  │\n",
       "│ 4    │ -1.46763  │ -1.46763  │\n",
       "│ 5    │ 1.04345   │ 1.04345   │\n",
       "│ 6    │ 1.16475   │ 1.16475   │\n",
       "│ 7    │ 1.37619   │ 1.37619   │\n",
       "│ 8    │ -0.900015 │ -0.900015 │\n",
       "│ 9    │ -1.26027  │ -1.26027  │\n",
       "│ 10   │ 0.813623  │ 0.813623  │\n",
       "⋮\n",
       "│ 990  │ 0.127075  │ 0.127075  │\n",
       "│ 991  │ 3.08639   │ 3.08639   │\n",
       "│ 992  │ 1.21377   │ 1.21377   │\n",
       "│ 993  │ -1.94632  │ -1.94632  │\n",
       "│ 994  │ -0.403705 │ -0.403705 │\n",
       "│ 995  │ -0.332739 │ -0.332739 │\n",
       "│ 996  │ -0.677165 │ -0.677165 │\n",
       "│ 997  │ -1.8226   │ -1.8226   │\n",
       "│ 998  │ 0.515183  │ 0.515183  │\n",
       "│ 999  │ 1.54624   │ 1.54624   │\n",
       "│ 1000 │ -0.577177 │ -0.577177 │"
      ]
     },
     "execution_count": 4,
     "metadata": {},
     "output_type": "execute_result"
    }
   ],
   "source": [
    "# n-by-p design matrix\n",
    "X = randn(n, p)\n",
    "\n",
    "# p-by-d mean component regression coefficient\n",
    "B = ones(p, d)  \n",
    "\n",
    "# a tuple of m covariance matrices\n",
    "V = ntuple(x -> zeros(n, n), m) \n",
    "for i = 1:m-1\n",
    "  Vi = [j ≥ i ? i * (n - j + 1) : j * (n - i + 1) for i in 1:n, j in 1:n]\n",
    "  copy!(V[i], Vi * Vi')\n",
    "end\n",
    "copy!(V[m], Diagonal(ones(n))) # last covarianec matrix is idendity\n",
    "\n",
    "# a tuple of m d-by-d variance component parameters\n",
    "Σ = ntuple(x -> zeros(d, d), m) \n",
    "for i in 1:m\n",
    "  Σi = [j ≥ i ? i * (d - j + 1) : j * (d - i + 1) for i in 1:d, j in 1:d]\n",
    "  copy!(Σ[i], Σi' * Σi)\n",
    "end\n",
    "\n",
    "Random_VCM_Trait = DataFrame(VCM_simulation(X, B, Σ, V), [:SimTrait1, :SimTrait2])"
   ]
  },
  {
   "cell_type": "markdown",
   "metadata": {},
   "source": [
    "# Comparing Benchmarking with the Distributions.jl package MatrixNormal distribution. \n",
    "\n",
    "In our VarianceComponent type, we store the cholesky decomposition of each $\\Sigma_i$ and $V_i$, computed outside of simulation within the vc_vector of VarianceComponent types. This is important since the more often than not, users have to run the simulation many times for their desired goal. From our benchmarking below, we show that when we use the simulation package to simulate traits n_reps times, using the VariaceComponent type is much faster and memory efficient than calling the available julia MatrixNormal distribution m times for the following parameters:"
   ]
  },
  {
   "cell_type": "code",
   "execution_count": 6,
   "metadata": {},
   "outputs": [
    {
     "name": "stdout",
     "output_type": "stream",
     "text": [
      "n = 1000\n",
      "m = 10\n",
      "d = 2\n",
      "p = 2\n"
     ]
    }
   ],
   "source": [
    "@show n # sample size\n",
    "@show m # number of random variance componenents \n",
    "@show d # number of traits\n",
    "@show p; # number of fixed effects"
   ]
  },
  {
   "cell_type": "markdown",
   "metadata": {},
   "source": [
    "## Compare for m = 1 variance component\n",
    "\n",
    "For only one variance component we are roughly four 4x more memory efficient and 6x faster at simulating this bivariate trait"
   ]
  },
  {
   "cell_type": "code",
   "execution_count": 7,
   "metadata": {},
   "outputs": [
    {
     "data": {
      "text/plain": [
       "BenchmarkTools.Trial: \n",
       "  memory estimate:  7.66 MiB\n",
       "  allocs estimate:  4\n",
       "  --------------\n",
       "  minimum time:     2.837 ms (0.00% GC)\n",
       "  median time:      3.214 ms (0.00% GC)\n",
       "  mean time:        4.038 ms (19.96% GC)\n",
       "  maximum time:     12.038 ms (37.68% GC)\n",
       "  --------------\n",
       "  samples:          1235\n",
       "  evals/sample:     1"
      ]
     },
     "execution_count": 7,
     "metadata": {},
     "output_type": "execute_result"
    }
   ],
   "source": [
    "LMMtraitobj = LMMTrait(X*B, VarianceComponent(Σ[1], V[1]))\n",
    "@benchmark simulate(LMMtraitobj)"
   ]
  },
  {
   "cell_type": "code",
   "execution_count": 8,
   "metadata": {},
   "outputs": [
    {
     "data": {
      "text/plain": [
       "BenchmarkTools.Trial: \n",
       "  memory estimate:  30.76 MiB\n",
       "  allocs estimate:  1024\n",
       "  --------------\n",
       "  minimum time:     13.612 ms (16.46% GC)\n",
       "  median time:      15.681 ms (21.03% GC)\n",
       "  mean time:        16.957 ms (21.45% GC)\n",
       "  maximum time:     74.202 ms (84.04% GC)\n",
       "  --------------\n",
       "  samples:          295\n",
       "  evals/sample:     1"
      ]
     },
     "execution_count": 8,
     "metadata": {},
     "output_type": "execute_result"
    }
   ],
   "source": [
    "function MN_J(X, B, V, Σ; n_reps = 1)\n",
    "    n, p = size(X*B)\n",
    "    sim = [zeros(n, p) for i in 1:n]\n",
    "    for i in 1:n_reps\n",
    "        sim[i] = rand(MatrixNormal(X*B, V, Σ))\n",
    "    end\n",
    "    return(sim)\n",
    "end\n",
    "\n",
    "@benchmark MN_J($X, $B, $V[1], $Σ[1])"
   ]
  },
  {
   "cell_type": "markdown",
   "metadata": {},
   "source": [
    "## Compare simulation for m = 10 variance components\n",
    "\n",
    "still about 2x memory efficient but now 3.8x faster compared to the Distributions package"
   ]
  },
  {
   "cell_type": "code",
   "execution_count": 9,
   "metadata": {},
   "outputs": [
    {
     "data": {
      "text/plain": [
       "BenchmarkTools.Trial: \n",
       "  memory estimate:  76.51 MiB\n",
       "  allocs estimate:  35\n",
       "  --------------\n",
       "  minimum time:     29.629 ms (12.73% GC)\n",
       "  median time:      34.381 ms (12.79% GC)\n",
       "  mean time:        37.353 ms (12.70% GC)\n",
       "  maximum time:     68.097 ms (11.66% GC)\n",
       "  --------------\n",
       "  samples:          134\n",
       "  evals/sample:     1"
      ]
     },
     "execution_count": 9,
     "metadata": {},
     "output_type": "execute_result"
    }
   ],
   "source": [
    "vc_vector = [VarianceComponent(Σ[i], V[i]) for i in eachindex(V)]\n",
    "@benchmark VCM_simulation($X, $B, $vc_vector)"
   ]
  },
  {
   "cell_type": "code",
   "execution_count": 10,
   "metadata": {},
   "outputs": [
    {
     "data": {
      "text/plain": [
       "BenchmarkTools.Trial: \n",
       "  memory estimate:  169.07 MiB\n",
       "  allocs estimate:  1232\n",
       "  --------------\n",
       "  minimum time:     103.212 ms (9.49% GC)\n",
       "  median time:      126.816 ms (8.67% GC)\n",
       "  mean time:        137.321 ms (24.76% GC)\n",
       "  maximum time:     199.573 ms (44.95% GC)\n",
       "  --------------\n",
       "  samples:          37\n",
       "  evals/sample:     1"
      ]
     },
     "execution_count": 10,
     "metadata": {},
     "output_type": "execute_result"
    }
   ],
   "source": [
    "function MN_Jm(X, B, V, Σ; n_reps = 1)\n",
    "    n, p = size(X*B)\n",
    "    m = length(V)\n",
    "    sim = [zeros(n, p) for i in 1:n]\n",
    "    for i in 1:n_reps\n",
    "        for j in 1:m\n",
    "            dist = MatrixNormal(X*B, V[j], Σ[j])\n",
    "            sim[i] += rand(dist)\n",
    "        end\n",
    "    end\n",
    "    return(sim)\n",
    "end\n",
    "\n",
    "@benchmark vecs = MN_Jm($X, $B, $V, $Σ)"
   ]
  },
  {
   "cell_type": "markdown",
   "metadata": {},
   "source": [
    "## Citations: \n",
    "\n",
    "[1] Lange K, Papp JC, Sinsheimer JS, Sripracha R, Zhou H, Sobel EM (2013) Mendel: The Swiss army knife of genetic analysis programs. Bioinformatics 29:1568-1570.`\n",
    "\n",
    "\n",
    "[2] OPENMENDEL: a cooperative programming project for statistical genetics.\n",
    "[Hum Genet. 2019 Mar 26. doi: 10.1007/s00439-019-02001-z](https://www.ncbi.nlm.nih.gov/pubmed/?term=OPENMENDEL).\n"
   ]
  }
 ],
 "metadata": {
  "@webio": {
   "lastCommId": null,
   "lastKernelId": null
  },
  "kernelspec": {
   "display_name": "Julia 1.2.0",
   "language": "julia",
   "name": "julia-1.2"
  },
  "language_info": {
   "file_extension": ".jl",
   "mimetype": "application/julia",
   "name": "julia",
   "version": "1.2.0"
  },
  "toc": {
   "base_numbering": 1,
   "nav_menu": {},
   "number_sections": true,
   "sideBar": true,
   "skip_h1_title": false,
   "title_cell": "Table of Contents",
   "title_sidebar": "Contents",
   "toc_cell": false,
   "toc_position": {},
   "toc_section_display": true,
   "toc_window_display": false
  }
 },
 "nbformat": 4,
 "nbformat_minor": 2
}
