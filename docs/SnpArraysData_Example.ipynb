{
 "cells": [
  {
   "cell_type": "markdown",
   "metadata": {},
   "source": [
    "# Random k Rare Snps Example\n",
    "\n",
    "In the three examples we simulate traits from a prespecified k number of snps, with simulated effect sizes based off of minor allele frequencies and a Chi-squared distribution. \n",
    "\n",
    "Using SnpArrays.jl we read in the set of PLINK files for analysis, filter the set of PLINK files from our desired parameters, and output the stored files to our own machine. \n"
   ]
  },
  {
   "cell_type": "code",
   "execution_count": 1,
   "metadata": {},
   "outputs": [
    {
     "name": "stderr",
     "output_type": "stream",
     "text": [
      "┌ Info: Recompiling stale cache file /Users/sarahji/.julia/compiled/v1.2/TraitSimulation/VikWX.ji for TraitSimulation [dec3038e-29bc-11e9-2207-9f3d5855a202]\n",
      "└ @ Base loading.jl:1240\n"
     ]
    }
   ],
   "source": [
    "using SnpArrays, TraitSimulation, LinearAlgebra, DataFrames"
   ]
  },
  {
   "cell_type": "code",
   "execution_count": 2,
   "metadata": {},
   "outputs": [
    {
     "data": {
      "text/plain": [
       "5"
      ]
     },
     "execution_count": 2,
     "metadata": {},
     "output_type": "execute_result"
    }
   ],
   "source": [
    "# User specifies the number of snps to use for simulation\n",
    "k = 5"
   ]
  },
  {
   "cell_type": "markdown",
   "metadata": {},
   "source": [
    "# Data\n",
    "\n",
    "Our Data comes from the data directory of the SnpArrays.jl package. We can easily filter the set of PLINK using SnpArrays.jl, and save to our own machine the filtered PLINK files.\n",
    "\n",
    "\n",
    "## Input PLINK files"
   ]
  },
  {
   "cell_type": "code",
   "execution_count": 3,
   "metadata": {},
   "outputs": [
    {
     "data": {
      "text/plain": [
       "\"/Users/sarahji/.julia/packages/SnpArrays/d0iJw/src/../data/EUR_subset\""
      ]
     },
     "execution_count": 3,
     "metadata": {},
     "output_type": "execute_result"
    }
   ],
   "source": [
    "filepath = SnpArrays.datadir(\"EUR_subset\")"
   ]
  },
  {
   "cell_type": "code",
   "execution_count": 4,
   "metadata": {},
   "outputs": [],
   "source": [
    "EUR_snpdata = SnpArray(filepath * \".bed\")\n",
    "rowmask, colmask =  SnpArrays.filter(EUR_snpdata);"
   ]
  },
  {
   "cell_type": "code",
   "execution_count": 5,
   "metadata": {},
   "outputs": [],
   "source": [
    "SnpData(SnpArrays.datadir(filepath));"
   ]
  },
  {
   "cell_type": "markdown",
   "metadata": {},
   "source": [
    "# Output: Save Filtered PLINK files to local machine"
   ]
  },
  {
   "cell_type": "code",
   "execution_count": 6,
   "metadata": {},
   "outputs": [
    {
     "data": {
      "text/plain": [
       "7171"
      ]
     },
     "execution_count": 6,
     "metadata": {},
     "output_type": "execute_result"
    }
   ],
   "source": [
    "minor_allele_frequency = maf(EUR_snpdata)\n",
    "new_column_indices = (0.002 .< minor_allele_frequency .≤ 0.02)\n",
    "sum(new_column_indices) # we should have 7171 filtered rare snps"
   ]
  },
  {
   "cell_type": "code",
   "execution_count": 7,
   "metadata": {},
   "outputs": [
    {
     "data": {
      "text/plain": [
       "379×7171 SnpArray:\n",
       " 0x03  0x03  0x03  0x03  0x03  0x03  …  0x03  0x03  0x03  0x03  0x03  0x03\n",
       " 0x02  0x03  0x03  0x03  0x03  0x03     0x03  0x03  0x03  0x03  0x03  0x03\n",
       " 0x03  0x03  0x03  0x03  0x03  0x03     0x02  0x03  0x02  0x03  0x03  0x03\n",
       " 0x03  0x03  0x03  0x02  0x03  0x03     0x03  0x03  0x03  0x03  0x03  0x03\n",
       " 0x03  0x03  0x03  0x03  0x03  0x03     0x03  0x03  0x03  0x03  0x03  0x03\n",
       " 0x03  0x03  0x03  0x03  0x03  0x03  …  0x03  0x03  0x03  0x03  0x03  0x03\n",
       " 0x03  0x03  0x03  0x03  0x03  0x03     0x03  0x03  0x03  0x03  0x03  0x03\n",
       " 0x03  0x03  0x03  0x03  0x03  0x03     0x03  0x03  0x03  0x03  0x03  0x03\n",
       " 0x03  0x03  0x03  0x03  0x03  0x03     0x03  0x03  0x03  0x03  0x03  0x03\n",
       " 0x03  0x03  0x03  0x03  0x03  0x03     0x03  0x02  0x03  0x03  0x03  0x03\n",
       " 0x03  0x03  0x03  0x03  0x03  0x03  …  0x03  0x03  0x03  0x03  0x03  0x03\n",
       " 0x03  0x03  0x03  0x02  0x03  0x03     0x03  0x03  0x03  0x03  0x03  0x03\n",
       " 0x02  0x03  0x03  0x03  0x03  0x03     0x03  0x03  0x03  0x03  0x03  0x03\n",
       "    ⋮                             ⋮  ⋱     ⋮                             ⋮\n",
       " 0x03  0x03  0x03  0x03  0x03  0x03     0x03  0x03  0x03  0x03  0x03  0x03\n",
       " 0x03  0x03  0x03  0x03  0x03  0x03     0x03  0x03  0x03  0x03  0x03  0x02\n",
       " 0x03  0x03  0x03  0x03  0x03  0x03     0x03  0x03  0x03  0x03  0x03  0x03\n",
       " 0x03  0x03  0x03  0x03  0x03  0x03  …  0x03  0x03  0x03  0x03  0x03  0x03\n",
       " 0x03  0x03  0x03  0x03  0x03  0x03     0x03  0x03  0x03  0x02  0x03  0x03\n",
       " 0x03  0x03  0x03  0x03  0x03  0x03     0x03  0x03  0x03  0x03  0x03  0x03\n",
       " 0x03  0x03  0x03  0x03  0x03  0x03     0x03  0x03  0x03  0x03  0x03  0x03\n",
       " 0x03  0x03  0x03  0x03  0x03  0x03     0x03  0x03  0x03  0x03  0x03  0x03\n",
       " 0x03  0x03  0x03  0x03  0x03  0x03  …  0x03  0x03  0x02  0x03  0x03  0x03\n",
       " 0x03  0x03  0x03  0x03  0x03  0x03     0x03  0x03  0x03  0x03  0x03  0x03\n",
       " 0x03  0x03  0x02  0x03  0x03  0x03     0x03  0x03  0x03  0x03  0x03  0x03\n",
       " 0x03  0x03  0x03  0x03  0x03  0x03     0x03  0x03  0x03  0x03  0x03  0x03"
      ]
     },
     "execution_count": 7,
     "metadata": {},
     "output_type": "execute_result"
    }
   ],
   "source": [
    "filtsnpdata = SnpArrays.filter(SnpArrays.datadir(filepath), rowmask, new_column_indices, des = \"tmp_filtered_EURdata\")"
   ]
  },
  {
   "cell_type": "markdown",
   "metadata": {},
   "source": [
    "# Example 1: Rare Variant GLM model"
   ]
  },
  {
   "cell_type": "markdown",
   "metadata": {},
   "source": [
    "$$\n",
    "Y ∼ N(\\mu, 4* 2GRM + 2I)\n",
    "$$\n"
   ]
  },
  {
   "cell_type": "code",
   "execution_count": 8,
   "metadata": {},
   "outputs": [
    {
     "data": {
      "text/html": [
       "<table class=\"data-frame\"><thead><tr><th></th><th>rs112552500</th><th>rs144235675</th><th>rs8095054</th><th>rs139491109</th><th>rs141954310</th></tr><tr><th></th><th>Float64</th><th>Float64</th><th>Float64</th><th>Float64</th><th>Float64</th></tr></thead><tbody><p>379 rows × 5 columns</p><tr><th>1</th><td>2.0</td><td>2.0</td><td>2.0</td><td>1.0</td><td>2.0</td></tr><tr><th>2</th><td>2.0</td><td>2.0</td><td>2.0</td><td>2.0</td><td>2.0</td></tr><tr><th>3</th><td>2.0</td><td>2.0</td><td>2.0</td><td>2.0</td><td>2.0</td></tr><tr><th>4</th><td>2.0</td><td>2.0</td><td>2.0</td><td>2.0</td><td>2.0</td></tr><tr><th>5</th><td>2.0</td><td>2.0</td><td>2.0</td><td>2.0</td><td>2.0</td></tr><tr><th>6</th><td>2.0</td><td>2.0</td><td>2.0</td><td>2.0</td><td>2.0</td></tr><tr><th>7</th><td>2.0</td><td>2.0</td><td>2.0</td><td>2.0</td><td>2.0</td></tr><tr><th>8</th><td>2.0</td><td>2.0</td><td>2.0</td><td>2.0</td><td>2.0</td></tr><tr><th>9</th><td>2.0</td><td>2.0</td><td>2.0</td><td>2.0</td><td>2.0</td></tr><tr><th>10</th><td>2.0</td><td>2.0</td><td>2.0</td><td>2.0</td><td>2.0</td></tr><tr><th>11</th><td>2.0</td><td>2.0</td><td>2.0</td><td>1.0</td><td>2.0</td></tr><tr><th>12</th><td>2.0</td><td>2.0</td><td>2.0</td><td>2.0</td><td>2.0</td></tr><tr><th>13</th><td>2.0</td><td>2.0</td><td>2.0</td><td>2.0</td><td>2.0</td></tr><tr><th>14</th><td>2.0</td><td>2.0</td><td>2.0</td><td>2.0</td><td>2.0</td></tr><tr><th>15</th><td>2.0</td><td>2.0</td><td>2.0</td><td>2.0</td><td>2.0</td></tr><tr><th>16</th><td>2.0</td><td>2.0</td><td>2.0</td><td>2.0</td><td>2.0</td></tr><tr><th>17</th><td>2.0</td><td>2.0</td><td>2.0</td><td>2.0</td><td>2.0</td></tr><tr><th>18</th><td>2.0</td><td>2.0</td><td>2.0</td><td>2.0</td><td>2.0</td></tr><tr><th>19</th><td>2.0</td><td>2.0</td><td>2.0</td><td>2.0</td><td>2.0</td></tr><tr><th>20</th><td>2.0</td><td>2.0</td><td>2.0</td><td>2.0</td><td>2.0</td></tr><tr><th>21</th><td>2.0</td><td>2.0</td><td>2.0</td><td>2.0</td><td>2.0</td></tr><tr><th>22</th><td>2.0</td><td>2.0</td><td>2.0</td><td>2.0</td><td>2.0</td></tr><tr><th>23</th><td>2.0</td><td>2.0</td><td>2.0</td><td>2.0</td><td>2.0</td></tr><tr><th>24</th><td>2.0</td><td>2.0</td><td>2.0</td><td>2.0</td><td>2.0</td></tr><tr><th>25</th><td>2.0</td><td>2.0</td><td>2.0</td><td>2.0</td><td>2.0</td></tr><tr><th>26</th><td>2.0</td><td>2.0</td><td>2.0</td><td>2.0</td><td>2.0</td></tr><tr><th>27</th><td>2.0</td><td>2.0</td><td>2.0</td><td>2.0</td><td>2.0</td></tr><tr><th>28</th><td>2.0</td><td>2.0</td><td>2.0</td><td>2.0</td><td>2.0</td></tr><tr><th>29</th><td>2.0</td><td>2.0</td><td>2.0</td><td>2.0</td><td>2.0</td></tr><tr><th>30</th><td>2.0</td><td>2.0</td><td>2.0</td><td>2.0</td><td>2.0</td></tr><tr><th>&vellip;</th><td>&vellip;</td><td>&vellip;</td><td>&vellip;</td><td>&vellip;</td><td>&vellip;</td></tr></tbody></table>"
      ],
      "text/latex": [
       "\\begin{tabular}{r|ccccc}\n",
       "\t& rs112552500 & rs144235675 & rs8095054 & rs139491109 & rs141954310\\\\\n",
       "\t\\hline\n",
       "\t& Float64 & Float64 & Float64 & Float64 & Float64\\\\\n",
       "\t\\hline\n",
       "\t1 & 2.0 & 2.0 & 2.0 & 1.0 & 2.0 \\\\\n",
       "\t2 & 2.0 & 2.0 & 2.0 & 2.0 & 2.0 \\\\\n",
       "\t3 & 2.0 & 2.0 & 2.0 & 2.0 & 2.0 \\\\\n",
       "\t4 & 2.0 & 2.0 & 2.0 & 2.0 & 2.0 \\\\\n",
       "\t5 & 2.0 & 2.0 & 2.0 & 2.0 & 2.0 \\\\\n",
       "\t6 & 2.0 & 2.0 & 2.0 & 2.0 & 2.0 \\\\\n",
       "\t7 & 2.0 & 2.0 & 2.0 & 2.0 & 2.0 \\\\\n",
       "\t8 & 2.0 & 2.0 & 2.0 & 2.0 & 2.0 \\\\\n",
       "\t9 & 2.0 & 2.0 & 2.0 & 2.0 & 2.0 \\\\\n",
       "\t10 & 2.0 & 2.0 & 2.0 & 2.0 & 2.0 \\\\\n",
       "\t11 & 2.0 & 2.0 & 2.0 & 1.0 & 2.0 \\\\\n",
       "\t12 & 2.0 & 2.0 & 2.0 & 2.0 & 2.0 \\\\\n",
       "\t13 & 2.0 & 2.0 & 2.0 & 2.0 & 2.0 \\\\\n",
       "\t14 & 2.0 & 2.0 & 2.0 & 2.0 & 2.0 \\\\\n",
       "\t15 & 2.0 & 2.0 & 2.0 & 2.0 & 2.0 \\\\\n",
       "\t16 & 2.0 & 2.0 & 2.0 & 2.0 & 2.0 \\\\\n",
       "\t17 & 2.0 & 2.0 & 2.0 & 2.0 & 2.0 \\\\\n",
       "\t18 & 2.0 & 2.0 & 2.0 & 2.0 & 2.0 \\\\\n",
       "\t19 & 2.0 & 2.0 & 2.0 & 2.0 & 2.0 \\\\\n",
       "\t20 & 2.0 & 2.0 & 2.0 & 2.0 & 2.0 \\\\\n",
       "\t21 & 2.0 & 2.0 & 2.0 & 2.0 & 2.0 \\\\\n",
       "\t22 & 2.0 & 2.0 & 2.0 & 2.0 & 2.0 \\\\\n",
       "\t23 & 2.0 & 2.0 & 2.0 & 2.0 & 2.0 \\\\\n",
       "\t24 & 2.0 & 2.0 & 2.0 & 2.0 & 2.0 \\\\\n",
       "\t25 & 2.0 & 2.0 & 2.0 & 2.0 & 2.0 \\\\\n",
       "\t26 & 2.0 & 2.0 & 2.0 & 2.0 & 2.0 \\\\\n",
       "\t27 & 2.0 & 2.0 & 2.0 & 2.0 & 2.0 \\\\\n",
       "\t28 & 2.0 & 2.0 & 2.0 & 2.0 & 2.0 \\\\\n",
       "\t29 & 2.0 & 2.0 & 2.0 & 2.0 & 2.0 \\\\\n",
       "\t30 & 2.0 & 2.0 & 2.0 & 2.0 & 2.0 \\\\\n",
       "\t$\\dots$ & $\\dots$ & $\\dots$ & $\\dots$ & $\\dots$ & $\\dots$ \\\\\n",
       "\\end{tabular}\n"
      ],
      "text/plain": [
       "379×5 DataFrame\n",
       "│ Row │ rs112552500 │ rs144235675 │ rs8095054 │ rs139491109 │ rs141954310 │\n",
       "│     │ \u001b[90mFloat64\u001b[39m     │ \u001b[90mFloat64\u001b[39m     │ \u001b[90mFloat64\u001b[39m   │ \u001b[90mFloat64\u001b[39m     │ \u001b[90mFloat64\u001b[39m     │\n",
       "├─────┼─────────────┼─────────────┼───────────┼─────────────┼─────────────┤\n",
       "│ 1   │ 2.0         │ 2.0         │ 2.0       │ 1.0         │ 2.0         │\n",
       "│ 2   │ 2.0         │ 2.0         │ 2.0       │ 2.0         │ 2.0         │\n",
       "│ 3   │ 2.0         │ 2.0         │ 2.0       │ 2.0         │ 2.0         │\n",
       "│ 4   │ 2.0         │ 2.0         │ 2.0       │ 2.0         │ 2.0         │\n",
       "│ 5   │ 2.0         │ 2.0         │ 2.0       │ 2.0         │ 2.0         │\n",
       "│ 6   │ 2.0         │ 2.0         │ 2.0       │ 2.0         │ 2.0         │\n",
       "│ 7   │ 2.0         │ 2.0         │ 2.0       │ 2.0         │ 2.0         │\n",
       "│ 8   │ 2.0         │ 2.0         │ 2.0       │ 2.0         │ 2.0         │\n",
       "│ 9   │ 2.0         │ 2.0         │ 2.0       │ 2.0         │ 2.0         │\n",
       "│ 10  │ 2.0         │ 2.0         │ 2.0       │ 2.0         │ 2.0         │\n",
       "⋮\n",
       "│ 369 │ 2.0         │ 2.0         │ 2.0       │ 2.0         │ 2.0         │\n",
       "│ 370 │ 2.0         │ 2.0         │ 1.0       │ 1.0         │ 2.0         │\n",
       "│ 371 │ 2.0         │ 2.0         │ 2.0       │ 2.0         │ 2.0         │\n",
       "│ 372 │ 2.0         │ 2.0         │ 2.0       │ 2.0         │ 2.0         │\n",
       "│ 373 │ 2.0         │ 2.0         │ 2.0       │ 2.0         │ 2.0         │\n",
       "│ 374 │ 2.0         │ 2.0         │ 2.0       │ 2.0         │ 2.0         │\n",
       "│ 375 │ 2.0         │ 2.0         │ 2.0       │ 1.0         │ 2.0         │\n",
       "│ 376 │ 2.0         │ 2.0         │ 2.0       │ 2.0         │ 1.0         │\n",
       "│ 377 │ 2.0         │ 2.0         │ 2.0       │ 2.0         │ 2.0         │\n",
       "│ 378 │ 2.0         │ 2.0         │ 2.0       │ 2.0         │ 2.0         │\n",
       "│ 379 │ 2.0         │ 2.0         │ 2.0       │ 2.0         │ 2.0         │"
      ]
     },
     "execution_count": 8,
     "metadata": {},
     "output_type": "execute_result"
    }
   ],
   "source": [
    "meanformula_rare, df_rare = Generate_Random_Model_Chisq(\"tmp_filtered_EURdata\", k)\n",
    "df_rare"
   ]
  },
  {
   "cell_type": "code",
   "execution_count": 9,
   "metadata": {},
   "outputs": [
    {
     "data": {
      "text/plain": [
       "379-element Array{Float64,1}:\n",
       " 0.4652368823595425 \n",
       " 0.7655860681351965 \n",
       " 0.5599508456845363 \n",
       " 0.4006010832726554 \n",
       " 0.6480322706284275 \n",
       " 2.2646979013610196 \n",
       " 3.964307948566201  \n",
       " 2.678959607200487  \n",
       " 2.63145858273236   \n",
       " 0.2740303353636089 \n",
       " 1.4781426230247598 \n",
       " 1.895650281427516  \n",
       " 1.5301222104122967 \n",
       " ⋮                  \n",
       " 2.4649905339074683 \n",
       " 1.6654697128669342 \n",
       " 1.7193265929303339 \n",
       " 0.8470649373524373 \n",
       " 0.837327899642764  \n",
       " 2.083307930746231  \n",
       " 4.124986276999239  \n",
       " 0.20177212842668946\n",
       " 1.2949833993082618 \n",
       " 2.1253813863640185 \n",
       " 1.2145390902632818 \n",
       " 2.280332672267521  "
      ]
     },
     "execution_count": 9,
     "metadata": {},
     "output_type": "execute_result"
    }
   ],
   "source": [
    "model_rare = GLMTrait(meanformula_rare, df_rare, NormalResponse(1), IdentityLink())\n",
    "simulated_trait = simulate(model_rare)"
   ]
  },
  {
   "cell_type": "markdown",
   "metadata": {},
   "source": [
    "# Example 2: Single Rare Variant LMM model"
   ]
  },
  {
   "cell_type": "markdown",
   "metadata": {},
   "source": [
    "## The Variance Covariance Matrix\n",
    "\n",
    "Recall : $E(\\mathbf{GRM}) = \\Phi$\n",
    "<br>\n",
    "We use the [SnpArrays.jl](https://github.com/OpenMendel/SnpArrays.jl) package to find an estimate of the Kinship ($\\Phi$), the Genetic Relationship Matrix (GRM). \n",
    "\n",
    "We will use the same values of $\\textbf{GRM, V_a, and V_e}$ in the bivariate covariance matrix for both the mixed effect example and for the rare variant example.\n",
    "\n",
    "Note that the residual covariance among two relatives is the additive genetic variance, $\\textbf{V_a}$, times twice the kinship coefficient, $\\Phi$. The kinship matrix is derived from the genetic relationship matrix $\\textbf{GRM}$ across the common SNPs with minor allele frequency at least 0.05."
   ]
  },
  {
   "cell_type": "code",
   "execution_count": 10,
   "metadata": {},
   "outputs": [],
   "source": [
    "GRM = grm(EUR_snpdata, minmaf = 0.05)\n",
    "I_n = Matrix{Float64}(I, size(GRM));"
   ]
  },
  {
   "cell_type": "code",
   "execution_count": 11,
   "metadata": {},
   "outputs": [
    {
     "data": {
      "text/plain": [
       "379×1 Array{Float64,2}:\n",
       "  2.6431041595815357 \n",
       "  3.3626846214216117 \n",
       " -0.9706484488139182 \n",
       "  2.1046879663559768 \n",
       "  0.3869794804911375 \n",
       "  0.47957779083280483\n",
       "  6.032767688181237  \n",
       "  0.7273717767383031 \n",
       "  1.590854134991661  \n",
       " -2.8672496061842097 \n",
       "  0.31440239788745633\n",
       "  4.370953345193305  \n",
       "  1.4903742349387976 \n",
       "  ⋮                  \n",
       " -2.6562881484312797 \n",
       " -2.3388976486883966 \n",
       "  3.523714373774819  \n",
       "  2.9103143013125425 \n",
       "  3.2784804825762928 \n",
       "  1.4714345933897637 \n",
       "  0.3330203049484175 \n",
       " -0.4135344211943712 \n",
       "  5.313884144225529  \n",
       "  4.645058572811591  \n",
       " -0.7250904858749383 \n",
       "  3.341893171825407  "
      ]
     },
     "execution_count": 11,
     "metadata": {},
     "output_type": "execute_result"
    }
   ],
   "source": [
    "rare_20_snp_model = LMMTrait([meanformula_rare], df_rare, 4*(2*GRM) + 2*(I_n))\n",
    "trait_rare_20_snps = simulate(rare_20_snp_model, 1000)[:, :, 1]"
   ]
  },
  {
   "cell_type": "markdown",
   "metadata": {},
   "source": [
    "# Example 3: Multiple Rare Variant LMM\n",
    "\n",
    "We simulate two correlated Normal Traits controlling for family structure, location = μ and scale = $\\mathbf\\Sigma$. \n",
    "\n",
    "$$\n",
    "Y ∼ N(μ, \\mathbf\\Sigma)\n",
    "$$ \n",
    "\n",
    "\n",
    "$$\n",
    "\\mathbf\\Sigma  = V_a \\otimes (2GRM) + V_e \\otimes I_n\n",
    "$$\n",
    "\n",
    "&nbsp; $FYI$: To create a trait with different variance components change the elements of $\\mathbf\\Sigma$. We create the variance component object `variance_formula` below, to simulate our traits in example 2b. While this tutorial only uses 2 variance components, we make note that the `@vc` macro is designed to handle as many variance components as needed. \n",
    "\n",
    "As long as each Variance Component is specified correctly, we can create a `VarianceComponent` Julia object for Trait Simulation:\n",
    "\n",
    "&nbsp; \n",
    "Example) Specifying more than 2 variance components (let V_H indicate an additional Household Variance component and V_D indicate a dominance genetic effect) \n",
    "\n",
    "```{julia}\n",
    "    multiple_variance_formula = @vc V_A ⊗ 2GRM + V_E ⊗ I_n + V_D ⊗ Δ + V_H ⊗ H;\n",
    "```"
   ]
  },
  {
   "cell_type": "code",
   "execution_count": 12,
   "metadata": {},
   "outputs": [],
   "source": [
    "V_A = [4 1; 1 4]\n",
    "V_E = [2.0 0.0; 0.0 2.0];\n",
    "# @vc is a macro that creates a 'VarianceComponent' Type for simulation\n",
    "variance_formula = @vc V_A ⊗ 2GRM + V_E ⊗ I_n;"
   ]
  },
  {
   "cell_type": "code",
   "execution_count": 13,
   "metadata": {},
   "outputs": [
    {
     "data": {
      "text/html": [
       "<table class=\"data-frame\"><thead><tr><th></th><th>x1</th><th>x2</th></tr><tr><th></th><th>Float64</th><th>Float64</th></tr></thead><tbody><p>379 rows × 2 columns</p><tr><th>1</th><td>0.718008</td><td>0.718008</td></tr><tr><th>2</th><td>1.43602</td><td>1.43602</td></tr><tr><th>3</th><td>1.43602</td><td>1.43602</td></tr><tr><th>4</th><td>1.43602</td><td>1.43602</td></tr><tr><th>5</th><td>1.43602</td><td>1.43602</td></tr><tr><th>6</th><td>1.43602</td><td>1.43602</td></tr><tr><th>7</th><td>1.43602</td><td>1.43602</td></tr><tr><th>8</th><td>1.43602</td><td>1.43602</td></tr><tr><th>9</th><td>1.43602</td><td>1.43602</td></tr><tr><th>10</th><td>1.43602</td><td>1.43602</td></tr><tr><th>11</th><td>0.718008</td><td>0.718008</td></tr><tr><th>12</th><td>1.43602</td><td>1.43602</td></tr><tr><th>13</th><td>1.43602</td><td>1.43602</td></tr><tr><th>14</th><td>1.43602</td><td>1.43602</td></tr><tr><th>15</th><td>1.43602</td><td>1.43602</td></tr><tr><th>16</th><td>1.43602</td><td>1.43602</td></tr><tr><th>17</th><td>1.43602</td><td>1.43602</td></tr><tr><th>18</th><td>1.43602</td><td>1.43602</td></tr><tr><th>19</th><td>1.43602</td><td>1.43602</td></tr><tr><th>20</th><td>1.43602</td><td>1.43602</td></tr><tr><th>21</th><td>1.43602</td><td>1.43602</td></tr><tr><th>22</th><td>1.43602</td><td>1.43602</td></tr><tr><th>23</th><td>1.43602</td><td>1.43602</td></tr><tr><th>24</th><td>1.43602</td><td>1.43602</td></tr><tr><th>25</th><td>1.43602</td><td>1.43602</td></tr><tr><th>26</th><td>1.43602</td><td>1.43602</td></tr><tr><th>27</th><td>1.43602</td><td>1.43602</td></tr><tr><th>28</th><td>1.43602</td><td>1.43602</td></tr><tr><th>29</th><td>1.43602</td><td>1.43602</td></tr><tr><th>30</th><td>1.43602</td><td>1.43602</td></tr><tr><th>&vellip;</th><td>&vellip;</td><td>&vellip;</td></tr></tbody></table>"
      ],
      "text/latex": [
       "\\begin{tabular}{r|cc}\n",
       "\t& x1 & x2\\\\\n",
       "\t\\hline\n",
       "\t& Float64 & Float64\\\\\n",
       "\t\\hline\n",
       "\t1 & 0.718008 & 0.718008 \\\\\n",
       "\t2 & 1.43602 & 1.43602 \\\\\n",
       "\t3 & 1.43602 & 1.43602 \\\\\n",
       "\t4 & 1.43602 & 1.43602 \\\\\n",
       "\t5 & 1.43602 & 1.43602 \\\\\n",
       "\t6 & 1.43602 & 1.43602 \\\\\n",
       "\t7 & 1.43602 & 1.43602 \\\\\n",
       "\t8 & 1.43602 & 1.43602 \\\\\n",
       "\t9 & 1.43602 & 1.43602 \\\\\n",
       "\t10 & 1.43602 & 1.43602 \\\\\n",
       "\t11 & 0.718008 & 0.718008 \\\\\n",
       "\t12 & 1.43602 & 1.43602 \\\\\n",
       "\t13 & 1.43602 & 1.43602 \\\\\n",
       "\t14 & 1.43602 & 1.43602 \\\\\n",
       "\t15 & 1.43602 & 1.43602 \\\\\n",
       "\t16 & 1.43602 & 1.43602 \\\\\n",
       "\t17 & 1.43602 & 1.43602 \\\\\n",
       "\t18 & 1.43602 & 1.43602 \\\\\n",
       "\t19 & 1.43602 & 1.43602 \\\\\n",
       "\t20 & 1.43602 & 1.43602 \\\\\n",
       "\t21 & 1.43602 & 1.43602 \\\\\n",
       "\t22 & 1.43602 & 1.43602 \\\\\n",
       "\t23 & 1.43602 & 1.43602 \\\\\n",
       "\t24 & 1.43602 & 1.43602 \\\\\n",
       "\t25 & 1.43602 & 1.43602 \\\\\n",
       "\t26 & 1.43602 & 1.43602 \\\\\n",
       "\t27 & 1.43602 & 1.43602 \\\\\n",
       "\t28 & 1.43602 & 1.43602 \\\\\n",
       "\t29 & 1.43602 & 1.43602 \\\\\n",
       "\t30 & 1.43602 & 1.43602 \\\\\n",
       "\t$\\dots$ & $\\dots$ & $\\dots$ \\\\\n",
       "\\end{tabular}\n"
      ],
      "text/plain": [
       "379×2 DataFrame\n",
       "│ Row │ x1       │ x2       │\n",
       "│     │ \u001b[90mFloat64\u001b[39m  │ \u001b[90mFloat64\u001b[39m  │\n",
       "├─────┼──────────┼──────────┤\n",
       "│ 1   │ 0.718008 │ 0.718008 │\n",
       "│ 2   │ 1.43602  │ 1.43602  │\n",
       "│ 3   │ 1.43602  │ 1.43602  │\n",
       "│ 4   │ 1.43602  │ 1.43602  │\n",
       "│ 5   │ 1.43602  │ 1.43602  │\n",
       "│ 6   │ 1.43602  │ 1.43602  │\n",
       "│ 7   │ 1.43602  │ 1.43602  │\n",
       "│ 8   │ 1.43602  │ 1.43602  │\n",
       "│ 9   │ 1.43602  │ 1.43602  │\n",
       "│ 10  │ 1.43602  │ 1.43602  │\n",
       "⋮\n",
       "│ 369 │ 1.43602  │ 1.43602  │\n",
       "│ 370 │ 1.69658  │ 1.69658  │\n",
       "│ 371 │ 1.43602  │ 1.43602  │\n",
       "│ 372 │ 1.43602  │ 1.43602  │\n",
       "│ 373 │ 1.43602  │ 1.43602  │\n",
       "│ 374 │ 1.43602  │ 1.43602  │\n",
       "│ 375 │ 0.718008 │ 0.718008 │\n",
       "│ 376 │ 2.27222  │ 2.27222  │\n",
       "│ 377 │ 1.43602  │ 1.43602  │\n",
       "│ 378 │ 1.43602  │ 1.43602  │\n",
       "│ 379 │ 1.43602  │ 1.43602  │"
      ]
     },
     "execution_count": 13,
     "metadata": {},
     "output_type": "execute_result"
    }
   ],
   "source": [
    "mean_formulas2 = [meanformula_rare, meanformula_rare]\n",
    "Multiple_LMM_traits_model = LMMTrait(mean_formulas2, df_rare, variance_formula)\n",
    "Simulated_LMM_Traits = DataFrame(simulate(Multiple_LMM_traits_model))"
   ]
  },
  {
   "cell_type": "code",
   "execution_count": null,
   "metadata": {},
   "outputs": [],
   "source": []
  }
 ],
 "metadata": {
  "kernelspec": {
   "display_name": "Julia 1.2.0",
   "language": "julia",
   "name": "julia-1.2"
  },
  "language_info": {
   "file_extension": ".jl",
   "mimetype": "application/julia",
   "name": "julia",
   "version": "1.2.0"
  },
  "toc": {
   "base_numbering": 1,
   "nav_menu": {},
   "number_sections": true,
   "sideBar": true,
   "skip_h1_title": false,
   "title_cell": "Table of Contents",
   "title_sidebar": "Contents",
   "toc_cell": false,
   "toc_position": {},
   "toc_section_display": true,
   "toc_window_display": false
  }
 },
 "nbformat": 4,
 "nbformat_minor": 2
}
