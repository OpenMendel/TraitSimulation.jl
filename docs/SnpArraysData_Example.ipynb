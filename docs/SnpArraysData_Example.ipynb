{
 "cells": [
  {
   "cell_type": "markdown",
   "metadata": {},
   "source": [
    "# Random k Rare Snps Example\n",
    "\n",
    "In this example we use SnpArrays.jl to simulate a trait from an Exponential distribution. With prespecified k number of snps, with simulated effect sizes based off of minor allele frequencies.\n",
    "\n",
    "Using SnpArrays.jl we read in the set of PLINK files for analysis, filter the set of PLINK files from our desired parameters, and output the stored files to our own machine. \n"
   ]
  },
  {
   "cell_type": "code",
   "execution_count": 1,
   "metadata": {},
   "outputs": [],
   "source": [
    "using SnpArrays, TraitSimulation, LinearAlgebra, DataFrames"
   ]
  },
  {
   "cell_type": "code",
   "execution_count": 2,
   "metadata": {},
   "outputs": [],
   "source": [
    "# User specifies the number of snps to use for simulation\n",
    "k = 5\n",
    "ResponseDistribution = ExponentialResponse()\n",
    "InverseLinkFunction = LogLink();"
   ]
  },
  {
   "cell_type": "markdown",
   "metadata": {},
   "source": [
    "# Data\n",
    "\n",
    "Our Data comes from the data directory of the SnpArrays.jl package. We can easily filter the set of PLINK using SnpArrays.jl, and save to our own machine the filtered PLINK files.\n",
    "\n",
    "\n",
    "## Input PLINK files"
   ]
  },
  {
   "cell_type": "code",
   "execution_count": 3,
   "metadata": {},
   "outputs": [
    {
     "data": {
      "text/plain": [
       "\"/Users/sarahji/.julia/packages/SnpArrays/d0iJw/src/../data/EUR_subset\""
      ]
     },
     "execution_count": 3,
     "metadata": {},
     "output_type": "execute_result"
    }
   ],
   "source": [
    "filepath = SnpArrays.datadir(\"EUR_subset\")"
   ]
  },
  {
   "cell_type": "code",
   "execution_count": 4,
   "metadata": {},
   "outputs": [],
   "source": [
    "EUR_snpdata = SnpArray(filepath * \".bed\")\n",
    "rowmask, colmask =  SnpArrays.filter(EUR_snpdata, min_success_rate_per_row = 0.98, min_success_rate_per_col = 0.98, min_maf = 0.02);"
   ]
  },
  {
   "cell_type": "code",
   "execution_count": 5,
   "metadata": {},
   "outputs": [],
   "source": [
    "SnpData(SnpArrays.datadir(filepath));"
   ]
  },
  {
   "cell_type": "markdown",
   "metadata": {},
   "source": [
    "# Example: Exponential GLM Trait"
   ]
  },
  {
   "cell_type": "markdown",
   "metadata": {},
   "source": [
    "$$\n",
    "Y ∼ N(\\mu, 4* 2GRM + 2I)\n",
    "$$\n"
   ]
  },
  {
   "cell_type": "code",
   "execution_count": 6,
   "metadata": {},
   "outputs": [
    {
     "data": {
      "text/html": [
       "<table class=\"data-frame\"><thead><tr><th></th><th>rs34151105</th><th>rs113560219</th><th>rs1882989</th><th>rs8069133</th><th>rs112221137</th></tr><tr><th></th><th>Float64</th><th>Float64</th><th>Float64</th><th>Float64</th><th>Float64</th></tr></thead><tbody><p>379 rows × 5 columns</p><tr><th>1</th><td>2.0</td><td>2.0</td><td>1.0</td><td>1.0</td><td>2.0</td></tr><tr><th>2</th><td>2.0</td><td>2.0</td><td>1.0</td><td>2.0</td><td>2.0</td></tr><tr><th>3</th><td>2.0</td><td>2.0</td><td>2.0</td><td>2.0</td><td>2.0</td></tr><tr><th>4</th><td>2.0</td><td>2.0</td><td>0.0</td><td>2.0</td><td>2.0</td></tr><tr><th>5</th><td>2.0</td><td>2.0</td><td>0.0</td><td>2.0</td><td>2.0</td></tr><tr><th>6</th><td>1.0</td><td>2.0</td><td>2.0</td><td>2.0</td><td>2.0</td></tr><tr><th>7</th><td>1.0</td><td>2.0</td><td>1.0</td><td>1.0</td><td>2.0</td></tr><tr><th>8</th><td>1.0</td><td>2.0</td><td>2.0</td><td>1.0</td><td>1.0</td></tr><tr><th>9</th><td>2.0</td><td>2.0</td><td>0.0</td><td>1.0</td><td>2.0</td></tr><tr><th>10</th><td>1.0</td><td>2.0</td><td>1.0</td><td>2.0</td><td>1.0</td></tr><tr><th>11</th><td>2.0</td><td>2.0</td><td>1.0</td><td>2.0</td><td>2.0</td></tr><tr><th>12</th><td>2.0</td><td>2.0</td><td>1.0</td><td>2.0</td><td>2.0</td></tr><tr><th>13</th><td>2.0</td><td>2.0</td><td>1.0</td><td>1.0</td><td>2.0</td></tr><tr><th>14</th><td>2.0</td><td>1.0</td><td>0.0</td><td>1.0</td><td>2.0</td></tr><tr><th>15</th><td>2.0</td><td>2.0</td><td>1.0</td><td>1.0</td><td>1.0</td></tr><tr><th>16</th><td>2.0</td><td>1.0</td><td>1.0</td><td>1.0</td><td>1.0</td></tr><tr><th>17</th><td>2.0</td><td>2.0</td><td>1.0</td><td>1.0</td><td>2.0</td></tr><tr><th>18</th><td>2.0</td><td>2.0</td><td>0.0</td><td>2.0</td><td>2.0</td></tr><tr><th>19</th><td>2.0</td><td>2.0</td><td>1.0</td><td>1.0</td><td>2.0</td></tr><tr><th>20</th><td>2.0</td><td>2.0</td><td>1.0</td><td>1.0</td><td>2.0</td></tr><tr><th>21</th><td>2.0</td><td>2.0</td><td>1.0</td><td>2.0</td><td>2.0</td></tr><tr><th>22</th><td>2.0</td><td>2.0</td><td>0.0</td><td>1.0</td><td>2.0</td></tr><tr><th>23</th><td>2.0</td><td>2.0</td><td>0.0</td><td>1.0</td><td>2.0</td></tr><tr><th>24</th><td>2.0</td><td>1.0</td><td>0.0</td><td>1.0</td><td>1.0</td></tr><tr><th>25</th><td>2.0</td><td>2.0</td><td>0.0</td><td>0.0</td><td>2.0</td></tr><tr><th>26</th><td>2.0</td><td>1.0</td><td>1.0</td><td>1.0</td><td>1.0</td></tr><tr><th>27</th><td>2.0</td><td>2.0</td><td>1.0</td><td>2.0</td><td>2.0</td></tr><tr><th>28</th><td>2.0</td><td>2.0</td><td>2.0</td><td>2.0</td><td>2.0</td></tr><tr><th>29</th><td>2.0</td><td>2.0</td><td>2.0</td><td>1.0</td><td>2.0</td></tr><tr><th>30</th><td>2.0</td><td>2.0</td><td>1.0</td><td>1.0</td><td>2.0</td></tr><tr><th>&vellip;</th><td>&vellip;</td><td>&vellip;</td><td>&vellip;</td><td>&vellip;</td><td>&vellip;</td></tr></tbody></table>"
      ],
      "text/latex": [
       "\\begin{tabular}{r|ccccc}\n",
       "\t& rs34151105 & rs113560219 & rs1882989 & rs8069133 & rs112221137\\\\\n",
       "\t\\hline\n",
       "\t& Float64 & Float64 & Float64 & Float64 & Float64\\\\\n",
       "\t\\hline\n",
       "\t1 & 2.0 & 2.0 & 1.0 & 1.0 & 2.0 \\\\\n",
       "\t2 & 2.0 & 2.0 & 1.0 & 2.0 & 2.0 \\\\\n",
       "\t3 & 2.0 & 2.0 & 2.0 & 2.0 & 2.0 \\\\\n",
       "\t4 & 2.0 & 2.0 & 0.0 & 2.0 & 2.0 \\\\\n",
       "\t5 & 2.0 & 2.0 & 0.0 & 2.0 & 2.0 \\\\\n",
       "\t6 & 1.0 & 2.0 & 2.0 & 2.0 & 2.0 \\\\\n",
       "\t7 & 1.0 & 2.0 & 1.0 & 1.0 & 2.0 \\\\\n",
       "\t8 & 1.0 & 2.0 & 2.0 & 1.0 & 1.0 \\\\\n",
       "\t9 & 2.0 & 2.0 & 0.0 & 1.0 & 2.0 \\\\\n",
       "\t10 & 1.0 & 2.0 & 1.0 & 2.0 & 1.0 \\\\\n",
       "\t11 & 2.0 & 2.0 & 1.0 & 2.0 & 2.0 \\\\\n",
       "\t12 & 2.0 & 2.0 & 1.0 & 2.0 & 2.0 \\\\\n",
       "\t13 & 2.0 & 2.0 & 1.0 & 1.0 & 2.0 \\\\\n",
       "\t14 & 2.0 & 1.0 & 0.0 & 1.0 & 2.0 \\\\\n",
       "\t15 & 2.0 & 2.0 & 1.0 & 1.0 & 1.0 \\\\\n",
       "\t16 & 2.0 & 1.0 & 1.0 & 1.0 & 1.0 \\\\\n",
       "\t17 & 2.0 & 2.0 & 1.0 & 1.0 & 2.0 \\\\\n",
       "\t18 & 2.0 & 2.0 & 0.0 & 2.0 & 2.0 \\\\\n",
       "\t19 & 2.0 & 2.0 & 1.0 & 1.0 & 2.0 \\\\\n",
       "\t20 & 2.0 & 2.0 & 1.0 & 1.0 & 2.0 \\\\\n",
       "\t21 & 2.0 & 2.0 & 1.0 & 2.0 & 2.0 \\\\\n",
       "\t22 & 2.0 & 2.0 & 0.0 & 1.0 & 2.0 \\\\\n",
       "\t23 & 2.0 & 2.0 & 0.0 & 1.0 & 2.0 \\\\\n",
       "\t24 & 2.0 & 1.0 & 0.0 & 1.0 & 1.0 \\\\\n",
       "\t25 & 2.0 & 2.0 & 0.0 & 0.0 & 2.0 \\\\\n",
       "\t26 & 2.0 & 1.0 & 1.0 & 1.0 & 1.0 \\\\\n",
       "\t27 & 2.0 & 2.0 & 1.0 & 2.0 & 2.0 \\\\\n",
       "\t28 & 2.0 & 2.0 & 2.0 & 2.0 & 2.0 \\\\\n",
       "\t29 & 2.0 & 2.0 & 2.0 & 1.0 & 2.0 \\\\\n",
       "\t30 & 2.0 & 2.0 & 1.0 & 1.0 & 2.0 \\\\\n",
       "\t$\\dots$ & $\\dots$ & $\\dots$ & $\\dots$ & $\\dots$ & $\\dots$ \\\\\n",
       "\\end{tabular}\n"
      ],
      "text/plain": [
       "379×5 DataFrame\n",
       "│ Row │ rs34151105 │ rs113560219 │ rs1882989 │ rs8069133 │ rs112221137 │\n",
       "│     │ \u001b[90mFloat64\u001b[39m    │ \u001b[90mFloat64\u001b[39m     │ \u001b[90mFloat64\u001b[39m   │ \u001b[90mFloat64\u001b[39m   │ \u001b[90mFloat64\u001b[39m     │\n",
       "├─────┼────────────┼─────────────┼───────────┼───────────┼─────────────┤\n",
       "│ 1   │ 2.0        │ 2.0         │ 1.0       │ 1.0       │ 2.0         │\n",
       "│ 2   │ 2.0        │ 2.0         │ 1.0       │ 2.0       │ 2.0         │\n",
       "│ 3   │ 2.0        │ 2.0         │ 2.0       │ 2.0       │ 2.0         │\n",
       "│ 4   │ 2.0        │ 2.0         │ 0.0       │ 2.0       │ 2.0         │\n",
       "│ 5   │ 2.0        │ 2.0         │ 0.0       │ 2.0       │ 2.0         │\n",
       "│ 6   │ 1.0        │ 2.0         │ 2.0       │ 2.0       │ 2.0         │\n",
       "│ 7   │ 1.0        │ 2.0         │ 1.0       │ 1.0       │ 2.0         │\n",
       "│ 8   │ 1.0        │ 2.0         │ 2.0       │ 1.0       │ 1.0         │\n",
       "│ 9   │ 2.0        │ 2.0         │ 0.0       │ 1.0       │ 2.0         │\n",
       "│ 10  │ 1.0        │ 2.0         │ 1.0       │ 2.0       │ 1.0         │\n",
       "⋮\n",
       "│ 369 │ 2.0        │ 2.0         │ 1.0       │ 1.0       │ 2.0         │\n",
       "│ 370 │ 2.0        │ 2.0         │ 1.0       │ 1.0       │ 2.0         │\n",
       "│ 371 │ 1.0        │ 2.0         │ 1.0       │ 2.0       │ 2.0         │\n",
       "│ 372 │ 2.0        │ 2.0         │ 0.0       │ 0.0       │ 2.0         │\n",
       "│ 373 │ 1.0        │ 2.0         │ 2.0       │ 2.0       │ 2.0         │\n",
       "│ 374 │ 2.0        │ 2.0         │ 1.0       │ 2.0       │ 2.0         │\n",
       "│ 375 │ 2.0        │ 2.0         │ 1.0       │ 2.0       │ 2.0         │\n",
       "│ 376 │ 1.0        │ 2.0         │ 2.0       │ 2.0       │ 2.0         │\n",
       "│ 377 │ 2.0        │ 2.0         │ 0.0       │ 2.0       │ 2.0         │\n",
       "│ 378 │ 1.0        │ 2.0         │ 1.0       │ 0.0       │ 1.0         │\n",
       "│ 379 │ 2.0        │ 2.0         │ 1.0       │ 1.0       │ 2.0         │"
      ]
     },
     "execution_count": 6,
     "metadata": {},
     "output_type": "execute_result"
    }
   ],
   "source": [
    "meanformula, df = Generate_Random_Model_Chisq(\"tmp_filtered_EURdata\", k)\n",
    "df"
   ]
  },
  {
   "cell_type": "code",
   "execution_count": 7,
   "metadata": {},
   "outputs": [
    {
     "data": {
      "text/html": [
       "<table class=\"data-frame\"><thead><tr><th></th><th>SimTrait</th></tr><tr><th></th><th>Float64</th></tr></thead><tbody><p>379 rows × 1 columns</p><tr><th>1</th><td>3.16846</td></tr><tr><th>2</th><td>1.44674</td></tr><tr><th>3</th><td>1.53901</td></tr><tr><th>4</th><td>0.126399</td></tr><tr><th>5</th><td>0.00803335</td></tr><tr><th>6</th><td>0.19885</td></tr><tr><th>7</th><td>1.33937</td></tr><tr><th>8</th><td>0.261177</td></tr><tr><th>9</th><td>0.0839421</td></tr><tr><th>10</th><td>0.195838</td></tr><tr><th>11</th><td>2.52582</td></tr><tr><th>12</th><td>0.390023</td></tr><tr><th>13</th><td>0.0147442</td></tr><tr><th>14</th><td>0.924361</td></tr><tr><th>15</th><td>0.196232</td></tr><tr><th>16</th><td>0.665395</td></tr><tr><th>17</th><td>0.325321</td></tr><tr><th>18</th><td>0.129828</td></tr><tr><th>19</th><td>0.394536</td></tr><tr><th>20</th><td>2.12412</td></tr><tr><th>21</th><td>0.17049</td></tr><tr><th>22</th><td>3.34436</td></tr><tr><th>23</th><td>1.28498</td></tr><tr><th>24</th><td>0.252202</td></tr><tr><th>25</th><td>0.16963</td></tr><tr><th>26</th><td>4.12018</td></tr><tr><th>27</th><td>0.230181</td></tr><tr><th>28</th><td>1.49143</td></tr><tr><th>29</th><td>0.299142</td></tr><tr><th>30</th><td>0.385001</td></tr><tr><th>&vellip;</th><td>&vellip;</td></tr></tbody></table>"
      ],
      "text/latex": [
       "\\begin{tabular}{r|c}\n",
       "\t& SimTrait\\\\\n",
       "\t\\hline\n",
       "\t& Float64\\\\\n",
       "\t\\hline\n",
       "\t1 & 3.16846 \\\\\n",
       "\t2 & 1.44674 \\\\\n",
       "\t3 & 1.53901 \\\\\n",
       "\t4 & 0.126399 \\\\\n",
       "\t5 & 0.00803335 \\\\\n",
       "\t6 & 0.19885 \\\\\n",
       "\t7 & 1.33937 \\\\\n",
       "\t8 & 0.261177 \\\\\n",
       "\t9 & 0.0839421 \\\\\n",
       "\t10 & 0.195838 \\\\\n",
       "\t11 & 2.52582 \\\\\n",
       "\t12 & 0.390023 \\\\\n",
       "\t13 & 0.0147442 \\\\\n",
       "\t14 & 0.924361 \\\\\n",
       "\t15 & 0.196232 \\\\\n",
       "\t16 & 0.665395 \\\\\n",
       "\t17 & 0.325321 \\\\\n",
       "\t18 & 0.129828 \\\\\n",
       "\t19 & 0.394536 \\\\\n",
       "\t20 & 2.12412 \\\\\n",
       "\t21 & 0.17049 \\\\\n",
       "\t22 & 3.34436 \\\\\n",
       "\t23 & 1.28498 \\\\\n",
       "\t24 & 0.252202 \\\\\n",
       "\t25 & 0.16963 \\\\\n",
       "\t26 & 4.12018 \\\\\n",
       "\t27 & 0.230181 \\\\\n",
       "\t28 & 1.49143 \\\\\n",
       "\t29 & 0.299142 \\\\\n",
       "\t30 & 0.385001 \\\\\n",
       "\t$\\dots$ & $\\dots$ \\\\\n",
       "\\end{tabular}\n"
      ],
      "text/plain": [
       "379×1 DataFrame\n",
       "│ Row │ SimTrait   │\n",
       "│     │ \u001b[90mFloat64\u001b[39m    │\n",
       "├─────┼────────────┤\n",
       "│ 1   │ 3.16846    │\n",
       "│ 2   │ 1.44674    │\n",
       "│ 3   │ 1.53901    │\n",
       "│ 4   │ 0.126399   │\n",
       "│ 5   │ 0.00803335 │\n",
       "│ 6   │ 0.19885    │\n",
       "│ 7   │ 1.33937    │\n",
       "│ 8   │ 0.261177   │\n",
       "│ 9   │ 0.0839421  │\n",
       "│ 10  │ 0.195838   │\n",
       "⋮\n",
       "│ 369 │ 0.69876    │\n",
       "│ 370 │ 0.0151021  │\n",
       "│ 371 │ 0.365943   │\n",
       "│ 372 │ 0.0294514  │\n",
       "│ 373 │ 0.293144   │\n",
       "│ 374 │ 2.87443    │\n",
       "│ 375 │ 0.603537   │\n",
       "│ 376 │ 1.15155    │\n",
       "│ 377 │ 0.271488   │\n",
       "│ 378 │ 0.320237   │\n",
       "│ 379 │ 1.92925    │"
      ]
     },
     "execution_count": 7,
     "metadata": {},
     "output_type": "execute_result"
    }
   ],
   "source": [
    "model_rare = GLMTrait(meanformula_rare, df, ResponseDistribution, InverseLinkFunction)\n",
    "simulated_trait = DataFrame(SimTrait = simulate(model_rare))"
   ]
  },
  {
   "cell_type": "code",
   "execution_count": 8,
   "metadata": {},
   "outputs": [
    {
     "data": {
      "text/html": [
       "<table class=\"data-frame\"><thead><tr><th></th><th>variable</th><th>mean</th><th>min</th><th>median</th><th>max</th><th>nunique</th><th>nmissing</th><th>eltype</th></tr><tr><th></th><th>Symbol</th><th>Float64</th><th>Float64</th><th>Float64</th><th>Float64</th><th>Nothing</th><th>Nothing</th><th>DataType</th></tr></thead><tbody><p>1 rows × 8 columns</p><tr><th>1</th><td>SimTrait</td><td>0.755844</td><td>0.00750831</td><td>0.431558</td><td>9.8021</td><td></td><td></td><td>Float64</td></tr></tbody></table>"
      ],
      "text/latex": [
       "\\begin{tabular}{r|cccccccc}\n",
       "\t& variable & mean & min & median & max & nunique & nmissing & eltype\\\\\n",
       "\t\\hline\n",
       "\t& Symbol & Float64 & Float64 & Float64 & Float64 & Nothing & Nothing & DataType\\\\\n",
       "\t\\hline\n",
       "\t1 & SimTrait & 0.755844 & 0.00750831 & 0.431558 & 9.8021 &  &  & Float64 \\\\\n",
       "\\end{tabular}\n"
      ],
      "text/plain": [
       "1×8 DataFrame. Omitted printing of 2 columns\n",
       "│ Row │ variable │ mean     │ min        │ median   │ max     │ nunique │\n",
       "│     │ \u001b[90mSymbol\u001b[39m   │ \u001b[90mFloat64\u001b[39m  │ \u001b[90mFloat64\u001b[39m    │ \u001b[90mFloat64\u001b[39m  │ \u001b[90mFloat64\u001b[39m │ \u001b[90mNothing\u001b[39m │\n",
       "├─────┼──────────┼──────────┼────────────┼──────────┼─────────┼─────────┤\n",
       "│ 1   │ SimTrait │ 0.755844 │ 0.00750831 │ 0.431558 │ 9.8021  │         │"
      ]
     },
     "execution_count": 8,
     "metadata": {},
     "output_type": "execute_result"
    }
   ],
   "source": [
    "describe(simulated_trait)"
   ]
  },
  {
   "cell_type": "markdown",
   "metadata": {},
   "source": [
    "# Output: Save Filtered PLINK files to local machine"
   ]
  },
  {
   "cell_type": "code",
   "execution_count": 9,
   "metadata": {},
   "outputs": [],
   "source": [
    "filtsnpdata = SnpArrays.filter(SnpArrays.datadir(filepath), rowmask, colmask, des = \"tmp_filtered_EURdata\");"
   ]
  }
 ],
 "metadata": {
  "kernelspec": {
   "display_name": "Julia 1.2.0",
   "language": "julia",
   "name": "julia-1.2"
  },
  "language_info": {
   "file_extension": ".jl",
   "mimetype": "application/julia",
   "name": "julia",
   "version": "1.2.0"
  },
  "toc": {
   "base_numbering": 1,
   "nav_menu": {},
   "number_sections": true,
   "sideBar": true,
   "skip_h1_title": false,
   "title_cell": "Table of Contents",
   "title_sidebar": "Contents",
   "toc_cell": false,
   "toc_position": {},
   "toc_section_display": true,
   "toc_window_display": false
  }
 },
 "nbformat": 4,
 "nbformat_minor": 2
}
