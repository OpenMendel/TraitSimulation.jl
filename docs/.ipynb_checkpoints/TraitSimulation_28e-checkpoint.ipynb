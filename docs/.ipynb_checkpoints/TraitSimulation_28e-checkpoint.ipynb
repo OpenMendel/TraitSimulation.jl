{
 "cells": [
  {
   "cell_type": "markdown",
   "metadata": {},
   "source": [
    "# Trait Simulation Tutorial\n",
    "\n",
    "Authors: Sarah Ji, Janet Sinsheimer, Kenneth Lange\n",
    "\n",
    "In this notebook we demonstrate how to simulate phenotypic traits. We use the Classic Mendel Option 28e data with known parameter estimates. In example 2b, we follow Mendel Option 28e with the simulation parameters for Trait1 and Trait2 in Ped28e.out as shown below.\n",
    "\n",
    "You can specify arbitrary fixed effect sizes in both examples. \n",
    "\n",
    "Additionally, in the Generating Effect Sizes Section of Example 2c) we show how the user can generate effect sizes that depend on the minor allele frequencies from a function such as an exponential or chisquare. To aid the user when they wish to include a large number of loci in the model, we created a function that automatically writes out the mean components. \n",
    "\n",
    "At the end of example 2, we demo how to write the results of each simulation to a file on the users own machine.\n",
    "\n",
    "## Mendel Option 28e Data: \n",
    "Mean effect:\n",
    "$$\n",
    "\\mathbf{\\mu} = \\begin{vmatrix}\n",
    "\\mu_1 \\\\\n",
    "\\mu_2 \\\\\n",
    "\\end{vmatrix}\n",
    "= \\begin{vmatrix}\n",
    "40 + 3(sex) - 1.5(locus)\\\\\n",
    "20 + 2(sex) - 1.5(locus)\\\\\n",
    "\\end{vmatrix}\n",
    "\\\\\n",
    "$$\n",
    "\n",
    "Covariance Matrix of Both Traits simulated Simultaneously through Linear Mixed Model (LMM):\n",
    "\n",
    "$$\n",
    "\\Sigma  = V_a \\otimes (2GRM) + V_e \\otimes I_n\n",
    "$$\n",
    "\n",
    "Where we have the additive and environmental variances:\n",
    "\n",
    "$$\n",
    "V_a = \n",
    "\\begin{vmatrix}\n",
    "4 & 1\\\\\n",
    "1 & 4\\\\\n",
    "\\end{vmatrix}\n",
    "$$\n",
    "\n",
    "$$\n",
    "V_e = \n",
    "\\begin{vmatrix}\n",
    "2 & 0\\\\\n",
    "0 & 2\\\\\n",
    "\\end{vmatrix}\n",
    "$$\n",
    "\n",
    "The kinship matrix is derived from the genetic relationship matrix (GRM) across the common SNPs with minor allele frequency at least 0.05. $I_{n}$ is the n dimensional identity matrix. The locus in this case is snp rs10412915. this snp is \"causal\" in the sense that its genotype contributes to the trait value."
   ]
  },
  {
   "cell_type": "markdown",
   "metadata": {},
   "source": [
    "### Double check that you are using Julia version 1.0.3 or higher by checking the machine information"
   ]
  },
  {
   "cell_type": "code",
   "execution_count": 1,
   "metadata": {},
   "outputs": [
    {
     "name": "stdout",
     "output_type": "stream",
     "text": [
      "Julia Version 1.0.3\n",
      "Commit 099e826241 (2018-12-18 01:34 UTC)\n",
      "Platform Info:\n",
      "  OS: macOS (x86_64-apple-darwin14.5.0)\n",
      "  CPU: Intel(R) Core(TM) i7-7700HQ CPU @ 2.80GHz\n",
      "  WORD_SIZE: 64\n",
      "  LIBM: libopenlibm\n",
      "  LLVM: libLLVM-6.0.0 (ORCJIT, skylake)\n"
     ]
    }
   ],
   "source": [
    "versioninfo()"
   ]
  },
  {
   "cell_type": "markdown",
   "metadata": {},
   "source": [
    "# Add any missing packages needed for this tutorial:\n",
    "\n",
    "Note that the creation of this Jupyter notebook requires the use of the following registered packages: `DataFrames.jl`, `SnpArrays.jl`, `StatsModels.jl`, `Random.jl`, `DelimitedFiles.jl`, `StatsBase.jl`, and `StatsFuns.jl`. \n",
    "\n",
    "If it is your first time using these registered packages, you will first have to add the registered packages: DataFrames, SnpArrays, StatsModels, Random, LinearAlgebra, DelimitedFiles, Random, StatsBase by running the following code chunk in Julia's package manager:\n",
    "\n",
    "```{julia}\n",
    "pkg> add DataFrames\n",
    "pkg> add SnpArrays\n",
    "...\n",
    "pkg> add StatsFuns\n",
    "```\n",
    "You can also use the package manager to add the `TraitSimulation.jl` package by running the following link: </br>\n",
    "\n",
    "```{julia}\n",
    "pkg> add \"https://github.com/sarah-ji/TraitSimulation.jl\"\n",
    "```\n",
    "\n",
    "Only after all of the necessary packages have been added, we can load them into our working environment with the `using` command:"
   ]
  },
  {
   "cell_type": "code",
   "execution_count": 2,
   "metadata": {},
   "outputs": [],
   "source": [
    "using DataFrames, SnpArrays, StatsModels, Random, LinearAlgebra, DelimitedFiles, StatsBase, TraitSimulation, StatsFuns"
   ]
  },
  {
   "cell_type": "markdown",
   "metadata": {},
   "source": [
    "# Reproducibility\n",
    "\n",
    "For reproducibility, we set a random seed using the `Random.jl` package for each simulation using `Random.seed!(1234)`.  If you wish to end up with different data, you will need to comment out these commands or use another value in Random.seed!()."
   ]
  },
  {
   "cell_type": "code",
   "execution_count": 3,
   "metadata": {},
   "outputs": [],
   "source": [
    "Random.seed!(1234);"
   ]
  },
  {
   "cell_type": "markdown",
   "metadata": {},
   "source": [
    "# The notebook is organized as follows:\n",
    "## Example 1: Generalized Linear Fixed Effects Model (No Residual Familial Correlation)\n",
    "\n",
    "### Multiple Independent Traits: User specified distributions\n",
    "In example (1 b) we simulate two independent Traits one with a normal distribution and one with a Poisson distribution simultaneously.<br>\n",
    "$$ Y = \n",
    "\\begin{vmatrix}\n",
    "Y_{1}\\\\\n",
    "Y_{2}\\\\\n",
    "\\end{vmatrix}\n",
    "$$\n",
    "\n",
    "$$ \n",
    "Y_{1} ∼ N(\\mu_{1}, 2), \\mu_{1} = 40 + 3(sex) - 1.5(locus)\\\\\n",
    "Y_{2} ∼ Poisson(\\mu_{1}), \\mu_{1} = 2 + 2(sex) - 1.5(locus)\n",
    "$$\n",
    "\n",
    "## Example 2: Linear Mixed Model (With Additive Genetic Variance Component).\n",
    "In this example we show to generatee data with a residual correlation among relatives. \n",
    "For convenience we use the common assumption that the residual covariance among two relatives can be captured by the additive genetic variance times twice the kinship coefficient. However, if you like you can specify your own variance components and their design matrices as long as they are positive semi definite using the `@vc` macro demonstrated in this example.\n",
    "\n",
    "### (a) Single Trait:\n",
    "We simulate a Normal Trait controlling for family structure, location = $\\mu_{1} and scale = V_{{a}_{1,1}}* 2GRM + V_{{e}_{1,1}}I$. \n",
    "$$\n",
    "Y_{2a} ∼ N(\\mu_{1}, 4* 2GRM + 2I)$$\n",
    "\n",
    "\n",
    "### (b) Multiple Correlated Traits: (Mendel Example 28e Simulation)\n",
    "We simulate two correlated Normal Traits controlling for family structure, location = $\\mu$ and scale = $\\Sigma$. \n",
    "$$\n",
    "Y_{2b} ∼ N(\\mu, \\Sigma) , \\Sigma  = V_{a} \\otimes (2GRM) + V_{e} \\otimes I_{n}\n",
    "$$\n",
    "\n",
    "### (c) Rare Variant Linear Mixed Model \n",
    "\n",
    "The example also assumes an additive genetic variance component in the model which includes 20 rare SNPs, defined as snps with minor allele frequencies greater than 0.002 but less than 0.02.  In practice rare SNPs have smaller minor allele frequencies, but we are limited in this tutorial by the number of individuals in the data set. <br>\n",
    "\n",
    "We simulate a Single normal Trait controlling for family structure, with effect sizes generated as a function of the minor allele frequencies.\n",
    "$$\n",
    "Y_{2c} ∼ N(\\mu_{rare20}, 4* 2GRM + 2I)\n",
    "$$"
   ]
  },
  {
   "cell_type": "markdown",
   "metadata": {},
   "source": [
    "# Reading the Mendel 28a data using SnpArrays\n",
    "\n",
    "First use `SnpArrays.jl` to read in the SNP data\n"
   ]
  },
  {
   "cell_type": "code",
   "execution_count": 4,
   "metadata": {},
   "outputs": [
    {
     "data": {
      "text/plain": [
       "212×253141 SnpArray:\n",
       " 0x03  0x03  0x00  0x03  0x03  0x03  …  0x02  0x02  0x00  0x00  0x03  0x00\n",
       " 0x03  0x03  0x00  0x02  0x02  0x03     0x00  0x03  0x00  0x00  0x03  0x00\n",
       " 0x03  0x03  0x00  0x03  0x03  0x03     0x03  0x02  0x00  0x00  0x03  0x00\n",
       " 0x03  0x03  0x00  0x03  0x03  0x03     0x02  0x03  0x00  0x00  0x03  0x00\n",
       " 0x03  0x03  0x00  0x03  0x03  0x03     0x00  0x03  0x00  0x00  0x03  0x00\n",
       " 0x03  0x03  0x00  0x03  0x03  0x03  …  0x00  0x00  0x00  0x00  0x00  0x03\n",
       " 0x03  0x02  0x00  0x03  0x03  0x03     0x02  0x03  0x00  0x03  0x00  0x03\n",
       " 0x03  0x03  0x00  0x03  0x03  0x03     0x02  0x03  0x00  0x03  0x00  0x03\n",
       " 0x03  0x02  0x00  0x03  0x03  0x03     0x02  0x02  0x00  0x02  0x00  0x03\n",
       " 0x03  0x02  0x00  0x03  0x03  0x03     0x03  0x03  0x00  0x03  0x00  0x03\n",
       " 0x03  0x02  0x00  0x03  0x03  0x03  …  0x00  0x02  0x00  0x02  0x00  0x03\n",
       " 0x03  0x03  0x00  0x03  0x03  0x03     0x00  0x02  0x00  0x02  0x00  0x03\n",
       " 0x03  0x02  0x00  0x03  0x03  0x03     0x02  0x02  0x00  0x02  0x00  0x03\n",
       "    ⋮                             ⋮  ⋱     ⋮                             ⋮\n",
       " 0x03  0x03  0x00  0x03  0x03  0x03  …  0x00  0x03  0x00  0x00  0x03  0x00\n",
       " 0x03  0x03  0x00  0x03  0x03  0x03     0x00  0x03  0x00  0x02  0x02  0x02\n",
       " 0x03  0x03  0x00  0x03  0x03  0x03     0x00  0x02  0x00  0x00  0x03  0x00\n",
       " 0x03  0x02  0x00  0x02  0x02  0x03     0x02  0x03  0x00  0x03  0x00  0x03\n",
       " 0x03  0x03  0x00  0x02  0x02  0x03     0x02  0x03  0x00  0x00  0x03  0x00\n",
       " 0x03  0x03  0x00  0x03  0x03  0x03  …  0x02  0x03  0x00  0x02  0x02  0x00\n",
       " 0x03  0x03  0x00  0x02  0x02  0x03     0x02  0x03  0x00  0x00  0x02  0x02\n",
       " 0x03  0x03  0x00  0x03  0x03  0x03     0x00  0x03  0x00  0x00  0x03  0x00\n",
       " 0x03  0x02  0x00  0x03  0x03  0x03     0x02  0x03  0x00  0x00  0x02  0x02\n",
       " 0x03  0x03  0x00  0x03  0x03  0x03     0x00  0x03  0x00  0x00  0x03  0x00\n",
       " 0x03  0x03  0x00  0x03  0x03  0x03  …  0x02  0x03  0x00  0x00  0x03  0x00\n",
       " 0x03  0x03  0x00  0x03  0x03  0x03     0x00  0x03  0x00  0x02  0x02  0x02"
      ]
     },
     "execution_count": 4,
     "metadata": {},
     "output_type": "execute_result"
    }
   ],
   "source": [
    "snpdata = SnpArray(\"traitsim28e.bed\", 212)"
   ]
  },
  {
   "cell_type": "markdown",
   "metadata": {},
   "source": [
    "Store the FamID and PersonID of Individuals in Mendel 28e data"
   ]
  },
  {
   "cell_type": "code",
   "execution_count": 5,
   "metadata": {},
   "outputs": [
    {
     "data": {
      "text/html": [
       "<table class=\"data-frame\"><thead><tr><th></th><th>FamID</th><th>PID</th></tr><tr><th></th><th>Any</th><th>Any</th></tr></thead><tbody><p>212 rows × 2 columns</p><tr><th>1</th><td>1</td><td>16</td></tr><tr><th>2</th><td>1</td><td>8228</td></tr><tr><th>3</th><td>1</td><td>17008</td></tr><tr><th>4</th><td>1</td><td>9218</td></tr><tr><th>5</th><td>1</td><td>3226</td></tr><tr><th>6</th><td>2</td><td>29</td></tr><tr><th>7</th><td>2</td><td>2294</td></tr><tr><th>8</th><td>2</td><td>3416</td></tr><tr><th>9</th><td>2</td><td>17893</td></tr><tr><th>10</th><td>2</td><td>6952</td></tr><tr><th>11</th><td>2</td><td>14695</td></tr><tr><th>12</th><td>2</td><td>6790</td></tr><tr><th>13</th><td>2</td><td>3916</td></tr><tr><th>14</th><td>3</td><td>39</td></tr><tr><th>15</th><td>3</td><td>4521</td></tr><tr><th>16</th><td>3</td><td>8366</td></tr><tr><th>17</th><td>3</td><td>16693</td></tr><tr><th>18</th><td>3</td><td>21688</td></tr><tr><th>19</th><td>3</td><td>25532</td></tr><tr><th>20</th><td>3</td><td>26294</td></tr><tr><th>21</th><td>3</td><td>16795</td></tr><tr><th>22</th><td>3</td><td>17445</td></tr><tr><th>23</th><td>3</td><td>2039</td></tr><tr><th>24</th><td>3</td><td>2831</td></tr><tr><th>25</th><td>4</td><td>54</td></tr><tr><th>26</th><td>4</td><td>5072</td></tr><tr><th>27</th><td>4</td><td>17240</td></tr><tr><th>28</th><td>5</td><td>70</td></tr><tr><th>29</th><td>5</td><td>24010</td></tr><tr><th>30</th><td>5</td><td>21999</td></tr><tr><th>&vellip;</th><td>&vellip;</td><td>&vellip;</td></tr></tbody></table>"
      ],
      "text/latex": [
       "\\begin{tabular}{r|cc}\n",
       "\t& FamID & PID\\\\\n",
       "\t\\hline\n",
       "\t& Any & Any\\\\\n",
       "\t\\hline\n",
       "\t1 & 1 & 16 \\\\\n",
       "\t2 & 1 & 8228 \\\\\n",
       "\t3 & 1 & 17008 \\\\\n",
       "\t4 & 1 & 9218 \\\\\n",
       "\t5 & 1 & 3226 \\\\\n",
       "\t6 & 2 & 29 \\\\\n",
       "\t7 & 2 & 2294 \\\\\n",
       "\t8 & 2 & 3416 \\\\\n",
       "\t9 & 2 & 17893 \\\\\n",
       "\t10 & 2 & 6952 \\\\\n",
       "\t11 & 2 & 14695 \\\\\n",
       "\t12 & 2 & 6790 \\\\\n",
       "\t13 & 2 & 3916 \\\\\n",
       "\t14 & 3 & 39 \\\\\n",
       "\t15 & 3 & 4521 \\\\\n",
       "\t16 & 3 & 8366 \\\\\n",
       "\t17 & 3 & 16693 \\\\\n",
       "\t18 & 3 & 21688 \\\\\n",
       "\t19 & 3 & 25532 \\\\\n",
       "\t20 & 3 & 26294 \\\\\n",
       "\t21 & 3 & 16795 \\\\\n",
       "\t22 & 3 & 17445 \\\\\n",
       "\t23 & 3 & 2039 \\\\\n",
       "\t24 & 3 & 2831 \\\\\n",
       "\t25 & 4 & 54 \\\\\n",
       "\t26 & 4 & 5072 \\\\\n",
       "\t27 & 4 & 17240 \\\\\n",
       "\t28 & 5 & 70 \\\\\n",
       "\t29 & 5 & 24010 \\\\\n",
       "\t30 & 5 & 21999 \\\\\n",
       "\t$\\dots$ & $\\dots$ & $\\dots$ \\\\\n",
       "\\end{tabular}\n"
      ],
      "text/plain": [
       "212×2 DataFrame\n",
       "│ Row │ FamID │ PID   │\n",
       "│     │ \u001b[90mAny\u001b[39m   │ \u001b[90mAny\u001b[39m   │\n",
       "├─────┼───────┼───────┤\n",
       "│ 1   │ 1     │ 16    │\n",
       "│ 2   │ 1     │ 8228  │\n",
       "│ 3   │ 1     │ 17008 │\n",
       "│ 4   │ 1     │ 9218  │\n",
       "│ 5   │ 1     │ 3226  │\n",
       "│ 6   │ 2     │ 29    │\n",
       "│ 7   │ 2     │ 2294  │\n",
       "│ 8   │ 2     │ 3416  │\n",
       "│ 9   │ 2     │ 17893 │\n",
       "│ 10  │ 2     │ 6952  │\n",
       "⋮\n",
       "│ 202 │ 31    │ 16139 │\n",
       "│ 203 │ 31    │ 10439 │\n",
       "│ 204 │ 31    │ 63    │\n",
       "│ 205 │ 10006 │ 66    │\n",
       "│ 206 │ 10008 │ 92    │\n",
       "│ 207 │ 10014 │ 186   │\n",
       "│ 208 │ 10027 │ 374   │\n",
       "│ 209 │ 10029 │ 434   │\n",
       "│ 210 │ 10033 │ 333   │\n",
       "│ 211 │ 10040 │ 234   │\n",
       "│ 212 │ 10045 │ 789   │"
      ]
     },
     "execution_count": 5,
     "metadata": {},
     "output_type": "execute_result"
    }
   ],
   "source": [
    "famfile = readdlm(\"traitsim28e.fam\", ',')\n",
    "Fam_Person_id = DataFrame(FamID = famfile[:, 1], PID = famfile[:, 2])"
   ]
  },
  {
   "cell_type": "markdown",
   "metadata": {},
   "source": [
    "Note: Because later we will want to compare our results to the original results in the file,  we subset `traits_original` "
   ]
  },
  {
   "cell_type": "code",
   "execution_count": 6,
   "metadata": {},
   "outputs": [
    {
     "data": {
      "text/html": [
       "<table class=\"data-frame\"><thead><tr><th></th><th>Trait1</th><th>Trait2</th></tr><tr><th></th><th>Any</th><th>Any</th></tr></thead><tbody><p>212 rows × 2 columns</p><tr><th>1</th><td>30.2056</td><td>9.2421</td></tr><tr><th>2</th><td>35.8214</td><td>15.2746</td></tr><tr><th>3</th><td>36.053</td><td>19.505</td></tr><tr><th>4</th><td>38.9635</td><td>18.9857</td></tr><tr><th>5</th><td>33.7391</td><td>21.1041</td></tr><tr><th>6</th><td>34.8884</td><td>19.0114</td></tr><tr><th>7</th><td>37.7011</td><td>19.1656</td></tr><tr><th>8</th><td>45.1317</td><td>19.8409</td></tr><tr><th>9</th><td>35.156</td><td>14.1423</td></tr><tr><th>10</th><td>42.4514</td><td>19.9271</td></tr><tr><th>11</th><td>35.6426</td><td>17.4191</td></tr><tr><th>12</th><td>40.6344</td><td>23.6845</td></tr><tr><th>13</th><td>34.8618</td><td>16.8684</td></tr><tr><th>14</th><td>37.2552</td><td>16.397</td></tr><tr><th>15</th><td>33.0975</td><td>15.3287</td></tr><tr><th>16</th><td>37.916</td><td>20.6693</td></tr><tr><th>17</th><td>34.839</td><td>17.6651</td></tr><tr><th>18</th><td>36.2022</td><td>21.7773</td></tr><tr><th>19</th><td>30.9314</td><td>17.8042</td></tr><tr><th>20</th><td>41.5899</td><td>22.0772</td></tr><tr><th>21</th><td>31.5552</td><td>17.7989</td></tr><tr><th>22</th><td>35.5947</td><td>20.0131</td></tr><tr><th>23</th><td>36.048</td><td>17.7814</td></tr><tr><th>24</th><td>39.1822</td><td>20.747</td></tr><tr><th>25</th><td>34.7339</td><td>9.88673</td></tr><tr><th>26</th><td>37.5677</td><td>14.2164</td></tr><tr><th>27</th><td>32.9781</td><td>12.9809</td></tr><tr><th>28</th><td>40.2272</td><td>21.0772</td></tr><tr><th>29</th><td>41.7587</td><td>24.1248</td></tr><tr><th>30</th><td>45.4635</td><td>27.5554</td></tr><tr><th>&vellip;</th><td>&vellip;</td><td>&vellip;</td></tr></tbody></table>"
      ],
      "text/latex": [
       "\\begin{tabular}{r|cc}\n",
       "\t& Trait1 & Trait2\\\\\n",
       "\t\\hline\n",
       "\t& Any & Any\\\\\n",
       "\t\\hline\n",
       "\t1 & 30.2056 & 9.2421 \\\\\n",
       "\t2 & 35.8214 & 15.2746 \\\\\n",
       "\t3 & 36.053 & 19.505 \\\\\n",
       "\t4 & 38.9635 & 18.9857 \\\\\n",
       "\t5 & 33.7391 & 21.1041 \\\\\n",
       "\t6 & 34.8884 & 19.0114 \\\\\n",
       "\t7 & 37.7011 & 19.1656 \\\\\n",
       "\t8 & 45.1317 & 19.8409 \\\\\n",
       "\t9 & 35.156 & 14.1423 \\\\\n",
       "\t10 & 42.4514 & 19.9271 \\\\\n",
       "\t11 & 35.6426 & 17.4191 \\\\\n",
       "\t12 & 40.6344 & 23.6845 \\\\\n",
       "\t13 & 34.8618 & 16.8684 \\\\\n",
       "\t14 & 37.2552 & 16.397 \\\\\n",
       "\t15 & 33.0975 & 15.3287 \\\\\n",
       "\t16 & 37.916 & 20.6693 \\\\\n",
       "\t17 & 34.839 & 17.6651 \\\\\n",
       "\t18 & 36.2022 & 21.7773 \\\\\n",
       "\t19 & 30.9314 & 17.8042 \\\\\n",
       "\t20 & 41.5899 & 22.0772 \\\\\n",
       "\t21 & 31.5552 & 17.7989 \\\\\n",
       "\t22 & 35.5947 & 20.0131 \\\\\n",
       "\t23 & 36.048 & 17.7814 \\\\\n",
       "\t24 & 39.1822 & 20.747 \\\\\n",
       "\t25 & 34.7339 & 9.88673 \\\\\n",
       "\t26 & 37.5677 & 14.2164 \\\\\n",
       "\t27 & 32.9781 & 12.9809 \\\\\n",
       "\t28 & 40.2272 & 21.0772 \\\\\n",
       "\t29 & 41.7587 & 24.1248 \\\\\n",
       "\t30 & 45.4635 & 27.5554 \\\\\n",
       "\t$\\dots$ & $\\dots$ & $\\dots$ \\\\\n",
       "\\end{tabular}\n"
      ],
      "text/plain": [
       "212×2 DataFrame\n",
       "│ Row │ Trait1  │ Trait2  │\n",
       "│     │ \u001b[90mAny\u001b[39m     │ \u001b[90mAny\u001b[39m     │\n",
       "├─────┼─────────┼─────────┤\n",
       "│ 1   │ 30.2056 │ 9.2421  │\n",
       "│ 2   │ 35.8214 │ 15.2746 │\n",
       "│ 3   │ 36.053  │ 19.505  │\n",
       "│ 4   │ 38.9635 │ 18.9857 │\n",
       "│ 5   │ 33.7391 │ 21.1041 │\n",
       "│ 6   │ 34.8884 │ 19.0114 │\n",
       "│ 7   │ 37.7011 │ 19.1656 │\n",
       "│ 8   │ 45.1317 │ 19.8409 │\n",
       "│ 9   │ 35.156  │ 14.1423 │\n",
       "│ 10  │ 42.4514 │ 19.9271 │\n",
       "⋮\n",
       "│ 202 │ 39.3161 │ 24.8508 │\n",
       "│ 203 │ 41.7913 │ 22.5294 │\n",
       "│ 204 │ 36.3301 │ 17.0813 │\n",
       "│ 205 │ 42.9442 │ 17.1984 │\n",
       "│ 206 │ 39.8927 │ 20.9043 │\n",
       "│ 207 │ 42.5795 │ 15.9365 │\n",
       "│ 208 │ 47.8619 │ 19.8943 │\n",
       "│ 209 │ 41.0531 │ 25.1045 │\n",
       "│ 210 │ 39.9502 │ 19.7227 │\n",
       "│ 211 │ 35.4778 │ 21.935  │\n",
       "│ 212 │ 44.3932 │ 26.1222 │"
      ]
     },
     "execution_count": 6,
     "metadata": {},
     "output_type": "execute_result"
    }
   ],
   "source": [
    "traits_original = DataFrame(Trait1 = famfile[:, 7], Trait2 = famfile[:, 8])"
   ]
  },
  {
   "cell_type": "markdown",
   "metadata": {},
   "source": [
    "Transform sex variable from M/F to 1/-1 as does Mendel 28e data.  If you prefer you can use the more common convention of making one of the sexes the reference sex (coding it as zero) and make the other sex have the value 1."
   ]
  },
  {
   "cell_type": "code",
   "execution_count": 7,
   "metadata": {},
   "outputs": [
    {
     "data": {
      "text/plain": [
       "212-element Array{Float64,1}:\n",
       " -1.0\n",
       " -1.0\n",
       "  1.0\n",
       "  1.0\n",
       " -1.0\n",
       " -1.0\n",
       "  1.0\n",
       "  1.0\n",
       " -1.0\n",
       "  1.0\n",
       " -1.0\n",
       "  1.0\n",
       " -1.0\n",
       "  ⋮  \n",
       "  1.0\n",
       "  1.0\n",
       "  1.0\n",
       " -1.0\n",
       "  1.0\n",
       "  1.0\n",
       "  1.0\n",
       "  1.0\n",
       "  1.0\n",
       "  1.0\n",
       "  1.0\n",
       "  1.0"
      ]
     },
     "execution_count": 7,
     "metadata": {},
     "output_type": "execute_result"
    }
   ],
   "source": [
    "sex = map(x -> strip(x) == \"F\" ? -1.0 : 1.0, famfile[:, 5]) # note julia's ternary operator '?'"
   ]
  },
  {
   "cell_type": "markdown",
   "metadata": {},
   "source": [
    "### Names of Variants:"
   ]
  },
  {
   "cell_type": "markdown",
   "metadata": {},
   "source": [
    "We want to find the index of the causal snp, rs10412915, in the snp_definition file and then subset that snp from the genetic marker data above. \n",
    "We first subset the SNP names into a vector called `snpid`"
   ]
  },
  {
   "cell_type": "code",
   "execution_count": 8,
   "metadata": {},
   "outputs": [
    {
     "data": {
      "text/plain": [
       "253141-element Array{SubString{String},1}:\n",
       " \"rs3020701\"  \n",
       " \"rs56343121\" \n",
       " \"rs143501051\"\n",
       " \"rs56182540\" \n",
       " \"rs7260412\"  \n",
       " \"rs11669393\" \n",
       " \"rs181646587\"\n",
       " \"rs8106297\"  \n",
       " \"rs8106302\"  \n",
       " \"rs183568620\"\n",
       " \"rs186451972\"\n",
       " \"rs189699222\"\n",
       " \"rs182902214\"\n",
       " ⋮            \n",
       " \"rs188169422\"\n",
       " \"rs144587467\"\n",
       " \"rs139879509\"\n",
       " \"rs143250448\"\n",
       " \"rs145384750\"\n",
       " \"rs149215836\"\n",
       " \"rs139221927\"\n",
       " \"rs181848453\"\n",
       " \"rs138318162\"\n",
       " \"rs186913222\"\n",
       " \"rs141816674\"\n",
       " \"rs150801216\""
      ]
     },
     "execution_count": 8,
     "metadata": {},
     "output_type": "execute_result"
    }
   ],
   "source": [
    "snpdef28_1 = readdlm(\"traitsim28e.bim\", Any; header = false)\n",
    "snpid = map(x -> strip(string(x)), snpdef28_1[:, 1]) # strip mining in the data "
   ]
  },
  {
   "cell_type": "markdown",
   "metadata": {},
   "source": [
    "We first need to find the position of the snp rs10412915.  If you wish to use another snp just change the rs number to another one that is found in the available genotype data, for example rs186913222."
   ]
  },
  {
   "cell_type": "code",
   "execution_count": 9,
   "metadata": {},
   "outputs": [
    {
     "data": {
      "text/plain": [
       "236074"
      ]
     },
     "execution_count": 9,
     "metadata": {},
     "output_type": "execute_result"
    }
   ],
   "source": [
    "ind_rs10412915 = findall(x -> x == \"rs10412915\", snpid)[1]"
   ]
  },
  {
   "cell_type": "markdown",
   "metadata": {},
   "source": [
    "We see that the causal snp, rs10412915, is the 236074th variant in the snp dataset."
   ]
  },
  {
   "cell_type": "markdown",
   "metadata": {},
   "source": [
    "Let's create a design matrix for the alternative model that includes sex and locus rs10412915."
   ]
  },
  {
   "cell_type": "code",
   "execution_count": 10,
   "metadata": {},
   "outputs": [
    {
     "data": {
      "text/html": [
       "<table class=\"data-frame\"><thead><tr><th></th><th>sex</th><th>locus</th></tr><tr><th></th><th>Float64</th><th>Float64</th></tr></thead><tbody><p>212 rows × 2 columns</p><tr><th>1</th><td>-1.0</td><td>2.0</td></tr><tr><th>2</th><td>-1.0</td><td>0.0</td></tr><tr><th>3</th><td>1.0</td><td>2.0</td></tr><tr><th>4</th><td>1.0</td><td>2.0</td></tr><tr><th>5</th><td>-1.0</td><td>1.0</td></tr><tr><th>6</th><td>-1.0</td><td>1.0</td></tr><tr><th>7</th><td>1.0</td><td>1.0</td></tr><tr><th>8</th><td>1.0</td><td>2.0</td></tr><tr><th>9</th><td>-1.0</td><td>1.0</td></tr><tr><th>10</th><td>1.0</td><td>1.0</td></tr><tr><th>11</th><td>-1.0</td><td>0.0</td></tr><tr><th>12</th><td>1.0</td><td>0.0</td></tr><tr><th>13</th><td>-1.0</td><td>0.0</td></tr><tr><th>14</th><td>-1.0</td><td>1.0</td></tr><tr><th>15</th><td>-1.0</td><td>2.0</td></tr><tr><th>16</th><td>1.0</td><td>1.0</td></tr><tr><th>17</th><td>-1.0</td><td>2.0</td></tr><tr><th>18</th><td>1.0</td><td>2.0</td></tr><tr><th>19</th><td>-1.0</td><td>2.0</td></tr><tr><th>20</th><td>1.0</td><td>1.0</td></tr><tr><th>21</th><td>-1.0</td><td>1.0</td></tr><tr><th>22</th><td>1.0</td><td>2.0</td></tr><tr><th>23</th><td>1.0</td><td>2.0</td></tr><tr><th>24</th><td>1.0</td><td>1.0</td></tr><tr><th>25</th><td>-1.0</td><td>2.0</td></tr><tr><th>26</th><td>1.0</td><td>2.0</td></tr><tr><th>27</th><td>-1.0</td><td>2.0</td></tr><tr><th>28</th><td>-1.0</td><td>1.0</td></tr><tr><th>29</th><td>1.0</td><td>1.0</td></tr><tr><th>30</th><td>1.0</td><td>0.0</td></tr><tr><th>&vellip;</th><td>&vellip;</td><td>&vellip;</td></tr></tbody></table>"
      ],
      "text/latex": [
       "\\begin{tabular}{r|cc}\n",
       "\t& sex & locus\\\\\n",
       "\t\\hline\n",
       "\t& Float64 & Float64\\\\\n",
       "\t\\hline\n",
       "\t1 & -1.0 & 2.0 \\\\\n",
       "\t2 & -1.0 & 0.0 \\\\\n",
       "\t3 & 1.0 & 2.0 \\\\\n",
       "\t4 & 1.0 & 2.0 \\\\\n",
       "\t5 & -1.0 & 1.0 \\\\\n",
       "\t6 & -1.0 & 1.0 \\\\\n",
       "\t7 & 1.0 & 1.0 \\\\\n",
       "\t8 & 1.0 & 2.0 \\\\\n",
       "\t9 & -1.0 & 1.0 \\\\\n",
       "\t10 & 1.0 & 1.0 \\\\\n",
       "\t11 & -1.0 & 0.0 \\\\\n",
       "\t12 & 1.0 & 0.0 \\\\\n",
       "\t13 & -1.0 & 0.0 \\\\\n",
       "\t14 & -1.0 & 1.0 \\\\\n",
       "\t15 & -1.0 & 2.0 \\\\\n",
       "\t16 & 1.0 & 1.0 \\\\\n",
       "\t17 & -1.0 & 2.0 \\\\\n",
       "\t18 & 1.0 & 2.0 \\\\\n",
       "\t19 & -1.0 & 2.0 \\\\\n",
       "\t20 & 1.0 & 1.0 \\\\\n",
       "\t21 & -1.0 & 1.0 \\\\\n",
       "\t22 & 1.0 & 2.0 \\\\\n",
       "\t23 & 1.0 & 2.0 \\\\\n",
       "\t24 & 1.0 & 1.0 \\\\\n",
       "\t25 & -1.0 & 2.0 \\\\\n",
       "\t26 & 1.0 & 2.0 \\\\\n",
       "\t27 & -1.0 & 2.0 \\\\\n",
       "\t28 & -1.0 & 1.0 \\\\\n",
       "\t29 & 1.0 & 1.0 \\\\\n",
       "\t30 & 1.0 & 0.0 \\\\\n",
       "\t$\\dots$ & $\\dots$ & $\\dots$ \\\\\n",
       "\\end{tabular}\n"
      ],
      "text/plain": [
       "212×2 DataFrame\n",
       "│ Row │ sex     │ locus   │\n",
       "│     │ \u001b[90mFloat64\u001b[39m │ \u001b[90mFloat64\u001b[39m │\n",
       "├─────┼─────────┼─────────┤\n",
       "│ 1   │ -1.0    │ 2.0     │\n",
       "│ 2   │ -1.0    │ 0.0     │\n",
       "│ 3   │ 1.0     │ 2.0     │\n",
       "│ 4   │ 1.0     │ 2.0     │\n",
       "│ 5   │ -1.0    │ 1.0     │\n",
       "│ 6   │ -1.0    │ 1.0     │\n",
       "│ 7   │ 1.0     │ 1.0     │\n",
       "│ 8   │ 1.0     │ 2.0     │\n",
       "│ 9   │ -1.0    │ 1.0     │\n",
       "│ 10  │ 1.0     │ 1.0     │\n",
       "⋮\n",
       "│ 202 │ 1.0     │ 1.0     │\n",
       "│ 203 │ 1.0     │ 2.0     │\n",
       "│ 204 │ -1.0    │ 1.0     │\n",
       "│ 205 │ 1.0     │ 2.0     │\n",
       "│ 206 │ 1.0     │ 1.0     │\n",
       "│ 207 │ 1.0     │ 1.0     │\n",
       "│ 208 │ 1.0     │ 1.0     │\n",
       "│ 209 │ 1.0     │ 1.0     │\n",
       "│ 210 │ 1.0     │ 1.0     │\n",
       "│ 211 │ 1.0     │ 2.0     │\n",
       "│ 212 │ 1.0     │ 0.0     │"
      ]
     },
     "execution_count": 10,
     "metadata": {},
     "output_type": "execute_result"
    }
   ],
   "source": [
    "locus = convert(Vector{Float64}, @view(snpdata[:, ind_rs10412915]))\n",
    "X = DataFrame(sex = sex, locus = locus)"
   ]
  },
  {
   "cell_type": "markdown",
   "metadata": {},
   "source": [
    "# Example 1) Multiple Independent Traits: User specified distributions\n",
    "\n",
    "Here I simulate two independent traits simultaneously, one from a Normal distribution and the other from a Poisson Distribution. \n",
    "We create the following 3 vectors to specify the simulation parameters of the two independent traits: \n",
    "\n",
    "&nbsp; &nbsp; `dist_type_vector` &nbsp; &nbsp; `link_type_vector` &nbsp; &nbsp; `mean_formulas`\n",
    "\n",
    "$$\n",
    "Y_{1b_{1}} ∼ N(\\mu_{1b}, 2),  \\mu_{1b} = 40 + 3(sex) - 1.5(locus)\\\\\n",
    "Y_{1b_{2}} ∼ Poisson(\\mu_{2b}),  \\mu_{2b} = 2 + 2(sex) - 1.5(locus)\\\\\n",
    "$$"
   ]
  },
  {
   "cell_type": "code",
   "execution_count": 11,
   "metadata": {},
   "outputs": [
    {
     "data": {
      "text/html": [
       "<table class=\"data-frame\"><thead><tr><th></th><th>trait1</th><th>trait2</th></tr><tr><th></th><th>Float64</th><th>Int64</th></tr></thead><tbody><p>212 rows × 2 columns</p><tr><th>1</th><td>37.4694</td><td>1</td></tr><tr><th>2</th><td>33.393</td><td>2</td></tr><tr><th>3</th><td>38.0221</td><td>1</td></tr><tr><th>4</th><td>36.3883</td><td>1</td></tr><tr><th>5</th><td>38.9576</td><td>0</td></tr><tr><th>6</th><td>44.3475</td><td>1</td></tr><tr><th>7</th><td>43.6313</td><td>16</td></tr><tr><th>8</th><td>38.9131</td><td>2</td></tr><tr><th>9</th><td>37.5093</td><td>0</td></tr><tr><th>10</th><td>39.4321</td><td>13</td></tr><tr><th>11</th><td>34.758</td><td>0</td></tr><tr><th>12</th><td>42.9228</td><td>54</td></tr><tr><th>13</th><td>37.5123</td><td>0</td></tr><tr><th>14</th><td>42.9111</td><td>0</td></tr><tr><th>15</th><td>30.6889</td><td>0</td></tr><tr><th>16</th><td>41.9404</td><td>9</td></tr><tr><th>17</th><td>32.9953</td><td>0</td></tr><tr><th>18</th><td>41.4789</td><td>2</td></tr><tr><th>19</th><td>34.2885</td><td>0</td></tr><tr><th>20</th><td>35.4863</td><td>14</td></tr><tr><th>21</th><td>41.7567</td><td>0</td></tr><tr><th>22</th><td>34.4131</td><td>0</td></tr><tr><th>23</th><td>44.422</td><td>5</td></tr><tr><th>24</th><td>37.0731</td><td>8</td></tr><tr><th>25</th><td>21.1546</td><td>0</td></tr><tr><th>26</th><td>39.7039</td><td>0</td></tr><tr><th>27</th><td>34.6039</td><td>0</td></tr><tr><th>28</th><td>38.5771</td><td>1</td></tr><tr><th>29</th><td>40.2594</td><td>13</td></tr><tr><th>30</th><td>40.5892</td><td>56</td></tr><tr><th>&vellip;</th><td>&vellip;</td><td>&vellip;</td></tr></tbody></table>"
      ],
      "text/latex": [
       "\\begin{tabular}{r|cc}\n",
       "\t& trait1 & trait2\\\\\n",
       "\t\\hline\n",
       "\t& Float64 & Int64\\\\\n",
       "\t\\hline\n",
       "\t1 & 37.4694 & 1 \\\\\n",
       "\t2 & 33.393 & 2 \\\\\n",
       "\t3 & 38.0221 & 1 \\\\\n",
       "\t4 & 36.3883 & 1 \\\\\n",
       "\t5 & 38.9576 & 0 \\\\\n",
       "\t6 & 44.3475 & 1 \\\\\n",
       "\t7 & 43.6313 & 16 \\\\\n",
       "\t8 & 38.9131 & 2 \\\\\n",
       "\t9 & 37.5093 & 0 \\\\\n",
       "\t10 & 39.4321 & 13 \\\\\n",
       "\t11 & 34.758 & 0 \\\\\n",
       "\t12 & 42.9228 & 54 \\\\\n",
       "\t13 & 37.5123 & 0 \\\\\n",
       "\t14 & 42.9111 & 0 \\\\\n",
       "\t15 & 30.6889 & 0 \\\\\n",
       "\t16 & 41.9404 & 9 \\\\\n",
       "\t17 & 32.9953 & 0 \\\\\n",
       "\t18 & 41.4789 & 2 \\\\\n",
       "\t19 & 34.2885 & 0 \\\\\n",
       "\t20 & 35.4863 & 14 \\\\\n",
       "\t21 & 41.7567 & 0 \\\\\n",
       "\t22 & 34.4131 & 0 \\\\\n",
       "\t23 & 44.422 & 5 \\\\\n",
       "\t24 & 37.0731 & 8 \\\\\n",
       "\t25 & 21.1546 & 0 \\\\\n",
       "\t26 & 39.7039 & 0 \\\\\n",
       "\t27 & 34.6039 & 0 \\\\\n",
       "\t28 & 38.5771 & 1 \\\\\n",
       "\t29 & 40.2594 & 13 \\\\\n",
       "\t30 & 40.5892 & 56 \\\\\n",
       "\t$\\dots$ & $\\dots$ & $\\dots$ \\\\\n",
       "\\end{tabular}\n"
      ],
      "text/plain": [
       "212×2 DataFrame\n",
       "│ Row │ trait1  │ trait2 │\n",
       "│     │ \u001b[90mFloat64\u001b[39m │ \u001b[90mInt64\u001b[39m  │\n",
       "├─────┼─────────┼────────┤\n",
       "│ 1   │ 37.4694 │ 1      │\n",
       "│ 2   │ 33.393  │ 2      │\n",
       "│ 3   │ 38.0221 │ 1      │\n",
       "│ 4   │ 36.3883 │ 1      │\n",
       "│ 5   │ 38.9576 │ 0      │\n",
       "│ 6   │ 44.3475 │ 1      │\n",
       "│ 7   │ 43.6313 │ 16     │\n",
       "│ 8   │ 38.9131 │ 2      │\n",
       "│ 9   │ 37.5093 │ 0      │\n",
       "│ 10  │ 39.4321 │ 13     │\n",
       "⋮\n",
       "│ 202 │ 46.4588 │ 16     │\n",
       "│ 203 │ 44.2464 │ 5      │\n",
       "│ 204 │ 36.2046 │ 1      │\n",
       "│ 205 │ 42.857  │ 1      │\n",
       "│ 206 │ 41.227  │ 20     │\n",
       "│ 207 │ 41.7132 │ 19     │\n",
       "│ 208 │ 48.94   │ 12     │\n",
       "│ 209 │ 44.9237 │ 15     │\n",
       "│ 210 │ 40.1704 │ 14     │\n",
       "│ 211 │ 40.9042 │ 4      │\n",
       "│ 212 │ 42.2071 │ 45     │"
      ]
     },
     "execution_count": 11,
     "metadata": {},
     "output_type": "execute_result"
    }
   ],
   "source": [
    "#for multiple glm traits from different distributions\n",
    "dist_type_vector = [NormalResponse(4), PoissonResponse()]\n",
    "link_type_vector = [IdentityLink(), LogLink()]\n",
    "\n",
    "mean_formulas = [\"40 + 3(sex) - 1.5(locus)\", \"2 + 2(sex) - 1.5(locus)\"]\n",
    "\n",
    "Multiple_GLM_traits_model_NOTIID = Multiple_GLMTraits(mean_formulas, X, dist_type_vector, link_type_vector)\n",
    "Simulated_GLM_trait_NOTIID = simulate(Multiple_GLM_traits_model_NOTIID)"
   ]
  },
  {
   "cell_type": "code",
   "execution_count": 12,
   "metadata": {},
   "outputs": [
    {
     "data": {
      "text/html": [
       "<table class=\"data-frame\"><thead><tr><th></th><th>variable</th><th>mean</th><th>std</th><th>min</th><th>q25</th><th>median</th><th>q75</th><th>max</th><th>eltype</th></tr><tr><th></th><th>Symbol</th><th>Float64</th><th>Float64</th><th>Real</th><th>Float64</th><th>Float64</th><th>Float64</th><th>Real</th><th>DataType</th></tr></thead><tbody><p>2 rows × 9 columns</p><tr><th>1</th><td>trait1</td><td>38.119</td><td>4.99078</td><td>21.1546</td><td>34.6485</td><td>38.5702</td><td>41.7241</td><td>50.9751</td><td>Float64</td></tr><tr><th>2</th><td>trait2</td><td>6.32075</td><td>12.1924</td><td>0</td><td>0.0</td><td>1.0</td><td>8.0</td><td>66</td><td>Int64</td></tr></tbody></table>"
      ],
      "text/latex": [
       "\\begin{tabular}{r|ccccccccc}\n",
       "\t& variable & mean & std & min & q25 & median & q75 & max & eltype\\\\\n",
       "\t\\hline\n",
       "\t& Symbol & Float64 & Float64 & Real & Float64 & Float64 & Float64 & Real & DataType\\\\\n",
       "\t\\hline\n",
       "\t1 & trait1 & 38.119 & 4.99078 & 21.1546 & 34.6485 & 38.5702 & 41.7241 & 50.9751 & Float64 \\\\\n",
       "\t2 & trait2 & 6.32075 & 12.1924 & 0 & 0.0 & 1.0 & 8.0 & 66 & Int64 \\\\\n",
       "\\end{tabular}\n"
      ],
      "text/plain": [
       "2×9 DataFrame. Omitted printing of 2 columns\n",
       "│ Row │ variable │ mean    │ std     │ min     │ q25     │ median  │ q75     │\n",
       "│     │ \u001b[90mSymbol\u001b[39m   │ \u001b[90mFloat64\u001b[39m │ \u001b[90mFloat64\u001b[39m │ \u001b[90mReal\u001b[39m    │ \u001b[90mFloat64\u001b[39m │ \u001b[90mFloat64\u001b[39m │ \u001b[90mFloat64\u001b[39m │\n",
       "├─────┼──────────┼─────────┼─────────┼─────────┼─────────┼─────────┼─────────┤\n",
       "│ 1   │ trait1   │ 38.119  │ 4.99078 │ 21.1546 │ 34.6485 │ 38.5702 │ 41.7241 │\n",
       "│ 2   │ trait2   │ 6.32075 │ 12.1924 │ 0       │ 0.0     │ 1.0     │ 8.0     │"
      ]
     },
     "execution_count": 12,
     "metadata": {},
     "output_type": "execute_result"
    }
   ],
   "source": [
    "describe(Simulated_GLM_trait_NOTIID, stats = [:mean, :std, :min, :q25, :median, :q75, :max, :eltype])"
   ]
  },
  {
   "cell_type": "markdown",
   "metadata": {},
   "source": [
    "See the instructions at the end of this jupyter notebook if you want to save your results to a file."
   ]
  },
  {
   "cell_type": "markdown",
   "metadata": {},
   "source": [
    "# Example 2: Linear Mixed Model (with additive genetic variance component).\n",
    "Note that the residual covariance among two relatives is the additive genetic variance times twice the kinship coefficient. Examples 2a and 2c simulate single traits, while Example 2b simulates two correlated traits.\n",
    "\n",
    "\n",
    "We make note that the user can extend the model in Example 2b to include more than 2 variance components using the `@vc` macro.\n"
   ]
  },
  {
   "cell_type": "markdown",
   "metadata": {},
   "source": [
    "## The Variance Covariance Matrix\n",
    "### Single Trait \n",
    "Recall : $E(\\mathbf{GRM}) = \\Phi$ and $\\mathbf{V} = 2\\mathbf{V_a} \\mathbf{\\Phi} + \\mathbf{V_e} \\mathbf{I}$\n",
    "<br>\n",
    "We will use the same values of $\\mathbf{GRM}$, $V_a$, and $V_e$ for the mixed effect example (2) and for the rare variant example (3)."
   ]
  },
  {
   "cell_type": "markdown",
   "metadata": {},
   "source": [
    "We use the SnpArrays.jl package to compute the Genetic Relationship Matrix (GRM)."
   ]
  },
  {
   "cell_type": "code",
   "execution_count": 13,
   "metadata": {},
   "outputs": [],
   "source": [
    "GRM = grm(snpdata, method = :GRM)\n",
    "V_A = [4 1; 1 4]\n",
    "V_E = [2.0 0.0; 0.0 2.0]\n",
    "I_n = Matrix{Float64}(I, size(GRM));"
   ]
  },
  {
   "cell_type": "markdown",
   "metadata": {},
   "source": [
    "We simulate a Normal Trait controlling for family structure, location = $μ_{1a} and scale = 4* 2GRM + 2I$. \n",
    "$$\n",
    "Y_{2a} ∼ N(μ_{1}, 4* 2GRM + 2I)$$"
   ]
  },
  {
   "cell_type": "code",
   "execution_count": 14,
   "metadata": {},
   "outputs": [
    {
     "data": {
      "text/plain": [
       "1-element Array{String,1}:\n",
       " \"40 + 3(sex) - 1.5(locus)\""
      ]
     },
     "execution_count": 14,
     "metadata": {},
     "output_type": "execute_result"
    }
   ],
   "source": [
    "mean_formula = [\"40 + 3(sex) - 1.5(locus)\"]"
   ]
  },
  {
   "cell_type": "code",
   "execution_count": 15,
   "metadata": {},
   "outputs": [
    {
     "data": {
      "text/html": [
       "<table class=\"data-frame\"><thead><tr><th></th><th>trait1</th></tr><tr><th></th><th>Float64</th></tr></thead><tbody><p>212 rows × 1 columns</p><tr><th>1</th><td>35.5325</td></tr><tr><th>2</th><td>34.2255</td></tr><tr><th>3</th><td>39.4903</td></tr><tr><th>4</th><td>36.9414</td></tr><tr><th>5</th><td>37.5817</td></tr><tr><th>6</th><td>34.4615</td></tr><tr><th>7</th><td>46.4516</td></tr><tr><th>8</th><td>42.7973</td></tr><tr><th>9</th><td>38.1481</td></tr><tr><th>10</th><td>42.2538</td></tr><tr><th>11</th><td>42.6875</td></tr><tr><th>12</th><td>46.0727</td></tr><tr><th>13</th><td>38.9193</td></tr><tr><th>14</th><td>38.6135</td></tr><tr><th>15</th><td>33.2965</td></tr><tr><th>16</th><td>39.2512</td></tr><tr><th>17</th><td>31.7434</td></tr><tr><th>18</th><td>39.1084</td></tr><tr><th>19</th><td>34.1413</td></tr><tr><th>20</th><td>40.827</td></tr><tr><th>21</th><td>33.7496</td></tr><tr><th>22</th><td>39.0564</td></tr><tr><th>23</th><td>38.7783</td></tr><tr><th>24</th><td>42.6782</td></tr><tr><th>25</th><td>33.0677</td></tr><tr><th>26</th><td>39.2319</td></tr><tr><th>27</th><td>33.1389</td></tr><tr><th>28</th><td>37.3198</td></tr><tr><th>29</th><td>39.3349</td></tr><tr><th>30</th><td>38.601</td></tr><tr><th>&vellip;</th><td>&vellip;</td></tr></tbody></table>"
      ],
      "text/latex": [
       "\\begin{tabular}{r|c}\n",
       "\t& trait1\\\\\n",
       "\t\\hline\n",
       "\t& Float64\\\\\n",
       "\t\\hline\n",
       "\t1 & 35.5325 \\\\\n",
       "\t2 & 34.2255 \\\\\n",
       "\t3 & 39.4903 \\\\\n",
       "\t4 & 36.9414 \\\\\n",
       "\t5 & 37.5817 \\\\\n",
       "\t6 & 34.4615 \\\\\n",
       "\t7 & 46.4516 \\\\\n",
       "\t8 & 42.7973 \\\\\n",
       "\t9 & 38.1481 \\\\\n",
       "\t10 & 42.2538 \\\\\n",
       "\t11 & 42.6875 \\\\\n",
       "\t12 & 46.0727 \\\\\n",
       "\t13 & 38.9193 \\\\\n",
       "\t14 & 38.6135 \\\\\n",
       "\t15 & 33.2965 \\\\\n",
       "\t16 & 39.2512 \\\\\n",
       "\t17 & 31.7434 \\\\\n",
       "\t18 & 39.1084 \\\\\n",
       "\t19 & 34.1413 \\\\\n",
       "\t20 & 40.827 \\\\\n",
       "\t21 & 33.7496 \\\\\n",
       "\t22 & 39.0564 \\\\\n",
       "\t23 & 38.7783 \\\\\n",
       "\t24 & 42.6782 \\\\\n",
       "\t25 & 33.0677 \\\\\n",
       "\t26 & 39.2319 \\\\\n",
       "\t27 & 33.1389 \\\\\n",
       "\t28 & 37.3198 \\\\\n",
       "\t29 & 39.3349 \\\\\n",
       "\t30 & 38.601 \\\\\n",
       "\t$\\dots$ & $\\dots$ \\\\\n",
       "\\end{tabular}\n"
      ],
      "text/plain": [
       "212×1 DataFrame\n",
       "│ Row │ trait1  │\n",
       "│     │ \u001b[90mFloat64\u001b[39m │\n",
       "├─────┼─────────┤\n",
       "│ 1   │ 35.5325 │\n",
       "│ 2   │ 34.2255 │\n",
       "│ 3   │ 39.4903 │\n",
       "│ 4   │ 36.9414 │\n",
       "│ 5   │ 37.5817 │\n",
       "│ 6   │ 34.4615 │\n",
       "│ 7   │ 46.4516 │\n",
       "│ 8   │ 42.7973 │\n",
       "│ 9   │ 38.1481 │\n",
       "│ 10  │ 42.2538 │\n",
       "⋮\n",
       "│ 202 │ 41.1046 │\n",
       "│ 203 │ 37.6598 │\n",
       "│ 204 │ 34.5186 │\n",
       "│ 205 │ 38.4751 │\n",
       "│ 206 │ 42.7914 │\n",
       "│ 207 │ 44.588  │\n",
       "│ 208 │ 43.743  │\n",
       "│ 209 │ 36.3993 │\n",
       "│ 210 │ 40.3492 │\n",
       "│ 211 │ 39.7359 │\n",
       "│ 212 │ 48.297  │"
      ]
     },
     "execution_count": 15,
     "metadata": {},
     "output_type": "execute_result"
    }
   ],
   "source": [
    "Ex2a_model = LMMTrait(mean_formula, X, 4*(2*GRM) + 2*(I_n))\n",
    "trait_2a = simulate(Ex2a_model)"
   ]
  },
  {
   "cell_type": "code",
   "execution_count": 16,
   "metadata": {},
   "outputs": [
    {
     "data": {
      "text/html": [
       "<table class=\"data-frame\"><thead><tr><th></th><th>variable</th><th>mean</th><th>std</th><th>min</th><th>q25</th><th>median</th><th>q75</th><th>max</th><th>eltype</th></tr><tr><th></th><th>Symbol</th><th>Float64</th><th>Float64</th><th>Float64</th><th>Float64</th><th>Float64</th><th>Float64</th><th>Float64</th><th>DataType</th></tr></thead><tbody><p>1 rows × 9 columns</p><tr><th>1</th><td>trait1</td><td>38.25</td><td>3.95697</td><td>27.8593</td><td>35.1312</td><td>38.5002</td><td>41.1097</td><td>48.297</td><td>Float64</td></tr></tbody></table>"
      ],
      "text/latex": [
       "\\begin{tabular}{r|ccccccccc}\n",
       "\t& variable & mean & std & min & q25 & median & q75 & max & eltype\\\\\n",
       "\t\\hline\n",
       "\t& Symbol & Float64 & Float64 & Float64 & Float64 & Float64 & Float64 & Float64 & DataType\\\\\n",
       "\t\\hline\n",
       "\t1 & trait1 & 38.25 & 3.95697 & 27.8593 & 35.1312 & 38.5002 & 41.1097 & 48.297 & Float64 \\\\\n",
       "\\end{tabular}\n"
      ],
      "text/plain": [
       "1×9 DataFrame. Omitted printing of 2 columns\n",
       "│ Row │ variable │ mean    │ std     │ min     │ q25     │ median  │ q75     │\n",
       "│     │ \u001b[90mSymbol\u001b[39m   │ \u001b[90mFloat64\u001b[39m │ \u001b[90mFloat64\u001b[39m │ \u001b[90mFloat64\u001b[39m │ \u001b[90mFloat64\u001b[39m │ \u001b[90mFloat64\u001b[39m │ \u001b[90mFloat64\u001b[39m │\n",
       "├─────┼──────────┼─────────┼─────────┼─────────┼─────────┼─────────┼─────────┤\n",
       "│ 1   │ trait1   │ 38.25   │ 3.95697 │ 27.8593 │ 35.1312 │ 38.5002 │ 41.1097 │"
      ]
     },
     "execution_count": 16,
     "metadata": {},
     "output_type": "execute_result"
    }
   ],
   "source": [
    "describe(trait_2a, stats = [:mean, :std, :min, :q25, :median, :q75, :max, :eltype])"
   ]
  },
  {
   "cell_type": "markdown",
   "metadata": {},
   "source": [
    "## Example 2b) Simulating Two Correlated Traits with Mendel Option 28e paramaters\n",
    "\n",
    "\n",
    "### (b) Multiple Correlated Traits: (Mendel Example 28e Simulation)\n",
    "We simulate two correlated Normal Traits controlling for family structure, location = $μ_{1a}$ and scale = $4* 2GRM + 2I$. \n",
    "$$\n",
    "Y_{2b} ∼ N(μ, \\Sigma) ,  \\Sigma  = V_a \\otimes (2GRM) + V_e \\otimes I_n\n",
    "$$\n"
   ]
  },
  {
   "cell_type": "markdown",
   "metadata": {},
   "source": [
    "### Multiple Correlated Traits Variance Components\n",
    "\n",
    "The corresponding variance covariance matrix as specified Mendel Option 28e, $\\mathbf{Σ}$, is generated here: To create a trait different variance components change $\\Sigma  = V_a \\otimes (2GRM) + V_e \\otimes I$. We create the variance component object `variance_formula` below, to simulate our traits in example 2b.\n",
    "\n",
    "&nbsp; $FYI$: While this tutorial only uses 2 variance components, we make note that the `@vc` macro is designed to handle as many variance components as needed. As long as each Variance Component is specified correctly, we can create a `VarianceComponent` Julia object for Trait Simulation:\n",
    "\n",
    "&nbsp; \n",
    "ex)\n",
    "```{julia}\n",
    "multiple_variance_formula = @vc V_A ⊗ GRM + V_E ⊗ I_n + V_B ⊗ I_n + V_C ⊗ I_n;\n",
    "```\n"
   ]
  },
  {
   "cell_type": "code",
   "execution_count": 17,
   "metadata": {},
   "outputs": [],
   "source": [
    "# @vc is a macro that creates a 'VarianceComponent' Type for simulation\n",
    "variance_formula = @vc V_A ⊗ GRM + V_E ⊗ I_n;"
   ]
  },
  {
   "cell_type": "markdown",
   "metadata": {},
   "source": [
    "These are the formulas for the fixed effects, as specified by Mendel Option 28e."
   ]
  },
  {
   "cell_type": "code",
   "execution_count": 18,
   "metadata": {},
   "outputs": [
    {
     "data": {
      "text/plain": [
       "2-element Array{String,1}:\n",
       " \"40 + 3(sex) - 1.5(locus)\"\n",
       " \"20 + 2(sex) - 1.5(locus)\""
      ]
     },
     "execution_count": 18,
     "metadata": {},
     "output_type": "execute_result"
    }
   ],
   "source": [
    "mean_formulas = [\"40 + 3(sex) - 1.5(locus)\", \"20 + 2(sex) - 1.5(locus)\"]"
   ]
  },
  {
   "cell_type": "code",
   "execution_count": 19,
   "metadata": {},
   "outputs": [
    {
     "data": {
      "text/html": [
       "<table class=\"data-frame\"><thead><tr><th></th><th>trait1</th><th>trait2</th></tr><tr><th></th><th>Float64</th><th>Float64</th></tr></thead><tbody><p>212 rows × 2 columns</p><tr><th>1</th><td>37.3789</td><td>15.123</td></tr><tr><th>2</th><td>39.3743</td><td>16.8079</td></tr><tr><th>3</th><td>36.4352</td><td>14.5049</td></tr><tr><th>4</th><td>38.0227</td><td>17.2941</td></tr><tr><th>5</th><td>39.2585</td><td>20.0591</td></tr><tr><th>6</th><td>34.7246</td><td>9.5668</td></tr><tr><th>7</th><td>40.4575</td><td>12.5429</td></tr><tr><th>8</th><td>43.034</td><td>17.9209</td></tr><tr><th>9</th><td>34.3649</td><td>8.61429</td></tr><tr><th>10</th><td>41.9882</td><td>18.1775</td></tr><tr><th>11</th><td>31.6994</td><td>10.0764</td></tr><tr><th>12</th><td>44.3943</td><td>13.9713</td></tr><tr><th>13</th><td>28.8591</td><td>5.97027</td></tr><tr><th>14</th><td>32.3763</td><td>14.0401</td></tr><tr><th>15</th><td>34.0289</td><td>13.8175</td></tr><tr><th>16</th><td>38.315</td><td>16.4674</td></tr><tr><th>17</th><td>31.8621</td><td>10.8496</td></tr><tr><th>18</th><td>36.823</td><td>9.77965</td></tr><tr><th>19</th><td>32.5537</td><td>10.1662</td></tr><tr><th>20</th><td>38.4115</td><td>16.6048</td></tr><tr><th>21</th><td>33.1935</td><td>13.7134</td></tr><tr><th>22</th><td>40.6402</td><td>15.6508</td></tr><tr><th>23</th><td>39.3912</td><td>15.7041</td></tr><tr><th>24</th><td>35.5216</td><td>15.4705</td></tr><tr><th>25</th><td>35.8399</td><td>13.436</td></tr><tr><th>26</th><td>44.1748</td><td>14.2446</td></tr><tr><th>27</th><td>30.9294</td><td>12.5061</td></tr><tr><th>28</th><td>34.4105</td><td>15.7231</td></tr><tr><th>29</th><td>41.8104</td><td>17.6638</td></tr><tr><th>30</th><td>43.4158</td><td>16.0273</td></tr><tr><th>&vellip;</th><td>&vellip;</td><td>&vellip;</td></tr></tbody></table>"
      ],
      "text/latex": [
       "\\begin{tabular}{r|cc}\n",
       "\t& trait1 & trait2\\\\\n",
       "\t\\hline\n",
       "\t& Float64 & Float64\\\\\n",
       "\t\\hline\n",
       "\t1 & 37.3789 & 15.123 \\\\\n",
       "\t2 & 39.3743 & 16.8079 \\\\\n",
       "\t3 & 36.4352 & 14.5049 \\\\\n",
       "\t4 & 38.0227 & 17.2941 \\\\\n",
       "\t5 & 39.2585 & 20.0591 \\\\\n",
       "\t6 & 34.7246 & 9.5668 \\\\\n",
       "\t7 & 40.4575 & 12.5429 \\\\\n",
       "\t8 & 43.034 & 17.9209 \\\\\n",
       "\t9 & 34.3649 & 8.61429 \\\\\n",
       "\t10 & 41.9882 & 18.1775 \\\\\n",
       "\t11 & 31.6994 & 10.0764 \\\\\n",
       "\t12 & 44.3943 & 13.9713 \\\\\n",
       "\t13 & 28.8591 & 5.97027 \\\\\n",
       "\t14 & 32.3763 & 14.0401 \\\\\n",
       "\t15 & 34.0289 & 13.8175 \\\\\n",
       "\t16 & 38.315 & 16.4674 \\\\\n",
       "\t17 & 31.8621 & 10.8496 \\\\\n",
       "\t18 & 36.823 & 9.77965 \\\\\n",
       "\t19 & 32.5537 & 10.1662 \\\\\n",
       "\t20 & 38.4115 & 16.6048 \\\\\n",
       "\t21 & 33.1935 & 13.7134 \\\\\n",
       "\t22 & 40.6402 & 15.6508 \\\\\n",
       "\t23 & 39.3912 & 15.7041 \\\\\n",
       "\t24 & 35.5216 & 15.4705 \\\\\n",
       "\t25 & 35.8399 & 13.436 \\\\\n",
       "\t26 & 44.1748 & 14.2446 \\\\\n",
       "\t27 & 30.9294 & 12.5061 \\\\\n",
       "\t28 & 34.4105 & 15.7231 \\\\\n",
       "\t29 & 41.8104 & 17.6638 \\\\\n",
       "\t30 & 43.4158 & 16.0273 \\\\\n",
       "\t$\\dots$ & $\\dots$ & $\\dots$ \\\\\n",
       "\\end{tabular}\n"
      ],
      "text/plain": [
       "212×2 DataFrame\n",
       "│ Row │ trait1  │ trait2  │\n",
       "│     │ \u001b[90mFloat64\u001b[39m │ \u001b[90mFloat64\u001b[39m │\n",
       "├─────┼─────────┼─────────┤\n",
       "│ 1   │ 37.3789 │ 15.123  │\n",
       "│ 2   │ 39.3743 │ 16.8079 │\n",
       "│ 3   │ 36.4352 │ 14.5049 │\n",
       "│ 4   │ 38.0227 │ 17.2941 │\n",
       "│ 5   │ 39.2585 │ 20.0591 │\n",
       "│ 6   │ 34.7246 │ 9.5668  │\n",
       "│ 7   │ 40.4575 │ 12.5429 │\n",
       "│ 8   │ 43.034  │ 17.9209 │\n",
       "│ 9   │ 34.3649 │ 8.61429 │\n",
       "│ 10  │ 41.9882 │ 18.1775 │\n",
       "⋮\n",
       "│ 202 │ 44.6087 │ 19.6939 │\n",
       "│ 203 │ 39.1381 │ 19.3138 │\n",
       "│ 204 │ 40.4861 │ 15.3146 │\n",
       "│ 205 │ 39.0292 │ 17.0781 │\n",
       "│ 206 │ 39.5202 │ 18.817  │\n",
       "│ 207 │ 40.2138 │ 15.3523 │\n",
       "│ 208 │ 39.0989 │ 15.4786 │\n",
       "│ 209 │ 40.5624 │ 18.1588 │\n",
       "│ 210 │ 44.4049 │ 22.552  │\n",
       "│ 211 │ 32.5684 │ 15.3426 │\n",
       "│ 212 │ 41.2315 │ 15.36   │"
      ]
     },
     "execution_count": 19,
     "metadata": {},
     "output_type": "execute_result"
    }
   ],
   "source": [
    "Ex2b_model = LMMTrait(mean_formulas, X, variance_formula)\n",
    "trait_2b = simulate(Ex2b_model)"
   ]
  },
  {
   "cell_type": "markdown",
   "metadata": {},
   "source": [
    "### Summary Statistics of Our Simulated Traits"
   ]
  },
  {
   "cell_type": "code",
   "execution_count": 20,
   "metadata": {},
   "outputs": [
    {
     "data": {
      "text/html": [
       "<table class=\"data-frame\"><thead><tr><th></th><th>variable</th><th>mean</th><th>std</th><th>min</th><th>max</th><th>eltype</th></tr><tr><th></th><th>Symbol</th><th>Float64</th><th>Float64</th><th>Float64</th><th>Float64</th><th>DataType</th></tr></thead><tbody><p>2 rows × 6 columns</p><tr><th>1</th><td>trait1</td><td>38.1871</td><td>4.51019</td><td>28.8591</td><td>52.6095</td><td>Float64</td></tr><tr><th>2</th><td>trait2</td><td>18.1381</td><td>5.0916</td><td>5.97027</td><td>33.7165</td><td>Float64</td></tr></tbody></table>"
      ],
      "text/latex": [
       "\\begin{tabular}{r|cccccc}\n",
       "\t& variable & mean & std & min & max & eltype\\\\\n",
       "\t\\hline\n",
       "\t& Symbol & Float64 & Float64 & Float64 & Float64 & DataType\\\\\n",
       "\t\\hline\n",
       "\t1 & trait1 & 38.1871 & 4.51019 & 28.8591 & 52.6095 & Float64 \\\\\n",
       "\t2 & trait2 & 18.1381 & 5.0916 & 5.97027 & 33.7165 & Float64 \\\\\n",
       "\\end{tabular}\n"
      ],
      "text/plain": [
       "2×6 DataFrame\n",
       "│ Row │ variable │ mean    │ std     │ min     │ max     │ eltype   │\n",
       "│     │ \u001b[90mSymbol\u001b[39m   │ \u001b[90mFloat64\u001b[39m │ \u001b[90mFloat64\u001b[39m │ \u001b[90mFloat64\u001b[39m │ \u001b[90mFloat64\u001b[39m │ \u001b[90mDataType\u001b[39m │\n",
       "├─────┼──────────┼─────────┼─────────┼─────────┼─────────┼──────────┤\n",
       "│ 1   │ trait1   │ 38.1871 │ 4.51019 │ 28.8591 │ 52.6095 │ Float64  │\n",
       "│ 2   │ trait2   │ 18.1381 │ 5.0916  │ 5.97027 │ 33.7165 │ Float64  │"
      ]
     },
     "execution_count": 20,
     "metadata": {},
     "output_type": "execute_result"
    }
   ],
   "source": [
    "describe(trait_2b, stats = [:mean, :std, :min, :max, :eltype])"
   ]
  },
  {
   "cell_type": "markdown",
   "metadata": {},
   "source": [
    "### Summary Statistics of the Original Mendel 28e dataset Traits:\n",
    "\n",
    "Note we want to see similar values from our simulated traits!"
   ]
  },
  {
   "cell_type": "code",
   "execution_count": 21,
   "metadata": {},
   "outputs": [
    {
     "data": {
      "text/html": [
       "<table class=\"data-frame\"><thead><tr><th></th><th>variable</th><th>mean</th><th>std</th><th>min</th><th>max</th><th>eltype</th></tr><tr><th></th><th>Symbol</th><th>Float64</th><th>Float64</th><th>Float64</th><th>Float64</th><th>DataType</th></tr></thead><tbody><p>2 rows × 6 columns</p><tr><th>1</th><td>Trait1</td><td>37.8602</td><td>4.04887</td><td>29.2403</td><td>47.8619</td><td>Any</td></tr><tr><th>2</th><td>Trait2</td><td>18.472</td><td>3.37633</td><td>9.2421</td><td>27.5554</td><td>Any</td></tr></tbody></table>"
      ],
      "text/latex": [
       "\\begin{tabular}{r|cccccc}\n",
       "\t& variable & mean & std & min & max & eltype\\\\\n",
       "\t\\hline\n",
       "\t& Symbol & Float64 & Float64 & Float64 & Float64 & DataType\\\\\n",
       "\t\\hline\n",
       "\t1 & Trait1 & 37.8602 & 4.04887 & 29.2403 & 47.8619 & Any \\\\\n",
       "\t2 & Trait2 & 18.472 & 3.37633 & 9.2421 & 27.5554 & Any \\\\\n",
       "\\end{tabular}\n"
      ],
      "text/plain": [
       "2×6 DataFrame\n",
       "│ Row │ variable │ mean    │ std     │ min     │ max     │ eltype   │\n",
       "│     │ \u001b[90mSymbol\u001b[39m   │ \u001b[90mFloat64\u001b[39m │ \u001b[90mFloat64\u001b[39m │ \u001b[90mFloat64\u001b[39m │ \u001b[90mFloat64\u001b[39m │ \u001b[90mDataType\u001b[39m │\n",
       "├─────┼──────────┼─────────┼─────────┼─────────┼─────────┼──────────┤\n",
       "│ 1   │ Trait1   │ 37.8602 │ 4.04887 │ 29.2403 │ 47.8619 │ Any      │\n",
       "│ 2   │ Trait2   │ 18.472  │ 3.37633 │ 9.2421  │ 27.5554 │ Any      │"
      ]
     },
     "execution_count": 21,
     "metadata": {},
     "output_type": "execute_result"
    }
   ],
   "source": [
    "describe(traits_original, stats = [:mean, :std, :min, :max, :eltype])"
   ]
  },
  {
   "cell_type": "markdown",
   "metadata": {},
   "source": [
    "## Example 2c: Rare Variant Linear Mixed Model with effect sizes as a function of the allele frequencies. \n",
    "\n",
    "In this example we first subset only the rare SNP's with minor allele frequency greater than 0.002 but less than 0.02, then we simulate traits on 20 of the rare SNP's as fixed effects. Here are the 20 SNP's that will be used for trait simulation in this example.  \n",
    "\n",
    "For this demo, the indexing `snpid[rare_index][1:2:40]` allows us to subset every other rare snp in the first 40 SNPs, to get our list of 20 rare SNPs. Change the range and number of SNPs to simulate with more or less SNPs and from different regions of the genome. The number 20 is arbitrary and you can use more or less than 20 if you desire by changing the final number. You can change the spacing of the snps by changing the second number. \n",
    "For example, `snpid[rare_index][1:5:500]` would give you 100 snps.\n",
    "\n",
    "\n",
    "In practice rare SNPs have smaller minor allele frequencies but we are limited in this tutorial by the number of individuals in the data set. We use generated effect sizes to evaluate $\\mu_{rare20}$ <br>\n",
    "\n",
    "### (c) Single Trait: \n",
    "$$\n",
    "Y_{2c} ∼ N(\\mu_{rare20}, 4* 2GRM + 2I)\n",
    "$$"
   ]
  },
  {
   "cell_type": "code",
   "execution_count": 22,
   "metadata": {},
   "outputs": [
    {
     "data": {
      "text/plain": [
       "212×80493 Array{UInt8,2}:\n",
       " 0x03  0x00  0x00  0x00  0x03  0x03  …  0x00  0x00  0x00  0x00  0x00  0x00\n",
       " 0x03  0x00  0x00  0x00  0x03  0x03     0x00  0x00  0x00  0x00  0x00  0x00\n",
       " 0x03  0x00  0x00  0x00  0x03  0x03     0x02  0x02  0x00  0x00  0x00  0x00\n",
       " 0x03  0x00  0x00  0x00  0x03  0x03     0x00  0x00  0x00  0x00  0x00  0x00\n",
       " 0x03  0x00  0x00  0x00  0x03  0x03     0x00  0x00  0x00  0x00  0x00  0x00\n",
       " 0x03  0x00  0x00  0x00  0x03  0x03  …  0x00  0x00  0x00  0x00  0x00  0x00\n",
       " 0x03  0x00  0x00  0x00  0x03  0x03     0x00  0x00  0x00  0x00  0x00  0x00\n",
       " 0x03  0x00  0x00  0x00  0x03  0x03     0x00  0x00  0x00  0x00  0x00  0x00\n",
       " 0x03  0x00  0x00  0x00  0x03  0x03     0x00  0x00  0x00  0x00  0x00  0x00\n",
       " 0x03  0x00  0x00  0x00  0x03  0x03     0x00  0x00  0x00  0x00  0x00  0x00\n",
       " 0x03  0x00  0x00  0x00  0x03  0x03  …  0x00  0x00  0x00  0x00  0x00  0x00\n",
       " 0x03  0x00  0x00  0x00  0x03  0x03     0x00  0x00  0x00  0x00  0x00  0x00\n",
       " 0x03  0x00  0x00  0x00  0x03  0x03     0x00  0x00  0x00  0x00  0x00  0x00\n",
       "    ⋮                             ⋮  ⋱                       ⋮            \n",
       " 0x03  0x00  0x00  0x00  0x03  0x03  …  0x00  0x00  0x00  0x00  0x00  0x00\n",
       " 0x03  0x00  0x00  0x00  0x03  0x03     0x00  0x00  0x00  0x00  0x00  0x00\n",
       " 0x03  0x00  0x00  0x00  0x03  0x03     0x00  0x00  0x00  0x00  0x00  0x00\n",
       " 0x03  0x00  0x00  0x00  0x03  0x03     0x00  0x00  0x00  0x00  0x00  0x00\n",
       " 0x03  0x00  0x00  0x00  0x03  0x03     0x00  0x00  0x00  0x00  0x00  0x00\n",
       " 0x03  0x00  0x00  0x00  0x03  0x03  …  0x00  0x00  0x00  0x00  0x00  0x00\n",
       " 0x03  0x00  0x00  0x00  0x03  0x03     0x00  0x00  0x00  0x00  0x00  0x00\n",
       " 0x03  0x00  0x00  0x00  0x03  0x02     0x00  0x00  0x00  0x00  0x00  0x00\n",
       " 0x03  0x00  0x00  0x00  0x03  0x03     0x00  0x00  0x00  0x00  0x00  0x00\n",
       " 0x03  0x00  0x00  0x00  0x03  0x03     0x00  0x00  0x00  0x00  0x00  0x00\n",
       " 0x03  0x00  0x00  0x00  0x03  0x03  …  0x00  0x00  0x00  0x00  0x00  0x00\n",
       " 0x03  0x00  0x00  0x00  0x03  0x03     0x00  0x00  0x00  0x00  0x00  0x00"
      ]
     },
     "execution_count": 22,
     "metadata": {},
     "output_type": "execute_result"
    }
   ],
   "source": [
    "# filter out rare SNPS, get a subset of uncommon SNPs with 0.002 < MAF ≤ 0.02\n",
    "minor_allele_frequency = maf(snpdata)\n",
    "rare_index = (0.002 .< minor_allele_frequency .≤ 0.02)\n",
    "data_rare = snpdata[:, rare_index]"
   ]
  },
  {
   "cell_type": "code",
   "execution_count": 23,
   "metadata": {},
   "outputs": [
    {
     "data": {
      "text/plain": [
       "20-element Array{Float64,1}:\n",
       " 0.01650943396226412  \n",
       " 0.014150943396226415 \n",
       " 0.009433962264150941 \n",
       " 0.018867924528301886 \n",
       " 0.009433962264150941 \n",
       " 0.004716981132075526 \n",
       " 0.007075471698113208 \n",
       " 0.009433962264150941 \n",
       " 0.007075471698113178 \n",
       " 0.002358490566037763 \n",
       " 0.014150943396226415 \n",
       " 0.0047169811320754715\n",
       " 0.002358490566037763 \n",
       " 0.004716981132075526 \n",
       " 0.018867924528301886 \n",
       " 0.002358490566037763 \n",
       " 0.002358490566037763 \n",
       " 0.0023584905660377358\n",
       " 0.018867924528301886 \n",
       " 0.004716981132075526 "
      ]
     },
     "execution_count": 23,
     "metadata": {},
     "output_type": "execute_result"
    }
   ],
   "source": [
    "maf_20_rare_snps = minor_allele_frequency[rare_index][1:2:40]"
   ]
  },
  {
   "cell_type": "code",
   "execution_count": 24,
   "metadata": {},
   "outputs": [
    {
     "data": {
      "text/plain": [
       "20-element Array{SubString{String},1}:\n",
       " \"rs3020701\"  \n",
       " \"rs181646587\"\n",
       " \"rs182902214\"\n",
       " \"rs184527030\"\n",
       " \"rs10409990\" \n",
       " \"rs185166611\"\n",
       " \"rs181637538\"\n",
       " \"rs186213888\"\n",
       " \"rs184010370\"\n",
       " \"rs11667161\" \n",
       " \"rs188819713\"\n",
       " \"rs182378235\"\n",
       " \"rs146361744\"\n",
       " \"rs190575937\"\n",
       " \"rs149949827\"\n",
       " \"rs117671630\"\n",
       " \"rs149171388\"\n",
       " \"rs188520640\"\n",
       " \"rs142722885\"\n",
       " \"rs146938393\""
      ]
     },
     "execution_count": 24,
     "metadata": {},
     "output_type": "execute_result"
    }
   ],
   "source": [
    "rare_snps_for_simulation = snpid[rare_index][1:2:40]"
   ]
  },
  {
   "cell_type": "code",
   "execution_count": 25,
   "metadata": {},
   "outputs": [
    {
     "data": {
      "text/html": [
       "<table class=\"data-frame\"><thead><tr><th></th><th>rs3020701</th><th>rs181646587</th><th>rs182902214</th><th>rs184527030</th><th>rs10409990</th><th>rs185166611</th><th>rs181637538</th><th>rs186213888</th><th>rs184010370</th><th>rs11667161</th><th>rs188819713</th><th>rs182378235</th><th>rs146361744</th><th>rs190575937</th><th>rs149949827</th><th>rs117671630</th><th>rs149171388</th><th>rs188520640</th><th>rs142722885</th><th>rs146938393</th></tr><tr><th></th><th>Float64</th><th>Float64</th><th>Float64</th><th>Float64</th><th>Float64</th><th>Float64</th><th>Float64</th><th>Float64</th><th>Float64</th><th>Float64</th><th>Float64</th><th>Float64</th><th>Float64</th><th>Float64</th><th>Float64</th><th>Float64</th><th>Float64</th><th>Float64</th><th>Float64</th><th>Float64</th></tr></thead><tbody><p>212 rows × 20 columns</p><tr><th>1</th><td>3.0</td><td>0.0</td><td>3.0</td><td>0.0</td><td>3.0</td><td>3.0</td><td>0.0</td><td>3.0</td><td>3.0</td><td>3.0</td><td>0.0</td><td>0.0</td><td>3.0</td><td>3.0</td><td>0.0</td><td>3.0</td><td>3.0</td><td>0.0</td><td>0.0</td><td>3.0</td></tr><tr><th>2</th><td>3.0</td><td>0.0</td><td>3.0</td><td>0.0</td><td>3.0</td><td>3.0</td><td>0.0</td><td>3.0</td><td>3.0</td><td>3.0</td><td>0.0</td><td>0.0</td><td>3.0</td><td>3.0</td><td>0.0</td><td>3.0</td><td>3.0</td><td>0.0</td><td>0.0</td><td>3.0</td></tr><tr><th>3</th><td>3.0</td><td>0.0</td><td>3.0</td><td>0.0</td><td>3.0</td><td>3.0</td><td>0.0</td><td>3.0</td><td>3.0</td><td>3.0</td><td>0.0</td><td>0.0</td><td>3.0</td><td>3.0</td><td>0.0</td><td>3.0</td><td>3.0</td><td>0.0</td><td>0.0</td><td>3.0</td></tr><tr><th>4</th><td>3.0</td><td>0.0</td><td>3.0</td><td>0.0</td><td>3.0</td><td>3.0</td><td>0.0</td><td>3.0</td><td>3.0</td><td>3.0</td><td>0.0</td><td>0.0</td><td>3.0</td><td>3.0</td><td>0.0</td><td>3.0</td><td>3.0</td><td>0.0</td><td>0.0</td><td>3.0</td></tr><tr><th>5</th><td>3.0</td><td>0.0</td><td>3.0</td><td>0.0</td><td>3.0</td><td>3.0</td><td>0.0</td><td>3.0</td><td>3.0</td><td>3.0</td><td>0.0</td><td>0.0</td><td>3.0</td><td>3.0</td><td>0.0</td><td>3.0</td><td>3.0</td><td>0.0</td><td>0.0</td><td>3.0</td></tr><tr><th>6</th><td>3.0</td><td>0.0</td><td>3.0</td><td>0.0</td><td>3.0</td><td>3.0</td><td>0.0</td><td>3.0</td><td>3.0</td><td>3.0</td><td>0.0</td><td>0.0</td><td>3.0</td><td>3.0</td><td>0.0</td><td>3.0</td><td>3.0</td><td>0.0</td><td>0.0</td><td>3.0</td></tr><tr><th>7</th><td>3.0</td><td>0.0</td><td>3.0</td><td>0.0</td><td>3.0</td><td>3.0</td><td>0.0</td><td>3.0</td><td>3.0</td><td>3.0</td><td>0.0</td><td>0.0</td><td>3.0</td><td>3.0</td><td>0.0</td><td>3.0</td><td>3.0</td><td>0.0</td><td>0.0</td><td>3.0</td></tr><tr><th>8</th><td>3.0</td><td>0.0</td><td>3.0</td><td>0.0</td><td>3.0</td><td>3.0</td><td>0.0</td><td>3.0</td><td>3.0</td><td>3.0</td><td>0.0</td><td>2.0</td><td>3.0</td><td>3.0</td><td>0.0</td><td>3.0</td><td>3.0</td><td>0.0</td><td>0.0</td><td>3.0</td></tr><tr><th>9</th><td>3.0</td><td>0.0</td><td>3.0</td><td>0.0</td><td>3.0</td><td>3.0</td><td>0.0</td><td>3.0</td><td>3.0</td><td>3.0</td><td>0.0</td><td>0.0</td><td>3.0</td><td>3.0</td><td>0.0</td><td>3.0</td><td>3.0</td><td>0.0</td><td>0.0</td><td>3.0</td></tr><tr><th>10</th><td>3.0</td><td>0.0</td><td>3.0</td><td>0.0</td><td>3.0</td><td>3.0</td><td>0.0</td><td>3.0</td><td>3.0</td><td>3.0</td><td>0.0</td><td>2.0</td><td>3.0</td><td>3.0</td><td>0.0</td><td>3.0</td><td>3.0</td><td>0.0</td><td>0.0</td><td>3.0</td></tr><tr><th>11</th><td>3.0</td><td>0.0</td><td>3.0</td><td>0.0</td><td>3.0</td><td>3.0</td><td>0.0</td><td>3.0</td><td>3.0</td><td>3.0</td><td>0.0</td><td>0.0</td><td>3.0</td><td>3.0</td><td>0.0</td><td>3.0</td><td>3.0</td><td>0.0</td><td>0.0</td><td>3.0</td></tr><tr><th>12</th><td>3.0</td><td>0.0</td><td>3.0</td><td>0.0</td><td>3.0</td><td>3.0</td><td>0.0</td><td>3.0</td><td>3.0</td><td>3.0</td><td>0.0</td><td>0.0</td><td>3.0</td><td>3.0</td><td>0.0</td><td>3.0</td><td>3.0</td><td>0.0</td><td>0.0</td><td>3.0</td></tr><tr><th>13</th><td>3.0</td><td>0.0</td><td>3.0</td><td>0.0</td><td>3.0</td><td>3.0</td><td>0.0</td><td>3.0</td><td>3.0</td><td>3.0</td><td>0.0</td><td>0.0</td><td>3.0</td><td>3.0</td><td>0.0</td><td>3.0</td><td>3.0</td><td>0.0</td><td>0.0</td><td>3.0</td></tr><tr><th>14</th><td>3.0</td><td>0.0</td><td>3.0</td><td>0.0</td><td>3.0</td><td>3.0</td><td>0.0</td><td>3.0</td><td>3.0</td><td>3.0</td><td>0.0</td><td>0.0</td><td>3.0</td><td>3.0</td><td>0.0</td><td>3.0</td><td>3.0</td><td>0.0</td><td>0.0</td><td>3.0</td></tr><tr><th>15</th><td>3.0</td><td>0.0</td><td>3.0</td><td>0.0</td><td>3.0</td><td>3.0</td><td>0.0</td><td>3.0</td><td>3.0</td><td>3.0</td><td>0.0</td><td>0.0</td><td>3.0</td><td>3.0</td><td>0.0</td><td>3.0</td><td>3.0</td><td>0.0</td><td>0.0</td><td>3.0</td></tr><tr><th>16</th><td>3.0</td><td>0.0</td><td>3.0</td><td>0.0</td><td>3.0</td><td>3.0</td><td>0.0</td><td>3.0</td><td>3.0</td><td>3.0</td><td>0.0</td><td>0.0</td><td>3.0</td><td>3.0</td><td>2.0</td><td>3.0</td><td>3.0</td><td>0.0</td><td>0.0</td><td>3.0</td></tr><tr><th>17</th><td>3.0</td><td>0.0</td><td>3.0</td><td>0.0</td><td>3.0</td><td>3.0</td><td>0.0</td><td>3.0</td><td>3.0</td><td>3.0</td><td>0.0</td><td>0.0</td><td>3.0</td><td>3.0</td><td>0.0</td><td>3.0</td><td>3.0</td><td>0.0</td><td>0.0</td><td>3.0</td></tr><tr><th>18</th><td>3.0</td><td>0.0</td><td>3.0</td><td>0.0</td><td>3.0</td><td>3.0</td><td>0.0</td><td>3.0</td><td>3.0</td><td>3.0</td><td>0.0</td><td>0.0</td><td>3.0</td><td>3.0</td><td>0.0</td><td>3.0</td><td>3.0</td><td>0.0</td><td>0.0</td><td>3.0</td></tr><tr><th>19</th><td>3.0</td><td>0.0</td><td>3.0</td><td>0.0</td><td>3.0</td><td>3.0</td><td>0.0</td><td>3.0</td><td>3.0</td><td>3.0</td><td>0.0</td><td>0.0</td><td>3.0</td><td>3.0</td><td>0.0</td><td>3.0</td><td>3.0</td><td>0.0</td><td>0.0</td><td>3.0</td></tr><tr><th>20</th><td>3.0</td><td>0.0</td><td>3.0</td><td>0.0</td><td>3.0</td><td>3.0</td><td>0.0</td><td>3.0</td><td>3.0</td><td>3.0</td><td>0.0</td><td>0.0</td><td>3.0</td><td>3.0</td><td>0.0</td><td>3.0</td><td>3.0</td><td>0.0</td><td>0.0</td><td>3.0</td></tr><tr><th>21</th><td>3.0</td><td>0.0</td><td>3.0</td><td>0.0</td><td>3.0</td><td>3.0</td><td>0.0</td><td>3.0</td><td>3.0</td><td>3.0</td><td>0.0</td><td>0.0</td><td>3.0</td><td>3.0</td><td>0.0</td><td>3.0</td><td>3.0</td><td>0.0</td><td>0.0</td><td>3.0</td></tr><tr><th>22</th><td>3.0</td><td>0.0</td><td>3.0</td><td>0.0</td><td>3.0</td><td>3.0</td><td>0.0</td><td>3.0</td><td>3.0</td><td>3.0</td><td>0.0</td><td>0.0</td><td>3.0</td><td>3.0</td><td>2.0</td><td>3.0</td><td>3.0</td><td>0.0</td><td>0.0</td><td>3.0</td></tr><tr><th>23</th><td>3.0</td><td>0.0</td><td>3.0</td><td>0.0</td><td>3.0</td><td>3.0</td><td>0.0</td><td>3.0</td><td>3.0</td><td>3.0</td><td>0.0</td><td>0.0</td><td>3.0</td><td>3.0</td><td>2.0</td><td>3.0</td><td>3.0</td><td>0.0</td><td>0.0</td><td>3.0</td></tr><tr><th>24</th><td>3.0</td><td>0.0</td><td>3.0</td><td>0.0</td><td>3.0</td><td>3.0</td><td>0.0</td><td>3.0</td><td>3.0</td><td>3.0</td><td>0.0</td><td>0.0</td><td>3.0</td><td>3.0</td><td>2.0</td><td>3.0</td><td>3.0</td><td>0.0</td><td>0.0</td><td>3.0</td></tr><tr><th>25</th><td>3.0</td><td>0.0</td><td>3.0</td><td>0.0</td><td>3.0</td><td>3.0</td><td>0.0</td><td>3.0</td><td>3.0</td><td>3.0</td><td>0.0</td><td>0.0</td><td>3.0</td><td>3.0</td><td>0.0</td><td>3.0</td><td>3.0</td><td>0.0</td><td>0.0</td><td>3.0</td></tr><tr><th>26</th><td>3.0</td><td>0.0</td><td>3.0</td><td>2.0</td><td>3.0</td><td>3.0</td><td>0.0</td><td>3.0</td><td>3.0</td><td>3.0</td><td>0.0</td><td>0.0</td><td>3.0</td><td>3.0</td><td>0.0</td><td>3.0</td><td>3.0</td><td>0.0</td><td>0.0</td><td>3.0</td></tr><tr><th>27</th><td>3.0</td><td>0.0</td><td>3.0</td><td>2.0</td><td>3.0</td><td>3.0</td><td>0.0</td><td>3.0</td><td>3.0</td><td>3.0</td><td>0.0</td><td>0.0</td><td>3.0</td><td>3.0</td><td>0.0</td><td>3.0</td><td>3.0</td><td>0.0</td><td>0.0</td><td>3.0</td></tr><tr><th>28</th><td>3.0</td><td>0.0</td><td>3.0</td><td>0.0</td><td>3.0</td><td>3.0</td><td>0.0</td><td>3.0</td><td>3.0</td><td>3.0</td><td>0.0</td><td>0.0</td><td>3.0</td><td>3.0</td><td>0.0</td><td>3.0</td><td>3.0</td><td>0.0</td><td>0.0</td><td>3.0</td></tr><tr><th>29</th><td>3.0</td><td>0.0</td><td>3.0</td><td>0.0</td><td>3.0</td><td>3.0</td><td>2.0</td><td>3.0</td><td>3.0</td><td>3.0</td><td>0.0</td><td>0.0</td><td>3.0</td><td>3.0</td><td>0.0</td><td>3.0</td><td>3.0</td><td>0.0</td><td>0.0</td><td>3.0</td></tr><tr><th>30</th><td>3.0</td><td>0.0</td><td>3.0</td><td>0.0</td><td>3.0</td><td>3.0</td><td>0.0</td><td>3.0</td><td>3.0</td><td>3.0</td><td>0.0</td><td>0.0</td><td>3.0</td><td>3.0</td><td>0.0</td><td>3.0</td><td>3.0</td><td>0.0</td><td>0.0</td><td>3.0</td></tr><tr><th>&vellip;</th><td>&vellip;</td><td>&vellip;</td><td>&vellip;</td><td>&vellip;</td><td>&vellip;</td><td>&vellip;</td><td>&vellip;</td><td>&vellip;</td><td>&vellip;</td><td>&vellip;</td><td>&vellip;</td><td>&vellip;</td><td>&vellip;</td><td>&vellip;</td><td>&vellip;</td><td>&vellip;</td><td>&vellip;</td><td>&vellip;</td><td>&vellip;</td><td>&vellip;</td></tr></tbody></table>"
      ],
      "text/latex": [
       "\\begin{tabular}{r|cccccccccccccccccccc}\n",
       "\t& rs3020701 & rs181646587 & rs182902214 & rs184527030 & rs10409990 & rs185166611 & rs181637538 & rs186213888 & rs184010370 & rs11667161 & rs188819713 & rs182378235 & rs146361744 & rs190575937 & rs149949827 & rs117671630 & rs149171388 & rs188520640 & rs142722885 & rs146938393\\\\\n",
       "\t\\hline\n",
       "\t& Float64 & Float64 & Float64 & Float64 & Float64 & Float64 & Float64 & Float64 & Float64 & Float64 & Float64 & Float64 & Float64 & Float64 & Float64 & Float64 & Float64 & Float64 & Float64 & Float64\\\\\n",
       "\t\\hline\n",
       "\t1 & 3.0 & 0.0 & 3.0 & 0.0 & 3.0 & 3.0 & 0.0 & 3.0 & 3.0 & 3.0 & 0.0 & 0.0 & 3.0 & 3.0 & 0.0 & 3.0 & 3.0 & 0.0 & 0.0 & 3.0 \\\\\n",
       "\t2 & 3.0 & 0.0 & 3.0 & 0.0 & 3.0 & 3.0 & 0.0 & 3.0 & 3.0 & 3.0 & 0.0 & 0.0 & 3.0 & 3.0 & 0.0 & 3.0 & 3.0 & 0.0 & 0.0 & 3.0 \\\\\n",
       "\t3 & 3.0 & 0.0 & 3.0 & 0.0 & 3.0 & 3.0 & 0.0 & 3.0 & 3.0 & 3.0 & 0.0 & 0.0 & 3.0 & 3.0 & 0.0 & 3.0 & 3.0 & 0.0 & 0.0 & 3.0 \\\\\n",
       "\t4 & 3.0 & 0.0 & 3.0 & 0.0 & 3.0 & 3.0 & 0.0 & 3.0 & 3.0 & 3.0 & 0.0 & 0.0 & 3.0 & 3.0 & 0.0 & 3.0 & 3.0 & 0.0 & 0.0 & 3.0 \\\\\n",
       "\t5 & 3.0 & 0.0 & 3.0 & 0.0 & 3.0 & 3.0 & 0.0 & 3.0 & 3.0 & 3.0 & 0.0 & 0.0 & 3.0 & 3.0 & 0.0 & 3.0 & 3.0 & 0.0 & 0.0 & 3.0 \\\\\n",
       "\t6 & 3.0 & 0.0 & 3.0 & 0.0 & 3.0 & 3.0 & 0.0 & 3.0 & 3.0 & 3.0 & 0.0 & 0.0 & 3.0 & 3.0 & 0.0 & 3.0 & 3.0 & 0.0 & 0.0 & 3.0 \\\\\n",
       "\t7 & 3.0 & 0.0 & 3.0 & 0.0 & 3.0 & 3.0 & 0.0 & 3.0 & 3.0 & 3.0 & 0.0 & 0.0 & 3.0 & 3.0 & 0.0 & 3.0 & 3.0 & 0.0 & 0.0 & 3.0 \\\\\n",
       "\t8 & 3.0 & 0.0 & 3.0 & 0.0 & 3.0 & 3.0 & 0.0 & 3.0 & 3.0 & 3.0 & 0.0 & 2.0 & 3.0 & 3.0 & 0.0 & 3.0 & 3.0 & 0.0 & 0.0 & 3.0 \\\\\n",
       "\t9 & 3.0 & 0.0 & 3.0 & 0.0 & 3.0 & 3.0 & 0.0 & 3.0 & 3.0 & 3.0 & 0.0 & 0.0 & 3.0 & 3.0 & 0.0 & 3.0 & 3.0 & 0.0 & 0.0 & 3.0 \\\\\n",
       "\t10 & 3.0 & 0.0 & 3.0 & 0.0 & 3.0 & 3.0 & 0.0 & 3.0 & 3.0 & 3.0 & 0.0 & 2.0 & 3.0 & 3.0 & 0.0 & 3.0 & 3.0 & 0.0 & 0.0 & 3.0 \\\\\n",
       "\t11 & 3.0 & 0.0 & 3.0 & 0.0 & 3.0 & 3.0 & 0.0 & 3.0 & 3.0 & 3.0 & 0.0 & 0.0 & 3.0 & 3.0 & 0.0 & 3.0 & 3.0 & 0.0 & 0.0 & 3.0 \\\\\n",
       "\t12 & 3.0 & 0.0 & 3.0 & 0.0 & 3.0 & 3.0 & 0.0 & 3.0 & 3.0 & 3.0 & 0.0 & 0.0 & 3.0 & 3.0 & 0.0 & 3.0 & 3.0 & 0.0 & 0.0 & 3.0 \\\\\n",
       "\t13 & 3.0 & 0.0 & 3.0 & 0.0 & 3.0 & 3.0 & 0.0 & 3.0 & 3.0 & 3.0 & 0.0 & 0.0 & 3.0 & 3.0 & 0.0 & 3.0 & 3.0 & 0.0 & 0.0 & 3.0 \\\\\n",
       "\t14 & 3.0 & 0.0 & 3.0 & 0.0 & 3.0 & 3.0 & 0.0 & 3.0 & 3.0 & 3.0 & 0.0 & 0.0 & 3.0 & 3.0 & 0.0 & 3.0 & 3.0 & 0.0 & 0.0 & 3.0 \\\\\n",
       "\t15 & 3.0 & 0.0 & 3.0 & 0.0 & 3.0 & 3.0 & 0.0 & 3.0 & 3.0 & 3.0 & 0.0 & 0.0 & 3.0 & 3.0 & 0.0 & 3.0 & 3.0 & 0.0 & 0.0 & 3.0 \\\\\n",
       "\t16 & 3.0 & 0.0 & 3.0 & 0.0 & 3.0 & 3.0 & 0.0 & 3.0 & 3.0 & 3.0 & 0.0 & 0.0 & 3.0 & 3.0 & 2.0 & 3.0 & 3.0 & 0.0 & 0.0 & 3.0 \\\\\n",
       "\t17 & 3.0 & 0.0 & 3.0 & 0.0 & 3.0 & 3.0 & 0.0 & 3.0 & 3.0 & 3.0 & 0.0 & 0.0 & 3.0 & 3.0 & 0.0 & 3.0 & 3.0 & 0.0 & 0.0 & 3.0 \\\\\n",
       "\t18 & 3.0 & 0.0 & 3.0 & 0.0 & 3.0 & 3.0 & 0.0 & 3.0 & 3.0 & 3.0 & 0.0 & 0.0 & 3.0 & 3.0 & 0.0 & 3.0 & 3.0 & 0.0 & 0.0 & 3.0 \\\\\n",
       "\t19 & 3.0 & 0.0 & 3.0 & 0.0 & 3.0 & 3.0 & 0.0 & 3.0 & 3.0 & 3.0 & 0.0 & 0.0 & 3.0 & 3.0 & 0.0 & 3.0 & 3.0 & 0.0 & 0.0 & 3.0 \\\\\n",
       "\t20 & 3.0 & 0.0 & 3.0 & 0.0 & 3.0 & 3.0 & 0.0 & 3.0 & 3.0 & 3.0 & 0.0 & 0.0 & 3.0 & 3.0 & 0.0 & 3.0 & 3.0 & 0.0 & 0.0 & 3.0 \\\\\n",
       "\t21 & 3.0 & 0.0 & 3.0 & 0.0 & 3.0 & 3.0 & 0.0 & 3.0 & 3.0 & 3.0 & 0.0 & 0.0 & 3.0 & 3.0 & 0.0 & 3.0 & 3.0 & 0.0 & 0.0 & 3.0 \\\\\n",
       "\t22 & 3.0 & 0.0 & 3.0 & 0.0 & 3.0 & 3.0 & 0.0 & 3.0 & 3.0 & 3.0 & 0.0 & 0.0 & 3.0 & 3.0 & 2.0 & 3.0 & 3.0 & 0.0 & 0.0 & 3.0 \\\\\n",
       "\t23 & 3.0 & 0.0 & 3.0 & 0.0 & 3.0 & 3.0 & 0.0 & 3.0 & 3.0 & 3.0 & 0.0 & 0.0 & 3.0 & 3.0 & 2.0 & 3.0 & 3.0 & 0.0 & 0.0 & 3.0 \\\\\n",
       "\t24 & 3.0 & 0.0 & 3.0 & 0.0 & 3.0 & 3.0 & 0.0 & 3.0 & 3.0 & 3.0 & 0.0 & 0.0 & 3.0 & 3.0 & 2.0 & 3.0 & 3.0 & 0.0 & 0.0 & 3.0 \\\\\n",
       "\t25 & 3.0 & 0.0 & 3.0 & 0.0 & 3.0 & 3.0 & 0.0 & 3.0 & 3.0 & 3.0 & 0.0 & 0.0 & 3.0 & 3.0 & 0.0 & 3.0 & 3.0 & 0.0 & 0.0 & 3.0 \\\\\n",
       "\t26 & 3.0 & 0.0 & 3.0 & 2.0 & 3.0 & 3.0 & 0.0 & 3.0 & 3.0 & 3.0 & 0.0 & 0.0 & 3.0 & 3.0 & 0.0 & 3.0 & 3.0 & 0.0 & 0.0 & 3.0 \\\\\n",
       "\t27 & 3.0 & 0.0 & 3.0 & 2.0 & 3.0 & 3.0 & 0.0 & 3.0 & 3.0 & 3.0 & 0.0 & 0.0 & 3.0 & 3.0 & 0.0 & 3.0 & 3.0 & 0.0 & 0.0 & 3.0 \\\\\n",
       "\t28 & 3.0 & 0.0 & 3.0 & 0.0 & 3.0 & 3.0 & 0.0 & 3.0 & 3.0 & 3.0 & 0.0 & 0.0 & 3.0 & 3.0 & 0.0 & 3.0 & 3.0 & 0.0 & 0.0 & 3.0 \\\\\n",
       "\t29 & 3.0 & 0.0 & 3.0 & 0.0 & 3.0 & 3.0 & 2.0 & 3.0 & 3.0 & 3.0 & 0.0 & 0.0 & 3.0 & 3.0 & 0.0 & 3.0 & 3.0 & 0.0 & 0.0 & 3.0 \\\\\n",
       "\t30 & 3.0 & 0.0 & 3.0 & 0.0 & 3.0 & 3.0 & 0.0 & 3.0 & 3.0 & 3.0 & 0.0 & 0.0 & 3.0 & 3.0 & 0.0 & 3.0 & 3.0 & 0.0 & 0.0 & 3.0 \\\\\n",
       "\t$\\dots$ & $\\dots$ & $\\dots$ & $\\dots$ & $\\dots$ & $\\dots$ & $\\dots$ & $\\dots$ & $\\dots$ & $\\dots$ & $\\dots$ & $\\dots$ & $\\dots$ & $\\dots$ & $\\dots$ & $\\dots$ & $\\dots$ & $\\dots$ & $\\dots$ & $\\dots$ & $\\dots$ \\\\\n",
       "\\end{tabular}\n"
      ],
      "text/plain": [
       "212×20 DataFrame. Omitted printing of 15 columns\n",
       "│ Row │ rs3020701 │ rs181646587 │ rs182902214 │ rs184527030 │ rs10409990 │\n",
       "│     │ \u001b[90mFloat64\u001b[39m   │ \u001b[90mFloat64\u001b[39m     │ \u001b[90mFloat64\u001b[39m     │ \u001b[90mFloat64\u001b[39m     │ \u001b[90mFloat64\u001b[39m    │\n",
       "├─────┼───────────┼─────────────┼─────────────┼─────────────┼────────────┤\n",
       "│ 1   │ 3.0       │ 0.0         │ 3.0         │ 0.0         │ 3.0        │\n",
       "│ 2   │ 3.0       │ 0.0         │ 3.0         │ 0.0         │ 3.0        │\n",
       "│ 3   │ 3.0       │ 0.0         │ 3.0         │ 0.0         │ 3.0        │\n",
       "│ 4   │ 3.0       │ 0.0         │ 3.0         │ 0.0         │ 3.0        │\n",
       "│ 5   │ 3.0       │ 0.0         │ 3.0         │ 0.0         │ 3.0        │\n",
       "│ 6   │ 3.0       │ 0.0         │ 3.0         │ 0.0         │ 3.0        │\n",
       "│ 7   │ 3.0       │ 0.0         │ 3.0         │ 0.0         │ 3.0        │\n",
       "│ 8   │ 3.0       │ 0.0         │ 3.0         │ 0.0         │ 3.0        │\n",
       "│ 9   │ 3.0       │ 0.0         │ 3.0         │ 0.0         │ 3.0        │\n",
       "│ 10  │ 3.0       │ 0.0         │ 3.0         │ 0.0         │ 3.0        │\n",
       "⋮\n",
       "│ 202 │ 3.0       │ 0.0         │ 3.0         │ 0.0         │ 3.0        │\n",
       "│ 203 │ 3.0       │ 0.0         │ 3.0         │ 0.0         │ 3.0        │\n",
       "│ 204 │ 3.0       │ 0.0         │ 3.0         │ 0.0         │ 3.0        │\n",
       "│ 205 │ 3.0       │ 0.0         │ 3.0         │ 0.0         │ 3.0        │\n",
       "│ 206 │ 3.0       │ 0.0         │ 3.0         │ 0.0         │ 3.0        │\n",
       "│ 207 │ 3.0       │ 0.0         │ 3.0         │ 0.0         │ 3.0        │\n",
       "│ 208 │ 3.0       │ 0.0         │ 3.0         │ 0.0         │ 3.0        │\n",
       "│ 209 │ 3.0       │ 0.0         │ 3.0         │ 0.0         │ 3.0        │\n",
       "│ 210 │ 3.0       │ 0.0         │ 3.0         │ 0.0         │ 3.0        │\n",
       "│ 211 │ 3.0       │ 0.0         │ 3.0         │ 0.0         │ 3.0        │\n",
       "│ 212 │ 3.0       │ 0.0         │ 3.0         │ 0.0         │ 3.0        │"
      ]
     },
     "execution_count": 25,
     "metadata": {},
     "output_type": "execute_result"
    }
   ],
   "source": [
    "geno_rare20_converted = convert(DataFrame, convert(Matrix{Float64}, @view(data_rare[:, 1:2:40])))\n",
    "names!(geno_rare20_converted, Symbol.(rare_snps_for_simulation))"
   ]
  },
  {
   "cell_type": "markdown",
   "metadata": {},
   "source": [
    "## Generating Effect Sizes Based on MAF\n",
    "\n",
    "For demonstration purposes, we simulate effect sizes from the Chi-squared(df = 1) distribution, where we use the minor allele frequency (maf) as x and find f(x) where f is the pdf for the Chi-squared (df = 1) density, so that the rarest SNP's have the biggest effect sizes. The effect sizes are rounded to the second digit, throughout this example. Notice there is a random +1 or -1, so that there are effects that both increase and decrease the simulated trait value.\n",
    "\n",
    "In addition to the Chi-Squared distribution, we also demo how to simulate from the Exponential distribution, where we use the minor allele frequency (maf) as x and find f(x) where f is the pdf for the Exponential density. "
   ]
  },
  {
   "cell_type": "markdown",
   "metadata": {},
   "source": [
    "## Chisquared(df = 1)"
   ]
  },
  {
   "cell_type": "code",
   "execution_count": 26,
   "metadata": {},
   "outputs": [],
   "source": [
    "# Generating Effect Sizes from Chisquared(df = 1) density\n",
    "n = length(maf_20_rare_snps)\n",
    "chisq_coeff = zeros(n)\n",
    "\n",
    "for i in 1:n\n",
    "    chisq_coeff[i] = sign(rand() - .5) * chisqpdf(1, maf_20_rare_snps[i])/5.0\n",
    "end"
   ]
  },
  {
   "cell_type": "markdown",
   "metadata": {},
   "source": [
    "Take a look at the simulated coefficients on the left, next to the corresponding minor allele frequency. Notice the rarer SNPs have the largest absolute values for their effect sizes."
   ]
  },
  {
   "cell_type": "code",
   "execution_count": 27,
   "metadata": {},
   "outputs": [
    {
     "data": {
      "text/html": [
       "<table class=\"data-frame\"><thead><tr><th></th><th>Chisq_Coefficient</th><th>MAF_rare</th></tr><tr><th></th><th>Float64</th><th>Float64</th></tr></thead><tbody><p>20 rows × 2 columns</p><tr><th>1</th><td>-0.616</td><td>0.017</td></tr><tr><th>2</th><td>-0.666</td><td>0.014</td></tr><tr><th>3</th><td>-0.818</td><td>0.009</td></tr><tr><th>4</th><td>-0.575</td><td>0.019</td></tr><tr><th>5</th><td>0.818</td><td>0.009</td></tr><tr><th>6</th><td>1.159</td><td>0.005</td></tr><tr><th>7</th><td>-0.945</td><td>0.007</td></tr><tr><th>8</th><td>-0.818</td><td>0.009</td></tr><tr><th>9</th><td>0.945</td><td>0.007</td></tr><tr><th>10</th><td>-1.641</td><td>0.002</td></tr><tr><th>11</th><td>-0.666</td><td>0.014</td></tr><tr><th>12</th><td>1.159</td><td>0.005</td></tr><tr><th>13</th><td>1.641</td><td>0.002</td></tr><tr><th>14</th><td>-1.159</td><td>0.005</td></tr><tr><th>15</th><td>-0.575</td><td>0.019</td></tr><tr><th>16</th><td>1.641</td><td>0.002</td></tr><tr><th>17</th><td>1.641</td><td>0.002</td></tr><tr><th>18</th><td>-1.641</td><td>0.002</td></tr><tr><th>19</th><td>0.575</td><td>0.019</td></tr><tr><th>20</th><td>-1.159</td><td>0.005</td></tr></tbody></table>"
      ],
      "text/latex": [
       "\\begin{tabular}{r|cc}\n",
       "\t& Chisq\\_Coefficient & MAF\\_rare\\\\\n",
       "\t\\hline\n",
       "\t& Float64 & Float64\\\\\n",
       "\t\\hline\n",
       "\t1 & -0.616 & 0.017 \\\\\n",
       "\t2 & -0.666 & 0.014 \\\\\n",
       "\t3 & -0.818 & 0.009 \\\\\n",
       "\t4 & -0.575 & 0.019 \\\\\n",
       "\t5 & 0.818 & 0.009 \\\\\n",
       "\t6 & 1.159 & 0.005 \\\\\n",
       "\t7 & -0.945 & 0.007 \\\\\n",
       "\t8 & -0.818 & 0.009 \\\\\n",
       "\t9 & 0.945 & 0.007 \\\\\n",
       "\t10 & -1.641 & 0.002 \\\\\n",
       "\t11 & -0.666 & 0.014 \\\\\n",
       "\t12 & 1.159 & 0.005 \\\\\n",
       "\t13 & 1.641 & 0.002 \\\\\n",
       "\t14 & -1.159 & 0.005 \\\\\n",
       "\t15 & -0.575 & 0.019 \\\\\n",
       "\t16 & 1.641 & 0.002 \\\\\n",
       "\t17 & 1.641 & 0.002 \\\\\n",
       "\t18 & -1.641 & 0.002 \\\\\n",
       "\t19 & 0.575 & 0.019 \\\\\n",
       "\t20 & -1.159 & 0.005 \\\\\n",
       "\\end{tabular}\n"
      ],
      "text/plain": [
       "20×2 DataFrame\n",
       "│ Row │ Chisq_Coefficient │ MAF_rare │\n",
       "│     │ \u001b[90mFloat64\u001b[39m           │ \u001b[90mFloat64\u001b[39m  │\n",
       "├─────┼───────────────────┼──────────┤\n",
       "│ 1   │ -0.616            │ 0.017    │\n",
       "│ 2   │ -0.666            │ 0.014    │\n",
       "│ 3   │ -0.818            │ 0.009    │\n",
       "│ 4   │ -0.575            │ 0.019    │\n",
       "│ 5   │ 0.818             │ 0.009    │\n",
       "│ 6   │ 1.159             │ 0.005    │\n",
       "│ 7   │ -0.945            │ 0.007    │\n",
       "│ 8   │ -0.818            │ 0.009    │\n",
       "│ 9   │ 0.945             │ 0.007    │\n",
       "│ 10  │ -1.641            │ 0.002    │\n",
       "│ 11  │ -0.666            │ 0.014    │\n",
       "│ 12  │ 1.159             │ 0.005    │\n",
       "│ 13  │ 1.641             │ 0.002    │\n",
       "│ 14  │ -1.159            │ 0.005    │\n",
       "│ 15  │ -0.575            │ 0.019    │\n",
       "│ 16  │ 1.641             │ 0.002    │\n",
       "│ 17  │ 1.641             │ 0.002    │\n",
       "│ 18  │ -1.641            │ 0.002    │\n",
       "│ 19  │ 0.575             │ 0.019    │\n",
       "│ 20  │ -1.159            │ 0.005    │"
      ]
     },
     "execution_count": 27,
     "metadata": {},
     "output_type": "execute_result"
    }
   ],
   "source": [
    "Ex2c_rare = round.([chisq_coeff maf_20_rare_snps], digits = 3)\n",
    "Ex2c_rare = DataFrame(Chisq_Coefficient = Ex2c_rare[:, 1] , MAF_rare = Ex2c_rare[:, 2] )"
   ]
  },
  {
   "cell_type": "code",
   "execution_count": 28,
   "metadata": {},
   "outputs": [
    {
     "data": {
      "text/plain": [
       "20-element Array{Float64,1}:\n",
       " -0.616\n",
       " -0.666\n",
       " -0.818\n",
       " -0.575\n",
       "  0.818\n",
       "  1.159\n",
       " -0.945\n",
       " -0.818\n",
       "  0.945\n",
       " -1.641\n",
       " -0.666\n",
       "  1.159\n",
       "  1.641\n",
       " -1.159\n",
       " -0.575\n",
       "  1.641\n",
       "  1.641\n",
       " -1.641\n",
       "  0.575\n",
       " -1.159"
      ]
     },
     "execution_count": 28,
     "metadata": {},
     "output_type": "execute_result"
    }
   ],
   "source": [
    "simulated_effectsizes_chisq = Ex2c_rare[:, 1]"
   ]
  },
  {
   "cell_type": "markdown",
   "metadata": {},
   "source": [
    "### Exponential Distribution\n",
    "Here we show how to generate effect sizes for the 20 rare snp's from the Exponential Distribution, where we use the maf as x and find f(x) where f is the pdf for the Exponential density"
   ]
  },
  {
   "cell_type": "code",
   "execution_count": 29,
   "metadata": {},
   "outputs": [
    {
     "data": {
      "text/plain": [
       "20-element Array{Float64,1}:\n",
       " 0.221\n",
       " 0.354\n",
       " 0.909\n",
       " 0.138\n",
       " 0.909\n",
       " 2.336\n",
       " 1.457\n",
       " 0.909\n",
       " 1.457\n",
       " 3.744\n",
       " 0.354\n",
       " 2.336\n",
       " 3.744\n",
       " 2.336\n",
       " 0.138\n",
       " 3.744\n",
       " 3.744\n",
       " 3.744\n",
       " 0.138\n",
       " 2.336"
      ]
     },
     "execution_count": 29,
     "metadata": {},
     "output_type": "execute_result"
    }
   ],
   "source": [
    "simulated_effectsizes_exp = round.(6*exp.(-200*maf_20_rare_snps), digits = 3)"
   ]
  },
  {
   "cell_type": "markdown",
   "metadata": {},
   "source": [
    "## Function for Mean Model Expression\n",
    "\n",
    "In some cases a large number of variants may be used for simulation. Thus, in this example we create a function where the user inputs a vector of coefficients and a vector of variants for simulation, then the function outputs the mean model expression. \n",
    "\n",
    "The function `FixedEffectTerms`, creates the proper evaluated expression for the simulation process, using the specified vectors of coefficients and snp names. The function outputs `evaluated_fixed_expression` which will be used to estimate the mean effect, `μ` in our mixed effects model. We make use of this function in this example, instead of having to write out all 20 of the coefficients and variant locus names."
   ]
  },
  {
   "cell_type": "code",
   "execution_count": 30,
   "metadata": {},
   "outputs": [
    {
     "data": {
      "text/plain": [
       "20-element Array{SubString{String},1}:\n",
       " \"rs3020701\"  \n",
       " \"rs181646587\"\n",
       " \"rs182902214\"\n",
       " \"rs184527030\"\n",
       " \"rs10409990\" \n",
       " \"rs185166611\"\n",
       " \"rs181637538\"\n",
       " \"rs186213888\"\n",
       " \"rs184010370\"\n",
       " \"rs11667161\" \n",
       " \"rs188819713\"\n",
       " \"rs182378235\"\n",
       " \"rs146361744\"\n",
       " \"rs190575937\"\n",
       " \"rs149949827\"\n",
       " \"rs117671630\"\n",
       " \"rs149171388\"\n",
       " \"rs188520640\"\n",
       " \"rs142722885\"\n",
       " \"rs146938393\""
      ]
     },
     "execution_count": 30,
     "metadata": {},
     "output_type": "execute_result"
    }
   ],
   "source": [
    "rare_snps_for_simulation"
   ]
  },
  {
   "cell_type": "code",
   "execution_count": 31,
   "metadata": {},
   "outputs": [
    {
     "data": {
      "text/plain": [
       "FixedEffectTerms (generic function with 1 method)"
      ]
     },
     "execution_count": 31,
     "metadata": {},
     "output_type": "execute_result"
    }
   ],
   "source": [
    "function FixedEffectTerms(effectsizes::AbstractVecOrMat, snps::AbstractVecOrMat)\n",
    " # implementation\n",
    "    fixed_terms = \"\"\n",
    "for i in 1:length(simulated_effectsizes_chisq) - 1\n",
    "expression = \" + \" * string(simulated_effectsizes_chisq[i]) * \"(\" * rare_snps_for_simulation[i] * \")\"\n",
    "    fixed_terms = fixed_terms * expression\n",
    "end\n",
    "    return String(fixed_terms)\n",
    "end\n"
   ]
  },
  {
   "cell_type": "code",
   "execution_count": 32,
   "metadata": {},
   "outputs": [
    {
     "data": {
      "text/plain": [
       "\" + -0.616(rs3020701) + -0.666(rs181646587) + -0.818(rs182902214) + -0.575(rs184527030) + 0.818(rs10409990) + 1.159(rs185166611) + -0.945(rs181637538) + -0.818(rs186213888) + 0.945(rs184010370) + -1.641(rs11667161) + -0.666(rs188819713) + 1.159(rs182378235) + 1.641(rs146361744) + -1.159(rs190575937) + -0.575(rs149949827) + 1.641(rs117671630) + 1.641(rs149171388) + -1.641(rs188520640) + 0.575(rs142722885)\""
      ]
     },
     "execution_count": 32,
     "metadata": {},
     "output_type": "execute_result"
    }
   ],
   "source": [
    "mean_formula_rare = FixedEffectTerms(simulated_effectsizes_chisq, rare_snps_for_simulation)"
   ]
  },
  {
   "cell_type": "markdown",
   "metadata": {},
   "source": [
    "## Example 2c) Mixed effects model Single Trait and rare variants:\n",
    "$$\n",
    "Y_{2c} ∼ N(μ_{20raresnps}, 4* 2GRM + 2I)$$\n"
   ]
  },
  {
   "cell_type": "code",
   "execution_count": 33,
   "metadata": {},
   "outputs": [
    {
     "data": {
      "text/html": [
       "<table class=\"data-frame\"><thead><tr><th></th><th>trait1</th></tr><tr><th></th><th>Float64</th></tr></thead><tbody><p>212 rows × 1 columns</p><tr><th>1</th><td>7.84557</td></tr><tr><th>2</th><td>8.32246</td></tr><tr><th>3</th><td>8.98565</td></tr><tr><th>4</th><td>10.4579</td></tr><tr><th>5</th><td>10.078</td></tr><tr><th>6</th><td>8.87202</td></tr><tr><th>7</th><td>7.18824</td></tr><tr><th>8</th><td>12.2827</td></tr><tr><th>9</th><td>7.04519</td></tr><tr><th>10</th><td>12.8496</td></tr><tr><th>11</th><td>8.2143</td></tr><tr><th>12</th><td>5.03781</td></tr><tr><th>13</th><td>11.5306</td></tr><tr><th>14</th><td>10.6661</td></tr><tr><th>15</th><td>5.30367</td></tr><tr><th>16</th><td>6.94509</td></tr><tr><th>17</th><td>8.84335</td></tr><tr><th>18</th><td>10.8689</td></tr><tr><th>19</th><td>13.0446</td></tr><tr><th>20</th><td>6.15681</td></tr><tr><th>21</th><td>7.48947</td></tr><tr><th>22</th><td>7.73911</td></tr><tr><th>23</th><td>5.64123</td></tr><tr><th>24</th><td>5.39446</td></tr><tr><th>25</th><td>12.1782</td></tr><tr><th>26</th><td>8.8224</td></tr><tr><th>27</th><td>7.79989</td></tr><tr><th>28</th><td>8.09516</td></tr><tr><th>29</th><td>6.8345</td></tr><tr><th>30</th><td>9.23262</td></tr><tr><th>&vellip;</th><td>&vellip;</td></tr></tbody></table>"
      ],
      "text/latex": [
       "\\begin{tabular}{r|c}\n",
       "\t& trait1\\\\\n",
       "\t\\hline\n",
       "\t& Float64\\\\\n",
       "\t\\hline\n",
       "\t1 & 7.84557 \\\\\n",
       "\t2 & 8.32246 \\\\\n",
       "\t3 & 8.98565 \\\\\n",
       "\t4 & 10.4579 \\\\\n",
       "\t5 & 10.078 \\\\\n",
       "\t6 & 8.87202 \\\\\n",
       "\t7 & 7.18824 \\\\\n",
       "\t8 & 12.2827 \\\\\n",
       "\t9 & 7.04519 \\\\\n",
       "\t10 & 12.8496 \\\\\n",
       "\t11 & 8.2143 \\\\\n",
       "\t12 & 5.03781 \\\\\n",
       "\t13 & 11.5306 \\\\\n",
       "\t14 & 10.6661 \\\\\n",
       "\t15 & 5.30367 \\\\\n",
       "\t16 & 6.94509 \\\\\n",
       "\t17 & 8.84335 \\\\\n",
       "\t18 & 10.8689 \\\\\n",
       "\t19 & 13.0446 \\\\\n",
       "\t20 & 6.15681 \\\\\n",
       "\t21 & 7.48947 \\\\\n",
       "\t22 & 7.73911 \\\\\n",
       "\t23 & 5.64123 \\\\\n",
       "\t24 & 5.39446 \\\\\n",
       "\t25 & 12.1782 \\\\\n",
       "\t26 & 8.8224 \\\\\n",
       "\t27 & 7.79989 \\\\\n",
       "\t28 & 8.09516 \\\\\n",
       "\t29 & 6.8345 \\\\\n",
       "\t30 & 9.23262 \\\\\n",
       "\t$\\dots$ & $\\dots$ \\\\\n",
       "\\end{tabular}\n"
      ],
      "text/plain": [
       "212×1 DataFrame\n",
       "│ Row │ trait1  │\n",
       "│     │ \u001b[90mFloat64\u001b[39m │\n",
       "├─────┼─────────┤\n",
       "│ 1   │ 7.84557 │\n",
       "│ 2   │ 8.32246 │\n",
       "│ 3   │ 8.98565 │\n",
       "│ 4   │ 10.4579 │\n",
       "│ 5   │ 10.078  │\n",
       "│ 6   │ 8.87202 │\n",
       "│ 7   │ 7.18824 │\n",
       "│ 8   │ 12.2827 │\n",
       "│ 9   │ 7.04519 │\n",
       "│ 10  │ 12.8496 │\n",
       "⋮\n",
       "│ 202 │ 10.3751 │\n",
       "│ 203 │ 7.68641 │\n",
       "│ 204 │ 1.11429 │\n",
       "│ 205 │ 2.88378 │\n",
       "│ 206 │ 10.7848 │\n",
       "│ 207 │ 13.6784 │\n",
       "│ 208 │ 6.21142 │\n",
       "│ 209 │ 6.66031 │\n",
       "│ 210 │ 12.1829 │\n",
       "│ 211 │ 10.6314 │\n",
       "│ 212 │ 11.5362 │"
      ]
     },
     "execution_count": 33,
     "metadata": {},
     "output_type": "execute_result"
    }
   ],
   "source": [
    "rare_20_snp_model = LMMTrait([mean_formula_rare], geno_rare20_converted, 4*(2*GRM) + 2*(I_n))\n",
    "trait_rare_20_snps = simulate(rare_20_snp_model)"
   ]
  },
  {
   "cell_type": "code",
   "execution_count": 34,
   "metadata": {},
   "outputs": [
    {
     "data": {
      "text/html": [
       "<table class=\"data-frame\"><thead><tr><th></th><th>variable</th><th>mean</th><th>std</th><th>min</th><th>max</th><th>eltype</th></tr><tr><th></th><th>Symbol</th><th>Float64</th><th>Float64</th><th>Float64</th><th>Float64</th><th>DataType</th></tr></thead><tbody><p>1 rows × 6 columns</p><tr><th>1</th><td>trait1</td><td>8.12279</td><td>2.55208</td><td>1.11429</td><td>14.219</td><td>Float64</td></tr></tbody></table>"
      ],
      "text/latex": [
       "\\begin{tabular}{r|cccccc}\n",
       "\t& variable & mean & std & min & max & eltype\\\\\n",
       "\t\\hline\n",
       "\t& Symbol & Float64 & Float64 & Float64 & Float64 & DataType\\\\\n",
       "\t\\hline\n",
       "\t1 & trait1 & 8.12279 & 2.55208 & 1.11429 & 14.219 & Float64 \\\\\n",
       "\\end{tabular}\n"
      ],
      "text/plain": [
       "1×6 DataFrame\n",
       "│ Row │ variable │ mean    │ std     │ min     │ max     │ eltype   │\n",
       "│     │ \u001b[90mSymbol\u001b[39m   │ \u001b[90mFloat64\u001b[39m │ \u001b[90mFloat64\u001b[39m │ \u001b[90mFloat64\u001b[39m │ \u001b[90mFloat64\u001b[39m │ \u001b[90mDataType\u001b[39m │\n",
       "├─────┼──────────┼─────────┼─────────┼─────────┼─────────┼──────────┤\n",
       "│ 1   │ trait1   │ 8.12279 │ 2.55208 │ 1.11429 │ 14.219  │ Float64  │"
      ]
     },
     "execution_count": 34,
     "metadata": {},
     "output_type": "execute_result"
    }
   ],
   "source": [
    "describe(trait_rare_20_snps, stats = [:mean, :std, :min, :max, :eltype])"
   ]
  },
  {
   "cell_type": "markdown",
   "metadata": {},
   "source": [
    "## Saving Simulation Results to Local Machine"
   ]
  },
  {
   "cell_type": "markdown",
   "metadata": {},
   "source": [
    "Write the newly simulated trait into a comma separated (csv) file for later use. Note that the user can specify the separator to '\\t' for tab separated, or another separator of choice. "
   ]
  },
  {
   "cell_type": "markdown",
   "metadata": {},
   "source": [
    "Here we output the simulated trait values for each of the 212 individuals, labeled by their pedigree ID and person ID.\n",
    "\n",
    "In addition, we output the genotypes for the variants used to simulate this trait."
   ]
  },
  {
   "cell_type": "code",
   "execution_count": 35,
   "metadata": {},
   "outputs": [
    {
     "data": {
      "text/html": [
       "<table class=\"data-frame\"><thead><tr><th></th><th>FamID</th><th>PID</th><th>trait1</th><th>rs3020701</th><th>rs181646587</th><th>rs182902214</th><th>rs184527030</th><th>rs10409990</th><th>rs185166611</th><th>rs181637538</th><th>rs186213888</th><th>rs184010370</th><th>rs11667161</th><th>rs188819713</th><th>rs182378235</th><th>rs146361744</th><th>rs190575937</th><th>rs149949827</th><th>rs117671630</th><th>rs149171388</th><th>rs188520640</th><th>rs142722885</th><th>rs146938393</th></tr><tr><th></th><th>Any</th><th>Any</th><th>Float64</th><th>Float64</th><th>Float64</th><th>Float64</th><th>Float64</th><th>Float64</th><th>Float64</th><th>Float64</th><th>Float64</th><th>Float64</th><th>Float64</th><th>Float64</th><th>Float64</th><th>Float64</th><th>Float64</th><th>Float64</th><th>Float64</th><th>Float64</th><th>Float64</th><th>Float64</th><th>Float64</th></tr></thead><tbody><p>212 rows × 23 columns</p><tr><th>1</th><td>1</td><td>16</td><td>7.84557</td><td>3.0</td><td>0.0</td><td>3.0</td><td>0.0</td><td>3.0</td><td>3.0</td><td>0.0</td><td>3.0</td><td>3.0</td><td>3.0</td><td>0.0</td><td>0.0</td><td>3.0</td><td>3.0</td><td>0.0</td><td>3.0</td><td>3.0</td><td>0.0</td><td>0.0</td><td>3.0</td></tr><tr><th>2</th><td>1</td><td>8228</td><td>8.32246</td><td>3.0</td><td>0.0</td><td>3.0</td><td>0.0</td><td>3.0</td><td>3.0</td><td>0.0</td><td>3.0</td><td>3.0</td><td>3.0</td><td>0.0</td><td>0.0</td><td>3.0</td><td>3.0</td><td>0.0</td><td>3.0</td><td>3.0</td><td>0.0</td><td>0.0</td><td>3.0</td></tr><tr><th>3</th><td>1</td><td>17008</td><td>8.98565</td><td>3.0</td><td>0.0</td><td>3.0</td><td>0.0</td><td>3.0</td><td>3.0</td><td>0.0</td><td>3.0</td><td>3.0</td><td>3.0</td><td>0.0</td><td>0.0</td><td>3.0</td><td>3.0</td><td>0.0</td><td>3.0</td><td>3.0</td><td>0.0</td><td>0.0</td><td>3.0</td></tr><tr><th>4</th><td>1</td><td>9218</td><td>10.4579</td><td>3.0</td><td>0.0</td><td>3.0</td><td>0.0</td><td>3.0</td><td>3.0</td><td>0.0</td><td>3.0</td><td>3.0</td><td>3.0</td><td>0.0</td><td>0.0</td><td>3.0</td><td>3.0</td><td>0.0</td><td>3.0</td><td>3.0</td><td>0.0</td><td>0.0</td><td>3.0</td></tr><tr><th>5</th><td>1</td><td>3226</td><td>10.078</td><td>3.0</td><td>0.0</td><td>3.0</td><td>0.0</td><td>3.0</td><td>3.0</td><td>0.0</td><td>3.0</td><td>3.0</td><td>3.0</td><td>0.0</td><td>0.0</td><td>3.0</td><td>3.0</td><td>0.0</td><td>3.0</td><td>3.0</td><td>0.0</td><td>0.0</td><td>3.0</td></tr><tr><th>6</th><td>2</td><td>29</td><td>8.87202</td><td>3.0</td><td>0.0</td><td>3.0</td><td>0.0</td><td>3.0</td><td>3.0</td><td>0.0</td><td>3.0</td><td>3.0</td><td>3.0</td><td>0.0</td><td>0.0</td><td>3.0</td><td>3.0</td><td>0.0</td><td>3.0</td><td>3.0</td><td>0.0</td><td>0.0</td><td>3.0</td></tr><tr><th>7</th><td>2</td><td>2294</td><td>7.18824</td><td>3.0</td><td>0.0</td><td>3.0</td><td>0.0</td><td>3.0</td><td>3.0</td><td>0.0</td><td>3.0</td><td>3.0</td><td>3.0</td><td>0.0</td><td>0.0</td><td>3.0</td><td>3.0</td><td>0.0</td><td>3.0</td><td>3.0</td><td>0.0</td><td>0.0</td><td>3.0</td></tr><tr><th>8</th><td>2</td><td>3416</td><td>12.2827</td><td>3.0</td><td>0.0</td><td>3.0</td><td>0.0</td><td>3.0</td><td>3.0</td><td>0.0</td><td>3.0</td><td>3.0</td><td>3.0</td><td>0.0</td><td>2.0</td><td>3.0</td><td>3.0</td><td>0.0</td><td>3.0</td><td>3.0</td><td>0.0</td><td>0.0</td><td>3.0</td></tr><tr><th>9</th><td>2</td><td>17893</td><td>7.04519</td><td>3.0</td><td>0.0</td><td>3.0</td><td>0.0</td><td>3.0</td><td>3.0</td><td>0.0</td><td>3.0</td><td>3.0</td><td>3.0</td><td>0.0</td><td>0.0</td><td>3.0</td><td>3.0</td><td>0.0</td><td>3.0</td><td>3.0</td><td>0.0</td><td>0.0</td><td>3.0</td></tr><tr><th>10</th><td>2</td><td>6952</td><td>12.8496</td><td>3.0</td><td>0.0</td><td>3.0</td><td>0.0</td><td>3.0</td><td>3.0</td><td>0.0</td><td>3.0</td><td>3.0</td><td>3.0</td><td>0.0</td><td>2.0</td><td>3.0</td><td>3.0</td><td>0.0</td><td>3.0</td><td>3.0</td><td>0.0</td><td>0.0</td><td>3.0</td></tr><tr><th>11</th><td>2</td><td>14695</td><td>8.2143</td><td>3.0</td><td>0.0</td><td>3.0</td><td>0.0</td><td>3.0</td><td>3.0</td><td>0.0</td><td>3.0</td><td>3.0</td><td>3.0</td><td>0.0</td><td>0.0</td><td>3.0</td><td>3.0</td><td>0.0</td><td>3.0</td><td>3.0</td><td>0.0</td><td>0.0</td><td>3.0</td></tr><tr><th>12</th><td>2</td><td>6790</td><td>5.03781</td><td>3.0</td><td>0.0</td><td>3.0</td><td>0.0</td><td>3.0</td><td>3.0</td><td>0.0</td><td>3.0</td><td>3.0</td><td>3.0</td><td>0.0</td><td>0.0</td><td>3.0</td><td>3.0</td><td>0.0</td><td>3.0</td><td>3.0</td><td>0.0</td><td>0.0</td><td>3.0</td></tr><tr><th>13</th><td>2</td><td>3916</td><td>11.5306</td><td>3.0</td><td>0.0</td><td>3.0</td><td>0.0</td><td>3.0</td><td>3.0</td><td>0.0</td><td>3.0</td><td>3.0</td><td>3.0</td><td>0.0</td><td>0.0</td><td>3.0</td><td>3.0</td><td>0.0</td><td>3.0</td><td>3.0</td><td>0.0</td><td>0.0</td><td>3.0</td></tr><tr><th>14</th><td>3</td><td>39</td><td>10.6661</td><td>3.0</td><td>0.0</td><td>3.0</td><td>0.0</td><td>3.0</td><td>3.0</td><td>0.0</td><td>3.0</td><td>3.0</td><td>3.0</td><td>0.0</td><td>0.0</td><td>3.0</td><td>3.0</td><td>0.0</td><td>3.0</td><td>3.0</td><td>0.0</td><td>0.0</td><td>3.0</td></tr><tr><th>15</th><td>3</td><td>4521</td><td>5.30367</td><td>3.0</td><td>0.0</td><td>3.0</td><td>0.0</td><td>3.0</td><td>3.0</td><td>0.0</td><td>3.0</td><td>3.0</td><td>3.0</td><td>0.0</td><td>0.0</td><td>3.0</td><td>3.0</td><td>0.0</td><td>3.0</td><td>3.0</td><td>0.0</td><td>0.0</td><td>3.0</td></tr><tr><th>16</th><td>3</td><td>8366</td><td>6.94509</td><td>3.0</td><td>0.0</td><td>3.0</td><td>0.0</td><td>3.0</td><td>3.0</td><td>0.0</td><td>3.0</td><td>3.0</td><td>3.0</td><td>0.0</td><td>0.0</td><td>3.0</td><td>3.0</td><td>2.0</td><td>3.0</td><td>3.0</td><td>0.0</td><td>0.0</td><td>3.0</td></tr><tr><th>17</th><td>3</td><td>16693</td><td>8.84335</td><td>3.0</td><td>0.0</td><td>3.0</td><td>0.0</td><td>3.0</td><td>3.0</td><td>0.0</td><td>3.0</td><td>3.0</td><td>3.0</td><td>0.0</td><td>0.0</td><td>3.0</td><td>3.0</td><td>0.0</td><td>3.0</td><td>3.0</td><td>0.0</td><td>0.0</td><td>3.0</td></tr><tr><th>18</th><td>3</td><td>21688</td><td>10.8689</td><td>3.0</td><td>0.0</td><td>3.0</td><td>0.0</td><td>3.0</td><td>3.0</td><td>0.0</td><td>3.0</td><td>3.0</td><td>3.0</td><td>0.0</td><td>0.0</td><td>3.0</td><td>3.0</td><td>0.0</td><td>3.0</td><td>3.0</td><td>0.0</td><td>0.0</td><td>3.0</td></tr><tr><th>19</th><td>3</td><td>25532</td><td>13.0446</td><td>3.0</td><td>0.0</td><td>3.0</td><td>0.0</td><td>3.0</td><td>3.0</td><td>0.0</td><td>3.0</td><td>3.0</td><td>3.0</td><td>0.0</td><td>0.0</td><td>3.0</td><td>3.0</td><td>0.0</td><td>3.0</td><td>3.0</td><td>0.0</td><td>0.0</td><td>3.0</td></tr><tr><th>20</th><td>3</td><td>26294</td><td>6.15681</td><td>3.0</td><td>0.0</td><td>3.0</td><td>0.0</td><td>3.0</td><td>3.0</td><td>0.0</td><td>3.0</td><td>3.0</td><td>3.0</td><td>0.0</td><td>0.0</td><td>3.0</td><td>3.0</td><td>0.0</td><td>3.0</td><td>3.0</td><td>0.0</td><td>0.0</td><td>3.0</td></tr><tr><th>21</th><td>3</td><td>16795</td><td>7.48947</td><td>3.0</td><td>0.0</td><td>3.0</td><td>0.0</td><td>3.0</td><td>3.0</td><td>0.0</td><td>3.0</td><td>3.0</td><td>3.0</td><td>0.0</td><td>0.0</td><td>3.0</td><td>3.0</td><td>0.0</td><td>3.0</td><td>3.0</td><td>0.0</td><td>0.0</td><td>3.0</td></tr><tr><th>22</th><td>3</td><td>17445</td><td>7.73911</td><td>3.0</td><td>0.0</td><td>3.0</td><td>0.0</td><td>3.0</td><td>3.0</td><td>0.0</td><td>3.0</td><td>3.0</td><td>3.0</td><td>0.0</td><td>0.0</td><td>3.0</td><td>3.0</td><td>2.0</td><td>3.0</td><td>3.0</td><td>0.0</td><td>0.0</td><td>3.0</td></tr><tr><th>23</th><td>3</td><td>2039</td><td>5.64123</td><td>3.0</td><td>0.0</td><td>3.0</td><td>0.0</td><td>3.0</td><td>3.0</td><td>0.0</td><td>3.0</td><td>3.0</td><td>3.0</td><td>0.0</td><td>0.0</td><td>3.0</td><td>3.0</td><td>2.0</td><td>3.0</td><td>3.0</td><td>0.0</td><td>0.0</td><td>3.0</td></tr><tr><th>24</th><td>3</td><td>2831</td><td>5.39446</td><td>3.0</td><td>0.0</td><td>3.0</td><td>0.0</td><td>3.0</td><td>3.0</td><td>0.0</td><td>3.0</td><td>3.0</td><td>3.0</td><td>0.0</td><td>0.0</td><td>3.0</td><td>3.0</td><td>2.0</td><td>3.0</td><td>3.0</td><td>0.0</td><td>0.0</td><td>3.0</td></tr><tr><th>25</th><td>4</td><td>54</td><td>12.1782</td><td>3.0</td><td>0.0</td><td>3.0</td><td>0.0</td><td>3.0</td><td>3.0</td><td>0.0</td><td>3.0</td><td>3.0</td><td>3.0</td><td>0.0</td><td>0.0</td><td>3.0</td><td>3.0</td><td>0.0</td><td>3.0</td><td>3.0</td><td>0.0</td><td>0.0</td><td>3.0</td></tr><tr><th>26</th><td>4</td><td>5072</td><td>8.8224</td><td>3.0</td><td>0.0</td><td>3.0</td><td>2.0</td><td>3.0</td><td>3.0</td><td>0.0</td><td>3.0</td><td>3.0</td><td>3.0</td><td>0.0</td><td>0.0</td><td>3.0</td><td>3.0</td><td>0.0</td><td>3.0</td><td>3.0</td><td>0.0</td><td>0.0</td><td>3.0</td></tr><tr><th>27</th><td>4</td><td>17240</td><td>7.79989</td><td>3.0</td><td>0.0</td><td>3.0</td><td>2.0</td><td>3.0</td><td>3.0</td><td>0.0</td><td>3.0</td><td>3.0</td><td>3.0</td><td>0.0</td><td>0.0</td><td>3.0</td><td>3.0</td><td>0.0</td><td>3.0</td><td>3.0</td><td>0.0</td><td>0.0</td><td>3.0</td></tr><tr><th>28</th><td>5</td><td>70</td><td>8.09516</td><td>3.0</td><td>0.0</td><td>3.0</td><td>0.0</td><td>3.0</td><td>3.0</td><td>0.0</td><td>3.0</td><td>3.0</td><td>3.0</td><td>0.0</td><td>0.0</td><td>3.0</td><td>3.0</td><td>0.0</td><td>3.0</td><td>3.0</td><td>0.0</td><td>0.0</td><td>3.0</td></tr><tr><th>29</th><td>5</td><td>24010</td><td>6.8345</td><td>3.0</td><td>0.0</td><td>3.0</td><td>0.0</td><td>3.0</td><td>3.0</td><td>2.0</td><td>3.0</td><td>3.0</td><td>3.0</td><td>0.0</td><td>0.0</td><td>3.0</td><td>3.0</td><td>0.0</td><td>3.0</td><td>3.0</td><td>0.0</td><td>0.0</td><td>3.0</td></tr><tr><th>30</th><td>5</td><td>21999</td><td>9.23262</td><td>3.0</td><td>0.0</td><td>3.0</td><td>0.0</td><td>3.0</td><td>3.0</td><td>0.0</td><td>3.0</td><td>3.0</td><td>3.0</td><td>0.0</td><td>0.0</td><td>3.0</td><td>3.0</td><td>0.0</td><td>3.0</td><td>3.0</td><td>0.0</td><td>0.0</td><td>3.0</td></tr><tr><th>&vellip;</th><td>&vellip;</td><td>&vellip;</td><td>&vellip;</td><td>&vellip;</td><td>&vellip;</td><td>&vellip;</td><td>&vellip;</td><td>&vellip;</td><td>&vellip;</td><td>&vellip;</td><td>&vellip;</td><td>&vellip;</td><td>&vellip;</td><td>&vellip;</td><td>&vellip;</td><td>&vellip;</td><td>&vellip;</td><td>&vellip;</td><td>&vellip;</td><td>&vellip;</td><td>&vellip;</td><td>&vellip;</td><td>&vellip;</td></tr></tbody></table>"
      ],
      "text/latex": [
       "\\begin{tabular}{r|ccccccccccccccccccccccc}\n",
       "\t& FamID & PID & trait1 & rs3020701 & rs181646587 & rs182902214 & rs184527030 & rs10409990 & rs185166611 & rs181637538 & rs186213888 & rs184010370 & rs11667161 & rs188819713 & rs182378235 & rs146361744 & rs190575937 & rs149949827 & rs117671630 & rs149171388 & rs188520640 & rs142722885 & rs146938393\\\\\n",
       "\t\\hline\n",
       "\t& Any & Any & Float64 & Float64 & Float64 & Float64 & Float64 & Float64 & Float64 & Float64 & Float64 & Float64 & Float64 & Float64 & Float64 & Float64 & Float64 & Float64 & Float64 & Float64 & Float64 & Float64 & Float64\\\\\n",
       "\t\\hline\n",
       "\t1 & 1 & 16 & 7.84557 & 3.0 & 0.0 & 3.0 & 0.0 & 3.0 & 3.0 & 0.0 & 3.0 & 3.0 & 3.0 & 0.0 & 0.0 & 3.0 & 3.0 & 0.0 & 3.0 & 3.0 & 0.0 & 0.0 & 3.0 \\\\\n",
       "\t2 & 1 & 8228 & 8.32246 & 3.0 & 0.0 & 3.0 & 0.0 & 3.0 & 3.0 & 0.0 & 3.0 & 3.0 & 3.0 & 0.0 & 0.0 & 3.0 & 3.0 & 0.0 & 3.0 & 3.0 & 0.0 & 0.0 & 3.0 \\\\\n",
       "\t3 & 1 & 17008 & 8.98565 & 3.0 & 0.0 & 3.0 & 0.0 & 3.0 & 3.0 & 0.0 & 3.0 & 3.0 & 3.0 & 0.0 & 0.0 & 3.0 & 3.0 & 0.0 & 3.0 & 3.0 & 0.0 & 0.0 & 3.0 \\\\\n",
       "\t4 & 1 & 9218 & 10.4579 & 3.0 & 0.0 & 3.0 & 0.0 & 3.0 & 3.0 & 0.0 & 3.0 & 3.0 & 3.0 & 0.0 & 0.0 & 3.0 & 3.0 & 0.0 & 3.0 & 3.0 & 0.0 & 0.0 & 3.0 \\\\\n",
       "\t5 & 1 & 3226 & 10.078 & 3.0 & 0.0 & 3.0 & 0.0 & 3.0 & 3.0 & 0.0 & 3.0 & 3.0 & 3.0 & 0.0 & 0.0 & 3.0 & 3.0 & 0.0 & 3.0 & 3.0 & 0.0 & 0.0 & 3.0 \\\\\n",
       "\t6 & 2 & 29 & 8.87202 & 3.0 & 0.0 & 3.0 & 0.0 & 3.0 & 3.0 & 0.0 & 3.0 & 3.0 & 3.0 & 0.0 & 0.0 & 3.0 & 3.0 & 0.0 & 3.0 & 3.0 & 0.0 & 0.0 & 3.0 \\\\\n",
       "\t7 & 2 & 2294 & 7.18824 & 3.0 & 0.0 & 3.0 & 0.0 & 3.0 & 3.0 & 0.0 & 3.0 & 3.0 & 3.0 & 0.0 & 0.0 & 3.0 & 3.0 & 0.0 & 3.0 & 3.0 & 0.0 & 0.0 & 3.0 \\\\\n",
       "\t8 & 2 & 3416 & 12.2827 & 3.0 & 0.0 & 3.0 & 0.0 & 3.0 & 3.0 & 0.0 & 3.0 & 3.0 & 3.0 & 0.0 & 2.0 & 3.0 & 3.0 & 0.0 & 3.0 & 3.0 & 0.0 & 0.0 & 3.0 \\\\\n",
       "\t9 & 2 & 17893 & 7.04519 & 3.0 & 0.0 & 3.0 & 0.0 & 3.0 & 3.0 & 0.0 & 3.0 & 3.0 & 3.0 & 0.0 & 0.0 & 3.0 & 3.0 & 0.0 & 3.0 & 3.0 & 0.0 & 0.0 & 3.0 \\\\\n",
       "\t10 & 2 & 6952 & 12.8496 & 3.0 & 0.0 & 3.0 & 0.0 & 3.0 & 3.0 & 0.0 & 3.0 & 3.0 & 3.0 & 0.0 & 2.0 & 3.0 & 3.0 & 0.0 & 3.0 & 3.0 & 0.0 & 0.0 & 3.0 \\\\\n",
       "\t11 & 2 & 14695 & 8.2143 & 3.0 & 0.0 & 3.0 & 0.0 & 3.0 & 3.0 & 0.0 & 3.0 & 3.0 & 3.0 & 0.0 & 0.0 & 3.0 & 3.0 & 0.0 & 3.0 & 3.0 & 0.0 & 0.0 & 3.0 \\\\\n",
       "\t12 & 2 & 6790 & 5.03781 & 3.0 & 0.0 & 3.0 & 0.0 & 3.0 & 3.0 & 0.0 & 3.0 & 3.0 & 3.0 & 0.0 & 0.0 & 3.0 & 3.0 & 0.0 & 3.0 & 3.0 & 0.0 & 0.0 & 3.0 \\\\\n",
       "\t13 & 2 & 3916 & 11.5306 & 3.0 & 0.0 & 3.0 & 0.0 & 3.0 & 3.0 & 0.0 & 3.0 & 3.0 & 3.0 & 0.0 & 0.0 & 3.0 & 3.0 & 0.0 & 3.0 & 3.0 & 0.0 & 0.0 & 3.0 \\\\\n",
       "\t14 & 3 & 39 & 10.6661 & 3.0 & 0.0 & 3.0 & 0.0 & 3.0 & 3.0 & 0.0 & 3.0 & 3.0 & 3.0 & 0.0 & 0.0 & 3.0 & 3.0 & 0.0 & 3.0 & 3.0 & 0.0 & 0.0 & 3.0 \\\\\n",
       "\t15 & 3 & 4521 & 5.30367 & 3.0 & 0.0 & 3.0 & 0.0 & 3.0 & 3.0 & 0.0 & 3.0 & 3.0 & 3.0 & 0.0 & 0.0 & 3.0 & 3.0 & 0.0 & 3.0 & 3.0 & 0.0 & 0.0 & 3.0 \\\\\n",
       "\t16 & 3 & 8366 & 6.94509 & 3.0 & 0.0 & 3.0 & 0.0 & 3.0 & 3.0 & 0.0 & 3.0 & 3.0 & 3.0 & 0.0 & 0.0 & 3.0 & 3.0 & 2.0 & 3.0 & 3.0 & 0.0 & 0.0 & 3.0 \\\\\n",
       "\t17 & 3 & 16693 & 8.84335 & 3.0 & 0.0 & 3.0 & 0.0 & 3.0 & 3.0 & 0.0 & 3.0 & 3.0 & 3.0 & 0.0 & 0.0 & 3.0 & 3.0 & 0.0 & 3.0 & 3.0 & 0.0 & 0.0 & 3.0 \\\\\n",
       "\t18 & 3 & 21688 & 10.8689 & 3.0 & 0.0 & 3.0 & 0.0 & 3.0 & 3.0 & 0.0 & 3.0 & 3.0 & 3.0 & 0.0 & 0.0 & 3.0 & 3.0 & 0.0 & 3.0 & 3.0 & 0.0 & 0.0 & 3.0 \\\\\n",
       "\t19 & 3 & 25532 & 13.0446 & 3.0 & 0.0 & 3.0 & 0.0 & 3.0 & 3.0 & 0.0 & 3.0 & 3.0 & 3.0 & 0.0 & 0.0 & 3.0 & 3.0 & 0.0 & 3.0 & 3.0 & 0.0 & 0.0 & 3.0 \\\\\n",
       "\t20 & 3 & 26294 & 6.15681 & 3.0 & 0.0 & 3.0 & 0.0 & 3.0 & 3.0 & 0.0 & 3.0 & 3.0 & 3.0 & 0.0 & 0.0 & 3.0 & 3.0 & 0.0 & 3.0 & 3.0 & 0.0 & 0.0 & 3.0 \\\\\n",
       "\t21 & 3 & 16795 & 7.48947 & 3.0 & 0.0 & 3.0 & 0.0 & 3.0 & 3.0 & 0.0 & 3.0 & 3.0 & 3.0 & 0.0 & 0.0 & 3.0 & 3.0 & 0.0 & 3.0 & 3.0 & 0.0 & 0.0 & 3.0 \\\\\n",
       "\t22 & 3 & 17445 & 7.73911 & 3.0 & 0.0 & 3.0 & 0.0 & 3.0 & 3.0 & 0.0 & 3.0 & 3.0 & 3.0 & 0.0 & 0.0 & 3.0 & 3.0 & 2.0 & 3.0 & 3.0 & 0.0 & 0.0 & 3.0 \\\\\n",
       "\t23 & 3 & 2039 & 5.64123 & 3.0 & 0.0 & 3.0 & 0.0 & 3.0 & 3.0 & 0.0 & 3.0 & 3.0 & 3.0 & 0.0 & 0.0 & 3.0 & 3.0 & 2.0 & 3.0 & 3.0 & 0.0 & 0.0 & 3.0 \\\\\n",
       "\t24 & 3 & 2831 & 5.39446 & 3.0 & 0.0 & 3.0 & 0.0 & 3.0 & 3.0 & 0.0 & 3.0 & 3.0 & 3.0 & 0.0 & 0.0 & 3.0 & 3.0 & 2.0 & 3.0 & 3.0 & 0.0 & 0.0 & 3.0 \\\\\n",
       "\t25 & 4 & 54 & 12.1782 & 3.0 & 0.0 & 3.0 & 0.0 & 3.0 & 3.0 & 0.0 & 3.0 & 3.0 & 3.0 & 0.0 & 0.0 & 3.0 & 3.0 & 0.0 & 3.0 & 3.0 & 0.0 & 0.0 & 3.0 \\\\\n",
       "\t26 & 4 & 5072 & 8.8224 & 3.0 & 0.0 & 3.0 & 2.0 & 3.0 & 3.0 & 0.0 & 3.0 & 3.0 & 3.0 & 0.0 & 0.0 & 3.0 & 3.0 & 0.0 & 3.0 & 3.0 & 0.0 & 0.0 & 3.0 \\\\\n",
       "\t27 & 4 & 17240 & 7.79989 & 3.0 & 0.0 & 3.0 & 2.0 & 3.0 & 3.0 & 0.0 & 3.0 & 3.0 & 3.0 & 0.0 & 0.0 & 3.0 & 3.0 & 0.0 & 3.0 & 3.0 & 0.0 & 0.0 & 3.0 \\\\\n",
       "\t28 & 5 & 70 & 8.09516 & 3.0 & 0.0 & 3.0 & 0.0 & 3.0 & 3.0 & 0.0 & 3.0 & 3.0 & 3.0 & 0.0 & 0.0 & 3.0 & 3.0 & 0.0 & 3.0 & 3.0 & 0.0 & 0.0 & 3.0 \\\\\n",
       "\t29 & 5 & 24010 & 6.8345 & 3.0 & 0.0 & 3.0 & 0.0 & 3.0 & 3.0 & 2.0 & 3.0 & 3.0 & 3.0 & 0.0 & 0.0 & 3.0 & 3.0 & 0.0 & 3.0 & 3.0 & 0.0 & 0.0 & 3.0 \\\\\n",
       "\t30 & 5 & 21999 & 9.23262 & 3.0 & 0.0 & 3.0 & 0.0 & 3.0 & 3.0 & 0.0 & 3.0 & 3.0 & 3.0 & 0.0 & 0.0 & 3.0 & 3.0 & 0.0 & 3.0 & 3.0 & 0.0 & 0.0 & 3.0 \\\\\n",
       "\t$\\dots$ & $\\dots$ & $\\dots$ & $\\dots$ & $\\dots$ & $\\dots$ & $\\dots$ & $\\dots$ & $\\dots$ & $\\dots$ & $\\dots$ & $\\dots$ & $\\dots$ & $\\dots$ & $\\dots$ & $\\dots$ & $\\dots$ & $\\dots$ & $\\dots$ & $\\dots$ & $\\dots$ & $\\dots$ & $\\dots$ & $\\dots$ \\\\\n",
       "\\end{tabular}\n"
      ],
      "text/plain": [
       "212×23 DataFrame. Omitted printing of 17 columns\n",
       "│ Row │ FamID │ PID   │ trait1  │ rs3020701 │ rs181646587 │ rs182902214 │\n",
       "│     │ \u001b[90mAny\u001b[39m   │ \u001b[90mAny\u001b[39m   │ \u001b[90mFloat64\u001b[39m │ \u001b[90mFloat64\u001b[39m   │ \u001b[90mFloat64\u001b[39m     │ \u001b[90mFloat64\u001b[39m     │\n",
       "├─────┼───────┼───────┼─────────┼───────────┼─────────────┼─────────────┤\n",
       "│ 1   │ 1     │ 16    │ 7.84557 │ 3.0       │ 0.0         │ 3.0         │\n",
       "│ 2   │ 1     │ 8228  │ 8.32246 │ 3.0       │ 0.0         │ 3.0         │\n",
       "│ 3   │ 1     │ 17008 │ 8.98565 │ 3.0       │ 0.0         │ 3.0         │\n",
       "│ 4   │ 1     │ 9218  │ 10.4579 │ 3.0       │ 0.0         │ 3.0         │\n",
       "│ 5   │ 1     │ 3226  │ 10.078  │ 3.0       │ 0.0         │ 3.0         │\n",
       "│ 6   │ 2     │ 29    │ 8.87202 │ 3.0       │ 0.0         │ 3.0         │\n",
       "│ 7   │ 2     │ 2294  │ 7.18824 │ 3.0       │ 0.0         │ 3.0         │\n",
       "│ 8   │ 2     │ 3416  │ 12.2827 │ 3.0       │ 0.0         │ 3.0         │\n",
       "│ 9   │ 2     │ 17893 │ 7.04519 │ 3.0       │ 0.0         │ 3.0         │\n",
       "│ 10  │ 2     │ 6952  │ 12.8496 │ 3.0       │ 0.0         │ 3.0         │\n",
       "⋮\n",
       "│ 202 │ 31    │ 16139 │ 10.3751 │ 3.0       │ 0.0         │ 3.0         │\n",
       "│ 203 │ 31    │ 10439 │ 7.68641 │ 3.0       │ 0.0         │ 3.0         │\n",
       "│ 204 │ 31    │ 63    │ 1.11429 │ 3.0       │ 0.0         │ 3.0         │\n",
       "│ 205 │ 10006 │ 66    │ 2.88378 │ 3.0       │ 0.0         │ 3.0         │\n",
       "│ 206 │ 10008 │ 92    │ 10.7848 │ 3.0       │ 0.0         │ 3.0         │\n",
       "│ 207 │ 10014 │ 186   │ 13.6784 │ 3.0       │ 0.0         │ 3.0         │\n",
       "│ 208 │ 10027 │ 374   │ 6.21142 │ 3.0       │ 0.0         │ 3.0         │\n",
       "│ 209 │ 10029 │ 434   │ 6.66031 │ 3.0       │ 0.0         │ 3.0         │\n",
       "│ 210 │ 10033 │ 333   │ 12.1829 │ 3.0       │ 0.0         │ 3.0         │\n",
       "│ 211 │ 10040 │ 234   │ 10.6314 │ 3.0       │ 0.0         │ 3.0         │\n",
       "│ 212 │ 10045 │ 789   │ 11.5362 │ 3.0       │ 0.0         │ 3.0         │"
      ]
     },
     "execution_count": 35,
     "metadata": {},
     "output_type": "execute_result"
    }
   ],
   "source": [
    "Trait2_mixed = hcat(Fam_Person_id, trait_rare_20_snps, geno_rare20_converted)"
   ]
  },
  {
   "cell_type": "code",
   "execution_count": 36,
   "metadata": {},
   "outputs": [
    {
     "data": {
      "text/html": [
       "<table class=\"data-frame\"><thead><tr><th></th><th>Coefficients</th><th>SNPs</th></tr><tr><th></th><th>Float64</th><th>SubStrin…</th></tr></thead><tbody><p>20 rows × 2 columns</p><tr><th>1</th><td>-0.616</td><td>rs3020701</td></tr><tr><th>2</th><td>-0.666</td><td>rs181646587</td></tr><tr><th>3</th><td>-0.818</td><td>rs182902214</td></tr><tr><th>4</th><td>-0.575</td><td>rs184527030</td></tr><tr><th>5</th><td>0.818</td><td>rs10409990</td></tr><tr><th>6</th><td>1.159</td><td>rs185166611</td></tr><tr><th>7</th><td>-0.945</td><td>rs181637538</td></tr><tr><th>8</th><td>-0.818</td><td>rs186213888</td></tr><tr><th>9</th><td>0.945</td><td>rs184010370</td></tr><tr><th>10</th><td>-1.641</td><td>rs11667161</td></tr><tr><th>11</th><td>-0.666</td><td>rs188819713</td></tr><tr><th>12</th><td>1.159</td><td>rs182378235</td></tr><tr><th>13</th><td>1.641</td><td>rs146361744</td></tr><tr><th>14</th><td>-1.159</td><td>rs190575937</td></tr><tr><th>15</th><td>-0.575</td><td>rs149949827</td></tr><tr><th>16</th><td>1.641</td><td>rs117671630</td></tr><tr><th>17</th><td>1.641</td><td>rs149171388</td></tr><tr><th>18</th><td>-1.641</td><td>rs188520640</td></tr><tr><th>19</th><td>0.575</td><td>rs142722885</td></tr><tr><th>20</th><td>-1.159</td><td>rs146938393</td></tr></tbody></table>"
      ],
      "text/latex": [
       "\\begin{tabular}{r|cc}\n",
       "\t& Coefficients & SNPs\\\\\n",
       "\t\\hline\n",
       "\t& Float64 & SubStrin…\\\\\n",
       "\t\\hline\n",
       "\t1 & -0.616 & rs3020701 \\\\\n",
       "\t2 & -0.666 & rs181646587 \\\\\n",
       "\t3 & -0.818 & rs182902214 \\\\\n",
       "\t4 & -0.575 & rs184527030 \\\\\n",
       "\t5 & 0.818 & rs10409990 \\\\\n",
       "\t6 & 1.159 & rs185166611 \\\\\n",
       "\t7 & -0.945 & rs181637538 \\\\\n",
       "\t8 & -0.818 & rs186213888 \\\\\n",
       "\t9 & 0.945 & rs184010370 \\\\\n",
       "\t10 & -1.641 & rs11667161 \\\\\n",
       "\t11 & -0.666 & rs188819713 \\\\\n",
       "\t12 & 1.159 & rs182378235 \\\\\n",
       "\t13 & 1.641 & rs146361744 \\\\\n",
       "\t14 & -1.159 & rs190575937 \\\\\n",
       "\t15 & -0.575 & rs149949827 \\\\\n",
       "\t16 & 1.641 & rs117671630 \\\\\n",
       "\t17 & 1.641 & rs149171388 \\\\\n",
       "\t18 & -1.641 & rs188520640 \\\\\n",
       "\t19 & 0.575 & rs142722885 \\\\\n",
       "\t20 & -1.159 & rs146938393 \\\\\n",
       "\\end{tabular}\n"
      ],
      "text/plain": [
       "20×2 DataFrame\n",
       "│ Row │ Coefficients │ SNPs        │\n",
       "│     │ \u001b[90mFloat64\u001b[39m      │ \u001b[90mSubStrin…\u001b[39m   │\n",
       "├─────┼──────────────┼─────────────┤\n",
       "│ 1   │ -0.616       │ rs3020701   │\n",
       "│ 2   │ -0.666       │ rs181646587 │\n",
       "│ 3   │ -0.818       │ rs182902214 │\n",
       "│ 4   │ -0.575       │ rs184527030 │\n",
       "│ 5   │ 0.818        │ rs10409990  │\n",
       "│ 6   │ 1.159        │ rs185166611 │\n",
       "│ 7   │ -0.945       │ rs181637538 │\n",
       "│ 8   │ -0.818       │ rs186213888 │\n",
       "│ 9   │ 0.945        │ rs184010370 │\n",
       "│ 10  │ -1.641       │ rs11667161  │\n",
       "│ 11  │ -0.666       │ rs188819713 │\n",
       "│ 12  │ 1.159        │ rs182378235 │\n",
       "│ 13  │ 1.641        │ rs146361744 │\n",
       "│ 14  │ -1.159       │ rs190575937 │\n",
       "│ 15  │ -0.575       │ rs149949827 │\n",
       "│ 16  │ 1.641        │ rs117671630 │\n",
       "│ 17  │ 1.641        │ rs149171388 │\n",
       "│ 18  │ -1.641       │ rs188520640 │\n",
       "│ 19  │ 0.575        │ rs142722885 │\n",
       "│ 20  │ -1.159       │ rs146938393 │"
      ]
     },
     "execution_count": 36,
     "metadata": {},
     "output_type": "execute_result"
    }
   ],
   "source": [
    "Coefficients = DataFrame(Coefficients = simulated_effectsizes_chisq)\n",
    "SNPs_rare = DataFrame(SNPs = rare_snps_for_simulation)\n",
    "Trait2_mixed_sim = hcat(Coefficients, SNPs_rare)\n"
   ]
  },
  {
   "cell_type": "code",
   "execution_count": 37,
   "metadata": {},
   "outputs": [],
   "source": [
    "#cd(\"/Users\") #change to home directory\n",
    "using CSV\n",
    "CSV.write(\"Trait2c_mixed.csv\", Trait2_mixed)\n",
    "CSV.write(\"Trait2c_mixed_sim.csv\", Trait2_mixed_sim);"
   ]
  }
 ],
 "metadata": {
  "@webio": {
   "lastCommId": null,
   "lastKernelId": null
  },
  "kernelspec": {
   "display_name": "Julia 1.0.3",
   "language": "julia",
   "name": "julia-1.0"
  },
  "language_info": {
   "file_extension": ".jl",
   "mimetype": "application/julia",
   "name": "julia",
   "version": "1.0.3"
  },
  "toc": {
   "base_numbering": 1,
   "nav_menu": {},
   "number_sections": true,
   "sideBar": true,
   "skip_h1_title": false,
   "title_cell": "Table of Contents",
   "title_sidebar": "Contents",
   "toc_cell": false,
   "toc_position": {},
   "toc_section_display": true,
   "toc_window_display": false
  }
 },
 "nbformat": 4,
 "nbformat_minor": 2
}
