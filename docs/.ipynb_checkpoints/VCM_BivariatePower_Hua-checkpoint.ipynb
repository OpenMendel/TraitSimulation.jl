{
 "cells": [
  {
   "cell_type": "markdown",
   "metadata": {},
   "source": [
    "Hi Hua,\n",
    "\n",
    "Here is the power calculation for an isolated reproducible case for 1 replicate. Y, X, V1, V2 specified and read in below."
   ]
  },
  {
   "cell_type": "code",
   "execution_count": 30,
   "metadata": {},
   "outputs": [
    {
     "data": {
      "text/plain": [
       "212×253141 SnpArray:\n",
       " 0x03  0x03  0x00  0x03  0x03  0x03  …  0x02  0x02  0x00  0x00  0x03  0x00\n",
       " 0x03  0x03  0x00  0x02  0x02  0x03     0x00  0x03  0x00  0x00  0x03  0x00\n",
       " 0x03  0x03  0x00  0x03  0x03  0x03     0x03  0x02  0x00  0x00  0x03  0x00\n",
       " 0x03  0x03  0x00  0x03  0x03  0x03     0x02  0x03  0x00  0x00  0x03  0x00\n",
       " 0x03  0x03  0x00  0x03  0x03  0x03     0x00  0x03  0x00  0x00  0x03  0x00\n",
       " 0x03  0x03  0x00  0x03  0x03  0x03  …  0x00  0x00  0x00  0x00  0x00  0x03\n",
       " 0x03  0x02  0x00  0x03  0x03  0x03     0x02  0x03  0x00  0x03  0x00  0x03\n",
       " 0x03  0x03  0x00  0x03  0x03  0x03     0x02  0x03  0x00  0x03  0x00  0x03\n",
       " 0x03  0x02  0x00  0x03  0x03  0x03     0x02  0x02  0x00  0x02  0x00  0x03\n",
       " 0x03  0x02  0x00  0x03  0x03  0x03     0x03  0x03  0x00  0x03  0x00  0x03\n",
       " 0x03  0x02  0x00  0x03  0x03  0x03  …  0x00  0x02  0x00  0x02  0x00  0x03\n",
       " 0x03  0x03  0x00  0x03  0x03  0x03     0x00  0x02  0x00  0x02  0x00  0x03\n",
       " 0x03  0x02  0x00  0x03  0x03  0x03     0x02  0x02  0x00  0x02  0x00  0x03\n",
       "    ⋮                             ⋮  ⋱     ⋮                             ⋮\n",
       " 0x03  0x03  0x00  0x03  0x03  0x03  …  0x00  0x03  0x00  0x00  0x03  0x00\n",
       " 0x03  0x03  0x00  0x03  0x03  0x03     0x00  0x03  0x00  0x02  0x02  0x02\n",
       " 0x03  0x03  0x00  0x03  0x03  0x03     0x00  0x02  0x00  0x00  0x03  0x00\n",
       " 0x03  0x02  0x00  0x02  0x02  0x03     0x02  0x03  0x00  0x03  0x00  0x03\n",
       " 0x03  0x03  0x00  0x02  0x02  0x03     0x02  0x03  0x00  0x00  0x03  0x00\n",
       " 0x03  0x03  0x00  0x03  0x03  0x03  …  0x02  0x03  0x00  0x02  0x02  0x00\n",
       " 0x03  0x03  0x00  0x02  0x02  0x03     0x02  0x03  0x00  0x00  0x02  0x02\n",
       " 0x03  0x03  0x00  0x03  0x03  0x03     0x00  0x03  0x00  0x00  0x03  0x00\n",
       " 0x03  0x02  0x00  0x03  0x03  0x03     0x02  0x03  0x00  0x00  0x02  0x02\n",
       " 0x03  0x03  0x00  0x03  0x03  0x03     0x00  0x03  0x00  0x00  0x03  0x00\n",
       " 0x03  0x03  0x00  0x03  0x03  0x03  …  0x02  0x03  0x00  0x00  0x03  0x00\n",
       " 0x03  0x03  0x00  0x03  0x03  0x03     0x00  0x03  0x00  0x02  0x02  0x02"
      ]
     },
     "execution_count": 30,
     "metadata": {},
     "output_type": "execute_result"
    }
   ],
   "source": [
    "using DataFrames, SnpArrays, Random, LinearAlgebra, VarianceComponentModels, TraitSimulation, DelimitedFiles\n",
    "Random.seed!(1234);\n",
    "snpdata = SnpArray(\"traitsim28e.bed\", 212)"
   ]
  },
  {
   "cell_type": "code",
   "execution_count": 101,
   "metadata": {},
   "outputs": [
    {
     "data": {
      "text/html": [
       "<table class=\"data-frame\"><thead><tr><th></th><th>int</th><th>sex</th><th>locus</th></tr><tr><th></th><th>Float64</th><th>Float64</th><th>Float64</th></tr></thead><tbody><p>212 rows × 3 columns</p><tr><th>1</th><td>1.0</td><td>-1.0</td><td>2.0</td></tr><tr><th>2</th><td>1.0</td><td>-1.0</td><td>0.0</td></tr><tr><th>3</th><td>1.0</td><td>1.0</td><td>2.0</td></tr><tr><th>4</th><td>1.0</td><td>1.0</td><td>2.0</td></tr><tr><th>5</th><td>1.0</td><td>-1.0</td><td>1.0</td></tr><tr><th>6</th><td>1.0</td><td>-1.0</td><td>1.0</td></tr><tr><th>7</th><td>1.0</td><td>1.0</td><td>1.0</td></tr><tr><th>8</th><td>1.0</td><td>1.0</td><td>2.0</td></tr><tr><th>9</th><td>1.0</td><td>-1.0</td><td>1.0</td></tr><tr><th>10</th><td>1.0</td><td>1.0</td><td>1.0</td></tr><tr><th>11</th><td>1.0</td><td>-1.0</td><td>0.0</td></tr><tr><th>12</th><td>1.0</td><td>1.0</td><td>0.0</td></tr><tr><th>13</th><td>1.0</td><td>-1.0</td><td>0.0</td></tr><tr><th>14</th><td>1.0</td><td>-1.0</td><td>1.0</td></tr><tr><th>15</th><td>1.0</td><td>-1.0</td><td>2.0</td></tr><tr><th>16</th><td>1.0</td><td>1.0</td><td>1.0</td></tr><tr><th>17</th><td>1.0</td><td>-1.0</td><td>2.0</td></tr><tr><th>18</th><td>1.0</td><td>1.0</td><td>2.0</td></tr><tr><th>19</th><td>1.0</td><td>-1.0</td><td>2.0</td></tr><tr><th>20</th><td>1.0</td><td>1.0</td><td>1.0</td></tr><tr><th>21</th><td>1.0</td><td>-1.0</td><td>1.0</td></tr><tr><th>22</th><td>1.0</td><td>1.0</td><td>2.0</td></tr><tr><th>23</th><td>1.0</td><td>1.0</td><td>2.0</td></tr><tr><th>24</th><td>1.0</td><td>1.0</td><td>1.0</td></tr><tr><th>25</th><td>1.0</td><td>-1.0</td><td>2.0</td></tr><tr><th>26</th><td>1.0</td><td>1.0</td><td>2.0</td></tr><tr><th>27</th><td>1.0</td><td>-1.0</td><td>2.0</td></tr><tr><th>28</th><td>1.0</td><td>-1.0</td><td>1.0</td></tr><tr><th>29</th><td>1.0</td><td>1.0</td><td>1.0</td></tr><tr><th>30</th><td>1.0</td><td>1.0</td><td>0.0</td></tr><tr><th>&vellip;</th><td>&vellip;</td><td>&vellip;</td><td>&vellip;</td></tr></tbody></table>"
      ],
      "text/latex": [
       "\\begin{tabular}{r|ccc}\n",
       "\t& int & sex & locus\\\\\n",
       "\t\\hline\n",
       "\t& Float64 & Float64 & Float64\\\\\n",
       "\t\\hline\n",
       "\t1 & 1.0 & -1.0 & 2.0 \\\\\n",
       "\t2 & 1.0 & -1.0 & 0.0 \\\\\n",
       "\t3 & 1.0 & 1.0 & 2.0 \\\\\n",
       "\t4 & 1.0 & 1.0 & 2.0 \\\\\n",
       "\t5 & 1.0 & -1.0 & 1.0 \\\\\n",
       "\t6 & 1.0 & -1.0 & 1.0 \\\\\n",
       "\t7 & 1.0 & 1.0 & 1.0 \\\\\n",
       "\t8 & 1.0 & 1.0 & 2.0 \\\\\n",
       "\t9 & 1.0 & -1.0 & 1.0 \\\\\n",
       "\t10 & 1.0 & 1.0 & 1.0 \\\\\n",
       "\t11 & 1.0 & -1.0 & 0.0 \\\\\n",
       "\t12 & 1.0 & 1.0 & 0.0 \\\\\n",
       "\t13 & 1.0 & -1.0 & 0.0 \\\\\n",
       "\t14 & 1.0 & -1.0 & 1.0 \\\\\n",
       "\t15 & 1.0 & -1.0 & 2.0 \\\\\n",
       "\t16 & 1.0 & 1.0 & 1.0 \\\\\n",
       "\t17 & 1.0 & -1.0 & 2.0 \\\\\n",
       "\t18 & 1.0 & 1.0 & 2.0 \\\\\n",
       "\t19 & 1.0 & -1.0 & 2.0 \\\\\n",
       "\t20 & 1.0 & 1.0 & 1.0 \\\\\n",
       "\t21 & 1.0 & -1.0 & 1.0 \\\\\n",
       "\t22 & 1.0 & 1.0 & 2.0 \\\\\n",
       "\t23 & 1.0 & 1.0 & 2.0 \\\\\n",
       "\t24 & 1.0 & 1.0 & 1.0 \\\\\n",
       "\t25 & 1.0 & -1.0 & 2.0 \\\\\n",
       "\t26 & 1.0 & 1.0 & 2.0 \\\\\n",
       "\t27 & 1.0 & -1.0 & 2.0 \\\\\n",
       "\t28 & 1.0 & -1.0 & 1.0 \\\\\n",
       "\t29 & 1.0 & 1.0 & 1.0 \\\\\n",
       "\t30 & 1.0 & 1.0 & 0.0 \\\\\n",
       "\t$\\dots$ & $\\dots$ & $\\dots$ & $\\dots$ \\\\\n",
       "\\end{tabular}\n"
      ],
      "text/plain": [
       "212×3 DataFrame\n",
       "│ Row │ int     │ sex     │ locus   │\n",
       "│     │ \u001b[90mFloat64\u001b[39m │ \u001b[90mFloat64\u001b[39m │ \u001b[90mFloat64\u001b[39m │\n",
       "├─────┼─────────┼─────────┼─────────┤\n",
       "│ 1   │ 1.0     │ -1.0    │ 2.0     │\n",
       "│ 2   │ 1.0     │ -1.0    │ 0.0     │\n",
       "│ 3   │ 1.0     │ 1.0     │ 2.0     │\n",
       "│ 4   │ 1.0     │ 1.0     │ 2.0     │\n",
       "│ 5   │ 1.0     │ -1.0    │ 1.0     │\n",
       "│ 6   │ 1.0     │ -1.0    │ 1.0     │\n",
       "│ 7   │ 1.0     │ 1.0     │ 1.0     │\n",
       "│ 8   │ 1.0     │ 1.0     │ 2.0     │\n",
       "│ 9   │ 1.0     │ -1.0    │ 1.0     │\n",
       "│ 10  │ 1.0     │ 1.0     │ 1.0     │\n",
       "⋮\n",
       "│ 202 │ 1.0     │ 1.0     │ 1.0     │\n",
       "│ 203 │ 1.0     │ 1.0     │ 2.0     │\n",
       "│ 204 │ 1.0     │ -1.0    │ 1.0     │\n",
       "│ 205 │ 1.0     │ 1.0     │ 2.0     │\n",
       "│ 206 │ 1.0     │ 1.0     │ 1.0     │\n",
       "│ 207 │ 1.0     │ 1.0     │ 1.0     │\n",
       "│ 208 │ 1.0     │ 1.0     │ 1.0     │\n",
       "│ 209 │ 1.0     │ 1.0     │ 1.0     │\n",
       "│ 210 │ 1.0     │ 1.0     │ 1.0     │\n",
       "│ 211 │ 1.0     │ 1.0     │ 2.0     │\n",
       "│ 212 │ 1.0     │ 1.0     │ 0.0     │"
      ]
     },
     "execution_count": 101,
     "metadata": {},
     "output_type": "execute_result"
    }
   ],
   "source": [
    "X_data = readdlm(\"X.csv\", ',', header = true)\n",
    "X_data = DataFrame(int = X_data[1][:, 1], sex = X_data[1][:, 2], locus = X_data[1][:, 3])"
   ]
  },
  {
   "cell_type": "code",
   "execution_count": 105,
   "metadata": {},
   "outputs": [
    {
     "data": {
      "text/plain": [
       "2-element Array{VarianceComponent,1}:\n",
       " VarianceComponent([4.0 1.0; 1.0 4.0], [0.488859 0.00422798 … 0.0187809 0.000152741; 0.00422798 0.515141 … -0.0220944 -0.0162381; … ; 0.0187809 -0.0220944 … 0.556933 0.0380902; 0.000152741 -0.0162381 … 0.0380902 0.502935], Cholesky{Float64,Array{Float64,2}}([2.0 0.5; 1.0 1.93649], 'U', 0), Cholesky{Float64,Array{Float64,2}}([0.699184 0.00604701 … 0.0268612 0.000218456; 0.00422798 0.717708 … -0.031011 -0.0226268; … ; 0.0187809 -0.0220944 … 0.47731 -0.47731; 0.000152741 -0.0162381 … 0.0380902 1.07766e-6], 'U', 0))\n",
       " VarianceComponent([2.0 0.0; 0.0 2.0], [1.0 0.0 … 0.0 0.0; 0.0 1.0 … 0.0 0.0; … ; 0.0 0.0 … 1.0 0.0; 0.0 0.0 … 0.0 1.0], Cholesky{Float64,Array{Float64,2}}([1.41421 0.0; 0.0 1.41421], 'U', 0), Cholesky{Float64,Array{Float64,2}}([1.0 0.0 … 0.0 0.0; 0.0 1.0 … 0.0 0.0; … ; 0.0 0.0 … 1.0 0.0; 0.0 0.0 … 0.0 1.0], 'U', 0))                                                                                                                                                                                                       "
      ]
     },
     "execution_count": 105,
     "metadata": {},
     "output_type": "execute_result"
    }
   ],
   "source": [
    "GRM = grm(snpdata, method= :GRM)\n",
    "A_1 = [4 1; 1 4] #V_a\n",
    "V_1 = GRM\n",
    "A_2 = [2.0 0.0; 0.0 2.0] #V_e\n",
    "V_2 = Matrix{Float64}(I, size(GRM))\n",
    "variancecomp = @vc A_1 ⊗ V_1 + A_2 ⊗ V_2"
   ]
  },
  {
   "cell_type": "code",
   "execution_count": 109,
   "metadata": {},
   "outputs": [
    {
     "data": {
      "text/plain": [
       "PowerCalculation (generic function with 1 method)"
      ]
     },
     "execution_count": 109,
     "metadata": {},
     "output_type": "execute_result"
    }
   ],
   "source": [
    "function PowerCalculation(X, vc, trait_alternative, alpha, B)\n",
    "    Σ_tuple, V_tuple = vcobjtuple(vc)\n",
    "    pvalue = zeros(B)\n",
    "    #rejectH0 = zeros(B) #allocate for rejecting H0\n",
    "    \n",
    "    for i in 1:B\n",
    "    \n",
    "    # ALTERNATE MODEL (UNRESTRICTED)\n",
    "    # the ith of the B simulated traits under the alternative model specified from user simulation\n",
    "    trait_alt = Matrix(trait_alternative[i])\n",
    "    vcdata_alt = VarianceComponentVariate(trait_alt, Matrix(X), V_tuple) #Where X = [int sex locus] \n",
    "    vcmodel_alt = VarianceComponentModel(vcdata_alt)\n",
    "    vcmodel_mle = deepcopy(vcmodel_alt)\n",
    "    logl_alt, _, _, _, _, _ = fit_mle!(vcmodel_mle, vcdata_alt; algo = :MM)\n",
    "\n",
    "    # ALTERNATE MODEL (UNRESTRICTED)\n",
    "    vcdata_null = VarianceComponentVariate(trait_alt, Matrix(X[:, 1:end - 1]), V_tuple)\n",
    "    vcmodel_null = VarianceComponentModel(vcdata_null)\n",
    "    vcmodel_mle2 = deepcopy(vcmodel_null)\n",
    "    logl_null, _, _, _, _, _ = fit_mle!(vcmodel_mle2, vcdata_alt; algo = :MM)\n",
    "    \n",
    "    TestStat = 2*(logl_alt - logl_null)\n",
    "    pvalue[i] = ccdf(Chisq(1), TestStat)\n",
    "#     if(TestStat > cquantile(Chisq(1), alpha))\n",
    "#         rejectH0[i] = 1\n",
    "#         else rejectH0[i] = 0\n",
    "#     end\n",
    "#5. The statistical power is the proportion of p-values that are lower than a specified α-level\n",
    "end\n",
    "\n",
    "    # The statistical power\n",
    "return(sum(pvalue .< alpha)/ B)\n",
    "end"
   ]
  },
  {
   "cell_type": "code",
   "execution_count": 104,
   "metadata": {},
   "outputs": [
    {
     "data": {
      "text/html": [
       "<table class=\"data-frame\"><thead><tr><th></th><th>Trait1</th><th>Trait2</th></tr><tr><th></th><th>Float64</th><th>Float64</th></tr></thead><tbody><p>212 rows × 2 columns</p><tr><th>1</th><td>34.0</td><td>15.0</td></tr><tr><th>2</th><td>37.0</td><td>18.0</td></tr><tr><th>3</th><td>40.0</td><td>19.0</td></tr><tr><th>4</th><td>40.0</td><td>19.0</td></tr><tr><th>5</th><td>35.5</td><td>16.5</td></tr><tr><th>6</th><td>35.5</td><td>16.5</td></tr><tr><th>7</th><td>41.5</td><td>20.5</td></tr><tr><th>8</th><td>40.0</td><td>19.0</td></tr><tr><th>9</th><td>35.5</td><td>16.5</td></tr><tr><th>10</th><td>41.5</td><td>20.5</td></tr><tr><th>11</th><td>37.0</td><td>18.0</td></tr><tr><th>12</th><td>43.0</td><td>22.0</td></tr><tr><th>13</th><td>37.0</td><td>18.0</td></tr><tr><th>14</th><td>35.5</td><td>16.5</td></tr><tr><th>15</th><td>34.0</td><td>15.0</td></tr><tr><th>16</th><td>41.5</td><td>20.5</td></tr><tr><th>17</th><td>34.0</td><td>15.0</td></tr><tr><th>18</th><td>40.0</td><td>19.0</td></tr><tr><th>19</th><td>34.0</td><td>15.0</td></tr><tr><th>20</th><td>41.5</td><td>20.5</td></tr><tr><th>21</th><td>35.5</td><td>16.5</td></tr><tr><th>22</th><td>40.0</td><td>19.0</td></tr><tr><th>23</th><td>40.0</td><td>19.0</td></tr><tr><th>24</th><td>41.5</td><td>20.5</td></tr><tr><th>25</th><td>34.0</td><td>15.0</td></tr><tr><th>26</th><td>40.0</td><td>19.0</td></tr><tr><th>27</th><td>34.0</td><td>15.0</td></tr><tr><th>28</th><td>35.5</td><td>16.5</td></tr><tr><th>29</th><td>41.5</td><td>20.5</td></tr><tr><th>30</th><td>43.0</td><td>22.0</td></tr><tr><th>&vellip;</th><td>&vellip;</td><td>&vellip;</td></tr></tbody></table>"
      ],
      "text/latex": [
       "\\begin{tabular}{r|cc}\n",
       "\t& Trait1 & Trait2\\\\\n",
       "\t\\hline\n",
       "\t& Float64 & Float64\\\\\n",
       "\t\\hline\n",
       "\t1 & 34.0 & 15.0 \\\\\n",
       "\t2 & 37.0 & 18.0 \\\\\n",
       "\t3 & 40.0 & 19.0 \\\\\n",
       "\t4 & 40.0 & 19.0 \\\\\n",
       "\t5 & 35.5 & 16.5 \\\\\n",
       "\t6 & 35.5 & 16.5 \\\\\n",
       "\t7 & 41.5 & 20.5 \\\\\n",
       "\t8 & 40.0 & 19.0 \\\\\n",
       "\t9 & 35.5 & 16.5 \\\\\n",
       "\t10 & 41.5 & 20.5 \\\\\n",
       "\t11 & 37.0 & 18.0 \\\\\n",
       "\t12 & 43.0 & 22.0 \\\\\n",
       "\t13 & 37.0 & 18.0 \\\\\n",
       "\t14 & 35.5 & 16.5 \\\\\n",
       "\t15 & 34.0 & 15.0 \\\\\n",
       "\t16 & 41.5 & 20.5 \\\\\n",
       "\t17 & 34.0 & 15.0 \\\\\n",
       "\t18 & 40.0 & 19.0 \\\\\n",
       "\t19 & 34.0 & 15.0 \\\\\n",
       "\t20 & 41.5 & 20.5 \\\\\n",
       "\t21 & 35.5 & 16.5 \\\\\n",
       "\t22 & 40.0 & 19.0 \\\\\n",
       "\t23 & 40.0 & 19.0 \\\\\n",
       "\t24 & 41.5 & 20.5 \\\\\n",
       "\t25 & 34.0 & 15.0 \\\\\n",
       "\t26 & 40.0 & 19.0 \\\\\n",
       "\t27 & 34.0 & 15.0 \\\\\n",
       "\t28 & 35.5 & 16.5 \\\\\n",
       "\t29 & 41.5 & 20.5 \\\\\n",
       "\t30 & 43.0 & 22.0 \\\\\n",
       "\t$\\dots$ & $\\dots$ & $\\dots$ \\\\\n",
       "\\end{tabular}\n"
      ],
      "text/plain": [
       "212×2 DataFrame\n",
       "│ Row │ Trait1  │ Trait2  │\n",
       "│     │ \u001b[90mFloat64\u001b[39m │ \u001b[90mFloat64\u001b[39m │\n",
       "├─────┼─────────┼─────────┤\n",
       "│ 1   │ 34.0    │ 15.0    │\n",
       "│ 2   │ 37.0    │ 18.0    │\n",
       "│ 3   │ 40.0    │ 19.0    │\n",
       "│ 4   │ 40.0    │ 19.0    │\n",
       "│ 5   │ 35.5    │ 16.5    │\n",
       "│ 6   │ 35.5    │ 16.5    │\n",
       "│ 7   │ 41.5    │ 20.5    │\n",
       "│ 8   │ 40.0    │ 19.0    │\n",
       "│ 9   │ 35.5    │ 16.5    │\n",
       "│ 10  │ 41.5    │ 20.5    │\n",
       "⋮\n",
       "│ 202 │ 41.5    │ 20.5    │\n",
       "│ 203 │ 40.0    │ 19.0    │\n",
       "│ 204 │ 35.5    │ 16.5    │\n",
       "│ 205 │ 40.0    │ 19.0    │\n",
       "│ 206 │ 41.5    │ 20.5    │\n",
       "│ 207 │ 41.5    │ 20.5    │\n",
       "│ 208 │ 41.5    │ 20.5    │\n",
       "│ 209 │ 41.5    │ 20.5    │\n",
       "│ 210 │ 41.5    │ 20.5    │\n",
       "│ 211 │ 40.0    │ 19.0    │\n",
       "│ 212 │ 43.0    │ 22.0    │"
      ]
     },
     "execution_count": 104,
     "metadata": {},
     "output_type": "execute_result"
    }
   ],
   "source": [
    "Y_data = readdlm(\"Y.csv\", ','; header= true)\n",
    "Y_data = DataFrame(Trait1 = Y_data[1][:, 1], Trait2 = Y_data[1][:, 2])"
   ]
  },
  {
   "cell_type": "code",
   "execution_count": 107,
   "metadata": {},
   "outputs": [
    {
     "data": {
      "text/plain": [
       "10-element Array{DataFrame,1}:\n",
       " 212×2 DataFrame\n",
       "│ Row │ trait1  │ trait2  │\n",
       "│     │ \u001b[90mFloat64\u001b[39m │ \u001b[90mFloat64\u001b[39m │\n",
       "├─────┼─────────┼─────────┤\n",
       "│ 1   │ 34.0    │ 15.0    │\n",
       "│ 2   │ 37.0    │ 18.0    │\n",
       "│ 3   │ 40.0    │ 19.0    │\n",
       "│ 4   │ 40.0    │ 19.0    │\n",
       "│ 5   │ 35.5    │ 16.5    │\n",
       "│ 6   │ 35.5    │ 16.5    │\n",
       "│ 7   │ 41.5    │ 20.5    │\n",
       "│ 8   │ 40.0    │ 19.0    │\n",
       "│ 9   │ 35.5    │ 16.5    │\n",
       "│ 10  │ 41.5    │ 20.5    │\n",
       "⋮\n",
       "│ 202 │ 41.5    │ 20.5    │\n",
       "│ 203 │ 40.0    │ 19.0    │\n",
       "│ 204 │ 35.5    │ 16.5    │\n",
       "│ 205 │ 40.0    │ 19.0    │\n",
       "│ 206 │ 41.5    │ 20.5    │\n",
       "│ 207 │ 41.5    │ 20.5    │\n",
       "│ 208 │ 41.5    │ 20.5    │\n",
       "│ 209 │ 41.5    │ 20.5    │\n",
       "│ 210 │ 41.5    │ 20.5    │\n",
       "│ 211 │ 40.0    │ 19.0    │\n",
       "│ 212 │ 43.0    │ 22.0    │\n",
       " 212×2 DataFrame\n",
       "│ Row │ trait1  │ trait2  │\n",
       "│     │ \u001b[90mFloat64\u001b[39m │ \u001b[90mFloat64\u001b[39m │\n",
       "├─────┼─────────┼─────────┤\n",
       "│ 1   │ 34.0    │ 15.0    │\n",
       "│ 2   │ 37.0    │ 18.0    │\n",
       "│ 3   │ 40.0    │ 19.0    │\n",
       "│ 4   │ 40.0    │ 19.0    │\n",
       "│ 5   │ 35.5    │ 16.5    │\n",
       "│ 6   │ 35.5    │ 16.5    │\n",
       "│ 7   │ 41.5    │ 20.5    │\n",
       "│ 8   │ 40.0    │ 19.0    │\n",
       "│ 9   │ 35.5    │ 16.5    │\n",
       "│ 10  │ 41.5    │ 20.5    │\n",
       "⋮\n",
       "│ 202 │ 41.5    │ 20.5    │\n",
       "│ 203 │ 40.0    │ 19.0    │\n",
       "│ 204 │ 35.5    │ 16.5    │\n",
       "│ 205 │ 40.0    │ 19.0    │\n",
       "│ 206 │ 41.5    │ 20.5    │\n",
       "│ 207 │ 41.5    │ 20.5    │\n",
       "│ 208 │ 41.5    │ 20.5    │\n",
       "│ 209 │ 41.5    │ 20.5    │\n",
       "│ 210 │ 41.5    │ 20.5    │\n",
       "│ 211 │ 40.0    │ 19.0    │\n",
       "│ 212 │ 43.0    │ 22.0    │\n",
       " 212×2 DataFrame\n",
       "│ Row │ trait1  │ trait2  │\n",
       "│     │ \u001b[90mFloat64\u001b[39m │ \u001b[90mFloat64\u001b[39m │\n",
       "├─────┼─────────┼─────────┤\n",
       "│ 1   │ 34.0    │ 15.0    │\n",
       "│ 2   │ 37.0    │ 18.0    │\n",
       "│ 3   │ 40.0    │ 19.0    │\n",
       "│ 4   │ 40.0    │ 19.0    │\n",
       "│ 5   │ 35.5    │ 16.5    │\n",
       "│ 6   │ 35.5    │ 16.5    │\n",
       "│ 7   │ 41.5    │ 20.5    │\n",
       "│ 8   │ 40.0    │ 19.0    │\n",
       "│ 9   │ 35.5    │ 16.5    │\n",
       "│ 10  │ 41.5    │ 20.5    │\n",
       "⋮\n",
       "│ 202 │ 41.5    │ 20.5    │\n",
       "│ 203 │ 40.0    │ 19.0    │\n",
       "│ 204 │ 35.5    │ 16.5    │\n",
       "│ 205 │ 40.0    │ 19.0    │\n",
       "│ 206 │ 41.5    │ 20.5    │\n",
       "│ 207 │ 41.5    │ 20.5    │\n",
       "│ 208 │ 41.5    │ 20.5    │\n",
       "│ 209 │ 41.5    │ 20.5    │\n",
       "│ 210 │ 41.5    │ 20.5    │\n",
       "│ 211 │ 40.0    │ 19.0    │\n",
       "│ 212 │ 43.0    │ 22.0    │\n",
       " 212×2 DataFrame\n",
       "│ Row │ trait1  │ trait2  │\n",
       "│     │ \u001b[90mFloat64\u001b[39m │ \u001b[90mFloat64\u001b[39m │\n",
       "├─────┼─────────┼─────────┤\n",
       "│ 1   │ 34.0    │ 15.0    │\n",
       "│ 2   │ 37.0    │ 18.0    │\n",
       "│ 3   │ 40.0    │ 19.0    │\n",
       "│ 4   │ 40.0    │ 19.0    │\n",
       "│ 5   │ 35.5    │ 16.5    │\n",
       "│ 6   │ 35.5    │ 16.5    │\n",
       "│ 7   │ 41.5    │ 20.5    │\n",
       "│ 8   │ 40.0    │ 19.0    │\n",
       "│ 9   │ 35.5    │ 16.5    │\n",
       "│ 10  │ 41.5    │ 20.5    │\n",
       "⋮\n",
       "│ 202 │ 41.5    │ 20.5    │\n",
       "│ 203 │ 40.0    │ 19.0    │\n",
       "│ 204 │ 35.5    │ 16.5    │\n",
       "│ 205 │ 40.0    │ 19.0    │\n",
       "│ 206 │ 41.5    │ 20.5    │\n",
       "│ 207 │ 41.5    │ 20.5    │\n",
       "│ 208 │ 41.5    │ 20.5    │\n",
       "│ 209 │ 41.5    │ 20.5    │\n",
       "│ 210 │ 41.5    │ 20.5    │\n",
       "│ 211 │ 40.0    │ 19.0    │\n",
       "│ 212 │ 43.0    │ 22.0    │\n",
       " 212×2 DataFrame\n",
       "│ Row │ trait1  │ trait2  │\n",
       "│     │ \u001b[90mFloat64\u001b[39m │ \u001b[90mFloat64\u001b[39m │\n",
       "├─────┼─────────┼─────────┤\n",
       "│ 1   │ 34.0    │ 15.0    │\n",
       "│ 2   │ 37.0    │ 18.0    │\n",
       "│ 3   │ 40.0    │ 19.0    │\n",
       "│ 4   │ 40.0    │ 19.0    │\n",
       "│ 5   │ 35.5    │ 16.5    │\n",
       "│ 6   │ 35.5    │ 16.5    │\n",
       "│ 7   │ 41.5    │ 20.5    │\n",
       "│ 8   │ 40.0    │ 19.0    │\n",
       "│ 9   │ 35.5    │ 16.5    │\n",
       "│ 10  │ 41.5    │ 20.5    │\n",
       "⋮\n",
       "│ 202 │ 41.5    │ 20.5    │\n",
       "│ 203 │ 40.0    │ 19.0    │\n",
       "│ 204 │ 35.5    │ 16.5    │\n",
       "│ 205 │ 40.0    │ 19.0    │\n",
       "│ 206 │ 41.5    │ 20.5    │\n",
       "│ 207 │ 41.5    │ 20.5    │\n",
       "│ 208 │ 41.5    │ 20.5    │\n",
       "│ 209 │ 41.5    │ 20.5    │\n",
       "│ 210 │ 41.5    │ 20.5    │\n",
       "│ 211 │ 40.0    │ 19.0    │\n",
       "│ 212 │ 43.0    │ 22.0    │\n",
       " 212×2 DataFrame\n",
       "│ Row │ trait1  │ trait2  │\n",
       "│     │ \u001b[90mFloat64\u001b[39m │ \u001b[90mFloat64\u001b[39m │\n",
       "├─────┼─────────┼─────────┤\n",
       "│ 1   │ 34.0    │ 15.0    │\n",
       "│ 2   │ 37.0    │ 18.0    │\n",
       "│ 3   │ 40.0    │ 19.0    │\n",
       "│ 4   │ 40.0    │ 19.0    │\n",
       "│ 5   │ 35.5    │ 16.5    │\n",
       "│ 6   │ 35.5    │ 16.5    │\n",
       "│ 7   │ 41.5    │ 20.5    │\n",
       "│ 8   │ 40.0    │ 19.0    │\n",
       "│ 9   │ 35.5    │ 16.5    │\n",
       "│ 10  │ 41.5    │ 20.5    │\n",
       "⋮\n",
       "│ 202 │ 41.5    │ 20.5    │\n",
       "│ 203 │ 40.0    │ 19.0    │\n",
       "│ 204 │ 35.5    │ 16.5    │\n",
       "│ 205 │ 40.0    │ 19.0    │\n",
       "│ 206 │ 41.5    │ 20.5    │\n",
       "│ 207 │ 41.5    │ 20.5    │\n",
       "│ 208 │ 41.5    │ 20.5    │\n",
       "│ 209 │ 41.5    │ 20.5    │\n",
       "│ 210 │ 41.5    │ 20.5    │\n",
       "│ 211 │ 40.0    │ 19.0    │\n",
       "│ 212 │ 43.0    │ 22.0    │\n",
       " 212×2 DataFrame\n",
       "│ Row │ trait1  │ trait2  │\n",
       "│     │ \u001b[90mFloat64\u001b[39m │ \u001b[90mFloat64\u001b[39m │\n",
       "├─────┼─────────┼─────────┤\n",
       "│ 1   │ 34.0    │ 15.0    │\n",
       "│ 2   │ 37.0    │ 18.0    │\n",
       "│ 3   │ 40.0    │ 19.0    │\n",
       "│ 4   │ 40.0    │ 19.0    │\n",
       "│ 5   │ 35.5    │ 16.5    │\n",
       "│ 6   │ 35.5    │ 16.5    │\n",
       "│ 7   │ 41.5    │ 20.5    │\n",
       "│ 8   │ 40.0    │ 19.0    │\n",
       "│ 9   │ 35.5    │ 16.5    │\n",
       "│ 10  │ 41.5    │ 20.5    │\n",
       "⋮\n",
       "│ 202 │ 41.5    │ 20.5    │\n",
       "│ 203 │ 40.0    │ 19.0    │\n",
       "│ 204 │ 35.5    │ 16.5    │\n",
       "│ 205 │ 40.0    │ 19.0    │\n",
       "│ 206 │ 41.5    │ 20.5    │\n",
       "│ 207 │ 41.5    │ 20.5    │\n",
       "│ 208 │ 41.5    │ 20.5    │\n",
       "│ 209 │ 41.5    │ 20.5    │\n",
       "│ 210 │ 41.5    │ 20.5    │\n",
       "│ 211 │ 40.0    │ 19.0    │\n",
       "│ 212 │ 43.0    │ 22.0    │\n",
       " 212×2 DataFrame\n",
       "│ Row │ trait1  │ trait2  │\n",
       "│     │ \u001b[90mFloat64\u001b[39m │ \u001b[90mFloat64\u001b[39m │\n",
       "├─────┼─────────┼─────────┤\n",
       "│ 1   │ 34.0    │ 15.0    │\n",
       "│ 2   │ 37.0    │ 18.0    │\n",
       "│ 3   │ 40.0    │ 19.0    │\n",
       "│ 4   │ 40.0    │ 19.0    │\n",
       "│ 5   │ 35.5    │ 16.5    │\n",
       "│ 6   │ 35.5    │ 16.5    │\n",
       "│ 7   │ 41.5    │ 20.5    │\n",
       "│ 8   │ 40.0    │ 19.0    │\n",
       "│ 9   │ 35.5    │ 16.5    │\n",
       "│ 10  │ 41.5    │ 20.5    │\n",
       "⋮\n",
       "│ 202 │ 41.5    │ 20.5    │\n",
       "│ 203 │ 40.0    │ 19.0    │\n",
       "│ 204 │ 35.5    │ 16.5    │\n",
       "│ 205 │ 40.0    │ 19.0    │\n",
       "│ 206 │ 41.5    │ 20.5    │\n",
       "│ 207 │ 41.5    │ 20.5    │\n",
       "│ 208 │ 41.5    │ 20.5    │\n",
       "│ 209 │ 41.5    │ 20.5    │\n",
       "│ 210 │ 41.5    │ 20.5    │\n",
       "│ 211 │ 40.0    │ 19.0    │\n",
       "│ 212 │ 43.0    │ 22.0    │\n",
       " 212×2 DataFrame\n",
       "│ Row │ trait1  │ trait2  │\n",
       "│     │ \u001b[90mFloat64\u001b[39m │ \u001b[90mFloat64\u001b[39m │\n",
       "├─────┼─────────┼─────────┤\n",
       "│ 1   │ 34.0    │ 15.0    │\n",
       "│ 2   │ 37.0    │ 18.0    │\n",
       "│ 3   │ 40.0    │ 19.0    │\n",
       "│ 4   │ 40.0    │ 19.0    │\n",
       "│ 5   │ 35.5    │ 16.5    │\n",
       "│ 6   │ 35.5    │ 16.5    │\n",
       "│ 7   │ 41.5    │ 20.5    │\n",
       "│ 8   │ 40.0    │ 19.0    │\n",
       "│ 9   │ 35.5    │ 16.5    │\n",
       "│ 10  │ 41.5    │ 20.5    │\n",
       "⋮\n",
       "│ 202 │ 41.5    │ 20.5    │\n",
       "│ 203 │ 40.0    │ 19.0    │\n",
       "│ 204 │ 35.5    │ 16.5    │\n",
       "│ 205 │ 40.0    │ 19.0    │\n",
       "│ 206 │ 41.5    │ 20.5    │\n",
       "│ 207 │ 41.5    │ 20.5    │\n",
       "│ 208 │ 41.5    │ 20.5    │\n",
       "│ 209 │ 41.5    │ 20.5    │\n",
       "│ 210 │ 41.5    │ 20.5    │\n",
       "│ 211 │ 40.0    │ 19.0    │\n",
       "│ 212 │ 43.0    │ 22.0    │\n",
       " 212×2 DataFrame\n",
       "│ Row │ trait1  │ trait2  │\n",
       "│     │ \u001b[90mFloat64\u001b[39m │ \u001b[90mFloat64\u001b[39m │\n",
       "├─────┼─────────┼─────────┤\n",
       "│ 1   │ 34.0    │ 15.0    │\n",
       "│ 2   │ 37.0    │ 18.0    │\n",
       "│ 3   │ 40.0    │ 19.0    │\n",
       "│ 4   │ 40.0    │ 19.0    │\n",
       "│ 5   │ 35.5    │ 16.5    │\n",
       "│ 6   │ 35.5    │ 16.5    │\n",
       "│ 7   │ 41.5    │ 20.5    │\n",
       "│ 8   │ 40.0    │ 19.0    │\n",
       "│ 9   │ 35.5    │ 16.5    │\n",
       "│ 10  │ 41.5    │ 20.5    │\n",
       "⋮\n",
       "│ 202 │ 41.5    │ 20.5    │\n",
       "│ 203 │ 40.0    │ 19.0    │\n",
       "│ 204 │ 35.5    │ 16.5    │\n",
       "│ 205 │ 40.0    │ 19.0    │\n",
       "│ 206 │ 41.5    │ 20.5    │\n",
       "│ 207 │ 41.5    │ 20.5    │\n",
       "│ 208 │ 41.5    │ 20.5    │\n",
       "│ 209 │ 41.5    │ 20.5    │\n",
       "│ 210 │ 41.5    │ 20.5    │\n",
       "│ 211 │ 40.0    │ 19.0    │\n",
       "│ 212 │ 43.0    │ 22.0    │"
      ]
     },
     "execution_count": 107,
     "metadata": {},
     "output_type": "execute_result"
    }
   ],
   "source": [
    "formulas = [\"40 + 3(sex) - 1.5(locus)\", \"20 + 2(sex) - 1.5(locus)\"]\n",
    "alternative_model = LMMTrait(formulas, X_data, variancecomp)\n",
    "trait_alternative = simulate(alternative_model, 10)"
   ]
  },
  {
   "cell_type": "code",
   "execution_count": 108,
   "metadata": {},
   "outputs": [
    {
     "data": {
      "text/plain": [
       "(([4.0 1.0; 1.0 4.0], [2.0 0.0; 0.0 2.0]), ([0.488859 0.00422798 … 0.0187809 0.000152741; 0.00422798 0.515141 … -0.0220944 -0.0162381; … ; 0.0187809 -0.0220944 … 0.556933 0.0380902; 0.000152741 -0.0162381 … 0.0380902 0.502935], [1.0 0.0 … 0.0 0.0; 0.0 1.0 … 0.0 0.0; … ; 0.0 0.0 … 1.0 0.0; 0.0 0.0 … 0.0 1.0]))"
      ]
     },
     "execution_count": 108,
     "metadata": {},
     "output_type": "execute_result"
    }
   ],
   "source": [
    "Σ_tuple, V_tuple = vcobjtuple(variancecomp)"
   ]
  },
  {
   "cell_type": "code",
   "execution_count": 111,
   "metadata": {},
   "outputs": [
    {
     "data": {
      "text/plain": [
       "VarianceComponentModel{Float64,2,Array{Float64,2},Array{Float64,2}}([0.0 0.0; 0.0 0.0; 0.0 0.0], ([1.0 0.0; 0.0 1.0], [1.0 0.0; 0.0 1.0]), Array{Float64}(0,6), Char[], Float64[], -Inf, Inf)"
      ]
     },
     "execution_count": 111,
     "metadata": {},
     "output_type": "execute_result"
    }
   ],
   "source": [
    "i = 1\n",
    "\n",
    "trait_alt = Matrix(trait_alternative[i])\n",
    "vcdata_alt = VarianceComponentVariate(trait_alt, Matrix(X_data), V_tuple)\n",
    "vcmodel_alt = VarianceComponentModel(vcdata_alt)"
   ]
  },
  {
   "cell_type": "code",
   "execution_count": 112,
   "metadata": {},
   "outputs": [
    {
     "name": "stdout",
     "output_type": "stream",
     "text": [
      "\n",
      "     MM Algorithm\n",
      "  Iter      Objective  \n",
      "--------  -------------\n",
      "       0  -1.902351e+05\n",
      "\n",
      "******************************************************************************\n",
      "This program contains Ipopt, a library for large-scale nonlinear optimization.\n",
      " Ipopt is released as open source code under the Eclipse Public License (EPL).\n",
      "         For more information visit http://projects.coin-or.org/Ipopt\n",
      "******************************************************************************\n",
      "\n",
      "       1  -7.670247e+02\n",
      "       2   3.515554e+03\n",
      "       3   3.515554e+03\n",
      "       4   3.515554e+03\n",
      "\n"
     ]
    },
    {
     "data": {
      "text/plain": [
       "3515.5543796391203"
      ]
     },
     "execution_count": 112,
     "metadata": {},
     "output_type": "execute_result"
    }
   ],
   "source": [
    "vcmodel_mle = deepcopy(vcmodel_alt)\n",
    "logl_alt = fit_mle!(vcmodel_mle, vcdata_alt; algo = :MM)[1]"
   ]
  },
  {
   "cell_type": "code",
   "execution_count": 115,
   "metadata": {},
   "outputs": [
    {
     "data": {
      "text/plain": [
       "VarianceComponentModel{Float64,2,Array{Float64,2},Array{Float64,2}}([0.0 0.0; 0.0 0.0], ([1.0 0.0; 0.0 1.0], [1.0 0.0; 0.0 1.0]), Array{Float64}(0,4), Char[], Float64[], -Inf, Inf)"
      ]
     },
     "execution_count": 115,
     "metadata": {},
     "output_type": "execute_result"
    }
   ],
   "source": [
    "vcdata_null = VarianceComponentVariate(trait_alt, Matrix(X_data[:, 1:end - 1]), V_tuple)\n",
    "vcmodel_null = VarianceComponentModel(vcdata_null)"
   ]
  },
  {
   "cell_type": "code",
   "execution_count": 117,
   "metadata": {},
   "outputs": [
    {
     "name": "stdout",
     "output_type": "stream",
     "text": [
      "\n",
      "     MM Algorithm\n",
      "  Iter      Objective  \n",
      "--------  -------------\n",
      "       0  -1.902351e+05\n",
      "       1  -7.940617e+02\n",
      "       2  -3.057355e+02\n",
      "       3  -1.049745e+02\n",
      "       4  -6.938884e+00\n",
      "       5   4.952685e+01\n",
      "       6   8.431957e+01\n",
      "       7   1.071966e+02\n",
      "       8   1.234621e+02\n",
      "       9   1.360254e+02\n",
      "      10   1.465097e+02\n",
      "      20   2.485976e+02\n"
     ]
    },
    {
     "ename": "PosDefException",
     "evalue": "PosDefException: matrix is not positive definite; Cholesky factorization failed.",
     "output_type": "error",
     "traceback": [
      "PosDefException: matrix is not positive definite; Cholesky factorization failed.",
      "",
      "Stacktrace:",
      " [1] chkposdef at /Users/julia/buildbot/worker/package_macos64/build/usr/share/julia/stdlib/v1.1/LinearAlgebra/src/lapack.jl:50 [inlined]",
      " [2] sygvd!(::Int64, ::Char, ::Char, ::Array{Float64,2}, ::Array{Float64,2}) at /Users/julia/buildbot/worker/package_macos64/build/usr/share/julia/stdlib/v1.1/LinearAlgebra/src/lapack.jl:5075",
      " [3] eigen! at /Users/julia/buildbot/worker/package_macos64/build/usr/share/julia/stdlib/v1.1/LinearAlgebra/src/symmetric.jl:646 [inlined]",
      " [4] eigen(::Symmetric{Float64,Array{Float64,2}}, ::Symmetric{Float64,Array{Float64,2}}) at /Users/julia/buildbot/worker/package_macos64/build/usr/share/julia/stdlib/v1.1/LinearAlgebra/src/eigen.jl:383",
      " [5] TwoVarCompModelRotate(::VarianceComponentModel{Float64,2,Array{Float64,2},Array{Float64,2}}) at /Users/sarahji/.julia/packages/VarianceComponentModels/6qDHu/src/VarianceComponentModels.jl:119",
      " [6] update_meanparam!(::VarianceComponentModel{Float64,2,Array{Float64,2},Array{Float64,2}}, ::TwoVarCompVariateRotate{Float64,Array{Float64,2},Array{Float64,2}}, ::Ipopt.IpoptSolver, ::VarianceComponentAuxData{Array{Float64,2},Array{Float64,1}}) at /Users/sarahji/.julia/packages/VarianceComponentModels/6qDHu/src/two_variance_component.jl:599",
      " [7] #mle_mm!#30(::Int64, ::Float64, ::Symbol, ::Bool, ::Function, ::VarianceComponentModel{Float64,2,Array{Float64,2},Array{Float64,2}}, ::TwoVarCompVariateRotate{Float64,Array{Float64,2},Array{Float64,2}}) at /Users/sarahji/.julia/packages/VarianceComponentModels/6qDHu/src/two_variance_component.jl:1145",
      " [8] mle_mm! at /Users/sarahji/.julia/packages/VarianceComponentModels/6qDHu/src/two_variance_component.jl:1114 [inlined]",
      " [9] #fit_mle!#31 at /Users/sarahji/.julia/packages/VarianceComponentModels/6qDHu/src/two_variance_component.jl:1211 [inlined]",
      " [10] (::getfield(VarianceComponentModels, Symbol(\"#kw##fit_mle!\")))(::NamedTuple{(:algo,),Tuple{Symbol}}, ::typeof(fit_mle!), ::VarianceComponentModel{Float64,2,Array{Float64,2},Array{Float64,2}}, ::VarianceComponentVariate{Float64,2,Array{Float64,2},Array{Float64,2},Array{Float64,2}}) at ./none:0",
      " [11] top-level scope at In[117]:2"
     ]
    }
   ],
   "source": [
    "vcmodel_mle = deepcopy(vcmodel_null)\n",
    "logl_null = fit_mle!(vcmodel_mle, vcdata_null; algo = :MM)[1]"
   ]
  }
 ],
 "metadata": {
  "kernelspec": {
   "display_name": "Julia 1.1.1",
   "language": "julia",
   "name": "julia-1.1"
  },
  "language_info": {
   "file_extension": ".jl",
   "mimetype": "application/julia",
   "name": "julia",
   "version": "1.1.1"
  },
  "toc": {
   "base_numbering": 1,
   "nav_menu": {},
   "number_sections": true,
   "sideBar": true,
   "skip_h1_title": false,
   "title_cell": "Table of Contents",
   "title_sidebar": "Contents",
   "toc_cell": false,
   "toc_position": {},
   "toc_section_display": true,
   "toc_window_display": false
  }
 },
 "nbformat": 4,
 "nbformat_minor": 2
}
