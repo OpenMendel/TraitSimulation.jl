{
 "cells": [
  {
   "cell_type": "markdown",
   "metadata": {},
   "source": [
    "# Random k Rare Snps Example\n",
    "\n",
    "In this example we use SnpArrays.jl to simulate a trait from an Exponential distribution. With prespecified k number of snps, with simulated effect sizes based off of minor allele frequencies.\n",
    "\n",
    "Using SnpArrays.jl we read in the set of PLINK files for analysis, filter the set of PLINK files from our desired parameters, and output the stored files to our own machine. \n"
   ]
  },
  {
   "cell_type": "code",
   "execution_count": 1,
   "metadata": {},
   "outputs": [
    {
     "name": "stderr",
     "output_type": "stream",
     "text": [
      "┌ Info: Recompiling stale cache file /Users/sarahji/.julia/compiled/v1.2/TraitSimulation/VikWX.ji for TraitSimulation [dec3038e-29bc-11e9-2207-9f3d5855a202]\n",
      "└ @ Base loading.jl:1240\n"
     ]
    }
   ],
   "source": [
    "using SnpArrays, TraitSimulation, LinearAlgebra, DataFrames"
   ]
  },
  {
   "cell_type": "code",
   "execution_count": 2,
   "metadata": {},
   "outputs": [],
   "source": [
    "# User specifies the number of snps to use for simulation\n",
    "k = 5\n",
    "ResponseDistribution = ExponentialResponse()\n",
    "InverseLinkFunction = LogLink();"
   ]
  },
  {
   "cell_type": "markdown",
   "metadata": {},
   "source": [
    "# Data\n",
    "\n",
    "Our Data comes from the data directory of the SnpArrays.jl package. We can easily filter the set of PLINK using SnpArrays.jl, and save to our own machine the filtered PLINK files.\n",
    "\n",
    "\n",
    "## Input PLINK files"
   ]
  },
  {
   "cell_type": "code",
   "execution_count": 3,
   "metadata": {},
   "outputs": [
    {
     "data": {
      "text/plain": [
       "\"/Users/sarahji/.julia/packages/SnpArrays/d0iJw/src/../data/EUR_subset\""
      ]
     },
     "execution_count": 3,
     "metadata": {},
     "output_type": "execute_result"
    }
   ],
   "source": [
    "filepath = SnpArrays.datadir(\"EUR_subset\")"
   ]
  },
  {
   "cell_type": "code",
   "execution_count": 4,
   "metadata": {},
   "outputs": [],
   "source": [
    "EUR_snpdata = SnpArray(filepath * \".bed\")\n",
    "rowmask, colmask =  SnpArrays.filter(EUR_snpdata, min_success_rate_per_row = 0.98, min_success_rate_per_col = 0.98, min_maf = 0.02);"
   ]
  },
  {
   "cell_type": "code",
   "execution_count": 5,
   "metadata": {},
   "outputs": [],
   "source": [
    "SnpData(SnpArrays.datadir(filepath));"
   ]
  },
  {
   "cell_type": "markdown",
   "metadata": {},
   "source": [
    "# Example: Exponential GLM Trait"
   ]
  },
  {
   "cell_type": "markdown",
   "metadata": {},
   "source": [
    "$$\n",
    "Y ∼ N(\\mu, 4* 2GRM + 2I)\n",
    "$$\n"
   ]
  },
  {
   "cell_type": "code",
   "execution_count": 7,
   "metadata": {},
   "outputs": [
    {
     "data": {
      "text/html": [
       "<table class=\"data-frame\"><thead><tr><th></th><th>rs34151105</th><th>rs113560219</th><th>rs1882989</th><th>rs8069133</th><th>rs112221137</th></tr><tr><th></th><th>Float64</th><th>Float64</th><th>Float64</th><th>Float64</th><th>Float64</th></tr></thead><tbody><p>379 rows × 5 columns</p><tr><th>1</th><td>2.0</td><td>2.0</td><td>1.0</td><td>1.0</td><td>2.0</td></tr><tr><th>2</th><td>2.0</td><td>2.0</td><td>1.0</td><td>2.0</td><td>2.0</td></tr><tr><th>3</th><td>2.0</td><td>2.0</td><td>2.0</td><td>2.0</td><td>2.0</td></tr><tr><th>4</th><td>2.0</td><td>2.0</td><td>0.0</td><td>2.0</td><td>2.0</td></tr><tr><th>5</th><td>2.0</td><td>2.0</td><td>0.0</td><td>2.0</td><td>2.0</td></tr><tr><th>6</th><td>1.0</td><td>2.0</td><td>2.0</td><td>2.0</td><td>2.0</td></tr><tr><th>7</th><td>1.0</td><td>2.0</td><td>1.0</td><td>1.0</td><td>2.0</td></tr><tr><th>8</th><td>1.0</td><td>2.0</td><td>2.0</td><td>1.0</td><td>1.0</td></tr><tr><th>9</th><td>2.0</td><td>2.0</td><td>0.0</td><td>1.0</td><td>2.0</td></tr><tr><th>10</th><td>1.0</td><td>2.0</td><td>1.0</td><td>2.0</td><td>1.0</td></tr><tr><th>11</th><td>2.0</td><td>2.0</td><td>1.0</td><td>2.0</td><td>2.0</td></tr><tr><th>12</th><td>2.0</td><td>2.0</td><td>1.0</td><td>2.0</td><td>2.0</td></tr><tr><th>13</th><td>2.0</td><td>2.0</td><td>1.0</td><td>1.0</td><td>2.0</td></tr><tr><th>14</th><td>2.0</td><td>1.0</td><td>0.0</td><td>1.0</td><td>2.0</td></tr><tr><th>15</th><td>2.0</td><td>2.0</td><td>1.0</td><td>1.0</td><td>1.0</td></tr><tr><th>16</th><td>2.0</td><td>1.0</td><td>1.0</td><td>1.0</td><td>1.0</td></tr><tr><th>17</th><td>2.0</td><td>2.0</td><td>1.0</td><td>1.0</td><td>2.0</td></tr><tr><th>18</th><td>2.0</td><td>2.0</td><td>0.0</td><td>2.0</td><td>2.0</td></tr><tr><th>19</th><td>2.0</td><td>2.0</td><td>1.0</td><td>1.0</td><td>2.0</td></tr><tr><th>20</th><td>2.0</td><td>2.0</td><td>1.0</td><td>1.0</td><td>2.0</td></tr><tr><th>21</th><td>2.0</td><td>2.0</td><td>1.0</td><td>2.0</td><td>2.0</td></tr><tr><th>22</th><td>2.0</td><td>2.0</td><td>0.0</td><td>1.0</td><td>2.0</td></tr><tr><th>23</th><td>2.0</td><td>2.0</td><td>0.0</td><td>1.0</td><td>2.0</td></tr><tr><th>24</th><td>2.0</td><td>1.0</td><td>0.0</td><td>1.0</td><td>1.0</td></tr><tr><th>25</th><td>2.0</td><td>2.0</td><td>0.0</td><td>0.0</td><td>2.0</td></tr><tr><th>26</th><td>2.0</td><td>1.0</td><td>1.0</td><td>1.0</td><td>1.0</td></tr><tr><th>27</th><td>2.0</td><td>2.0</td><td>1.0</td><td>2.0</td><td>2.0</td></tr><tr><th>28</th><td>2.0</td><td>2.0</td><td>2.0</td><td>2.0</td><td>2.0</td></tr><tr><th>29</th><td>2.0</td><td>2.0</td><td>2.0</td><td>1.0</td><td>2.0</td></tr><tr><th>30</th><td>2.0</td><td>2.0</td><td>1.0</td><td>1.0</td><td>2.0</td></tr><tr><th>&vellip;</th><td>&vellip;</td><td>&vellip;</td><td>&vellip;</td><td>&vellip;</td><td>&vellip;</td></tr></tbody></table>"
      ],
      "text/latex": [
       "\\begin{tabular}{r|ccccc}\n",
       "\t& rs34151105 & rs113560219 & rs1882989 & rs8069133 & rs112221137\\\\\n",
       "\t\\hline\n",
       "\t& Float64 & Float64 & Float64 & Float64 & Float64\\\\\n",
       "\t\\hline\n",
       "\t1 & 2.0 & 2.0 & 1.0 & 1.0 & 2.0 \\\\\n",
       "\t2 & 2.0 & 2.0 & 1.0 & 2.0 & 2.0 \\\\\n",
       "\t3 & 2.0 & 2.0 & 2.0 & 2.0 & 2.0 \\\\\n",
       "\t4 & 2.0 & 2.0 & 0.0 & 2.0 & 2.0 \\\\\n",
       "\t5 & 2.0 & 2.0 & 0.0 & 2.0 & 2.0 \\\\\n",
       "\t6 & 1.0 & 2.0 & 2.0 & 2.0 & 2.0 \\\\\n",
       "\t7 & 1.0 & 2.0 & 1.0 & 1.0 & 2.0 \\\\\n",
       "\t8 & 1.0 & 2.0 & 2.0 & 1.0 & 1.0 \\\\\n",
       "\t9 & 2.0 & 2.0 & 0.0 & 1.0 & 2.0 \\\\\n",
       "\t10 & 1.0 & 2.0 & 1.0 & 2.0 & 1.0 \\\\\n",
       "\t11 & 2.0 & 2.0 & 1.0 & 2.0 & 2.0 \\\\\n",
       "\t12 & 2.0 & 2.0 & 1.0 & 2.0 & 2.0 \\\\\n",
       "\t13 & 2.0 & 2.0 & 1.0 & 1.0 & 2.0 \\\\\n",
       "\t14 & 2.0 & 1.0 & 0.0 & 1.0 & 2.0 \\\\\n",
       "\t15 & 2.0 & 2.0 & 1.0 & 1.0 & 1.0 \\\\\n",
       "\t16 & 2.0 & 1.0 & 1.0 & 1.0 & 1.0 \\\\\n",
       "\t17 & 2.0 & 2.0 & 1.0 & 1.0 & 2.0 \\\\\n",
       "\t18 & 2.0 & 2.0 & 0.0 & 2.0 & 2.0 \\\\\n",
       "\t19 & 2.0 & 2.0 & 1.0 & 1.0 & 2.0 \\\\\n",
       "\t20 & 2.0 & 2.0 & 1.0 & 1.0 & 2.0 \\\\\n",
       "\t21 & 2.0 & 2.0 & 1.0 & 2.0 & 2.0 \\\\\n",
       "\t22 & 2.0 & 2.0 & 0.0 & 1.0 & 2.0 \\\\\n",
       "\t23 & 2.0 & 2.0 & 0.0 & 1.0 & 2.0 \\\\\n",
       "\t24 & 2.0 & 1.0 & 0.0 & 1.0 & 1.0 \\\\\n",
       "\t25 & 2.0 & 2.0 & 0.0 & 0.0 & 2.0 \\\\\n",
       "\t26 & 2.0 & 1.0 & 1.0 & 1.0 & 1.0 \\\\\n",
       "\t27 & 2.0 & 2.0 & 1.0 & 2.0 & 2.0 \\\\\n",
       "\t28 & 2.0 & 2.0 & 2.0 & 2.0 & 2.0 \\\\\n",
       "\t29 & 2.0 & 2.0 & 2.0 & 1.0 & 2.0 \\\\\n",
       "\t30 & 2.0 & 2.0 & 1.0 & 1.0 & 2.0 \\\\\n",
       "\t$\\dots$ & $\\dots$ & $\\dots$ & $\\dots$ & $\\dots$ & $\\dots$ \\\\\n",
       "\\end{tabular}\n"
      ],
      "text/plain": [
       "379×5 DataFrame\n",
       "│ Row │ rs34151105 │ rs113560219 │ rs1882989 │ rs8069133 │ rs112221137 │\n",
       "│     │ \u001b[90mFloat64\u001b[39m    │ \u001b[90mFloat64\u001b[39m     │ \u001b[90mFloat64\u001b[39m   │ \u001b[90mFloat64\u001b[39m   │ \u001b[90mFloat64\u001b[39m     │\n",
       "├─────┼────────────┼─────────────┼───────────┼───────────┼─────────────┤\n",
       "│ 1   │ 2.0        │ 2.0         │ 1.0       │ 1.0       │ 2.0         │\n",
       "│ 2   │ 2.0        │ 2.0         │ 1.0       │ 2.0       │ 2.0         │\n",
       "│ 3   │ 2.0        │ 2.0         │ 2.0       │ 2.0       │ 2.0         │\n",
       "│ 4   │ 2.0        │ 2.0         │ 0.0       │ 2.0       │ 2.0         │\n",
       "│ 5   │ 2.0        │ 2.0         │ 0.0       │ 2.0       │ 2.0         │\n",
       "│ 6   │ 1.0        │ 2.0         │ 2.0       │ 2.0       │ 2.0         │\n",
       "│ 7   │ 1.0        │ 2.0         │ 1.0       │ 1.0       │ 2.0         │\n",
       "│ 8   │ 1.0        │ 2.0         │ 2.0       │ 1.0       │ 1.0         │\n",
       "│ 9   │ 2.0        │ 2.0         │ 0.0       │ 1.0       │ 2.0         │\n",
       "│ 10  │ 1.0        │ 2.0         │ 1.0       │ 2.0       │ 1.0         │\n",
       "⋮\n",
       "│ 369 │ 2.0        │ 2.0         │ 1.0       │ 1.0       │ 2.0         │\n",
       "│ 370 │ 2.0        │ 2.0         │ 1.0       │ 1.0       │ 2.0         │\n",
       "│ 371 │ 1.0        │ 2.0         │ 1.0       │ 2.0       │ 2.0         │\n",
       "│ 372 │ 2.0        │ 2.0         │ 0.0       │ 0.0       │ 2.0         │\n",
       "│ 373 │ 1.0        │ 2.0         │ 2.0       │ 2.0       │ 2.0         │\n",
       "│ 374 │ 2.0        │ 2.0         │ 1.0       │ 2.0       │ 2.0         │\n",
       "│ 375 │ 2.0        │ 2.0         │ 1.0       │ 2.0       │ 2.0         │\n",
       "│ 376 │ 1.0        │ 2.0         │ 2.0       │ 2.0       │ 2.0         │\n",
       "│ 377 │ 2.0        │ 2.0         │ 0.0       │ 2.0       │ 2.0         │\n",
       "│ 378 │ 1.0        │ 2.0         │ 1.0       │ 0.0       │ 1.0         │\n",
       "│ 379 │ 2.0        │ 2.0         │ 1.0       │ 1.0       │ 2.0         │"
      ]
     },
     "execution_count": 7,
     "metadata": {},
     "output_type": "execute_result"
    }
   ],
   "source": [
    "meanformula, ES, df = Generate_Random_Model_Chisq(\"tmp_filtered_EURdata\", k)\n",
    "df"
   ]
  },
  {
   "cell_type": "code",
   "execution_count": 8,
   "metadata": {},
   "outputs": [
    {
     "data": {
      "text/plain": [
       "5-element Array{Float64,1}:\n",
       "  0.33691883856125   \n",
       " -0.48312605987491186\n",
       " -0.20004457041833135\n",
       "  0.21403891114130175\n",
       "  0.34764424897095303"
      ]
     },
     "execution_count": 8,
     "metadata": {},
     "output_type": "execute_result"
    }
   ],
   "source": [
    "ES"
   ]
  },
  {
   "cell_type": "code",
   "execution_count": 12,
   "metadata": {},
   "outputs": [
    {
     "data": {
      "text/plain": [
       "379-element Array{Float64,1}:\n",
       " 0.12716478511016469\n",
       " 0.16725443529787087\n",
       " 0.07177516747909278\n",
       " 0.3004234733613135 \n",
       " 1.1200645810021495 \n",
       " 0.0715877141221013 \n",
       " 1.8217490687080495 \n",
       " 0.3553584958639212 \n",
       " 1.6161700489290174 \n",
       " 0.5508123951094465 \n",
       " 0.07134615474953974\n",
       " 0.8189498087892602 \n",
       " 2.504663655593077  \n",
       " ⋮                  \n",
       " 0.7185580220290531 \n",
       " 0.06152095650583073\n",
       " 0.3208334025357145 \n",
       " 0.547671050086926  \n",
       " 0.06308026691745156\n",
       " 0.7726246115550569 \n",
       " 0.27501931538928687\n",
       " 0.3129044787998209 \n",
       " 0.5102493972192254 \n",
       " 0.36916085218768596\n",
       " 0.3875262368116244 \n",
       " 0.00925508978215359"
      ]
     },
     "execution_count": 12,
     "metadata": {},
     "output_type": "execute_result"
    }
   ],
   "source": [
    "y = Matrix(simulated_trait)[:]"
   ]
  },
  {
   "cell_type": "code",
   "execution_count": 15,
   "metadata": {},
   "outputs": [],
   "source": [
    "z = ones(length(y))\n",
    "Eurbm = SnpBitMatrix{Float64}(EUR_snpdata, model = ADDITIVE_MODEL, center = true, scale = true);\n"
   ]
  },
  {
   "cell_type": "code",
   "execution_count": 10,
   "metadata": {},
   "outputs": [
    {
     "data": {
      "text/html": [
       "<table class=\"data-frame\"><thead><tr><th></th><th>SimTrait</th></tr><tr><th></th><th>Float64</th></tr></thead><tbody><p>379 rows × 1 columns</p><tr><th>1</th><td>0.127165</td></tr><tr><th>2</th><td>0.167254</td></tr><tr><th>3</th><td>0.0717752</td></tr><tr><th>4</th><td>0.300423</td></tr><tr><th>5</th><td>1.12006</td></tr><tr><th>6</th><td>0.0715877</td></tr><tr><th>7</th><td>1.82175</td></tr><tr><th>8</th><td>0.355358</td></tr><tr><th>9</th><td>1.61617</td></tr><tr><th>10</th><td>0.550812</td></tr><tr><th>11</th><td>0.0713462</td></tr><tr><th>12</th><td>0.81895</td></tr><tr><th>13</th><td>2.50466</td></tr><tr><th>14</th><td>0.179609</td></tr><tr><th>15</th><td>4.48675</td></tr><tr><th>16</th><td>1.42821</td></tr><tr><th>17</th><td>0.797341</td></tr><tr><th>18</th><td>0.631315</td></tr><tr><th>19</th><td>0.396674</td></tr><tr><th>20</th><td>0.0164084</td></tr><tr><th>21</th><td>0.0180569</td></tr><tr><th>22</th><td>1.23257</td></tr><tr><th>23</th><td>0.0663053</td></tr><tr><th>24</th><td>0.149516</td></tr><tr><th>25</th><td>0.871241</td></tr><tr><th>26</th><td>0.00391707</td></tr><tr><th>27</th><td>1.02351</td></tr><tr><th>28</th><td>0.185484</td></tr><tr><th>29</th><td>1.43433</td></tr><tr><th>30</th><td>0.268475</td></tr><tr><th>&vellip;</th><td>&vellip;</td></tr></tbody></table>"
      ],
      "text/latex": [
       "\\begin{tabular}{r|c}\n",
       "\t& SimTrait\\\\\n",
       "\t\\hline\n",
       "\t& Float64\\\\\n",
       "\t\\hline\n",
       "\t1 & 0.127165 \\\\\n",
       "\t2 & 0.167254 \\\\\n",
       "\t3 & 0.0717752 \\\\\n",
       "\t4 & 0.300423 \\\\\n",
       "\t5 & 1.12006 \\\\\n",
       "\t6 & 0.0715877 \\\\\n",
       "\t7 & 1.82175 \\\\\n",
       "\t8 & 0.355358 \\\\\n",
       "\t9 & 1.61617 \\\\\n",
       "\t10 & 0.550812 \\\\\n",
       "\t11 & 0.0713462 \\\\\n",
       "\t12 & 0.81895 \\\\\n",
       "\t13 & 2.50466 \\\\\n",
       "\t14 & 0.179609 \\\\\n",
       "\t15 & 4.48675 \\\\\n",
       "\t16 & 1.42821 \\\\\n",
       "\t17 & 0.797341 \\\\\n",
       "\t18 & 0.631315 \\\\\n",
       "\t19 & 0.396674 \\\\\n",
       "\t20 & 0.0164084 \\\\\n",
       "\t21 & 0.0180569 \\\\\n",
       "\t22 & 1.23257 \\\\\n",
       "\t23 & 0.0663053 \\\\\n",
       "\t24 & 0.149516 \\\\\n",
       "\t25 & 0.871241 \\\\\n",
       "\t26 & 0.00391707 \\\\\n",
       "\t27 & 1.02351 \\\\\n",
       "\t28 & 0.185484 \\\\\n",
       "\t29 & 1.43433 \\\\\n",
       "\t30 & 0.268475 \\\\\n",
       "\t$\\dots$ & $\\dots$ \\\\\n",
       "\\end{tabular}\n"
      ],
      "text/plain": [
       "379×1 DataFrame\n",
       "│ Row │ SimTrait   │\n",
       "│     │ \u001b[90mFloat64\u001b[39m    │\n",
       "├─────┼────────────┤\n",
       "│ 1   │ 0.127165   │\n",
       "│ 2   │ 0.167254   │\n",
       "│ 3   │ 0.0717752  │\n",
       "│ 4   │ 0.300423   │\n",
       "│ 5   │ 1.12006    │\n",
       "│ 6   │ 0.0715877  │\n",
       "│ 7   │ 1.82175    │\n",
       "│ 8   │ 0.355358   │\n",
       "│ 9   │ 1.61617    │\n",
       "│ 10  │ 0.550812   │\n",
       "⋮\n",
       "│ 369 │ 0.061521   │\n",
       "│ 370 │ 0.320833   │\n",
       "│ 371 │ 0.547671   │\n",
       "│ 372 │ 0.0630803  │\n",
       "│ 373 │ 0.772625   │\n",
       "│ 374 │ 0.275019   │\n",
       "│ 375 │ 0.312904   │\n",
       "│ 376 │ 0.510249   │\n",
       "│ 377 │ 0.369161   │\n",
       "│ 378 │ 0.387526   │\n",
       "│ 379 │ 0.00925509 │"
      ]
     },
     "execution_count": 10,
     "metadata": {},
     "output_type": "execute_result"
    }
   ],
   "source": [
    "model_rare = GLMTrait(meanformula, df, ResponseDistribution, InverseLinkFunction)\n",
    "simulated_trait = DataFrame(SimTrait = simulate(model_rare))"
   ]
  },
  {
   "cell_type": "code",
   "execution_count": 8,
   "metadata": {},
   "outputs": [
    {
     "data": {
      "text/html": [
       "<table class=\"data-frame\"><thead><tr><th></th><th>variable</th><th>mean</th><th>min</th><th>median</th><th>max</th><th>nunique</th><th>nmissing</th><th>eltype</th></tr><tr><th></th><th>Symbol</th><th>Float64</th><th>Float64</th><th>Float64</th><th>Float64</th><th>Nothing</th><th>Nothing</th><th>DataType</th></tr></thead><tbody><p>1 rows × 8 columns</p><tr><th>1</th><td>SimTrait</td><td>0.755844</td><td>0.00750831</td><td>0.431558</td><td>9.8021</td><td></td><td></td><td>Float64</td></tr></tbody></table>"
      ],
      "text/latex": [
       "\\begin{tabular}{r|cccccccc}\n",
       "\t& variable & mean & min & median & max & nunique & nmissing & eltype\\\\\n",
       "\t\\hline\n",
       "\t& Symbol & Float64 & Float64 & Float64 & Float64 & Nothing & Nothing & DataType\\\\\n",
       "\t\\hline\n",
       "\t1 & SimTrait & 0.755844 & 0.00750831 & 0.431558 & 9.8021 &  &  & Float64 \\\\\n",
       "\\end{tabular}\n"
      ],
      "text/plain": [
       "1×8 DataFrame. Omitted printing of 2 columns\n",
       "│ Row │ variable │ mean     │ min        │ median   │ max     │ nunique │\n",
       "│     │ \u001b[90mSymbol\u001b[39m   │ \u001b[90mFloat64\u001b[39m  │ \u001b[90mFloat64\u001b[39m    │ \u001b[90mFloat64\u001b[39m  │ \u001b[90mFloat64\u001b[39m │ \u001b[90mNothing\u001b[39m │\n",
       "├─────┼──────────┼──────────┼────────────┼──────────┼─────────┼─────────┤\n",
       "│ 1   │ SimTrait │ 0.755844 │ 0.00750831 │ 0.431558 │ 9.8021  │         │"
      ]
     },
     "execution_count": 8,
     "metadata": {},
     "output_type": "execute_result"
    }
   ],
   "source": [
    "describe(simulated_trait)"
   ]
  },
  {
   "cell_type": "markdown",
   "metadata": {},
   "source": [
    "# Output: Save Filtered PLINK files to local machine"
   ]
  },
  {
   "cell_type": "code",
   "execution_count": 9,
   "metadata": {},
   "outputs": [],
   "source": [
    "filtsnpdata = SnpArrays.filter(SnpArrays.datadir(filepath), rowmask, colmask, des = \"tmp_filtered_EURdata\");"
   ]
  }
 ],
 "metadata": {
  "kernelspec": {
   "display_name": "Julia 1.2.0",
   "language": "julia",
   "name": "julia-1.2"
  },
  "language_info": {
   "file_extension": ".jl",
   "mimetype": "application/julia",
   "name": "julia",
   "version": "1.2.0"
  },
  "toc": {
   "base_numbering": 1,
   "nav_menu": {},
   "number_sections": true,
   "sideBar": true,
   "skip_h1_title": false,
   "title_cell": "Table of Contents",
   "title_sidebar": "Contents",
   "toc_cell": false,
   "toc_position": {},
   "toc_section_display": true,
   "toc_window_display": false
  }
 },
 "nbformat": 4,
 "nbformat_minor": 2
}
