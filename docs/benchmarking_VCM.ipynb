{
 "cells": [
  {
   "cell_type": "markdown",
   "metadata": {},
   "source": [
    "# Multiple Traits, Multiple Variance Components? Easy.\n",
    "\n",
    "Say that you have the the classical setting in genetics, two variance components, one for the additive genetic variance and one for the environmental variance. This example extends the standard genetic variance component model to efficiently account for any number of other random effects, in addition to the additive genetic and environmental variance components (more than 2 variance components). \n",
    "\n",
    "In this example we show alternative ways to specify the simulation parameters for the VCM and benchmark it against the available method using the MatrixNormal distribution in Distributions.jl package.\n",
    "\n",
    "We then benchmark against the same simulation process using the MatrixNormal() function in the Distributions.jl package.\n",
    "\n",
    "\n",
    "$$Y_{n \\times p} \\sim \\text{MatrixNormal}(\\mathbf{M}_{n \\times p} = XB, \\Omega_{np \\times np} = \\sum_{k=1}^m \\Sigma_k \\otimes V_k)$$\n",
    "\n",
    "\n",
    "Users can specify their covariance structures as follows. We note that this form can also accompany more than 2 variance components."
   ]
  },
  {
   "cell_type": "code",
   "execution_count": 1,
   "metadata": {},
   "outputs": [],
   "source": [
    "using LinearAlgebra, Random, TraitSimulation, DataFrames, Distributions, BenchmarkTools"
   ]
  },
  {
   "cell_type": "markdown",
   "metadata": {},
   "source": [
    "Here for m = 10 random Variance Components, we generate m random covariance matrices, a random design matrix and p regression coefficients to illustrate the simulation of a d = 2 dimensional response matrix of traits for a sample of n = 1000 people."
   ]
  },
  {
   "cell_type": "code",
   "execution_count": 2,
   "metadata": {},
   "outputs": [],
   "source": [
    "n = 1000   # no. observations\n",
    "d = 2      # dimension of responses\n",
    "m = 10      # no. variance components\n",
    "p = 2;      # no. covariates\n",
    "Random.seed!(1234);"
   ]
  },
  {
   "cell_type": "markdown",
   "metadata": {},
   "source": [
    "The following functions will be used to generate the random data to benchmark our model. We want to simulate a Design matrix, the matrix of regression coefficients, and a tuple for each covariance matrix of the variance components."
   ]
  },
  {
   "cell_type": "code",
   "execution_count": 3,
   "metadata": {},
   "outputs": [],
   "source": [
    "function generateSPDmatrix(n)\n",
    "    A = rand(n)\n",
    "    m = 0.5 * (A * A')\n",
    "    PDmat = m + (n * Diagonal(ones(n)))\n",
    "end\n",
    "\n",
    "\n",
    "function generateRandomVCM(n::Int64, p::Int64, d::Int64, m::Int64)\n",
    "    # n-by-p design matrix\n",
    "    X = randn(n, p)\n",
    "\n",
    "    # p-by-d mean component regression coefficient for each trait\n",
    "    B = hcat(ones(p, 1), rand(p))  \n",
    "\n",
    "    V = ntuple(x -> zeros(n, n), m) \n",
    "    for i = 1:m-1\n",
    "      copy!(V[i], generateSPDmatrix(n))\n",
    "    end\n",
    "    copy!(V[end], Diagonal(ones(n))) # last covarianec matrix is identity\n",
    "\n",
    "    # a tuple of m d-by-d variance component parameters\n",
    "    Σ = ntuple(x -> zeros(d, d), m) \n",
    "    for i in 1:m\n",
    "      copy!(Σ[i], generateSPDmatrix(d))\n",
    "    end\n",
    "\n",
    "    return(X, B, Σ, V)\n",
    "    end;\n"
   ]
  },
  {
   "cell_type": "code",
   "execution_count": 4,
   "metadata": {},
   "outputs": [
    {
     "data": {
      "text/plain": [
       "Variance Component Model\n",
       "  * number of traits: 2\n",
       "  * number of variance components: 10\n",
       "  * sample size: 1000"
      ]
     },
     "execution_count": 4,
     "metadata": {},
     "output_type": "execute_result"
    }
   ],
   "source": [
    "X_sim, B_sim, Σ_sim, V_sim = generateRandomVCM(n, p, d, m);\n",
    "VCM_model = VCMTrait(X_sim, B_sim, Σ_sim, V_sim)"
   ]
  },
  {
   "cell_type": "code",
   "execution_count": 5,
   "metadata": {},
   "outputs": [
    {
     "data": {
      "text/html": [
       "<table class=\"data-frame\"><thead><tr><th></th><th>Trait1</th><th>Trait2</th></tr><tr><th></th><th>Float64</th><th>Float64</th></tr></thead><tbody><p>1,000 rows × 2 columns</p><tr><th>1</th><td>-69.5177</td><td>-125.128</td></tr><tr><th>2</th><td>-184.975</td><td>179.507</td></tr><tr><th>3</th><td>62.2697</td><td>-29.6645</td></tr><tr><th>4</th><td>-77.7197</td><td>-143.363</td></tr><tr><th>5</th><td>215.216</td><td>-109.543</td></tr><tr><th>6</th><td>45.6826</td><td>42.9817</td></tr><tr><th>7</th><td>-47.6316</td><td>-128.685</td></tr><tr><th>8</th><td>-43.8541</td><td>-191.055</td></tr><tr><th>9</th><td>95.7323</td><td>-119.535</td></tr><tr><th>10</th><td>89.6551</td><td>-251.84</td></tr><tr><th>11</th><td>2.17713</td><td>-143.1</td></tr><tr><th>12</th><td>114.522</td><td>5.53237</td></tr><tr><th>13</th><td>162.74</td><td>86.8052</td></tr><tr><th>14</th><td>-37.813</td><td>-14.3621</td></tr><tr><th>15</th><td>-294.319</td><td>-191.626</td></tr><tr><th>16</th><td>11.4143</td><td>141.237</td></tr><tr><th>17</th><td>17.1557</td><td>4.778</td></tr><tr><th>18</th><td>-30.3381</td><td>64.8794</td></tr><tr><th>19</th><td>-148.591</td><td>-78.2768</td></tr><tr><th>20</th><td>31.6244</td><td>155.687</td></tr><tr><th>21</th><td>14.3417</td><td>96.1905</td></tr><tr><th>22</th><td>-48.2401</td><td>16.2519</td></tr><tr><th>23</th><td>-172.998</td><td>61.9397</td></tr><tr><th>24</th><td>-68.3956</td><td>201.991</td></tr><tr><th>25</th><td>18.8098</td><td>-34.7764</td></tr><tr><th>26</th><td>69.9606</td><td>-3.21805</td></tr><tr><th>27</th><td>18.6577</td><td>264.836</td></tr><tr><th>28</th><td>33.3742</td><td>112.047</td></tr><tr><th>29</th><td>10.3314</td><td>-18.469</td></tr><tr><th>30</th><td>255.264</td><td>50.1649</td></tr><tr><th>&vellip;</th><td>&vellip;</td><td>&vellip;</td></tr></tbody></table>"
      ],
      "text/latex": [
       "\\begin{tabular}{r|cc}\n",
       "\t& Trait1 & Trait2\\\\\n",
       "\t\\hline\n",
       "\t& Float64 & Float64\\\\\n",
       "\t\\hline\n",
       "\t1 & -69.5177 & -125.128 \\\\\n",
       "\t2 & -184.975 & 179.507 \\\\\n",
       "\t3 & 62.2697 & -29.6645 \\\\\n",
       "\t4 & -77.7197 & -143.363 \\\\\n",
       "\t5 & 215.216 & -109.543 \\\\\n",
       "\t6 & 45.6826 & 42.9817 \\\\\n",
       "\t7 & -47.6316 & -128.685 \\\\\n",
       "\t8 & -43.8541 & -191.055 \\\\\n",
       "\t9 & 95.7323 & -119.535 \\\\\n",
       "\t10 & 89.6551 & -251.84 \\\\\n",
       "\t11 & 2.17713 & -143.1 \\\\\n",
       "\t12 & 114.522 & 5.53237 \\\\\n",
       "\t13 & 162.74 & 86.8052 \\\\\n",
       "\t14 & -37.813 & -14.3621 \\\\\n",
       "\t15 & -294.319 & -191.626 \\\\\n",
       "\t16 & 11.4143 & 141.237 \\\\\n",
       "\t17 & 17.1557 & 4.778 \\\\\n",
       "\t18 & -30.3381 & 64.8794 \\\\\n",
       "\t19 & -148.591 & -78.2768 \\\\\n",
       "\t20 & 31.6244 & 155.687 \\\\\n",
       "\t21 & 14.3417 & 96.1905 \\\\\n",
       "\t22 & -48.2401 & 16.2519 \\\\\n",
       "\t23 & -172.998 & 61.9397 \\\\\n",
       "\t24 & -68.3956 & 201.991 \\\\\n",
       "\t25 & 18.8098 & -34.7764 \\\\\n",
       "\t26 & 69.9606 & -3.21805 \\\\\n",
       "\t27 & 18.6577 & 264.836 \\\\\n",
       "\t28 & 33.3742 & 112.047 \\\\\n",
       "\t29 & 10.3314 & -18.469 \\\\\n",
       "\t30 & 255.264 & 50.1649 \\\\\n",
       "\t$\\dots$ & $\\dots$ & $\\dots$ \\\\\n",
       "\\end{tabular}\n"
      ],
      "text/plain": [
       "1000×2 DataFrame\n",
       "│ Row  │ Trait1   │ Trait2   │\n",
       "│      │ \u001b[90mFloat64\u001b[39m  │ \u001b[90mFloat64\u001b[39m  │\n",
       "├──────┼──────────┼──────────┤\n",
       "│ 1    │ -69.5177 │ -125.128 │\n",
       "│ 2    │ -184.975 │ 179.507  │\n",
       "│ 3    │ 62.2697  │ -29.6645 │\n",
       "│ 4    │ -77.7197 │ -143.363 │\n",
       "│ 5    │ 215.216  │ -109.543 │\n",
       "│ 6    │ 45.6826  │ 42.9817  │\n",
       "│ 7    │ -47.6316 │ -128.685 │\n",
       "│ 8    │ -43.8541 │ -191.055 │\n",
       "│ 9    │ 95.7323  │ -119.535 │\n",
       "│ 10   │ 89.6551  │ -251.84  │\n",
       "⋮\n",
       "│ 990  │ -59.5561 │ -168.46  │\n",
       "│ 991  │ 44.8732  │ -155.222 │\n",
       "│ 992  │ 198.474  │ 158.84   │\n",
       "│ 993  │ -196.183 │ -163.59  │\n",
       "│ 994  │ -169.13  │ 17.789   │\n",
       "│ 995  │ -163.142 │ -148.437 │\n",
       "│ 996  │ 256.007  │ -121.329 │\n",
       "│ 997  │ 66.3168  │ -73.7376 │\n",
       "│ 998  │ 118.536  │ -132.382 │\n",
       "│ 999  │ -171.228 │ -155.921 │\n",
       "│ 1000 │ -110.128 │ 64.2714  │"
      ]
     },
     "execution_count": 5,
     "metadata": {},
     "output_type": "execute_result"
    }
   ],
   "source": [
    "Random_VCM_Trait = DataFrame(simulate(VCM_model))\n",
    "rename!(Random_VCM_Trait, [Symbol(\"Trait$i\") for i in 1:d])"
   ]
  },
  {
   "cell_type": "markdown",
   "metadata": {},
   "source": [
    "In our VarianceComponent type, we store the cholesky decomposition of each $\\Sigma_i$ and $V_i$, computed outside of simulation within the vc_vector of VarianceComponent types. This is important since the more often than not, users have to run the simulation many times for their desired goal."
   ]
  },
  {
   "cell_type": "markdown",
   "metadata": {},
   "source": [
    "# Compare simulation for m = 1 variance component\n",
    "For only one variance component we are roughly four 2x more memory efficient and 3.7x faster at simulating this bivariate trait"
   ]
  },
  {
   "cell_type": "code",
   "execution_count": 6,
   "metadata": {},
   "outputs": [
    {
     "data": {
      "text/plain": [
       "BenchmarkTools.Trial: \n",
       "  memory estimate:  7.68 MiB\n",
       "  allocs estimate:  5\n",
       "  --------------\n",
       "  minimum time:     2.064 ms (0.00% GC)\n",
       "  median time:      3.126 ms (0.00% GC)\n",
       "  mean time:        3.355 ms (11.71% GC)\n",
       "  maximum time:     10.899 ms (29.62% GC)\n",
       "  --------------\n",
       "  samples:          1484\n",
       "  evals/sample:     1"
      ]
     },
     "execution_count": 6,
     "metadata": {},
     "output_type": "execute_result"
    }
   ],
   "source": [
    "VCM_model = VCMTrait(X_sim*B_sim, VarianceComponent(Σ_sim[1], V_sim[1]))\n",
    "@benchmark simulate(VCM_model)"
   ]
  },
  {
   "cell_type": "code",
   "execution_count": 7,
   "metadata": {},
   "outputs": [
    {
     "data": {
      "text/plain": [
       "BenchmarkTools.Trial: \n",
       "  memory estimate:  15.38 MiB\n",
       "  allocs estimate:  25\n",
       "  --------------\n",
       "  minimum time:     9.058 ms (0.00% GC)\n",
       "  median time:      11.277 ms (10.12% GC)\n",
       "  mean time:        11.992 ms (8.03% GC)\n",
       "  maximum time:     23.930 ms (8.26% GC)\n",
       "  --------------\n",
       "  samples:          417\n",
       "  evals/sample:     1"
      ]
     },
     "execution_count": 7,
     "metadata": {},
     "output_type": "execute_result"
    }
   ],
   "source": [
    "function MN_J(X, B, Σ, V; n_reps = 1)\n",
    "    n, p = size(X*B)\n",
    "    sim = [zeros(n, p) for i in 1:n_reps]\n",
    "    for i in 1:n_reps\n",
    "        sim[i] = rand(MatrixNormal(X*B, V, Σ))\n",
    "    end\n",
    "    return(sim)\n",
    "end\n",
    "\n",
    "@benchmark MN_J($X_sim, $B_sim, $Σ_sim[1], $V_sim[1])"
   ]
  },
  {
   "cell_type": "markdown",
   "metadata": {},
   "source": [
    "# Compare simulation for m = 10 variance components\n",
    "still about 2x memory efficient but now 3.2x faster compared to the Distributions package"
   ]
  },
  {
   "cell_type": "code",
   "execution_count": 8,
   "metadata": {},
   "outputs": [
    {
     "data": {
      "text/plain": [
       "BenchmarkTools.Trial: \n",
       "  memory estimate:  76.36 MiB\n",
       "  allocs estimate:  24\n",
       "  --------------\n",
       "  minimum time:     32.783 ms (15.10% GC)\n",
       "  median time:      35.511 ms (14.73% GC)\n",
       "  mean time:        35.561 ms (16.06% GC)\n",
       "  maximum time:     42.054 ms (13.81% GC)\n",
       "  --------------\n",
       "  samples:          141\n",
       "  evals/sample:     1"
      ]
     },
     "execution_count": 8,
     "metadata": {},
     "output_type": "execute_result"
    }
   ],
   "source": [
    "vc_vector = [VarianceComponent(Σ_sim[i], V_sim[i]) for i in eachindex(V_sim)]\n",
    "VCM_model_m = VCMTrait(X_sim*B_sim, vc_vector);\n",
    "@benchmark simulate(VCM_model_m)"
   ]
  },
  {
   "cell_type": "code",
   "execution_count": 9,
   "metadata": {},
   "outputs": [
    {
     "data": {
      "text/plain": [
       "BenchmarkTools.Trial: \n",
       "  memory estimate:  153.70 MiB\n",
       "  allocs estimate:  233\n",
       "  --------------\n",
       "  minimum time:     105.317 ms (9.59% GC)\n",
       "  median time:      113.232 ms (10.42% GC)\n",
       "  mean time:        113.533 ms (10.05% GC)\n",
       "  maximum time:     126.924 ms (9.60% GC)\n",
       "  --------------\n",
       "  samples:          45\n",
       "  evals/sample:     1"
      ]
     },
     "execution_count": 9,
     "metadata": {},
     "output_type": "execute_result"
    }
   ],
   "source": [
    "function MN_Jm(X, B, Σ, V; n_reps = 1)\n",
    "    n, p = size(X*B)\n",
    "    m = length(V)\n",
    "    sim = [zeros(n, p) for i in 1:n_reps]\n",
    "    for i in 1:n_reps\n",
    "        for j in 1:m\n",
    "            dist = MatrixNormal(X*B, V[j], Σ[j])\n",
    "            sim[i] += rand(dist)\n",
    "        end\n",
    "    end\n",
    "    return(sim)\n",
    "end\n",
    "\n",
    "@benchmark vecs = MN_Jm($X_sim, $B_sim, $Σ_sim, $V_sim)"
   ]
  },
  {
   "cell_type": "markdown",
   "metadata": {},
   "source": [
    "From our benchmarking below, we show that when we use the simulation package to simulate traits n_reps times, using the VariaceComponent type is much faster and memory efficient than calling the available julia MatrixNormal distribution m times."
   ]
  }
 ],
 "metadata": {
  "kernelspec": {
   "display_name": "Julia 1.2.0",
   "language": "julia",
   "name": "julia-1.2"
  },
  "language_info": {
   "file_extension": ".jl",
   "mimetype": "application/julia",
   "name": "julia",
   "version": "1.2.0"
  },
  "toc": {
   "base_numbering": 1,
   "nav_menu": {},
   "number_sections": true,
   "sideBar": true,
   "skip_h1_title": false,
   "title_cell": "Table of Contents",
   "title_sidebar": "Contents",
   "toc_cell": false,
   "toc_position": {},
   "toc_section_display": true,
   "toc_window_display": false
  }
 },
 "nbformat": 4,
 "nbformat_minor": 2
}
