{
 "cells": [
  {
   "cell_type": "markdown",
   "metadata": {},
   "source": [
    "# Multiple Traits, Multiple Variance Components? Easy.\n",
    "\n",
    "This example extends the standard genetic variance component model to efficiently account for any number of other random effects, in addition to the additive genetic and environmental variance components (more than 2 variance components). Say we have $m \\geq 2$ variance components for $d$ correlated traits of $n$ related people under the VCM, users  specify their VCM as follows:\n",
    "\n",
    "$$Y_{nd \\times 1} \\sim \\text{MatrixNormal}(\\mathbf{M}_{nd \\times 1} = XB, \\Omega_{nd \\times nd} = \\sum_{k=1}^m \\Sigma_k \\otimes V_k)$$\n",
    "\n",
    "Allows the model **data** can be inputed under the standard [VarianceComponentModels.jl](https://github.com/OpenMendel/VarianceComponentModels.jl/) framework as follows:\n",
    "\n",
    "* `Y`: `nd x 1` response (phenotype) \n",
    "* `X`: `nd x p` covariate matrix \n",
    "* `V = (V1, ..., Vm)`: a tuple of `m` `n x n` covariance matrices\n",
    "\n",
    "and **parameters** are\n",
    "\n",
    "* `B`: `pd x 1` mean parameter\n",
    "* `Σ = (Σ1, ..., Σm)`: a tuple of `m` `d x d` variance components. \n",
    "\n",
    "In this example we show alternative ways to specify the simulation parameters for the VCM and benchmark it against the available method using the MatrixNormal distribution in Julia [Distributions.jl](https://juliastats.org/Distributions.jl/latest/matrix/#Distributions.MatrixNormal) package.\n",
    "\n",
    "\n",
    "Users who want a reference on genetic modeling, we recommend [Mathematical And Statistical Methods For Genetic Analysis](http://www.biometrica.tomsk.ru/lib/lange_1.pdf) by Dr. Kenneth Lange. In chapter 8 of this book, the user can find an introduction to Variance Component Models in Genetic Setting. For a more in depth review of variance component modeling in the genetic setting, we include a reference at the end of the notebook [4]."
   ]
  },
  {
   "cell_type": "code",
   "execution_count": 1,
   "metadata": {},
   "outputs": [],
   "source": [
    "using LinearAlgebra, Random, TraitSimulation, DataFrames, Distributions, BenchmarkTools"
   ]
  },
  {
   "cell_type": "markdown",
   "metadata": {},
   "source": [
    "Here for m = 10 random Variance Components, we generate m random covariance matrices, a random design matrix and p regression coefficients to illustrate the simulation of a d = 2 dimensional response matrix of traits for a sample of n = 1000 people."
   ]
  },
  {
   "cell_type": "code",
   "execution_count": 2,
   "metadata": {},
   "outputs": [],
   "source": [
    "n = 1000   # no. observations\n",
    "d = 2      # dimension of responses\n",
    "m = 10      # no. variance components\n",
    "p = 2;      # no. covariates\n",
    "Random.seed!(1234);"
   ]
  },
  {
   "cell_type": "markdown",
   "metadata": {},
   "source": [
    "The following functions will be used to generate the random data to benchmark our model. We want to simulate a Design matrix, the matrix of regression coefficients, and a tuple for each covariance matrix of the variance components."
   ]
  },
  {
   "cell_type": "code",
   "execution_count": 3,
   "metadata": {},
   "outputs": [],
   "source": [
    "function generateSPDmatrix(n)\n",
    "    A = rand(n)\n",
    "    m = 0.5 * (A * A')\n",
    "    PDmat = m + (n * Diagonal(ones(n)))\n",
    "end\n",
    "\n",
    "function generateRandomVCM(n::Int64, p::Int64, d::Int64, m::Int64)\n",
    "    # n-by-p design matrix\n",
    "    X = randn(n, p)\n",
    "\n",
    "    # p-by-d mean component regression coefficient for each trait\n",
    "    B = hcat(ones(p, 1), rand(p))  \n",
    "\n",
    "    V = ntuple(x -> zeros(n, n), m) \n",
    "    for i = 1:m-1\n",
    "      copy!(V[i], generateSPDmatrix(n))\n",
    "    end\n",
    "    copy!(V[end], Diagonal(ones(n))) # last covarianec matrix is identity\n",
    "\n",
    "    # a tuple of m d-by-d variance component parameters\n",
    "    Σ = ntuple(x -> zeros(d, d), m) \n",
    "    for i in 1:m\n",
    "      copy!(Σ[i], generateSPDmatrix(d))\n",
    "    end\n",
    "\n",
    "    return(X, B, Σ, V)\n",
    "    end;\n"
   ]
  },
  {
   "cell_type": "code",
   "execution_count": 5,
   "metadata": {},
   "outputs": [
    {
     "data": {
      "text/plain": [
       "Variance Component Model\n",
       "  * number of traits: 2\n",
       "  * number of variance components: 10\n",
       "  * sample size: 1000"
      ]
     },
     "execution_count": 5,
     "metadata": {},
     "output_type": "execute_result"
    }
   ],
   "source": [
    "X_sim, B_sim, Σ_sim, V_sim = generateRandomVCM(n, p, d, m);\n",
    "VCM_model = VCMTrait(X_sim, B_sim, [Σ_sim...], [V_sim...])"
   ]
  },
  {
   "cell_type": "code",
   "execution_count": 6,
   "metadata": {},
   "outputs": [
    {
     "data": {
      "text/html": [
       "<table class=\"data-frame\"><thead><tr><th></th><th>Trait1</th><th>Trait2</th></tr><tr><th></th><th>Float64</th><th>Float64</th></tr></thead><tbody><p>1,000 rows × 2 columns</p><tr><th>1</th><td>-118.132</td><td>100.018</td></tr><tr><th>2</th><td>-40.241</td><td>-41.3468</td></tr><tr><th>3</th><td>91.5106</td><td>-191.511</td></tr><tr><th>4</th><td>70.3645</td><td>-31.6985</td></tr><tr><th>5</th><td>64.6592</td><td>-186.749</td></tr><tr><th>6</th><td>-5.65423</td><td>-243.272</td></tr><tr><th>7</th><td>128.86</td><td>244.639</td></tr><tr><th>8</th><td>-68.5528</td><td>-39.9173</td></tr><tr><th>9</th><td>203.579</td><td>100.126</td></tr><tr><th>10</th><td>27.9118</td><td>227.065</td></tr><tr><th>11</th><td>230.606</td><td>197.633</td></tr><tr><th>12</th><td>146.517</td><td>-306.436</td></tr><tr><th>13</th><td>90.8037</td><td>47.7063</td></tr><tr><th>14</th><td>45.0507</td><td>-22.783</td></tr><tr><th>15</th><td>51.6933</td><td>-252.211</td></tr><tr><th>16</th><td>-41.3096</td><td>69.2905</td></tr><tr><th>17</th><td>114.6</td><td>-8.77882</td></tr><tr><th>18</th><td>-113.977</td><td>12.6321</td></tr><tr><th>19</th><td>215.901</td><td>113.319</td></tr><tr><th>20</th><td>17.8025</td><td>38.8184</td></tr><tr><th>21</th><td>-82.7715</td><td>115.278</td></tr><tr><th>22</th><td>35.2273</td><td>-9.36626</td></tr><tr><th>23</th><td>-91.7101</td><td>-43.1851</td></tr><tr><th>24</th><td>56.4435</td><td>-71.1492</td></tr><tr><th>25</th><td>61.4832</td><td>319.45</td></tr><tr><th>26</th><td>173.467</td><td>-82.9075</td></tr><tr><th>27</th><td>27.0454</td><td>158.279</td></tr><tr><th>28</th><td>-129.904</td><td>-98.2902</td></tr><tr><th>29</th><td>-145.601</td><td>-53.0547</td></tr><tr><th>30</th><td>23.3619</td><td>-144.179</td></tr><tr><th>&vellip;</th><td>&vellip;</td><td>&vellip;</td></tr></tbody></table>"
      ],
      "text/latex": [
       "\\begin{tabular}{r|cc}\n",
       "\t& Trait1 & Trait2\\\\\n",
       "\t\\hline\n",
       "\t& Float64 & Float64\\\\\n",
       "\t\\hline\n",
       "\t1 & -118.132 & 100.018 \\\\\n",
       "\t2 & -40.241 & -41.3468 \\\\\n",
       "\t3 & 91.5106 & -191.511 \\\\\n",
       "\t4 & 70.3645 & -31.6985 \\\\\n",
       "\t5 & 64.6592 & -186.749 \\\\\n",
       "\t6 & -5.65423 & -243.272 \\\\\n",
       "\t7 & 128.86 & 244.639 \\\\\n",
       "\t8 & -68.5528 & -39.9173 \\\\\n",
       "\t9 & 203.579 & 100.126 \\\\\n",
       "\t10 & 27.9118 & 227.065 \\\\\n",
       "\t11 & 230.606 & 197.633 \\\\\n",
       "\t12 & 146.517 & -306.436 \\\\\n",
       "\t13 & 90.8037 & 47.7063 \\\\\n",
       "\t14 & 45.0507 & -22.783 \\\\\n",
       "\t15 & 51.6933 & -252.211 \\\\\n",
       "\t16 & -41.3096 & 69.2905 \\\\\n",
       "\t17 & 114.6 & -8.77882 \\\\\n",
       "\t18 & -113.977 & 12.6321 \\\\\n",
       "\t19 & 215.901 & 113.319 \\\\\n",
       "\t20 & 17.8025 & 38.8184 \\\\\n",
       "\t21 & -82.7715 & 115.278 \\\\\n",
       "\t22 & 35.2273 & -9.36626 \\\\\n",
       "\t23 & -91.7101 & -43.1851 \\\\\n",
       "\t24 & 56.4435 & -71.1492 \\\\\n",
       "\t25 & 61.4832 & 319.45 \\\\\n",
       "\t26 & 173.467 & -82.9075 \\\\\n",
       "\t27 & 27.0454 & 158.279 \\\\\n",
       "\t28 & -129.904 & -98.2902 \\\\\n",
       "\t29 & -145.601 & -53.0547 \\\\\n",
       "\t30 & 23.3619 & -144.179 \\\\\n",
       "\t$\\dots$ & $\\dots$ & $\\dots$ \\\\\n",
       "\\end{tabular}\n"
      ],
      "text/plain": [
       "1000×2 DataFrame\n",
       "│ Row  │ Trait1   │ Trait2   │\n",
       "│      │ \u001b[90mFloat64\u001b[39m  │ \u001b[90mFloat64\u001b[39m  │\n",
       "├──────┼──────────┼──────────┤\n",
       "│ 1    │ -118.132 │ 100.018  │\n",
       "│ 2    │ -40.241  │ -41.3468 │\n",
       "│ 3    │ 91.5106  │ -191.511 │\n",
       "│ 4    │ 70.3645  │ -31.6985 │\n",
       "│ 5    │ 64.6592  │ -186.749 │\n",
       "│ 6    │ -5.65423 │ -243.272 │\n",
       "│ 7    │ 128.86   │ 244.639  │\n",
       "│ 8    │ -68.5528 │ -39.9173 │\n",
       "│ 9    │ 203.579  │ 100.126  │\n",
       "│ 10   │ 27.9118  │ 227.065  │\n",
       "⋮\n",
       "│ 990  │ -133.433 │ -158.099 │\n",
       "│ 991  │ -190.348 │ -19.3578 │\n",
       "│ 992  │ -240.837 │ 1.22567  │\n",
       "│ 993  │ -33.5947 │ -153.59  │\n",
       "│ 994  │ -88.3637 │ 2.30537  │\n",
       "│ 995  │ 150.34   │ 121.737  │\n",
       "│ 996  │ 23.1865  │ -105.902 │\n",
       "│ 997  │ -111.167 │ 182.88   │\n",
       "│ 998  │ -33.4132 │ 237.505  │\n",
       "│ 999  │ -94.7838 │ -178.733 │\n",
       "│ 1000 │ 55.9656  │ -11.8501 │"
      ]
     },
     "execution_count": 6,
     "metadata": {},
     "output_type": "execute_result"
    }
   ],
   "source": [
    "Random_VCM_Trait = DataFrame(simulate(VCM_model))\n",
    "rename!(Random_VCM_Trait, [Symbol(\"Trait$i\") for i in 1:d])"
   ]
  },
  {
   "cell_type": "markdown",
   "metadata": {},
   "source": [
    "In our VarianceComponent type, we store the cholesky decomposition of each $\\Sigma_i$ and $V_i$, computed outside of simulation within the vc_vector of VarianceComponent types. This is important since the more often than not, users have to run the simulation many times for their desired goal."
   ]
  },
  {
   "cell_type": "markdown",
   "metadata": {},
   "source": [
    "# Compare simulation for m = 1 variance component\n",
    "For only one variance component we are roughly four 2x more memory efficient and 3.7x faster at simulating this bivariate trait"
   ]
  },
  {
   "cell_type": "code",
   "execution_count": 10,
   "metadata": {},
   "outputs": [
    {
     "data": {
      "text/plain": [
       "BenchmarkTools.Trial: \n",
       "  memory estimate:  15.75 KiB\n",
       "  allocs estimate:  1\n",
       "  --------------\n",
       "  minimum time:     436.371 μs (0.00% GC)\n",
       "  median time:      497.925 μs (0.00% GC)\n",
       "  mean time:        505.794 μs (0.35% GC)\n",
       "  maximum time:     18.283 ms (96.78% GC)\n",
       "  --------------\n",
       "  samples:          9873\n",
       "  evals/sample:     1"
      ]
     },
     "execution_count": 10,
     "metadata": {},
     "output_type": "execute_result"
    }
   ],
   "source": [
    "vcomp = @vc Σ_sim[1] ⊗ V_sim[1]\n",
    "VCM_model = VCMTrait(X_sim, B_sim, vcomp)\n",
    "@benchmark simulate($VCM_model)"
   ]
  },
  {
   "cell_type": "code",
   "execution_count": 11,
   "metadata": {},
   "outputs": [
    {
     "data": {
      "text/plain": [
       "BenchmarkTools.Trial: \n",
       "  memory estimate:  15.38 MiB\n",
       "  allocs estimate:  18\n",
       "  --------------\n",
       "  minimum time:     6.182 ms (0.00% GC)\n",
       "  median time:      7.322 ms (0.00% GC)\n",
       "  mean time:        8.836 ms (14.03% GC)\n",
       "  maximum time:     23.197 ms (51.52% GC)\n",
       "  --------------\n",
       "  samples:          566\n",
       "  evals/sample:     1"
      ]
     },
     "execution_count": 11,
     "metadata": {},
     "output_type": "execute_result"
    }
   ],
   "source": [
    "function MN_J(X, B, Σ, V; n_reps = 1)\n",
    "    n, p = size(X*B)\n",
    "    sim = [zeros(n, p) for i in 1:n_reps]\n",
    "    for i in 1:n_reps\n",
    "        sim[i] = rand(MatrixNormal(X*B, V, Σ))\n",
    "    end\n",
    "    return(sim)\n",
    "end\n",
    "\n",
    "@benchmark MN_J($X_sim, $B_sim, $Σ_sim[1], $V_sim[1])"
   ]
  },
  {
   "cell_type": "markdown",
   "metadata": {},
   "source": [
    "# Compare simulation for m = 10 variance components\n",
    "still about 2x memory efficient but now 3.2x faster compared to the Distributions package"
   ]
  },
  {
   "cell_type": "code",
   "execution_count": 15,
   "metadata": {},
   "outputs": [
    {
     "data": {
      "text/plain": [
       "BenchmarkTools.Trial: \n",
       "  memory estimate:  15.75 KiB\n",
       "  allocs estimate:  1\n",
       "  --------------\n",
       "  minimum time:     5.841 ms (0.00% GC)\n",
       "  median time:      6.196 ms (0.00% GC)\n",
       "  mean time:        6.217 ms (0.00% GC)\n",
       "  maximum time:     7.371 ms (0.00% GC)\n",
       "  --------------\n",
       "  samples:          805\n",
       "  evals/sample:     1"
      ]
     },
     "execution_count": 15,
     "metadata": {},
     "output_type": "execute_result"
    }
   ],
   "source": [
    "vc_vector = [VarianceComponent(Σ_sim[i], V_sim[i]) for i in eachindex(V_sim)]\n",
    "VCM_model_m = VCMTrait(X_sim, B_sim, vc_vector)\n",
    "@benchmark simulate($VCM_model_m)"
   ]
  },
  {
   "cell_type": "code",
   "execution_count": 16,
   "metadata": {},
   "outputs": [
    {
     "data": {
      "text/plain": [
       "BenchmarkTools.Trial: \n",
       "  memory estimate:  153.70 MiB\n",
       "  allocs estimate:  163\n",
       "  --------------\n",
       "  minimum time:     83.526 ms (0.00% GC)\n",
       "  median time:      110.818 ms (18.10% GC)\n",
       "  mean time:        110.729 ms (13.94% GC)\n",
       "  maximum time:     124.819 ms (17.24% GC)\n",
       "  --------------\n",
       "  samples:          46\n",
       "  evals/sample:     1"
      ]
     },
     "execution_count": 16,
     "metadata": {},
     "output_type": "execute_result"
    }
   ],
   "source": [
    "function MN_Jm(X, B, Σ, V; n_reps = 1)\n",
    "    n, p = size(X*B)\n",
    "    m = length(V)\n",
    "    sim = [zeros(n, p) for i in 1:n_reps]\n",
    "    for i in 1:n_reps\n",
    "        for j in 1:m\n",
    "            dist = MatrixNormal(X*B, V[j], Σ[j])\n",
    "            sim[i] += rand(dist)\n",
    "        end\n",
    "    end\n",
    "    return(sim)\n",
    "end\n",
    "\n",
    "@benchmark vecs = MN_Jm($X_sim, $B_sim, $Σ_sim, $V_sim)"
   ]
  },
  {
   "cell_type": "markdown",
   "metadata": {},
   "source": [
    "From our benchmarking below, we show that when we use the simulation package to simulate traits n_reps times, using the VariaceComponent type is much faster and memory efficient than calling the available julia MatrixNormal distribution m times. This is largely due to the fact that we can compute the Cholesky decomposition of the covariance matrices only once for simulation (which we may want to do many times). "
   ]
  },
  {
   "cell_type": "markdown",
   "metadata": {},
   "source": [
    "## Citations: \n",
    "\n",
    "[1] Lange K, Papp JC, Sinsheimer JS, Sripracha R, Zhou H, Sobel EM (2013) Mendel: The Swiss army knife of genetic analysis programs. Bioinformatics 29:1568-1570.`\n",
    "\n",
    "[2] OPENMENDEL: a cooperative programming project for statistical genetics.\n",
    "[Hum Genet. 2019 Mar 26. doi: 10.1007/s00439-019-02001-z](https://www.ncbi.nlm.nih.gov/pubmed/?term=OPENMENDEL).\n",
    "\n",
    "[3] Ji, SS, Lange, K, Sinsheimer, JS, Zhou, JJ, Zhou, H, Sobel, E. Modern Simulation Utilities for Genetic Analysis. BMC Bioinformatics. 2020; BINF-D-20-00690\n",
    "\n",
    "[4] Lange K, Boehnke M (1983) Extensions to pedigree analysis. IV. Covariance component models for multivariate traits. Amer J Med Genet 14:513:524"
   ]
  }
 ],
 "metadata": {
  "kernelspec": {
   "display_name": "Julia 1.5.2",
   "language": "julia",
   "name": "julia-1.5"
  },
  "language_info": {
   "file_extension": ".jl",
   "mimetype": "application/julia",
   "name": "julia",
   "version": "1.5.2"
  },
  "toc": {
   "base_numbering": 1,
   "nav_menu": {},
   "number_sections": true,
   "sideBar": true,
   "skip_h1_title": false,
   "title_cell": "Table of Contents",
   "title_sidebar": "Contents",
   "toc_cell": false,
   "toc_position": {},
   "toc_section_display": true,
   "toc_window_display": false
  }
 },
 "nbformat": 4,
 "nbformat_minor": 2
}
