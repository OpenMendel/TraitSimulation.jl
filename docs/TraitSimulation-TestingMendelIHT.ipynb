{
 "cells": [
  {
   "cell_type": "markdown",
   "metadata": {},
   "source": [
    "# Trait Simulation: Prototyping Methods\n",
    "\n",
    "Authors: Sarah Ji, Benjamin Chu, Janet Sinsheimer, Kenneth Lange, Hua Zhou\n",
    "\n",
    "This software package, TraitSimuliation.jl addresses the need for simulated trait data in genetic analyses.  This package generates data sets that will allow researchers to accurately check the validity of programs and to calculate power for their proposed studies. \n",
    "\n",
    "In this notebook we show how to the `TraitSimulation.jl` package can be used to validate the results of the newest OpenMendel analysis package, `MendelIHT.jl`.\n",
    "\n",
    "First we will generate the desired non-genetic covariates for our examples, sex and age from the `GLM.jl` package. Then we will make the appropriate calls to OpenMendel packages SnpArrays.jl, MendelIHT.jl. and TraitSimulation.jl to construct the desired genetic model, simulate from it and test the iterative hard thresholding model.\n",
    "\n",
    "For the following three distributions, we simulate traits and validate the results using MendelIHT.\n",
    "\n",
    "\n",
    "1. Normal Trait\n",
    "2. Poisson Trait\n",
    "3. Negative Binomial Trait\n"
   ]
  },
  {
   "cell_type": "markdown",
   "metadata": {},
   "source": [
    "### Double check that you are using Julia version 1.0 or higher by checking the machine information"
   ]
  },
  {
   "cell_type": "code",
   "execution_count": 1,
   "metadata": {},
   "outputs": [
    {
     "name": "stdout",
     "output_type": "stream",
     "text": [
      "Julia Version 1.2.0\n",
      "Commit c6da87ff4b (2019-08-20 00:03 UTC)\n",
      "Platform Info:\n",
      "  OS: macOS (x86_64-apple-darwin18.6.0)\n",
      "  CPU: Intel(R) Core(TM) i7-7700HQ CPU @ 2.80GHz\n",
      "  WORD_SIZE: 64\n",
      "  LIBM: libopenlibm\n",
      "  LLVM: libLLVM-6.0.1 (ORCJIT, skylake)\n"
     ]
    }
   ],
   "source": [
    "versioninfo()"
   ]
  },
  {
   "cell_type": "code",
   "execution_count": 2,
   "metadata": {},
   "outputs": [],
   "source": [
    "using Random, DataFrames, LinearAlgebra\n",
    "using SnpArrays, TraitSimulation, GLM, StatsBase, MendelIHT\n",
    "using Revise\n",
    "revise()\n",
    "\n",
    "Random.seed!(123);"
   ]
  },
  {
   "cell_type": "markdown",
   "metadata": {},
   "source": [
    "## Simulate Non-Genetic Covariates"
   ]
  },
  {
   "cell_type": "code",
   "execution_count": 3,
   "metadata": {},
   "outputs": [
    {
     "data": {
      "text/plain": [
       "2-element Array{Float64,1}:\n",
       " 0.7373240898122129\n",
       " 0.4314238505987109"
      ]
     },
     "execution_count": 3,
     "metadata": {},
     "output_type": "execute_result"
    }
   ],
   "source": [
    "n = 5000\n",
    "p = 10000\n",
    "s = 5\n",
    "\n",
    "# simulate non genetic covariates\n",
    "intercept = ones(n, 1) \n",
    "sex = rand(Bernoulli(0.51), n)\n",
    "age = zscore(rand(Normal(45, 8), n))\n",
    "non_genetic_cov =  [sex age]\n",
    "β_non_gen = rand(size(non_genetic_cov, 2))"
   ]
  },
  {
   "cell_type": "markdown",
   "metadata": {},
   "source": [
    "## Simulate Genetic Covariates \n",
    "\n",
    "First we will generate the entire snparray of p = 10,000 snps for n = 1000 people. Then for s = 10 causal snps, we will convert them to Float64 integers for simulation."
   ]
  },
  {
   "cell_type": "code",
   "execution_count": 4,
   "metadata": {},
   "outputs": [],
   "source": [
    "# generate entire snparray\n",
    "x = simulate_random_snparray(n, p, \"tmp.bed\")\n",
    "xbm = SnpBitMatrix{Float64}(x, model=ADDITIVE_MODEL, center=true, scale=true); \n",
    "k = 5\n",
    "# generate snparray with only causal snps\n",
    "causal_idx = rand(1:10000, k) # these are the true indices\n",
    "causal_effect_sizes = rand(k) # these are the true effect sizes\n",
    "\n",
    "x_causal = convert(Matrix{Float64}, @view(x[:, causal_idx]), center = true, scale = true);"
   ]
  },
  {
   "cell_type": "markdown",
   "metadata": {},
   "source": [
    "## Simulate the Trait\n",
    "\n",
    "Use TraitSimulation.jl to construct the desired model and simulate from it. For the following three distributions, we simulate traits and validate the results using MendelIHT.\n",
    "\n",
    "\n",
    "1. Normal Trait\n",
    "2. Poisson Trait\n",
    "3. Negative Binomial Trait\n",
    "\n",
    "### Testing Normal Trait"
   ]
  },
  {
   "cell_type": "code",
   "execution_count": 5,
   "metadata": {},
   "outputs": [
    {
     "data": {
      "text/plain": [
       "5000-element Array{Float64,1}:\n",
       "  0.9185868876881607    \n",
       " -0.9518262679882143    \n",
       " -0.33841827510588013   \n",
       "  2.049817083313287     \n",
       "  1.955913151958258     \n",
       "  0.00024397836600864933\n",
       " -0.6593742370456934    \n",
       " -0.28351854873874294   \n",
       "  0.3185448435991667    \n",
       "  0.30756420729346534   \n",
       " -0.4628928677570747    \n",
       "  1.292210040257612     \n",
       "  0.06891346416538825   \n",
       "  ⋮                     \n",
       " -1.0982567760970272    \n",
       " -0.016491104287002845  \n",
       "  0.9345002196941151    \n",
       "  0.14027327315163013   \n",
       " -2.20745242227931      \n",
       "  1.8222300720529194    \n",
       "  2.9752072523810957    \n",
       "  0.4504020749944919    \n",
       " -1.7701081883560879    \n",
       " -0.3661636604161142    \n",
       "  2.5102925366869027    \n",
       "  0.9083339384177506    "
      ]
     },
     "execution_count": 5,
     "metadata": {},
     "output_type": "execute_result"
    }
   ],
   "source": [
    "distribution = Normal()\n",
    "link = IdentityLink()\n",
    "# revise()\n",
    "GLM_model = GLMTrait(non_genetic_cov, β_non_gen, x_causal, causal_effect_sizes, distribution, link)\n",
    "y = simulate(GLM_model)"
   ]
  },
  {
   "cell_type": "code",
   "execution_count": 6,
   "metadata": {
    "scrolled": true
   },
   "outputs": [
    {
     "name": "stdout",
     "output_type": "stream",
     "text": [
      "β_non_gen = [0.7373240898122129, 0.4314238505987109]\n",
      "truth = causal_idx = [184, 4492, 5382, 161, 2773]\n",
      "causal_effect_sizes = [0.6877212499518375, 0.7610202033321085, 0.6111539989474444, 0.7062198720454749, 0.06323470301651035]\n"
     ]
    },
    {
     "data": {
      "text/plain": [
       "\n",
       "IHT estimated 5 nonzero SNP predictors and 2 non-genetic predictors.\n",
       "\n",
       "Compute time (sec):     2.9930989742279053\n",
       "Final loglikelihood:    -7115.458807213961\n",
       "Iterations:             10\n",
       "\n",
       "Selected genetic predictors:\n",
       "5×2 DataFrame\n",
       "│ Row │ Position │ Estimated_β │\n",
       "│     │ \u001b[90mInt64\u001b[39m    │ \u001b[90mFloat64\u001b[39m     │\n",
       "├─────┼──────────┼─────────────┤\n",
       "│ 1   │ 161      │ 0.702183    │\n",
       "│ 2   │ 184      │ 0.68639     │\n",
       "│ 3   │ 4492     │ 0.75284     │\n",
       "│ 4   │ 5382     │ 0.595549    │\n",
       "│ 5   │ 5867     │ 0.0581857   │\n",
       "\n",
       "Selected nongenetic predictors:\n",
       "2×2 DataFrame\n",
       "│ Row │ Position │ Estimated_β │\n",
       "│     │ \u001b[90mInt64\u001b[39m    │ \u001b[90mFloat64\u001b[39m     │\n",
       "├─────┼──────────┼─────────────┤\n",
       "│ 1   │ 1        │ 0.715045    │\n",
       "│ 2   │ 2        │ 0.428766    │"
      ]
     },
     "execution_count": 6,
     "metadata": {},
     "output_type": "execute_result"
    }
   ],
   "source": [
    "# run IHT\n",
    "s_guess = 7\n",
    "@show β_non_gen\n",
    "@show truth = causal_idx \n",
    "@show causal_effect_sizes\n",
    "result = L0_reg(x, xbm, non_genetic_cov, y, 50, s_guess, Normal(), IdentityLink(), debias = false, max_iter = 500, verbose= false)"
   ]
  },
  {
   "cell_type": "markdown",
   "metadata": {},
   "source": [
    "### Testing Poisson Trait\n"
   ]
  },
  {
   "cell_type": "code",
   "execution_count": 7,
   "metadata": {},
   "outputs": [
    {
     "data": {
      "text/plain": [
       "2-element Array{Float64,1}:\n",
       " 0.1  \n",
       " 0.002"
      ]
     },
     "execution_count": 7,
     "metadata": {},
     "output_type": "execute_result"
    }
   ],
   "source": [
    "distribution2 = Poisson()\n",
    "link2 = LogLink()\n",
    "\n",
    "non_genetic_cov =  [sex age]\n",
    "β_non_gen = [0.1, 0.002]"
   ]
  },
  {
   "cell_type": "code",
   "execution_count": 8,
   "metadata": {},
   "outputs": [
    {
     "data": {
      "text/plain": [
       "Generalized Linear Model\n",
       "  * response distribution: UnionAll\n",
       "  * link function: LogLink\n",
       "  * sample size: 5000"
      ]
     },
     "execution_count": 8,
     "metadata": {},
     "output_type": "execute_result"
    }
   ],
   "source": [
    "GLM_model2 = GLMTrait(non_genetic_cov, β_non_gen, x_causal, causal_effect_sizes, Poisson, link2)"
   ]
  },
  {
   "cell_type": "code",
   "execution_count": 9,
   "metadata": {},
   "outputs": [],
   "source": [
    "x = simulate_random_snparray(n, p, \"tmp.bed\")\n",
    "xbm = SnpBitMatrix{Float64}(x, model=ADDITIVE_MODEL, center=true, scale=true);\n",
    "k = 5\n",
    "causal_idx = rand(1:10000, k) # these are the true indices\n",
    "causal_effect_sizes = rand(k)\n",
    "x_causal = convert(Matrix{Float64}, @view(x[:, causal_idx]), center = true, scale = true);"
   ]
  },
  {
   "cell_type": "code",
   "execution_count": 10,
   "metadata": {},
   "outputs": [
    {
     "data": {
      "text/plain": [
       "Generalized Linear Model\n",
       "  * response distribution: Poisson\n",
       "  * link function: LogLink\n",
       "  * sample size: 5000"
      ]
     },
     "execution_count": 10,
     "metadata": {},
     "output_type": "execute_result"
    }
   ],
   "source": [
    "# construct the model \n",
    "GLM_model_p2 = GLMTrait(non_genetic_cov, β_non_gen, x_causal, causal_effect_sizes, Poisson(), link2)"
   ]
  },
  {
   "cell_type": "code",
   "execution_count": 11,
   "metadata": {},
   "outputs": [
    {
     "data": {
      "text/plain": [
       "5000-element Array{Int64,1}:\n",
       " 0\n",
       " 3\n",
       " 0\n",
       " 0\n",
       " 2\n",
       " 0\n",
       " 0\n",
       " 0\n",
       " 0\n",
       " 7\n",
       " 1\n",
       " 0\n",
       " 2\n",
       " ⋮\n",
       " 6\n",
       " 1\n",
       " 2\n",
       " 4\n",
       " 4\n",
       " 2\n",
       " 0\n",
       " 0\n",
       " 1\n",
       " 3\n",
       " 1\n",
       " 0"
      ]
     },
     "execution_count": 11,
     "metadata": {},
     "output_type": "execute_result"
    }
   ],
   "source": [
    "# simulate the trait\n",
    "y_poisson2 = simulate(GLM_model_p2)"
   ]
  },
  {
   "cell_type": "code",
   "execution_count": 12,
   "metadata": {},
   "outputs": [
    {
     "data": {
      "text/plain": [
       "\n",
       "IHT estimated 6 nonzero SNP predictors and 1 non-genetic predictors.\n",
       "\n",
       "Compute time (sec):     8.748939990997314\n",
       "Final loglikelihood:    -6742.100029722215\n",
       "Iterations:             32\n",
       "\n",
       "Selected genetic predictors:\n",
       "6×2 DataFrame\n",
       "│ Row │ Position │ Estimated_β │\n",
       "│     │ \u001b[90mInt64\u001b[39m    │ \u001b[90mFloat64\u001b[39m     │\n",
       "├─────┼──────────┼─────────────┤\n",
       "│ 1   │ 400      │ 0.405941    │\n",
       "│ 2   │ 2943     │ 0.0423735   │\n",
       "│ 3   │ 3749     │ 0.036553    │\n",
       "│ 4   │ 4656     │ 0.53714     │\n",
       "│ 5   │ 7563     │ 0.722796    │\n",
       "│ 6   │ 8016     │ 0.239444    │\n",
       "\n",
       "Selected nongenetic predictors:\n",
       "1×2 DataFrame\n",
       "│ Row │ Position │ Estimated_β │\n",
       "│     │ \u001b[90mInt64\u001b[39m    │ \u001b[90mFloat64\u001b[39m     │\n",
       "├─────┼──────────┼─────────────┤\n",
       "│ 1   │ 1        │ 0.0952795   │"
      ]
     },
     "execution_count": 12,
     "metadata": {},
     "output_type": "execute_result"
    }
   ],
   "source": [
    "s_guess = 7\n",
    "result2 = L0_reg(x, xbm, non_genetic_cov, Float64.(y_poisson2), 50, s_guess, Poisson(), LogLink(), debias = false, max_iter = 500, verbose= false)"
   ]
  },
  {
   "cell_type": "markdown",
   "metadata": {},
   "source": [
    "### Testing Negative Binomial Trait"
   ]
  },
  {
   "cell_type": "code",
   "execution_count": 13,
   "metadata": {},
   "outputs": [
    {
     "data": {
      "text/plain": [
       "5000-element Array{Int64,1}:\n",
       "  1\n",
       "  1\n",
       "  0\n",
       "  0\n",
       "  2\n",
       "  1\n",
       "  1\n",
       "  1\n",
       "  0\n",
       "  1\n",
       "  0\n",
       "  1\n",
       "  0\n",
       "  ⋮\n",
       " 15\n",
       "  2\n",
       "  3\n",
       "  2\n",
       " 13\n",
       "  1\n",
       "  0\n",
       "  0\n",
       "  1\n",
       "  1\n",
       "  0\n",
       "  0"
      ]
     },
     "execution_count": 13,
     "metadata": {},
     "output_type": "execute_result"
    }
   ],
   "source": [
    "# simulate the trait\n",
    "distribution = NegativeBinomial()\n",
    "link = LogLink()\n",
    "\n",
    "GLM_model = GLMTrait(non_genetic_cov, β_non_gen, x_causal, causal_effect_sizes, distribution, link)\n",
    "y_negbinomial = simulate(GLM_model)"
   ]
  },
  {
   "cell_type": "code",
   "execution_count": 14,
   "metadata": {},
   "outputs": [
    {
     "name": "stdout",
     "output_type": "stream",
     "text": [
      "β_non_gen = [0.1, 0.002]\n",
      "truth = causal_idx = [4656, 9394, 400, 8016, 7563]\n",
      "causal_effect_sizes = [0.5264504200595785, 0.008085205500707904, 0.4110283000164554, 0.22887974718537518, 0.7299946760225595]\n"
     ]
    },
    {
     "data": {
      "text/plain": [
       "\n",
       "IHT estimated 6 nonzero SNP predictors and 1 non-genetic predictors.\n",
       "\n",
       "Compute time (sec):     4.818864107131958\n",
       "Final loglikelihood:    -7579.647514751706\n",
       "Iterations:             17\n",
       "\n",
       "Selected genetic predictors:\n",
       "6×2 DataFrame\n",
       "│ Row │ Position │ Estimated_β │\n",
       "│     │ \u001b[90mInt64\u001b[39m    │ \u001b[90mFloat64\u001b[39m     │\n",
       "├─────┼──────────┼─────────────┤\n",
       "│ 1   │ 400      │ 0.418851    │\n",
       "│ 2   │ 1118     │ 0.0727529   │\n",
       "│ 3   │ 3367     │ -0.0822334  │\n",
       "│ 4   │ 4656     │ 0.50584     │\n",
       "│ 5   │ 7563     │ 0.737677    │\n",
       "│ 6   │ 8016     │ 0.193797    │\n",
       "\n",
       "Selected nongenetic predictors:\n",
       "1×2 DataFrame\n",
       "│ Row │ Position │ Estimated_β │\n",
       "│     │ \u001b[90mInt64\u001b[39m    │ \u001b[90mFloat64\u001b[39m     │\n",
       "├─────┼──────────┼─────────────┤\n",
       "│ 1   │ 1        │ 0.140459    │"
      ]
     },
     "execution_count": 14,
     "metadata": {},
     "output_type": "execute_result"
    }
   ],
   "source": [
    "# run IHT\n",
    "s_guess = 7\n",
    "@show β_non_gen\n",
    "@show truth = causal_idx \n",
    "@show causal_effect_sizes\n",
    "result = L0_reg(x, xbm, non_genetic_cov, Float64.(y_negbinomial), 50, s_guess, NegativeBinomial(), link, debias = false, use_maf = false, max_iter = 500, verbose= false)"
   ]
  },
  {
   "cell_type": "markdown",
   "metadata": {},
   "source": [
    "## Citations: \n",
    "\n",
    "[1] Lange K, Papp JC, Sinsheimer JS, Sripracha R, Zhou H, Sobel EM (2013) Mendel: The Swiss army knife of genetic analysis programs. Bioinformatics 29:1568-1570.`\n",
    "\n",
    "\n",
    "[2] OPENMENDEL: a cooperative programming project for statistical genetics.\n",
    "[Hum Genet. 2019 Mar 26. doi: 10.1007/s00439-019-02001-z](https://www.ncbi.nlm.nih.gov/pubmed/?term=OPENMENDEL).\n",
    "\n",
    "[3] Benjamin B. Chu, Kevin L. Keys, Christopher A. German, Hua Zhou, Jin J. Zhou, Janet S. Sinsheimer, Kenneth Lange. Iterative Hard Thresholding in GWAS: Generalized Linear Models, Prior Weights, and Double Sparsity. bioRxiv doi:10.1101/697755\n"
   ]
  }
 ],
 "metadata": {
  "@webio": {
   "lastCommId": null,
   "lastKernelId": null
  },
  "kernelspec": {
   "display_name": "Julia 1.2.0",
   "language": "julia",
   "name": "julia-1.2"
  },
  "language_info": {
   "file_extension": ".jl",
   "mimetype": "application/julia",
   "name": "julia",
   "version": "1.2.0"
  },
  "toc": {
   "base_numbering": 1,
   "nav_menu": {},
   "number_sections": true,
   "sideBar": true,
   "skip_h1_title": false,
   "title_cell": "Table of Contents",
   "title_sidebar": "Contents",
   "toc_cell": false,
   "toc_position": {},
   "toc_section_display": true,
   "toc_window_display": false
  }
 },
 "nbformat": 4,
 "nbformat_minor": 2
}
