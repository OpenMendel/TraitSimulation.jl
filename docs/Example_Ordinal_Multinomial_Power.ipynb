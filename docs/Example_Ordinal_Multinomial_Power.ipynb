{
 "cells": [
  {
   "cell_type": "markdown",
   "metadata": {},
   "source": [
    "# Trait Simulation - Ordinal Multinomial Power\n",
    "\n",
    "Authors: Sarah Ji, Janet Sinsheimer, Kenneth Lange, Hua Zhou\n",
    "\n",
    "In this notebook we show how to use the `TraitSimulation.jl` package we illustrate how TraitSimulation.jl can easily simulate traits from genotype data, all within the OpenMendel universe. Operating within this universe brings potential advantages over the available software(s) when needed for downstream analysis or study design. Using just a few calls on the command line to the appropriate packages within the OpenMendel, we demonstrate how to use the OpenMendel code pipeline to construct the genetic model, simulate the trait and find the power for the Ordinal Multinomial Trait. \n",
    "\n",
    "## Background\n",
    "\n",
    "The ordinal multinomial model is a powerful way to model stages of disease progression. For a disease like diabetes, the monitoring of the disease's progression may be improved based on several different biomarkers detected in the EHR data, such as diabetes diagnostic codes, diabetes medication, hyperglycemia in blood results defined by HbA1c and fasting glucose levels, and presence of diabetes process of care codes. Then these algorithm can better categorize individuals into disease progression categories that relate to how likely they are to have diabetes. This is motivated by the need for early diagnoses and effective intervention techniques. For a detailed review on the published ordinal model, we provide in the references our most recent published paper in Genetic Epidemiology, [Ordered multinomial regression for genetic association analysis of ordinal phenotypes at Biobank scale](https://doi.org/10.1002/gepi.22276)\n",
    "\n",
    "This software package, TraitSimuliation.jl addresses the need for simulated trait data in genetic analyses.  This package generates data sets that will allow researchers to accurately check the validity of programs and to calculate power for their proposed studies. This package gives users the ability to easily simulate phenotypic traits under generalized linear models (GLMs) or variance component models (VCMs) conditional on PLINK formatted genotype data [3]. In addition, we demo customized simulation utilities that accompany specific genetic analysis options in Open-Mendel; for example, ordered, multinomial traits. We demonstrate these simulation utilities on the example dataset described below.\n",
    "\n",
    "\n",
    "## Demonstration\n",
    "\n",
    "##### Example Data\n",
    "\n",
    "The data in this demo is restricted to a subset of individuals of European ancestry excluding first- and second-degree relatives based off of kinship estimates. We filtered samples by 98% genotyping success rate on all chromosomes and SNPs by 99% genotyping success rate. These measures result in n = 185,565 individuals and 470,228 SNPs for analysis. A more detailed description of the data can be found in the references [3](https://doi.org/10.1002/gepi.22276) The data from this notebook can be found in the UK Biobank repository under Project ID: 48152 and 15678 at https://www.ukbiobank.ac.uk with the permission of UK Biobank. \n",
    "\n",
    "We use the OpenMendel package [SnpArrays.jl](https://openmendel.github.io/SnpArrays.jl/latest/) to both read in and write out PLINK formatted files. "
   ]
  },
  {
   "cell_type": "markdown",
   "metadata": {},
   "source": [
    "### Double check that you are using Julia version 1.0 or higher by checking the machine information"
   ]
  },
  {
   "cell_type": "code",
   "execution_count": null,
   "metadata": {},
   "outputs": [],
   "source": [
    "versioninfo()"
   ]
  },
  {
   "cell_type": "code",
   "execution_count": null,
   "metadata": {},
   "outputs": [],
   "source": [
    "using Random, Plots, DataFrames, LinearAlgebra, StatsFuns, CSV\n",
    "using SnpArrays, TraitSimulation, GLM, StatsBase, OrdinalMultinomialModels\n",
    "Random.seed!(1234);"
   ]
  },
  {
   "cell_type": "markdown",
   "metadata": {},
   "source": [
    "# Reading genotype data using SnpArrays\n",
    "\n",
    "First use `SnpArrays.jl` to read in the genotype data. We use PLINK formatted data with the same prefixes for the .bim, .fam, .bed files.\n",
    "\n",
    "SnpArrays is a very useful utility and can do a lot more than just read in the data. More information about all the functionality of SnpArrays can be found at:\n",
    "https://openmendel.github.io/SnpArrays.jl/latest/\n",
    "\n",
    "As missing genotypes are often due to problems making the calls, the called genotypes at a marker with too much missing genotypes are potentially unreliable. By default, SnpArrays filters to keep only the genotypes with success rates greater than 0.98 and the minimum minor allele frequency to be 0.01. If the user wishes to change the stringency, change the number given in filter according to [SnpArrays](https://openmendel.github.io/SnpArrays.jl/latest/#Fitering-1)."
   ]
  },
  {
   "cell_type": "code",
   "execution_count": null,
   "metadata": {},
   "outputs": [],
   "source": [
    "filename = \"/mnt/UKBiobank/ukbdata/ordinalanalysis/ukb.plink.filtered\"\n",
    "full_snps = SnpArray(filename * \".bed\");"
   ]
  },
  {
   "cell_type": "code",
   "execution_count": null,
   "metadata": {},
   "outputs": [],
   "source": [
    "full_snp_data = SnpData(SnpArrays.datadir(filename))"
   ]
  },
  {
   "cell_type": "code",
   "execution_count": null,
   "metadata": {},
   "outputs": [],
   "source": [
    "snpid = full_snp_data.snp_info[!, :snpid][:] # store the snp_info with the snp names\n",
    "causal_snp_index = findall(x -> x == \"rs11240779\", snpid) # find the index of the snp of interest by snpid"
   ]
  },
  {
   "cell_type": "markdown",
   "metadata": {},
   "source": [
    "The published hypertension GWAS analysis includes the following covariates: sex, center, age, age2, BMI, and the top ten principal components to adjust for ancestry/relatedness."
   ]
  },
  {
   "cell_type": "code",
   "execution_count": null,
   "metadata": {},
   "outputs": [],
   "source": [
    "causal_snp = @view full_snps[:, causal_snp_index]"
   ]
  },
  {
   "cell_type": "code",
   "execution_count": null,
   "metadata": {},
   "outputs": [],
   "source": [
    "maf_cs = maf(@view full_snps[:, causal_snp_index])"
   ]
  },
  {
   "cell_type": "code",
   "execution_count": null,
   "metadata": {},
   "outputs": [],
   "source": [
    "# Generating Effect Sizes from Chisquared(df = 1) density\n",
    "chisq_coeff = round.(chisqpdf.(1, maf_cs), digits = 3)"
   ]
  },
  {
   "cell_type": "markdown",
   "metadata": {},
   "source": [
    "# Power Calculation\n",
    "\n",
    "Now we show how to simulate from customized simulation models that accompany specific genetic analysis options in OpenMendel; for example, ordered, multinomial traits and Variance Component Models.\n",
    "\n",
    "\n",
    "This example illustrates the use of the simulations to generates data sets allowing researchers to accurately check the validity of programs and to calculate power for their proposed studies. \n",
    "\n",
    "We illustrate this example in three digestable steps: \n",
    "   * The first by simulating genotypes and covariate values representative for our study population.\n",
    "   * Carry over the simulated design matrix from (1) to create the OrderedMultinomialTrait model object.\n",
    "   * Simulate off the OrderedMultinomialTrait model object created in (2) and run the power analyses for the desired significance level.\n"
   ]
  },
  {
   "cell_type": "markdown",
   "metadata": {},
   "source": [
    "### `Genotype Simulation:`\n",
    "\n",
    "Say our study population has a sample size of `n` people and we are interested in studying the effect of the causal snp with a predetermined minor allele frequency. We use the minor allele frequency of the causal variant to simulate the SnpArray under Hardy Weinberg Equillibrium (HWE), using the `snparray_simulation` function as follows:\n",
    "    \n",
    "    \n",
    "| Genotype | Plink/SnpArray |  \n",
    "|:---:|:---:|  \n",
    "| A1,A1 | 0x00 |  \n",
    "| missing | 0x01 |\n",
    "| A1,A2 | 0x02 |  \n",
    "| A2,A2 | 0x03 |  \n",
    "    \n",
    "\n",
    "Given the specified minor allele frequency, `maf`, here `maf = [0.2]`, this function samples from the genotype vector under HWE and returns the compressed binary format under SnpArrays. Note if you give the function a vector of minor allele frequencies, specify `maf = [0.2, 0.25, 0.3]`, for each specified allele it will simulate a SnpArray under HWE and ouput them together."
   ]
  },
  {
   "cell_type": "markdown",
   "metadata": {},
   "source": [
    "### convert\n",
    "By default `convert` function translates genotypes according to the *additive* SNP model, which essentially counts the number of **A2** allele (0, 1 or 2) per genotype. Other SNP models are *dominant* and *recessive*, both in terms of the **A2** allele.\n",
    "\n",
    "| Genotype | `SnpArray` | `model=ADDITIVE_MODEL` | `model=DOMINANT_MODEL` | `model=RECESSIVE_MODEL` |    \n",
    "|:---:|:---:|:---:|:---:|:---:|  \n",
    "| A1,A1 | 0x00 | 0 | 0 | 0 |  \n",
    "| missing | 0x01 | NaN | NaN | NaN |\n",
    "| A1,A2 | 0x02 | 1 | 1 | 0 |  \n",
    "| A2,A2 | 0x03 | 2 | 1 | 1 |  \n",
    "\n",
    "If desired, the user can decide to specify alternative model parameters found in the [SnpArrays](https://openmendel.github.io/SnpArrays.jl/latest/#convert-and-copyto!-1) documentation.\n",
    "\n",
    "We want to find the index of this causal locus in the snp_definition (.bim) file and then subset that locus from the genetic marker data above.\n",
    "Using SnpArrays.jl we can then use the `convert` and `@view` commands to get the appropriate conversion from SnpArray to a computable vector of Float64. "
   ]
  },
  {
   "cell_type": "code",
   "execution_count": null,
   "metadata": {},
   "outputs": [],
   "source": [
    "locus = convert(Vector{Float64}, @view(full_snps[:, 7]), impute = true)"
   ]
  },
  {
   "cell_type": "markdown",
   "metadata": {},
   "source": [
    "The published hypertension GWAS analysis includes the following covariates: sex, center, age, age2, BMI, and the top ten principal components to adjust for ancestry/relatedness. "
   ]
  },
  {
   "cell_type": "code",
   "execution_count": null,
   "metadata": {},
   "outputs": [],
   "source": [
    "published_covariate_data = CSV.read(\"/mnt/UKBiobank/ukbdata/ordinalanalysis/Covariate_Final.csv\")\n",
    "covariates = published_covariate_data"
   ]
  },
  {
   "cell_type": "code",
   "execution_count": null,
   "metadata": {},
   "outputs": [],
   "source": [
    "pcs = covariates[:, 12:21]"
   ]
  },
  {
   "cell_type": "code",
   "execution_count": null,
   "metadata": {},
   "outputs": [],
   "source": [
    "age = Float64.(covariates[!, :age])\n",
    "sex = Float64.(covariates[!, :sex])\n",
    "center = Int64.(covariates[!, :center])\n",
    "bmi = Float64.(covariates[!, :bmi])\n",
    "\n",
    "y = Float64.(covariates[!, :hyptens])\n",
    "X = DataFrame(y = y, sex = sex, center = center, age = age, age2 = age.^2, bmi = bmi, locus = locus)\n",
    "X_full = Float64.(hcat(pcs, X))"
   ]
  },
  {
   "cell_type": "markdown",
   "metadata": {},
   "source": [
    "## Phenotype Simulation:\n",
    "\n",
    "Now that we have our simulated design matrix with the desired SNP of interest, we can simulate our phenotypes on the simulated data under different TraitSimulation models. To illustrate, we demonstrate on the `OrderedMultinomialTrait` model object in TraitSimulation.jl.\n",
    "\n",
    "\n",
    "### Ordered Multinomial Trait\n",
    "\n",
    "Recall that this phenotype is special, in that the [OrdinalMultinomialModels](https://openmendel.github.io/OrdinalMultinomialModels.jl/stable/#Syntax-1) package provides Julia utilities to fit ordered multinomial models, including [proportional odds model](https://en.wikipedia.org/wiki/Ordered_logit) and [ordered Probit model](https://en.wikipedia.org/wiki/Ordered_probit) as special cases. "
   ]
  },
  {
   "cell_type": "code",
   "execution_count": null,
   "metadata": {},
   "outputs": [],
   "source": [
    "link = LogitLink()\n",
    "θ = [1.0, 1.2, 1.4]\n",
    "β_non_gen = \n",
    "[ 0.168\n",
    "  0.150 \n",
    " -0.060 \n",
    "  0.160\n",
    " -1.386\n",
    " -0.118\n",
    " -0.231\n",
    " -0.555\n",
    " -0.727\n",
    "  0.858\n",
    "  0.992\n",
    "  0.004\n",
    " -0.001  \n",
    " -0.002\n",
    "  0.001  \n",
    "  0.003]\n",
    "\n",
    "β_full = vcat(β_non_gen, chisq_coeff)"
   ]
  },
  {
   "cell_type": "markdown",
   "metadata": {},
   "source": [
    "## Ordinal Multinomial Model \n",
    "\n",
    "Construct the genetic model to simulate the trait. Make sure the $\\theta$ vector is increasing!"
   ]
  },
  {
   "cell_type": "code",
   "execution_count": null,
   "metadata": {},
   "outputs": [],
   "source": [
    "Ordinal_Model_Test = OrderedMultinomialTrait(Matrix(X_full), β_full, θ, link)"
   ]
  },
  {
   "cell_type": "markdown",
   "metadata": {},
   "source": [
    "## `Power Calculation:`\n",
    "\n",
    "We use the following function to generate the p-values for the simulated power example for the ordered multinomial regression model. We range effect sizes in the vector γs, which collects effect sizes from 0 to 1 in increments of 0.05. As expected, the power increases as the effect size increases. \n",
    "    "
   ]
  },
  {
   "cell_type": "code",
   "execution_count": null,
   "metadata": {},
   "outputs": [],
   "source": [
    "γs = collect(0.0:0.025:0.5)"
   ]
  },
  {
   "cell_type": "markdown",
   "metadata": {},
   "source": [
    "Each column of this matrix represents each of the detected effect sizes, and each row of this matrix represents each simulation for that effect size. The user feeds into the function the number of simulations, the vector of effect sizes, the TraitSimulation.jl model object, and the random seed.\n",
    "\n",
    "For GLMTrait objects, the `realistic_power_simulation` function makes the appropriate calls to the GLM.jl package to get the simulation p-values obtained from testing the significance of the causal locus using the Wald Test by default. However since the GLM.jl package has its limitations, we include additional power utilities that make the appropriate function calls to the [OrdinalMultinomialModels](https://openmendel.github.io/OrdinalMultinomialModels.jl/stable/#Syntax-1) to get the p-value obtained from testing the significance of the causal locus.\n"
   ]
  },
  {
   "cell_type": "markdown",
   "metadata": {},
   "source": [
    "For each effect size in $\\gamma_s,$ in each column we have the p-values obtained from testing the significance of the causal locus `nsim = 100` times under the ordinal multinomial model, `Ordinal_Model` and the `randomseed = 1234`."
   ]
  },
  {
   "cell_type": "code",
   "execution_count": null,
   "metadata": {},
   "outputs": [],
   "source": [
    "nsim = 1000\n",
    "randomseed = 1234\n",
    "simulated_pvalues = ordinal_power_simulation(nsim, γs, Ordinal_Model_Test, randomseed);\n",
    "rename!(DataFrame(simulated_pvalues), [Symbol(\"γs = $(γs[i])\") for i in 1:length(γs)])"
   ]
  },
  {
   "cell_type": "markdown",
   "metadata": {},
   "source": [
    "Now we find the power of each effect size in the user-specified γs vector at the specified alpha level of significance, and plot the trajectory using the Plots.jl package."
   ]
  },
  {
   "cell_type": "code",
   "execution_count": null,
   "metadata": {
    "scrolled": true
   },
   "outputs": [],
   "source": [
    "α = 0.000005\n",
    "power_effectsize = power(simulated_pvalues, α)"
   ]
  },
  {
   "cell_type": "code",
   "execution_count": null,
   "metadata": {},
   "outputs": [],
   "source": [
    "plot(γs, power_effectsize, title = \"Multinomial Power\", label = \"maf = $maf_cs, alpha = $α\", lw = 3 , legend = :bottomright, legendfontsize= 9)  # plot power\n",
    "xlabel!(\"Detectable Effect Size\")\n",
    "hline!([.8], label = \"power = 80%\", lw = 3)\n",
    "vline!([.29], label = \"minimum detectable effect size = 0.29\")\n",
    "#savefig(\"/home/sarahji/TraitSimulation.jl/docs/ordinalmultinomialpower.pdf\")"
   ]
  },
  {
   "cell_type": "markdown",
   "metadata": {},
   "source": [
    "## Citations: \n",
    "\n",
    "[1] Lange K, Papp JC, Sinsheimer JS, Sripracha R, Zhou H, Sobel EM (2013) Mendel: The Swiss army knife of genetic analysis programs. Bioinformatics 29:1568-1570.`\n",
    "\n",
    "\n",
    "[2] OPENMENDEL: a cooperative programming project for statistical genetics.\n",
    "[Hum Genet. 2019 Mar 26. doi: 10.1007/s00439-019-02001-z](https://www.ncbi.nlm.nih.gov/pubmed/?term=OPENMENDEL).\n",
    "\n",
    "[3] German, CA, Sinsheimer, JS, Klimentidis, YC, Zhou, H, Zhou, JJ. Ordered multinomial regression for genetic association analysis of ordinal phenotypes at Biobank scale. Genetic Epidemiology. 2019; 1– 13. https://doi.org/10.1002/gepi.22276\n"
   ]
  }
 ],
 "metadata": {
  "@webio": {
   "lastCommId": null,
   "lastKernelId": null
  },
  "kernelspec": {
   "display_name": "Julia 1.3.0",
   "language": "julia",
   "name": "julia-1.3"
  },
  "language_info": {
   "file_extension": ".jl",
   "mimetype": "application/julia",
   "name": "julia",
   "version": "1.3.0"
  },
  "toc": {
   "base_numbering": 1,
   "nav_menu": {},
   "number_sections": true,
   "sideBar": true,
   "skip_h1_title": false,
   "title_cell": "Table of Contents",
   "title_sidebar": "Contents",
   "toc_cell": false,
   "toc_position": {},
   "toc_section_display": true,
   "toc_window_display": false
  }
 },
 "nbformat": 4,
 "nbformat_minor": 2
}
