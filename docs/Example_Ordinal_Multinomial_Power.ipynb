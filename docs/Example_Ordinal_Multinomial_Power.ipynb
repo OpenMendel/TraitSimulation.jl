{
 "cells": [
  {
   "cell_type": "markdown",
   "metadata": {},
   "source": [
    "# Trait Simulation - Ordinal Multinomial Power\n",
    "\n",
    "Authors: Sarah Ji, Janet Sinsheimer, Kenneth Lange, Hua Zhou\n",
    "\n",
    "In this notebook we show how to use the `TraitSimulation.jl` package we illustrate how TraitSimulation.jl can easily simulate traits from genotype data, all within the OpenMendel universe. Operating within this universe brings potential advantages over the available software(s) when needed for downstream analysis or study design. \n",
    "\n",
    "Using just a few calls on the command line to the appropriate packages within the OpenMendel, we demonstrate in three easy examples the utilities of the TraitSimulation.jl package.\n",
    "\n",
    "\n",
    "## Background\n",
    "\n",
    "There is a lack of software available to geneticists who wish to calculate power and sample sizes in designing a study on genetics data. Typically, the study power depends on assumptions about the underlying disease model.  Many power calculating software tools operate as a black box and do not allow for customization.  To develop custom tests, researchers can develop their own simulation procedures to carry out power calculations.  One limitation with many existing methods for simulating traits conditional on genotypes is that these methods are limited to normally distributed traits and to fixed effects. \n",
    "\n",
    "This software package, TraitSimuliation.jl addresses the need for simulated trait data in genetic analyses.  This package generates data sets that will allow researchers to accurately check the validity of programs and to calculate power for their proposed studies. This package gives users the ability to easily simulate phenotypic traits under generalized linear models (GLMs) or variance component models (VCMs) conditional on PLINK formatted genotype data [3]. In addition, we include customized simulation utilities that accompany specific genetic analysis options in Open-Mendel; for example, ordered, multinomial traits. We demonstrate these simulation utilities on the example dataset described below.\n",
    "\n",
    "\n",
    "## Demonstration\n",
    "\n",
    "##### Example Data\n",
    "\n",
    "We use the OpenMendel package [SnpArrays.jl](https://openmendel.github.io/SnpArrays.jl/latest/) to both read in and write out PLINK formatted files. \n",
    "\n",
    "Based on several different features in the EHR including diabetes diagnostic codes, diabetes medication, hyperglycemia in blood results defined by HbA1c and fasting glucose levels, and presence of diabetes process of care codes, the algorithm categorizes individuals into different categories that relate to how likely they are to have diabetes. \n",
    "\n",
    "For convenience we use the common assumption that the residual covariance among two relatives can be captured by the additive genetic variance times twice the kinship coefficient.\n",
    "\n",
    "In each example the user can specify the simulation model parameters, along with the number of repitions for each simulation model as desired. By default, the simulation will return the result of a single simulation.\n"
   ]
  },
  {
   "cell_type": "markdown",
   "metadata": {},
   "source": [
    "### Double check that you are using Julia version 1.0 or higher by checking the machine information"
   ]
  },
  {
   "cell_type": "code",
   "execution_count": 1,
   "metadata": {},
   "outputs": [
    {
     "name": "stdout",
     "output_type": "stream",
     "text": [
      "Julia Version 1.3.0\n",
      "Commit 46ce4d7933 (2019-11-26 06:09 UTC)\n",
      "Platform Info:\n",
      "  OS: Linux (x86_64-pc-linux-gnu)\n",
      "  CPU: Intel(R) Core(TM) i9-9920X CPU @ 3.50GHz\n",
      "  WORD_SIZE: 64\n",
      "  LIBM: libopenlibm\n",
      "  LLVM: libLLVM-6.0.1 (ORCJIT, skylake)\n"
     ]
    }
   ],
   "source": [
    "versioninfo()"
   ]
  },
  {
   "cell_type": "code",
   "execution_count": 2,
   "metadata": {},
   "outputs": [
    {
     "name": "stderr",
     "output_type": "stream",
     "text": [
      "┌ Info: Precompiling TraitSimulation [dec3038e-29bc-11e9-2207-9f3d5855a202]\n",
      "└ @ Base loading.jl:1273\n"
     ]
    }
   ],
   "source": [
    "using Random, Plots, DataFrames, LinearAlgebra, StatsFuns, CSV\n",
    "using SnpArrays, TraitSimulation, GLM, StatsBase, OrdinalMultinomialModels\n",
    "Random.seed!(1234);"
   ]
  },
  {
   "cell_type": "markdown",
   "metadata": {},
   "source": [
    "# Reading genotype data using SnpArrays\n",
    "\n",
    "First use `SnpArrays.jl` to read in the genotype data. We use PLINK formatted data with the same prefixes for the .bim, .fam, .bed files.\n",
    "\n",
    "SnpArrays is a very useful utility and can do a lot more than just read in the data. More information about all the functionality of SnpArrays can be found at:\n",
    "https://openmendel.github.io/SnpArrays.jl/latest/\n",
    "\n",
    "As missing genotypes are often due to problems making the calls, the called genotypes at a marker with too much missing genotypes are potentially unreliable. By default, SnpArrays filters to keep only the genotypes with success rates greater than 0.98 and the minimum minor allele frequency to be 0.01. If the user wishes to change the stringency, change the number given in filter according to [SnpArrays](https://openmendel.github.io/SnpArrays.jl/latest/#Fitering-1)."
   ]
  },
  {
   "cell_type": "code",
   "execution_count": 3,
   "metadata": {},
   "outputs": [],
   "source": [
    "filename = \"/mnt/UKBiobank/ukbdata/ordinalanalysis/ukb.plink.filtered\"\n",
    "full_snps = SnpArray(filename * \".bed\");"
   ]
  },
  {
   "cell_type": "code",
   "execution_count": 11,
   "metadata": {},
   "outputs": [
    {
     "data": {
      "text/plain": [
       "SnpData(people: 185565, snps: 470228,\n",
       "snp_info: \n",
       "│ Row │ chromosome │ snpid       │ genetic_distance │ position │ allele1      │ allele2      │\n",
       "│     │ String     │ String      │ Float64          │ Int64    │ Categorical… │ Categorical… │\n",
       "├─────┼────────────┼─────────────┼──────────────────┼──────────┼──────────────┼──────────────┤\n",
       "│ 1   │ 1          │ rs3131972   │ 0.0              │ 752721   │ A            │ G            │\n",
       "│ 2   │ 1          │ rs12184325  │ 0.0              │ 754105   │ T            │ C            │\n",
       "│ 3   │ 1          │ rs3131962   │ 0.0              │ 756604   │ A            │ G            │\n",
       "│ 4   │ 1          │ rs12562034  │ 0.0              │ 768448   │ A            │ G            │\n",
       "│ 5   │ 1          │ rs116390263 │ 0.0              │ 772927   │ T            │ C            │\n",
       "│ 6   │ 1          │ rs4040617   │ 0.0              │ 779322   │ G            │ A            │\n",
       "…,\n",
       "person_info: \n",
       "│ Row │ fid       │ iid       │ father    │ mother    │ sex       │ phenotype │\n",
       "│     │ Abstract… │ Abstract… │ Abstract… │ Abstract… │ Abstract… │ Abstract… │\n",
       "├─────┼───────────┼───────────┼───────────┼───────────┼───────────┼───────────┤\n",
       "│ 1   │ 1000019   │ 1000019   │ 0         │ 0         │ 1         │ -9        │\n",
       "│ 2   │ 1000078   │ 1000078   │ 0         │ 0         │ 1         │ -9        │\n",
       "│ 3   │ 1000081   │ 1000081   │ 0         │ 0         │ 1         │ -9        │\n",
       "│ 4   │ 1000105   │ 1000105   │ 0         │ 0         │ 2         │ -9        │\n",
       "│ 5   │ 1000112   │ 1000112   │ 0         │ 0         │ 1         │ -9        │\n",
       "│ 6   │ 1000129   │ 1000129   │ 0         │ 0         │ 1         │ -9        │\n",
       "…,\n",
       "srcbed: /mnt/UKBiobank/ukbdata/ordinalanalysis/ukb.plink.filtered.bed\n",
       "srcbim: /mnt/UKBiobank/ukbdata/ordinalanalysis/ukb.plink.filtered.bim\n",
       "srcfam: /mnt/UKBiobank/ukbdata/ordinalanalysis/ukb.plink.filtered.fam\n",
       ")"
      ]
     },
     "execution_count": 11,
     "metadata": {},
     "output_type": "execute_result"
    }
   ],
   "source": [
    "full_snp_data = SnpData(SnpArrays.datadir(filename))"
   ]
  },
  {
   "cell_type": "code",
   "execution_count": 107,
   "metadata": {},
   "outputs": [
    {
     "data": {
      "text/plain": [
       "1-element Array{Int64,1}:\n",
       " 7"
      ]
     },
     "execution_count": 107,
     "metadata": {},
     "output_type": "execute_result"
    }
   ],
   "source": [
    "snpid = full_snp_data.snp_info[!, :snpid][:] # store the snp_info with the snp names\n",
    "causal_snp_index = findall(x -> x == \"rs11240779\", snpid) # find the index of the snp of interest by snpid"
   ]
  },
  {
   "cell_type": "markdown",
   "metadata": {},
   "source": [
    "The published hypertension GWAS analysis includes the following covariates: sex, center, age, age2, BMI, and the top ten principal components to adjust for ancestry/relatedness."
   ]
  },
  {
   "cell_type": "code",
   "execution_count": 110,
   "metadata": {},
   "outputs": [
    {
     "data": {
      "text/plain": [
       "185565×1 view(::SnpArray, :, [7]) with eltype UInt8:\n",
       " 0x03\n",
       " 0x03\n",
       " 0x02\n",
       " 0x02\n",
       " 0x03\n",
       " 0x03\n",
       " 0x00\n",
       " 0x03\n",
       " 0x03\n",
       " 0x03\n",
       " 0x00\n",
       " 0x02\n",
       " 0x03\n",
       "    ⋮\n",
       " 0x02\n",
       " 0x03\n",
       " 0x02\n",
       " 0x03\n",
       " 0x02\n",
       " 0x03\n",
       " 0x03\n",
       " 0x03\n",
       " 0x03\n",
       " 0x02\n",
       " 0x00\n",
       " 0x03"
      ]
     },
     "execution_count": 110,
     "metadata": {},
     "output_type": "execute_result"
    }
   ],
   "source": [
    "causal_snp = @view full_snps[:, causal_snp_index]"
   ]
  },
  {
   "cell_type": "code",
   "execution_count": 113,
   "metadata": {},
   "outputs": [
    {
     "data": {
      "text/plain": [
       "1-element Array{Float64,1}:\n",
       " 0.22473754170848814"
      ]
     },
     "execution_count": 113,
     "metadata": {},
     "output_type": "execute_result"
    }
   ],
   "source": [
    "maf_cs = maf(@view full_snps[:, causal_snp_index])"
   ]
  },
  {
   "cell_type": "code",
   "execution_count": 6,
   "metadata": {},
   "outputs": [
    {
     "data": {
      "text/plain": [
       "0.807"
      ]
     },
     "execution_count": 6,
     "metadata": {},
     "output_type": "execute_result"
    }
   ],
   "source": [
    "# Generating Effect Sizes from Chisquared(df = 1) density\n",
    "chisq_coeff = round(chisqpdf(1, maf_cs), digits = 3)"
   ]
  },
  {
   "cell_type": "markdown",
   "metadata": {},
   "source": [
    "# Power Calculation\n",
    "\n",
    "Now we show how to simulate from customized simulation models that accompany specific genetic analysis options in OpenMendel; for example, ordered, multinomial traits and Variance Component Models.\n",
    "\n",
    "\n",
    "This example illustrates the use of the simulations to generates data sets allowing researchers to accurately check the validity of programs and to calculate power for their proposed studies. \n",
    "\n",
    "We illustrate this example in three digestable steps: \n",
    "   * The first by simulating genotypes and covariate values representative for our study population.\n",
    "   * Carry over the simulated design matrix from (1) to create the OrderedMultinomialTrait model object.\n",
    "   * Simulate off the OrderedMultinomialTrait model object created in (2) and run the power analyses for the desired significance level.\n"
   ]
  },
  {
   "cell_type": "markdown",
   "metadata": {},
   "source": [
    "### `Genotype Simulation:`\n",
    "\n",
    "Say our study population has a sample size of `n` people and we are interested in studying the effect of the causal snp with a predetermined minor allele frequency. We use the minor allele frequency of the causal variant to simulate the SnpArray under Hardy Weinberg Equillibrium (HWE), using the `snparray_simulation` function as follows:\n",
    "    \n",
    "    \n",
    "| Genotype | Plink/SnpArray |  \n",
    "|:---:|:---:|  \n",
    "| A1,A1 | 0x00 |  \n",
    "| missing | 0x01 |\n",
    "| A1,A2 | 0x02 |  \n",
    "| A2,A2 | 0x03 |  \n",
    "    \n",
    "\n",
    "Given the specified minor allele frequency, `maf`, here `maf = [0.2]`, this function samples from the genotype vector under HWE and returns the compressed binary format under SnpArrays. Note if you give the function a vector of minor allele frequencies, specify `maf = [0.2, 0.25, 0.3]`, for each specified allele it will simulate a SnpArray under HWE and ouput them together."
   ]
  },
  {
   "cell_type": "markdown",
   "metadata": {},
   "source": [
    "### convert\n",
    "By default `convert` function translates genotypes according to the *additive* SNP model, which essentially counts the number of **A2** allele (0, 1 or 2) per genotype. Other SNP models are *dominant* and *recessive*, both in terms of the **A2** allele.\n",
    "\n",
    "| Genotype | `SnpArray` | `model=ADDITIVE_MODEL` | `model=DOMINANT_MODEL` | `model=RECESSIVE_MODEL` |    \n",
    "|:---:|:---:|:---:|:---:|:---:|  \n",
    "| A1,A1 | 0x00 | 0 | 0 | 0 |  \n",
    "| missing | 0x01 | NaN | NaN | NaN |\n",
    "| A1,A2 | 0x02 | 1 | 1 | 0 |  \n",
    "| A2,A2 | 0x03 | 2 | 1 | 1 |  \n",
    "\n",
    "If desired, the user can decide to specify alternative model parameters found in the [SnpArrays](https://openmendel.github.io/SnpArrays.jl/latest/#convert-and-copyto!-1) documentation.\n",
    "\n",
    "We want to find the index of this causal locus in the snp_definition (.bim) file and then subset that locus from the genetic marker data above.\n",
    "Using SnpArrays.jl we can then use the `convert` and `@view` commands to get the appropriate conversion from SnpArray to a computable vector of Float64. "
   ]
  },
  {
   "cell_type": "code",
   "execution_count": 8,
   "metadata": {},
   "outputs": [
    {
     "data": {
      "text/plain": [
       "185565-element Array{Float64,1}:\n",
       " 2.0\n",
       " 2.0\n",
       " 1.0\n",
       " 1.0\n",
       " 2.0\n",
       " 2.0\n",
       " 0.0\n",
       " 2.0\n",
       " 2.0\n",
       " 2.0\n",
       " 0.0\n",
       " 1.0\n",
       " 2.0\n",
       " ⋮  \n",
       " 1.0\n",
       " 2.0\n",
       " 1.0\n",
       " 2.0\n",
       " 1.0\n",
       " 2.0\n",
       " 2.0\n",
       " 2.0\n",
       " 2.0\n",
       " 1.0\n",
       " 0.0\n",
       " 2.0"
      ]
     },
     "execution_count": 8,
     "metadata": {},
     "output_type": "execute_result"
    }
   ],
   "source": [
    "locus = convert(Vector{Float64}, @view(full_snps[:, 7]), impute = true)"
   ]
  },
  {
   "cell_type": "markdown",
   "metadata": {},
   "source": [
    "The published hypertension GWAS analysis includes the following covariates: sex, center, age, age2, BMI, and the top ten principal components to adjust for ancestry/relatedness. "
   ]
  },
  {
   "cell_type": "code",
   "execution_count": 114,
   "metadata": {},
   "outputs": [
    {
     "data": {
      "text/html": [
       "<table class=\"data-frame\"><thead><tr><th></th><th>FID</th><th>IID</th><th>sex</th><th>center</th><th>age</th><th>age2</th><th>chip</th><th>bmi</th><th>hyptens</th><th>AveSBP</th></tr><tr><th></th><th>Int64</th><th>Int64</th><th>Int64</th><th>Int64</th><th>Int64</th><th>Int64</th><th>String</th><th>Float64</th><th>Int64</th><th>Float64</th></tr></thead><tbody><p>185,565 rows × 21 columns (omitted printing of 11 columns)</p><tr><th>1</th><td>1000019</td><td>1000019</td><td>1</td><td>11016</td><td>62</td><td>3844</td><td>ChipOne</td><td>29.3424</td><td>0</td><td>118.0</td></tr><tr><th>2</th><td>1000078</td><td>1000078</td><td>1</td><td>11009</td><td>51</td><td>2601</td><td>ChipOne</td><td>31.0375</td><td>2</td><td>134.0</td></tr><tr><th>3</th><td>1000081</td><td>1000081</td><td>1</td><td>11014</td><td>47</td><td>2209</td><td>ChipOne</td><td>23.335</td><td>2</td><td>132.5</td></tr><tr><th>4</th><td>1000105</td><td>1000105</td><td>0</td><td>11010</td><td>42</td><td>1764</td><td>ChipOne</td><td>21.5793</td><td>0</td><td>104.5</td></tr><tr><th>5</th><td>1000112</td><td>1000112</td><td>1</td><td>11021</td><td>55</td><td>3025</td><td>ChipOne</td><td>26.7327</td><td>2</td><td>139.0</td></tr><tr><th>6</th><td>1000129</td><td>1000129</td><td>1</td><td>11009</td><td>63</td><td>3969</td><td>ChipOne</td><td>26.7034</td><td>3</td><td>141.0</td></tr><tr><th>7</th><td>1000141</td><td>1000141</td><td>0</td><td>11008</td><td>51</td><td>2601</td><td>ChipOne</td><td>35.1706</td><td>1</td><td>128.0</td></tr><tr><th>8</th><td>1000164</td><td>1000164</td><td>0</td><td>11011</td><td>45</td><td>2025</td><td>ChipOne</td><td>25.235</td><td>1</td><td>122.0</td></tr><tr><th>9</th><td>1000224</td><td>1000224</td><td>1</td><td>11010</td><td>52</td><td>2704</td><td>ChipOne</td><td>31.6387</td><td>3</td><td>158.0</td></tr><tr><th>10</th><td>1000236</td><td>1000236</td><td>1</td><td>11011</td><td>46</td><td>2116</td><td>ChipOne</td><td>22.6394</td><td>3</td><td>153.5</td></tr><tr><th>11</th><td>1000287</td><td>1000287</td><td>0</td><td>11008</td><td>62</td><td>3844</td><td>ChipOne</td><td>21.9137</td><td>2</td><td>140.0</td></tr><tr><th>12</th><td>1000304</td><td>1000304</td><td>0</td><td>11004</td><td>63</td><td>3969</td><td>ChipOne</td><td>24.7957</td><td>3</td><td>157.0</td></tr><tr><th>13</th><td>1000323</td><td>1000323</td><td>0</td><td>11007</td><td>58</td><td>3364</td><td>ChipOne</td><td>34.4386</td><td>3</td><td>133.0</td></tr><tr><th>14</th><td>1000340</td><td>1000340</td><td>1</td><td>11020</td><td>50</td><td>2500</td><td>ChipOne</td><td>20.5643</td><td>1</td><td>120.5</td></tr><tr><th>15</th><td>1000357</td><td>1000357</td><td>1</td><td>11008</td><td>64</td><td>4096</td><td>ChipOne</td><td>25.1148</td><td>3</td><td>168.0</td></tr><tr><th>16</th><td>1000408</td><td>1000408</td><td>0</td><td>11020</td><td>49</td><td>2401</td><td>ChipOne</td><td>20.3315</td><td>0</td><td>113.0</td></tr><tr><th>17</th><td>1000415</td><td>1000415</td><td>1</td><td>11017</td><td>44</td><td>1936</td><td>ChipOne</td><td>21.2094</td><td>2</td><td>128.5</td></tr><tr><th>18</th><td>1000421</td><td>1000421</td><td>1</td><td>11010</td><td>42</td><td>1764</td><td>ChipOne</td><td>25.9612</td><td>0</td><td>118.0</td></tr><tr><th>19</th><td>1000439</td><td>1000439</td><td>0</td><td>11018</td><td>50</td><td>2500</td><td>ChipOne</td><td>29.1797</td><td>1</td><td>124.0</td></tr><tr><th>20</th><td>1000443</td><td>1000443</td><td>1</td><td>11005</td><td>44</td><td>1936</td><td>ChipOne</td><td>24.9634</td><td>2</td><td>131.5</td></tr><tr><th>21</th><td>1000466</td><td>1000466</td><td>1</td><td>11008</td><td>56</td><td>3136</td><td>ChipOne</td><td>29.5254</td><td>3</td><td>154.0</td></tr><tr><th>22</th><td>1000477</td><td>1000477</td><td>1</td><td>11007</td><td>51</td><td>2601</td><td>ChipOne</td><td>30.4709</td><td>2</td><td>131.0</td></tr><tr><th>23</th><td>1000482</td><td>1000482</td><td>1</td><td>11007</td><td>55</td><td>3025</td><td>ChipOne</td><td>35.7345</td><td>2</td><td>138.5</td></tr><tr><th>24</th><td>1000516</td><td>1000516</td><td>1</td><td>11002</td><td>60</td><td>3600</td><td>ChipOne</td><td>26.2784</td><td>3</td><td>157.5</td></tr><tr><th>25</th><td>1000551</td><td>1000551</td><td>0</td><td>11018</td><td>53</td><td>2809</td><td>ChipOne</td><td>32.6294</td><td>3</td><td>174.0</td></tr><tr><th>26</th><td>1000568</td><td>1000568</td><td>0</td><td>11014</td><td>64</td><td>4096</td><td>ChipOne</td><td>26.2469</td><td>3</td><td>140.5</td></tr><tr><th>27</th><td>1000573</td><td>1000573</td><td>0</td><td>11010</td><td>54</td><td>2916</td><td>ChipOne</td><td>26.4453</td><td>3</td><td>139.5</td></tr><tr><th>28</th><td>1000584</td><td>1000584</td><td>1</td><td>11007</td><td>59</td><td>3481</td><td>ChipOne</td><td>25.3388</td><td>2</td><td>135.5</td></tr><tr><th>29</th><td>1000595</td><td>1000595</td><td>0</td><td>11004</td><td>64</td><td>4096</td><td>ChipOne</td><td>30.449</td><td>3</td><td>152.5</td></tr><tr><th>30</th><td>1000609</td><td>1000609</td><td>1</td><td>11021</td><td>52</td><td>2704</td><td>ChipOne</td><td>33.4969</td><td>2</td><td>129.5</td></tr><tr><th>&vellip;</th><td>&vellip;</td><td>&vellip;</td><td>&vellip;</td><td>&vellip;</td><td>&vellip;</td><td>&vellip;</td><td>&vellip;</td><td>&vellip;</td><td>&vellip;</td><td>&vellip;</td></tr></tbody></table>"
      ],
      "text/latex": [
       "\\begin{tabular}{r|ccccccccccc}\n",
       "\t& FID & IID & sex & center & age & age2 & chip & bmi & hyptens & AveSBP & \\\\\n",
       "\t\\hline\n",
       "\t& Int64 & Int64 & Int64 & Int64 & Int64 & Int64 & String & Float64 & Int64 & Float64 & \\\\\n",
       "\t\\hline\n",
       "\t1 & 1000019 & 1000019 & 1 & 11016 & 62 & 3844 & ChipOne & 29.3424 & 0 & 118.0 & $\\dots$ \\\\\n",
       "\t2 & 1000078 & 1000078 & 1 & 11009 & 51 & 2601 & ChipOne & 31.0375 & 2 & 134.0 & $\\dots$ \\\\\n",
       "\t3 & 1000081 & 1000081 & 1 & 11014 & 47 & 2209 & ChipOne & 23.335 & 2 & 132.5 & $\\dots$ \\\\\n",
       "\t4 & 1000105 & 1000105 & 0 & 11010 & 42 & 1764 & ChipOne & 21.5793 & 0 & 104.5 & $\\dots$ \\\\\n",
       "\t5 & 1000112 & 1000112 & 1 & 11021 & 55 & 3025 & ChipOne & 26.7327 & 2 & 139.0 & $\\dots$ \\\\\n",
       "\t6 & 1000129 & 1000129 & 1 & 11009 & 63 & 3969 & ChipOne & 26.7034 & 3 & 141.0 & $\\dots$ \\\\\n",
       "\t7 & 1000141 & 1000141 & 0 & 11008 & 51 & 2601 & ChipOne & 35.1706 & 1 & 128.0 & $\\dots$ \\\\\n",
       "\t8 & 1000164 & 1000164 & 0 & 11011 & 45 & 2025 & ChipOne & 25.235 & 1 & 122.0 & $\\dots$ \\\\\n",
       "\t9 & 1000224 & 1000224 & 1 & 11010 & 52 & 2704 & ChipOne & 31.6387 & 3 & 158.0 & $\\dots$ \\\\\n",
       "\t10 & 1000236 & 1000236 & 1 & 11011 & 46 & 2116 & ChipOne & 22.6394 & 3 & 153.5 & $\\dots$ \\\\\n",
       "\t11 & 1000287 & 1000287 & 0 & 11008 & 62 & 3844 & ChipOne & 21.9137 & 2 & 140.0 & $\\dots$ \\\\\n",
       "\t12 & 1000304 & 1000304 & 0 & 11004 & 63 & 3969 & ChipOne & 24.7957 & 3 & 157.0 & $\\dots$ \\\\\n",
       "\t13 & 1000323 & 1000323 & 0 & 11007 & 58 & 3364 & ChipOne & 34.4386 & 3 & 133.0 & $\\dots$ \\\\\n",
       "\t14 & 1000340 & 1000340 & 1 & 11020 & 50 & 2500 & ChipOne & 20.5643 & 1 & 120.5 & $\\dots$ \\\\\n",
       "\t15 & 1000357 & 1000357 & 1 & 11008 & 64 & 4096 & ChipOne & 25.1148 & 3 & 168.0 & $\\dots$ \\\\\n",
       "\t16 & 1000408 & 1000408 & 0 & 11020 & 49 & 2401 & ChipOne & 20.3315 & 0 & 113.0 & $\\dots$ \\\\\n",
       "\t17 & 1000415 & 1000415 & 1 & 11017 & 44 & 1936 & ChipOne & 21.2094 & 2 & 128.5 & $\\dots$ \\\\\n",
       "\t18 & 1000421 & 1000421 & 1 & 11010 & 42 & 1764 & ChipOne & 25.9612 & 0 & 118.0 & $\\dots$ \\\\\n",
       "\t19 & 1000439 & 1000439 & 0 & 11018 & 50 & 2500 & ChipOne & 29.1797 & 1 & 124.0 & $\\dots$ \\\\\n",
       "\t20 & 1000443 & 1000443 & 1 & 11005 & 44 & 1936 & ChipOne & 24.9634 & 2 & 131.5 & $\\dots$ \\\\\n",
       "\t21 & 1000466 & 1000466 & 1 & 11008 & 56 & 3136 & ChipOne & 29.5254 & 3 & 154.0 & $\\dots$ \\\\\n",
       "\t22 & 1000477 & 1000477 & 1 & 11007 & 51 & 2601 & ChipOne & 30.4709 & 2 & 131.0 & $\\dots$ \\\\\n",
       "\t23 & 1000482 & 1000482 & 1 & 11007 & 55 & 3025 & ChipOne & 35.7345 & 2 & 138.5 & $\\dots$ \\\\\n",
       "\t24 & 1000516 & 1000516 & 1 & 11002 & 60 & 3600 & ChipOne & 26.2784 & 3 & 157.5 & $\\dots$ \\\\\n",
       "\t25 & 1000551 & 1000551 & 0 & 11018 & 53 & 2809 & ChipOne & 32.6294 & 3 & 174.0 & $\\dots$ \\\\\n",
       "\t26 & 1000568 & 1000568 & 0 & 11014 & 64 & 4096 & ChipOne & 26.2469 & 3 & 140.5 & $\\dots$ \\\\\n",
       "\t27 & 1000573 & 1000573 & 0 & 11010 & 54 & 2916 & ChipOne & 26.4453 & 3 & 139.5 & $\\dots$ \\\\\n",
       "\t28 & 1000584 & 1000584 & 1 & 11007 & 59 & 3481 & ChipOne & 25.3388 & 2 & 135.5 & $\\dots$ \\\\\n",
       "\t29 & 1000595 & 1000595 & 0 & 11004 & 64 & 4096 & ChipOne & 30.449 & 3 & 152.5 & $\\dots$ \\\\\n",
       "\t30 & 1000609 & 1000609 & 1 & 11021 & 52 & 2704 & ChipOne & 33.4969 & 2 & 129.5 & $\\dots$ \\\\\n",
       "\t$\\dots$ & $\\dots$ & $\\dots$ & $\\dots$ & $\\dots$ & $\\dots$ & $\\dots$ & $\\dots$ & $\\dots$ & $\\dots$ & $\\dots$ &  \\\\\n",
       "\\end{tabular}\n"
      ],
      "text/plain": [
       "185565×21 DataFrame. Omitted printing of 14 columns\n",
       "│ Row    │ FID     │ IID     │ sex   │ center │ age   │ age2  │ chip    │\n",
       "│        │ \u001b[90mInt64\u001b[39m   │ \u001b[90mInt64\u001b[39m   │ \u001b[90mInt64\u001b[39m │ \u001b[90mInt64\u001b[39m  │ \u001b[90mInt64\u001b[39m │ \u001b[90mInt64\u001b[39m │ \u001b[90mString\u001b[39m  │\n",
       "├────────┼─────────┼─────────┼───────┼────────┼───────┼───────┼─────────┤\n",
       "│ 1      │ 1000019 │ 1000019 │ 1     │ 11016  │ 62    │ 3844  │ ChipOne │\n",
       "│ 2      │ 1000078 │ 1000078 │ 1     │ 11009  │ 51    │ 2601  │ ChipOne │\n",
       "│ 3      │ 1000081 │ 1000081 │ 1     │ 11014  │ 47    │ 2209  │ ChipOne │\n",
       "│ 4      │ 1000105 │ 1000105 │ 0     │ 11010  │ 42    │ 1764  │ ChipOne │\n",
       "│ 5      │ 1000112 │ 1000112 │ 1     │ 11021  │ 55    │ 3025  │ ChipOne │\n",
       "│ 6      │ 1000129 │ 1000129 │ 1     │ 11009  │ 63    │ 3969  │ ChipOne │\n",
       "│ 7      │ 1000141 │ 1000141 │ 0     │ 11008  │ 51    │ 2601  │ ChipOne │\n",
       "│ 8      │ 1000164 │ 1000164 │ 0     │ 11011  │ 45    │ 2025  │ ChipOne │\n",
       "│ 9      │ 1000224 │ 1000224 │ 1     │ 11010  │ 52    │ 2704  │ ChipOne │\n",
       "│ 10     │ 1000236 │ 1000236 │ 1     │ 11011  │ 46    │ 2116  │ ChipOne │\n",
       "⋮\n",
       "│ 185555 │ 6026303 │ 6026303 │ 1     │ 11007  │ 63    │ 3969  │ ChipOne │\n",
       "│ 185556 │ 6026310 │ 6026310 │ 0     │ 11014  │ 53    │ 2809  │ ChipOne │\n",
       "│ 185557 │ 6026336 │ 6026336 │ 0     │ 11008  │ 63    │ 3969  │ ChipOne │\n",
       "│ 185558 │ 6026348 │ 6026348 │ 1     │ 11005  │ 55    │ 3025  │ ChipOne │\n",
       "│ 185559 │ 6026355 │ 6026355 │ 1     │ 11009  │ 49    │ 2401  │ ChipOne │\n",
       "│ 185560 │ 6026369 │ 6026369 │ 0     │ 11020  │ 67    │ 4489  │ ChipOne │\n",
       "│ 185561 │ 6026461 │ 6026461 │ 0     │ 11014  │ 49    │ 2401  │ ChipOne │\n",
       "│ 185562 │ 6026475 │ 6026475 │ 0     │ 11011  │ 44    │ 1936  │ ChipOne │\n",
       "│ 185563 │ 6026509 │ 6026509 │ 0     │ 11022  │ 56    │ 3136  │ ChipOne │\n",
       "│ 185564 │ 6026511 │ 6026511 │ 0     │ 11001  │ 44    │ 1936  │ ChipOne │\n",
       "│ 185565 │ 6026525 │ 6026525 │ 1     │ 11009  │ 56    │ 3136  │ ChipOne │"
      ]
     },
     "execution_count": 114,
     "metadata": {},
     "output_type": "execute_result"
    }
   ],
   "source": [
    "published_covariate_data = CSV.read(\"/mnt/UKBiobank/ukbdata/ordinalanalysis/Covariate_Final.csv\")\n",
    "covariates = published_covariate_data"
   ]
  },
  {
   "cell_type": "code",
   "execution_count": 115,
   "metadata": {},
   "outputs": [
    {
     "data": {
      "text/html": [
       "<table class=\"data-frame\"><thead><tr><th></th><th>PC1</th><th>PC2</th><th>PC3</th><th>PC4</th><th>PC5</th><th>PC6</th></tr><tr><th></th><th>Float64</th><th>Float64</th><th>Float64</th><th>Float64</th><th>Float64</th><th>Float64</th></tr></thead><tbody><p>185,565 rows × 10 columns (omitted printing of 4 columns)</p><tr><th>1</th><td>0.0131855</td><td>-0.00507092</td><td>3.83532e-5</td><td>0.00318524</td><td>-0.00124501</td><td>-0.00610784</td></tr><tr><th>2</th><td>-0.0103569</td><td>-0.00120657</td><td>-0.00180968</td><td>-0.00439243</td><td>0.000870917</td><td>0.00139868</td></tr><tr><th>3</th><td>0.00190981</td><td>0.000241873</td><td>0.00570492</td><td>0.00268532</td><td>-0.00481082</td><td>0.00248758</td></tr><tr><th>4</th><td>0.00338857</td><td>-0.00488271</td><td>0.00842367</td><td>-0.00717622</td><td>0.0165991</td><td>0.00943267</td></tr><tr><th>5</th><td>0.00532039</td><td>0.00761606</td><td>-0.00517797</td><td>0.00159228</td><td>-0.00697205</td><td>-0.000354593</td></tr><tr><th>6</th><td>-0.000972037</td><td>-0.00743359</td><td>-0.00502376</td><td>0.00480728</td><td>0.0109095</td><td>-0.00385346</td></tr><tr><th>7</th><td>-0.0129816</td><td>-0.00462359</td><td>0.010976</td><td>0.0125487</td><td>-0.00887052</td><td>0.00243781</td></tr><tr><th>8</th><td>-0.000916772</td><td>-0.00210423</td><td>-0.00842536</td><td>-0.0151277</td><td>-0.00909347</td><td>-0.00166054</td></tr><tr><th>9</th><td>0.0163709</td><td>-0.0148821</td><td>-0.00619662</td><td>0.000587472</td><td>0.00554896</td><td>-0.00301778</td></tr><tr><th>10</th><td>0.0164032</td><td>-0.00471488</td><td>0.00896406</td><td>0.00221101</td><td>0.00414722</td><td>-0.00437688</td></tr><tr><th>11</th><td>-0.014565</td><td>0.017261</td><td>-0.00067948</td><td>0.00934108</td><td>0.00960175</td><td>0.00157786</td></tr><tr><th>12</th><td>-0.0330834</td><td>0.00143402</td><td>0.0101925</td><td>0.00746099</td><td>-0.0114083</td><td>-0.00681457</td></tr><tr><th>13</th><td>-0.0190106</td><td>0.00249133</td><td>-0.0135743</td><td>0.00234994</td><td>0.0118833</td><td>0.00577773</td></tr><tr><th>14</th><td>0.0197819</td><td>0.00143143</td><td>-0.00547059</td><td>-0.00598361</td><td>-0.00108435</td><td>0.00764077</td></tr><tr><th>15</th><td>0.000138973</td><td>-0.00389711</td><td>0.0250948</td><td>-0.0121506</td><td>0.00175534</td><td>-0.00670998</td></tr><tr><th>16</th><td>0.0174276</td><td>-0.00568499</td><td>0.000289691</td><td>0.00749828</td><td>-0.00738477</td><td>0.00102542</td></tr><tr><th>17</th><td>8.52485e-5</td><td>-0.00114955</td><td>0.00592464</td><td>0.00408501</td><td>0.00151182</td><td>0.00546857</td></tr><tr><th>18</th><td>0.00308929</td><td>0.00131682</td><td>-0.00306076</td><td>0.00647873</td><td>0.00253382</td><td>-0.0149442</td></tr><tr><th>19</th><td>0.0151887</td><td>0.00480533</td><td>-0.0109099</td><td>-0.00436217</td><td>-0.00588132</td><td>-0.00383617</td></tr><tr><th>20</th><td>-0.0157297</td><td>-0.00830845</td><td>-0.00460629</td><td>-0.0125818</td><td>0.00598532</td><td>0.0056815</td></tr><tr><th>21</th><td>-0.00973876</td><td>0.000949496</td><td>0.00919007</td><td>0.00129407</td><td>-0.00165777</td><td>-0.00691619</td></tr><tr><th>22</th><td>0.00758358</td><td>-0.00607987</td><td>-0.018723</td><td>-0.00949384</td><td>0.00509877</td><td>0.00505089</td></tr><tr><th>23</th><td>-0.00685314</td><td>0.00195768</td><td>0.00229353</td><td>-0.0121816</td><td>-0.00546798</td><td>0.00962004</td></tr><tr><th>24</th><td>0.00914534</td><td>-0.0024076</td><td>0.0108464</td><td>0.00341382</td><td>0.0156466</td><td>-0.00461181</td></tr><tr><th>25</th><td>0.00216424</td><td>0.000493491</td><td>0.00487307</td><td>0.00702129</td><td>0.00313393</td><td>-0.00945282</td></tr><tr><th>26</th><td>0.017055</td><td>0.00441166</td><td>-0.00109354</td><td>-0.00317218</td><td>0.0064317</td><td>0.000817872</td></tr><tr><th>27</th><td>0.0150906</td><td>-0.00850946</td><td>-0.0052686</td><td>-0.0021324</td><td>0.0187299</td><td>-0.00105895</td></tr><tr><th>28</th><td>0.00595555</td><td>0.00272919</td><td>-0.0107261</td><td>-0.01066</td><td>0.00331182</td><td>0.011532</td></tr><tr><th>29</th><td>-0.0351694</td><td>-0.00519745</td><td>0.0037981</td><td>-0.00174274</td><td>-0.012075</td><td>0.00122347</td></tr><tr><th>30</th><td>-0.0127448</td><td>-0.00252938</td><td>0.00256797</td><td>0.000804548</td><td>0.00322838</td><td>-0.00870074</td></tr><tr><th>&vellip;</th><td>&vellip;</td><td>&vellip;</td><td>&vellip;</td><td>&vellip;</td><td>&vellip;</td><td>&vellip;</td></tr></tbody></table>"
      ],
      "text/latex": [
       "\\begin{tabular}{r|ccccccc}\n",
       "\t& PC1 & PC2 & PC3 & PC4 & PC5 & PC6 & \\\\\n",
       "\t\\hline\n",
       "\t& Float64 & Float64 & Float64 & Float64 & Float64 & Float64 & \\\\\n",
       "\t\\hline\n",
       "\t1 & 0.0131855 & -0.00507092 & 3.83532e-5 & 0.00318524 & -0.00124501 & -0.00610784 & $\\dots$ \\\\\n",
       "\t2 & -0.0103569 & -0.00120657 & -0.00180968 & -0.00439243 & 0.000870917 & 0.00139868 & $\\dots$ \\\\\n",
       "\t3 & 0.00190981 & 0.000241873 & 0.00570492 & 0.00268532 & -0.00481082 & 0.00248758 & $\\dots$ \\\\\n",
       "\t4 & 0.00338857 & -0.00488271 & 0.00842367 & -0.00717622 & 0.0165991 & 0.00943267 & $\\dots$ \\\\\n",
       "\t5 & 0.00532039 & 0.00761606 & -0.00517797 & 0.00159228 & -0.00697205 & -0.000354593 & $\\dots$ \\\\\n",
       "\t6 & -0.000972037 & -0.00743359 & -0.00502376 & 0.00480728 & 0.0109095 & -0.00385346 & $\\dots$ \\\\\n",
       "\t7 & -0.0129816 & -0.00462359 & 0.010976 & 0.0125487 & -0.00887052 & 0.00243781 & $\\dots$ \\\\\n",
       "\t8 & -0.000916772 & -0.00210423 & -0.00842536 & -0.0151277 & -0.00909347 & -0.00166054 & $\\dots$ \\\\\n",
       "\t9 & 0.0163709 & -0.0148821 & -0.00619662 & 0.000587472 & 0.00554896 & -0.00301778 & $\\dots$ \\\\\n",
       "\t10 & 0.0164032 & -0.00471488 & 0.00896406 & 0.00221101 & 0.00414722 & -0.00437688 & $\\dots$ \\\\\n",
       "\t11 & -0.014565 & 0.017261 & -0.00067948 & 0.00934108 & 0.00960175 & 0.00157786 & $\\dots$ \\\\\n",
       "\t12 & -0.0330834 & 0.00143402 & 0.0101925 & 0.00746099 & -0.0114083 & -0.00681457 & $\\dots$ \\\\\n",
       "\t13 & -0.0190106 & 0.00249133 & -0.0135743 & 0.00234994 & 0.0118833 & 0.00577773 & $\\dots$ \\\\\n",
       "\t14 & 0.0197819 & 0.00143143 & -0.00547059 & -0.00598361 & -0.00108435 & 0.00764077 & $\\dots$ \\\\\n",
       "\t15 & 0.000138973 & -0.00389711 & 0.0250948 & -0.0121506 & 0.00175534 & -0.00670998 & $\\dots$ \\\\\n",
       "\t16 & 0.0174276 & -0.00568499 & 0.000289691 & 0.00749828 & -0.00738477 & 0.00102542 & $\\dots$ \\\\\n",
       "\t17 & 8.52485e-5 & -0.00114955 & 0.00592464 & 0.00408501 & 0.00151182 & 0.00546857 & $\\dots$ \\\\\n",
       "\t18 & 0.00308929 & 0.00131682 & -0.00306076 & 0.00647873 & 0.00253382 & -0.0149442 & $\\dots$ \\\\\n",
       "\t19 & 0.0151887 & 0.00480533 & -0.0109099 & -0.00436217 & -0.00588132 & -0.00383617 & $\\dots$ \\\\\n",
       "\t20 & -0.0157297 & -0.00830845 & -0.00460629 & -0.0125818 & 0.00598532 & 0.0056815 & $\\dots$ \\\\\n",
       "\t21 & -0.00973876 & 0.000949496 & 0.00919007 & 0.00129407 & -0.00165777 & -0.00691619 & $\\dots$ \\\\\n",
       "\t22 & 0.00758358 & -0.00607987 & -0.018723 & -0.00949384 & 0.00509877 & 0.00505089 & $\\dots$ \\\\\n",
       "\t23 & -0.00685314 & 0.00195768 & 0.00229353 & -0.0121816 & -0.00546798 & 0.00962004 & $\\dots$ \\\\\n",
       "\t24 & 0.00914534 & -0.0024076 & 0.0108464 & 0.00341382 & 0.0156466 & -0.00461181 & $\\dots$ \\\\\n",
       "\t25 & 0.00216424 & 0.000493491 & 0.00487307 & 0.00702129 & 0.00313393 & -0.00945282 & $\\dots$ \\\\\n",
       "\t26 & 0.017055 & 0.00441166 & -0.00109354 & -0.00317218 & 0.0064317 & 0.000817872 & $\\dots$ \\\\\n",
       "\t27 & 0.0150906 & -0.00850946 & -0.0052686 & -0.0021324 & 0.0187299 & -0.00105895 & $\\dots$ \\\\\n",
       "\t28 & 0.00595555 & 0.00272919 & -0.0107261 & -0.01066 & 0.00331182 & 0.011532 & $\\dots$ \\\\\n",
       "\t29 & -0.0351694 & -0.00519745 & 0.0037981 & -0.00174274 & -0.012075 & 0.00122347 & $\\dots$ \\\\\n",
       "\t30 & -0.0127448 & -0.00252938 & 0.00256797 & 0.000804548 & 0.00322838 & -0.00870074 & $\\dots$ \\\\\n",
       "\t$\\dots$ & $\\dots$ & $\\dots$ & $\\dots$ & $\\dots$ & $\\dots$ & $\\dots$ &  \\\\\n",
       "\\end{tabular}\n"
      ],
      "text/plain": [
       "185565×10 DataFrame. Omitted printing of 6 columns\n",
       "│ Row    │ PC1          │ PC2         │ PC3          │ PC4          │\n",
       "│        │ \u001b[90mFloat64\u001b[39m      │ \u001b[90mFloat64\u001b[39m     │ \u001b[90mFloat64\u001b[39m      │ \u001b[90mFloat64\u001b[39m      │\n",
       "├────────┼──────────────┼─────────────┼──────────────┼──────────────┤\n",
       "│ 1      │ 0.0131855    │ -0.00507092 │ 3.83532e-5   │ 0.00318524   │\n",
       "│ 2      │ -0.0103569   │ -0.00120657 │ -0.00180968  │ -0.00439243  │\n",
       "│ 3      │ 0.00190981   │ 0.000241873 │ 0.00570492   │ 0.00268532   │\n",
       "│ 4      │ 0.00338857   │ -0.00488271 │ 0.00842367   │ -0.00717622  │\n",
       "│ 5      │ 0.00532039   │ 0.00761606  │ -0.00517797  │ 0.00159228   │\n",
       "│ 6      │ -0.000972037 │ -0.00743359 │ -0.00502376  │ 0.00480728   │\n",
       "│ 7      │ -0.0129816   │ -0.00462359 │ 0.010976     │ 0.0125487    │\n",
       "│ 8      │ -0.000916772 │ -0.00210423 │ -0.00842536  │ -0.0151277   │\n",
       "│ 9      │ 0.0163709    │ -0.0148821  │ -0.00619662  │ 0.000587472  │\n",
       "│ 10     │ 0.0164032    │ -0.00471488 │ 0.00896406   │ 0.00221101   │\n",
       "⋮\n",
       "│ 185555 │ -0.0259229   │ 0.0169186   │ 0.00218887   │ 0.000691631  │\n",
       "│ 185556 │ 0.0063744    │ -0.0101154  │ 0.00838958   │ 0.00180273   │\n",
       "│ 185557 │ -0.0181422   │ -0.0127666  │ 0.00231742   │ 0.00129316   │\n",
       "│ 185558 │ 0.00456453   │ -0.00221176 │ -0.00732237  │ 0.00173215   │\n",
       "│ 185559 │ -0.0161002   │ -0.00417511 │ -0.00226017  │ 0.00946683   │\n",
       "│ 185560 │ -0.00939138  │ 0.0254283   │ -0.0101709   │ 0.00841322   │\n",
       "│ 185561 │ 0.00771027   │ -0.00169411 │ -0.000701551 │ -0.000337513 │\n",
       "│ 185562 │ 0.00308086   │ -0.00349382 │ 0.00910574   │ 0.00264186   │\n",
       "│ 185563 │ -0.00383889  │ 0.0170264   │ -0.00343274  │ 0.0137585    │\n",
       "│ 185564 │ 0.00888928   │ -0.00838093 │ 0.000357415  │ 0.0103195    │\n",
       "│ 185565 │ -0.00818605  │ -0.00240253 │ -0.00244265  │ 0.00564384   │"
      ]
     },
     "execution_count": 115,
     "metadata": {},
     "output_type": "execute_result"
    }
   ],
   "source": [
    "pcs = covariates[:, 12:21]"
   ]
  },
  {
   "cell_type": "code",
   "execution_count": 117,
   "metadata": {},
   "outputs": [
    {
     "data": {
      "text/html": [
       "<table class=\"data-frame\"><thead><tr><th></th><th>PC1</th><th>PC2</th><th>PC3</th><th>PC4</th><th>PC5</th><th>PC6</th></tr><tr><th></th><th>Float64</th><th>Float64</th><th>Float64</th><th>Float64</th><th>Float64</th><th>Float64</th></tr></thead><tbody><p>185,565 rows × 17 columns (omitted printing of 11 columns)</p><tr><th>1</th><td>0.0131855</td><td>-0.00507092</td><td>3.83532e-5</td><td>0.00318524</td><td>-0.00124501</td><td>-0.00610784</td></tr><tr><th>2</th><td>-0.0103569</td><td>-0.00120657</td><td>-0.00180968</td><td>-0.00439243</td><td>0.000870917</td><td>0.00139868</td></tr><tr><th>3</th><td>0.00190981</td><td>0.000241873</td><td>0.00570492</td><td>0.00268532</td><td>-0.00481082</td><td>0.00248758</td></tr><tr><th>4</th><td>0.00338857</td><td>-0.00488271</td><td>0.00842367</td><td>-0.00717622</td><td>0.0165991</td><td>0.00943267</td></tr><tr><th>5</th><td>0.00532039</td><td>0.00761606</td><td>-0.00517797</td><td>0.00159228</td><td>-0.00697205</td><td>-0.000354593</td></tr><tr><th>6</th><td>-0.000972037</td><td>-0.00743359</td><td>-0.00502376</td><td>0.00480728</td><td>0.0109095</td><td>-0.00385346</td></tr><tr><th>7</th><td>-0.0129816</td><td>-0.00462359</td><td>0.010976</td><td>0.0125487</td><td>-0.00887052</td><td>0.00243781</td></tr><tr><th>8</th><td>-0.000916772</td><td>-0.00210423</td><td>-0.00842536</td><td>-0.0151277</td><td>-0.00909347</td><td>-0.00166054</td></tr><tr><th>9</th><td>0.0163709</td><td>-0.0148821</td><td>-0.00619662</td><td>0.000587472</td><td>0.00554896</td><td>-0.00301778</td></tr><tr><th>10</th><td>0.0164032</td><td>-0.00471488</td><td>0.00896406</td><td>0.00221101</td><td>0.00414722</td><td>-0.00437688</td></tr><tr><th>11</th><td>-0.014565</td><td>0.017261</td><td>-0.00067948</td><td>0.00934108</td><td>0.00960175</td><td>0.00157786</td></tr><tr><th>12</th><td>-0.0330834</td><td>0.00143402</td><td>0.0101925</td><td>0.00746099</td><td>-0.0114083</td><td>-0.00681457</td></tr><tr><th>13</th><td>-0.0190106</td><td>0.00249133</td><td>-0.0135743</td><td>0.00234994</td><td>0.0118833</td><td>0.00577773</td></tr><tr><th>14</th><td>0.0197819</td><td>0.00143143</td><td>-0.00547059</td><td>-0.00598361</td><td>-0.00108435</td><td>0.00764077</td></tr><tr><th>15</th><td>0.000138973</td><td>-0.00389711</td><td>0.0250948</td><td>-0.0121506</td><td>0.00175534</td><td>-0.00670998</td></tr><tr><th>16</th><td>0.0174276</td><td>-0.00568499</td><td>0.000289691</td><td>0.00749828</td><td>-0.00738477</td><td>0.00102542</td></tr><tr><th>17</th><td>8.52485e-5</td><td>-0.00114955</td><td>0.00592464</td><td>0.00408501</td><td>0.00151182</td><td>0.00546857</td></tr><tr><th>18</th><td>0.00308929</td><td>0.00131682</td><td>-0.00306076</td><td>0.00647873</td><td>0.00253382</td><td>-0.0149442</td></tr><tr><th>19</th><td>0.0151887</td><td>0.00480533</td><td>-0.0109099</td><td>-0.00436217</td><td>-0.00588132</td><td>-0.00383617</td></tr><tr><th>20</th><td>-0.0157297</td><td>-0.00830845</td><td>-0.00460629</td><td>-0.0125818</td><td>0.00598532</td><td>0.0056815</td></tr><tr><th>21</th><td>-0.00973876</td><td>0.000949496</td><td>0.00919007</td><td>0.00129407</td><td>-0.00165777</td><td>-0.00691619</td></tr><tr><th>22</th><td>0.00758358</td><td>-0.00607987</td><td>-0.018723</td><td>-0.00949384</td><td>0.00509877</td><td>0.00505089</td></tr><tr><th>23</th><td>-0.00685314</td><td>0.00195768</td><td>0.00229353</td><td>-0.0121816</td><td>-0.00546798</td><td>0.00962004</td></tr><tr><th>24</th><td>0.00914534</td><td>-0.0024076</td><td>0.0108464</td><td>0.00341382</td><td>0.0156466</td><td>-0.00461181</td></tr><tr><th>25</th><td>0.00216424</td><td>0.000493491</td><td>0.00487307</td><td>0.00702129</td><td>0.00313393</td><td>-0.00945282</td></tr><tr><th>26</th><td>0.017055</td><td>0.00441166</td><td>-0.00109354</td><td>-0.00317218</td><td>0.0064317</td><td>0.000817872</td></tr><tr><th>27</th><td>0.0150906</td><td>-0.00850946</td><td>-0.0052686</td><td>-0.0021324</td><td>0.0187299</td><td>-0.00105895</td></tr><tr><th>28</th><td>0.00595555</td><td>0.00272919</td><td>-0.0107261</td><td>-0.01066</td><td>0.00331182</td><td>0.011532</td></tr><tr><th>29</th><td>-0.0351694</td><td>-0.00519745</td><td>0.0037981</td><td>-0.00174274</td><td>-0.012075</td><td>0.00122347</td></tr><tr><th>30</th><td>-0.0127448</td><td>-0.00252938</td><td>0.00256797</td><td>0.000804548</td><td>0.00322838</td><td>-0.00870074</td></tr><tr><th>&vellip;</th><td>&vellip;</td><td>&vellip;</td><td>&vellip;</td><td>&vellip;</td><td>&vellip;</td><td>&vellip;</td></tr></tbody></table>"
      ],
      "text/latex": [
       "\\begin{tabular}{r|ccccccc}\n",
       "\t& PC1 & PC2 & PC3 & PC4 & PC5 & PC6 & \\\\\n",
       "\t\\hline\n",
       "\t& Float64 & Float64 & Float64 & Float64 & Float64 & Float64 & \\\\\n",
       "\t\\hline\n",
       "\t1 & 0.0131855 & -0.00507092 & 3.83532e-5 & 0.00318524 & -0.00124501 & -0.00610784 & $\\dots$ \\\\\n",
       "\t2 & -0.0103569 & -0.00120657 & -0.00180968 & -0.00439243 & 0.000870917 & 0.00139868 & $\\dots$ \\\\\n",
       "\t3 & 0.00190981 & 0.000241873 & 0.00570492 & 0.00268532 & -0.00481082 & 0.00248758 & $\\dots$ \\\\\n",
       "\t4 & 0.00338857 & -0.00488271 & 0.00842367 & -0.00717622 & 0.0165991 & 0.00943267 & $\\dots$ \\\\\n",
       "\t5 & 0.00532039 & 0.00761606 & -0.00517797 & 0.00159228 & -0.00697205 & -0.000354593 & $\\dots$ \\\\\n",
       "\t6 & -0.000972037 & -0.00743359 & -0.00502376 & 0.00480728 & 0.0109095 & -0.00385346 & $\\dots$ \\\\\n",
       "\t7 & -0.0129816 & -0.00462359 & 0.010976 & 0.0125487 & -0.00887052 & 0.00243781 & $\\dots$ \\\\\n",
       "\t8 & -0.000916772 & -0.00210423 & -0.00842536 & -0.0151277 & -0.00909347 & -0.00166054 & $\\dots$ \\\\\n",
       "\t9 & 0.0163709 & -0.0148821 & -0.00619662 & 0.000587472 & 0.00554896 & -0.00301778 & $\\dots$ \\\\\n",
       "\t10 & 0.0164032 & -0.00471488 & 0.00896406 & 0.00221101 & 0.00414722 & -0.00437688 & $\\dots$ \\\\\n",
       "\t11 & -0.014565 & 0.017261 & -0.00067948 & 0.00934108 & 0.00960175 & 0.00157786 & $\\dots$ \\\\\n",
       "\t12 & -0.0330834 & 0.00143402 & 0.0101925 & 0.00746099 & -0.0114083 & -0.00681457 & $\\dots$ \\\\\n",
       "\t13 & -0.0190106 & 0.00249133 & -0.0135743 & 0.00234994 & 0.0118833 & 0.00577773 & $\\dots$ \\\\\n",
       "\t14 & 0.0197819 & 0.00143143 & -0.00547059 & -0.00598361 & -0.00108435 & 0.00764077 & $\\dots$ \\\\\n",
       "\t15 & 0.000138973 & -0.00389711 & 0.0250948 & -0.0121506 & 0.00175534 & -0.00670998 & $\\dots$ \\\\\n",
       "\t16 & 0.0174276 & -0.00568499 & 0.000289691 & 0.00749828 & -0.00738477 & 0.00102542 & $\\dots$ \\\\\n",
       "\t17 & 8.52485e-5 & -0.00114955 & 0.00592464 & 0.00408501 & 0.00151182 & 0.00546857 & $\\dots$ \\\\\n",
       "\t18 & 0.00308929 & 0.00131682 & -0.00306076 & 0.00647873 & 0.00253382 & -0.0149442 & $\\dots$ \\\\\n",
       "\t19 & 0.0151887 & 0.00480533 & -0.0109099 & -0.00436217 & -0.00588132 & -0.00383617 & $\\dots$ \\\\\n",
       "\t20 & -0.0157297 & -0.00830845 & -0.00460629 & -0.0125818 & 0.00598532 & 0.0056815 & $\\dots$ \\\\\n",
       "\t21 & -0.00973876 & 0.000949496 & 0.00919007 & 0.00129407 & -0.00165777 & -0.00691619 & $\\dots$ \\\\\n",
       "\t22 & 0.00758358 & -0.00607987 & -0.018723 & -0.00949384 & 0.00509877 & 0.00505089 & $\\dots$ \\\\\n",
       "\t23 & -0.00685314 & 0.00195768 & 0.00229353 & -0.0121816 & -0.00546798 & 0.00962004 & $\\dots$ \\\\\n",
       "\t24 & 0.00914534 & -0.0024076 & 0.0108464 & 0.00341382 & 0.0156466 & -0.00461181 & $\\dots$ \\\\\n",
       "\t25 & 0.00216424 & 0.000493491 & 0.00487307 & 0.00702129 & 0.00313393 & -0.00945282 & $\\dots$ \\\\\n",
       "\t26 & 0.017055 & 0.00441166 & -0.00109354 & -0.00317218 & 0.0064317 & 0.000817872 & $\\dots$ \\\\\n",
       "\t27 & 0.0150906 & -0.00850946 & -0.0052686 & -0.0021324 & 0.0187299 & -0.00105895 & $\\dots$ \\\\\n",
       "\t28 & 0.00595555 & 0.00272919 & -0.0107261 & -0.01066 & 0.00331182 & 0.011532 & $\\dots$ \\\\\n",
       "\t29 & -0.0351694 & -0.00519745 & 0.0037981 & -0.00174274 & -0.012075 & 0.00122347 & $\\dots$ \\\\\n",
       "\t30 & -0.0127448 & -0.00252938 & 0.00256797 & 0.000804548 & 0.00322838 & -0.00870074 & $\\dots$ \\\\\n",
       "\t$\\dots$ & $\\dots$ & $\\dots$ & $\\dots$ & $\\dots$ & $\\dots$ & $\\dots$ &  \\\\\n",
       "\\end{tabular}\n"
      ],
      "text/plain": [
       "185565×17 DataFrame. Omitted printing of 13 columns\n",
       "│ Row    │ PC1          │ PC2         │ PC3          │ PC4          │\n",
       "│        │ \u001b[90mFloat64\u001b[39m      │ \u001b[90mFloat64\u001b[39m     │ \u001b[90mFloat64\u001b[39m      │ \u001b[90mFloat64\u001b[39m      │\n",
       "├────────┼──────────────┼─────────────┼──────────────┼──────────────┤\n",
       "│ 1      │ 0.0131855    │ -0.00507092 │ 3.83532e-5   │ 0.00318524   │\n",
       "│ 2      │ -0.0103569   │ -0.00120657 │ -0.00180968  │ -0.00439243  │\n",
       "│ 3      │ 0.00190981   │ 0.000241873 │ 0.00570492   │ 0.00268532   │\n",
       "│ 4      │ 0.00338857   │ -0.00488271 │ 0.00842367   │ -0.00717622  │\n",
       "│ 5      │ 0.00532039   │ 0.00761606  │ -0.00517797  │ 0.00159228   │\n",
       "│ 6      │ -0.000972037 │ -0.00743359 │ -0.00502376  │ 0.00480728   │\n",
       "│ 7      │ -0.0129816   │ -0.00462359 │ 0.010976     │ 0.0125487    │\n",
       "│ 8      │ -0.000916772 │ -0.00210423 │ -0.00842536  │ -0.0151277   │\n",
       "│ 9      │ 0.0163709    │ -0.0148821  │ -0.00619662  │ 0.000587472  │\n",
       "│ 10     │ 0.0164032    │ -0.00471488 │ 0.00896406   │ 0.00221101   │\n",
       "⋮\n",
       "│ 185555 │ -0.0259229   │ 0.0169186   │ 0.00218887   │ 0.000691631  │\n",
       "│ 185556 │ 0.0063744    │ -0.0101154  │ 0.00838958   │ 0.00180273   │\n",
       "│ 185557 │ -0.0181422   │ -0.0127666  │ 0.00231742   │ 0.00129316   │\n",
       "│ 185558 │ 0.00456453   │ -0.00221176 │ -0.00732237  │ 0.00173215   │\n",
       "│ 185559 │ -0.0161002   │ -0.00417511 │ -0.00226017  │ 0.00946683   │\n",
       "│ 185560 │ -0.00939138  │ 0.0254283   │ -0.0101709   │ 0.00841322   │\n",
       "│ 185561 │ 0.00771027   │ -0.00169411 │ -0.000701551 │ -0.000337513 │\n",
       "│ 185562 │ 0.00308086   │ -0.00349382 │ 0.00910574   │ 0.00264186   │\n",
       "│ 185563 │ -0.00383889  │ 0.0170264   │ -0.00343274  │ 0.0137585    │\n",
       "│ 185564 │ 0.00888928   │ -0.00838093 │ 0.000357415  │ 0.0103195    │\n",
       "│ 185565 │ -0.00818605  │ -0.00240253 │ -0.00244265  │ 0.00564384   │"
      ]
     },
     "execution_count": 117,
     "metadata": {},
     "output_type": "execute_result"
    }
   ],
   "source": [
    "age = Float64.(covariates[!, :age])\n",
    "sex = Float64.(covariates[!, :sex])\n",
    "center = Int64.(covariates[!, :center])\n",
    "bmi = Float64.(covariates[!, :bmi])\n",
    "\n",
    "y = Float64.(covariates[!, :hyptens])\n",
    "X = DataFrame(y = y, sex = sex, center = center, age = age, age2 = age.^2, bmi = bmi, locus = locus)\n",
    "X_full = Float64.(hcat(pcs, X))"
   ]
  },
  {
   "cell_type": "markdown",
   "metadata": {},
   "source": [
    "## Phenotype Simulation:\n",
    "\n",
    "Now that we have our simulated design matrix with the desired SNP of interest, we can simulate our phenotypes on the simulated data under different TraitSimulation models. To illustrate, we demonstrate on the `OrderedMultinomialTrait` model object in TraitSimulation.jl.\n",
    "\n",
    "\n",
    "### Ordered Multinomial Trait\n",
    "\n",
    "Recall that this phenotype is special, in that the [OrdinalMultinomialModels](https://openmendel.github.io/OrdinalMultinomialModels.jl/stable/#Syntax-1) package provides Julia utilities to fit ordered multinomial models, including [proportional odds model](https://en.wikipedia.org/wiki/Ordered_logit) and [ordered Probit model](https://en.wikipedia.org/wiki/Ordered_probit) as special cases. "
   ]
  },
  {
   "cell_type": "code",
   "execution_count": 125,
   "metadata": {},
   "outputs": [
    {
     "data": {
      "text/plain": [
       "17-element Array{Float64,1}:\n",
       "  0.168\n",
       "  0.15 \n",
       " -0.06 \n",
       "  0.16 \n",
       " -1.386\n",
       " -0.118\n",
       " -0.231\n",
       " -0.555\n",
       " -0.727\n",
       "  0.858\n",
       "  0.992\n",
       "  0.004\n",
       " -0.001\n",
       " -0.002\n",
       "  0.001\n",
       "  0.003\n",
       "  0.807"
      ]
     },
     "execution_count": 125,
     "metadata": {},
     "output_type": "execute_result"
    }
   ],
   "source": [
    "link = LogitLink()\n",
    "θ = [1.0, 1.2, 1.4]\n",
    "β_non_gen = \n",
    "[ 0.168\n",
    "  0.150 \n",
    " -0.060 \n",
    "  0.160\n",
    " -1.386\n",
    " -0.118\n",
    " -0.231\n",
    " -0.555\n",
    " -0.727\n",
    "  0.858\n",
    "  0.992\n",
    "  0.004\n",
    " -0.001  \n",
    " -0.002\n",
    "  0.001  \n",
    "  0.003]\n",
    "\n",
    "β_full = vcat(β_non_gen, chisq_coeff)"
   ]
  },
  {
   "cell_type": "code",
   "execution_count": 126,
   "metadata": {},
   "outputs": [
    {
     "data": {
      "text/plain": [
       "Ordinal Multinomial Model\n",
       "  * number of fixed effects: 17\n",
       "  * number of ordinal multinomial outcome categories: 4\n",
       "  * link function: LogitLink\n",
       "  * sample size: 185565"
      ]
     },
     "execution_count": 126,
     "metadata": {},
     "output_type": "execute_result"
    }
   ],
   "source": [
    "Ordinal_Model_Test = OrderedMultinomialTrait(Matrix(X_full), β_full, θ, link)"
   ]
  },
  {
   "cell_type": "markdown",
   "metadata": {},
   "source": [
    "### Simulate Ordered Multinomial Logistic\n",
    "\n",
    "Specific to the Ordered Multinomial Logistic model is the option to transform the multinomial outcome (i.e 1, 2, 3, 4) into a binary outcome for logistic regression. \n",
    "\n",
    "Although by default is the multinomial simulation above, the user can simulate from the transformed logistic outcome for example by specifying arguments: `Logistic = true` and `threshold = 2` the value to use as a cutoff for identifying cases and controls. **(i.e if y > 2 => y_logit == 1).** We note if you specify `Logistic = true` and do not provide a threshold value, the function will throw an error to remind you to specify one."
   ]
  },
  {
   "cell_type": "markdown",
   "metadata": {},
   "source": [
    "## `Power Calculation:`\n",
    "\n",
    "We use the following function to generate the p-values for the simulated power example for the ordered multinomial regression model. We range effect sizes in the vector γs, which collects effect sizes from 0 to 1 in increments of 0.05. As expected, the power increases as the effect size increases. \n",
    "    "
   ]
  },
  {
   "cell_type": "code",
   "execution_count": 128,
   "metadata": {},
   "outputs": [
    {
     "data": {
      "text/plain": [
       "21-element Array{Float64,1}:\n",
       " 0.0  \n",
       " 0.025\n",
       " 0.05 \n",
       " 0.075\n",
       " 0.1  \n",
       " 0.125\n",
       " 0.15 \n",
       " 0.175\n",
       " 0.2  \n",
       " 0.225\n",
       " 0.25 \n",
       " 0.275\n",
       " 0.3  \n",
       " 0.325\n",
       " 0.35 \n",
       " 0.375\n",
       " 0.4  \n",
       " 0.425\n",
       " 0.45 \n",
       " 0.475\n",
       " 0.5  "
      ]
     },
     "execution_count": 128,
     "metadata": {},
     "output_type": "execute_result"
    }
   ],
   "source": [
    "γs = collect(0.0:0.025:0.5)"
   ]
  },
  {
   "cell_type": "markdown",
   "metadata": {},
   "source": [
    "Each column of this matrix represents each of the detected effect sizes, and each row of this matrix represents each simulation for that effect size. The user feeds into the function the number of simulations, the vector of effect sizes, the TraitSimulation.jl model object, and the random seed.\n",
    "\n",
    "For GLMTrait objects, the `realistic_power_simulation` function makes the appropriate calls to the GLM.jl package to get the simulation p-values obtained from testing the significance of the causal locus using the Wald Test by default. However since the GLM.jl package has its limitations, we include additional power utilities that make the appropriate function calls to the [OrdinalMultinomialModels](https://openmendel.github.io/OrdinalMultinomialModels.jl/stable/#Syntax-1) to get the p-value obtained from testing the significance of the causal locus.\n"
   ]
  },
  {
   "cell_type": "markdown",
   "metadata": {},
   "source": [
    "For each effect size in $\\gamma_s,$ in each column we have the p-values obtained from testing the significance of the causal locus `nsim = 100` times under the ordinal multinomial model, `Ordinal_Model` and the `randomseed = 1234`."
   ]
  },
  {
   "cell_type": "code",
   "execution_count": null,
   "metadata": {},
   "outputs": [],
   "source": [
    "nsim = 1000\n",
    "randomseed = 1234\n",
    "simulated_pvalues = ordinal_power_simulation(nsim, γs, Ordinal_Model_Test, randomseed);\n",
    "rename!(DataFrame(simulated_pvalues), [Symbol(\"γs = $(γs[i])\") for i in 1:length(γs)])"
   ]
  },
  {
   "cell_type": "markdown",
   "metadata": {},
   "source": [
    "Now we find the power of each effect size in the user-specified γs vector at the specified alpha level of significance, and plot the trajectory using the Plots.jl package."
   ]
  },
  {
   "cell_type": "code",
   "execution_count": null,
   "metadata": {
    "scrolled": true
   },
   "outputs": [],
   "source": [
    "α = 0.000005\n",
    "power_effectsize = power(simulated_pvalues, α)"
   ]
  },
  {
   "cell_type": "code",
   "execution_count": null,
   "metadata": {},
   "outputs": [],
   "source": [
    "plot(γs, power_effectsize, title = \"Multinomial Power\", label = \"maf = $maf_cs, alpha = $α\", lw = 3 , legend = :bottomright, legendfontsize= 9)  # plot power\n",
    "xlabel!(\"Detectable Effect Size\")\n",
    "hline!([.8], label = \"power = 80%\", lw = 3)\n",
    "vline!([.29], label = \"minimum detectable effect size = 0.29\")\n",
    "#savefig(\"/home/sarahji/TraitSimulation.jl/docs/ordinalmultinomialpower.pdf\")"
   ]
  },
  {
   "cell_type": "markdown",
   "metadata": {},
   "source": [
    "## Citations: \n",
    "\n",
    "[1] Lange K, Papp JC, Sinsheimer JS, Sripracha R, Zhou H, Sobel EM (2013) Mendel: The Swiss army knife of genetic analysis programs. Bioinformatics 29:1568-1570.`\n",
    "\n",
    "\n",
    "[2] OPENMENDEL: a cooperative programming project for statistical genetics.\n",
    "[Hum Genet. 2019 Mar 26. doi: 10.1007/s00439-019-02001-z](https://www.ncbi.nlm.nih.gov/pubmed/?term=OPENMENDEL).\n",
    "\n",
    "[3] German, CA, Sinsheimer, JS, Klimentidis, YC, Zhou, H, Zhou, JJ. Ordered multinomial regression for genetic association analysis of ordinal phenotypes at Biobank scale. Genetic Epidemiology. 2019; 1– 13. https://doi.org/10.1002/gepi.22276\n"
   ]
  }
 ],
 "metadata": {
  "@webio": {
   "lastCommId": null,
   "lastKernelId": null
  },
  "kernelspec": {
   "display_name": "Julia 1.3.0",
   "language": "julia",
   "name": "julia-1.3"
  },
  "language_info": {
   "file_extension": ".jl",
   "mimetype": "application/julia",
   "name": "julia",
   "version": "1.3.0"
  },
  "toc": {
   "base_numbering": 1,
   "nav_menu": {},
   "number_sections": true,
   "sideBar": true,
   "skip_h1_title": false,
   "title_cell": "Table of Contents",
   "title_sidebar": "Contents",
   "toc_cell": false,
   "toc_position": {},
   "toc_section_display": true,
   "toc_window_display": false
  }
 },
 "nbformat": 4,
 "nbformat_minor": 2
}
