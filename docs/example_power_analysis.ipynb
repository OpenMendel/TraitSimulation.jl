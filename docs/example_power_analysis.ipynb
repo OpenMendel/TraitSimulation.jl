{
 "cells": [
  {
   "attachments": {},
   "cell_type": "markdown",
   "metadata": {},
   "source": [
    "# TraitSimulation: Example Power Analysis\n",
    "\n",
    "Authors: Sarah Ji, Chris German, Kenneth Lange, Janet Sinsheimer, Hua Zhou, Jin Zhou, Eric Sobel"
   ]
  },
  {
   "cell_type": "markdown",
   "metadata": {},
   "source": [
    "In this notebook, we show a example downstream application of TraitSimulation as part of a larger software pipeline for a single simulation model. The details of all the model specifications can find the documentation [here](https://openmendel.github.io/TraitSimulation.jl/dev/). Operating within the OpenMendel universe brings potential advantages over the available software(s) when needed for downstream analysis or study design. \n",
    "\n",
    "We illustrate the example on simulated data under the Ordered Multinomial Model and present this example in three digestable steps: \n",
    "   1. Simulating genotypes and covariate values representative of study population.\n",
    "   2. Create the OrderedMultinomialTrait model object and use it for simulation\n",
    "   3. For each simulated trait, we perform a likelihood ratio test of the above hypothesis test and reject the null when the p-value falls below prespecified significance level. In our example, we define the power for the model is estimated as the proportion of 1000 tests rejecting the null at significance level α= 5×10−8."
   ]
  },
  {
   "cell_type": "markdown",
   "metadata": {},
   "source": [
    "Double check that you are using Julia version 1.0 or higher by checking the machine information"
   ]
  },
  {
   "cell_type": "code",
   "execution_count": 1,
   "metadata": {},
   "outputs": [
    {
     "name": "stdout",
     "output_type": "stream",
     "text": [
      "Julia Version 1.5.2\n",
      "Commit 539f3ce943 (2020-09-23 23:17 UTC)\n",
      "Platform Info:\n",
      "  OS: macOS (x86_64-apple-darwin18.7.0)\n",
      "  CPU: Intel(R) Core(TM) i9-9880H CPU @ 2.30GHz\n",
      "  WORD_SIZE: 64\n",
      "  LIBM: libopenlibm\n",
      "  LLVM: libLLVM-9.0.1 (ORCJIT, skylake)\n"
     ]
    }
   ],
   "source": [
    "versioninfo()"
   ]
  },
  {
   "cell_type": "code",
   "execution_count": 2,
   "metadata": {},
   "outputs": [],
   "source": [
    "using Random, Plots, DataFrames, LinearAlgebra, DelimitedFiles\n",
    "using SnpArrays, TraitSimulation, GLM, StatsBase, OrdinalMultinomialModels\n",
    "Random.seed!(1234);"
   ]
  },
  {
   "cell_type": "markdown",
   "metadata": {},
   "source": [
    "### `Create Simulated Design Matrix:`\n",
    "\n",
    "#### Genetic Covariates:\n",
    "\n",
    "Say for example, we have a study population of `n = 5000` people, where 51% are females, the mean age is 45 years with a standard deviation of 8 years and we are interested in studying the effect of the causal snp with a predetermined minor allele frequency. To demonstrate usage, we use the minor allele frequency of the causal variant to simulate the SnpArray under Hardy Weinberg Equillibrium (HWE) with the `snparray_simulation` function as follows:\n",
    "    \n",
    "    \n",
    "| Genotype | Plink/SnpArray |  \n",
    "|:---:|:---:|  \n",
    "| A1,A1 | 0x00 |  \n",
    "| missing | 0x01 |\n",
    "| A1,A2 | 0x02 |  \n",
    "| A2,A2 | 0x03 |  \n",
    "    \n",
    "\n",
    "Given the specified minor allele frequency, `maf`, here `maf = [0.2]`, this function samples from the genotype vector under HWE and returns the compressed binary format under SnpArrays. Note if you give the function a vector of minor allele frequencies, specify `maf = [0.2, 0.25, 0.3]`, for each specified allele it will simulate a SnpArray under HWE and ouput them together."
   ]
  },
  {
   "cell_type": "code",
   "execution_count": 3,
   "metadata": {},
   "outputs": [
    {
     "data": {
      "text/plain": [
       "5000×1 SnpArray:\n",
       " 0x00\n",
       " 0x02\n",
       " 0x00\n",
       " 0x00\n",
       " 0x02\n",
       " 0x02\n",
       " 0x00\n",
       " 0x00\n",
       " 0x00\n",
       " 0x00\n",
       " 0x02\n",
       " 0x00\n",
       " 0x00\n",
       "    ⋮\n",
       " 0x00\n",
       " 0x02\n",
       " 0x00\n",
       " 0x02\n",
       " 0x00\n",
       " 0x00\n",
       " 0x03\n",
       " 0x02\n",
       " 0x00\n",
       " 0x00\n",
       " 0x02\n",
       " 0x00"
      ]
     },
     "execution_count": 3,
     "metadata": {},
     "output_type": "execute_result"
    }
   ],
   "source": [
    "n = 5000\n",
    "maf_causal_snp = [0.2]\n",
    "Simulated_SnpArray = snparray_simulation(maf_causal_snp, n)"
   ]
  },
  {
   "cell_type": "markdown",
   "metadata": {},
   "source": [
    "### convert\n",
    "By default `convert` function translates genotypes according to the *additive* SNP model, which essentially counts the number of **A2** allele (0, 1 or 2) per genotype. Other SNP models are *dominant* and *recessive*, both in terms of the **A2** allele.\n",
    "\n",
    "| Genotype | `SnpArray` | `model=ADDITIVE_MODEL` | `model=DOMINANT_MODEL` | `model=RECESSIVE_MODEL` |    \n",
    "|:---:|:---:|:---:|:---:|:---:|  \n",
    "| A1,A1 | 0x00 | 0 | 0 | 0 |  \n",
    "| missing | 0x01 | NaN | NaN | NaN |\n",
    "| A1,A2 | 0x02 | 1 | 1 | 0 |  \n",
    "| A2,A2 | 0x03 | 2 | 1 | 1 |  \n",
    "\n",
    "If desired, the user can decide to specify alternative model parameters found in the [SnpArrays](https://openmendel.github.io/SnpArrays.jl/latest/#convert-and-copyto!-1) documentation.\n",
    "\n",
    "#### Non-Genetic Covariates:\n",
    "For demo purposes we will standardize the age variable. Using the distributions package we can simulate the values for the non-genetic covariates and attach the causal locus as the last column in the design matrix. \n",
    "\n",
    "Now we concatenate the simulated causal locus, transformed to Float64, to the other covariates we want to control for in the study design."
   ]
  },
  {
   "cell_type": "code",
   "execution_count": 4,
   "metadata": {},
   "outputs": [
    {
     "data": {
      "text/html": [
       "<table class=\"data-frame\"><thead><tr><th></th><th>age</th><th>sex</th><th>locus</th></tr><tr><th></th><th>Float64</th><th>Float64</th><th>Float64</th></tr></thead><tbody><p>5,000 rows × 3 columns</p><tr><th>1</th><td>-0.25109</td><td>0.0</td><td>0.0</td></tr><tr><th>2</th><td>-1.45357</td><td>0.0</td><td>1.0</td></tr><tr><th>3</th><td>0.033503</td><td>0.0</td><td>0.0</td></tr><tr><th>4</th><td>-0.258144</td><td>0.0</td><td>0.0</td></tr><tr><th>5</th><td>1.34924</td><td>0.0</td><td>1.0</td></tr><tr><th>6</th><td>-0.904251</td><td>1.0</td><td>1.0</td></tr><tr><th>7</th><td>0.721633</td><td>1.0</td><td>0.0</td></tr><tr><th>8</th><td>0.857207</td><td>0.0</td><td>0.0</td></tr><tr><th>9</th><td>1.09343</td><td>1.0</td><td>0.0</td></tr><tr><th>10</th><td>1.91133</td><td>0.0</td><td>0.0</td></tr><tr><th>11</th><td>1.86753</td><td>0.0</td><td>1.0</td></tr><tr><th>12</th><td>-0.650747</td><td>1.0</td><td>0.0</td></tr><tr><th>13</th><td>1.09837</td><td>1.0</td><td>0.0</td></tr><tr><th>14</th><td>0.250531</td><td>0.0</td><td>1.0</td></tr><tr><th>15</th><td>2.50255</td><td>0.0</td><td>1.0</td></tr><tr><th>16</th><td>0.475223</td><td>1.0</td><td>0.0</td></tr><tr><th>17</th><td>-1.02485</td><td>1.0</td><td>0.0</td></tr><tr><th>18</th><td>-1.8366</td><td>0.0</td><td>1.0</td></tr><tr><th>19</th><td>-0.682392</td><td>0.0</td><td>0.0</td></tr><tr><th>20</th><td>-1.46374</td><td>1.0</td><td>1.0</td></tr><tr><th>21</th><td>0.0213483</td><td>0.0</td><td>1.0</td></tr><tr><th>22</th><td>1.27384</td><td>0.0</td><td>2.0</td></tr><tr><th>23</th><td>-0.861394</td><td>0.0</td><td>1.0</td></tr><tr><th>24</th><td>-0.0641715</td><td>0.0</td><td>1.0</td></tr><tr><th>25</th><td>-0.69999</td><td>1.0</td><td>1.0</td></tr><tr><th>26</th><td>-0.00272351</td><td>0.0</td><td>0.0</td></tr><tr><th>27</th><td>-1.16627</td><td>1.0</td><td>0.0</td></tr><tr><th>28</th><td>0.967222</td><td>1.0</td><td>0.0</td></tr><tr><th>29</th><td>-1.08884</td><td>1.0</td><td>0.0</td></tr><tr><th>30</th><td>-0.0830445</td><td>1.0</td><td>0.0</td></tr><tr><th>&vellip;</th><td>&vellip;</td><td>&vellip;</td><td>&vellip;</td></tr></tbody></table>"
      ],
      "text/latex": [
       "\\begin{tabular}{r|ccc}\n",
       "\t& age & sex & locus\\\\\n",
       "\t\\hline\n",
       "\t& Float64 & Float64 & Float64\\\\\n",
       "\t\\hline\n",
       "\t1 & -0.25109 & 0.0 & 0.0 \\\\\n",
       "\t2 & -1.45357 & 0.0 & 1.0 \\\\\n",
       "\t3 & 0.033503 & 0.0 & 0.0 \\\\\n",
       "\t4 & -0.258144 & 0.0 & 0.0 \\\\\n",
       "\t5 & 1.34924 & 0.0 & 1.0 \\\\\n",
       "\t6 & -0.904251 & 1.0 & 1.0 \\\\\n",
       "\t7 & 0.721633 & 1.0 & 0.0 \\\\\n",
       "\t8 & 0.857207 & 0.0 & 0.0 \\\\\n",
       "\t9 & 1.09343 & 1.0 & 0.0 \\\\\n",
       "\t10 & 1.91133 & 0.0 & 0.0 \\\\\n",
       "\t11 & 1.86753 & 0.0 & 1.0 \\\\\n",
       "\t12 & -0.650747 & 1.0 & 0.0 \\\\\n",
       "\t13 & 1.09837 & 1.0 & 0.0 \\\\\n",
       "\t14 & 0.250531 & 0.0 & 1.0 \\\\\n",
       "\t15 & 2.50255 & 0.0 & 1.0 \\\\\n",
       "\t16 & 0.475223 & 1.0 & 0.0 \\\\\n",
       "\t17 & -1.02485 & 1.0 & 0.0 \\\\\n",
       "\t18 & -1.8366 & 0.0 & 1.0 \\\\\n",
       "\t19 & -0.682392 & 0.0 & 0.0 \\\\\n",
       "\t20 & -1.46374 & 1.0 & 1.0 \\\\\n",
       "\t21 & 0.0213483 & 0.0 & 1.0 \\\\\n",
       "\t22 & 1.27384 & 0.0 & 2.0 \\\\\n",
       "\t23 & -0.861394 & 0.0 & 1.0 \\\\\n",
       "\t24 & -0.0641715 & 0.0 & 1.0 \\\\\n",
       "\t25 & -0.69999 & 1.0 & 1.0 \\\\\n",
       "\t26 & -0.00272351 & 0.0 & 0.0 \\\\\n",
       "\t27 & -1.16627 & 1.0 & 0.0 \\\\\n",
       "\t28 & 0.967222 & 1.0 & 0.0 \\\\\n",
       "\t29 & -1.08884 & 1.0 & 0.0 \\\\\n",
       "\t30 & -0.0830445 & 1.0 & 0.0 \\\\\n",
       "\t$\\dots$ & $\\dots$ & $\\dots$ & $\\dots$ \\\\\n",
       "\\end{tabular}\n"
      ],
      "text/plain": [
       "5000×3 DataFrame\n",
       "│ Row  │ age        │ sex     │ locus   │\n",
       "│      │ \u001b[90mFloat64\u001b[39m    │ \u001b[90mFloat64\u001b[39m │ \u001b[90mFloat64\u001b[39m │\n",
       "├──────┼────────────┼─────────┼─────────┤\n",
       "│ 1    │ -0.25109   │ 0.0     │ 0.0     │\n",
       "│ 2    │ -1.45357   │ 0.0     │ 1.0     │\n",
       "│ 3    │ 0.033503   │ 0.0     │ 0.0     │\n",
       "│ 4    │ -0.258144  │ 0.0     │ 0.0     │\n",
       "│ 5    │ 1.34924    │ 0.0     │ 1.0     │\n",
       "│ 6    │ -0.904251  │ 1.0     │ 1.0     │\n",
       "│ 7    │ 0.721633   │ 1.0     │ 0.0     │\n",
       "│ 8    │ 0.857207   │ 0.0     │ 0.0     │\n",
       "│ 9    │ 1.09343    │ 1.0     │ 0.0     │\n",
       "│ 10   │ 1.91133    │ 0.0     │ 0.0     │\n",
       "⋮\n",
       "│ 4990 │ 1.37751    │ 0.0     │ 1.0     │\n",
       "│ 4991 │ -1.22956   │ 0.0     │ 0.0     │\n",
       "│ 4992 │ -1.91807   │ 0.0     │ 1.0     │\n",
       "│ 4993 │ -0.0629958 │ 1.0     │ 0.0     │\n",
       "│ 4994 │ -0.638554  │ 1.0     │ 0.0     │\n",
       "│ 4995 │ 0.633242   │ 0.0     │ 2.0     │\n",
       "│ 4996 │ 0.873943   │ 0.0     │ 1.0     │\n",
       "│ 4997 │ 0.185351   │ 0.0     │ 0.0     │\n",
       "│ 4998 │ 0.41832    │ 0.0     │ 0.0     │\n",
       "│ 4999 │ -1.79306   │ 0.0     │ 1.0     │\n",
       "│ 5000 │ -0.410382  │ 1.0     │ 0.0     │"
      ]
     },
     "execution_count": 4,
     "metadata": {},
     "output_type": "execute_result"
    }
   ],
   "source": [
    "pdf_sex = Bernoulli(0.51)\n",
    "pdf_age = Normal(45, 8)\n",
    "\n",
    "sex = rand(pdf_sex, n)\n",
    "# simulate age under the specified pdf_age and standardize to be ~ N(0, 1)\n",
    "age = zscore(rand(pdf_age, n))\n",
    "locus = convert(Vector{Float64}, @view(Simulated_SnpArray[:, 1]))\n",
    "\n",
    "X_new = [age sex locus]\n",
    "DataFrame(X_new, [:age, :sex, :locus])"
   ]
  },
  {
   "cell_type": "code",
   "execution_count": 5,
   "metadata": {},
   "outputs": [
    {
     "data": {
      "text/plain": [
       "Ordinal Multinomial Model\n",
       "  * number of fixed effects: 3\n",
       "  * number of ordinal multinomial outcome categories: 4\n",
       "  * link function: LogitLink\n",
       "  * sample size: 5000"
      ]
     },
     "execution_count": 5,
     "metadata": {},
     "output_type": "execute_result"
    }
   ],
   "source": [
    "θ = [1.0, 1.2, 1.4]\n",
    "β_new = [1.0, 2.0, 10.0]\n",
    "Ordinal_Model = OrderedMultinomialTrait(X_new, β_new, θ, LogitLink())"
   ]
  },
  {
   "cell_type": "markdown",
   "metadata": {},
   "source": [
    "## `Power Calculation:`\n",
    "\n",
    "We use the following function to generate the p-values for the simulated power example for the ordered multinomial regression model. We range effect sizes in the vector γs, which collects effect sizes from 0 to 1 in increments of 0.05. As expected, the power increases as the effect size increases. \n",
    "    "
   ]
  },
  {
   "cell_type": "code",
   "execution_count": 6,
   "metadata": {},
   "outputs": [
    {
     "data": {
      "text/plain": [
       "11-element Array{Float64,1}:\n",
       " 0.0\n",
       " 0.05\n",
       " 0.1\n",
       " 0.15\n",
       " 0.2\n",
       " 0.25\n",
       " 0.3\n",
       " 0.35\n",
       " 0.4\n",
       " 0.45\n",
       " 0.5"
      ]
     },
     "execution_count": 6,
     "metadata": {},
     "output_type": "execute_result"
    }
   ],
   "source": [
    "γs = collect(0.0:0.05:0.5)"
   ]
  },
  {
   "cell_type": "markdown",
   "metadata": {},
   "source": [
    "For each effect size in $\\gamma_s,$ in each column we have the p-values obtained from testing the significance of the causal locus `nsim = 100` times under the ordinal multinomial model, `Ordinal_Model` and the `randomseed = 1234`. \n",
    "\n",
    "Each column of this matrix represents each of the detected effect sizes, and each row of this matrix represents each simulation for that effect size. The user feeds into the function the number of simulations, the vector of effect sizes, the TraitSimulation.jl model object, and the random seed."
   ]
  },
  {
   "cell_type": "code",
   "execution_count": 7,
   "metadata": {},
   "outputs": [
    {
     "data": {
      "text/html": [
       "<table class=\"data-frame\"><thead><tr><th></th><th>γs = 0.0</th><th>γs = 0.05</th><th>γs = 0.1</th><th>γs = 0.15</th><th>γs = 0.2</th><th>γs = 0.25</th><th>γs = 0.3</th></tr><tr><th></th><th>Float64</th><th>Float64</th><th>Float64</th><th>Float64</th><th>Float64</th><th>Float64</th><th>Float64</th></tr></thead><tbody><p>100 rows × 11 columns (omitted printing of 4 columns)</p><tr><th>1</th><td>0.0</td><td>0.855951</td><td>0.0187605</td><td>0.267769</td><td>0.000544026</td><td>0.000178373</td><td>1.17209e-7</td></tr><tr><th>2</th><td>0.80426</td><td>0.375294</td><td>0.0254699</td><td>2.14406e-6</td><td>0.00694345</td><td>0.000401022</td><td>1.47274e-6</td></tr><tr><th>3</th><td>0.887353</td><td>0.466531</td><td>0.191279</td><td>0.000266644</td><td>0.000645622</td><td>0.00018249</td><td>5.30302e-9</td></tr><tr><th>4</th><td>0.870309</td><td>0.288366</td><td>0.481541</td><td>0.00240987</td><td>0.000497305</td><td>2.20692e-5</td><td>4.58894e-9</td></tr><tr><th>5</th><td>0.702148</td><td>0.442054</td><td>0.0227104</td><td>0.0901567</td><td>3.1852e-7</td><td>1.66813e-5</td><td>3.92366e-7</td></tr><tr><th>6</th><td>0.37725</td><td>0.897537</td><td>0.00448512</td><td>0.000546661</td><td>0.0290945</td><td>5.57953e-6</td><td>6.14809e-7</td></tr><tr><th>7</th><td>0.339944</td><td>0.143922</td><td>0.000355107</td><td>0.0111154</td><td>2.54036e-6</td><td>2.32e-5</td><td>2.22174e-7</td></tr><tr><th>8</th><td>0.556582</td><td>0.181974</td><td>0.0226719</td><td>0.00460977</td><td>0.00282481</td><td>1.219e-5</td><td>7.01034e-10</td></tr><tr><th>9</th><td>0.986037</td><td>0.139655</td><td>0.716812</td><td>0.00559746</td><td>0.00584378</td><td>2.15591e-7</td><td>9.11782e-7</td></tr><tr><th>10</th><td>0.166381</td><td>0.0854048</td><td>0.127264</td><td>0.0132207</td><td>0.000340927</td><td>2.68904e-6</td><td>3.23038e-11</td></tr><tr><th>11</th><td>0.806642</td><td>0.565903</td><td>0.270616</td><td>0.00641935</td><td>7.90514e-6</td><td>6.42613e-7</td><td>1.88663e-6</td></tr><tr><th>12</th><td>0.638779</td><td>0.129509</td><td>0.000292037</td><td>0.00582939</td><td>0.000944956</td><td>5.50175e-5</td><td>1.33674e-9</td></tr><tr><th>13</th><td>0.493384</td><td>0.408438</td><td>0.00301078</td><td>0.0859278</td><td>1.76405e-8</td><td>0.0005247</td><td>1.50192e-9</td></tr><tr><th>14</th><td>0.295968</td><td>0.675203</td><td>0.00143859</td><td>4.86031e-8</td><td>1.01515e-5</td><td>5.25884e-8</td><td>2.04627e-6</td></tr><tr><th>15</th><td>0.0454075</td><td>0.98926</td><td>0.0451383</td><td>0.0931286</td><td>4.23275e-5</td><td>2.60921e-10</td><td>1.29269e-6</td></tr><tr><th>16</th><td>0.401417</td><td>0.197399</td><td>0.0264678</td><td>0.0167096</td><td>9.54767e-8</td><td>1.08779e-8</td><td>8.85696e-5</td></tr><tr><th>17</th><td>0.41411</td><td>0.314208</td><td>0.630561</td><td>0.000301117</td><td>1.36496e-8</td><td>1.09822e-8</td><td>1.59021e-7</td></tr><tr><th>18</th><td>0.266798</td><td>0.107697</td><td>0.0114303</td><td>0.00630757</td><td>0.0151981</td><td>4.19773e-5</td><td>5.61924e-10</td></tr><tr><th>19</th><td>0.0470747</td><td>0.292882</td><td>0.0144221</td><td>0.0003478</td><td>0.000241995</td><td>0.0636233</td><td>8.79406e-8</td></tr><tr><th>20</th><td>0.0908066</td><td>0.10101</td><td>0.0951194</td><td>0.00123862</td><td>5.3563e-5</td><td>2.39801e-9</td><td>1.75286e-6</td></tr><tr><th>21</th><td>0.850394</td><td>0.221669</td><td>0.000443884</td><td>0.0095655</td><td>0.000575951</td><td>2.40705e-6</td><td>5.01153e-7</td></tr><tr><th>22</th><td>0.399257</td><td>0.267143</td><td>0.0660705</td><td>0.0228476</td><td>0.00118329</td><td>3.00836e-5</td><td>2.28242e-11</td></tr><tr><th>23</th><td>0.21267</td><td>0.548676</td><td>0.303735</td><td>0.0548981</td><td>0.00660021</td><td>0.00807713</td><td>2.06976e-12</td></tr><tr><th>24</th><td>0.171082</td><td>0.0552186</td><td>0.815603</td><td>0.00859589</td><td>0.00385244</td><td>2.03581e-7</td><td>1.91338e-14</td></tr><tr><th>25</th><td>0.957177</td><td>0.420649</td><td>0.000224935</td><td>0.0204624</td><td>0.000849553</td><td>1.55599e-9</td><td>2.08403e-10</td></tr><tr><th>26</th><td>0.278863</td><td>0.0895142</td><td>0.152491</td><td>0.09689</td><td>0.0137848</td><td>7.47593e-6</td><td>2.13725e-6</td></tr><tr><th>27</th><td>0.0617831</td><td>0.0365512</td><td>0.0414001</td><td>0.0057588</td><td>0.000235067</td><td>0.000126471</td><td>1.10849e-5</td></tr><tr><th>28</th><td>0.410809</td><td>0.977933</td><td>0.613377</td><td>0.0241646</td><td>0.00720477</td><td>1.93818e-6</td><td>1.62983e-7</td></tr><tr><th>29</th><td>0.0707895</td><td>0.587196</td><td>0.0097155</td><td>0.000893174</td><td>0.000877422</td><td>0.000114895</td><td>1.70685e-6</td></tr><tr><th>30</th><td>0.258816</td><td>0.119126</td><td>0.00308337</td><td>0.000211079</td><td>0.000317717</td><td>7.42518e-7</td><td>3.32083e-6</td></tr><tr><th>&vellip;</th><td>&vellip;</td><td>&vellip;</td><td>&vellip;</td><td>&vellip;</td><td>&vellip;</td><td>&vellip;</td><td>&vellip;</td></tr></tbody></table>"
      ],
      "text/latex": [
       "\\begin{tabular}{r|cccccccc}\n",
       "\t& γs = 0.0 & γs = 0.05 & γs = 0.1 & γs = 0.15 & γs = 0.2 & γs = 0.25 & γs = 0.3 & \\\\\n",
       "\t\\hline\n",
       "\t& Float64 & Float64 & Float64 & Float64 & Float64 & Float64 & Float64 & \\\\\n",
       "\t\\hline\n",
       "\t1 & 0.0 & 0.855951 & 0.0187605 & 0.267769 & 0.000544026 & 0.000178373 & 1.17209e-7 & $\\dots$ \\\\\n",
       "\t2 & 0.80426 & 0.375294 & 0.0254699 & 2.14406e-6 & 0.00694345 & 0.000401022 & 1.47274e-6 & $\\dots$ \\\\\n",
       "\t3 & 0.887353 & 0.466531 & 0.191279 & 0.000266644 & 0.000645622 & 0.00018249 & 5.30302e-9 & $\\dots$ \\\\\n",
       "\t4 & 0.870309 & 0.288366 & 0.481541 & 0.00240987 & 0.000497305 & 2.20692e-5 & 4.58894e-9 & $\\dots$ \\\\\n",
       "\t5 & 0.702148 & 0.442054 & 0.0227104 & 0.0901567 & 3.1852e-7 & 1.66813e-5 & 3.92366e-7 & $\\dots$ \\\\\n",
       "\t6 & 0.37725 & 0.897537 & 0.00448512 & 0.000546661 & 0.0290945 & 5.57953e-6 & 6.14809e-7 & $\\dots$ \\\\\n",
       "\t7 & 0.339944 & 0.143922 & 0.000355107 & 0.0111154 & 2.54036e-6 & 2.32e-5 & 2.22174e-7 & $\\dots$ \\\\\n",
       "\t8 & 0.556582 & 0.181974 & 0.0226719 & 0.00460977 & 0.00282481 & 1.219e-5 & 7.01034e-10 & $\\dots$ \\\\\n",
       "\t9 & 0.986037 & 0.139655 & 0.716812 & 0.00559746 & 0.00584378 & 2.15591e-7 & 9.11782e-7 & $\\dots$ \\\\\n",
       "\t10 & 0.166381 & 0.0854048 & 0.127264 & 0.0132207 & 0.000340927 & 2.68904e-6 & 3.23038e-11 & $\\dots$ \\\\\n",
       "\t11 & 0.806642 & 0.565903 & 0.270616 & 0.00641935 & 7.90514e-6 & 6.42613e-7 & 1.88663e-6 & $\\dots$ \\\\\n",
       "\t12 & 0.638779 & 0.129509 & 0.000292037 & 0.00582939 & 0.000944956 & 5.50175e-5 & 1.33674e-9 & $\\dots$ \\\\\n",
       "\t13 & 0.493384 & 0.408438 & 0.00301078 & 0.0859278 & 1.76405e-8 & 0.0005247 & 1.50192e-9 & $\\dots$ \\\\\n",
       "\t14 & 0.295968 & 0.675203 & 0.00143859 & 4.86031e-8 & 1.01515e-5 & 5.25884e-8 & 2.04627e-6 & $\\dots$ \\\\\n",
       "\t15 & 0.0454075 & 0.98926 & 0.0451383 & 0.0931286 & 4.23275e-5 & 2.60921e-10 & 1.29269e-6 & $\\dots$ \\\\\n",
       "\t16 & 0.401417 & 0.197399 & 0.0264678 & 0.0167096 & 9.54767e-8 & 1.08779e-8 & 8.85696e-5 & $\\dots$ \\\\\n",
       "\t17 & 0.41411 & 0.314208 & 0.630561 & 0.000301117 & 1.36496e-8 & 1.09822e-8 & 1.59021e-7 & $\\dots$ \\\\\n",
       "\t18 & 0.266798 & 0.107697 & 0.0114303 & 0.00630757 & 0.0151981 & 4.19773e-5 & 5.61924e-10 & $\\dots$ \\\\\n",
       "\t19 & 0.0470747 & 0.292882 & 0.0144221 & 0.0003478 & 0.000241995 & 0.0636233 & 8.79406e-8 & $\\dots$ \\\\\n",
       "\t20 & 0.0908066 & 0.10101 & 0.0951194 & 0.00123862 & 5.3563e-5 & 2.39801e-9 & 1.75286e-6 & $\\dots$ \\\\\n",
       "\t21 & 0.850394 & 0.221669 & 0.000443884 & 0.0095655 & 0.000575951 & 2.40705e-6 & 5.01153e-7 & $\\dots$ \\\\\n",
       "\t22 & 0.399257 & 0.267143 & 0.0660705 & 0.0228476 & 0.00118329 & 3.00836e-5 & 2.28242e-11 & $\\dots$ \\\\\n",
       "\t23 & 0.21267 & 0.548676 & 0.303735 & 0.0548981 & 0.00660021 & 0.00807713 & 2.06976e-12 & $\\dots$ \\\\\n",
       "\t24 & 0.171082 & 0.0552186 & 0.815603 & 0.00859589 & 0.00385244 & 2.03581e-7 & 1.91338e-14 & $\\dots$ \\\\\n",
       "\t25 & 0.957177 & 0.420649 & 0.000224935 & 0.0204624 & 0.000849553 & 1.55599e-9 & 2.08403e-10 & $\\dots$ \\\\\n",
       "\t26 & 0.278863 & 0.0895142 & 0.152491 & 0.09689 & 0.0137848 & 7.47593e-6 & 2.13725e-6 & $\\dots$ \\\\\n",
       "\t27 & 0.0617831 & 0.0365512 & 0.0414001 & 0.0057588 & 0.000235067 & 0.000126471 & 1.10849e-5 & $\\dots$ \\\\\n",
       "\t28 & 0.410809 & 0.977933 & 0.613377 & 0.0241646 & 0.00720477 & 1.93818e-6 & 1.62983e-7 & $\\dots$ \\\\\n",
       "\t29 & 0.0707895 & 0.587196 & 0.0097155 & 0.000893174 & 0.000877422 & 0.000114895 & 1.70685e-6 & $\\dots$ \\\\\n",
       "\t30 & 0.258816 & 0.119126 & 0.00308337 & 0.000211079 & 0.000317717 & 7.42518e-7 & 3.32083e-6 & $\\dots$ \\\\\n",
       "\t$\\dots$ & $\\dots$ & $\\dots$ & $\\dots$ & $\\dots$ & $\\dots$ & $\\dots$ & $\\dots$ &  \\\\\n",
       "\\end{tabular}\n"
      ],
      "text/plain": [
       "100×11 DataFrame. Omitted printing of 6 columns\n",
       "│ Row │ γs = 0.0  │ γs = 0.05  │ γs = 0.1    │ γs = 0.15   │ γs = 0.2    │\n",
       "│     │ \u001b[90mFloat64\u001b[39m   │ \u001b[90mFloat64\u001b[39m    │ \u001b[90mFloat64\u001b[39m     │ \u001b[90mFloat64\u001b[39m     │ \u001b[90mFloat64\u001b[39m     │\n",
       "├─────┼───────────┼────────────┼─────────────┼─────────────┼─────────────┤\n",
       "│ 1   │ 0.0       │ 0.855951   │ 0.0187605   │ 0.267769    │ 0.000544026 │\n",
       "│ 2   │ 0.80426   │ 0.375294   │ 0.0254699   │ 2.14406e-6  │ 0.00694345  │\n",
       "│ 3   │ 0.887353  │ 0.466531   │ 0.191279    │ 0.000266644 │ 0.000645622 │\n",
       "│ 4   │ 0.870309  │ 0.288366   │ 0.481541    │ 0.00240987  │ 0.000497305 │\n",
       "│ 5   │ 0.702148  │ 0.442054   │ 0.0227104   │ 0.0901567   │ 3.1852e-7   │\n",
       "│ 6   │ 0.37725   │ 0.897537   │ 0.00448512  │ 0.000546661 │ 0.0290945   │\n",
       "│ 7   │ 0.339944  │ 0.143922   │ 0.000355107 │ 0.0111154   │ 2.54036e-6  │\n",
       "│ 8   │ 0.556582  │ 0.181974   │ 0.0226719   │ 0.00460977  │ 0.00282481  │\n",
       "│ 9   │ 0.986037  │ 0.139655   │ 0.716812    │ 0.00559746  │ 0.00584378  │\n",
       "│ 10  │ 0.166381  │ 0.0854048  │ 0.127264    │ 0.0132207   │ 0.000340927 │\n",
       "⋮\n",
       "│ 90  │ 0.872492  │ 0.0913922  │ 0.111262    │ 0.0496577   │ 0.000399075 │\n",
       "│ 91  │ 0.0751196 │ 0.824718   │ 0.00986993  │ 7.01008e-5  │ 0.000822731 │\n",
       "│ 92  │ 0.0511631 │ 0.0958969  │ 0.0217876   │ 0.0257414   │ 0.00179784  │\n",
       "│ 93  │ 0.325841  │ 0.735407   │ 0.0125782   │ 0.000835569 │ 2.4234e-7   │\n",
       "│ 94  │ 0.0368789 │ 0.00384364 │ 0.0986941   │ 0.0240558   │ 0.013597    │\n",
       "│ 95  │ 0.826389  │ 0.564876   │ 0.00630337  │ 0.0131487   │ 3.94295e-5  │\n",
       "│ 96  │ 0.973518  │ 0.0884321  │ 0.0587808   │ 0.00740646  │ 0.00182443  │\n",
       "│ 97  │ 0.611996  │ 0.594305   │ 0.0895491   │ 0.00418233  │ 0.00123163  │\n",
       "│ 98  │ 0.400585  │ 0.256106   │ 0.237576    │ 0.182269    │ 0.0049176   │\n",
       "│ 99  │ 0.605901  │ 0.0435348  │ 0.120437    │ 0.00106702  │ 0.00126633  │\n",
       "│ 100 │ 0.389074  │ 0.679611   │ 0.060063    │ 0.00362952  │ 4.47884e-5  │"
      ]
     },
     "execution_count": 7,
     "metadata": {},
     "output_type": "execute_result"
    }
   ],
   "source": [
    "nsim = 100\n",
    "randomseed = 1234\n",
    "simulated_pvalues = power_simulation(nsim, γs, Ordinal_Model, randomseed)\n",
    "\n",
    "rename!(DataFrame(simulated_pvalues), [Symbol(\"γs = $(γs[i])\") for i in 1:length(γs)])"
   ]
  },
  {
   "cell_type": "markdown",
   "metadata": {},
   "source": [
    "Note that for GLMTrait objects, the `realistic_power_simulation` function makes the appropriate calls to the GLM.jl package to get the simulation p-values obtained from testing the significance of the causal locus using the Wald Test by default. However since the GLM.jl package has its limitations, we include additional power utilities that make the appropriate function calls to the [OrdinalMultinomialModels](https://openmendel.github.io/OrdinalMultinomialModels.jl/stable/#Syntax-1) to get the p-value obtained from testing the significance of the causal locus."
   ]
  },
  {
   "cell_type": "markdown",
   "metadata": {},
   "source": [
    "Now we find the power of each effect size in the user-specified γs vector at the specified alpha level of significance, and plot the trajectory using the Plots.jl package."
   ]
  },
  {
   "cell_type": "code",
   "execution_count": 8,
   "metadata": {
    "scrolled": true
   },
   "outputs": [
    {
     "data": {
      "text/plain": [
       "11-element Array{Float64,1}:\n",
       " 0.01\n",
       " 0.0\n",
       " 0.0\n",
       " 0.01\n",
       " 0.02\n",
       " 0.12\n",
       " 0.47\n",
       " 0.72\n",
       " 0.93\n",
       " 1.0\n",
       " 1.0"
      ]
     },
     "execution_count": 8,
     "metadata": {},
     "output_type": "execute_result"
    }
   ],
   "source": [
    "α = 5*10^-8\n",
    "power_effectsize = power(simulated_pvalues, α)"
   ]
  },
  {
   "cell_type": "code",
   "execution_count": 9,
   "metadata": {},
   "outputs": [
    {
     "data": {
      "image/svg+xml": [
       "<?xml version=\"1.0\" encoding=\"utf-8\"?>\n",
       "<svg xmlns=\"http://www.w3.org/2000/svg\" xmlns:xlink=\"http://www.w3.org/1999/xlink\" width=\"600\" height=\"400\" viewBox=\"0 0 2400 1600\">\n",
       "<defs>\n",
       "  <clipPath id=\"clip470\">\n",
       "    <rect x=\"0\" y=\"0\" width=\"2400\" height=\"1600\"/>\n",
       "  </clipPath>\n",
       "</defs>\n",
       "<path clip-path=\"url(#clip470)\" d=\"\n",
       "M0 1600 L2400 1600 L2400 0 L0 0  Z\n",
       "  \" fill=\"#ffffff\" fill-rule=\"evenodd\" fill-opacity=\"1\"/>\n",
       "<defs>\n",
       "  <clipPath id=\"clip471\">\n",
       "    <rect x=\"480\" y=\"0\" width=\"1681\" height=\"1600\"/>\n",
       "  </clipPath>\n",
       "</defs>\n",
       "<path clip-path=\"url(#clip470)\" d=\"\n",
       "M174.862 1423.18 L2352.76 1423.18 L2352.76 123.472 L174.862 123.472  Z\n",
       "  \" fill=\"#ffffff\" fill-rule=\"evenodd\" fill-opacity=\"1\"/>\n",
       "<defs>\n",
       "  <clipPath id=\"clip472\">\n",
       "    <rect x=\"174\" y=\"123\" width=\"2179\" height=\"1301\"/>\n",
       "  </clipPath>\n",
       "</defs>\n",
       "<polyline clip-path=\"url(#clip472)\" style=\"stroke:#000000; stroke-width:2; stroke-opacity:0.1; fill:none\" points=\"\n",
       "  236.501,1423.18 236.501,123.472 \n",
       "  \"/>\n",
       "<polyline clip-path=\"url(#clip472)\" style=\"stroke:#000000; stroke-width:2; stroke-opacity:0.1; fill:none\" points=\"\n",
       "  647.424,1423.18 647.424,123.472 \n",
       "  \"/>\n",
       "<polyline clip-path=\"url(#clip472)\" style=\"stroke:#000000; stroke-width:2; stroke-opacity:0.1; fill:none\" points=\"\n",
       "  1058.35,1423.18 1058.35,123.472 \n",
       "  \"/>\n",
       "<polyline clip-path=\"url(#clip472)\" style=\"stroke:#000000; stroke-width:2; stroke-opacity:0.1; fill:none\" points=\"\n",
       "  1469.27,1423.18 1469.27,123.472 \n",
       "  \"/>\n",
       "<polyline clip-path=\"url(#clip472)\" style=\"stroke:#000000; stroke-width:2; stroke-opacity:0.1; fill:none\" points=\"\n",
       "  1880.19,1423.18 1880.19,123.472 \n",
       "  \"/>\n",
       "<polyline clip-path=\"url(#clip472)\" style=\"stroke:#000000; stroke-width:2; stroke-opacity:0.1; fill:none\" points=\"\n",
       "  2291.12,1423.18 2291.12,123.472 \n",
       "  \"/>\n",
       "<polyline clip-path=\"url(#clip472)\" style=\"stroke:#000000; stroke-width:2; stroke-opacity:0.1; fill:none\" points=\"\n",
       "  174.862,1386.4 2352.76,1386.4 \n",
       "  \"/>\n",
       "<polyline clip-path=\"url(#clip472)\" style=\"stroke:#000000; stroke-width:2; stroke-opacity:0.1; fill:none\" points=\"\n",
       "  174.862,1079.86 2352.76,1079.86 \n",
       "  \"/>\n",
       "<polyline clip-path=\"url(#clip472)\" style=\"stroke:#000000; stroke-width:2; stroke-opacity:0.1; fill:none\" points=\"\n",
       "  174.862,773.326 2352.76,773.326 \n",
       "  \"/>\n",
       "<polyline clip-path=\"url(#clip472)\" style=\"stroke:#000000; stroke-width:2; stroke-opacity:0.1; fill:none\" points=\"\n",
       "  174.862,466.791 2352.76,466.791 \n",
       "  \"/>\n",
       "<polyline clip-path=\"url(#clip472)\" style=\"stroke:#000000; stroke-width:2; stroke-opacity:0.1; fill:none\" points=\"\n",
       "  174.862,160.256 2352.76,160.256 \n",
       "  \"/>\n",
       "<polyline clip-path=\"url(#clip470)\" style=\"stroke:#000000; stroke-width:4; stroke-opacity:1; fill:none\" points=\"\n",
       "  174.862,1423.18 2352.76,1423.18 \n",
       "  \"/>\n",
       "<polyline clip-path=\"url(#clip470)\" style=\"stroke:#000000; stroke-width:4; stroke-opacity:1; fill:none\" points=\"\n",
       "  174.862,1423.18 174.862,123.472 \n",
       "  \"/>\n",
       "<polyline clip-path=\"url(#clip470)\" style=\"stroke:#000000; stroke-width:4; stroke-opacity:1; fill:none\" points=\"\n",
       "  236.501,1423.18 236.501,1407.58 \n",
       "  \"/>\n",
       "<polyline clip-path=\"url(#clip470)\" style=\"stroke:#000000; stroke-width:4; stroke-opacity:1; fill:none\" points=\"\n",
       "  647.424,1423.18 647.424,1407.58 \n",
       "  \"/>\n",
       "<polyline clip-path=\"url(#clip470)\" style=\"stroke:#000000; stroke-width:4; stroke-opacity:1; fill:none\" points=\"\n",
       "  1058.35,1423.18 1058.35,1407.58 \n",
       "  \"/>\n",
       "<polyline clip-path=\"url(#clip470)\" style=\"stroke:#000000; stroke-width:4; stroke-opacity:1; fill:none\" points=\"\n",
       "  1469.27,1423.18 1469.27,1407.58 \n",
       "  \"/>\n",
       "<polyline clip-path=\"url(#clip470)\" style=\"stroke:#000000; stroke-width:4; stroke-opacity:1; fill:none\" points=\"\n",
       "  1880.19,1423.18 1880.19,1407.58 \n",
       "  \"/>\n",
       "<polyline clip-path=\"url(#clip470)\" style=\"stroke:#000000; stroke-width:4; stroke-opacity:1; fill:none\" points=\"\n",
       "  2291.12,1423.18 2291.12,1407.58 \n",
       "  \"/>\n",
       "<polyline clip-path=\"url(#clip470)\" style=\"stroke:#000000; stroke-width:4; stroke-opacity:1; fill:none\" points=\"\n",
       "  174.862,1386.4 200.997,1386.4 \n",
       "  \"/>\n",
       "<polyline clip-path=\"url(#clip470)\" style=\"stroke:#000000; stroke-width:4; stroke-opacity:1; fill:none\" points=\"\n",
       "  174.862,1079.86 200.997,1079.86 \n",
       "  \"/>\n",
       "<polyline clip-path=\"url(#clip470)\" style=\"stroke:#000000; stroke-width:4; stroke-opacity:1; fill:none\" points=\"\n",
       "  174.862,773.326 200.997,773.326 \n",
       "  \"/>\n",
       "<polyline clip-path=\"url(#clip470)\" style=\"stroke:#000000; stroke-width:4; stroke-opacity:1; fill:none\" points=\"\n",
       "  174.862,466.791 200.997,466.791 \n",
       "  \"/>\n",
       "<polyline clip-path=\"url(#clip470)\" style=\"stroke:#000000; stroke-width:4; stroke-opacity:1; fill:none\" points=\"\n",
       "  174.862,160.256 200.997,160.256 \n",
       "  \"/>\n",
       "<path clip-path=\"url(#clip470)\" d=\"M 0 0 M218.017 1445.17 Q214.406 1445.17 212.577 1448.74 Q210.772 1452.28 210.772 1459.41 Q210.772 1466.51 212.577 1470.08 Q214.406 1473.62 218.017 1473.62 Q221.651 1473.62 223.457 1470.08 Q225.285 1466.51 225.285 1459.41 Q225.285 1452.28 223.457 1448.74 Q221.651 1445.17 218.017 1445.17 M218.017 1441.47 Q223.827 1441.47 226.883 1446.07 Q229.961 1450.66 229.961 1459.41 Q229.961 1468.13 226.883 1472.74 Q223.827 1477.32 218.017 1477.32 Q212.207 1477.32 209.128 1472.74 Q206.072 1468.13 206.072 1459.41 Q206.072 1450.66 209.128 1446.07 Q212.207 1441.47 218.017 1441.47 Z\" fill=\"#000000\" fill-rule=\"evenodd\" fill-opacity=\"1\" /><path clip-path=\"url(#clip470)\" d=\"M 0 0 M235.031 1470.77 L239.915 1470.77 L239.915 1476.65 L235.031 1476.65 L235.031 1470.77 Z\" fill=\"#000000\" fill-rule=\"evenodd\" fill-opacity=\"1\" /><path clip-path=\"url(#clip470)\" d=\"M 0 0 M254.984 1445.17 Q251.373 1445.17 249.544 1448.74 Q247.739 1452.28 247.739 1459.41 Q247.739 1466.51 249.544 1470.08 Q251.373 1473.62 254.984 1473.62 Q258.618 1473.62 260.424 1470.08 Q262.253 1466.51 262.253 1459.41 Q262.253 1452.28 260.424 1448.74 Q258.618 1445.17 254.984 1445.17 M254.984 1441.47 Q260.794 1441.47 263.85 1446.07 Q266.929 1450.66 266.929 1459.41 Q266.929 1468.13 263.85 1472.74 Q260.794 1477.32 254.984 1477.32 Q249.174 1477.32 246.095 1472.74 Q243.04 1468.13 243.04 1459.41 Q243.04 1450.66 246.095 1446.07 Q249.174 1441.47 254.984 1441.47 Z\" fill=\"#000000\" fill-rule=\"evenodd\" fill-opacity=\"1\" /><path clip-path=\"url(#clip470)\" d=\"M 0 0 M629.554 1445.17 Q625.943 1445.17 624.114 1448.74 Q622.308 1452.28 622.308 1459.41 Q622.308 1466.51 624.114 1470.08 Q625.943 1473.62 629.554 1473.62 Q633.188 1473.62 634.993 1470.08 Q636.822 1466.51 636.822 1459.41 Q636.822 1452.28 634.993 1448.74 Q633.188 1445.17 629.554 1445.17 M629.554 1441.47 Q635.364 1441.47 638.419 1446.07 Q641.498 1450.66 641.498 1459.41 Q641.498 1468.13 638.419 1472.74 Q635.364 1477.32 629.554 1477.32 Q623.743 1477.32 620.665 1472.74 Q617.609 1468.13 617.609 1459.41 Q617.609 1450.66 620.665 1446.07 Q623.743 1441.47 629.554 1441.47 Z\" fill=\"#000000\" fill-rule=\"evenodd\" fill-opacity=\"1\" /><path clip-path=\"url(#clip470)\" d=\"M 0 0 M646.567 1470.77 L651.452 1470.77 L651.452 1476.65 L646.567 1476.65 L646.567 1470.77 Z\" fill=\"#000000\" fill-rule=\"evenodd\" fill-opacity=\"1\" /><path clip-path=\"url(#clip470)\" d=\"M 0 0 M657.331 1472.72 L664.97 1472.72 L664.97 1446.35 L656.66 1448.02 L656.66 1443.76 L664.924 1442.09 L669.6 1442.09 L669.6 1472.72 L677.239 1472.72 L677.239 1476.65 L657.331 1476.65 L657.331 1472.72 Z\" fill=\"#000000\" fill-rule=\"evenodd\" fill-opacity=\"1\" /><path clip-path=\"url(#clip470)\" d=\"M 0 0 M1040.66 1445.17 Q1037.05 1445.17 1035.22 1448.74 Q1033.42 1452.28 1033.42 1459.41 Q1033.42 1466.51 1035.22 1470.08 Q1037.05 1473.62 1040.66 1473.62 Q1044.3 1473.62 1046.1 1470.08 Q1047.93 1466.51 1047.93 1459.41 Q1047.93 1452.28 1046.1 1448.74 Q1044.3 1445.17 1040.66 1445.17 M1040.66 1441.47 Q1046.47 1441.47 1049.53 1446.07 Q1052.61 1450.66 1052.61 1459.41 Q1052.61 1468.13 1049.53 1472.74 Q1046.47 1477.32 1040.66 1477.32 Q1034.85 1477.32 1031.77 1472.74 Q1028.72 1468.13 1028.72 1459.41 Q1028.72 1450.66 1031.77 1446.07 Q1034.85 1441.47 1040.66 1441.47 Z\" fill=\"#000000\" fill-rule=\"evenodd\" fill-opacity=\"1\" /><path clip-path=\"url(#clip470)\" d=\"M 0 0 M1057.68 1470.77 L1062.56 1470.77 L1062.56 1476.65 L1057.68 1476.65 L1057.68 1470.77 Z\" fill=\"#000000\" fill-rule=\"evenodd\" fill-opacity=\"1\" /><path clip-path=\"url(#clip470)\" d=\"M 0 0 M1071.66 1472.72 L1087.98 1472.72 L1087.98 1476.65 L1066.03 1476.65 L1066.03 1472.72 Q1068.69 1469.96 1073.28 1465.33 Q1077.88 1460.68 1079.06 1459.34 Q1081.31 1456.81 1082.19 1455.08 Q1083.09 1453.32 1083.09 1451.63 Q1083.09 1448.87 1081.15 1447.14 Q1079.23 1445.4 1076.12 1445.4 Q1073.93 1445.4 1071.47 1446.17 Q1069.04 1446.93 1066.26 1448.48 L1066.26 1443.76 Q1069.09 1442.62 1071.54 1442.05 Q1074 1441.47 1076.03 1441.47 Q1081.4 1441.47 1084.6 1444.15 Q1087.79 1446.84 1087.79 1451.33 Q1087.79 1453.46 1086.98 1455.38 Q1086.19 1457.28 1084.09 1459.87 Q1083.51 1460.54 1080.41 1463.76 Q1077.31 1466.95 1071.66 1472.72 Z\" fill=\"#000000\" fill-rule=\"evenodd\" fill-opacity=\"1\" /><path clip-path=\"url(#clip470)\" d=\"M 0 0 M1451.11 1445.17 Q1447.5 1445.17 1445.67 1448.74 Q1443.87 1452.28 1443.87 1459.41 Q1443.87 1466.51 1445.67 1470.08 Q1447.5 1473.62 1451.11 1473.62 Q1454.75 1473.62 1456.55 1470.08 Q1458.38 1466.51 1458.38 1459.41 Q1458.38 1452.28 1456.55 1448.74 Q1454.75 1445.17 1451.11 1445.17 M1451.11 1441.47 Q1456.92 1441.47 1459.98 1446.07 Q1463.06 1450.66 1463.06 1459.41 Q1463.06 1468.13 1459.98 1472.74 Q1456.92 1477.32 1451.11 1477.32 Q1445.3 1477.32 1442.22 1472.74 Q1439.17 1468.13 1439.17 1459.41 Q1439.17 1450.66 1442.22 1446.07 Q1445.3 1441.47 1451.11 1441.47 Z\" fill=\"#000000\" fill-rule=\"evenodd\" fill-opacity=\"1\" /><path clip-path=\"url(#clip470)\" d=\"M 0 0 M1468.12 1470.77 L1473.01 1470.77 L1473.01 1476.65 L1468.12 1476.65 L1468.12 1470.77 Z\" fill=\"#000000\" fill-rule=\"evenodd\" fill-opacity=\"1\" /><path clip-path=\"url(#clip470)\" d=\"M 0 0 M1492.25 1458.02 Q1495.6 1458.74 1497.48 1461 Q1499.37 1463.27 1499.37 1466.61 Q1499.37 1471.72 1495.86 1474.52 Q1492.34 1477.32 1485.86 1477.32 Q1483.68 1477.32 1481.37 1476.88 Q1479.07 1476.47 1476.62 1475.61 L1476.62 1471.1 Q1478.56 1472.23 1480.88 1472.81 Q1483.19 1473.39 1485.72 1473.39 Q1490.12 1473.39 1492.41 1471.65 Q1494.72 1469.92 1494.72 1466.61 Q1494.72 1463.55 1492.57 1461.84 Q1490.44 1460.1 1486.62 1460.1 L1482.59 1460.1 L1482.59 1456.26 L1486.81 1456.26 Q1490.25 1456.26 1492.08 1454.89 Q1493.91 1453.5 1493.91 1450.91 Q1493.91 1448.25 1492.01 1446.84 Q1490.14 1445.4 1486.62 1445.4 Q1484.7 1445.4 1482.5 1445.82 Q1480.3 1446.24 1477.66 1447.11 L1477.66 1442.95 Q1480.32 1442.21 1482.64 1441.84 Q1484.98 1441.47 1487.04 1441.47 Q1492.36 1441.47 1495.46 1443.9 Q1498.56 1446.3 1498.56 1450.43 Q1498.56 1453.3 1496.92 1455.29 Q1495.28 1457.25 1492.25 1458.02 Z\" fill=\"#000000\" fill-rule=\"evenodd\" fill-opacity=\"1\" /><path clip-path=\"url(#clip470)\" d=\"M 0 0 M1861.47 1445.17 Q1857.86 1445.17 1856.03 1448.74 Q1854.22 1452.28 1854.22 1459.41 Q1854.22 1466.51 1856.03 1470.08 Q1857.86 1473.62 1861.47 1473.62 Q1865.1 1473.62 1866.91 1470.08 Q1868.74 1466.51 1868.74 1459.41 Q1868.74 1452.28 1866.91 1448.74 Q1865.1 1445.17 1861.47 1445.17 M1861.47 1441.47 Q1867.28 1441.47 1870.33 1446.07 Q1873.41 1450.66 1873.41 1459.41 Q1873.41 1468.13 1870.33 1472.74 Q1867.28 1477.32 1861.47 1477.32 Q1855.66 1477.32 1852.58 1472.74 Q1849.52 1468.13 1849.52 1459.41 Q1849.52 1450.66 1852.58 1446.07 Q1855.66 1441.47 1861.47 1441.47 Z\" fill=\"#000000\" fill-rule=\"evenodd\" fill-opacity=\"1\" /><path clip-path=\"url(#clip470)\" d=\"M 0 0 M1878.48 1470.77 L1883.37 1470.77 L1883.37 1476.65 L1878.48 1476.65 L1878.48 1470.77 Z\" fill=\"#000000\" fill-rule=\"evenodd\" fill-opacity=\"1\" /><path clip-path=\"url(#clip470)\" d=\"M 0 0 M1901.28 1446.17 L1889.48 1464.61 L1901.28 1464.61 L1901.28 1446.17 M1900.06 1442.09 L1905.93 1442.09 L1905.93 1464.61 L1910.87 1464.61 L1910.87 1468.5 L1905.93 1468.5 L1905.93 1476.65 L1901.28 1476.65 L1901.28 1468.5 L1885.68 1468.5 L1885.68 1463.99 L1900.06 1442.09 Z\" fill=\"#000000\" fill-rule=\"evenodd\" fill-opacity=\"1\" /><path clip-path=\"url(#clip470)\" d=\"M 0 0 M2273.13 1445.17 Q2269.52 1445.17 2267.69 1448.74 Q2265.89 1452.28 2265.89 1459.41 Q2265.89 1466.51 2267.69 1470.08 Q2269.52 1473.62 2273.13 1473.62 Q2276.77 1473.62 2278.57 1470.08 Q2280.4 1466.51 2280.4 1459.41 Q2280.4 1452.28 2278.57 1448.74 Q2276.77 1445.17 2273.13 1445.17 M2273.13 1441.47 Q2278.94 1441.47 2282 1446.07 Q2285.08 1450.66 2285.08 1459.41 Q2285.08 1468.13 2282 1472.74 Q2278.94 1477.32 2273.13 1477.32 Q2267.32 1477.32 2264.24 1472.74 Q2261.19 1468.13 2261.19 1459.41 Q2261.19 1450.66 2264.24 1446.07 Q2267.32 1441.47 2273.13 1441.47 Z\" fill=\"#000000\" fill-rule=\"evenodd\" fill-opacity=\"1\" /><path clip-path=\"url(#clip470)\" d=\"M 0 0 M2290.15 1470.77 L2295.03 1470.77 L2295.03 1476.65 L2290.15 1476.65 L2290.15 1470.77 Z\" fill=\"#000000\" fill-rule=\"evenodd\" fill-opacity=\"1\" /><path clip-path=\"url(#clip470)\" d=\"M 0 0 M2300.15 1442.09 L2318.5 1442.09 L2318.5 1446.03 L2304.43 1446.03 L2304.43 1454.5 Q2305.45 1454.15 2306.46 1453.99 Q2307.48 1453.8 2308.5 1453.8 Q2314.29 1453.8 2317.67 1456.98 Q2321.05 1460.15 2321.05 1465.56 Q2321.05 1471.14 2317.58 1474.24 Q2314.1 1477.32 2307.78 1477.32 Q2305.61 1477.32 2303.34 1476.95 Q2301.09 1476.58 2298.69 1475.84 L2298.69 1471.14 Q2300.77 1472.28 2302.99 1472.83 Q2305.21 1473.39 2307.69 1473.39 Q2311.7 1473.39 2314.03 1471.28 Q2316.37 1469.18 2316.37 1465.56 Q2316.37 1461.95 2314.03 1459.85 Q2311.7 1457.74 2307.69 1457.74 Q2305.82 1457.74 2303.94 1458.16 Q2302.09 1458.57 2300.15 1459.45 L2300.15 1442.09 Z\" fill=\"#000000\" fill-rule=\"evenodd\" fill-opacity=\"1\" /><path clip-path=\"url(#clip470)\" d=\"M 0 0 M74.9365 1372.19 Q71.3254 1372.19 69.4967 1375.76 Q67.6912 1379.3 67.6912 1386.43 Q67.6912 1393.54 69.4967 1397.1 Q71.3254 1400.64 74.9365 1400.64 Q78.5707 1400.64 80.3763 1397.1 Q82.205 1393.54 82.205 1386.43 Q82.205 1379.3 80.3763 1375.76 Q78.5707 1372.19 74.9365 1372.19 M74.9365 1368.49 Q80.7467 1368.49 83.8022 1373.1 Q86.8809 1377.68 86.8809 1386.43 Q86.8809 1395.16 83.8022 1399.76 Q80.7467 1404.35 74.9365 1404.35 Q69.1264 1404.35 66.0477 1399.76 Q62.9921 1395.16 62.9921 1386.43 Q62.9921 1377.68 66.0477 1373.1 Q69.1264 1368.49 74.9365 1368.49 Z\" fill=\"#000000\" fill-rule=\"evenodd\" fill-opacity=\"1\" /><path clip-path=\"url(#clip470)\" d=\"M 0 0 M91.9503 1397.8 L96.8345 1397.8 L96.8345 1403.68 L91.9503 1403.68 L91.9503 1397.8 Z\" fill=\"#000000\" fill-rule=\"evenodd\" fill-opacity=\"1\" /><path clip-path=\"url(#clip470)\" d=\"M 0 0 M111.904 1372.19 Q108.293 1372.19 106.464 1375.76 Q104.659 1379.3 104.659 1386.43 Q104.659 1393.54 106.464 1397.1 Q108.293 1400.64 111.904 1400.64 Q115.538 1400.64 117.344 1397.1 Q119.172 1393.54 119.172 1386.43 Q119.172 1379.3 117.344 1375.76 Q115.538 1372.19 111.904 1372.19 M111.904 1368.49 Q117.714 1368.49 120.77 1373.1 Q123.848 1377.68 123.848 1386.43 Q123.848 1395.16 120.77 1399.76 Q117.714 1404.35 111.904 1404.35 Q106.094 1404.35 103.015 1399.76 Q99.9595 1395.16 99.9595 1386.43 Q99.9595 1377.68 103.015 1373.1 Q106.094 1368.49 111.904 1368.49 Z\" fill=\"#000000\" fill-rule=\"evenodd\" fill-opacity=\"1\" /><path clip-path=\"url(#clip470)\" d=\"M 0 0 M138.918 1372.19 Q135.307 1372.19 133.478 1375.76 Q131.672 1379.3 131.672 1386.43 Q131.672 1393.54 133.478 1397.1 Q135.307 1400.64 138.918 1400.64 Q142.552 1400.64 144.357 1397.1 Q146.186 1393.54 146.186 1386.43 Q146.186 1379.3 144.357 1375.76 Q142.552 1372.19 138.918 1372.19 M138.918 1368.49 Q144.728 1368.49 147.783 1373.1 Q150.862 1377.68 150.862 1386.43 Q150.862 1395.16 147.783 1399.76 Q144.728 1404.35 138.918 1404.35 Q133.107 1404.35 130.029 1399.76 Q126.973 1395.16 126.973 1386.43 Q126.973 1377.68 130.029 1373.1 Q133.107 1368.49 138.918 1368.49 Z\" fill=\"#000000\" fill-rule=\"evenodd\" fill-opacity=\"1\" /><path clip-path=\"url(#clip470)\" d=\"M 0 0 M77.5291 1065.66 Q73.918 1065.66 72.0893 1069.22 Q70.2838 1072.77 70.2838 1079.9 Q70.2838 1087 72.0893 1090.57 Q73.918 1094.11 77.5291 1094.11 Q81.1633 1094.11 82.9689 1090.57 Q84.7976 1087 84.7976 1079.9 Q84.7976 1072.77 82.9689 1069.22 Q81.1633 1065.66 77.5291 1065.66 M77.5291 1061.96 Q83.3392 1061.96 86.3948 1066.56 Q89.4735 1071.15 89.4735 1079.9 Q89.4735 1088.62 86.3948 1093.23 Q83.3392 1097.81 77.5291 1097.81 Q71.7189 1097.81 68.6402 1093.23 Q65.5847 1088.62 65.5847 1079.9 Q65.5847 1071.15 68.6402 1066.56 Q71.7189 1061.96 77.5291 1061.96 Z\" fill=\"#000000\" fill-rule=\"evenodd\" fill-opacity=\"1\" /><path clip-path=\"url(#clip470)\" d=\"M 0 0 M94.5429 1091.26 L99.4271 1091.26 L99.4271 1097.14 L94.5429 1097.14 L94.5429 1091.26 Z\" fill=\"#000000\" fill-rule=\"evenodd\" fill-opacity=\"1\" /><path clip-path=\"url(#clip470)\" d=\"M 0 0 M108.524 1093.21 L124.844 1093.21 L124.844 1097.14 L102.899 1097.14 L102.899 1093.21 Q105.561 1090.45 110.145 1085.82 Q114.751 1081.17 115.932 1079.83 Q118.177 1077.3 119.057 1075.57 Q119.959 1073.81 119.959 1072.12 Q119.959 1069.36 118.015 1067.63 Q116.094 1065.89 112.992 1065.89 Q110.793 1065.89 108.339 1066.65 Q105.909 1067.42 103.131 1068.97 L103.131 1064.25 Q105.955 1063.11 108.409 1062.53 Q110.862 1061.96 112.899 1061.96 Q118.27 1061.96 121.464 1064.64 Q124.658 1067.33 124.658 1071.82 Q124.658 1073.95 123.848 1075.87 Q123.061 1077.77 120.955 1080.36 Q120.376 1081.03 117.274 1084.25 Q114.172 1087.44 108.524 1093.21 Z\" fill=\"#000000\" fill-rule=\"evenodd\" fill-opacity=\"1\" /><path clip-path=\"url(#clip470)\" d=\"M 0 0 M129.959 1062.58 L148.316 1062.58 L148.316 1066.52 L134.242 1066.52 L134.242 1074.99 Q135.26 1074.64 136.279 1074.48 Q137.297 1074.29 138.316 1074.29 Q144.103 1074.29 147.482 1077.47 Q150.862 1080.64 150.862 1086.05 Q150.862 1091.63 147.39 1094.73 Q143.918 1097.81 137.598 1097.81 Q135.422 1097.81 133.154 1097.44 Q130.908 1097.07 128.501 1096.33 L128.501 1091.63 Q130.584 1092.77 132.807 1093.32 Q135.029 1093.88 137.506 1093.88 Q141.51 1093.88 143.848 1091.77 Q146.186 1089.66 146.186 1086.05 Q146.186 1082.44 143.848 1080.34 Q141.51 1078.23 137.506 1078.23 Q135.631 1078.23 133.756 1078.65 Q131.904 1079.06 129.959 1079.94 L129.959 1062.58 Z\" fill=\"#000000\" fill-rule=\"evenodd\" fill-opacity=\"1\" /><path clip-path=\"url(#clip470)\" d=\"M 0 0 M75.9319 759.125 Q72.3208 759.125 70.4921 762.689 Q68.6865 766.231 68.6865 773.361 Q68.6865 780.467 70.4921 784.032 Q72.3208 787.574 75.9319 787.574 Q79.5661 787.574 81.3717 784.032 Q83.2004 780.467 83.2004 773.361 Q83.2004 766.231 81.3717 762.689 Q79.5661 759.125 75.9319 759.125 M75.9319 755.421 Q81.742 755.421 84.7976 760.027 Q87.8763 764.611 87.8763 773.361 Q87.8763 782.088 84.7976 786.694 Q81.742 791.277 75.9319 791.277 Q70.1217 791.277 67.043 786.694 Q63.9875 782.088 63.9875 773.361 Q63.9875 764.611 67.043 760.027 Q70.1217 755.421 75.9319 755.421 Z\" fill=\"#000000\" fill-rule=\"evenodd\" fill-opacity=\"1\" /><path clip-path=\"url(#clip470)\" d=\"M 0 0 M92.9457 784.726 L97.8299 784.726 L97.8299 790.606 L92.9457 790.606 L92.9457 784.726 Z\" fill=\"#000000\" fill-rule=\"evenodd\" fill-opacity=\"1\" /><path clip-path=\"url(#clip470)\" d=\"M 0 0 M102.946 756.046 L121.302 756.046 L121.302 759.981 L107.228 759.981 L107.228 768.453 Q108.247 768.106 109.265 767.944 Q110.284 767.759 111.302 767.759 Q117.089 767.759 120.469 770.93 Q123.848 774.101 123.848 779.518 Q123.848 785.097 120.376 788.199 Q116.904 791.277 110.584 791.277 Q108.409 791.277 106.14 790.907 Q103.895 790.537 101.487 789.796 L101.487 785.097 Q103.571 786.231 105.793 786.787 Q108.015 787.342 110.492 787.342 Q114.496 787.342 116.834 785.236 Q119.172 783.129 119.172 779.518 Q119.172 775.907 116.834 773.801 Q114.496 771.694 110.492 771.694 Q108.617 771.694 106.742 772.111 Q104.89 772.527 102.946 773.407 L102.946 756.046 Z\" fill=\"#000000\" fill-rule=\"evenodd\" fill-opacity=\"1\" /><path clip-path=\"url(#clip470)\" d=\"M 0 0 M138.918 759.125 Q135.307 759.125 133.478 762.689 Q131.672 766.231 131.672 773.361 Q131.672 780.467 133.478 784.032 Q135.307 787.574 138.918 787.574 Q142.552 787.574 144.357 784.032 Q146.186 780.467 146.186 773.361 Q146.186 766.231 144.357 762.689 Q142.552 759.125 138.918 759.125 M138.918 755.421 Q144.728 755.421 147.783 760.027 Q150.862 764.611 150.862 773.361 Q150.862 782.088 147.783 786.694 Q144.728 791.277 138.918 791.277 Q133.107 791.277 130.029 786.694 Q126.973 782.088 126.973 773.361 Q126.973 764.611 130.029 760.027 Q133.107 755.421 138.918 755.421 Z\" fill=\"#000000\" fill-rule=\"evenodd\" fill-opacity=\"1\" /><path clip-path=\"url(#clip470)\" d=\"M 0 0 M76.8346 452.59 Q73.2236 452.59 71.3949 456.155 Q69.5893 459.696 69.5893 466.826 Q69.5893 473.932 71.3949 477.497 Q73.2236 481.039 76.8346 481.039 Q80.4689 481.039 82.2744 477.497 Q84.1031 473.932 84.1031 466.826 Q84.1031 459.696 82.2744 456.155 Q80.4689 452.59 76.8346 452.59 M76.8346 448.886 Q82.6448 448.886 85.7003 453.493 Q88.779 458.076 88.779 466.826 Q88.779 475.553 85.7003 480.159 Q82.6448 484.742 76.8346 484.742 Q71.0245 484.742 67.9458 480.159 Q64.8903 475.553 64.8903 466.826 Q64.8903 458.076 67.9458 453.493 Q71.0245 448.886 76.8346 448.886 Z\" fill=\"#000000\" fill-rule=\"evenodd\" fill-opacity=\"1\" /><path clip-path=\"url(#clip470)\" d=\"M 0 0 M93.8484 478.192 L98.7327 478.192 L98.7327 484.071 L93.8484 484.071 L93.8484 478.192 Z\" fill=\"#000000\" fill-rule=\"evenodd\" fill-opacity=\"1\" /><path clip-path=\"url(#clip470)\" d=\"M 0 0 M102.622 449.511 L124.844 449.511 L124.844 451.502 L112.297 484.071 L107.413 484.071 L119.219 453.446 L102.622 453.446 L102.622 449.511 Z\" fill=\"#000000\" fill-rule=\"evenodd\" fill-opacity=\"1\" /><path clip-path=\"url(#clip470)\" d=\"M 0 0 M129.959 449.511 L148.316 449.511 L148.316 453.446 L134.242 453.446 L134.242 461.918 Q135.26 461.571 136.279 461.409 Q137.297 461.224 138.316 461.224 Q144.103 461.224 147.482 464.395 Q150.862 467.567 150.862 472.983 Q150.862 478.562 147.39 481.664 Q143.918 484.742 137.598 484.742 Q135.422 484.742 133.154 484.372 Q130.908 484.002 128.501 483.261 L128.501 478.562 Q130.584 479.696 132.807 480.252 Q135.029 480.807 137.506 480.807 Q141.51 480.807 143.848 478.701 Q146.186 476.594 146.186 472.983 Q146.186 469.372 143.848 467.266 Q141.51 465.159 137.506 465.159 Q135.631 465.159 133.756 465.576 Q131.904 465.993 129.959 466.872 L129.959 449.511 Z\" fill=\"#000000\" fill-rule=\"evenodd\" fill-opacity=\"1\" /><path clip-path=\"url(#clip470)\" d=\"M 0 0 M66.9736 173.601 L74.6124 173.601 L74.6124 147.236 L66.3023 148.902 L66.3023 144.643 L74.5661 142.976 L79.242 142.976 L79.242 173.601 L86.8809 173.601 L86.8809 177.536 L66.9736 177.536 L66.9736 173.601 Z\" fill=\"#000000\" fill-rule=\"evenodd\" fill-opacity=\"1\" /><path clip-path=\"url(#clip470)\" d=\"M 0 0 M91.9503 171.657 L96.8345 171.657 L96.8345 177.536 L91.9503 177.536 L91.9503 171.657 Z\" fill=\"#000000\" fill-rule=\"evenodd\" fill-opacity=\"1\" /><path clip-path=\"url(#clip470)\" d=\"M 0 0 M111.904 146.055 Q108.293 146.055 106.464 149.62 Q104.659 153.161 104.659 160.291 Q104.659 167.397 106.464 170.962 Q108.293 174.504 111.904 174.504 Q115.538 174.504 117.344 170.962 Q119.172 167.397 119.172 160.291 Q119.172 153.161 117.344 149.62 Q115.538 146.055 111.904 146.055 M111.904 142.351 Q117.714 142.351 120.77 146.958 Q123.848 151.541 123.848 160.291 Q123.848 169.018 120.77 173.624 Q117.714 178.208 111.904 178.208 Q106.094 178.208 103.015 173.624 Q99.9595 169.018 99.9595 160.291 Q99.9595 151.541 103.015 146.958 Q106.094 142.351 111.904 142.351 Z\" fill=\"#000000\" fill-rule=\"evenodd\" fill-opacity=\"1\" /><path clip-path=\"url(#clip470)\" d=\"M 0 0 M138.918 146.055 Q135.307 146.055 133.478 149.62 Q131.672 153.161 131.672 160.291 Q131.672 167.397 133.478 170.962 Q135.307 174.504 138.918 174.504 Q142.552 174.504 144.357 170.962 Q146.186 167.397 146.186 160.291 Q146.186 153.161 144.357 149.62 Q142.552 146.055 138.918 146.055 M138.918 142.351 Q144.728 142.351 147.783 146.958 Q150.862 151.541 150.862 160.291 Q150.862 169.018 147.783 173.624 Q144.728 178.208 138.918 178.208 Q133.107 178.208 130.029 173.624 Q126.973 169.018 126.973 160.291 Q126.973 151.541 130.029 146.958 Q133.107 142.351 138.918 142.351 Z\" fill=\"#000000\" fill-rule=\"evenodd\" fill-opacity=\"1\" /><path clip-path=\"url(#clip470)\" d=\"M 0 0 M932.425 12.096 L944.618 12.096 L960.052 53.2532 L975.567 12.096 L987.76 12.096 L987.76 72.576 L979.78 72.576 L979.78 19.4686 L964.184 60.9499 L955.96 60.9499 L940.365 19.4686 L940.365 72.576 L932.425 72.576 L932.425 12.096 Z\" fill=\"#000000\" fill-rule=\"evenodd\" fill-opacity=\"1\" /><path clip-path=\"url(#clip470)\" d=\"M 0 0 M994.809 54.671 L994.809 27.2059 L1002.26 27.2059 L1002.26 54.3874 Q1002.26 60.8284 1004.77 64.0691 Q1007.29 67.2693 1012.31 67.2693 Q1018.34 67.2693 1021.83 63.421 Q1025.35 59.5726 1025.35 52.9291 L1025.35 27.2059 L1032.81 27.2059 L1032.81 72.576 L1025.35 72.576 L1025.35 65.6084 Q1022.64 69.7404 1019.03 71.7658 Q1015.47 73.7508 1010.73 73.7508 Q1002.91 73.7508 998.86 68.8897 Q994.809 64.0286 994.809 54.671 M1013.56 26.1121 L1013.56 26.1121 Z\" fill=\"#000000\" fill-rule=\"evenodd\" fill-opacity=\"1\" /><path clip-path=\"url(#clip470)\" d=\"M 0 0 M1040.62 9.54393 L1048.08 9.54393 L1048.08 72.576 L1040.62 72.576 L1040.62 9.54393 Z\" fill=\"#000000\" fill-rule=\"evenodd\" fill-opacity=\"1\" /><path clip-path=\"url(#clip470)\" d=\"M 0 0 M1063.27 14.324 L1063.27 27.2059 L1078.62 27.2059 L1078.62 32.9987 L1063.27 32.9987 L1063.27 57.6282 Q1063.27 63.1779 1064.77 64.7578 Q1066.31 66.3376 1070.97 66.3376 L1078.62 66.3376 L1078.62 72.576 L1070.97 72.576 Q1062.34 72.576 1059.06 69.3758 Q1055.77 66.1351 1055.77 57.6282 L1055.77 32.9987 L1050.31 32.9987 L1050.31 27.2059 L1055.77 27.2059 L1055.77 14.324 L1063.27 14.324 Z\" fill=\"#000000\" fill-rule=\"evenodd\" fill-opacity=\"1\" /><path clip-path=\"url(#clip470)\" d=\"M 0 0 M1086.44 27.2059 L1093.89 27.2059 L1093.89 72.576 L1086.44 72.576 L1086.44 27.2059 M1086.44 9.54393 L1093.89 9.54393 L1093.89 18.9825 L1086.44 18.9825 L1086.44 9.54393 Z\" fill=\"#000000\" fill-rule=\"evenodd\" fill-opacity=\"1\" /><path clip-path=\"url(#clip470)\" d=\"M 0 0 M1139.43 45.1919 L1139.43 72.576 L1131.97 72.576 L1131.97 45.4349 Q1131.97 38.994 1129.46 35.7938 Q1126.95 32.5936 1121.93 32.5936 Q1115.89 32.5936 1112.41 36.4419 Q1108.92 40.2903 1108.92 46.9338 L1108.92 72.576 L1101.43 72.576 L1101.43 27.2059 L1108.92 27.2059 L1108.92 34.2544 Q1111.6 30.163 1115.2 28.1376 Q1118.85 26.1121 1123.59 26.1121 Q1131.41 26.1121 1135.42 30.9732 Q1139.43 35.7938 1139.43 45.1919 Z\" fill=\"#000000\" fill-rule=\"evenodd\" fill-opacity=\"1\" /><path clip-path=\"url(#clip470)\" d=\"M 0 0 M1164.83 32.4315 Q1158.83 32.4315 1155.35 37.1306 Q1151.86 41.7891 1151.86 49.9314 Q1151.86 58.0738 1155.31 62.7728 Q1158.79 67.4314 1164.83 67.4314 Q1170.78 67.4314 1174.26 62.7323 Q1177.75 58.0333 1177.75 49.9314 Q1177.75 41.8701 1174.26 37.1711 Q1170.78 32.4315 1164.83 32.4315 M1164.83 26.1121 Q1174.55 26.1121 1180.1 32.4315 Q1185.65 38.7509 1185.65 49.9314 Q1185.65 61.0714 1180.1 67.4314 Q1174.55 73.7508 1164.83 73.7508 Q1155.06 73.7508 1149.51 67.4314 Q1144 61.0714 1144 49.9314 Q1144 38.7509 1149.51 32.4315 Q1155.06 26.1121 1164.83 26.1121 Z\" fill=\"#000000\" fill-rule=\"evenodd\" fill-opacity=\"1\" /><path clip-path=\"url(#clip470)\" d=\"M 0 0 M1228.79 35.9153 Q1231.58 30.8922 1235.47 28.5022 Q1239.36 26.1121 1244.63 26.1121 Q1251.72 26.1121 1255.57 31.0947 Q1259.41 36.0368 1259.41 45.1919 L1259.41 72.576 L1251.92 72.576 L1251.92 45.4349 Q1251.92 38.913 1249.61 35.7533 Q1247.3 32.5936 1242.56 32.5936 Q1236.77 32.5936 1233.41 36.4419 Q1230.04 40.2903 1230.04 46.9338 L1230.04 72.576 L1222.55 72.576 L1222.55 45.4349 Q1222.55 38.8725 1220.24 35.7533 Q1217.93 32.5936 1213.11 32.5936 Q1207.4 32.5936 1204.04 36.4824 Q1200.68 40.3308 1200.68 46.9338 L1200.68 72.576 L1193.18 72.576 L1193.18 27.2059 L1200.68 27.2059 L1200.68 34.2544 Q1203.23 30.082 1206.79 28.0971 Q1210.36 26.1121 1215.26 26.1121 Q1220.2 26.1121 1223.64 28.6237 Q1227.13 31.1352 1228.79 35.9153 Z\" fill=\"#000000\" fill-rule=\"evenodd\" fill-opacity=\"1\" /><path clip-path=\"url(#clip470)\" d=\"M 0 0 M1267.23 27.2059 L1274.69 27.2059 L1274.69 72.576 L1267.23 72.576 L1267.23 27.2059 M1267.23 9.54393 L1274.69 9.54393 L1274.69 18.9825 L1267.23 18.9825 L1267.23 9.54393 Z\" fill=\"#000000\" fill-rule=\"evenodd\" fill-opacity=\"1\" /><path clip-path=\"url(#clip470)\" d=\"M 0 0 M1303.12 49.7694 Q1294.09 49.7694 1290.61 51.8354 Q1287.12 53.9013 1287.12 58.8839 Q1287.12 62.8538 1289.71 65.2034 Q1292.35 67.5124 1296.84 67.5124 Q1303.04 67.5124 1306.77 63.1374 Q1310.54 58.7219 1310.54 51.4303 L1310.54 49.7694 L1303.12 49.7694 M1317.99 46.6907 L1317.99 72.576 L1310.54 72.576 L1310.54 65.6895 Q1307.98 69.8214 1304.18 71.8063 Q1300.37 73.7508 1294.86 73.7508 Q1287.89 73.7508 1283.76 69.8619 Q1279.67 65.9325 1279.67 59.3701 Q1279.67 51.7138 1284.77 47.825 Q1289.92 43.9361 1300.08 43.9361 L1310.54 43.9361 L1310.54 43.2069 Q1310.54 38.0623 1307.13 35.2672 Q1303.77 32.4315 1297.65 32.4315 Q1293.77 32.4315 1290.08 33.3632 Q1286.39 34.295 1282.99 36.1584 L1282.99 29.2718 Q1287.08 27.692 1290.93 26.9223 Q1294.78 26.1121 1298.42 26.1121 Q1308.27 26.1121 1313.13 31.2163 Q1317.99 36.3204 1317.99 46.6907 Z\" fill=\"#000000\" fill-rule=\"evenodd\" fill-opacity=\"1\" /><path clip-path=\"url(#clip470)\" d=\"M 0 0 M1325.81 9.54393 L1333.26 9.54393 L1333.26 72.576 L1325.81 72.576 L1325.81 9.54393 Z\" fill=\"#000000\" fill-rule=\"evenodd\" fill-opacity=\"1\" /><path clip-path=\"url(#clip470)\" d=\"M 0 0 M1375.96 18.8205 L1375.96 41.5461 L1386.25 41.5461 Q1391.96 41.5461 1395.08 38.5889 Q1398.2 35.6318 1398.2 30.163 Q1398.2 24.7348 1395.08 21.7777 Q1391.96 18.8205 1386.25 18.8205 L1375.96 18.8205 M1367.78 12.096 L1386.25 12.096 Q1396.42 12.096 1401.6 16.714 Q1406.83 21.2916 1406.83 30.163 Q1406.83 39.1155 1401.6 43.6931 Q1396.42 48.2706 1386.25 48.2706 L1375.96 48.2706 L1375.96 72.576 L1367.78 72.576 L1367.78 12.096 Z\" fill=\"#000000\" fill-rule=\"evenodd\" fill-opacity=\"1\" /><path clip-path=\"url(#clip470)\" d=\"M 0 0 M1429.27 32.4315 Q1423.27 32.4315 1419.79 37.1306 Q1416.31 41.7891 1416.31 49.9314 Q1416.31 58.0738 1419.75 62.7728 Q1423.23 67.4314 1429.27 67.4314 Q1435.22 67.4314 1438.71 62.7323 Q1442.19 58.0333 1442.19 49.9314 Q1442.19 41.8701 1438.71 37.1711 Q1435.22 32.4315 1429.27 32.4315 M1429.27 26.1121 Q1438.99 26.1121 1444.54 32.4315 Q1450.09 38.7509 1450.09 49.9314 Q1450.09 61.0714 1444.54 67.4314 Q1438.99 73.7508 1429.27 73.7508 Q1419.51 73.7508 1413.96 67.4314 Q1408.45 61.0714 1408.45 49.9314 Q1408.45 38.7509 1413.96 32.4315 Q1419.51 26.1121 1429.27 26.1121 Z\" fill=\"#000000\" fill-rule=\"evenodd\" fill-opacity=\"1\" /><path clip-path=\"url(#clip470)\" d=\"M 0 0 M1453.57 27.2059 L1461.03 27.2059 L1470.34 62.6108 L1479.62 27.2059 L1488.41 27.2059 L1497.73 62.6108 L1507.01 27.2059 L1514.46 27.2059 L1502.59 72.576 L1493.8 72.576 L1484.04 35.3887 L1474.23 72.576 L1465.44 72.576 L1453.57 27.2059 Z\" fill=\"#000000\" fill-rule=\"evenodd\" fill-opacity=\"1\" /><path clip-path=\"url(#clip470)\" d=\"M 0 0 M1561.08 48.0275 L1561.08 51.6733 L1526.81 51.6733 Q1527.3 59.3701 1531.43 63.421 Q1535.6 67.4314 1543.02 67.4314 Q1547.31 67.4314 1551.32 66.3781 Q1555.37 65.3249 1559.34 63.2184 L1559.34 70.267 Q1555.33 71.9684 1551.12 72.8596 Q1546.91 73.7508 1542.57 73.7508 Q1531.72 73.7508 1525.36 67.4314 Q1519.04 61.1119 1519.04 50.3365 Q1519.04 39.1965 1525.03 32.6746 Q1531.07 26.1121 1541.28 26.1121 Q1550.43 26.1121 1555.74 32.0264 Q1561.08 37.9003 1561.08 48.0275 M1553.63 45.84 Q1553.55 39.7232 1550.19 36.0774 Q1546.87 32.4315 1541.36 32.4315 Q1535.12 32.4315 1531.35 35.9558 Q1527.62 39.4801 1527.06 45.8805 L1553.63 45.84 Z\" fill=\"#000000\" fill-rule=\"evenodd\" fill-opacity=\"1\" /><path clip-path=\"url(#clip470)\" d=\"M 0 0 M1595.19 34.1734 Q1593.94 33.4443 1592.44 33.1202 Q1590.98 32.7556 1589.2 32.7556 Q1582.88 32.7556 1579.48 36.8875 Q1576.11 40.9789 1576.11 48.6757 L1576.11 72.576 L1568.62 72.576 L1568.62 27.2059 L1576.11 27.2059 L1576.11 34.2544 Q1578.46 30.1225 1582.23 28.1376 Q1586 26.1121 1591.39 26.1121 Q1592.16 26.1121 1593.09 26.2337 Q1594.02 26.3147 1595.15 26.5172 L1595.19 34.1734 Z\" fill=\"#000000\" fill-rule=\"evenodd\" fill-opacity=\"1\" /><path clip-path=\"url(#clip470)\" d=\"M 0 0 M944.967 1513.81 L944.967 1550.76 L952.733 1550.76 Q962.568 1550.76 967.119 1546.3 Q971.703 1541.85 971.703 1532.24 Q971.703 1522.69 967.119 1518.26 Q962.568 1513.81 952.733 1513.81 L944.967 1513.81 M938.537 1508.52 L951.746 1508.52 Q965.56 1508.52 972.021 1514.28 Q978.482 1520.01 978.482 1532.24 Q978.482 1544.52 971.989 1550.28 Q965.496 1556.04 951.746 1556.04 L938.537 1556.04 L938.537 1508.52 Z\" fill=\"#000000\" fill-rule=\"evenodd\" fill-opacity=\"1\" /><path clip-path=\"url(#clip470)\" d=\"M 0 0 M1015.12 1536.76 L1015.12 1539.62 L988.19 1539.62 Q988.572 1545.67 991.818 1548.85 Q995.097 1552 1000.92 1552 Q1004.3 1552 1007.45 1551.17 Q1010.63 1550.35 1013.75 1548.69 L1013.75 1554.23 Q1010.6 1555.57 1007.29 1556.27 Q1003.98 1556.97 1000.57 1556.97 Q992.041 1556.97 987.044 1552 Q982.079 1547.04 982.079 1538.57 Q982.079 1529.82 986.789 1524.69 Q991.532 1519.54 999.553 1519.54 Q1006.75 1519.54 1010.92 1524.18 Q1015.12 1528.8 1015.12 1536.76 M1009.26 1535.04 Q1009.2 1530.23 1006.55 1527.37 Q1003.94 1524.5 999.616 1524.5 Q994.715 1524.5 991.755 1527.27 Q988.826 1530.04 988.381 1535.07 L1009.26 1535.04 Z\" fill=\"#000000\" fill-rule=\"evenodd\" fill-opacity=\"1\" /><path clip-path=\"url(#clip470)\" d=\"M 0 0 M1027.05 1510.27 L1027.05 1520.4 L1039.12 1520.4 L1039.12 1524.95 L1027.05 1524.95 L1027.05 1544.3 Q1027.05 1548.66 1028.23 1549.9 Q1029.44 1551.14 1033.1 1551.14 L1039.12 1551.14 L1039.12 1556.04 L1033.1 1556.04 Q1026.32 1556.04 1023.74 1553.53 Q1021.16 1550.98 1021.16 1544.3 L1021.16 1524.95 L1016.87 1524.95 L1016.87 1520.4 L1021.16 1520.4 L1021.16 1510.27 L1027.05 1510.27 Z\" fill=\"#000000\" fill-rule=\"evenodd\" fill-opacity=\"1\" /><path clip-path=\"url(#clip470)\" d=\"M 0 0 M1075.75 1536.76 L1075.75 1539.62 L1048.82 1539.62 Q1049.21 1545.67 1052.45 1548.85 Q1055.73 1552 1061.55 1552 Q1064.93 1552 1068.08 1551.17 Q1071.26 1550.35 1074.38 1548.69 L1074.38 1554.23 Q1071.23 1555.57 1067.92 1556.27 Q1064.61 1556.97 1061.2 1556.97 Q1052.67 1556.97 1047.68 1552 Q1042.71 1547.04 1042.71 1538.57 Q1042.71 1529.82 1047.42 1524.69 Q1052.17 1519.54 1060.19 1519.54 Q1067.38 1519.54 1071.55 1524.18 Q1075.75 1528.8 1075.75 1536.76 M1069.89 1535.04 Q1069.83 1530.23 1067.19 1527.37 Q1064.58 1524.5 1060.25 1524.5 Q1055.35 1524.5 1052.39 1527.27 Q1049.46 1530.04 1049.01 1535.07 L1069.89 1535.04 Z\" fill=\"#000000\" fill-rule=\"evenodd\" fill-opacity=\"1\" /><path clip-path=\"url(#clip470)\" d=\"M 0 0 M1107.55 1521.76 L1107.55 1527.24 Q1105.06 1525.87 1102.55 1525.2 Q1100.07 1524.5 1097.52 1524.5 Q1091.82 1524.5 1088.67 1528.13 Q1085.52 1531.73 1085.52 1538.25 Q1085.52 1544.78 1088.67 1548.4 Q1091.82 1552 1097.52 1552 Q1100.07 1552 1102.55 1551.33 Q1105.06 1550.63 1107.55 1549.26 L1107.55 1554.68 Q1105.1 1555.82 1102.45 1556.39 Q1099.84 1556.97 1096.88 1556.97 Q1088.83 1556.97 1084.09 1551.91 Q1079.35 1546.85 1079.35 1538.25 Q1079.35 1529.53 1084.12 1524.53 Q1088.93 1519.54 1097.27 1519.54 Q1099.97 1519.54 1102.55 1520.11 Q1105.13 1520.65 1107.55 1521.76 Z\" fill=\"#000000\" fill-rule=\"evenodd\" fill-opacity=\"1\" /><path clip-path=\"url(#clip470)\" d=\"M 0 0 M1119.48 1510.27 L1119.48 1520.4 L1131.55 1520.4 L1131.55 1524.95 L1119.48 1524.95 L1119.48 1544.3 Q1119.48 1548.66 1120.66 1549.9 Q1121.87 1551.14 1125.53 1551.14 L1131.55 1551.14 L1131.55 1556.04 L1125.53 1556.04 Q1118.75 1556.04 1116.17 1553.53 Q1113.59 1550.98 1113.59 1544.3 L1113.59 1524.95 L1109.3 1524.95 L1109.3 1520.4 L1113.59 1520.4 L1113.59 1510.27 L1119.48 1510.27 Z\" fill=\"#000000\" fill-rule=\"evenodd\" fill-opacity=\"1\" /><path clip-path=\"url(#clip470)\" d=\"M 0 0 M1153.89 1538.12 Q1146.79 1538.12 1144.05 1539.75 Q1141.32 1541.37 1141.32 1545.29 Q1141.32 1548.4 1143.35 1550.25 Q1145.42 1552.07 1148.96 1552.07 Q1153.83 1552.07 1156.75 1548.63 Q1159.71 1545.16 1159.71 1539.43 L1159.71 1538.12 L1153.89 1538.12 M1165.57 1535.71 L1165.57 1556.04 L1159.71 1556.04 L1159.71 1550.63 Q1157.71 1553.88 1154.72 1555.44 Q1151.72 1556.97 1147.4 1556.97 Q1141.92 1556.97 1138.68 1553.91 Q1135.46 1550.82 1135.46 1545.67 Q1135.46 1539.65 1139.47 1536.6 Q1143.51 1533.54 1151.5 1533.54 L1159.71 1533.54 L1159.71 1532.97 Q1159.71 1528.93 1157.04 1526.73 Q1154.4 1524.5 1149.59 1524.5 Q1146.54 1524.5 1143.64 1525.23 Q1140.74 1525.97 1138.07 1527.43 L1138.07 1522.02 Q1141.29 1520.78 1144.31 1520.17 Q1147.33 1519.54 1150.2 1519.54 Q1157.93 1519.54 1161.75 1523.55 Q1165.57 1527.56 1165.57 1535.71 Z\" fill=\"#000000\" fill-rule=\"evenodd\" fill-opacity=\"1\" /><path clip-path=\"url(#clip470)\" d=\"M 0 0 M1197.3 1538.25 Q1197.3 1531.79 1194.63 1528.13 Q1191.99 1524.44 1187.34 1524.44 Q1182.69 1524.44 1180.02 1528.13 Q1177.38 1531.79 1177.38 1538.25 Q1177.38 1544.71 1180.02 1548.4 Q1182.69 1552.07 1187.34 1552.07 Q1191.99 1552.07 1194.63 1548.4 Q1197.3 1544.71 1197.3 1538.25 M1177.38 1525.81 Q1179.22 1522.62 1182.03 1521.1 Q1184.86 1519.54 1188.77 1519.54 Q1195.27 1519.54 1199.31 1524.69 Q1203.38 1529.85 1203.38 1538.25 Q1203.38 1546.65 1199.31 1551.81 Q1195.27 1556.97 1188.77 1556.97 Q1184.86 1556.97 1182.03 1555.44 Q1179.22 1553.88 1177.38 1550.7 L1177.38 1556.04 L1171.49 1556.04 L1171.49 1506.52 L1177.38 1506.52 L1177.38 1525.81 Z\" fill=\"#000000\" fill-rule=\"evenodd\" fill-opacity=\"1\" /><path clip-path=\"url(#clip470)\" d=\"M 0 0 M1209.53 1506.52 L1215.38 1506.52 L1215.38 1556.04 L1209.53 1556.04 L1209.53 1506.52 Z\" fill=\"#000000\" fill-rule=\"evenodd\" fill-opacity=\"1\" /><path clip-path=\"url(#clip470)\" d=\"M 0 0 M1252.02 1536.76 L1252.02 1539.62 L1225.09 1539.62 Q1225.47 1545.67 1228.72 1548.85 Q1232 1552 1237.82 1552 Q1241.19 1552 1244.35 1551.17 Q1247.53 1550.35 1250.65 1548.69 L1250.65 1554.23 Q1247.5 1555.57 1244.19 1556.27 Q1240.88 1556.97 1237.47 1556.97 Q1228.94 1556.97 1223.94 1552 Q1218.98 1547.04 1218.98 1538.57 Q1218.98 1529.82 1223.69 1524.69 Q1228.43 1519.54 1236.45 1519.54 Q1243.65 1519.54 1247.82 1524.18 Q1252.02 1528.8 1252.02 1536.76 M1246.16 1535.04 Q1246.1 1530.23 1243.45 1527.37 Q1240.84 1524.5 1236.52 1524.5 Q1231.61 1524.5 1228.65 1527.27 Q1225.73 1530.04 1225.28 1535.07 L1246.16 1535.04 Z\" fill=\"#000000\" fill-rule=\"evenodd\" fill-opacity=\"1\" /><path clip-path=\"url(#clip470)\" d=\"M 0 0 M1279.13 1508.52 L1309.18 1508.52 L1309.18 1513.93 L1285.56 1513.93 L1285.56 1528 L1308.19 1528 L1308.19 1533.41 L1285.56 1533.41 L1285.56 1550.63 L1309.75 1550.63 L1309.75 1556.04 L1279.13 1556.04 L1279.13 1508.52 Z\" fill=\"#000000\" fill-rule=\"evenodd\" fill-opacity=\"1\" /><path clip-path=\"url(#clip470)\" d=\"M 0 0 M1333.94 1506.52 L1333.94 1511.39 L1328.34 1511.39 Q1325.19 1511.39 1323.95 1512.66 Q1322.74 1513.93 1322.74 1517.24 L1322.74 1520.4 L1332.38 1520.4 L1332.38 1524.95 L1322.74 1524.95 L1322.74 1556.04 L1316.85 1556.04 L1316.85 1524.95 L1311.25 1524.95 L1311.25 1520.4 L1316.85 1520.4 L1316.85 1517.91 Q1316.85 1511.96 1319.62 1509.26 Q1322.39 1506.52 1328.4 1506.52 L1333.94 1506.52 Z\" fill=\"#000000\" fill-rule=\"evenodd\" fill-opacity=\"1\" /><path clip-path=\"url(#clip470)\" d=\"M 0 0 M1358.13 1506.52 L1358.13 1511.39 L1352.53 1511.39 Q1349.38 1511.39 1348.14 1512.66 Q1346.93 1513.93 1346.93 1517.24 L1346.93 1520.4 L1356.57 1520.4 L1356.57 1524.95 L1346.93 1524.95 L1346.93 1556.04 L1341.04 1556.04 L1341.04 1524.95 L1335.44 1524.95 L1335.44 1520.4 L1341.04 1520.4 L1341.04 1517.91 Q1341.04 1511.96 1343.81 1509.26 Q1346.58 1506.52 1352.59 1506.52 L1358.13 1506.52 Z\" fill=\"#000000\" fill-rule=\"evenodd\" fill-opacity=\"1\" /><path clip-path=\"url(#clip470)\" d=\"M 0 0 M1394.77 1536.76 L1394.77 1539.62 L1367.84 1539.62 Q1368.22 1545.67 1371.47 1548.85 Q1374.75 1552 1380.57 1552 Q1383.95 1552 1387.1 1551.17 Q1390.28 1550.35 1393.4 1548.69 L1393.4 1554.23 Q1390.25 1555.57 1386.94 1556.27 Q1383.63 1556.97 1380.22 1556.97 Q1371.69 1556.97 1366.69 1552 Q1361.73 1547.04 1361.73 1538.57 Q1361.73 1529.82 1366.44 1524.69 Q1371.18 1519.54 1379.2 1519.54 Q1386.4 1519.54 1390.57 1524.18 Q1394.77 1528.8 1394.77 1536.76 M1388.91 1535.04 Q1388.85 1530.23 1386.21 1527.37 Q1383.6 1524.5 1379.27 1524.5 Q1374.37 1524.5 1371.41 1527.27 Q1368.48 1530.04 1368.03 1535.07 L1388.91 1535.04 Z\" fill=\"#000000\" fill-rule=\"evenodd\" fill-opacity=\"1\" /><path clip-path=\"url(#clip470)\" d=\"M 0 0 M1426.56 1521.76 L1426.56 1527.24 Q1424.08 1525.87 1421.57 1525.2 Q1419.08 1524.5 1416.54 1524.5 Q1410.84 1524.5 1407.69 1528.13 Q1404.54 1531.73 1404.54 1538.25 Q1404.54 1544.78 1407.69 1548.4 Q1410.84 1552 1416.54 1552 Q1419.08 1552 1421.57 1551.33 Q1424.08 1550.63 1426.56 1549.26 L1426.56 1554.68 Q1424.11 1555.82 1421.47 1556.39 Q1418.86 1556.97 1415.9 1556.97 Q1407.85 1556.97 1403.11 1551.91 Q1398.36 1546.85 1398.36 1538.25 Q1398.36 1529.53 1403.14 1524.53 Q1407.94 1519.54 1416.28 1519.54 Q1418.99 1519.54 1421.57 1520.11 Q1424.15 1520.65 1426.56 1521.76 Z\" fill=\"#000000\" fill-rule=\"evenodd\" fill-opacity=\"1\" /><path clip-path=\"url(#clip470)\" d=\"M 0 0 M1438.5 1510.27 L1438.5 1520.4 L1450.56 1520.4 L1450.56 1524.95 L1438.5 1524.95 L1438.5 1544.3 Q1438.5 1548.66 1439.68 1549.9 Q1440.89 1551.14 1444.55 1551.14 L1450.56 1551.14 L1450.56 1556.04 L1444.55 1556.04 Q1437.77 1556.04 1435.19 1553.53 Q1432.61 1550.98 1432.61 1544.3 L1432.61 1524.95 L1428.31 1524.95 L1428.31 1520.4 L1432.61 1520.4 L1432.61 1510.27 L1438.5 1510.27 Z\" fill=\"#000000\" fill-rule=\"evenodd\" fill-opacity=\"1\" /><path clip-path=\"url(#clip470)\" d=\"M 0 0 M1506.17 1510.08 L1506.17 1516.35 Q1502.51 1514.6 1499.26 1513.74 Q1496.01 1512.88 1492.99 1512.88 Q1487.74 1512.88 1484.87 1514.92 Q1482.04 1516.96 1482.04 1520.71 Q1482.04 1523.87 1483.92 1525.49 Q1485.83 1527.08 1491.11 1528.07 L1495 1528.86 Q1502.19 1530.23 1505.59 1533.7 Q1509.03 1537.14 1509.03 1542.93 Q1509.03 1549.84 1504.38 1553.4 Q1499.77 1556.97 1490.83 1556.97 Q1487.45 1556.97 1483.63 1556.2 Q1479.85 1555.44 1475.77 1553.94 L1475.77 1547.32 Q1479.69 1549.52 1483.44 1550.63 Q1487.2 1551.75 1490.83 1551.75 Q1496.33 1551.75 1499.32 1549.58 Q1502.32 1547.42 1502.32 1543.41 Q1502.32 1539.91 1500.15 1537.93 Q1498.02 1535.96 1493.12 1534.97 L1489.2 1534.21 Q1482.01 1532.78 1478.79 1529.72 Q1475.58 1526.67 1475.58 1521.22 Q1475.58 1514.92 1480 1511.29 Q1484.46 1507.66 1492.26 1507.66 Q1495.6 1507.66 1499.07 1508.27 Q1502.54 1508.87 1506.17 1510.08 Z\" fill=\"#000000\" fill-rule=\"evenodd\" fill-opacity=\"1\" /><path clip-path=\"url(#clip470)\" d=\"M 0 0 M1515.17 1520.4 L1521.03 1520.4 L1521.03 1556.04 L1515.17 1556.04 L1515.17 1520.4 M1515.17 1506.52 L1521.03 1506.52 L1521.03 1513.93 L1515.17 1513.93 L1515.17 1506.52 Z\" fill=\"#000000\" fill-rule=\"evenodd\" fill-opacity=\"1\" /><path clip-path=\"url(#clip470)\" d=\"M 0 0 M1524.63 1520.4 L1552.45 1520.4 L1552.45 1525.74 L1530.42 1551.37 L1552.45 1551.37 L1552.45 1556.04 L1523.83 1556.04 L1523.83 1550.7 L1545.86 1525.07 L1524.63 1525.07 L1524.63 1520.4 Z\" fill=\"#000000\" fill-rule=\"evenodd\" fill-opacity=\"1\" /><path clip-path=\"url(#clip470)\" d=\"M 0 0 M1589.08 1536.76 L1589.08 1539.62 L1562.15 1539.62 Q1562.54 1545.67 1565.78 1548.85 Q1569.06 1552 1574.89 1552 Q1578.26 1552 1581.41 1551.17 Q1584.59 1550.35 1587.71 1548.69 L1587.71 1554.23 Q1584.56 1555.57 1581.25 1556.27 Q1577.94 1556.97 1574.54 1556.97 Q1566 1556.97 1561.01 1552 Q1556.04 1547.04 1556.04 1538.57 Q1556.04 1529.82 1560.75 1524.69 Q1565.5 1519.54 1573.52 1519.54 Q1580.71 1519.54 1584.88 1524.18 Q1589.08 1528.8 1589.08 1536.76 M1583.22 1535.04 Q1583.16 1530.23 1580.52 1527.37 Q1577.91 1524.5 1573.58 1524.5 Q1568.68 1524.5 1565.72 1527.27 Q1562.79 1530.04 1562.34 1535.07 L1583.22 1535.04 Z\" fill=\"#000000\" fill-rule=\"evenodd\" fill-opacity=\"1\" /><polyline clip-path=\"url(#clip472)\" style=\"stroke:#009af9; stroke-width:12; stroke-opacity:1; fill:none\" points=\"\n",
       "  236.501,1374.13 441.962,1386.4 647.424,1386.4 852.886,1374.13 1058.35,1361.87 1263.81,1239.26 1469.27,810.11 1674.73,503.575 1880.19,246.086 2085.66,160.256 \n",
       "  2291.12,160.256 \n",
       "  \"/>\n",
       "<path clip-path=\"url(#clip470)\" d=\"\n",
       "M1067.52 327.952 L2280.76 327.952 L2280.76 206.992 L1067.52 206.992  Z\n",
       "  \" fill=\"#ffffff\" fill-rule=\"evenodd\" fill-opacity=\"1\"/>\n",
       "<polyline clip-path=\"url(#clip470)\" style=\"stroke:#000000; stroke-width:4; stroke-opacity:1; fill:none\" points=\"\n",
       "  1067.52,327.952 2280.76,327.952 2280.76,206.992 1067.52,206.992 1067.52,327.952 \n",
       "  \"/>\n",
       "<polyline clip-path=\"url(#clip470)\" style=\"stroke:#009af9; stroke-width:4; stroke-opacity:1; fill:none\" points=\"\n",
       "  1091.52,267.472 1235.52,267.472 \n",
       "  \"/>\n",
       "<path clip-path=\"url(#clip470)\" d=\"M 0 0 M1279.87 263.803 Q1281.46 260.933 1283.69 259.567 Q1285.91 258.201 1288.92 258.201 Q1292.97 258.201 1295.17 261.049 Q1297.37 263.873 1297.37 269.104 L1297.37 284.752 L1293.09 284.752 L1293.09 269.243 Q1293.09 265.516 1291.77 263.711 Q1290.45 261.905 1287.74 261.905 Q1284.43 261.905 1282.51 264.104 Q1280.59 266.303 1280.59 270.099 L1280.59 284.752 L1276.3 284.752 L1276.3 269.243 Q1276.3 265.493 1274.98 263.711 Q1273.66 261.905 1270.91 261.905 Q1267.65 261.905 1265.72 264.127 Q1263.8 266.326 1263.8 270.099 L1263.8 284.752 L1259.52 284.752 L1259.52 258.826 L1263.8 258.826 L1263.8 262.854 Q1265.26 260.47 1267.3 259.336 Q1269.34 258.201 1272.14 258.201 Q1274.96 258.201 1276.93 259.637 Q1278.92 261.072 1279.87 263.803 Z\" fill=\"#000000\" fill-rule=\"evenodd\" fill-opacity=\"1\" /><path clip-path=\"url(#clip470)\" d=\"M 0 0 M1313.62 271.72 Q1308.46 271.72 1306.46 272.9 Q1304.47 274.081 1304.47 276.928 Q1304.47 279.197 1305.96 280.539 Q1307.46 281.859 1310.03 281.859 Q1313.57 281.859 1315.7 279.359 Q1317.85 276.836 1317.85 272.669 L1317.85 271.72 L1313.62 271.72 M1322.11 269.961 L1322.11 284.752 L1317.85 284.752 L1317.85 280.817 Q1316.4 283.178 1314.22 284.312 Q1312.04 285.423 1308.9 285.423 Q1304.91 285.423 1302.55 283.201 Q1300.21 280.956 1300.21 277.206 Q1300.21 272.831 1303.13 270.609 Q1306.07 268.386 1311.88 268.386 L1317.85 268.386 L1317.85 267.97 Q1317.85 265.03 1315.91 263.433 Q1313.99 261.812 1310.49 261.812 Q1308.27 261.812 1306.16 262.345 Q1304.06 262.877 1302.11 263.942 L1302.11 260.007 Q1304.45 259.104 1306.65 258.664 Q1308.85 258.201 1310.93 258.201 Q1316.56 258.201 1319.33 261.118 Q1322.11 264.035 1322.11 269.961 Z\" fill=\"#000000\" fill-rule=\"evenodd\" fill-opacity=\"1\" /><path clip-path=\"url(#clip470)\" d=\"M 0 0 M1339.71 248.734 L1339.71 252.275 L1335.63 252.275 Q1333.34 252.275 1332.44 253.201 Q1331.56 254.127 1331.56 256.535 L1331.56 258.826 L1338.57 258.826 L1338.57 262.137 L1331.56 262.137 L1331.56 284.752 L1327.27 284.752 L1327.27 262.137 L1323.2 262.137 L1323.2 258.826 L1327.27 258.826 L1327.27 257.021 Q1327.27 252.692 1329.29 250.725 Q1331.3 248.734 1335.68 248.734 L1339.71 248.734 Z\" fill=\"#000000\" fill-rule=\"evenodd\" fill-opacity=\"1\" /><path clip-path=\"url(#clip470)\" d=\"M 0 0 M1359.8 263.224 L1389.47 263.224 L1389.47 267.113 L1359.8 267.113 L1359.8 263.224 M1359.8 272.669 L1389.47 272.669 L1389.47 276.604 L1359.8 276.604 L1359.8 272.669 Z\" fill=\"#000000\" fill-rule=\"evenodd\" fill-opacity=\"1\" /><path clip-path=\"url(#clip470)\" d=\"M 0 0 M1408.62 248.734 L1418.43 248.734 L1418.43 252.044 L1412.88 252.044 L1412.88 287.692 L1418.43 287.692 L1418.43 291.002 L1408.62 291.002 L1408.62 248.734 Z\" fill=\"#000000\" fill-rule=\"evenodd\" fill-opacity=\"1\" /><path clip-path=\"url(#clip470)\" d=\"M 0 0 M1433.5 253.271 Q1429.89 253.271 1428.06 256.836 Q1426.26 260.377 1426.26 267.507 Q1426.26 274.613 1428.06 278.178 Q1429.89 281.72 1433.5 281.72 Q1437.14 281.72 1438.94 278.178 Q1440.77 274.613 1440.77 267.507 Q1440.77 260.377 1438.94 256.836 Q1437.14 253.271 1433.5 253.271 M1433.5 249.567 Q1439.31 249.567 1442.37 254.174 Q1445.45 258.757 1445.45 267.507 Q1445.45 276.234 1442.37 280.84 Q1439.31 285.423 1433.5 285.423 Q1427.69 285.423 1424.61 280.84 Q1421.56 276.234 1421.56 267.507 Q1421.56 258.757 1424.61 254.174 Q1427.69 249.567 1433.5 249.567 Z\" fill=\"#000000\" fill-rule=\"evenodd\" fill-opacity=\"1\" /><path clip-path=\"url(#clip470)\" d=\"M 0 0 M1450.51 278.873 L1455.4 278.873 L1455.4 284.752 L1450.51 284.752 L1450.51 278.873 Z\" fill=\"#000000\" fill-rule=\"evenodd\" fill-opacity=\"1\" /><path clip-path=\"url(#clip470)\" d=\"M 0 0 M1464.5 280.817 L1480.82 280.817 L1480.82 284.752 L1458.87 284.752 L1458.87 280.817 Q1461.53 278.062 1466.12 273.433 Q1470.72 268.78 1471.9 267.437 Q1474.15 264.914 1475.03 263.178 Q1475.93 261.419 1475.93 259.729 Q1475.93 256.974 1473.99 255.238 Q1472.07 253.502 1468.96 253.502 Q1466.76 253.502 1464.31 254.266 Q1461.88 255.03 1459.1 256.581 L1459.1 251.859 Q1461.93 250.725 1464.38 250.146 Q1466.83 249.567 1468.87 249.567 Q1474.24 249.567 1477.44 252.252 Q1480.63 254.937 1480.63 259.428 Q1480.63 261.558 1479.82 263.479 Q1479.03 265.377 1476.93 267.97 Q1476.35 268.641 1473.25 271.859 Q1470.14 275.053 1464.5 280.817 Z\" fill=\"#000000\" fill-rule=\"evenodd\" fill-opacity=\"1\" /><path clip-path=\"url(#clip470)\" d=\"M 0 0 M1495.24 248.734 L1495.24 291.002 L1485.42 291.002 L1485.42 287.692 L1490.95 287.692 L1490.95 252.044 L1485.42 252.044 L1485.42 248.734 L1495.24 248.734 Z\" fill=\"#000000\" fill-rule=\"evenodd\" fill-opacity=\"1\" /><path clip-path=\"url(#clip470)\" d=\"M 0 0 M1500.79 278.873 L1505.68 278.873 L1505.68 282.854 L1501.88 290.261 L1498.89 290.261 L1500.79 282.854 L1500.79 278.873 Z\" fill=\"#000000\" fill-rule=\"evenodd\" fill-opacity=\"1\" /><path clip-path=\"url(#clip470)\" d=\"M 0 0 M1537 271.72 Q1531.83 271.72 1529.84 272.9 Q1527.85 274.081 1527.85 276.928 Q1527.85 279.197 1529.33 280.539 Q1530.84 281.859 1533.41 281.859 Q1536.95 281.859 1539.08 279.359 Q1541.23 276.836 1541.23 272.669 L1541.23 271.72 L1537 271.72 M1545.49 269.961 L1545.49 284.752 L1541.23 284.752 L1541.23 280.817 Q1539.77 283.178 1537.6 284.312 Q1535.42 285.423 1532.27 285.423 Q1528.29 285.423 1525.93 283.201 Q1523.59 280.956 1523.59 277.206 Q1523.59 272.831 1526.51 270.609 Q1529.45 268.386 1535.26 268.386 L1541.23 268.386 L1541.23 267.97 Q1541.23 265.03 1539.29 263.433 Q1537.37 261.812 1533.87 261.812 Q1531.65 261.812 1529.54 262.345 Q1527.44 262.877 1525.49 263.942 L1525.49 260.007 Q1527.83 259.104 1530.03 258.664 Q1532.23 258.201 1534.31 258.201 Q1539.94 258.201 1542.71 261.118 Q1545.49 264.035 1545.49 269.961 Z\" fill=\"#000000\" fill-rule=\"evenodd\" fill-opacity=\"1\" /><path clip-path=\"url(#clip470)\" d=\"M 0 0 M1549.96 248.734 L1554.22 248.734 L1554.22 284.752 L1549.96 284.752 L1549.96 248.734 Z\" fill=\"#000000\" fill-rule=\"evenodd\" fill-opacity=\"1\" /><path clip-path=\"url(#clip470)\" d=\"M 0 0 M1562.81 280.863 L1562.81 294.613 L1558.52 294.613 L1558.52 258.826 L1562.81 258.826 L1562.81 262.762 Q1564.15 260.447 1566.19 259.336 Q1568.25 258.201 1571.09 258.201 Q1575.81 258.201 1578.75 261.951 Q1581.72 265.701 1581.72 271.812 Q1581.72 277.923 1578.75 281.673 Q1575.81 285.423 1571.09 285.423 Q1568.25 285.423 1566.19 284.312 Q1564.15 283.178 1562.81 280.863 M1577.3 271.812 Q1577.3 267.113 1575.35 264.451 Q1573.43 261.766 1570.05 261.766 Q1566.67 261.766 1564.73 264.451 Q1562.81 267.113 1562.81 271.812 Q1562.81 276.511 1564.73 279.197 Q1566.67 281.859 1570.05 281.859 Q1573.43 281.859 1575.35 279.197 Q1577.3 276.511 1577.3 271.812 Z\" fill=\"#000000\" fill-rule=\"evenodd\" fill-opacity=\"1\" /><path clip-path=\"url(#clip470)\" d=\"M 0 0 M1607.74 269.104 L1607.74 284.752 L1603.48 284.752 L1603.48 269.243 Q1603.48 265.562 1602.04 263.734 Q1600.61 261.905 1597.74 261.905 Q1594.29 261.905 1592.3 264.104 Q1590.31 266.303 1590.31 270.099 L1590.31 284.752 L1586.02 284.752 L1586.02 248.734 L1590.31 248.734 L1590.31 262.854 Q1591.83 260.516 1593.89 259.359 Q1595.98 258.201 1598.69 258.201 Q1603.15 258.201 1605.44 260.979 Q1607.74 263.734 1607.74 269.104 Z\" fill=\"#000000\" fill-rule=\"evenodd\" fill-opacity=\"1\" /><path clip-path=\"url(#clip470)\" d=\"M 0 0 M1623.99 271.72 Q1618.82 271.72 1616.83 272.9 Q1614.84 274.081 1614.84 276.928 Q1614.84 279.197 1616.32 280.539 Q1617.83 281.859 1620.4 281.859 Q1623.94 281.859 1626.07 279.359 Q1628.22 276.836 1628.22 272.669 L1628.22 271.72 L1623.99 271.72 M1632.48 269.961 L1632.48 284.752 L1628.22 284.752 L1628.22 280.817 Q1626.76 283.178 1624.59 284.312 Q1622.41 285.423 1619.26 285.423 Q1615.28 285.423 1612.92 283.201 Q1610.58 280.956 1610.58 277.206 Q1610.58 272.831 1613.5 270.609 Q1616.44 268.386 1622.25 268.386 L1628.22 268.386 L1628.22 267.97 Q1628.22 265.03 1626.28 263.433 Q1624.36 261.812 1620.86 261.812 Q1618.64 261.812 1616.53 262.345 Q1614.43 262.877 1612.48 263.942 L1612.48 260.007 Q1614.82 259.104 1617.02 258.664 Q1619.22 258.201 1621.3 258.201 Q1626.93 258.201 1629.7 261.118 Q1632.48 264.035 1632.48 269.961 Z\" fill=\"#000000\" fill-rule=\"evenodd\" fill-opacity=\"1\" /><path clip-path=\"url(#clip470)\" d=\"M 0 0 M1652.57 263.224 L1682.25 263.224 L1682.25 267.113 L1652.57 267.113 L1652.57 263.224 M1652.57 272.669 L1682.25 272.669 L1682.25 276.604 L1652.57 276.604 L1652.57 272.669 Z\" fill=\"#000000\" fill-rule=\"evenodd\" fill-opacity=\"1\" /><path clip-path=\"url(#clip470)\" d=\"M 0 0 M1702.43 250.192 L1720.79 250.192 L1720.79 254.127 L1706.72 254.127 L1706.72 262.599 Q1707.74 262.252 1708.75 262.09 Q1709.77 261.905 1710.79 261.905 Q1716.58 261.905 1719.96 265.076 Q1723.34 268.248 1723.34 273.664 Q1723.34 279.243 1719.87 282.345 Q1716.39 285.423 1710.07 285.423 Q1707.9 285.423 1705.63 285.053 Q1703.38 284.683 1700.98 283.942 L1700.98 279.243 Q1703.06 280.377 1705.28 280.933 Q1707.5 281.488 1709.98 281.488 Q1713.99 281.488 1716.32 279.382 Q1718.66 277.275 1718.66 273.664 Q1718.66 270.053 1716.32 267.947 Q1713.99 265.84 1709.98 265.84 Q1708.11 265.84 1706.23 266.257 Q1704.38 266.674 1702.43 267.553 L1702.43 250.192 Z\" fill=\"#000000\" fill-rule=\"evenodd\" fill-opacity=\"1\" /><path clip-path=\"url(#clip470)\" d=\"M 0 0 M1728.41 278.873 L1733.29 278.873 L1733.29 284.752 L1728.41 284.752 L1728.41 278.873 Z\" fill=\"#000000\" fill-rule=\"evenodd\" fill-opacity=\"1\" /><path clip-path=\"url(#clip470)\" d=\"M 0 0 M1748.36 253.271 Q1744.75 253.271 1742.92 256.836 Q1741.12 260.377 1741.12 267.507 Q1741.12 274.613 1742.92 278.178 Q1744.75 281.72 1748.36 281.72 Q1751.99 281.72 1753.8 278.178 Q1755.63 274.613 1755.63 267.507 Q1755.63 260.377 1753.8 256.836 Q1751.99 253.271 1748.36 253.271 M1748.36 249.567 Q1754.17 249.567 1757.23 254.174 Q1760.3 258.757 1760.3 267.507 Q1760.3 276.234 1757.23 280.84 Q1754.17 285.423 1748.36 285.423 Q1742.55 285.423 1739.47 280.84 Q1736.42 276.234 1736.42 267.507 Q1736.42 258.757 1739.47 254.174 Q1742.55 249.567 1748.36 249.567 Z\" fill=\"#000000\" fill-rule=\"evenodd\" fill-opacity=\"1\" /><path clip-path=\"url(#clip470)\" d=\"M 0 0 M1775.37 253.271 Q1771.76 253.271 1769.93 256.836 Q1768.13 260.377 1768.13 267.507 Q1768.13 274.613 1769.93 278.178 Q1771.76 281.72 1775.37 281.72 Q1779.01 281.72 1780.81 278.178 Q1782.64 274.613 1782.64 267.507 Q1782.64 260.377 1780.81 256.836 Q1779.01 253.271 1775.37 253.271 M1775.37 249.567 Q1781.18 249.567 1784.24 254.174 Q1787.32 258.757 1787.32 267.507 Q1787.32 276.234 1784.24 280.84 Q1781.18 285.423 1775.37 285.423 Q1769.56 285.423 1766.49 280.84 Q1763.43 276.234 1763.43 267.507 Q1763.43 258.757 1766.49 254.174 Q1769.56 249.567 1775.37 249.567 Z\" fill=\"#000000\" fill-rule=\"evenodd\" fill-opacity=\"1\" /><path clip-path=\"url(#clip470)\" d=\"M 0 0 M1802.39 253.271 Q1798.78 253.271 1796.95 256.836 Q1795.14 260.377 1795.14 267.507 Q1795.14 274.613 1796.95 278.178 Q1798.78 281.72 1802.39 281.72 Q1806.02 281.72 1807.83 278.178 Q1809.66 274.613 1809.66 267.507 Q1809.66 260.377 1807.83 256.836 Q1806.02 253.271 1802.39 253.271 M1802.39 249.567 Q1808.2 249.567 1811.25 254.174 Q1814.33 258.757 1814.33 267.507 Q1814.33 276.234 1811.25 280.84 Q1808.2 285.423 1802.39 285.423 Q1796.58 285.423 1793.5 280.84 Q1790.44 276.234 1790.44 267.507 Q1790.44 258.757 1793.5 254.174 Q1796.58 249.567 1802.39 249.567 Z\" fill=\"#000000\" fill-rule=\"evenodd\" fill-opacity=\"1\" /><path clip-path=\"url(#clip470)\" d=\"M 0 0 M1829.4 253.271 Q1825.79 253.271 1823.96 256.836 Q1822.16 260.377 1822.16 267.507 Q1822.16 274.613 1823.96 278.178 Q1825.79 281.72 1829.4 281.72 Q1833.04 281.72 1834.84 278.178 Q1836.67 274.613 1836.67 267.507 Q1836.67 260.377 1834.84 256.836 Q1833.04 253.271 1829.4 253.271 M1829.4 249.567 Q1835.21 249.567 1838.27 254.174 Q1841.35 258.757 1841.35 267.507 Q1841.35 276.234 1838.27 280.84 Q1835.21 285.423 1829.4 285.423 Q1823.59 285.423 1820.51 280.84 Q1817.46 276.234 1817.46 267.507 Q1817.46 258.757 1820.51 254.174 Q1823.59 249.567 1829.4 249.567 Z\" fill=\"#000000\" fill-rule=\"evenodd\" fill-opacity=\"1\" /><path clip-path=\"url(#clip470)\" d=\"M 0 0 M1856.42 253.271 Q1852.8 253.271 1850.98 256.836 Q1849.17 260.377 1849.17 267.507 Q1849.17 274.613 1850.98 278.178 Q1852.8 281.72 1856.42 281.72 Q1860.05 281.72 1861.86 278.178 Q1863.68 274.613 1863.68 267.507 Q1863.68 260.377 1861.86 256.836 Q1860.05 253.271 1856.42 253.271 M1856.42 249.567 Q1862.23 249.567 1865.28 254.174 Q1868.36 258.757 1868.36 267.507 Q1868.36 276.234 1865.28 280.84 Q1862.23 285.423 1856.42 285.423 Q1850.61 285.423 1847.53 280.84 Q1844.47 276.234 1844.47 267.507 Q1844.47 258.757 1847.53 254.174 Q1850.61 249.567 1856.42 249.567 Z\" fill=\"#000000\" fill-rule=\"evenodd\" fill-opacity=\"1\" /><path clip-path=\"url(#clip470)\" d=\"M 0 0 M1883.43 253.271 Q1879.82 253.271 1877.99 256.836 Q1876.18 260.377 1876.18 267.507 Q1876.18 274.613 1877.99 278.178 Q1879.82 281.72 1883.43 281.72 Q1887.06 281.72 1888.87 278.178 Q1890.7 274.613 1890.7 267.507 Q1890.7 260.377 1888.87 256.836 Q1887.06 253.271 1883.43 253.271 M1883.43 249.567 Q1889.24 249.567 1892.29 254.174 Q1895.37 258.757 1895.37 267.507 Q1895.37 276.234 1892.29 280.84 Q1889.24 285.423 1883.43 285.423 Q1877.62 285.423 1874.54 280.84 Q1871.48 276.234 1871.48 267.507 Q1871.48 258.757 1874.54 254.174 Q1877.62 249.567 1883.43 249.567 Z\" fill=\"#000000\" fill-rule=\"evenodd\" fill-opacity=\"1\" /><path clip-path=\"url(#clip470)\" d=\"M 0 0 M1910.44 253.271 Q1906.83 253.271 1905 256.836 Q1903.2 260.377 1903.2 267.507 Q1903.2 274.613 1905 278.178 Q1906.83 281.72 1910.44 281.72 Q1914.08 281.72 1915.88 278.178 Q1917.71 274.613 1917.71 267.507 Q1917.71 260.377 1915.88 256.836 Q1914.08 253.271 1910.44 253.271 M1910.44 249.567 Q1916.25 249.567 1919.31 254.174 Q1922.39 258.757 1922.39 267.507 Q1922.39 276.234 1919.31 280.84 Q1916.25 285.423 1910.44 285.423 Q1904.63 285.423 1901.55 280.84 Q1898.5 276.234 1898.5 267.507 Q1898.5 258.757 1901.55 254.174 Q1904.63 249.567 1910.44 249.567 Z\" fill=\"#000000\" fill-rule=\"evenodd\" fill-opacity=\"1\" /><path clip-path=\"url(#clip470)\" d=\"M 0 0 M1937.46 253.271 Q1933.85 253.271 1932.02 256.836 Q1930.21 260.377 1930.21 267.507 Q1930.21 274.613 1932.02 278.178 Q1933.85 281.72 1937.46 281.72 Q1941.09 281.72 1942.9 278.178 Q1944.73 274.613 1944.73 267.507 Q1944.73 260.377 1942.9 256.836 Q1941.09 253.271 1937.46 253.271 M1937.46 249.567 Q1943.27 249.567 1946.32 254.174 Q1949.4 258.757 1949.4 267.507 Q1949.4 276.234 1946.32 280.84 Q1943.27 285.423 1937.46 285.423 Q1931.65 285.423 1928.57 280.84 Q1925.51 276.234 1925.51 267.507 Q1925.51 258.757 1928.57 254.174 Q1931.65 249.567 1937.46 249.567 Z\" fill=\"#000000\" fill-rule=\"evenodd\" fill-opacity=\"1\" /><path clip-path=\"url(#clip470)\" d=\"M 0 0 M1964.47 253.271 Q1960.86 253.271 1959.03 256.836 Q1957.22 260.377 1957.22 267.507 Q1957.22 274.613 1959.03 278.178 Q1960.86 281.72 1964.47 281.72 Q1968.1 281.72 1969.91 278.178 Q1971.74 274.613 1971.74 267.507 Q1971.74 260.377 1969.91 256.836 Q1968.1 253.271 1964.47 253.271 M1964.47 249.567 Q1970.28 249.567 1973.34 254.174 Q1976.41 258.757 1976.41 267.507 Q1976.41 276.234 1973.34 280.84 Q1970.28 285.423 1964.47 285.423 Q1958.66 285.423 1955.58 280.84 Q1952.53 276.234 1952.53 267.507 Q1952.53 258.757 1955.58 254.174 Q1958.66 249.567 1964.47 249.567 Z\" fill=\"#000000\" fill-rule=\"evenodd\" fill-opacity=\"1\" /><path clip-path=\"url(#clip470)\" d=\"M 0 0 M1991.48 253.271 Q1987.87 253.271 1986.04 256.836 Q1984.24 260.377 1984.24 267.507 Q1984.24 274.613 1986.04 278.178 Q1987.87 281.72 1991.48 281.72 Q1995.12 281.72 1996.92 278.178 Q1998.75 274.613 1998.75 267.507 Q1998.75 260.377 1996.92 256.836 Q1995.12 253.271 1991.48 253.271 M1991.48 249.567 Q1997.29 249.567 2000.35 254.174 Q2003.43 258.757 2003.43 267.507 Q2003.43 276.234 2000.35 280.84 Q1997.29 285.423 1991.48 285.423 Q1985.67 285.423 1982.6 280.84 Q1979.54 276.234 1979.54 267.507 Q1979.54 258.757 1982.6 254.174 Q1985.67 249.567 1991.48 249.567 Z\" fill=\"#000000\" fill-rule=\"evenodd\" fill-opacity=\"1\" /><path clip-path=\"url(#clip470)\" d=\"M 0 0 M2018.5 253.271 Q2014.89 253.271 2013.06 256.836 Q2011.25 260.377 2011.25 267.507 Q2011.25 274.613 2013.06 278.178 Q2014.89 281.72 2018.5 281.72 Q2022.13 281.72 2023.94 278.178 Q2025.77 274.613 2025.77 267.507 Q2025.77 260.377 2023.94 256.836 Q2022.13 253.271 2018.5 253.271 M2018.5 249.567 Q2024.31 249.567 2027.36 254.174 Q2030.44 258.757 2030.44 267.507 Q2030.44 276.234 2027.36 280.84 Q2024.31 285.423 2018.5 285.423 Q2012.69 285.423 2009.61 280.84 Q2006.55 276.234 2006.55 267.507 Q2006.55 258.757 2009.61 254.174 Q2012.69 249.567 2018.5 249.567 Z\" fill=\"#000000\" fill-rule=\"evenodd\" fill-opacity=\"1\" /><path clip-path=\"url(#clip470)\" d=\"M 0 0 M2045.51 253.271 Q2041.9 253.271 2040.07 256.836 Q2038.27 260.377 2038.27 267.507 Q2038.27 274.613 2040.07 278.178 Q2041.9 281.72 2045.51 281.72 Q2049.15 281.72 2050.95 278.178 Q2052.78 274.613 2052.78 267.507 Q2052.78 260.377 2050.95 256.836 Q2049.15 253.271 2045.51 253.271 M2045.51 249.567 Q2051.32 249.567 2054.38 254.174 Q2057.46 258.757 2057.46 267.507 Q2057.46 276.234 2054.38 280.84 Q2051.32 285.423 2045.51 285.423 Q2039.7 285.423 2036.62 280.84 Q2033.57 276.234 2033.57 267.507 Q2033.57 258.757 2036.62 254.174 Q2039.7 249.567 2045.51 249.567 Z\" fill=\"#000000\" fill-rule=\"evenodd\" fill-opacity=\"1\" /><path clip-path=\"url(#clip470)\" d=\"M 0 0 M2072.53 253.271 Q2068.91 253.271 2067.09 256.836 Q2065.28 260.377 2065.28 267.507 Q2065.28 274.613 2067.09 278.178 Q2068.91 281.72 2072.53 281.72 Q2076.16 281.72 2077.97 278.178 Q2079.79 274.613 2079.79 267.507 Q2079.79 260.377 2077.97 256.836 Q2076.16 253.271 2072.53 253.271 M2072.53 249.567 Q2078.34 249.567 2081.39 254.174 Q2084.47 258.757 2084.47 267.507 Q2084.47 276.234 2081.39 280.84 Q2078.34 285.423 2072.53 285.423 Q2066.72 285.423 2063.64 280.84 Q2060.58 276.234 2060.58 267.507 Q2060.58 258.757 2063.64 254.174 Q2066.72 249.567 2072.53 249.567 Z\" fill=\"#000000\" fill-rule=\"evenodd\" fill-opacity=\"1\" /><path clip-path=\"url(#clip470)\" d=\"M 0 0 M2099.54 253.271 Q2095.93 253.271 2094.1 256.836 Q2092.29 260.377 2092.29 267.507 Q2092.29 274.613 2094.1 278.178 Q2095.93 281.72 2099.54 281.72 Q2103.17 281.72 2104.98 278.178 Q2106.81 274.613 2106.81 267.507 Q2106.81 260.377 2104.98 256.836 Q2103.17 253.271 2099.54 253.271 M2099.54 249.567 Q2105.35 249.567 2108.4 254.174 Q2111.48 258.757 2111.48 267.507 Q2111.48 276.234 2108.4 280.84 Q2105.35 285.423 2099.54 285.423 Q2093.73 285.423 2090.65 280.84 Q2087.59 276.234 2087.59 267.507 Q2087.59 258.757 2090.65 254.174 Q2093.73 249.567 2099.54 249.567 Z\" fill=\"#000000\" fill-rule=\"evenodd\" fill-opacity=\"1\" /><path clip-path=\"url(#clip470)\" d=\"M 0 0 M2120.58 280.817 L2136.9 280.817 L2136.9 284.752 L2114.96 284.752 L2114.96 280.817 Q2117.62 278.062 2122.2 273.433 Q2126.81 268.78 2127.99 267.437 Q2130.23 264.914 2131.11 263.178 Q2132.02 261.419 2132.02 259.729 Q2132.02 256.974 2130.07 255.238 Q2128.15 253.502 2125.05 253.502 Q2122.85 253.502 2120.4 254.266 Q2117.96 255.03 2115.19 256.581 L2115.19 251.859 Q2118.01 250.725 2120.46 250.146 Q2122.92 249.567 2124.96 249.567 Q2130.33 249.567 2133.52 252.252 Q2136.71 254.937 2136.71 259.428 Q2136.71 261.558 2135.9 263.479 Q2135.12 265.377 2133.01 267.97 Q2132.43 268.641 2129.33 271.859 Q2126.23 275.053 2120.58 280.817 Z\" fill=\"#000000\" fill-rule=\"evenodd\" fill-opacity=\"1\" /><path clip-path=\"url(#clip470)\" d=\"M 0 0 M2154.82 254.266 L2143.01 272.715 L2154.82 272.715 L2154.82 254.266 M2153.59 250.192 L2159.47 250.192 L2159.47 272.715 L2164.4 272.715 L2164.4 276.604 L2159.47 276.604 L2159.47 284.752 L2154.82 284.752 L2154.82 276.604 L2139.21 276.604 L2139.21 272.09 L2153.59 250.192 Z\" fill=\"#000000\" fill-rule=\"evenodd\" fill-opacity=\"1\" /><path clip-path=\"url(#clip470)\" d=\"M 0 0 M2191.04 270.724 L2191.04 272.808 L2171.46 272.808 Q2171.74 277.206 2174.1 279.521 Q2176.48 281.812 2180.72 281.812 Q2183.17 281.812 2185.46 281.21 Q2187.78 280.609 2190.05 279.405 L2190.05 283.433 Q2187.76 284.405 2185.35 284.914 Q2182.94 285.423 2180.46 285.423 Q2174.26 285.423 2170.63 281.812 Q2167.02 278.201 2167.02 272.044 Q2167.02 265.678 2170.44 261.951 Q2173.89 258.201 2179.72 258.201 Q2184.96 258.201 2187.99 261.581 Q2191.04 264.937 2191.04 270.724 M2186.78 269.474 Q2186.74 265.979 2184.82 263.896 Q2182.92 261.812 2179.77 261.812 Q2176.21 261.812 2174.05 263.826 Q2171.92 265.84 2171.6 269.498 L2186.78 269.474 Z\" fill=\"#000000\" fill-rule=\"evenodd\" fill-opacity=\"1\" /><path clip-path=\"url(#clip470)\" d=\"M 0 0 M2193.36 269.868 L2205.83 269.868 L2205.83 273.664 L2193.36 273.664 L2193.36 269.868 Z\" fill=\"#000000\" fill-rule=\"evenodd\" fill-opacity=\"1\" /><path clip-path=\"url(#clip470)\" d=\"M 0 0 M2220.9 268.34 Q2217.57 268.34 2215.65 270.123 Q2213.75 271.905 2213.75 275.03 Q2213.75 278.155 2215.65 279.937 Q2217.57 281.72 2220.9 281.72 Q2224.24 281.72 2226.16 279.937 Q2228.08 278.132 2228.08 275.03 Q2228.08 271.905 2226.16 270.123 Q2224.26 268.34 2220.9 268.34 M2216.23 266.349 Q2213.22 265.609 2211.53 263.549 Q2209.86 261.488 2209.86 258.525 Q2209.86 254.382 2212.8 251.975 Q2215.77 249.567 2220.9 249.567 Q2226.07 249.567 2229.01 251.975 Q2231.95 254.382 2231.95 258.525 Q2231.95 261.488 2230.26 263.549 Q2228.59 265.609 2225.6 266.349 Q2228.98 267.136 2230.86 269.428 Q2232.76 271.72 2232.76 275.03 Q2232.76 280.053 2229.68 282.738 Q2226.62 285.423 2220.9 285.423 Q2215.19 285.423 2212.11 282.738 Q2209.05 280.053 2209.05 275.03 Q2209.05 271.72 2210.95 269.428 Q2212.85 267.136 2216.23 266.349 M2214.52 258.965 Q2214.52 261.65 2216.18 263.155 Q2217.87 264.66 2220.9 264.66 Q2223.91 264.66 2225.6 263.155 Q2227.32 261.65 2227.32 258.965 Q2227.32 256.28 2225.6 254.775 Q2223.91 253.271 2220.9 253.271 Q2217.87 253.271 2216.18 254.775 Q2214.52 256.28 2214.52 258.965 Z\" fill=\"#000000\" fill-rule=\"evenodd\" fill-opacity=\"1\" /></svg>\n"
      ]
     },
     "execution_count": 9,
     "metadata": {},
     "output_type": "execute_result"
    }
   ],
   "source": [
    "plot(γs, power_effectsize, title = \"Multinomial Power\", label = \"maf = $maf_causal_snp, alpha = $α\", lw = 3) # plot power\n",
    "xlabel!(\"Detectable Effect Size\")"
   ]
  },
  {
   "cell_type": "markdown",
   "metadata": {},
   "source": [
    "### `Try it Yourself Exercises: `\n",
    "\n",
    "With the remaining time we encourage you to play with the simulation models above. \n",
    "\n",
    "(1) If you change the significance level, α, what would happen to the plot of the power? How would the plot change with a smaller value of α ? \n",
    "\n",
    "(2) What if you change the sample size to be smaller than `n = 5000`? How does the power look as a function of the effect size when `n = 2500`? \n",
    "\n",
    "(3) What if we changed the minor allele frequency of the SNP of interest from `maf = 0.2` to say `maf = 0.3` ?"
   ]
  },
  {
   "cell_type": "markdown",
   "metadata": {},
   "source": [
    "## Citations: \n",
    "\n",
    "[1] Lange K, Papp JC, Sinsheimer JS, Sripracha R, Zhou H, Sobel EM (2013) Mendel: The Swiss army knife of genetic analysis programs. Bioinformatics 29:1568-1570.`\n",
    "\n",
    "[2] OPENMENDEL: a cooperative programming project for statistical genetics.\n",
    "[Hum Genet. 2019 Mar 26. doi: 10.1007/s00439-019-02001-z](https://www.ncbi.nlm.nih.gov/pubmed/?term=OPENMENDEL).\n",
    "\n",
    "[3] German, CA, Sinsheimer, JS, Klimentidis, YC, Zhou, H, Zhou, JJ. Ordered multinomial regression for genetic association analysis of ordinal phenotypes at Biobank scale. Genetic Epidemiology. 2019; 1– 13. https://doi.org/10.1002/gepi.22276\n",
    "\n",
    "[4] Lange K, Boehnke M (1983) Extensions to pedigree analysis. IV. Covariance component models for multivariate traits. Amer J Med Genet 14:513:524\n",
    "\n",
    "[5] Ji, SS, Lange, K, Sinsheimer, JS, Zhou, JJ, Zhou, H, Sobel, E. Modern Simulation Utilities for Genetic Analysis. BMC Bioinformatics. 2020; BINF-D-20-00690"
   ]
  }
 ],
 "metadata": {
  "@webio": {
   "lastCommId": null,
   "lastKernelId": null
  },
  "kernelspec": {
   "display_name": "Julia 1.5.2",
   "language": "julia",
   "name": "julia-1.5"
  },
  "language_info": {
   "file_extension": ".jl",
   "mimetype": "application/julia",
   "name": "julia",
   "version": "1.5.2"
  },
  "toc": {
   "base_numbering": 1,
   "nav_menu": {},
   "number_sections": true,
   "sideBar": true,
   "skip_h1_title": false,
   "title_cell": "Table of Contents",
   "title_sidebar": "Contents",
   "toc_cell": false,
   "toc_position": {},
   "toc_section_display": true,
   "toc_window_display": false
  }
 },
 "nbformat": 4,
 "nbformat_minor": 2
}
