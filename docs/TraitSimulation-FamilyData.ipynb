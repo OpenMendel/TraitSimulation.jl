{
 "cells": [
  {
   "cell_type": "markdown",
   "metadata": {},
   "source": [
    "# TraitSimulation: Simulation Utilities for Family Data\n",
    "\n",
    "Authors: Sarah Ji, Janet Sinsheimer, Hua Zhou, Ken Lange, Eric Sobel"
   ]
  },
  {
   "cell_type": "markdown",
   "metadata": {},
   "source": [
    "In this notebook, we show how to simulate trait data so that the related individuals have correlated phenotype values even after we account for the effect of a snp, a combination of snps or other fixed effects. We simulate data under a linear mixed model so that we can model residual dependency among individuals. \n",
    "\n",
    "We use a subset of the UKBiobank data to demonstrate how to simulate phenotypic traits after controlling for family structure under different scenarios. Users who are interested in the simulation of traits for independent samples under the Generalized Linear Model (GLM) framework can refer to the [example notebook: prototyping MendelIHT](https://github.com/OpenMendel/TraitSimulation.jl/blob/master/docs/TraitSimulation-TestingMendelIHT.ipynb). \n",
    "\n",
    "\n",
    "In addition to VCM's we also show how to simulate traits from the exponential family of distributions, after controlling for family structure under the Generalized Linear Mixed Model (GLMM) framework. To illustrate an example code pipeline for downstream analysis,  we include Jupyter notebooks passing the simulation results to analysis packages, [ordinal model](https://github.com/OpenMendel/TraitSimulation.jl/blob/master/docs/Example_Ordinal_Multinomial_Power.ipynb) and [variance component model](https://github.com/OpenMendel/TraitSimulation.jl/blob/master/docs/Example_VCM_Power.ipynb) to calculate study power.\n",
    "\n",
    "\n",
    "We let the user specify the effect sizes for non-genetic covariates, and we provide the user with an option to simulate their own effect sizes, given a known distribution. In both models $\\mu$ is the mean, $x_i$ is the allele count for snp $i$, GRM is kinship matrix as derived from the genetic relationship matrix (GRM) across only the common snps with minor allele frequency $\\ge 0.05$, and I is the identity matrix. \n",
    "\n",
    "At the end of each example, we demonstrate how to write the results of each simulation to a file on the users own machine. The notebook is organized as follows: <br>\n",
    "\n",
    "\n",
    "**Example 1: User specified mixed effects model with Interaction in the Fixed Effects**\n",
    "\n",
    "\n",
    "**Example 2: Rare Variant Model with effect sizes generated off minor allele frequency**\n",
    "\n",
    "\n",
    "In this example we first simulate rare SNP's uniformly from a vector of specified minor allele frequencies. We choose the potential minor allele frequencies to be greater than 0.005 but less than 0.03, then we simulate traits with the 20 rare SNP's as fixed effects  for both univariate and bivariate models.\n",
    "\n",
    "$$\n",
    "Y \\sim \\text{Normal}(\\mathbf{\\mu}_{n \\times 1} = X\\beta, \\Sigma_{n \\times n} = \\sigma_A \\times 2\\hat{\\Phi}_{GRM} + \\sigma_E \\times I_n)\n",
    "$$\n",
    "\n",
    "**Example 3: GLMM Trait simulation - Simulating count data in families**\n",
    "\n",
    "$$\n",
    "Y \\sim \\text{Poisson}(\\mathbf{\\mu}_{n \\times 1} = g^{-1}(X\\beta), \\Sigma_{n \\times n} = \\sigma_A \\times 2\\hat{\\Phi}_{GRM} + \\sigma_E \\times I_n)\n",
    "$$"
   ]
  },
  {
   "cell_type": "markdown",
   "metadata": {},
   "source": [
    "### Double check that you are using Julia version 1.0 or higher by checking the machine information"
   ]
  },
  {
   "cell_type": "code",
   "execution_count": 259,
   "metadata": {},
   "outputs": [
    {
     "name": "stdout",
     "output_type": "stream",
     "text": [
      "Julia Version 1.3.0\n",
      "Commit 46ce4d7933 (2019-11-26 06:09 UTC)\n",
      "Platform Info:\n",
      "  OS: Linux (x86_64-pc-linux-gnu)\n",
      "  CPU: Intel(R) Core(TM) i9-9920X CPU @ 3.50GHz\n",
      "  WORD_SIZE: 64\n",
      "  LIBM: libopenlibm\n",
      "  LLVM: libLLVM-6.0.1 (ORCJIT, skylake)\n"
     ]
    }
   ],
   "source": [
    "using Random, SnpArrays, TraitSimulation, VarianceComponentModels, StatsBase, DataFrames\n",
    "using LinearAlgebra, Distributions, CSV, Plots, StatsFuns, GLM\n",
    "Random.seed!(1234);\n",
    "versioninfo()"
   ]
  },
  {
   "cell_type": "code",
   "execution_count": 192,
   "metadata": {
    "scrolled": true
   },
   "outputs": [],
   "source": [
    "filename = \"hypertension_L4_full\"\n",
    "sample_snp_data = SnpData(filename);"
   ]
  },
  {
   "cell_type": "markdown",
   "metadata": {},
   "source": [
    "Information on the individual can be found in the .fam file. We retrieve the `familyid` (Pedigree ID) along with the `personid` for each the 3754 individuals in the sample. "
   ]
  },
  {
   "cell_type": "code",
   "execution_count": 193,
   "metadata": {},
   "outputs": [
    {
     "data": {
      "text/plain": [
       "3754×470228 SnpArray:\n",
       " 0x03  0x03  0x03  0x02  0x03  0x03  …  0x00  0x00  0x00  0x00  0x00  0x00\n",
       " 0x02  0x03  0x02  0x03  0x03  0x02     0x00  0x00  0x00  0x00  0x00  0x00\n",
       " 0x03  0x03  0x03  0x03  0x03  0x03     0x00  0x00  0x00  0x00  0x00  0x00\n",
       " 0x02  0x02  0x03  0x03  0x03  0x03     0x00  0x00  0x00  0x00  0x00  0x00\n",
       " 0x03  0x03  0x03  0x02  0x03  0x03     0x00  0x00  0x00  0x00  0x00  0x00\n",
       " 0x02  0x03  0x02  0x03  0x03  0x02  …  0x00  0x00  0x00  0x00  0x00  0x00\n",
       " 0x03  0x03  0x03  0x03  0x03  0x03     0x00  0x00  0x00  0x00  0x00  0x00\n",
       " 0x02  0x03  0x02  0x03  0x03  0x02     0x00  0x00  0x00  0x00  0x00  0x00\n",
       " 0x02  0x03  0x02  0x03  0x03  0x02     0x00  0x00  0x00  0x00  0x00  0x00\n",
       " 0x03  0x03  0x03  0x03  0x03  0x03     0x00  0x00  0x00  0x00  0x00  0x00\n",
       " 0x03  0x03  0x03  0x03  0x03  0x03  …  0x00  0x00  0x00  0x00  0x00  0x00\n",
       " 0x03  0x03  0x03  0x03  0x03  0x03     0x00  0x00  0x00  0x00  0x00  0x00\n",
       " 0x02  0x03  0x02  0x03  0x03  0x02     0x00  0x00  0x00  0x00  0x00  0x00\n",
       "    ⋮                             ⋮  ⋱                       ⋮            \n",
       " 0x03  0x03  0x03  0x03  0x03  0x03     0x00  0x00  0x00  0x00  0x00  0x00\n",
       " 0x03  0x03  0x03  0x03  0x03  0x03     0x00  0x00  0x00  0x00  0x00  0x00\n",
       " 0x03  0x03  0x03  0x02  0x03  0x03     0x00  0x00  0x00  0x00  0x00  0x00\n",
       " 0x03  0x03  0x03  0x03  0x03  0x03  …  0x00  0x00  0x00  0x00  0x00  0x00\n",
       " 0x02  0x02  0x03  0x02  0x03  0x03     0x00  0x00  0x00  0x00  0x00  0x00\n",
       " 0x03  0x03  0x03  0x03  0x03  0x03     0x00  0x00  0x00  0x00  0x00  0x00\n",
       " 0x03  0x03  0x03  0x03  0x03  0x03     0x00  0x00  0x00  0x00  0x00  0x00\n",
       " 0x02  0x03  0x02  0x03  0x03  0x02     0x00  0x00  0x00  0x00  0x00  0x00\n",
       " 0x03  0x03  0x03  0x03  0x03  0x03  …  0x00  0x00  0x00  0x00  0x00  0x00\n",
       " 0x03  0x03  0x03  0x02  0x03  0x03     0x00  0x00  0x00  0x00  0x00  0x00\n",
       " 0x02  0x03  0x02  0x03  0x03  0x02     0x00  0x00  0x00  0x00  0x00  0x00\n",
       " 0x03  0x03  0x03  0x02  0x03  0x03     0x00  0x00  0x00  0x00  0x00  0x00"
      ]
     },
     "execution_count": 193,
     "metadata": {},
     "output_type": "execute_result"
    }
   ],
   "source": [
    "full_snps = SnpArray(\"hypertension_L4_full.bed\", 3754)"
   ]
  },
  {
   "cell_type": "code",
   "execution_count": 14,
   "metadata": {},
   "outputs": [
    {
     "data": {
      "text/plain": [
       "(3754, 470228)"
      ]
     },
     "execution_count": 14,
     "metadata": {},
     "output_type": "execute_result"
    }
   ],
   "source": [
    "# rows are people; columns are SNPs\n",
    "people, snps = size(full_snps)"
   ]
  },
  {
   "cell_type": "markdown",
   "metadata": {},
   "source": [
    "We subset the SNP names into a vector called `snpid`"
   ]
  },
  {
   "cell_type": "code",
   "execution_count": 7,
   "metadata": {},
   "outputs": [],
   "source": [
    "bimfile = sample_snp_data.snp_info # store the snp_info with the snp names\n",
    "snpid  = bimfile[!, :snpid] # store the snp names in the snpid vector;"
   ]
  },
  {
   "cell_type": "markdown",
   "metadata": {},
   "source": [
    "# Example 1: User Specified Model\n",
    "\n",
    "Say, for instance, we know which SNP's we want to have an effect on the Trait. \n",
    "\n",
    "To save computing time and memory, we can simply call them by their names in `snpid`, and subset only those specified SNP's for the analysis.\n",
    "\n",
    "In this example, we choose three snp's on three different chromosomes to prevent Linkage disequilibrium (LD). Say I know the associated SNP's are located on the tenth, eleventh and twenty first respective chromosomes to have an effect on the trait. We include the three SNP's and the interaction of the SNP on chromosome 11 and 21.\n",
    "\n",
    "We first get the indices of the specified snps to subset the dataset. The snps of interest in this example are in the 10th, 5348671th and 8348112th respective columns of the dataset.\n",
    "\n",
    "\n",
    "Note: While prior knowledge of which SNP's have an effect on the trait can be helpful, it is important to consider the proper assumptions of the SNP's before performing any analyses. In particular, we will later check to make sure that all the minor allele frequencies are large enough so that a fixed effect model makes sense, and the SNP's are not monomorphic. "
   ]
  },
  {
   "cell_type": "code",
   "execution_count": 42,
   "metadata": {},
   "outputs": [],
   "source": [
    "specified_indices = findall(x -> (x == \"rs11240779\" || x == \"rs13257831\"  || x == \"rs10058946\"), snpid)\n",
    "# Use can change this SNP if you would like to assess another's snps effect on the trait, e.g.:\n",
    "#specified_indices = findall(x -> x == \"rs11240779\", snpid); # find the index of the snp of interest by snpid"
   ]
  },
  {
   "cell_type": "code",
   "execution_count": 43,
   "metadata": {},
   "outputs": [
    {
     "data": {
      "text/html": [
       "<table class=\"data-frame\"><thead><tr><th></th><th>rs11240779</th><th>rs10058946</th><th>rs13257831</th></tr><tr><th></th><th>Float64</th><th>Float64</th><th>Float64</th></tr></thead><tbody><p>3,754 rows × 3 columns</p><tr><th>1</th><td>1.0</td><td>1.0</td><td>1.0</td></tr><tr><th>2</th><td>1.0</td><td>2.0</td><td>2.0</td></tr><tr><th>3</th><td>2.0</td><td>0.0</td><td>2.0</td></tr><tr><th>4</th><td>1.0</td><td>1.0</td><td>0.0</td></tr><tr><th>5</th><td>1.0</td><td>2.0</td><td>2.0</td></tr><tr><th>6</th><td>1.0</td><td>1.0</td><td>2.0</td></tr><tr><th>7</th><td>2.0</td><td>0.0</td><td>2.0</td></tr><tr><th>8</th><td>1.0</td><td>1.0</td><td>1.0</td></tr><tr><th>9</th><td>2.0</td><td>1.0</td><td>2.0</td></tr><tr><th>10</th><td>2.0</td><td>2.0</td><td>1.0</td></tr><tr><th>11</th><td>2.0</td><td>2.0</td><td>0.0</td></tr><tr><th>12</th><td>2.0</td><td>0.0</td><td>1.0</td></tr><tr><th>13</th><td>1.0</td><td>1.0</td><td>1.0</td></tr><tr><th>14</th><td>2.0</td><td>1.0</td><td>1.0</td></tr><tr><th>15</th><td>1.0</td><td>0.0</td><td>2.0</td></tr><tr><th>16</th><td>1.0</td><td>1.0</td><td>1.0</td></tr><tr><th>17</th><td>2.0</td><td>2.0</td><td>1.0</td></tr><tr><th>18</th><td>2.0</td><td>2.0</td><td>2.0</td></tr><tr><th>19</th><td>2.0</td><td>1.0</td><td>1.0</td></tr><tr><th>20</th><td>2.0</td><td>2.0</td><td>1.0</td></tr><tr><th>21</th><td>1.0</td><td>1.0</td><td>2.0</td></tr><tr><th>22</th><td>1.0</td><td>1.0</td><td>1.0</td></tr><tr><th>23</th><td>2.0</td><td>1.0</td><td>2.0</td></tr><tr><th>24</th><td>2.0</td><td>1.0</td><td>2.0</td></tr><tr><th>25</th><td>2.0</td><td>1.0</td><td>0.0</td></tr><tr><th>26</th><td>2.0</td><td>2.0</td><td>2.0</td></tr><tr><th>27</th><td>2.0</td><td>2.0</td><td>1.0</td></tr><tr><th>28</th><td>2.0</td><td>2.0</td><td>1.0</td></tr><tr><th>29</th><td>2.0</td><td>1.0</td><td>0.0</td></tr><tr><th>30</th><td>0.0</td><td>2.0</td><td>2.0</td></tr><tr><th>&vellip;</th><td>&vellip;</td><td>&vellip;</td><td>&vellip;</td></tr></tbody></table>"
      ],
      "text/latex": [
       "\\begin{tabular}{r|ccc}\n",
       "\t& rs11240779 & rs10058946 & rs13257831\\\\\n",
       "\t\\hline\n",
       "\t& Float64 & Float64 & Float64\\\\\n",
       "\t\\hline\n",
       "\t1 & 1.0 & 1.0 & 1.0 \\\\\n",
       "\t2 & 1.0 & 2.0 & 2.0 \\\\\n",
       "\t3 & 2.0 & 0.0 & 2.0 \\\\\n",
       "\t4 & 1.0 & 1.0 & 0.0 \\\\\n",
       "\t5 & 1.0 & 2.0 & 2.0 \\\\\n",
       "\t6 & 1.0 & 1.0 & 2.0 \\\\\n",
       "\t7 & 2.0 & 0.0 & 2.0 \\\\\n",
       "\t8 & 1.0 & 1.0 & 1.0 \\\\\n",
       "\t9 & 2.0 & 1.0 & 2.0 \\\\\n",
       "\t10 & 2.0 & 2.0 & 1.0 \\\\\n",
       "\t11 & 2.0 & 2.0 & 0.0 \\\\\n",
       "\t12 & 2.0 & 0.0 & 1.0 \\\\\n",
       "\t13 & 1.0 & 1.0 & 1.0 \\\\\n",
       "\t14 & 2.0 & 1.0 & 1.0 \\\\\n",
       "\t15 & 1.0 & 0.0 & 2.0 \\\\\n",
       "\t16 & 1.0 & 1.0 & 1.0 \\\\\n",
       "\t17 & 2.0 & 2.0 & 1.0 \\\\\n",
       "\t18 & 2.0 & 2.0 & 2.0 \\\\\n",
       "\t19 & 2.0 & 1.0 & 1.0 \\\\\n",
       "\t20 & 2.0 & 2.0 & 1.0 \\\\\n",
       "\t21 & 1.0 & 1.0 & 2.0 \\\\\n",
       "\t22 & 1.0 & 1.0 & 1.0 \\\\\n",
       "\t23 & 2.0 & 1.0 & 2.0 \\\\\n",
       "\t24 & 2.0 & 1.0 & 2.0 \\\\\n",
       "\t25 & 2.0 & 1.0 & 0.0 \\\\\n",
       "\t26 & 2.0 & 2.0 & 2.0 \\\\\n",
       "\t27 & 2.0 & 2.0 & 1.0 \\\\\n",
       "\t28 & 2.0 & 2.0 & 1.0 \\\\\n",
       "\t29 & 2.0 & 1.0 & 0.0 \\\\\n",
       "\t30 & 0.0 & 2.0 & 2.0 \\\\\n",
       "\t$\\dots$ & $\\dots$ & $\\dots$ & $\\dots$ \\\\\n",
       "\\end{tabular}\n"
      ],
      "text/plain": [
       "3754×3 DataFrame\n",
       "│ Row  │ rs11240779 │ rs10058946 │ rs13257831 │\n",
       "│      │ \u001b[90mFloat64\u001b[39m    │ \u001b[90mFloat64\u001b[39m    │ \u001b[90mFloat64\u001b[39m    │\n",
       "├──────┼────────────┼────────────┼────────────┤\n",
       "│ 1    │ 1.0        │ 1.0        │ 1.0        │\n",
       "│ 2    │ 1.0        │ 2.0        │ 2.0        │\n",
       "│ 3    │ 2.0        │ 0.0        │ 2.0        │\n",
       "│ 4    │ 1.0        │ 1.0        │ 0.0        │\n",
       "│ 5    │ 1.0        │ 2.0        │ 2.0        │\n",
       "│ 6    │ 1.0        │ 1.0        │ 2.0        │\n",
       "│ 7    │ 2.0        │ 0.0        │ 2.0        │\n",
       "│ 8    │ 1.0        │ 1.0        │ 1.0        │\n",
       "│ 9    │ 2.0        │ 1.0        │ 2.0        │\n",
       "│ 10   │ 2.0        │ 2.0        │ 1.0        │\n",
       "⋮\n",
       "│ 3744 │ 2.0        │ 1.0        │ 1.0        │\n",
       "│ 3745 │ 1.0        │ 1.0        │ 1.0        │\n",
       "│ 3746 │ 2.0        │ 1.0        │ 1.0        │\n",
       "│ 3747 │ 2.0        │ 1.0        │ 2.0        │\n",
       "│ 3748 │ 2.0        │ 2.0        │ 2.0        │\n",
       "│ 3749 │ 2.0        │ 1.0        │ 2.0        │\n",
       "│ 3750 │ 1.0        │ 0.0        │ 2.0        │\n",
       "│ 3751 │ 2.0        │ 1.0        │ 1.0        │\n",
       "│ 3752 │ 1.0        │ 2.0        │ 1.0        │\n",
       "│ 3753 │ 1.0        │ 1.0        │ 1.0        │\n",
       "│ 3754 │ 2.0        │ 2.0        │ 1.0        │"
      ]
     },
     "execution_count": 43,
     "metadata": {},
     "output_type": "execute_result"
    }
   ],
   "source": [
    "loci = convert(Matrix{Float64}, @view(full_snps[:, specified_indices]), impute = true)\n",
    "X_gen = DataFrame(loci)\n",
    "rename!(X_gen, Symbol.(snpid[specified_indices]))"
   ]
  },
  {
   "cell_type": "markdown",
   "metadata": {},
   "source": [
    "# Polymorphic Loci \n",
    "\n",
    "We check that the minor allele frequencies for our three specified SNP's are greater than 0.05 so we will proceed with just these SNP's in our fixed effect model. "
   ]
  },
  {
   "cell_type": "code",
   "execution_count": 46,
   "metadata": {},
   "outputs": [
    {
     "data": {
      "text/plain": [
       "3-element Array{Float64,1}:\n",
       " 0.22996515679442509\n",
       " 0.3670141673349372 \n",
       " 0.31128300880234727"
      ]
     },
     "execution_count": 46,
     "metadata": {},
     "output_type": "execute_result"
    }
   ],
   "source": [
    "maf_cs = maf(@view full_snps[:, specified_indices])[:] "
   ]
  },
  {
   "cell_type": "markdown",
   "metadata": {},
   "source": [
    "For the three specified SNP's, we simulate effect sizes based off of their minor allele frequencies. These effect sizes will be used throughout example 1. "
   ]
  },
  {
   "cell_type": "markdown",
   "metadata": {},
   "source": [
    "## Construct Design Matrix\n",
    "\n",
    "Here we construc the desired design matrix for simulation. We specify sex from the person_info field of the SnpData, and map it from \"M/F\" indicated male/female to 1/0. We then simulate age from a Normal distribution with mean age 45 years old, variance of 3 years. "
   ]
  },
  {
   "cell_type": "code",
   "execution_count": 208,
   "metadata": {},
   "outputs": [
    {
     "data": {
      "text/html": [
       "<table class=\"data-frame\"><thead><tr><th></th><th>intercept</th><th>age</th><th>sex</th><th>rs11240779</th><th>rs10058946</th><th>rs13257831</th></tr><tr><th></th><th>Float64</th><th>Float64</th><th>Float64</th><th>Float64</th><th>Float64</th><th>Float64</th></tr></thead><tbody><p>3,754 rows × 6 columns</p><tr><th>1</th><td>1.0</td><td>0.961317</td><td>1.0</td><td>1.0</td><td>1.0</td><td>1.0</td></tr><tr><th>2</th><td>1.0</td><td>0.430665</td><td>1.0</td><td>1.0</td><td>2.0</td><td>2.0</td></tr><tr><th>3</th><td>1.0</td><td>-0.540137</td><td>1.0</td><td>2.0</td><td>0.0</td><td>2.0</td></tr><tr><th>4</th><td>1.0</td><td>-2.13068</td><td>1.0</td><td>1.0</td><td>1.0</td><td>0.0</td></tr><tr><th>5</th><td>1.0</td><td>0.69471</td><td>1.0</td><td>1.0</td><td>2.0</td><td>2.0</td></tr><tr><th>6</th><td>1.0</td><td>-0.0775978</td><td>1.0</td><td>1.0</td><td>1.0</td><td>2.0</td></tr><tr><th>7</th><td>1.0</td><td>1.35295</td><td>1.0</td><td>2.0</td><td>0.0</td><td>2.0</td></tr><tr><th>8</th><td>1.0</td><td>1.38327</td><td>1.0</td><td>1.0</td><td>1.0</td><td>1.0</td></tr><tr><th>9</th><td>1.0</td><td>0.573823</td><td>1.0</td><td>2.0</td><td>1.0</td><td>2.0</td></tr><tr><th>10</th><td>1.0</td><td>-0.839263</td><td>1.0</td><td>2.0</td><td>2.0</td><td>1.0</td></tr><tr><th>11</th><td>1.0</td><td>2.48709</td><td>1.0</td><td>2.0</td><td>2.0</td><td>0.0</td></tr><tr><th>12</th><td>1.0</td><td>0.465625</td><td>1.0</td><td>2.0</td><td>0.0</td><td>1.0</td></tr><tr><th>13</th><td>1.0</td><td>-0.664101</td><td>1.0</td><td>1.0</td><td>1.0</td><td>1.0</td></tr><tr><th>14</th><td>1.0</td><td>-0.939856</td><td>1.0</td><td>2.0</td><td>1.0</td><td>1.0</td></tr><tr><th>15</th><td>1.0</td><td>-0.940508</td><td>1.0</td><td>1.0</td><td>0.0</td><td>2.0</td></tr><tr><th>16</th><td>1.0</td><td>0.927021</td><td>1.0</td><td>1.0</td><td>1.0</td><td>1.0</td></tr><tr><th>17</th><td>1.0</td><td>0.945437</td><td>1.0</td><td>2.0</td><td>2.0</td><td>1.0</td></tr><tr><th>18</th><td>1.0</td><td>1.44214</td><td>1.0</td><td>2.0</td><td>2.0</td><td>2.0</td></tr><tr><th>19</th><td>1.0</td><td>0.104855</td><td>1.0</td><td>2.0</td><td>1.0</td><td>1.0</td></tr><tr><th>20</th><td>1.0</td><td>0.549002</td><td>1.0</td><td>2.0</td><td>2.0</td><td>1.0</td></tr><tr><th>21</th><td>1.0</td><td>1.33847</td><td>1.0</td><td>1.0</td><td>1.0</td><td>2.0</td></tr><tr><th>22</th><td>1.0</td><td>0.876872</td><td>1.0</td><td>1.0</td><td>1.0</td><td>1.0</td></tr><tr><th>23</th><td>1.0</td><td>1.16735</td><td>1.0</td><td>2.0</td><td>1.0</td><td>2.0</td></tr><tr><th>24</th><td>1.0</td><td>0.972083</td><td>1.0</td><td>2.0</td><td>1.0</td><td>2.0</td></tr><tr><th>25</th><td>1.0</td><td>0.970387</td><td>1.0</td><td>2.0</td><td>1.0</td><td>0.0</td></tr><tr><th>26</th><td>1.0</td><td>0.812626</td><td>1.0</td><td>2.0</td><td>2.0</td><td>2.0</td></tr><tr><th>27</th><td>1.0</td><td>-0.41224</td><td>1.0</td><td>2.0</td><td>2.0</td><td>1.0</td></tr><tr><th>28</th><td>1.0</td><td>-0.782517</td><td>1.0</td><td>2.0</td><td>2.0</td><td>1.0</td></tr><tr><th>29</th><td>1.0</td><td>-0.991376</td><td>1.0</td><td>2.0</td><td>1.0</td><td>0.0</td></tr><tr><th>30</th><td>1.0</td><td>1.01573</td><td>1.0</td><td>0.0</td><td>2.0</td><td>2.0</td></tr><tr><th>&vellip;</th><td>&vellip;</td><td>&vellip;</td><td>&vellip;</td><td>&vellip;</td><td>&vellip;</td><td>&vellip;</td></tr></tbody></table>"
      ],
      "text/latex": [
       "\\begin{tabular}{r|cccccc}\n",
       "\t& intercept & age & sex & rs11240779 & rs10058946 & rs13257831\\\\\n",
       "\t\\hline\n",
       "\t& Float64 & Float64 & Float64 & Float64 & Float64 & Float64\\\\\n",
       "\t\\hline\n",
       "\t1 & 1.0 & 0.961317 & 1.0 & 1.0 & 1.0 & 1.0 \\\\\n",
       "\t2 & 1.0 & 0.430665 & 1.0 & 1.0 & 2.0 & 2.0 \\\\\n",
       "\t3 & 1.0 & -0.540137 & 1.0 & 2.0 & 0.0 & 2.0 \\\\\n",
       "\t4 & 1.0 & -2.13068 & 1.0 & 1.0 & 1.0 & 0.0 \\\\\n",
       "\t5 & 1.0 & 0.69471 & 1.0 & 1.0 & 2.0 & 2.0 \\\\\n",
       "\t6 & 1.0 & -0.0775978 & 1.0 & 1.0 & 1.0 & 2.0 \\\\\n",
       "\t7 & 1.0 & 1.35295 & 1.0 & 2.0 & 0.0 & 2.0 \\\\\n",
       "\t8 & 1.0 & 1.38327 & 1.0 & 1.0 & 1.0 & 1.0 \\\\\n",
       "\t9 & 1.0 & 0.573823 & 1.0 & 2.0 & 1.0 & 2.0 \\\\\n",
       "\t10 & 1.0 & -0.839263 & 1.0 & 2.0 & 2.0 & 1.0 \\\\\n",
       "\t11 & 1.0 & 2.48709 & 1.0 & 2.0 & 2.0 & 0.0 \\\\\n",
       "\t12 & 1.0 & 0.465625 & 1.0 & 2.0 & 0.0 & 1.0 \\\\\n",
       "\t13 & 1.0 & -0.664101 & 1.0 & 1.0 & 1.0 & 1.0 \\\\\n",
       "\t14 & 1.0 & -0.939856 & 1.0 & 2.0 & 1.0 & 1.0 \\\\\n",
       "\t15 & 1.0 & -0.940508 & 1.0 & 1.0 & 0.0 & 2.0 \\\\\n",
       "\t16 & 1.0 & 0.927021 & 1.0 & 1.0 & 1.0 & 1.0 \\\\\n",
       "\t17 & 1.0 & 0.945437 & 1.0 & 2.0 & 2.0 & 1.0 \\\\\n",
       "\t18 & 1.0 & 1.44214 & 1.0 & 2.0 & 2.0 & 2.0 \\\\\n",
       "\t19 & 1.0 & 0.104855 & 1.0 & 2.0 & 1.0 & 1.0 \\\\\n",
       "\t20 & 1.0 & 0.549002 & 1.0 & 2.0 & 2.0 & 1.0 \\\\\n",
       "\t21 & 1.0 & 1.33847 & 1.0 & 1.0 & 1.0 & 2.0 \\\\\n",
       "\t22 & 1.0 & 0.876872 & 1.0 & 1.0 & 1.0 & 1.0 \\\\\n",
       "\t23 & 1.0 & 1.16735 & 1.0 & 2.0 & 1.0 & 2.0 \\\\\n",
       "\t24 & 1.0 & 0.972083 & 1.0 & 2.0 & 1.0 & 2.0 \\\\\n",
       "\t25 & 1.0 & 0.970387 & 1.0 & 2.0 & 1.0 & 0.0 \\\\\n",
       "\t26 & 1.0 & 0.812626 & 1.0 & 2.0 & 2.0 & 2.0 \\\\\n",
       "\t27 & 1.0 & -0.41224 & 1.0 & 2.0 & 2.0 & 1.0 \\\\\n",
       "\t28 & 1.0 & -0.782517 & 1.0 & 2.0 & 2.0 & 1.0 \\\\\n",
       "\t29 & 1.0 & -0.991376 & 1.0 & 2.0 & 1.0 & 0.0 \\\\\n",
       "\t30 & 1.0 & 1.01573 & 1.0 & 0.0 & 2.0 & 2.0 \\\\\n",
       "\t$\\dots$ & $\\dots$ & $\\dots$ & $\\dots$ & $\\dots$ & $\\dots$ & $\\dots$ \\\\\n",
       "\\end{tabular}\n"
      ],
      "text/plain": [
       "3754×6 DataFrame. Omitted printing of 1 columns\n",
       "│ Row  │ intercept │ age        │ sex     │ rs11240779 │ rs10058946 │\n",
       "│      │ \u001b[90mFloat64\u001b[39m   │ \u001b[90mFloat64\u001b[39m    │ \u001b[90mFloat64\u001b[39m │ \u001b[90mFloat64\u001b[39m    │ \u001b[90mFloat64\u001b[39m    │\n",
       "├──────┼───────────┼────────────┼─────────┼────────────┼────────────┤\n",
       "│ 1    │ 1.0       │ 0.961317   │ 1.0     │ 1.0        │ 1.0        │\n",
       "│ 2    │ 1.0       │ 0.430665   │ 1.0     │ 1.0        │ 2.0        │\n",
       "│ 3    │ 1.0       │ -0.540137  │ 1.0     │ 2.0        │ 0.0        │\n",
       "│ 4    │ 1.0       │ -2.13068   │ 1.0     │ 1.0        │ 1.0        │\n",
       "│ 5    │ 1.0       │ 0.69471    │ 1.0     │ 1.0        │ 2.0        │\n",
       "│ 6    │ 1.0       │ -0.0775978 │ 1.0     │ 1.0        │ 1.0        │\n",
       "│ 7    │ 1.0       │ 1.35295    │ 1.0     │ 2.0        │ 0.0        │\n",
       "│ 8    │ 1.0       │ 1.38327    │ 1.0     │ 1.0        │ 1.0        │\n",
       "│ 9    │ 1.0       │ 0.573823   │ 1.0     │ 2.0        │ 1.0        │\n",
       "│ 10   │ 1.0       │ -0.839263  │ 1.0     │ 2.0        │ 2.0        │\n",
       "⋮\n",
       "│ 3744 │ 1.0       │ 0.782859   │ 1.0     │ 2.0        │ 1.0        │\n",
       "│ 3745 │ 1.0       │ -1.08255   │ 1.0     │ 1.0        │ 1.0        │\n",
       "│ 3746 │ 1.0       │ 0.330165   │ 1.0     │ 2.0        │ 1.0        │\n",
       "│ 3747 │ 1.0       │ 0.0511459  │ 1.0     │ 2.0        │ 1.0        │\n",
       "│ 3748 │ 1.0       │ 1.08054    │ 1.0     │ 2.0        │ 2.0        │\n",
       "│ 3749 │ 1.0       │ -0.505197  │ 1.0     │ 2.0        │ 1.0        │\n",
       "│ 3750 │ 1.0       │ 0.514174   │ 1.0     │ 1.0        │ 0.0        │\n",
       "│ 3751 │ 1.0       │ -0.669812  │ 1.0     │ 2.0        │ 1.0        │\n",
       "│ 3752 │ 1.0       │ -0.398202  │ 1.0     │ 1.0        │ 2.0        │\n",
       "│ 3753 │ 1.0       │ -0.746522  │ 1.0     │ 1.0        │ 1.0        │\n",
       "│ 3754 │ 1.0       │ 1.35709    │ 1.0     │ 2.0        │ 2.0        │"
      ]
     },
     "execution_count": 208,
     "metadata": {},
     "output_type": "execute_result"
    }
   ],
   "source": [
    "n = people\n",
    "famfile = sample_snp_data.person_info\n",
    "IndividualID = famfile[:, 1:2];\n",
    "\n",
    "# map sex from M/F to 1/0\n",
    "sex = map(x -> strip(x) == \"F\" ? 0.0 : 1.0, famfile[!, :sex]);\n",
    "\n",
    "pdf_age = Normal(45, 3)\n",
    "age = rand(pdf_age, n)\n",
    "\n",
    "intercept = ones(n)\n",
    "X_non_gen = DataFrame(intercept = intercept, age = age, sex = sex)\n",
    "sim_effectsize = round.(simulate_effect_size(maf_cs)\n",
    "\n",
    "β_cov = [1.0, 0.0002, 0.2]\n",
    "β = vcat(β_cov, sim_effectsize)\n",
    "X_design = [X_non_gen X_gen]"
   ]
  },
  {
   "cell_type": "markdown",
   "metadata": {},
   "source": [
    "# Genetic Relationship Matrix (GRM)\n",
    "\n",
    "We estimate the kinship using the grm function in `SnpArrays` from only the common snps with minor allele frequency(maf) > 0.05.\n",
    "\n",
    "We will use the same values of GRM for both univaraite and bivariate examples. \n",
    "\n",
    "This example simulates an infinitesmal effect model in which each SNP contributes a small amount to the variance of the trait. In this case, methods to identify SNPs that contribute to the trait value will be unsuccessful and any SNPs identified are false positives.  As such, this simulation can be when the null hypothesis is desired. \n",
    "\n",
    "Another issue of importance $E(GRM) = \\Phi$ and $V_p = 2V_a \\Phi + V_e I$ , so we are in fact simulating a trait that has $V_p = 1.0, h^2 = 0.30$."
   ]
  },
  {
   "cell_type": "markdown",
   "metadata": {},
   "source": [
    "We take a look at the Genetic Relationship Matrix computed through `SnpArrays`. \n",
    "As a rule of thumb, we should see values close to a half on the diagonal of the GRM."
   ]
  },
  {
   "cell_type": "code",
   "execution_count": 49,
   "metadata": {},
   "outputs": [
    {
     "data": {
      "text/plain": [
       "3754×3754 Array{Float64,2}:\n",
       "  0.507378      0.000982835   0.00147616   …  -0.00075625    0.00119529 \n",
       "  0.000982835   0.492554     -0.000152061     -0.00112687   -0.00288623 \n",
       "  0.00147616   -0.000152061   0.497708         0.00162231   -0.000139996\n",
       " -0.00145189   -0.000773482  -0.00177809       0.000876674   0.00170538 \n",
       "  0.00225233   -0.00107256   -0.00320005       0.00212845   -0.000825247\n",
       " -0.00358522    0.002827     -0.000474857  …  -0.00107532    0.000566833\n",
       " -0.00417571   -0.00433671    0.000894409      0.00194644    0.00231383 \n",
       "  0.000524487  -0.000306755  -0.000585709     -0.00142927   -0.00260279 \n",
       "  0.000801737  -0.00245975   -0.00203422      -0.000757197   0.000850964\n",
       "  0.00141141    0.00381874   -0.00333167       0.000482886  -0.00265196 \n",
       "  0.00186258    0.00319489    0.000228094  …   0.00298501   -0.0005898  \n",
       "  0.000965864  -0.000342783   0.00218133      -0.00153142   -0.00199691 \n",
       "  0.00328322   -0.00300997    0.000346194      0.00014947    0.00142216 \n",
       "  ⋮                                        ⋱                            \n",
       " -0.000385662   0.00167832   -0.00118571      -0.00263451    0.000237583\n",
       "  0.000889431   0.00230378   -0.00256455      -0.000826626   0.000234952\n",
       "  0.00190233   -2.42689e-5    0.00172148       0.00115112   -0.00305018 \n",
       "  4.53199e-5   -0.00149613   -0.00195661   …  -0.00173024   -0.00129899 \n",
       " -0.000762558  -0.00108904    0.000923673     -0.00499542    0.00369597 \n",
       " -0.00069483   -0.000602714   0.00517511       0.00485714   -0.000507153\n",
       "  7.10342e-6    0.00614196   -0.00155892       0.00207326   -0.00127625 \n",
       " -0.00488376    0.00419692   -0.0022336        0.00107845   -0.00322651 \n",
       " -0.000595859   0.00279909    0.000575781  …   0.000781577   0.00106582 \n",
       "  0.000693418   0.00426816   -0.00333074       0.00174281    0.00109823 \n",
       " -0.00075625   -0.00112687    0.00162231       0.501853     -0.0021985  \n",
       "  0.00119529   -0.00288623   -0.000139996     -0.0021985     0.493712   "
      ]
     },
     "execution_count": 49,
     "metadata": {},
     "output_type": "execute_result"
    }
   ],
   "source": [
    "# Compute GRM using the grm function in SnpArrays\n",
    "GRM = grm(full_snps)"
   ]
  },
  {
   "cell_type": "code",
   "execution_count": 54,
   "metadata": {},
   "outputs": [
    {
     "data": {
      "text/plain": [
       "Variance Component Model\n",
       "  * number of traits: 1\n",
       "  * number of variance components: 2\n",
       "  * sample size: 3754"
      ]
     },
     "execution_count": 54,
     "metadata": {},
     "output_type": "execute_result"
    }
   ],
   "source": [
    "I_n = Matrix{Float64}(I, size(GRM));\n",
    "totalvc = @vc [0.1][:, :] ⊗ GRM + [0.9][:, :] ⊗ I_n\n",
    "# # # Create the simulation model \n",
    "vcm_model1 = VCMTrait(Matrix(X_design), β, totalvc)"
   ]
  },
  {
   "cell_type": "markdown",
   "metadata": {},
   "source": [
    "### Alternative Model Specification\n",
    "\n",
    "```julia\n",
    "mean_formula = [\"1 + 0.0002age + 0.2sex + 0.238rs11240779 + 0.207rs10058946 - 0.216rs13257831\"]\n",
    "vcm_model1 = VCMTrait(mean_formula, X_design, totalvc)\n",
    "```\n",
    "\n",
    "For users who wish to specify the fixed effects as a formula, we provide alternative ways to specify the model parameters for simulation. "
   ]
  },
  {
   "cell_type": "code",
   "execution_count": 55,
   "metadata": {},
   "outputs": [
    {
     "data": {
      "text/html": [
       "<table class=\"data-frame\"><thead><tr><th></th><th>Trait</th></tr><tr><th></th><th>Float64</th></tr></thead><tbody><p>3,754 rows × 1 columns</p><tr><th>1</th><td>0.526989</td></tr><tr><th>2</th><td>0.79911</td></tr><tr><th>3</th><td>0.525143</td></tr><tr><th>4</th><td>0.139311</td></tr><tr><th>5</th><td>-0.742257</td></tr><tr><th>6</th><td>0.334136</td></tr><tr><th>7</th><td>0.287026</td></tr><tr><th>8</th><td>2.14406</td></tr><tr><th>9</th><td>2.11084</td></tr><tr><th>10</th><td>1.95348</td></tr><tr><th>11</th><td>0.940846</td></tr><tr><th>12</th><td>-0.226008</td></tr><tr><th>13</th><td>1.02715</td></tr><tr><th>14</th><td>3.13231</td></tr><tr><th>15</th><td>0.0306757</td></tr><tr><th>16</th><td>0.360814</td></tr><tr><th>17</th><td>-0.137782</td></tr><tr><th>18</th><td>2.71849</td></tr><tr><th>19</th><td>-0.74527</td></tr><tr><th>20</th><td>1.6009</td></tr><tr><th>21</th><td>-0.40861</td></tr><tr><th>22</th><td>1.33221</td></tr><tr><th>23</th><td>-0.0371568</td></tr><tr><th>24</th><td>1.54198</td></tr><tr><th>25</th><td>1.95932</td></tr><tr><th>26</th><td>0.997667</td></tr><tr><th>27</th><td>3.4843</td></tr><tr><th>28</th><td>-0.078012</td></tr><tr><th>29</th><td>3.6477</td></tr><tr><th>30</th><td>-1.2607</td></tr><tr><th>&vellip;</th><td>&vellip;</td></tr></tbody></table>"
      ],
      "text/latex": [
       "\\begin{tabular}{r|c}\n",
       "\t& Trait\\\\\n",
       "\t\\hline\n",
       "\t& Float64\\\\\n",
       "\t\\hline\n",
       "\t1 & 0.526989 \\\\\n",
       "\t2 & 0.79911 \\\\\n",
       "\t3 & 0.525143 \\\\\n",
       "\t4 & 0.139311 \\\\\n",
       "\t5 & -0.742257 \\\\\n",
       "\t6 & 0.334136 \\\\\n",
       "\t7 & 0.287026 \\\\\n",
       "\t8 & 2.14406 \\\\\n",
       "\t9 & 2.11084 \\\\\n",
       "\t10 & 1.95348 \\\\\n",
       "\t11 & 0.940846 \\\\\n",
       "\t12 & -0.226008 \\\\\n",
       "\t13 & 1.02715 \\\\\n",
       "\t14 & 3.13231 \\\\\n",
       "\t15 & 0.0306757 \\\\\n",
       "\t16 & 0.360814 \\\\\n",
       "\t17 & -0.137782 \\\\\n",
       "\t18 & 2.71849 \\\\\n",
       "\t19 & -0.74527 \\\\\n",
       "\t20 & 1.6009 \\\\\n",
       "\t21 & -0.40861 \\\\\n",
       "\t22 & 1.33221 \\\\\n",
       "\t23 & -0.0371568 \\\\\n",
       "\t24 & 1.54198 \\\\\n",
       "\t25 & 1.95932 \\\\\n",
       "\t26 & 0.997667 \\\\\n",
       "\t27 & 3.4843 \\\\\n",
       "\t28 & -0.078012 \\\\\n",
       "\t29 & 3.6477 \\\\\n",
       "\t30 & -1.2607 \\\\\n",
       "\t$\\dots$ & $\\dots$ \\\\\n",
       "\\end{tabular}\n"
      ],
      "text/plain": [
       "3754×1 DataFrame\n",
       "│ Row  │ Trait     │\n",
       "│      │ \u001b[90mFloat64\u001b[39m   │\n",
       "├──────┼───────────┤\n",
       "│ 1    │ 0.526989  │\n",
       "│ 2    │ 0.79911   │\n",
       "│ 3    │ 0.525143  │\n",
       "│ 4    │ 0.139311  │\n",
       "│ 5    │ -0.742257 │\n",
       "│ 6    │ 0.334136  │\n",
       "│ 7    │ 0.287026  │\n",
       "│ 8    │ 2.14406   │\n",
       "│ 9    │ 2.11084   │\n",
       "│ 10   │ 1.95348   │\n",
       "⋮\n",
       "│ 3744 │ 0.532198  │\n",
       "│ 3745 │ 1.22647   │\n",
       "│ 3746 │ 1.6055    │\n",
       "│ 3747 │ 0.639795  │\n",
       "│ 3748 │ 2.79883   │\n",
       "│ 3749 │ 1.0581    │\n",
       "│ 3750 │ 0.734985  │\n",
       "│ 3751 │ 1.16344   │\n",
       "│ 3752 │ 2.3515    │\n",
       "│ 3753 │ 0.354663  │\n",
       "│ 3754 │ 1.79498   │"
      ]
     },
     "execution_count": 55,
     "metadata": {},
     "output_type": "execute_result"
    }
   ],
   "source": [
    "# simulate the trait\n",
    "y_1 = DataFrame(Trait = simulate(vcm_model1)[:])"
   ]
  },
  {
   "cell_type": "markdown",
   "metadata": {},
   "source": [
    "## Saving Simulation Results to Local Machine\n",
    "\n",
    "Next we output the SNPs and the coefficients used to simulate this trait along with the simulated trait values and corresponding design matrix for each of the 849 individuals, labeled by their pedigree ID and person ID.\n",
    "\n",
    "In addition, we output the genotypes for the variants used to simulate this trait. Note that we can impute missing genotypes by turning the argument `impute = true`.\n"
   ]
  },
  {
   "cell_type": "code",
   "execution_count": 56,
   "metadata": {},
   "outputs": [
    {
     "data": {
      "text/html": [
       "<table class=\"data-frame\"><thead><tr><th></th><th>Coefficients</th><th>covariates</th></tr><tr><th></th><th>Float64</th><th>Symbol</th></tr></thead><tbody><p>6 rows × 2 columns</p><tr><th>1</th><td>1.0</td><td>intercept</td></tr><tr><th>2</th><td>0.0002</td><td>age</td></tr><tr><th>3</th><td>0.2</td><td>sex</td></tr><tr><th>4</th><td>0.237637</td><td>rs11240779</td></tr><tr><th>5</th><td>-0.207473</td><td>rs10058946</td></tr><tr><th>6</th><td>-0.215974</td><td>rs13257831</td></tr></tbody></table>"
      ],
      "text/latex": [
       "\\begin{tabular}{r|cc}\n",
       "\t& Coefficients & covariates\\\\\n",
       "\t\\hline\n",
       "\t& Float64 & Symbol\\\\\n",
       "\t\\hline\n",
       "\t1 & 1.0 & intercept \\\\\n",
       "\t2 & 0.0002 & age \\\\\n",
       "\t3 & 0.2 & sex \\\\\n",
       "\t4 & 0.237637 & rs11240779 \\\\\n",
       "\t5 & -0.207473 & rs10058946 \\\\\n",
       "\t6 & -0.215974 & rs13257831 \\\\\n",
       "\\end{tabular}\n"
      ],
      "text/plain": [
       "6×2 DataFrame\n",
       "│ Row │ Coefficients │ covariates │\n",
       "│     │ \u001b[90mFloat64\u001b[39m      │ \u001b[90mSymbol\u001b[39m     │\n",
       "├─────┼──────────────┼────────────┤\n",
       "│ 1   │ 1.0          │ intercept  │\n",
       "│ 2   │ 0.0002       │ age        │\n",
       "│ 3   │ 0.2          │ sex        │\n",
       "│ 4   │ 0.237637     │ rs11240779 │\n",
       "│ 5   │ -0.207473    │ rs10058946 │\n",
       "│ 6   │ -0.215974    │ rs13257831 │"
      ]
     },
     "execution_count": 56,
     "metadata": {},
     "output_type": "execute_result"
    }
   ],
   "source": [
    "Coefficients = DataFrame(Coefficients = β)\n",
    "Covariates = DataFrame(covariates = names(X_design))\n",
    "Trait1_SNPs = hcat(Coefficients, Covariates)"
   ]
  },
  {
   "cell_type": "code",
   "execution_count": 57,
   "metadata": {},
   "outputs": [
    {
     "data": {
      "text/html": [
       "<table class=\"data-frame\"><thead><tr><th></th><th>fid</th><th>iid</th><th>intercept</th><th>age</th><th>sex</th><th>rs11240779</th><th>rs10058946</th><th>rs13257831</th></tr><tr><th></th><th>Abstract…</th><th>Abstract…</th><th>Float64</th><th>Float64</th><th>Float64</th><th>Float64</th><th>Float64</th><th>Float64</th></tr></thead><tbody><p>3,754 rows × 8 columns</p><tr><th>1</th><td>1002101</td><td>1002101</td><td>1.0</td><td>2.22475</td><td>1.0</td><td>1.0</td><td>1.0</td><td>1.0</td></tr><tr><th>2</th><td>1004064</td><td>1004064</td><td>1.0</td><td>-1.26116</td><td>1.0</td><td>1.0</td><td>2.0</td><td>2.0</td></tr><tr><th>3</th><td>1004240</td><td>1004240</td><td>1.0</td><td>-0.599745</td><td>1.0</td><td>2.0</td><td>0.0</td><td>2.0</td></tr><tr><th>4</th><td>1004303</td><td>1004303</td><td>1.0</td><td>0.922595</td><td>1.0</td><td>1.0</td><td>1.0</td><td>0.0</td></tr><tr><th>5</th><td>1007498</td><td>1007498</td><td>1.0</td><td>-2.29475</td><td>1.0</td><td>1.0</td><td>2.0</td><td>2.0</td></tr><tr><th>6</th><td>1008785</td><td>1008785</td><td>1.0</td><td>-0.896205</td><td>1.0</td><td>1.0</td><td>1.0</td><td>2.0</td></tr><tr><th>7</th><td>1011423</td><td>1011423</td><td>1.0</td><td>0.207726</td><td>1.0</td><td>2.0</td><td>0.0</td><td>2.0</td></tr><tr><th>8</th><td>1012197</td><td>1012197</td><td>1.0</td><td>0.109201</td><td>1.0</td><td>1.0</td><td>1.0</td><td>1.0</td></tr><tr><th>9</th><td>1013656</td><td>1013656</td><td>1.0</td><td>0.110908</td><td>1.0</td><td>2.0</td><td>1.0</td><td>2.0</td></tr><tr><th>10</th><td>1013701</td><td>1013701</td><td>1.0</td><td>0.44119</td><td>1.0</td><td>2.0</td><td>2.0</td><td>1.0</td></tr><tr><th>11</th><td>1013780</td><td>1013780</td><td>1.0</td><td>1.27475</td><td>1.0</td><td>2.0</td><td>2.0</td><td>0.0</td></tr><tr><th>12</th><td>1014507</td><td>1014507</td><td>1.0</td><td>-0.00539728</td><td>1.0</td><td>2.0</td><td>0.0</td><td>1.0</td></tr><tr><th>13</th><td>1017600</td><td>1017600</td><td>1.0</td><td>1.73181</td><td>1.0</td><td>1.0</td><td>1.0</td><td>1.0</td></tr><tr><th>14</th><td>1017675</td><td>1017675</td><td>1.0</td><td>-1.4156</td><td>1.0</td><td>2.0</td><td>1.0</td><td>1.0</td></tr><tr><th>15</th><td>1017790</td><td>1017790</td><td>1.0</td><td>-0.136491</td><td>1.0</td><td>1.0</td><td>0.0</td><td>2.0</td></tr><tr><th>16</th><td>1020581</td><td>1020581</td><td>1.0</td><td>2.91825</td><td>1.0</td><td>1.0</td><td>1.0</td><td>1.0</td></tr><tr><th>17</th><td>1020841</td><td>1020841</td><td>1.0</td><td>-0.226332</td><td>1.0</td><td>2.0</td><td>2.0</td><td>1.0</td></tr><tr><th>18</th><td>1023895</td><td>1023895</td><td>1.0</td><td>0.244734</td><td>1.0</td><td>2.0</td><td>2.0</td><td>2.0</td></tr><tr><th>19</th><td>1025769</td><td>1025769</td><td>1.0</td><td>1.51084</td><td>1.0</td><td>2.0</td><td>1.0</td><td>1.0</td></tr><tr><th>20</th><td>1027163</td><td>1027163</td><td>1.0</td><td>-0.191681</td><td>1.0</td><td>2.0</td><td>2.0</td><td>1.0</td></tr><tr><th>21</th><td>1027525</td><td>1027525</td><td>1.0</td><td>-0.741257</td><td>1.0</td><td>1.0</td><td>1.0</td><td>2.0</td></tr><tr><th>22</th><td>1029490</td><td>1029490</td><td>1.0</td><td>-0.0368026</td><td>1.0</td><td>1.0</td><td>1.0</td><td>1.0</td></tr><tr><th>23</th><td>1033180</td><td>1033180</td><td>1.0</td><td>-0.865403</td><td>1.0</td><td>2.0</td><td>1.0</td><td>2.0</td></tr><tr><th>24</th><td>1033230</td><td>1033230</td><td>1.0</td><td>0.473035</td><td>1.0</td><td>2.0</td><td>1.0</td><td>2.0</td></tr><tr><th>25</th><td>1036162</td><td>1036162</td><td>1.0</td><td>0.984212</td><td>1.0</td><td>2.0</td><td>1.0</td><td>0.0</td></tr><tr><th>26</th><td>1040217</td><td>1040217</td><td>1.0</td><td>-0.32852</td><td>1.0</td><td>2.0</td><td>2.0</td><td>2.0</td></tr><tr><th>27</th><td>1040736</td><td>1040736</td><td>1.0</td><td>-0.0910653</td><td>1.0</td><td>2.0</td><td>2.0</td><td>1.0</td></tr><tr><th>28</th><td>1040949</td><td>1040949</td><td>1.0</td><td>-0.891927</td><td>1.0</td><td>2.0</td><td>2.0</td><td>1.0</td></tr><tr><th>29</th><td>1044552</td><td>1044552</td><td>1.0</td><td>-0.101767</td><td>1.0</td><td>2.0</td><td>1.0</td><td>0.0</td></tr><tr><th>30</th><td>1044576</td><td>1044576</td><td>1.0</td><td>-1.65747</td><td>1.0</td><td>0.0</td><td>2.0</td><td>2.0</td></tr><tr><th>&vellip;</th><td>&vellip;</td><td>&vellip;</td><td>&vellip;</td><td>&vellip;</td><td>&vellip;</td><td>&vellip;</td><td>&vellip;</td><td>&vellip;</td></tr></tbody></table>"
      ],
      "text/latex": [
       "\\begin{tabular}{r|cccccccc}\n",
       "\t& fid & iid & intercept & age & sex & rs11240779 & rs10058946 & rs13257831\\\\\n",
       "\t\\hline\n",
       "\t& Abstract… & Abstract… & Float64 & Float64 & Float64 & Float64 & Float64 & Float64\\\\\n",
       "\t\\hline\n",
       "\t1 & 1002101 & 1002101 & 1.0 & 2.22475 & 1.0 & 1.0 & 1.0 & 1.0 \\\\\n",
       "\t2 & 1004064 & 1004064 & 1.0 & -1.26116 & 1.0 & 1.0 & 2.0 & 2.0 \\\\\n",
       "\t3 & 1004240 & 1004240 & 1.0 & -0.599745 & 1.0 & 2.0 & 0.0 & 2.0 \\\\\n",
       "\t4 & 1004303 & 1004303 & 1.0 & 0.922595 & 1.0 & 1.0 & 1.0 & 0.0 \\\\\n",
       "\t5 & 1007498 & 1007498 & 1.0 & -2.29475 & 1.0 & 1.0 & 2.0 & 2.0 \\\\\n",
       "\t6 & 1008785 & 1008785 & 1.0 & -0.896205 & 1.0 & 1.0 & 1.0 & 2.0 \\\\\n",
       "\t7 & 1011423 & 1011423 & 1.0 & 0.207726 & 1.0 & 2.0 & 0.0 & 2.0 \\\\\n",
       "\t8 & 1012197 & 1012197 & 1.0 & 0.109201 & 1.0 & 1.0 & 1.0 & 1.0 \\\\\n",
       "\t9 & 1013656 & 1013656 & 1.0 & 0.110908 & 1.0 & 2.0 & 1.0 & 2.0 \\\\\n",
       "\t10 & 1013701 & 1013701 & 1.0 & 0.44119 & 1.0 & 2.0 & 2.0 & 1.0 \\\\\n",
       "\t11 & 1013780 & 1013780 & 1.0 & 1.27475 & 1.0 & 2.0 & 2.0 & 0.0 \\\\\n",
       "\t12 & 1014507 & 1014507 & 1.0 & -0.00539728 & 1.0 & 2.0 & 0.0 & 1.0 \\\\\n",
       "\t13 & 1017600 & 1017600 & 1.0 & 1.73181 & 1.0 & 1.0 & 1.0 & 1.0 \\\\\n",
       "\t14 & 1017675 & 1017675 & 1.0 & -1.4156 & 1.0 & 2.0 & 1.0 & 1.0 \\\\\n",
       "\t15 & 1017790 & 1017790 & 1.0 & -0.136491 & 1.0 & 1.0 & 0.0 & 2.0 \\\\\n",
       "\t16 & 1020581 & 1020581 & 1.0 & 2.91825 & 1.0 & 1.0 & 1.0 & 1.0 \\\\\n",
       "\t17 & 1020841 & 1020841 & 1.0 & -0.226332 & 1.0 & 2.0 & 2.0 & 1.0 \\\\\n",
       "\t18 & 1023895 & 1023895 & 1.0 & 0.244734 & 1.0 & 2.0 & 2.0 & 2.0 \\\\\n",
       "\t19 & 1025769 & 1025769 & 1.0 & 1.51084 & 1.0 & 2.0 & 1.0 & 1.0 \\\\\n",
       "\t20 & 1027163 & 1027163 & 1.0 & -0.191681 & 1.0 & 2.0 & 2.0 & 1.0 \\\\\n",
       "\t21 & 1027525 & 1027525 & 1.0 & -0.741257 & 1.0 & 1.0 & 1.0 & 2.0 \\\\\n",
       "\t22 & 1029490 & 1029490 & 1.0 & -0.0368026 & 1.0 & 1.0 & 1.0 & 1.0 \\\\\n",
       "\t23 & 1033180 & 1033180 & 1.0 & -0.865403 & 1.0 & 2.0 & 1.0 & 2.0 \\\\\n",
       "\t24 & 1033230 & 1033230 & 1.0 & 0.473035 & 1.0 & 2.0 & 1.0 & 2.0 \\\\\n",
       "\t25 & 1036162 & 1036162 & 1.0 & 0.984212 & 1.0 & 2.0 & 1.0 & 0.0 \\\\\n",
       "\t26 & 1040217 & 1040217 & 1.0 & -0.32852 & 1.0 & 2.0 & 2.0 & 2.0 \\\\\n",
       "\t27 & 1040736 & 1040736 & 1.0 & -0.0910653 & 1.0 & 2.0 & 2.0 & 1.0 \\\\\n",
       "\t28 & 1040949 & 1040949 & 1.0 & -0.891927 & 1.0 & 2.0 & 2.0 & 1.0 \\\\\n",
       "\t29 & 1044552 & 1044552 & 1.0 & -0.101767 & 1.0 & 2.0 & 1.0 & 0.0 \\\\\n",
       "\t30 & 1044576 & 1044576 & 1.0 & -1.65747 & 1.0 & 0.0 & 2.0 & 2.0 \\\\\n",
       "\t$\\dots$ & $\\dots$ & $\\dots$ & $\\dots$ & $\\dots$ & $\\dots$ & $\\dots$ & $\\dots$ & $\\dots$ \\\\\n",
       "\\end{tabular}\n"
      ],
      "text/plain": [
       "3754×8 DataFrame. Omitted printing of 2 columns\n",
       "│ Row  │ fid       │ iid       │ intercept │ age        │ sex     │ rs11240779 │\n",
       "│      │ \u001b[90mAbstract…\u001b[39m │ \u001b[90mAbstract…\u001b[39m │ \u001b[90mFloat64\u001b[39m   │ \u001b[90mFloat64\u001b[39m    │ \u001b[90mFloat64\u001b[39m │ \u001b[90mFloat64\u001b[39m    │\n",
       "├──────┼───────────┼───────────┼───────────┼────────────┼─────────┼────────────┤\n",
       "│ 1    │ 1002101   │ 1002101   │ 1.0       │ 2.22475    │ 1.0     │ 1.0        │\n",
       "│ 2    │ 1004064   │ 1004064   │ 1.0       │ -1.26116   │ 1.0     │ 1.0        │\n",
       "│ 3    │ 1004240   │ 1004240   │ 1.0       │ -0.599745  │ 1.0     │ 2.0        │\n",
       "│ 4    │ 1004303   │ 1004303   │ 1.0       │ 0.922595   │ 1.0     │ 1.0        │\n",
       "│ 5    │ 1007498   │ 1007498   │ 1.0       │ -2.29475   │ 1.0     │ 1.0        │\n",
       "│ 6    │ 1008785   │ 1008785   │ 1.0       │ -0.896205  │ 1.0     │ 1.0        │\n",
       "│ 7    │ 1011423   │ 1011423   │ 1.0       │ 0.207726   │ 1.0     │ 2.0        │\n",
       "│ 8    │ 1012197   │ 1012197   │ 1.0       │ 0.109201   │ 1.0     │ 1.0        │\n",
       "│ 9    │ 1013656   │ 1013656   │ 1.0       │ 0.110908   │ 1.0     │ 2.0        │\n",
       "│ 10   │ 1013701   │ 1013701   │ 1.0       │ 0.44119    │ 1.0     │ 2.0        │\n",
       "⋮\n",
       "│ 3744 │ 6009771   │ 6009771   │ 1.0       │ 1.66844    │ 1.0     │ 2.0        │\n",
       "│ 3745 │ 6010266   │ 6010266   │ 1.0       │ 0.0477933  │ 1.0     │ 1.0        │\n",
       "│ 3746 │ 6011152   │ 6011152   │ 1.0       │ -0.634425  │ 1.0     │ 2.0        │\n",
       "│ 3747 │ 6011216   │ 6011216   │ 1.0       │ 1.40142    │ 1.0     │ 2.0        │\n",
       "│ 3748 │ 6012179   │ 6012179   │ 1.0       │ 0.194875   │ 1.0     │ 2.0        │\n",
       "│ 3749 │ 6012953   │ 6012953   │ 1.0       │ -0.180126  │ 1.0     │ 2.0        │\n",
       "│ 3750 │ 6013739   │ 6013739   │ 1.0       │ 0.492187   │ 1.0     │ 1.0        │\n",
       "│ 3751 │ 6013907   │ 6013907   │ 1.0       │ -0.0256706 │ 1.0     │ 2.0        │\n",
       "│ 3752 │ 6016341   │ 6016341   │ 1.0       │ -0.791129  │ 1.0     │ 1.0        │\n",
       "│ 3753 │ 6022066   │ 6022066   │ 1.0       │ -0.818855  │ 1.0     │ 1.0        │\n",
       "│ 3754 │ 6026204   │ 6026204   │ 1.0       │ -0.141259  │ 1.0     │ 2.0        │"
      ]
     },
     "execution_count": 57,
     "metadata": {},
     "output_type": "execute_result"
    }
   ],
   "source": [
    "Trait1_data = [IndividualID X_design]"
   ]
  },
  {
   "cell_type": "code",
   "execution_count": 58,
   "metadata": {},
   "outputs": [],
   "source": [
    "# CSV.write(\"Trait1_data.csv\", Trait1_data)\n",
    "# CSV.write(\"Trait1_SNPs.csv\", Trait1_SNPs)"
   ]
  },
  {
   "cell_type": "markdown",
   "metadata": {},
   "source": [
    "## Example 2: Rare Variant VCM Related Individuals\n",
    "\n",
    "$$\n",
    "Y \\sim \\text{Normal}(\\mathbf{\\mu}_{n \\times 1} = X\\beta, \\Sigma_{n \\times n} = \\sigma_A \\times 2\\hat{\\Phi}_{GRM} + \\sigma_E \\times I_n)\n",
    "$$\n",
    "\n",
    "This example is meant to simulate data in a scenario in which a number of rare mutations in a single gene can change a trait value. We model the residual variation among relatives with the additive genetic variance component and we include 20 rare variants in the mean portion of the model, defined as loci with minor allele frequencies greater than 0.002 but less than 0.02.\n",
    "\n",
    "Specifically we are generating a single normal trait controlling for family structure with residual heritabiity of 67%, and effect sizes for the variants generated as a function of the minor allele frequencies. The rarer the variant the greater its effect size.\n",
    "\n",
    "In practice rare variants have smaller minor allele frequencies, but we are limited in this tutorial by the relatively small size of the data set. Note also that our modeling these effects as part of the mean is not meant to imply that the best way to detect them would be a standard association analysis. Instead we recommend a burden or SKAT test."
   ]
  },
  {
   "cell_type": "code",
   "execution_count": 241,
   "metadata": {},
   "outputs": [],
   "source": [
    "n = 3754\n",
    "n_snps = 20\n",
    "rare_maf = rand([0.02, 0.003, 0.004, 0.02, 0.003, 0.01, 0.02], n_snps)\n",
    "G = snparray_simulation(rare_maf, n);"
   ]
  },
  {
   "cell_type": "code",
   "execution_count": 122,
   "metadata": {},
   "outputs": [
    {
     "data": {
      "text/html": [
       "<table class=\"data-frame\"><thead><tr><th></th><th>Rare SNP 1</th><th>Rare SNP 2</th><th>Rare SNP 3</th><th>Rare SNP 4</th><th>Rare SNP 5</th><th>Rare SNP 6</th><th>Rare SNP 7</th></tr><tr><th></th><th>Float64</th><th>Float64</th><th>Float64</th><th>Float64</th><th>Float64</th><th>Float64</th><th>Float64</th></tr></thead><tbody><p>3,754 rows × 20 columns (omitted printing of 13 columns)</p><tr><th>1</th><td>-0.0865253</td><td>-0.0833667</td><td>-0.0849605</td><td>-0.201233</td><td>-0.0800855</td><td>-0.0673705</td><td>-0.149522</td></tr><tr><th>2</th><td>-0.0865253</td><td>-0.0833667</td><td>-0.0849605</td><td>-0.201233</td><td>-0.0800855</td><td>-0.0673705</td><td>-0.149522</td></tr><tr><th>3</th><td>-0.0865253</td><td>-0.0833667</td><td>-0.0849605</td><td>-0.201233</td><td>-0.0800855</td><td>-0.0673705</td><td>-0.149522</td></tr><tr><th>4</th><td>-0.0865253</td><td>-0.0833667</td><td>-0.0849605</td><td>-0.201233</td><td>-0.0800855</td><td>-0.0673705</td><td>-0.149522</td></tr><tr><th>5</th><td>-0.0865253</td><td>-0.0833667</td><td>-0.0849605</td><td>-0.201233</td><td>-0.0800855</td><td>-0.0673705</td><td>-0.149522</td></tr><tr><th>6</th><td>-0.0865253</td><td>-0.0833667</td><td>-0.0849605</td><td>-0.201233</td><td>-0.0800855</td><td>-0.0673705</td><td>-0.149522</td></tr><tr><th>7</th><td>-0.0865253</td><td>-0.0833667</td><td>-0.0849605</td><td>-0.201233</td><td>-0.0800855</td><td>-0.0673705</td><td>-0.149522</td></tr><tr><th>8</th><td>-0.0865253</td><td>11.9535</td><td>-0.0849605</td><td>-0.201233</td><td>-0.0800855</td><td>-0.0673705</td><td>-0.149522</td></tr><tr><th>9</th><td>-0.0865253</td><td>-0.0833667</td><td>-0.0849605</td><td>-0.201233</td><td>-0.0800855</td><td>-0.0673705</td><td>-0.149522</td></tr><tr><th>10</th><td>-0.0865253</td><td>-0.0833667</td><td>-0.0849605</td><td>-0.201233</td><td>-0.0800855</td><td>-0.0673705</td><td>-0.149522</td></tr><tr><th>11</th><td>-0.0865253</td><td>-0.0833667</td><td>-0.0849605</td><td>-0.201233</td><td>-0.0800855</td><td>-0.0673705</td><td>-0.149522</td></tr><tr><th>12</th><td>-0.0865253</td><td>-0.0833667</td><td>-0.0849605</td><td>-0.201233</td><td>-0.0800855</td><td>-0.0673705</td><td>-0.149522</td></tr><tr><th>13</th><td>-0.0865253</td><td>-0.0833667</td><td>-0.0849605</td><td>-0.201233</td><td>-0.0800855</td><td>-0.0673705</td><td>-0.149522</td></tr><tr><th>14</th><td>-0.0865253</td><td>-0.0833667</td><td>-0.0849605</td><td>-0.201233</td><td>-0.0800855</td><td>-0.0673705</td><td>-0.149522</td></tr><tr><th>15</th><td>-0.0865253</td><td>-0.0833667</td><td>-0.0849605</td><td>-0.201233</td><td>-0.0800855</td><td>-0.0673705</td><td>-0.149522</td></tr><tr><th>16</th><td>-0.0865253</td><td>-0.0833667</td><td>-0.0849605</td><td>-0.201233</td><td>-0.0800855</td><td>-0.0673705</td><td>-0.149522</td></tr><tr><th>17</th><td>-0.0865253</td><td>-0.0833667</td><td>-0.0849605</td><td>-0.201233</td><td>-0.0800855</td><td>-0.0673705</td><td>-0.149522</td></tr><tr><th>18</th><td>-0.0865253</td><td>-0.0833667</td><td>-0.0849605</td><td>-0.201233</td><td>-0.0800855</td><td>-0.0673705</td><td>-0.149522</td></tr><tr><th>19</th><td>-0.0865253</td><td>-0.0833667</td><td>-0.0849605</td><td>-0.201233</td><td>-0.0800855</td><td>-0.0673705</td><td>-0.149522</td></tr><tr><th>20</th><td>-0.0865253</td><td>-0.0833667</td><td>-0.0849605</td><td>-0.201233</td><td>-0.0800855</td><td>-0.0673705</td><td>-0.149522</td></tr><tr><th>21</th><td>-0.0865253</td><td>-0.0833667</td><td>-0.0849605</td><td>-0.201233</td><td>-0.0800855</td><td>-0.0673705</td><td>-0.149522</td></tr><tr><th>22</th><td>-0.0865253</td><td>-0.0833667</td><td>-0.0849605</td><td>-0.201233</td><td>-0.0800855</td><td>-0.0673705</td><td>-0.149522</td></tr><tr><th>23</th><td>-0.0865253</td><td>-0.0833667</td><td>-0.0849605</td><td>-0.201233</td><td>-0.0800855</td><td>-0.0673705</td><td>-0.149522</td></tr><tr><th>24</th><td>-0.0865253</td><td>-0.0833667</td><td>-0.0849605</td><td>-0.201233</td><td>-0.0800855</td><td>-0.0673705</td><td>-0.149522</td></tr><tr><th>25</th><td>-0.0865253</td><td>-0.0833667</td><td>-0.0849605</td><td>-0.201233</td><td>-0.0800855</td><td>-0.0673705</td><td>-0.149522</td></tr><tr><th>26</th><td>-0.0865253</td><td>-0.0833667</td><td>-0.0849605</td><td>4.86875</td><td>-0.0800855</td><td>-0.0673705</td><td>-0.149522</td></tr><tr><th>27</th><td>-0.0865253</td><td>-0.0833667</td><td>-0.0849605</td><td>-0.201233</td><td>-0.0800855</td><td>-0.0673705</td><td>-0.149522</td></tr><tr><th>28</th><td>-0.0865253</td><td>-0.0833667</td><td>-0.0849605</td><td>-0.201233</td><td>-0.0800855</td><td>-0.0673705</td><td>-0.149522</td></tr><tr><th>29</th><td>11.514</td><td>-0.0833667</td><td>-0.0849605</td><td>-0.201233</td><td>-0.0800855</td><td>-0.0673705</td><td>-0.149522</td></tr><tr><th>30</th><td>-0.0865253</td><td>-0.0833667</td><td>-0.0849605</td><td>-0.201233</td><td>-0.0800855</td><td>-0.0673705</td><td>-0.149522</td></tr><tr><th>&vellip;</th><td>&vellip;</td><td>&vellip;</td><td>&vellip;</td><td>&vellip;</td><td>&vellip;</td><td>&vellip;</td><td>&vellip;</td></tr></tbody></table>"
      ],
      "text/latex": [
       "\\begin{tabular}{r|cccccccc}\n",
       "\t& Rare SNP 1 & Rare SNP 2 & Rare SNP 3 & Rare SNP 4 & Rare SNP 5 & Rare SNP 6 & Rare SNP 7 & \\\\\n",
       "\t\\hline\n",
       "\t& Float64 & Float64 & Float64 & Float64 & Float64 & Float64 & Float64 & \\\\\n",
       "\t\\hline\n",
       "\t1 & -0.0865253 & -0.0833667 & -0.0849605 & -0.201233 & -0.0800855 & -0.0673705 & -0.149522 & $\\dots$ \\\\\n",
       "\t2 & -0.0865253 & -0.0833667 & -0.0849605 & -0.201233 & -0.0800855 & -0.0673705 & -0.149522 & $\\dots$ \\\\\n",
       "\t3 & -0.0865253 & -0.0833667 & -0.0849605 & -0.201233 & -0.0800855 & -0.0673705 & -0.149522 & $\\dots$ \\\\\n",
       "\t4 & -0.0865253 & -0.0833667 & -0.0849605 & -0.201233 & -0.0800855 & -0.0673705 & -0.149522 & $\\dots$ \\\\\n",
       "\t5 & -0.0865253 & -0.0833667 & -0.0849605 & -0.201233 & -0.0800855 & -0.0673705 & -0.149522 & $\\dots$ \\\\\n",
       "\t6 & -0.0865253 & -0.0833667 & -0.0849605 & -0.201233 & -0.0800855 & -0.0673705 & -0.149522 & $\\dots$ \\\\\n",
       "\t7 & -0.0865253 & -0.0833667 & -0.0849605 & -0.201233 & -0.0800855 & -0.0673705 & -0.149522 & $\\dots$ \\\\\n",
       "\t8 & -0.0865253 & 11.9535 & -0.0849605 & -0.201233 & -0.0800855 & -0.0673705 & -0.149522 & $\\dots$ \\\\\n",
       "\t9 & -0.0865253 & -0.0833667 & -0.0849605 & -0.201233 & -0.0800855 & -0.0673705 & -0.149522 & $\\dots$ \\\\\n",
       "\t10 & -0.0865253 & -0.0833667 & -0.0849605 & -0.201233 & -0.0800855 & -0.0673705 & -0.149522 & $\\dots$ \\\\\n",
       "\t11 & -0.0865253 & -0.0833667 & -0.0849605 & -0.201233 & -0.0800855 & -0.0673705 & -0.149522 & $\\dots$ \\\\\n",
       "\t12 & -0.0865253 & -0.0833667 & -0.0849605 & -0.201233 & -0.0800855 & -0.0673705 & -0.149522 & $\\dots$ \\\\\n",
       "\t13 & -0.0865253 & -0.0833667 & -0.0849605 & -0.201233 & -0.0800855 & -0.0673705 & -0.149522 & $\\dots$ \\\\\n",
       "\t14 & -0.0865253 & -0.0833667 & -0.0849605 & -0.201233 & -0.0800855 & -0.0673705 & -0.149522 & $\\dots$ \\\\\n",
       "\t15 & -0.0865253 & -0.0833667 & -0.0849605 & -0.201233 & -0.0800855 & -0.0673705 & -0.149522 & $\\dots$ \\\\\n",
       "\t16 & -0.0865253 & -0.0833667 & -0.0849605 & -0.201233 & -0.0800855 & -0.0673705 & -0.149522 & $\\dots$ \\\\\n",
       "\t17 & -0.0865253 & -0.0833667 & -0.0849605 & -0.201233 & -0.0800855 & -0.0673705 & -0.149522 & $\\dots$ \\\\\n",
       "\t18 & -0.0865253 & -0.0833667 & -0.0849605 & -0.201233 & -0.0800855 & -0.0673705 & -0.149522 & $\\dots$ \\\\\n",
       "\t19 & -0.0865253 & -0.0833667 & -0.0849605 & -0.201233 & -0.0800855 & -0.0673705 & -0.149522 & $\\dots$ \\\\\n",
       "\t20 & -0.0865253 & -0.0833667 & -0.0849605 & -0.201233 & -0.0800855 & -0.0673705 & -0.149522 & $\\dots$ \\\\\n",
       "\t21 & -0.0865253 & -0.0833667 & -0.0849605 & -0.201233 & -0.0800855 & -0.0673705 & -0.149522 & $\\dots$ \\\\\n",
       "\t22 & -0.0865253 & -0.0833667 & -0.0849605 & -0.201233 & -0.0800855 & -0.0673705 & -0.149522 & $\\dots$ \\\\\n",
       "\t23 & -0.0865253 & -0.0833667 & -0.0849605 & -0.201233 & -0.0800855 & -0.0673705 & -0.149522 & $\\dots$ \\\\\n",
       "\t24 & -0.0865253 & -0.0833667 & -0.0849605 & -0.201233 & -0.0800855 & -0.0673705 & -0.149522 & $\\dots$ \\\\\n",
       "\t25 & -0.0865253 & -0.0833667 & -0.0849605 & -0.201233 & -0.0800855 & -0.0673705 & -0.149522 & $\\dots$ \\\\\n",
       "\t26 & -0.0865253 & -0.0833667 & -0.0849605 & 4.86875 & -0.0800855 & -0.0673705 & -0.149522 & $\\dots$ \\\\\n",
       "\t27 & -0.0865253 & -0.0833667 & -0.0849605 & -0.201233 & -0.0800855 & -0.0673705 & -0.149522 & $\\dots$ \\\\\n",
       "\t28 & -0.0865253 & -0.0833667 & -0.0849605 & -0.201233 & -0.0800855 & -0.0673705 & -0.149522 & $\\dots$ \\\\\n",
       "\t29 & 11.514 & -0.0833667 & -0.0849605 & -0.201233 & -0.0800855 & -0.0673705 & -0.149522 & $\\dots$ \\\\\n",
       "\t30 & -0.0865253 & -0.0833667 & -0.0849605 & -0.201233 & -0.0800855 & -0.0673705 & -0.149522 & $\\dots$ \\\\\n",
       "\t$\\dots$ & $\\dots$ & $\\dots$ & $\\dots$ & $\\dots$ & $\\dots$ & $\\dots$ & $\\dots$ &  \\\\\n",
       "\\end{tabular}\n"
      ],
      "text/plain": [
       "3754×20 DataFrame. Omitted printing of 15 columns\n",
       "│ Row  │ Rare SNP 1 │ Rare SNP 2 │ Rare SNP 3 │ Rare SNP 4 │ Rare SNP 5 │\n",
       "│      │ \u001b[90mFloat64\u001b[39m    │ \u001b[90mFloat64\u001b[39m    │ \u001b[90mFloat64\u001b[39m    │ \u001b[90mFloat64\u001b[39m    │ \u001b[90mFloat64\u001b[39m    │\n",
       "├──────┼────────────┼────────────┼────────────┼────────────┼────────────┤\n",
       "│ 1    │ -0.0865253 │ -0.0833667 │ -0.0849605 │ -0.201233  │ -0.0800855 │\n",
       "│ 2    │ -0.0865253 │ -0.0833667 │ -0.0849605 │ -0.201233  │ -0.0800855 │\n",
       "│ 3    │ -0.0865253 │ -0.0833667 │ -0.0849605 │ -0.201233  │ -0.0800855 │\n",
       "│ 4    │ -0.0865253 │ -0.0833667 │ -0.0849605 │ -0.201233  │ -0.0800855 │\n",
       "│ 5    │ -0.0865253 │ -0.0833667 │ -0.0849605 │ -0.201233  │ -0.0800855 │\n",
       "│ 6    │ -0.0865253 │ -0.0833667 │ -0.0849605 │ -0.201233  │ -0.0800855 │\n",
       "│ 7    │ -0.0865253 │ -0.0833667 │ -0.0849605 │ -0.201233  │ -0.0800855 │\n",
       "│ 8    │ -0.0865253 │ 11.9535    │ -0.0849605 │ -0.201233  │ -0.0800855 │\n",
       "│ 9    │ -0.0865253 │ -0.0833667 │ -0.0849605 │ -0.201233  │ -0.0800855 │\n",
       "│ 10   │ -0.0865253 │ -0.0833667 │ -0.0849605 │ -0.201233  │ -0.0800855 │\n",
       "⋮\n",
       "│ 3744 │ -0.0865253 │ -0.0833667 │ -0.0849605 │ -0.201233  │ -0.0800855 │\n",
       "│ 3745 │ -0.0865253 │ -0.0833667 │ -0.0849605 │ -0.201233  │ -0.0800855 │\n",
       "│ 3746 │ -0.0865253 │ -0.0833667 │ -0.0849605 │ -0.201233  │ -0.0800855 │\n",
       "│ 3747 │ -0.0865253 │ -0.0833667 │ -0.0849605 │ -0.201233  │ -0.0800855 │\n",
       "│ 3748 │ -0.0865253 │ -0.0833667 │ -0.0849605 │ -0.201233  │ -0.0800855 │\n",
       "│ 3749 │ -0.0865253 │ -0.0833667 │ -0.0849605 │ -0.201233  │ -0.0800855 │\n",
       "│ 3750 │ -0.0865253 │ -0.0833667 │ -0.0849605 │ -0.201233  │ -0.0800855 │\n",
       "│ 3751 │ -0.0865253 │ -0.0833667 │ -0.0849605 │ -0.201233  │ -0.0800855 │\n",
       "│ 3752 │ -0.0865253 │ -0.0833667 │ -0.0849605 │ 4.86875    │ -0.0800855 │\n",
       "│ 3753 │ -0.0865253 │ -0.0833667 │ -0.0849605 │ -0.201233  │ -0.0800855 │\n",
       "│ 3754 │ -0.0865253 │ -0.0833667 │ -0.0849605 │ -0.201233  │ -0.0800855 │"
      ]
     },
     "execution_count": 122,
     "metadata": {},
     "output_type": "execute_result"
    }
   ],
   "source": [
    "X_rare_snps = DataFrame(convert(Matrix{Float64}, G, model=ADDITIVE_MODEL, center=true, scale=true))\n",
    "rename!(X_rare_snps, [Symbol(\"Rare SNP $i\") for i in 1:length(maf_rare)])"
   ]
  },
  {
   "cell_type": "markdown",
   "metadata": {},
   "source": [
    "## Generating Effect Sizes \n",
    "\n",
    "Below we demonstrate how to simulate effect sizes for each SNP, conditional on its minor allele frequency and a known distribution.\n",
    "\n",
    "We include these distributions to model realistic scenarios where the rarest snps have the largest effect size.  \n"
   ]
  },
  {
   "cell_type": "code",
   "execution_count": 243,
   "metadata": {},
   "outputs": [],
   "source": [
    "maf_rare = round.(maf(G), digits = 3);"
   ]
  },
  {
   "cell_type": "markdown",
   "metadata": {},
   "source": [
    "## Chisquared(df = 1)\n",
    "\n",
    "We want to use allele frequency as x and find f(x) where f is the pdf for the chisquare (df=1) density, so that the rarest snps have the biggest effect sizes."
   ]
  },
  {
   "cell_type": "code",
   "execution_count": 94,
   "metadata": {},
   "outputs": [],
   "source": [
    "# Generating Effect Sizes from Chisquared(df = 1) density\n",
    "chisq_coeff = zeros(n_snps)\n",
    "for i in 1:20\n",
    "    chisq_coeff[i] = chisqpdf(1, maf_rare[i])\n",
    "end"
   ]
  },
  {
   "cell_type": "markdown",
   "metadata": {},
   "source": [
    "Take a look at the simulated coefficients on the left, next to the corresponding minor allele frequency. Notice how the more rare SNP's have the largest effect sizes."
   ]
  },
  {
   "cell_type": "markdown",
   "metadata": {},
   "source": [
    "## Exponential\n",
    "\n",
    "For demonstration purposes, we use simulated_effectsizes3 = 3*exp.(-200*maf_rare\\[1:20\\]), rounded to the second digit, throughout this example. However, named distribution can also be used to simulate effect sizes. "
   ]
  },
  {
   "cell_type": "code",
   "execution_count": 244,
   "metadata": {},
   "outputs": [
    {
     "data": {
      "text/html": [
       "<table class=\"data-frame\"><thead><tr><th></th><th>chisq_coeff</th><th>exp_coeff</th><th>maf</th></tr><tr><th></th><th>Float64</th><th>Float64</th><th>Float64</th></tr></thead><tbody><p>20 rows × 3 columns</p><tr><th>1</th><td>6.3</td><td>0.37</td><td>0.003</td></tr><tr><th>2</th><td>7.27</td><td>0.01</td><td>0.009</td></tr><tr><th>3</th><td>6.3</td><td>0.01</td><td>0.009</td></tr><tr><th>4</th><td>2.79</td><td>0.0</td><td>0.021</td></tr><tr><th>5</th><td>7.27</td><td>0.37</td><td>0.003</td></tr><tr><th>6</th><td>8.91</td><td>0.37</td><td>0.003</td></tr><tr><th>7</th><td>3.78</td><td>0.0</td><td>0.011</td></tr><tr><th>8</th><td>2.72</td><td>0.0</td><td>0.021</td></tr><tr><th>9</th><td>3.03</td><td>0.18</td><td>0.004</td></tr><tr><th>10</th><td>2.87</td><td>0.0</td><td>0.021</td></tr><tr><th>11</th><td>2.79</td><td>0.74</td><td>0.002</td></tr><tr><th>12</th><td>2.72</td><td>0.74</td><td>0.002</td></tr><tr><th>13</th><td>7.27</td><td>0.0</td><td>0.01</td></tr><tr><th>14</th><td>7.27</td><td>0.18</td><td>0.004</td></tr><tr><th>15</th><td>7.27</td><td>0.0</td><td>0.021</td></tr><tr><th>16</th><td>2.79</td><td>0.01</td><td>0.008</td></tr><tr><th>17</th><td>6.3</td><td>0.0</td><td>0.02</td></tr><tr><th>18</th><td>2.87</td><td>0.0</td><td>0.018</td></tr><tr><th>19</th><td>2.72</td><td>0.0</td><td>0.02</td></tr><tr><th>20</th><td>6.3</td><td>0.0</td><td>0.02</td></tr></tbody></table>"
      ],
      "text/latex": [
       "\\begin{tabular}{r|ccc}\n",
       "\t& chisq\\_coeff & exp\\_coeff & maf\\\\\n",
       "\t\\hline\n",
       "\t& Float64 & Float64 & Float64\\\\\n",
       "\t\\hline\n",
       "\t1 & 6.3 & 0.37 & 0.003 \\\\\n",
       "\t2 & 7.27 & 0.01 & 0.009 \\\\\n",
       "\t3 & 6.3 & 0.01 & 0.009 \\\\\n",
       "\t4 & 2.79 & 0.0 & 0.021 \\\\\n",
       "\t5 & 7.27 & 0.37 & 0.003 \\\\\n",
       "\t6 & 8.91 & 0.37 & 0.003 \\\\\n",
       "\t7 & 3.78 & 0.0 & 0.011 \\\\\n",
       "\t8 & 2.72 & 0.0 & 0.021 \\\\\n",
       "\t9 & 3.03 & 0.18 & 0.004 \\\\\n",
       "\t10 & 2.87 & 0.0 & 0.021 \\\\\n",
       "\t11 & 2.79 & 0.74 & 0.002 \\\\\n",
       "\t12 & 2.72 & 0.74 & 0.002 \\\\\n",
       "\t13 & 7.27 & 0.0 & 0.01 \\\\\n",
       "\t14 & 7.27 & 0.18 & 0.004 \\\\\n",
       "\t15 & 7.27 & 0.0 & 0.021 \\\\\n",
       "\t16 & 2.79 & 0.01 & 0.008 \\\\\n",
       "\t17 & 6.3 & 0.0 & 0.02 \\\\\n",
       "\t18 & 2.87 & 0.0 & 0.018 \\\\\n",
       "\t19 & 2.72 & 0.0 & 0.02 \\\\\n",
       "\t20 & 6.3 & 0.0 & 0.02 \\\\\n",
       "\\end{tabular}\n"
      ],
      "text/plain": [
       "20×3 DataFrame\n",
       "│ Row │ chisq_coeff │ exp_coeff │ maf     │\n",
       "│     │ \u001b[90mFloat64\u001b[39m     │ \u001b[90mFloat64\u001b[39m   │ \u001b[90mFloat64\u001b[39m │\n",
       "├─────┼─────────────┼───────────┼─────────┤\n",
       "│ 1   │ 6.3         │ 0.37      │ 0.003   │\n",
       "│ 2   │ 7.27        │ 0.01      │ 0.009   │\n",
       "│ 3   │ 6.3         │ 0.01      │ 0.009   │\n",
       "│ 4   │ 2.79        │ 0.0       │ 0.021   │\n",
       "│ 5   │ 7.27        │ 0.37      │ 0.003   │\n",
       "│ 6   │ 8.91        │ 0.37      │ 0.003   │\n",
       "│ 7   │ 3.78        │ 0.0       │ 0.011   │\n",
       "│ 8   │ 2.72        │ 0.0       │ 0.021   │\n",
       "│ 9   │ 3.03        │ 0.18      │ 0.004   │\n",
       "│ 10  │ 2.87        │ 0.0       │ 0.021   │\n",
       "│ 11  │ 2.79        │ 0.74      │ 0.002   │\n",
       "│ 12  │ 2.72        │ 0.74      │ 0.002   │\n",
       "│ 13  │ 7.27        │ 0.0       │ 0.01    │\n",
       "│ 14  │ 7.27        │ 0.18      │ 0.004   │\n",
       "│ 15  │ 7.27        │ 0.0       │ 0.021   │\n",
       "│ 16  │ 2.79        │ 0.01      │ 0.008   │\n",
       "│ 17  │ 6.3         │ 0.0       │ 0.02    │\n",
       "│ 18  │ 2.87        │ 0.0       │ 0.018   │\n",
       "│ 19  │ 2.72        │ 0.0       │ 0.02    │\n",
       "│ 20  │ 6.3         │ 0.0       │ 0.02    │"
      ]
     },
     "execution_count": 244,
     "metadata": {},
     "output_type": "execute_result"
    }
   ],
   "source": [
    "simulated_effectsizes_exp = round.(3*exp.(-700 * maf_rare), digits = 2)\n",
    "\n",
    "DataFrame(chisq_coeff = simulated_effectsizes_chisq, exp_coeff = simulated_effectsizes_exp, maf = maf_rare)"
   ]
  },
  {
   "cell_type": "code",
   "execution_count": 245,
   "metadata": {},
   "outputs": [],
   "source": [
    "xbm = SnpBitMatrix{Float64}(G, model=ADDITIVE_MODEL, center=true, scale=true); "
   ]
  },
  {
   "cell_type": "markdown",
   "metadata": {},
   "source": [
    "### Simulate Trait\n",
    "\n",
    "Now for the univariate rare variant model we have constructed, we simulate y_2. \n",
    "\n",
    "We write our results for the marginal trait simulation with the bivariate simulation results at the end of this example."
   ]
  },
  {
   "cell_type": "code",
   "execution_count": 240,
   "metadata": {},
   "outputs": [
    {
     "data": {
      "text/plain": [
       "Variance Component Model\n",
       "  * number of traits: 1\n",
       "  * number of variance components: 2\n",
       "  * sample size: 3754"
      ]
     },
     "execution_count": 240,
     "metadata": {},
     "output_type": "execute_result"
    }
   ],
   "source": [
    "vcm_model2 = VCMTrait3(Matrix(X_non_gen), β_cov, xbm, simulated_effectsizes_exp, totalvc)"
   ]
  },
  {
   "cell_type": "code",
   "execution_count": 262,
   "metadata": {},
   "outputs": [
    {
     "data": {
      "text/html": [
       "<table class=\"data-frame\"><thead><tr><th></th><th>Marginal_Trait1</th></tr><tr><th></th><th>Float64</th></tr></thead><tbody><p>3,754 rows × 1 columns</p><tr><th>1</th><td>-0.604751</td></tr><tr><th>2</th><td>1.45546</td></tr><tr><th>3</th><td>0.819765</td></tr><tr><th>4</th><td>-1.4136</td></tr><tr><th>5</th><td>1.07872</td></tr><tr><th>6</th><td>1.64403</td></tr><tr><th>7</th><td>2.16217</td></tr><tr><th>8</th><td>-1.09265</td></tr><tr><th>9</th><td>0.435962</td></tr><tr><th>10</th><td>-0.450501</td></tr><tr><th>11</th><td>-0.961567</td></tr><tr><th>12</th><td>-0.0252264</td></tr><tr><th>13</th><td>1.65039</td></tr><tr><th>14</th><td>1.17641</td></tr><tr><th>15</th><td>-0.822735</td></tr><tr><th>16</th><td>0.910316</td></tr><tr><th>17</th><td>-0.513711</td></tr><tr><th>18</th><td>0.724811</td></tr><tr><th>19</th><td>0.392462</td></tr><tr><th>20</th><td>-0.0263029</td></tr><tr><th>21</th><td>-0.655352</td></tr><tr><th>22</th><td>-0.913262</td></tr><tr><th>23</th><td>0.522023</td></tr><tr><th>24</th><td>0.600209</td></tr><tr><th>25</th><td>-1.16161</td></tr><tr><th>26</th><td>1.11317</td></tr><tr><th>27</th><td>0.699278</td></tr><tr><th>28</th><td>-0.312185</td></tr><tr><th>29</th><td>0.0143392</td></tr><tr><th>30</th><td>0.692433</td></tr><tr><th>&vellip;</th><td>&vellip;</td></tr></tbody></table>"
      ],
      "text/latex": [
       "\\begin{tabular}{r|c}\n",
       "\t& Marginal\\_Trait1\\\\\n",
       "\t\\hline\n",
       "\t& Float64\\\\\n",
       "\t\\hline\n",
       "\t1 & -0.604751 \\\\\n",
       "\t2 & 1.45546 \\\\\n",
       "\t3 & 0.819765 \\\\\n",
       "\t4 & -1.4136 \\\\\n",
       "\t5 & 1.07872 \\\\\n",
       "\t6 & 1.64403 \\\\\n",
       "\t7 & 2.16217 \\\\\n",
       "\t8 & -1.09265 \\\\\n",
       "\t9 & 0.435962 \\\\\n",
       "\t10 & -0.450501 \\\\\n",
       "\t11 & -0.961567 \\\\\n",
       "\t12 & -0.0252264 \\\\\n",
       "\t13 & 1.65039 \\\\\n",
       "\t14 & 1.17641 \\\\\n",
       "\t15 & -0.822735 \\\\\n",
       "\t16 & 0.910316 \\\\\n",
       "\t17 & -0.513711 \\\\\n",
       "\t18 & 0.724811 \\\\\n",
       "\t19 & 0.392462 \\\\\n",
       "\t20 & -0.0263029 \\\\\n",
       "\t21 & -0.655352 \\\\\n",
       "\t22 & -0.913262 \\\\\n",
       "\t23 & 0.522023 \\\\\n",
       "\t24 & 0.600209 \\\\\n",
       "\t25 & -1.16161 \\\\\n",
       "\t26 & 1.11317 \\\\\n",
       "\t27 & 0.699278 \\\\\n",
       "\t28 & -0.312185 \\\\\n",
       "\t29 & 0.0143392 \\\\\n",
       "\t30 & 0.692433 \\\\\n",
       "\t$\\dots$ & $\\dots$ \\\\\n",
       "\\end{tabular}\n"
      ],
      "text/plain": [
       "3754×1 DataFrame\n",
       "│ Row  │ Marginal_Trait1 │\n",
       "│      │ \u001b[90mFloat64\u001b[39m         │\n",
       "├──────┼─────────────────┤\n",
       "│ 1    │ -0.604751       │\n",
       "│ 2    │ 1.45546         │\n",
       "│ 3    │ 0.819765        │\n",
       "│ 4    │ -1.4136         │\n",
       "│ 5    │ 1.07872         │\n",
       "│ 6    │ 1.64403         │\n",
       "│ 7    │ 2.16217         │\n",
       "│ 8    │ -1.09265        │\n",
       "│ 9    │ 0.435962        │\n",
       "│ 10   │ -0.450501       │\n",
       "⋮\n",
       "│ 3744 │ 0.669419        │\n",
       "│ 3745 │ 0.677443        │\n",
       "│ 3746 │ 0.58714         │\n",
       "│ 3747 │ -1.87128        │\n",
       "│ 3748 │ 0.0710735       │\n",
       "│ 3749 │ 1.33659         │\n",
       "│ 3750 │ 0.924039        │\n",
       "│ 3751 │ -0.350399       │\n",
       "│ 3752 │ 0.282356        │\n",
       "│ 3753 │ -0.716242       │\n",
       "│ 3754 │ 0.232989        │"
      ]
     },
     "execution_count": 262,
     "metadata": {},
     "output_type": "execute_result"
    }
   ],
   "source": [
    "# Generate the simulations\n",
    "y_2a = DataFrame(Marginal_Trait1 = simulate(vcm_model2)[:])"
   ]
  },
  {
   "cell_type": "markdown",
   "metadata": {},
   "source": [
    "### Alternative VCM Parameter Specification:\n",
    "\n",
    "\n",
    "We can extend the mixed model for a single trait in the previous example to demo how to efficiently simulate multiple traits, while accounting for any number of other random effects in addition to the additive genetic and environmental variance components. In particular, we note the alternative ways users can specify simulation parameters under the VCM. \n",
    "\n",
    "Say we have $m \\geq 2$ variance components for $d$ correlated traits of $n$ related people under the VCM.\n",
    "\n",
    "\n",
    "$Y_{n \\times d} \\sim \\text{MatrixNormal}(\\mathbf{M}_{n \\times d} = XB, \\Omega_{nd \\times nd} = \\Sigma_1 \\otimes V_1 + \\cdots + \\Sigma_m \\otimes V_m)$\n",
    "\n",
    "Users can also specify the model under the standard [VarianceComponentModels.jl](https://github.com/OpenMendel/VarianceComponentModels.jl/) framework as follows:\n",
    "\n",
    "* `Y`: `n x d` response matrix \n",
    "* `X`: `n x p` covariate matrix \n",
    "* `V=(V1,...,Vm)`: a tuple of `m` `n x n` covariance matrices\n",
    "\n",
    "and **parameters** are\n",
    "\n",
    "* `B`: `p x d` mean parameter matrix\n",
    "* `Σ=(Σ1,...,Σm)`: a tuple of `m` `d x d` variance components. \n",
    "\n",
    "Those who wish to specify a large number of group effects or clusters, we provide an alternative method to specify the variance components and benchmark its performance in [this Example](https://github.com/OpenMendel/TraitSimulation.jl/blob/master/docs/benchmarking_VCM.ipynb).\n",
    "\n",
    "Note both univariate and multivariate simulation models allow for alternative model specifications. For the bivariate model the following two are equivalent:\n",
    "\n",
    "**1.**\n",
    "```julia\n",
    "Σ_2 = [Σ_A, Σ_E]\n",
    "V_2 = [GRM, I_n]\n",
    "# # Create the simulation model \n",
    "vcm_model3 =  VCMTrait(Matrix(X_non_gen), β_2, xbm, γ_s, Σ_2, V_2)\n",
    "```\n",
    "\n",
    "**2.**\n",
    "```julia\n",
    "variance_formula = @vc Σ_A ⊗ GRM  + Σ_E ⊗ I_n\n",
    "vcm_model3 =  VCMTrait(Matrix(X_non_gen), β_2, xbm, γ_s, variance_formula)\n",
    "```"
   ]
  },
  {
   "cell_type": "code",
   "execution_count": 316,
   "metadata": {},
   "outputs": [
    {
     "data": {
      "text/plain": [
       "Variance Component Model\n",
       "  * number of traits: 2\n",
       "  * number of variance components: 2\n",
       "  * sample size: 3754"
      ]
     },
     "execution_count": 316,
     "metadata": {},
     "output_type": "execute_result"
    }
   ],
   "source": [
    "β_2 = [β_cov β_cov]\n",
    "γ_s = [simulated_effectsizes_exp simulated_effectsizes_chisq]\n",
    "\n",
    "Σ_A = [4 1; 1 4]\n",
    "Σ_E = [2.0 0.0; 0.0 2.0]\n",
    "n_traits = size(Σ_A, 1)\n",
    "\n",
    "variance_formula = @vc Σ_A ⊗ GRM  + Σ_E ⊗ I_n\n",
    "\n",
    "# # Create the simulation model \n",
    "vcm_model3 =  VCMTrait(Matrix(X_non_gen), β_2, xbm, γ_s, variance_formula)"
   ]
  },
  {
   "cell_type": "markdown",
   "metadata": {},
   "source": [
    "### Simulate Trait\n",
    "\n",
    "Now for the bivariate rare variant model we have constructed, we simulate y_2b. Notice how the correlation structure between the two traits has an effect in this simulation compared to the marginal simulation of y_2a above."
   ]
  },
  {
   "cell_type": "code",
   "execution_count": 315,
   "metadata": {},
   "outputs": [
    {
     "data": {
      "text/html": [
       "<table class=\"data-frame\"><thead><tr><th></th><th>Trait1</th><th>Trait2</th></tr><tr><th></th><th>Float64</th><th>Float64</th></tr></thead><tbody><p>3,754 rows × 2 columns</p><tr><th>1</th><td>-1.47905</td><td>1.9046</td></tr><tr><th>2</th><td>-2.10728</td><td>-2.39905</td></tr><tr><th>3</th><td>0.0438116</td><td>2.73362</td></tr><tr><th>4</th><td>-2.9106</td><td>-1.30386</td></tr><tr><th>5</th><td>-1.09351</td><td>-0.230581</td></tr><tr><th>6</th><td>1.39904</td><td>1.50179</td></tr><tr><th>7</th><td>3.61088</td><td>-1.25602</td></tr><tr><th>8</th><td>-1.1113</td><td>-0.305428</td></tr><tr><th>9</th><td>0.427108</td><td>1.75923</td></tr><tr><th>10</th><td>-1.888</td><td>1.97498</td></tr><tr><th>11</th><td>0.0668732</td><td>3.53715</td></tr><tr><th>12</th><td>-0.259627</td><td>-1.15099</td></tr><tr><th>13</th><td>1.86277</td><td>-1.02458</td></tr><tr><th>14</th><td>0.912029</td><td>1.73472</td></tr><tr><th>15</th><td>-1.42382</td><td>0.140039</td></tr><tr><th>16</th><td>-0.487316</td><td>0.198118</td></tr><tr><th>17</th><td>-0.194445</td><td>-3.66381</td></tr><tr><th>18</th><td>-0.679712</td><td>-1.47925</td></tr><tr><th>19</th><td>-0.632004</td><td>1.34827</td></tr><tr><th>20</th><td>1.29888</td><td>-1.49419</td></tr><tr><th>21</th><td>-3.58944</td><td>2.18469</td></tr><tr><th>22</th><td>-0.263017</td><td>0.676318</td></tr><tr><th>23</th><td>-0.438758</td><td>-1.23817</td></tr><tr><th>24</th><td>-5.81007</td><td>-3.05426</td></tr><tr><th>25</th><td>-0.877383</td><td>1.68963</td></tr><tr><th>26</th><td>-2.74411</td><td>2.19759</td></tr><tr><th>27</th><td>3.58532</td><td>-0.00416518</td></tr><tr><th>28</th><td>-3.71405</td><td>-1.81083</td></tr><tr><th>29</th><td>1.99742</td><td>-0.091735</td></tr><tr><th>30</th><td>-2.38019</td><td>2.05505</td></tr><tr><th>&vellip;</th><td>&vellip;</td><td>&vellip;</td></tr></tbody></table>"
      ],
      "text/latex": [
       "\\begin{tabular}{r|cc}\n",
       "\t& Trait1 & Trait2\\\\\n",
       "\t\\hline\n",
       "\t& Float64 & Float64\\\\\n",
       "\t\\hline\n",
       "\t1 & -1.47905 & 1.9046 \\\\\n",
       "\t2 & -2.10728 & -2.39905 \\\\\n",
       "\t3 & 0.0438116 & 2.73362 \\\\\n",
       "\t4 & -2.9106 & -1.30386 \\\\\n",
       "\t5 & -1.09351 & -0.230581 \\\\\n",
       "\t6 & 1.39904 & 1.50179 \\\\\n",
       "\t7 & 3.61088 & -1.25602 \\\\\n",
       "\t8 & -1.1113 & -0.305428 \\\\\n",
       "\t9 & 0.427108 & 1.75923 \\\\\n",
       "\t10 & -1.888 & 1.97498 \\\\\n",
       "\t11 & 0.0668732 & 3.53715 \\\\\n",
       "\t12 & -0.259627 & -1.15099 \\\\\n",
       "\t13 & 1.86277 & -1.02458 \\\\\n",
       "\t14 & 0.912029 & 1.73472 \\\\\n",
       "\t15 & -1.42382 & 0.140039 \\\\\n",
       "\t16 & -0.487316 & 0.198118 \\\\\n",
       "\t17 & -0.194445 & -3.66381 \\\\\n",
       "\t18 & -0.679712 & -1.47925 \\\\\n",
       "\t19 & -0.632004 & 1.34827 \\\\\n",
       "\t20 & 1.29888 & -1.49419 \\\\\n",
       "\t21 & -3.58944 & 2.18469 \\\\\n",
       "\t22 & -0.263017 & 0.676318 \\\\\n",
       "\t23 & -0.438758 & -1.23817 \\\\\n",
       "\t24 & -5.81007 & -3.05426 \\\\\n",
       "\t25 & -0.877383 & 1.68963 \\\\\n",
       "\t26 & -2.74411 & 2.19759 \\\\\n",
       "\t27 & 3.58532 & -0.00416518 \\\\\n",
       "\t28 & -3.71405 & -1.81083 \\\\\n",
       "\t29 & 1.99742 & -0.091735 \\\\\n",
       "\t30 & -2.38019 & 2.05505 \\\\\n",
       "\t$\\dots$ & $\\dots$ & $\\dots$ \\\\\n",
       "\\end{tabular}\n"
      ],
      "text/plain": [
       "3754×2 DataFrame\n",
       "│ Row  │ Trait1    │ Trait2    │\n",
       "│      │ \u001b[90mFloat64\u001b[39m   │ \u001b[90mFloat64\u001b[39m   │\n",
       "├──────┼───────────┼───────────┤\n",
       "│ 1    │ -1.47905  │ 1.9046    │\n",
       "│ 2    │ -2.10728  │ -2.39905  │\n",
       "│ 3    │ 0.0438116 │ 2.73362   │\n",
       "│ 4    │ -2.9106   │ -1.30386  │\n",
       "│ 5    │ -1.09351  │ -0.230581 │\n",
       "│ 6    │ 1.39904   │ 1.50179   │\n",
       "│ 7    │ 3.61088   │ -1.25602  │\n",
       "│ 8    │ -1.1113   │ -0.305428 │\n",
       "│ 9    │ 0.427108  │ 1.75923   │\n",
       "│ 10   │ -1.888    │ 1.97498   │\n",
       "⋮\n",
       "│ 3744 │ -0.322043 │ 1.53413   │\n",
       "│ 3745 │ -0.611846 │ 2.04801   │\n",
       "│ 3746 │ -1.32806  │ -1.06846  │\n",
       "│ 3747 │ -1.35291  │ 0.103839  │\n",
       "│ 3748 │ 1.52713   │ 1.76384   │\n",
       "│ 3749 │ -3.16162  │ -0.9494   │\n",
       "│ 3750 │ 3.0196    │ -1.21556  │\n",
       "│ 3751 │ -0.668764 │ 0.298337  │\n",
       "│ 3752 │ 2.04218   │ -0.46328  │\n",
       "│ 3753 │ 1.67015   │ -3.2859   │\n",
       "│ 3754 │ -0.818861 │ -1.53514  │"
      ]
     },
     "execution_count": 315,
     "metadata": {},
     "output_type": "execute_result"
    }
   ],
   "source": [
    "# Generate the simulations\n",
    "y_2b = DataFrame(simulate(vcm_model3))\n",
    "rename!(y_2b, [Symbol(\"Trait$i\") for i in 1:n_traits])"
   ]
  },
  {
   "cell_type": "markdown",
   "metadata": {},
   "source": [
    "## Saving Simulation Results to Local Machine"
   ]
  },
  {
   "cell_type": "code",
   "execution_count": 264,
   "metadata": {},
   "outputs": [
    {
     "data": {
      "text/html": [
       "<table class=\"data-frame\"><thead><tr><th></th><th>fid</th><th>iid</th><th>Marginal_Trait1</th><th>Trait1</th><th>Trait2</th><th>Rare SNP 1</th><th>Rare SNP 2</th></tr><tr><th></th><th>Abstract…</th><th>Abstract…</th><th>Float64</th><th>Float64</th><th>Float64</th><th>Float64</th><th>Float64</th></tr></thead><tbody><p>3,754 rows × 25 columns (omitted printing of 18 columns)</p><tr><th>1</th><td>1002101</td><td>1002101</td><td>-0.604751</td><td>1.9902</td><td>-4.72049</td><td>-0.0865253</td><td>-0.0833667</td></tr><tr><th>2</th><td>1004064</td><td>1004064</td><td>1.45546</td><td>1.53203</td><td>-0.175097</td><td>-0.0865253</td><td>-0.0833667</td></tr><tr><th>3</th><td>1004240</td><td>1004240</td><td>0.819765</td><td>2.85028</td><td>3.94665</td><td>-0.0865253</td><td>-0.0833667</td></tr><tr><th>4</th><td>1004303</td><td>1004303</td><td>-1.4136</td><td>-0.298231</td><td>4.31397</td><td>-0.0865253</td><td>-0.0833667</td></tr><tr><th>5</th><td>1007498</td><td>1007498</td><td>1.07872</td><td>2.06732</td><td>3.29499</td><td>-0.0865253</td><td>-0.0833667</td></tr><tr><th>6</th><td>1008785</td><td>1008785</td><td>1.64403</td><td>1.94517</td><td>1.50403</td><td>-0.0865253</td><td>-0.0833667</td></tr><tr><th>7</th><td>1011423</td><td>1011423</td><td>2.16217</td><td>-0.37764</td><td>-4.46406</td><td>-0.0865253</td><td>-0.0833667</td></tr><tr><th>8</th><td>1012197</td><td>1012197</td><td>-1.09265</td><td>-2.00309</td><td>0.602762</td><td>-0.0865253</td><td>11.9535</td></tr><tr><th>9</th><td>1013656</td><td>1013656</td><td>0.435962</td><td>0.467142</td><td>3.36846</td><td>-0.0865253</td><td>-0.0833667</td></tr><tr><th>10</th><td>1013701</td><td>1013701</td><td>-0.450501</td><td>-0.554165</td><td>0.768331</td><td>-0.0865253</td><td>-0.0833667</td></tr><tr><th>11</th><td>1013780</td><td>1013780</td><td>-0.961567</td><td>-1.07927</td><td>1.42523</td><td>-0.0865253</td><td>-0.0833667</td></tr><tr><th>12</th><td>1014507</td><td>1014507</td><td>-0.0252264</td><td>0.0593942</td><td>3.54584</td><td>-0.0865253</td><td>-0.0833667</td></tr><tr><th>13</th><td>1017600</td><td>1017600</td><td>1.65039</td><td>0.568142</td><td>1.74425</td><td>-0.0865253</td><td>-0.0833667</td></tr><tr><th>14</th><td>1017675</td><td>1017675</td><td>1.17641</td><td>2.94836</td><td>0.801462</td><td>-0.0865253</td><td>-0.0833667</td></tr><tr><th>15</th><td>1017790</td><td>1017790</td><td>-0.822735</td><td>-1.21241</td><td>0.329845</td><td>-0.0865253</td><td>-0.0833667</td></tr><tr><th>16</th><td>1020581</td><td>1020581</td><td>0.910316</td><td>4.32166</td><td>1.57079</td><td>-0.0865253</td><td>-0.0833667</td></tr><tr><th>17</th><td>1020841</td><td>1020841</td><td>-0.513711</td><td>1.51899</td><td>2.49419</td><td>-0.0865253</td><td>-0.0833667</td></tr><tr><th>18</th><td>1023895</td><td>1023895</td><td>0.724811</td><td>-4.59073</td><td>0.0112004</td><td>-0.0865253</td><td>-0.0833667</td></tr><tr><th>19</th><td>1025769</td><td>1025769</td><td>0.392462</td><td>1.17578</td><td>-3.06577</td><td>-0.0865253</td><td>-0.0833667</td></tr><tr><th>20</th><td>1027163</td><td>1027163</td><td>-0.0263029</td><td>-1.5247</td><td>1.1026</td><td>-0.0865253</td><td>-0.0833667</td></tr><tr><th>21</th><td>1027525</td><td>1027525</td><td>-0.655352</td><td>4.37944</td><td>0.755932</td><td>-0.0865253</td><td>-0.0833667</td></tr><tr><th>22</th><td>1029490</td><td>1029490</td><td>-0.913262</td><td>-0.67599</td><td>1.39619</td><td>-0.0865253</td><td>-0.0833667</td></tr><tr><th>23</th><td>1033180</td><td>1033180</td><td>0.522023</td><td>1.56966</td><td>0.27011</td><td>-0.0865253</td><td>-0.0833667</td></tr><tr><th>24</th><td>1033230</td><td>1033230</td><td>0.600209</td><td>1.32157</td><td>2.34079</td><td>-0.0865253</td><td>-0.0833667</td></tr><tr><th>25</th><td>1036162</td><td>1036162</td><td>-1.16161</td><td>-0.0423193</td><td>-0.320391</td><td>-0.0865253</td><td>-0.0833667</td></tr><tr><th>26</th><td>1040217</td><td>1040217</td><td>1.11317</td><td>2.63068</td><td>-0.905947</td><td>-0.0865253</td><td>-0.0833667</td></tr><tr><th>27</th><td>1040736</td><td>1040736</td><td>0.699278</td><td>-0.780342</td><td>-0.574408</td><td>-0.0865253</td><td>-0.0833667</td></tr><tr><th>28</th><td>1040949</td><td>1040949</td><td>-0.312185</td><td>1.5812</td><td>3.28106</td><td>-0.0865253</td><td>-0.0833667</td></tr><tr><th>29</th><td>1044552</td><td>1044552</td><td>0.0143392</td><td>-2.17473</td><td>-0.578391</td><td>11.514</td><td>-0.0833667</td></tr><tr><th>30</th><td>1044576</td><td>1044576</td><td>0.692433</td><td>-0.505629</td><td>1.07585</td><td>-0.0865253</td><td>-0.0833667</td></tr><tr><th>&vellip;</th><td>&vellip;</td><td>&vellip;</td><td>&vellip;</td><td>&vellip;</td><td>&vellip;</td><td>&vellip;</td><td>&vellip;</td></tr></tbody></table>"
      ],
      "text/latex": [
       "\\begin{tabular}{r|cccccccc}\n",
       "\t& fid & iid & Marginal\\_Trait1 & Trait1 & Trait2 & Rare SNP 1 & Rare SNP 2 & \\\\\n",
       "\t\\hline\n",
       "\t& Abstract… & Abstract… & Float64 & Float64 & Float64 & Float64 & Float64 & \\\\\n",
       "\t\\hline\n",
       "\t1 & 1002101 & 1002101 & -0.604751 & 1.9902 & -4.72049 & -0.0865253 & -0.0833667 & $\\dots$ \\\\\n",
       "\t2 & 1004064 & 1004064 & 1.45546 & 1.53203 & -0.175097 & -0.0865253 & -0.0833667 & $\\dots$ \\\\\n",
       "\t3 & 1004240 & 1004240 & 0.819765 & 2.85028 & 3.94665 & -0.0865253 & -0.0833667 & $\\dots$ \\\\\n",
       "\t4 & 1004303 & 1004303 & -1.4136 & -0.298231 & 4.31397 & -0.0865253 & -0.0833667 & $\\dots$ \\\\\n",
       "\t5 & 1007498 & 1007498 & 1.07872 & 2.06732 & 3.29499 & -0.0865253 & -0.0833667 & $\\dots$ \\\\\n",
       "\t6 & 1008785 & 1008785 & 1.64403 & 1.94517 & 1.50403 & -0.0865253 & -0.0833667 & $\\dots$ \\\\\n",
       "\t7 & 1011423 & 1011423 & 2.16217 & -0.37764 & -4.46406 & -0.0865253 & -0.0833667 & $\\dots$ \\\\\n",
       "\t8 & 1012197 & 1012197 & -1.09265 & -2.00309 & 0.602762 & -0.0865253 & 11.9535 & $\\dots$ \\\\\n",
       "\t9 & 1013656 & 1013656 & 0.435962 & 0.467142 & 3.36846 & -0.0865253 & -0.0833667 & $\\dots$ \\\\\n",
       "\t10 & 1013701 & 1013701 & -0.450501 & -0.554165 & 0.768331 & -0.0865253 & -0.0833667 & $\\dots$ \\\\\n",
       "\t11 & 1013780 & 1013780 & -0.961567 & -1.07927 & 1.42523 & -0.0865253 & -0.0833667 & $\\dots$ \\\\\n",
       "\t12 & 1014507 & 1014507 & -0.0252264 & 0.0593942 & 3.54584 & -0.0865253 & -0.0833667 & $\\dots$ \\\\\n",
       "\t13 & 1017600 & 1017600 & 1.65039 & 0.568142 & 1.74425 & -0.0865253 & -0.0833667 & $\\dots$ \\\\\n",
       "\t14 & 1017675 & 1017675 & 1.17641 & 2.94836 & 0.801462 & -0.0865253 & -0.0833667 & $\\dots$ \\\\\n",
       "\t15 & 1017790 & 1017790 & -0.822735 & -1.21241 & 0.329845 & -0.0865253 & -0.0833667 & $\\dots$ \\\\\n",
       "\t16 & 1020581 & 1020581 & 0.910316 & 4.32166 & 1.57079 & -0.0865253 & -0.0833667 & $\\dots$ \\\\\n",
       "\t17 & 1020841 & 1020841 & -0.513711 & 1.51899 & 2.49419 & -0.0865253 & -0.0833667 & $\\dots$ \\\\\n",
       "\t18 & 1023895 & 1023895 & 0.724811 & -4.59073 & 0.0112004 & -0.0865253 & -0.0833667 & $\\dots$ \\\\\n",
       "\t19 & 1025769 & 1025769 & 0.392462 & 1.17578 & -3.06577 & -0.0865253 & -0.0833667 & $\\dots$ \\\\\n",
       "\t20 & 1027163 & 1027163 & -0.0263029 & -1.5247 & 1.1026 & -0.0865253 & -0.0833667 & $\\dots$ \\\\\n",
       "\t21 & 1027525 & 1027525 & -0.655352 & 4.37944 & 0.755932 & -0.0865253 & -0.0833667 & $\\dots$ \\\\\n",
       "\t22 & 1029490 & 1029490 & -0.913262 & -0.67599 & 1.39619 & -0.0865253 & -0.0833667 & $\\dots$ \\\\\n",
       "\t23 & 1033180 & 1033180 & 0.522023 & 1.56966 & 0.27011 & -0.0865253 & -0.0833667 & $\\dots$ \\\\\n",
       "\t24 & 1033230 & 1033230 & 0.600209 & 1.32157 & 2.34079 & -0.0865253 & -0.0833667 & $\\dots$ \\\\\n",
       "\t25 & 1036162 & 1036162 & -1.16161 & -0.0423193 & -0.320391 & -0.0865253 & -0.0833667 & $\\dots$ \\\\\n",
       "\t26 & 1040217 & 1040217 & 1.11317 & 2.63068 & -0.905947 & -0.0865253 & -0.0833667 & $\\dots$ \\\\\n",
       "\t27 & 1040736 & 1040736 & 0.699278 & -0.780342 & -0.574408 & -0.0865253 & -0.0833667 & $\\dots$ \\\\\n",
       "\t28 & 1040949 & 1040949 & -0.312185 & 1.5812 & 3.28106 & -0.0865253 & -0.0833667 & $\\dots$ \\\\\n",
       "\t29 & 1044552 & 1044552 & 0.0143392 & -2.17473 & -0.578391 & 11.514 & -0.0833667 & $\\dots$ \\\\\n",
       "\t30 & 1044576 & 1044576 & 0.692433 & -0.505629 & 1.07585 & -0.0865253 & -0.0833667 & $\\dots$ \\\\\n",
       "\t$\\dots$ & $\\dots$ & $\\dots$ & $\\dots$ & $\\dots$ & $\\dots$ & $\\dots$ & $\\dots$ &  \\\\\n",
       "\\end{tabular}\n"
      ],
      "text/plain": [
       "3754×25 DataFrame. Omitted printing of 20 columns\n",
       "│ Row  │ fid       │ iid       │ Marginal_Trait1 │ Trait1    │ Trait2    │\n",
       "│      │ \u001b[90mAbstract…\u001b[39m │ \u001b[90mAbstract…\u001b[39m │ \u001b[90mFloat64\u001b[39m         │ \u001b[90mFloat64\u001b[39m   │ \u001b[90mFloat64\u001b[39m   │\n",
       "├──────┼───────────┼───────────┼─────────────────┼───────────┼───────────┤\n",
       "│ 1    │ 1002101   │ 1002101   │ -0.604751       │ 1.9902    │ -4.72049  │\n",
       "│ 2    │ 1004064   │ 1004064   │ 1.45546         │ 1.53203   │ -0.175097 │\n",
       "│ 3    │ 1004240   │ 1004240   │ 0.819765        │ 2.85028   │ 3.94665   │\n",
       "│ 4    │ 1004303   │ 1004303   │ -1.4136         │ -0.298231 │ 4.31397   │\n",
       "│ 5    │ 1007498   │ 1007498   │ 1.07872         │ 2.06732   │ 3.29499   │\n",
       "│ 6    │ 1008785   │ 1008785   │ 1.64403         │ 1.94517   │ 1.50403   │\n",
       "│ 7    │ 1011423   │ 1011423   │ 2.16217         │ -0.37764  │ -4.46406  │\n",
       "│ 8    │ 1012197   │ 1012197   │ -1.09265        │ -2.00309  │ 0.602762  │\n",
       "│ 9    │ 1013656   │ 1013656   │ 0.435962        │ 0.467142  │ 3.36846   │\n",
       "│ 10   │ 1013701   │ 1013701   │ -0.450501       │ -0.554165 │ 0.768331  │\n",
       "⋮\n",
       "│ 3744 │ 6009771   │ 6009771   │ 0.669419        │ -2.66078  │ -2.96037  │\n",
       "│ 3745 │ 6010266   │ 6010266   │ 0.677443        │ 2.68659   │ 0.847161  │\n",
       "│ 3746 │ 6011152   │ 6011152   │ 0.58714         │ 0.313096  │ 2.30866   │\n",
       "│ 3747 │ 6011216   │ 6011216   │ -1.87128        │ -2.84396  │ -3.26093  │\n",
       "│ 3748 │ 6012179   │ 6012179   │ 0.0710735       │ 0.357365  │ 3.17846   │\n",
       "│ 3749 │ 6012953   │ 6012953   │ 1.33659         │ 0.0442991 │ -2.1416   │\n",
       "│ 3750 │ 6013739   │ 6013739   │ 0.924039        │ 1.74015   │ -0.350206 │\n",
       "│ 3751 │ 6013907   │ 6013907   │ -0.350399       │ -2.26052  │ 0.359631  │\n",
       "│ 3752 │ 6016341   │ 6016341   │ 0.282356        │ -0.349193 │ -0.10265  │\n",
       "│ 3753 │ 6022066   │ 6022066   │ -0.716242       │ 2.65326   │ -1.5621   │\n",
       "│ 3754 │ 6026204   │ 6026204   │ 0.232989        │ -0.684376 │ 1.19223   │"
      ]
     },
     "execution_count": 264,
     "metadata": {},
     "output_type": "execute_result"
    }
   ],
   "source": [
    "Trait2_data = [IndividualID hcat(y_2a, y_2b, X_rare_snps)]"
   ]
  },
  {
   "cell_type": "code",
   "execution_count": 265,
   "metadata": {},
   "outputs": [
    {
     "data": {
      "text/html": [
       "<table class=\"data-frame\"><thead><tr><th></th><th>Coefficients_Trait1</th><th>Coefficients_Trait2</th><th>maf</th></tr><tr><th></th><th>Float64</th><th>Float64</th><th>Float64</th></tr></thead><tbody><p>20 rows × 3 columns</p><tr><th>1</th><td>0.37</td><td>6.3</td><td>0.003</td></tr><tr><th>2</th><td>0.01</td><td>7.27</td><td>0.009</td></tr><tr><th>3</th><td>0.01</td><td>6.3</td><td>0.009</td></tr><tr><th>4</th><td>0.0</td><td>2.79</td><td>0.021</td></tr><tr><th>5</th><td>0.37</td><td>7.27</td><td>0.003</td></tr><tr><th>6</th><td>0.37</td><td>8.91</td><td>0.003</td></tr><tr><th>7</th><td>0.0</td><td>3.78</td><td>0.011</td></tr><tr><th>8</th><td>0.0</td><td>2.72</td><td>0.021</td></tr><tr><th>9</th><td>0.18</td><td>3.03</td><td>0.004</td></tr><tr><th>10</th><td>0.0</td><td>2.87</td><td>0.021</td></tr><tr><th>11</th><td>0.74</td><td>2.79</td><td>0.002</td></tr><tr><th>12</th><td>0.74</td><td>2.72</td><td>0.002</td></tr><tr><th>13</th><td>0.0</td><td>7.27</td><td>0.01</td></tr><tr><th>14</th><td>0.18</td><td>7.27</td><td>0.004</td></tr><tr><th>15</th><td>0.0</td><td>7.27</td><td>0.021</td></tr><tr><th>16</th><td>0.01</td><td>2.79</td><td>0.008</td></tr><tr><th>17</th><td>0.0</td><td>6.3</td><td>0.02</td></tr><tr><th>18</th><td>0.0</td><td>2.87</td><td>0.018</td></tr><tr><th>19</th><td>0.0</td><td>2.72</td><td>0.02</td></tr><tr><th>20</th><td>0.0</td><td>6.3</td><td>0.02</td></tr></tbody></table>"
      ],
      "text/latex": [
       "\\begin{tabular}{r|ccc}\n",
       "\t& Coefficients\\_Trait1 & Coefficients\\_Trait2 & maf\\\\\n",
       "\t\\hline\n",
       "\t& Float64 & Float64 & Float64\\\\\n",
       "\t\\hline\n",
       "\t1 & 0.37 & 6.3 & 0.003 \\\\\n",
       "\t2 & 0.01 & 7.27 & 0.009 \\\\\n",
       "\t3 & 0.01 & 6.3 & 0.009 \\\\\n",
       "\t4 & 0.0 & 2.79 & 0.021 \\\\\n",
       "\t5 & 0.37 & 7.27 & 0.003 \\\\\n",
       "\t6 & 0.37 & 8.91 & 0.003 \\\\\n",
       "\t7 & 0.0 & 3.78 & 0.011 \\\\\n",
       "\t8 & 0.0 & 2.72 & 0.021 \\\\\n",
       "\t9 & 0.18 & 3.03 & 0.004 \\\\\n",
       "\t10 & 0.0 & 2.87 & 0.021 \\\\\n",
       "\t11 & 0.74 & 2.79 & 0.002 \\\\\n",
       "\t12 & 0.74 & 2.72 & 0.002 \\\\\n",
       "\t13 & 0.0 & 7.27 & 0.01 \\\\\n",
       "\t14 & 0.18 & 7.27 & 0.004 \\\\\n",
       "\t15 & 0.0 & 7.27 & 0.021 \\\\\n",
       "\t16 & 0.01 & 2.79 & 0.008 \\\\\n",
       "\t17 & 0.0 & 6.3 & 0.02 \\\\\n",
       "\t18 & 0.0 & 2.87 & 0.018 \\\\\n",
       "\t19 & 0.0 & 2.72 & 0.02 \\\\\n",
       "\t20 & 0.0 & 6.3 & 0.02 \\\\\n",
       "\\end{tabular}\n"
      ],
      "text/plain": [
       "20×3 DataFrame\n",
       "│ Row │ Coefficients_Trait1 │ Coefficients_Trait2 │ maf     │\n",
       "│     │ \u001b[90mFloat64\u001b[39m             │ \u001b[90mFloat64\u001b[39m             │ \u001b[90mFloat64\u001b[39m │\n",
       "├─────┼─────────────────────┼─────────────────────┼─────────┤\n",
       "│ 1   │ 0.37                │ 6.3                 │ 0.003   │\n",
       "│ 2   │ 0.01                │ 7.27                │ 0.009   │\n",
       "│ 3   │ 0.01                │ 6.3                 │ 0.009   │\n",
       "│ 4   │ 0.0                 │ 2.79                │ 0.021   │\n",
       "│ 5   │ 0.37                │ 7.27                │ 0.003   │\n",
       "│ 6   │ 0.37                │ 8.91                │ 0.003   │\n",
       "│ 7   │ 0.0                 │ 3.78                │ 0.011   │\n",
       "│ 8   │ 0.0                 │ 2.72                │ 0.021   │\n",
       "│ 9   │ 0.18                │ 3.03                │ 0.004   │\n",
       "│ 10  │ 0.0                 │ 2.87                │ 0.021   │\n",
       "│ 11  │ 0.74                │ 2.79                │ 0.002   │\n",
       "│ 12  │ 0.74                │ 2.72                │ 0.002   │\n",
       "│ 13  │ 0.0                 │ 7.27                │ 0.01    │\n",
       "│ 14  │ 0.18                │ 7.27                │ 0.004   │\n",
       "│ 15  │ 0.0                 │ 7.27                │ 0.021   │\n",
       "│ 16  │ 0.01                │ 2.79                │ 0.008   │\n",
       "│ 17  │ 0.0                 │ 6.3                 │ 0.02    │\n",
       "│ 18  │ 0.0                 │ 2.87                │ 0.018   │\n",
       "│ 19  │ 0.0                 │ 2.72                │ 0.02    │\n",
       "│ 20  │ 0.0                 │ 6.3                 │ 0.02    │"
      ]
     },
     "execution_count": 265,
     "metadata": {},
     "output_type": "execute_result"
    }
   ],
   "source": [
    "Trait2_SNPs = DataFrame(Coefficients_Trait1 = simulated_effectsizes_exp,\n",
    "                       Coefficients_Trait2 = simulated_effectsizes_chisq, maf = maf_rare)"
   ]
  },
  {
   "cell_type": "code",
   "execution_count": 188,
   "metadata": {},
   "outputs": [],
   "source": [
    "# CSV.write(\"Trait2_data.csv\", Trait2_data)\n",
    "# CSV.write(\"Trait2_SNPs.csv\", Trait2_SNPs)"
   ]
  },
  {
   "cell_type": "markdown",
   "metadata": {},
   "source": [
    "# Example 3: GLMM Trait Simulation\n",
    "\n",
    "Next, we demonstrate how to simulate a Poisson Trait, after controlling for family structure.  "
   ]
  },
  {
   "cell_type": "code",
   "execution_count": 320,
   "metadata": {},
   "outputs": [],
   "source": [
    "X_3 = Matrix(hcat(X_non_gen, X_rare_snps))\n",
    "β_3 = [β_cov β_cov; simulated_effectsizes_exp simulated_effectsizes_chisq];"
   ]
  },
  {
   "cell_type": "code",
   "execution_count": 318,
   "metadata": {},
   "outputs": [
    {
     "data": {
      "text/plain": [
       "Generalized Linear Mixed Model\n",
       "  * response distribution: Poisson\n",
       "  * link function: LogLink\n",
       "  * number of variance components: 2\n",
       "  * sample size: 3754"
      ]
     },
     "execution_count": 318,
     "metadata": {},
     "output_type": "execute_result"
    }
   ],
   "source": [
    "Σ_A = [4 -1; -1 4]\n",
    "Σ_E = [2.0 0.0; 0.0 2.0];\n",
    "\n",
    "dist = Poisson()\n",
    "link = LogLink()\n",
    "\n",
    "variance_formula = @vc Σ_A ⊗ GRM + Σ_E ⊗ I_n\n",
    "GLMMmodel = GLMMTrait(X_3, β_3, variance_formula, dist, link)"
   ]
  },
  {
   "cell_type": "code",
   "execution_count": 319,
   "metadata": {},
   "outputs": [
    {
     "data": {
      "text/html": [
       "<table class=\"data-frame\"><thead><tr><th></th><th>Trait1</th><th>Trait2</th></tr><tr><th></th><th>Int64</th><th>Int64</th></tr></thead><tbody><p>3,754 rows × 2 columns</p><tr><th>1</th><td>2</td><td>3</td></tr><tr><th>2</th><td>2</td><td>3</td></tr><tr><th>3</th><td>2</td><td>3</td></tr><tr><th>4</th><td>2</td><td>3</td></tr><tr><th>5</th><td>2</td><td>3</td></tr><tr><th>6</th><td>2</td><td>3</td></tr><tr><th>7</th><td>2</td><td>3</td></tr><tr><th>8</th><td>2</td><td>3</td></tr><tr><th>9</th><td>2</td><td>3</td></tr><tr><th>10</th><td>2</td><td>3</td></tr><tr><th>11</th><td>2</td><td>3</td></tr><tr><th>12</th><td>2</td><td>3</td></tr><tr><th>13</th><td>2</td><td>3</td></tr><tr><th>14</th><td>2</td><td>3</td></tr><tr><th>15</th><td>2</td><td>3</td></tr><tr><th>16</th><td>2</td><td>3</td></tr><tr><th>17</th><td>2</td><td>3</td></tr><tr><th>18</th><td>2</td><td>3</td></tr><tr><th>19</th><td>2</td><td>3</td></tr><tr><th>20</th><td>2</td><td>3</td></tr><tr><th>21</th><td>2</td><td>3</td></tr><tr><th>22</th><td>2</td><td>3</td></tr><tr><th>23</th><td>2</td><td>3</td></tr><tr><th>24</th><td>2</td><td>3</td></tr><tr><th>25</th><td>2</td><td>3</td></tr><tr><th>26</th><td>2</td><td>3</td></tr><tr><th>27</th><td>2</td><td>3</td></tr><tr><th>28</th><td>2</td><td>3</td></tr><tr><th>29</th><td>2</td><td>3</td></tr><tr><th>30</th><td>2</td><td>3</td></tr><tr><th>&vellip;</th><td>&vellip;</td><td>&vellip;</td></tr></tbody></table>"
      ],
      "text/latex": [
       "\\begin{tabular}{r|cc}\n",
       "\t& Trait1 & Trait2\\\\\n",
       "\t\\hline\n",
       "\t& Int64 & Int64\\\\\n",
       "\t\\hline\n",
       "\t1 & 2 & 3 \\\\\n",
       "\t2 & 2 & 3 \\\\\n",
       "\t3 & 2 & 3 \\\\\n",
       "\t4 & 2 & 3 \\\\\n",
       "\t5 & 2 & 3 \\\\\n",
       "\t6 & 2 & 3 \\\\\n",
       "\t7 & 2 & 3 \\\\\n",
       "\t8 & 2 & 3 \\\\\n",
       "\t9 & 2 & 3 \\\\\n",
       "\t10 & 2 & 3 \\\\\n",
       "\t11 & 2 & 3 \\\\\n",
       "\t12 & 2 & 3 \\\\\n",
       "\t13 & 2 & 3 \\\\\n",
       "\t14 & 2 & 3 \\\\\n",
       "\t15 & 2 & 3 \\\\\n",
       "\t16 & 2 & 3 \\\\\n",
       "\t17 & 2 & 3 \\\\\n",
       "\t18 & 2 & 3 \\\\\n",
       "\t19 & 2 & 3 \\\\\n",
       "\t20 & 2 & 3 \\\\\n",
       "\t21 & 2 & 3 \\\\\n",
       "\t22 & 2 & 3 \\\\\n",
       "\t23 & 2 & 3 \\\\\n",
       "\t24 & 2 & 3 \\\\\n",
       "\t25 & 2 & 3 \\\\\n",
       "\t26 & 2 & 3 \\\\\n",
       "\t27 & 2 & 3 \\\\\n",
       "\t28 & 2 & 3 \\\\\n",
       "\t29 & 2 & 3 \\\\\n",
       "\t30 & 2 & 3 \\\\\n",
       "\t$\\dots$ & $\\dots$ & $\\dots$ \\\\\n",
       "\\end{tabular}\n"
      ],
      "text/plain": [
       "3754×2 DataFrame\n",
       "│ Row  │ Trait1 │ Trait2 │\n",
       "│      │ \u001b[90mInt64\u001b[39m  │ \u001b[90mInt64\u001b[39m  │\n",
       "├──────┼────────┼────────┤\n",
       "│ 1    │ 2      │ 3      │\n",
       "│ 2    │ 2      │ 3      │\n",
       "│ 3    │ 2      │ 3      │\n",
       "│ 4    │ 2      │ 3      │\n",
       "│ 5    │ 2      │ 3      │\n",
       "│ 6    │ 2      │ 3      │\n",
       "│ 7    │ 2      │ 3      │\n",
       "│ 8    │ 2      │ 3      │\n",
       "│ 9    │ 2      │ 3      │\n",
       "│ 10   │ 2      │ 3      │\n",
       "⋮\n",
       "│ 3744 │ 2      │ 3      │\n",
       "│ 3745 │ 2      │ 3      │\n",
       "│ 3746 │ 2      │ 3      │\n",
       "│ 3747 │ 2      │ 3      │\n",
       "│ 3748 │ 2      │ 3      │\n",
       "│ 3749 │ 2      │ 3      │\n",
       "│ 3750 │ 2      │ 3      │\n",
       "│ 3751 │ 2      │ 3      │\n",
       "│ 3752 │ 2      │ 3      │\n",
       "│ 3753 │ 2      │ 3      │\n",
       "│ 3754 │ 2      │ 3      │"
      ]
     },
     "execution_count": 319,
     "metadata": {},
     "output_type": "execute_result"
    }
   ],
   "source": [
    "y_3 = DataFrame(stimulate(GLMMmodel))\n",
    "rename!(y_3, [Symbol(\"Trait$i\") for i in 1:n_traits])"
   ]
  },
  {
   "cell_type": "code",
   "execution_count": 323,
   "metadata": {},
   "outputs": [
    {
     "data": {
      "text/html": [
       "<table class=\"data-frame\"><thead><tr><th></th><th>fid</th><th>iid</th><th>Trait1</th><th>Trait2</th><th>intercept</th><th>age</th><th>sex</th><th>Rare SNP 1</th></tr><tr><th></th><th>Abstract…</th><th>Abstract…</th><th>Int64</th><th>Int64</th><th>Float64</th><th>Float64</th><th>Float64</th><th>Float64</th></tr></thead><tbody><p>3,754 rows × 27 columns (omitted printing of 19 columns)</p><tr><th>1</th><td>1002101</td><td>1002101</td><td>2</td><td>3</td><td>1.0</td><td>0.961317</td><td>1.0</td><td>-0.0865253</td></tr><tr><th>2</th><td>1004064</td><td>1004064</td><td>2</td><td>3</td><td>1.0</td><td>0.430665</td><td>1.0</td><td>-0.0865253</td></tr><tr><th>3</th><td>1004240</td><td>1004240</td><td>2</td><td>3</td><td>1.0</td><td>-0.540137</td><td>1.0</td><td>-0.0865253</td></tr><tr><th>4</th><td>1004303</td><td>1004303</td><td>2</td><td>3</td><td>1.0</td><td>-2.13068</td><td>1.0</td><td>-0.0865253</td></tr><tr><th>5</th><td>1007498</td><td>1007498</td><td>2</td><td>3</td><td>1.0</td><td>0.69471</td><td>1.0</td><td>-0.0865253</td></tr><tr><th>6</th><td>1008785</td><td>1008785</td><td>2</td><td>3</td><td>1.0</td><td>-0.0775978</td><td>1.0</td><td>-0.0865253</td></tr><tr><th>7</th><td>1011423</td><td>1011423</td><td>2</td><td>3</td><td>1.0</td><td>1.35295</td><td>1.0</td><td>-0.0865253</td></tr><tr><th>8</th><td>1012197</td><td>1012197</td><td>2</td><td>3</td><td>1.0</td><td>1.38327</td><td>1.0</td><td>-0.0865253</td></tr><tr><th>9</th><td>1013656</td><td>1013656</td><td>2</td><td>3</td><td>1.0</td><td>0.573823</td><td>1.0</td><td>-0.0865253</td></tr><tr><th>10</th><td>1013701</td><td>1013701</td><td>2</td><td>3</td><td>1.0</td><td>-0.839263</td><td>1.0</td><td>-0.0865253</td></tr><tr><th>11</th><td>1013780</td><td>1013780</td><td>2</td><td>3</td><td>1.0</td><td>2.48709</td><td>1.0</td><td>-0.0865253</td></tr><tr><th>12</th><td>1014507</td><td>1014507</td><td>2</td><td>3</td><td>1.0</td><td>0.465625</td><td>1.0</td><td>-0.0865253</td></tr><tr><th>13</th><td>1017600</td><td>1017600</td><td>2</td><td>3</td><td>1.0</td><td>-0.664101</td><td>1.0</td><td>-0.0865253</td></tr><tr><th>14</th><td>1017675</td><td>1017675</td><td>2</td><td>3</td><td>1.0</td><td>-0.939856</td><td>1.0</td><td>-0.0865253</td></tr><tr><th>15</th><td>1017790</td><td>1017790</td><td>2</td><td>3</td><td>1.0</td><td>-0.940508</td><td>1.0</td><td>-0.0865253</td></tr><tr><th>16</th><td>1020581</td><td>1020581</td><td>2</td><td>3</td><td>1.0</td><td>0.927021</td><td>1.0</td><td>-0.0865253</td></tr><tr><th>17</th><td>1020841</td><td>1020841</td><td>2</td><td>3</td><td>1.0</td><td>0.945437</td><td>1.0</td><td>-0.0865253</td></tr><tr><th>18</th><td>1023895</td><td>1023895</td><td>2</td><td>3</td><td>1.0</td><td>1.44214</td><td>1.0</td><td>-0.0865253</td></tr><tr><th>19</th><td>1025769</td><td>1025769</td><td>2</td><td>3</td><td>1.0</td><td>0.104855</td><td>1.0</td><td>-0.0865253</td></tr><tr><th>20</th><td>1027163</td><td>1027163</td><td>2</td><td>3</td><td>1.0</td><td>0.549002</td><td>1.0</td><td>-0.0865253</td></tr><tr><th>21</th><td>1027525</td><td>1027525</td><td>2</td><td>3</td><td>1.0</td><td>1.33847</td><td>1.0</td><td>-0.0865253</td></tr><tr><th>22</th><td>1029490</td><td>1029490</td><td>2</td><td>3</td><td>1.0</td><td>0.876872</td><td>1.0</td><td>-0.0865253</td></tr><tr><th>23</th><td>1033180</td><td>1033180</td><td>2</td><td>3</td><td>1.0</td><td>1.16735</td><td>1.0</td><td>-0.0865253</td></tr><tr><th>24</th><td>1033230</td><td>1033230</td><td>2</td><td>3</td><td>1.0</td><td>0.972083</td><td>1.0</td><td>-0.0865253</td></tr><tr><th>25</th><td>1036162</td><td>1036162</td><td>2</td><td>3</td><td>1.0</td><td>0.970387</td><td>1.0</td><td>-0.0865253</td></tr><tr><th>26</th><td>1040217</td><td>1040217</td><td>2</td><td>3</td><td>1.0</td><td>0.812626</td><td>1.0</td><td>-0.0865253</td></tr><tr><th>27</th><td>1040736</td><td>1040736</td><td>2</td><td>3</td><td>1.0</td><td>-0.41224</td><td>1.0</td><td>-0.0865253</td></tr><tr><th>28</th><td>1040949</td><td>1040949</td><td>2</td><td>3</td><td>1.0</td><td>-0.782517</td><td>1.0</td><td>-0.0865253</td></tr><tr><th>29</th><td>1044552</td><td>1044552</td><td>2</td><td>3</td><td>1.0</td><td>-0.991376</td><td>1.0</td><td>11.514</td></tr><tr><th>30</th><td>1044576</td><td>1044576</td><td>2</td><td>3</td><td>1.0</td><td>1.01573</td><td>1.0</td><td>-0.0865253</td></tr><tr><th>&vellip;</th><td>&vellip;</td><td>&vellip;</td><td>&vellip;</td><td>&vellip;</td><td>&vellip;</td><td>&vellip;</td><td>&vellip;</td><td>&vellip;</td></tr></tbody></table>"
      ],
      "text/latex": [
       "\\begin{tabular}{r|ccccccccc}\n",
       "\t& fid & iid & Trait1 & Trait2 & intercept & age & sex & Rare SNP 1 & \\\\\n",
       "\t\\hline\n",
       "\t& Abstract… & Abstract… & Int64 & Int64 & Float64 & Float64 & Float64 & Float64 & \\\\\n",
       "\t\\hline\n",
       "\t1 & 1002101 & 1002101 & 2 & 3 & 1.0 & 0.961317 & 1.0 & -0.0865253 & $\\dots$ \\\\\n",
       "\t2 & 1004064 & 1004064 & 2 & 3 & 1.0 & 0.430665 & 1.0 & -0.0865253 & $\\dots$ \\\\\n",
       "\t3 & 1004240 & 1004240 & 2 & 3 & 1.0 & -0.540137 & 1.0 & -0.0865253 & $\\dots$ \\\\\n",
       "\t4 & 1004303 & 1004303 & 2 & 3 & 1.0 & -2.13068 & 1.0 & -0.0865253 & $\\dots$ \\\\\n",
       "\t5 & 1007498 & 1007498 & 2 & 3 & 1.0 & 0.69471 & 1.0 & -0.0865253 & $\\dots$ \\\\\n",
       "\t6 & 1008785 & 1008785 & 2 & 3 & 1.0 & -0.0775978 & 1.0 & -0.0865253 & $\\dots$ \\\\\n",
       "\t7 & 1011423 & 1011423 & 2 & 3 & 1.0 & 1.35295 & 1.0 & -0.0865253 & $\\dots$ \\\\\n",
       "\t8 & 1012197 & 1012197 & 2 & 3 & 1.0 & 1.38327 & 1.0 & -0.0865253 & $\\dots$ \\\\\n",
       "\t9 & 1013656 & 1013656 & 2 & 3 & 1.0 & 0.573823 & 1.0 & -0.0865253 & $\\dots$ \\\\\n",
       "\t10 & 1013701 & 1013701 & 2 & 3 & 1.0 & -0.839263 & 1.0 & -0.0865253 & $\\dots$ \\\\\n",
       "\t11 & 1013780 & 1013780 & 2 & 3 & 1.0 & 2.48709 & 1.0 & -0.0865253 & $\\dots$ \\\\\n",
       "\t12 & 1014507 & 1014507 & 2 & 3 & 1.0 & 0.465625 & 1.0 & -0.0865253 & $\\dots$ \\\\\n",
       "\t13 & 1017600 & 1017600 & 2 & 3 & 1.0 & -0.664101 & 1.0 & -0.0865253 & $\\dots$ \\\\\n",
       "\t14 & 1017675 & 1017675 & 2 & 3 & 1.0 & -0.939856 & 1.0 & -0.0865253 & $\\dots$ \\\\\n",
       "\t15 & 1017790 & 1017790 & 2 & 3 & 1.0 & -0.940508 & 1.0 & -0.0865253 & $\\dots$ \\\\\n",
       "\t16 & 1020581 & 1020581 & 2 & 3 & 1.0 & 0.927021 & 1.0 & -0.0865253 & $\\dots$ \\\\\n",
       "\t17 & 1020841 & 1020841 & 2 & 3 & 1.0 & 0.945437 & 1.0 & -0.0865253 & $\\dots$ \\\\\n",
       "\t18 & 1023895 & 1023895 & 2 & 3 & 1.0 & 1.44214 & 1.0 & -0.0865253 & $\\dots$ \\\\\n",
       "\t19 & 1025769 & 1025769 & 2 & 3 & 1.0 & 0.104855 & 1.0 & -0.0865253 & $\\dots$ \\\\\n",
       "\t20 & 1027163 & 1027163 & 2 & 3 & 1.0 & 0.549002 & 1.0 & -0.0865253 & $\\dots$ \\\\\n",
       "\t21 & 1027525 & 1027525 & 2 & 3 & 1.0 & 1.33847 & 1.0 & -0.0865253 & $\\dots$ \\\\\n",
       "\t22 & 1029490 & 1029490 & 2 & 3 & 1.0 & 0.876872 & 1.0 & -0.0865253 & $\\dots$ \\\\\n",
       "\t23 & 1033180 & 1033180 & 2 & 3 & 1.0 & 1.16735 & 1.0 & -0.0865253 & $\\dots$ \\\\\n",
       "\t24 & 1033230 & 1033230 & 2 & 3 & 1.0 & 0.972083 & 1.0 & -0.0865253 & $\\dots$ \\\\\n",
       "\t25 & 1036162 & 1036162 & 2 & 3 & 1.0 & 0.970387 & 1.0 & -0.0865253 & $\\dots$ \\\\\n",
       "\t26 & 1040217 & 1040217 & 2 & 3 & 1.0 & 0.812626 & 1.0 & -0.0865253 & $\\dots$ \\\\\n",
       "\t27 & 1040736 & 1040736 & 2 & 3 & 1.0 & -0.41224 & 1.0 & -0.0865253 & $\\dots$ \\\\\n",
       "\t28 & 1040949 & 1040949 & 2 & 3 & 1.0 & -0.782517 & 1.0 & -0.0865253 & $\\dots$ \\\\\n",
       "\t29 & 1044552 & 1044552 & 2 & 3 & 1.0 & -0.991376 & 1.0 & 11.514 & $\\dots$ \\\\\n",
       "\t30 & 1044576 & 1044576 & 2 & 3 & 1.0 & 1.01573 & 1.0 & -0.0865253 & $\\dots$ \\\\\n",
       "\t$\\dots$ & $\\dots$ & $\\dots$ & $\\dots$ & $\\dots$ & $\\dots$ & $\\dots$ & $\\dots$ & $\\dots$ &  \\\\\n",
       "\\end{tabular}\n"
      ],
      "text/plain": [
       "3754×27 DataFrame. Omitted printing of 21 columns\n",
       "│ Row  │ fid       │ iid       │ Trait1 │ Trait2 │ intercept │ age        │\n",
       "│      │ \u001b[90mAbstract…\u001b[39m │ \u001b[90mAbstract…\u001b[39m │ \u001b[90mInt64\u001b[39m  │ \u001b[90mInt64\u001b[39m  │ \u001b[90mFloat64\u001b[39m   │ \u001b[90mFloat64\u001b[39m    │\n",
       "├──────┼───────────┼───────────┼────────┼────────┼───────────┼────────────┤\n",
       "│ 1    │ 1002101   │ 1002101   │ 2      │ 3      │ 1.0       │ 0.961317   │\n",
       "│ 2    │ 1004064   │ 1004064   │ 2      │ 3      │ 1.0       │ 0.430665   │\n",
       "│ 3    │ 1004240   │ 1004240   │ 2      │ 3      │ 1.0       │ -0.540137  │\n",
       "│ 4    │ 1004303   │ 1004303   │ 2      │ 3      │ 1.0       │ -2.13068   │\n",
       "│ 5    │ 1007498   │ 1007498   │ 2      │ 3      │ 1.0       │ 0.69471    │\n",
       "│ 6    │ 1008785   │ 1008785   │ 2      │ 3      │ 1.0       │ -0.0775978 │\n",
       "│ 7    │ 1011423   │ 1011423   │ 2      │ 3      │ 1.0       │ 1.35295    │\n",
       "│ 8    │ 1012197   │ 1012197   │ 2      │ 3      │ 1.0       │ 1.38327    │\n",
       "│ 9    │ 1013656   │ 1013656   │ 2      │ 3      │ 1.0       │ 0.573823   │\n",
       "│ 10   │ 1013701   │ 1013701   │ 2      │ 3      │ 1.0       │ -0.839263  │\n",
       "⋮\n",
       "│ 3744 │ 6009771   │ 6009771   │ 2      │ 3      │ 1.0       │ 0.782859   │\n",
       "│ 3745 │ 6010266   │ 6010266   │ 2      │ 3      │ 1.0       │ -1.08255   │\n",
       "│ 3746 │ 6011152   │ 6011152   │ 2      │ 3      │ 1.0       │ 0.330165   │\n",
       "│ 3747 │ 6011216   │ 6011216   │ 2      │ 3      │ 1.0       │ 0.0511459  │\n",
       "│ 3748 │ 6012179   │ 6012179   │ 2      │ 3      │ 1.0       │ 1.08054    │\n",
       "│ 3749 │ 6012953   │ 6012953   │ 2      │ 3      │ 1.0       │ -0.505197  │\n",
       "│ 3750 │ 6013739   │ 6013739   │ 2      │ 3      │ 1.0       │ 0.514174   │\n",
       "│ 3751 │ 6013907   │ 6013907   │ 2      │ 3      │ 1.0       │ -0.669812  │\n",
       "│ 3752 │ 6016341   │ 6016341   │ 2      │ 3      │ 1.0       │ -0.398202  │\n",
       "│ 3753 │ 6022066   │ 6022066   │ 2      │ 3      │ 1.0       │ -0.746522  │\n",
       "│ 3754 │ 6026204   │ 6026204   │ 2      │ 3      │ 1.0       │ 1.35709    │"
      ]
     },
     "execution_count": 323,
     "metadata": {},
     "output_type": "execute_result"
    }
   ],
   "source": [
    "Trait3_data = [IndividualID hcat(y_3, X_non_gen, X_rare_snps)]"
   ]
  },
  {
   "cell_type": "code",
   "execution_count": 333,
   "metadata": {},
   "outputs": [
    {
     "data": {
      "text/html": [
       "<table class=\"data-frame\"><thead><tr><th></th><th>Coefficients_Trait1</th><th>Coefficients_Trait2</th><th>sim_info</th></tr><tr><th></th><th>Float64</th><th>Float64</th><th>Any</th></tr></thead><tbody><p>23 rows × 3 columns</p><tr><th>1</th><td>1.0</td><td>1.0</td><td>intercept</td></tr><tr><th>2</th><td>0.0002</td><td>0.0002</td><td>age</td></tr><tr><th>3</th><td>0.2</td><td>0.2</td><td>sex</td></tr><tr><th>4</th><td>0.37</td><td>6.3</td><td>0.003</td></tr><tr><th>5</th><td>0.01</td><td>7.27</td><td>0.009</td></tr><tr><th>6</th><td>0.01</td><td>6.3</td><td>0.009</td></tr><tr><th>7</th><td>0.0</td><td>2.79</td><td>0.021</td></tr><tr><th>8</th><td>0.37</td><td>7.27</td><td>0.003</td></tr><tr><th>9</th><td>0.37</td><td>8.91</td><td>0.003</td></tr><tr><th>10</th><td>0.0</td><td>3.78</td><td>0.011</td></tr><tr><th>11</th><td>0.0</td><td>2.72</td><td>0.021</td></tr><tr><th>12</th><td>0.18</td><td>3.03</td><td>0.004</td></tr><tr><th>13</th><td>0.0</td><td>2.87</td><td>0.021</td></tr><tr><th>14</th><td>0.74</td><td>2.79</td><td>0.002</td></tr><tr><th>15</th><td>0.74</td><td>2.72</td><td>0.002</td></tr><tr><th>16</th><td>0.0</td><td>7.27</td><td>0.01</td></tr><tr><th>17</th><td>0.18</td><td>7.27</td><td>0.004</td></tr><tr><th>18</th><td>0.0</td><td>7.27</td><td>0.021</td></tr><tr><th>19</th><td>0.01</td><td>2.79</td><td>0.008</td></tr><tr><th>20</th><td>0.0</td><td>6.3</td><td>0.02</td></tr><tr><th>21</th><td>0.0</td><td>2.87</td><td>0.018</td></tr><tr><th>22</th><td>0.0</td><td>2.72</td><td>0.02</td></tr><tr><th>23</th><td>0.0</td><td>6.3</td><td>0.02</td></tr></tbody></table>"
      ],
      "text/latex": [
       "\\begin{tabular}{r|ccc}\n",
       "\t& Coefficients\\_Trait1 & Coefficients\\_Trait2 & sim\\_info\\\\\n",
       "\t\\hline\n",
       "\t& Float64 & Float64 & Any\\\\\n",
       "\t\\hline\n",
       "\t1 & 1.0 & 1.0 & intercept \\\\\n",
       "\t2 & 0.0002 & 0.0002 & age \\\\\n",
       "\t3 & 0.2 & 0.2 & sex \\\\\n",
       "\t4 & 0.37 & 6.3 & 0.003 \\\\\n",
       "\t5 & 0.01 & 7.27 & 0.009 \\\\\n",
       "\t6 & 0.01 & 6.3 & 0.009 \\\\\n",
       "\t7 & 0.0 & 2.79 & 0.021 \\\\\n",
       "\t8 & 0.37 & 7.27 & 0.003 \\\\\n",
       "\t9 & 0.37 & 8.91 & 0.003 \\\\\n",
       "\t10 & 0.0 & 3.78 & 0.011 \\\\\n",
       "\t11 & 0.0 & 2.72 & 0.021 \\\\\n",
       "\t12 & 0.18 & 3.03 & 0.004 \\\\\n",
       "\t13 & 0.0 & 2.87 & 0.021 \\\\\n",
       "\t14 & 0.74 & 2.79 & 0.002 \\\\\n",
       "\t15 & 0.74 & 2.72 & 0.002 \\\\\n",
       "\t16 & 0.0 & 7.27 & 0.01 \\\\\n",
       "\t17 & 0.18 & 7.27 & 0.004 \\\\\n",
       "\t18 & 0.0 & 7.27 & 0.021 \\\\\n",
       "\t19 & 0.01 & 2.79 & 0.008 \\\\\n",
       "\t20 & 0.0 & 6.3 & 0.02 \\\\\n",
       "\t21 & 0.0 & 2.87 & 0.018 \\\\\n",
       "\t22 & 0.0 & 2.72 & 0.02 \\\\\n",
       "\t23 & 0.0 & 6.3 & 0.02 \\\\\n",
       "\\end{tabular}\n"
      ],
      "text/plain": [
       "23×3 DataFrame\n",
       "│ Row │ Coefficients_Trait1 │ Coefficients_Trait2 │ sim_info  │\n",
       "│     │ \u001b[90mFloat64\u001b[39m             │ \u001b[90mFloat64\u001b[39m             │ \u001b[90mAny\u001b[39m       │\n",
       "├─────┼─────────────────────┼─────────────────────┼───────────┤\n",
       "│ 1   │ 1.0                 │ 1.0                 │ intercept │\n",
       "│ 2   │ 0.0002              │ 0.0002              │ age       │\n",
       "│ 3   │ 0.2                 │ 0.2                 │ sex       │\n",
       "│ 4   │ 0.37                │ 6.3                 │ 0.003     │\n",
       "│ 5   │ 0.01                │ 7.27                │ 0.009     │\n",
       "│ 6   │ 0.01                │ 6.3                 │ 0.009     │\n",
       "│ 7   │ 0.0                 │ 2.79                │ 0.021     │\n",
       "│ 8   │ 0.37                │ 7.27                │ 0.003     │\n",
       "│ 9   │ 0.37                │ 8.91                │ 0.003     │\n",
       "│ 10  │ 0.0                 │ 3.78                │ 0.011     │\n",
       "│ 11  │ 0.0                 │ 2.72                │ 0.021     │\n",
       "│ 12  │ 0.18                │ 3.03                │ 0.004     │\n",
       "│ 13  │ 0.0                 │ 2.87                │ 0.021     │\n",
       "│ 14  │ 0.74                │ 2.79                │ 0.002     │\n",
       "│ 15  │ 0.74                │ 2.72                │ 0.002     │\n",
       "│ 16  │ 0.0                 │ 7.27                │ 0.01      │\n",
       "│ 17  │ 0.18                │ 7.27                │ 0.004     │\n",
       "│ 18  │ 0.0                 │ 7.27                │ 0.021     │\n",
       "│ 19  │ 0.01                │ 2.79                │ 0.008     │\n",
       "│ 20  │ 0.0                 │ 6.3                 │ 0.02      │\n",
       "│ 21  │ 0.0                 │ 2.87                │ 0.018     │\n",
       "│ 22  │ 0.0                 │ 2.72                │ 0.02      │\n",
       "│ 23  │ 0.0                 │ 6.3                 │ 0.02      │"
      ]
     },
     "execution_count": 333,
     "metadata": {},
     "output_type": "execute_result"
    }
   ],
   "source": [
    "Trait3_SNPs = DataFrame(Coefficients_Trait1 = β_3[:, 1],\n",
    "                        Coefficients_Trait2 = β_3[:, 2], sim_info = vcat(String.(names(X_non_gen)), maf_rare))"
   ]
  },
  {
   "cell_type": "code",
   "execution_count": 334,
   "metadata": {},
   "outputs": [],
   "source": [
    "# CSV.write(\"Trait3_data.csv\", Trait3_data)\n",
    "# CSV.write(\"Trait3_SNPs.csv\", Trait3_SNPs)"
   ]
  },
  {
   "cell_type": "markdown",
   "metadata": {},
   "source": [
    "## Citations: \n",
    "\n",
    "[1] Lange K, Papp JC, Sinsheimer JS, Sripracha R, Zhou H, Sobel EM (2013) Mendel: The Swiss army knife of genetic analysis programs. Bioinformatics 29:1568-1570.`\n",
    "\n",
    "\n",
    "[2] OPENMENDEL: a cooperative programming project for statistical genetics.\n",
    "[Hum Genet. 2019 Mar 26. doi: 10.1007/s00439-019-02001-z](https://www.ncbi.nlm.nih.gov/pubmed/?term=OPENMENDEL)."
   ]
  }
 ],
 "metadata": {
  "kernelspec": {
   "display_name": "Julia 1.3.0",
   "language": "julia",
   "name": "julia-1.3"
  },
  "language_info": {
   "file_extension": ".jl",
   "mimetype": "application/julia",
   "name": "julia",
   "version": "1.3.0"
  },
  "toc": {
   "base_numbering": 1,
   "nav_menu": {},
   "number_sections": true,
   "sideBar": true,
   "skip_h1_title": false,
   "title_cell": "Table of Contents",
   "title_sidebar": "Contents",
   "toc_cell": false,
   "toc_position": {},
   "toc_section_display": true,
   "toc_window_display": false
  }
 },
 "nbformat": 4,
 "nbformat_minor": 2
}
