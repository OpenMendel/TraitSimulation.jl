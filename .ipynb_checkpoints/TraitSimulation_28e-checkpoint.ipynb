{
 "cells": [
  {
   "cell_type": "markdown",
   "metadata": {},
   "source": [
    "# Trait Simulation Demonstration\n",
    "\n",
    "Authors: Sarah Ji, Janet Sinsheimer, Ken Lange\n",
    "\n",
    "In this notebook we demonstrate how to simulate phenotypic traits. We use the Classic Mendel Option 28e data with known parameter estimates to validate whether the simulation works. In example 2b, we follow Mendel Option 28e with the simulation parameters for Trait1 and Trait2 in Ped28e.out as shown below.\n",
    "\n",
    "The user specifies arbitrary fixed effect sizes in examples 1 and 2. \n",
    "\n",
    "In the Generating Effect Sizes Section of Example 3 we show how the user can generate effect sizes that depend on the minor allele frequencies from a function such as an exponential or chisquare. To aid the user when they wish to include a large number of loci in the model, we created a function that automatically writes out the mean components. At the end of example 3, we demo how to write the results of each simulation to a file on the users own machine.\n",
    "\n",
    "## Mendel Option 28e Data: \n",
    "Mean effect:\n",
    "$$\n",
    "\\mathbf{\\mu} = \\begin{vmatrix}\n",
    "\\mu_1 \\\\\n",
    "\\mu_2 \\\\\n",
    "\\end{vmatrix}\n",
    "= \\begin{vmatrix}\n",
    "40 + 3(sex) - 1.5(locus)\\\\\n",
    "20 + 2(sex) - 1.5(locus)\\\\\n",
    "\\end{vmatrix}\n",
    "\\\\\n",
    "$$\n",
    "\n",
    "Covariance Matrix of Both Traits simulated Simultaneously through Linear Mixed Model (LMM):\n",
    "\n",
    "$$\n",
    "\\Sigma  = V_a \\otimes (2GRM) + V_e \\otimes I_n\n",
    "$$\n",
    "\n",
    "Where we have the additive and environmental variances:\n",
    "\n",
    "$$\n",
    "V_a = \n",
    "\\begin{vmatrix}\n",
    "4 & 1\\\\\n",
    "1 & 4\\\\\n",
    "\\end{vmatrix}\n",
    "$$\n",
    "\n",
    "$$\n",
    "V_e = \n",
    "\\begin{vmatrix}\n",
    "2 & 0\\\\\n",
    "0 & 2\\\\\n",
    "\\end{vmatrix}\n",
    "$$\n",
    "\n",
    "The kinship matrix is derived from the genetic relationship matrix (GRM) across the common SNPs with minor allele frequency at least 0.05. $I_{n}$ is the n dimensional identity matrix."
   ]
  },
  {
   "cell_type": "markdown",
   "metadata": {},
   "source": [
    "# Reproducibility\n",
    "\n",
    "For reproducibility, we set a random seed using the `Random.jl` package for each simulation using `Random.seed!(1234)`.  If the user wishes to end up with different data, they will need to comment out these commands or use another value in Random.seed!()."
   ]
  },
  {
   "cell_type": "code",
   "execution_count": 1,
   "metadata": {},
   "outputs": [],
   "source": [
    "using Random\n",
    "Random.seed!(1234);"
   ]
  },
  {
   "cell_type": "markdown",
   "metadata": {},
   "source": [
    "Machine information:"
   ]
  },
  {
   "cell_type": "code",
   "execution_count": 2,
   "metadata": {},
   "outputs": [
    {
     "name": "stdout",
     "output_type": "stream",
     "text": [
      "Julia Version 1.0.3\n",
      "Commit 099e826241 (2018-12-18 01:34 UTC)\n",
      "Platform Info:\n",
      "  OS: macOS (x86_64-apple-darwin14.5.0)\n",
      "  CPU: Intel(R) Core(TM) i7-7700HQ CPU @ 2.80GHz\n",
      "  WORD_SIZE: 64\n",
      "  LIBM: libopenlibm\n",
      "  LLVM: libLLVM-6.0.0 (ORCJIT, skylake)\n"
     ]
    }
   ],
   "source": [
    "versioninfo()"
   ]
  },
  {
   "cell_type": "markdown",
   "metadata": {},
   "source": [
    "# The notebook is organized as follows:\n",
    "## Example 1: Generalized Linear Fixed Effects Model (no residual familial correlation)\n",
    "\n",
    "### a) Single IID Non-Normal Trait:<br>\n",
    "We simulate an iid Poisson Trait, location = 5.\n",
    "$$\n",
    "Y_{1a} ∼ Poisson(5)\n",
    "$$\n",
    "\n",
    "### b) Multiple Independent Traits: User specified distributions\n",
    "We simulate two independent Traits from example 1a 1b, simultaneously.<br>\n",
    "$$\n",
    "Y_{1b_{1}} ∼ N(\\mu_{1b}, 2), \\mu_{1b} = 40 + 3(sex) - 1.5(locus)\\\\\n",
    "Y_{1b_{2}} ∼ Poisson(\\mu_{2b}), \\mu_{2b} = 2 + 2(sex) - 1.5(locus)\n",
    "$$\n",
    "\n",
    "## Example 2: Linear Mixed Model (with additive genetic variance component).\n",
    "Note that the residual covariance among two relatives is the additive genetic variance times twice the kinship coefficient.  \n",
    "\n",
    "### (a) Single Trait:\n",
    "We simulate a Normal Trait controlling for family structure, location = $\\mu_{1} and scale = V_{{a}_{1,1}}* 2GRM + V_{{e}_{1,1}}I$. \n",
    "$$\n",
    "Y_{2a} ∼ N(\\mu_{1}, 4* 2GRM + 2I)$$\n",
    "\n",
    "\n",
    "### (b) Multiple Correlated Traits: (Mendel Example 28e Simulation)\n",
    "We simulate two correlated Normal Traits controlling for family structure, location = $\\mu$ and scale = $\\Sigma$. \n",
    "$$\n",
    "Y_{2b} ∼ N(\\mu, \\Sigma) , \\Sigma  = V_{a} \\otimes (2GRM) + V_{e} \\otimes I_{n}\n",
    "$$\n",
    "\n",
    "## Example 3: Rare Variant Linear Mixed Model with effect sizes as a function of the allele frequencies. \n",
    "\n",
    "The example also assumes an additive genetic variance component in the model which includes 20 rare SNPs, defined as snps with minor allele frequencies greater than 0.002 but less than 0.02.  In practice rare SNPs have smaller minor allele frequencies, but we are limited in this tutorial by the number of individuals in the data set. We use generated effect sizes to evaluate $\\mu_{rare20}$ <br>\n",
    "\n",
    "### (a) Single Trait: \n",
    "$$\n",
    "Y_{3a} ∼ N(\\mu_{rare20}, 4* 2GRM + 2I)\n",
    "$$"
   ]
  },
  {
   "cell_type": "markdown",
   "metadata": {},
   "source": [
    "# Reading the Mendel 28a data using SnpArrays\n",
    "\n",
    "First use `SnpArrays.jl` to read in the SNP data"
   ]
  },
  {
   "cell_type": "code",
   "execution_count": 3,
   "metadata": {},
   "outputs": [
    {
     "ename": "SystemError",
     "evalue": "SystemError: opening file traitsim28e.bed: No such file or directory",
     "output_type": "error",
     "traceback": [
      "SystemError: opening file traitsim28e.bed: No such file or directory",
      "",
      "Stacktrace:",
      " [1] #systemerror#39(::Nothing, ::Function, ::String, ::Bool) at ./error.jl:106",
      " [2] systemerror at ./error.jl:106 [inlined]",
      " [3] #open#293(::Nothing, ::Nothing, ::Nothing, ::Nothing, ::Nothing, ::Function, ::String) at ./iostream.jl:283",
      " [4] open at ./iostream.jl:275 [inlined]",
      " [5] #makestream#1(::Base.Iterators.Pairs{Union{},Union{},Tuple{},NamedTuple{(),Tuple{}}}, ::Function, ::String) at /Users/sarahji/.julia/packages/SnpArrays/Qt2X2/src/codec.jl:9",
      " [6] makestream at /Users/sarahji/.julia/packages/SnpArrays/Qt2X2/src/codec.jl:9 [inlined]",
      " [7] makestream(::getfield(SnpArrays, Symbol(\"##11#12\")){String}, ::String) at /Users/sarahji/.julia/packages/SnpArrays/Qt2X2/src/codec.jl:29",
      " [8] #SnpArray#10(::Base.Iterators.Pairs{Union{},Union{},Tuple{},NamedTuple{(),Tuple{}}}, ::Type, ::String, ::Int64) at /Users/sarahji/.julia/packages/SnpArrays/Qt2X2/src/snparray.jl:21",
      " [9] SnpArray(::String, ::Int64) at /Users/sarahji/.julia/packages/SnpArrays/Qt2X2/src/snparray.jl:20",
      " [10] top-level scope at In[3]:2"
     ]
    }
   ],
   "source": [
    "using DataFrames, SnpArrays, StatsModels, Random, LinearAlgebra, DelimitedFiles, StatsBase, TraitSimulation\n",
    "snpdata = SnpArray(\"traitsim28e.bed\", 212)"
   ]
  },
  {
   "cell_type": "markdown",
   "metadata": {},
   "source": [
    "Store the FamID and PersonID of Individuals in Mendel 28e data"
   ]
  },
  {
   "cell_type": "code",
   "execution_count": 4,
   "metadata": {},
   "outputs": [
    {
     "ename": "ArgumentError",
     "evalue": "ArgumentError: Cannot open 'traitsim28e.fam': not a file",
     "output_type": "error",
     "traceback": [
      "ArgumentError: Cannot open 'traitsim28e.fam': not a file",
      "",
      "Stacktrace:",
      " [1] #readdlm_auto#9(::Base.Iterators.Pairs{Union{},Union{},Tuple{},NamedTuple{(),Tuple{}}}, ::Function, ::String, ::Char, ::Type, ::Char, ::Bool) at /Users/osx/buildbot/slave/package_osx64/build/usr/share/julia/stdlib/v1.0/DelimitedFiles/src/DelimitedFiles.jl:233",
      " [2] readdlm_auto at /Users/osx/buildbot/slave/package_osx64/build/usr/share/julia/stdlib/v1.0/DelimitedFiles/src/DelimitedFiles.jl:233 [inlined]",
      " [3] #readdlm#5 at /Users/osx/buildbot/slave/package_osx64/build/usr/share/julia/stdlib/v1.0/DelimitedFiles/src/DelimitedFiles.jl:172 [inlined]",
      " [4] readdlm at /Users/osx/buildbot/slave/package_osx64/build/usr/share/julia/stdlib/v1.0/DelimitedFiles/src/DelimitedFiles.jl:172 [inlined]",
      " [5] #readdlm#4 at /Users/osx/buildbot/slave/package_osx64/build/usr/share/julia/stdlib/v1.0/DelimitedFiles/src/DelimitedFiles.jl:164 [inlined]",
      " [6] readdlm(::String, ::Char) at /Users/osx/buildbot/slave/package_osx64/build/usr/share/julia/stdlib/v1.0/DelimitedFiles/src/DelimitedFiles.jl:164",
      " [7] top-level scope at In[4]:1"
     ]
    }
   ],
   "source": [
    "famfile = readdlm(\"traitsim28e.fam\", ',')\n",
    "Fam_Person_id = DataFrame(FamID = famfile[:, 1], PID = famfile[:, 2])"
   ]
  },
  {
   "cell_type": "markdown",
   "metadata": {},
   "source": [
    "Note: We subset `traits_original` to compare in Example 2b our simulated traits to these two simulated traits from Mendel Option 28e."
   ]
  },
  {
   "cell_type": "code",
   "execution_count": 5,
   "metadata": {},
   "outputs": [
    {
     "ename": "UndefVarError",
     "evalue": "UndefVarError: famfile not defined",
     "output_type": "error",
     "traceback": [
      "UndefVarError: famfile not defined",
      "",
      "Stacktrace:",
      " [1] top-level scope at In[5]:1"
     ]
    }
   ],
   "source": [
    "traits_original = DataFrame(Trait1 = famfile[:, 7], Trait2 = famfile[:, 8])"
   ]
  },
  {
   "cell_type": "markdown",
   "metadata": {},
   "source": [
    "Transform sex variable from M/F to 1/-1 as does Mendel 28e data"
   ]
  },
  {
   "cell_type": "code",
   "execution_count": 6,
   "metadata": {},
   "outputs": [
    {
     "ename": "UndefVarError",
     "evalue": "UndefVarError: famfile not defined",
     "output_type": "error",
     "traceback": [
      "UndefVarError: famfile not defined",
      "",
      "Stacktrace:",
      " [1] top-level scope at In[6]:1"
     ]
    }
   ],
   "source": [
    "sex = map(x -> strip(x) == \"F\" ? -1.0 : 1.0, famfile[:, 5]) # note julia's ternary operator '?'"
   ]
  },
  {
   "cell_type": "markdown",
   "metadata": {},
   "source": [
    "### Names of Variants:"
   ]
  },
  {
   "cell_type": "markdown",
   "metadata": {},
   "source": [
    "We want to find the index of the causal snp, rs10412915, in the snp_definition file and then subset that snp from the genetic marker data above. \n",
    "We subset the SNP names into a vector called `snpid`"
   ]
  },
  {
   "cell_type": "code",
   "execution_count": 40,
   "metadata": {},
   "outputs": [
    {
     "ename": "ArgumentError",
     "evalue": "ArgumentError: Cannot open 'traitsim28e.bim': not a file",
     "output_type": "error",
     "traceback": [
      "ArgumentError: Cannot open 'traitsim28e.bim': not a file",
      "",
      "Stacktrace:",
      " [1] #readdlm_auto#9(::Base.Iterators.Pairs{Symbol,Bool,Tuple{Symbol},NamedTuple{(:header,),Tuple{Bool}}}, ::Function, ::String, ::Char, ::Type, ::Char, ::Bool) at /Users/osx/buildbot/slave/package_osx64/build/usr/share/julia/stdlib/v1.0/DelimitedFiles/src/DelimitedFiles.jl:233",
      " [2] (::getfield(DelimitedFiles, Symbol(\"#kw##readdlm_auto\")))(::NamedTuple{(:header,),Tuple{Bool}}, ::typeof(DelimitedFiles.readdlm_auto), ::String, ::Char, ::Type, ::Char, ::Bool) at ./none:0",
      " [3] #readdlm#6(::Base.Iterators.Pairs{Symbol,Bool,Tuple{Symbol},NamedTuple{(:header,),Tuple{Bool}}}, ::Function, ::String, ::Char, ::Type, ::Char) at /Users/osx/buildbot/slave/package_osx64/build/usr/share/julia/stdlib/v1.0/DelimitedFiles/src/DelimitedFiles.jl:225",
      " [4] (::getfield(DelimitedFiles, Symbol(\"#kw##readdlm\")))(::NamedTuple{(:header,),Tuple{Bool}}, ::typeof(readdlm), ::String, ::Char, ::Type, ::Char) at ./none:0",
      " [5] #readdlm#1(::Base.Iterators.Pairs{Symbol,Bool,Tuple{Symbol},NamedTuple{(:header,),Tuple{Bool}}}, ::Function, ::String, ::Type) at /Users/osx/buildbot/slave/package_osx64/build/usr/share/julia/stdlib/v1.0/DelimitedFiles/src/DelimitedFiles.jl:57",
      " [6] (::getfield(DelimitedFiles, Symbol(\"#kw##readdlm\")))(::NamedTuple{(:header,),Tuple{Bool}}, ::typeof(readdlm), ::String, ::Type) at ./none:0",
      " [7] top-level scope at In[40]:1"
     ]
    }
   ],
   "source": [
    "snpdef28_1 = readdlm(\"traitsim28e.bim\", Any; header = false)\n",
    "snpid = map(x -> strip(string(x)), snpdef28_1[:, 1]) # strip mining in the data "
   ]
  },
  {
   "cell_type": "markdown",
   "metadata": {},
   "source": [
    "We see that the causal snp, rs10412915, is the 236074th variant in the snp dataset."
   ]
  },
  {
   "cell_type": "code",
   "execution_count": 8,
   "metadata": {},
   "outputs": [
    {
     "ename": "UndefVarError",
     "evalue": "UndefVarError: snpid not defined",
     "output_type": "error",
     "traceback": [
      "UndefVarError: snpid not defined",
      "",
      "Stacktrace:",
      " [1] top-level scope at In[8]:1"
     ]
    }
   ],
   "source": [
    "ind_rs10412915 = findall(x -> x == \"rs10412915\", snpid)[1]"
   ]
  },
  {
   "cell_type": "markdown",
   "metadata": {},
   "source": [
    "Let's create a design matrix for the alternative model that includes sex and locus rs10412915."
   ]
  },
  {
   "cell_type": "code",
   "execution_count": 9,
   "metadata": {},
   "outputs": [
    {
     "ename": "UndefVarError",
     "evalue": "UndefVarError: snpdata not defined",
     "output_type": "error",
     "traceback": [
      "UndefVarError: snpdata not defined",
      "",
      "Stacktrace:",
      " [1] top-level scope at In[9]:1"
     ]
    }
   ],
   "source": [
    "locus = convert(Vector{Float64}, @view(snpdata[:, ind_rs10412915]))\n",
    "X = DataFrame(sex = sex, locus = locus)"
   ]
  },
  {
   "cell_type": "markdown",
   "metadata": {},
   "source": [
    "## The Variance Covariance Matrix\n",
    "### Single Trait \n",
    "Recall : $E(\\mathbf{GRM}) = \\Phi$ and $\\mathbf{V} = 2\\mathbf{V_a} \\mathbf{\\Phi} + \\mathbf{V_e} \\mathbf{I}$\n",
    "<br>\n",
    "We will use the same values of $\\mathbf{GRM}$, $V_a$, and $V_e$ for the mixed effect example (2) and for the rare variant example (3)."
   ]
  },
  {
   "cell_type": "markdown",
   "metadata": {},
   "source": [
    "We use the SnpArrays.jl package to compute the Genetic Relationship Matrix (GRM)."
   ]
  },
  {
   "cell_type": "code",
   "execution_count": 10,
   "metadata": {},
   "outputs": [
    {
     "ename": "UndefVarError",
     "evalue": "UndefVarError: snpdata not defined",
     "output_type": "error",
     "traceback": [
      "UndefVarError: snpdata not defined",
      "",
      "Stacktrace:",
      " [1] top-level scope at In[10]:1"
     ]
    }
   ],
   "source": [
    "GRM = grm(snpdata, method = :GRM)\n",
    "V_A = [4 1; 1 4]\n",
    "V_E = [2.0 0.0; 0.0 2.0]\n",
    "I_n = Matrix{Float64}(I, size(GRM));"
   ]
  },
  {
   "cell_type": "markdown",
   "metadata": {},
   "source": [
    "### Multiple Correlated Traits\n",
    "\n",
    "The corresponding variance covariance matrix as specified Mendel Option 28e, $\\mathbf{Σ}$, is generated here: To create a trait different variance components change $\\Sigma  = V_a \\otimes (2GRM) + V_e \\otimes I$. We create the variance component object `variance_formula` below, to simulate our traits in example 2b."
   ]
  },
  {
   "cell_type": "code",
   "execution_count": 11,
   "metadata": {},
   "outputs": [
    {
     "ename": "UndefVarError",
     "evalue": "UndefVarError: V_A not defined",
     "output_type": "error",
     "traceback": [
      "UndefVarError: V_A not defined",
      "",
      "Stacktrace:",
      " [1] top-level scope at In[11]:1"
     ]
    }
   ],
   "source": [
    "# @vc is a macro that creates a 'VarianceComponent' Type for simulation\n",
    "variance_formula = @vc V_A ⊗ GRM + V_E ⊗ I_n;"
   ]
  },
  {
   "cell_type": "markdown",
   "metadata": {},
   "source": [
    "# Example 1 Generalized Linear Model:\n",
    "\n",
    "This example simulates a case where the snp has a fixed effect on the trait. Any apparent genetic correlation between relatives for the trait is due to the effect of the snp, so once the effect of the snp is modelled there should be no residual correlation among relatives. Note that by default, individuals with missing genotype values will have missing phenotype values, unless the user specifies the argument `impute = true` in the convert function above.\n",
    "Be sure to change Random.seed!(1234) to something else (or comment out) if you want to generate a new data set. \n",
    "\n",
    "\n",
    "### a) Single IID Non-Normal Trait: <br>\n",
    "We simulate an iid Poisson Trait, location = 5. We use the Identity Link to simulate this Poisson trait.\n",
    "$$\n",
    "Y_{1a} ∼ Poisson(5)\n",
    "$$"
   ]
  },
  {
   "cell_type": "markdown",
   "metadata": {},
   "source": [
    "# A ) 𝑌_1a ∼𝑃𝑜𝑖𝑠𝑠𝑜𝑛(5)\n"
   ]
  },
  {
   "cell_type": "code",
   "execution_count": 12,
   "metadata": {},
   "outputs": [
    {
     "ename": "UndefVarError",
     "evalue": "UndefVarError: X not defined",
     "output_type": "error",
     "traceback": [
      "UndefVarError: X not defined",
      "",
      "Stacktrace:",
      " [1] top-level scope at In[12]:1"
     ]
    }
   ],
   "source": [
    "GLM_trait_model_Poisson5 = GLMTrait(5, X, PoissonResponse(), IdentityLink())\n",
    "Simulated_GLM_trait = simulate(GLM_trait_model_Poisson5)"
   ]
  },
  {
   "cell_type": "markdown",
   "metadata": {},
   "source": [
    "Descriptive Statistics of Poisson(5) Trait"
   ]
  },
  {
   "cell_type": "code",
   "execution_count": 13,
   "metadata": {},
   "outputs": [
    {
     "ename": "UndefVarError",
     "evalue": "UndefVarError: Simulated_GLM_trait not defined",
     "output_type": "error",
     "traceback": [
      "UndefVarError: Simulated_GLM_trait not defined",
      "",
      "Stacktrace:",
      " [1] top-level scope at In[13]:1"
     ]
    }
   ],
   "source": [
    "describe(Simulated_GLM_trait[:, 1])"
   ]
  },
  {
   "cell_type": "markdown",
   "metadata": {},
   "source": [
    "# Example 1b) Multiple Independent Traits: User specified distributions\n",
    "\n",
    "Here I simulate two independent traits simultaneously, one from a Normal distribution and the other from a Poisson Distribution. Notice a difference from Example 1a, we use the LogLink to simulate the Poisson Trait this time.\n",
    "\n",
    "$$\n",
    "Y_{1b_{1}} ∼ N(\\mu_{1b}, 2), where \\mu_{1b} = 40 + 3(sex) - 1.5(locus)\\\\\n",
    "Y_{1b_{2}} ∼ Poisson(\\mu_{2b}), where \\mu_{2b} = 2 + 2(sex) - 1.5(locus)\\\\\n",
    "$$"
   ]
  },
  {
   "cell_type": "code",
   "execution_count": 14,
   "metadata": {},
   "outputs": [
    {
     "ename": "UndefVarError",
     "evalue": "UndefVarError: X not defined",
     "output_type": "error",
     "traceback": [
      "UndefVarError: X not defined",
      "",
      "Stacktrace:",
      " [1] top-level scope at In[14]:6"
     ]
    }
   ],
   "source": [
    "#for multiple glm traits from different distributions\n",
    "dist_type_vector = [NormalResponse(4), PoissonResponse()]\n",
    "link_type_vector = [IdentityLink(), LogLink()]\n",
    "\n",
    "mean_formulas = [\"40 + 3(sex) - 1.5(locus)\", \"2 + 2(sex) - 1.5(locus)\"]\n",
    "\n",
    "Multiple_GLM_traits_model_NOTIID = Multiple_GLMTraits(mean_formulas, X, dist_type_vector, link_type_vector)\n",
    "Simulated_GLM_trait_NOTIID = simulate(Multiple_GLM_traits_model_NOTIID)"
   ]
  },
  {
   "cell_type": "code",
   "execution_count": 15,
   "metadata": {},
   "outputs": [
    {
     "ename": "UndefVarError",
     "evalue": "UndefVarError: Simulated_GLM_trait_NOTIID not defined",
     "output_type": "error",
     "traceback": [
      "UndefVarError: Simulated_GLM_trait_NOTIID not defined",
      "",
      "Stacktrace:",
      " [1] top-level scope at In[15]:1"
     ]
    }
   ],
   "source": [
    "describe(Simulated_GLM_trait_NOTIID, stats = [:mean, :std, :min, :q25, :median, :q75, :max, :eltype])"
   ]
  },
  {
   "cell_type": "markdown",
   "metadata": {},
   "source": [
    "# Example 2: Linear Mixed Model (with additive genetic variance component).\n",
    "Note that the residual covariance among two relatives is the additive genetic variance times twice the kinship coefficient.  \n",
    "\n",
    "\n",
    "## (a) Single Trait:\n",
    "We simulate a Normal Trait controlling for family structure, location = $μ_{1a} and scale = 4* 2GRM + 2I$. \n",
    "$$\n",
    "Y_{2a} ∼ N(μ_{1}, 4* 2GRM + 2I)$$"
   ]
  },
  {
   "cell_type": "code",
   "execution_count": 16,
   "metadata": {},
   "outputs": [
    {
     "data": {
      "text/plain": [
       "1-element Array{String,1}:\n",
       " \"40 + 3(sex) - 1.5(locus)\""
      ]
     },
     "execution_count": 16,
     "metadata": {},
     "output_type": "execute_result"
    }
   ],
   "source": [
    "mean_formula = [\"40 + 3(sex) - 1.5(locus)\"]"
   ]
  },
  {
   "cell_type": "code",
   "execution_count": 17,
   "metadata": {},
   "outputs": [
    {
     "ename": "UndefVarError",
     "evalue": "UndefVarError: GRM not defined",
     "output_type": "error",
     "traceback": [
      "UndefVarError: GRM not defined",
      "",
      "Stacktrace:",
      " [1] top-level scope at In[17]:1"
     ]
    }
   ],
   "source": [
    "Ex2a_model = LMMTrait(mean_formula, X, 4*(2*GRM) + 2*(I_n))\n",
    "trait_2a = simulate(Ex2a_model)"
   ]
  },
  {
   "cell_type": "code",
   "execution_count": 18,
   "metadata": {},
   "outputs": [
    {
     "ename": "UndefVarError",
     "evalue": "UndefVarError: trait_2a not defined",
     "output_type": "error",
     "traceback": [
      "UndefVarError: trait_2a not defined",
      "",
      "Stacktrace:",
      " [1] top-level scope at In[18]:1"
     ]
    }
   ],
   "source": [
    "describe(trait_2a, stats = [:mean, :std, :min, :q25, :median, :q75, :max, :eltype])"
   ]
  },
  {
   "cell_type": "markdown",
   "metadata": {},
   "source": [
    "## Example 2b) Simulating Two Correlated Traits with Mendel Option 28e paramaters\n",
    "\n",
    "\n",
    "### (b) Multiple Correlated Traits: (Mendel Example 28e Simulation)\n",
    "We simulate two correlated Normal Traits controlling for family structure, location = $μ_{1a}$ and scale = $4* 2GRM + 2I$. \n",
    "$$\n",
    "Y_{2b} ∼ N(μ, \\Sigma) , where \\Sigma  = V_a \\otimes (2GRM) + V_e \\otimes I_n\n",
    "$$\n"
   ]
  },
  {
   "cell_type": "markdown",
   "metadata": {},
   "source": [
    "These are the formulas for the fixed effects, as specified by Mendel Option 28e."
   ]
  },
  {
   "cell_type": "code",
   "execution_count": 19,
   "metadata": {},
   "outputs": [
    {
     "data": {
      "text/plain": [
       "2-element Array{String,1}:\n",
       " \"40 + 3(sex) - 1.5(locus)\"\n",
       " \"20 + 2(sex) - 1.5(locus)\""
      ]
     },
     "execution_count": 19,
     "metadata": {},
     "output_type": "execute_result"
    }
   ],
   "source": [
    "mean_formulas = [\"40 + 3(sex) - 1.5(locus)\", \"20 + 2(sex) - 1.5(locus)\"]"
   ]
  },
  {
   "cell_type": "code",
   "execution_count": 20,
   "metadata": {},
   "outputs": [
    {
     "ename": "UndefVarError",
     "evalue": "UndefVarError: X not defined",
     "output_type": "error",
     "traceback": [
      "UndefVarError: X not defined",
      "",
      "Stacktrace:",
      " [1] top-level scope at In[20]:1"
     ]
    }
   ],
   "source": [
    "Ex2b_model = LMMTrait(mean_formulas, X, variance_formula)\n",
    "trait_2b = simulate(Ex2b_model)"
   ]
  },
  {
   "cell_type": "markdown",
   "metadata": {},
   "source": [
    "### Summary Statistics of Our Simulated Traits"
   ]
  },
  {
   "cell_type": "code",
   "execution_count": 21,
   "metadata": {},
   "outputs": [
    {
     "ename": "UndefVarError",
     "evalue": "UndefVarError: trait_2b not defined",
     "output_type": "error",
     "traceback": [
      "UndefVarError: trait_2b not defined",
      "",
      "Stacktrace:",
      " [1] top-level scope at In[21]:1"
     ]
    }
   ],
   "source": [
    "describe(trait_2b, stats = [:mean, :std, :min, :max, :eltype])"
   ]
  },
  {
   "cell_type": "markdown",
   "metadata": {},
   "source": [
    "### Summary Statistics of the original Mendel 28e dataset Traits:\n",
    "\n",
    "Note we want to see similar values from our simulated traits!"
   ]
  },
  {
   "cell_type": "code",
   "execution_count": 22,
   "metadata": {},
   "outputs": [
    {
     "ename": "UndefVarError",
     "evalue": "UndefVarError: traits_original not defined",
     "output_type": "error",
     "traceback": [
      "UndefVarError: traits_original not defined",
      "",
      "Stacktrace:",
      " [1] top-level scope at In[22]:1"
     ]
    }
   ],
   "source": [
    "describe(traits_original, stats = [:mean, :std, :min, :max, :eltype])"
   ]
  },
  {
   "cell_type": "markdown",
   "metadata": {},
   "source": [
    "# Example 3: 20 Rare SNPs for Simulation\n",
    "\n",
    "\n",
    "## Example 3: Rare Variant Linear Mixed Model with effect sizes as a function of the allele frequencies. \n",
    "\n",
    "In this example we first subset only the rare SNP's with minor allele frequency greater than 0.002 but less than 0.02, then we simulate traits on 20 of the rare SNP's as fixed effects. Here are the 20 SNP's that will be used for trait simulation in this example. \n",
    "\n",
    "For this demo, the indexing `snpid[rare_index][1:2:40]` allows us to subset every other rare snp in the first 40 SNPs, to get our list of 20 rare SNPs. Change the range and number of SNPs to simulate with more or less SNPs and from different regions of the genome. \n",
    "\n",
    "In practice rare SNPs have smaller minor allele frequencies but we are limited in this tutorial by the number of individuals in the data set. We use generated effect sizes to evaluate $\\mu_{rare20}$ <br>\n",
    "\n",
    "### (a) Single Trait: \n",
    "$$\n",
    "Y_{3a} ∼ N(\\mu_{rare20}, 4* 2GRM + 2I)\n",
    "$$"
   ]
  },
  {
   "cell_type": "code",
   "execution_count": 23,
   "metadata": {},
   "outputs": [
    {
     "ename": "UndefVarError",
     "evalue": "UndefVarError: snpdata not defined",
     "output_type": "error",
     "traceback": [
      "UndefVarError: snpdata not defined",
      "",
      "Stacktrace:",
      " [1] top-level scope at In[23]:1"
     ]
    }
   ],
   "source": [
    "# filter out rare SNPS, get a subset of uncommon SNPs with 0.002 < MAF ≤ 0.02\n",
    "minor_allele_frequency = maf(snpdata)\n",
    "rare_index = (0.002 .< minor_allele_frequency .≤ 0.02)\n",
    "data_rare = snpdata[:, rare_index]"
   ]
  },
  {
   "cell_type": "code",
   "execution_count": 24,
   "metadata": {},
   "outputs": [
    {
     "ename": "UndefVarError",
     "evalue": "UndefVarError: minor_allele_frequency not defined",
     "output_type": "error",
     "traceback": [
      "UndefVarError: minor_allele_frequency not defined",
      "",
      "Stacktrace:",
      " [1] top-level scope at In[24]:1"
     ]
    }
   ],
   "source": [
    "maf_20_rare_snps = minor_allele_frequency[rare_index][1:2:40]"
   ]
  },
  {
   "cell_type": "code",
   "execution_count": 25,
   "metadata": {},
   "outputs": [
    {
     "ename": "UndefVarError",
     "evalue": "UndefVarError: snpid not defined",
     "output_type": "error",
     "traceback": [
      "UndefVarError: snpid not defined",
      "",
      "Stacktrace:",
      " [1] top-level scope at In[25]:1"
     ]
    }
   ],
   "source": [
    "#rare_snps = minor_allele_frequency(0.002 .< maf .≤ 0.02)\n",
    "rare_snps_for_simulation = snpid[rare_index][1:2:40]"
   ]
  },
  {
   "cell_type": "code",
   "execution_count": 26,
   "metadata": {},
   "outputs": [
    {
     "ename": "UndefVarError",
     "evalue": "UndefVarError: data_rare not defined",
     "output_type": "error",
     "traceback": [
      "UndefVarError: data_rare not defined",
      "",
      "Stacktrace:",
      " [1] top-level scope at In[26]:1"
     ]
    }
   ],
   "source": [
    "geno_rare20_converted = convert(DataFrame, convert(Matrix{Float64}, @view(data_rare[:, 1:2:40])))\n",
    "names!(geno_rare20_converted, Symbol.(rare_snps_for_simulation))"
   ]
  },
  {
   "cell_type": "markdown",
   "metadata": {},
   "source": [
    "## Generating Effect Sizes Based on MAF\n",
    "\n",
    "For demonstration purposes, we simulate effect sizes from the Chi-squared(df = 1) distribution, where we use the minor allele frequency (maf) as x and find f(x) where f is the pdf for the Chi-squared (df = 1) density, so that the rarest SNP's have the biggest effect sizes. The effect sizes are rounded to the second digit, throughout this example. Notice there is a random +1 or -1, so that there are effects that both increase and decrease the simulated trait value.\n",
    "\n",
    "In addition to the Chi-Squared distribution, we also demo how to simulate from the Exponential distribution, where we use the minor allele frequency (maf) as x and find f(x) where f is the pdf for the Exponential density. "
   ]
  },
  {
   "cell_type": "markdown",
   "metadata": {},
   "source": [
    "## Chisquared(df = 1)"
   ]
  },
  {
   "cell_type": "code",
   "execution_count": 27,
   "metadata": {},
   "outputs": [
    {
     "ename": "UndefVarError",
     "evalue": "UndefVarError: maf_20_rare_snps not defined",
     "output_type": "error",
     "traceback": [
      "UndefVarError: maf_20_rare_snps not defined",
      "",
      "Stacktrace:",
      " [1] top-level scope at In[27]:3"
     ]
    }
   ],
   "source": [
    "# Generating Effect Sizes from Chisquared(df = 1) density\n",
    "using StatsFuns\n",
    "n = length(maf_20_rare_snps)\n",
    "chisq_coeff = zeros(n)\n",
    "\n",
    "for i in 1:n\n",
    "    chisq_coeff[i] = sign(rand() - .5) * chisqpdf(1, maf_20_rare_snps[i])/5.0\n",
    "end"
   ]
  },
  {
   "cell_type": "markdown",
   "metadata": {},
   "source": [
    "Take a look at the simulated coefficients on the left, next to the corresponding minor allele frequency. Notice the rarer SNPs have the largest effect sizes."
   ]
  },
  {
   "cell_type": "code",
   "execution_count": 28,
   "metadata": {},
   "outputs": [
    {
     "ename": "UndefVarError",
     "evalue": "UndefVarError: chisq_coeff not defined",
     "output_type": "error",
     "traceback": [
      "UndefVarError: chisq_coeff not defined",
      "",
      "Stacktrace:",
      " [1] top-level scope at In[28]:1"
     ]
    }
   ],
   "source": [
    "Ex3_rare = round.([chisq_coeff maf_20_rare_snps], digits = 3)\n",
    "Ex3_rare = DataFrame(Chisq_Coefficient = Ex3_rare[:, 1] , MAF_rare = Ex3_rare[:, 2] )"
   ]
  },
  {
   "cell_type": "code",
   "execution_count": 29,
   "metadata": {},
   "outputs": [
    {
     "ename": "UndefVarError",
     "evalue": "UndefVarError: Ex3_rare not defined",
     "output_type": "error",
     "traceback": [
      "UndefVarError: Ex3_rare not defined",
      "",
      "Stacktrace:",
      " [1] top-level scope at In[29]:1"
     ]
    }
   ],
   "source": [
    "simulated_effectsizes_chisq = Ex3_rare[:, 1]"
   ]
  },
  {
   "cell_type": "markdown",
   "metadata": {},
   "source": [
    "### Simulating effect sizes from the Exponential distribution, where we use the maf as x and find f(x) where f is the pdf for the Exponential density"
   ]
  },
  {
   "cell_type": "code",
   "execution_count": 30,
   "metadata": {},
   "outputs": [
    {
     "ename": "UndefVarError",
     "evalue": "UndefVarError: maf_20_rare_snps not defined",
     "output_type": "error",
     "traceback": [
      "UndefVarError: maf_20_rare_snps not defined",
      "",
      "Stacktrace:",
      " [1] top-level scope at In[30]:1"
     ]
    }
   ],
   "source": [
    "simulated_effectsizes_exp = round.(6*exp.(-200*maf_20_rare_snps), digits = 3)"
   ]
  },
  {
   "cell_type": "markdown",
   "metadata": {},
   "source": [
    "## Function for Mean Model Expression\n",
    "\n",
    "In some cases a large number of variants may be used for simulation. Thus, in this example we create a function where the user inputs a vector of coefficients and a vector of variants for simulation, then the function outputs the mean model expression. \n",
    "\n",
    "The function `FixedEffectTerms`, creates the proper evaluated expression for the simulation process, using the specified vectors of coefficients and snp names. The function outputs `evaluated_fixed_expression` which will be used to estimate the mean effect, `μ` in our mixed effects model. We make use of this function in this example, instead of having to write out all 20 of the coefficients and variant locus names."
   ]
  },
  {
   "cell_type": "code",
   "execution_count": 31,
   "metadata": {},
   "outputs": [
    {
     "ename": "UndefVarError",
     "evalue": "UndefVarError: rare_snps_for_simulation not defined",
     "output_type": "error",
     "traceback": [
      "UndefVarError: rare_snps_for_simulation not defined",
      "",
      "Stacktrace:",
      " [1] top-level scope at In[31]:1"
     ]
    }
   ],
   "source": [
    "rare_snps_for_simulation"
   ]
  },
  {
   "cell_type": "code",
   "execution_count": 32,
   "metadata": {},
   "outputs": [
    {
     "data": {
      "text/plain": [
       "FixedEffectTerms (generic function with 1 method)"
      ]
     },
     "execution_count": 32,
     "metadata": {},
     "output_type": "execute_result"
    }
   ],
   "source": [
    "function FixedEffectTerms(effectsizes::AbstractVecOrMat, snps::AbstractVecOrMat)\n",
    " # implementation\n",
    "    fixed_terms = \"\"\n",
    "for i in 1:length(simulated_effectsizes_chisq) - 1\n",
    "expression = \" + \" * string(simulated_effectsizes_chisq[i]) * \"(\" * rare_snps_for_simulation[i] * \")\"\n",
    "    fixed_terms = fixed_terms * expression\n",
    "end\n",
    "    return String(fixed_terms)\n",
    "end\n"
   ]
  },
  {
   "cell_type": "code",
   "execution_count": 33,
   "metadata": {},
   "outputs": [
    {
     "ename": "UndefVarError",
     "evalue": "UndefVarError: simulated_effectsizes_chisq not defined",
     "output_type": "error",
     "traceback": [
      "UndefVarError: simulated_effectsizes_chisq not defined",
      "",
      "Stacktrace:",
      " [1] top-level scope at In[33]:1"
     ]
    }
   ],
   "source": [
    "formula_20_rare_snps = FixedEffectTerms(simulated_effectsizes_chisq, rare_snps_for_simulation)"
   ]
  },
  {
   "cell_type": "markdown",
   "metadata": {},
   "source": [
    "## Example 3(a) Mixed effects model Single Trait:\n",
    "$$\n",
    "Y_{3a} ∼ N(μ_{20raresnps}, 4* 2GRM + 2I)$$\n"
   ]
  },
  {
   "cell_type": "markdown",
   "metadata": {},
   "source": [
    "This intermediate step uses the `mean_formula` function to evaluate the `formula_20_rare_snps` above on the 20 rare snp data, `geno_rare20_converted`,  to get the fixed effects mean vector (rounded to the third digit)."
   ]
  },
  {
   "cell_type": "code",
   "execution_count": 34,
   "metadata": {},
   "outputs": [
    {
     "ename": "UndefVarError",
     "evalue": "UndefVarError: formula_20_rare_snps not defined",
     "output_type": "error",
     "traceback": [
      "UndefVarError: formula_20_rare_snps not defined",
      "",
      "Stacktrace:",
      " [1] top-level scope at In[34]:1"
     ]
    }
   ],
   "source": [
    "μ_20_rare_snps = round.(mean_formula(formula_20_rare_snps, geno_rare20_converted), digits = 3)"
   ]
  },
  {
   "cell_type": "code",
   "execution_count": 35,
   "metadata": {},
   "outputs": [
    {
     "ename": "UndefVarError",
     "evalue": "UndefVarError: formula_20_rare_snps not defined",
     "output_type": "error",
     "traceback": [
      "UndefVarError: formula_20_rare_snps not defined",
      "",
      "Stacktrace:",
      " [1] top-level scope at In[35]:1"
     ]
    }
   ],
   "source": [
    "rare_20_snp_model = LMMTrait([formula_20_rare_snps], geno_rare20_converted, 4*(2*GRM) + 2*(I_n))\n",
    "trait_rare_20_snps = simulate(rare_20_snp_model)"
   ]
  },
  {
   "cell_type": "code",
   "execution_count": 36,
   "metadata": {},
   "outputs": [
    {
     "ename": "UndefVarError",
     "evalue": "UndefVarError: trait_rare_20_snps not defined",
     "output_type": "error",
     "traceback": [
      "UndefVarError: trait_rare_20_snps not defined",
      "",
      "Stacktrace:",
      " [1] top-level scope at In[36]:1"
     ]
    }
   ],
   "source": [
    "describe(trait_rare_20_snps, stats = [:mean, :std, :min, :max, :eltype])"
   ]
  },
  {
   "cell_type": "markdown",
   "metadata": {},
   "source": [
    "## Saving Simulation Results to Local Machine"
   ]
  },
  {
   "cell_type": "markdown",
   "metadata": {},
   "source": [
    "Write the newly simulated trait into a comma separated (csv) file for later use. Note that the user can specify the separator to '\\t' for tab separated, or another separator of choice. "
   ]
  },
  {
   "cell_type": "markdown",
   "metadata": {},
   "source": [
    "Here we output the simulated trait values for each of the 212 individuals, labeled by their pedigree ID and person ID.\n",
    "\n",
    "In addition, we output the genotypes for the variants used to simulate this trait."
   ]
  },
  {
   "cell_type": "code",
   "execution_count": 37,
   "metadata": {},
   "outputs": [
    {
     "ename": "UndefVarError",
     "evalue": "UndefVarError: Fam_Person_id not defined",
     "output_type": "error",
     "traceback": [
      "UndefVarError: Fam_Person_id not defined",
      "",
      "Stacktrace:",
      " [1] top-level scope at In[37]:1"
     ]
    }
   ],
   "source": [
    "Trait3_mixed = hcat(Fam_Person_id, trait_rare_20_snps, geno_rare20_converted)"
   ]
  },
  {
   "cell_type": "code",
   "execution_count": 38,
   "metadata": {},
   "outputs": [
    {
     "ename": "UndefVarError",
     "evalue": "UndefVarError: simulated_effectsizes_chisq not defined",
     "output_type": "error",
     "traceback": [
      "UndefVarError: simulated_effectsizes_chisq not defined",
      "",
      "Stacktrace:",
      " [1] top-level scope at In[38]:1"
     ]
    }
   ],
   "source": [
    "Coefficients = DataFrame(Coefficients = simulated_effectsizes_chisq)\n",
    "SNPs_rare = DataFrame(SNPs = rare_snps_for_simulation)\n",
    "Trait3_mixed_sim = hcat(Coefficients, SNPs_rare)"
   ]
  },
  {
   "cell_type": "code",
   "execution_count": 39,
   "metadata": {},
   "outputs": [
    {
     "ename": "UndefVarError",
     "evalue": "UndefVarError: Trait3_mixed not defined",
     "output_type": "error",
     "traceback": [
      "UndefVarError: Trait3_mixed not defined",
      "",
      "Stacktrace:",
      " [1] top-level scope at In[39]:3"
     ]
    }
   ],
   "source": [
    "#cd(\"/Users\") #change to home directory\n",
    "using CSV\n",
    "CSV.write(\"Trait3_mixed.csv\", Trait3_mixed)\n",
    "CSV.write(\"Trait3_mixed_sim.csv\", Trait3_mixed_sim);"
   ]
  }
 ],
 "metadata": {
  "kernelspec": {
   "display_name": "Julia 1.0.3",
   "language": "julia",
   "name": "julia-1.0"
  },
  "language_info": {
   "file_extension": ".jl",
   "mimetype": "application/julia",
   "name": "julia",
   "version": "1.0.3"
  },
  "toc": {
   "base_numbering": 1,
   "nav_menu": {},
   "number_sections": true,
   "sideBar": true,
   "skip_h1_title": false,
   "title_cell": "Table of Contents",
   "title_sidebar": "Contents",
   "toc_cell": false,
   "toc_position": {},
   "toc_section_display": true,
   "toc_window_display": false
  }
 },
 "nbformat": 4,
 "nbformat_minor": 2
}
