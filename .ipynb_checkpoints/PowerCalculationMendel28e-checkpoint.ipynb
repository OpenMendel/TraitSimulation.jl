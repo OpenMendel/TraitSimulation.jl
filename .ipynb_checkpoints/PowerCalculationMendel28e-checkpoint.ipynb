{
 "cells": [
  {
   "cell_type": "code",
   "execution_count": 1,
   "metadata": {},
   "outputs": [
    {
     "data": {
      "text/html": [
       "<table class=\"data-frame\"><thead><tr><th></th><th>sex</th><th>locus</th></tr><tr><th></th><th>Float64</th><th>Float64</th></tr></thead><tbody><p>212 rows × 2 columns</p><tr><th>1</th><td>0.0</td><td>2.0</td></tr><tr><th>2</th><td>0.0</td><td>0.0</td></tr><tr><th>3</th><td>1.0</td><td>2.0</td></tr><tr><th>4</th><td>1.0</td><td>2.0</td></tr><tr><th>5</th><td>0.0</td><td>1.0</td></tr><tr><th>6</th><td>0.0</td><td>1.0</td></tr><tr><th>7</th><td>1.0</td><td>1.0</td></tr><tr><th>8</th><td>1.0</td><td>2.0</td></tr><tr><th>9</th><td>0.0</td><td>1.0</td></tr><tr><th>10</th><td>1.0</td><td>1.0</td></tr><tr><th>11</th><td>0.0</td><td>0.0</td></tr><tr><th>12</th><td>1.0</td><td>0.0</td></tr><tr><th>13</th><td>0.0</td><td>0.0</td></tr><tr><th>14</th><td>0.0</td><td>1.0</td></tr><tr><th>15</th><td>0.0</td><td>2.0</td></tr><tr><th>16</th><td>1.0</td><td>1.0</td></tr><tr><th>17</th><td>0.0</td><td>2.0</td></tr><tr><th>18</th><td>1.0</td><td>2.0</td></tr><tr><th>19</th><td>0.0</td><td>2.0</td></tr><tr><th>20</th><td>1.0</td><td>1.0</td></tr><tr><th>21</th><td>0.0</td><td>1.0</td></tr><tr><th>22</th><td>1.0</td><td>2.0</td></tr><tr><th>23</th><td>1.0</td><td>2.0</td></tr><tr><th>24</th><td>1.0</td><td>1.0</td></tr><tr><th>25</th><td>0.0</td><td>2.0</td></tr><tr><th>26</th><td>1.0</td><td>2.0</td></tr><tr><th>27</th><td>0.0</td><td>2.0</td></tr><tr><th>28</th><td>0.0</td><td>1.0</td></tr><tr><th>29</th><td>1.0</td><td>1.0</td></tr><tr><th>30</th><td>1.0</td><td>0.0</td></tr><tr><th>&vellip;</th><td>&vellip;</td><td>&vellip;</td></tr></tbody></table>"
      ],
      "text/latex": [
       "\\begin{tabular}{r|cc}\n",
       "\t& sex & locus\\\\\n",
       "\t\\hline\n",
       "\t& Float64 & Float64\\\\\n",
       "\t\\hline\n",
       "\t1 & 0.0 & 2.0 \\\\\n",
       "\t2 & 0.0 & 0.0 \\\\\n",
       "\t3 & 1.0 & 2.0 \\\\\n",
       "\t4 & 1.0 & 2.0 \\\\\n",
       "\t5 & 0.0 & 1.0 \\\\\n",
       "\t6 & 0.0 & 1.0 \\\\\n",
       "\t7 & 1.0 & 1.0 \\\\\n",
       "\t8 & 1.0 & 2.0 \\\\\n",
       "\t9 & 0.0 & 1.0 \\\\\n",
       "\t10 & 1.0 & 1.0 \\\\\n",
       "\t11 & 0.0 & 0.0 \\\\\n",
       "\t12 & 1.0 & 0.0 \\\\\n",
       "\t13 & 0.0 & 0.0 \\\\\n",
       "\t14 & 0.0 & 1.0 \\\\\n",
       "\t15 & 0.0 & 2.0 \\\\\n",
       "\t16 & 1.0 & 1.0 \\\\\n",
       "\t17 & 0.0 & 2.0 \\\\\n",
       "\t18 & 1.0 & 2.0 \\\\\n",
       "\t19 & 0.0 & 2.0 \\\\\n",
       "\t20 & 1.0 & 1.0 \\\\\n",
       "\t21 & 0.0 & 1.0 \\\\\n",
       "\t22 & 1.0 & 2.0 \\\\\n",
       "\t23 & 1.0 & 2.0 \\\\\n",
       "\t24 & 1.0 & 1.0 \\\\\n",
       "\t25 & 0.0 & 2.0 \\\\\n",
       "\t26 & 1.0 & 2.0 \\\\\n",
       "\t27 & 0.0 & 2.0 \\\\\n",
       "\t28 & 0.0 & 1.0 \\\\\n",
       "\t29 & 1.0 & 1.0 \\\\\n",
       "\t30 & 1.0 & 0.0 \\\\\n",
       "\t$\\dots$ & $\\dots$ & $\\dots$ \\\\\n",
       "\\end{tabular}\n"
      ],
      "text/plain": [
       "212×2 DataFrame\n",
       "│ Row │ sex     │ locus   │\n",
       "│     │ \u001b[90mFloat64\u001b[39m │ \u001b[90mFloat64\u001b[39m │\n",
       "├─────┼─────────┼─────────┤\n",
       "│ 1   │ 0.0     │ 2.0     │\n",
       "│ 2   │ 0.0     │ 0.0     │\n",
       "│ 3   │ 1.0     │ 2.0     │\n",
       "│ 4   │ 1.0     │ 2.0     │\n",
       "│ 5   │ 0.0     │ 1.0     │\n",
       "│ 6   │ 0.0     │ 1.0     │\n",
       "│ 7   │ 1.0     │ 1.0     │\n",
       "│ 8   │ 1.0     │ 2.0     │\n",
       "│ 9   │ 0.0     │ 1.0     │\n",
       "│ 10  │ 1.0     │ 1.0     │\n",
       "⋮\n",
       "│ 202 │ 1.0     │ 1.0     │\n",
       "│ 203 │ 1.0     │ 2.0     │\n",
       "│ 204 │ 0.0     │ 1.0     │\n",
       "│ 205 │ 1.0     │ 2.0     │\n",
       "│ 206 │ 1.0     │ 1.0     │\n",
       "│ 207 │ 1.0     │ 1.0     │\n",
       "│ 208 │ 1.0     │ 1.0     │\n",
       "│ 209 │ 1.0     │ 1.0     │\n",
       "│ 210 │ 1.0     │ 1.0     │\n",
       "│ 211 │ 1.0     │ 2.0     │\n",
       "│ 212 │ 1.0     │ 0.0     │"
      ]
     },
     "execution_count": 1,
     "metadata": {},
     "output_type": "execute_result"
    }
   ],
   "source": [
    "using DataFrames, SnpArrays, StatsModels, Random, LinearAlgebra, TraitSimulation, DelimitedFiles\n",
    "\n",
    "snpdata = SnpArray(\"traitsim28e.bed\", 212)\n",
    "famfile = readdlm(\"traitsim28e.fam\", ',')\n",
    "#height = famfile[:, 7]\n",
    "sex = map(x -> strip(x) == \"F\" ? 0.0 : 1.0, famfile[:, 5])\n",
    "snpdef28_1 = readdlm(\"traitsim28e.bim\", Any; header = false)\n",
    "snpid = map(x -> strip(string(x)), snpdef28_1[:, 1])\n",
    "\n",
    "ind_rs10412915 = findall(x -> x == \"rs10412915\", snpid)[1]\n",
    "locus = convert(Vector{Float64}, @view(snpdata[:,ind_rs10412915]))\n",
    "X = DataFrame(sex = sex, locus = locus)"
   ]
  },
  {
   "cell_type": "code",
   "execution_count": 2,
   "metadata": {},
   "outputs": [],
   "source": [
    "using VarianceComponentModels"
   ]
  },
  {
   "cell_type": "code",
   "execution_count": 3,
   "metadata": {},
   "outputs": [
    {
     "data": {
      "text/plain": [
       "2-element Array{VarianceComponent,1}:\n",
       " VarianceComponent([4.0 1.0; 1.0 4.0], [0.488859 0.00422798 … 0.0187809 0.000152741; 0.00422798 0.515141 … -0.0220944 -0.0162381; … ; 0.0187809 -0.0220944 … 0.556933 0.0380902; 0.000152741 -0.0162381 … 0.0380902 0.502935], Cholesky{Float64,Array{Float64,2}}([2.0 0.5; 1.0 1.93649], 'U', 0), Cholesky{Float64,Array{Float64,2}}([0.699184 0.00604701 … 0.0268612 0.000218456; 0.00422798 0.717708 … -0.031011 -0.0226268; … ; 0.0187809 -0.0220944 … 0.47731 -0.47731; 0.000152741 -0.0162381 … 0.0380902 1.07766e-6], 'U', 0))\n",
       " VarianceComponent([2.0 0.0; 0.0 2.0], [1.0 0.0 … 0.0 0.0; 0.0 1.0 … 0.0 0.0; … ; 0.0 0.0 … 1.0 0.0; 0.0 0.0 … 0.0 1.0], Cholesky{Float64,Array{Float64,2}}([1.41421 0.0; 0.0 1.41421], 'U', 0), Cholesky{Float64,Array{Float64,2}}([1.0 0.0 … 0.0 0.0; 0.0 1.0 … 0.0 0.0; … ; 0.0 0.0 … 1.0 0.0; 0.0 0.0 … 0.0 1.0], 'U', 0))                                                                                                                                                                                                       "
      ]
     },
     "execution_count": 3,
     "metadata": {},
     "output_type": "execute_result"
    }
   ],
   "source": [
    "GRM = grm(snpdata, method= :GRM)\n",
    "A_1 = [4 1; 1 4]\n",
    "B_1 = GRM\n",
    "A_2 = [2.0 0.0; 0.0 2.0]\n",
    "B_2 = Matrix{Float64}(I, size(GRM))\n",
    "\n",
    "variancecomp = @vc A_1 ⊗ B_1 + A_2 ⊗ B_2"
   ]
  },
  {
   "cell_type": "markdown",
   "metadata": {},
   "source": [
    "## Simulated trait under the Null model: B_snp = 0"
   ]
  },
  {
   "cell_type": "code",
   "execution_count": 4,
   "metadata": {},
   "outputs": [
    {
     "data": {
      "text/html": [
       "<table class=\"data-frame\"><thead><tr><th></th><th>trait1</th><th>trait2</th></tr><tr><th></th><th>Float64</th><th>Float64</th></tr></thead><tbody><p>212 rows × 2 columns</p><tr><th>1</th><td>39.5715</td><td>20.3192</td></tr><tr><th>2</th><td>42.0113</td><td>21.899</td></tr><tr><th>3</th><td>43.8207</td><td>22.158</td></tr><tr><th>4</th><td>38.2441</td><td>23.5339</td></tr><tr><th>5</th><td>38.2869</td><td>20.7925</td></tr><tr><th>6</th><td>36.2381</td><td>19.2138</td></tr><tr><th>7</th><td>40.9905</td><td>20.7206</td></tr><tr><th>8</th><td>44.2494</td><td>22.2559</td></tr><tr><th>9</th><td>39.7027</td><td>20.7472</td></tr><tr><th>10</th><td>43.7931</td><td>20.2267</td></tr><tr><th>11</th><td>35.9296</td><td>17.0851</td></tr><tr><th>12</th><td>41.103</td><td>16.6316</td></tr><tr><th>13</th><td>36.087</td><td>21.3484</td></tr><tr><th>14</th><td>36.6042</td><td>13.9416</td></tr><tr><th>15</th><td>40.1046</td><td>20.3387</td></tr><tr><th>16</th><td>37.356</td><td>29.3138</td></tr><tr><th>17</th><td>38.1786</td><td>26.8866</td></tr><tr><th>18</th><td>37.8134</td><td>29.6017</td></tr><tr><th>19</th><td>31.6572</td><td>21.061</td></tr><tr><th>20</th><td>35.6257</td><td>25.5304</td></tr><tr><th>21</th><td>34.002</td><td>20.407</td></tr><tr><th>22</th><td>37.4344</td><td>26.0114</td></tr><tr><th>23</th><td>37.3814</td><td>25.3444</td></tr><tr><th>24</th><td>41.7066</td><td>22.7968</td></tr><tr><th>25</th><td>44.2526</td><td>18.5952</td></tr><tr><th>26</th><td>41.0936</td><td>17.9817</td></tr><tr><th>27</th><td>40.726</td><td>17.7332</td></tr><tr><th>28</th><td>45.8606</td><td>17.6529</td></tr><tr><th>29</th><td>41.9306</td><td>22.7285</td></tr><tr><th>30</th><td>41.3732</td><td>19.3625</td></tr><tr><th>&vellip;</th><td>&vellip;</td><td>&vellip;</td></tr></tbody></table>"
      ],
      "text/latex": [
       "\\begin{tabular}{r|cc}\n",
       "\t& trait1 & trait2\\\\\n",
       "\t\\hline\n",
       "\t& Float64 & Float64\\\\\n",
       "\t\\hline\n",
       "\t1 & 39.5715 & 20.3192 \\\\\n",
       "\t2 & 42.0113 & 21.899 \\\\\n",
       "\t3 & 43.8207 & 22.158 \\\\\n",
       "\t4 & 38.2441 & 23.5339 \\\\\n",
       "\t5 & 38.2869 & 20.7925 \\\\\n",
       "\t6 & 36.2381 & 19.2138 \\\\\n",
       "\t7 & 40.9905 & 20.7206 \\\\\n",
       "\t8 & 44.2494 & 22.2559 \\\\\n",
       "\t9 & 39.7027 & 20.7472 \\\\\n",
       "\t10 & 43.7931 & 20.2267 \\\\\n",
       "\t11 & 35.9296 & 17.0851 \\\\\n",
       "\t12 & 41.103 & 16.6316 \\\\\n",
       "\t13 & 36.087 & 21.3484 \\\\\n",
       "\t14 & 36.6042 & 13.9416 \\\\\n",
       "\t15 & 40.1046 & 20.3387 \\\\\n",
       "\t16 & 37.356 & 29.3138 \\\\\n",
       "\t17 & 38.1786 & 26.8866 \\\\\n",
       "\t18 & 37.8134 & 29.6017 \\\\\n",
       "\t19 & 31.6572 & 21.061 \\\\\n",
       "\t20 & 35.6257 & 25.5304 \\\\\n",
       "\t21 & 34.002 & 20.407 \\\\\n",
       "\t22 & 37.4344 & 26.0114 \\\\\n",
       "\t23 & 37.3814 & 25.3444 \\\\\n",
       "\t24 & 41.7066 & 22.7968 \\\\\n",
       "\t25 & 44.2526 & 18.5952 \\\\\n",
       "\t26 & 41.0936 & 17.9817 \\\\\n",
       "\t27 & 40.726 & 17.7332 \\\\\n",
       "\t28 & 45.8606 & 17.6529 \\\\\n",
       "\t29 & 41.9306 & 22.7285 \\\\\n",
       "\t30 & 41.3732 & 19.3625 \\\\\n",
       "\t$\\dots$ & $\\dots$ & $\\dots$ \\\\\n",
       "\\end{tabular}\n"
      ],
      "text/plain": [
       "212×2 DataFrame\n",
       "│ Row │ trait1  │ trait2  │\n",
       "│     │ \u001b[90mFloat64\u001b[39m │ \u001b[90mFloat64\u001b[39m │\n",
       "├─────┼─────────┼─────────┤\n",
       "│ 1   │ 39.5715 │ 20.3192 │\n",
       "│ 2   │ 42.0113 │ 21.899  │\n",
       "│ 3   │ 43.8207 │ 22.158  │\n",
       "│ 4   │ 38.2441 │ 23.5339 │\n",
       "│ 5   │ 38.2869 │ 20.7925 │\n",
       "│ 6   │ 36.2381 │ 19.2138 │\n",
       "│ 7   │ 40.9905 │ 20.7206 │\n",
       "│ 8   │ 44.2494 │ 22.2559 │\n",
       "│ 9   │ 39.7027 │ 20.7472 │\n",
       "│ 10  │ 43.7931 │ 20.2267 │\n",
       "⋮\n",
       "│ 202 │ 42.4102 │ 21.7561 │\n",
       "│ 203 │ 44.9186 │ 22.9327 │\n",
       "│ 204 │ 43.3276 │ 20.2342 │\n",
       "│ 205 │ 48.1321 │ 22.5418 │\n",
       "│ 206 │ 42.3457 │ 20.9026 │\n",
       "│ 207 │ 48.4817 │ 21.0184 │\n",
       "│ 208 │ 41.9177 │ 20.3798 │\n",
       "│ 209 │ 40.0226 │ 20.5523 │\n",
       "│ 210 │ 43.7713 │ 17.4115 │\n",
       "│ 211 │ 38.8932 │ 20.3535 │\n",
       "│ 212 │ 36.3329 │ 21.3588 │"
      ]
     },
     "execution_count": 4,
     "metadata": {},
     "output_type": "execute_result"
    }
   ],
   "source": [
    "trait_null = simulate(LMMTrait([\"40 + 3(sex)\", \"20 + 2(sex)\"], X, variancecomp))"
   ]
  },
  {
   "cell_type": "code",
   "execution_count": 5,
   "metadata": {},
   "outputs": [
    {
     "data": {
      "text/html": [
       "<table class=\"data-frame\"><thead><tr><th></th><th>trait1</th><th>trait2</th></tr><tr><th></th><th>Float64</th><th>Float64</th></tr></thead><tbody><p>212 rows × 2 columns</p><tr><th>1</th><td>39.3832</td><td>17.0522</td></tr><tr><th>2</th><td>34.4946</td><td>23.8129</td></tr><tr><th>3</th><td>41.554</td><td>18.6316</td></tr><tr><th>4</th><td>41.5106</td><td>17.226</td></tr><tr><th>5</th><td>36.8148</td><td>19.8768</td></tr><tr><th>6</th><td>35.6053</td><td>23.8611</td></tr><tr><th>7</th><td>36.1148</td><td>16.2287</td></tr><tr><th>8</th><td>41.6107</td><td>21.0888</td></tr><tr><th>9</th><td>37.1579</td><td>17.7593</td></tr><tr><th>10</th><td>38.2658</td><td>21.9823</td></tr><tr><th>11</th><td>34.9518</td><td>16.1416</td></tr><tr><th>12</th><td>39.3918</td><td>17.2085</td></tr><tr><th>13</th><td>40.3727</td><td>19.5986</td></tr><tr><th>14</th><td>43.6609</td><td>19.8527</td></tr><tr><th>15</th><td>37.3732</td><td>23.4406</td></tr><tr><th>16</th><td>47.2067</td><td>23.2625</td></tr><tr><th>17</th><td>37.7862</td><td>13.9925</td></tr><tr><th>18</th><td>39.5403</td><td>22.109</td></tr><tr><th>19</th><td>38.6448</td><td>19.7997</td></tr><tr><th>20</th><td>44.3907</td><td>28.7425</td></tr><tr><th>21</th><td>41.6261</td><td>22.1701</td></tr><tr><th>22</th><td>44.8804</td><td>18.432</td></tr><tr><th>23</th><td>45.3806</td><td>21.351</td></tr><tr><th>24</th><td>46.2963</td><td>18.7188</td></tr><tr><th>25</th><td>36.0262</td><td>20.0816</td></tr><tr><th>26</th><td>37.1674</td><td>20.5863</td></tr><tr><th>27</th><td>37.7481</td><td>19.806</td></tr><tr><th>28</th><td>39.1759</td><td>21.1218</td></tr><tr><th>29</th><td>42.0112</td><td>22.7972</td></tr><tr><th>30</th><td>38.726</td><td>22.6792</td></tr><tr><th>&vellip;</th><td>&vellip;</td><td>&vellip;</td></tr></tbody></table>"
      ],
      "text/latex": [
       "\\begin{tabular}{r|cc}\n",
       "\t& trait1 & trait2\\\\\n",
       "\t\\hline\n",
       "\t& Float64 & Float64\\\\\n",
       "\t\\hline\n",
       "\t1 & 39.3832 & 17.0522 \\\\\n",
       "\t2 & 34.4946 & 23.8129 \\\\\n",
       "\t3 & 41.554 & 18.6316 \\\\\n",
       "\t4 & 41.5106 & 17.226 \\\\\n",
       "\t5 & 36.8148 & 19.8768 \\\\\n",
       "\t6 & 35.6053 & 23.8611 \\\\\n",
       "\t7 & 36.1148 & 16.2287 \\\\\n",
       "\t8 & 41.6107 & 21.0888 \\\\\n",
       "\t9 & 37.1579 & 17.7593 \\\\\n",
       "\t10 & 38.2658 & 21.9823 \\\\\n",
       "\t11 & 34.9518 & 16.1416 \\\\\n",
       "\t12 & 39.3918 & 17.2085 \\\\\n",
       "\t13 & 40.3727 & 19.5986 \\\\\n",
       "\t14 & 43.6609 & 19.8527 \\\\\n",
       "\t15 & 37.3732 & 23.4406 \\\\\n",
       "\t16 & 47.2067 & 23.2625 \\\\\n",
       "\t17 & 37.7862 & 13.9925 \\\\\n",
       "\t18 & 39.5403 & 22.109 \\\\\n",
       "\t19 & 38.6448 & 19.7997 \\\\\n",
       "\t20 & 44.3907 & 28.7425 \\\\\n",
       "\t21 & 41.6261 & 22.1701 \\\\\n",
       "\t22 & 44.8804 & 18.432 \\\\\n",
       "\t23 & 45.3806 & 21.351 \\\\\n",
       "\t24 & 46.2963 & 18.7188 \\\\\n",
       "\t25 & 36.0262 & 20.0816 \\\\\n",
       "\t26 & 37.1674 & 20.5863 \\\\\n",
       "\t27 & 37.7481 & 19.806 \\\\\n",
       "\t28 & 39.1759 & 21.1218 \\\\\n",
       "\t29 & 42.0112 & 22.7972 \\\\\n",
       "\t30 & 38.726 & 22.6792 \\\\\n",
       "\t$\\dots$ & $\\dots$ & $\\dots$ \\\\\n",
       "\\end{tabular}\n"
      ],
      "text/plain": [
       "212×2 DataFrame\n",
       "│ Row │ trait1  │ trait2  │\n",
       "│     │ \u001b[90mFloat64\u001b[39m │ \u001b[90mFloat64\u001b[39m │\n",
       "├─────┼─────────┼─────────┤\n",
       "│ 1   │ 39.3832 │ 17.0522 │\n",
       "│ 2   │ 34.4946 │ 23.8129 │\n",
       "│ 3   │ 41.554  │ 18.6316 │\n",
       "│ 4   │ 41.5106 │ 17.226  │\n",
       "│ 5   │ 36.8148 │ 19.8768 │\n",
       "│ 6   │ 35.6053 │ 23.8611 │\n",
       "│ 7   │ 36.1148 │ 16.2287 │\n",
       "│ 8   │ 41.6107 │ 21.0888 │\n",
       "│ 9   │ 37.1579 │ 17.7593 │\n",
       "│ 10  │ 38.2658 │ 21.9823 │\n",
       "⋮\n",
       "│ 202 │ 39.0501 │ 21.1354 │\n",
       "│ 203 │ 34.085  │ 19.5804 │\n",
       "│ 204 │ 30.0275 │ 14.3214 │\n",
       "│ 205 │ 36.5639 │ 19.7138 │\n",
       "│ 206 │ 40.459  │ 21.9024 │\n",
       "│ 207 │ 37.1216 │ 15.3341 │\n",
       "│ 208 │ 38.778  │ 19.2982 │\n",
       "│ 209 │ 43.3908 │ 20.6229 │\n",
       "│ 210 │ 40.0432 │ 24.0451 │\n",
       "│ 211 │ 38.6048 │ 20.3376 │\n",
       "│ 212 │ 38.9777 │ 23.2631 │"
      ]
     },
     "execution_count": 5,
     "metadata": {},
     "output_type": "execute_result"
    }
   ],
   "source": [
    "formulas = [\"40 + 3(sex) - 1.5(locus)\", \"20 + 2(sex) - 1.5(locus)\"]\n",
    "alternative_model = LMMTrait(formulas, X, variancecomp)\n",
    "trait_alternative = simulate(LMMTrait(formulas, X, variancecomp))"
   ]
  },
  {
   "cell_type": "code",
   "execution_count": 6,
   "metadata": {},
   "outputs": [
    {
     "data": {
      "text/plain": [
       "212-element Array{Float64,1}:\n",
       " 0.0\n",
       " 0.0\n",
       " 1.0\n",
       " 1.0\n",
       " 0.0\n",
       " 0.0\n",
       " 1.0\n",
       " 1.0\n",
       " 0.0\n",
       " 1.0\n",
       " 0.0\n",
       " 1.0\n",
       " 0.0\n",
       " ⋮  \n",
       " 1.0\n",
       " 1.0\n",
       " 1.0\n",
       " 0.0\n",
       " 1.0\n",
       " 1.0\n",
       " 1.0\n",
       " 1.0\n",
       " 1.0\n",
       " 1.0\n",
       " 1.0\n",
       " 1.0"
      ]
     },
     "execution_count": 6,
     "metadata": {},
     "output_type": "execute_result"
    }
   ],
   "source": [
    "sex = X[:, 1]"
   ]
  },
  {
   "cell_type": "markdown",
   "metadata": {},
   "source": [
    "# NULL model"
   ]
  },
  {
   "cell_type": "code",
   "execution_count": 7,
   "metadata": {},
   "outputs": [
    {
     "data": {
      "text/plain": [
       "VarianceComponentVariate{Float64,2,Array{Float64,2},Array{Float64,1},Array{Float64,2}}([39.5715 20.3192; 42.0113 21.899; … ; 38.8932 20.3535; 36.3329 21.3588], [0.0, 0.0, 1.0, 1.0, 0.0, 0.0, 1.0, 1.0, 0.0, 1.0  …  1.0, 0.0, 1.0, 1.0, 1.0, 1.0, 1.0, 1.0, 1.0, 1.0], ([0.488859 0.00422798 … 0.0187809 0.000152741; 0.00422798 0.515141 … -0.0220944 -0.0162381; … ; 0.0187809 -0.0220944 … 0.556933 0.0380902; 0.000152741 -0.0162381 … 0.0380902 0.502935], [1.0 0.0 … 0.0 0.0; 0.0 1.0 … 0.0 0.0; … ; 0.0 0.0 … 1.0 0.0; 0.0 0.0 … 0.0 1.0]))"
      ]
     },
     "execution_count": 7,
     "metadata": {},
     "output_type": "execute_result"
    }
   ],
   "source": [
    "Σ_tuple, V_tuple = vcobjtuple(variancecomp)\n",
    "vcdata_null = VarianceComponentVariate(Matrix(trait_null), sex, V_tuple)"
   ]
  },
  {
   "cell_type": "code",
   "execution_count": 8,
   "metadata": {},
   "outputs": [
    {
     "name": "stdout",
     "output_type": "stream",
     "text": [
      "\n",
      "     MM Algorithm\n",
      "  Iter      Objective  \n",
      "--------  -------------\n",
      "       0  -1.153399e+05\n",
      "\n",
      "******************************************************************************\n",
      "This program contains Ipopt, a library for large-scale nonlinear optimization.\n",
      " Ipopt is released as open source code under the Eclipse Public License (EPL).\n",
      "         For more information visit http://projects.coin-or.org/Ipopt\n",
      "******************************************************************************\n",
      "\n",
      "       1  -2.305547e+03\n",
      "       2  -1.662489e+03\n",
      "       3  -1.570499e+03\n",
      "       4  -1.551857e+03\n",
      "       5  -1.547095e+03\n",
      "       6  -1.545490e+03\n",
      "       7  -1.544732e+03\n",
      "       8  -1.544265e+03\n",
      "       9  -1.543936e+03\n",
      "      10  -1.543691e+03\n",
      "      20  -1.542937e+03\n",
      "      30  -1.542873e+03\n",
      "      40  -1.542866e+03\n",
      "      50  -1.542865e+03\n",
      "\n"
     ]
    },
    {
     "data": {
      "text/plain": [
       "(-1542.8653382648056, VarianceComponentModel{Float64,2,Array{Float64,2},Array{Float64,2}}([42.6252 21.9358], ([1.79525 -5.27314; -5.27314 15.489], [744.767 364.64; 364.64 180.821]), Array{Float64}(0,2), Char[], Float64[], -Inf, Inf), ([132.974 68.5423; 68.5423 35.2838], [97.9573 48.7562; 48.7562 24.2657]), [17682.0 8491.62 … -4255.05 -2064.31; 8491.62 4698.05 … -2064.31 -1079.5; … ; -4255.05 -2064.31 … 2377.17 1159.1; -2064.31 -1079.5 … 1159.1 588.825], [2.77069 1.36578], [7.67672 3.75791; 3.75791 1.86536])"
      ]
     },
     "execution_count": 8,
     "metadata": {},
     "output_type": "execute_result"
    }
   ],
   "source": [
    "vcmodel_null = VarianceComponentModel(vcdata_null)\n",
    "vcmodel_null.Σ = Σ_tuple\n",
    "vcmodel_mle_null = deepcopy(vcmodel_null)\n",
    "logl_null, _, _, _, _, _ = fit_mle!(vcmodel_mle_null, vcdata_null; algo = :MM)"
   ]
  },
  {
   "cell_type": "code",
   "execution_count": 9,
   "metadata": {},
   "outputs": [
    {
     "data": {
      "text/plain": [
       "-1542.8653382648056"
      ]
     },
     "execution_count": 9,
     "metadata": {},
     "output_type": "execute_result"
    }
   ],
   "source": [
    "logl_null"
   ]
  },
  {
   "cell_type": "code",
   "execution_count": 10,
   "metadata": {},
   "outputs": [
    {
     "data": {
      "text/plain": [
       "VarianceComponentVariate{Float64,2,Array{Float64,2},Array{Float64,2},Array{Float64,2}}([39.3832 17.0522; 34.4946 23.8129; … ; 38.6048 20.3376; 38.9777 23.2631], [0.0 2.0; 0.0 0.0; … ; 1.0 2.0; 1.0 0.0], ([0.488859 0.00422798 … 0.0187809 0.000152741; 0.00422798 0.515141 … -0.0220944 -0.0162381; … ; 0.0187809 -0.0220944 … 0.556933 0.0380902; 0.000152741 -0.0162381 … 0.0380902 0.502935], [1.0 0.0 … 0.0 0.0; 0.0 1.0 … 0.0 0.0; … ; 0.0 0.0 … 1.0 0.0; 0.0 0.0 … 0.0 1.0]))"
      ]
     },
     "execution_count": 10,
     "metadata": {},
     "output_type": "execute_result"
    }
   ],
   "source": [
    "vcdata_alt = VarianceComponentVariate(Matrix(trait_alternative), Matrix(X), V_tuple)"
   ]
  },
  {
   "cell_type": "code",
   "execution_count": 28,
   "metadata": {},
   "outputs": [
    {
     "name": "stdout",
     "output_type": "stream",
     "text": [
      "This is Ipopt version 3.12.10, running with linear solver mumps.\n",
      "NOTE: Other linear solvers might be more efficient (see Ipopt documentation).\n",
      "\n",
      "Number of nonzeros in equality constraint Jacobian...:        0\n",
      "Number of nonzeros in inequality constraint Jacobian.:        0\n",
      "Number of nonzeros in Lagrangian Hessian.............:       21\n",
      "\n",
      "Total number of variables............................:        6\n",
      "                     variables with only lower bounds:        0\n",
      "                variables with lower and upper bounds:        0\n",
      "                     variables with only upper bounds:        0\n",
      "Total number of equality constraints.................:        0\n",
      "Total number of inequality constraints...............:        0\n",
      "        inequality constraints with only lower bounds:        0\n",
      "   inequality constraints with lower and upper bounds:        0\n",
      "        inequality constraints with only upper bounds:        0\n",
      "\n",
      "iter    objective    inf_pr   inf_du lg(mu)  ||d||  lg(rg) alpha_du alpha_pr  ls\n",
      "   0  1.2767152e+04 0.00e+00 2.38e+02   0.0 0.00e+00    -  0.00e+00 0.00e+00   0 \n",
      "ERROR: Problem in step computation, but emergency mode cannot be activated.\n",
      "\n",
      "Number of Iterations....: 4\n",
      "\n",
      "                                   (scaled)                 (unscaled)\n",
      "Objective...............:   7.7788652658883893e+02    3.0375372453314943e+04\n",
      "Dual infeasibility......:   3.1058084359294548e+83    1.2127744187021932e+85\n",
      "Constraint violation....:   0.0000000000000000e+00    0.0000000000000000e+00\n",
      "Complementarity.........:   0.0000000000000000e+00    0.0000000000000000e+00\n",
      "Overall NLP error.......:   3.1058084359294548e+83    1.2127744187021932e+85\n",
      "\n",
      "\n",
      "Number of objective function evaluations             = 5\n",
      "Number of objective gradient evaluations             = 5\n",
      "Number of equality constraint evaluations            = 0\n",
      "Number of inequality constraint evaluations          = 0\n",
      "Number of equality constraint Jacobian evaluations   = 0\n",
      "Number of inequality constraint Jacobian evaluations = 0\n",
      "Number of Lagrangian Hessian evaluations             = 5\n",
      "Total CPU secs in IPOPT (w/o function evaluations)   =      0.027\n",
      "Total CPU secs in NLP function evaluations           =      0.102\n",
      "\n",
      "EXIT: Error in step computation (regularization becomes too large?)!\n"
     ]
    },
    {
     "name": "stderr",
     "output_type": "stream",
     "text": [
      "┌ Warning: Ipopt finished with status Error_In_Step_Computation\n",
      "└ @ Ipopt /Users/sarahji/.julia/packages/Ipopt/Iu7vT/src/MPB_wrapper.jl:178\n"
     ]
    },
    {
     "ename": "DomainError",
     "evalue": "DomainError with -1.5983931293035807e-51:\nsqrt will only return a complex result if called with a complex argument. Try sqrt(Complex(x)).",
     "output_type": "error",
     "traceback": [
      "DomainError with -1.5983931293035807e-51:\nsqrt will only return a complex result if called with a complex argument. Try sqrt(Complex(x)).",
      "",
      "Stacktrace:",
      " [1] throw_complex_domainerror(::Symbol, ::Float64) at ./math.jl:31",
      " [2] sqrt at ./math.jl:492 [inlined]",
      " [3] _broadcast_getindex_evalf at ./broadcast.jl:582 [inlined]",
      " [4] _broadcast_getindex at ./broadcast.jl:555 [inlined]",
      " [5] getindex at ./broadcast.jl:515 [inlined]",
      " [6] macro expansion at ./broadcast.jl:846 [inlined]",
      " [7] macro expansion at ./simdloop.jl:73 [inlined]",
      " [8] copyto! at ./broadcast.jl:845 [inlined]",
      " [9] copyto! at ./broadcast.jl:800 [inlined]",
      " [10] copy at ./broadcast.jl:776 [inlined]",
      " [11] materialize at ./broadcast.jl:756 [inlined]",
      " [12] #mle_fs!#29(::Int64, ::Symbol, ::Symbol, ::Bool, ::Function, ::VarianceComponentModel{Float64,2,Array{Float64,2},Array{Float64,2}}, ::TwoVarCompVariateRotate{Float64,Array{Float64,2},Array{Float64,2}}) at /Users/sarahji/.julia/dev/VarianceComponentModels/src/two_variance_component.jl:1035",
      " [13] mle_fs! at /Users/sarahji/.julia/dev/VarianceComponentModels/src/two_variance_component.jl:927 [inlined]",
      " [14] #fit_mle!#33 at /Users/sarahji/.julia/dev/VarianceComponentModels/src/two_variance_component.jl:1278 [inlined]",
      " [15] (::getfield(VarianceComponentModels, Symbol(\"#kw##fit_mle!\")))(::NamedTuple{(:algo,),Tuple{Symbol}}, ::typeof(fit_mle!), ::VarianceComponentModel{Float64,2,Array{Float64,2},Array{Float64,2}}, ::VarianceComponentVariate{Float64,2,Array{Float64,2},Array{Float64,2},Array{Float64,2}}) at ./none:0",
      " [16] top-level scope at In[28]:4"
     ]
    }
   ],
   "source": [
    "vcmodel_alt = VarianceComponentModel(vcdata_alt)\n",
    "vcmodel_alt.Σ = Σ_tuple\n",
    "vcmodel_mle = deepcopy(vcmodel_alt)\n",
    "logl_alt, _, _, _, _, _ = fit_mle!(vcmodel_mle, vcdata_alt; algo = :FS)"
   ]
  },
  {
   "cell_type": "code",
   "execution_count": 12,
   "metadata": {},
   "outputs": [
    {
     "ename": "UndefVarError",
     "evalue": "UndefVarError: logl_alt not defined",
     "output_type": "error",
     "traceback": [
      "UndefVarError: logl_alt not defined",
      "",
      "Stacktrace:",
      " [1] top-level scope at In[12]:1"
     ]
    }
   ],
   "source": [
    "logl_alt"
   ]
  },
  {
   "cell_type": "code",
   "execution_count": 13,
   "metadata": {},
   "outputs": [
    {
     "data": {
      "text/html": [
       "<table class=\"data-frame\"><thead><tr><th></th><th>sex</th><th>locus</th></tr><tr><th></th><th>Float64</th><th>Float64</th></tr></thead><tbody><p>212 rows × 2 columns</p><tr><th>1</th><td>0.0</td><td>2.0</td></tr><tr><th>2</th><td>0.0</td><td>0.0</td></tr><tr><th>3</th><td>1.0</td><td>2.0</td></tr><tr><th>4</th><td>1.0</td><td>2.0</td></tr><tr><th>5</th><td>0.0</td><td>1.0</td></tr><tr><th>6</th><td>0.0</td><td>1.0</td></tr><tr><th>7</th><td>1.0</td><td>1.0</td></tr><tr><th>8</th><td>1.0</td><td>2.0</td></tr><tr><th>9</th><td>0.0</td><td>1.0</td></tr><tr><th>10</th><td>1.0</td><td>1.0</td></tr><tr><th>11</th><td>0.0</td><td>0.0</td></tr><tr><th>12</th><td>1.0</td><td>0.0</td></tr><tr><th>13</th><td>0.0</td><td>0.0</td></tr><tr><th>14</th><td>0.0</td><td>1.0</td></tr><tr><th>15</th><td>0.0</td><td>2.0</td></tr><tr><th>16</th><td>1.0</td><td>1.0</td></tr><tr><th>17</th><td>0.0</td><td>2.0</td></tr><tr><th>18</th><td>1.0</td><td>2.0</td></tr><tr><th>19</th><td>0.0</td><td>2.0</td></tr><tr><th>20</th><td>1.0</td><td>1.0</td></tr><tr><th>21</th><td>0.0</td><td>1.0</td></tr><tr><th>22</th><td>1.0</td><td>2.0</td></tr><tr><th>23</th><td>1.0</td><td>2.0</td></tr><tr><th>24</th><td>1.0</td><td>1.0</td></tr><tr><th>25</th><td>0.0</td><td>2.0</td></tr><tr><th>26</th><td>1.0</td><td>2.0</td></tr><tr><th>27</th><td>0.0</td><td>2.0</td></tr><tr><th>28</th><td>0.0</td><td>1.0</td></tr><tr><th>29</th><td>1.0</td><td>1.0</td></tr><tr><th>30</th><td>1.0</td><td>0.0</td></tr><tr><th>&vellip;</th><td>&vellip;</td><td>&vellip;</td></tr></tbody></table>"
      ],
      "text/latex": [
       "\\begin{tabular}{r|cc}\n",
       "\t& sex & locus\\\\\n",
       "\t\\hline\n",
       "\t& Float64 & Float64\\\\\n",
       "\t\\hline\n",
       "\t1 & 0.0 & 2.0 \\\\\n",
       "\t2 & 0.0 & 0.0 \\\\\n",
       "\t3 & 1.0 & 2.0 \\\\\n",
       "\t4 & 1.0 & 2.0 \\\\\n",
       "\t5 & 0.0 & 1.0 \\\\\n",
       "\t6 & 0.0 & 1.0 \\\\\n",
       "\t7 & 1.0 & 1.0 \\\\\n",
       "\t8 & 1.0 & 2.0 \\\\\n",
       "\t9 & 0.0 & 1.0 \\\\\n",
       "\t10 & 1.0 & 1.0 \\\\\n",
       "\t11 & 0.0 & 0.0 \\\\\n",
       "\t12 & 1.0 & 0.0 \\\\\n",
       "\t13 & 0.0 & 0.0 \\\\\n",
       "\t14 & 0.0 & 1.0 \\\\\n",
       "\t15 & 0.0 & 2.0 \\\\\n",
       "\t16 & 1.0 & 1.0 \\\\\n",
       "\t17 & 0.0 & 2.0 \\\\\n",
       "\t18 & 1.0 & 2.0 \\\\\n",
       "\t19 & 0.0 & 2.0 \\\\\n",
       "\t20 & 1.0 & 1.0 \\\\\n",
       "\t21 & 0.0 & 1.0 \\\\\n",
       "\t22 & 1.0 & 2.0 \\\\\n",
       "\t23 & 1.0 & 2.0 \\\\\n",
       "\t24 & 1.0 & 1.0 \\\\\n",
       "\t25 & 0.0 & 2.0 \\\\\n",
       "\t26 & 1.0 & 2.0 \\\\\n",
       "\t27 & 0.0 & 2.0 \\\\\n",
       "\t28 & 0.0 & 1.0 \\\\\n",
       "\t29 & 1.0 & 1.0 \\\\\n",
       "\t30 & 1.0 & 0.0 \\\\\n",
       "\t$\\dots$ & $\\dots$ & $\\dots$ \\\\\n",
       "\\end{tabular}\n"
      ],
      "text/plain": [
       "212×2 DataFrame\n",
       "│ Row │ sex     │ locus   │\n",
       "│     │ \u001b[90mFloat64\u001b[39m │ \u001b[90mFloat64\u001b[39m │\n",
       "├─────┼─────────┼─────────┤\n",
       "│ 1   │ 0.0     │ 2.0     │\n",
       "│ 2   │ 0.0     │ 0.0     │\n",
       "│ 3   │ 1.0     │ 2.0     │\n",
       "│ 4   │ 1.0     │ 2.0     │\n",
       "│ 5   │ 0.0     │ 1.0     │\n",
       "│ 6   │ 0.0     │ 1.0     │\n",
       "│ 7   │ 1.0     │ 1.0     │\n",
       "│ 8   │ 1.0     │ 2.0     │\n",
       "│ 9   │ 0.0     │ 1.0     │\n",
       "│ 10  │ 1.0     │ 1.0     │\n",
       "⋮\n",
       "│ 202 │ 1.0     │ 1.0     │\n",
       "│ 203 │ 1.0     │ 2.0     │\n",
       "│ 204 │ 0.0     │ 1.0     │\n",
       "│ 205 │ 1.0     │ 2.0     │\n",
       "│ 206 │ 1.0     │ 1.0     │\n",
       "│ 207 │ 1.0     │ 1.0     │\n",
       "│ 208 │ 1.0     │ 1.0     │\n",
       "│ 209 │ 1.0     │ 1.0     │\n",
       "│ 210 │ 1.0     │ 1.0     │\n",
       "│ 211 │ 1.0     │ 2.0     │\n",
       "│ 212 │ 1.0     │ 0.0     │"
      ]
     },
     "execution_count": 13,
     "metadata": {},
     "output_type": "execute_result"
    }
   ],
   "source": [
    "snpdata = SnpArray(\"traitsim28e.bed\", 212)\n",
    "famfile = readdlm(\"traitsim28e.fam\", ',')\n",
    "sex = map(x -> strip(x) == \"F\" ? 0.0 : 1.0, famfile[:, 5])\n",
    "snpdef28_1 = readdlm(\"traitsim28e.bim\", Any; header = false)\n",
    "snpid = map(x -> strip(string(x)), snpdef28_1[:, 1])\n",
    "\n",
    "ind_rs10412915 = findall(x -> x == \"rs10412915\", snpid)[1]\n",
    "locus = convert(Vector{Float64}, @view(snpdata[:, ind_rs10412915]))\n",
    "X = DataFrame(sex = sex, locus = locus)"
   ]
  },
  {
   "cell_type": "code",
   "execution_count": 14,
   "metadata": {},
   "outputs": [
    {
     "data": {
      "text/plain": [
       "212×212 Array{Float64,2}:\n",
       " 1.0  0.0  0.0  0.0  0.0  0.0  0.0  0.0  …  0.0  0.0  0.0  0.0  0.0  0.0  0.0\n",
       " 0.0  1.0  0.0  0.0  0.0  0.0  0.0  0.0     0.0  0.0  0.0  0.0  0.0  0.0  0.0\n",
       " 0.0  0.0  1.0  0.0  0.0  0.0  0.0  0.0     0.0  0.0  0.0  0.0  0.0  0.0  0.0\n",
       " 0.0  0.0  0.0  1.0  0.0  0.0  0.0  0.0     0.0  0.0  0.0  0.0  0.0  0.0  0.0\n",
       " 0.0  0.0  0.0  0.0  1.0  0.0  0.0  0.0     0.0  0.0  0.0  0.0  0.0  0.0  0.0\n",
       " 0.0  0.0  0.0  0.0  0.0  1.0  0.0  0.0  …  0.0  0.0  0.0  0.0  0.0  0.0  0.0\n",
       " 0.0  0.0  0.0  0.0  0.0  0.0  1.0  0.0     0.0  0.0  0.0  0.0  0.0  0.0  0.0\n",
       " 0.0  0.0  0.0  0.0  0.0  0.0  0.0  1.0     0.0  0.0  0.0  0.0  0.0  0.0  0.0\n",
       " 0.0  0.0  0.0  0.0  0.0  0.0  0.0  0.0     0.0  0.0  0.0  0.0  0.0  0.0  0.0\n",
       " 0.0  0.0  0.0  0.0  0.0  0.0  0.0  0.0     0.0  0.0  0.0  0.0  0.0  0.0  0.0\n",
       " 0.0  0.0  0.0  0.0  0.0  0.0  0.0  0.0  …  0.0  0.0  0.0  0.0  0.0  0.0  0.0\n",
       " 0.0  0.0  0.0  0.0  0.0  0.0  0.0  0.0     0.0  0.0  0.0  0.0  0.0  0.0  0.0\n",
       " 0.0  0.0  0.0  0.0  0.0  0.0  0.0  0.0     0.0  0.0  0.0  0.0  0.0  0.0  0.0\n",
       " ⋮                        ⋮              ⋱  ⋮                        ⋮       \n",
       " 0.0  0.0  0.0  0.0  0.0  0.0  0.0  0.0  …  0.0  0.0  0.0  0.0  0.0  0.0  0.0\n",
       " 0.0  0.0  0.0  0.0  0.0  0.0  0.0  0.0     0.0  0.0  0.0  0.0  0.0  0.0  0.0\n",
       " 0.0  0.0  0.0  0.0  0.0  0.0  0.0  0.0     0.0  0.0  0.0  0.0  0.0  0.0  0.0\n",
       " 0.0  0.0  0.0  0.0  0.0  0.0  0.0  0.0     0.0  0.0  0.0  0.0  0.0  0.0  0.0\n",
       " 0.0  0.0  0.0  0.0  0.0  0.0  0.0  0.0     0.0  0.0  0.0  0.0  0.0  0.0  0.0\n",
       " 0.0  0.0  0.0  0.0  0.0  0.0  0.0  0.0  …  1.0  0.0  0.0  0.0  0.0  0.0  0.0\n",
       " 0.0  0.0  0.0  0.0  0.0  0.0  0.0  0.0     0.0  1.0  0.0  0.0  0.0  0.0  0.0\n",
       " 0.0  0.0  0.0  0.0  0.0  0.0  0.0  0.0     0.0  0.0  1.0  0.0  0.0  0.0  0.0\n",
       " 0.0  0.0  0.0  0.0  0.0  0.0  0.0  0.0     0.0  0.0  0.0  1.0  0.0  0.0  0.0\n",
       " 0.0  0.0  0.0  0.0  0.0  0.0  0.0  0.0     0.0  0.0  0.0  0.0  1.0  0.0  0.0\n",
       " 0.0  0.0  0.0  0.0  0.0  0.0  0.0  0.0  …  0.0  0.0  0.0  0.0  0.0  1.0  0.0\n",
       " 0.0  0.0  0.0  0.0  0.0  0.0  0.0  0.0     0.0  0.0  0.0  0.0  0.0  0.0  1.0"
      ]
     },
     "execution_count": 14,
     "metadata": {},
     "output_type": "execute_result"
    }
   ],
   "source": [
    "GRM = grm(snpdata, method= :GRM)\n",
    "A_1 = [4 1; 1 4]\n",
    "B_1 = GRM\n",
    "A_2 = [2.0 0.0; 0.0 2.0]\n",
    "B_2 = Matrix{Float64}(I, size(GRM))"
   ]
  },
  {
   "cell_type": "code",
   "execution_count": 15,
   "metadata": {},
   "outputs": [
    {
     "data": {
      "text/plain": [
       "2-element Array{VarianceComponent,1}:\n",
       " VarianceComponent([4.0 1.0; 1.0 4.0], [0.488859 0.00422798 … 0.0187809 0.000152741; 0.00422798 0.515141 … -0.0220944 -0.0162381; … ; 0.0187809 -0.0220944 … 0.556933 0.0380902; 0.000152741 -0.0162381 … 0.0380902 0.502935], Cholesky{Float64,Array{Float64,2}}([2.0 0.5; 1.0 1.93649], 'U', 0), Cholesky{Float64,Array{Float64,2}}([0.699184 0.00604701 … 0.0268612 0.000218456; 0.00422798 0.717708 … -0.031011 -0.0226268; … ; 0.0187809 -0.0220944 … 0.47731 -0.47731; 0.000152741 -0.0162381 … 0.0380902 1.07766e-6], 'U', 0))\n",
       " VarianceComponent([2.0 0.0; 0.0 2.0], [1.0 0.0 … 0.0 0.0; 0.0 1.0 … 0.0 0.0; … ; 0.0 0.0 … 1.0 0.0; 0.0 0.0 … 0.0 1.0], Cholesky{Float64,Array{Float64,2}}([1.41421 0.0; 0.0 1.41421], 'U', 0), Cholesky{Float64,Array{Float64,2}}([1.0 0.0 … 0.0 0.0; 0.0 1.0 … 0.0 0.0; … ; 0.0 0.0 … 1.0 0.0; 0.0 0.0 … 0.0 1.0], 'U', 0))                                                                                                                                                                                                       "
      ]
     },
     "execution_count": 15,
     "metadata": {},
     "output_type": "execute_result"
    }
   ],
   "source": [
    "variancecomp = @vc A_1 ⊗ B_1 + A_2 ⊗ B_2"
   ]
  },
  {
   "cell_type": "code",
   "execution_count": 16,
   "metadata": {},
   "outputs": [
    {
     "data": {
      "text/plain": [
       "1000-element Array{Float64,1}:\n",
       " 0.0\n",
       " 0.0\n",
       " 0.0\n",
       " 0.0\n",
       " 0.0\n",
       " 0.0\n",
       " 0.0\n",
       " 0.0\n",
       " 0.0\n",
       " 0.0\n",
       " 0.0\n",
       " 0.0\n",
       " 0.0\n",
       " ⋮  \n",
       " 0.0\n",
       " 0.0\n",
       " 0.0\n",
       " 0.0\n",
       " 0.0\n",
       " 0.0\n",
       " 0.0\n",
       " 0.0\n",
       " 0.0\n",
       " 0.0\n",
       " 0.0\n",
       " 0.0"
      ]
     },
     "execution_count": 16,
     "metadata": {},
     "output_type": "execute_result"
    }
   ],
   "source": [
    "B = 1000\n",
    "rejectH0 = zeros(B)"
   ]
  },
  {
   "cell_type": "code",
   "execution_count": 17,
   "metadata": {},
   "outputs": [
    {
     "data": {
      "text/plain": [
       "Pwr2 (generic function with 1 method)"
      ]
     },
     "execution_count": 17,
     "metadata": {},
     "output_type": "execute_result"
    }
   ],
   "source": [
    "function Pwr2(X, vc, alternative_formulas, traitnull, alpha, B)\n",
    "Σ_tuple, V_tuple = vcobjtuple(vc)\n",
    "rejectH0 = zeros(B)\n",
    "\n",
    "#under the null once\n",
    "vcdata_null = VarianceComponentVariate(Matrix(trait_null), V_tuple) #without covariates\n",
    "vcmodel_null = VarianceComponentModel(vcdata_null) # initializes with B= 0 and Sigma = I \n",
    "vcmodel_mle_null = deepcopy(vcmodel_null)\n",
    "logl_null, _, _, _, _, _ = fit_mle!(vcmodel_mle_null, vcdata_null; algo = :FS);\n",
    "    \n",
    "#under the alternative\n",
    "alternative_model = LMMTrait(alternative_formulas, X, vc)\n",
    "\n",
    "for i in 1:B\n",
    "    trait_i = Matrix(simulate(alternative_model))\n",
    "    vcdata_alt = VarianceComponentVariate(trait_i, Matrix(X), V_tuple)\n",
    "    vcmodel_alt = VarianceComponentModel(vcdata_alt)\n",
    "    vcmodel_alt.Σ = Σ_tuple\n",
    "\n",
    "    vcmodel_mle = deepcopy(vcmodel_alt)\n",
    "    logl_alt, _, _, _, _, _ = fit_mle!(vcmodel_mle, vcdata_alt; algo = :FS)\n",
    "    if(2*(logl_alt - logl_null) > cquantile(Chisq(1), alpha))\n",
    "        rejectH0[i] = 1\n",
    "        else rejectH0[i] = 0\n",
    "    end\n",
    "#5. The statistical power is the proportion of p-values that are lower than a specified α-level\n",
    "end\n",
    "\n",
    "return(sum(rejectH0)/ B - 1)\n",
    "end"
   ]
  },
  {
   "cell_type": "code",
   "execution_count": 26,
   "metadata": {},
   "outputs": [
    {
     "data": {
      "text/plain": [
       "false"
      ]
     },
     "execution_count": 26,
     "metadata": {},
     "output_type": "execute_result"
    }
   ],
   "source": [
    "isposdef(Matrix(X))"
   ]
  },
  {
   "cell_type": "code",
   "execution_count": 19,
   "metadata": {},
   "outputs": [
    {
     "name": "stdout",
     "output_type": "stream",
     "text": [
      "This is Ipopt version 3.12.10, running with linear solver mumps.\n",
      "NOTE: Other linear solvers might be more efficient (see Ipopt documentation).\n",
      "\n",
      "Number of nonzeros in equality constraint Jacobian...:        0\n",
      "Number of nonzeros in inequality constraint Jacobian.:        0\n",
      "Number of nonzeros in Lagrangian Hessian.............:       21\n",
      "\n",
      "Total number of variables............................:        6\n",
      "                     variables with only lower bounds:        0\n",
      "                variables with lower and upper bounds:        0\n",
      "                     variables with only upper bounds:        0\n",
      "Total number of equality constraints.................:        0\n",
      "Total number of inequality constraints...............:        0\n",
      "        inequality constraints with only lower bounds:        0\n",
      "   inequality constraints with lower and upper bounds:        0\n",
      "        inequality constraints with only upper bounds:        0\n",
      "\n",
      "iter    objective    inf_pr   inf_du lg(mu)  ||d||  lg(rg) alpha_du alpha_pr  ls\n",
      "   0  2.3029179e+05 0.00e+00 1.00e+02   0.0 0.00e+00    -  0.00e+00 0.00e+00   0 \n",
      "Warning: Cutting back alpha due to evaluation error\n",
      "Warning: Cutting back alpha due to evaluation error\n",
      "Warning: Cutting back alpha due to evaluation error\n",
      "Warning: Cutting back alpha due to evaluation error\n",
      "   5  4.8867308e+04 0.00e+00 5.77e-02 -11.0 5.00e-01  -5.4 1.00e+00 1.00e+00f  1 MaxS\n",
      "  10  4.7807311e+04 0.00e+00 5.77e-02 -11.0 5.00e-01  -7.8 1.00e+00 1.00e+00f  1 MaxS\n",
      "  15  4.6747311e+04 0.00e+00 5.77e-02 -11.0 5.00e-01 -10.2 1.00e+00 1.00e+00f  1 MaxS\n",
      "  20  4.5687311e+04 0.00e+00 5.77e-02 -11.0 5.00e-01 -12.6 1.00e+00 1.00e+00f  1 MaxS\n",
      "  25  4.4627311e+04 0.00e+00 5.77e-02 -11.0 5.00e-01 -15.0 1.00e+00 1.00e+00f  1 MaxS\n",
      "  30  4.3567311e+04 0.00e+00 5.77e-02 -11.0 5.00e-01 -17.4 1.00e+00 1.00e+00f  1 MaxS\n",
      "  35  4.2507311e+04 0.00e+00 5.77e-02 -11.0 5.00e-01 -19.7 1.00e+00 1.00e+00f  1 MaxS\n",
      "  40  4.1447311e+04 0.00e+00 5.77e-02 -11.0 5.00e-01 -19.1 1.00e+00 1.00e+00f  1 MaxS\n",
      "  45  4.0387311e+04 0.00e+00 5.77e-02 -11.0 5.00e-01 -19.6 1.00e+00 1.00e+00f  1 MaxS\n",
      "iter    objective    inf_pr   inf_du lg(mu)  ||d||  lg(rg) alpha_du alpha_pr  ls\n",
      "  50  3.9327311e+04 0.00e+00 5.77e-02 -11.0 5.00e-01 -19.1 1.00e+00 1.00e+00f  1 MaxS\n",
      "  55  3.8267311e+04 0.00e+00 5.77e-02 -11.0 2.45e+01 -19.6 1.00e+00 1.00e+00f  1 MaxS\n",
      "  60  3.7207311e+04 0.00e+00 5.77e-02 -11.0 1.84e+00 -19.1 1.00e+00 1.00e+00f  1 MaxS\n",
      "  65  3.6147311e+04 0.00e+00 5.77e-02 -11.0 5.00e-01 -19.6 1.00e+00 1.00e+00f  1 MaxS\n",
      "  70  3.5087311e+04 0.00e+00 5.77e-02 -11.0 1.04e+01 -19.1 1.00e+00 1.00e+00f  1 MaxS\n",
      "  75  3.4027312e+04 0.00e+00 5.77e-02 -11.0 5.34e+01 -19.6 1.00e+00 1.00e+00f  1 MaxS\n",
      "  80  3.2967353e+04 0.00e+00 5.77e-02 -11.0 4.44e+01 -19.1 1.00e+00 1.00e+00f  1 MaxS\n",
      "  85  3.1910988e+04 0.00e+00 5.77e-02 -11.0 2.70e+01 -19.6 1.00e+00 1.00e+00f  1 MaxS\n",
      "  90  3.9851521e+04 0.00e+00 5.77e-02 -11.0 7.72e+02 -19.1 1.00e+00 1.00e+00h  1 MaxS\n",
      "  95  3.8791521e+04 0.00e+00 5.77e-02 -11.0 5.00e-01 -19.6 1.00e+00 1.00e+00f  1 MaxS\n",
      "iter    objective    inf_pr   inf_du lg(mu)  ||d||  lg(rg) alpha_du alpha_pr  ls\n",
      " 100  3.7731521e+04 0.00e+00 5.77e-02 -11.0 5.00e-01 -19.1 1.00e+00 1.00e+00f  1 MaxS\n",
      " 105  3.6671521e+04 0.00e+00 5.77e-02 -11.0 5.00e-01 -19.6 1.00e+00 1.00e+00f  1 MaxS\n",
      " 110  3.5611521e+04 0.00e+00 5.77e-02 -11.0 5.00e-01 -19.1 1.00e+00 1.00e+00f  1 MaxS\n",
      " 115  3.4551521e+04 0.00e+00 5.77e-02 -11.0 5.00e-01 -19.6 1.00e+00 1.00e+00f  1 MaxS\n",
      " 120  3.3491521e+04 0.00e+00 5.77e-02 -11.0 5.00e-01 -19.1 1.00e+00 1.00e+00f  1 MaxS\n",
      " 125  3.2431521e+04 0.00e+00 5.77e-02 -11.0 5.00e-01 -19.6 1.00e+00 1.00e+00f  1 MaxS\n",
      " 130  3.1371521e+04 0.00e+00 5.77e-02 -11.0 5.00e-01 -19.1 1.00e+00 1.00e+00f  1 MaxS\n",
      " 135  3.0311521e+04 0.00e+00 5.77e-02 -11.0 5.00e-01 -19.6 1.00e+00 1.00e+00f  1 MaxS\n",
      " 140  2.9251521e+04 0.00e+00 5.77e-02 -11.0 5.00e-01 -19.1 1.00e+00 1.00e+00f  1 MaxS\n",
      " 145  2.8191521e+04 0.00e+00 5.77e-02 -11.0 5.00e-01 -19.6 1.00e+00 1.00e+00f  1 MaxS\n",
      "iter    objective    inf_pr   inf_du lg(mu)  ||d||  lg(rg) alpha_du alpha_pr  ls\n",
      " 150  2.7131521e+04 0.00e+00 5.77e-02 -11.0 5.00e-01 -19.1 1.00e+00 1.00e+00f  1 MaxS\n",
      " 155  2.6071521e+04 0.00e+00 5.77e-02 -11.0 1.30e+02 -19.6 1.00e+00 1.00e+00f  1 MaxS\n",
      " 160  2.5011522e+04 0.00e+00 5.77e-02 -11.0 6.58e+01 -19.1 1.00e+00 1.00e+00f  1 MaxS\n",
      " 165  2.3951644e+04 0.00e+00 5.77e-02 -11.0 8.68e+01 -19.6 1.00e+00 1.00e+00f  1 MaxS\n",
      " 170  2.2902097e+04 0.00e+00 5.77e-02 -11.0 6.46e+01 -19.1 1.00e+00 1.00e+00f  1 MaxS\n",
      " 175  2.2144736e+04 0.00e+00 5.77e-02 -11.0 5.93e+01 -19.6 1.00e+00 1.00e+00f  1 MaxS\n",
      " 180  2.1824353e+04 0.00e+00 5.77e-02 -11.0 2.99e+01 -19.1 1.00e+00 1.00e+00f  1 MaxS\n",
      " 185  2.1066053e+04 0.00e+00 5.77e-02 -11.0 5.01e+01 -19.6 1.00e+00 1.00e+00f  1 MaxS\n",
      " 190  2.0497160e+04 0.00e+00 5.77e-02 -11.0 4.01e+01 -19.1 1.00e+00 1.00e+00f  1 MaxS\n",
      " 195  1.9976291e+04 0.00e+00 5.77e-02 -11.0 4.50e+01 -19.6 1.00e+00 1.00e+00f  1 MaxS\n",
      "iter    objective    inf_pr   inf_du lg(mu)  ||d||  lg(rg) alpha_du alpha_pr  ls\n",
      " 200  1.9442982e+04 0.00e+00 5.77e-02 -11.0 4.31e+01 -19.1 1.00e+00 1.00e+00f  1 MaxS\n",
      " 205  1.8912877e+04 0.00e+00 5.77e-02 -11.0 4.31e+01 -19.6 1.00e+00 1.00e+00f  1 MaxS\n",
      " 210  1.8383040e+04 0.00e+00 5.77e-02 -11.0 4.32e+01 -19.1 1.00e+00 1.00e+00f  1 MaxS\n",
      " 215  1.7853019e+04 0.00e+00 5.77e-02 -11.0 4.32e+01 -19.6 1.00e+00 1.00e+00f  1 MaxS\n",
      " 220  1.7323015e+04 0.00e+00 5.77e-02 -11.0 4.32e+01 -19.1 1.00e+00 1.00e+00f  1 MaxS\n",
      " 225  1.6793016e+04 0.00e+00 5.77e-02 -11.0 4.32e+01 -19.6 1.00e+00 1.00e+00f  1 MaxS\n",
      " 230  1.6263016e+04 0.00e+00 5.77e-02 -11.0 4.32e+01 -19.1 1.00e+00 1.00e+00f  1 MaxS\n",
      " 235  1.5733016e+04 0.00e+00 5.77e-02 -11.0 4.32e+01 -19.6 1.00e+00 1.00e+00f  1 MaxS\n",
      " 240  1.5203016e+04 0.00e+00 5.77e-02 -11.0 4.32e+01 -19.1 1.00e+00 1.00e+00f  1 MaxS\n",
      " 245  1.4673016e+04 0.00e+00 5.77e-02 -11.0 4.32e+01 -19.6 1.00e+00 1.00e+00f  1 MaxS\n",
      "iter    objective    inf_pr   inf_du lg(mu)  ||d||  lg(rg) alpha_du alpha_pr  ls\n",
      " 250  1.4143016e+04 0.00e+00 5.77e-02 -11.0 4.32e+01 -19.1 1.00e+00 1.00e+00f  1 MaxS\n",
      " 255  1.3613016e+04 0.00e+00 5.77e-02 -11.0 4.32e+01 -19.6 1.00e+00 1.00e+00f  1 MaxS\n",
      " 260  1.3083016e+04 0.00e+00 5.77e-02 -11.0 4.32e+01 -19.1 1.00e+00 1.00e+00f  1 MaxS\n",
      " 265  1.2553016e+04 0.00e+00 5.77e-02 -11.0 4.32e+01 -19.6 1.00e+00 1.00e+00f  1 MaxS\n",
      " 270  1.2023016e+04 0.00e+00 5.77e-02 -11.0 4.32e+01 -19.1 1.00e+00 1.00e+00f  1 MaxS\n",
      " 275  1.1493016e+04 0.00e+00 5.77e-02 -11.0 4.32e+01 -19.6 1.00e+00 1.00e+00f  1 MaxS\n",
      " 280  1.0963016e+04 0.00e+00 5.77e-02 -11.0 4.32e+01 -19.1 1.00e+00 1.00e+00f  1 MaxS\n",
      " 285  1.0433016e+04 0.00e+00 5.77e-02 -11.0 4.32e+01 -19.6 1.00e+00 1.00e+00f  1 MaxS\n",
      " 290  9.9030163e+03 0.00e+00 5.77e-02 -11.0 4.32e+01 -19.1 1.00e+00 1.00e+00f  1 MaxS\n",
      " 295  9.3730163e+03 0.00e+00 5.77e-02 -11.0 4.32e+01 -19.6 1.00e+00 1.00e+00f  1 MaxS\n",
      "iter    objective    inf_pr   inf_du lg(mu)  ||d||  lg(rg) alpha_du alpha_pr  ls\n",
      " 300  8.8430163e+03 0.00e+00 5.77e-02 -11.0 4.32e+01 -19.1 1.00e+00 1.00e+00f  1 MaxS\n",
      " 305  8.3130163e+03 0.00e+00 5.77e-02 -11.0 4.32e+01 -19.6 1.00e+00 1.00e+00f  1 MaxS\n",
      " 310  7.7830163e+03 0.00e+00 5.77e-02 -11.0 4.32e+01 -19.1 1.00e+00 1.00e+00f  1 MaxS\n",
      " 315  7.2530163e+03 0.00e+00 5.77e-02 -11.0 4.32e+01 -19.6 1.00e+00 1.00e+00f  1 MaxS\n",
      " 320  6.7230163e+03 0.00e+00 5.77e-02 -11.0 4.32e+01 -19.1 1.00e+00 1.00e+00f  1 MaxS\n",
      " 325  6.1930163e+03 0.00e+00 5.77e-02 -11.0 4.32e+01 -19.6 1.00e+00 1.00e+00f  1 MaxS\n",
      " 330  5.6630163e+03 0.00e+00 5.77e-02 -11.0 4.32e+01 -19.1 1.00e+00 1.00e+00f  1 MaxS\n",
      " 335  5.1330163e+03 0.00e+00 5.77e-02 -11.0 4.32e+01 -19.6 1.00e+00 1.00e+00f  1 MaxS\n",
      " 340  4.6030163e+03 0.00e+00 5.77e-02 -11.0 4.32e+01 -19.1 1.00e+00 1.00e+00f  1 MaxS\n",
      " 345  4.0730163e+03 0.00e+00 5.77e-02 -11.0 4.32e+01 -19.6 1.00e+00 1.00e+00f  1 MaxS\n",
      "iter    objective    inf_pr   inf_du lg(mu)  ||d||  lg(rg) alpha_du alpha_pr  ls\n",
      " 350  3.5430163e+03 0.00e+00 5.77e-02 -11.0 4.32e+01 -19.1 1.00e+00 1.00e+00f  1 MaxS\n",
      " 355  3.0130175e+03 0.00e+00 5.77e-02 -11.0 4.32e+01 -19.6 1.00e+00 1.00e+00f  1 MaxS\n",
      " 360  2.4832182e+03 0.00e+00 5.74e-02 -11.0 4.30e+01 -19.1 1.00e+00 1.00e+00f  1 MaxS\n",
      " 365  1.9782219e+03 0.00e+00 4.69e-02 -11.0 2.35e+01 -19.6 1.00e+00 1.00e+00f  1 MaxS\n",
      " 370  1.6474933e+03 0.00e+00 1.09e-02 -11.0 5.01e-01 -19.1 1.00e+00 1.00e+00f  1 MaxS\n",
      " 375  1.6413868e+03 0.00e+00 1.83e-01 -11.0 4.97e-01 -19.6 1.00e+00 1.00e+00h  1 MaxS\n",
      " 380  1.7329185e+03 0.00e+00 3.80e-02 -11.0 1.61e+00 -19.1 1.00e+00 1.00e+00h  1 MaxS\n",
      " 385  1.6364517e+03 0.00e+00 4.49e-02 -11.0 1.49e-01 -19.6 1.00e+00 1.00e+00h  1 MaxS\n",
      " 390  1.6550542e+03 0.00e+00 3.05e-02 -11.0 2.42e+00 -19.1 1.00e+00 1.00e+00f  1 MaxS\n",
      " 395  1.6416415e+03 0.00e+00 1.04e-01 -11.0 9.95e-01 -19.6 1.00e+00 1.00e+00f  1 MaxS\n",
      "iter    objective    inf_pr   inf_du lg(mu)  ||d||  lg(rg) alpha_du alpha_pr  ls\n",
      " 400  1.6364096e+03 0.00e+00 2.14e-03 -11.0 3.98e-01 -19.1 1.00e+00 1.00e+00f  1 MaxS\n",
      " 405  1.6379460e+03 0.00e+00 7.79e-02 -11.0 3.00e-01 -19.6 1.00e+00 1.00e+00h  1 MaxS\n",
      " 410  1.6445912e+03 0.00e+00 2.27e-01 -11.0 6.97e-01 -19.1 1.00e+00 1.00e+00h  1 MaxS\n",
      " 415  1.6443827e+03 0.00e+00 1.08e-01 -11.0 6.46e-01 -19.6 1.00e+00 1.00e+00h  1 MaxS\n",
      " 420  1.6367578e+03 0.00e+00 6.64e-02 -11.0 2.90e-01 -19.1 1.00e+00 1.00e+00f  1 MaxS\n",
      " 425  1.6420796e+03 0.00e+00 1.06e-02 -11.0 1.59e+00 -19.6 1.00e+00 1.00e+00f  1 MaxS\n",
      " 430  1.6418609e+03 0.00e+00 1.47e-01 -11.0 9.97e-01 -19.1 1.00e+00 1.00e+00f  1 MaxS\n",
      " 435  1.6604311e+03 0.00e+00 9.54e-02 -11.0 1.18e+00 -19.6 1.00e+00 1.00e+00h  1 MaxS\n",
      " 440  1.6503288e+03 0.00e+00 4.55e-02 -11.0 2.18e+00 -19.1 1.00e+00 1.00e+00f  1 MaxS\n",
      " 445  1.6421800e+03 0.00e+00 9.80e-03 -11.0 1.63e+00 -19.6 1.00e+00 1.00e+00f  1 MaxS\n",
      "iter    objective    inf_pr   inf_du lg(mu)  ||d||  lg(rg) alpha_du alpha_pr  ls\n",
      " 450  1.6423529e+03 0.00e+00 1.68e-01 -11.0 9.80e-01 -19.1 1.00e+00 1.00e+00f  1 MaxS\n",
      " 455  1.7099014e+03 0.00e+00 4.30e-02 -11.0 1.55e+00 -19.6 1.00e+00 1.00e+00h  1 MaxS\n",
      " 460  1.6420238e+03 0.00e+00 1.94e-01 -11.0 5.23e-01 -19.1 1.00e+00 1.00e+00h  1 MaxS\n",
      " 465  1.7190735e+03 0.00e+00 3.77e-02 -11.0 1.51e+00 -19.6 1.00e+00 1.00e+00h  1 MaxS\n",
      " 470  1.6372279e+03 0.00e+00 8.54e-02 -11.0 2.30e-01 -19.1 1.00e+00 1.00e+00h  1 MaxS\n",
      " 475  1.6412311e+03 0.00e+00 1.70e-02 -11.0 1.56e+00 -19.6 1.00e+00 1.00e+00f  1 MaxS\n",
      " 480  1.6527095e+03 0.00e+00 3.49e-02 -11.0 2.07e+00 -19.1 1.00e+00 1.00e+00f  1 MaxS\n",
      " 485  1.6401217e+03 0.00e+00 8.03e-02 -11.0 1.12e+00 -19.6 1.00e+00 1.00e+00f  1 MaxS\n",
      " 490  1.6411082e+03 0.00e+00 1.76e-01 -11.0 5.30e-01 -19.1 1.00e+00 1.00e+00h  1 MaxS\n",
      " 495  1.7256608e+03 0.00e+00 3.65e-02 -11.0 1.61e+00 -19.6 1.00e+00 1.00e+00h  1 MaxS\n",
      "iter    objective    inf_pr   inf_du lg(mu)  ||d||  lg(rg) alpha_du alpha_pr  ls\n",
      " 500  1.6359415e+03 0.00e+00 3.92e-03 -11.0 2.50e-02 -19.1 1.00e+00 1.00e+00h  1 MaxS\n",
      " 505  1.6412872e+03 0.00e+00 1.82e-01 -11.0 4.92e-01 -19.6 1.00e+00 1.00e+00h  1 MaxS\n",
      " 510  1.7328355e+03 0.00e+00 3.80e-02 -11.0 1.61e+00 -19.1 1.00e+00 1.00e+00h  1 MaxS\n",
      " 515  1.6364700e+03 0.00e+00 4.56e-02 -11.0 1.52e-01 -19.6 1.00e+00 1.00e+00h  1 MaxS\n",
      " 520  1.6536404e+03 0.00e+00 3.41e-02 -11.0 2.33e+00 -19.1 1.00e+00 1.00e+00f  1 MaxS\n",
      " 525  1.6399402e+03 0.00e+00 7.49e-02 -11.0 1.15e+00 -19.6 1.00e+00 1.00e+00f  1 MaxS\n",
      " 530  1.6450923e+03 0.00e+00 2.33e-01 -11.0 7.20e-01 -19.1 1.00e+00 1.00e+00h  1 MaxS\n",
      " 535  1.6404767e+03 0.00e+00 1.02e-01 -11.0 4.74e-01 -19.6 1.00e+00 1.00e+00h  1 MaxS\n",
      " 540  1.6362591e+03 0.00e+00 1.72e-02 -11.0 3.49e-01 -19.1 1.00e+00 1.00e+00f  1 MaxS\n",
      " 545  1.7082684e+03 0.00e+00 4.35e-02 -11.0 1.47e+00 -19.6 1.00e+00 1.00e+00h  1 MaxS\n",
      "iter    objective    inf_pr   inf_du lg(mu)  ||d||  lg(rg) alpha_du alpha_pr  ls\n",
      " 550  1.6440091e+03 0.00e+00 2.23e-01 -11.0 6.26e-01 -19.1 1.00e+00 1.00e+00h  1 MaxS\n",
      " 555  1.6465894e+03 0.00e+00 1.07e-01 -11.0 7.20e-01 -19.6 1.00e+00 1.00e+00h  1 MaxS\n",
      " 560  1.6403125e+03 0.00e+00 1.62e-01 -11.0 4.87e-01 -19.1 1.00e+00 1.00e+00h  1 MaxS\n",
      " 565  1.6895329e+03 0.00e+00 5.72e-02 -11.0 1.45e+00 -19.6 1.00e+00 1.00e+00h  1 MaxS\n",
      " 570  1.6424770e+03 0.00e+00 1.02e-01 -11.0 1.14e+00 -19.1 1.00e+00 1.00e+00f  1 MaxS\n",
      " 575  1.6403423e+03 0.00e+00 2.86e-02 -11.0 1.58e+00 -19.6 1.00e+00 1.00e+00f  1 MaxS\n",
      " 580  1.6788313e+03 0.00e+00 1.75e-02 -11.0 3.43e+00 -19.1 1.00e+00 1.00e+00f  1 MaxS\n",
      " 585  1.6406214e+03 0.00e+00 9.84e-02 -11.0 4.66e-01 -19.6 1.00e+00 1.00e+00h  1 MaxS\n",
      " 590  1.6363886e+03 0.00e+00 4.41e-02 -11.0 2.99e-01 -19.1 1.00e+00 1.00e+00f  1 MaxS\n",
      " 595  1.6403776e+03 0.00e+00 8.66e-02 -11.0 1.06e+00 -19.6 1.00e+00 1.00e+00f  1 MaxS\n",
      "iter    objective    inf_pr   inf_du lg(mu)  ||d||  lg(rg) alpha_du alpha_pr  ls\n",
      " 600  1.6378877e+03 0.00e+00 1.06e-01 -11.0 3.33e-01 -19.1 1.00e+00 1.00e+00f  1 MaxS\n",
      " 605  1.6399171e+03 0.00e+00 3.86e-02 -11.0 1.44e+00 -19.6 1.00e+00 1.00e+00f  1 MaxS\n",
      " 610  1.6643767e+03 0.00e+00 1.44e-02 -11.0 2.92e+00 -19.1 1.00e+00 1.00e+00f  1 MaxS\n",
      " 615  1.7078697e+03 0.00e+00 4.40e-02 -11.0 1.49e+00 -19.6 1.00e+00 1.00e+00h  1 MaxS\n",
      " 620  1.6440987e+03 0.00e+00 2.24e-01 -11.0 6.31e-01 -19.1 1.00e+00 1.00e+00h  1 MaxS\n",
      " 625  1.6454389e+03 0.00e+00 1.08e-01 -11.0 6.83e-01 -19.6 1.00e+00 1.00e+00h  1 MaxS\n",
      " 630  1.6379256e+03 0.00e+00 1.08e-01 -11.0 3.35e-01 -19.1 1.00e+00 1.00e+00f  1 MaxS\n",
      " 635  1.6398377e+03 0.00e+00 4.16e-02 -11.0 1.42e+00 -19.6 1.00e+00 1.00e+00f  1 MaxS\n",
      " 640  1.6570704e+03 0.00e+00 2.61e-02 -11.0 2.55e+00 -19.1 1.00e+00 1.00e+00f  1 MaxS\n",
      " 645  1.6462121e+03 0.00e+00 1.22e-01 -11.0 8.78e-01 -19.6 1.00e+00 1.00e+00h  1 MaxS\n",
      "iter    objective    inf_pr   inf_du lg(mu)  ||d||  lg(rg) alpha_du alpha_pr  ls\n",
      " 650  1.6362301e+03 0.00e+00 2.33e-02 -11.0 3.62e-01 -19.1 1.00e+00 1.00e+00f  1 MaxS\n",
      " 655  1.6793730e+03 0.00e+00 6.68e-02 -11.0 1.34e+00 -19.6 1.00e+00 1.00e+00h  1 MaxS\n",
      " 660  1.6714278e+03 0.00e+00 1.57e-02 -11.0 3.13e+00 -19.1 1.00e+00 1.00e+00f  1 MaxS\n",
      " 665  1.6846448e+03 0.00e+00 5.76e-02 -11.0 1.23e+00 -19.6 1.00e+00 1.00e+00h  1 MaxS\n",
      " 670  1.6506969e+03 0.00e+00 4.17e-02 -11.0 1.99e+00 -19.1 1.00e+00 1.00e+00f  1 MaxS\n",
      " 675  1.6401536e+03 0.00e+00 3.21e-02 -11.0 1.42e+00 -19.6 1.00e+00 1.00e+00f  1 MaxS\n",
      " 680  1.6770440e+03 0.00e+00 1.70e-02 -11.0 3.41e+00 -19.1 1.00e+00 1.00e+00f  1 MaxS\n",
      " 685  1.6456187e+03 0.00e+00 1.03e-01 -11.0 6.64e-01 -19.6 1.00e+00 1.00e+00h  1 MaxS\n",
      " 690  1.6401302e+03 0.00e+00 1.58e-01 -11.0 4.77e-01 -19.1 1.00e+00 1.00e+00h  1 MaxS\n",
      " 695  1.6803166e+03 0.00e+00 6.61e-02 -11.0 1.38e+00 -19.6 1.00e+00 1.00e+00h  1 MaxS\n",
      "iter    objective    inf_pr   inf_du lg(mu)  ||d||  lg(rg) alpha_du alpha_pr  ls\n",
      " 700  1.6677479e+03 0.00e+00 1.48e-02 -11.0 2.96e+00 -19.1 1.00e+00 1.00e+00f  1 MaxS\n",
      " 705  1.7166224e+03 0.00e+00 3.86e-02 -11.0 1.47e+00 -19.6 1.00e+00 1.00e+00h  1 MaxS\n",
      " 710  1.6385872e+03 0.00e+00 1.25e-01 -11.0 3.32e-01 -19.1 1.00e+00 1.00e+00h  1 MaxS\n",
      " 715  1.6425460e+03 0.00e+00 1.11e-01 -11.0 1.03e+00 -19.6 1.00e+00 1.00e+00f  1 MaxS\n",
      " 720  1.6367417e+03 0.00e+00 9.14e-03 -11.0 4.48e-01 -19.1 1.00e+00 1.00e+00f  1 MaxS\n",
      " 725  1.6442650e+03 0.00e+00 2.12e-01 -11.0 9.22e-01 -19.6 1.00e+00 1.00e+00f  1 MaxS\n",
      " 730  1.6678572e+03 0.00e+00 7.56e-02 -11.0 1.11e+00 -19.1 1.00e+00 1.00e+00h  1 MaxS\n",
      " 735  1.6877991e+03 0.00e+00 1.90e-02 -11.0 3.97e+00 -19.6 1.00e+00 1.00e+00f  1 MaxS\n",
      " 740  1.6370027e+03 0.00e+00 7.73e-02 -11.0 2.10e-01 -19.1 1.00e+00 1.00e+00h  1 MaxS\n",
      " 745  1.6413372e+03 0.00e+00 1.61e-02 -11.0 1.55e+00 -19.6 1.00e+00 1.00e+00f  1 MaxS\n",
      "iter    objective    inf_pr   inf_du lg(mu)  ||d||  lg(rg) alpha_du alpha_pr  ls\n",
      " 750  1.6499194e+03 0.00e+00 4.39e-02 -11.0 1.89e+00 -19.1 1.00e+00 1.00e+00f  1 MaxS\n",
      " 755  1.6405997e+03 0.00e+00 2.44e-02 -11.0 1.48e+00 -19.6 1.00e+00 1.00e+00f  1 MaxS\n",
      " 760  1.6746304e+03 0.00e+00 1.67e-02 -11.0 3.21e+00 -19.1 1.00e+00 1.00e+00f  1 MaxS\n",
      " 765  1.6555043e+03 0.00e+00 9.03e-02 -11.0 8.94e-01 -19.6 1.00e+00 1.00e+00h  1 MaxS\n",
      " 770  1.6425761e+03 0.00e+00 1.09e-01 -11.0 1.25e+00 -19.1 1.00e+00 1.00e+00f  1 MaxS\n",
      " 775  1.6397050e+03 0.00e+00 5.71e-02 -11.0 1.39e+00 -19.6 1.00e+00 1.00e+00f  1 MaxS\n",
      " 780  1.6440102e+03 0.00e+00 1.95e-01 -11.0 1.11e+00 -19.1 1.00e+00 1.00e+00f  1 MaxS\n",
      " 785  1.7245266e+03 0.00e+00 3.63e-02 -11.0 1.54e+00 -19.6 1.00e+00 1.00e+00h  1 MaxS\n",
      " 790  1.6360215e+03 0.00e+00 2.05e-02 -11.0 5.92e-02 -19.1 1.00e+00 1.00e+00h  1 MaxS\n",
      " 795  1.7009550e+03 0.00e+00 4.81e-02 -11.0 1.44e+00 -19.6 1.00e+00 1.00e+00h  1 MaxS\n",
      "iter    objective    inf_pr   inf_du lg(mu)  ||d||  lg(rg) alpha_du alpha_pr  ls\n",
      " 800  1.6463181e+03 0.00e+00 2.45e-01 -11.0 8.68e-01 -19.1 1.00e+00 1.00e+00h  1 MaxS\n",
      " 805  1.6365877e+03 0.00e+00 5.11e-02 -11.0 1.74e-01 -19.6 1.00e+00 1.00e+00h  1 MaxS\n",
      " 810  1.6447900e+03 0.00e+00 7.64e-02 -11.0 1.61e+00 -19.1 1.00e+00 1.00e+00f  1 MaxS\n",
      " 815  1.6455906e+03 0.00e+00 9.49e-03 -11.0 1.94e+00 -19.6 1.00e+00 1.00e+00f  1 MaxS\n",
      " 820  1.6414868e+03 0.00e+00 1.01e-01 -11.0 5.07e-01 -19.1 1.00e+00 1.00e+00h  1 MaxS\n",
      " 825  1.6363802e+03 0.00e+00 4.35e-02 -11.0 3.03e-01 -19.6 1.00e+00 1.00e+00f  1 MaxS\n",
      " 830  1.6405594e+03 0.00e+00 9.00e-02 -11.0 1.04e+00 -19.1 1.00e+00 1.00e+00f  1 MaxS\n",
      " 835  1.6369223e+03 0.00e+00 7.36e-02 -11.0 2.92e-01 -19.6 1.00e+00 1.00e+00f  1 MaxS\n",
      " 840  1.6429288e+03 0.00e+00 8.07e-03 -11.0 1.66e+00 -19.1 1.00e+00 1.00e+00f  1 MaxS\n",
      " 845  1.6455822e+03 0.00e+00 2.39e-01 -11.0 8.05e-01 -19.6 1.00e+00 1.00e+00h  1 MaxS\n",
      "iter    objective    inf_pr   inf_du lg(mu)  ||d||  lg(rg) alpha_du alpha_pr  ls\n",
      " 850  1.6377233e+03 0.00e+00 7.74e-02 -11.0 2.93e-01 -19.1 1.00e+00 1.00e+00h  1 MaxS\n",
      " 855  1.6449221e+03 0.00e+00 2.31e-01 -11.0 7.12e-01 -19.6 1.00e+00 1.00e+00h  1 MaxS\n",
      " 860  1.6415514e+03 0.00e+00 1.06e-01 -11.0 5.28e-01 -19.1 1.00e+00 1.00e+00h  1 MaxS\n",
      " 865  1.6362631e+03 0.00e+00 1.51e-02 -11.0 3.58e-01 -19.6 1.00e+00 1.00e+00f  1 MaxS\n",
      " 870  1.7111566e+03 0.00e+00 4.16e-02 -11.0 1.46e+00 -19.1 1.00e+00 1.00e+00h  1 MaxS\n",
      " 875  1.6420965e+03 0.00e+00 1.95e-01 -11.0 5.26e-01 -19.6 1.00e+00 1.00e+00h  1 MaxS\n",
      " 880  1.7160673e+03 0.00e+00 3.90e-02 -11.0 1.49e+00 -19.1 1.00e+00 1.00e+00h  1 MaxS\n",
      " 885  1.6386583e+03 0.00e+00 1.27e-01 -11.0 3.37e-01 -19.6 1.00e+00 1.00e+00h  1 MaxS\n",
      " 890  1.6432264e+03 0.00e+00 1.15e-01 -11.0 1.00e+00 -19.1 1.00e+00 1.00e+00f  1 MaxS\n",
      " 895  1.6367999e+03 0.00e+00 1.07e-02 -11.0 4.59e-01 -19.6 1.00e+00 1.00e+00f  1 MaxS\n",
      "iter    objective    inf_pr   inf_du lg(mu)  ||d||  lg(rg) alpha_du alpha_pr  ls\n",
      " 900  1.6427653e+03 0.00e+00 1.80e-01 -11.0 9.69e-01 -19.1 1.00e+00 1.00e+00f  1 MaxS\n",
      " 905  1.7320089e+03 0.00e+00 3.78e-02 -11.0 1.62e+00 -19.6 1.00e+00 1.00e+00h  1 MaxS\n",
      " 910  1.6364297e+03 0.00e+00 4.40e-02 -11.0 1.46e-01 -19.1 1.00e+00 1.00e+00h  1 MaxS\n",
      " 915  1.6568388e+03 0.00e+00 2.65e-02 -11.0 2.52e+00 -19.6 1.00e+00 1.00e+00f  1 MaxS\n",
      " 920  1.6459299e+03 0.00e+00 1.21e-01 -11.0 8.81e-01 -19.1 1.00e+00 1.00e+00h  1 MaxS\n",
      " 925  1.6362354e+03 0.00e+00 1.66e-02 -11.0 3.77e-01 -19.6 1.00e+00 1.00e+00f  1 MaxS\n",
      " 930  1.7098956e+03 0.00e+00 4.25e-02 -11.0 1.47e+00 -19.1 1.00e+00 1.00e+00h  1 MaxS\n",
      " 935  1.6428950e+03 0.00e+00 2.07e-01 -11.0 5.67e-01 -19.6 1.00e+00 1.00e+00h  1 MaxS\n",
      " 940  1.6774641e+03 0.00e+00 6.51e-02 -11.0 1.21e+00 -19.1 1.00e+00 1.00e+00h  1 MaxS\n",
      " 945  1.6758067e+03 0.00e+00 1.68e-02 -11.0 3.33e+00 -19.6 1.00e+00 1.00e+00f  1 MaxS\n",
      "iter    objective    inf_pr   inf_du lg(mu)  ||d||  lg(rg) alpha_du alpha_pr  ls\n",
      " 950  1.6504931e+03 0.00e+00 9.78e-02 -11.0 7.94e-01 -19.1 1.00e+00 1.00e+00h  1 MaxS\n",
      " 955  1.6484803e+03 0.00e+00 2.60e-01 -11.0 1.02e+00 -19.6 1.00e+00 1.00e+00h  1 MaxS\n",
      " 960  1.6359401e+03 0.00e+00 1.56e-03 -11.0 1.37e-01 -19.1 1.00e+00 1.00e+00f  1 MaxS\n",
      " 965  1.6371056e+03 0.00e+00 6.36e-02 -11.0 2.27e-01 -19.6 1.00e+00 1.00e+00h  1 MaxS\n",
      " 970  1.6462924e+03 0.00e+00 2.31e-01 -11.0 1.08e+00 -19.1 1.00e+00 1.00e+00f  1 MaxS\n",
      " 975  1.6437767e+03 0.00e+00 1.08e-01 -11.0 6.23e-01 -19.6 1.00e+00 1.00e+00h  1 MaxS\n",
      " 980  1.6364415e+03 0.00e+00 4.85e-02 -11.0 3.03e-01 -19.1 1.00e+00 1.00e+00f  1 MaxS\n",
      " 985  1.6396774e+03 0.00e+00 6.19e-02 -11.0 1.18e+00 -19.6 1.00e+00 1.00e+00f  1 MaxS\n",
      " 990  1.6470340e+03 0.00e+00 2.41e-01 -11.0 1.06e+00 -19.1 1.00e+00 1.00e+00f  1 MaxS\n",
      " 995  1.6384983e+03 0.00e+00 8.76e-02 -11.0 3.53e-01 -19.6 1.00e+00 1.00e+00h  1 MaxS\n",
      "iter    objective    inf_pr   inf_du lg(mu)  ||d||  lg(rg) alpha_du alpha_pr  ls\n",
      "1000  1.6380690e+03 0.00e+00 1.12e-01 -11.0 3.47e-01 -19.1 1.00e+00 1.00e+00f  1 MaxS\n",
      "\n",
      "Number of Iterations....: 1000\n",
      "\n",
      "                                   (scaled)                 (unscaled)\n",
      "Objective...............:   4.4595284389881995e-01    1.6380690191599965e+03\n",
      "Dual infeasibility......:   1.1154072077871501e-01    4.0971013321723143e+02\n",
      "Constraint violation....:   0.0000000000000000e+00    0.0000000000000000e+00\n",
      "Complementarity.........:   0.0000000000000000e+00    0.0000000000000000e+00\n",
      "Overall NLP error.......:   1.1154072077871501e-01    4.0971013321723143e+02\n",
      "\n",
      "\n",
      "Number of objective function evaluations             = 1005\n",
      "Number of objective gradient evaluations             = 1001\n",
      "Number of equality constraint evaluations            = 0\n",
      "Number of inequality constraint evaluations          = 0\n",
      "Number of equality constraint Jacobian evaluations   = 0\n",
      "Number of inequality constraint Jacobian evaluations = 0\n",
      "Number of Lagrangian Hessian evaluations             = 1000\n",
      "Total CPU secs in IPOPT (w/o function evaluations)   =      2.673\n",
      "Total CPU secs in NLP function evaluations           =      0.218\n",
      "\n",
      "EXIT: Maximum Number of Iterations Exceeded.\n",
      "This is Ipopt version 3.12.10, running with linear solver mumps.\n",
      "NOTE: Other linear solvers might be more efficient (see Ipopt documentation).\n",
      "\n",
      "Number of nonzeros in equality constraint Jacobian...:        0\n",
      "Number of nonzeros in inequality constraint Jacobian.:        0\n",
      "Number of nonzeros in Lagrangian Hessian.............:       21\n",
      "\n",
      "Total number of variables............................:        6\n",
      "                     variables with only lower bounds:        0\n",
      "                variables with lower and upper bounds:        0\n",
      "                     variables with only upper bounds:        0\n",
      "Total number of equality constraints.................:        0\n",
      "Total number of inequality constraints...............:        0\n",
      "        inequality constraints with only lower bounds:        0\n",
      "   inequality constraints with lower and upper bounds:        0\n",
      "        inequality constraints with only upper bounds:        0\n",
      "\n",
      "iter    objective    inf_pr   inf_du lg(mu)  ||d||  lg(rg) alpha_du alpha_pr  ls\n",
      "   0  1.2182288e+04 0.00e+00 2.39e+02   0.0 0.00e+00    -  0.00e+00 0.00e+00   0 \n",
      "ERROR: Problem in step computation, but emergency mode cannot be activated.\n",
      "\n",
      "Number of Iterations....: 3\n",
      "\n",
      "                                   (scaled)                 (unscaled)\n",
      "Objective...............:   7.5916143435872380e+02    2.9645016552230823e+04\n",
      "Dual infeasibility......:   5.1011559510204219e+73    1.9919854428755652e+75\n",
      "Constraint violation....:   0.0000000000000000e+00    0.0000000000000000e+00\n",
      "Complementarity.........:   0.0000000000000000e+00    0.0000000000000000e+00\n",
      "Overall NLP error.......:   5.1011559510204219e+73    1.9919854428755652e+75\n",
      "\n",
      "\n",
      "Number of objective function evaluations             = 4\n",
      "Number of objective gradient evaluations             = 4\n",
      "Number of equality constraint evaluations            = 0\n",
      "Number of inequality constraint evaluations          = 0\n",
      "Number of equality constraint Jacobian evaluations   = 0\n",
      "Number of inequality constraint Jacobian evaluations = 0\n",
      "Number of Lagrangian Hessian evaluations             = 4\n",
      "Total CPU secs in IPOPT (w/o function evaluations)   =      0.026\n",
      "Total CPU secs in NLP function evaluations           =      0.134\n",
      "\n",
      "EXIT: Error in step computation (regularization becomes too large?)!\n"
     ]
    },
    {
     "name": "stderr",
     "output_type": "stream",
     "text": [
      "┌ Warning: Ipopt finished with status Error_In_Step_Computation\n",
      "└ @ Ipopt /Users/sarahji/.julia/packages/Ipopt/Iu7vT/src/MPB_wrapper.jl:178\n"
     ]
    },
    {
     "ename": "DomainError",
     "evalue": "DomainError with -1.6538302496971427e-27:\nsqrt will only return a complex result if called with a complex argument. Try sqrt(Complex(x)).",
     "output_type": "error",
     "traceback": [
      "DomainError with -1.6538302496971427e-27:\nsqrt will only return a complex result if called with a complex argument. Try sqrt(Complex(x)).",
      "",
      "Stacktrace:",
      " [1] throw_complex_domainerror(::Symbol, ::Float64) at ./math.jl:31",
      " [2] sqrt at ./math.jl:492 [inlined]",
      " [3] _broadcast_getindex_evalf at ./broadcast.jl:582 [inlined]",
      " [4] _broadcast_getindex at ./broadcast.jl:555 [inlined]",
      " [5] getindex at ./broadcast.jl:515 [inlined]",
      " [6] macro expansion at ./broadcast.jl:846 [inlined]",
      " [7] macro expansion at ./simdloop.jl:73 [inlined]",
      " [8] copyto! at ./broadcast.jl:845 [inlined]",
      " [9] copyto! at ./broadcast.jl:800 [inlined]",
      " [10] copy at ./broadcast.jl:776 [inlined]",
      " [11] materialize at ./broadcast.jl:756 [inlined]",
      " [12] #mle_fs!#29(::Int64, ::Symbol, ::Symbol, ::Bool, ::Function, ::VarianceComponentModel{Float64,2,Array{Float64,2},Array{Float64,2}}, ::TwoVarCompVariateRotate{Float64,Array{Float64,2},Array{Float64,2}}) at /Users/sarahji/.julia/dev/VarianceComponentModels/src/two_variance_component.jl:1035",
      " [13] mle_fs! at /Users/sarahji/.julia/dev/VarianceComponentModels/src/two_variance_component.jl:927 [inlined]",
      " [14] #fit_mle!#33 at /Users/sarahji/.julia/dev/VarianceComponentModels/src/two_variance_component.jl:1278 [inlined]",
      " [15] (::getfield(VarianceComponentModels, Symbol(\"#kw##fit_mle!\")))(::NamedTuple{(:algo,),Tuple{Symbol}}, ::typeof(fit_mle!), ::VarianceComponentModel{Float64,2,Array{Float64,2},Array{Float64,2}}, ::VarianceComponentVariate{Float64,2,Array{Float64,2},Array{Float64,2},Array{Float64,2}}) at ./none:0",
      " [16] Pwr2(::DataFrame, ::Array{VarianceComponent,1}, ::Array{String,1}, ::DataFrame, ::Float64, ::Int64) at ./In[17]:21",
      " [17] top-level scope at In[19]:1"
     ]
    }
   ],
   "source": [
    "Pwr2(X, variancecomp, formulas, trait_null, 0.05, 3)"
   ]
  },
  {
   "cell_type": "code",
   "execution_count": 20,
   "metadata": {},
   "outputs": [
    {
     "data": {
      "text/plain": [
       "PowerCalculation (generic function with 1 method)"
      ]
     },
     "execution_count": 20,
     "metadata": {},
     "output_type": "execute_result"
    }
   ],
   "source": [
    "function PowerCalculation(alternative_formulas, snpdata, vc, X_covar, alpha, B)\n",
    "# 1. Generate synthetic data, based on an assumed model\n",
    "dataframe = DataFrame(vcat(snpdata, X_covar))\n",
    "alternative_model = LMMTrait(alternative_formulas, dataframe, vc)\n",
    "\n",
    "null_model = LMMTrait(NullFormula(X_covar), dataframe, vc) # with beta_snp = 0 no genetic variants only intercept and covariates\n",
    "trait_null = simulate(null_model)\n",
    "\n",
    "Σ_tuple, V_tuple = vcobjtuple(vc)\n",
    "vcdata_null = VarianceComponentVariate(Matrix(trait_null), V_tuple) #without covariates\n",
    "vcmodel_null = VarianceComponentModel(vcdata_null) # initializes with B= 0 and Sigma = I \n",
    "vcmodel_mle_null = deepcopy(vcmodel_null)\n",
    "logl_null, _, _, _, _, _ = fit_mle!(vcmodel_mle_null, vcdata_null; algo = :MM);\n",
    "\n",
    "rejectH0 = zeros(B)\n",
    "for i in 1:B\n",
    "trait_i = Matrix(simulate(alternative_model))\n",
    "#get loglikelihood\n",
    "#2. Fit a model to the synthetic data\n",
    "vcdata_alt = VarianceComponentVariate(trait_i, Matrix(dataframe), V_tuple)\n",
    "vcmodel_alt = VarianceComponentModel(vcdata_alt)\n",
    "vcmodel_alt.Σ = Σ_tuple\n",
    "\n",
    "vcmodel_mle = deepcopy(vcmodel_alt)\n",
    "logl_alt, _, _, _, _, _ = fit_mle!(vcmodel_mle, vcdata_alt; algo = :MM)\n",
    "\n",
    "# 3. Do the significance test of interest and record the p-value\n",
    "#LRT with null_model \n",
    "if(2*(logl_alt - logl_null) > cquantile(Chisq(1), alpha))\n",
    "rejectH0[i] = 1\n",
    "else rejectH0[i] = 0\n",
    "\n",
    "# 4. repeat 1-3.\n",
    "end\n",
    "end\n",
    "#5. The statistical power is the proportion of p-values that are lower than a specified α-level\n",
    "power = sum(rejectH0[i])/ B - 1\n",
    "return(power)\n",
    "end"
   ]
  },
  {
   "cell_type": "code",
   "execution_count": 21,
   "metadata": {},
   "outputs": [
    {
     "data": {
      "text/plain": [
       "2-element Array{VarianceComponent,1}:\n",
       " VarianceComponent([4.0 1.0; 1.0 4.0], [0.488859 0.00422798 … 0.0187809 0.000152741; 0.00422798 0.515141 … -0.0220944 -0.0162381; … ; 0.0187809 -0.0220944 … 0.556933 0.0380902; 0.000152741 -0.0162381 … 0.0380902 0.502935], Cholesky{Float64,Array{Float64,2}}([2.0 0.5; 1.0 1.93649], 'U', 0), Cholesky{Float64,Array{Float64,2}}([0.699184 0.00604701 … 0.0268612 0.000218456; 0.00422798 0.717708 … -0.031011 -0.0226268; … ; 0.0187809 -0.0220944 … 0.47731 -0.47731; 0.000152741 -0.0162381 … 0.0380902 1.07766e-6], 'U', 0))\n",
       " VarianceComponent([2.0 0.0; 0.0 2.0], [1.0 0.0 … 0.0 0.0; 0.0 1.0 … 0.0 0.0; … ; 0.0 0.0 … 1.0 0.0; 0.0 0.0 … 0.0 1.0], Cholesky{Float64,Array{Float64,2}}([1.41421 0.0; 0.0 1.41421], 'U', 0), Cholesky{Float64,Array{Float64,2}}([1.0 0.0 … 0.0 0.0; 0.0 1.0 … 0.0 0.0; … ; 0.0 0.0 … 1.0 0.0; 0.0 0.0 … 0.0 1.0], 'U', 0))                                                                                                                                                                                                       "
      ]
     },
     "execution_count": 21,
     "metadata": {},
     "output_type": "execute_result"
    }
   ],
   "source": [
    "GRM = grm(snpdata, method= :GRM)\n",
    "A_1 = [4 1; 1 4]\n",
    "B_1 = GRM\n",
    "A_2 = [2.0 0.0; 0.0 2.0]\n",
    "B_2 = Matrix{Float64}(I, size(GRM))\n",
    "\n",
    "X = DataFrame(sex = sex, locus = locus)\n",
    "variancecomp = @vc A_1 ⊗ B_1 + A_2 ⊗ B_2"
   ]
  },
  {
   "cell_type": "code",
   "execution_count": 22,
   "metadata": {},
   "outputs": [
    {
     "data": {
      "text/plain": [
       "2-element Array{VarianceComponent,1}:\n",
       " VarianceComponent([4.0 1.0; 1.0 4.0], [0.488859 0.00422798 … 0.0187809 0.000152741; 0.00422798 0.515141 … -0.0220944 -0.0162381; … ; 0.0187809 -0.0220944 … 0.556933 0.0380902; 0.000152741 -0.0162381 … 0.0380902 0.502935], Cholesky{Float64,Array{Float64,2}}([2.0 0.5; 1.0 1.93649], 'U', 0), Cholesky{Float64,Array{Float64,2}}([0.699184 0.00604701 … 0.0268612 0.000218456; 0.00422798 0.717708 … -0.031011 -0.0226268; … ; 0.0187809 -0.0220944 … 0.47731 -0.47731; 0.000152741 -0.0162381 … 0.0380902 1.07766e-6], 'U', 0))\n",
       " VarianceComponent([2.0 0.0; 0.0 2.0], [1.0 0.0 … 0.0 0.0; 0.0 1.0 … 0.0 0.0; … ; 0.0 0.0 … 1.0 0.0; 0.0 0.0 … 0.0 1.0], Cholesky{Float64,Array{Float64,2}}([1.41421 0.0; 0.0 1.41421], 'U', 0), Cholesky{Float64,Array{Float64,2}}([1.0 0.0 … 0.0 0.0; 0.0 1.0 … 0.0 0.0; … ; 0.0 0.0 … 1.0 0.0; 0.0 0.0 … 0.0 1.0], 'U', 0))                                                                                                                                                                                                       "
      ]
     },
     "execution_count": 22,
     "metadata": {},
     "output_type": "execute_result"
    }
   ],
   "source": [
    "variancecomp = @vc A_1 ⊗ B_1 + A_2 ⊗ B_2"
   ]
  },
  {
   "cell_type": "code",
   "execution_count": 23,
   "metadata": {},
   "outputs": [
    {
     "data": {
      "text/html": [
       "<table class=\"data-frame\"><thead><tr><th></th><th>trait1</th><th>trait2</th></tr><tr><th></th><th>Float64</th><th>Float64</th></tr></thead><tbody><p>212 rows × 2 columns</p><tr><th>1</th><td>33.467</td><td>14.3257</td></tr><tr><th>2</th><td>36.0815</td><td>15.9908</td></tr><tr><th>3</th><td>34.8914</td><td>21.3968</td></tr><tr><th>4</th><td>34.1273</td><td>17.5614</td></tr><tr><th>5</th><td>28.0372</td><td>14.3142</td></tr><tr><th>6</th><td>43.4771</td><td>15.6114</td></tr><tr><th>7</th><td>42.7506</td><td>18.2147</td></tr><tr><th>8</th><td>47.4206</td><td>18.3669</td></tr><tr><th>9</th><td>45.0028</td><td>16.5954</td></tr><tr><th>10</th><td>45.0183</td><td>21.5748</td></tr><tr><th>11</th><td>39.772</td><td>12.9053</td></tr><tr><th>12</th><td>42.8781</td><td>15.3793</td></tr><tr><th>13</th><td>43.9088</td><td>13.67</td></tr><tr><th>14</th><td>38.7409</td><td>19.993</td></tr><tr><th>15</th><td>37.643</td><td>21.3297</td></tr><tr><th>16</th><td>46.7294</td><td>22.4036</td></tr><tr><th>17</th><td>33.6454</td><td>13.6166</td></tr><tr><th>18</th><td>40.776</td><td>18.2176</td></tr><tr><th>19</th><td>40.5001</td><td>17.8117</td></tr><tr><th>20</th><td>44.9921</td><td>23.0553</td></tr><tr><th>21</th><td>42.9177</td><td>19.3075</td></tr><tr><th>22</th><td>41.5184</td><td>18.109</td></tr><tr><th>23</th><td>39.9219</td><td>19.5839</td></tr><tr><th>24</th><td>42.6219</td><td>20.4702</td></tr><tr><th>25</th><td>29.1265</td><td>13.3587</td></tr><tr><th>26</th><td>36.8376</td><td>18.4442</td></tr><tr><th>27</th><td>35.0242</td><td>16.6882</td></tr><tr><th>28</th><td>36.2393</td><td>17.7665</td></tr><tr><th>29</th><td>37.8082</td><td>18.8219</td></tr><tr><th>30</th><td>39.7709</td><td>20.1166</td></tr><tr><th>&vellip;</th><td>&vellip;</td><td>&vellip;</td></tr></tbody></table>"
      ],
      "text/latex": [
       "\\begin{tabular}{r|cc}\n",
       "\t& trait1 & trait2\\\\\n",
       "\t\\hline\n",
       "\t& Float64 & Float64\\\\\n",
       "\t\\hline\n",
       "\t1 & 33.467 & 14.3257 \\\\\n",
       "\t2 & 36.0815 & 15.9908 \\\\\n",
       "\t3 & 34.8914 & 21.3968 \\\\\n",
       "\t4 & 34.1273 & 17.5614 \\\\\n",
       "\t5 & 28.0372 & 14.3142 \\\\\n",
       "\t6 & 43.4771 & 15.6114 \\\\\n",
       "\t7 & 42.7506 & 18.2147 \\\\\n",
       "\t8 & 47.4206 & 18.3669 \\\\\n",
       "\t9 & 45.0028 & 16.5954 \\\\\n",
       "\t10 & 45.0183 & 21.5748 \\\\\n",
       "\t11 & 39.772 & 12.9053 \\\\\n",
       "\t12 & 42.8781 & 15.3793 \\\\\n",
       "\t13 & 43.9088 & 13.67 \\\\\n",
       "\t14 & 38.7409 & 19.993 \\\\\n",
       "\t15 & 37.643 & 21.3297 \\\\\n",
       "\t16 & 46.7294 & 22.4036 \\\\\n",
       "\t17 & 33.6454 & 13.6166 \\\\\n",
       "\t18 & 40.776 & 18.2176 \\\\\n",
       "\t19 & 40.5001 & 17.8117 \\\\\n",
       "\t20 & 44.9921 & 23.0553 \\\\\n",
       "\t21 & 42.9177 & 19.3075 \\\\\n",
       "\t22 & 41.5184 & 18.109 \\\\\n",
       "\t23 & 39.9219 & 19.5839 \\\\\n",
       "\t24 & 42.6219 & 20.4702 \\\\\n",
       "\t25 & 29.1265 & 13.3587 \\\\\n",
       "\t26 & 36.8376 & 18.4442 \\\\\n",
       "\t27 & 35.0242 & 16.6882 \\\\\n",
       "\t28 & 36.2393 & 17.7665 \\\\\n",
       "\t29 & 37.8082 & 18.8219 \\\\\n",
       "\t30 & 39.7709 & 20.1166 \\\\\n",
       "\t$\\dots$ & $\\dots$ & $\\dots$ \\\\\n",
       "\\end{tabular}\n"
      ],
      "text/plain": [
       "212×2 DataFrame\n",
       "│ Row │ trait1  │ trait2  │\n",
       "│     │ \u001b[90mFloat64\u001b[39m │ \u001b[90mFloat64\u001b[39m │\n",
       "├─────┼─────────┼─────────┤\n",
       "│ 1   │ 33.467  │ 14.3257 │\n",
       "│ 2   │ 36.0815 │ 15.9908 │\n",
       "│ 3   │ 34.8914 │ 21.3968 │\n",
       "│ 4   │ 34.1273 │ 17.5614 │\n",
       "│ 5   │ 28.0372 │ 14.3142 │\n",
       "│ 6   │ 43.4771 │ 15.6114 │\n",
       "│ 7   │ 42.7506 │ 18.2147 │\n",
       "│ 8   │ 47.4206 │ 18.3669 │\n",
       "│ 9   │ 45.0028 │ 16.5954 │\n",
       "│ 10  │ 45.0183 │ 21.5748 │\n",
       "⋮\n",
       "│ 202 │ 36.0526 │ 16.0164 │\n",
       "│ 203 │ 33.1787 │ 17.8136 │\n",
       "│ 204 │ 40.5273 │ 21.2774 │\n",
       "│ 205 │ 41.4369 │ 17.1207 │\n",
       "│ 206 │ 39.8708 │ 13.0344 │\n",
       "│ 207 │ 46.1932 │ 20.7369 │\n",
       "│ 208 │ 38.9056 │ 17.9181 │\n",
       "│ 209 │ 44.3772 │ 21.4664 │\n",
       "│ 210 │ 37.8311 │ 20.4047 │\n",
       "│ 211 │ 39.4978 │ 18.2061 │\n",
       "│ 212 │ 45.5973 │ 19.421  │"
      ]
     },
     "execution_count": 23,
     "metadata": {},
     "output_type": "execute_result"
    }
   ],
   "source": [
    "trait_null = simulate(LMMTrait([\"40\", \"20\"], X, variancecomp))\n",
    "alternative_model = LMMTrait(formulas, X, variancecomp)\n",
    "trait_alternative = simulate(LMMTrait(formulas, X, variancecomp))"
   ]
  }
 ],
 "metadata": {
  "kernelspec": {
   "display_name": "Julia 1.0.3",
   "language": "julia",
   "name": "julia-1.0"
  },
  "language_info": {
   "file_extension": ".jl",
   "mimetype": "application/julia",
   "name": "julia",
   "version": "1.0.3"
  },
  "toc": {
   "base_numbering": 1,
   "nav_menu": {},
   "number_sections": true,
   "sideBar": true,
   "skip_h1_title": false,
   "title_cell": "Table of Contents",
   "title_sidebar": "Contents",
   "toc_cell": false,
   "toc_position": {},
   "toc_section_display": true,
   "toc_window_display": false
  }
 },
 "nbformat": 4,
 "nbformat_minor": 2
}
