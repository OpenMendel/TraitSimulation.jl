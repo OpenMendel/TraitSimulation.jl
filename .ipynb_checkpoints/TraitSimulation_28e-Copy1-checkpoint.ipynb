{
 "cells": [
  {
   "cell_type": "markdown",
   "metadata": {},
   "source": [
    "# Trait Simulation Demonstration\n",
    "\n",
    "In this notebook we demonstrate how to simulate phenotypic traits. We use the Mendel Option 28e data with known parameter estimates to validate whether the simulation is sensible. In all the examples, we follow Mendel Option 28e with the simulation parameters for Trait1 and Trait2 in Ped28e.out as shown below.\n",
    "\n",
    "## Mendel Option 28e Data: \n",
    "Mean effect:\n",
    "$$\n",
    "\\mathbf{\\mu} = \\begin{vmatrix}\n",
    "\\mu_1 \\\\\n",
    "\\mu_2 \\\\\n",
    "\\end{vmatrix}\n",
    "= \\begin{vmatrix}\n",
    "40 + 3(sex) - 1.5(locus)\\\\\n",
    "20 + 2(sex) - 1.5(locus)\\\\\n",
    "\\end{vmatrix}\n",
    "\\\\\n",
    "$$\n",
    "\n",
    "Covariance Matrix of Both Traits simulated Simultaneously through Linear Mixed Model (LMM):\n",
    "\n",
    "$$\n",
    "\\Sigma  = V_a \\otimes (2GRM) + V_e \\otimes I_n\n",
    "$$\n",
    "\n",
    "Where we have the additive and environmental variances:\n",
    "\n",
    "$$\n",
    "V_a = \n",
    "\\begin{vmatrix}\n",
    "4 & 1\\\\\n",
    "1 & 4\\\\\n",
    "\\end{vmatrix}\n",
    "$$\n",
    "\n",
    "$$\n",
    "V_e = \n",
    "\\begin{vmatrix}\n",
    "2 & 0\\\\\n",
    "0 & 2\\\\\n",
    "\\end{vmatrix}\n",
    "$$\n",
    "\n",
    "The kinship matrix is derived from the genetic relationship matrix (GRM) across the common SNPs with minor allele frequency at least 0.05. I_n is the n dimensional identity matrix."
   ]
  },
  {
   "cell_type": "markdown",
   "metadata": {},
   "source": [
    "# The notebook is organized as follows: <br>\n",
    "\n",
    "The user specifies arbitrary fixed effect sizes in examples 1 and 2. \n",
    "\n",
    "In the Generating Effect Sizes Section of Example 3 we show how the user can generate effect sizes that depend on the minor allele frequencies from a function such as an exponential or chisquare. To aid the user when they wish to include a large number of loci in the model, we created a function that automatically writes out the mean components. For reproducibility, we set a random seed for each simulation using `srand`.  If the user wishes to end up with different data, they will need to comment out these commands or use another value in srand.  At the end of each example, we write the results of each simulation to a file on the users own machine.\n",
    "\n",
    "## Example 1: Generalized Linear Fixed Effects Model (no residual familial correlation)\n",
    "\n",
    "### a) Single IID Normal Trait: User specified the SNPs to have fixed effects <br>\n",
    "We simulate an iid Normal Trait with parameters, location = $μ_{1a}$ and scale = 2.\n",
    "$$\n",
    "Y_{1a} ∼ N(μ_{1a}, 2), where μ_{1a} = 40 + 3(sex) - 1.5(locus)\n",
    "$$\n",
    "\n",
    "### b) Single IID Non-Normal Trait:<br>\n",
    "We simulate an iid Poisson Trait, location = 5.\n",
    "$$\n",
    "Y_{1b} ∼ Poisson(5)\n",
    "$$\n",
    "\n",
    "### c) Multiple Independent Traits: User specified distributions\n",
    "We simulate two independent Traits from example 1a 1b, simultaneously.\n",
    "$$\n",
    "Y_{1c_{1}} ∼ N(\\mu_{1c}, 2), where \\mu_{1c} = 40 + 3(sex) - 1.5(locus)\\\\\n",
    "Y_{1c_{2}} ∼ Poisson(\\mu_{2c}), where \\mu_{2c} = 2 - 1.5(locus)\n",
    "$$\n",
    "\n",
    "## Example 2: Linear Mixed Model (with additive genetic variance component).\n",
    "Note that the residual covariance among two relatives is the additive genetic variance times twice the kinship coefficient.  \n",
    "\n",
    "### (a) Single Trait:\n",
    "We simulate a Normal Trait controlling for family structure, location = $μ_{1a} and scale = 4* 2GRM + 2I$. \n",
    "$$\n",
    "Y_{2a} ∼ N(μ_{1}, 4* 2GRM + 2I)$$\n",
    "\n",
    "\n",
    "### (b) Multiple Correlated Traits: (Mendel Example 28e Simulation)\n",
    "We simulate two correlated Normal Traits controlling for family structure, location = $μ_{1a}$ and scale = $4* 2GRM + 2I$. \n",
    "$$\n",
    "Y_{2b} ∼ N(μ, \\Sigma) , where \\Sigma  = V_a \\otimes (2GRM) + V_e \\otimes I_n\n",
    "$$\n",
    "\n",
    "## Example 3: Rare Variant Linear Mixed Model with effect sizes as a function of the allele frequencies. \n",
    "\n",
    "The example also assumes an additive genetic variance component in the model which includes 20 rare SNPs, defined as snps with minor allele frequencies greater than 0.002 but less than 0.02.  In practice rare SNPs have smaller minor allele frequencies but we are limited in this tutorial by the number of individuals in the data set. We use generated effect sizes to evaluate $mu_{rare20}$ <br>\n",
    "\n",
    "### (a) Single Trait: \n",
    "$$\n",
    "Y_{3a} ∼ N(\\mu_{rare20}, 4* 2GRM + 2I)\n",
    "$$"
   ]
  },
  {
   "cell_type": "code",
   "execution_count": null,
   "metadata": {},
   "outputs": [
    {
     "name": "stderr",
     "output_type": "stream",
     "text": [
      "┌ Info: Recompiling stale cache file /Users/sarahji/.julia/compiled/v1.0/TraitSimulation/VikWX.ji for TraitSimulation [dec3038e-29bc-11e9-2207-9f3d5855a202]\n",
      "└ @ Base loading.jl:1190\n"
     ]
    }
   ],
   "source": [
    "using DataFrames, SnpArrays, StatsModels, Random, LinearAlgebra, DelimitedFiles, TraitSimulation\n",
    "snpdata = SnpArray(\"traitsim28e.bed\", 212)"
   ]
  },
  {
   "cell_type": "code",
   "execution_count": null,
   "metadata": {},
   "outputs": [],
   "source": [
    "famfile = readdlm(\"traitsim28e.fam\", ',')"
   ]
  },
  {
   "cell_type": "code",
   "execution_count": null,
   "metadata": {},
   "outputs": [],
   "source": [
    "traits_original = DataFrame(Trait1 = famfile[:, 7], Trait2 = famfile[:, 8])"
   ]
  },
  {
   "cell_type": "markdown",
   "metadata": {},
   "source": [
    "# Summary Statistics of the original Mendel 28e dataset:\n",
    "\n",
    "Note we want to see similar values from our simulated traits!"
   ]
  },
  {
   "cell_type": "code",
   "execution_count": null,
   "metadata": {},
   "outputs": [],
   "source": [
    "describe(traits_original)"
   ]
  },
  {
   "cell_type": "markdown",
   "metadata": {},
   "source": [
    "Transform sex variable from M/F to 1/-1 as does Mendel 28e data"
   ]
  },
  {
   "cell_type": "code",
   "execution_count": null,
   "metadata": {},
   "outputs": [],
   "source": [
    "sex = map(x -> strip(x) == \"F\" ? -1.0 : 1.0, famfile[:, 5])"
   ]
  },
  {
   "cell_type": "markdown",
   "metadata": {},
   "source": [
    "### Names of Variants:"
   ]
  },
  {
   "cell_type": "markdown",
   "metadata": {},
   "source": [
    "We want to find the index of the causal snp, rs10412915, in the snp_definition file and then subset that snp from the genetic marker data above. \n",
    "We subset the SNP names into a vector called `snpid`"
   ]
  },
  {
   "cell_type": "code",
   "execution_count": null,
   "metadata": {},
   "outputs": [],
   "source": [
    "snpdef28_1 = readdlm(\"traitsim28e.bim\", Any; header = false)\n",
    "snpid = map(x -> strip(string(x)), snpdef28_1[:, 1])"
   ]
  },
  {
   "cell_type": "markdown",
   "metadata": {},
   "source": [
    "# Example 1: User Specified Model\n",
    "\n",
    "In this example we suppose that the user knows which causal snp they want to have an effect on the Trait. To save computing time and memory, we can simply call it by their names in `snpid`, and subset only those specified SNP's for the analysis."
   ]
  },
  {
   "cell_type": "markdown",
   "metadata": {},
   "source": [
    "We see that the causal snp, rs10412915, is the 236074th variant in the snp dataset."
   ]
  },
  {
   "cell_type": "code",
   "execution_count": null,
   "metadata": {},
   "outputs": [],
   "source": [
    "ind_rs10412915 = findall(x -> x == \"rs10412915\", snpid)[1]"
   ]
  },
  {
   "cell_type": "markdown",
   "metadata": {},
   "source": [
    "Let's create a design matrix for the alternative model that includes sex and locus rs10412915."
   ]
  },
  {
   "cell_type": "code",
   "execution_count": null,
   "metadata": {},
   "outputs": [],
   "source": [
    "locus = convert(Vector{Float64}, @view(snpdata[:,ind_rs10412915]))\n",
    "X = DataFrame(sex = sex, locus = locus)"
   ]
  },
  {
   "cell_type": "markdown",
   "metadata": {},
   "source": [
    "### The Variance Covariance Matrix $\\mathbf{\\Sigma}$\n",
    "Recall : $E(\\mathbf{GRM}) = \\Phi$ and $\\mathbf{V} = 2\\mathbf{V_a} \\mathbf{\\Phi} + \\mathbf{V_e} \\mathbf{I}$\n",
    "<br>\n",
    "We will use the same values of $\\mathbf{GRM}$, $V_a$, and $V_e$ for the random effect example (2A), for the mixed effect example (2B) and for the rare variant example (3)."
   ]
  },
  {
   "cell_type": "markdown",
   "metadata": {},
   "source": [
    "We use the SnpArrays.jl package to compute the Genetic Relationship Matrix (GRM)."
   ]
  },
  {
   "cell_type": "code",
   "execution_count": null,
   "metadata": {},
   "outputs": [],
   "source": [
    "GRM = grm(snpdata, method= :GRM)\n",
    "V_A = [4 1; 1 4]\n",
    "V_E = [2.0 0.0; 0.0 2.0]\n",
    "I_n = Matrix{Float64}(I, size(GRM));"
   ]
  },
  {
   "cell_type": "markdown",
   "metadata": {},
   "source": [
    "The corresponding variance covariance matrix, $\\mathbf{Σ}$, is generated here: To create a trait different variance components change $\\Sigma  = V_a \\otimes (2GRM) + V_e \\otimes I$. We create the variance component object `variancecomp` below, to simulate our traits."
   ]
  },
  {
   "cell_type": "code",
   "execution_count": null,
   "metadata": {},
   "outputs": [],
   "source": [
    "variancecomp = @vc V_A ⊗ GRM + V_E ⊗ I_n;"
   ]
  },
  {
   "cell_type": "markdown",
   "metadata": {},
   "source": [
    "# A) Generalized Linear Model:\n",
    "\n",
    "\n",
    "# Y ∼ N( μ, 1.0)\n",
    "\n",
    "# μ = ? \n",
    "\n",
    "This example simulates a case where three snps have fixed effects on the trait. Any apparent genetic correlation between relatives for the trait is due to the effect of these snps, so once these effects of these snps are modelled there should be no residual correlation among relatives. Note that by default, individuals with missing genotype values will have missing phenotype values, unless the user specifies the argument `impute = true` in the convert function above.\n",
    "Be sure to change srand(1111) to something else (or comment out) if you want to generate a new data set. \n"
   ]
  },
  {
   "cell_type": "markdown",
   "metadata": {},
   "source": [
    "# b) 𝑌_1b ∼𝑃𝑜𝑖𝑠𝑠𝑜𝑛(5)\n"
   ]
  },
  {
   "cell_type": "code",
   "execution_count": null,
   "metadata": {},
   "outputs": [],
   "source": [
    "GLM_trait_model_Poisson5 = GLMTrait(5, X, PoissonResponse(), IdentityLink())\n",
    "Simulated_GLM_trait = simulate(GLM_trait_model_Poisson5)"
   ]
  },
  {
   "cell_type": "code",
   "execution_count": null,
   "metadata": {},
   "outputs": [],
   "source": [
    "describe(Simulated_GLM_trait[:,1])"
   ]
  },
  {
   "cell_type": "markdown",
   "metadata": {},
   "source": [
    "# Example 1c) Simulate Multiple GLM Traits from Different Distributions\n",
    "\n",
    "Here I simulate two independent traits simultaneously, one from a Normal distribution and the other from a Poisson Distribution.\n",
    "\n",
    " trait 1) \n",
    " trait 2)"
   ]
  },
  {
   "cell_type": "code",
   "execution_count": null,
   "metadata": {},
   "outputs": [],
   "source": [
    "#for multiple glm traits from different distributions\n",
    "dist_type_vector = [NormalResponse(4), PoissonResponse()]\n",
    "link_type_vector = [IdentityLink(), LogLink()]\n",
    "\n",
    "Ex1a_formulas = [\"40 + 3(sex) - 1.5(locus)\", \"2 + 2(sex) - 1.5(locus)\"]\n",
    "\n",
    "Multiple_GLM_traits_model_NOTIID = Multiple_GLMTraits(Ex1a_formulas, X, dist_type_vector, link_type_vector)\n",
    "Simulated_GLM_trait_NOTIID = simulate(Multiple_GLM_traits_model_NOTIID)"
   ]
  },
  {
   "cell_type": "markdown",
   "metadata": {},
   "source": [
    "# Simulating Traits under Null Model\n",
    "\n",
    "We simulate the two traits under the null model, with intercepts only. "
   ]
  },
  {
   "cell_type": "code",
   "execution_count": null,
   "metadata": {},
   "outputs": [],
   "source": [
    "null_model = LMMTrait([\"40\", \"20\"], X, variancecomp)\n",
    "trait_null = simulate(null_model)"
   ]
  },
  {
   "cell_type": "markdown",
   "metadata": {},
   "source": [
    "# These are the formulas for the alternative model simulation"
   ]
  },
  {
   "cell_type": "code",
   "execution_count": null,
   "metadata": {},
   "outputs": [],
   "source": [
    "alternative_formulas = [\"40 + 3(sex) - 1.5(locus)\", \"20 + 2(sex) - 1.5(locus)\"]"
   ]
  },
  {
   "cell_type": "markdown",
   "metadata": {},
   "source": [
    "# Trait Simulated from Alternative Model "
   ]
  },
  {
   "cell_type": "code",
   "execution_count": null,
   "metadata": {},
   "outputs": [],
   "source": [
    "alternative_model = LMMTrait(alternative_formulas, X, variancecomp)\n",
    "trait_alternative = simulate(alternative_model)"
   ]
  },
  {
   "cell_type": "code",
   "execution_count": null,
   "metadata": {},
   "outputs": [],
   "source": [
    "describe(trait_alternative)"
   ]
  },
  {
   "cell_type": "markdown",
   "metadata": {},
   "source": [
    "## 20 Rare SNPs for Simulation\n",
    "\n",
    "In this example we first subset only the rare SNP's with minor allele frequency greater than 0.001 but less than 0.02, then we simulate traits on 20 of the rare SNP's as fixed effects. Here are the 20 SNP's that will be used for trait simulation in this example. \n",
    "\n",
    "For this demo, the indexing `snpid[rare_index][1:2:40]` allows us to subset every other rare snp in the first 40 SNPs, to get our list of 20 rare SNPs. Change the range and number of SNPs to simulate with more or less SNPs and from different regions of the genome. "
   ]
  },
  {
   "cell_type": "code",
   "execution_count": null,
   "metadata": {},
   "outputs": [],
   "source": [
    "# filter out rare SNPS, get a subset of uncommon SNPs with 0.002 < MAF ≤ 0.02\n",
    "minor_allele_frequency = maf(snpdata)\n",
    "rare_index = (0.002 .< minor_allele_frequency .≤ 0.02)\n",
    "data_rare = snpdata[:, rare_index]"
   ]
  },
  {
   "cell_type": "code",
   "execution_count": null,
   "metadata": {},
   "outputs": [],
   "source": [
    "maf_20_rare_snps = minor_allele_frequency[rare_index][1:2:40]"
   ]
  },
  {
   "cell_type": "code",
   "execution_count": null,
   "metadata": {},
   "outputs": [],
   "source": [
    "#rare_snps = minor_allele_frequency(0.002 .< maf .≤ 0.02)\n",
    "rare_snps_for_simulation = snpid[rare_index][1:2:40]"
   ]
  },
  {
   "cell_type": "code",
   "execution_count": null,
   "metadata": {},
   "outputs": [],
   "source": [
    "geno_rare20_converted = convert(DataFrame, convert(Matrix{Float64}, data_rare[:, 1:2:40]))\n",
    "names!(geno_rare20_converted, Symbol.(rare_snps_for_simulation))"
   ]
  },
  {
   "cell_type": "markdown",
   "metadata": {},
   "source": [
    "## Generating Effect Sizes \n",
    "\n",
    "For demonstration purposes, we simulate effect sizes from the Chi-squared(df = 1) distribution, where we use the minor allele frequency (maf) as x and find f(x) where f is the pdf for the Chi-squared (df = 1) density, so that the rarest SNP's have the biggest effect sizes. The effect sizes are rounded to the second digit, throughout this example. Notice there is a random +1 or -1, so that there are effects that both increase and decrease the simulated trait value.\n",
    "\n",
    "In addition to the Chi-Squared distribution, we also demo how to simulate from the Exponential distribution, where we use the minor allele frequency (maf) as x and find f(x) where f is the pdf for the Exponential density. "
   ]
  },
  {
   "cell_type": "markdown",
   "metadata": {},
   "source": [
    "## Chisquared(df = 1)"
   ]
  },
  {
   "cell_type": "code",
   "execution_count": null,
   "metadata": {},
   "outputs": [],
   "source": [
    "# Generating Effect Sizes from Chisquared(df = 1) density\n",
    "using StatsFuns\n",
    "n = length(maf_20_rare_snps)\n",
    "chisq_coeff = zeros(n)\n",
    "\n",
    "for i in 1:n\n",
    "    chisq_coeff[i] = sign(rand()- .5) * chisqpdf(1, maf_20_rare_snps[i])/5.0\n",
    "end"
   ]
  },
  {
   "cell_type": "markdown",
   "metadata": {},
   "source": [
    "Take a look at the simulated coefficients on the left, next to the corresponding minor allele frequency. Notice how the more rare SNP's have the largest effect sizes."
   ]
  },
  {
   "cell_type": "code",
   "execution_count": null,
   "metadata": {},
   "outputs": [],
   "source": [
    "Ex3_rare = round.([chisq_coeff maf_20_rare_snps], digits = 3)\n",
    "Ex3_rare = DataFrame(Chisq_Coefficient = Ex3_rare[:, 1] , MAF_rare = Ex3_rare[:, 2] )"
   ]
  },
  {
   "cell_type": "code",
   "execution_count": null,
   "metadata": {},
   "outputs": [],
   "source": [
    "simulated_effectsizes_chisq = Ex3_rare[:, 1]"
   ]
  },
  {
   "cell_type": "code",
   "execution_count": null,
   "metadata": {},
   "outputs": [],
   "source": [
    "simulated_effectsizes_exp = round.(6*exp.(-200*maf_20_rare_snps), digits = 3)"
   ]
  },
  {
   "cell_type": "markdown",
   "metadata": {},
   "source": [
    "## Function for Mean Model Expression\n",
    "\n",
    "In some cases a large number of variants may be used for simulation. Thus, in this example we create a function where the user inputs a vector of coefficients and a vector of variants for simulation, then the function outputs the mean model expression. \n",
    "\n",
    "The function `FixedEffectTerms`, creates the proper evaluated expression for the simulation process, using the specified vectors of coefficients and snp names. The function outputs `evaluated_fixed_expression` which will be used to estimate the mean effect, `μ` in our mixed effects model. We make use of this function in this example, instead of having to write out all 20 of the coefficients and variant locus names."
   ]
  },
  {
   "cell_type": "code",
   "execution_count": null,
   "metadata": {},
   "outputs": [],
   "source": [
    "rare_snps_for_simulation"
   ]
  },
  {
   "cell_type": "code",
   "execution_count": null,
   "metadata": {},
   "outputs": [],
   "source": [
    "function FixedEffectTerms(effectsizes::AbstractVecOrMat, snps::AbstractVecOrMat)\n",
    " # implementation\n",
    "    fixed_terms = \"\"\n",
    "for i in 1:length(simulated_effectsizes_chisq) - 1\n",
    "expression = \" + \" * string(simulated_effectsizes_chisq[i]) * \"(\" * rare_snps_for_simulation[i] * \")\"\n",
    "    fixed_terms = fixed_terms * expression\n",
    "end\n",
    "    return String(fixed_terms)\n",
    "end\n"
   ]
  },
  {
   "cell_type": "code",
   "execution_count": null,
   "metadata": {},
   "outputs": [],
   "source": [
    "formula_20_rare_snps = FixedEffectTerms(simulated_effectsizes_chisq, rare_snps_for_simulation)"
   ]
  },
  {
   "cell_type": "code",
   "execution_count": null,
   "metadata": {},
   "outputs": [],
   "source": [
    "fixed_effect_20_rare_snps = round.(mean_formula(formula_20_rare_snps, geno_rare20_converted), digits = 3)"
   ]
  },
  {
   "cell_type": "code",
   "execution_count": null,
   "metadata": {},
   "outputs": [],
   "source": [
    "geno_rare20_converted"
   ]
  },
  {
   "cell_type": "markdown",
   "metadata": {},
   "source": [
    "(a) Mixed effects model Single Trait:\n",
    "$$\n",
    "Y_{3a} ∼ N(μ_{20raresnps}, 4* 2GRM + 2I)$$\n"
   ]
  },
  {
   "cell_type": "code",
   "execution_count": null,
   "metadata": {},
   "outputs": [],
   "source": [
    "A = 4*(2*GRM) + 2*(I_n)"
   ]
  },
  {
   "cell_type": "code",
   "execution_count": null,
   "metadata": {},
   "outputs": [],
   "source": [
    "rare_20_snp_model = LMMTrait([formula_20_rare_snps], geno_rare20_converted, A)\n",
    "trait_rare_20_snps = simulate(rare_20_snp_model)"
   ]
  },
  {
   "cell_type": "code",
   "execution_count": null,
   "metadata": {},
   "outputs": [],
   "source": [
    "describe(trait_rare_20_snps)"
   ]
  },
  {
   "cell_type": "markdown",
   "metadata": {},
   "source": [
    "## Saving Simulation Results to Local Machine"
   ]
  },
  {
   "cell_type": "markdown",
   "metadata": {},
   "source": [
    "Write the newly simulated trait into a comma separated (csv) file for later use. Note that the user can specify the separator to '\\t' for tab separated, or another separator of choice. "
   ]
  },
  {
   "cell_type": "markdown",
   "metadata": {},
   "source": [
    "Here we output the simulated trait values for each of the 849 individuals, labeled by their pedigree ID and person ID.\n",
    "\n",
    "In addition, we output the genotypes for the variants used to simulate this trait. Note that we can impute missing genotypes by turning the argument:<br> `impute = true\"`."
   ]
  },
  {
   "cell_type": "code",
   "execution_count": null,
   "metadata": {},
   "outputs": [],
   "source": []
  }
 ],
 "metadata": {
  "kernelspec": {
   "display_name": "Julia 1.0.3",
   "language": "julia",
   "name": "julia-1.0"
  },
  "language_info": {
   "file_extension": ".jl",
   "mimetype": "application/julia",
   "name": "julia",
   "version": "1.0.3"
  },
  "toc": {
   "base_numbering": 1,
   "nav_menu": {},
   "number_sections": true,
   "sideBar": true,
   "skip_h1_title": false,
   "title_cell": "Table of Contents",
   "title_sidebar": "Contents",
   "toc_cell": false,
   "toc_position": {},
   "toc_section_display": true,
   "toc_window_display": false
  }
 },
 "nbformat": 4,
 "nbformat_minor": 2
}
